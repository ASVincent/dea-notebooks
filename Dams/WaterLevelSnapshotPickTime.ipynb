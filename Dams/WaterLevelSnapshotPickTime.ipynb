{
 "cells": [
  {
   "cell_type": "code",
   "execution_count": 1,
   "metadata": {},
   "outputs": [],
   "source": [
    "import subprocess\n",
    "import glob\n",
    "import geopandas as gp\n",
    "import re\n",
    "import pandas as pd"
   ]
  },
  {
   "cell_type": "code",
   "execution_count": 2,
   "metadata": {},
   "outputs": [],
   "source": [
    "Timeseries_dir = '/g/data/r78/cek156/dea-notebooks/Dams/Dams2000to2018/Timeseries/'\n",
    "Shapefile_to_append = '/g/data/r78/cek156/dea-notebooks/Dams/Dams2000to2018/AllNSW2000to201810LatestSnapshot.shp'"
   ]
  },
  {
   "cell_type": "code",
   "execution_count": 3,
   "metadata": {},
   "outputs": [],
   "source": [
    "DateToExtract = '2017-10-01'\n",
    "DateToExtract = pd.to_datetime(DateToExtract, format='%Y-%m-%d')"
   ]
  },
  {
   "cell_type": "code",
   "execution_count": 4,
   "metadata": {},
   "outputs": [],
   "source": [
    "## Get a list of all of the files in the folder to loop through\n",
    "TimeSeriesFiles = glob.glob(f'{Timeseries_dir}*.txt')\n",
    "SnapshotShp = gp.read_file(Shapefile_to_append)"
   ]
  },
  {
   "cell_type": "code",
   "execution_count": 5,
   "metadata": {
    "scrolled": true
   },
   "outputs": [
    {
     "name": "stdout",
     "output_type": "stream",
     "text": [
      "Bad 19940\n",
      "Bad 21530\n",
      "Bad 19723\n",
      "Bad 19958\n",
      "Bad 19517\n",
      "Bad 18734\n",
      "Bad 17340\n",
      "Bad 19890\n",
      "Bad 19194\n",
      "Bad 19044\n",
      "Bad 17686\n",
      "Bad 20355\n",
      "Bad 18750\n",
      "Bad 21545\n",
      "Bad 17347\n",
      "Bad 19986\n",
      "Bad 20499\n",
      "Bad 16664\n",
      "Bad 17547\n",
      "Bad 17868\n",
      "Bad 18774\n",
      "Bad 18871\n",
      "Bad 19498\n",
      "Bad 19326\n",
      "Bad 18508\n",
      "Bad 18335\n",
      "Bad 20121\n",
      "Bad 16567\n",
      "Bad 19972\n",
      "Bad 19263\n",
      "Bad 16779\n",
      "Bad 21046\n",
      "Bad 17842\n",
      "Bad 18784\n",
      "Bad 18843\n",
      "Bad 20892\n",
      "Bad 20512\n",
      "Bad 17352\n",
      "Bad 20138\n",
      "Bad 18044\n",
      "Bad 19204\n",
      "Bad 18647\n",
      "Bad 17876\n",
      "Bad 19981\n",
      "Bad 17781\n",
      "Bad 19745\n",
      "Bad 20264\n",
      "Bad 21474\n",
      "Bad 17576\n",
      "Bad 20541\n",
      "Bad 21337\n",
      "Bad 17471\n",
      "Bad 17559\n",
      "Bad 20175\n",
      "Bad 19165\n",
      "Bad 17441\n",
      "Bad 18602\n",
      "Bad 17096\n",
      "Bad 18497\n",
      "Bad 20222\n",
      "Bad 16439\n",
      "Bad 21517\n",
      "Bad 20275\n",
      "Bad 19802\n",
      "Bad 18265\n",
      "Bad 19656\n",
      "Bad 19909\n",
      "Bad 20397\n",
      "Bad 21091\n",
      "Bad 16634\n",
      "Bad 20409\n",
      "Bad 18851\n",
      "Bad 19886\n",
      "Bad 21389\n",
      "Bad 19871\n",
      "Bad 21058\n",
      "Bad 20324\n",
      "Bad 18885\n",
      "Bad 18207\n",
      "Bad 17118\n",
      "Bad 20707\n",
      "Bad 18738\n",
      "Bad 21074\n",
      "Bad 19926\n",
      "Bad 21037\n",
      "Bad 17654\n",
      "Bad 21440\n",
      "Bad 17640\n",
      "Bad 18388\n",
      "Bad 18690\n",
      "Bad 17603\n",
      "Bad 17468\n",
      "Bad 18256\n",
      "Bad 18007\n",
      "Bad 17668\n",
      "Bad 19027\n",
      "Bad 18542\n",
      "Bad 17536\n",
      "Bad 17106\n",
      "Bad 17595\n",
      "Bad 17420\n",
      "Bad 20576\n",
      "Bad 18826\n",
      "Bad 19310\n",
      "Bad 20036\n",
      "Bad 17922\n",
      "Bad 20547\n"
     ]
    }
   ],
   "source": [
    "for file in TimeSeriesFiles:\n",
    "    # Get the ID\n",
    "    NameComponents = re.split('\\.|/', file) # Splitting on '.' and '/'\n",
    "    PolyID = NameComponents[-2]\n",
    "    PolyID = int(PolyID)\n",
    "    try:\n",
    "        AllObs = pd.read_csv(file, parse_dates=['Observation Date'], index_col='Observation Date')\n",
    "        x = AllObs.iloc[AllObs.index.get_loc(DateToExtract, method = 'nearest')]\n",
    "        ObsDate = str(x.name)\n",
    "        Pct = float(x['Wet pixel percentage'])\n",
    "        FindPolyIndex = SnapshotShp.where(SnapshotShp['ID'] == PolyID).dropna(how='all').index.values[0]\n",
    "        SnapshotShp.loc[(FindPolyIndex,'1Oct2017')] = ObsDate\n",
    "        SnapshotShp.loc[(FindPolyIndex,'PctArea17')] = Pct\n",
    "    except:\n",
    "        print(f'Bad {PolyID}')\n",
    "        continue"
   ]
  },
  {
   "cell_type": "code",
   "execution_count": null,
   "metadata": {},
   "outputs": [],
   "source": [
    "DateToExtract = '2016-10-01'\n",
    "DateToExtract = pd.to_datetime(DateToExtract, format='%Y-%m-%d')\n",
    "\n",
    "## Get a list of all of the files in the folder to loop through\n",
    "TimeSeriesFiles = glob.glob(f'{Timeseries_dir}*.txt')\n",
    "SnapshotShp = gp.read_file(Shapefile_to_append)\n",
    "\n",
    "for file in TimeSeriesFiles:\n",
    "    # Get the ID\n",
    "    NameComponents = re.split('\\.|/', file) # Splitting on '.' and '/'\n",
    "    PolyID = NameComponents[-2]\n",
    "    PolyID = int(PolyID)\n",
    "    try:\n",
    "        AllObs = pd.read_csv(file, parse_dates=['Observation Date'], index_col='Observation Date')\n",
    "        x = AllObs.iloc[AllObs.index.get_loc(DateToExtract, method = 'nearest')]\n",
    "        ObsDate = str(x.name)\n",
    "        Pct = float(x['Wet pixel percentage'])\n",
    "        FindPolyIndex = SnapshotShp.where(SnapshotShp['ID'] == PolyID).dropna(how='all').index.values[0]\n",
    "        SnapshotShp.loc[(FindPolyIndex,'1Oct2016')] = ObsDate\n",
    "        SnapshotShp.loc[(FindPolyIndex,'PctArea16')] = Pct\n",
    "    except:\n",
    "        print(f'Bad {PolyID}')\n",
    "        continue"
   ]
  },
  {
   "cell_type": "code",
   "execution_count": 6,
   "metadata": {},
   "outputs": [],
   "source": [
    "SnapshotShp.to_file(Shapefile_to_append)"
   ]
  },
  {
   "cell_type": "code",
   "execution_count": null,
   "metadata": {},
   "outputs": [],
   "source": []
  }
 ],
 "metadata": {
  "kernelspec": {
   "display_name": "Python 3",
   "language": "python",
   "name": "python3"
  },
  "language_info": {
   "codemirror_mode": {
    "name": "ipython",
    "version": 3
   },
   "file_extension": ".py",
   "mimetype": "text/x-python",
   "name": "python",
   "nbconvert_exporter": "python",
   "pygments_lexer": "ipython3",
   "version": "3.6.6"
  }
 },
 "nbformat": 4,
 "nbformat_minor": 2
}
