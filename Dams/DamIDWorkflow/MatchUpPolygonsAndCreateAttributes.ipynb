{
 "cells": [
  {
   "cell_type": "markdown",
   "metadata": {},
   "source": [
    "# Match up polygons and create attributes"
   ]
  },
  {
   "cell_type": "code",
   "execution_count": 1,
   "metadata": {},
   "outputs": [
    {
     "name": "stdout",
     "output_type": "stream",
     "text": [
      "Populating the interactive namespace from numpy and matplotlib\n"
     ]
    }
   ],
   "source": [
    "%pylab notebook\n",
    "\n",
    "from datacube import Datacube\n",
    "from datacube.utils import geometry\n",
    "from datacube.storage import masking\n",
    "import fiona\n",
    "import rasterio.features\n",
    "import numpy as np\n",
    "import geopandas as gp\n",
    "import pandas as pd"
   ]
  },
  {
   "cell_type": "markdown",
   "metadata": {},
   "source": [
    "## Set up the file paths"
   ]
  },
  {
   "cell_type": "code",
   "execution_count": 2,
   "metadata": {},
   "outputs": [],
   "source": [
    "# All years processed so far\n",
    "CumulativeDamShapeFile = '/g/data/r78/cek156/dea-notebooks/Dams/UpTo2013Test.shp'\n",
    "\n",
    "# New year to add to the cumulative shapefile\n",
    "NewYearToAdd = '/g/data/r78/cek156/dea-notebooks/Dams/Test2014.shp'\n",
    "\n",
    "# Output shapefile\n",
    "CumulativeDamShapeFileOutput = '/g/data/r78/cek156/dea-notebooks/Dams/TestMergeYears.shp'\n",
    "NaughtyShapefile = '/g/data/r78/cek156/dea-notebooks/Dams/TestNaughty.shp'"
   ]
  },
  {
   "cell_type": "markdown",
   "metadata": {},
   "source": [
    "## Read in the shapefiles"
   ]
  },
  {
   "cell_type": "code",
   "execution_count": 3,
   "metadata": {},
   "outputs": [],
   "source": [
    "CumulativeDams = gp.read_file(CumulativeDamShapeFile)\n",
    "NewDams = gp.read_file(NewYearToAdd)"
   ]
  },
  {
   "cell_type": "markdown",
   "metadata": {},
   "source": [
    "## Find where the new polygons are contained within the master polygons\n",
    "\n",
    "I.e. where the new polygons sit completely inside the master ones. This means the new polygons are only seeing a part of the water. "
   ]
  },
  {
   "cell_type": "code",
   "execution_count": 4,
   "metadata": {},
   "outputs": [],
   "source": [
    "# Perform a spatial join for polygons that are contained within the master polygon set\n",
    "Contains = gp.sjoin(CumulativeDams, NewDams, how='inner', op='contains')\n",
    "\n",
    "# Get the index of the new polygons that are contained within the master polygon dataset\n",
    "ContainsIndex = sorted(Contains['index_right'])"
   ]
  },
  {
   "cell_type": "markdown",
   "metadata": {},
   "source": [
    "### Remove the polygons that are contained within the master polygon set"
   ]
  },
  {
   "cell_type": "code",
   "execution_count": 5,
   "metadata": {},
   "outputs": [],
   "source": [
    "NewDamsNotContained = NewDams.loc[~NewDams.index.isin(ContainsIndex)]"
   ]
  },
  {
   "cell_type": "markdown",
   "metadata": {},
   "source": [
    "## Find where our new polygons intersect with the master polygons"
   ]
  },
  {
   "cell_type": "code",
   "execution_count": 6,
   "metadata": {},
   "outputs": [],
   "source": [
    "# Perform a spatial join for polygons that intersect\n",
    "IntersectingPolys = gp.sjoin(NewDamsNotContained, CumulativeDams, how='inner', op='intersects')"
   ]
  },
  {
   "cell_type": "markdown",
   "metadata": {},
   "source": [
    "## Group polygons based on the new polygons' index\n",
    "\n",
    "This will allow for multiple old polygons to match up with a single new polygon"
   ]
  },
  {
   "cell_type": "code",
   "execution_count": 26,
   "metadata": {},
   "outputs": [],
   "source": [
    "GroupedPolygonsNew = IntersectingPolys.groupby(IntersectingPolys.index)"
   ]
  },
  {
   "cell_type": "markdown",
   "metadata": {},
   "source": [
    "## Group polygons based on the master polygons' index\n",
    "\n",
    "This will allow for multiple new polygons to match up with a single master polygon"
   ]
  },
  {
   "cell_type": "code",
   "execution_count": 24,
   "metadata": {},
   "outputs": [],
   "source": [
    "GroupedPolygonsMaster = IntersectingPolys.groupby(IntersectingPolys['index_right'])"
   ]
  },
  {
   "cell_type": "markdown",
   "metadata": {},
   "source": [
    "# Now deal with all our overlapping polygons"
   ]
  },
  {
   "cell_type": "markdown",
   "metadata": {},
   "source": [
    "### Sort the polygons based on where:\n",
    "\n",
    "- New and master polygon areas are < 20 pixels or <= 20% of area different\n",
    "    - Append the index of the new larger polygon\n",
    "    - We will keep the larger polygon and replace it in the master polygon set\n",
    "- New polygon is much larger than the original\n",
    "    - Append the indexes of both polygons\n",
    "    - We will move both polygons (new one and master) into the 'naughty corner'"
   ]
  },
  {
   "cell_type": "code",
   "execution_count": 8,
   "metadata": {
    "scrolled": true
   },
   "outputs": [],
   "source": [
    "PolygonsToKeep = []\n",
    "MasterPolygonsToMerge = []\n",
    "NaughtyCornerMaster = []\n",
    "NaughtyCornerNew = []\n",
    "MergedPolygons = gp.GeoDataFrame()\n",
    "\n",
    "for groups in GroupedPolygonsNew:\n",
    "    LargerArea = groups[1]['area_left'].values\n",
    "    SmallerArea = groups[1]['area_right'].values\n",
    "    for ix, item in enumerate(SmallerArea):\n",
    "        # Check if the two polygons are within 20 pixels or 20% of area in size \n",
    "        if (LargerArea[0] - int(item) < 12500) or (abs((LargerArea[0] - int(item))/int(item) * 100) <= 20):\n",
    "            # Append new larger area index\n",
    "            PolygonsToKeep.append(groups[1].index.values[ix])\n",
    "            # Append the master polygon index so we know to replace it\n",
    "            MasterPolygonsToMerge.append(groups[1]['index_right'].values[ix])\n",
    "            # Now create a unary union of the two polygons and write it to a new dataframe\n",
    "            MasterToUnion = CumulativeDams.loc[groups[1]['index_right']]\n",
    "            NewToUnion = NewDamsNotContained.loc[groups[1].index]\n",
    "            MergedGeometry = pd.concat([MasterToUnion, NewToUnion]).unary_union\n",
    "            MergedGDF = gp.GeoDataFrame(geometry = [MergedGeometry])\n",
    "            MergedGDF['area'] = MergedGeometry.area\n",
    "            MergedPolygons = pd.concat([MergedPolygons, MergedGDF], ignore_index=True)\n",
    "        # The polygons are too different, so we will deal with them later\n",
    "        else:\n",
    "            # Append larger area index\n",
    "            NaughtyCornerNew.append(groups[1].index.values[ix])\n",
    "            # Append the master index\n",
    "            NaughtyCornerMaster.append(groups[1]['index_right'].values[ix])"
   ]
  },
  {
   "cell_type": "markdown",
   "metadata": {},
   "source": [
    "## Create our new master polygon list and update the naughty corner\n",
    "\n",
    "The new master polygon set will be comprised of:\n",
    "- Master polygons NOT in the `MasterPolygonsToMerge` index list\n",
    "- New updated polygons from the `MergedPolygons` index list\n",
    "- New polygons identified, but not in master (not in `NaughtyCornerNew` or `PolygonsToKeep`)\n",
    "\n",
    "The new 'naughty corner' polygon set will be comprised of:\n",
    "- Master polygons in the `NaughtyCornerMaster` index list\n",
    "- New polygons in the `NaughtyCornerNew` index list"
   ]
  },
  {
   "cell_type": "code",
   "execution_count": 9,
   "metadata": {},
   "outputs": [
    {
     "name": "stderr",
     "output_type": "stream",
     "text": [
      "/g/data/v10/public/modules/dea-env/20180728/lib/python3.6/site-packages/ipykernel_launcher.py:4: FutureWarning: Sorting because non-concatenation axis is not aligned. A future version\n",
      "of pandas will change to not sort by default.\n",
      "\n",
      "To accept the future behavior, pass 'sort=False'.\n",
      "\n",
      "To retain the current behavior and silence the warning, pass 'sort=True'.\n",
      "\n",
      "  after removing the cwd from sys.path.\n"
     ]
    }
   ],
   "source": [
    "MastersToKeep = CumulativeDams.loc[~CumulativeDams.index.isin(MasterPolygonsToMerge + NaughtyCornerMaster)]\n",
    "NewlyFoundDams = NewDamsNotContained.loc[~NewDamsNotContained.index.isin(NaughtyCornerNew + PolygonsToKeep)]\n",
    "\n",
    "NewMasterPolygons = pd.concat([MastersToKeep, MergedPolygons, NewlyFoundDams], ignore_index=True)"
   ]
  },
  {
   "cell_type": "code",
   "execution_count": 10,
   "metadata": {},
   "outputs": [],
   "source": [
    "MastersToMove = CumulativeDams.loc[NaughtyCornerMaster]\n",
    "NewToMove = NewDamsNotContained.loc[NaughtyCornerNew]\n",
    "\n",
    "NaughtyCorner = pd.concat([MastersToMove, NewToMove], ignore_index=True)"
   ]
  },
  {
   "cell_type": "markdown",
   "metadata": {},
   "source": [
    "## Write out the results to shapefile"
   ]
  },
  {
   "cell_type": "code",
   "execution_count": 11,
   "metadata": {},
   "outputs": [],
   "source": [
    "NewMasterPolygons.to_file(CumulativeDamShapeFileOutput)\n",
    "NaughtyCorner.to_file(NaughtyShapefile)"
   ]
  },
  {
   "cell_type": "code",
   "execution_count": 16,
   "metadata": {},
   "outputs": [],
   "source": [
    "MastersToKeep.to_file('MastersToKeep.shp')"
   ]
  },
  {
   "cell_type": "code",
   "execution_count": 17,
   "metadata": {},
   "outputs": [],
   "source": [
    "MergedPolygons.crs = {'init':'epsg:3577'}"
   ]
  },
  {
   "cell_type": "code",
   "execution_count": 18,
   "metadata": {},
   "outputs": [],
   "source": [
    "MergedPolygons.to_file('MergedPolygons.shp')"
   ]
  },
  {
   "cell_type": "code",
   "execution_count": 19,
   "metadata": {},
   "outputs": [],
   "source": [
    "NewlyFoundDams.to_file('NewlyFoundDams.shp')"
   ]
  },
  {
   "cell_type": "code",
   "execution_count": null,
   "metadata": {},
   "outputs": [],
   "source": []
  }
 ],
 "metadata": {
  "kernelspec": {
   "display_name": "Python 3",
   "language": "python",
   "name": "python3"
  },
  "language_info": {
   "codemirror_mode": {
    "name": "ipython",
    "version": 3
   },
   "file_extension": ".py",
   "mimetype": "text/x-python",
   "name": "python",
   "nbconvert_exporter": "python",
   "pygments_lexer": "ipython3",
   "version": "3.6.6"
  }
 },
 "nbformat": 4,
 "nbformat_minor": 2
}
