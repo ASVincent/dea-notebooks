{
 "cells": [
  {
   "cell_type": "markdown",
   "metadata": {},
   "source": [
    "# Getting Started With WOfS Confidence"
   ]
  },
  {
   "cell_type": "markdown",
   "metadata": {},
   "source": [
    "| Author(s):  | Arapaut Sivaprasad|\n",
    "|----------|----------------|\n",
    "| Created: | Jun 07, 2018 |\n",
    "| Last Modified: | Jun 08, 2018 |\n",
    "| Acknowledgemments: | Belle, Imam, Andrew Hicks |"
   ]
  },
  {
   "cell_type": "markdown",
   "metadata": {},
   "source": [
    "## Objectives\n",
    "The main objective is to Add the Ancillary datasets into the 'wofs_confidence' database. This document explains how to do it with the \"Multi-resolution Valley-Bottom-Flatness (MrVBF)\" datasets.\n",
    "\n",
    "### Background Information [[1](http://www.ga.gov.au/scientific-topics/hazards/flood/wofs)]\n",
    "\n",
    "\"Water Observations from Space (WOfS) is a web service displaying historical surface water observations derived from satellite imagery for all of Australia from 1987 to present day. WOfS aims is to allow better understanding of where water is usually present; where it is seldom observed; and where inundation of the surface has been occasionally observed by satellite. WOfS displays the detected surface water from the Australia-wide Landsat 5 and Landsat 7 satellite imagery archive.\"\n",
    "\n",
    "In order to say with confidence that a pixel classified as water requires additional information that affirms the classification. For example, if the location is the bottom of a valley it is very likely that the location denoted by that pixel has water. But, if it is the slope of a hill, chances are that the observation is false.\n",
    "\n",
    "The MrVBF ancillary database is a measure of the terrain. This information is gathered from all \"tiles\" across Australia into a series of NetCDF (*.nc*) files. Objective of this exercise is to add these to the database so that the info can be used later to analyse the WOfS data."
   ]
  },
  {
   "cell_type": "markdown",
   "metadata": {},
   "source": [
    "#### What is confidence? [[2](http://www.ga.gov.au/scientific-topics/hazards/flood/wofs/water-observations-from-space-help)]\n",
    "The confidence probability is a measure of how confident we are that a location flagged as water is truly water. The confidence information was created by comparing the WOfS with other data, to see how well it matched known water areas from other sources. \n",
    "\n",
    "These sources are:\n",
    "\n",
    "- Multi-resolution Valley-Bottom-Flatness (**MrVBF**). This uses the terrain across Australia to work out whether an area is likely to be on or near a valley bottom or flat area where water could accumulate.\n",
    "\n",
    "- MODIS Open Water Likelihood (MODIS OWL). This is a product similar to WOfS, derived from the low resolution MODIS satellites, showing the likelihood that an area has contained water between 2000 and 2012.\n",
    "\n",
    "- Australian Hydrological Geospatial Fabric (Geofabric). This is a spatial database of Australian water features, including rivers, lakes, flood plains and other water features.\n",
    "\n",
    "- Terrain slope. This is a second factor created from the terrain. The steeper the terrain, the less likely that water will accumulate in the location.\n",
    "\n",
    "- Built-up urban areas. The way light is reflected from large buildings and their shadows causes considerable water detection errors in cities. The more built-up an area, the less likely that water will be correctly detected there.\n",
    "O\n",
    "- Observation frequency. Areas where the observation frequency is low typically have poor conditions for water detection. The higher the observation frequency, the more likely that a good water/non-water classification can occur.\n"
   ]
  },
  {
   "cell_type": "markdown",
   "metadata": {},
   "source": [
    "## Pre-requisites"
   ]
  },
  {
   "cell_type": "markdown",
   "metadata": {},
   "source": [
    "### Setup the environments\n",
    "\n",
    "- To access the database, add the following into your 'datacube.conf' file\n",
    "\n",
    "> e.g. **/g/data/u46/users/sa9525/datacube.conf**\n",
    "\n",
    "    [confidence]\n",
    "    db_hostname: agdcstaging-db.nci.org.au\n",
    "    db_port: 6432\n",
    "    db_database: wofs_confidence\n",
    "    db_connection_timeout: 60000\n",
    "\n",
    "- Invoke the database by the 'psql' command as below.\n",
    "\n",
    "> **psql -h agdcstaging-db.nci.org.au -p 6432 -d wofs_confidence**\n",
    "\n",
    "- Useful commands within Psql:\n",
    "    - \\l: List of databases\n",
    "    - \\d: List of tables\n",
    "    - \\d table: Display the table structure\n",
    "    - \\h: List of all commands\n",
    "    - \\h command: Specific help on the command\n",
    "    - \\q: Exit\n",
    "    \n",
    "- SQL queries are almost identical to those in MySQL\n",
    "\n",
    "- To use the above database alongwith datacube, use the following command.\n",
    "    \n",
    ">    **datacube -E confidence**\n",
    "\n"
   ]
  },
  {
   "cell_type": "markdown",
   "metadata": {},
   "source": [
    "- The list of tables we deal with are:\n",
    "\n",
    "                            List of relations\n",
    "\n",
    "| Schema |                  Name                   |   Type   |   Owner |\n",
    "|-|-|-|-|\n",
    "| agdc   | dataset                                 | table    | agdc_admin |\n",
    "| agdc   | dataset_location                        | table    | agdc_admin |\n",
    "| agdc   | dataset_source                          | table    | agdc_admin |\n",
    "| agdc   | dataset_type                            | table    | agdc_admin |\n"
   ]
  },
  {
   "cell_type": "markdown",
   "metadata": {},
   "source": [
    "### Enter the product details\n",
    "The product details define the type of the products we are going to enter. For example, 'mrvbf' is a product type. This info is first entered into the database via a YAML file shown below.\n",
    "\n",
    "e.g. **avs_mrvfb.yaml:**\n",
    "\n",
    "    name: mrvbf\n",
    "    description: MrVBF ancillary data for wofs confidence\n",
    "    metadata_type: eo\n",
    "    \n",
    "    metadata:\n",
    "      product_type: mrvbf\n",
    "      format:\n",
    "        name: GeoTiff\n",
    "    \n",
    "    measurements:\n",
    "      - name: band1\n",
    "        dtype: uint8\n",
    "        units: '1'\n",
    "        nodata: 255\n",
    "    \n",
    "    storage:\n",
    "      crs: EPSG:4326\n",
    "      resolution:\n",
    "        latitude: -0.00025\n",
    "        longitude: 0.00025\n",
    "    "
   ]
  },
  {
   "cell_type": "markdown",
   "metadata": {},
   "source": [
    "#### Add the product definitions to the database as a shell command (not from PSQL):\n",
    "\n",
    "> **datacube product add avs_mrvfb.yaml**\n",
    "\n",
    "If you make any change in the above YAML file, then update via the following. NOTE: There is no way to delete a product type once entered (strange!) except manually from the database table.\n",
    "\n",
    "> **datacube product update --allow-unsafe avs_mrvfb.yaml**\n",
    "\n",
    "These need to be done only once for a product type.\n",
    "\n",
    "You must have database/table insert privilege to give the above commands. If not, ask the admin to do a `grant all privileges on database wofs_confidence to your_userID`\n",
    "\n"
   ]
  },
  {
   "cell_type": "markdown",
   "metadata": {},
   "source": [
    "### Enter the dataset details\n",
    "We must specify that the datasets belong to a product type. For this, we insert the details via another YAML file:\n",
    "\n",
    "e.g. **avs_mrvbf_nc.yaml:**\n",
    "\n",
    "    name: mrvbf_nc\n",
    "    description: MrVBF ancillary data for wofs confidence\n",
    "    metadata_type: eo\n",
    "    \n",
    "    metadata:\n",
    "      product_type: mrvbf\n",
    "      format:\n",
    "        name: NetCDF\n",
    "    \n",
    "    measurements:\n",
    "      - name: band1\n",
    "        dtype: uint8\n",
    "        units: '1'\n",
    "        nodata: 255\n",
    "    \n",
    "    storage:\n",
    "        crs: EPSG:3577\n",
    "        dimension_order:\n",
    "        - time\n",
    "        - y\n",
    "        - x\n",
    "        driver: NetCDF CF\n",
    "        resolution:\n",
    "            x: 25\n",
    "            y: -25\n",
    "        tile_size:\n",
    "            x: 100000.0\n",
    "            y: 100000.0\n",
    "    "
   ]
  },
  {
   "cell_type": "markdown",
   "metadata": {},
   "source": [
    "#### Add the dataset definitions to the database as a shell command (not from PSQL):\n",
    "\n",
    "> **datacube product add avs_mrvfb_nc.yaml**\n",
    "\n",
    "If you make any change in the above YAML file, then update via the following. NOTE: There is no way to delete a product type once entered (strange!)\n",
    "\n",
    "> **datacube product update --allow-unsafe avs_mrvfb_nc.yaml**\n",
    "\n",
    "These need to be done only once for a product type."
   ]
  },
  {
   "cell_type": "markdown",
   "metadata": {},
   "source": [
    "## Index the datasets"
   ]
  },
  {
   "cell_type": "markdown",
   "metadata": {},
   "source": [
    "Indexing the datasets is a bit different to that in MySQL. Here, we are NOT indexing a column as in 'create index ...' command. In fact, the data itself is not loaded into the database tables at all. All we are doing is adding the some metadata into the tables and keep the data as files on the disk. Therefore, the locations and permanency of these files are critical. The term ,'index', probably refers to this information."
   ]
  },
  {
   "cell_type": "markdown",
   "metadata": {},
   "source": [
    "### Enter the datasets\n",
    "\n",
    "Once the product and dataset definitions have been entered, we can enter the datasets.\n",
    "\n",
    "The datasets are kept in NetCDF or GeoTiff formats. In the above YAML we have indicated that they are in NetCDF format. Therefore, we can enter and index a dataset by the following command.\n",
    "\n",
    "> **datacube dataset add mrvbf_9_-49.nc**\n",
    "\n",
    "> where, **mrvbf_9_-49.nc** is the filename of the data for one tile. \n",
    "\n",
    "We must enter all tiles (~1600) by repeating the above command. Obviously, we will use a shell script to do so."
   ]
  },
  {
   "cell_type": "markdown",
   "metadata": {},
   "source": [
    "### Enter the datasets in bulk\n",
    "It will be extremely time consuming to add the datasets one by one as given above. Instead, we can do it in bulk by the following steps.\n",
    "\n",
    "**STEPS:**\n",
    "\n",
    "- Create a list of all datasets in the appropriate directory.\n",
    "\n",
    "    - `find /g/data/u46/wofs/confidence_albers/MrVBF/tiles/*.nc | awk '{printf \"echo %s; datacube -E confidence dataset add %s\\n\",$1, $1}' > MrVBF.sh`\n",
    "\n",
    "- Execute the output file from above with the command below.\n",
    "    - **source** `MfVBF.sh &`\n",
    "    \n",
    "**Alternatively,**\n",
    "\n",
    "- Execute the following program.\n",
    "\n",
    "    - **/g/data/u46/users/sa9525/avs/WOfS/insert_all.py** `/g/data/u46/wofs/confidence_albers/MrVBF/tiles/ &`\n",
    "    \n",
    "    \n",
    "**Tip:** If you run the program in the background as the above two commands show, it is possible to kill the job with **kill %1**. Otherwise, it may not be possible to interrupt.\n"
   ]
  },
  {
   "cell_type": "markdown",
   "metadata": {},
   "source": [
    "### Delete the datasets\n",
    "If, for any reason, you want to delete all the entered datasets and start over, do the following. NOTE: It is a brute force method. It will delete everything in the tables and should be used only as a last resort. To reload a single dataset you can do a *datacube -E confidence dataset update filename*\n",
    "\n",
    "- Connect to the database\n",
    "    \n",
    "    - **psql -h agdcstaging-db.nci.org.au -p 6432 -d wofs_confidence**\n",
    "\n",
    "- Run these commands, **in the same order** as given below.\n",
    "    \n",
    "    - delete from dataset_source;\n",
    "    \n",
    "    - delete from dataset_location;\n",
    "    \n",
    "    - delete from dataset;\n"
   ]
  },
  {
   "cell_type": "markdown",
   "metadata": {},
   "source": [
    "## Verify the integrity of all datasets \n",
    "After the dataset(s) are indexed, it is probably a good idea to check the integrity of data. Since we are not actually adding or modifying the data in any way, but instead just adding the metadata and file locations into the database, chances of something going wrong are less. However, many datasets may not have any data. This can be visually seen by the file sizes, or can be verified by looking at the actual data in there.\n",
    "\n",
    "It is not practical to test all datasets by plotting their data (as given below). A script, however, can test them and say which ones are empty and/or an error in any of them.\n",
    "\n",
    "To do it, run the following script from shell after appropriately defining the list of dataset files.\n",
    "\n",
    "> **/g/data/u46/users/sa9525/avs/WOfS/check_integrity.py**\n",
    "\n",
    "**STEPS:**\n",
    "- Create a list of all tiles in the appropriate directory.\n",
    "    \n",
    "    - find /g/data/u46/wofs/confidence_albers/MrVBF/tiles/*.nc | awk '{printf \"%s\\n\",\\$1}' > MrVBF.txt\n",
    "    \n",
    "- **/g/data/u46/users/sa9525/avs/WOfS/check_integrity.py** MfVBF.txt [integrity.txt]\n",
    "\n",
    "- Results will be in ./integrity.txt or ./MfVBF.txt_integrity.txt, if filename is omitted\n",
    "    \n",
    "    1. mrvbf_0_-11.nc : Dataset is \\*\\*\\*empty\\*\\*\\*. File size: 0.13M\n",
    "    \n",
    "    2. mrvbf_0_-12.nc : Dataset has valid data. File size: 1.49M\n",
    "    \n",
    "    3. etc.\n",
    "    "
   ]
  },
  {
   "cell_type": "markdown",
   "metadata": {},
   "source": [
    "## Verify the integrity of a single dataset manually"
   ]
  },
  {
   "cell_type": "markdown",
   "metadata": {},
   "source": [
    "Before proceeding with adding all datasets, as described in 1.3.2 above, it is advisable to add a small number and verify their integrity. Remember that, as in the case of product definitions, we cannot delete a dataset once added. If you mess up, it will be easier to delete all in the tables and start all over.  \n",
    "\n",
    "One way to check the integrity at present is to plot a single dataset, selected at random, by following the instructions below. It will show a plot if there is any data in the tile. If not, the plot will be empty.\n"
   ]
  },
  {
   "cell_type": "markdown",
   "metadata": {},
   "source": [
    "### Find the geo-coordinates of the dataset\n",
    "If we know the latitude and longitude of the tile that represents the dataset, its data can be loaded and plotted. To find these coordinates, do the following.\n",
    "\n",
    "- Change dir to the location of the datafiles.\n",
    "\n",
    "    - e.g. **cd /g/data/u46/wofs/confidence_albers/MrVBF/tiles**\n",
    "\n",
    "- Run the following command.\n",
    "\n",
    "> **gdalinfo NETCDF:/g/data1a/u46/wofs/confidence_albers/MrVBF/tiles/mrvbf_9_-49.nc:band1 | grep NC_GLOBAL **\n",
    "\n",
    "Output will look like this.\n",
    "\n",
    "      NC_GLOBAL#Conventions=CF-1.6, ACDD-1.3\n",
    "      NC_GLOBAL#date_created=2018-01-12T09:05:13.376699\n",
    "      NC_GLOBAL#geospatial_bounds=POLYGON ((142.768498169369 -43.5806858162346,142.870058833737 -44.5126214850899,144.071023384885 -44.4285210281062,143.958367272651 -43.4978773388109,142.768498169369 -43.5806858162346))\n",
    "      NC_GLOBAL#geospatial_bounds_crs=EPSG:4326\n",
    "      NC_GLOBAL#geospatial_lat_max=-43.49787733881086\n",
    "      NC_GLOBAL#geospatial_lat_min=-44.51262148508991\n",
    "      NC_GLOBAL#geospatial_lat_units=degrees_north\n",
    "      NC_GLOBAL#geospatial_lon_max=144.0710233848853\n",
    "      NC_GLOBAL#geospatial_lon_min=142.7684981693691\n",
    "      NC_GLOBAL#geospatial_lon_units=degrees_east\n",
    "      NC_GLOBAL#history=NetCDF-CF file created by datacube version '1.5.1+147.g98ca9c5.dirty' at 20180111.\n",
    "      NC_GLOBAL#title=MrVBF ancillary data for WOfS confidence\n",
    "      \n",
    "- Get the **lat_min, lat_max, lon_min** and **lon_max** from above.\n",
    "\n",
    "- Compose a 'query' like below.\n",
    "\n",
    "      query = {\n",
    "       'lat': (-44.51262148508991, -43.49787733881086),\n",
    "       'lon': (142.7684981693691, 144.0710233848853),\n",
    "        'crs': ('EPSG:4326')\n",
    "        }\n",
    "        \n",
    "- Run this notebook and see that it returns some data and plots a picture.\n"
   ]
  },
  {
   "cell_type": "markdown",
   "metadata": {},
   "source": [
    "### Quick way to create the query dict\n",
    "\n",
    "To make the co-ordinates like above in a quicker way, use the following Perl script.\n",
    "\n",
    "- cd /g/data/u46/wofs/confidence_albers/MrVBF/tiles\n",
    "\n",
    "> **/g/data/u46/users/sa9525/avs/WOfS/get_lat_lon.pl mrvbf_9_-42.nc**\n",
    "\n",
    "- Copy and paste the query dict into its box below.\n"
   ]
  },
  {
   "cell_type": "markdown",
   "metadata": {},
   "source": [
    "## Results and Report\n",
    "\n",
    "- The product details were loaded by the shell commamnds as below.\n",
    "\n",
    "    - datacube dataset add /g/data/u46/users/sa9525/avs/WOfS/YAML/avs_mrvbf.yaml\n",
    "\n",
    "    - datacube dataset add /g/data/u46/users/sa9525/avs/WOfS/YAML/mrvbf_9_-49.nc\n",
    "\n",
    "    - datacube dataset add /g/data/u46/users/sa9525/avs/WOfS/YAML/avs_modis-product.yaml\n",
    "\n",
    "    - datacube dataset add /g/data/u46/users/sa9525/avs/WOfS/YAML/avs_modis-product_nc.yaml\n",
    "\n",
    "    - datacube dataset add /g/data/u46/users/sa9525/avs/WOfS/YAML/avs_urbanAreas-product.yaml\n",
    "\n",
    "    - datacube dataset add /g/data/u46/users/sa9525/avs/WOfS/YAML/avs_urbanAreas-product_nc.yaml\n",
    "\n",
    "\n",
    "- The datasets were loaded with a Python script written for the purpose. \n",
    "\n",
    "    - **/g/data/u46/users/sa9525/avs/WOfS/insert_all.py** `/g/data/u46/wofs/confidence_albers/MrVBF/tiles/ &`\n",
    "\n",
    "    - **/g/data/u46/users/sa9525/avs/WOfS/insert_all.py** `/g/data/u46/wofs/confidence_albers/modis/tiles &`\n",
    "    \n",
    "    - **/g/data/u46/users/sa9525/avs/WOfS/insert_all.py** `/g/data/u46/wofs/confidence_albers/urbanAreas/tiles &`\n",
    "    \n",
    "NOTE: It takes approximately 90 minutes each for loading the datasets. If the dataset is not in the database it will be added or will issue a warning without crashing. It can be ignored. Whether the dataset is in the database or not, it still gives one warning that the product details' record is already in the database. This simply means that it is trying to insert the same record number, which is common for all datasets, again for each dataset. It can be safely ignored.\n",
    "\n",
    "- **Data integrity checks**\n",
    "\n",
    "There is no insertion or modification of data during indexing and, hence, no error will be introduced during this process. After indexing it is possible to view the data using datacube. While a valid data point is marked as 0 to 9, the invalid numbers are 255. Checking whether a dataset has only invalid numbers may indicate that the tile corresponding to the dataset is over a sea area. If, however, it is a land area then it is necessary to investigate whether the invalid numbers are real or due to some error. The data integrity check looks through every dataset and reports whether it is \"Empty\" (means all values are 255) or contain valid data. It also marks the dataset as \"Land\" or \"Sea\".\n",
    "\n",
    "Run the integrity checks as below.\n",
    "\n",
    "- ./dataset_integrity.py /g/data/u46/wofs/confidence_albers/MrVBF/tiles mrvbf_nc MrVBF_integrity.txt\n",
    "\n",
    "- ./dataset_integrity.py /g/data/u46/wofs/confidence_albers/modis/tiles modis_nc Modis_integrity.txt\n",
    "\n",
    "- ./dataset_integrity.py /g/data/u46/wofs/confidence_albers/urbanAreas/tiles urban_areas_nc Urban_areas_integrity.txt\n",
    "\n",
    "Output files:\n",
    "\n",
    "   - Modis_integrity.txt\n",
    "   \n",
    "   - MrVBF_integrity.txt\n",
    "   \n",
    "   - Urban_areas_integrity.txt\n",
    "\n",
    "Filtering the above files would list the datasets that have only invalid data, but the tiles are marked as \"Land\". These were manually checked against a map of all tiles across Australia. The results indicated that all of such tiles were mostly over the sea, with only tiny island(s) within. It can, therefore, be concluded that there is no error in the datasets or in the integrity check.\n",
    "\n",
    "**Modis:**\n",
    "\n",
    "![Modis](images/modis_1.jpg)\n",
    "\n",
    "![Modis](images/modis_2.jpg)\n",
    "\n",
    "**MrVBF:**\n",
    "\n",
    "![MrVBF](images/mrvbf_1.jpg)\n",
    "\n",
    "![MrVBF](images/mrvbf_2.jpg)\n",
    "\n",
    "\n"
   ]
  },
  {
   "cell_type": "code",
   "execution_count": null,
   "metadata": {},
   "outputs": [],
   "source": []
  },
  {
   "cell_type": "markdown",
   "metadata": {},
   "source": [
    "## Interactive plotting to visualise the data\n",
    "The code below will extract and display the data in the specified dataset. In order to specify a dataset, one needs to give the following:\n",
    "\n",
    "1. Product name: \n",
    "    \n",
    "    - mrvbf_nc\n",
    "    \n",
    "    - modis_nc\n",
    "    \n",
    "    - urban_areas_nc\n",
    "    \n",
    "2. query details (lat/lon)\n"
   ]
  },
  {
   "cell_type": "markdown",
   "metadata": {},
   "source": [
    "### Run the data extraction and plotting"
   ]
  },
  {
   "cell_type": "code",
   "execution_count": 265,
   "metadata": {},
   "outputs": [],
   "source": [
    "import numpy\n",
    "import sys\n",
    "import os.path\n",
    "sys.path.append(os.path.expanduser('~/dea-notebooks/Scripts'))\n",
    "from DEAPlotting import three_band_image_subplots, three_band_image\n",
    "import datacube\n",
    "from datacube import Datacube"
   ]
  },
  {
   "cell_type": "code",
   "execution_count": 283,
   "metadata": {},
   "outputs": [
    {
     "data": {
      "text/plain": [
       "<xarray.Dataset>\n",
       "Dimensions:  (time: 1, x: 5117, y: 5117)\n",
       "Coordinates:\n",
       "  * time     (time) datetime64[ns] 2014-02-28\n",
       "  * y        (y) float64 -1.686e+06 -1.686e+06 -1.686e+06 -1.686e+06 ...\n",
       "  * x        (x) float64 1.886e+06 1.886e+06 1.886e+06 1.887e+06 1.887e+06 ...\n",
       "Data variables:\n",
       "    band1    (time, y, x) float32 255.0 255.0 255.0 255.0 255.0 255.0 255.0 ...\n",
       "Attributes:\n",
       "    crs:      EPSG:3577"
      ]
     },
     "execution_count": 283,
     "metadata": {},
     "output_type": "execute_result"
    }
   ],
   "source": [
    "dc = Datacube(env=\"confidence\")\n",
    "product='modis_nc'\n",
    "query = {\n",
    "           'lat': (-15.69974224132715, -14.6693357338152),\n",
    "           'lon': (149.5397140637291, 150.5836419510335),\n",
    "           'crs': ('EPSG:4326')\n",
    "         }\n",
    "\n",
    "ds = dc.load(product=product, group_by='solar_day', **query)\n",
    "ds"
   ]
  },
  {
   "cell_type": "markdown",
   "metadata": {},
   "source": [
    "### Display the data"
   ]
  },
  {
   "cell_type": "code",
   "execution_count": 284,
   "metadata": {
    "scrolled": false
   },
   "outputs": [
    {
     "data": {
      "image/png": "[encoded data removed]",
      "text/plain": [
       "<Figure size 720x720 with 1 Axes>"
      ]
     },
     "metadata": {},
     "output_type": "display_data"
    }
   ],
   "source": [
    "three_band_image(ds, bands = ['band1'], time = 0, contrast_enhance=True);"
   ]
  },
  {
   "cell_type": "markdown",
   "metadata": {},
   "source": [
    "### Debugging code.\n",
    "Not required in final version"
   ]
  },
  {
   "cell_type": "code",
   "execution_count": 285,
   "metadata": {},
   "outputs": [
    {
     "data": {
      "text/plain": [
       "(1, 5117, 5117)"
      ]
     },
     "execution_count": 285,
     "metadata": {},
     "output_type": "execute_result"
    }
   ],
   "source": [
    "ds.band1.values.shape"
   ]
  },
  {
   "cell_type": "markdown",
   "metadata": {},
   "source": [
    "#### See if \"any\" valus is non-zero"
   ]
  },
  {
   "cell_type": "code",
   "execution_count": 286,
   "metadata": {},
   "outputs": [
    {
     "name": "stdout",
     "output_type": "stream",
     "text": [
      "All values are *** 255 ***\n"
     ]
    }
   ],
   "source": [
    "test_elements = [255]\n",
    "mask = numpy.isin(ds.band1, test_elements)\n",
    "zero = numpy.all(mask == True)\n",
    "if(zero == False):\n",
    "    print(\"There is at least one pixel of non-zero value\")\n",
    "else:    \n",
    "    print(\"All values are *** 255 ***\")\n"
   ]
  },
  {
   "cell_type": "markdown",
   "metadata": {},
   "source": [
    "#### Print out the non-zero values\n",
    "NOTE: This could take several minutes, and the output could be very long. Be wary!"
   ]
  },
  {
   "cell_type": "code",
   "execution_count": 261,
   "metadata": {},
   "outputs": [
    {
     "name": "stdout",
     "output_type": "stream",
     "text": [
      "2428,11543737,1\n",
      "2428,11543738,1\n",
      "2429,11548491,1\n",
      "2429,11548492,1\n",
      "2430,11553246,1\n",
      "2430,11553247,1\n",
      "2431,11558000,1\n",
      "2431,11558001,1\n",
      "2432,11562754,1\n",
      "2432,11562755,1\n",
      "2432,11562756,1\n",
      "2433,11567508,1\n",
      "2433,11567511,1\n",
      "2433,11567512,1\n",
      "2438,11591283,1\n",
      "2439,11596037,1\n",
      "2440,11600792,2\n",
      "2441,11605546,2\n",
      "2442,11610300,2\n",
      "2443,11615052,1\n",
      "2443,11615053,1\n",
      "2443,11615054,1\n",
      "2444,11619806,1\n",
      "2444,11619807,1\n",
      "2444,11619808,1\n",
      "2444,11619809,1\n",
      "2445,11624560,1\n",
      "2445,11624561,1\n",
      "2445,11624562,1\n",
      "2449,11643574,1\n",
      "2449,11643575,1\n",
      "2450,11648328,1\n",
      "2450,11648329,1\n",
      "\n"
     ]
    }
   ],
   "source": [
    "m = 0\n",
    "j = -1;\n",
    "k = -1\n",
    "#outfile = \"counts.txt\"\n",
    "try:\n",
    "    os.remove(outfile)\n",
    "except OSError:\n",
    "    pass\n",
    "#f = open(outfile, \"w\")\n",
    "displayline = \"\"\n",
    "for n in ds.band1.values[0]:\n",
    "    j += 1\n",
    "    for i in n:\n",
    "        k += 1\n",
    "        if(i and i != 255): \n",
    "            line = \"{},{},{}\\n\".format(j,k,i)\n",
    "            displayline += \"{},{},{}\\n\".format(j,k,i)\n",
    "#            f.writelines(line)\n",
    "            m += 1\n",
    "#f.close()\n",
    "print(displayline)            "
   ]
  },
  {
   "cell_type": "markdown",
   "metadata": {},
   "source": [
    "#### See the datasets in the database (partial list)"
   ]
  },
  {
   "cell_type": "code",
   "execution_count": 252,
   "metadata": {},
   "outputs": [
    {
     "ename": "NameError",
     "evalue": "name 'product' is not defined",
     "output_type": "error",
     "traceback": [
      "\u001b[0;31m---------------------------------------------------------------------------\u001b[0m",
      "\u001b[0;31mNameError\u001b[0m                                 Traceback (most recent call last)",
      "\u001b[0;32m<ipython-input-252-28eea9e6f8c7>\u001b[0m in \u001b[0;36m<module>\u001b[0;34m()\u001b[0m\n\u001b[0;32m----> 1\u001b[0;31m \u001b[0mdc\u001b[0m\u001b[0;34m.\u001b[0m\u001b[0mfind_datasets\u001b[0m\u001b[0;34m(\u001b[0m\u001b[0mproduct\u001b[0m\u001b[0;34m=\u001b[0m\u001b[0mproduct\u001b[0m\u001b[0;34m,\u001b[0m \u001b[0mgroup_by\u001b[0m\u001b[0;34m=\u001b[0m\u001b[0;34m'solar_day'\u001b[0m\u001b[0;34m,\u001b[0m \u001b[0;34m**\u001b[0m\u001b[0mquery\u001b[0m\u001b[0;34m)\u001b[0m\u001b[0;34m\u001b[0m\u001b[0m\n\u001b[0m",
      "\u001b[0;31mNameError\u001b[0m: name 'product' is not defined"
     ]
    }
   ],
   "source": [
    "dc.find_datasets(product=product, group_by='solar_day', **query)"
   ]
  },
  {
   "cell_type": "markdown",
   "metadata": {},
   "source": [
    "### Plot the data"
   ]
  },
  {
   "cell_type": "code",
   "execution_count": 178,
   "metadata": {
    "scrolled": false
   },
   "outputs": [
    {
     "data": {
      "image/png": "[encoded data removed]",
      "text/plain": [
       "<Figure size 720x720 with 1 Axes>"
      ]
     },
     "metadata": {},
     "output_type": "display_data"
    }
   ],
   "source": [
    "three_band_image(ds, bands = ['band1'], time = 0, contrast_enhance=True);"
   ]
  },
  {
   "cell_type": "code",
   "execution_count": null,
   "metadata": {},
   "outputs": [],
   "source": []
  },
  {
   "cell_type": "code",
   "execution_count": null,
   "metadata": {},
   "outputs": [],
   "source": []
  }
 ],
 "metadata": {
  "kernelspec": {
   "display_name": "Python 3",
   "language": "python",
   "name": "python3"
  },
  "language_info": {
   "codemirror_mode": {
    "name": "ipython",
    "version": 3
   },
   "file_extension": ".py",
   "mimetype": "text/x-python",
   "name": "python",
   "nbconvert_exporter": "python",
   "pygments_lexer": "ipython3",
   "version": "3.6.5"
  },
  "toc": {
   "base_numbering": 1,
   "nav_menu": {},
   "number_sections": true,
   "sideBar": true,
   "skip_h1_title": false,
   "title_cell": "Table of Contents",
   "title_sidebar": "Contents",
   "toc_cell": false,
   "toc_position": {},
   "toc_section_display": true,
   "toc_window_display": false
  }
 },
 "nbformat": 4,
 "nbformat_minor": 2
}
