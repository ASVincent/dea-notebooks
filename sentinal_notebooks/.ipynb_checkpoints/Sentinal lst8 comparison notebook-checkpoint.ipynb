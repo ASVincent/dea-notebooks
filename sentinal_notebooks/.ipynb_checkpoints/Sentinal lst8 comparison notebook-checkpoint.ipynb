{
 "cells": [
  {
   "cell_type": "code",
   "execution_count": 1,
   "metadata": {},
   "outputs": [
    {
     "name": "stdout",
     "output_type": "stream",
     "text": [
      "Populating the interactive namespace from numpy and matplotlib\n"
     ]
    }
   ],
   "source": [
    "% pylab notebook\n",
    "import datacube\n",
    "from datacube.storage import masking\n",
    "from datacube import Datacube\n",
    "from datetime import datetime\n",
    "from skimage import exposure\n",
    "\n",
    "from datacube_stats.statistics import GeoMedian\n",
    "from matplotlib import pyplot as plt\n",
    "import numpy as np\n",
    "import pandas as pd\n",
    "import xarray as xr\n",
    "\n",
    "\n",
    "# Replace '156' and 'cek156' with the path to your own home directory on the VDI\n",
    "s2aws = Datacube(config='/home/547/ck9738/datacube-s2.conf')"
   ]
  },
  {
   "cell_type": "code",
   "execution_count": 2,
   "metadata": {},
   "outputs": [],
   "source": [
    "def threeBandImage(ds, bands, time = 0, figsize = [10,10], projection = 'projected'):\n",
    "    '''\n",
    "    threeBandImage takes three spectral bands and plots them on the RGB bands of an image. \n",
    "    \n",
    "    Inputs: \n",
    "    ds -   Dataset containing the bands to be plotted\n",
    "    bands - list of three bands to be plotted\n",
    "    \n",
    "    Optional:\n",
    "    time - Index value of the time dimension of ds to be plotted\n",
    "    figsize - dimensions for the output figure\n",
    "    projection - options are 'projected' or 'geographic'. To determine if the image is in degrees or northings\n",
    "    '''\n",
    "\n",
    "\n",
    "    t, y, x = ds[bands[0]].shape\n",
    "    rawimg = np.zeros((y,x,3), dtype = np.float32)\n",
    "    for i, colour in enumerate(bands):\n",
    "        rawimg[:,:,i] = ds[colour][time].values\n",
    "    rawimg[rawimg == -999] = np.nan\n",
    "    img_toshow = exposure.equalize_hist(rawimg, mask = np.isfinite(rawimg))\n",
    "    fig = plt.figure(figsize = figsize)\n",
    "    imshow(img_toshow)\n",
    "    ax = plt.gca()\n",
    "    ax.set_title(str(ds.time[time].values), fontweight = 'bold', fontsize = 16)\n",
    "    ax.set_xticklabels(ds.x.values)\n",
    "    ax.set_yticklabels(ds.y.values)\n",
    "    if projection == 'geographic':\n",
    "        ax.set_xlabel('Longitude', fontweight = 'bold')\n",
    "        ax.set_ylabel('Latitude', fontweight = 'bold')\n",
    "    else:\n",
    "        ax.set_xlabel('Eastings', fontweight = 'bold')\n",
    "        ax.set_ylabel('Northings', fontweight = 'bold')"
   ]
  },
  {
   "cell_type": "code",
   "execution_count": 3,
   "metadata": {},
   "outputs": [],
   "source": [
    "sensors= ['s2a_ard_granule', 's2b_ard_granule']"
   ]
  },
  {
   "cell_type": "code",
   "execution_count": 4,
   "metadata": {},
   "outputs": [],
   "source": [
    "\n",
    "query_s = {\n",
    "        'lat': (-30.55, -30.800),\n",
    "        'lon': (144.802, 145.000),\n",
    "        'output_crs': 'EPSG:3577',\n",
    "        'resolution': (-10, 10),\n",
    "        'time':('2017-05-01', '2017-07-30')\n",
    "        }\n",
    "# use s2b_ard_granule \t for S2B\n",
    "#data_S2A = s2aws.load(product='s2a_ard_granule', group_by='solar_day', **query_s)"
   ]
  },
  {
   "cell_type": "code",
   "execution_count": 5,
   "metadata": {},
   "outputs": [],
   "source": [
    "data_sent = {}\n",
    "\n",
    "for i in sensors:\n",
    "    this_sensor = s2aws.load(product= i , group_by='solar_day', **query_s)\n",
    "    \n",
    "    #retreive projection infromation\n",
    "    crs = this_sensor.crs\n",
    "    crswkt = this_sensor.crs.wkt\n",
    "    affine = this_sensor.affine\n",
    "    \n",
    "    #make a mask for full timeseries \n",
    "    clear_pixels = this_sensor.pixel_quality == 1\n",
    "    clear_data = this_sensor.where(clear_pixels)\n",
    "    \n",
    "    data_sent[i] = clear_data\n",
    "\n",
    "    "
   ]
  },
  {
   "cell_type": "code",
   "execution_count": 6,
   "metadata": {},
   "outputs": [
    {
     "data": {
      "text/plain": [
       "{'s2a_ard_granule': <xarray.Dataset>\n",
       " Dimensions:        (time: 9, x: 2031, y: 1807)\n",
       " Coordinates:\n",
       "   * time           (time) datetime64[ns] 2017-05-01T00:21:11.026000 ...\n",
       "   * y              (y) float64 -3.398e+06 -3.398e+06 -3.398e+06 -3.398e+06 ...\n",
       "   * x              (x) float64 1.21e+06 1.21e+06 1.21e+06 1.21e+06 1.21e+06 ...\n",
       " Data variables:\n",
       "     pixel_quality  (time, y, x) float64 nan nan nan nan nan nan nan nan nan ...\n",
       "     contiguity     (time, y, x) float64 nan nan nan nan nan nan nan nan nan ...\n",
       "     aerosol        (time, y, x) float64 nan nan nan nan nan nan nan nan nan ...\n",
       "     blue           (time, y, x) float64 nan nan nan nan nan nan nan nan nan ...\n",
       "     green          (time, y, x) float64 nan nan nan nan nan nan nan nan nan ...\n",
       "     red            (time, y, x) float64 nan nan nan nan nan nan nan nan nan ...\n",
       "     rededge1       (time, y, x) float64 nan nan nan nan nan nan nan nan nan ...\n",
       "     rededge2       (time, y, x) float64 nan nan nan nan nan nan nan nan nan ...\n",
       "     rededge3       (time, y, x) float64 nan nan nan nan nan nan nan nan nan ...\n",
       "     nir1           (time, y, x) float64 nan nan nan nan nan nan nan nan nan ...\n",
       "     nir2           (time, y, x) float64 nan nan nan nan nan nan nan nan nan ...\n",
       "     swir1          (time, y, x) float64 nan nan nan nan nan nan nan nan nan ...\n",
       "     swir2          (time, y, x) float64 nan nan nan nan nan nan nan nan nan ...\n",
       "     t_contiguity   (time, y, x) float64 nan nan nan nan nan nan nan nan nan ...\n",
       "     t_aerosol      (time, y, x) float64 nan nan nan nan nan nan nan nan nan ...\n",
       "     t_blue         (time, y, x) float64 nan nan nan nan nan nan nan nan nan ...\n",
       "     t_green        (time, y, x) float64 nan nan nan nan nan nan nan nan nan ...\n",
       "     t_red          (time, y, x) float64 nan nan nan nan nan nan nan nan nan ...\n",
       "     t_rededge1     (time, y, x) float64 nan nan nan nan nan nan nan nan nan ...\n",
       "     t_rededge2     (time, y, x) float64 nan nan nan nan nan nan nan nan nan ...\n",
       "     t_rededge3     (time, y, x) float64 nan nan nan nan nan nan nan nan nan ...\n",
       "     t_nir1         (time, y, x) float64 nan nan nan nan nan nan nan nan nan ...\n",
       "     t_nir2         (time, y, x) float64 nan nan nan nan nan nan nan nan nan ...\n",
       "     t_swir1        (time, y, x) float64 nan nan nan nan nan nan nan nan nan ...\n",
       "     t_swir2        (time, y, x) float64 nan nan nan nan nan nan nan nan nan ...\n",
       " Attributes:\n",
       "     crs:      EPSG:3577, 's2b_ard_granule': <xarray.Dataset>\n",
       " Dimensions:        (time: 3, x: 2031, y: 1807)\n",
       " Coordinates:\n",
       "   * time           (time) datetime64[ns] 2017-07-08T00:27:09.027000 ...\n",
       "   * y              (y) float64 -3.398e+06 -3.398e+06 -3.398e+06 -3.398e+06 ...\n",
       "   * x              (x) float64 1.21e+06 1.21e+06 1.21e+06 1.21e+06 1.21e+06 ...\n",
       " Data variables:\n",
       "     pixel_quality  (time, y, x) float64 1.0 1.0 1.0 1.0 1.0 1.0 1.0 1.0 1.0 ...\n",
       "     contiguity     (time, y, x) float64 1.0 1.0 1.0 1.0 1.0 1.0 1.0 1.0 1.0 ...\n",
       "     aerosol        (time, y, x) float64 755.0 668.0 668.0 668.0 668.0 668.0 ...\n",
       "     blue           (time, y, x) float64 777.0 756.0 733.0 764.0 728.0 748.0 ...\n",
       "     green          (time, y, x) float64 997.0 1.006e+03 930.0 969.0 953.0 ...\n",
       "     red            (time, y, x) float64 1.37e+03 1.315e+03 1.299e+03 ...\n",
       "     rededge1       (time, y, x) float64 1.586e+03 1.518e+03 1.518e+03 ...\n",
       "     rededge2       (time, y, x) float64 1.745e+03 1.639e+03 1.639e+03 ...\n",
       "     rededge3       (time, y, x) float64 1.8e+03 1.677e+03 1.677e+03 ...\n",
       "     nir1           (time, y, x) float64 1.675e+03 1.642e+03 1.581e+03 ...\n",
       "     nir2           (time, y, x) float64 2.008e+03 1.915e+03 1.915e+03 ...\n",
       "     swir1          (time, y, x) float64 2.884e+03 2.69e+03 2.69e+03 ...\n",
       "     swir2          (time, y, x) float64 2.657e+03 2.508e+03 2.508e+03 ...\n",
       "     t_contiguity   (time, y, x) float64 1.0 1.0 1.0 1.0 1.0 1.0 1.0 1.0 1.0 ...\n",
       "     t_aerosol      (time, y, x) float64 752.0 666.0 666.0 666.0 666.0 666.0 ...\n",
       "     t_blue         (time, y, x) float64 784.0 762.0 739.0 765.0 725.0 747.0 ...\n",
       "     t_green        (time, y, x) float64 1.007e+03 1.016e+03 937.0 971.0 ...\n",
       "     t_red          (time, y, x) float64 1.385e+03 1.329e+03 1.31e+03 ...\n",
       "     t_rededge1     (time, y, x) float64 1.602e+03 1.529e+03 1.529e+03 ...\n",
       "     t_rededge2     (time, y, x) float64 1.763e+03 1.651e+03 1.651e+03 ...\n",
       "     t_rededge3     (time, y, x) float64 1.817e+03 1.688e+03 1.688e+03 ...\n",
       "     t_nir1         (time, y, x) float64 1.692e+03 1.657e+03 1.595e+03 ...\n",
       "     t_nir2         (time, y, x) float64 2.026e+03 1.928e+03 1.928e+03 ...\n",
       "     t_swir1        (time, y, x) float64 2.914e+03 2.71e+03 2.71e+03 ...\n",
       "     t_swir2        (time, y, x) float64 2.685e+03 2.527e+03 2.527e+03 ...\n",
       " Attributes:\n",
       "     crs:      EPSG:3577}"
      ]
     },
     "execution_count": 6,
     "metadata": {},
     "output_type": "execute_result"
    }
   ],
   "source": [
    "data_sent"
   ]
  },
  {
   "cell_type": "code",
   "execution_count": 7,
   "metadata": {},
   "outputs": [
    {
     "ename": "MemoryError",
     "evalue": "",
     "output_type": "error",
     "traceback": [
      "\u001b[0;31m---------------------------------------------------------------------------\u001b[0m",
      "\u001b[0;31mMemoryError\u001b[0m                               Traceback (most recent call last)",
      "\u001b[0;32m<ipython-input-7-043098b44be3>\u001b[0m in \u001b[0;36m<module>\u001b[0;34m()\u001b[0m\n\u001b[1;32m      1\u001b[0m \u001b[0mdata_sent\u001b[0m \u001b[0;34m=\u001b[0m \u001b[0mxr\u001b[0m\u001b[0;34m.\u001b[0m\u001b[0mconcat\u001b[0m\u001b[0;34m(\u001b[0m\u001b[0mdata_sent\u001b[0m\u001b[0;34m.\u001b[0m\u001b[0mvalues\u001b[0m\u001b[0;34m(\u001b[0m\u001b[0;34m)\u001b[0m\u001b[0;34m,\u001b[0m\u001b[0;34m'time'\u001b[0m\u001b[0;34m)\u001b[0m\u001b[0;34m\u001b[0m\u001b[0m\n\u001b[0;32m----> 2\u001b[0;31m \u001b[0mdata_sent\u001b[0m \u001b[0;34m=\u001b[0m \u001b[0mdata_sent\u001b[0m\u001b[0;34m.\u001b[0m\u001b[0msortby\u001b[0m\u001b[0;34m(\u001b[0m\u001b[0;34m'time'\u001b[0m\u001b[0;34m)\u001b[0m\u001b[0;34m\u001b[0m\u001b[0m\n\u001b[0m\u001b[1;32m      3\u001b[0m \u001b[0mdata_sent\u001b[0m\u001b[0;34m.\u001b[0m\u001b[0mattrs\u001b[0m\u001b[0;34m[\u001b[0m\u001b[0;34m'crs'\u001b[0m\u001b[0;34m]\u001b[0m \u001b[0;34m=\u001b[0m \u001b[0mcrs\u001b[0m\u001b[0;34m\u001b[0m\u001b[0m\n\u001b[1;32m      4\u001b[0m \u001b[0mdata_sent\u001b[0m\u001b[0;34m.\u001b[0m\u001b[0mattrs\u001b[0m\u001b[0;34m[\u001b[0m\u001b[0;34m'affin|e'\u001b[0m\u001b[0;34m]\u001b[0m \u001b[0;34m=\u001b[0m \u001b[0maffine\u001b[0m\u001b[0;34m\u001b[0m\u001b[0m\n",
      "\u001b[0;32m/g/data/v10/public/modules/agdc-py3-env/20171214/envs/agdc/lib/python3.6/site-packages/xarray/core/dataset.py\u001b[0m in \u001b[0;36msortby\u001b[0;34m(self, variables, ascending)\u001b[0m\n\u001b[1;32m   3158\u001b[0m             \u001b[0morder\u001b[0m \u001b[0;34m=\u001b[0m \u001b[0mnp\u001b[0m\u001b[0;34m.\u001b[0m\u001b[0mlexsort\u001b[0m\u001b[0;34m(\u001b[0m\u001b[0mtuple\u001b[0m\u001b[0;34m(\u001b[0m\u001b[0mreversed\u001b[0m\u001b[0;34m(\u001b[0m\u001b[0marrays\u001b[0m\u001b[0;34m)\u001b[0m\u001b[0;34m)\u001b[0m\u001b[0;34m)\u001b[0m\u001b[0;34m\u001b[0m\u001b[0m\n\u001b[1;32m   3159\u001b[0m             \u001b[0mindices\u001b[0m\u001b[0;34m[\u001b[0m\u001b[0mkey\u001b[0m\u001b[0;34m]\u001b[0m \u001b[0;34m=\u001b[0m \u001b[0morder\u001b[0m \u001b[0;32mif\u001b[0m \u001b[0mascending\u001b[0m \u001b[0;32melse\u001b[0m \u001b[0morder\u001b[0m\u001b[0;34m[\u001b[0m\u001b[0;34m:\u001b[0m\u001b[0;34m:\u001b[0m\u001b[0;34m-\u001b[0m\u001b[0;36m1\u001b[0m\u001b[0;34m]\u001b[0m\u001b[0;34m\u001b[0m\u001b[0m\n\u001b[0;32m-> 3160\u001b[0;31m         \u001b[0;32mreturn\u001b[0m \u001b[0maligned_self\u001b[0m\u001b[0;34m.\u001b[0m\u001b[0misel\u001b[0m\u001b[0;34m(\u001b[0m\u001b[0;34m**\u001b[0m\u001b[0mindices\u001b[0m\u001b[0;34m)\u001b[0m\u001b[0;34m\u001b[0m\u001b[0m\n\u001b[0m\u001b[1;32m   3161\u001b[0m \u001b[0;34m\u001b[0m\u001b[0m\n\u001b[1;32m   3162\u001b[0m     def quantile(self, q, dim=None, interpolation='linear',\n",
      "\u001b[0;32m/g/data/v10/public/modules/agdc-py3-env/20171214/envs/agdc/lib/python3.6/site-packages/xarray/core/dataset.py\u001b[0m in \u001b[0;36misel\u001b[0;34m(self, drop, **indexers)\u001b[0m\n\u001b[1;32m   1363\u001b[0m         \u001b[0;32mfor\u001b[0m \u001b[0mname\u001b[0m\u001b[0;34m,\u001b[0m \u001b[0mvar\u001b[0m \u001b[0;32min\u001b[0m \u001b[0miteritems\u001b[0m\u001b[0;34m(\u001b[0m\u001b[0mself\u001b[0m\u001b[0;34m.\u001b[0m\u001b[0m_variables\u001b[0m\u001b[0;34m)\u001b[0m\u001b[0;34m:\u001b[0m\u001b[0;34m\u001b[0m\u001b[0m\n\u001b[1;32m   1364\u001b[0m             \u001b[0mvar_indexers\u001b[0m \u001b[0;34m=\u001b[0m \u001b[0;34m{\u001b[0m\u001b[0mk\u001b[0m\u001b[0;34m:\u001b[0m \u001b[0mv\u001b[0m \u001b[0;32mfor\u001b[0m \u001b[0mk\u001b[0m\u001b[0;34m,\u001b[0m \u001b[0mv\u001b[0m \u001b[0;32min\u001b[0m \u001b[0mindexers_list\u001b[0m \u001b[0;32mif\u001b[0m \u001b[0mk\u001b[0m \u001b[0;32min\u001b[0m \u001b[0mvar\u001b[0m\u001b[0;34m.\u001b[0m\u001b[0mdims\u001b[0m\u001b[0;34m}\u001b[0m\u001b[0;34m\u001b[0m\u001b[0m\n\u001b[0;32m-> 1365\u001b[0;31m             \u001b[0mnew_var\u001b[0m \u001b[0;34m=\u001b[0m \u001b[0mvar\u001b[0m\u001b[0;34m.\u001b[0m\u001b[0misel\u001b[0m\u001b[0;34m(\u001b[0m\u001b[0;34m**\u001b[0m\u001b[0mvar_indexers\u001b[0m\u001b[0;34m)\u001b[0m\u001b[0;34m\u001b[0m\u001b[0m\n\u001b[0m\u001b[1;32m   1366\u001b[0m             \u001b[0;32mif\u001b[0m \u001b[0;32mnot\u001b[0m \u001b[0;34m(\u001b[0m\u001b[0mdrop\u001b[0m \u001b[0;32mand\u001b[0m \u001b[0mname\u001b[0m \u001b[0;32min\u001b[0m \u001b[0mvar_indexers\u001b[0m\u001b[0;34m)\u001b[0m\u001b[0;34m:\u001b[0m\u001b[0;34m\u001b[0m\u001b[0m\n\u001b[1;32m   1367\u001b[0m                 \u001b[0mvariables\u001b[0m\u001b[0;34m[\u001b[0m\u001b[0mname\u001b[0m\u001b[0;34m]\u001b[0m \u001b[0;34m=\u001b[0m \u001b[0mnew_var\u001b[0m\u001b[0;34m\u001b[0m\u001b[0m\n",
      "\u001b[0;32m/g/data/v10/public/modules/agdc-py3-env/20171214/envs/agdc/lib/python3.6/site-packages/xarray/core/variable.py\u001b[0m in \u001b[0;36misel\u001b[0;34m(self, **indexers)\u001b[0m\n\u001b[1;32m    806\u001b[0m             \u001b[0;32mif\u001b[0m \u001b[0mdim\u001b[0m \u001b[0;32min\u001b[0m \u001b[0mindexers\u001b[0m\u001b[0;34m:\u001b[0m\u001b[0;34m\u001b[0m\u001b[0m\n\u001b[1;32m    807\u001b[0m                 \u001b[0mkey\u001b[0m\u001b[0;34m[\u001b[0m\u001b[0mi\u001b[0m\u001b[0;34m]\u001b[0m \u001b[0;34m=\u001b[0m \u001b[0mindexers\u001b[0m\u001b[0;34m[\u001b[0m\u001b[0mdim\u001b[0m\u001b[0;34m]\u001b[0m\u001b[0;34m\u001b[0m\u001b[0m\n\u001b[0;32m--> 808\u001b[0;31m         \u001b[0;32mreturn\u001b[0m \u001b[0mself\u001b[0m\u001b[0;34m[\u001b[0m\u001b[0mtuple\u001b[0m\u001b[0;34m(\u001b[0m\u001b[0mkey\u001b[0m\u001b[0;34m)\u001b[0m\u001b[0;34m]\u001b[0m\u001b[0;34m\u001b[0m\u001b[0m\n\u001b[0m\u001b[1;32m    809\u001b[0m \u001b[0;34m\u001b[0m\u001b[0m\n\u001b[1;32m    810\u001b[0m     \u001b[0;32mdef\u001b[0m \u001b[0msqueeze\u001b[0m\u001b[0;34m(\u001b[0m\u001b[0mself\u001b[0m\u001b[0;34m,\u001b[0m \u001b[0mdim\u001b[0m\u001b[0;34m=\u001b[0m\u001b[0;32mNone\u001b[0m\u001b[0;34m)\u001b[0m\u001b[0;34m:\u001b[0m\u001b[0;34m\u001b[0m\u001b[0m\n",
      "\u001b[0;32m/g/data/v10/public/modules/agdc-py3-env/20171214/envs/agdc/lib/python3.6/site-packages/xarray/core/variable.py\u001b[0m in \u001b[0;36m__getitem__\u001b[0;34m(self, key)\u001b[0m\n\u001b[1;32m    624\u001b[0m         \"\"\"\n\u001b[1;32m    625\u001b[0m         \u001b[0mdims\u001b[0m\u001b[0;34m,\u001b[0m \u001b[0mindex_tuple\u001b[0m\u001b[0;34m,\u001b[0m \u001b[0mnew_order\u001b[0m \u001b[0;34m=\u001b[0m \u001b[0mself\u001b[0m\u001b[0;34m.\u001b[0m\u001b[0m_broadcast_indexes\u001b[0m\u001b[0;34m(\u001b[0m\u001b[0mkey\u001b[0m\u001b[0;34m)\u001b[0m\u001b[0;34m\u001b[0m\u001b[0m\n\u001b[0;32m--> 626\u001b[0;31m         \u001b[0mdata\u001b[0m \u001b[0;34m=\u001b[0m \u001b[0mself\u001b[0m\u001b[0;34m.\u001b[0m\u001b[0m_indexable_data\u001b[0m\u001b[0;34m[\u001b[0m\u001b[0mindex_tuple\u001b[0m\u001b[0;34m]\u001b[0m\u001b[0;34m\u001b[0m\u001b[0m\n\u001b[0m\u001b[1;32m    627\u001b[0m         \u001b[0;32mif\u001b[0m \u001b[0mnew_order\u001b[0m\u001b[0;34m:\u001b[0m\u001b[0;34m\u001b[0m\u001b[0m\n\u001b[1;32m    628\u001b[0m             \u001b[0mdata\u001b[0m \u001b[0;34m=\u001b[0m \u001b[0mnp\u001b[0m\u001b[0;34m.\u001b[0m\u001b[0mmoveaxis\u001b[0m\u001b[0;34m(\u001b[0m\u001b[0mdata\u001b[0m\u001b[0;34m,\u001b[0m \u001b[0mrange\u001b[0m\u001b[0;34m(\u001b[0m\u001b[0mlen\u001b[0m\u001b[0;34m(\u001b[0m\u001b[0mnew_order\u001b[0m\u001b[0;34m)\u001b[0m\u001b[0;34m)\u001b[0m\u001b[0;34m,\u001b[0m \u001b[0mnew_order\u001b[0m\u001b[0;34m)\u001b[0m\u001b[0;34m\u001b[0m\u001b[0m\n",
      "\u001b[0;32m/g/data/v10/public/modules/agdc-py3-env/20171214/envs/agdc/lib/python3.6/site-packages/xarray/core/indexing.py\u001b[0m in \u001b[0;36m__getitem__\u001b[0;34m(self, key)\u001b[0m\n\u001b[1;32m    656\u001b[0m     \u001b[0;32mdef\u001b[0m \u001b[0m__getitem__\u001b[0m\u001b[0;34m(\u001b[0m\u001b[0mself\u001b[0m\u001b[0;34m,\u001b[0m \u001b[0mkey\u001b[0m\u001b[0;34m)\u001b[0m\u001b[0;34m:\u001b[0m\u001b[0;34m\u001b[0m\u001b[0m\n\u001b[1;32m    657\u001b[0m         \u001b[0marray\u001b[0m\u001b[0;34m,\u001b[0m \u001b[0mkey\u001b[0m \u001b[0;34m=\u001b[0m \u001b[0mself\u001b[0m\u001b[0;34m.\u001b[0m\u001b[0m_indexing_array_and_key\u001b[0m\u001b[0;34m(\u001b[0m\u001b[0mkey\u001b[0m\u001b[0;34m)\u001b[0m\u001b[0;34m\u001b[0m\u001b[0m\n\u001b[0;32m--> 658\u001b[0;31m         \u001b[0;32mreturn\u001b[0m \u001b[0mself\u001b[0m\u001b[0;34m.\u001b[0m\u001b[0m_ensure_ndarray\u001b[0m\u001b[0;34m(\u001b[0m\u001b[0marray\u001b[0m\u001b[0;34m[\u001b[0m\u001b[0mkey\u001b[0m\u001b[0;34m]\u001b[0m\u001b[0;34m)\u001b[0m\u001b[0;34m\u001b[0m\u001b[0m\n\u001b[0m\u001b[1;32m    659\u001b[0m \u001b[0;34m\u001b[0m\u001b[0m\n\u001b[1;32m    660\u001b[0m     \u001b[0;32mdef\u001b[0m \u001b[0m__setitem__\u001b[0m\u001b[0;34m(\u001b[0m\u001b[0mself\u001b[0m\u001b[0;34m,\u001b[0m \u001b[0mkey\u001b[0m\u001b[0;34m,\u001b[0m \u001b[0mvalue\u001b[0m\u001b[0;34m)\u001b[0m\u001b[0;34m:\u001b[0m\u001b[0;34m\u001b[0m\u001b[0m\n",
      "\u001b[0;31mMemoryError\u001b[0m: "
     ]
    }
   ],
   "source": [
    "data_sent = xr.concat(data_sent.values(),'time')\n",
    "data_sent = data_sent.sortby('time')\n",
    "data_sent.attrs['crs'] = crs\n",
    "data_sent.attrs['affin|e'] = affine"
   ]
  },
  {
   "cell_type": "code",
   "execution_count": null,
   "metadata": {},
   "outputs": [],
   "source": [
    "data_sent"
   ]
  },
  {
   "cell_type": "code",
   "execution_count": null,
   "metadata": {},
   "outputs": [],
   "source": [
    "threeBandImage(data_sent, bands = ['red', 'green', 'blue'], time = 1)"
   ]
  },
  {
   "cell_type": "code",
   "execution_count": null,
   "metadata": {},
   "outputs": [],
   "source": []
  },
  {
   "cell_type": "code",
   "execution_count": null,
   "metadata": {},
   "outputs": [],
   "source": []
  },
  {
   "cell_type": "code",
   "execution_count": null,
   "metadata": {},
   "outputs": [],
   "source": [
    "# this quiery retreives our data request entered in above cell\n",
    "dc = datacube.Datacube()\n",
    "query_ls = {\n",
    "        'lat': (-30.655, -30.800),\n",
    "        'lon': (144.802, 145.000),\n",
    "        'output_crs': 'EPSG:3577',\n",
    "        'resolution': (-25, 25),\n",
    "        'time':('2017-05-01', '2017-07-30')\n",
    "        }\n",
    "            \n",
    "#this by defalt loads landsat 8 nbart albers data, print 'dc.list_products()' to see all avalible producst \n",
    "\n",
    "data_LS = dc.load(product='ls8_nbart_albers', group_by='solar_day', **query_ls)\n",
    "\n",
    "data_LS"
   ]
  },
  {
   "cell_type": "code",
   "execution_count": null,
   "metadata": {},
   "outputs": [],
   "source": [
    "threeBandImage(data_LS, bands = ['red', 'green', 'blue'], time = 1)"
   ]
  },
  {
   "cell_type": "code",
   "execution_count": null,
   "metadata": {},
   "outputs": [],
   "source": [
    "sentinal_data =\n"
   ]
  },
  {
   "cell_type": "code",
   "execution_count": null,
   "metadata": {},
   "outputs": [],
   "source": []
  },
  {
   "cell_type": "code",
   "execution_count": null,
   "metadata": {},
   "outputs": [],
   "source": [
    "\n"
   ]
  },
  {
   "cell_type": "code",
   "execution_count": null,
   "metadata": {},
   "outputs": [],
   "source": []
  },
  {
   "cell_type": "code",
   "execution_count": null,
   "metadata": {},
   "outputs": [],
   "source": []
  },
  {
   "cell_type": "code",
   "execution_count": null,
   "metadata": {},
   "outputs": [],
   "source": []
  },
  {
   "cell_type": "code",
   "execution_count": null,
   "metadata": {},
   "outputs": [],
   "source": [
    "threeBandImage(clear_data, bands = ['red', 'green', 'blue'], time = 3)"
   ]
  },
  {
   "cell_type": "code",
   "execution_count": null,
   "metadata": {},
   "outputs": [],
   "source": [
    "import numpy as np"
   ]
  },
  {
   "cell_type": "code",
   "execution_count": null,
   "metadata": {},
   "outputs": [],
   "source": []
  }
 ],
 "metadata": {
  "kernelspec": {
   "display_name": "Python 3",
   "language": "python",
   "name": "python3"
  },
  "language_info": {
   "codemirror_mode": {
    "name": "ipython",
    "version": 3
   },
   "file_extension": ".py",
   "mimetype": "text/x-python",
   "name": "python",
   "nbconvert_exporter": "python",
   "pygments_lexer": "ipython3",
   "version": "3.6.3"
  }
 },
 "nbformat": 4,
 "nbformat_minor": 2
}
