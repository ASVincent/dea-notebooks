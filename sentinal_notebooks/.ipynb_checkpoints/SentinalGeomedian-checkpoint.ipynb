{
 "cells": [
  {
   "cell_type": "markdown",
   "metadata": {},
   "source": [
    "# Sentinal2Geomedian\n",
    "\n",
    "**what does this notebook do?** this notebook builds on the **GettingStartedWithSentinel2** notebook; it ueses a loop to load data from sentinal 2 A and B over a set period of time, for a set area and concatinates them together. The data is then cast to float format and used to calculate the geomedian for the selected time range. visible light bands are then plotted at a tre colour image. "
   ]
  },
  {
   "cell_type": "markdown",
   "metadata": {},
   "source": [
    "**Tags**\n",
    "`Sentinel2`, `products`, `GeoMedian`, `threeBandImage`, `dc.load`, `query`, `beginner`, `plot`, `image`,"
   ]
  },
  {
   "cell_type": "markdown",
   "metadata": {},
   "source": [
    "**Please Note when you start your VDI session you need to module add the `agdc_statistics` module after `dea-prod` to be able to import `datacube_stats`**"
   ]
  },
  {
   "cell_type": "code",
   "execution_count": 1,
   "metadata": {},
   "outputs": [
    {
     "name": "stdout",
     "output_type": "stream",
     "text": [
      "Populating the interactive namespace from numpy and matplotlib\n"
     ]
    }
   ],
   "source": [
    "% pylab notebook\n",
    "import datacube\n",
    "from datacube.storage import masking\n",
    "from datacube import Datacube\n",
    "from datetime import datetime\n",
    "from skimage import exposure\n",
    "\n",
    "from datacube_stats.statistics import GeoMedian\n",
    "from matplotlib import pyplot as plt\n",
    "import numpy as np\n",
    "import pandas as pd\n",
    "import xarray as xr\n",
    "\n",
    "import datacube_stats\n",
    "\n",
    "# Replace '156' and 'cek156' with the path to your own home directory on the VDI\n",
    "s2aws = Datacube(config='/home/547/ck9738/datacube-s2.conf')"
   ]
  },
  {
   "cell_type": "code",
   "execution_count": null,
   "metadata": {},
   "outputs": [],
   "source": [
    "#set up peramiters for data loading\n",
    "\n",
    "sensors= ['s2a_ard_granule', 's2b_ard_granule'] #pick the sentinal satelites you want\n",
    "\n",
    "bands_of_int =['red','blue','green'] #pick the sentinal bands that you want, here i am just using visible light  \n",
    "\n",
    "query = {\n",
    "        'lat': (-30.755, -30.800),\n",
    "        'lon': (144.902, 145.000),\n",
    "        'output_crs': 'EPSG:3577',\n",
    "        'resolution': (-10, 10),\n",
    "        'time':('2017-01-01', '2018-01-30')\n",
    "        }\n",
    "# use s2b_ard_granule \t for S2B\n",
    "#data = s2aws.load(product='s2a_ard_granule', group_by='solar_day', **query)"
   ]
  },
  {
   "cell_type": "code",
   "execution_count": null,
   "metadata": {},
   "outputs": [],
   "source": [
    "data_sent = {}\n",
    "\n",
    "for i in sensors:\n",
    "    this_sensor = s2aws.load(product= i, measurements=bands_of_int, group_by='solar_day', **query)\n",
    "    \n",
    "    #retreive projection infromation\n",
    "    crs = this_sensor.crs\n",
    "    crswkt = this_sensor.crs.wkt\n",
    "    affine = this_sensor.affine\n",
    "    \n",
    "    #make a mask for full timeseries// if you aren't using a geomedian you may want this, but we don't need it\n",
    "    #clear_pixels = this_sensor.pixel_quality == 1\n",
    "    #clear_data = this_sensor.where(clear_pixels)\n",
    "    \n",
    "    data_sent[i] = this_sensor"
   ]
  },
  {
   "cell_type": "code",
   "execution_count": null,
   "metadata": {},
   "outputs": [],
   "source": [
    "#look at the data \n",
    "data_sent"
   ]
  },
  {
   "cell_type": "code",
   "execution_count": null,
   "metadata": {},
   "outputs": [],
   "source": [
    "#concatinate all of the sentinal data together into one xarray, ordered by time \n",
    "\n",
    "data_sent = xr.concat(data_sent.values(),'time')\n",
    "data_sent = data_sent.sortby('time')\n",
    "data_sent.attrs['crs'] = crs\n",
    "data_sent.attrs['affin|e'] = affine\n"
   ]
  },
  {
   "cell_type": "code",
   "execution_count": null,
   "metadata": {},
   "outputs": [],
   "source": [
    "data_sent"
   ]
  },
  {
   "cell_type": "code",
   "execution_count": null,
   "metadata": {},
   "outputs": [],
   "source": [
    "#cast the data to float numbers so geomedian calculation will work\n",
    "data_sent_flt = data_sent.astype(float,casting='safe')"
   ]
  },
  {
   "cell_type": "code",
   "execution_count": null,
   "metadata": {},
   "outputs": [],
   "source": [
    "#have a look at the data, you can see it's now in float format\n",
    "data_sent_flt "
   ]
  },
  {
   "cell_type": "code",
   "execution_count": null,
   "metadata": {},
   "outputs": [],
   "source": [
    "#create geomedian for data\n",
    "Sentinal_gm=GeoMedian().compute(data_sent_flt)"
   ]
  },
  {
   "cell_type": "code",
   "execution_count": null,
   "metadata": {},
   "outputs": [],
   "source": [
    "#have a look at the geomedian data\n",
    "Sentinal_gm"
   ]
  },
  {
   "cell_type": "code",
   "execution_count": null,
   "metadata": {},
   "outputs": [],
   "source": [
    "#Prepare geomedian imagery for plotting\n",
    "\n",
    "rgb = Sentinal_gm.to_array(dim='color').sel(color=[\n",
    "    'red','green', 'blue']).transpose('y', 'x', 'color')\n",
    "fake_saturation = 2000.0  #you may need to adjust this to get a clear image. higher numbers will make it darker, \n",
    "                                                                            #lower will make it ligher\n",
    "rgb = rgb.astype('double')\n",
    "clipped_visible = rgb.where(rgb<fake_saturation).fillna(fake_saturation)\n",
    "max_val = clipped_visible.max(['y', 'x'])\n",
    "scaled = (clipped_visible / max_val)"
   ]
  },
  {
   "cell_type": "code",
   "execution_count": null,
   "metadata": {
    "scrolled": false
   },
   "outputs": [],
   "source": [
    "fig = plt.figure(figsize =(8,8)) #edit size of plot \n",
    "plt.subplots_adjust(left=0.05, right=0.95, top=0.95, bottom=0.05) #set border dimensions\n",
    "fig.patch.set_facecolor('white') #make border white \n",
    "fig.patch.set_alpha(0.99)#ensure border white\n",
    "plt.axis('off')#remove axis \n",
    "plt.title('geomedian of selected area') #add title\n",
    "plt.imshow(scaled, interpolation = 'nearest') #create image"
   ]
  },
  {
   "cell_type": "code",
   "execution_count": null,
   "metadata": {},
   "outputs": [],
   "source": []
  },
  {
   "cell_type": "code",
   "execution_count": null,
   "metadata": {},
   "outputs": [],
   "source": []
  },
  {
   "cell_type": "code",
   "execution_count": null,
   "metadata": {},
   "outputs": [],
   "source": []
  },
  {
   "cell_type": "code",
   "execution_count": null,
   "metadata": {},
   "outputs": [],
   "source": []
  },
  {
   "cell_type": "code",
   "execution_count": null,
   "metadata": {},
   "outputs": [],
   "source": []
  },
  {
   "cell_type": "code",
   "execution_count": null,
   "metadata": {},
   "outputs": [],
   "source": []
  },
  {
   "cell_type": "code",
   "execution_count": null,
   "metadata": {},
   "outputs": [],
   "source": []
  },
  {
   "cell_type": "code",
   "execution_count": null,
   "metadata": {},
   "outputs": [],
   "source": []
  },
  {
   "cell_type": "code",
   "execution_count": null,
   "metadata": {},
   "outputs": [],
   "source": []
  }
 ],
 "metadata": {
  "kernelspec": {
   "display_name": "Python 3",
   "language": "python",
   "name": "python3"
  },
  "language_info": {
   "codemirror_mode": {
    "name": "ipython",
    "version": 3
   },
   "file_extension": ".py",
   "mimetype": "text/x-python",
   "name": "python",
   "nbconvert_exporter": "python",
   "pygments_lexer": "ipython3",
   "version": "3.6.3"
  }
 },
 "nbformat": 4,
 "nbformat_minor": 2
}
