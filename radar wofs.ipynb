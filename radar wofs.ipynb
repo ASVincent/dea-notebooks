{
 "cells": [
  {
   "cell_type": "markdown",
   "metadata": {},
   "source": [
    "# Radar Water Observations\n",
    "\n",
    "First step is just configuration to access radar and wofs data."
   ]
  },
  {
   "cell_type": "code",
   "execution_count": 2,
   "metadata": {},
   "outputs": [],
   "source": [
    "%%bash\n",
    "cat > radar.datacube << EOF\n",
    "[default]\n",
    "db_hostname: agdcdev-db.nci.org.au\n",
    "db_port: 6432\n",
    "db_database: radar\n",
    "EOF"
   ]
  },
  {
   "cell_type": "code",
   "execution_count": null,
   "metadata": {},
   "outputs": [],
   "source": [
    "import datacube\n",
    "import pytz\n",
    "import functools\n",
    "import digitalearthau.utils\n",
    "import numpy as np\n",
    "\n",
    "def localdate(ds, tz=pytz.timezone('Australia/Sydney')):\n",
    "    \"\"\"Extract date string, for local timezone, from dataset record\"\"\"\n",
    "    return str(ds.time.begin.replace(tzinfo=pytz.timezone('UTC')).astimezone(tz))[:10]"
   ]
  },
  {
   "cell_type": "markdown",
   "metadata": {},
   "source": [
    "We will build up a container for managing an observation."
   ]
  },
  {
   "cell_type": "code",
   "execution_count": 25,
   "metadata": {},
   "outputs": [
    {
     "name": "stdout",
     "output_type": "stream",
     "text": [
      "2433\n"
     ]
    },
    {
     "data": {
      "text/plain": [
       "[<2016-12-15>, <2016-12-10>, <2016-12-22>, <2016-12-03>, <2017-04-03>]"
      ]
     },
     "execution_count": 25,
     "metadata": {},
     "output_type": "execute_result"
    }
   ],
   "source": [
    "class comparison:\n",
    "    dc = {'wofs': datacube.Datacube(),\n",
    "          'sar': datacube.Datacube(config='radar.datacube')}\n",
    "    @classmethod\n",
    "    def list_all(cls):\n",
    "        \"\"\"Returns list of all potential comparison instances\"\"\"\n",
    "        return [cls(i) for i in cls.dc['sar'].find_datasets(product='s1_gamma0_scene')]\n",
    "    def __init__(self, dataset_record):\n",
    "        self.ds = dataset_record\n",
    "        self.date = localdate(dataset_record)\n",
    "    def __repr__(self):\n",
    "        return '<' + self.date + '>'\n",
    "\n",
    "x = comparison.list_all()\n",
    "print(len(x))\n",
    "x[:5]"
   ]
  },
  {
   "cell_type": "markdown",
   "metadata": {},
   "source": [
    "Note that no grouping/fusing of radar images is occuring. TODO: This should be changed to ensure no pixels are double-counted, and will then need to switch to a grid workflow (rather than trying to fit an entire contiguous satellite pass into memory). As an initial prototype, it is simpler to just use the relatively few radar scenes as the unit of processing.\n",
    "\n",
    "For now, just want to check for potential overlapping wofs scenes."
   ]
  },
  {
   "cell_type": "code",
   "execution_count": 39,
   "metadata": {},
   "outputs": [],
   "source": [
    "@functools.lru_cache(maxsize=None)\n",
    "def f(self):\n",
    "    \"\"\"Search index for WOFS observations that potentially overlap the SAR observations\"\"\"\n",
    "    return self.dc['wofs'].find_datasets(product=\"wofs_albers\", geopolygon=self.ds.extent, time=self.date)\n",
    "comparison.wofs_datasets = f"
   ]
  },
  {
   "cell_type": "code",
   "execution_count": 45,
   "metadata": {},
   "outputs": [
    {
     "data": {
      "text/plain": [
       "802"
      ]
     },
     "execution_count": 45,
     "metadata": {},
     "output_type": "execute_result"
    }
   ],
   "source": [
    "x2 = [i for i in x if i.wofs_datasets()]\n",
    "len(x2)"
   ]
  },
  {
   "cell_type": "markdown",
   "metadata": {},
   "source": [
    "It looks as though only a third of radar observations can potentially be paired with landsat observations, under the same-day constraint. Note there are more sophisticated constraints that could be considered instead, such as longer time-windows or even temporal brackets. However, same-day is fast to prototype with.\n",
    "\n",
    "Next need to actually load the data, to determine whether datasets have overlapping valid pixels."
   ]
  },
  {
   "cell_type": "code",
   "execution_count": 53,
   "metadata": {},
   "outputs": [],
   "source": [
    "def f(self):\n",
    "    \"\"\"Retrieve full raster data\"\"\"\n",
    "    radar = self.dc['sar'].load(product='s1_gamma0_scene', datasets=[self.ds], \n",
    "                                output_crs='epsg:3577', resolution=(25,-25))\n",
    "    assert len(radar.time) == 1\n",
    "    wofs = self.dc['wofs'].load(product='wofs_albers', datasets=self.wofs_datasets(), like=radar,\n",
    "                                group_by='solar_day', fuse_func=digitalearthau.utils.wofs_fuser)\n",
    "    assert len(wofs.time) == 1    \n",
    "    \n",
    "    return radar.isel(time=0), wofs.isel(time=0)\n",
    "comparison.load = f\n",
    "\n",
    "def f(self):\n",
    "    \"\"\"Extract and categorise comparable pixels\"\"\"\n",
    "    radar, wofs = self.load()\n",
    "\n",
    "    wet = wofs.water == 128\n",
    "    dry = wofs.water == 0\n",
    "    clear = wet | dry\n",
    "\n",
    "    validradar = (radar.vv > 0) & (radar.vh > 0)\n",
    "\n",
    "    overlap = clear & validradar\n",
    "    self.overlap = overlap.data.sum()\n",
    "\n",
    "    if self.overlap:\n",
    "        def extract(subset):\n",
    "            vv = radar.vv.values.ravel()[subset.values.ravel()]\n",
    "            vh = radar.vh.values.ravel()[subset.values.ravel()]\n",
    "            return vv, vh\n",
    "        self.wet_vv, self.wet_vh = extract(wet & overlap)\n",
    "        self.dry_vv, self.dry_vh = extract(dry & overlap)\n",
    "    return self.overlap\n",
    "comparison.overlay = f"
   ]
  },
  {
   "cell_type": "code",
   "execution_count": 54,
   "metadata": {},
   "outputs": [
    {
     "data": {
      "text/plain": [
       "6379563"
      ]
     },
     "execution_count": 54,
     "metadata": {},
     "output_type": "execute_result"
    }
   ],
   "source": [
    "x2[0].overlay()"
   ]
  },
  {
   "cell_type": "code",
   "execution_count": 63,
   "metadata": {},
   "outputs": [
    {
     "ename": "AssertionError",
     "evalue": "",
     "output_type": "error",
     "traceback": [
      "\u001b[0;31m---------------------------------------------------------------------------\u001b[0m",
      "\u001b[0;31mAssertionError\u001b[0m                            Traceback (most recent call last)",
      "\u001b[0;32m<ipython-input-63-fb55c0463452>\u001b[0m in \u001b[0;36m<module>\u001b[0;34m\u001b[0m\n\u001b[0;32m----> 1\u001b[0;31m \u001b[0mx3\u001b[0m \u001b[0;34m=\u001b[0m \u001b[0;34m[\u001b[0m\u001b[0mi\u001b[0m \u001b[0;32mfor\u001b[0m \u001b[0mi\u001b[0m \u001b[0;32min\u001b[0m \u001b[0mx2\u001b[0m \u001b[0;32mif\u001b[0m \u001b[0mi\u001b[0m\u001b[0;34m.\u001b[0m\u001b[0moverlay\u001b[0m\u001b[0;34m(\u001b[0m\u001b[0;34m)\u001b[0m\u001b[0;34m]\u001b[0m\u001b[0;34m\u001b[0m\u001b[0m\n\u001b[0m",
      "\u001b[0;32m<ipython-input-63-fb55c0463452>\u001b[0m in \u001b[0;36m<listcomp>\u001b[0;34m(.0)\u001b[0m\n\u001b[0;32m----> 1\u001b[0;31m \u001b[0mx3\u001b[0m \u001b[0;34m=\u001b[0m \u001b[0;34m[\u001b[0m\u001b[0mi\u001b[0m \u001b[0;32mfor\u001b[0m \u001b[0mi\u001b[0m \u001b[0;32min\u001b[0m \u001b[0mx2\u001b[0m \u001b[0;32mif\u001b[0m \u001b[0mi\u001b[0m\u001b[0;34m.\u001b[0m\u001b[0moverlay\u001b[0m\u001b[0;34m(\u001b[0m\u001b[0;34m)\u001b[0m\u001b[0;34m]\u001b[0m\u001b[0;34m\u001b[0m\u001b[0m\n\u001b[0m",
      "\u001b[0;32m<ipython-input-53-5e7aacbd9ad0>\u001b[0m in \u001b[0;36mf\u001b[0;34m(self)\u001b[0m\n\u001b[1;32m     13\u001b[0m \u001b[0;32mdef\u001b[0m \u001b[0mf\u001b[0m\u001b[0;34m(\u001b[0m\u001b[0mself\u001b[0m\u001b[0;34m)\u001b[0m\u001b[0;34m:\u001b[0m\u001b[0;34m\u001b[0m\u001b[0m\n\u001b[1;32m     14\u001b[0m     \u001b[0;34m\"\"\"Extract and categorise comparable pixels\"\"\"\u001b[0m\u001b[0;34m\u001b[0m\u001b[0m\n\u001b[0;32m---> 15\u001b[0;31m     \u001b[0mradar\u001b[0m\u001b[0;34m,\u001b[0m \u001b[0mwofs\u001b[0m \u001b[0;34m=\u001b[0m \u001b[0mself\u001b[0m\u001b[0;34m.\u001b[0m\u001b[0mload\u001b[0m\u001b[0;34m(\u001b[0m\u001b[0;34m)\u001b[0m\u001b[0;34m\u001b[0m\u001b[0m\n\u001b[0m\u001b[1;32m     16\u001b[0m \u001b[0;34m\u001b[0m\u001b[0m\n\u001b[1;32m     17\u001b[0m     \u001b[0mwet\u001b[0m \u001b[0;34m=\u001b[0m \u001b[0mwofs\u001b[0m\u001b[0;34m.\u001b[0m\u001b[0mwater\u001b[0m \u001b[0;34m==\u001b[0m \u001b[0;36m128\u001b[0m\u001b[0;34m\u001b[0m\u001b[0m\n",
      "\u001b[0;32m<ipython-input-53-5e7aacbd9ad0>\u001b[0m in \u001b[0;36mf\u001b[0;34m(self)\u001b[0m\n\u001b[1;32m      6\u001b[0m     wofs = self.dc['wofs'].load(product='wofs_albers', datasets=self.wofs_datasets(), like=radar,\n\u001b[1;32m      7\u001b[0m                                 group_by='solar_day', fuse_func=digitalearthau.utils.wofs_fuser)\n\u001b[0;32m----> 8\u001b[0;31m     \u001b[0;32massert\u001b[0m \u001b[0mlen\u001b[0m\u001b[0;34m(\u001b[0m\u001b[0mwofs\u001b[0m\u001b[0;34m.\u001b[0m\u001b[0mtime\u001b[0m\u001b[0;34m)\u001b[0m \u001b[0;34m==\u001b[0m \u001b[0;36m1\u001b[0m\u001b[0;34m\u001b[0m\u001b[0m\n\u001b[0m\u001b[1;32m      9\u001b[0m \u001b[0;34m\u001b[0m\u001b[0m\n\u001b[1;32m     10\u001b[0m     \u001b[0;32mreturn\u001b[0m \u001b[0mradar\u001b[0m\u001b[0;34m.\u001b[0m\u001b[0misel\u001b[0m\u001b[0;34m(\u001b[0m\u001b[0mtime\u001b[0m\u001b[0;34m=\u001b[0m\u001b[0;36m0\u001b[0m\u001b[0;34m)\u001b[0m\u001b[0;34m,\u001b[0m \u001b[0mwofs\u001b[0m\u001b[0;34m.\u001b[0m\u001b[0misel\u001b[0m\u001b[0;34m(\u001b[0m\u001b[0mtime\u001b[0m\u001b[0;34m=\u001b[0m\u001b[0;36m0\u001b[0m\u001b[0;34m)\u001b[0m\u001b[0;34m\u001b[0m\u001b[0m\n",
      "\u001b[0;31mAssertionError\u001b[0m: "
     ]
    }
   ],
   "source": [
    "x3 = [i for i in x2 if i.overlay()]"
   ]
  },
  {
   "cell_type": "code",
   "execution_count": null,
   "metadata": {},
   "outputs": [],
   "source": [
    "len(x3)"
   ]
  },
  {
   "cell_type": "markdown",
   "metadata": {},
   "source": [
    "At this point all of the relevant data is available. It is useful now to aggregate before analysis.\n",
    "\n",
    "Note, it would also have been an option to coarsely bin the measurement data at an earlier stage, to limit memory consumption.\n",
    "\n",
    "A key point is that the relationship between polarisation bands is preserved. (This would require two-dimensional binning.)"
   ]
  },
  {
   "cell_type": "code",
   "execution_count": null,
   "metadata": {},
   "outputs": [],
   "source": [
    "wet_vv = np.concatenate([i.wet_vv for i in x3])\n",
    "wet_vh = np.concatenate([i.wet_vh for i in x3])\n",
    "dry_vv = np.concatenate([i.dry_vv for i in x3])\n",
    "dry_vh = np.concatenate([i.dry_vh for i in x3])"
   ]
  },
  {
   "cell_type": "markdown",
   "metadata": {},
   "source": [
    "Analysis will begin with visualising how the radar signal distributions depend on the wofs category."
   ]
  },
  {
   "cell_type": "code",
   "execution_count": null,
   "metadata": {},
   "outputs": [],
   "source": []
  },
  {
   "cell_type": "code",
   "execution_count": null,
   "metadata": {},
   "outputs": [],
   "source": []
  }
 ],
 "metadata": {
  "kernelspec": {
   "display_name": "Python [default]",
   "language": "python",
   "name": "python3"
  },
  "language_info": {
   "codemirror_mode": {
    "name": "ipython",
    "version": 3
   },
   "file_extension": ".py",
   "mimetype": "text/x-python",
   "name": "python",
   "nbconvert_exporter": "python",
   "pygments_lexer": "ipython3",
   "version": "3.6.6"
  }
 },
 "nbformat": 4,
 "nbformat_minor": 2
}
