{
 "cells": [
  {
   "cell_type": "markdown",
   "metadata": {},
   "source": [
    "# United Nations Sustainable Development Goal Indicator 6.6.1 : Water-related ecoystems\n",
    "\n",
    "__Background:__ The United Nations Sustainable Development Goals include Target 6.6.1 : By 2020 protect and restore water-related ecosystems, including mountains, forests, wetlands, rivers, acquifers and lakes ([Indicator 6.6.1 : Change in the extent of water-related ecosystems over time](http://www.unwater.org/app/uploads/2018/05/Step-by-step-methodology-6-6-1_Revision-2018-03-02_Final.pdf)). This notebook demonstrates a workflow for calculating the change in vegetated wetlands and open waterbodies, a component of 6.6.1.  \n",
    "\n",
    "\n",
    "__Requirements:__ You need to run the following commands from the command line prior to launching jupyter notebooks from the same terminal so that the required libraries and paths are set:\n",
    "\n",
    "`module use /g/data/v10/public/modules/modulefiles` \n",
    "\n",
    "`module load dea`\n",
    "\n",
    "If you find an error or bug in this notebook, please either create an `issue` in the Github repository, or fix it yourself and create a `pull request` to contribute the updated notebook back into the repository (See the repository [README](https://github.com/GeoscienceAustralia/dea-notebooks/blob/master/README.rst) for instructions on creating a pull request).\n",
    "\n",
    "**Date:** November 2018\n",
    "\n",
    "**Authors:** Bex Dunn, Robbi Bishop-Taylor, Sebastian Wong, Andrew Lem, Duncan Gray"
   ]
  },
  {
   "cell_type": "markdown",
   "metadata": {},
   "source": [
    "### Import modules"
   ]
  },
  {
   "cell_type": "code",
   "execution_count": 1,
   "metadata": {
    "ExecuteTime": {
     "end_time": "2018-11-13T03:20:55.328409Z",
     "start_time": "2018-11-13T03:20:39.329552Z"
    }
   },
   "outputs": [],
   "source": [
    "import datacube\n",
    "import geopandas as gpd\n",
    "import numpy as np\n",
    "import rasterio.mask\n",
    "import rasterio.features\n",
    "from shapely import geometry\n",
    "import matplotlib.pyplot as plt\n",
    "import sys\n",
    "import xarray as xr\n",
    "import numpy as np\n",
    "import datetime\n",
    "import pandas as pd\n",
    "\n",
    "#These are dea-notebooks scripts https://github.com/GeoscienceAustralia/dea-notebooks\n",
    "sys.path.append('../10_Scripts')\n",
    "import DEADataHandling, DEAPlotting, TasseledCapTools, SpatialTools\n",
    "\n",
    "dc = datacube.Datacube(app='tci and wofs')\n",
    "\n",
    "%load_ext autoreload\n",
    "\n",
    "%autoreload 2"
   ]
  },
  {
   "cell_type": "markdown",
   "metadata": {},
   "source": [
    "### Import the coastline mask for removing open ocean from our dataset\n",
    "Use the `GEODATA COAST 100K 2004` dataset (https://data.gov.au/dataset/geodata-coast-100k-2004) as a coarse approximation of the mean high water coastline to remove ocean from water layers\n",
    "This is the mean high water mark (?)"
   ]
  },
  {
   "cell_type": "code",
   "execution_count": 2,
   "metadata": {
    "ExecuteTime": {
     "end_time": "2018-11-13T03:21:21.308579Z",
     "start_time": "2018-11-13T03:21:10.968791Z"
    }
   },
   "outputs": [
    {
     "data": {
      "text/plain": [
       "<matplotlib.axes._subplots.AxesSubplot at 0x7f1549691cc0>"
      ]
     },
     "execution_count": 2,
     "metadata": {},
     "output_type": "execute_result"
    },
    {
     "data": {
      "text/plain": [
       "<Figure size 432x288 with 0 Axes>"
      ]
     },
     "metadata": {},
     "output_type": "display_data"
    },
    {
     "data": {
      "image/png": "[encoded data removed]",
      "text/plain": [
       "<Figure size 432x288 with 1 Axes>"
      ]
     },
     "metadata": {
      "needs_background": "light"
     },
     "output_type": "display_data"
    }
   ],
   "source": [
    "coastline_gpd = gpd.read_file('/g/data/r78/rt1527/datasets/Coastlines/australia/cstauscd_r.shp')\n",
    "coastline_gpd = coastline_gpd.to_crs({'init': 'epsg:3577'})\n",
    "coastline_gpd = coastline_gpd[(coastline_gpd.FEAT_CODE == 'island') | (coastline_gpd.FEAT_CODE == 'mainland')]\n",
    "plt.clf()\n",
    "coastline_gpd.plot()"
   ]
  },
  {
   "cell_type": "markdown",
   "metadata": {},
   "source": [
    "### Load WOfS to get extent of open water\n",
    "We have four test areas available in this notebook.\n",
    "The areas are the Coorong/Murray Mouth, Mangroves in North-East QLD, Arafura swamp, and Menindee Lakes"
   ]
  },
  {
   "cell_type": "code",
   "execution_count": 3,
   "metadata": {
    "ExecuteTime": {
     "end_time": "2018-11-13T03:21:31.828711Z",
     "start_time": "2018-11-13T03:21:21.311127Z"
    }
   },
   "outputs": [],
   "source": [
    "resolution = 50\n",
    "\n",
    "# ## Mangrove site\n",
    "# query = dict(x=(149.84, 150.05),\n",
    "#          y=(-22.14, -22.38),\n",
    "#          resolution=(-resolution, resolution),\n",
    "#          output_crs='EPSG:3577',\n",
    "#          time=('2013-01-01', '2014-12-31'))\n",
    "\n",
    "# ## Coorong\n",
    "query = dict(x=(138.75, 139.03), \n",
    "             y=(-35.41, -35.59),\n",
    "             resolution=(-resolution, resolution),\n",
    "             output_crs='EPSG:3577',\n",
    "             time=('2001-01-01', '2019-01-01'))\n",
    "\n",
    "# # Menindee\n",
    "# query = dict(x=(143.92, 144.14), \n",
    "#              y=(-31.35, -31.53), \n",
    "#              resolution=(-resolution, resolution),\n",
    "#              output_crs='EPSG:3577',\n",
    "# #              time=('2001-01-01', '2017-12-31'))\n",
    "\n",
    "# # Arafura swamp\n",
    "# query = dict(x=(134.867839, 135.251071), \n",
    "#              y=(-12.430335, -12.729316), \n",
    "#              resolution=(-resolution, resolution),\n",
    "#              output_crs='EPSG:3577',\n",
    "#              time=('2001-01-01', '2017-12-31'))\n",
    "\n",
    "# # Mangroves\n",
    "wofs_ds = dc.load(product='wofs_annual_summary', **query)\n",
    "\n",
    "# Set nodata\n",
    "wofs_ds = wofs_ds.where(wofs_ds.frequency != -1)\n"
   ]
  },
  {
   "cell_type": "markdown",
   "metadata": {},
   "source": [
    "### Use the coastline to mask out the open ocean"
   ]
  },
  {
   "cell_type": "code",
   "execution_count": 4,
   "metadata": {
    "ExecuteTime": {
     "end_time": "2018-11-13T03:21:33.739735Z",
     "start_time": "2018-11-13T03:21:31.834427Z"
    }
   },
   "outputs": [],
   "source": [
    "# Create shoreline mask\n",
    "coastline_mask = rasterio.features.geometry_mask(coastline_gpd.geometry,\n",
    "                                                 out_shape=wofs_ds.geobox.shape,\n",
    "                                                 transform=wofs_ds.geobox.affine,\n",
    "                                                 all_touched=False, invert=True)"
   ]
  },
  {
   "cell_type": "markdown",
   "metadata": {},
   "source": [
    "### Plot permanent water "
   ]
  },
  {
   "cell_type": "code",
   "execution_count": null,
   "metadata": {
    "ExecuteTime": {
     "start_time": "2018-11-13T03:21:19.081Z"
    }
   },
   "outputs": [
    {
     "data": {
      "text/plain": [
       "<matplotlib.collections.QuadMesh at 0x7f1549b5fa58>"
      ]
     },
     "execution_count": 5,
     "metadata": {},
     "output_type": "execute_result"
    },
    {
     "data": {
      "image/png": "[encoded data removed]",
      "text/plain": [
       "<Figure size 432x288 with 2 Axes>"
      ]
     },
     "metadata": {
      "needs_background": "light"
     },
     "output_type": "display_data"
    }
   ],
   "source": [
    "perm_water = (wofs_ds.frequency > 0.9).where(coastline_mask)\n",
    "perm_water.isel(time=0).plot()"
   ]
  },
  {
   "cell_type": "markdown",
   "metadata": {},
   "source": [
    "### calculate area of permanent open water per year"
   ]
  },
  {
   "cell_type": "code",
   "execution_count": null,
   "metadata": {
    "ExecuteTime": {
     "start_time": "2018-11-13T03:21:20.344Z"
    }
   },
   "outputs": [
    {
     "data": {
      "text/plain": [
       "Text(0.5, 0, 'time (years)')"
      ]
     },
     "execution_count": 6,
     "metadata": {},
     "output_type": "execute_result"
    },
    {
     "data": {
      "image/png": "[encoded data removed]",
      "text/plain": [
       "<Figure size 432x288 with 1 Axes>"
      ]
     },
     "metadata": {
      "needs_background": "light"
     },
     "output_type": "display_data"
    }
   ],
   "source": [
    "pixel_km2 = (resolution * resolution) / (1000 * 1000)\n",
    "perm_water_sum =(perm_water.sum(dim=['x', 'y']) * pixel_km2)\n",
    "perm_water_sum.plot()\n",
    "plt.ylabel('area km^2')\n",
    "plt.xlabel('time (years)')"
   ]
  },
  {
   "cell_type": "markdown",
   "metadata": {},
   "source": [
    "### Load in all Landsat data"
   ]
  },
  {
   "cell_type": "code",
   "execution_count": null,
   "metadata": {
    "ExecuteTime": {
     "start_time": "2018-11-13T03:21:21.591Z"
    }
   },
   "outputs": [
    {
     "name": "stdout",
     "output_type": "stream",
     "text": [
      "Loading ls5 pixel quality\n",
      "    Loading 114 filtered ls5 timesteps\n",
      "Ignoring SLC-off observations for ls7\n",
      "Loading ls7 pixel quality\n",
      "    Loading 46 filtered ls7 timesteps\n",
      "Loading ls8 pixel quality\n",
      "    Loading 125 filtered ls8 timesteps\n"
     ]
    }
   ],
   "source": [
    "ls_data = DEADataHandling.load_clearlandsat(dc, \n",
    "                                            query, \n",
    "                                            sensors=('ls5', 'ls7', 'ls8'), \n",
    "                                            masked_prop=0,\n",
    "                                            mask_pixel_quality=True)"
   ]
  },
  {
   "cell_type": "markdown",
   "metadata": {},
   "source": [
    "### Make annual summaries of the wet and green tasselled cap data"
   ]
  },
  {
   "cell_type": "code",
   "execution_count": null,
   "metadata": {
    "ExecuteTime": {
     "start_time": "2018-11-13T03:21:23.115Z"
    }
   },
   "outputs": [],
   "source": [
    "# Define unique years to analyse\n",
    "years = np.unique(ls_data.time.dt.year)\n",
    "\n",
    "#make empty list to hold vegetated wetlands\n",
    "tc_yearly = []\n",
    "\n",
    "#calculate vegetated wetland extent per year\n",
    "for year in years:\n",
    "    \n",
    "    #select data from each year\n",
    "    year_data = ls_data.sel(time=ls_data['time.year']==year) \n",
    "    \n",
    "    # Apply tasseled cap transformation \n",
    "    tc_data = TasseledCapTools.pct_exceedance_tasseled_cap(year_data)\n",
    "    \n",
    "    #calculate 90th percentile of tasselled cap\n",
    "    tc_data_90th = xr.where(tc_data>0.9, 1, 0)\n",
    "    \n",
    "    #select areas where wetness and greenness are both in  the 90th percentile\n",
    "    wet_veg = xr.where((tc_data_90th.greenness_pct_exceedance & tc_data_90th.wetness_pct_exceedance),1,0)\n",
    "    \n",
    "    # So we can plot the yearly data easily, re-add the time dimension to the wet veg array\n",
    "    wet_veg['time'] = year\n",
    "    wet_veg = wet_veg.expand_dims('time')\n",
    "    \n",
    "    # Append yearly result to list\n",
    "    tc_yearly.append(wet_veg)\n",
    "\n",
    "    "
   ]
  },
  {
   "cell_type": "code",
   "execution_count": null,
   "metadata": {
    "ExecuteTime": {
     "start_time": "2018-11-13T03:21:24.104Z"
    }
   },
   "outputs": [],
   "source": [
    "# Combine all individual years into one xarray dataset\n",
    "wet_veg_yearly = xr.concat(tc_yearly, dim='time') \n",
    "\n",
    "# Plot multiple years of data\n",
    "wet_veg_yearly.plot(col='time', col_wrap=4, cmap='YlGn_r')"
   ]
  },
  {
   "cell_type": "code",
   "execution_count": null,
   "metadata": {
    "ExecuteTime": {
     "start_time": "2018-11-13T03:21:25.207Z"
    }
   },
   "outputs": [],
   "source": [
    "sdg_661_df= wet_veg_yearly.sum(dim=['x', 'y']).to_dataframe(name='perm_wetveg_pixels')\n",
    "sdg_661_df['perm_wetveg_km2'] = sdg_661_df['perm_wetveg_pixels'] * pixel_km2\n",
    "sdg_661_df = sdg_661_df.drop(columns='perm_wetveg_pixels')\n",
    "sdg_661_df['perm_openwater_km2'] = perm_water_sum[perm_water_sum['time.year'].isin(years)] \n",
    "sdg_661_df"
   ]
  },
  {
   "cell_type": "code",
   "execution_count": null,
   "metadata": {},
   "outputs": [],
   "source": []
  },
  {
   "cell_type": "code",
   "execution_count": null,
   "metadata": {
    "ExecuteTime": {
     "start_time": "2018-11-13T03:21:26.407Z"
    }
   },
   "outputs": [],
   "source": [
    "plt.plot(sdg_661_df['perm_wetveg_km2'])\n",
    "plt.plot(sdg_661_df['perm_openwater_km2'])"
   ]
  },
  {
   "cell_type": "code",
   "execution_count": null,
   "metadata": {},
   "outputs": [],
   "source": []
  },
  {
   "cell_type": "code",
   "execution_count": null,
   "metadata": {
    "ExecuteTime": {
     "start_time": "2018-11-13T03:21:28.042Z"
    }
   },
   "outputs": [],
   "source": [
    "sdg_661_df[['perm_openwater_km2', 'perm_wetveg_km2']].plot.area(figsize=(10, 5), color=['xkcd:ocean blue', 'xkcd:lightish green'], alpha=0.7)"
   ]
  },
  {
   "cell_type": "code",
   "execution_count": null,
   "metadata": {},
   "outputs": [],
   "source": []
  },
  {
   "cell_type": "code",
   "execution_count": null,
   "metadata": {},
   "outputs": [],
   "source": [
    "\n",
    "    \n",
    "    \n",
    "    \n",
    "#     # Prepare attributes as input to contour extract\n",
    "#     attribute_data = {'in_perc': [area]}\n",
    "#     attribute_dtypes = {'in_perc': 'float'}\n",
    "    \n",
    "#     # Set threshold\n",
    "#     thresh = 0\n",
    "\n",
    "#     # Extract contours with custom attribute fields:\n",
    "#     contour_dict = contour_extract(z_values=[thresh],\n",
    "#                                    ds_array=cleaned_subset_i.mndwi,\n",
    "#                                    ds_crs='epsg:3577',\n",
    "#                                    ds_affine=landsat_dataset.geobox.transform,\n",
    "#                                    output_shp='relative_topography/{}_{}.shp'.format(name, i),\n",
    "#                                    min_vertices=50,  \n",
    "#                                    attribute_data=attribute_data,\n",
    "#                                    attribute_dtypes=attribute_dtypes)    \n",
    "\n",
    "    \n",
    "    \n",
    "# # Combine all shapefiles into one file\n",
    "# shapefiles = glob.glob('relative_topography/{}_*.shp'.format(name))\n",
    "# gdf = pd.concat([gpd.read_file(shp) for shp in shapefiles], sort=False).pipe(gpd.GeoDataFrame)\n",
    "\n",
    "# # Save as combined shapefile\n",
    "# gdf = gdf.reset_index()[['in_perc', 'geometry']].sort_values('in_perc')\n",
    "# gdf.crs = 'epsg:3577'\n",
    "# gdf.to_file(f'relative_topography/{name}_combined.shp')\n",
    "\n",
    "# # Plot contours\n",
    "# fig, ax = plt.subplots(figsize=(16, 16))\n",
    "# gdf.plot(ax=ax, column='in_perc', cmap='viridis')\n"
   ]
  }
 ],
 "metadata": {
  "kernelspec": {
   "display_name": "Python [default]",
   "language": "python",
   "name": "python3"
  },
  "language_info": {
   "codemirror_mode": {
    "name": "ipython",
    "version": 3
   },
   "file_extension": ".py",
   "mimetype": "text/x-python",
   "name": "python",
   "nbconvert_exporter": "python",
   "pygments_lexer": "ipython3",
   "version": "3.6.6"
  }
 },
 "nbformat": 4,
 "nbformat_minor": 2
}
