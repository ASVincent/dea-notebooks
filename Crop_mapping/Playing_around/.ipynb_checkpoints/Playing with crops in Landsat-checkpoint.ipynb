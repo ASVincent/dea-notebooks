{
 "cells": [
  {
   "cell_type": "markdown",
   "metadata": {},
   "source": [
    "# Set up the notebook by importing and defining functions"
   ]
  },
  {
   "cell_type": "code",
   "execution_count": null,
   "metadata": {},
   "outputs": [],
   "source": [
    "% pylab notebook\n",
    "from datacube.storage import masking\n",
    "from datetime import datetime\n",
    "from skimage import exposure\n",
    "import datacube\n",
    "from datacube.helpers import ga_pq_fuser\n",
    "dc = datacube.Datacube(app='crops')"
   ]
  },
  {
   "cell_type": "code",
   "execution_count": null,
   "metadata": {},
   "outputs": [],
   "source": [
    "def threeBandImage(ds, bands, time = 0, figsize = [10,10], projection = 'projected'):\n",
    "    '''\n",
    "    threeBandImage takes three spectral bands and plots them on the RGB bands of an image. \n",
    "    \n",
    "    Inputs: \n",
    "    ds -   Dataset containing the bands to be plotted\n",
    "    bands - list of three bands to be plotted\n",
    "    \n",
    "    Optional:\n",
    "    time - Index value of the time dimension of ds to be plotted\n",
    "    figsize - dimensions for the output figure\n",
    "    projection - options are 'projected' or 'geographic'. To determine if the image is in degrees or northings\n",
    "    '''\n",
    "    t, y, x = ds[bands[0]].shape\n",
    "    rawimg = np.zeros((y,x,3), dtype = np.float32)\n",
    "    for i, colour in enumerate(bands):\n",
    "        rawimg[:,:,i] = ds[colour][time].values\n",
    "    rawimg[rawimg == -999] = np.nan\n",
    "    img_toshow = exposure.equalize_hist(rawimg, mask = np.isfinite(rawimg))\n",
    "    fig = plt.figure(figsize = figsize)\n",
    "    imshow(img_toshow)\n",
    "    ax = plt.gca()\n",
    "    ax.set_title(str(ds.time[time].values), fontweight = 'bold', fontsize = 16)\n",
    "    ax.set_xticklabels(ds.x.values)\n",
    "    ax.set_yticklabels(ds.y.values)\n",
    "    if projection == 'geographic':\n",
    "        ax.set_xlabel('Longitude', fontweight = 'bold')\n",
    "        ax.set_ylabel('Latitude', fontweight = 'bold')\n",
    "    else:\n",
    "        ax.set_xlabel('Eastings', fontweight = 'bold')\n",
    "        ax.set_ylabel('Northings', fontweight = 'bold')\n",
    "\n",
    "def threeBandImage_subplots(ds, bands, num_cols, figsize = [10,10], projection = 'projected', left  = 0.125, \n",
    "                            right = 0.9, bottom = 0.1, top = 0.9, wspace = 0.2, hspace = 0.4):\n",
    "    '''\n",
    "    threeBandImage_subplots takes three spectral bands and multiple time steps, and plots them \n",
    "    on the RGB bands of an image. \n",
    "    \n",
    "    Inputs: \n",
    "    ds -   Dataset containing the bands to be plotted\n",
    "    bands - list of three bands to be plotted\n",
    "    num_cols - number of columns for the subplot\n",
    "    \n",
    "    Optional:\n",
    "    figsize - dimensions for the output figure\n",
    "    projection - options are 'projected' or 'geographic'. To determine if the image is in degrees or northings\n",
    "    left  = 0.125  # the space on the left side of the subplots of the figure\n",
    "    right = 0.9    # the space on the right side of the subplots of the figure\n",
    "    bottom = 0.1   # the space on the bottom of the subplots of the figure\n",
    "    top = 0.9      # the space on the top of the subplots of the figure\n",
    "    wspace = 0.2   # the amount of width reserved for blank space between subplots\n",
    "    hspace = 0.2   # the amount of height reserved for white space between subplots\n",
    "    '''\n",
    "    # Find the number of rows/columns we need, based on the number of time steps in ds\n",
    "    timesteps = ds.time.size\n",
    "    num_rows = int(ceil(timesteps/num_cols))\n",
    "    fig, axes = plt.subplots(num_rows, num_cols, figsize = figsize)\n",
    "    fig.subplots_adjust(left  = left, right = right, bottom = bottom, top = top, wspace = wspace, hspace = hspace)\n",
    "    numbers = 0\n",
    "    try:\n",
    "        for ax in axes.flat:\n",
    "            t, y, x = ds[bands[0]].shape\n",
    "            rawimg = np.zeros((y,x,3), dtype = np.float32)\n",
    "            for i, colour in enumerate(bands):\n",
    "                rawimg[:,:,i] = ds[colour][numbers].values\n",
    "            rawimg[rawimg == -999] = np.nan\n",
    "            img_toshow = exposure.equalize_hist(rawimg, mask = np.isfinite(rawimg))\n",
    "            ax.imshow(img_toshow)\n",
    "            ax.set_title(str(ds.time[numbers].values), fontweight = 'bold')\n",
    "            ax.set_xticklabels(ds.x.values, fontsize = 8)\n",
    "            ax.set_yticklabels(ds.y.values, fontsize = 8)\n",
    "            if projection == 'geographic':\n",
    "                ax.set_xlabel('Longitude', fontweight = 'bold')\n",
    "                ax.set_ylabel('Latitude', fontweight = 'bold')\n",
    "            else:\n",
    "                ax.set_xlabel('Eastings', fontweight = 'bold')\n",
    "                ax.set_ylabel('Northings', fontweight = 'bold')\n",
    "            numbers = numbers + 1\n",
    "    except IndexError:\n",
    "        # This error will pop up if there are not enough scenes to fill the number of rows x columns, so we can \n",
    "        # safely ignore it\n",
    "        fig.delaxes(ax)\n",
    "        plt.draw()   "
   ]
  },
  {
   "cell_type": "markdown",
   "metadata": {},
   "source": [
    "# Load some data"
   ]
  },
  {
   "cell_type": "code",
   "execution_count": null,
   "metadata": {},
   "outputs": [],
   "source": [
    "query = {\n",
    "        'lat': (-35.51, -35.69),\n",
    "        'lon': (146.81, 147.19),\n",
    "        'time':('2017-01-01', '2017-12-31')\n",
    "        }\n",
    "\n",
    "test_area = dc.load(product='ls8_nbar_albers', group_by='solar_day', **query)"
   ]
  },
  {
   "cell_type": "code",
   "execution_count": null,
   "metadata": {},
   "outputs": [],
   "source": [
    "test_area"
   ]
  },
  {
   "cell_type": "code",
   "execution_count": null,
   "metadata": {
    "scrolled": false
   },
   "outputs": [],
   "source": [
    "threeBandImage_subplots(test_area, bands = ['red', 'green', 'blue'], num_cols = 3, figsize = [10, 30])"
   ]
  },
  {
   "cell_type": "markdown",
   "metadata": {},
   "source": [
    "# Grab the accompanying pixel quality data"
   ]
  },
  {
   "cell_type": "code",
   "execution_count": null,
   "metadata": {},
   "outputs": [],
   "source": [
    "test_area_pq = dc.load(product='ls8_pq_albers', group_by='solar_day', fuse_func = ga_pq_fuser, **query)"
   ]
  },
  {
   "cell_type": "code",
   "execution_count": null,
   "metadata": {},
   "outputs": [],
   "source": [
    "test_area_pq"
   ]
  },
  {
   "cell_type": "code",
   "execution_count": null,
   "metadata": {},
   "outputs": [],
   "source": [
    "mask_components = {'cloud_acca':'no_cloud',\n",
    "'cloud_shadow_acca' :'no_cloud_shadow',\n",
    "'cloud_shadow_fmask' : 'no_cloud_shadow',\n",
    "'cloud_fmask' :'no_cloud',\n",
    "'blue_saturated' : False,\n",
    "'green_saturated' : False,\n",
    "'red_saturated' : False,\n",
    "'nir_saturated' : False,\n",
    "'swir1_saturated' : False,\n",
    "'swir2_saturated' : False,\n",
    "'contiguous':True}"
   ]
  },
  {
   "cell_type": "code",
   "execution_count": null,
   "metadata": {},
   "outputs": [],
   "source": [
    "quality_mask = masking.make_mask(test_area_pq, **mask_components)"
   ]
  },
  {
   "cell_type": "code",
   "execution_count": null,
   "metadata": {},
   "outputs": [],
   "source": [
    "quality_mask"
   ]
  },
  {
   "cell_type": "markdown",
   "metadata": {},
   "source": [
    "## Check the mask looks ok"
   ]
  },
  {
   "cell_type": "code",
   "execution_count": null,
   "metadata": {},
   "outputs": [],
   "source": [
    "quality_mask.isel(time = 3).pixelquality.plot(figsize = [10, 10])"
   ]
  },
  {
   "cell_type": "markdown",
   "metadata": {},
   "source": [
    "## Apply the mask to the Landsat data"
   ]
  },
  {
   "cell_type": "code",
   "execution_count": null,
   "metadata": {},
   "outputs": [],
   "source": [
    "cleaned_data = test_area.where(quality_mask.pixelquality)"
   ]
  },
  {
   "cell_type": "code",
   "execution_count": null,
   "metadata": {},
   "outputs": [],
   "source": [
    "cleaned_data"
   ]
  },
  {
   "cell_type": "markdown",
   "metadata": {},
   "source": [
    "# Load in WOFS for the same location"
   ]
  },
  {
   "cell_type": "code",
   "execution_count": null,
   "metadata": {},
   "outputs": [],
   "source": [
    "dcwofs = datacube.Datacube(config='/home/156/cek156/wofscube.conf')\n",
    "\n",
    "query = {\n",
    "        'lat': (-35.51, -33.66),\n",
    "        'lon': (146.81, 151.43)\n",
    "        }\n",
    "\n",
    "test_area_wofs = dcwofs.load(product='old_wofs', **query)"
   ]
  },
  {
   "cell_type": "code",
   "execution_count": null,
   "metadata": {},
   "outputs": [],
   "source": [
    "test_area_wofs"
   ]
  },
  {
   "cell_type": "code",
   "execution_count": null,
   "metadata": {},
   "outputs": [],
   "source": [
    "dcwofs.list_products()"
   ]
  },
  {
   "cell_type": "code",
   "execution_count": null,
   "metadata": {},
   "outputs": [],
   "source": []
  }
 ],
 "metadata": {
  "kernelspec": {
   "display_name": "Python 3",
   "language": "python",
   "name": "python3"
  },
  "language_info": {
   "codemirror_mode": {
    "name": "ipython",
    "version": 3
   },
   "file_extension": ".py",
   "mimetype": "text/x-python",
   "name": "python",
   "nbconvert_exporter": "python",
   "pygments_lexer": "ipython3",
   "version": "3.6.3"
  },
  "toc": {
   "nav_menu": {},
   "number_sections": true,
   "sideBar": true,
   "skip_h1_title": false,
   "toc_cell": false,
   "toc_position": {},
   "toc_section_display": "block",
   "toc_window_display": false
  }
 },
 "nbformat": 4,
 "nbformat_minor": 2
}
