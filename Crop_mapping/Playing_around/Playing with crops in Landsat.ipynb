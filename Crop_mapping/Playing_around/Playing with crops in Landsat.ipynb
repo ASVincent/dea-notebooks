{
 "cells": [
  {
   "cell_type": "markdown",
   "metadata": {},
   "source": [
    "# Set up the notebook by importing and defining functions"
   ]
  },
  {
   "cell_type": "code",
   "execution_count": 1,
   "metadata": {},
   "outputs": [
    {
     "name": "stdout",
     "output_type": "stream",
     "text": [
      "Populating the interactive namespace from numpy and matplotlib\n"
     ]
    }
   ],
   "source": [
    "% pylab notebook\n",
    "from datacube.storage import masking\n",
    "from datetime import datetime\n",
    "from skimage import exposure\n",
    "import datacube\n",
    "\n",
    "import sys\n",
    "import os\n",
    "sys.path.append(os.path.abspath('/g/data/r78/cek156/dea-notebooks/algorithms'))\n",
    "import DEAPlotting\n",
    "import DEADataHandling\n",
    "import BandIndices\n",
    "\n",
    "dc = datacube.Datacube(app='crops')"
   ]
  },
  {
   "cell_type": "markdown",
   "metadata": {},
   "source": [
    "# Load some data"
   ]
  },
  {
   "cell_type": "code",
   "execution_count": 2,
   "metadata": {},
   "outputs": [],
   "source": [
    "query = {\n",
    "        'lat': (-35.51, -35.69),\n",
    "        'lon': (146.81, 147.19),\n",
    "        'time':('2017-01-01', '2017-12-31')\n",
    "        }\n",
    "\n",
    "test_area = dc.load(product='ls8_nbar_albers', group_by='solar_day', **query)"
   ]
  },
  {
   "cell_type": "code",
   "execution_count": 3,
   "metadata": {},
   "outputs": [
    {
     "data": {
      "text/plain": [
       "<xarray.Dataset>\n",
       "Dimensions:          (time: 44, x: 1461, y: 957)\n",
       "Coordinates:\n",
       "  * time             (time) datetime64[ns] 2017-01-06T00:02:51 ...\n",
       "  * y                (y) float64 -3.956e+06 -3.957e+06 -3.957e+06 -3.957e+06 ...\n",
       "  * x                (x) float64 1.336e+06 1.336e+06 1.336e+06 1.336e+06 ...\n",
       "Data variables:\n",
       "    coastal_aerosol  (time, y, x) int16 598 604 606 581 588 582 579 574 569 ...\n",
       "    blue             (time, y, x) int16 676 685 689 647 659 664 646 633 623 ...\n",
       "    green            (time, y, x) int16 993 1002 1016 957 963 959 936 918 ...\n",
       "    red              (time, y, x) int16 1321 1344 1361 1296 1295 1285 1253 ...\n",
       "    nir              (time, y, x) int16 2160 2138 2132 2092 2072 2028 2025 ...\n",
       "    swir1            (time, y, x) int16 3523 3502 3484 3531 3524 3471 3491 ...\n",
       "    swir2            (time, y, x) int16 2503 2486 2456 2475 2476 2479 2470 ...\n",
       "Attributes:\n",
       "    crs:      EPSG:3577"
      ]
     },
     "execution_count": 3,
     "metadata": {},
     "output_type": "execute_result"
    }
   ],
   "source": [
    "test_area"
   ]
  },
  {
   "cell_type": "code",
   "execution_count": 5,
   "metadata": {},
   "outputs": [
    {
     "name": "stdout",
     "output_type": "stream",
     "text": [
      "Hmmmmm. I don't recognise that index. Options I currently have are NDVI and NDWI.\n"
     ]
    }
   ],
   "source": [
    "LandsatNDWI = BandIndices.calculate_indices(test_area, 'NDPI')"
   ]
  },
  {
   "cell_type": "code",
   "execution_count": 13,
   "metadata": {},
   "outputs": [
    {
     "data": {
      "text/plain": [
       "<xarray.DataArray (time: 44, y: 957, x: 1461)>\n",
       "array([[[-0.370124, -0.361783, ..., -0.462133, -0.485655],\n",
       "        [-0.35873 , -0.348763, ..., -0.476589, -0.379449],\n",
       "        ..., \n",
       "        [-0.478309, -0.457061, ..., -0.512012, -0.535326],\n",
       "        [-0.471666, -0.474082, ..., -0.459272, -0.526514]],\n",
       "\n",
       "       [[-0.      , -0.      , ..., -0.455983, -0.501684],\n",
       "        [-0.      , -0.      , ..., -0.460575, -0.4282  ],\n",
       "        ..., \n",
       "        [-0.      , -0.      , ..., -0.487242, -0.553918],\n",
       "        [-0.      , -0.      , ..., -0.442853, -0.525689]],\n",
       "\n",
       "       ..., \n",
       "       [[-0.      , -0.      , ..., -0.470178, -0.443866],\n",
       "        [-0.      , -0.      , ..., -0.403881, -0.280521],\n",
       "        ..., \n",
       "        [-0.      , -0.      , ..., -0.510519, -0.525687],\n",
       "        [-0.      , -0.      , ..., -0.448985, -0.488463]],\n",
       "\n",
       "       [[-0.019541, -0.020289, ..., -0.004937, -0.005477],\n",
       "        [-0.019916, -0.01977 , ..., -0.004649, -0.005362],\n",
       "        ..., \n",
       "        [-0.039167, -0.037685, ..., -0.015479, -0.015612],\n",
       "        [-0.039631, -0.039434, ..., -0.015341, -0.015205]]])\n",
       "Coordinates:\n",
       "  * time     (time) datetime64[ns] 2017-01-06T00:02:51 2017-01-14T23:57:02 ...\n",
       "  * y        (y) float64 -3.956e+06 -3.957e+06 -3.957e+06 -3.957e+06 ...\n",
       "  * x        (x) float64 1.336e+06 1.336e+06 1.336e+06 1.336e+06 1.336e+06 ..."
      ]
     },
     "execution_count": 13,
     "metadata": {},
     "output_type": "execute_result"
    }
   ],
   "source": []
  },
  {
   "cell_type": "code",
   "execution_count": null,
   "metadata": {
    "scrolled": false
   },
   "outputs": [],
   "source": [
    "DEAP(test_area, bands = ['red', 'green', 'blue'], num_cols = 3, figsize = [10, 30])"
   ]
  },
  {
   "cell_type": "markdown",
   "metadata": {},
   "source": [
    "# Grab the accompanying pixel quality data"
   ]
  },
  {
   "cell_type": "code",
   "execution_count": null,
   "metadata": {},
   "outputs": [],
   "source": [
    "test_area_pq = dc.load(product='ls8_pq_albers', group_by='solar_day', fuse_func = ga_pq_fuser, **query)"
   ]
  },
  {
   "cell_type": "code",
   "execution_count": null,
   "metadata": {},
   "outputs": [],
   "source": [
    "test_area_pq"
   ]
  },
  {
   "cell_type": "code",
   "execution_count": null,
   "metadata": {},
   "outputs": [],
   "source": [
    "mask_components = {'cloud_acca':'no_cloud',\n",
    "'cloud_shadow_acca' :'no_cloud_shadow',\n",
    "'cloud_shadow_fmask' : 'no_cloud_shadow',\n",
    "'cloud_fmask' :'no_cloud',\n",
    "'blue_saturated' : False,\n",
    "'green_saturated' : False,\n",
    "'red_saturated' : False,\n",
    "'nir_saturated' : False,\n",
    "'swir1_saturated' : False,\n",
    "'swir2_saturated' : False,\n",
    "'contiguous':True}"
   ]
  },
  {
   "cell_type": "code",
   "execution_count": null,
   "metadata": {},
   "outputs": [],
   "source": [
    "quality_mask = masking.make_mask(test_area_pq, **mask_components)"
   ]
  },
  {
   "cell_type": "code",
   "execution_count": null,
   "metadata": {},
   "outputs": [],
   "source": [
    "quality_mask"
   ]
  },
  {
   "cell_type": "markdown",
   "metadata": {},
   "source": [
    "## Check the mask looks ok"
   ]
  },
  {
   "cell_type": "code",
   "execution_count": null,
   "metadata": {},
   "outputs": [],
   "source": [
    "quality_mask.isel(time = 3).pixelquality.plot(figsize = [10, 10])"
   ]
  },
  {
   "cell_type": "markdown",
   "metadata": {},
   "source": [
    "## Apply the mask to the Landsat data"
   ]
  },
  {
   "cell_type": "code",
   "execution_count": null,
   "metadata": {},
   "outputs": [],
   "source": [
    "cleaned_data = test_area.where(quality_mask.pixelquality)"
   ]
  },
  {
   "cell_type": "code",
   "execution_count": null,
   "metadata": {},
   "outputs": [],
   "source": [
    "cleaned_data"
   ]
  },
  {
   "cell_type": "markdown",
   "metadata": {},
   "source": [
    "# Load in WOFS for the same location"
   ]
  },
  {
   "cell_type": "code",
   "execution_count": null,
   "metadata": {},
   "outputs": [],
   "source": [
    "dcwofs = datacube.Datacube(config='/home/156/cek156/wofscube.conf')\n",
    "\n",
    "query = {\n",
    "        'lat': (-35.51, -33.66),\n",
    "        'lon': (146.81, 151.43)\n",
    "        }\n",
    "\n",
    "test_area_wofs = dcwofs.load(product='old_wofs', **query)"
   ]
  },
  {
   "cell_type": "code",
   "execution_count": null,
   "metadata": {},
   "outputs": [],
   "source": [
    "test_area_wofs"
   ]
  },
  {
   "cell_type": "code",
   "execution_count": null,
   "metadata": {},
   "outputs": [],
   "source": [
    "dcwofs.list_products()"
   ]
  },
  {
   "cell_type": "code",
   "execution_count": null,
   "metadata": {},
   "outputs": [],
   "source": []
  }
 ],
 "metadata": {
  "kernelspec": {
   "display_name": "Python 3",
   "language": "python",
   "name": "python3"
  },
  "language_info": {
   "codemirror_mode": {
    "name": "ipython",
    "version": 3
   },
   "file_extension": ".py",
   "mimetype": "text/x-python",
   "name": "python",
   "nbconvert_exporter": "python",
   "pygments_lexer": "ipython3",
   "version": "3.6.3"
  },
  "toc": {
   "nav_menu": {},
   "number_sections": true,
   "sideBar": true,
   "skip_h1_title": false,
   "toc_cell": false,
   "toc_position": {},
   "toc_section_display": "block",
   "toc_window_display": false
  }
 },
 "nbformat": 4,
 "nbformat_minor": 2
}
