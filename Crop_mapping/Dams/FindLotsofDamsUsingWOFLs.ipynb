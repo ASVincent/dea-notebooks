{
 "cells": [
  {
   "cell_type": "markdown",
   "metadata": {},
   "source": [
    "# Find lots of dams using WOFLs\n",
    "\n",
    "**What does this notebook do?** This notebook uses output `NetCDF` files of WOFS summaries from `datacube-stats` to generate polygons of water bodies in the landscape. This code follows the following workflow:\n",
    "* Generate a list of netCDF files within a specified folder location\n",
    "* Opens each netCDF file and:\n",
    "    * Keep only pixels identified as wet at least 10% of the time\n",
    "    * Convert the raster data into polygons\n",
    "    * Filter the polygons based on size and proximity to identified major rivers\n",
    "    * Remove any named water bodies - e.g. lakes\n",
    "* Append the final polygon set to a shapefile\n",
    "\n",
    "**Required inputs:** \n",
    "This code requires that you have run `datacube-stats` to produce WOFS summaries as netCDF files. This code takes in the folder location to generate a list of netCDF files to process.\n",
    "\n",
    "**Date:** July 2018\n",
    "\n",
    "**Author:** Claire Krause"
   ]
  },
  {
   "cell_type": "raw",
   "metadata": {
    "raw_mimetype": "text/restructuredtext"
   },
   "source": [
    "Tags: :index:`fiona`, :index:`geopandas`, :index:`Geotiff`, :index:`masking`, :index:`rasterio`, :index:`shapefile`, :index:`WOfS`, :index:`WOFL`, :index:`write_geotiff`, :index:`shapely`, :index:`descartes`, :index:`water_classifier_and_wofs`, :index:`raster to polygons`, :index:`polygons`"
   ]
  },
  {
   "cell_type": "code",
   "execution_count": 1,
   "metadata": {},
   "outputs": [
    {
     "name": "stdout",
     "output_type": "stream",
     "text": [
      "Populating the interactive namespace from numpy and matplotlib\n"
     ]
    }
   ],
   "source": [
    "%pylab notebook\n",
    "\n",
    "import rasterio.features\n",
    "from shapely.geometry import Polygon, shape\n",
    "import geopandas as gp\n",
    "import fiona\n",
    "from fiona.crs import from_epsg\n",
    "import xarray as xr\n",
    "import glob\n",
    "import os.path"
   ]
  },
  {
   "cell_type": "markdown",
   "metadata": {},
   "source": [
    "## Set up the analysis"
   ]
  },
  {
   "cell_type": "code",
   "execution_count": 2,
   "metadata": {},
   "outputs": [],
   "source": [
    "WOFSnetCDFFolder = '/g/data/r78/cek156/datacube_stats/WOFSDams/'"
   ]
  },
  {
   "cell_type": "markdown",
   "metadata": {},
   "source": [
    "### Get the list of netcdf file names"
   ]
  },
  {
   "cell_type": "code",
   "execution_count": 3,
   "metadata": {},
   "outputs": [],
   "source": [
    "Alltiles = glob.glob('{0}*.nc'.format(WOFSnetCDFFolder))"
   ]
  },
  {
   "cell_type": "markdown",
   "metadata": {},
   "source": [
    "### Set up some file names for the inputs and outputs"
   ]
  },
  {
   "cell_type": "code",
   "execution_count": 4,
   "metadata": {
    "raw_mimetype": "text/x-python"
   },
   "outputs": [],
   "source": [
    "# The name and filepath of the final output polygon set\n",
    "WOFSshp = '/g/data/r78/cek156/dea-notebooks/Crop_mapping/Dams/AllNSW2013.shp'\n",
    "\n",
    "# Read in the major rivers dataset\n",
    "# We use the surface hydrology lines dataset(http://pid.geoscience.gov.au/dataset/ga/83107) to filter out \n",
    "# polygons that intersect with major rivers. \n",
    "# Note that we have filtered this dataset to only keep rivers tagged as `major`, and it is this filtered \n",
    "# dataset that we use here.\n",
    "FilteredMajorRivers = '/g/data/r78/cek156/ShapeFiles/SurfaceHydrologyLinesRegionalFilteredMAJOR.shp'\n",
    "MajorRivers = gp.GeoDataFrame.from_file(FilteredMajorRivers) "
   ]
  },
  {
   "cell_type": "markdown",
   "metadata": {},
   "source": [
    "## Read in the data"
   ]
  },
  {
   "cell_type": "code",
   "execution_count": null,
   "metadata": {},
   "outputs": [
    {
     "name": "stderr",
     "output_type": "stream",
     "text": [
      "/g/data/v10/public/modules/dea-env/20180629/lib/python3.6/site-packages/geopandas/tools/sjoin.py:53: UserWarning: CRS of frames being joined does not match!\n",
      "  warn('CRS of frames being joined does not match!')\n",
      "/g/data/v10/public/modules/dea-env/20180629/lib/python3.6/site-packages/geopandas/tools/sjoin.py:53: UserWarning: CRS of frames being joined does not match!\n",
      "  warn('CRS of frames being joined does not match!')\n",
      "/g/data/v10/public/modules/dea-env/20180629/lib/python3.6/site-packages/geopandas/tools/sjoin.py:53: UserWarning: CRS of frames being joined does not match!\n",
      "  warn('CRS of frames being joined does not match!')\n",
      "/g/data/v10/public/modules/dea-env/20180629/lib/python3.6/site-packages/geopandas/tools/sjoin.py:53: UserWarning: CRS of frames being joined does not match!\n",
      "  warn('CRS of frames being joined does not match!')\n",
      "/g/data/v10/public/modules/dea-env/20180629/lib/python3.6/site-packages/geopandas/tools/sjoin.py:53: UserWarning: CRS of frames being joined does not match!\n",
      "  warn('CRS of frames being joined does not match!')\n",
      "/g/data/v10/public/modules/dea-env/20180629/lib/python3.6/site-packages/geopandas/tools/sjoin.py:53: UserWarning: CRS of frames being joined does not match!\n",
      "  warn('CRS of frames being joined does not match!')\n",
      "/g/data/v10/public/modules/dea-env/20180629/lib/python3.6/site-packages/geopandas/tools/sjoin.py:53: UserWarning: CRS of frames being joined does not match!\n",
      "  warn('CRS of frames being joined does not match!')\n",
      "/g/data/v10/public/modules/dea-env/20180629/lib/python3.6/site-packages/geopandas/tools/sjoin.py:53: UserWarning: CRS of frames being joined does not match!\n",
      "  warn('CRS of frames being joined does not match!')\n",
      "/g/data/v10/public/modules/dea-env/20180629/lib/python3.6/site-packages/geopandas/tools/sjoin.py:53: UserWarning: CRS of frames being joined does not match!\n",
      "  warn('CRS of frames being joined does not match!')\n",
      "/g/data/v10/public/modules/dea-env/20180629/lib/python3.6/site-packages/geopandas/tools/sjoin.py:53: UserWarning: CRS of frames being joined does not match!\n",
      "  warn('CRS of frames being joined does not match!')\n",
      "/g/data/v10/public/modules/dea-env/20180629/lib/python3.6/site-packages/geopandas/tools/sjoin.py:53: UserWarning: CRS of frames being joined does not match!\n",
      "  warn('CRS of frames being joined does not match!')\n",
      "/g/data/v10/public/modules/dea-env/20180629/lib/python3.6/site-packages/geopandas/tools/sjoin.py:53: UserWarning: CRS of frames being joined does not match!\n",
      "  warn('CRS of frames being joined does not match!')\n",
      "/g/data/v10/public/modules/dea-env/20180629/lib/python3.6/site-packages/geopandas/tools/sjoin.py:53: UserWarning: CRS of frames being joined does not match!\n",
      "  warn('CRS of frames being joined does not match!')\n",
      "/g/data/v10/public/modules/dea-env/20180629/lib/python3.6/site-packages/geopandas/tools/sjoin.py:53: UserWarning: CRS of frames being joined does not match!\n",
      "  warn('CRS of frames being joined does not match!')\n",
      "/g/data/v10/public/modules/dea-env/20180629/lib/python3.6/site-packages/geopandas/tools/sjoin.py:53: UserWarning: CRS of frames being joined does not match!\n",
      "  warn('CRS of frames being joined does not match!')\n",
      "/g/data/v10/public/modules/dea-env/20180629/lib/python3.6/site-packages/geopandas/tools/sjoin.py:53: UserWarning: CRS of frames being joined does not match!\n",
      "  warn('CRS of frames being joined does not match!')\n",
      "/g/data/v10/public/modules/dea-env/20180629/lib/python3.6/site-packages/geopandas/tools/sjoin.py:53: UserWarning: CRS of frames being joined does not match!\n",
      "  warn('CRS of frames being joined does not match!')\n",
      "/g/data/v10/public/modules/dea-env/20180629/lib/python3.6/site-packages/geopandas/tools/sjoin.py:53: UserWarning: CRS of frames being joined does not match!\n",
      "  warn('CRS of frames being joined does not match!')\n",
      "/g/data/v10/public/modules/dea-env/20180629/lib/python3.6/site-packages/geopandas/tools/sjoin.py:53: UserWarning: CRS of frames being joined does not match!\n",
      "  warn('CRS of frames being joined does not match!')\n",
      "/g/data/v10/public/modules/dea-env/20180629/lib/python3.6/site-packages/geopandas/tools/sjoin.py:53: UserWarning: CRS of frames being joined does not match!\n",
      "  warn('CRS of frames being joined does not match!')\n",
      "/g/data/v10/public/modules/dea-env/20180629/lib/python3.6/site-packages/geopandas/tools/sjoin.py:53: UserWarning: CRS of frames being joined does not match!\n",
      "  warn('CRS of frames being joined does not match!')\n",
      "/g/data/v10/public/modules/dea-env/20180629/lib/python3.6/site-packages/geopandas/tools/sjoin.py:53: UserWarning: CRS of frames being joined does not match!\n",
      "  warn('CRS of frames being joined does not match!')\n",
      "/g/data/v10/public/modules/dea-env/20180629/lib/python3.6/site-packages/geopandas/tools/sjoin.py:53: UserWarning: CRS of frames being joined does not match!\n",
      "  warn('CRS of frames being joined does not match!')\n",
      "/g/data/v10/public/modules/dea-env/20180629/lib/python3.6/site-packages/geopandas/tools/sjoin.py:53: UserWarning: CRS of frames being joined does not match!\n",
      "  warn('CRS of frames being joined does not match!')\n",
      "/g/data/v10/public/modules/dea-env/20180629/lib/python3.6/site-packages/geopandas/tools/sjoin.py:53: UserWarning: CRS of frames being joined does not match!\n",
      "  warn('CRS of frames being joined does not match!')\n",
      "/g/data/v10/public/modules/dea-env/20180629/lib/python3.6/site-packages/geopandas/tools/sjoin.py:53: UserWarning: CRS of frames being joined does not match!\n",
      "  warn('CRS of frames being joined does not match!')\n",
      "/g/data/v10/public/modules/dea-env/20180629/lib/python3.6/site-packages/geopandas/tools/sjoin.py:53: UserWarning: CRS of frames being joined does not match!\n",
      "  warn('CRS of frames being joined does not match!')\n",
      "/g/data/v10/public/modules/dea-env/20180629/lib/python3.6/site-packages/geopandas/tools/sjoin.py:53: UserWarning: CRS of frames being joined does not match!\n",
      "  warn('CRS of frames being joined does not match!')\n",
      "/g/data/v10/public/modules/dea-env/20180629/lib/python3.6/site-packages/geopandas/tools/sjoin.py:53: UserWarning: CRS of frames being joined does not match!\n",
      "  warn('CRS of frames being joined does not match!')\n",
      "/g/data/v10/public/modules/dea-env/20180629/lib/python3.6/site-packages/geopandas/tools/sjoin.py:53: UserWarning: CRS of frames being joined does not match!\n",
      "  warn('CRS of frames being joined does not match!')\n",
      "/g/data/v10/public/modules/dea-env/20180629/lib/python3.6/site-packages/geopandas/tools/sjoin.py:53: UserWarning: CRS of frames being joined does not match!\n",
      "  warn('CRS of frames being joined does not match!')\n",
      "/g/data/v10/public/modules/dea-env/20180629/lib/python3.6/site-packages/geopandas/tools/sjoin.py:53: UserWarning: CRS of frames being joined does not match!\n",
      "  warn('CRS of frames being joined does not match!')\n",
      "/g/data/v10/public/modules/dea-env/20180629/lib/python3.6/site-packages/geopandas/tools/sjoin.py:53: UserWarning: CRS of frames being joined does not match!\n",
      "  warn('CRS of frames being joined does not match!')\n",
      "/g/data/v10/public/modules/dea-env/20180629/lib/python3.6/site-packages/geopandas/tools/sjoin.py:53: UserWarning: CRS of frames being joined does not match!\n",
      "  warn('CRS of frames being joined does not match!')\n",
      "/g/data/v10/public/modules/dea-env/20180629/lib/python3.6/site-packages/geopandas/tools/sjoin.py:53: UserWarning: CRS of frames being joined does not match!\n",
      "  warn('CRS of frames being joined does not match!')\n",
      "/g/data/v10/public/modules/dea-env/20180629/lib/python3.6/site-packages/geopandas/tools/sjoin.py:53: UserWarning: CRS of frames being joined does not match!\n",
      "  warn('CRS of frames being joined does not match!')\n",
      "/g/data/v10/public/modules/dea-env/20180629/lib/python3.6/site-packages/geopandas/tools/sjoin.py:53: UserWarning: CRS of frames being joined does not match!\n",
      "  warn('CRS of frames being joined does not match!')\n",
      "/g/data/v10/public/modules/dea-env/20180629/lib/python3.6/site-packages/geopandas/tools/sjoin.py:53: UserWarning: CRS of frames being joined does not match!\n",
      "  warn('CRS of frames being joined does not match!')\n",
      "/g/data/v10/public/modules/dea-env/20180629/lib/python3.6/site-packages/geopandas/tools/sjoin.py:53: UserWarning: CRS of frames being joined does not match!\n",
      "  warn('CRS of frames being joined does not match!')\n",
      "/g/data/v10/public/modules/dea-env/20180629/lib/python3.6/site-packages/geopandas/tools/sjoin.py:53: UserWarning: CRS of frames being joined does not match!\n",
      "  warn('CRS of frames being joined does not match!')\n"
     ]
    },
    {
     "name": "stderr",
     "output_type": "stream",
     "text": [
      "/g/data/v10/public/modules/dea-env/20180629/lib/python3.6/site-packages/geopandas/tools/sjoin.py:53: UserWarning: CRS of frames being joined does not match!\n",
      "  warn('CRS of frames being joined does not match!')\n",
      "/g/data/v10/public/modules/dea-env/20180629/lib/python3.6/site-packages/geopandas/tools/sjoin.py:53: UserWarning: CRS of frames being joined does not match!\n",
      "  warn('CRS of frames being joined does not match!')\n",
      "/g/data/v10/public/modules/dea-env/20180629/lib/python3.6/site-packages/geopandas/tools/sjoin.py:53: UserWarning: CRS of frames being joined does not match!\n",
      "  warn('CRS of frames being joined does not match!')\n",
      "/g/data/v10/public/modules/dea-env/20180629/lib/python3.6/site-packages/geopandas/tools/sjoin.py:53: UserWarning: CRS of frames being joined does not match!\n",
      "  warn('CRS of frames being joined does not match!')\n",
      "/g/data/v10/public/modules/dea-env/20180629/lib/python3.6/site-packages/geopandas/tools/sjoin.py:53: UserWarning: CRS of frames being joined does not match!\n",
      "  warn('CRS of frames being joined does not match!')\n",
      "/g/data/v10/public/modules/dea-env/20180629/lib/python3.6/site-packages/geopandas/tools/sjoin.py:53: UserWarning: CRS of frames being joined does not match!\n",
      "  warn('CRS of frames being joined does not match!')\n"
     ]
    }
   ],
   "source": [
    "for WOFSfile in Alltiles: \n",
    "    # Read in the data\n",
    "    WOFSnetCDFData = xr.open_rasterio('NETCDF:{}:frequency'.format(WOFSfile))\n",
    "\n",
    "    # Filter our classified data layer to remove noise\n",
    "    # Remove any pixels that are wet < 10% of the time\n",
    "    WOFSfiltered = WOFSnetCDFData > 0.25\n",
    "    # Remove the superfluous time dimension\n",
    "    WOFSfiltered = WOFSfiltered.squeeze()\n",
    "    # Change all zeros to NaN\n",
    "    WOFSfiltered = WOFSfiltered.where(WOFSfiltered !=0)\n",
    "\n",
    "    # Convert the raster to polygons\n",
    "    WOFSpolygons = rasterio.features.shapes(WOFSfiltered.data.astype('float32'), \n",
    "                                            transform = WOFSnetCDFData.transform[:-3])\n",
    "    WOFSlist = list(WOFSpolygons)\n",
    "\n",
    "    # Calculate the area of each polygon\n",
    "    WOFLshapes = []\n",
    "    for i, WOFLshape in enumerate(WOFSlist):\n",
    "        polyArea = Polygon(WOFLshape[0]['coordinates'][0]).area\n",
    "        WOFLshape[0]['properties'] = {'area': polyArea}\n",
    "        WOFLshapes.append(WOFLshape)\n",
    "\n",
    "    # Filter out any polygons smaller than 5000 m2 (i.e. 8 pixels)\n",
    "    AreasIndex = [i for i, x in enumerate(WOFLshapes) if x[0]['properties']['area'] > 5050]\n",
    "    WOFSOFSbig = [WOFLshapes[x] for x in AreasIndex]\n",
    "\n",
    "    # Remove any polygons that intersect with a major river\n",
    "    # We are only interested in farm dams, so do not need the WOFS polygons for the rivers. \n",
    "    WOFSOFSbreaktuple = [a for a, b in list(WOFSOFSbig)]\n",
    "\n",
    "    # Grab the geometeries\n",
    "    for poly in WOFSOFSbreaktuple:\n",
    "        poly['geometry'] = shape(poly)\n",
    "\n",
    "    WOFSOFSfiltered2p0 = gp.GeoDataFrame(WOFSOFSbreaktuple).set_geometry('geometry')\n",
    "    Intersections= gp.sjoin(MajorRivers, WOFSOFSfiltered2p0, how=\"inner\", op='intersects')\n",
    "    IntersectIndex = sorted(list(set(Intersections['index_right'])))\n",
    "\n",
    "    WOFSOFS = [WOFSOFSbreaktuple[x] for x in range(len(WOFSOFSbreaktuple)) \n",
    "                                      if x not in IntersectIndex]\n",
    "\n",
    "    # Save the polygons to a shapefile\n",
    "    schema = {'geometry': 'Polygon','properties': {'area': 'str'}}\n",
    "\n",
    "    if os.path.isfile(WOFSshp):\n",
    "        with fiona.open(WOFSshp, \"a\", crs = from_epsg(3577), driver = 'ESRI Shapefile', schema = schema) as output:\n",
    "            for i in range(len(WOFSOFS)):\n",
    "                output.write({'properties': {'area': WOFSOFS[i]['properties']['area']},\n",
    "                            'geometry': {'type': WOFSOFS[i]['type'], 'coordinates': WOFSOFS[i]['coordinates']}})\n",
    "    else:\n",
    "        with fiona.open(WOFSshp, \"w\", crs = from_epsg(3577), driver = 'ESRI Shapefile', schema = schema) as output:\n",
    "            for i in range(len(WOFSOFS)):\n",
    "                output.write({'properties': {'area': WOFSOFS[i]['properties']['area']},\n",
    "                            'geometry': {'type': WOFSOFS[i]['type'], 'coordinates': WOFSOFS[i]['coordinates']}})"
   ]
  },
  {
   "cell_type": "code",
   "execution_count": null,
   "metadata": {},
   "outputs": [],
   "source": []
  }
 ],
 "metadata": {
  "celltoolbar": "Raw Cell Format",
  "kernelspec": {
   "display_name": "Python 3",
   "language": "python",
   "name": "python3"
  },
  "language_info": {
   "codemirror_mode": {
    "name": "ipython",
    "version": 3
   },
   "file_extension": ".py",
   "mimetype": "text/x-python",
   "name": "python",
   "nbconvert_exporter": "python",
   "pygments_lexer": "ipython3",
   "version": "3.6.5"
  },
  "toc": {
   "base_numbering": 1,
   "nav_menu": {},
   "number_sections": true,
   "sideBar": true,
   "skip_h1_title": false,
   "title_cell": "Table of Contents",
   "title_sidebar": "Contents",
   "toc_cell": false,
   "toc_position": {},
   "toc_section_display": true,
   "toc_window_display": false
  }
 },
 "nbformat": 4,
 "nbformat_minor": 2
}
