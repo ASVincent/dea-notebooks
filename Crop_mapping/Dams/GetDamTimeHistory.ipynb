{
 "cells": [
  {
   "cell_type": "markdown",
   "metadata": {},
   "source": [
    "# Get dam time history"
   ]
  },
  {
   "cell_type": "code",
   "execution_count": 1,
   "metadata": {},
   "outputs": [
    {
     "name": "stdout",
     "output_type": "stream",
     "text": [
      "Populating the interactive namespace from numpy and matplotlib\n"
     ]
    },
    {
     "name": "stderr",
     "output_type": "stream",
     "text": [
      "Failed to resolve driver datacube.plugins.index::s3aio_index\n"
     ]
    }
   ],
   "source": [
    "%pylab notebook\n",
    "\n",
    "from datacube import Datacube\n",
    "from datacube.utils import geometry\n",
    "from datacube.storage import masking\n",
    "import fiona\n",
    "import rasterio.features\n",
    "import numpy as np\n",
    "\n",
    "# Import the custom script for plotting. This script can be found in the dea-notebooks repository.\n",
    "import sys\n",
    "import os.path\n",
    "sys.path.append(os.path.expanduser('~/dea-notebooks/Scripts'))\n",
    "import DEAPlotting\n",
    "\n",
    "dc = Datacube(app = 'Polygon drill')\n",
    "dc_rf = Datacube(config='/g/data/r78/bom_grids/rainfall.conf')"
   ]
  },
  {
   "cell_type": "markdown",
   "metadata": {},
   "source": [
    "## Load in the shapefile of the dams"
   ]
  },
  {
   "cell_type": "code",
   "execution_count": 2,
   "metadata": {},
   "outputs": [],
   "source": [
    "shape_file = '/g/data/r78/cek156/dea-notebooks/Crop_mapping/OFS201617.shp'\n",
    "\n",
    "with fiona.open(shape_file) as shapes:\n",
    "    crs = geometry.CRS(shapes.crs_wkt)"
   ]
  },
  {
   "cell_type": "code",
   "execution_count": null,
   "metadata": {},
   "outputs": [
    {
     "name": "stderr",
     "output_type": "stream",
     "text": [
      "Failed to resolve driver datacube.plugins.io.read::s3aio\n",
      "Failed to resolve driver datacube.plugins.io.read::s3aio_test\n"
     ]
    }
   ],
   "source": [
    "for shapes in fiona.open(shape_file):\n",
    "    try:\n",
    "        first_geometry = shapes['geometry']\n",
    "        polyName = shapes['id']\n",
    "        polyArea = shapes['properties']['area']\n",
    "        geom = geometry.Geometry(first_geometry, crs=crs)\n",
    "\n",
    "        ## Set up the query, and load in all of the WOFS layers\n",
    "        query = {'geopolygon': geom}\n",
    "        WOFL = dc.load(product='wofs_albers', **query)\n",
    "\n",
    "        ## Grab rainfall too to use as a flag\n",
    "        queryRain = {'geopolygon': geom,\n",
    "                    'time' : ('1988-01-01', '2018-07-01')}\n",
    "        rf_data = dc_rf.load(product = 'rainfall_grids_1901_2017',**queryRain)\n",
    "\n",
    "        ## Turn the rainfall into a flag\n",
    "        ## Here we are thresholding at 2mm accumulated over the previous 5 days\n",
    "        rainflag = [False,False,False,False,False]\n",
    "        for i in range(5,len(rf_data.time)):\n",
    "            FiveDayRainfallTotal = rf_data.rainfall[i-5:i].values.sum()\n",
    "            if FiveDayRainfallTotal >= 2:\n",
    "                rainflag.append(True)\n",
    "            else:\n",
    "                rainflag.append(False)\n",
    "\n",
    "        WOFL['rainFlag'] = rainflag\n",
    "\n",
    "        # Make a mask based on the polygon (to remove extra data outside of the polygon)\n",
    "        mask = rasterio.features.geometry_mask([geom.to_crs(WOFL.geobox.crs) for geoms in [geom]],\n",
    "                                               out_shape=WOFL.geobox.shape,\n",
    "                                               transform=WOFL.geobox.affine,\n",
    "                                               all_touched=False,\n",
    "                                               invert=True)\n",
    "\n",
    "        ## Work out how full the dam is at every time step\n",
    "        DamCapacity = []\n",
    "        DryObserved = []\n",
    "        InvalidObservations = []\n",
    "        for ix, times in enumerate(WOFL.time):\n",
    "            # Grab the data for our timestep\n",
    "            AllTheBitFlags = WOFL.water.isel(time = ix)\n",
    "            # Find all the wet/dry pixels for that timestep\n",
    "            WetPixels = masking.make_mask(AllTheBitFlags, wet=True)\n",
    "            DryPixels = masking.make_mask(AllTheBitFlags, dry=True)\n",
    "            # Apply the mask and count the number of observations\n",
    "            MaskedAll = AllTheBitFlags.where(mask).count().item()\n",
    "            MaskedWet = WetPixels.where(mask).sum().item()\n",
    "            MaskedDry = DryPixels.where(mask).sum().item()\n",
    "            # Turn our counts into percents\n",
    "            try:\n",
    "                WaterPercent = MaskedWet / MaskedAll * 100\n",
    "                DryPercent = MaskedDry / MaskedAll * 100\n",
    "                UnknownPercent = (MaskedAll - (MaskedWet + MaskedDry)) / MaskedAll *100\n",
    "            except ZeroDivisionError:\n",
    "                WaterPercent = 0.0\n",
    "                DryPercent = 0.0\n",
    "                UnknownPercent = 100.0\n",
    "            # Append the percentages to a list for each timestep\n",
    "            DamCapacity.append(WaterPercent)\n",
    "            InvalidObservations.append(UnknownPercent)\n",
    "            DryObserved.append(DryPercent)\n",
    "\n",
    "        ## Filter out timesteps with less than 90% valid observations \n",
    "        ValidMask = [i for i, x in enumerate(InvalidObservations) if x < 10]\n",
    "        ValidObs = WOFL.time[ValidMask].dropna(dim = 'time')\n",
    "        RainFlag = WOFL.rainFlag[ValidMask].dropna(dim = 'rainFlag')\n",
    "        ValidCapacity = [DamCapacity[i] for i in ValidMask]\n",
    "        RainValue = RainFlag * ValidCapacity\n",
    "        RainValue = [np.nan if x == 0 else x for x in RainValue]\n",
    "\n",
    "        ## Plot up the timeseries\n",
    "        fig = plt.figure(figsize=(10, 7)) \n",
    "        plt.plot(ValidObs.time.values, [DamCapacity[i] for i in ValidMask], '.-', color = 'royalblue', linewidth = 2)\n",
    "        plt.plot(ValidObs.time.values, RainValue, '.--', color = 'k', linewidth = 3)\n",
    "        plt.title('Dam ID : {0}, Surface Area = {1} m2'.format(polyName, polyArea))\n",
    "        plt.ylabel('Percentage of surface area classified as \\'water\\'')\n",
    "        plt.xlabel('Date of Landsat observation')\n",
    "        savefig('{}_Timeseries.jpg'.format(polyName.replace(\" \", \"\")))\n",
    "        plt.close()\n",
    "\n",
    "        ## Plot up the timeseries\n",
    "        fig = plt.figure(figsize=(10, 7)) \n",
    "        plt.plot(ValidObs.time.values, [DamCapacity[i] for i in ValidMask], '.-', color = 'royalblue', linewidth = 2)\n",
    "        plt.plot(ValidObs.time.values, RainValue, '.--', color = 'k', linewidth = 3)\n",
    "        plt.xlim(['2010-01-01', '2018-07-01'])\n",
    "        plt.title('Dam ID : {0}, Surface Area = {1} m2'.format(polyName, polyArea))\n",
    "        plt.ylabel('Percentage of surface area classified as \\'water\\'')\n",
    "        plt.xlabel('Date of Landsat observation')\n",
    "        savefig('{}_Timeseries_Zoom.jpg'.format(polyName.replace(\" \", \"\")))\n",
    "        plt.close()\n",
    "    except:\n",
    "        pass"
   ]
  },
  {
   "cell_type": "code",
   "execution_count": null,
   "metadata": {},
   "outputs": [],
   "source": []
  }
 ],
 "metadata": {
  "kernelspec": {
   "display_name": "Python 3",
   "language": "python",
   "name": "python3"
  },
  "language_info": {
   "codemirror_mode": {
    "name": "ipython",
    "version": 3
   },
   "file_extension": ".py",
   "mimetype": "text/x-python",
   "name": "python",
   "nbconvert_exporter": "python",
   "pygments_lexer": "ipython3",
   "version": "3.6.5"
  },
  "toc": {
   "base_numbering": 1,
   "nav_menu": {},
   "number_sections": true,
   "sideBar": true,
   "skip_h1_title": false,
   "title_cell": "Table of Contents",
   "title_sidebar": "Contents",
   "toc_cell": false,
   "toc_position": {},
   "toc_section_display": true,
   "toc_window_display": false
  }
 },
 "nbformat": 4,
 "nbformat_minor": 2
}
