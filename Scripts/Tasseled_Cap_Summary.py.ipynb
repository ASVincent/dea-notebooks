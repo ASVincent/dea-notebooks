{
 "cells": [
  {
   "cell_type": "code",
   "execution_count": 3,
   "metadata": {
    "ExecuteTime": {
     "end_time": "2018-06-15T01:10:24.862522Z",
     "start_time": "2018-06-15T01:10:24.857472Z"
    }
   },
   "outputs": [],
   "source": [
    "## Tasseled_Cap_Summary.py\n",
    "'''\n",
    "This file contains a set of python functions to calculate a tasselled cap index summary. \n",
    "The summary is the percentage of scenes during the epoch in which the index has exceeded \n",
    "a set threshold. The thresholds are set to default values within this function and can be\n",
    "adjusted.  \n",
    "\n",
    "This file requires the BandIndices.py python script from dea-notebooks/Scripts\n",
    "\n",
    "Last modified: June 2018\n",
    "Authors: Bex Dunn\n",
    "\n",
    "'''\n",
    "import dask\n",
    "import os\n",
    "import sys\n",
    "import xarray as xr\n",
    "\n",
    "\n",
    "# Import external functions from dea-notebooks\n",
    "sys.path.append(os.path.expanduser('~/dea-notebooks/Scripts/'))\n",
    "from BandIndices import tasseled_cap"
   ]
  },
  {
   "cell_type": "code",
   "execution_count": null,
   "metadata": {},
   "outputs": [],
   "source": [
    "#make dictionary of thresholds for wetness, brightness and greenness\n",
    "\n",
    "\n",
    "\n",
    "def calc_wetveg_overthresh(wetness,threshold=-400):\n",
    "    '''Calculate the wetness values where wetness>threshold. Inputs are wetness array and threshold value, \n",
    "    default threshold is -400. Band for wetness>threshold is added to wetness. This is not the count.'''\n",
    "    if wetness is not None:\n",
    "        with warnings.catch_warnings():\n",
    "            #suppress irritating behaviour in xarray.where\n",
    "            warnings.simplefilter(\"ignore\")\n",
    "            #water_plus_wetveg is wetness values where wetness>threshold\n",
    "            wetness['water_plus_wetveg'] = wetness.wetness.where(wetness.wetness>threshold)\n",
    "            print('thresholded wetness added to array')\n",
    "            return wetness\n",
    "    else:\n",
    "        print('did not calculate wetness overthreshold' )\n",
    "        return None    "
   ]
  },
  {
   "cell_type": "code",
   "execution_count": null,
   "metadata": {},
   "outputs": [],
   "source": [
    "def count_wets(wetness):\n",
    "    '''count the number of wetness scenes for each pixel,\n",
    "    count the amount of times that water plus wet veg is above the threshold\n",
    "    load both into memory (this assumes you are using dask),\n",
    "    return a dictionary of wet count and threshold count'''\n",
    "    if wetness is not None:\n",
    "        #count the number of wetness scenes for each pixel\n",
    "        wet_count = wetness.wetness.count(dim='time')\n",
    "\n",
    "        #count the amount of times that water plus wet veg is above the threshold\n",
    "        threshold_count= wetness.water_plus_wetveg.count(dim='time')\n",
    "        \n",
    "        #bring both counts into memory\n",
    "        wet_count.load()\n",
    "        threshold_count.load()\n",
    "        \n",
    "        #define dictionary of wet count and threshold count\n",
    "        counts = {'wet count':wet_count, 'threshold count':threshold_count}\n",
    "        print('counted')\n",
    "        return counts\n",
    "    else:\n",
    "        print('did not count' )\n",
    "        return None    "
   ]
  },
  {
   "cell_type": "code",
   "execution_count": null,
   "metadata": {},
   "outputs": [],
   "source": [
    "def count_tcindex_1sensor(over_threshold, tcindex, tci_over_threshold):\n",
    "    '''count the number of tci-flagged scenes for each pixel,\n",
    "    count the amount of times that tci value is above the set threshold\n",
    "    load both into memory (this assumes you are using dask),\n",
    "    return a dictionary of total count and threshold count\n",
    "    ###FIXME currently only runs over 1 sensor!!!'''\n",
    "    if over_threshold is not None:\n",
    "        #count the number of flagged scenes for each pixel\n",
    "        total_count = over_threshold[tcindex].count(dim='time')\n",
    "\n",
    "        #count the amount of times that water plus wet veg is above the threshold\n",
    "        threshold_count= over_threshold[tci_over_threshold].count(dim='time')\n",
    "       \n",
    "        #define dictionary of total count and threshold count\n",
    "        counts = {'total count':total_count, 'threshold count':threshold_count}\n",
    "        \n",
    "        count_of_ex = counts['threshold count']/counts['total count']\n",
    "        print('counted')\n",
    "        return count_of_ex, counts\n",
    "    else:\n",
    "        print('did not count')\n",
    "        return None      "
   ]
  },
  {
   "cell_type": "code",
   "execution_count": null,
   "metadata": {},
   "outputs": [],
   "source": []
  }
 ],
 "metadata": {
  "kernelspec": {
   "display_name": "Python 3",
   "language": "python",
   "name": "python3"
  },
  "language_info": {
   "codemirror_mode": {
    "name": "ipython",
    "version": 3
   },
   "file_extension": ".py",
   "mimetype": "text/x-python",
   "name": "python",
   "nbconvert_exporter": "python",
   "pygments_lexer": "ipython3",
   "version": "3.6.5"
  }
 },
 "nbformat": 4,
 "nbformat_minor": 2
}
