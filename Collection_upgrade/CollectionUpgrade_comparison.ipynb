{
 "cells": [
  {
   "cell_type": "markdown",
   "metadata": {},
   "source": [
    "# Comparing current and collection upgrade Landsat data"
   ]
  },
  {
   "cell_type": "markdown",
   "metadata": {},
   "source": [
    "**What does this notebook do?** \n",
    "\n",
    "This notebook demonstrates how to load matching data from both the current collection and the collection upgrade databases, make both datasets consistent, then conduct some very basic comparisons of values for each band. This is intended to serve as a starting point for more advanced comparisons of the two collections. \n",
    "\n",
    "**Requirements:**\n",
    "\n",
    "You need to run the following commands from the command line prior to launching jupyter notebooks from the same terminal so that the required libraries and paths are set:\n",
    "\n",
    "`module use /g/data/v10/public/modules/modulefiles` \n",
    "\n",
    "`module load dea` \n",
    "\n",
    "This notebook uses external functions `rgb` and `display_map`. These functions is available in the `10_Scripts` folder of the [dea-notebooks Github repository](https://github.com/GeoscienceAustralia/dea-notebooks/tree/master/10_Scripts). Note that these functions have been developed by DEA users, not the DEA development team, and so are provided without warranty. If you find an error or bug in the functions, please either create an 'Issue' in the Github repository, or fix it yourself and create a 'Pull' request to contribute the updated function back into the repository (See the repository [README](https://github.com/GeoscienceAustralia/dea-notebooks/blob/master/README.rst) for instructions on creating a Pull request).\n",
    "\n",
    "**Date:** February 2019\n",
    "\n",
    "**Author:** Robbi Bishop-Taylor"
   ]
  },
  {
   "cell_type": "raw",
   "metadata": {
    "raw_mimetype": "text/restructuredtext"
   },
   "source": [
    "**Tags**: :index:`collection_upgrade`, :index:`Scripts`, :index:`surface_reflectance`, :index:`Landsat`, :index:`Landsat8`, :index:`query`, :index:`dc.load`, :index:`rgb`, :index:`display_map`"
   ]
  },
  {
   "cell_type": "markdown",
   "metadata": {},
   "source": [
    "## Database access\n",
    "Create a config file in your home directory named `.ard-interoperability_tmp.conf` containing the following info:"
   ]
  },
  {
   "cell_type": "markdown",
   "metadata": {},
   "source": [
    "```\n",
    "[datacube]\n",
    "db_hostname: agdcstaging-db.nci.org.au\n",
    "db_port:     6432\n",
    "db_database: ard_interop\n",
    "```    "
   ]
  },
  {
   "cell_type": "markdown",
   "metadata": {},
   "source": [
    "## Load modules"
   ]
  },
  {
   "cell_type": "code",
   "execution_count": 1,
   "metadata": {},
   "outputs": [],
   "source": [
    "import datacube \n",
    "import xarray as xr\n",
    "from datacube.helpers import ga_pq_fuser\n",
    "from datacube.storage import masking\n",
    "\n",
    "# Connect to current collection and collection upgrade databases\n",
    "dc_ard = datacube.Datacube(config='/home/561/rt1527/.ard-interoperability_tmp.conf')\n",
    "dc = datacube.Datacube()\n",
    "\n",
    "import sys\n",
    "sys.path.append('../10_Scripts')\n",
    "import DEAPlotting, SpatialTools\n",
    "\n",
    "%load_ext autoreload\n",
    "%autoreload 2\n"
   ]
  },
  {
   "cell_type": "markdown",
   "metadata": {},
   "source": [
    "## Set up query and analysis parameters\n",
    "Here we set a centroid for the area we want to compare, and set up CRS, resolution and resampling that will be applied to both collectiondatasets. The values below extract both collections to match the collection upgrade CRS and resolution (UTM zone 56 S and 30m pixels)."
   ]
  },
  {
   "cell_type": "code",
   "execution_count": 2,
   "metadata": {},
   "outputs": [
    {
     "data": {
      "text/html": [
       "<div style=\"width:100%;\"><div style=\"position:relative;width:100%;height:0;padding-bottom:60%;\"><iframe src=\"data:text/html;charset=utf-8;base64,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\" style=\"position:absolute;width:100%;height:100%;left:0;top:0;border:none !important;\" allowfullscreen webkitallowfullscreen mozallowfullscreen></iframe></div></div>"
      ],
      "text/plain": [
       "<folium.folium.Map at 0x7fc1f5741f98>"
      ]
     },
     "execution_count": 2,
     "metadata": {},
     "output_type": "execute_result"
    }
   ],
   "source": [
    "# Centre point of spatial query\n",
    "lat, lon = -33.7169, 151.2975\n",
    "time_period = ('2016-01-15', '2016-04-01')\n",
    "\n",
    "# Desired output resolution and projection for both datasets\n",
    "output_crs = 'EPSG:28356'\n",
    "output_resolution = (30, 30)\n",
    "output_resamp_continuous = 'bilinear'\n",
    "output_resamp_categorical = 'nearest'\n",
    "\n",
    "# Bands/measurements to load\n",
    "collectionupgrade_bands = ['nbart_red', 'nbart_green', 'nbart_blue', 'nbart_nir', 'nbart_swir_1', 'nbart_swir_2']\n",
    "currentcollection_bands = ['red', 'blue', 'green', 'nir', 'swir1', 'swir2']\n",
    "\n",
    "# Set up query\n",
    "query = {'lon': (lon - 0.03, lon + 0.03),\n",
    "         'lat': (lat - 0.03, lat + 0.03),\n",
    "         'time': time_period}\n",
    "\n",
    "# Preview spatial query\n",
    "DEAPlotting.display_map(x=query['lon'], y=query['lat'], crs='EPSG:4326')\n"
   ]
  },
  {
   "cell_type": "markdown",
   "metadata": {},
   "source": [
    "## Load in collection upgrade data"
   ]
  },
  {
   "cell_type": "code",
   "execution_count": null,
   "metadata": {},
   "outputs": [],
   "source": [
    "xarray_dict = {}\n",
    "\n",
    "# Iterate through each sensor\n",
    "for sensor in ['ls8']:\n",
    "\n",
    "    # Load data \n",
    "    landsat_ds = dc_ard.load(product = f'{sensor}_ard', \n",
    "                             measurements = collectionupgrade_bands,\n",
    "                             output_crs = output_crs,\n",
    "                             resolution = output_resolution,\n",
    "                             resampling = output_resamp_continuous,\n",
    "                             group_by = 'solar_day', \n",
    "                             **query)\n",
    "    \n",
    "    # Load PQ data seperately (this enables using a different resampling method on \n",
    "    # continuous surface reflectance values vs categorical fmask/PQ values)\n",
    "    landsat_pq = dc_ard.load(product = f'{sensor}_ard', \n",
    "                             measurements = ['fmask'],\n",
    "                             output_crs = output_crs,\n",
    "                             resolution = output_resolution,\n",
    "                             resampling = output_resamp_categorical,\n",
    "                             group_by = 'solar_day', \n",
    "                             **query)\n",
    "\n",
    "    # Identify pixels with valid data: no nodata AND no cloud AND no cloud shadow\n",
    "    good_quality = ((landsat_pq.fmask != 0) & \n",
    "                    (landsat_pq.fmask != 2) & \n",
    "                    (landsat_pq.fmask != 3))\n",
    "\n",
    "    # Apply mask to set all PQ-affected pixels to NaN and set nodata to NaN\n",
    "    landsat_ds = landsat_ds.where(good_quality)\n",
    "\n",
    "    # Add to list\n",
    "    xarray_dict[sensor] = landsat_ds\n",
    "\n",
    "# Concatenate multiple sensors into one dataset\n",
    "landsat_collectionupgrade = xr.concat(xarray_dict.values(), dim='time')\n",
    "landsat_collectionupgrade = landsat_collectionupgrade.sortby('time')\n",
    "landsat_collectionupgrade"
   ]
  },
  {
   "cell_type": "markdown",
   "metadata": {},
   "source": [
    "## Load in current collection data"
   ]
  },
  {
   "cell_type": "code",
   "execution_count": null,
   "metadata": {},
   "outputs": [],
   "source": [
    "xarray_dict = {}\n",
    "\n",
    "for sensor in ['ls8']:\n",
    "\n",
    "    # Load data \n",
    "    landsat_ds = dc.load(product = f'{sensor}_nbart_albers', \n",
    "                         measurements = currentcollection_bands,\n",
    "                         output_crs = output_crs,\n",
    "                         resolution = output_resolution,\n",
    "                         resampling = output_resamp_continuous,\n",
    "                         group_by = 'solar_day', \n",
    "                         **query)\n",
    "\n",
    "    # Load PQ data \n",
    "    landsat_pq = dc.load(product = f'{sensor}_pq_albers', \n",
    "                         measurements = ['pixelquality'],\n",
    "                         output_crs = output_crs,\n",
    "                         resolution = output_resolution,\n",
    "                         resampling = output_resamp_categorical,\n",
    "                         group_by = 'solar_day', \n",
    "                         **query)                       \n",
    "\n",
    "    # Filter to subset of Landsat observations that have matching PQ data \n",
    "    time = (landsat_ds.time - landsat_pq.time).time\n",
    "    landsat_ds = landsat_ds.sel(time=time)\n",
    "    landsat_pq = landsat_pq.sel(time=time)\n",
    "\n",
    "    # Create PQ mask\n",
    "    good_quality = masking.make_mask(landsat_pq.pixelquality,\n",
    "                                     cloud_acca='no_cloud',\n",
    "                                     cloud_shadow_acca='no_cloud_shadow',\n",
    "                                     cloud_shadow_fmask='no_cloud_shadow',\n",
    "                                     cloud_fmask='no_cloud',\n",
    "                                     blue_saturated=False,\n",
    "                                     green_saturated=False,\n",
    "                                     red_saturated=False,\n",
    "                                     nir_saturated=False,\n",
    "                                     swir1_saturated=False,\n",
    "                                     swir2_saturated=False,\n",
    "                                     contiguous=True) \n",
    "    \n",
    "    # Apply mask to set all PQ-affected pixels to NaN and set nodata to NaN\n",
    "    landsat_ds = landsat_ds.where(good_quality)\n",
    "\n",
    "    # Add result to dict\n",
    "    xarray_dict[sensor] = landsat_ds\n",
    "\n",
    "# Concatenate multiple sensors into one dataset\n",
    "landsat_currentcollection = xr.concat(xarray_dict.values(), dim='time')\n",
    "landsat_currentcollection = landsat_ds.sortby('time')\n",
    "landsat_currentcollection"
   ]
  },
  {
   "cell_type": "markdown",
   "metadata": {},
   "source": [
    "## Make both datasets consistent\n",
    "Both collections have different band names and slightly different time stamps. Here we make both consistent so they can be analysed more easily in xarray:"
   ]
  },
  {
   "cell_type": "code",
   "execution_count": null,
   "metadata": {},
   "outputs": [],
   "source": [
    "# Round both dataset timestamps to daily because both datasets have different timestamps\n",
    "landsat_collectionupgrade.coords['time'] = landsat_collectionupgrade.time.astype('datetime64[D]')\n",
    "landsat_currentcollection.coords['time'] = landsat_currentcollection.time.astype('datetime64[D]')\n",
    "\n",
    "# Rename current collection bands to match collection upgrade\n",
    "band_rename_dict = {'red': 'nbart_red', 'green':'nbart_green', 'blue': 'nbart_blue',\n",
    "                    'nir': 'nbart_nir', 'swir1': 'nbart_swir_1', 'swir2': 'nbart_swir_2'}\n",
    "landsat_currentcollection.rename(band_rename_dict, inplace=True)\n",
    "landsat_currentcollection"
   ]
  },
  {
   "cell_type": "markdown",
   "metadata": {},
   "source": [
    "## Plot both datasets"
   ]
  },
  {
   "cell_type": "code",
   "execution_count": null,
   "metadata": {},
   "outputs": [],
   "source": [
    "DEAPlotting.rgb(landsat_currentcollection, bands=['nbart_red', 'nbart_green', 'nbart_blue'], col='time')"
   ]
  },
  {
   "cell_type": "code",
   "execution_count": null,
   "metadata": {},
   "outputs": [],
   "source": [
    "DEAPlotting.rgb(landsat_collectionupgrade, bands=['nbart_red', 'nbart_green', 'nbart_blue'], col='time')"
   ]
  },
  {
   "cell_type": "markdown",
   "metadata": {},
   "source": [
    "## Compute differences"
   ]
  },
  {
   "cell_type": "code",
   "execution_count": null,
   "metadata": {},
   "outputs": [],
   "source": [
    "# Subtract collection upgrade \n",
    "collection_diffs = landsat_currentcollection - landsat_collectionupgrade"
   ]
  },
  {
   "cell_type": "code",
   "execution_count": null,
   "metadata": {},
   "outputs": [],
   "source": [
    "# Plot differences for each band\n",
    "collection_diffs.to_array().plot(col='variable', row='time', size=4, vmin=-200, vmax=200, cmap='RdBu', aspect=1)"
   ]
  },
  {
   "cell_type": "code",
   "execution_count": null,
   "metadata": {},
   "outputs": [],
   "source": []
  }
 ],
 "metadata": {
  "kernelspec": {
   "display_name": "Python [default]",
   "language": "python",
   "name": "python3"
  },
  "language_info": {
   "codemirror_mode": {
    "name": "ipython",
    "version": 3
   },
   "file_extension": ".py",
   "mimetype": "text/x-python",
   "name": "python",
   "nbconvert_exporter": "python",
   "pygments_lexer": "ipython3",
   "version": "3.6.6"
  }
 },
 "nbformat": 4,
 "nbformat_minor": 2
}
