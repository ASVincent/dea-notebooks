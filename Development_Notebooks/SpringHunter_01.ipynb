{
 "cells": [
  {
   "cell_type": "markdown",
   "metadata": {},
   "source": [
    "## This notebook aims to create a set of output layers in the hunt for springs.  "
   ]
  },
  {
   "cell_type": "markdown",
   "metadata": {},
   "source": [
    "##FIXME\n",
    "\n",
    "- it uses WOfS and tasselled cap wetness to look at potential location and seasonality of springs\n",
    " - it outputs a layer of water bodies identified using WOFS where water is present >90% of obs \n",
    " - it outputs a layer intersecting with major rivers\n",
    " - it then calculates tasselled cap wetness in the same area, and calculates either overthreshold wetness or percentiles, I haven't decided yet. \n",
    " "
   ]
  },
  {
   "cell_type": "markdown",
   "metadata": {},
   "source": [
    "### load some modules"
   ]
  },
  {
   "cell_type": "code",
   "execution_count": 23,
   "metadata": {
    "ExecuteTime": {
     "end_time": "2018-08-15T22:37:38.271435Z",
     "start_time": "2018-08-15T22:37:36.394665Z"
    }
   },
   "outputs": [],
   "source": [
    "%matplotlib inline\n",
    "\n",
    "#load common modules\n",
    "#import matplotlib.gridspec as gridspec\n",
    "import matplotlib.pyplot as plt\n",
    "import numpy as np\n",
    "import os\n",
    "import sys\n",
    "import xarray as xr\n",
    "\n",
    "\n",
    "# load more specific modules - check we need all of these\n",
    "import rasterio.features\n",
    "from shapely.geometry import Polygon, shape\n",
    "from descartes import PolygonPatch\n",
    "import fiona\n",
    "from fiona.crs import from_epsg\n",
    "import geopandas as gp\n",
    "\n",
    "#plotting libraries\n",
    "import seaborn as sns\n",
    "from matplotlib.colors import ListedColormap, LinearSegmentedColormap\n",
    "import matplotlib as mpl\n",
    "from matplotlib import colors\n",
    "\n",
    "#modules for datacube -local/specific modules\n",
    "import datacube\n",
    "from datacube.storage import masking\n",
    "from datacube.storage.storage import write_dataset_to_netcdf\n",
    "from datacube_stats.statistics import Percentile\n",
    "from datacube.helpers import ga_pq_fuser, write_geotiff\n",
    "from digitalearthau.utils import wofs_fuser ## this is the group_by for wofs! \n",
    "\n",
    "# Import external functions from dea-notebooks --note Scripts directory has moved recently\n",
    "sys.path.append(os.path.expanduser('~/dea-notebooks/Scripts/')) #-remove this when it's no longer necessary\n",
    "sys.path.append(os.path.expanduser('~/dea-notebooks/10_Scripts/'))\n",
    "import DEAPlotting, DEADataHandling, TasseledCapTools\n",
    "\n",
    "#ignore datacube warnings (needs to be last import statement)\n",
    "import warnings\n",
    "warnings.filterwarnings('ignore', module='datacube')\n",
    "\n",
    "# set datacube alias (just a string with what you're doing)\n",
    "dc = datacube.Datacube(app='dc-wofs_tci_workflows')\n",
    "\n",
    "#use autoreload\n",
    "%load_ext autoreload\n",
    "%autoreload 2"
   ]
  },
  {
   "cell_type": "markdown",
   "metadata": {},
   "source": [
    "### set up a query to request an area and epoch from DEA"
   ]
  },
  {
   "cell_type": "code",
   "execution_count": 24,
   "metadata": {
    "ExecuteTime": {
     "end_time": "2018-08-15T22:41:17.891100Z",
     "start_time": "2018-08-15T22:41:17.884459Z"
    }
   },
   "outputs": [],
   "source": [
    "# #Test area of LBG\n",
    "# query = {\n",
    "#         'lat': (-35.25, -35.35),\n",
    "#         'lon': (149.05, 149.17),\n",
    "#         'time':('2015-01-01', '2017-01-31')\n",
    "#         }"
   ]
  },
  {
   "cell_type": "code",
   "execution_count": 3,
   "metadata": {
    "ExecuteTime": {
     "end_time": "2018-08-15T04:32:36.694707Z",
     "start_time": "2018-08-15T04:32:36.678277Z"
    }
   },
   "outputs": [],
   "source": [
    "#realise that you can't test this workflow where there is possibly no wofs!!!"
   ]
  },
  {
   "cell_type": "code",
   "execution_count": 4,
   "metadata": {
    "ExecuteTime": {
     "end_time": "2018-08-15T04:32:36.700388Z",
     "start_time": "2018-08-15T04:32:36.697424Z"
    }
   },
   "outputs": [],
   "source": [
    "# query = {'lat': (-19.811706, -19.814554),\n",
    "#          'lon': (145.289547, 145.272579),\n",
    "#          'time':('2016-10-01', '2017-05-01')\n",
    "#          }"
   ]
  },
  {
   "cell_type": "code",
   "execution_count": 5,
   "metadata": {
    "ExecuteTime": {
     "end_time": "2018-08-15T04:32:36.715310Z",
     "start_time": "2018-08-15T04:32:36.702712Z"
    }
   },
   "outputs": [],
   "source": [
    "query = {'lat': (-19.94, -20.109),\n",
    "         'lon': (145.383,145.684),\n",
    "         'time':('2016-10-01', '2017-05-01')\n",
    "         }"
   ]
  },
  {
   "cell_type": "markdown",
   "metadata": {},
   "source": [
    "### load wofs"
   ]
  },
  {
   "cell_type": "code",
   "execution_count": 6,
   "metadata": {
    "ExecuteTime": {
     "end_time": "2018-08-15T04:32:39.604358Z",
     "start_time": "2018-08-15T04:32:36.717746Z"
    }
   },
   "outputs": [],
   "source": [
    "#load the wofs feature layers (wofls) within the same query as Fractional cover, using 'like'\n",
    "\n",
    "wofls = dc.load(product = 'wofs_albers',group_by='solar_day', fuse_func=wofs_fuser, **query)"
   ]
  },
  {
   "cell_type": "markdown",
   "metadata": {},
   "source": [
    "### work out wofs percentage as the percentage of observations where wofs=wet, over the stack that wofs had valid observations (obs were wet or dry)"
   ]
  },
  {
   "cell_type": "code",
   "execution_count": 21,
   "metadata": {
    "ExecuteTime": {
     "end_time": "2018-08-15T06:25:20.101933Z",
     "start_time": "2018-08-15T06:25:19.965716Z"
    }
   },
   "outputs": [],
   "source": [
    "#count wet observations\n",
    "wetwofls = masking.make_mask(wofls, wet=True)\n",
    "#count where water = True\n",
    "wofs_count = wetwofls.sum(dim='time', keep_attrs=True) \n",
    "#wofs_count.water.plot()\n",
    "#plt.show()\n",
    "\n",
    "#count dry observations\n",
    "drywofls = masking.make_mask(wofls, dry=True) \n",
    "dry_wofs_count = drywofls.sum(dim='time', keep_attrs=True)\n",
    "#dry_wofs_count.water.plot()\n",
    "#plt.show()\n",
    "\n",
    "#wofs percentage = wofs where wet or dry (valid data)\n",
    "wofs_percentage = ((wofs_count/(dry_wofs_count+wofs_count))*100)\n",
    "#wofs_percentage.where(wofs_percentage!=0).water.plot(figsize=(10,10))\n",
    "#plt.show()"
   ]
  },
  {
   "cell_type": "code",
   "execution_count": null,
   "metadata": {},
   "outputs": [],
   "source": [
    "def discrete_colour_bar_plot(ds:\n",
    "\"\"\" this function \"\"\"\n",
    "import seaborn as sns\n",
    "from matplotlib.colors import ListedColormap, LinearSegmentedColormap\n",
    "import matplotlib as mpl\n",
    "from matplotlib import colors"
   ]
  },
  {
   "cell_type": "code",
   "execution_count": 14,
   "metadata": {
    "ExecuteTime": {
     "end_time": "2018-08-15T05:24:32.511007Z",
     "start_time": "2018-08-15T05:24:32.497820Z"
    }
   },
   "outputs": [],
   "source": [
    "###\n",
    "\n",
    "bounds = list(range(0, 110,10))\n",
    "\n",
    "sns_cmap = colors.ListedColormap(sns.cubehelix_palette(n_colors=len(bounds),start=.5, rot=-.75).as_hex())\n",
    "#sns_cmap = sns.cubehelix_palette(n_colors=len(boundaries),as_cmap=True)\n",
    "#hex_colors = [hex_colors[i] for i in range(0, len(hex_colors))]\n",
    "norm =mpl.colors.BoundaryNorm(bounds, sns_cmap.N)"
   ]
  },
  {
   "cell_type": "code",
   "execution_count": 15,
   "metadata": {
    "ExecuteTime": {
     "end_time": "2018-08-15T05:24:35.346281Z",
     "start_time": "2018-08-15T05:24:34.729172Z"
    },
    "scrolled": true
   },
   "outputs": [
    {
     "data": {
      "image/png": "[encoded data removed]",
      "text/plain": [
       "<Figure size 936x936 with 2 Axes>"
      ]
     },
     "metadata": {},
     "output_type": "display_data"
    }
   ],
   "source": [
    "plt.figure(figsize=(13,13))\n",
    "img = plt.imshow(wofs_percentage.water,\n",
    "                 cmap=sns_cmap, norm=norm)\n",
    "cbar = plt.colorbar(img, cmap=sns_cmap, norm=norm, boundaries=bounds)#, \n",
    "                    #ticks=[i + 5 for i in bounds[:-1]])\n",
    "#bar.ax.set_yticklabels(['Class 1', 'Class 2', 'Class 3'])\n",
    "plt.tight_layout()\n",
    "plt.show()\n"
   ]
  },
  {
   "cell_type": "code",
   "execution_count": 27,
   "metadata": {
    "ExecuteTime": {
     "end_time": "2018-08-15T22:59:14.722248Z",
     "start_time": "2018-08-15T22:59:14.707870Z"
    }
   },
   "outputs": [],
   "source": [
    "def plot_WOfS(ds, figsize=(10,10), title='Time'. projection='projected'):\n",
    "    \"\"\"Use the DEA WOfS color ramp to plot WOfS percentage data. \n",
    "    \n",
    "    Last modified: August 2018\n",
    "    Authors: Bex Dunn, Mike Barnes, Claire Krause, Cate Kooymans and Robbi Bishop-Taylor\n",
    "    This function uses code from the 'three band image' function \n",
    "    of DEAPlotting, authored by Mike Barnes, Claire Krause, Cate Kooymans and Robbi Bishop-Taylor\n",
    "    \n",
    "    :param ds:\n",
    "    An xarray dataset containing the bands to be plotted. For correct axis scales, the xarray\n",
    "    will ideally have spatial data (e.g. an `.extent` method)\n",
    "\n",
    "     :param figsize:\n",
    "    Optional tuple or list giving the dimensions of the output plot (defaults to `(10, 10)`)\n",
    "\n",
    "    :param title:\n",
    "    Optional string for the plot title. If left as the default 'Time', the title will be taken from\n",
    "    the timestep of the plotted image if available\n",
    "\n",
    "    :param projection:\n",
    "    Determines if the image is in degrees or northings (options are 'projected' or 'geographic')\n",
    "\n",
    "    :return fig:\n",
    "    A matplotlib figure object for customised plotting\n",
    "    \n",
    "    :return ax:\n",
    "    A matplotlib axis object for customised plotting    \n",
    "    \"\"\"\n",
    "    \n",
    "    from matplotlib.colors import ListedColormap\n",
    "    #hex definitions for the color map    \n",
    "    wofs_cmap = mpl.colors.ListedColormap(['#000000', '#e38400', '#e3df00', '#62e300',\n",
    "                                           '#00e384', '#00e3c8', '#00c5e3', '#0097e3', \n",
    "                                           '#005fe3', '#000fe3', '#5700e3'])\n",
    "    #color steps\n",
    "    wofs_bounds = [0, 10, 20, 30, 40, 50, 60, 70, 80, 90, 100]\n",
    "    wofs_norm = mpl.colors.BoundaryNorm(wofs_bounds, wofs_cmap.N)\n",
    "      \n",
    "    #Create WOfS image with specified colour ramp details\n",
    "    # Plot figure, setting x and y axes from extent of xarray dataset\n",
    "    fig, ax = plt.subplots(figsize=figsize)\n",
    "    \n",
    "    try:\n",
    "\n",
    "        # Plot with correct coords by setting extent if dataset has spatial data (e.g. an `.extent` method).\n",
    "        # This also allows the resulting image to be overlaid with other spatial data (e.g. a polygon or point)\n",
    "        left, bottom, right, top = ds.extent.boundingbox\n",
    "        plt.imshow(img_toshow, extent=[left, right, bottom, top])\n",
    "\n",
    "    except:\n",
    "\n",
    "        # Plot without coords if dataset has no spatial data (e.g. an `.extent` method)\n",
    "        print(\"xarray dataset has no spatial data; defaulting to plotting without coordinates. \"\n",
    "              \"This can often be resolved by adding `keep_attrs = True` during an aggregation step\")\n",
    "        plt.imshow(img_toshow)\n",
    "    \n",
    "    \n",
    "    \n",
    "    \n",
    "    i=ds.plot.imshow(cmap = wofs_cmap,norm=wofs_norm,vmin = 0, vmax = 100)\n",
    "\n",
    "    plt.colorbar(i, ticks=wofs_bounds, \n",
    "                ).set_label(label='WOfS (%)',\n",
    "                 size=12) #Add definable colour bar\n",
    "    fig.delaxes(fig.axes[1]) #Remove pre-defined colour bar\n",
    "    \n",
    "    # Manually defined title\n",
    "        ax.set_title(title, fontweight='bold', fontsize=14)\n",
    "\n",
    "    # Set x and y axis titles depending on projection\n",
    "    if projection == 'geographic':\n",
    "\n",
    "        ax.set_xlabel('Longitude', fontweight='bold')\n",
    "        ax.set_ylabel('Latitude', fontweight='bold')\n",
    "        \n",
    "    else:\n",
    "\n",
    "        ax.set_xlabel('Eastings', fontweight='bold')\n",
    "        ax.set_ylabel('Northings', fontweight='bold')\n",
    "        \n",
    "    return fig, ax\n"
   ]
  },
  {
   "cell_type": "code",
   "execution_count": 32,
   "metadata": {
    "ExecuteTime": {
     "end_time": "2018-08-15T23:14:46.407058Z",
     "start_time": "2018-08-15T23:14:46.399649Z"
    }
   },
   "outputs": [],
   "source": [
    "wofs_percentage.attrs = ds.attrs"
   ]
  },
  {
   "cell_type": "code",
   "execution_count": 34,
   "metadata": {
    "ExecuteTime": {
     "end_time": "2018-08-15T23:15:00.997190Z",
     "start_time": "2018-08-15T23:15:00.982209Z"
    }
   },
   "outputs": [
    {
     "data": {
      "text/plain": [
       "Geometry(POLYGON ((1390250 -2210400,1390250 -2232425,1423425 -2232425,1423425 -2210400,1390250 -2210400)), EPSG:3577)"
      ]
     },
     "execution_count": 34,
     "metadata": {},
     "output_type": "execute_result"
    }
   ],
   "source": [
    "wofs_percentage.extent"
   ]
  },
  {
   "cell_type": "markdown",
   "metadata": {
    "ExecuteTime": {
     "end_time": "2018-08-15T04:53:22.948840Z",
     "start_time": "2018-08-15T04:53:22.912713Z"
    }
   },
   "source": [
    "## Sort waterbodies into Lacustrine (>8ha, 80000m^2), Palustrine, Riverine (ignoring estuarine, marine, subterranean)\n",
    "e.g. (qld des wetland link)[https://wetlandinfo.ehp.qld.gov.au/wetlands/what-are-wetlands/definitions-classification/system-definitions.html ]"
   ]
  },
  {
   "cell_type": "code",
   "execution_count": null,
   "metadata": {},
   "outputs": [],
   "source": []
  },
  {
   "cell_type": "code",
   "execution_count": 29,
   "metadata": {
    "ExecuteTime": {
     "end_time": "2018-08-15T22:59:30.747480Z",
     "start_time": "2018-08-15T22:59:30.284405Z"
    }
   },
   "outputs": [
    {
     "data": {
      "image/png": "[encoded data removed]",
      "text/plain": [
       "<Figure size 720x360 with 2 Axes>"
      ]
     },
     "metadata": {},
     "output_type": "display_data"
    }
   ],
   "source": [
    "plot_wofs(wofs_percentage.water)"
   ]
  },
  {
   "cell_type": "code",
   "execution_count": 16,
   "metadata": {
    "ExecuteTime": {
     "end_time": "2018-08-15T05:25:36.401531Z",
     "start_time": "2018-08-15T05:24:56.256546Z"
    }
   },
   "outputs": [
    {
     "name": "stdout",
     "output_type": "stream",
     "text": [
      "Loading ls5 PQ\n",
      "    Skipping ls5\n",
      "Loading ls7 PQ\n",
      "    Loading 10 filtered ls7 timesteps\n",
      "Loading ls8 PQ\n",
      "    Loading 13 filtered ls8 timesteps\n",
      "Combining and sorting ls5, ls7 and ls8 data\n"
     ]
    }
   ],
   "source": [
    "#load landsat data for the same time period\n",
    "ds = DEADataHandling.load_clearlandsat(dc, query, masked_prop=0)"
   ]
  },
  {
   "cell_type": "code",
   "execution_count": 19,
   "metadata": {
    "ExecuteTime": {
     "end_time": "2018-08-15T05:26:56.502091Z",
     "start_time": "2018-08-15T05:26:51.891414Z"
    }
   },
   "outputs": [],
   "source": [
    "tci = TasseledCapTools.thresholded_tasseled_cap(ds, wetness_threshold=-350, drop_tc_bands=False)"
   ]
  },
  {
   "cell_type": "code",
   "execution_count": 22,
   "metadata": {
    "ExecuteTime": {
     "end_time": "2018-08-15T06:27:33.424239Z",
     "start_time": "2018-08-15T06:27:33.386173Z"
    }
   },
   "outputs": [
    {
     "data": {
      "text/plain": [
       "<xarray.Dataset>\n",
       "Dimensions:                 (time: 23, x: 1327, y: 881)\n",
       "Coordinates:\n",
       "  * y                       (y) float64 -2.21e+06 -2.21e+06 -2.21e+06 ...\n",
       "  * x                       (x) float64 1.39e+06 1.39e+06 1.39e+06 1.39e+06 ...\n",
       "  * time                    (time) datetime64[ns] 2016-10-07T00:17:29 ...\n",
       "Data variables:\n",
       "    greenness               (time, y, x) float64 531.1 556.8 522.5 496.9 ...\n",
       "    greenness_thresholded   (time, y, x) float64 nan nan nan nan nan nan nan ...\n",
       "    brightness              (time, y, x) float64 2.934e+03 2.883e+03 ...\n",
       "    brightness_thresholded  (time, y, x) float64 nan nan nan nan nan nan nan ...\n",
       "    wetness                 (time, y, x) float64 -2.046e+03 -1.971e+03 ...\n",
       "    wetness_thresholded     (time, y, x) float64 nan nan nan nan nan nan nan ...\n",
       "Attributes:\n",
       "    crs:      EPSG:3577"
      ]
     },
     "execution_count": 22,
     "metadata": {},
     "output_type": "execute_result"
    }
   ],
   "source": [
    "tci"
   ]
  },
  {
   "cell_type": "code",
   "execution_count": null,
   "metadata": {},
   "outputs": [],
   "source": []
  },
  {
   "cell_type": "code",
   "execution_count": null,
   "metadata": {},
   "outputs": [],
   "source": []
  },
  {
   "cell_type": "code",
   "execution_count": null,
   "metadata": {},
   "outputs": [],
   "source": []
  },
  {
   "cell_type": "code",
   "execution_count": null,
   "metadata": {},
   "outputs": [],
   "source": []
  },
  {
   "cell_type": "code",
   "execution_count": null,
   "metadata": {},
   "outputs": [],
   "source": []
  },
  {
   "cell_type": "code",
   "execution_count": 11,
   "metadata": {
    "ExecuteTime": {
     "end_time": "2018-08-15T04:49:16.648028Z",
     "start_time": "2018-08-15T04:48:49.917627Z"
    }
   },
   "outputs": [],
   "source": [
    "MajorRivers = gp.GeoDataFrame.from_file('/g/data/r78/cek156/ShapeFiles/SurfaceHydrologyLinesRegionalFilteredMAJOR.shp') "
   ]
  },
  {
   "cell_type": "code",
   "execution_count": 13,
   "metadata": {
    "ExecuteTime": {
     "end_time": "2018-08-15T05:24:13.240231Z",
     "start_time": "2018-08-15T05:24:13.193766Z"
    }
   },
   "outputs": [
    {
     "ename": "NameError",
     "evalue": "name 'WOFSOFSbig' is not defined",
     "output_type": "error",
     "traceback": [
      "\u001b[0;31m---------------------------------------------------------------------------\u001b[0m",
      "\u001b[0;31mNameError\u001b[0m                                 Traceback (most recent call last)",
      "\u001b[0;32m<ipython-input-13-6ef923bfadd3>\u001b[0m in \u001b[0;36m<module>\u001b[0;34m()\u001b[0m\n\u001b[0;32m----> 1\u001b[0;31m \u001b[0mWOFSOFSbreaktuple\u001b[0m \u001b[0;34m=\u001b[0m \u001b[0;34m[\u001b[0m\u001b[0ma\u001b[0m \u001b[0;32mfor\u001b[0m \u001b[0ma\u001b[0m\u001b[0;34m,\u001b[0m \u001b[0mb\u001b[0m \u001b[0;32min\u001b[0m \u001b[0mlist\u001b[0m\u001b[0;34m(\u001b[0m\u001b[0mWOFSOFSbig\u001b[0m\u001b[0;34m)\u001b[0m\u001b[0;34m]\u001b[0m\u001b[0;34m\u001b[0m\u001b[0m\n\u001b[0m\u001b[1;32m      2\u001b[0m \u001b[0;34m\u001b[0m\u001b[0m\n\u001b[1;32m      3\u001b[0m \u001b[0;31m# Grab the geometeries\u001b[0m\u001b[0;34m\u001b[0m\u001b[0;34m\u001b[0m\u001b[0m\n\u001b[1;32m      4\u001b[0m \u001b[0;32mfor\u001b[0m \u001b[0mpoly\u001b[0m \u001b[0;32min\u001b[0m \u001b[0mWOFSOFSbreaktuple\u001b[0m\u001b[0;34m:\u001b[0m\u001b[0;34m\u001b[0m\u001b[0m\n\u001b[1;32m      5\u001b[0m     \u001b[0mpoly\u001b[0m\u001b[0;34m[\u001b[0m\u001b[0;34m'geometry'\u001b[0m\u001b[0;34m]\u001b[0m \u001b[0;34m=\u001b[0m \u001b[0mshape\u001b[0m\u001b[0;34m(\u001b[0m\u001b[0mpoly\u001b[0m\u001b[0;34m)\u001b[0m\u001b[0;34m\u001b[0m\u001b[0m\n",
      "\u001b[0;31mNameError\u001b[0m: name 'WOFSOFSbig' is not defined"
     ]
    }
   ],
   "source": [
    "WOFSOFSbreaktuple = [a for a, b in list(WOFSOFSbig)]\n",
    "\n",
    "# Grab the geometeries\n",
    "for poly in WOFSOFSbreaktuple:\n",
    "    poly['geometry'] = shape(poly)\n",
    "    \n",
    "WOFSOFSfiltered2p0 = gp.GeoDataFrame(WOFSOFSbreaktuple).set_geometry('geometry')\n",
    "Intersections= gp.sjoin(MajorRivers, WOFSOFSfiltered2p0, how=\"inner\", op='intersects')\n",
    "IntersectIndex = sorted(list(set(Intersections['index_right'])))\n",
    "\n",
    "WOFSOFS = [WOFSOFSbreaktuple[x] for x in range(len(WOFSOFSbreaktuple)) \n",
    "                                  if x not in IntersectIndex]"
   ]
  },
  {
   "cell_type": "code",
   "execution_count": null,
   "metadata": {},
   "outputs": [],
   "source": []
  }
 ],
 "metadata": {
  "kernelspec": {
   "display_name": "Python 3",
   "language": "python",
   "name": "python3"
  },
  "language_info": {
   "codemirror_mode": {
    "name": "ipython",
    "version": 3
   },
   "file_extension": ".py",
   "mimetype": "text/x-python",
   "name": "python",
   "nbconvert_exporter": "python",
   "pygments_lexer": "ipython3",
   "version": "3.6.5"
  }
 },
 "nbformat": 4,
 "nbformat_minor": 2
}
