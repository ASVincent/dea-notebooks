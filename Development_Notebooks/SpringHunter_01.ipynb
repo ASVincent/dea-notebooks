{
 "cells": [
  {
   "cell_type": "markdown",
   "metadata": {},
   "source": [
    "## This notebook aims to create a set of output layers in the hunt for springs.  "
   ]
  },
  {
   "cell_type": "markdown",
   "metadata": {},
   "source": [
    "##FIXME\n",
    "\n",
    "- it uses WOfS and tasselled cap wetness to look at potential location and seasonality of springs\n",
    " - it outputs a layer of water bodies identified using WOFS where water is present >90% of obs \n",
    " - it outputs a layer intersecting with major rivers\n",
    " - it then calculates tasselled cap wetness in the same area, and calculates either overthreshold wetness or percentiles, I haven't decided yet. \n",
    " "
   ]
  },
  {
   "cell_type": "code",
   "execution_count": null,
   "metadata": {},
   "outputs": [],
   "source": [
    "# "
   ]
  }
 ],
 "metadata": {
  "kernelspec": {
   "display_name": "Python 3",
   "language": "python",
   "name": "python3"
  },
  "language_info": {
   "codemirror_mode": {
    "name": "ipython",
    "version": 3
   },
   "file_extension": ".py",
   "mimetype": "text/x-python",
   "name": "python",
   "nbconvert_exporter": "python",
   "pygments_lexer": "ipython3",
   "version": "3.6.5"
  }
 },
 "nbformat": 4,
 "nbformat_minor": 2
}
