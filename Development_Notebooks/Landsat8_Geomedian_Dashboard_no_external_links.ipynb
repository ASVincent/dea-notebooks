{
 "cells": [
  {
   "cell_type": "markdown",
   "metadata": {
    "extensions": {
     "jupyter_dashboards": {
      "version": 1,
      "views": {
       "grid_default": {
        "col": 0,
        "height": 4,
        "hidden": false,
        "row": 0,
        "width": 12
       },
       "report_default": {
        "hidden": false
       }
      }
     }
    }
   },
   "source": [
    "\n",
    "# Landsat 8 Geomedian Dashboard"
   ]
  },
  {
   "cell_type": "markdown",
   "metadata": {
    "extensions": {
     "jupyter_dashboards": {
      "version": 1,
      "views": {
       "grid_default": {
        "col": 0,
        "height": 5,
        "hidden": false,
        "row": 4,
        "width": 12
       },
       "report_default": {
        "hidden": false
       }
      }
     }
    }
   },
   "source": [
    "Note: this is a dashboard, so viewers in git will miss out on a lot of the useful images and widgets displaying!\n",
    "\n",
    "\n",
    "__Background:__ [Landsat 8](https://landsat.usgs.gov/landsat-8) data is available from April 2013 onwards. The geometric median ([geomedian](http://ieeexplore.ieee.org/document/8004469/)) is a spatial median composite of satellite data that can be used to look at the statistically \"average\" behavior of an area summarising the chosen time interval. The geometric median preserves relationships between spectral bands - so instead of getting an \"average\" behaviour for each band, you get an overall measure of the central tendency that works spatially, temporally and spectrally.\n",
    "\n",
    "__Before you run this notebook:__ This notebook uses the dea statistics module. You need to run \"module load dea\" in a terminal window and then launch jupyter notebooks in the same window so that your notebook can 'see' the stats module.\n",
    "\n",
    "__What does this notebook do?:__ This notebook interactively creates a geomedian composite of Landsat 8 data. You can then save the data as a png image, netcdf and geotiff.\n",
    "\n",
    "__Date:__ May 2018\n",
    "\n",
    "__Authors:__ Bex Dunn, Vanessa Newey, Josh Sixsmith, Erin Telfer"
   ]
  },
  {
   "cell_type": "raw",
   "metadata": {
    "extensions": {
     "jupyter_dashboards": {
      "version": 1,
      "views": {
       "grid_default": {
        "hidden": true
       },
       "report_default": {
        "hidden": false
       }
      }
     }
    },
    "raw_mimetype": "text/restructuredtext"
   },
   "source": [
    "Tags: :index:`Landsat8`, :index:`geomedian`, :index:`shapefile`, :index:`ipywidgets`, :index:`Geotiff`, :index:`ipyleaflet`"
   ]
  },
  {
   "cell_type": "markdown",
   "metadata": {
    "ExecuteTime": {
     "end_time": "2018-02-13T03:40:16.537685Z",
     "start_time": "2018-02-13T03:40:16.535248Z"
    },
    "extensions": {
     "jupyter_dashboards": {
      "version": 1,
      "views": {
       "grid_default": {
        "col": 0,
        "height": 4,
        "hidden": false,
        "row": 9,
        "width": 4
       },
       "report_default": {
        "hidden": true
       }
      }
     }
    }
   },
   "source": [
    "### import modules"
   ]
  },
  {
   "cell_type": "code",
   "execution_count": 1,
   "metadata": {
    "ExecuteTime": {
     "end_time": "2018-05-16T23:07:59.993348Z",
     "start_time": "2018-05-16T23:07:56.454381Z"
    },
    "extensions": {
     "jupyter_dashboards": {
      "version": 1,
      "views": {
       "grid_default": {
        "hidden": true
       },
       "report_default": {
        "hidden": false
       }
      }
     }
    }
   },
   "outputs": [],
   "source": [
    "import pandas as pd\n",
    "import xarray as xr\n",
    "import datetime #for widget date validation\n",
    "import numpy as np\n",
    "import datacube #modules for datacube and dea stats\n",
    "#test geotiff writer function\n",
    "from datacube.helpers import ga_pq_fuser, write_geotiff\n",
    "from datacube.storage import masking\n",
    "from datacube.storage.masking import mask_to_dict\n",
    "from datacube_stats.statistics import GeoMedian\n",
    "dc = datacube.Datacube(app='dc-tcw and geomedian')\n",
    "import fiona\n",
    "import shapely.geometry\n",
    "import rasterio.features\n",
    "import rasterio\n",
    "from datacube.utils import geometry\n",
    "import matplotlib.pyplot as plt\n",
    "from ipywidgets import interact #for widgets\n",
    "from IPython.display import display\n",
    "import ipywidgets as widgets\n",
    "import os\n",
    "from skimage import exposure #check if you still need this after you add external fns\n",
    "from matplotlib.pyplot import imshow\n",
    "from datacube.storage.storage import write_dataset_to_netcdf\n",
    "import sys\n",
    "sys.path.append(os.path.abspath('/g/data/r78/vmn547/reference/GWandDEA_bex_ness'))\n",
    "from FileDialogs import *\n",
    "#from bex_functions import *\n",
    "#ignore datacube warnings\n",
    "import warnings\n",
    "warnings.filterwarnings('ignore', module='datacube')\n",
    "#set global variables for widgets\n",
    "global NBART_GM\n",
    "global GEOM\n",
    "global SHAPE_NAME\n",
    "GEOM = None\n",
    "SHAPE_NAME =None"
   ]
  },
  {
   "cell_type": "markdown",
   "metadata": {
    "ExecuteTime": {
     "end_time": "2018-02-14T03:07:35.632427Z",
     "start_time": "2018-02-14T03:07:35.626091Z"
    },
    "extensions": {
     "jupyter_dashboards": {
      "version": 1,
      "views": {
       "grid_default": {
        "col": 4,
        "height": 4,
        "hidden": false,
        "row": 9,
        "width": 4
       },
       "report_default": {
        "hidden": true
       }
      }
     }
    }
   },
   "source": [
    "### Defining functions"
   ]
  },
  {
   "cell_type": "code",
   "execution_count": 2,
   "metadata": {
    "ExecuteTime": {
     "end_time": "2018-05-16T23:08:00.021135Z",
     "start_time": "2018-05-16T23:07:59.995916Z"
    },
    "extensions": {
     "jupyter_dashboards": {
      "version": 1,
      "views": {
       "grid_default": {
        "hidden": true
       },
       "report_default": {
        "hidden": true
       }
      }
     }
    }
   },
   "outputs": [],
   "source": [
    "def open_polygon_from_shapefile(shapefile, index_of_polygon_within_shapefile=0):\n",
    "    '''hide the messy process of getting a polygon input, opening it using fiona and getting the geopolygon out of it for the datacube query \n",
    "    within this function. It will also make sure you have the correct crs object for the DEA'''\n",
    "\n",
    "    # open all the shapes within the shape file\n",
    "    shapes = fiona.open(shapefile)\n",
    "    i =index_of_polygon_within_shapefile\n",
    "    #print('shapefile index is '+str(i))\n",
    "    if i > len(shapes):\n",
    "        print('index not in the range for the shapefile'+str(i)+' not in '+str(len(shapes)))\n",
    "        sys.exit(0)\n",
    "    #copy attributes from shapefile and define shape_name\n",
    "    geom_crs = geometry.CRS(shapes.crs_wkt)\n",
    "    geo = shapes[i]['geometry']\n",
    "    geom = geometry.Geometry(geo, crs=geom_crs)\n",
    "    geom_bs = shapely.geometry.shape(shapes[i]['geometry'])\n",
    "    shape_name = shapefile.split('/')[-1].split('.')[0]+'_'+str(i)\n",
    "    #print('the name of your shape is '+shape_name)\n",
    "    #get your polygon out as a geom to go into the query, and the shape name for file names later\n",
    "    return geom, shape_name"
   ]
  },
  {
   "cell_type": "code",
   "execution_count": 3,
   "metadata": {
    "ExecuteTime": {
     "end_time": "2018-05-16T23:08:00.095539Z",
     "start_time": "2018-05-16T23:08:00.023151Z"
    },
    "extensions": {
     "jupyter_dashboards": {
      "version": 1,
      "views": {
       "grid_default": {
        "hidden": true
       },
       "report_default": {
        "hidden": false
       }
      }
     }
    }
   },
   "outputs": [],
   "source": [
    "def load_nbart(sensor,query, bands_of_interest): \n",
    "    '''loads nbart data for a sensor, masks using pq, then filters out terrain -999s\n",
    "    function written 23-08-2017 based on dc v1.5.1'''  \n",
    "    dataset = []\n",
    "    product_name = '{}_{}_albers'.format(sensor, 'nbart')\n",
    "    print('loading {}'.format(product_name))\n",
    "    ds = dc.load(product=product_name, measurements=bands_of_interest,\n",
    "                 group_by='solar_day', **query)\n",
    "    #grab crs defs from loaded ds if ds exists\n",
    "    if ds:\n",
    "        crs = ds.crs\n",
    "        affine = ds.affine\n",
    "        print('loaded {}'.format(product_name))\n",
    "        mask_product = '{}_{}_albers'.format(sensor, 'pq')\n",
    "        sensor_pq = dc.load(product=mask_product, fuse_func=ga_pq_fuser,\n",
    "                            group_by='solar_day', **query)\n",
    "        if sensor_pq:\n",
    "            print('making mask {}'.format(mask_product))\n",
    "            cloud_free = masking.make_mask(sensor_pq.pixelquality,\n",
    "                                           cloud_acca='no_cloud',\n",
    "                                           cloud_shadow_acca = 'no_cloud_shadow',                           \n",
    "                                           cloud_shadow_fmask = 'no_cloud_shadow',\n",
    "                                           cloud_fmask='no_cloud',\n",
    "                                           blue_saturated = False,\n",
    "                                           green_saturated = False,\n",
    "                                           red_saturated = False,\n",
    "                                           nir_saturated = False,\n",
    "                                           swir1_saturated = False,\n",
    "                                           swir2_saturated = False,\n",
    "                                           contiguous=True)\n",
    "            ds = ds.where(cloud_free)\n",
    "            ds.attrs['crs'] = crs\n",
    "            ds.attrs['affine'] = affine\n",
    "            print('masked {} with {} and filtered terrain'.format(product_name,mask_product))\n",
    "            # nbarT is correctly used to correct terrain by replacing -999.0 with nan\n",
    "            ds=ds.where(ds!=-999.0)\n",
    "        else: \n",
    "            print('did not mask {} with {}'.format(product_name,mask_product))\n",
    "    else:\n",
    "        print ('did not load {}'.format(product_name)) \n",
    "\n",
    "    if len(ds)>0:\n",
    "        return ds\n",
    "    else:\n",
    "        return None"
   ]
  },
  {
   "cell_type": "code",
   "execution_count": 4,
   "metadata": {
    "ExecuteTime": {
     "end_time": "2018-05-16T23:08:00.121958Z",
     "start_time": "2018-05-16T23:08:00.098059Z"
    },
    "extensions": {
     "jupyter_dashboards": {
      "version": 1,
      "views": {
       "grid_default": {
        "hidden": true
       },
       "report_default": {
        "hidden": true
       }
      }
     }
    }
   },
   "outputs": [],
   "source": [
    "def drawTrueColour(ds, time = 0):\n",
    "    '''code by Mike Barnes Feb 2018 draws true color plots. \n",
    "    altered by bex for drawing composites with no time dimension'''\n",
    "    #t, y, x = ds['red'].shape\n",
    "    y, x = ds['red'].shape\n",
    "    rawimg = np.zeros((y,x,3), dtype = np.float32)\n",
    "    for i, colour in enumerate(['red','green','blue']):\n",
    "        #rawimg[:,:,i] = ds[colour][time].values\n",
    "        rawimg[:,:,i] = ds[colour].values\n",
    "    rawimg[rawimg == -999] = np.nan\n",
    "    img_toshow = exposure.equalize_hist(rawimg, mask = np.isfinite(rawimg))\n",
    "    fig = plt.figure(figsize=[10,10])\n",
    "    imshow(img_toshow)\n",
    "    ax = plt.gca()\n",
    "    #ax.set_title(str(ds.time[time].values))\n"
   ]
  },
  {
   "cell_type": "code",
   "execution_count": 5,
   "metadata": {
    "ExecuteTime": {
     "end_time": "2018-05-16T23:08:00.144818Z",
     "start_time": "2018-05-16T23:08:00.123988Z"
    },
    "extensions": {
     "jupyter_dashboards": {
      "version": 1,
      "views": {
       "grid_default": {
        "hidden": true
       },
       "report_default": {
        "hidden": true
       }
      }
     }
    }
   },
   "outputs": [],
   "source": [
    "def write_your_netcdf(data, dataset_name, filename, crs):\n",
    "    '''this function turns an xarray dataarray into a dataset so we can write it to netcdf. It adds on a crs definition\n",
    "    from the original array. data = your xarray dataset, dataset_name is a string describing your variable'''    \n",
    "    #turn array into dataset so we can write the netcdf\n",
    "    if isinstance(data,xr.DataArray):\n",
    "        dataset= data.to_dataset(name=dataset_name)\n",
    "    elif isinstance(data,xr.Dataset):\n",
    "        dataset = data\n",
    "    else:\n",
    "        print('your data might be the wrong type, it is: '+type(data))\n",
    "    #grab our crs attributes to write a spatially-referenced netcdf\n",
    "    dataset.attrs['crs'] = crs\n",
    "    #dataset.attrs['affine'] =affine\n",
    "    #dataset.dataset_name.attrs['crs'] = crs\n",
    "    try:\n",
    "        write_dataset_to_netcdf(dataset, filename)\n",
    "    except RuntimeError as err:\n",
    "        print(\"RuntimeError: {0}\".format(err))        "
   ]
  },
  {
   "cell_type": "code",
   "execution_count": 6,
   "metadata": {
    "ExecuteTime": {
     "end_time": "2018-05-16T23:08:00.161347Z",
     "start_time": "2018-05-16T23:08:00.146991Z"
    },
    "extensions": {
     "jupyter_dashboards": {
      "version": 1,
      "views": {
       "grid_default": {
        "hidden": true
       },
       "report_default": {
        "hidden": true
       }
      }
     }
    }
   },
   "outputs": [],
   "source": [
    "def write_your_geotiff(filename, data):\n",
    "    '''this function uses rasterio and numpy to write a multi-band geotiff for one timeslice, or for\n",
    "    a single composite image. It assumes the input data is an xarray dataset (note, dataset not dataarray)\n",
    "    and that you have crs and affine objects attached, and that you are using float data. future users\n",
    "    may wish to assert that these assumptions are correct. Bex Dunn+ Josh Sixsmith 260218'''\n",
    "    \n",
    "    kwargs = {'driver': 'GTiff', 'count': len(data.data_vars),#geomedian no time dim\n",
    "              'width': data.sizes['x'], 'height': data.sizes['y'],\n",
    "              'crs' : data.crs.crs_str,\n",
    "              'transform':data.affine,\n",
    "              'dtype': data.blue.values.dtype,\n",
    "              'nodata': 0,'compress': 'deflate', 'zlevel': 4, 'predictor': 3 }#for ints use 2 for floats use 3}\n",
    "\n",
    "    with rasterio.open(filename, 'w', **kwargs) as src:\n",
    "        for i, band in enumerate(data.data_vars):\n",
    "            src.write(data[band].data, i+1)\n"
   ]
  },
  {
   "cell_type": "markdown",
   "metadata": {
    "ExecuteTime": {
     "end_time": "2018-02-14T02:31:06.265607Z",
     "start_time": "2018-02-14T02:31:06.263057Z"
    },
    "extensions": {
     "jupyter_dashboards": {
      "version": 1,
      "views": {
       "grid_default": {
        "col": 4,
        "height": 4,
        "hidden": false,
        "row": 13,
        "width": 4
       },
       "report_default": {
        "hidden": false
       }
      }
     }
    }
   },
   "source": [
    "## Select a shape file for your area of analysis\n",
    "#### if this is larger than 20km x 20km or your time period is long, you may run out of memory"
   ]
  },
  {
   "cell_type": "code",
   "execution_count": 7,
   "metadata": {
    "ExecuteTime": {
     "end_time": "2018-05-16T23:08:00.359560Z",
     "start_time": "2018-05-16T23:08:00.341467Z"
    },
    "extensions": {
     "jupyter_dashboards": {
      "version": 1,
      "views": {
       "grid_default": {
        "hidden": true
       },
       "report_default": {
        "hidden": false
       }
      }
     }
    }
   },
   "outputs": [],
   "source": [
    "#code to work with an input polygon\n",
    "style = {'description_width': 'initial'}\n",
    "shape_file = '/g/data1a/r78/rjd547/groundwater_activities/Burdekin/Burdekin_shapefiles/fels_sml.shp'\n",
    "shape_file_text = widgets.Text(value=shape_file,placeholder='update this field',\n",
    "    description='path to shape file',\n",
    "    style = {'description_width': 'initial'},                          \n",
    "    disabled=False,\n",
    "    layout=widgets.Layout(width='70%'))\n",
    "def handle_shape_file(sender):\n",
    "    shape_file=shape_file_text.value\n",
    "shape_file_text.observe(handle_shape_file)\n",
    "#display(shape_file_text)"
   ]
  },
  {
   "cell_type": "code",
   "execution_count": 8,
   "metadata": {
    "ExecuteTime": {
     "end_time": "2018-05-16T23:08:01.517620Z",
     "start_time": "2018-05-16T23:08:01.481994Z"
    },
    "extensions": {
     "jupyter_dashboards": {
      "version": 1,
      "views": {
       "grid_default": {
        "hidden": true
       },
       "report_default": {
        "hidden": false
       }
      }
     }
    }
   },
   "outputs": [
    {
     "data": {
      "application/vnd.jupyter.widget-view+json": {
       "model_id": "3647d338de30403babab85643618968a",
       "version_major": 2,
       "version_minor": 0
      },
      "text/html": [
       "<p>Failed to display Jupyter Widget of type <code>HBox</code>.</p>\n",
       "<p>\n",
       "  If you're reading this message in the Jupyter Notebook or JupyterLab Notebook, it may mean\n",
       "  that the widgets JavaScript is still loading. If this message persists, it\n",
       "  likely means that the widgets JavaScript library is either not installed or\n",
       "  not enabled. See the <a href=\"https://ipywidgets.readthedocs.io/en/stable/user_install.html\">Jupyter\n",
       "  Widgets Documentation</a> for setup instructions.\n",
       "</p>\n",
       "<p>\n",
       "  If you're reading this message in another frontend (for example, a static\n",
       "  rendering on GitHub or <a href=\"https://nbviewer.jupyter.org/\">NBViewer</a>),\n",
       "  it may mean that your frontend doesn't currently support widgets.\n",
       "</p>\n"
      ],
      "text/plain": [
       "HBox(children=(Text(value='/g/data1a/r78/rjd547/groundwater_activities/Burdekin/Burdekin_shapefiles/fels_sml.shp', description='path to shape file', layout=Layout(width='70%'), placeholder='update this field', style=DescriptionStyle(description_width='initial')), SelectFileButton(description='Select File', icon='square-o', style=ButtonStyle(button_color='orange'))))"
      ]
     },
     "metadata": {},
     "output_type": "display_data"
    }
   ],
   "source": [
    "f = SelectFileButton()\n",
    "def handle_file_selector(sender):\n",
    "    shape_file_text.value = f.file\n",
    "f.on_click(handle_file_selector)\n",
    "display(widgets.HBox([shape_file_text,f],disabled=False))\n"
   ]
  },
  {
   "cell_type": "markdown",
   "metadata": {
    "ExecuteTime": {
     "end_time": "2018-03-20T01:14:23.748553Z",
     "start_time": "2018-03-20T01:14:23.745003Z"
    },
    "extensions": {
     "jupyter_dashboards": {
      "version": 1,
      "views": {
       "grid_default": {
        "col": 4,
        "height": 4,
        "hidden": false,
        "row": 25,
        "width": 4
       },
       "report_default": {
        "hidden": false
       }
      }
     }
    }
   },
   "source": [
    "### check if shapefile is valid"
   ]
  },
  {
   "cell_type": "code",
   "execution_count": 9,
   "metadata": {
    "ExecuteTime": {
     "end_time": "2018-05-16T23:08:03.274192Z",
     "start_time": "2018-05-16T23:08:03.231375Z"
    },
    "extensions": {
     "jupyter_dashboards": {
      "version": 1,
      "views": {
       "grid_default": {
        "col": 8,
        "height": 4,
        "hidden": false,
        "row": 26,
        "width": 4
       },
       "report_default": {
        "hidden": false
       }
      }
     }
    }
   },
   "outputs": [
    {
     "data": {
      "application/vnd.jupyter.widget-view+json": {
       "model_id": "43954fb4df1d460aa8980f25327350b1",
       "version_major": 2,
       "version_minor": 0
      },
      "text/html": [
       "<p>Failed to display Jupyter Widget of type <code>Button</code>.</p>\n",
       "<p>\n",
       "  If you're reading this message in the Jupyter Notebook or JupyterLab Notebook, it may mean\n",
       "  that the widgets JavaScript is still loading. If this message persists, it\n",
       "  likely means that the widgets JavaScript library is either not installed or\n",
       "  not enabled. See the <a href=\"https://ipywidgets.readthedocs.io/en/stable/user_install.html\">Jupyter\n",
       "  Widgets Documentation</a> for setup instructions.\n",
       "</p>\n",
       "<p>\n",
       "  If you're reading this message in another frontend (for example, a static\n",
       "  rendering on GitHub or <a href=\"https://nbviewer.jupyter.org/\">NBViewer</a>),\n",
       "  it may mean that your frontend doesn't currently support widgets.\n",
       "</p>\n"
      ],
      "text/plain": [
       "Button(description='Check shapefile', style=ButtonStyle(), tooltip='Click me')"
      ]
     },
     "metadata": {},
     "output_type": "display_data"
    },
    {
     "name": "stdout",
     "output_type": "stream",
     "text": [
      "Specified file is a Shapefile!\n",
      "Specified file is a Shapefile!\n"
     ]
    }
   ],
   "source": [
    "button =widgets.Button(\n",
    "    description='Check shapefile',\n",
    "    disabled=False,\n",
    "    button_style='', # 'success', 'info', 'warning', 'danger' or ''\n",
    "    tooltip='Click me',\n",
    ")\n",
    "\n",
    "def on_button_clicked(b):\n",
    "    #check whether shapefile is a valid shapefile and exists\n",
    "    if not os.path.isfile(shape_file_text.value):\n",
    "        print('this is not a shapefile')\n",
    "    else:\n",
    "        try:\n",
    "            with fiona.open(shape_file_text.value, 'r') as input:\n",
    "            # check that the file type is a shapefile\n",
    "                if input.driver == 'ESRI Shapefile':\n",
    "                    global GEOM\n",
    "                    global SHAPE_NAME\n",
    "                    GEOM, SHAPE_NAME = open_polygon_from_shapefile(shape_file_text.value)\n",
    "                    print (\"Specified file is a Shapefile!\")\n",
    "                else:\n",
    "                    print (\"NOT a Shapefile!\")\n",
    "        except:\n",
    "            print (\"NOT a Shapefile!\")\n",
    "\n",
    "    #shapes = fiona.open(shape_file)\n",
    "button.on_click(on_button_clicked)\n",
    "display(button)"
   ]
  },
  {
   "cell_type": "markdown",
   "metadata": {
    "ExecuteTime": {
     "end_time": "2018-03-20T01:14:23.748553Z",
     "start_time": "2018-03-20T01:14:23.745003Z"
    },
    "extensions": {
     "jupyter_dashboards": {
      "version": 1,
      "views": {
       "grid_default": {
        "hidden": true
       },
       "report_default": {
        "hidden": true
       }
      }
     }
    }
   },
   "source": [
    "### Or Draw query shape on the map below"
   ]
  },
  {
   "cell_type": "code",
   "execution_count": 10,
   "metadata": {
    "ExecuteTime": {
     "end_time": "2018-05-16T23:08:07.435282Z",
     "start_time": "2018-05-16T23:08:06.763603Z"
    },
    "extensions": {
     "jupyter_dashboards": {
      "version": 1,
      "views": {
       "grid_default": {},
       "report_default": {
        "hidden": false
       }
      }
     }
    }
   },
   "outputs": [
    {
     "name": "stderr",
     "output_type": "stream",
     "text": [
      "/g/data/v10/public/modules/agdc-py3-env/20171214/envs/agdc/lib/python3.6/site-packages/ipykernel_launcher.py:89: DeprecationWarning:\n",
      "\n",
      "on_trait_change is deprecated in traitlets 4.1: use observe instead\n",
      "\n"
     ]
    },
    {
     "data": {
      "application/vnd.jupyter.widget-view+json": {
       "model_id": "923da577f84449948e43ef15ebfa3645",
       "version_major": 2,
       "version_minor": 0
      },
      "text/html": [
       "<p>Failed to display Jupyter Widget of type <code>VBox</code>.</p>\n",
       "<p>\n",
       "  If you're reading this message in the Jupyter Notebook or JupyterLab Notebook, it may mean\n",
       "  that the widgets JavaScript is still loading. If this message persists, it\n",
       "  likely means that the widgets JavaScript library is either not installed or\n",
       "  not enabled. See the <a href=\"https://ipywidgets.readthedocs.io/en/stable/user_install.html\">Jupyter\n",
       "  Widgets Documentation</a> for setup instructions.\n",
       "</p>\n",
       "<p>\n",
       "  If you're reading this message in another frontend (for example, a static\n",
       "  rendering on GitHub or <a href=\"https://nbviewer.jupyter.org/\">NBViewer</a>),\n",
       "  it may mean that your frontend doesn't currently support widgets.\n",
       "</p>\n"
      ],
      "text/plain": [
       "VBox(children=(HBox(children=(Map(basemap={'url': 'https://{s}.tile.openstreetmap.org/{z}/{x}/{y}.png', 'max_zoom': 19, 'attribution': 'Map data (c) <a href=\"https://openstreetmap.org\">OpenStreetMap</a> contributors'}, center=[-20.0183, 145.3134], controls=(DrawControl(layer=FeatureGroup(), polygon={'shapeOptions': {}}),), default_tiles=TileLayer(max_zoom=19, min_zoom=1, options=['attribution', 'detect_retina', 'max_zoom', 'min_zoom', 'opacity', 'tile_size']), layers=(TileLayer(max_zoom=19, min_zoom=1, options=['attribution', 'detect_retina', 'max_zoom', 'min_zoom', 'opacity', 'tile_size']),), layout=Layout(height='400px', width='400px'), options=['attribution_control', 'basemap', 'bounce_at_zoom_limits', 'box_zoom', 'center', 'close_popup_on_click', 'double_click_zoom', 'dragging', 'inertia', 'inertia_deceleration', 'inertia_max_speed', 'keyboard', 'keyboard_pan_offset', 'keyboard_zoom_offset', 'max_zoom', 'min_zoom', 'scroll_wheel_zoom', 'tap', 'tap_tolerance', 'touch_zoom', 'world_copy_jump', 'zoom', 'zoom_animation_threshold', 'zoom_control', 'zoom_start'], zoom=10), Map(basemap={'url': 'http://server.arcgisonline.com/ArcGIS/rest/services/World_Imagery/MapServer/tile/{z}/{y}/{x}', 'max_zoom': 20, 'attribution': 'Tiles &copy; Esri &mdash; Source: Esri, i-cubed, USDA, USGS, AEX, GeoEye, Getmapping, Aerogrid, IGN, IGP, UPR-EGP, and the GIS User Community', 'name': 'Esri.WorldImagery'}, center=[-20.0183, 145.3134], controls=(DrawControl(layer=FeatureGroup(), polygon={'shapeOptions': {'color': '#0000FF'}}),), default_tiles=TileLayer(attribution='Tiles &copy; Esri &mdash; Source: Esri, i-cubed, USDA, USGS, AEX, GeoEye, Getmapping, Aerogrid, IGN, IGP, UPR-EGP, and the GIS User Community', max_zoom=20, min_zoom=1, name='Esri.WorldImagery', options=['attribution', 'detect_retina', 'max_zoom', 'min_zoom', 'opacity', 'tile_size'], url='http://server.arcgisonline.com/ArcGIS/rest/services/World_Imagery/MapServer/tile/{z}/{y}/{x}'), layers=(TileLayer(attribution='Tiles &copy; Esri &mdash; Source: Esri, i-cubed, USDA, USGS, AEX, GeoEye, Getmapping, Aerogrid, IGN, IGP, UPR-EGP, and the GIS User Community', max_zoom=20, min_zoom=1, name='Esri.WorldImagery', options=['attribution', 'detect_retina', 'max_zoom', 'min_zoom', 'opacity', 'tile_size'], url='http://server.arcgisonline.com/ArcGIS/rest/services/World_Imagery/MapServer/tile/{z}/{y}/{x}'),), layout=Layout(height='400px', width='400px'), options=['attribution_control', 'basemap', 'bounce_at_zoom_limits', 'box_zoom', 'center', 'close_popup_on_click', 'double_click_zoom', 'dragging', 'inertia', 'inertia_deceleration', 'inertia_max_speed', 'keyboard', 'keyboard_pan_offset', 'keyboard_zoom_offset', 'max_zoom', 'min_zoom', 'scroll_wheel_zoom', 'tap', 'tap_tolerance', 'touch_zoom', 'world_copy_jump', 'zoom', 'zoom_animation_threshold', 'zoom_control', 'zoom_start'], zoom=10))), ToggleButtons(description='Geometry Used for Datacube Query:', options=('Shapefile', 'DrawnPolygon'), tooltips=['Use Shapefile Specified for the DC query', 'Use Polygon Drawn on the Map for the DC query'], value='Shapefile')))"
      ]
     },
     "metadata": {},
     "output_type": "display_data"
    }
   ],
   "source": [
    "from ipyleaflet import (\n",
    "    Map,\n",
    "    Marker,\n",
    "    TileLayer, ImageOverlay,\n",
    "    Polyline, Polygon, Rectangle, Circle, CircleMarker,\n",
    "    GeoJSON,\n",
    "    DrawControl,\n",
    "    basemaps\n",
    ")\n",
    "\n",
    "import plotly.plotly as py\n",
    "from traitlets import link\n",
    "import ipywidgets as widgets\n",
    "from datacube.utils import geometry\n",
    "#center = [-12.543839666237682, 131.08474731445315]\n",
    "center =[-20.0183,145.3134]\n",
    "zoom = 10\n",
    "\n",
    "\n",
    "m = Map(center=center, zoom=zoom,layout=dict(width='400px', height='400px'))\n",
    "\n",
    "#Let's draw a second map \n",
    "\n",
    "m2 = Map(center=center, zoom=zoom, basemap=basemaps.Esri.WorldImagery,layout=m.layout)\n",
    "\n",
    "\n",
    "# Now create the DrawControls and add it to the Maps using add_control. \n",
    "# We also register handlers for draw events. These will fire when a polygon is drawn created, edited or deleted \n",
    "# (there are the actions). The geo_json argument is the serialized geometry of the drawn path, \n",
    "# along with its embedded style.\n",
    "\n",
    "draw_control = DrawControl(polyline={})\n",
    "draw_control2 = DrawControl(polygon={'shapeOptions': {'color': '#0000FF'}}, polyline={})\n",
    "def handle_draw(self, action, geo_json):\n",
    "    if action == 'created':\n",
    "        m2.add_layer(GeoJSON(data=draw_control.last_draw))\n",
    "        draw_control2.last_draw =draw_control.last_draw\n",
    "    if action == 'deleted':\n",
    "        while len(m2.layers)>1:\n",
    "            m2.remove_layer(m2.layers[1])\n",
    "\n",
    "def handle_draw2(self, action, geo_json):\n",
    "    \n",
    "    if action == 'created':\n",
    "        m.add_layer(GeoJSON(data=draw_control2.last_draw))\n",
    "        draw_control.last_draw =draw_control2.last_draw\n",
    "    if action == 'deleted':\n",
    "        while len(m.layers)>1:\n",
    "            m.remove_layer(m.layers[1])\n",
    "            \n",
    "#add handlers to draw controls  \n",
    "draw_control.on_draw(handle_draw)\n",
    "draw_control2.on_draw(handle_draw2)\n",
    "\n",
    "#add draw controls to maps\n",
    "m.add_control(draw_control)\n",
    "m2.add_control(draw_control2)\n",
    "\n",
    "#We can use link to synchronize traitlets of the two maps:\n",
    "\n",
    "map_center_link = link((m, 'center'), (m2, 'center'))\n",
    "map_zoom_link = link((m, 'zoom'), (m2, 'zoom'))\n",
    "\n",
    "#use_map_geom_button = widgets.Button(description=\"Use Drawn Geom\")\n",
    "\n",
    "use_map_geom_button = widgets.ToggleButtons(\n",
    "    options=['Shapefile', 'DrawnPolygon'],\n",
    "    description='Geometry Used for Datacube Query:',\n",
    "    disabled=False,\n",
    "    button_style='', # 'success', 'info', 'warning', 'danger' or ''\n",
    "    tooltips=['Use Shapefile Specified for the DC query', 'Use Polygon Drawn on the Map for the DC query'],\n",
    "#     icons=['check'] * 3\n",
    ")\n",
    "\n",
    "def on_map_button_click(b):\n",
    "    global GEOM\n",
    "    global SHAPE_NAME\n",
    "    #Leaflet return geometry in EPSG:4326\n",
    "    geom_crs = geometry.CRS('EPSG:4326') \n",
    "    if use_map_geom_button.value == \"Shapefile\":\n",
    "        GEOM, SHAPE_NAME = open_polygon_from_shapefile(shape_file_text.value)\n",
    "    else:\n",
    "        try:\n",
    "            GEOM=geometry.Geometry(draw_control.last_draw['geometry'], geom_crs)\n",
    "            SHAPE_NAME = \"drawn_polygon\"\n",
    "        except:\n",
    "            print(\"Draw a polygon first.\")\n",
    "\n",
    "use_map_geom_button.on_trait_change(on_map_button_click)\n",
    "\n",
    "\n",
    "from ipywidgets import HBox, VBox\n",
    "h_box= HBox([m,m2])\n",
    "\n",
    "VBox([h_box,use_map_geom_button])"
   ]
  },
  {
   "cell_type": "markdown",
   "metadata": {
    "extensions": {
     "jupyter_dashboards": {
      "version": 1,
      "views": {
       "grid_default": {
        "col": 4,
        "height": 4,
        "hidden": false,
        "row": 21,
        "width": 4
       },
       "report_default": {
        "hidden": false
       }
      }
     }
    }
   },
   "source": [
    "### epoch of interest "
   ]
  },
  {
   "cell_type": "code",
   "execution_count": 11,
   "metadata": {
    "ExecuteTime": {
     "end_time": "2018-05-15T23:49:45.147581Z",
     "start_time": "2018-05-15T23:49:45.144514Z"
    },
    "extensions": {
     "jupyter_dashboards": {
      "version": 1,
      "views": {
       "grid_default": {},
       "report_default": {
        "hidden": true
       }
      }
     }
    }
   },
   "outputs": [],
   "source": [
    "SHAPE_NAME"
   ]
  },
  {
   "cell_type": "code",
   "execution_count": 11,
   "metadata": {
    "ExecuteTime": {
     "end_time": "2018-05-16T23:08:21.171589Z",
     "start_time": "2018-05-16T23:08:20.945289Z"
    },
    "extensions": {
     "jupyter_dashboards": {
      "version": 1,
      "views": {
       "grid_default": {
        "col": 4,
        "height": 5,
        "hidden": false,
        "row": 29,
        "width": 4
       },
       "report_default": {
        "hidden": false
       }
      }
     }
    }
   },
   "outputs": [
    {
     "data": {
      "application/vnd.jupyter.widget-view+json": {
       "model_id": "160a3d3b95e74cf888f35665fd6bcff2",
       "version_major": 2,
       "version_minor": 0
      },
      "text/html": [
       "<p>Failed to display Jupyter Widget of type <code>HBox</code>.</p>\n",
       "<p>\n",
       "  If you're reading this message in the Jupyter Notebook or JupyterLab Notebook, it may mean\n",
       "  that the widgets JavaScript is still loading. If this message persists, it\n",
       "  likely means that the widgets JavaScript library is either not installed or\n",
       "  not enabled. See the <a href=\"https://ipywidgets.readthedocs.io/en/stable/user_install.html\">Jupyter\n",
       "  Widgets Documentation</a> for setup instructions.\n",
       "</p>\n",
       "<p>\n",
       "  If you're reading this message in another frontend (for example, a static\n",
       "  rendering on GitHub or <a href=\"https://nbviewer.jupyter.org/\">NBViewer</a>),\n",
       "  it may mean that your frontend doesn't currently support widgets.\n",
       "</p>\n"
      ],
      "text/plain": [
       "HBox(children=(Text(value='2013-04-01', description='start date', placeholder='update this field YYYY-MM-DD'), Label(value='Is my start date valid?')))"
      ]
     },
     "metadata": {},
     "output_type": "display_data"
    },
    {
     "data": {
      "application/vnd.jupyter.widget-view+json": {
       "model_id": "99f91cc2631542ba9d521c29fb28bb8b",
       "version_major": 2,
       "version_minor": 0
      },
      "text/html": [
       "<p>Failed to display Jupyter Widget of type <code>HBox</code>.</p>\n",
       "<p>\n",
       "  If you're reading this message in the Jupyter Notebook or JupyterLab Notebook, it may mean\n",
       "  that the widgets JavaScript is still loading. If this message persists, it\n",
       "  likely means that the widgets JavaScript library is either not installed or\n",
       "  not enabled. See the <a href=\"https://ipywidgets.readthedocs.io/en/stable/user_install.html\">Jupyter\n",
       "  Widgets Documentation</a> for setup instructions.\n",
       "</p>\n",
       "<p>\n",
       "  If you're reading this message in another frontend (for example, a static\n",
       "  rendering on GitHub or <a href=\"https://nbviewer.jupyter.org/\">NBViewer</a>),\n",
       "  it may mean that your frontend doesn't currently support widgets.\n",
       "</p>\n"
      ],
      "text/plain": [
       "HBox(children=(Text(value='2013-05-31', description='end date', placeholder='update this field YYYY-MM-DD'), Label(value='Is my end date valid?')))"
      ]
     },
     "metadata": {},
     "output_type": "display_data"
    },
    {
     "data": {
      "application/vnd.jupyter.widget-view+json": {
       "model_id": "7d4514235e32412d8874eb2daa39ec1f",
       "version_major": 2,
       "version_minor": 0
      },
      "text/html": [
       "<p>Failed to display Jupyter Widget of type <code>Button</code>.</p>\n",
       "<p>\n",
       "  If you're reading this message in the Jupyter Notebook or JupyterLab Notebook, it may mean\n",
       "  that the widgets JavaScript is still loading. If this message persists, it\n",
       "  likely means that the widgets JavaScript library is either not installed or\n",
       "  not enabled. See the <a href=\"https://ipywidgets.readthedocs.io/en/stable/user_install.html\">Jupyter\n",
       "  Widgets Documentation</a> for setup instructions.\n",
       "</p>\n",
       "<p>\n",
       "  If you're reading this message in another frontend (for example, a static\n",
       "  rendering on GitHub or <a href=\"https://nbviewer.jupyter.org/\">NBViewer</a>),\n",
       "  it may mean that your frontend doesn't currently support widgets.\n",
       "</p>\n"
      ],
      "text/plain": [
       "Button(description='Check dates', style=ButtonStyle(), tooltip='Click me')"
      ]
     },
     "metadata": {},
     "output_type": "display_data"
    }
   ],
   "source": [
    "#Set a standard time range for people to change as desired\n",
    "start_of_epoch = '2013-04-01'\n",
    "end_of_epoch =  '2013-05-31'\n",
    "\n",
    "#create a date picker widget for the start date\n",
    "from_date_picker = widgets.Text(value=start_of_epoch,\n",
    "                                placeholder='update this field YYYY-MM-DD',\n",
    "    description='start date',\n",
    "    disabled=False)\n",
    "\n",
    "#define a function to check the start date\n",
    "def handle_from_date(sender):\n",
    "    '''takes the start of epoch date from the date picker and checks it is in the \n",
    "    correct format'''\n",
    "    start_of_epoch=from_date_picker.value\n",
    "    validate(start_of_epoch)\n",
    "    \n",
    "#when you press enter this runs the event handler (handle_from_date)    \n",
    "from_date_picker.on_submit(handle_from_date)\n",
    "\n",
    "#create a date picker widget for the end date\n",
    "to_date_picker = widgets.Text(value = end_of_epoch,\n",
    "                              placeholder='update this field YYYY-MM-DD',\n",
    "    description='end date',\n",
    "    disabled=False)\n",
    "\n",
    "def handle_to_date(sender):\n",
    "    '''takes the end of epoch date from the date picker and checks it is in the \n",
    "    correct format'''\n",
    "    end_of_epoch = to_date_picker.value\n",
    "    validate(end_of_epoch)\n",
    "    \n",
    "#when you press enter this runs the event handler (handle_to_date)    \n",
    "to_date_picker.on_submit(handle_to_date)\n",
    "\n",
    "#make a validation button to validate the dates\n",
    "#first write the function the button runs\n",
    "def validate(date_text):\n",
    "    '''this function checks to see whether your text is year-month-day formatted'''\n",
    "    try:\n",
    "        datetime.datetime.strptime(date_text, '%Y-%m-%d')\n",
    "        return True    \n",
    "    except ValueError:\n",
    "        return False\n",
    "    \n",
    "#make the button run the function to check the dates\n",
    "button_epoch =widgets.Button(\n",
    "    description='Check dates',\n",
    "    disabled=False,\n",
    "    button_style='', # 'success', 'info', 'warning', 'danger' or ''\n",
    "    tooltip='Click me',\n",
    ")\n",
    "\n",
    "#This widget prints whether or not your start date is valid\n",
    "starttextwidget = widgets.Label(\n",
    "value='Is my start date valid?'\n",
    ")\n",
    "\n",
    "#This widget prints whether or not your end date is valid\n",
    "endtextwidget = widgets.Label(\n",
    "value='Is my end date valid?'\n",
    ")\n",
    "\n",
    "#this is the event handler for when you click on the button\n",
    "def on_button_end_epoch_clicked(button):\n",
    "    '''check whether the dates are in the format we need'''\n",
    "    if not validate(to_date_picker.value):\n",
    "        endtextwidget.value = ('Incorrect data format, should be YYYY-MM-DD')\n",
    "    else:\n",
    "        validate(to_date_picker.value)\n",
    "        endtextwidget.value = ('End date is valid')\n",
    "        \n",
    " \n",
    "    if not validate(from_date_picker.value):\n",
    "        starttextwidget.value = ('Incorrect data format, should be YYYY-MM-DD')\n",
    "    else:\n",
    "        validate(from_date_picker.value)\n",
    "        starttextwidget.value = ('Start date is valid')\n",
    "        start_of_epoch = from_date_picker.value\n",
    "    \n",
    "    \n",
    "button_epoch.on_click(on_button_end_epoch_clicked)\n",
    "\n",
    "#display widgets next to each other\n",
    "end_hbox = widgets.HBox([to_date_picker, endtextwidget])\n",
    "start_hbox = widgets.HBox([from_date_picker, starttextwidget])\n",
    "display(start_hbox,end_hbox)\n",
    "display(button_epoch)"
   ]
  },
  {
   "cell_type": "markdown",
   "metadata": {
    "extensions": {
     "jupyter_dashboards": {
      "version": 1,
      "views": {
       "grid_default": {
        "col": 8,
        "height": 4,
        "hidden": false,
        "row": 9,
        "width": 4
       },
       "report_default": {
        "hidden": false
       }
      }
     }
    }
   },
   "source": [
    "### load the data and calulate the geomedian"
   ]
  },
  {
   "cell_type": "code",
   "execution_count": 12,
   "metadata": {
    "ExecuteTime": {
     "end_time": "2018-05-16T23:08:29.134987Z",
     "start_time": "2018-05-16T23:08:29.083290Z"
    },
    "extensions": {
     "jupyter_dashboards": {
      "version": 1,
      "views": {
       "grid_default": {
        "col": 0,
        "height": 5,
        "hidden": false,
        "row": 13,
        "width": 4
       },
       "report_default": {
        "hidden": false
       }
      }
     }
    }
   },
   "outputs": [
    {
     "data": {
      "application/vnd.jupyter.widget-view+json": {
       "model_id": "a7d7e644cc9d4de586ba1a14a5958c77",
       "version_major": 2,
       "version_minor": 0
      },
      "text/html": [
       "<p>Failed to display Jupyter Widget of type <code>Button</code>.</p>\n",
       "<p>\n",
       "  If you're reading this message in the Jupyter Notebook or JupyterLab Notebook, it may mean\n",
       "  that the widgets JavaScript is still loading. If this message persists, it\n",
       "  likely means that the widgets JavaScript library is either not installed or\n",
       "  not enabled. See the <a href=\"https://ipywidgets.readthedocs.io/en/stable/user_install.html\">Jupyter\n",
       "  Widgets Documentation</a> for setup instructions.\n",
       "</p>\n",
       "<p>\n",
       "  If you're reading this message in another frontend (for example, a static\n",
       "  rendering on GitHub or <a href=\"https://nbviewer.jupyter.org/\">NBViewer</a>),\n",
       "  it may mean that your frontend doesn't currently support widgets.\n",
       "</p>\n"
      ],
      "text/plain": [
       "Button(description='Load and Calculate', style=ButtonStyle())"
      ]
     },
     "metadata": {},
     "output_type": "display_data"
    },
    {
     "name": "stdout",
     "output_type": "stream",
     "text": [
      "loading ls8_nbart_albers\n"
     ]
    },
    {
     "name": "stderr",
     "output_type": "stream",
     "text": [
      "/g/data/v10/public/modules/agdc-py3-env/20171214/envs/agdc/lib/python3.6/site-packages/ipykernel_launcher.py:10: FutureWarning:\n",
      "\n",
      "casting an xarray.Dataset to a boolean will change in xarray v0.11 to only include data variables, not coordinates. Cast the Dataset.variables property instead to preserve existing behavior in a forwards compatible manner.\n",
      "\n",
      "/g/data/v10/public/modules/agdc-py3-env/20171214/envs/agdc/lib/python3.6/site-packages/ipykernel_launcher.py:17: FutureWarning:\n",
      "\n",
      "casting an xarray.Dataset to a boolean will change in xarray v0.11 to only include data variables, not coordinates. Cast the Dataset.variables property instead to preserve existing behavior in a forwards compatible manner.\n",
      "\n",
      "/g/data/v10/public/modules/agdc-py3-env/20171214/envs/agdc/lib/python3.6/site-packages/ipykernel_launcher.py:42: FutureWarning:\n",
      "\n",
      "calling len() on an xarray.Dataset will change in xarray v0.11 to only include data variables, not coordinates. Call len() on the Dataset.variables property instead, like ``len(ds.variables)``, to preserve existing behavior in a forwards compatible manner.\n",
      "\n"
     ]
    },
    {
     "name": "stdout",
     "output_type": "stream",
     "text": [
      "loaded ls8_nbart_albers\n",
      "making mask ls8_pq_albers\n",
      "masked ls8_nbart_albers with ls8_pq_albers and filtered terrain\n",
      "Geomedian calculated\n"
     ]
    }
   ],
   "source": [
    "loadButton = widgets.Button(description=\"Load and Calculate\")\n",
    "\n",
    "def on_load_button_clicked(b):\n",
    "    start_of_epoch = from_date_picker.value\n",
    "    end_of_epoch = to_date_picker.value\n",
    "    global GEOM\n",
    "    global SHAPE_NAME\n",
    "    if GEOM is None:\n",
    "        GEOM, SHAPE_NAME = open_polygon_from_shapefile(shape_file_text.value)\n",
    "       \n",
    "    \n",
    "    #Define wavelengths/bands of interest, remove this kwarg to retrieve all bands\n",
    "    bands_of_interest = ['blue',\n",
    "                         'green',\n",
    "                         'red',\n",
    "                         'nir',\n",
    "                         'swir1',\n",
    "                         'swir2'\n",
    "                         ]\n",
    "\n",
    "    query = {\n",
    "        'time': (start_of_epoch, end_of_epoch), 'geopolygon': GEOM,\n",
    "    }\n",
    "\n",
    "    #this is done separately instead of in a loop because the datasets can be quite large.\n",
    "    #currently this is a way of memory handling -there is probably a better way of doing it.\n",
    "    #sensor1_nbart=load_nbart('ls5',query, bands_of_interest)\n",
    "    #sensor2_nbart=load_nbart('ls7',query,bands_of_interest)\n",
    "    sensor3_nbart=load_nbart('ls8',query, bands_of_interest)\n",
    "    \n",
    "    nbart=sensor3_nbart.sortby('time')\n",
    "    #geomedian transform\n",
    "    global NBART_GM\n",
    "    NBART_GM=GeoMedian().compute(nbart)\n",
    "    print(\"Geomedian calculated\")\n",
    "\n",
    "loadButton.on_click(on_load_button_clicked)\n",
    "display(loadButton)"
   ]
  },
  {
   "cell_type": "markdown",
   "metadata": {
    "ExecuteTime": {
     "end_time": "2018-02-14T23:04:02.682868Z",
     "start_time": "2018-02-14T23:04:02.678022Z"
    },
    "extensions": {
     "jupyter_dashboards": {
      "version": 1,
      "views": {
       "grid_default": {
        "col": 0,
        "height": 4,
        "hidden": false,
        "row": 18,
        "width": 4
       },
       "report_default": {
        "hidden": false
       }
      }
     }
    }
   },
   "source": [
    "## A true color plot of the geomedian composite:"
   ]
  },
  {
   "cell_type": "code",
   "execution_count": 13,
   "metadata": {
    "ExecuteTime": {
     "end_time": "2018-05-16T23:09:12.071563Z",
     "start_time": "2018-05-16T23:09:12.054249Z"
    },
    "extensions": {
     "jupyter_dashboards": {
      "version": 1,
      "views": {
       "grid_default": {
        "col": 8,
        "height": 9,
        "hidden": false,
        "row": 13,
        "width": 4
       },
       "report_default": {
        "hidden": false
       }
      }
     }
    }
   },
   "outputs": [
    {
     "data": {
      "application/vnd.jupyter.widget-view+json": {
       "model_id": "4de24f80ac324b438bafccd73f6a480b",
       "version_major": 2,
       "version_minor": 0
      },
      "text/html": [
       "<p>Failed to display Jupyter Widget of type <code>Button</code>.</p>\n",
       "<p>\n",
       "  If you're reading this message in the Jupyter Notebook or JupyterLab Notebook, it may mean\n",
       "  that the widgets JavaScript is still loading. If this message persists, it\n",
       "  likely means that the widgets JavaScript library is either not installed or\n",
       "  not enabled. See the <a href=\"https://ipywidgets.readthedocs.io/en/stable/user_install.html\">Jupyter\n",
       "  Widgets Documentation</a> for setup instructions.\n",
       "</p>\n",
       "<p>\n",
       "  If you're reading this message in another frontend (for example, a static\n",
       "  rendering on GitHub or <a href=\"https://nbviewer.jupyter.org/\">NBViewer</a>),\n",
       "  it may mean that your frontend doesn't currently support widgets.\n",
       "</p>\n"
      ],
      "text/plain": [
       "Button(description='Plot Geomedian', style=ButtonStyle())"
      ]
     },
     "metadata": {},
     "output_type": "display_data"
    },
    {
     "data": {
      "image/png": "[encoded data removed]",
      "text/plain": [
       "<matplotlib.figure.Figure at 0x7ff33e2f4748>"
      ]
     },
     "metadata": {},
     "output_type": "display_data"
    }
   ],
   "source": [
    "plotButton = widgets.Button(description=\"Plot Geomedian\")\n",
    "def on_plot_button_click(b):\n",
    "    global NBART_GM\n",
    "    drawTrueColour(NBART_GM)\n",
    "plotButton.on_click(on_plot_button_click)\n",
    "display(plotButton)"
   ]
  },
  {
   "cell_type": "markdown",
   "metadata": {
    "ExecuteTime": {
     "end_time": "2018-02-26T00:40:00.878144Z",
     "start_time": "2018-02-26T00:40:00.872800Z"
    },
    "extensions": {
     "jupyter_dashboards": {
      "version": 1,
      "views": {
       "grid_default": {
        "col": 0,
        "height": 4,
        "hidden": false,
        "row": 22,
        "width": 4
       },
       "report_default": {
        "hidden": false
       }
      }
     }
    }
   },
   "source": [
    "### *Save as netcdf*:"
   ]
  },
  {
   "cell_type": "code",
   "execution_count": 14,
   "metadata": {
    "ExecuteTime": {
     "end_time": "2018-05-16T23:09:32.232027Z",
     "start_time": "2018-05-16T23:09:32.211629Z"
    },
    "extensions": {
     "jupyter_dashboards": {
      "version": 1,
      "views": {
       "grid_default": {
        "col": 0,
        "height": 4,
        "hidden": false,
        "row": 26,
        "width": 4
       },
       "report_default": {
        "hidden": false
       }
      }
     }
    }
   },
   "outputs": [
    {
     "data": {
      "application/vnd.jupyter.widget-view+json": {
       "model_id": "80acf68d50394a05a83db84b440d7e82",
       "version_major": 2,
       "version_minor": 0
      },
      "text/html": [
       "<p>Failed to display Jupyter Widget of type <code>SaveFileButton</code>.</p>\n",
       "<p>\n",
       "  If you're reading this message in the Jupyter Notebook or JupyterLab Notebook, it may mean\n",
       "  that the widgets JavaScript is still loading. If this message persists, it\n",
       "  likely means that the widgets JavaScript library is either not installed or\n",
       "  not enabled. See the <a href=\"https://ipywidgets.readthedocs.io/en/stable/user_install.html\">Jupyter\n",
       "  Widgets Documentation</a> for setup instructions.\n",
       "</p>\n",
       "<p>\n",
       "  If you're reading this message in another frontend (for example, a static\n",
       "  rendering on GitHub or <a href=\"https://nbviewer.jupyter.org/\">NBViewer</a>),\n",
       "  it may mean that your frontend doesn't currently support widgets.\n",
       "</p>\n"
      ],
      "text/plain": [
       "SaveFileButton(description='Save File As', icon='square-o', style=ButtonStyle(button_color='orange'))"
      ]
     },
     "metadata": {},
     "output_type": "display_data"
    }
   ],
   "source": [
    "saveFileB = SaveFileButton()\n",
    "def handle_file_selector(sender):\n",
    "    filename =saveFileB.file\n",
    "    global NBART_GM\n",
    "    write_your_netcdf(NBART_GM,'nbart_gm',filename=filename, crs=NBART_GM.crs)\n",
    "    print(\"saved netcdf ...check you added a .nc to the end of your filename..\")\n",
    "saveFileB.on_click(handle_file_selector)\n",
    "display(saveFileB)\n"
   ]
  },
  {
   "cell_type": "markdown",
   "metadata": {
    "extensions": {
     "jupyter_dashboards": {
      "version": 1,
      "views": {
       "grid_default": {
        "col": 8,
        "height": 4,
        "hidden": false,
        "row": 22,
        "width": 4
       },
       "report_default": {
        "hidden": false
       }
      }
     }
    }
   },
   "source": [
    "###  Write out to geotiff!!!"
   ]
  },
  {
   "cell_type": "code",
   "execution_count": 15,
   "metadata": {
    "ExecuteTime": {
     "end_time": "2018-05-16T23:09:36.379739Z",
     "start_time": "2018-05-16T23:09:36.360129Z"
    },
    "extensions": {
     "jupyter_dashboards": {
      "version": 1,
      "views": {
       "grid_default": {
        "hidden": true
       },
       "report_default": {
        "hidden": false
       }
      }
     }
    }
   },
   "outputs": [
    {
     "data": {
      "application/vnd.jupyter.widget-view+json": {
       "model_id": "5da051b275f64f04a7d941ea05e355b4",
       "version_major": 2,
       "version_minor": 0
      },
      "text/html": [
       "<p>Failed to display Jupyter Widget of type <code>SaveFileButton</code>.</p>\n",
       "<p>\n",
       "  If you're reading this message in the Jupyter Notebook or JupyterLab Notebook, it may mean\n",
       "  that the widgets JavaScript is still loading. If this message persists, it\n",
       "  likely means that the widgets JavaScript library is either not installed or\n",
       "  not enabled. See the <a href=\"https://ipywidgets.readthedocs.io/en/stable/user_install.html\">Jupyter\n",
       "  Widgets Documentation</a> for setup instructions.\n",
       "</p>\n",
       "<p>\n",
       "  If you're reading this message in another frontend (for example, a static\n",
       "  rendering on GitHub or <a href=\"https://nbviewer.jupyter.org/\">NBViewer</a>),\n",
       "  it may mean that your frontend doesn't currently support widgets.\n",
       "</p>\n"
      ],
      "text/plain": [
       "SaveFileButton(description='Save File As', icon='square-o', style=ButtonStyle(button_color='orange'))"
      ]
     },
     "metadata": {},
     "output_type": "display_data"
    }
   ],
   "source": [
    "saveFileB2 = SaveFileButton()\n",
    "def handle_file_selector(sender):\n",
    "    filename =saveFileB2.file\n",
    "    global NBART_GM\n",
    "    write_your_geotiff(filename, NBART_GM)\n",
    "    print(\"saved geotiff, make sure you added a .tif to your filename\")\n",
    "saveFileB2.on_click(handle_file_selector)\n",
    "display(saveFileB2)\n"
   ]
  },
  {
   "cell_type": "markdown",
   "metadata": {
    "extensions": {
     "jupyter_dashboards": {
      "version": 1,
      "views": {
       "grid_default": {
        "col": 0,
        "height": 4,
        "hidden": false,
        "row": 30,
        "width": 4
       },
       "report_default": {
        "hidden": false
       }
      }
     }
    }
   },
   "source": [
    "## You are done. Now go check your files to make sure everything worked!!!"
   ]
  },
  {
   "cell_type": "markdown",
   "metadata": {
    "extensions": {
     "jupyter_dashboards": {
      "version": 1,
      "views": {
       "grid_default": {
        "hidden": true
       },
       "report_default": {
        "hidden": true
       }
      }
     }
    }
   },
   "source": [
    "## Check out many more Notebooks and functions: https://github.com/GeoscienceAustralia/dea-notebooks"
   ]
  },
  {
   "cell_type": "code",
   "execution_count": null,
   "metadata": {
    "extensions": {
     "jupyter_dashboards": {
      "version": 1,
      "views": {
       "grid_default": {},
       "report_default": {
        "hidden": true
       }
      }
     }
    }
   },
   "outputs": [],
   "source": []
  }
 ],
 "metadata": {
  "celltoolbar": "Edit Metadata",
  "extensions": {
   "jupyter_dashboards": {
    "activeView": "report_default",
    "version": 1,
    "views": {
     "grid_default": {
      "cellMargin": 10,
      "defaultCellHeight": 20,
      "maxColumns": 12,
      "name": "grid",
      "type": "grid"
     },
     "report_default": {
      "name": "report",
      "type": "report"
     }
    }
   }
  },
  "kernelspec": {
   "display_name": "Python 3",
   "language": "python",
   "name": "python3"
  },
  "language_info": {
   "codemirror_mode": {
    "name": "ipython",
    "version": 3
   },
   "file_extension": ".py",
   "mimetype": "text/x-python",
   "name": "python",
   "nbconvert_exporter": "python",
   "pygments_lexer": "ipython3",
   "version": "3.6.3"
  },
  "latex_envs": {
   "LaTeX_envs_menu_present": true,
   "autocomplete": true,
   "bibliofile": "biblio.bib",
   "cite_by": "apalike",
   "current_citInitial": 1,
   "eqLabelWithNumbers": true,
   "eqNumInitial": 1,
   "hotkeys": {
    "equation": "Ctrl-E",
    "itemize": "Ctrl-I"
   },
   "labels_anchors": false,
   "latex_user_defs": false,
   "report_style_numbering": false,
   "user_envs_cfg": false
  },
  "toc": {
   "nav_menu": {},
   "number_sections": true,
   "sideBar": true,
   "skip_h1_title": false,
   "toc_cell": false,
   "toc_position": {},
   "toc_section_display": "block",
   "toc_window_display": false
  },
  "widgets": {
   "application/vnd.jupyter.widget-state+json": {
    "state": {
     "033d405dfb5d475191df2b452cecd3ca": {
      "model_module": "@jupyter-widgets/controls",
      "model_module_version": "1.0.0",
      "model_name": "ButtonModel",
      "state": {
       "description": "File Selected",
       "icon": "check-square-o",
       "layout": "IPY_MODEL_c1e765ea42e24e89b0150183abc7a940",
       "style": "IPY_MODEL_2b3ae6f9161d48288f5c871b89b063b8"
      }
     },
     "03e175404ff64235ab1e98121c4826fb": {
      "model_module": "@jupyter-widgets/base",
      "model_module_version": "1.0.0",
      "model_name": "LayoutModel",
      "state": {}
     },
     "05678a7fe6eb414999c00a01bc2762e3": {
      "model_module": "@jupyter-widgets/controls",
      "model_module_version": "1.0.0",
      "model_name": "ToggleButtonsModel",
      "state": {
       "_options_labels": [
        "Shapefile",
        "DrawnPolygon"
       ],
       "button_style": "",
       "description": "Geometry Used for Datacube Query:",
       "icons": [],
       "index": 1,
       "layout": "IPY_MODEL_416c080a6ca340eb84a1c6d808c78dc8",
       "style": "IPY_MODEL_d86423baaa0c4ef2b4710d29fdc96aae",
       "tooltips": [
        "Use Shapefile Specified for the DC query",
        "Use Polygon Drawn on the Map for the DC query"
       ]
      }
     },
     "05cc505130724f6eb1bb919f430abe90": {
      "model_module": "@jupyter-widgets/controls",
      "model_module_version": "1.0.0",
      "model_name": "TextModel",
      "state": {
       "description": "end date",
       "layout": "IPY_MODEL_e1ec934272ac4bed9755501dd88b40d3",
       "placeholder": "update this field YYYY-MM-DD",
       "style": "IPY_MODEL_7feb81acd8b04d4dae1bb263dbb28617",
       "value": "2013-05-31"
      }
     },
     "0619854f68b340ac8309334e5a6b7a3e": {
      "model_module": "@jupyter-widgets/base",
      "model_module_version": "1.0.0",
      "model_name": "LayoutModel",
      "state": {
       "height": "400px",
       "width": "400px"
      }
     },
     "0628e283917148cfa9382b72a283500c": {
      "model_module": "@jupyter-widgets/controls",
      "model_module_version": "1.0.0",
      "model_name": "DescriptionStyleModel",
      "state": {
       "description_width": ""
      }
     },
     "069efe48b34c4277869c50b148dfa4e0": {
      "model_module": "@jupyter-widgets/controls",
      "model_module_version": "1.0.0",
      "model_name": "ButtonModel",
      "state": {
       "description": "File Name Specified",
       "icon": "check-square-o",
       "layout": "IPY_MODEL_6e84e506076d459193a7dd485ce44a3c",
       "style": "IPY_MODEL_ed8c3d7c67884cad85df31dd37b026e7"
      }
     },
     "08a869e1b3974790809c89e39652eb80": {
      "model_module": "@jupyter-widgets/controls",
      "model_module_version": "1.0.0",
      "model_name": "ButtonStyleModel",
      "state": {
       "button_color": "orange"
      }
     },
     "0e39a0c7b80b452292bbaa9b017ed369": {
      "model_module": "@jupyter-widgets/controls",
      "model_module_version": "1.0.0",
      "model_name": "TextModel",
      "state": {
       "description": "path to shape file",
       "layout": "IPY_MODEL_57da9101bc734176953c2564943cfe18",
       "placeholder": "update this field",
       "style": "IPY_MODEL_9bac5964747142ed9710f1f2e87301d9",
       "value": "/g/data1a/r78/rjd547/groundwater_activities/Burdekin/Burdekin_shapefiles/fels_sml.shp"
      }
     },
     "0e940ccd7e3445fd922a3460176ecb3e": {
      "model_module": "@jupyter-widgets/base",
      "model_module_version": "1.0.0",
      "model_name": "LayoutModel",
      "state": {}
     },
     "10729fa9678141079fbf3d811d526998": {
      "model_module": "@jupyter-widgets/base",
      "model_module_version": "1.0.0",
      "model_name": "LayoutModel",
      "state": {}
     },
     "10cda133c629498187810e1007d94900": {
      "model_module": "jupyter-leaflet",
      "model_module_version": "~0.5.0",
      "model_name": "LeafletFeatureGroupModel",
      "state": {
       "_model_module_version": "~0.5.0",
       "_view_count": null,
       "_view_module_version": "~0.5.0"
      }
     },
     "14e9995cb34f4ffbb415fe2b98b0b626": {
      "model_module": "@jupyter-widgets/controls",
      "model_module_version": "1.0.0",
      "model_name": "ButtonStyleModel",
      "state": {}
     },
     "152c6d98c17142a790380a32be4c3425": {
      "model_module": "@jupyter-widgets/controls",
      "model_module_version": "1.0.0",
      "model_name": "DescriptionStyleModel",
      "state": {
       "description_width": ""
      }
     },
     "160a3d3b95e74cf888f35665fd6bcff2": {
      "model_module": "@jupyter-widgets/controls",
      "model_module_version": "1.0.0",
      "model_name": "HBoxModel",
      "state": {
       "children": [
        "IPY_MODEL_9d084057ad1445068170f2aba708faa2",
        "IPY_MODEL_eb7af16fda2d4dd489b4469a026ef921"
       ],
       "layout": "IPY_MODEL_db8aa8e8cbf845d8ba3aef835cb1dd96"
      }
     },
     "1ac431158751409a96889ae4906a231c": {
      "model_module": "@jupyter-widgets/base",
      "model_module_version": "1.0.0",
      "model_name": "LayoutModel",
      "state": {}
     },
     "1c2538ebd782459885484572d8bad63f": {
      "model_module": "@jupyter-widgets/base",
      "model_module_version": "1.0.0",
      "model_name": "LayoutModel",
      "state": {}
     },
     "1f9ad95bbb1940889a03f25cb547e6b8": {
      "model_module": "@jupyter-widgets/base",
      "model_module_version": "1.0.0",
      "model_name": "LayoutModel",
      "state": {}
     },
     "1ffd6b7a924249399455dba7f2e3d6d4": {
      "model_module": "@jupyter-widgets/controls",
      "model_module_version": "1.0.0",
      "model_name": "ButtonStyleModel",
      "state": {}
     },
     "26998541f031412d87b9568163248293": {
      "model_module": "@jupyter-widgets/base",
      "model_module_version": "1.0.0",
      "model_name": "LayoutModel",
      "state": {}
     },
     "28315387f78f46619f5f580f36183fc6": {
      "model_module": "@jupyter-widgets/controls",
      "model_module_version": "1.0.0",
      "model_name": "HBoxModel",
      "state": {
       "children": [
        "IPY_MODEL_ae0b1591d53a4503b208f78a2072801a",
        "IPY_MODEL_4e195601456a458db1d71c2a90df836a"
       ],
       "layout": "IPY_MODEL_a54ca6f1ec8b4c6e95c998cf34b1e66f"
      }
     },
     "29fc3c4a550a4181824a9c4b4eadbc29": {
      "model_module": "@jupyter-widgets/controls",
      "model_module_version": "1.0.0",
      "model_name": "ButtonStyleModel",
      "state": {
       "button_color": "lightgreen"
      }
     },
     "29ffbe7338fb45718f3c5ee907be829f": {
      "model_module": "@jupyter-widgets/controls",
      "model_module_version": "1.0.0",
      "model_name": "DescriptionStyleModel",
      "state": {
       "description_width": "initial"
      }
     },
     "2a1b8cab12d04b6e8e9c5f2d786fac11": {
      "model_module": "jupyter-leaflet",
      "model_module_version": "1.0.0",
      "model_name": "LeafletMapModel",
      "state": {
       "_dom_classes": [],
       "_east": 145.5784606933594,
       "_model_module_version": "1.0.0",
       "_north": -19.760241554664503,
       "_south": -20.276367870836033,
       "_view_count": null,
       "_view_module_version": "",
       "_west": 145.04837036132815,
       "basemap": {
        "attribution": "Map data (c) <a href=\"https://openstreetmap.org\">OpenStreetMap</a> contributors",
        "max_zoom": 19,
        "url": "https://{s}.tile.openstreetmap.org/{z}/{x}/{y}.png"
       },
       "center": [
        -20.01851645170249,
        145.31341552734378
       ],
       "controls": [
        "IPY_MODEL_6adb3a5305e3413f8ee788b23d91f38a"
       ],
       "default_tiles": "IPY_MODEL_5ae0a584b7e3406cb97d274dec38198f",
       "layers": [
        "IPY_MODEL_5ae0a584b7e3406cb97d274dec38198f"
       ],
       "layout": "IPY_MODEL_0619854f68b340ac8309334e5a6b7a3e",
       "modisdate": "yesterday",
       "options": [
        "attribution_control",
        "basemap",
        "bounce_at_zoom_limits",
        "box_zoom",
        "center",
        "close_popup_on_click",
        "double_click_zoom",
        "dragging",
        "inertia",
        "inertia_deceleration",
        "inertia_max_speed",
        "keyboard",
        "keyboard_pan_offset",
        "keyboard_zoom_offset",
        "max_zoom",
        "min_zoom",
        "scroll_wheel_zoom",
        "tap",
        "tap_tolerance",
        "touch_zoom",
        "world_copy_jump",
        "zoom",
        "zoom_animation_threshold",
        "zoom_control",
        "zoom_start"
       ],
       "zoom": 10
      }
     },
     "2b3ae6f9161d48288f5c871b89b063b8": {
      "model_module": "@jupyter-widgets/controls",
      "model_module_version": "1.0.0",
      "model_name": "ButtonStyleModel",
      "state": {
       "button_color": "lightgreen"
      }
     },
     "2c4db1279ac145adaa7cc38c6a1666d3": {
      "model_module": "@jupyter-widgets/base",
      "model_module_version": "1.0.0",
      "model_name": "LayoutModel",
      "state": {}
     },
     "2cba40606b2448eabf5ce1043dd4a460": {
      "model_module": "@jupyter-widgets/base",
      "model_module_version": "1.0.0",
      "model_name": "LayoutModel",
      "state": {}
     },
     "2fbf5b22a44f4c1bbea5c91d50d9a9b3": {
      "model_module": "@jupyter-widgets/base",
      "model_module_version": "1.0.0",
      "model_name": "LayoutModel",
      "state": {}
     },
     "32079802d0ec42d5b17f2bad00c082b8": {
      "model_module": "@jupyter-widgets/controls",
      "model_module_version": "1.0.0",
      "model_name": "TextModel",
      "state": {
       "description": "path to shape file",
       "layout": "IPY_MODEL_af6417465f05425eab80c2d67bcdeabf",
       "placeholder": "update this field",
       "style": "IPY_MODEL_ff421a7caf40411d924184c16ca2b3a6",
       "value": "/g/data1a/r78/rjd547/groundwater_activities/Burdekin/Burdekin_shapefiles/fels_sml.shp"
      }
     },
     "3647d338de30403babab85643618968a": {
      "model_module": "@jupyter-widgets/controls",
      "model_module_version": "1.0.0",
      "model_name": "HBoxModel",
      "state": {
       "children": [
        "IPY_MODEL_a251f3713b404f3b931d1ee9f008c89d",
        "IPY_MODEL_4ccfe98aaaa24fad853b4b75f1852bb6"
       ],
       "layout": "IPY_MODEL_e573e2faf4bd495d9d54786ca94f831e"
      }
     },
     "3742333151324b35a7503b55de892fdc": {
      "model_module": "@jupyter-widgets/controls",
      "model_module_version": "1.0.0",
      "model_name": "ButtonModel",
      "state": {
       "description": "Check dates",
       "layout": "IPY_MODEL_7ade81e89e6742c4b5cdc0ba714c2555",
       "style": "IPY_MODEL_f96fed83fd5a43ed9f4c6298b6a1fc4e",
       "tooltip": "Click me"
      }
     },
     "4138bbeee0c34ef2b654f827a17c5285": {
      "model_module": "@jupyter-widgets/controls",
      "model_module_version": "1.0.0",
      "model_name": "ButtonStyleModel",
      "state": {}
     },
     "416c080a6ca340eb84a1c6d808c78dc8": {
      "model_module": "@jupyter-widgets/base",
      "model_module_version": "1.0.0",
      "model_name": "LayoutModel",
      "state": {}
     },
     "43954fb4df1d460aa8980f25327350b1": {
      "model_module": "@jupyter-widgets/controls",
      "model_module_version": "1.0.0",
      "model_name": "ButtonModel",
      "state": {
       "description": "Check shapefile",
       "layout": "IPY_MODEL_5fe88df3e00a4a49ac3bfef832026201",
       "style": "IPY_MODEL_85fd9460fd844ead9e5f5b256250b9b9",
       "tooltip": "Click me"
      }
     },
     "4bd38c3a77d24b8db9c7861d349c8656": {
      "model_module": "@jupyter-widgets/base",
      "model_module_version": "1.0.0",
      "model_name": "LayoutModel",
      "state": {}
     },
     "4ccfe98aaaa24fad853b4b75f1852bb6": {
      "model_module": "@jupyter-widgets/controls",
      "model_module_version": "1.0.0",
      "model_name": "ButtonModel",
      "state": {
       "description": "Select File",
       "icon": "square-o",
       "layout": "IPY_MODEL_ad9890c710824373b549f4409c8cd47a",
       "style": "IPY_MODEL_cf291926fb22492a8c2c0e51320060c6"
      }
     },
     "4ceeeb52d326492ca12af3c019bd8a66": {
      "model_module": "@jupyter-widgets/controls",
      "model_module_version": "1.0.0",
      "model_name": "ToggleButtonsModel",
      "state": {
       "_options_labels": [
        "Shapefile",
        "DrawnPolygon"
       ],
       "button_style": "",
       "description": "Geometry Used for Datacube Query:",
       "icons": [],
       "index": 1,
       "layout": "IPY_MODEL_10729fa9678141079fbf3d811d526998",
       "style": "IPY_MODEL_534d78a381eb49cbaf1f1e5ce294bb8e",
       "tooltips": [
        "Use Shapefile Specified for the DC query",
        "Use Polygon Drawn on the Map for the DC query"
       ]
      }
     },
     "4cf0dc35ed9241779de3d62ef911c6c5": {
      "model_module": "@jupyter-widgets/controls",
      "model_module_version": "1.0.0",
      "model_name": "ButtonStyleModel",
      "state": {
       "button_color": "orange"
      }
     },
     "4de24f80ac324b438bafccd73f6a480b": {
      "model_module": "@jupyter-widgets/controls",
      "model_module_version": "1.0.0",
      "model_name": "ButtonModel",
      "state": {
       "description": "Plot Geomedian",
       "layout": "IPY_MODEL_2fbf5b22a44f4c1bbea5c91d50d9a9b3",
       "style": "IPY_MODEL_fd18078a32ed426b8738912bccb76beb"
      }
     },
     "4e195601456a458db1d71c2a90df836a": {
      "model_module": "@jupyter-widgets/controls",
      "model_module_version": "1.0.0",
      "model_name": "LabelModel",
      "state": {
       "layout": "IPY_MODEL_a5006babf92545438769cf5b8951837e",
       "style": "IPY_MODEL_fb9aef14f2a9414ab8d9c04bb81c6782",
       "value": "End date is valid"
      }
     },
     "4e712f54c47d4c568f6c998d6eb8e664": {
      "model_module": "@jupyter-widgets/base",
      "model_module_version": "1.0.0",
      "model_name": "LayoutModel",
      "state": {}
     },
     "4e7ff2005ece4f21923996d447bb530f": {
      "model_module": "@jupyter-widgets/controls",
      "model_module_version": "1.0.0",
      "model_name": "LabelModel",
      "state": {
       "layout": "IPY_MODEL_d1e3ee3604f74eb5bef9550977263049",
       "style": "IPY_MODEL_0628e283917148cfa9382b72a283500c",
       "value": "End date is valid"
      }
     },
     "51629237db334a6f9f3f02f8f811307f": {
      "model_module": "@jupyter-widgets/base",
      "model_module_version": "1.0.0",
      "model_name": "LayoutModel",
      "state": {}
     },
     "534d78a381eb49cbaf1f1e5ce294bb8e": {
      "model_module": "@jupyter-widgets/controls",
      "model_module_version": "1.0.0",
      "model_name": "ToggleButtonsStyleModel",
      "state": {
       "button_width": "",
       "description_width": ""
      }
     },
     "57da9101bc734176953c2564943cfe18": {
      "model_module": "@jupyter-widgets/base",
      "model_module_version": "1.0.0",
      "model_name": "LayoutModel",
      "state": {
       "width": "70%"
      }
     },
     "586540cb3fc941da9b05bf6cb9855eac": {
      "model_module": "@jupyter-widgets/base",
      "model_module_version": "1.0.0",
      "model_name": "LayoutModel",
      "state": {}
     },
     "58fd4dd604d647cb9665b40609d7b24f": {
      "model_module": "@jupyter-widgets/base",
      "model_module_version": "1.0.0",
      "model_name": "LayoutModel",
      "state": {}
     },
     "5ae0a584b7e3406cb97d274dec38198f": {
      "model_module": "jupyter-leaflet",
      "model_module_version": "~0.5.0",
      "model_name": "LeafletTileLayerModel",
      "state": {
       "_model_module_version": "~0.5.0",
       "_view_count": null,
       "_view_module_version": "~0.5.0",
       "max_zoom": 19,
       "min_zoom": 1,
       "options": [
        "attribution",
        "detect_retina",
        "max_zoom",
        "min_zoom",
        "opacity",
        "tile_size"
       ]
      }
     },
     "5da051b275f64f04a7d941ea05e355b4": {
      "model_module": "@jupyter-widgets/controls",
      "model_module_version": "1.0.0",
      "model_name": "ButtonModel",
      "state": {
       "description": "Save File As",
       "icon": "square-o",
       "layout": "IPY_MODEL_51629237db334a6f9f3f02f8f811307f",
       "style": "IPY_MODEL_cf2452af83b54022afb47f0fd4cd847c"
      }
     },
     "5fe88df3e00a4a49ac3bfef832026201": {
      "model_module": "@jupyter-widgets/base",
      "model_module_version": "1.0.0",
      "model_name": "LayoutModel",
      "state": {}
     },
     "6539fcfd58bc44c8b5b9388b3c1829e7": {
      "model_module": "@jupyter-widgets/controls",
      "model_module_version": "1.0.0",
      "model_name": "TextModel",
      "state": {
       "description": "start date",
       "layout": "IPY_MODEL_0e940ccd7e3445fd922a3460176ecb3e",
       "placeholder": "update this field YYYY-MM-DD",
       "style": "IPY_MODEL_fc17a5d7cf4e4a1ba63e210c2ef93955",
       "value": "2013-04-01"
      }
     },
     "6a5a8678ae794bbf9991c2e25a14b6e9": {
      "model_module": "@jupyter-widgets/controls",
      "model_module_version": "1.0.0",
      "model_name": "ButtonModel",
      "state": {
       "description": "File Name Specified",
       "icon": "check-square-o",
       "layout": "IPY_MODEL_586540cb3fc941da9b05bf6cb9855eac",
       "style": "IPY_MODEL_29fc3c4a550a4181824a9c4b4eadbc29"
      }
     },
     "6adb3a5305e3413f8ee788b23d91f38a": {
      "model_module": "jupyter-leaflet",
      "model_module_version": "1.0.0",
      "model_name": "LeafletDrawControlModel",
      "state": {
       "_model_module_version": "1.0.0",
       "_view_count": null,
       "_view_module_version": "",
       "layer": "IPY_MODEL_e86761668ba1493a8da6766157fb5b0f",
       "polyline": {}
      }
     },
     "6d15bcf19a114c67aaeefc5903fd522a": {
      "model_module": "@jupyter-widgets/base",
      "model_module_version": "1.0.0",
      "model_name": "LayoutModel",
      "state": {
       "width": "70%"
      }
     },
     "6e84e506076d459193a7dd485ce44a3c": {
      "model_module": "@jupyter-widgets/base",
      "model_module_version": "1.0.0",
      "model_name": "LayoutModel",
      "state": {}
     },
     "7194b5cf027246f382057e3cb2b85972": {
      "model_module": "jupyter-leaflet",
      "model_module_version": "~0.5.0",
      "model_name": "LeafletTileLayerModel",
      "state": {
       "_model_module_version": "~0.5.0",
       "_view_count": null,
       "_view_module_version": "~0.5.0",
       "max_zoom": 19,
       "min_zoom": 1,
       "options": [
        "attribution",
        "detect_retina",
        "max_zoom",
        "min_zoom",
        "opacity",
        "tile_size"
       ]
      }
     },
     "796c079d2d3c480397cf988768d5bba8": {
      "model_module": "@jupyter-widgets/controls",
      "model_module_version": "1.0.0",
      "model_name": "ButtonStyleModel",
      "state": {
       "button_color": "orange"
      }
     },
     "7ade81e89e6742c4b5cdc0ba714c2555": {
      "model_module": "@jupyter-widgets/base",
      "model_module_version": "1.0.0",
      "model_name": "LayoutModel",
      "state": {}
     },
     "7c897beefdf445c3b581cf25468bd345": {
      "model_module": "@jupyter-widgets/controls",
      "model_module_version": "1.0.0",
      "model_name": "DescriptionStyleModel",
      "state": {
       "description_width": ""
      }
     },
     "7d4514235e32412d8874eb2daa39ec1f": {
      "model_module": "@jupyter-widgets/controls",
      "model_module_version": "1.0.0",
      "model_name": "ButtonModel",
      "state": {
       "description": "Check dates",
       "layout": "IPY_MODEL_e057621f14ff462a87bd7096fae6e4df",
       "style": "IPY_MODEL_ee442f3d9eef44708ca7523704bca927",
       "tooltip": "Click me"
      }
     },
     "7da28f09fabc4e7294c30f004f877c7f": {
      "model_module": "@jupyter-widgets/base",
      "model_module_version": "1.0.0",
      "model_name": "LayoutModel",
      "state": {}
     },
     "7fbd49719f65447eb63fa0c92e3cb6d9": {
      "model_module": "@jupyter-widgets/controls",
      "model_module_version": "1.0.0",
      "model_name": "HBoxModel",
      "state": {
       "children": [
        "IPY_MODEL_feebce2f7ba946a580673fa328e6045e",
        "IPY_MODEL_b0c55f01d88945e58155cd90b993d06e"
       ],
       "layout": "IPY_MODEL_4bd38c3a77d24b8db9c7861d349c8656"
      }
     },
     "7feb81acd8b04d4dae1bb263dbb28617": {
      "model_module": "@jupyter-widgets/controls",
      "model_module_version": "1.0.0",
      "model_name": "DescriptionStyleModel",
      "state": {
       "description_width": ""
      }
     },
     "8061f6f2ae43464b82c7b3b21badb9fd": {
      "model_module": "@jupyter-widgets/base",
      "model_module_version": "1.0.0",
      "model_name": "LayoutModel",
      "state": {
       "height": "400px",
       "width": "400px"
      }
     },
     "80acf68d50394a05a83db84b440d7e82": {
      "model_module": "@jupyter-widgets/controls",
      "model_module_version": "1.0.0",
      "model_name": "ButtonModel",
      "state": {
       "description": "Save File As",
       "icon": "square-o",
       "layout": "IPY_MODEL_1ac431158751409a96889ae4906a231c",
       "style": "IPY_MODEL_796c079d2d3c480397cf988768d5bba8"
      }
     },
     "80fbc771fe604df49a7766b066b800e7": {
      "model_module": "@jupyter-widgets/controls",
      "model_module_version": "1.0.0",
      "model_name": "DescriptionStyleModel",
      "state": {
       "description_width": "initial"
      }
     },
     "857ce92a4a1e43a683eb1b2e039dad46": {
      "model_module": "@jupyter-widgets/base",
      "model_module_version": "1.0.0",
      "model_name": "LayoutModel",
      "state": {}
     },
     "85fd9460fd844ead9e5f5b256250b9b9": {
      "model_module": "@jupyter-widgets/controls",
      "model_module_version": "1.0.0",
      "model_name": "ButtonStyleModel",
      "state": {}
     },
     "892d4f75783a494d97b71f72698941a0": {
      "model_module": "@jupyter-widgets/controls",
      "model_module_version": "1.0.0",
      "model_name": "HBoxModel",
      "state": {
       "children": [
        "IPY_MODEL_feebce2f7ba946a580673fa328e6045e",
        "IPY_MODEL_033d405dfb5d475191df2b452cecd3ca"
       ],
       "layout": "IPY_MODEL_c0f437ab1eab43088e81a4f0a0c1ba46"
      }
     },
     "8a53d3069d4e490c96fd8c2a615cbb21": {
      "model_module": "@jupyter-widgets/base",
      "model_module_version": "1.0.0",
      "model_name": "LayoutModel",
      "state": {}
     },
     "8c0ad4bca4474ee9bceeb57435c89ec3": {
      "model_module": "@jupyter-widgets/base",
      "model_module_version": "1.0.0",
      "model_name": "LayoutModel",
      "state": {}
     },
     "8ea92dc87a5b4b2ba38c37a5796aa202": {
      "model_module": "@jupyter-widgets/controls",
      "model_module_version": "1.0.0",
      "model_name": "TextModel",
      "state": {
       "description": "path to shape file",
       "layout": "IPY_MODEL_94cbafe16727492f831fa81e1f536e58",
       "placeholder": "update this field",
       "style": "IPY_MODEL_97bad54ef10c459cb3776403067d9e85",
       "value": "/g/data1a/r78/rjd547/groundwater_activities/Burdekin/Burdekin_shapefiles/fels_sml.shp"
      }
     },
     "923da577f84449948e43ef15ebfa3645": {
      "model_module": "@jupyter-widgets/controls",
      "model_module_version": "1.0.0",
      "model_name": "VBoxModel",
      "state": {
       "children": [
        "IPY_MODEL_fc267b560dd84f6fabd515652c90be0c",
        "IPY_MODEL_05678a7fe6eb414999c00a01bc2762e3"
       ],
       "layout": "IPY_MODEL_8c0ad4bca4474ee9bceeb57435c89ec3"
      }
     },
     "94cbafe16727492f831fa81e1f536e58": {
      "model_module": "@jupyter-widgets/base",
      "model_module_version": "1.0.0",
      "model_name": "LayoutModel",
      "state": {
       "width": "70%"
      }
     },
     "969aee6451f942a8add5ae91d1e110c7": {
      "model_module": "@jupyter-widgets/base",
      "model_module_version": "1.0.0",
      "model_name": "LayoutModel",
      "state": {}
     },
     "97bad54ef10c459cb3776403067d9e85": {
      "model_module": "@jupyter-widgets/controls",
      "model_module_version": "1.0.0",
      "model_name": "DescriptionStyleModel",
      "state": {
       "description_width": "initial"
      }
     },
     "99de0ea53f624b8187511ded54552df0": {
      "model_module": "@jupyter-widgets/base",
      "model_module_version": "1.0.0",
      "model_name": "LayoutModel",
      "state": {}
     },
     "99f91cc2631542ba9d521c29fb28bb8b": {
      "model_module": "@jupyter-widgets/controls",
      "model_module_version": "1.0.0",
      "model_name": "HBoxModel",
      "state": {
       "children": [
        "IPY_MODEL_05cc505130724f6eb1bb919f430abe90",
        "IPY_MODEL_4e7ff2005ece4f21923996d447bb530f"
       ],
       "layout": "IPY_MODEL_1c2538ebd782459885484572d8bad63f"
      }
     },
     "9a8594d24494400d927adbdf17a36845": {
      "model_module": "@jupyter-widgets/controls",
      "model_module_version": "1.0.0",
      "model_name": "ButtonModel",
      "state": {
       "description": "Save File As",
       "icon": "square-o",
       "layout": "IPY_MODEL_58fd4dd604d647cb9665b40609d7b24f",
       "style": "IPY_MODEL_08a869e1b3974790809c89e39652eb80"
      }
     },
     "9bac5964747142ed9710f1f2e87301d9": {
      "model_module": "@jupyter-widgets/controls",
      "model_module_version": "1.0.0",
      "model_name": "DescriptionStyleModel",
      "state": {
       "description_width": "initial"
      }
     },
     "9d084057ad1445068170f2aba708faa2": {
      "model_module": "@jupyter-widgets/controls",
      "model_module_version": "1.0.0",
      "model_name": "TextModel",
      "state": {
       "description": "start date",
       "layout": "IPY_MODEL_dcd3f39264644d7f8dd409cf2ccfb62d",
       "placeholder": "update this field YYYY-MM-DD",
       "style": "IPY_MODEL_eca401265488469987c3584458386ef3",
       "value": "2013-04-01"
      }
     },
     "9db53fc6ac044603b58b0ca6f04206f7": {
      "model_module": "@jupyter-widgets/controls",
      "model_module_version": "1.0.0",
      "model_name": "HBoxModel",
      "state": {
       "children": [
        "IPY_MODEL_e90f608c153d43f8b67a19eae18e4f85",
        "IPY_MODEL_ad14e591d99448fea370e7c0ec2e3516"
       ],
       "layout": "IPY_MODEL_e8782e328099437ba11246716738ee1c"
      }
     },
     "9fa46f83a6b248ee96ee1f93baec9b00": {
      "model_module": "jupyter-leaflet",
      "model_module_version": "1.0.0",
      "model_name": "LeafletMapModel",
      "state": {
       "_dom_classes": [],
       "_east": 145.5784606933594,
       "_model_module_version": "1.0.0",
       "_north": -19.760241554664503,
       "_south": -20.276367870836033,
       "_view_count": null,
       "_view_module_version": "",
       "_west": 145.04837036132815,
       "basemap": {
        "attribution": "Tiles &copy; Esri &mdash; Source: Esri, i-cubed, USDA, USGS, AEX, GeoEye, Getmapping, Aerogrid, IGN, IGP, UPR-EGP, and the GIS User Community",
        "max_zoom": 20,
        "name": "Esri.WorldImagery",
        "url": "http://server.arcgisonline.com/ArcGIS/rest/services/World_Imagery/MapServer/tile/{z}/{y}/{x}"
       },
       "center": [
        -20.01851645170249,
        145.31341552734378
       ],
       "controls": [
        "IPY_MODEL_afb1d5a5456c416f85c757a3301f072e"
       ],
       "default_tiles": "IPY_MODEL_e4a936151c2f4df2a7dcbadf0f5dbac3",
       "layers": [
        "IPY_MODEL_e4a936151c2f4df2a7dcbadf0f5dbac3",
        "IPY_MODEL_d292dcab859443e4a16bfbfcb6f2185b"
       ],
       "layout": "IPY_MODEL_0619854f68b340ac8309334e5a6b7a3e",
       "modisdate": "yesterday",
       "options": [
        "attribution_control",
        "basemap",
        "bounce_at_zoom_limits",
        "box_zoom",
        "center",
        "close_popup_on_click",
        "double_click_zoom",
        "dragging",
        "inertia",
        "inertia_deceleration",
        "inertia_max_speed",
        "keyboard",
        "keyboard_pan_offset",
        "keyboard_zoom_offset",
        "max_zoom",
        "min_zoom",
        "scroll_wheel_zoom",
        "tap",
        "tap_tolerance",
        "touch_zoom",
        "world_copy_jump",
        "zoom",
        "zoom_animation_threshold",
        "zoom_control",
        "zoom_start"
       ],
       "zoom": 10
      }
     },
     "a251f3713b404f3b931d1ee9f008c89d": {
      "model_module": "@jupyter-widgets/controls",
      "model_module_version": "1.0.0",
      "model_name": "TextModel",
      "state": {
       "description": "path to shape file",
       "layout": "IPY_MODEL_6d15bcf19a114c67aaeefc5903fd522a",
       "placeholder": "update this field",
       "style": "IPY_MODEL_29ffbe7338fb45718f3c5ee907be829f",
       "value": "/g/data1a/r78/rjd547/groundwater_activities/Burdekin/Burdekin_shapefiles/fels_sml.shp"
      }
     },
     "a361c984760c4e80916ba4e7f283a75f": {
      "model_module": "jupyter-leaflet",
      "model_module_version": "~0.5.0",
      "model_name": "LeafletTileLayerModel",
      "state": {
       "_model_module_version": "~0.5.0",
       "_view_count": null,
       "_view_module_version": "~0.5.0",
       "attribution": "Tiles &copy; Esri &mdash; Source: Esri, i-cubed, USDA, USGS, AEX, GeoEye, Getmapping, Aerogrid, IGN, IGP, UPR-EGP, and the GIS User Community",
       "max_zoom": 20,
       "min_zoom": 1,
       "name": "Esri.WorldImagery",
       "options": [
        "attribution",
        "detect_retina",
        "max_zoom",
        "min_zoom",
        "opacity",
        "tile_size"
       ],
       "url": "http://server.arcgisonline.com/ArcGIS/rest/services/World_Imagery/MapServer/tile/{z}/{y}/{x}"
      }
     },
     "a5006babf92545438769cf5b8951837e": {
      "model_module": "@jupyter-widgets/base",
      "model_module_version": "1.0.0",
      "model_name": "LayoutModel",
      "state": {}
     },
     "a54ca6f1ec8b4c6e95c998cf34b1e66f": {
      "model_module": "@jupyter-widgets/base",
      "model_module_version": "1.0.0",
      "model_name": "LayoutModel",
      "state": {}
     },
     "a5f6000cdbde40aab090c61e08c3a656": {
      "model_module": "@jupyter-widgets/controls",
      "model_module_version": "1.0.0",
      "model_name": "LabelModel",
      "state": {
       "layout": "IPY_MODEL_f7d9d9dd66324b45b8ccd116adb77fad",
       "style": "IPY_MODEL_7c897beefdf445c3b581cf25468bd345",
       "value": "Start date is valid"
      }
     },
     "a7d7e644cc9d4de586ba1a14a5958c77": {
      "model_module": "@jupyter-widgets/controls",
      "model_module_version": "1.0.0",
      "model_name": "ButtonModel",
      "state": {
       "description": "Load and Calculate",
       "layout": "IPY_MODEL_857ce92a4a1e43a683eb1b2e039dad46",
       "style": "IPY_MODEL_df1d590c2bf34fd3ac0101100f691eb9"
      }
     },
     "aa3b1761c65b482a9fd6b7b061bbcc72": {
      "model_module": "@jupyter-widgets/controls",
      "model_module_version": "1.0.0",
      "model_name": "DescriptionStyleModel",
      "state": {
       "description_width": "initial"
      }
     },
     "ad14e591d99448fea370e7c0ec2e3516": {
      "model_module": "jupyter-leaflet",
      "model_module_version": "1.0.0",
      "model_name": "LeafletMapModel",
      "state": {
       "_dom_classes": [],
       "_east": 145.62652587890628,
       "_model_module_version": "1.0.0",
       "_north": -19.77704220222595,
       "_south": -20.29311344754411,
       "_view_count": null,
       "_view_module_version": "",
       "_west": 145.09643554687503,
       "basemap": {
        "attribution": "Tiles &copy; Esri &mdash; Source: Esri, i-cubed, USDA, USGS, AEX, GeoEye, Getmapping, Aerogrid, IGN, IGP, UPR-EGP, and the GIS User Community",
        "max_zoom": 20,
        "name": "Esri.WorldImagery",
        "url": "http://server.arcgisonline.com/ArcGIS/rest/services/World_Imagery/MapServer/tile/{z}/{y}/{x}"
       },
       "center": [
        -20.035289711352377,
        145.36148071289065
       ],
       "controls": [
        "IPY_MODEL_c3e9e6f7d9b94e199a8382c26408b838"
       ],
       "default_tiles": "IPY_MODEL_a361c984760c4e80916ba4e7f283a75f",
       "layers": [
        "IPY_MODEL_a361c984760c4e80916ba4e7f283a75f"
       ],
       "layout": "IPY_MODEL_8061f6f2ae43464b82c7b3b21badb9fd",
       "modisdate": "yesterday",
       "options": [
        "attribution_control",
        "basemap",
        "bounce_at_zoom_limits",
        "box_zoom",
        "center",
        "close_popup_on_click",
        "double_click_zoom",
        "dragging",
        "inertia",
        "inertia_deceleration",
        "inertia_max_speed",
        "keyboard",
        "keyboard_pan_offset",
        "keyboard_zoom_offset",
        "max_zoom",
        "min_zoom",
        "scroll_wheel_zoom",
        "tap",
        "tap_tolerance",
        "touch_zoom",
        "world_copy_jump",
        "zoom",
        "zoom_animation_threshold",
        "zoom_control",
        "zoom_start"
       ],
       "zoom": 10
      }
     },
     "ad9890c710824373b549f4409c8cd47a": {
      "model_module": "@jupyter-widgets/base",
      "model_module_version": "1.0.0",
      "model_name": "LayoutModel",
      "state": {}
     },
     "ae0b1591d53a4503b208f78a2072801a": {
      "model_module": "@jupyter-widgets/controls",
      "model_module_version": "1.0.0",
      "model_name": "TextModel",
      "state": {
       "description": "end date",
       "layout": "IPY_MODEL_26998541f031412d87b9568163248293",
       "placeholder": "update this field YYYY-MM-DD",
       "style": "IPY_MODEL_bc9fbed398734ba2b19bf6adec66a95a",
       "value": "2013-05-31"
      }
     },
     "af6417465f05425eab80c2d67bcdeabf": {
      "model_module": "@jupyter-widgets/base",
      "model_module_version": "1.0.0",
      "model_name": "LayoutModel",
      "state": {
       "width": "70%"
      }
     },
     "afb1d5a5456c416f85c757a3301f072e": {
      "model_module": "jupyter-leaflet",
      "model_module_version": "1.0.0",
      "model_name": "LeafletDrawControlModel",
      "state": {
       "_model_module_version": "1.0.0",
       "_view_count": null,
       "_view_module_version": "",
       "layer": "IPY_MODEL_e327ada1544e4b549ca34a767eceef43",
       "polygon": {
        "shapeOptions": {
         "color": "#0000FF"
        }
       },
       "polyline": {}
      }
     },
     "aff5be0e65ef4e07828e296a0196ccba": {
      "model_module": "@jupyter-widgets/base",
      "model_module_version": "1.0.0",
      "model_name": "LayoutModel",
      "state": {}
     },
     "b09a7e80474e41a9bf272fcd49c75bfd": {
      "model_module": "@jupyter-widgets/controls",
      "model_module_version": "1.0.0",
      "model_name": "TextModel",
      "state": {
       "description": "path to shape file",
       "layout": "IPY_MODEL_ca0d0eaeaabd4543a84655bd5c7a546a",
       "placeholder": "update this field",
       "style": "IPY_MODEL_aa3b1761c65b482a9fd6b7b061bbcc72"
      }
     },
     "b0c55f01d88945e58155cd90b993d06e": {
      "model_module": "@jupyter-widgets/controls",
      "model_module_version": "1.0.0",
      "model_name": "ButtonModel",
      "state": {
       "description": "Select File",
       "icon": "square-o",
       "layout": "IPY_MODEL_8a53d3069d4e490c96fd8c2a615cbb21",
       "style": "IPY_MODEL_4cf0dc35ed9241779de3d62ef911c6c5"
      }
     },
     "b0c91d2f62684ba790cc0b04d33b75b5": {
      "model_module": "jupyter-leaflet",
      "model_module_version": "~0.5.0",
      "model_name": "LeafletFeatureGroupModel",
      "state": {
       "_model_module_version": "~0.5.0",
       "_view_count": null,
       "_view_module_version": "~0.5.0"
      }
     },
     "b160db5484c24a578e594a16d1c214c5": {
      "model_module": "@jupyter-widgets/base",
      "model_module_version": "1.0.0",
      "model_name": "LayoutModel",
      "state": {
       "width": "70%"
      }
     },
     "b1c6671c4c374ecc9c24adbe4568788b": {
      "model_module": "@jupyter-widgets/controls",
      "model_module_version": "1.0.0",
      "model_name": "HBoxModel",
      "state": {
       "children": [
        "IPY_MODEL_6539fcfd58bc44c8b5b9388b3c1829e7",
        "IPY_MODEL_a5f6000cdbde40aab090c61e08c3a656"
       ],
       "layout": "IPY_MODEL_7da28f09fabc4e7294c30f004f877c7f"
      }
     },
     "b59cfe415e5d4323a11eda83ef0cf760": {
      "model_module": "@jupyter-widgets/controls",
      "model_module_version": "1.0.0",
      "model_name": "ButtonModel",
      "state": {
       "description": "Check shapefile",
       "layout": "IPY_MODEL_aff5be0e65ef4e07828e296a0196ccba",
       "style": "IPY_MODEL_dfe1a55b616b44daaa569ae2b7593d03",
       "tooltip": "Click me"
      }
     },
     "b9495dc952df4fed80534bee2b844fad": {
      "model_module": "@jupyter-widgets/controls",
      "model_module_version": "1.0.0",
      "model_name": "ButtonModel",
      "state": {
       "description": "File Name Specified",
       "icon": "check-square-o",
       "layout": "IPY_MODEL_2cba40606b2448eabf5ce1043dd4a460",
       "style": "IPY_MODEL_c66fab7030fc433f97f87d9401d1eb30"
      }
     },
     "ba3ed2c2b9d648a29e3a700c2f413a15": {
      "model_module": "@jupyter-widgets/controls",
      "model_module_version": "1.0.0",
      "model_name": "VBoxModel",
      "state": {
       "children": [
        "IPY_MODEL_9db53fc6ac044603b58b0ca6f04206f7",
        "IPY_MODEL_4ceeeb52d326492ca12af3c019bd8a66"
       ],
       "layout": "IPY_MODEL_03e175404ff64235ab1e98121c4826fb"
      }
     },
     "bc9fbed398734ba2b19bf6adec66a95a": {
      "model_module": "@jupyter-widgets/controls",
      "model_module_version": "1.0.0",
      "model_name": "DescriptionStyleModel",
      "state": {
       "description_width": ""
      }
     },
     "bd6527b0d1fd454a8d9d36ecadfe9fb3": {
      "model_module": "@jupyter-widgets/controls",
      "model_module_version": "1.0.0",
      "model_name": "ButtonModel",
      "state": {
       "description": "Check shapefile",
       "layout": "IPY_MODEL_1f9ad95bbb1940889a03f25cb547e6b8",
       "style": "IPY_MODEL_1ffd6b7a924249399455dba7f2e3d6d4",
       "tooltip": "Click me"
      }
     },
     "c09e94a81971461eae1d84f3b61d7015": {
      "model_module": "@jupyter-widgets/controls",
      "model_module_version": "1.0.0",
      "model_name": "ButtonStyleModel",
      "state": {}
     },
     "c0f437ab1eab43088e81a4f0a0c1ba46": {
      "model_module": "@jupyter-widgets/base",
      "model_module_version": "1.0.0",
      "model_name": "LayoutModel",
      "state": {}
     },
     "c1e765ea42e24e89b0150183abc7a940": {
      "model_module": "@jupyter-widgets/base",
      "model_module_version": "1.0.0",
      "model_name": "LayoutModel",
      "state": {}
     },
     "c2fa18a9c33544ddb1c4b09cd2d09b15": {
      "model_module": "@jupyter-widgets/controls",
      "model_module_version": "1.0.0",
      "model_name": "ButtonModel",
      "state": {
       "description": "Plot Geomedian",
       "layout": "IPY_MODEL_2c4db1279ac145adaa7cc38c6a1666d3",
       "style": "IPY_MODEL_4138bbeee0c34ef2b654f827a17c5285"
      }
     },
     "c3938560929947cc877be917e67a66c4": {
      "model_module": "@jupyter-widgets/controls",
      "model_module_version": "1.0.0",
      "model_name": "ButtonModel",
      "state": {
       "description": "Load and Calculate",
       "layout": "IPY_MODEL_969aee6451f942a8add5ae91d1e110c7",
       "style": "IPY_MODEL_14e9995cb34f4ffbb415fe2b98b0b626"
      }
     },
     "c3e9e6f7d9b94e199a8382c26408b838": {
      "model_module": "jupyter-leaflet",
      "model_module_version": "1.0.0",
      "model_name": "LeafletDrawControlModel",
      "state": {
       "_model_module_version": "1.0.0",
       "_view_count": null,
       "_view_module_version": "",
       "layer": "IPY_MODEL_10cda133c629498187810e1007d94900",
       "polygon": {
        "shapeOptions": {
         "color": "#0000FF"
        }
       },
       "polyline": {}
      }
     },
     "c66fab7030fc433f97f87d9401d1eb30": {
      "model_module": "@jupyter-widgets/controls",
      "model_module_version": "1.0.0",
      "model_name": "ButtonStyleModel",
      "state": {
       "button_color": "lightgreen"
      }
     },
     "ca0d0eaeaabd4543a84655bd5c7a546a": {
      "model_module": "@jupyter-widgets/base",
      "model_module_version": "1.0.0",
      "model_name": "LayoutModel",
      "state": {
       "width": "70%"
      }
     },
     "cf2452af83b54022afb47f0fd4cd847c": {
      "model_module": "@jupyter-widgets/controls",
      "model_module_version": "1.0.0",
      "model_name": "ButtonStyleModel",
      "state": {
       "button_color": "orange"
      }
     },
     "cf291926fb22492a8c2c0e51320060c6": {
      "model_module": "@jupyter-widgets/controls",
      "model_module_version": "1.0.0",
      "model_name": "ButtonStyleModel",
      "state": {
       "button_color": "orange"
      }
     },
     "d1e3ee3604f74eb5bef9550977263049": {
      "model_module": "@jupyter-widgets/base",
      "model_module_version": "1.0.0",
      "model_name": "LayoutModel",
      "state": {}
     },
     "d292dcab859443e4a16bfbfcb6f2185b": {
      "model_module": "jupyter-leaflet",
      "model_module_version": "~0.5.0",
      "model_name": "LeafletGeoJSONModel",
      "state": {
       "_model_module_version": "~0.5.0",
       "_view_count": null,
       "_view_module_version": "~0.5.0",
       "data": {
        "geometry": {
         "coordinates": [
          [
           [
            145.227173,
            -19.964938
           ],
           [
            145.269745,
            -19.950739
           ],
           [
            145.282104,
            -19.98946
           ],
           [
            145.228546,
            -19.997203
           ],
           [
            145.227173,
            -19.964938
           ]
          ]
         ],
         "type": "Polygon"
        },
        "properties": {
         "style": {
          "clickable": true,
          "color": "#3388ff",
          "fill": true,
          "fillColor": null,
          "fillOpacity": 0.2,
          "opacity": 0.5,
          "stroke": true,
          "weight": 4
         }
        },
        "type": "Feature"
       }
      }
     },
     "d2f7e71c3fee42f390ba485f2c05eabf": {
      "model_module": "@jupyter-widgets/controls",
      "model_module_version": "1.0.0",
      "model_name": "ButtonModel",
      "state": {
       "description": "Check shapefile",
       "layout": "IPY_MODEL_99de0ea53f624b8187511ded54552df0",
       "style": "IPY_MODEL_c09e94a81971461eae1d84f3b61d7015",
       "tooltip": "Click me"
      }
     },
     "d86423baaa0c4ef2b4710d29fdc96aae": {
      "model_module": "@jupyter-widgets/controls",
      "model_module_version": "1.0.0",
      "model_name": "ToggleButtonsStyleModel",
      "state": {
       "button_width": "",
       "description_width": ""
      }
     },
     "db8aa8e8cbf845d8ba3aef835cb1dd96": {
      "model_module": "@jupyter-widgets/base",
      "model_module_version": "1.0.0",
      "model_name": "LayoutModel",
      "state": {}
     },
     "dcd3f39264644d7f8dd409cf2ccfb62d": {
      "model_module": "@jupyter-widgets/base",
      "model_module_version": "1.0.0",
      "model_name": "LayoutModel",
      "state": {}
     },
     "df1d590c2bf34fd3ac0101100f691eb9": {
      "model_module": "@jupyter-widgets/controls",
      "model_module_version": "1.0.0",
      "model_name": "ButtonStyleModel",
      "state": {}
     },
     "dfe1a55b616b44daaa569ae2b7593d03": {
      "model_module": "@jupyter-widgets/controls",
      "model_module_version": "1.0.0",
      "model_name": "ButtonStyleModel",
      "state": {}
     },
     "e057621f14ff462a87bd7096fae6e4df": {
      "model_module": "@jupyter-widgets/base",
      "model_module_version": "1.0.0",
      "model_name": "LayoutModel",
      "state": {}
     },
     "e1ec934272ac4bed9755501dd88b40d3": {
      "model_module": "@jupyter-widgets/base",
      "model_module_version": "1.0.0",
      "model_name": "LayoutModel",
      "state": {}
     },
     "e327ada1544e4b549ca34a767eceef43": {
      "model_module": "jupyter-leaflet",
      "model_module_version": "~0.5.0",
      "model_name": "LeafletFeatureGroupModel",
      "state": {
       "_model_module_version": "~0.5.0",
       "_view_count": null,
       "_view_module_version": "~0.5.0"
      }
     },
     "e4a936151c2f4df2a7dcbadf0f5dbac3": {
      "model_module": "jupyter-leaflet",
      "model_module_version": "~0.5.0",
      "model_name": "LeafletTileLayerModel",
      "state": {
       "_model_module_version": "~0.5.0",
       "_view_count": null,
       "_view_module_version": "~0.5.0",
       "attribution": "Tiles &copy; Esri &mdash; Source: Esri, i-cubed, USDA, USGS, AEX, GeoEye, Getmapping, Aerogrid, IGN, IGP, UPR-EGP, and the GIS User Community",
       "max_zoom": 20,
       "min_zoom": 1,
       "name": "Esri.WorldImagery",
       "options": [
        "attribution",
        "detect_retina",
        "max_zoom",
        "min_zoom",
        "opacity",
        "tile_size"
       ],
       "url": "http://server.arcgisonline.com/ArcGIS/rest/services/World_Imagery/MapServer/tile/{z}/{y}/{x}"
      }
     },
     "e573e2faf4bd495d9d54786ca94f831e": {
      "model_module": "@jupyter-widgets/base",
      "model_module_version": "1.0.0",
      "model_name": "LayoutModel",
      "state": {}
     },
     "e86761668ba1493a8da6766157fb5b0f": {
      "model_module": "jupyter-leaflet",
      "model_module_version": "~0.5.0",
      "model_name": "LeafletFeatureGroupModel",
      "state": {
       "_model_module_version": "~0.5.0",
       "_view_count": null,
       "_view_module_version": "~0.5.0"
      }
     },
     "e8782e328099437ba11246716738ee1c": {
      "model_module": "@jupyter-widgets/base",
      "model_module_version": "1.0.0",
      "model_name": "LayoutModel",
      "state": {}
     },
     "e90f608c153d43f8b67a19eae18e4f85": {
      "model_module": "jupyter-leaflet",
      "model_module_version": "1.0.0",
      "model_name": "LeafletMapModel",
      "state": {
       "_dom_classes": [],
       "_east": 145.62652587890628,
       "_model_module_version": "1.0.0",
       "_north": -19.77704220222595,
       "_south": -20.29311344754411,
       "_view_count": null,
       "_view_module_version": "",
       "_west": 145.09643554687503,
       "basemap": {
        "attribution": "Map data (c) <a href=\"https://openstreetmap.org\">OpenStreetMap</a> contributors",
        "max_zoom": 19,
        "url": "https://{s}.tile.openstreetmap.org/{z}/{x}/{y}.png"
       },
       "center": [
        -20.035289711352377,
        145.36148071289065
       ],
       "controls": [
        "IPY_MODEL_ea717667d4e541afb0b037c380e88af5"
       ],
       "default_tiles": "IPY_MODEL_7194b5cf027246f382057e3cb2b85972",
       "layers": [
        "IPY_MODEL_7194b5cf027246f382057e3cb2b85972",
        "IPY_MODEL_fdc71f12b20249f981baf521e4881afb"
       ],
       "layout": "IPY_MODEL_8061f6f2ae43464b82c7b3b21badb9fd",
       "modisdate": "yesterday",
       "options": [
        "attribution_control",
        "basemap",
        "bounce_at_zoom_limits",
        "box_zoom",
        "center",
        "close_popup_on_click",
        "double_click_zoom",
        "dragging",
        "inertia",
        "inertia_deceleration",
        "inertia_max_speed",
        "keyboard",
        "keyboard_pan_offset",
        "keyboard_zoom_offset",
        "max_zoom",
        "min_zoom",
        "scroll_wheel_zoom",
        "tap",
        "tap_tolerance",
        "touch_zoom",
        "world_copy_jump",
        "zoom",
        "zoom_animation_threshold",
        "zoom_control",
        "zoom_start"
       ],
       "zoom": 10
      }
     },
     "ea717667d4e541afb0b037c380e88af5": {
      "model_module": "jupyter-leaflet",
      "model_module_version": "1.0.0",
      "model_name": "LeafletDrawControlModel",
      "state": {
       "_model_module_version": "1.0.0",
       "_view_count": null,
       "_view_module_version": "",
       "layer": "IPY_MODEL_b0c91d2f62684ba790cc0b04d33b75b5",
       "polyline": {}
      }
     },
     "eb7af16fda2d4dd489b4469a026ef921": {
      "model_module": "@jupyter-widgets/controls",
      "model_module_version": "1.0.0",
      "model_name": "LabelModel",
      "state": {
       "layout": "IPY_MODEL_4e712f54c47d4c568f6c998d6eb8e664",
       "style": "IPY_MODEL_152c6d98c17142a790380a32be4c3425",
       "value": "Start date is valid"
      }
     },
     "eca401265488469987c3584458386ef3": {
      "model_module": "@jupyter-widgets/controls",
      "model_module_version": "1.0.0",
      "model_name": "DescriptionStyleModel",
      "state": {
       "description_width": ""
      }
     },
     "ed8c3d7c67884cad85df31dd37b026e7": {
      "model_module": "@jupyter-widgets/controls",
      "model_module_version": "1.0.0",
      "model_name": "ButtonStyleModel",
      "state": {
       "button_color": "lightgreen"
      }
     },
     "ee442f3d9eef44708ca7523704bca927": {
      "model_module": "@jupyter-widgets/controls",
      "model_module_version": "1.0.0",
      "model_name": "ButtonStyleModel",
      "state": {}
     },
     "f3fcc9029cff4e34b89f0d0d42b61268": {
      "model_module": "@jupyter-widgets/base",
      "model_module_version": "1.0.0",
      "model_name": "LayoutModel",
      "state": {}
     },
     "f7d9d9dd66324b45b8ccd116adb77fad": {
      "model_module": "@jupyter-widgets/base",
      "model_module_version": "1.0.0",
      "model_name": "LayoutModel",
      "state": {}
     },
     "f96fed83fd5a43ed9f4c6298b6a1fc4e": {
      "model_module": "@jupyter-widgets/controls",
      "model_module_version": "1.0.0",
      "model_name": "ButtonStyleModel",
      "state": {}
     },
     "fb9aef14f2a9414ab8d9c04bb81c6782": {
      "model_module": "@jupyter-widgets/controls",
      "model_module_version": "1.0.0",
      "model_name": "DescriptionStyleModel",
      "state": {
       "description_width": ""
      }
     },
     "fc17a5d7cf4e4a1ba63e210c2ef93955": {
      "model_module": "@jupyter-widgets/controls",
      "model_module_version": "1.0.0",
      "model_name": "DescriptionStyleModel",
      "state": {
       "description_width": ""
      }
     },
     "fc267b560dd84f6fabd515652c90be0c": {
      "model_module": "@jupyter-widgets/controls",
      "model_module_version": "1.0.0",
      "model_name": "HBoxModel",
      "state": {
       "children": [
        "IPY_MODEL_2a1b8cab12d04b6e8e9c5f2d786fac11",
        "IPY_MODEL_9fa46f83a6b248ee96ee1f93baec9b00"
       ],
       "layout": "IPY_MODEL_f3fcc9029cff4e34b89f0d0d42b61268"
      }
     },
     "fd18078a32ed426b8738912bccb76beb": {
      "model_module": "@jupyter-widgets/controls",
      "model_module_version": "1.0.0",
      "model_name": "ButtonStyleModel",
      "state": {}
     },
     "fdc71f12b20249f981baf521e4881afb": {
      "model_module": "jupyter-leaflet",
      "model_module_version": "~0.5.0",
      "model_name": "LeafletGeoJSONModel",
      "state": {
       "_model_module_version": "~0.5.0",
       "_view_count": null,
       "_view_module_version": "~0.5.0",
       "data": {
        "geometry": {
         "coordinates": [
          [
           [
            145.358002,
            -19.914741
           ],
           [
            145.414307,
            -19.913449
           ],
           [
            145.41568,
            -19.941853
           ],
           [
            145.356628,
            -19.93798
           ],
           [
            145.358002,
            -19.914741
           ]
          ]
         ],
         "type": "Polygon"
        },
        "properties": {
         "style": {
          "clickable": true,
          "color": "#0000FF",
          "fill": true,
          "fillColor": null,
          "fillOpacity": 0.2,
          "opacity": 0.5,
          "stroke": true,
          "weight": 4
         }
        },
        "type": "Feature"
       }
      }
     },
     "feebce2f7ba946a580673fa328e6045e": {
      "model_module": "@jupyter-widgets/controls",
      "model_module_version": "1.0.0",
      "model_name": "TextModel",
      "state": {
       "description": "path to shape file",
       "layout": "IPY_MODEL_b160db5484c24a578e594a16d1c214c5",
       "placeholder": "update this field",
       "style": "IPY_MODEL_80fbc771fe604df49a7766b066b800e7",
       "value": "/g/data1a/r78/rjd547/groundwater_activities/Burdekin/Burdekin_shapefiles/fels_sml.shp"
      }
     },
     "ff421a7caf40411d924184c16ca2b3a6": {
      "model_module": "@jupyter-widgets/controls",
      "model_module_version": "1.0.0",
      "model_name": "DescriptionStyleModel",
      "state": {
       "description_width": "initial"
      }
     }
    },
    "version_major": 2,
    "version_minor": 0
   }
  }
 },
 "nbformat": 4,
 "nbformat_minor": 2
}
