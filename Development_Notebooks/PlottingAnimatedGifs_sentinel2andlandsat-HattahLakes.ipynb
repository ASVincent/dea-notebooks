{
 "cells": [
  {
   "cell_type": "markdown",
   "metadata": {},
   "source": [
    "# Sentinel 2 + Landsat animation with hydrograph"
   ]
  },
  {
   "cell_type": "code",
   "execution_count": 7,
   "metadata": {
    "ExecuteTime": {
     "end_time": "2018-07-30T01:04:04.103953Z",
     "start_time": "2018-07-30T01:04:02.870140Z"
    }
   },
   "outputs": [
    {
     "name": "stdout",
     "output_type": "stream",
     "text": [
      "The autoreload extension is already loaded. To reload it, use:\n",
      "  %reload_ext autoreload\n"
     ]
    }
   ],
   "source": [
    "# Import modules\n",
    "import datacube \n",
    "import sys\n",
    "import xarray as xr\n",
    "import numpy as np\n",
    "import calendar\n",
    "import pandas as pd\n",
    "import matplotlib.pyplot as plt\n",
    "import matplotlib.animation as animation\n",
    "import matplotlib.patheffects as PathEffects\n",
    "import matplotlib.patches as patches\n",
    "import matplotlib.dates as mdates\n",
    "import matplotlib.lines as mlines\n",
    "from skimage import exposure\n",
    "from datacube.utils import geometry\n",
    "from datacube.utils.geometry import CRS\n",
    "from datetime import datetime, timedelta\n",
    "\n",
    "# Import external dea-notebooks functions using relative link to Scripts directory\n",
    "sys.path.append('../Scripts')\n",
    "import DEADataHandling\n",
    "import DEAPlotting\n",
    "import TasseledCapTools\n",
    "\n",
    "# Set up datacube instances\n",
    "dc = datacube.Datacube(app='Time series animation')\n",
    "s2dc = datacube.Datacube(config='/g/data/r78/dc_configs/sentinel2.conf')\n",
    "\n",
    "# Study area name used for output file\n",
    "study_area = 'hattah'\n",
    "\n",
    "# Thresholds used for cloud masking (Sentinel 2 is more aggressive)\n",
    "landsat_masked_prop = 0.99\n",
    "sentinel_masked_prop = 0.90\n",
    "\n",
    "# Set up analysis data query using a buffer around a lat-long point\n",
    "lat, lon, buffer = -34.7275016476, 142.367987284, 5000\n",
    "x, y = geometry.point(lon, lat, CRS('WGS84')).to_crs(CRS('EPSG:3577')).points[0]\n",
    "query = {'x': (x - buffer, x + buffer),\n",
    "         'y': (y - buffer, y + buffer),    \n",
    "         'time': ('2015-01-01', '2018-07-30'),\n",
    "         'crs': 'EPSG:3577'}\n",
    "\n",
    "%load_ext autoreload\n",
    "%autoreload 2"
   ]
  },
  {
   "cell_type": "markdown",
   "metadata": {},
   "source": [
    "## Extract cloud-free clear Landsat and Sentinel observations\n",
    "Use the `load_clearlandsat` function to load Landsat observations and PQ data for multiple sensors (i.e. ls5, ls7, ls8), and return a single xarray dataset containing only observations that contain greater than a specified proportion of clear pixels. \n",
    "\n",
    "Load in Sentinel data for S2A and S2B."
   ]
  },
  {
   "cell_type": "code",
   "execution_count": 10,
   "metadata": {
    "ExecuteTime": {
     "end_time": "2018-07-30T01:07:01.204749Z",
     "start_time": "2018-07-30T01:06:39.761390Z"
    }
   },
   "outputs": [
    {
     "name": "stdout",
     "output_type": "stream",
     "text": [
      "Loading ls5 PQ\n",
      "    Skipping ls5\n",
      "Loading ls7 PQ\n",
      "    Loading 0 filtered ls7 timesteps\n",
      "Loading ls8 PQ\n",
      "    Loading 34 filtered ls8 timesteps\n",
      "Combining and sorting ls5, ls7 and ls8 data\n"
     ]
    }
   ],
   "source": [
    "# Custom mask that includes only cloudy or cloud shadowed pixels with data for all bands\n",
    "custom_mask = {'cloud_acca': 'no_cloud', \n",
    "               'cloud_fmask': 'no_cloud', \n",
    "               'cloud_shadow_acca': 'no_cloud_shadow',\n",
    "               'cloud_shadow_fmask': 'no_cloud_shadow',\n",
    "               'contiguous': True}\n",
    "\n",
    "# Load in data\n",
    "ls578_ds = DEADataHandling.load_clearlandsat(dc=dc, query=query, product='nbart', \n",
    "                                        #bands_of_interest=['green', 'nir', 'swir1', 'red'], \n",
    "                                        masked_prop=landsat_masked_prop, mask_dict=custom_mask, apply_mask=False)  \n",
    "\n",
    "# Remove problematic timesteps\n",
    "problem_times = ['2015-08-02', '2015-08-18', '2016-03-13', '2016-04-30', '2017-05-03', '2015-04-28']\n",
    "times_to_drop = [ls578_ds.time.loc[i].values for i in problem_times]\n",
    "\n",
    "# Remove timesteps\n",
    "ls578_ds = ls578_ds.drop(np.concatenate(times_to_drop), dim=\"time\")\n"
   ]
  },
  {
   "cell_type": "markdown",
   "metadata": {},
   "source": [
    "## Import Sentinel 2"
   ]
  },
  {
   "cell_type": "code",
   "execution_count": 11,
   "metadata": {
    "ExecuteTime": {
     "end_time": "2018-07-30T01:12:49.076316Z",
     "start_time": "2018-07-30T01:07:13.651140Z"
    }
   },
   "outputs": [
    {
     "name": "stderr",
     "output_type": "stream",
     "text": [
      "/g/data/v10/public/modules/dea/20180705/lib/python3.6/site-packages/datacube/api/query.py:96: FutureWarning: casting an xarray.Dataset to a boolean will change in xarray v0.11 to only include data variables, not coordinates. Cast the Dataset.variables property instead to preserve existing behavior in a forwards compatible manner.\n",
      "  if like:\n",
      "/g/data/v10/public/modules/dea/20180705/lib/python3.6/site-packages/datacube/api/query.py:96: FutureWarning: casting an xarray.Dataset to a boolean will change in xarray v0.11 to only include data variables, not coordinates. Cast the Dataset.variables property instead to preserve existing behavior in a forwards compatible manner.\n",
      "  if like:\n"
     ]
    }
   ],
   "source": [
    "# Load Sentinel\n",
    "s2a_ds = s2dc.load(product='s2a_ard_granule', group_by='solar_day', \n",
    "                          #measurements = ['swir1', 'nir1', 'green', 'pixel_quality'], \n",
    "                   like=ls578_ds)\n",
    "\n",
    "s2b_ds = s2dc.load(product='s2b_ard_granule', group_by='solar_day', \n",
    "                          #measurements = ['swir1', 'nir1', 'green', 'pixel_quality'], \n",
    "                   like=ls578_ds)\n",
    "\n",
    "# Keep only cloud-free Sentinel 2A data\n",
    "PQmask = s2a_ds.where(s2a_ds.pixel_quality == 1)\n",
    "threshold = s2a_ds.x.count() * s2a_ds.y.count() * (1.0 - sentinel_masked_prop)\n",
    "KeepTimeMask = PQmask.green.isnull().sum(axis=(1, 2)) <= int(threshold)\n",
    "s2a_ds = s2a_ds.where(KeepTimeMask).dropna(dim='time')\n",
    "\n",
    "# Keep only cloud-free Sentinel 2B data\n",
    "PQmask = s2b_ds.where(s2b_ds.pixel_quality == 1)\n",
    "threshold = s2b_ds.x.count() * s2b_ds.y.count() * (1.0 - sentinel_masked_prop)\n",
    "KeepTimeMask = PQmask.green.isnull().sum(axis=(1, 2)) <= int(threshold)\n",
    "s2b_ds = s2b_ds.where(KeepTimeMask).dropna(dim='time')\n"
   ]
  },
  {
   "cell_type": "markdown",
   "metadata": {},
   "source": [
    "## Import flow data\n",
    "This is used to plot a line on the right panel of the animation. Must be imported as a geopandas dataframe with a datetime index column"
   ]
  },
  {
   "cell_type": "code",
   "execution_count": 4,
   "metadata": {
    "ExecuteTime": {
     "end_time": "2018-07-30T00:59:37.056434Z",
     "start_time": "2018-07-30T00:59:32.051238Z"
    }
   },
   "outputs": [
    {
     "data": {
      "text/plain": [
       "<matplotlib.axes._subplots.AxesSubplot at 0x7f7a4deff470>"
      ]
     },
     "execution_count": 4,
     "metadata": {},
     "output_type": "execute_result"
    },
    {
     "data": {
      "image/png": "[encoded data removed]",
      "text/plain": [
       "<Figure size 432x288 with 1 Axes>"
      ]
     },
     "metadata": {},
     "output_type": "display_data"
    }
   ],
   "source": [
    "# Set area over which index values should be averaged\n",
    "line_df = pd.read_csv('/g/data/r78/rt1527/dea-notebooks/Enviroflows/raw_data/euston_flow.csv', index_col='date', parse_dates=True, dayfirst=True)\n",
    "\n",
    "# Subset to time covered by datacube query\n",
    "date_min, date_max = query['time']\n",
    "line_df = line_df[(line_df.index >= date_min) & (line_df.index <= date_max)]\n",
    "\n",
    "# Give informative name\n",
    "# line_df['Max discharge (Ml/d)'] = line_df['mean'] * 2\n",
    "line_df.rename(columns={'mean':'Mean discharge (Ml/d) at Euston, Murray River'}, inplace=True)\n",
    "line_df.plot()\n"
   ]
  },
  {
   "cell_type": "code",
   "execution_count": null,
   "metadata": {},
   "outputs": [],
   "source": []
  },
  {
   "cell_type": "markdown",
   "metadata": {},
   "source": [
    "## Plot data as animation"
   ]
  },
  {
   "cell_type": "code",
   "execution_count": 22,
   "metadata": {
    "ExecuteTime": {
     "end_time": "2018-07-30T01:38:15.844977Z",
     "start_time": "2018-07-30T01:38:01.822902Z"
    }
   },
   "outputs": [
    {
     "data": {
      "text/plain": [
       "<xarray.Dataset>\n",
       "Dimensions:        (time: 47, x: 401, y: 401)\n",
       "Coordinates:\n",
       "  * time           (time) datetime64[ns] 2015-01-06T00:21:14.500000 ...\n",
       "  * y              (y) float64 -3.825e+06 -3.825e+06 -3.825e+06 -3.825e+06 ...\n",
       "  * x              (x) float64 9.403e+05 9.403e+05 9.403e+05 9.403e+05 ...\n",
       "Data variables:\n",
       "    blue           (time, y, x) float64 500.0 505.0 490.0 489.0 494.0 496.0 ...\n",
       "    green          (time, y, x) float64 728.0 755.0 723.0 723.0 735.0 735.0 ...\n",
       "    red            (time, y, x) float64 1.089e+03 1.134e+03 1.075e+03 ...\n",
       "    nir            (time, y, x) float64 2.096e+03 2.148e+03 2.105e+03 ...\n",
       "    swir1          (time, y, x) float64 2.694e+03 2.767e+03 2.73e+03 ...\n",
       "    swir2          (time, y, x) float64 1.98e+03 2.026e+03 1.963e+03 ...\n",
       "    data_perc      (time) float64 1.0 1.0 1.0 1.0 1.0 nan 1.0 1.0 nan 1.0 ...\n",
       "    pixel_quality  (time, y, x) float64 nan nan nan nan nan nan nan nan nan ...\n",
       "    contiguity     (time, y, x) float64 nan nan nan nan nan nan nan nan nan ...\n",
       "    aerosol        (time, y, x) float64 nan nan nan nan nan nan nan nan nan ...\n",
       "    rededge1       (time, y, x) float64 nan nan nan nan nan nan nan nan nan ...\n",
       "    rededge2       (time, y, x) float64 nan nan nan nan nan nan nan nan nan ...\n",
       "    rededge3       (time, y, x) float64 nan nan nan nan nan nan nan nan nan ...\n",
       "    nir2           (time, y, x) float64 nan nan nan nan nan nan nan nan nan ...\n",
       "    t_contiguity   (time, y, x) float64 nan nan nan nan nan nan nan nan nan ...\n",
       "    t_aerosol      (time, y, x) float64 nan nan nan nan nan nan nan nan nan ...\n",
       "    t_blue         (time, y, x) float64 nan nan nan nan nan nan nan nan nan ...\n",
       "    t_green        (time, y, x) float64 nan nan nan nan nan nan nan nan nan ...\n",
       "    t_red          (time, y, x) float64 nan nan nan nan nan nan nan nan nan ...\n",
       "    t_rededge1     (time, y, x) float64 nan nan nan nan nan nan nan nan nan ...\n",
       "    t_rededge2     (time, y, x) float64 nan nan nan nan nan nan nan nan nan ...\n",
       "    t_rededge3     (time, y, x) float64 nan nan nan nan nan nan nan nan nan ...\n",
       "    t_nir1         (time, y, x) float64 nan nan nan nan nan nan nan nan nan ...\n",
       "    t_nir2         (time, y, x) float64 nan nan nan nan nan nan nan nan nan ...\n",
       "    t_swir1        (time, y, x) float64 nan nan nan nan nan nan nan nan nan ...\n",
       "    t_swir2        (time, y, x) float64 nan nan nan nan nan nan nan nan nan ..."
      ]
     },
     "execution_count": 22,
     "metadata": {},
     "output_type": "execute_result"
    }
   ],
   "source": [
    "# Combine into single dataset\n",
    "s2a_ds.rename({'nir1': 'nir'}, inplace=True)\n",
    "s2b_ds.rename({'nir1': 'nir'}, inplace=True)\n",
    "combined_ds = xr.auto_combine([ls578_ds, s2a_ds, s2b_ds])\n",
    "combined_ds = combined_ds.sortby('time')\n",
    "combined_ds"
   ]
  },
  {
   "cell_type": "code",
   "execution_count": null,
   "metadata": {},
   "outputs": [],
   "source": []
  },
  {
   "cell_type": "code",
   "execution_count": null,
   "metadata": {},
   "outputs": [],
   "source": [
    "#run tasselled cap and threshold (non-binary?)"
   ]
  },
  {
   "cell_type": "code",
   "execution_count": 23,
   "metadata": {
    "ExecuteTime": {
     "end_time": "2018-07-30T01:38:23.890000Z",
     "start_time": "2018-07-30T01:38:21.501754Z"
    }
   },
   "outputs": [],
   "source": [
    "tci = TasseledCapTools.thresholded_tasseled_cap(combined_ds, wetness_threshold=-350, drop_tc_bands=False)"
   ]
  },
  {
   "cell_type": "code",
   "execution_count": 33,
   "metadata": {
    "ExecuteTime": {
     "end_time": "2018-07-30T01:51:37.851846Z",
     "start_time": "2018-07-30T01:51:37.759977Z"
    }
   },
   "outputs": [
    {
     "data": {
      "text/plain": [
       "<xarray.DataArray 'wetness_thresholded' ()>\n",
       "array(1803.9599)"
      ]
     },
     "execution_count": 33,
     "metadata": {},
     "output_type": "execute_result"
    }
   ],
   "source": [
    "tci.wetness_thresholded.max()"
   ]
  },
  {
   "cell_type": "code",
   "execution_count": 36,
   "metadata": {
    "ExecuteTime": {
     "end_time": "2018-07-30T01:53:54.618976Z",
     "start_time": "2018-07-30T01:53:32.544118Z"
    }
   },
   "outputs": [
    {
     "name": "stdout",
     "output_type": "stream",
     "text": [
      "    Exporting animation to hattah_wetness_sentinel2.gif\n"
     ]
    },
    {
     "data": {
      "image/png": "[encoded data removed]",
      "text/plain": [
       "<Figure size 720x360 with 2 Axes>"
      ]
     },
     "metadata": {},
     "output_type": "display_data"
    }
   ],
   "source": [
    "# Create animation\n",
    "DEAPlotting.animated_timeseriesline(ds=tci,#.isel(time=[0,1,2,3,4,5]), \n",
    "                        df=line_df, \n",
    "                        output_path='{}_wetness_sentinel2.gif'.format(study_area), \n",
    "                        bands=['wetness_thresholded'], \n",
    "                        onebandplot_cbar=False, \n",
    "                        onebandplot_kwargs={'cmap':'gist_earth_r','vmin':tci.wetness_thresholded.min(),\n",
    "                                           'vmax':tci.wetness_thresholded.max()},\n",
    "                        interval=220, \n",
    "                        annotation_kwargs={'fontsize':17},\n",
    "                        reflect_stand=4200\n",
    "                                   )"
   ]
  },
  {
   "cell_type": "code",
   "execution_count": null,
   "metadata": {},
   "outputs": [],
   "source": []
  }
 ],
 "metadata": {
  "kernelspec": {
   "display_name": "Python 3",
   "language": "python",
   "name": "python3"
  },
  "language_info": {
   "codemirror_mode": {
    "name": "ipython",
    "version": 3
   },
   "file_extension": ".py",
   "mimetype": "text/x-python",
   "name": "python",
   "nbconvert_exporter": "python",
   "pygments_lexer": "ipython3",
   "version": "3.6.5"
  }
 },
 "nbformat": 4,
 "nbformat_minor": 2
}
