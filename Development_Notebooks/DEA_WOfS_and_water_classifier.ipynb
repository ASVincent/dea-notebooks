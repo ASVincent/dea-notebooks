{
 "cells": [
  {
   "cell_type": "markdown",
   "metadata": {
    "ExecuteTime": {
     "end_time": "2018-04-27T01:24:30.937790Z",
     "start_time": "2018-04-27T01:24:30.933563Z"
    }
   },
   "source": [
    "# DEA WOfS and Water Classifier Notebook "
   ]
  },
  {
   "cell_type": "markdown",
   "metadata": {},
   "source": [
    "**Description:** This notebook allows users to perform water classification. The following steps will allow users to connect to a data cube, define the analysis location and time period (extent of latitude/longitude and dates), and then run the Australian Water Observations from Space (WOfS) algorithm. \n",
    "\n",
    "The outputs of the WOfS algorithm include static and time series pixel-level water observations for any pixel. These results provide critical information for water management that will allow users to assess water cycle dynamics, historical water extent and the risk of floods and droughts.\n",
    "\n",
    "__Before you run this notebook:__ This notebook uses the dea module. You need to run \"module load dea\" in a terminal window and then launch jupyter notebooks in the same window so that your notebook can 'see' the dea module.\n",
    "\n",
    "This notebook is based on a CEOS [notebook](https://github.com/ceos-seo/data_cube_notebooks/blob/master/water_detection.ipynb) \n",
    "\n",
    "The water classifier is based on [Mueller, et al. (2015)](## References) [github link to water classifier code](https://github.com/GeoscienceAustralia/eo-tools/blob/stable/eotools/water_classifier.py)\n",
    "\n",
    "__Date:__ May 2018\n",
    "\n",
    "__Authors:__ Erin Telfer, Bex Dunn\n"
   ]
  },
  {
   "cell_type": "markdown",
   "metadata": {},
   "source": [
    "## Import modules from standard libraries, datacube and files\n",
    "Select 'Trust this notebook' to import these modules."
   ]
  },
  {
   "cell_type": "code",
   "execution_count": 4,
   "metadata": {
    "ExecuteTime": {
     "end_time": "2018-05-24T06:07:55.671549Z",
     "start_time": "2018-05-24T06:07:55.597363Z"
    },
    "init_cell": true
   },
   "outputs": [
    {
     "name": "stdout",
     "output_type": "stream",
     "text": [
      "Populating the interactive namespace from numpy and matplotlib\n"
     ]
    }
   ],
   "source": [
    "%pylab notebook\n",
    "\n",
    "import gc\n",
    "from matplotlib import pyplot as plt\n",
    "import numpy as np\n",
    "import os\n",
    "import warnings\n",
    "import xarray as xr\n",
    "\n",
    "#modules for datacube\n",
    "import datacube\n",
    "from datacube.storage import masking\n",
    "\n",
    "# set datacube alias (just a string with what you're doing)\n",
    "dc = datacube.Datacube(app='dc-WOfS and water classifier')\n",
    "\n",
    "# Import external functions from dea-notebooks\n",
    "sys.path.append(os.path.expanduser('~/dea-notebooks/Scripts/'))\n",
    "import DEADataHandling, water_classifier_and_wofs\n",
    "\n",
    "#ignore datacube warnings (needs to be last import statement)\n",
    "import warnings\n",
    "warnings.filterwarnings('ignore', module='datacube')"
   ]
  },
  {
   "cell_type": "markdown",
   "metadata": {},
   "source": [
    "## edit query and extract data from DEA\n",
    "User input: define details below"
   ]
  },
  {
   "cell_type": "code",
   "execution_count": 5,
   "metadata": {
    "ExecuteTime": {
     "end_time": "2018-05-24T06:09:00.677996Z",
     "start_time": "2018-05-24T06:09:00.671416Z"
    }
   },
   "outputs": [],
   "source": [
    "#Use this to manually define an upper left/lower right coords\n",
    "lat_max = -12.4 #\n",
    "lat_min = -12.7\n",
    "lon_max = 135.2\n",
    "lon_min = 134.9 \n",
    "\n",
    "#define temporal range\n",
    "start_of_epoch = '2016-01-01'\n",
    "end_of_epoch =  '2017-01-01'\n",
    "\n",
    "#define Landsat sensors of interest\n",
    "sensors = ['ls8','ls7','ls5'] "
   ]
  },
  {
   "cell_type": "code",
   "execution_count": 6,
   "metadata": {
    "ExecuteTime": {
     "end_time": "2018-05-24T06:09:05.157844Z",
     "start_time": "2018-05-24T06:09:05.151998Z"
    }
   },
   "outputs": [
    {
     "name": "stdout",
     "output_type": "stream",
     "text": [
      "{'time': ('2016-01-01', '2017-01-01'), 'x': (134.9, 135.2), 'y': (-12.4, -12.7), 'crs': 'EPSG:4326'}\n"
     ]
    }
   ],
   "source": [
    "#Query is created\n",
    "query = {'time': (start_of_epoch, end_of_epoch),}\n",
    "query['x'] = (lon_min, lon_max)\n",
    "query['y'] = (lat_max, lat_min)\n",
    "query['crs'] = 'EPSG:4326'\n",
    "\n",
    "print (query)"
   ]
  },
  {
   "cell_type": "code",
   "execution_count": 7,
   "metadata": {
    "ExecuteTime": {
     "end_time": "2018-05-24T06:10:00.012061Z",
     "start_time": "2018-05-24T06:09:06.942461Z"
    }
   },
   "outputs": [
    {
     "name": "stdout",
     "output_type": "stream",
     "text": [
      "Loading ls5 PQ\n",
      "    Skipping ls5\n",
      "Loading ls7 PQ\n"
     ]
    },
    {
     "name": "stderr",
     "output_type": "stream",
     "text": [
      "Failed to resolve driver datacube.plugins.io.read::s3aio\n",
      "Failed to resolve driver datacube.plugins.io.read::s3aio_test\n"
     ]
    },
    {
     "name": "stdout",
     "output_type": "stream",
     "text": [
      "    Loading 19 filtered ls7 timesteps\n",
      "Loading ls8 PQ\n",
      "    Loading 23 filtered ls8 timesteps\n",
      "Combining and sorting ls5, ls7 and ls8 data\n"
     ]
    }
   ],
   "source": [
    "#using the load function from DEADataHandling to get the data and filter\n",
    "nbart = DEADataHandling.load_clearlandsat(dc, query, product='nbar', masked_prop=0, mask_dict={'cloud_acca': 'no_cloud', 'cloud_fmask': 'no_cloud', 'cloud_shadow_acca':'no_cloud_shadow','cloud_shadow_fmask':'no_cloud_shadow','blue_saturated':False,'green_saturated':False,'red_saturated':False,'nir_saturated':False,'swir1_saturated':False,'swir2_saturated':False})"
   ]
  },
  {
   "cell_type": "markdown",
   "metadata": {},
   "source": [
    "## Classify water and calculate Water Observations from Space (WOfS)"
   ]
  },
  {
   "cell_type": "markdown",
   "metadata": {},
   "source": [
    "## Use water classifier function"
   ]
  },
  {
   "cell_type": "code",
   "execution_count": 8,
   "metadata": {
    "ExecuteTime": {
     "end_time": "2018-05-24T06:10:31.440194Z",
     "start_time": "2018-05-24T06:10:26.837145Z"
    }
   },
   "outputs": [
    {
     "ename": "NameError",
     "evalue": "name 'np' is not defined",
     "output_type": "error",
     "traceback": [
      "\u001b[0;31m---------------------------------------------------------------------------\u001b[0m",
      "\u001b[0;31mNameError\u001b[0m                                 Traceback (most recent call last)",
      "\u001b[0;32m<ipython-input-8-c9d9ccee820d>\u001b[0m in \u001b[0;36m<module>\u001b[0;34m()\u001b[0m\n\u001b[1;32m      1\u001b[0m \u001b[0;31m#Use water clasifier function created above\u001b[0m\u001b[0;34m\u001b[0m\u001b[0;34m\u001b[0m\u001b[0m\n\u001b[1;32m      2\u001b[0m \u001b[0mwarnings\u001b[0m\u001b[0;34m.\u001b[0m\u001b[0mfilterwarnings\u001b[0m\u001b[0;34m(\u001b[0m\u001b[0;34m'ignore'\u001b[0m\u001b[0;34m)\u001b[0m \u001b[0;31m#turn off warnings\u001b[0m\u001b[0;34m\u001b[0m\u001b[0m\n\u001b[0;32m----> 3\u001b[0;31m \u001b[0mwater_classifier_and_wofs\u001b[0m\u001b[0;34m.\u001b[0m\u001b[0mwater_class\u001b[0m \u001b[0;34m=\u001b[0m \u001b[0mwater_classifier_and_wofs\u001b[0m\u001b[0;34m.\u001b[0m\u001b[0mwater_classifier\u001b[0m\u001b[0;34m(\u001b[0m\u001b[0mnbart\u001b[0m\u001b[0;34m)\u001b[0m\u001b[0;31m#_subset) #use function\u001b[0m\u001b[0;34m\u001b[0m\u001b[0m\n\u001b[0m\u001b[1;32m      4\u001b[0m \u001b[0mwarnings\u001b[0m\u001b[0;34m.\u001b[0m\u001b[0mfilterwarnings\u001b[0m\u001b[0;34m(\u001b[0m\u001b[0;34m'always'\u001b[0m\u001b[0;34m)\u001b[0m \u001b[0;31m#turn on warnings\u001b[0m\u001b[0;34m\u001b[0m\u001b[0m\n\u001b[1;32m      5\u001b[0m \u001b[0mprint\u001b[0m\u001b[0;34m(\u001b[0m\u001b[0mwater_class\u001b[0m\u001b[0;34m)\u001b[0m\u001b[0;34m\u001b[0m\u001b[0m\n",
      "\u001b[0;32m/g/data1a/r78/rjd547/jupyter_notebooks/dea-notebooks/Development_Notebooks/water_classifier_and_wofs.py\u001b[0m in \u001b[0;36mwater_classifier\u001b[0;34m(dataset_in)\u001b[0m\n\u001b[1;32m    157\u001b[0m     \u001b[0mno_data\u001b[0m \u001b[0;34m=\u001b[0m\u001b[0;34m-\u001b[0m\u001b[0;36m9999\u001b[0m\u001b[0;34m\u001b[0m\u001b[0m\n\u001b[1;32m    158\u001b[0m \u001b[0;34m\u001b[0m\u001b[0m\n\u001b[0;32m--> 159\u001b[0;31m     \u001b[0mclassified\u001b[0m \u001b[0;34m=\u001b[0m \u001b[0m_run_regression\u001b[0m\u001b[0;34m(\u001b[0m\u001b[0mblue\u001b[0m\u001b[0;34m.\u001b[0m\u001b[0mvalues\u001b[0m\u001b[0;34m,\u001b[0m \u001b[0mgreen\u001b[0m\u001b[0;34m.\u001b[0m\u001b[0mvalues\u001b[0m\u001b[0;34m,\u001b[0m \u001b[0mred\u001b[0m\u001b[0;34m.\u001b[0m\u001b[0mvalues\u001b[0m\u001b[0;34m,\u001b[0m \u001b[0mnir\u001b[0m\u001b[0;34m.\u001b[0m\u001b[0mvalues\u001b[0m\u001b[0;34m,\u001b[0m \u001b[0mswir1\u001b[0m\u001b[0;34m.\u001b[0m\u001b[0mvalues\u001b[0m\u001b[0;34m,\u001b[0m \u001b[0mswir2\u001b[0m\u001b[0;34m.\u001b[0m\u001b[0mvalues\u001b[0m\u001b[0;34m)\u001b[0m\u001b[0;34m\u001b[0m\u001b[0m\n\u001b[0m\u001b[1;32m    160\u001b[0m \u001b[0;34m\u001b[0m\u001b[0m\n\u001b[1;32m    161\u001b[0m     \u001b[0mclassified_clean\u001b[0m\u001b[0;34m=\u001b[0m\u001b[0mclassified\u001b[0m\u001b[0;34m.\u001b[0m\u001b[0mastype\u001b[0m\u001b[0;34m(\u001b[0m\u001b[0;34m'float64'\u001b[0m\u001b[0;34m)\u001b[0m\u001b[0;34m\u001b[0m\u001b[0m\n",
      "\u001b[0;32m/g/data1a/r78/rjd547/jupyter_notebooks/dea-notebooks/Development_Notebooks/water_classifier_and_wofs.py\u001b[0m in \u001b[0;36m_run_regression\u001b[0;34m(blue, green, red, nir, swir1, swir2)\u001b[0m\n\u001b[1;32m     29\u001b[0m         \u001b[0;31m#classified = np.ones(shape, dtype='uint8')\u001b[0m\u001b[0;34m\u001b[0m\u001b[0;34m\u001b[0m\u001b[0m\n\u001b[1;32m     30\u001b[0m \u001b[0;34m\u001b[0m\u001b[0m\n\u001b[0;32m---> 31\u001b[0;31m         \u001b[0mclassified\u001b[0m \u001b[0;34m=\u001b[0m \u001b[0mnp\u001b[0m\u001b[0;34m.\u001b[0m\u001b[0mfull\u001b[0m\u001b[0;34m(\u001b[0m\u001b[0mshape\u001b[0m\u001b[0;34m,\u001b[0m \u001b[0mno_data\u001b[0m\u001b[0;34m,\u001b[0m \u001b[0mdtype\u001b[0m\u001b[0;34m=\u001b[0m\u001b[0;34m'uint8'\u001b[0m\u001b[0;34m)\u001b[0m\u001b[0;34m\u001b[0m\u001b[0m\n\u001b[0m\u001b[1;32m     32\u001b[0m \u001b[0;34m\u001b[0m\u001b[0m\n\u001b[1;32m     33\u001b[0m         \u001b[0;31m# Start with the tree's left branch, finishing nodes as needed\u001b[0m\u001b[0;34m\u001b[0m\u001b[0;34m\u001b[0m\u001b[0m\n",
      "\u001b[0;31mNameError\u001b[0m: name 'np' is not defined"
     ]
    }
   ],
   "source": [
    "#Use water clasifier function created above\n",
    "warnings.filterwarnings('ignore') #turn off warnings\n",
    "water_classifier_and_wofs.water_class = water_classifier_and_wofs.water_classifier(nbart)#_subset) #use function\n",
    "warnings.filterwarnings('always') #turn on warnings\n",
    "print(water_class)"
   ]
  },
  {
   "cell_type": "markdown",
   "metadata": {},
   "source": [
    "## Calculate and plot WOfS"
   ]
  },
  {
   "cell_type": "code",
   "execution_count": null,
   "metadata": {
    "ExecuteTime": {
     "end_time": "2018-05-24T05:19:42.289195Z",
     "start_time": "2018-05-24T05:19:41.429396Z"
    }
   },
   "outputs": [],
   "source": [
    "#note, this is using only one band for the count, and this isn't robust.\n",
    "\n",
    "total_water_obs = water_class.wofs.sum(dim='time')\n",
    "nbar_count = nbart.blue.count(dim='time')\n",
    "wofs = ((total_water_obs/nbar_count)*100)"
   ]
  },
  {
   "cell_type": "code",
   "execution_count": null,
   "metadata": {
    "ExecuteTime": {
     "end_time": "2018-05-24T05:19:43.332078Z",
     "start_time": "2018-05-24T05:19:43.327124Z"
    }
   },
   "outputs": [],
   "source": [
    "#Set up colour ramp details to meet DEA specified colour details\n",
    "# wofs_cmap = mpl.colors.ListedColormap(['#000000', '#8e0101', '#cf2200', '#e38400',\n",
    "#                                        '#e3df00', '#a6e300', '#62e300', '#00e32d',\n",
    "#                                        '#00e384', '#00e3c8', '#00c5e3', '#0097e3', \n",
    "#                                        '#005fe3', '#000fe3', '#5700e3'])\n",
    "wofs_cmap = mpl.colors.ListedColormap(['#000000', '#e38400', '#e3df00', '#62e300',\n",
    "                                       '#00e384', '#00e3c8', '#00c5e3', '#0097e3', \n",
    "                                       '#005fe3', '#000fe3', '#5700e3'])\n",
    "wofs_bounds = [0, 10, 20, 30, 40, 50, 60, 70, 80, 90, 100]\n",
    "wofs_norm = mpl.colors.BoundaryNorm(wofs_bounds, wofs_cmap.N)"
   ]
  },
  {
   "cell_type": "code",
   "execution_count": null,
   "metadata": {
    "ExecuteTime": {
     "end_time": "2018-05-24T05:19:45.038340Z",
     "start_time": "2018-05-24T05:19:45.025058Z"
    }
   },
   "outputs": [],
   "source": [
    "wofs"
   ]
  },
  {
   "cell_type": "code",
   "execution_count": null,
   "metadata": {
    "ExecuteTime": {
     "end_time": "2018-05-24T05:19:47.509157Z",
     "start_time": "2018-05-24T05:19:47.388124Z"
    }
   },
   "outputs": [],
   "source": [
    "#Create WOfS image with specified colour ramp details\n",
    "fig = plt.figure(figsize =(10,5)) \n",
    "i=wofs.plot.imshow(cmap = wofs_cmap,norm=wofs_norm,vmin = 0, vmax = 100)\n",
    "plt.colorbar(i, ticks=wofs_bounds, \n",
    "            ).set_label(label='WOfS (%)',\n",
    "             size=12) #Add definable colour bar\n",
    "fig.delaxes(fig.axes[1]) #Remove pre-defined colour bar\n",
    "\n",
    "plt.show() #Create image"
   ]
  },
  {
   "cell_type": "markdown",
   "metadata": {},
   "source": [
    "## References"
   ]
  },
  {
   "cell_type": "markdown",
   "metadata": {},
   "source": [
    "1. Mueller, et al. 2015., *Water observations from space: Mapping surface water from 25 years of Landsat imagery across Australia*, Remote Sensing of Environment. https://doi.org/10.1016/j.rse.2015.11.003\n"
   ]
  },
  {
   "cell_type": "code",
   "execution_count": null,
   "metadata": {},
   "outputs": [],
   "source": []
  }
 ],
 "metadata": {
  "celltoolbar": "Initialization Cell",
  "kernelspec": {
   "display_name": "Python 3",
   "language": "python",
   "name": "python3"
  },
  "language_info": {
   "codemirror_mode": {
    "name": "ipython",
    "version": 3
   },
   "file_extension": ".py",
   "mimetype": "text/x-python",
   "name": "python",
   "nbconvert_exporter": "python",
   "pygments_lexer": "ipython3",
   "version": "3.6.5"
  },
  "toc": {
   "base_numbering": 1,
   "nav_menu": {
    "height": "354px",
    "width": "160px"
   },
   "number_sections": true,
   "sideBar": true,
   "skip_h1_title": false,
   "title_cell": "Table of Contents",
   "title_sidebar": "Contents",
   "toc_cell": false,
   "toc_position": {},
   "toc_section_display": true,
   "toc_window_display": false
  },
  "widgets": {
   "state": {
    "41cf9b5ae99f431f8c32da0cf0c287b5": {
     "views": [
      {
       "cell_index": 8
      }
     ]
    },
    "50e23ba816ef41b2830b01c34ab8c5d3": {
     "views": [
      {
       "cell_index": 8
      }
     ]
    },
    "70527fca43254781ae53895c28d6f4e1": {
     "views": [
      {
       "cell_index": 8
      }
     ]
    },
    "d8303e34f746450494aea0fec5f6849a": {
     "views": [
      {
       "cell_index": 8
      }
     ]
    }
   },
   "version": "1.2.0"
  }
 },
 "nbformat": 4,
 "nbformat_minor": 1
}
