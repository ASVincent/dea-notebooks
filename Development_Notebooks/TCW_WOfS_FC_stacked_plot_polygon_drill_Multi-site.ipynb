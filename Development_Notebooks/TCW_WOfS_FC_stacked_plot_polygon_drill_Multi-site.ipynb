{
 "cells": [
  {
   "cell_type": "markdown",
   "metadata": {},
   "source": [
    "# Water, wet vegetation and fractional cover polygon drill stack plot"
   ]
  },
  {
   "cell_type": "markdown",
   "metadata": {
    "ExecuteTime": {
     "end_time": "2019-01-06T22:23:31.735426Z",
     "start_time": "2019-01-06T22:23:30.342336Z"
    }
   },
   "source": [
    "| Authors:  | Bex Dunn|\n",
    "|----------|----------------|\n",
    "| Created: | Jan 7, 2019 |\n",
    "| Last edited: | Jan 10, 2019 |\n",
    "\n",
    "**Requirements:**\n",
    "\n",
    "You need to run the following commands from the command line prior to launching jupyter notebooks from the same terminal so that the required libraries and paths are set:\n",
    "\n",
    "`module use /g/data/v10/public/modules/modulefiles` \n",
    "\n",
    "`module load dea`\n",
    "\n",
    "If you find an error or bug in this notebook, please either create an 'Issue' in the Github repository, or fix it yourself and create a 'Pull' request to contribute the updated notebook back into the repository (See the repository [README](https://github.com/GeoscienceAustralia/dea-notebooks/blob/master/README.rst) for instructions on creating a Pull request).\n",
    "\n",
    "__Background:__ Data from the [Landsat](https://landsat.usgs.gov/about-landsat) 5,7 and 8 satellite missions are accessible through [Digital Earth Australia](http://www.ga.gov.au/about/projects/geographic/digital-earth-australia) (DEA). The code snippets in this notebook will let you retrieve and plot the [Fractional Cover](https://d28rz98at9flks.cloudfront.net/79676/Fractional_Cover_FC25_v1_5.PDF) (FC25) data stored in DEA.\n",
    "\n",
    "__What does this notebook do?:__ This notebook takes a supplied shapefile of a polygon and queries the datacube for WOfS, Fractional Cover and NBART. It calculates thresholded tasselled cap wetness. The results are plotted against each other as a stacked plot for assessing change in wetlands or land cover. \n",
    "    \n",
    "__How to use this notebook:__\n",
    "\n",
    "A basic understanding of any programming language is desirable but one doesn't have to be an expert Python programmer to manipulate the code to get and display the data.This doc applies to the following Landsat satellites, Fractional Cover bands and the WOfS dataset:\n",
    "\n",
    "- Landsat 5\n",
    "- Landsat 7\n",
    "- Landsat 8\n",
    "- PV - Photosythetic vegetation\n",
    "- NPV - Non-Photosythetic vegetation\n",
    "- BS - Bare Soil\n",
    "- WOfS Feature Layers (WOFLs)\n",
    "\n",
    "\n"
   ]
  },
  {
   "cell_type": "markdown",
   "metadata": {
    "ExecuteTime": {
     "end_time": "2019-01-06T23:06:04.497482Z",
     "start_time": "2019-01-06T23:06:02.998425Z"
    }
   },
   "source": [
    "__Future Work:__ \n",
    "- do this by max extent of wetness\n",
    "- add rainfall for context\n",
    "        "
   ]
  },
  {
   "cell_type": "raw",
   "metadata": {
    "raw_mimetype": "text/restructuredtext"
   },
   "source": [
    "**Tags**: :index:`plot`,:index:`gridspec`, :index:`Landsat`,:index:`Landsat5`,:index:`Landsat7`,:index:`Landsat8`, :index:`polygondrill`, :index:`DEAPlotting`, :index:`shapefile`, :index:`geopolygon`, :index:`datacube.utils.geometry`, :index:`fiona`, :index:`rasterio`, :index:`query`,:index:`Scripts`,:index:`tasseled_cap`,                                                                                                           :index:`Fractional Cover`, :index:`DEADataHandling`, :index:`DEAPlotting`, :index:`stackplot`,:index:`masking`,:index:`make mask`,:index:`load_clearlandsat`"
   ]
  },
  {
   "cell_type": "markdown",
   "metadata": {
    "ExecuteTime": {
     "end_time": "2019-01-04T03:51:22.814165Z",
     "start_time": "2019-01-04T03:51:22.805714Z"
    }
   },
   "source": [
    "### import modules\n"
   ]
  },
  {
   "cell_type": "code",
   "execution_count": 3,
   "metadata": {
    "ExecuteTime": {
     "end_time": "2019-01-10T23:56:41.939965Z",
     "start_time": "2019-01-10T23:56:41.911076Z"
    }
   },
   "outputs": [],
   "source": [
    "import datacube\n",
    "import datetime\n",
    "import fiona\n",
    "import geopandas as gpd\n",
    "import numpy as np\n",
    "import os\n",
    "import pandas as pd\n",
    "import rasterio.mask\n",
    "import rasterio.features\n",
    "from shapely import geometry\n",
    "import seaborn as sns\n",
    "import sys\n",
    "import xarray as xr\n",
    "\n",
    "import matplotlib.dates as mdates\n",
    "import matplotlib.gridspec as gridspec\n",
    "import matplotlib.pyplot as plt\n",
    "\n",
    "from datacube.storage import masking\n",
    "from datacube.utils import geometry\n",
    "\n",
    "sys.path.append('../10_Scripts')\n",
    "import DEADataHandling, DEAPlotting, TasseledCapTools\n",
    "\n",
    "dc = datacube.Datacube(app='tci and wofs')"
   ]
  },
  {
   "cell_type": "markdown",
   "metadata": {},
   "source": [
    "### Set up polygons"
   ]
  },
  {
   "cell_type": "code",
   "execution_count": 4,
   "metadata": {
    "ExecuteTime": {
     "end_time": "2019-01-10T23:56:43.248063Z",
     "start_time": "2019-01-10T23:56:43.241721Z"
    }
   },
   "outputs": [],
   "source": [
    "#path to polygon locations\n",
    "polys_path = '/g/data/r78/rjd547/SA_mound_springs/'"
   ]
  },
  {
   "cell_type": "markdown",
   "metadata": {},
   "source": [
    "### Run for all polygons in directory"
   ]
  },
  {
   "cell_type": "code",
   "execution_count": null,
   "metadata": {
    "ExecuteTime": {
     "start_time": "2019-01-10T23:58:10.793Z"
    }
   },
   "outputs": [
    {
     "name": "stdout",
     "output_type": "stream",
     "text": [
      "Nilpinna.shp\n"
     ]
    },
    {
     "data": {
      "text/plain": [
       "<Figure size 432x288 with 0 Axes>"
      ]
     },
     "metadata": {},
     "output_type": "display_data"
    },
    {
     "data": {
      "image/png": "[encoded data removed]",
      "text/plain": [
       "<Figure size 432x288 with 1 Axes>"
      ]
     },
     "metadata": {
      "needs_background": "light"
     },
     "output_type": "display_data"
    },
    {
     "name": "stdout",
     "output_type": "stream",
     "text": [
      "Loading ls5 pixel quality\n",
      "    Loading 281 filtered ls5 timesteps\n"
     ]
    }
   ],
   "source": [
    "polys = os.listdir(polys_path)\n",
    "\n",
    "#print out the shapefile names in the directory\n",
    "for filename in polys:\n",
    "    if 'shp' in filename:\n",
    "        print(filename)\n",
    "        #get the name of the polygon from the shapefile\n",
    "        polyname = filename.split('.')[0]\n",
    "\n",
    "        #open the polygon\n",
    "        with fiona.open(polys_path+filename) as shapes:\n",
    "                crs = geometry.CRS(shapes.crs_wkt)\n",
    "                first_geometry = next(iter(shapes))['geometry']\n",
    "                geom = geometry.Geometry(first_geometry, crs=crs)\n",
    "\n",
    "        #plot polygon to check it looks ok\n",
    "        plt.clf()\n",
    "        shape_plot = gpd.read_file(polys_path+filename)\n",
    "        shape_plot.plot()\n",
    "        plt.show()\n",
    "\n",
    "        ### Set up query\n",
    "\n",
    "        query = {'geopolygon': geom,\n",
    "                 #'time': ('2016-01-01', '2018-06-30')\n",
    "                 #'time': ('2007-01-01', '2007-06-30')\n",
    "                 'time': ('1987-01-01', '2019-01-01')\n",
    "                 }\n",
    "\n",
    "        ## Set up datasets\n",
    "\n",
    "        ### set cloudmasking threshold and load landsat nbart data\n",
    "\n",
    "        #set cloudmasking threshold and load landsat nbart data\n",
    "        landsat_masked_prop = 0.90\n",
    "        ls578_ds = DEADataHandling.load_clearlandsat(dc=dc, query=query, product='nbart',\n",
    "                masked_prop=landsat_masked_prop)\n",
    "\n",
    "        ### mask the data with our original polygon to remove extra data \n",
    "\n",
    "        data = ls578_ds\n",
    "        mask = rasterio.features.geometry_mask([geom.to_crs(data.geobox.crs)for geoms in [geom]],\n",
    "                                                   out_shape=data.geobox.shape,\n",
    "                                                   transform=data.geobox.affine,\n",
    "                                                   all_touched=False,\n",
    "                                                   invert=False)\n",
    "\n",
    "        #for some reason xarray is not playing nicely with our old masking function\n",
    "        mask_xr = xr.DataArray(mask, dims = ('y','x'))\n",
    "        ls578_ds = data.where(mask_xr==False)\n",
    "\n",
    "        #transform the nbart into tci\n",
    "        tci = TasseledCapTools.thresholded_tasseled_cap(ls578_ds,wetness_threshold=-350, drop=True , drop_tc_bands=True)\n",
    "\n",
    "        ### create a masked version of the extent of overthreshold wetness\n",
    "\n",
    "        #select only finite values (over threshold values)\n",
    "        tcw = xr.ufuncs.isfinite(tci.wetness_thresholded)\n",
    "\n",
    "        # #reapply the polygon mask\n",
    "        tcw = tcw.where(mask_xr==False)\n",
    "\n",
    "        ### load wofls and select only wet pixels\n",
    "\n",
    "        #load wofs\n",
    "        wofls = dc.load(product = 'wofs_albers', like=ls578_ds)\n",
    "\n",
    "        #only get wet obs\n",
    "        wetwofl = masking.make_mask(wofls, wet=True)\n",
    "\n",
    "        #match the wofs observations to the nbart\n",
    "        wetwofl=wetwofl.where(wofls.time==ls578_ds.time)\n",
    "\n",
    "        ### mask the wofs obs\n",
    "\n",
    "        #mask the wofs obs with the polygon mask\n",
    "        wetwofl = wetwofl.where(mask_xr==False)\n",
    "\n",
    "        ### load in fractional cover data\n",
    "\n",
    "        #load the data according to our query\n",
    "        #choose a mask proportion to look for a clear timestep\n",
    "        fc_ds = DEADataHandling.load_clearlandsat(dc, query,product='fc',masked_prop=0.90)\n",
    "\n",
    "        ### mask FC with polygon\n",
    "\n",
    "        fc_ds = fc_ds.where(mask_xr==False)\n",
    "\n",
    "        ### mask FC with wetness\n",
    "\n",
    "        fc_ds_noTCW=fc_ds.where(tcw==False)\n",
    "\n",
    "        #set scene to plot\n",
    "        scene =2\n",
    "\n",
    "        #set up our images on a grid using gridspec\n",
    "        plt.clf()\n",
    "        plt.figure(figsize=(12,8))\n",
    "        gs = gridspec.GridSpec(2,2) # set up a 2 x 2 grid of 4 images for better presentation\n",
    "\n",
    "        ax1=plt.subplot(gs[0,0])\n",
    "        fc_ds_noTCW.PV.isel(time=scene).plot(cmap='gist_earth_r')\n",
    "        ax1.set_title('PV')\n",
    "\n",
    "        ax2=plt.subplot(gs[1,0])\n",
    "        fc_ds_noTCW.BS.isel(time=scene).plot(cmap='Oranges')\n",
    "        ax2.set_title('BS')\n",
    "\n",
    "        ax3=plt.subplot(gs[0,1])\n",
    "        fc_ds_noTCW.NPV.isel(time=scene).plot(cmap='copper')\n",
    "        ax3.set_title('NPV')\n",
    "\n",
    "        ax4=plt.subplot(gs[1,1])\n",
    "        fc_ds_noTCW.UE.isel(time=scene).plot(cmap='magma')\n",
    "        ax4.set_title('UE')\n",
    "\n",
    "        plt.tight_layout()\n",
    "        plt.show()\n",
    "\n",
    "        ### Calculate number of pixels in area of interest\n",
    "\n",
    "        #number of pixels in area of interest\n",
    "        pixels = (mask_xr==0).sum(dim=['x','y'])\n",
    "\n",
    "        mask_xr==0\n",
    "        mask_xr.count(dim=['x','y'])\n",
    "\n",
    "        #count number of wofs pixels\n",
    "        wofs_pixels = wetwofl.water.sum(dim=['x','y'])\n",
    "\n",
    "        #count percentage of area of wofs\n",
    "        wofs_area_percent = (wofs_pixels/pixels)*100\n",
    "\n",
    "        #count number of tcw pixels\n",
    "        tcw_pixel_count = tcw.sum(dim=['x','y'])\n",
    "\n",
    "        #calculate percentage area wet\n",
    "        tcw_area_percent = (tcw_pixel_count/pixels)*100\n",
    "\n",
    "        #calculate wet not wofs\n",
    "        tcw_less_wofs = tcw_area_percent-wofs_area_percent\n",
    "\n",
    "        ### Calculate the dominant fraction for each pixel in Fractional Cover\n",
    "\n",
    "        #drop data percentage and Unmixing Error\n",
    "        fc_tester = fc_ds_noTCW.drop(['data_perc','UE'])\n",
    "\n",
    "        #following robbi's advice, cast the dataset to a dataarray\n",
    "        maxFC = fc_tester.to_array(dim='variable', name='maxFC')\n",
    "\n",
    "        #turn FC array into integer only as nanargmax doesn't seem to handle floats the way we want it to\n",
    "        FC_int = maxFC.astype('int8')\n",
    "\n",
    "        #use numpy.nanargmax to get the index of the maximum value along the variable dimension\n",
    "        #BSPVNPV=np.nanargmax(FC_int, axis=0)\n",
    "        BSPVNPV=FC_int.argmax(dim='variable')\n",
    "\n",
    "        FC_mask=xr.ufuncs.isfinite(maxFC).all(dim='variable')\n",
    "\n",
    "        # #re-mask with nans to remove no-data\n",
    "        BSPVNPV=BSPVNPV.where(FC_mask)\n",
    "\n",
    "        #plot the results to check they look roughly like what we are expecting\n",
    "        plt.clf()\n",
    "        plt.imshow(BSPVNPV[2])\n",
    "        plt.colorbar()\n",
    "\n",
    "        FC_dominant = xr.Dataset({\n",
    "            'BS': (BSPVNPV==0).where(FC_mask),\n",
    "            'PV': (BSPVNPV==1).where(FC_mask),\n",
    "            'NPV': (BSPVNPV==2).where(FC_mask),\n",
    "        })\n",
    "\n",
    "        FC_count = FC_dominant.sum(dim=['x','y'])\n",
    "\n",
    "        #Fractional cover pixel count method\n",
    "        #Get number of FC pixels, divide by total number of pixels per polygon\n",
    "\n",
    "        Bare_soil_percent=(FC_count.BS/pixels)*100\n",
    "\n",
    "        Photosynthetic_veg_percent=(FC_count.PV/pixels)*100\n",
    "\n",
    "        NonPhotosynthetic_veg_percent=(FC_count.NPV/pixels)*100\n",
    "\n",
    "        NoData = 100 - wofs_area_percent- tcw_less_wofs - Photosynthetic_veg_percent - NonPhotosynthetic_veg_percent - Bare_soil_percent\n",
    "\n",
    "        query['time'][0]\n",
    "\n",
    "        #set up color palette\n",
    "        pal = [sns.xkcd_rgb[\"cobalt blue\"],\n",
    "               sns.xkcd_rgb[\"neon blue\"],\n",
    "               sns.xkcd_rgb[\"grass\"],\n",
    "               sns.xkcd_rgb[\"beige\"],\n",
    "               sns.xkcd_rgb[\"brown\"]]#,\n",
    "              #sns.xkcd_rgb[\"grey\"]]\n",
    "\n",
    "        #make a stacked area plot\n",
    "        plt.clf()\n",
    "        plt.figure(figsize = (12,6))\n",
    "        plt.stackplot(wofs_area_percent.time.values, \n",
    "                      wofs_area_percent, \n",
    "                      tcw_less_wofs, \n",
    "                      Photosynthetic_veg_percent, \n",
    "                      NonPhotosynthetic_veg_percent,\n",
    "                      Bare_soil_percent,\n",
    "                      NoData,\n",
    "                      labels=['open water',\n",
    "                              'wet',\n",
    "                              'PV',\n",
    "                              'NPV',\n",
    "                              'BS'#,\n",
    "                              #'NoData'\n",
    "                             ], colors=pal, alpha = 0.6)\n",
    "\n",
    "        plt.title('Percentage of area WOfS, Wetness, Fractional Cover')\n",
    "\n",
    "        #set axis limits to the min and max\n",
    "        plt.axis(xmin = query['time'][0], xmax = query['time'][1], ymin = 0, ymax = 100)\n",
    "\n",
    "        #set date ticks every year\n",
    "        years = mdates.YearLocator(2)\n",
    "        yearsFmt = mdates.DateFormatter('%Y')\n",
    "        ax = plt.gca()\n",
    "        ax.xaxis.set_major_locator(years)\n",
    "        ax.xaxis.set_major_formatter(yearsFmt)\n",
    "\n",
    "        #add a legend and a tight plot box\n",
    "        plt.legend(loc='upper right')\n",
    "        plt.tight_layout()\n",
    "\n",
    "        #save the figure\n",
    "        plt.savefig(f'/g/data/r78/rjd547/SA_mound_springs/{polyname}.png')#, transparent=True)\n",
    "        plt.show()"
   ]
  },
  {
   "cell_type": "code",
   "execution_count": null,
   "metadata": {},
   "outputs": [],
   "source": []
  },
  {
   "cell_type": "code",
   "execution_count": null,
   "metadata": {},
   "outputs": [],
   "source": []
  }
 ],
 "metadata": {
  "celltoolbar": "Raw Cell Format",
  "kernelspec": {
   "display_name": "Python [default]",
   "language": "python",
   "name": "python3"
  },
  "language_info": {
   "codemirror_mode": {
    "name": "ipython",
    "version": 3
   },
   "file_extension": ".py",
   "mimetype": "text/x-python",
   "name": "python",
   "nbconvert_exporter": "python",
   "pygments_lexer": "ipython3",
   "version": "3.6.6"
  },
  "widgets": {
   "application/vnd.jupyter.widget-state+json": {
    "state": {},
    "version_major": 2,
    "version_minor": 0
   }
  }
 },
 "nbformat": 4,
 "nbformat_minor": 2
}
