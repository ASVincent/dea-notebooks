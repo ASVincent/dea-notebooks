{
 "cells": [
  {
   "cell_type": "markdown",
   "metadata": {},
   "source": [
    "# Compare TCW rasters with alternate method from CEWO\n"
   ]
  },
  {
   "cell_type": "markdown",
   "metadata": {},
   "source": [
    "**What does this notebook do?**\n",
    "\n",
    "**Required inputs**\n",
    "* geotiffs of thresholded TCW extents\n",
    "* geotiff of \"off-river storages\" identifed by cewo\n",
    "* geotiff of cewo-identified extents\n",
    "\n",
    "**Date** July 2018\n",
    "\n",
    "**Authors** Claire Krause, Bex Dunn"
   ]
  },
  {
   "cell_type": "markdown",
   "metadata": {},
   "source": [
    "Import some useful modules"
   ]
  },
  {
   "cell_type": "code",
   "execution_count": 1,
   "metadata": {
    "ExecuteTime": {
     "end_time": "2018-07-27T05:51:32.914569Z",
     "start_time": "2018-07-27T05:51:23.509224Z"
    }
   },
   "outputs": [
    {
     "name": "stdout",
     "output_type": "stream",
     "text": [
      "Populating the interactive namespace from numpy and matplotlib\n"
     ]
    }
   ],
   "source": [
    "%pylab notebook\n",
    "import xarray as xr\n",
    "import matplotlib.pyplot as plt\n",
    "#from datacube.storage import masking\n",
    "import os\n",
    "sys.path.append(os.path.expanduser('~/dea-notebooks/Scripts/'))\n",
    "import SpatialTools\n",
    "import pandas as pd\n",
    "import numpy as np"
   ]
  },
  {
   "cell_type": "markdown",
   "metadata": {},
   "source": [
    "## Load in the repaired cewo file"
   ]
  },
  {
   "cell_type": "code",
   "execution_count": 2,
   "metadata": {
    "ExecuteTime": {
     "end_time": "2018-07-27T05:51:32.923181Z",
     "start_time": "2018-07-27T05:51:32.919144Z"
    }
   },
   "outputs": [],
   "source": [
    "# Open the GeoTIFFs using rasterio"
   ]
  },
  {
   "cell_type": "code",
   "execution_count": 3,
   "metadata": {
    "ExecuteTime": {
     "end_time": "2018-07-27T05:51:32.935289Z",
     "start_time": "2018-07-27T05:51:32.928465Z"
    }
   },
   "outputs": [],
   "source": [
    "test_fix = '/g/data/r78/rjd547/Macquarie_Marsh/bexnessresults/thresholded_wetness/clipped/cewo_20160628_extents_again.tif'"
   ]
  },
  {
   "cell_type": "code",
   "execution_count": 4,
   "metadata": {
    "ExecuteTime": {
     "end_time": "2018-07-27T05:51:33.290314Z",
     "start_time": "2018-07-27T05:51:32.940119Z"
    }
   },
   "outputs": [],
   "source": [
    "cewo_fix = xr.open_rasterio(test_fix)"
   ]
  },
  {
   "cell_type": "code",
   "execution_count": null,
   "metadata": {
    "ExecuteTime": {
     "start_time": "2018-07-27T05:51:25.974Z"
    }
   },
   "outputs": [],
   "source": [
    "cewo_fix"
   ]
  },
  {
   "cell_type": "markdown",
   "metadata": {},
   "source": [
    "build our comparison raster"
   ]
  },
  {
   "cell_type": "code",
   "execution_count": null,
   "metadata": {
    "ExecuteTime": {
     "start_time": "2018-07-27T05:51:26.544Z"
    }
   },
   "outputs": [],
   "source": [
    "cewo_fix2 =cewo_fix.where(cewo_fix!=65535.)\n",
    "cewo_fix2=cewo_fix2.where(cewo_fix2!=-3.4028234663852886e+38)\n",
    "cewo_fix2=cewo_fix2.where(cewo_fix2!=0)\n",
    "cewo_fix2=cewo_fix2.where(cewo_fix2!=2)\n",
    "cewoCount = cewo_fix2.count()\n",
    "#cewoarea=numpy.round((cewoCount*25*25)/(1000*1000),2)\n",
    "cewoarea=np.round((cewoCount*25*25)/(1000*1000),2)"
   ]
  },
  {
   "cell_type": "code",
   "execution_count": null,
   "metadata": {
    "ExecuteTime": {
     "start_time": "2018-07-27T05:51:26.810Z"
    }
   },
   "outputs": [],
   "source": [
    "cewoarea"
   ]
  },
  {
   "cell_type": "code",
   "execution_count": null,
   "metadata": {
    "ExecuteTime": {
     "start_time": "2018-07-27T05:51:27.751Z"
    }
   },
   "outputs": [],
   "source": [
    "cewo_fix2"
   ]
  },
  {
   "cell_type": "markdown",
   "metadata": {},
   "source": [
    "## Build the loop to load our rasters and calculate our %coverage"
   ]
  },
  {
   "cell_type": "markdown",
   "metadata": {},
   "source": [
    "thresholds are our chosen thresholds for the TCW; these need to match the filenames, and are not set here."
   ]
  },
  {
   "cell_type": "code",
   "execution_count": null,
   "metadata": {
    "ExecuteTime": {
     "start_time": "2018-07-27T05:51:29.024Z"
    }
   },
   "outputs": [],
   "source": [
    "thresholds = ['-0','-100','-200','-300','-400','-500','-600']"
   ]
  },
  {
   "cell_type": "markdown",
   "metadata": {},
   "source": [
    "make a dataframe to fill with our results"
   ]
  },
  {
   "cell_type": "code",
   "execution_count": null,
   "metadata": {
    "ExecuteTime": {
     "start_time": "2018-07-27T05:51:29.858Z"
    }
   },
   "outputs": [],
   "source": [
    "comparison_df_pixels = pd.DataFrame(columns=['TCW','CEWO','both','%ofCEWO'],index=thresholds)\n",
    "comparison_df_area = pd.DataFrame(columns=['TCW km^2','CEWO km^2','both km^2','%ofCEWO'],index=thresholds)"
   ]
  },
  {
   "cell_type": "code",
   "execution_count": null,
   "metadata": {
    "ExecuteTime": {
     "start_time": "2018-07-27T05:51:30.606Z"
    },
    "scrolled": false
   },
   "outputs": [],
   "source": [
    "#make a list of the files corresponding to our set thresholds\n",
    "thresholdFiles =[]\n",
    "for i in range(0, len(thresholds)):\n",
    "    thresholdFiles.append('/g/data/r78/rjd547/Macquarie_Marsh/bexnessresults/thresholded_wetness/clipped/t{0}_Mac_14_-35_20160627__20160629_clipped.tif'.format(thresholds[i]))\n",
    "    #print (thresholdFiles[i])\n",
    "    ThresholdData = xr.open_rasterio(thresholdFiles[i]) #thresholded TCW\n",
    "    ThresholdData=ThresholdData.where(ThresholdData!=-3.4028234663852886e+38)\n",
    "    ThresholdData=ThresholdData.where(ThresholdData!=0)\n",
    "    ThresholdData=ThresholdData.where(cewo_fix.data!=2.0)\n",
    "    thresholdCount=ThresholdData.where(ThresholdData==1.).count()\n",
    "    #thresholdarea=numpy.round((thresholdCount*25*25)/(1000*1000),2)\n",
    "    thresholdarea=np.round((thresholdCount*25*25)/(1000*1000),2)\n",
    "    both = cewo_fix2.where(ThresholdData==1)\n",
    "    bothCount = both.count()\n",
    "    #botharea=numpy.round((thresholdCount*25*25)/(1000*1000),2)\n",
    "    botharea=np.round((bothCount*25*25)/(1000*1000),2)\n",
    "    comparison_df_pixels.loc[thresholds[i]]=[thresholdCount.data, cewoCount.data, bothCount.data, numpy.round(((bothCount/cewoCount)*100).data,decimals=2)]\n",
    "    comparison_df_area.loc[thresholds[i]]=[thresholdarea.data, cewoarea.data, botharea.data, numpy.round(((botharea/cewoarea)*100).data,decimals=2)]\n",
    "#     print(botharea)\n",
    "#     plt.clf()\n",
    "#     cewo_fix2.plot(cmap='Greens', vmin=0,vmax=1)\n",
    "#     ThresholdData.plot(cmap='viridis',vmin=0,vmax=1)\n",
    "#     both.plot(cmap='Wistia',vmin=0,vmax=1)\n",
    "#     print('ready to save plots')\n",
    "    \n",
    "    %matplotlib inline\n",
    "    plt.clf()\n",
    "    fig = plt.figure(figsize=(10,11))\n",
    "    ax=plt.gca()\n",
    "    cewo_fix2.plot(cmap='Greens', vmin=0,vmax=1, alpha=0.7,add_colorbar=False)\n",
    "    ThresholdData.plot(cmap='Greens',vmin=0,vmax=3,alpha=0.7,add_colorbar=False)\n",
    "    both.plot(cmap='winter',vmin=0,vmax=1, alpha=0.7,add_colorbar=False)\n",
    "    plt.title(\"TCW threshold \"+thresholds[i])\n",
    "    ax.set_ylim((-3500000, -3400000))\n",
    "    print('ready to save plots')\n",
    "    plt.savefig('/g/data/r78/rjd547/Macquarie_Marsh/bexnessresults/plots/'+\"3TCW_threshold_\"+thresholds[i]+'.png')\n",
    "    #plt.show()"
   ]
  },
  {
   "cell_type": "code",
   "execution_count": null,
   "metadata": {
    "ExecuteTime": {
     "end_time": "2018-07-27T03:43:40.688126Z",
     "start_time": "2018-07-27T03:43:39.881449Z"
    },
    "scrolled": false
   },
   "outputs": [],
   "source": [
    "%matplotlib inline\n",
    "plt.clf()\n",
    "fig = plt.figure(figsize=(10,11))\n",
    "ax=plt.gca()\n",
    "#ax.set_facecolor('xkcd:khaki')\n",
    "cewo_fix2.isel(x=range(0, len(cewo_fix2.x),10), y=range(0, len(cewo_fix2.y),10)).plot(cmap='Greens', vmin=0,vmax=1, alpha=0.5,add_colorbar=False)\n",
    "ThresholdData.isel(x=range(0, len(cewo_fix2.x),10), y=range(0, len(cewo_fix2.y),10)).plot(cmap='Greens',vmin=0,vmax=2,alpha=0.5,add_colorbar=False)\n",
    "both.isel(x=range(0, len(cewo_fix2.x),10), y=range(0, len(cewo_fix2.y),10)).plot(cmap='winter',vmin=0,vmax=1, alpha=0.5,add_colorbar=False)\n",
    "plt.title(\"TCW threshold \"+thresholds[i])\n",
    "ax.set_ylim((-3500000, -3400000))\n",
    "plt.show()"
   ]
  },
  {
   "cell_type": "code",
   "execution_count": null,
   "metadata": {},
   "outputs": [],
   "source": [
    "#write table to csv\n",
    "plot."
   ]
  },
  {
   "cell_type": "code",
   "execution_count": null,
   "metadata": {
    "ExecuteTime": {
     "end_time": "2018-07-26T23:08:22.568829Z",
     "start_time": "2018-07-26T23:08:22.551398Z"
    }
   },
   "outputs": [],
   "source": [
    "#comparison_df_pixels.to_csv('/g/data/r78/rjd547/Macquarie_Marsh/bexnessresults/Pixel_Comparison_Table.csv',)"
   ]
  },
  {
   "cell_type": "code",
   "execution_count": null,
   "metadata": {
    "ExecuteTime": {
     "end_time": "2018-07-26T08:07:01.026654Z",
     "start_time": "2018-07-26T08:07:01.017617Z"
    }
   },
   "outputs": [],
   "source": [
    "(91171/158833)*100"
   ]
  },
  {
   "cell_type": "code",
   "execution_count": null,
   "metadata": {
    "ExecuteTime": {
     "end_time": "2018-07-27T03:49:30.304263Z",
     "start_time": "2018-07-27T03:49:30.288711Z"
    }
   },
   "outputs": [],
   "source": [
    "comparison_df_area"
   ]
  },
  {
   "cell_type": "code",
   "execution_count": null,
   "metadata": {
    "ExecuteTime": {
     "end_time": "2018-07-26T23:08:07.674509Z",
     "start_time": "2018-07-26T23:08:07.647908Z"
    }
   },
   "outputs": [],
   "source": [
    "#comparison_df_area.to_csv('/g/data/r78/rjd547/Macquarie_Marsh/bexnessresults/Area_Comparison_Table.csv',)"
   ]
  },
  {
   "cell_type": "code",
   "execution_count": null,
   "metadata": {},
   "outputs": [],
   "source": [
    "# ThresholdData = xr.open_rasterio(thresholdFiles[0]) #thresholded TCW\n",
    "#"
   ]
  },
  {
   "cell_type": "code",
   "execution_count": null,
   "metadata": {
    "ExecuteTime": {
     "end_time": "2018-07-26T07:37:15.732915Z",
     "start_time": "2018-07-26T07:37:02.227445Z"
    }
   },
   "outputs": [],
   "source": [
    "%matplotlib inline\n",
    "plt.clf()\n",
    "cewo_fix.plot(vmin=0, vmax=2, cmap='magma')\n",
    "plt.show()"
   ]
  },
  {
   "cell_type": "code",
   "execution_count": null,
   "metadata": {
    "ExecuteTime": {
     "end_time": "2018-07-26T06:13:35.659894Z",
     "start_time": "2018-07-26T06:13:35.384164Z"
    }
   },
   "outputs": [],
   "source": [
    "# cewo_fix2 =cewo_fix.where(cewo_fix!=65535.)\n",
    "# cewo_fix2=cewo_fix2.where(cewo_fix2!=-3.4028234663852886e+38)\n",
    "# cewo_fix2=cewo_fix2.where(cewo_fix2!=0)\n",
    "# cewo_fix2=cewo_fix2.where(cewo_fix2!=2)"
   ]
  },
  {
   "cell_type": "code",
   "execution_count": null,
   "metadata": {
    "ExecuteTime": {
     "end_time": "2018-07-26T06:08:54.584513Z",
     "start_time": "2018-07-26T06:08:54.021098Z"
    }
   },
   "outputs": [],
   "source": [
    "#cewo_fix2.isel(x=range(0, len(cewo_fix2.x),10), y=range(0, len(cewo_fix2.y),10)).plot()"
   ]
  },
  {
   "cell_type": "code",
   "execution_count": null,
   "metadata": {
    "ExecuteTime": {
     "end_time": "2018-07-26T07:18:20.596195Z",
     "start_time": "2018-07-26T07:18:20.560348Z"
    }
   },
   "outputs": [],
   "source": [
    "# cewoCount = cewo_fix2.count()"
   ]
  },
  {
   "cell_type": "code",
   "execution_count": null,
   "metadata": {
    "ExecuteTime": {
     "end_time": "2018-07-26T06:09:03.260795Z",
     "start_time": "2018-07-26T06:09:02.549125Z"
    }
   },
   "outputs": [],
   "source": [
    "both = cewo_fix2.where(ThresholdData==1)"
   ]
  },
  {
   "cell_type": "code",
   "execution_count": null,
   "metadata": {
    "ExecuteTime": {
     "end_time": "2018-07-26T07:20:09.330546Z",
     "start_time": "2018-07-26T07:20:09.221048Z"
    }
   },
   "outputs": [],
   "source": [
    "thresholdCount=ThresholdData.where(ThresholdData==1.).count()"
   ]
  },
  {
   "cell_type": "code",
   "execution_count": null,
   "metadata": {
    "ExecuteTime": {
     "end_time": "2018-07-26T07:20:14.511458Z",
     "start_time": "2018-07-26T07:20:14.496574Z"
    }
   },
   "outputs": [],
   "source": [
    "thresholdCount"
   ]
  },
  {
   "cell_type": "code",
   "execution_count": null,
   "metadata": {
    "ExecuteTime": {
     "end_time": "2018-07-26T07:18:28.005319Z",
     "start_time": "2018-07-26T07:18:27.970407Z"
    }
   },
   "outputs": [],
   "source": [
    "bothCount = both.count()"
   ]
  },
  {
   "cell_type": "code",
   "execution_count": null,
   "metadata": {
    "ExecuteTime": {
     "end_time": "2018-07-26T07:01:56.567446Z",
     "start_time": "2018-07-26T07:01:55.635985Z"
    }
   },
   "outputs": [],
   "source": [
    "plt.clf()\n",
    "cewo_fix2.isel(x=range(0, len(cewo_fix2.x),10), y=range(0, len(cewo_fix2.y),10)).plot()\n",
    "ThresholdData.isel(x=range(0, len(cewo_fix2.x),10), y=range(0, len(cewo_fix2.y),10)).plot(cmap='magma')\n",
    "both.isel(x=range(0, len(cewo_fix2.x),10), y=range(0, len(cewo_fix2.y),10)).plot(cmap='Wistia')\n",
    "plt.show()"
   ]
  },
  {
   "cell_type": "code",
   "execution_count": null,
   "metadata": {
    "ExecuteTime": {
     "end_time": "2018-07-26T07:05:24.174954Z",
     "start_time": "2018-07-26T07:05:24.164730Z"
    }
   },
   "outputs": [],
   "source": [
    "thresholds"
   ]
  },
  {
   "cell_type": "code",
   "execution_count": null,
   "metadata": {
    "ExecuteTime": {
     "end_time": "2018-07-26T07:24:21.552475Z",
     "start_time": "2018-07-26T07:24:21.543567Z"
    }
   },
   "outputs": [],
   "source": [
    "comparison_df = pd.DataFrame(columns=['TCW','CEWO','both','%ofCEWO'],index=thresholds)"
   ]
  },
  {
   "cell_type": "code",
   "execution_count": null,
   "metadata": {
    "ExecuteTime": {
     "end_time": "2018-07-26T07:24:22.832957Z",
     "start_time": "2018-07-26T07:24:22.823397Z"
    }
   },
   "outputs": [],
   "source": [
    "comparison_df.loc['-0']=[thresholdCount.data, cewoCount.data, bothCount.data, numpy.round(((bothCount/cewoCount)*100).data,decimals=2)]"
   ]
  },
  {
   "cell_type": "code",
   "execution_count": null,
   "metadata": {
    "ExecuteTime": {
     "end_time": "2018-07-26T07:24:23.264559Z",
     "start_time": "2018-07-26T07:24:23.246928Z"
    }
   },
   "outputs": [],
   "source": [
    "comparison_df"
   ]
  },
  {
   "cell_type": "code",
   "execution_count": null,
   "metadata": {
    "ExecuteTime": {
     "end_time": "2018-07-26T00:42:25.521837Z",
     "start_time": "2018-07-26T00:42:24.806981Z"
    }
   },
   "outputs": [],
   "source": [
    "## #filter out both sets of nodata values as defined by CEWO\n",
    "# cewoData = cewoData.where(cewoData!=-3.4028234663852886e+38) #remove no data vals\n",
    "# cewoData = cewoData.where(cewoData!=0) #remove no data vals\n",
    "# cewoData = cewoData.where(cewoData!=65535.) #remove no data vals\n",
    "# #cewoData = cewoData.where(cewoData!=2.) #remove off river storages"
   ]
  },
  {
   "cell_type": "code",
   "execution_count": null,
   "metadata": {
    "ExecuteTime": {
     "end_time": "2018-07-26T00:47:05.520430Z",
     "start_time": "2018-07-26T00:47:03.897965Z"
    }
   },
   "outputs": [],
   "source": [
    "plt.clf()\n",
    "cewoData.plot()\n",
    "plt.show()"
   ]
  },
  {
   "cell_type": "code",
   "execution_count": null,
   "metadata": {
    "ExecuteTime": {
     "end_time": "2018-07-26T04:09:13.002367Z",
     "start_time": "2018-07-26T04:09:12.979797Z"
    }
   },
   "outputs": [],
   "source": [
    "cewoData"
   ]
  },
  {
   "cell_type": "code",
   "execution_count": null,
   "metadata": {
    "ExecuteTime": {
     "end_time": "2018-07-26T04:09:15.278541Z",
     "start_time": "2018-07-26T04:09:15.267045Z"
    }
   },
   "outputs": [],
   "source": [
    "ThresholdData"
   ]
  },
  {
   "cell_type": "code",
   "execution_count": null,
   "metadata": {
    "ExecuteTime": {
     "end_time": "2018-07-26T04:11:31.729488Z",
     "start_time": "2018-07-26T04:11:30.545714Z"
    }
   },
   "outputs": [],
   "source": [
    "plt.clf()\n",
    "ThresholdData.plot()\n",
    "plt.show()"
   ]
  },
  {
   "cell_type": "code",
   "execution_count": null,
   "metadata": {
    "ExecuteTime": {
     "end_time": "2018-07-26T06:13:23.842644Z",
     "start_time": "2018-07-26T06:13:23.158735Z"
    }
   },
   "outputs": [],
   "source": [
    "# ThresholdData=ThresholdData.where(ThresholdData!=-3.4028234663852886e+38)\n",
    "# ThresholdData=ThresholdData.where(ThresholdData!=0)\n",
    "# ThresholdData=ThresholdData.where(cewoData.data!=2.0)"
   ]
  },
  {
   "cell_type": "code",
   "execution_count": null,
   "metadata": {
    "ExecuteTime": {
     "end_time": "2018-07-26T04:25:57.115055Z",
     "start_time": "2018-07-26T04:25:57.090948Z"
    }
   },
   "outputs": [],
   "source": [
    "ThresholdData"
   ]
  },
  {
   "cell_type": "code",
   "execution_count": null,
   "metadata": {
    "ExecuteTime": {
     "end_time": "2018-07-26T04:18:36.476194Z",
     "start_time": "2018-07-26T04:18:36.352520Z"
    }
   },
   "outputs": [],
   "source": [
    "#ThresholdData=ThresholdData.where(ThresholdData!=-3.4028234663852886e+38)\n",
    "#ThresholdData=ThresholdData.where(ThresholdData!=0)\n",
    "#ThresholdData=ThresholdData.where(cewoData.data!=2.0)"
   ]
  },
  {
   "cell_type": "code",
   "execution_count": null,
   "metadata": {
    "ExecuteTime": {
     "end_time": "2018-07-26T04:21:15.484600Z",
     "start_time": "2018-07-26T04:21:14.364610Z"
    }
   },
   "outputs": [],
   "source": [
    "plt.clf()\n",
    "ThresholdData.plot()\n",
    "plt.show()"
   ]
  },
  {
   "cell_type": "code",
   "execution_count": null,
   "metadata": {
    "ExecuteTime": {
     "end_time": "2018-07-26T04:26:45.311215Z",
     "start_time": "2018-07-26T04:26:44.967868Z"
    }
   },
   "outputs": [],
   "source": [
    "cewoData2=cewoData.where(cewoData!=65535.)\n",
    "cewoData2 = cewoData2.where(cewoData2!=-3.4028234663852886e+38) #remove no data vals\n",
    "cewoData2 = cewoData2.where(cewoData2!=0) #remove no data vals\n",
    "cewoData2 = cewoData2.where(cewoData2.data!=2.0) #remove storages"
   ]
  },
  {
   "cell_type": "code",
   "execution_count": null,
   "metadata": {
    "ExecuteTime": {
     "end_time": "2018-07-26T06:14:05.959784Z",
     "start_time": "2018-07-26T06:14:05.012833Z"
    }
   },
   "outputs": [],
   "source": [
    "cewo_comp = cewo_comp.where(cewo_comp!=-3.4028234663852886e+38)\n",
    "print(cewo_comp.count())\n",
    "cewo_comp = cewo_comp.where(cewo_comp!=0)\n",
    "print(cewo_comp.count())\n",
    "cewo_comp = cewo_comp.where(cewo_comp!=65535.)\n",
    "print(cewo_comp.count())\n",
    "cewo_comp = cewo_comp.where(cewo_comp!=2.0)\n",
    "print(cewo_comp.count())"
   ]
  },
  {
   "cell_type": "code",
   "execution_count": null,
   "metadata": {
    "ExecuteTime": {
     "end_time": "2018-07-26T04:26:46.086882Z",
     "start_time": "2018-07-26T04:26:46.040873Z"
    }
   },
   "outputs": [],
   "source": [
    "cewoData2.max()"
   ]
  },
  {
   "cell_type": "code",
   "execution_count": null,
   "metadata": {
    "ExecuteTime": {
     "end_time": "2018-07-26T04:29:44.300009Z",
     "start_time": "2018-07-26T04:29:44.289588Z"
    }
   },
   "outputs": [],
   "source": [
    "cewo_comp.size, ThresholdData.size"
   ]
  },
  {
   "cell_type": "code",
   "execution_count": null,
   "metadata": {
    "ExecuteTime": {
     "end_time": "2018-07-26T04:29:20.748349Z",
     "start_time": "2018-07-26T04:29:20.664450Z"
    }
   },
   "outputs": [],
   "source": [
    "print(cewo_comp.count(), ThresholdData.count())"
   ]
  },
  {
   "cell_type": "code",
   "execution_count": null,
   "metadata": {
    "ExecuteTime": {
     "end_time": "2018-07-26T04:26:49.829253Z",
     "start_time": "2018-07-26T04:26:48.720378Z"
    }
   },
   "outputs": [],
   "source": [
    "cewoData2.plot() \n",
    "plt.show()"
   ]
  },
  {
   "cell_type": "code",
   "execution_count": null,
   "metadata": {},
   "outputs": [],
   "source": [
    "cewo"
   ]
  },
  {
   "cell_type": "code",
   "execution_count": null,
   "metadata": {},
   "outputs": [],
   "source": []
  },
  {
   "cell_type": "markdown",
   "metadata": {},
   "source": [
    "Shouldn't have to do this again but here is the reproject to template function, with intro"
   ]
  },
  {
   "cell_type": "code",
   "execution_count": null,
   "metadata": {},
   "outputs": [],
   "source": [
    "# output = SpatialTools.reproject_to_template(cewo_compFile,thresholdFiles[0],'/g/data/r78/rjd547/Macquarie_Marsh/bexnessresults/thresholded_wetness/clipped/no_storages/cewo_20160628_test.tif')\n",
    "# output = None"
   ]
  },
  {
   "cell_type": "code",
   "execution_count": null,
   "metadata": {},
   "outputs": [],
   "source": [
    "# Make sure all the missing values are taken out\n",
    "NDVIDatamaxNonull = NDVIDatamax.where(NDVIDatamax != -1)\n",
    "NDMIDatamaxNonull = NDMIDatamax.where(NDMIDatamax != -1)"
   ]
  },
  {
   "cell_type": "markdown",
   "metadata": {},
   "source": [
    "## Read in the validation mask and use it to examine the resulting pixel populations"
   ]
  },
  {
   "cell_type": "code",
   "execution_count": null,
   "metadata": {},
   "outputs": [],
   "source": [
    "# Data * mask = data or nan\n",
    "NDVIIrrigated = mask * NDVIDatamaxNonull\n",
    "# Find where the mask is nan, and use this True/False to mask data\n",
    "NDVINonIrrigated = NDVIDatamaxNonull.where(np.isnan(mask))\n",
    "\n",
    "# Data * mask = data or nan\n",
    "NDMIIrrigated = mask * NDMIDatamaxNonull\n",
    "# Find where the mask is nan, and use this True/False to mask data\n",
    "NDMINonIrrigated = NDMIDatamaxNonull.where(np.isnan(mask))"
   ]
  },
  {
   "cell_type": "markdown",
   "metadata": {},
   "source": [
    "## Need to flatten the data so we can plot two single dimension arrays against each other"
   ]
  },
  {
   "cell_type": "code",
   "execution_count": null,
   "metadata": {},
   "outputs": [],
   "source": [
    "NDVIIrrigatedflat = NDVIIrrigated.data.reshape(NDVIIrrigated.x.size * NDVIIrrigated.y.size)\n",
    "NDVINonIrrigatedflat = NDVINonIrrigated.data.reshape(NDVINonIrrigated.x.size * NDVINonIrrigated.y.size)\n",
    "\n",
    "NDMIIrrigatedflat = NDMIIrrigated.data.reshape(NDMIIrrigated.x.size * NDMIIrrigated.y.size)\n",
    "NDMINonIrrigatedflat = NDMINonIrrigated.data.reshape(NDMINonIrrigated.x.size * NDMINonIrrigated.y.size)"
   ]
  },
  {
   "cell_type": "markdown",
   "metadata": {},
   "source": [
    "## Draw a histogram of the two populations\n",
    "\n",
    "Matplotlib histogram doesn't like `nan`, so we need to remove the `nan` values before we can create a histogram. This is done by reshaping the array into a single dimension, then removing the nan values.\n",
    "\n",
    "This histogram will allow us to determine a valid threshold value for the automatic irrigated crop extent layer."
   ]
  },
  {
   "cell_type": "code",
   "execution_count": null,
   "metadata": {
    "scrolled": false
   },
   "outputs": [],
   "source": [
    "bin_values = np.arange(0, 1.0, 0.02)\n",
    "\n",
    "fig, axs = plt.subplots(1, 2, sharex=True, tight_layout=True, figsize = [9,5])\n",
    "axs[0].hist(NDVIIrrigatedflat[np.isfinite(NDVIIrrigatedflat)], bins=bin_values, facecolor = 'blue');\n",
    "axs[0].set_title('{0} for Namoi irrigated fields {0}'.format(Index, year))\n",
    "axs[0].set_xlabel(Index)\n",
    "axs[1].hist(NDVINonIrrigatedflat[np.isfinite(NDVINonIrrigatedflat)], bins=bin_values, facecolor = 'brown');\n",
    "axs[1].set_title('{0} for Namoi non-irrigated fields {0}'.format(Index, year))\n",
    "axs[1].set_xlabel(Index)\n",
    "savefig('/g/data/r78/cek156/dea-notebooks/Crop_mapping/Playing_around/Namoi_NDVI_{1}.jpg'.format(Index, year))"
   ]
  },
  {
   "cell_type": "markdown",
   "metadata": {},
   "source": [
    "## Is there a relationship between a pixel's NDVI and NDMI?"
   ]
  },
  {
   "cell_type": "code",
   "execution_count": null,
   "metadata": {},
   "outputs": [],
   "source": [
    "plt.figure(figsize = [8,8])\n",
    "\n",
    "plt.scatter(NDVINonIrrigatedflat[::10], NDMINonIrrigatedflat[::10], facecolor = 'brown', marker = '.')\n",
    "plt.scatter(NDVIIrrigatedflat[::10], NDMIIrrigatedflat[::10], facecolor = 'blue', marker = '.')\n",
    "plt.xlabel('NDVI')\n",
    "plt.ylabel('NDMI')\n",
    "plt.title('NDVI vs NDMI for every pixel in the Namoi Catchment')\n",
    "plt.legend(['Non-irrigated pixels', 'Irrigated pixels'])\n",
    "savefig('/g/data/r78/cek156/dea-notebooks/Crop_mapping/Playing_around/Namoi_scatter_{0}.jpg'.format(year))"
   ]
  },
  {
   "cell_type": "code",
   "execution_count": null,
   "metadata": {},
   "outputs": [],
   "source": []
  }
 ],
 "metadata": {
  "kernelspec": {
   "display_name": "Python 3",
   "language": "python",
   "name": "python3"
  },
  "language_info": {
   "codemirror_mode": {
    "name": "ipython",
    "version": 3
   },
   "file_extension": ".py",
   "mimetype": "text/x-python",
   "name": "python",
   "nbconvert_exporter": "python",
   "pygments_lexer": "ipython3",
   "version": "3.6.5"
  },
  "toc": {
   "base_numbering": 1,
   "nav_menu": {},
   "number_sections": true,
   "sideBar": true,
   "skip_h1_title": false,
   "title_cell": "Table of Contents",
   "title_sidebar": "Contents",
   "toc_cell": false,
   "toc_position": {},
   "toc_section_display": true,
   "toc_window_display": false
  }
 },
 "nbformat": 4,
 "nbformat_minor": 2
}
