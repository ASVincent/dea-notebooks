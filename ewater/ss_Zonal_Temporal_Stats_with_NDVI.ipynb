{
 "cells": [
  {
   "cell_type": "markdown",
   "metadata": {},
   "source": [
    "# Zonal Stats over time"
   ]
  },
  {
   "cell_type": "markdown",
   "metadata": {},
   "source": [
    "Inputs:\n",
    "* Product: `rainfall_grids_1998_2017`\n",
    "* Variable: `rainfall`\n",
    "* Aggregate Function: `mean`\n",
    "* Zones: `KHM_Catch8_m_del.shp` or `KHM_Basin_Simple_A.shp` "
   ]
  },
  {
   "cell_type": "code",
   "execution_count": 1,
   "metadata": {
    "ExecuteTime": {
     "end_time": "2018-09-04T05:34:08.011436Z",
     "start_time": "2018-09-04T05:33:59.704999Z"
    }
   },
   "outputs": [],
   "source": [
    "%matplotlib inline\n",
    "import fiona\n",
    "import rasterio.features\n",
    "import xarray as xr\n",
    "import rasterio.features\n",
    "import xarray\n",
    "import datacube\n",
    "dc = datacube.Datacube(config='/g/data/u46/users/ext547/ewater/cambodia_cube/cambodia.conf')\n",
    "\n",
    "\n",
    "from shapely.geometry import asShape\n",
    "from shapely.geometry import MultiPolygon, Polygon\n",
    "\n",
    "import pandas as pd\n",
    "import dask\n",
    "from distributed import Client, LocalCluster"
   ]
  },
  {
   "cell_type": "markdown",
   "metadata": {},
   "source": [
    "# Specify location and name of catchment shapefile"
   ]
  },
  {
   "cell_type": "code",
   "execution_count": 2,
   "metadata": {
    "ExecuteTime": {
     "end_time": "2018-09-04T05:34:08.021106Z",
     "start_time": "2018-09-04T05:34:08.015156Z"
    }
   },
   "outputs": [],
   "source": [
    "# shape_file = '/g/data/u46/users/ext547/ewater/input_data/Cambodia_boundary/KHM_Basin_Simple_A.shp'\n",
    "# shape_file = '/g/data/u46/users/adh547/cambodia/vector/catchments/KHM_Catch8_m_del.shp'\n",
    "shape_file = '/g/data/u46/users/ext547/ewater/input_data/Cambodia_boundary/KHM_Catch8_subset.shp'\n",
    "# shape_file = '/g/data/u46/users/ext547/ewater/input_data/Cambodia_boundary/KHM_Simple_subset.shp'\n",
    "# shape_file = '/g/data/u46/users/ext547/ewater/input_data/Cambodia_boundary/KHM_Simple_subset_v2.shp'"
   ]
  },
  {
   "cell_type": "markdown",
   "metadata": {},
   "source": [
    "# define functions"
   ]
  },
  {
   "cell_type": "code",
   "execution_count": 3,
   "metadata": {
    "ExecuteTime": {
     "end_time": "2018-09-04T05:34:08.031196Z",
     "start_time": "2018-09-04T05:34:08.023809Z"
    }
   },
   "outputs": [],
   "source": [
    "def geometry_mask(geoms, geobox, all_touched=False, invert=False):\n",
    "    \"\"\"\n",
    "    Create a mask from shapes.\n",
    "\n",
    "    By default, mask is intended for use as a\n",
    "    numpy mask, where pixels that overlap shapes are False.\n",
    "    :param list[Geometry] geoms: geometries to be rasterized\n",
    "    :param datacube.utils.GeoBox geobox:\n",
    "    :param bool all_touched: If True, all pixels touched by geometries will be burned in. If\n",
    "                             false, only pixels whose center is within the polygon or that\n",
    "                             are selected by Bresenham's line algorithm will be burned in.\n",
    "    :param bool invert: If True, mask will be True for pixels that overlap shapes.\n",
    "    \"\"\"\n",
    "    data = rasterio.features.geometry_mask([geom.to_crs(geobox.crs) for geom in geoms],\n",
    "                                           out_shape=geobox.shape,\n",
    "                                           transform=geobox.affine,\n",
    "                                           all_touched=all_touched,\n",
    "                                           invert=invert)\n",
    "    coords = [xr.DataArray(data=coord.values, name=dim, dims=[dim], attrs={'units': coord.units}) \n",
    "              for dim, coord in geobox.coords.items()]\n",
    "    return xarray.DataArray(data, coords=coords)"
   ]
  },
  {
   "cell_type": "code",
   "execution_count": 4,
   "metadata": {
    "ExecuteTime": {
     "end_time": "2018-09-04T05:34:08.039429Z",
     "start_time": "2018-09-04T05:34:08.033980Z"
    }
   },
   "outputs": [],
   "source": [
    "def get_shapes(shape_file):\n",
    "    with fiona.open(shape_file) as shapes:\n",
    "        crs = datacube.utils.geometry.CRS(shapes.crs_wkt)\n",
    "        for shape in shapes:\n",
    "            geom = datacube.utils.geometry.Geometry(shape['geometry'], crs=crs)\n",
    "            yield geom, shape['properties']"
   ]
  },
  {
   "cell_type": "markdown",
   "metadata": {},
   "source": [
    "# Set up dask"
   ]
  },
  {
   "cell_type": "code",
   "execution_count": 5,
   "metadata": {
    "ExecuteTime": {
     "end_time": "2018-09-04T05:34:15.497545Z",
     "start_time": "2018-09-04T05:34:08.041724Z"
    }
   },
   "outputs": [
    {
     "data": {
      "text/html": [
       "<table style=\"border: 2px solid white;\">\n",
       "<tr>\n",
       "<td style=\"vertical-align: top; border: 0px solid white\">\n",
       "<h3>Client</h3>\n",
       "<ul>\n",
       "  <li><b>Scheduler: </b>tcp://127.0.0.1:38362\n",
       "  <li><b>Dashboard: </b><a href='http://127.0.0.1:8787/status' target='_blank'>http://127.0.0.1:8787/status</a>\n",
       "</ul>\n",
       "</td>\n",
       "<td style=\"vertical-align: top; border: 0px solid white\">\n",
       "<h3>Cluster</h3>\n",
       "<ul>\n",
       "  <li><b>Workers: </b>8</li>\n",
       "  <li><b>Cores: </b>8</li>\n",
       "  <li><b>Memory: </b>33.67 GB</li>\n",
       "</ul>\n",
       "</td>\n",
       "</tr>\n",
       "</table>"
      ],
      "text/plain": [
       "<Client: scheduler='tcp://127.0.0.1:38362' processes=8 cores=8>"
      ]
     },
     "execution_count": 5,
     "metadata": {},
     "output_type": "execute_result"
    }
   ],
   "source": [
    "# cluster = LocalCluster(local_dir='/local/u46/adh547/tmp')\n",
    "cluster = LocalCluster(local_dir='/g/data/u46/users/ext547/ewater/working')\n",
    "\n",
    "client = Client(cluster)\n",
    "dask.config.set(get=client.get)\n",
    "client"
   ]
  },
  {
   "cell_type": "markdown",
   "metadata": {},
   "source": [
    "#  Loop through catchments"
   ]
  },
  {
   "cell_type": "markdown",
   "metadata": {},
   "source": [
    "## Set up catchment data"
   ]
  },
  {
   "cell_type": "code",
   "execution_count": 6,
   "metadata": {
    "ExecuteTime": {
     "end_time": "2018-09-04T05:34:15.651487Z",
     "start_time": "2018-09-04T05:34:15.502250Z"
    }
   },
   "outputs": [
    {
     "data": {
      "text/html": [
       "<div>\n",
       "<style scoped>\n",
       "    .dataframe tbody tr th:only-of-type {\n",
       "        vertical-align: middle;\n",
       "    }\n",
       "\n",
       "    .dataframe tbody tr th {\n",
       "        vertical-align: top;\n",
       "    }\n",
       "\n",
       "    .dataframe thead th {\n",
       "        text-align: right;\n",
       "    }\n",
       "</style>\n",
       "<table border=\"1\" class=\"dataframe\">\n",
       "  <thead>\n",
       "    <tr style=\"text-align: right;\">\n",
       "      <th></th>\n",
       "      <th>name</th>\n",
       "      <th>description</th>\n",
       "      <th>platform</th>\n",
       "      <th>lon</th>\n",
       "      <th>label</th>\n",
       "      <th>creation_time</th>\n",
       "      <th>lat</th>\n",
       "      <th>product_type</th>\n",
       "      <th>format</th>\n",
       "      <th>instrument</th>\n",
       "      <th>time</th>\n",
       "      <th>crs</th>\n",
       "      <th>resolution</th>\n",
       "      <th>tile_size</th>\n",
       "      <th>spatial_dimensions</th>\n",
       "    </tr>\n",
       "    <tr>\n",
       "      <th>id</th>\n",
       "      <th></th>\n",
       "      <th></th>\n",
       "      <th></th>\n",
       "      <th></th>\n",
       "      <th></th>\n",
       "      <th></th>\n",
       "      <th></th>\n",
       "      <th></th>\n",
       "      <th></th>\n",
       "      <th></th>\n",
       "      <th></th>\n",
       "      <th></th>\n",
       "      <th></th>\n",
       "      <th></th>\n",
       "      <th></th>\n",
       "    </tr>\n",
       "  </thead>\n",
       "  <tbody>\n",
       "    <tr>\n",
       "      <th>10</th>\n",
       "      <td>dem_3sec_hydrosheds</td>\n",
       "      <td>three sec hydrologically conditioned Digital E...</td>\n",
       "      <td>elevation</td>\n",
       "      <td>None</td>\n",
       "      <td>None</td>\n",
       "      <td>None</td>\n",
       "      <td>None</td>\n",
       "      <td>elevation</td>\n",
       "      <td>NETCDF</td>\n",
       "      <td>shuttle radar</td>\n",
       "      <td>None</td>\n",
       "      <td>EPSG:4326</td>\n",
       "      <td>[-0.00083, 0.00083]</td>\n",
       "      <td>None</td>\n",
       "      <td>(latitude, longitude)</td>\n",
       "    </tr>\n",
       "    <tr>\n",
       "      <th>6</th>\n",
       "      <td>ls5_usgs_sr_scene</td>\n",
       "      <td>Landsat 5 USGS Collection 1 Level2 Surface Ref...</td>\n",
       "      <td>LANDSAT_5</td>\n",
       "      <td>None</td>\n",
       "      <td>None</td>\n",
       "      <td>None</td>\n",
       "      <td>None</td>\n",
       "      <td>LEDAPS</td>\n",
       "      <td>GeoTiff</td>\n",
       "      <td>TM</td>\n",
       "      <td>None</td>\n",
       "      <td>PROJCS[\"WGS 84\",GEOGCS[\"WGS 84\",DATUM[\"WGS_198...</td>\n",
       "      <td>[-30, 30]</td>\n",
       "      <td>None</td>\n",
       "      <td>(y, x)</td>\n",
       "    </tr>\n",
       "    <tr>\n",
       "      <th>2</th>\n",
       "      <td>ls7_usgs_sr_scene</td>\n",
       "      <td>Landsat 7 USGS Collection 1 Level2 Surface Ref...</td>\n",
       "      <td>LANDSAT_7</td>\n",
       "      <td>None</td>\n",
       "      <td>None</td>\n",
       "      <td>None</td>\n",
       "      <td>None</td>\n",
       "      <td>LEDAPS</td>\n",
       "      <td>GeoTiff</td>\n",
       "      <td>ETM</td>\n",
       "      <td>None</td>\n",
       "      <td>PROJCS[\"WGS 84\",GEOGCS[\"WGS 84\",DATUM[\"WGS_198...</td>\n",
       "      <td>[-30, 30]</td>\n",
       "      <td>None</td>\n",
       "      <td>(y, x)</td>\n",
       "    </tr>\n",
       "    <tr>\n",
       "      <th>1</th>\n",
       "      <td>ls8_usgs_sr_scene</td>\n",
       "      <td>Landsat 8 USGS Collection 1 Level2 Surface Ref...</td>\n",
       "      <td>LANDSAT_8</td>\n",
       "      <td>None</td>\n",
       "      <td>None</td>\n",
       "      <td>None</td>\n",
       "      <td>None</td>\n",
       "      <td>LaSRC</td>\n",
       "      <td>GeoTiff</td>\n",
       "      <td>OLI_TIRS</td>\n",
       "      <td>None</td>\n",
       "      <td>PROJCS[\"WGS 84\",GEOGCS[\"WGS 84\",DATUM[\"WGS_198...</td>\n",
       "      <td>[-30, 30]</td>\n",
       "      <td>None</td>\n",
       "      <td>(y, x)</td>\n",
       "    </tr>\n",
       "    <tr>\n",
       "      <th>5</th>\n",
       "      <td>ls_level2_geomedian_annual</td>\n",
       "      <td>Landsat Level-2 Annual GeoMedian</td>\n",
       "      <td>LANDSAT_5,LANDSAT_7,LANDSAT_8</td>\n",
       "      <td>None</td>\n",
       "      <td>None</td>\n",
       "      <td>None</td>\n",
       "      <td>None</td>\n",
       "      <td>surface_reflectance_statistical_summary</td>\n",
       "      <td>GeoTiff</td>\n",
       "      <td>TM,ETM,OLI_TIRS</td>\n",
       "      <td>None</td>\n",
       "      <td>EPSG:32648</td>\n",
       "      <td>[-30, 30]</td>\n",
       "      <td>[30720.0, 30720.0]</td>\n",
       "      <td>(y, x)</td>\n",
       "    </tr>\n",
       "    <tr>\n",
       "      <th>9</th>\n",
       "      <td>pet_grids_1979_2016</td>\n",
       "      <td>Daily potential evapo-transpiration (PET) for ...</td>\n",
       "      <td>PET</td>\n",
       "      <td>None</td>\n",
       "      <td>None</td>\n",
       "      <td>None</td>\n",
       "      <td>None</td>\n",
       "      <td>PET</td>\n",
       "      <td>NETCDF</td>\n",
       "      <td>modelled</td>\n",
       "      <td>None</td>\n",
       "      <td>EPSG:4326</td>\n",
       "      <td>[-0.5, 0.5]</td>\n",
       "      <td>None</td>\n",
       "      <td>(latitude, longitude)</td>\n",
       "    </tr>\n",
       "    <tr>\n",
       "      <th>7</th>\n",
       "      <td>rainfall_grids_1998_2017</td>\n",
       "      <td>Interpolated Rain Precipitation 3-hour values ...</td>\n",
       "      <td>rain</td>\n",
       "      <td>None</td>\n",
       "      <td>None</td>\n",
       "      <td>None</td>\n",
       "      <td>None</td>\n",
       "      <td>rainfall</td>\n",
       "      <td>NETCDF</td>\n",
       "      <td>rain gauge</td>\n",
       "      <td>None</td>\n",
       "      <td>EPSG:4326</td>\n",
       "      <td>[-0.25, 0.25]</td>\n",
       "      <td>None</td>\n",
       "      <td>(latitude, longitude)</td>\n",
       "    </tr>\n",
       "    <tr>\n",
       "      <th>14</th>\n",
       "      <td>spei_monthly_grids_1998_2017</td>\n",
       "      <td>The Standardised Precipitation-Evapotranspirat...</td>\n",
       "      <td>spei</td>\n",
       "      <td>None</td>\n",
       "      <td>None</td>\n",
       "      <td>None</td>\n",
       "      <td>None</td>\n",
       "      <td>spei</td>\n",
       "      <td>NETCDF</td>\n",
       "      <td>modelled</td>\n",
       "      <td>None</td>\n",
       "      <td>EPSG:4326</td>\n",
       "      <td>[-0.5, 0.5]</td>\n",
       "      <td>None</td>\n",
       "      <td>(latitude, longitude)</td>\n",
       "    </tr>\n",
       "    <tr>\n",
       "      <th>8</th>\n",
       "      <td>temperature_grids_1979_2016</td>\n",
       "      <td>Near surface air temperature at 2 m at three h...</td>\n",
       "      <td>temperature</td>\n",
       "      <td>None</td>\n",
       "      <td>None</td>\n",
       "      <td>None</td>\n",
       "      <td>None</td>\n",
       "      <td>temperature</td>\n",
       "      <td>NETCDF</td>\n",
       "      <td>modelled</td>\n",
       "      <td>None</td>\n",
       "      <td>EPSG:4326</td>\n",
       "      <td>[-0.5, 0.5]</td>\n",
       "      <td>None</td>\n",
       "      <td>(latitude, longitude)</td>\n",
       "    </tr>\n",
       "    <tr>\n",
       "      <th>11</th>\n",
       "      <td>wofs_grids_1987_2017</td>\n",
       "      <td>Water Observations from Space (WOfS) for Cambo...</td>\n",
       "      <td>None</td>\n",
       "      <td>None</td>\n",
       "      <td>None</td>\n",
       "      <td>None</td>\n",
       "      <td>None</td>\n",
       "      <td>water_classifier_statistical_summary</td>\n",
       "      <td>GeoTiff</td>\n",
       "      <td>None</td>\n",
       "      <td>None</td>\n",
       "      <td>EPSG:32648</td>\n",
       "      <td>[-30, 30]</td>\n",
       "      <td>None</td>\n",
       "      <td>(y, x)</td>\n",
       "    </tr>\n",
       "  </tbody>\n",
       "</table>\n",
       "</div>"
      ],
      "text/plain": [
       "                            name  \\\n",
       "id                                 \n",
       "10           dem_3sec_hydrosheds   \n",
       "6              ls5_usgs_sr_scene   \n",
       "2              ls7_usgs_sr_scene   \n",
       "1              ls8_usgs_sr_scene   \n",
       "5     ls_level2_geomedian_annual   \n",
       "9            pet_grids_1979_2016   \n",
       "7       rainfall_grids_1998_2017   \n",
       "14  spei_monthly_grids_1998_2017   \n",
       "8    temperature_grids_1979_2016   \n",
       "11          wofs_grids_1987_2017   \n",
       "\n",
       "                                          description  \\\n",
       "id                                                      \n",
       "10  three sec hydrologically conditioned Digital E...   \n",
       "6   Landsat 5 USGS Collection 1 Level2 Surface Ref...   \n",
       "2   Landsat 7 USGS Collection 1 Level2 Surface Ref...   \n",
       "1   Landsat 8 USGS Collection 1 Level2 Surface Ref...   \n",
       "5                    Landsat Level-2 Annual GeoMedian   \n",
       "9   Daily potential evapo-transpiration (PET) for ...   \n",
       "7   Interpolated Rain Precipitation 3-hour values ...   \n",
       "14  The Standardised Precipitation-Evapotranspirat...   \n",
       "8   Near surface air temperature at 2 m at three h...   \n",
       "11  Water Observations from Space (WOfS) for Cambo...   \n",
       "\n",
       "                         platform   lon label creation_time   lat  \\\n",
       "id                                                                  \n",
       "10                      elevation  None  None          None  None   \n",
       "6                       LANDSAT_5  None  None          None  None   \n",
       "2                       LANDSAT_7  None  None          None  None   \n",
       "1                       LANDSAT_8  None  None          None  None   \n",
       "5   LANDSAT_5,LANDSAT_7,LANDSAT_8  None  None          None  None   \n",
       "9                             PET  None  None          None  None   \n",
       "7                            rain  None  None          None  None   \n",
       "14                           spei  None  None          None  None   \n",
       "8                     temperature  None  None          None  None   \n",
       "11                           None  None  None          None  None   \n",
       "\n",
       "                               product_type   format       instrument  time  \\\n",
       "id                                                                            \n",
       "10                                elevation   NETCDF    shuttle radar  None   \n",
       "6                                    LEDAPS  GeoTiff               TM  None   \n",
       "2                                    LEDAPS  GeoTiff              ETM  None   \n",
       "1                                     LaSRC  GeoTiff         OLI_TIRS  None   \n",
       "5   surface_reflectance_statistical_summary  GeoTiff  TM,ETM,OLI_TIRS  None   \n",
       "9                                       PET   NETCDF         modelled  None   \n",
       "7                                  rainfall   NETCDF       rain gauge  None   \n",
       "14                                     spei   NETCDF         modelled  None   \n",
       "8                               temperature   NETCDF         modelled  None   \n",
       "11     water_classifier_statistical_summary  GeoTiff             None  None   \n",
       "\n",
       "                                                  crs           resolution  \\\n",
       "id                                                                           \n",
       "10                                          EPSG:4326  [-0.00083, 0.00083]   \n",
       "6   PROJCS[\"WGS 84\",GEOGCS[\"WGS 84\",DATUM[\"WGS_198...            [-30, 30]   \n",
       "2   PROJCS[\"WGS 84\",GEOGCS[\"WGS 84\",DATUM[\"WGS_198...            [-30, 30]   \n",
       "1   PROJCS[\"WGS 84\",GEOGCS[\"WGS 84\",DATUM[\"WGS_198...            [-30, 30]   \n",
       "5                                          EPSG:32648            [-30, 30]   \n",
       "9                                           EPSG:4326          [-0.5, 0.5]   \n",
       "7                                           EPSG:4326        [-0.25, 0.25]   \n",
       "14                                          EPSG:4326          [-0.5, 0.5]   \n",
       "8                                           EPSG:4326          [-0.5, 0.5]   \n",
       "11                                         EPSG:32648            [-30, 30]   \n",
       "\n",
       "             tile_size     spatial_dimensions  \n",
       "id                                             \n",
       "10                None  (latitude, longitude)  \n",
       "6                 None                 (y, x)  \n",
       "2                 None                 (y, x)  \n",
       "1                 None                 (y, x)  \n",
       "5   [30720.0, 30720.0]                 (y, x)  \n",
       "9                 None  (latitude, longitude)  \n",
       "7                 None  (latitude, longitude)  \n",
       "14                None  (latitude, longitude)  \n",
       "8                 None  (latitude, longitude)  \n",
       "11                None                 (y, x)  "
      ]
     },
     "execution_count": 6,
     "metadata": {},
     "output_type": "execute_result"
    }
   ],
   "source": [
    "dc.list_products()\n",
    "# dc.list_measurements()"
   ]
  },
  {
   "cell_type": "code",
   "execution_count": 7,
   "metadata": {
    "ExecuteTime": {
     "end_time": "2018-09-04T05:34:15.657920Z",
     "start_time": "2018-09-04T05:34:15.654309Z"
    }
   },
   "outputs": [],
   "source": [
    "product_id = 'ls5_usgs_sr_scene'\n",
    "measurement_id = ['nir','red']"
   ]
  },
  {
   "cell_type": "code",
   "execution_count": 8,
   "metadata": {
    "ExecuteTime": {
     "end_time": "2018-09-04T05:34:20.336154Z",
     "start_time": "2018-09-04T05:34:17.549298Z"
    }
   },
   "outputs": [
    {
     "data": {
      "text/plain": [
       "(CRS('PROJCS[\"WGS 84\",GEOGCS[\"WGS 84\",DATUM[\"WGS_1984\",SPHEROID[\"WGS 84\",6378137,298.257223563,AUTHORITY[\"EPSG\",\"7030\"]],AUTHORITY[\"EPSG\",\"6326\"]],PRIMEM[\"Greenwich\",0,AUTHORITY[\"EPSG\",\"8901\"]],UNIT[\"degree\",0.0174532925199433,AUTHORITY[\"EPSG\",\"9122\"]],AUTHORITY[\"EPSG\",\"4326\"]],PROJECTION[\"Transverse_Mercator\"],PARAMETER[\"latitude_of_origin\",0],PARAMETER[\"central_meridian\",105],PARAMETER[\"scale_factor\",0.9996],PARAMETER[\"false_easting\",500000],PARAMETER[\"false_northing\",0],UNIT[\"metre\",1,AUTHORITY[\"EPSG\",\"9001\"]],AXIS[\"Easting\",EAST],AXIS[\"Northing\",NORTH]]'),\n",
       " [-30, 30],\n",
       " (0.0, 0.0))"
      ]
     },
     "execution_count": 8,
     "metadata": {},
     "output_type": "execute_result"
    }
   ],
   "source": [
    "product = dc.index.products.get_by_name(product_id)\n",
    "datasets = dc.find_datasets(product=product_id)\n",
    "crs = product.grid_spec.crs\n",
    "resolution = product.grid_spec.resolution\n",
    "align = product.grid_spec.alignment\n",
    "\n",
    "crs, resolution, align"
   ]
  },
  {
   "cell_type": "code",
   "execution_count": 9,
   "metadata": {
    "ExecuteTime": {
     "end_time": "2018-09-04T05:34:20.346558Z",
     "start_time": "2018-09-04T05:34:20.341202Z"
    }
   },
   "outputs": [
    {
     "data": {
      "text/plain": [
       "[-30, 30]"
      ]
     },
     "execution_count": 9,
     "metadata": {},
     "output_type": "execute_result"
    }
   ],
   "source": [
    "upsample = 1\n",
    "hi_resolution = [r * upsample for r in resolution]\n",
    "hi_resolution"
   ]
  },
  {
   "cell_type": "code",
   "execution_count": 10,
   "metadata": {
    "ExecuteTime": {
     "end_time": "2018-09-04T05:34:20.364107Z",
     "start_time": "2018-09-04T05:34:20.349119Z"
    }
   },
   "outputs": [],
   "source": [
    "shapes = get_shapes(shape_file)"
   ]
  },
  {
   "cell_type": "markdown",
   "metadata": {},
   "source": [
    "## load data for catchments"
   ]
  },
  {
   "cell_type": "code",
   "execution_count": 11,
   "metadata": {
    "ExecuteTime": {
     "end_time": "2018-09-04T05:34:21.557797Z",
     "start_time": "2018-09-04T05:34:21.554036Z"
    }
   },
   "outputs": [],
   "source": [
    "from datacube.storage import masking\n",
    "from datacube.storage.masking import mask_to_dict\n",
    "import numpy as np"
   ]
  },
  {
   "cell_type": "code",
   "execution_count": 12,
   "metadata": {
    "ExecuteTime": {
     "end_time": "2018-09-04T05:34:22.762299Z",
     "start_time": "2018-09-04T05:34:22.758406Z"
    }
   },
   "outputs": [],
   "source": [
    "# #define temporal range ()\n",
    "# start_of_epoch = '2010-01-01'\n",
    "# end_of_epoch =  '2015-01-01'\n",
    "# query = {'time': (start_of_epoch, end_of_epoch),}\n",
    "\n",
    "# print(query)\n"
   ]
  },
  {
   "cell_type": "code",
   "execution_count": 13,
   "metadata": {
    "ExecuteTime": {
     "end_time": "2018-09-05T04:14:03.489046Z",
     "start_time": "2018-09-04T05:34:24.324936Z"
    },
    "scrolled": false
   },
   "outputs": [
    {
     "name": "stdout",
     "output_type": "stream",
     "text": [
      "17\n",
      "18\n",
      "19\n",
      "20\n",
      "21\n",
      "22\n",
      "23\n",
      "24\n",
      "25\n",
      "26\n",
      "27\n",
      "28\n",
      "29\n",
      "30\n",
      "31\n",
      "32\n",
      "33\n",
      "34\n",
      "35\n",
      "36\n",
      "37\n",
      "38\n",
      "39\n",
      "40\n",
      "41\n",
      "42\n",
      "43\n",
      "44\n",
      "45\n",
      "46\n",
      "47\n",
      "48\n",
      "49\n",
      "50\n",
      "51\n",
      "52\n",
      "53\n",
      "54\n",
      "55\n",
      "56\n",
      "57\n",
      "58\n",
      "59\n",
      "60\n",
      "61\n",
      "62\n",
      "63\n",
      "64\n",
      "65\n",
      "66\n",
      "67\n",
      "68\n",
      "69\n",
      "70\n",
      "71\n",
      "72\n",
      "73\n",
      "74\n",
      "75\n"
     ]
    },
    {
     "name": "stderr",
     "output_type": "stream",
     "text": [
      "distributed.nanny - WARNING - Worker exceeded 95% memory budget.  Restarting\n",
      "distributed.nanny - WARNING - Worker process 22913 was killed by unknown signal\n",
      "distributed.nanny - WARNING - Restarting worker\n"
     ]
    },
    {
     "name": "stdout",
     "output_type": "stream",
     "text": [
      "76\n",
      "77\n",
      "78\n",
      "79\n",
      "80\n",
      "81\n",
      "82\n",
      "83\n",
      "84\n",
      "85\n",
      "86\n",
      "87\n",
      "88\n",
      "89\n",
      "90\n",
      "91\n",
      "92\n",
      "93\n"
     ]
    },
    {
     "name": "stderr",
     "output_type": "stream",
     "text": [
      "distributed.nanny - WARNING - Worker exceeded 95% memory budget.  Restarting\n",
      "distributed.nanny - WARNING - Worker exceeded 95% memory budget.  Restarting\n",
      "distributed.nanny - WARNING - Worker process 22912 was killed by unknown signal\n",
      "distributed.nanny - WARNING - Restarting worker\n"
     ]
    },
    {
     "name": "stdout",
     "output_type": "stream",
     "text": [
      "94\n",
      "95\n",
      "96\n",
      "97\n",
      "98\n",
      "99\n",
      "100\n",
      "101\n",
      "102\n",
      "103\n",
      "104\n",
      "105\n",
      "106\n",
      "107\n",
      "108\n",
      "109\n",
      "110\n",
      "111\n",
      "112\n",
      "113\n",
      "114\n",
      "115\n",
      "116\n",
      "117\n",
      "118\n",
      "119\n",
      "120\n",
      "121\n",
      "122\n",
      "123\n",
      "124\n",
      "125\n",
      "126\n",
      "127\n"
     ]
    },
    {
     "name": "stderr",
     "output_type": "stream",
     "text": [
      "distributed.nanny - WARNING - Restarting worker\n",
      "distributed.nanny - WARNING - Restarting worker\n",
      "distributed.nanny - WARNING - Restarting worker\n",
      "distributed.nanny - WARNING - Restarting worker\n",
      "distributed.nanny - WARNING - Restarting worker\n",
      "distributed.nanny - WARNING - Restarting worker\n",
      "distributed.nanny - WARNING - Restarting worker\n",
      "distributed.nanny - WARNING - Restarting worker\n"
     ]
    },
    {
     "ename": "KeyboardInterrupt",
     "evalue": "",
     "output_type": "error",
     "traceback": [
      "\u001b[0;31m---------------------------------------------------------------------------\u001b[0m",
      "\u001b[0;31mKeyboardInterrupt\u001b[0m                         Traceback (most recent call last)",
      "\u001b[0;32m<ipython-input-13-e9495818df7b>\u001b[0m in \u001b[0;36m<module>\u001b[0;34m()\u001b[0m\n\u001b[1;32m     35\u001b[0m \u001b[0;31m#     print(col)\u001b[0m\u001b[0;34m\u001b[0m\u001b[0;34m\u001b[0m\u001b[0m\n\u001b[1;32m     36\u001b[0m     \u001b[0mloaded_array02\u001b[0m \u001b[0;34m=\u001b[0m \u001b[0;32mNone\u001b[0m\u001b[0;34m\u001b[0m\u001b[0m\n\u001b[0;32m---> 37\u001b[0;31m     \u001b[0mloaded_array02\u001b[0m \u001b[0;34m=\u001b[0m \u001b[0mloaded_array\u001b[0m\u001b[0;34m.\u001b[0m\u001b[0mload\u001b[0m\u001b[0;34m(\u001b[0m\u001b[0;34m)\u001b[0m\u001b[0;34m\u001b[0m\u001b[0m\n\u001b[0m\u001b[1;32m     38\u001b[0m     \u001b[0mloaded_array02\u001b[0m\u001b[0;34m[\u001b[0m\u001b[0;34m'ID'\u001b[0m\u001b[0;34m]\u001b[0m \u001b[0;34m=\u001b[0m \u001b[0;34m(\u001b[0m\u001b[0;34m'time'\u001b[0m\u001b[0;34m,\u001b[0m \u001b[0mnp\u001b[0m\u001b[0;34m.\u001b[0m\u001b[0mrepeat\u001b[0m\u001b[0;34m(\u001b[0m\u001b[0mSCID\u001b[0m\u001b[0;34m,\u001b[0m \u001b[0mloaded_array02\u001b[0m\u001b[0;34m.\u001b[0m\u001b[0mtime\u001b[0m\u001b[0;34m.\u001b[0m\u001b[0msize\u001b[0m\u001b[0;34m)\u001b[0m\u001b[0;34m)\u001b[0m\u001b[0;34m\u001b[0m\u001b[0m\n\u001b[1;32m     39\u001b[0m \u001b[0;34m\u001b[0m\u001b[0m\n",
      "\u001b[0;32m/g/data/v10/public/modules/dea-env/20180629/lib/python3.6/site-packages/xarray/core/dataarray.py\u001b[0m in \u001b[0;36mload\u001b[0;34m(self, **kwargs)\u001b[0m\n\u001b[1;32m    631\u001b[0m         \u001b[0mdask\u001b[0m\u001b[0;34m.\u001b[0m\u001b[0marray\u001b[0m\u001b[0;34m.\u001b[0m\u001b[0mcompute\u001b[0m\u001b[0;34m\u001b[0m\u001b[0m\n\u001b[1;32m    632\u001b[0m         \"\"\"\n\u001b[0;32m--> 633\u001b[0;31m         \u001b[0mds\u001b[0m \u001b[0;34m=\u001b[0m \u001b[0mself\u001b[0m\u001b[0;34m.\u001b[0m\u001b[0m_to_temp_dataset\u001b[0m\u001b[0;34m(\u001b[0m\u001b[0;34m)\u001b[0m\u001b[0;34m.\u001b[0m\u001b[0mload\u001b[0m\u001b[0;34m(\u001b[0m\u001b[0;34m**\u001b[0m\u001b[0mkwargs\u001b[0m\u001b[0;34m)\u001b[0m\u001b[0;34m\u001b[0m\u001b[0m\n\u001b[0m\u001b[1;32m    634\u001b[0m         \u001b[0mnew\u001b[0m \u001b[0;34m=\u001b[0m \u001b[0mself\u001b[0m\u001b[0;34m.\u001b[0m\u001b[0m_from_temp_dataset\u001b[0m\u001b[0;34m(\u001b[0m\u001b[0mds\u001b[0m\u001b[0;34m)\u001b[0m\u001b[0;34m\u001b[0m\u001b[0m\n\u001b[1;32m    635\u001b[0m         \u001b[0mself\u001b[0m\u001b[0;34m.\u001b[0m\u001b[0m_variable\u001b[0m \u001b[0;34m=\u001b[0m \u001b[0mnew\u001b[0m\u001b[0;34m.\u001b[0m\u001b[0m_variable\u001b[0m\u001b[0;34m\u001b[0m\u001b[0m\n",
      "\u001b[0;32m/g/data/v10/public/modules/dea-env/20180629/lib/python3.6/site-packages/xarray/core/dataset.py\u001b[0m in \u001b[0;36mload\u001b[0;34m(self, **kwargs)\u001b[0m\n\u001b[1;32m    489\u001b[0m \u001b[0;34m\u001b[0m\u001b[0m\n\u001b[1;32m    490\u001b[0m             \u001b[0;31m# evaluate all the dask arrays simultaneously\u001b[0m\u001b[0;34m\u001b[0m\u001b[0;34m\u001b[0m\u001b[0m\n\u001b[0;32m--> 491\u001b[0;31m             \u001b[0mevaluated_data\u001b[0m \u001b[0;34m=\u001b[0m \u001b[0mda\u001b[0m\u001b[0;34m.\u001b[0m\u001b[0mcompute\u001b[0m\u001b[0;34m(\u001b[0m\u001b[0;34m*\u001b[0m\u001b[0mlazy_data\u001b[0m\u001b[0;34m.\u001b[0m\u001b[0mvalues\u001b[0m\u001b[0;34m(\u001b[0m\u001b[0;34m)\u001b[0m\u001b[0;34m,\u001b[0m \u001b[0;34m**\u001b[0m\u001b[0mkwargs\u001b[0m\u001b[0;34m)\u001b[0m\u001b[0;34m\u001b[0m\u001b[0m\n\u001b[0m\u001b[1;32m    492\u001b[0m \u001b[0;34m\u001b[0m\u001b[0m\n\u001b[1;32m    493\u001b[0m             \u001b[0;32mfor\u001b[0m \u001b[0mk\u001b[0m\u001b[0;34m,\u001b[0m \u001b[0mdata\u001b[0m \u001b[0;32min\u001b[0m \u001b[0mzip\u001b[0m\u001b[0;34m(\u001b[0m\u001b[0mlazy_data\u001b[0m\u001b[0;34m,\u001b[0m \u001b[0mevaluated_data\u001b[0m\u001b[0;34m)\u001b[0m\u001b[0;34m:\u001b[0m\u001b[0;34m\u001b[0m\u001b[0m\n",
      "\u001b[0;32m/g/data/v10/public/modules/dea-env/20180629/lib/python3.6/site-packages/dask/base.py\u001b[0m in \u001b[0;36mcompute\u001b[0;34m(*args, **kwargs)\u001b[0m\n\u001b[1;32m    400\u001b[0m     \u001b[0mkeys\u001b[0m \u001b[0;34m=\u001b[0m \u001b[0;34m[\u001b[0m\u001b[0mx\u001b[0m\u001b[0;34m.\u001b[0m\u001b[0m__dask_keys__\u001b[0m\u001b[0;34m(\u001b[0m\u001b[0;34m)\u001b[0m \u001b[0;32mfor\u001b[0m \u001b[0mx\u001b[0m \u001b[0;32min\u001b[0m \u001b[0mcollections\u001b[0m\u001b[0;34m]\u001b[0m\u001b[0;34m\u001b[0m\u001b[0m\n\u001b[1;32m    401\u001b[0m     \u001b[0mpostcomputes\u001b[0m \u001b[0;34m=\u001b[0m \u001b[0;34m[\u001b[0m\u001b[0mx\u001b[0m\u001b[0;34m.\u001b[0m\u001b[0m__dask_postcompute__\u001b[0m\u001b[0;34m(\u001b[0m\u001b[0;34m)\u001b[0m \u001b[0;32mfor\u001b[0m \u001b[0mx\u001b[0m \u001b[0;32min\u001b[0m \u001b[0mcollections\u001b[0m\u001b[0;34m]\u001b[0m\u001b[0;34m\u001b[0m\u001b[0m\n\u001b[0;32m--> 402\u001b[0;31m     \u001b[0mresults\u001b[0m \u001b[0;34m=\u001b[0m \u001b[0mschedule\u001b[0m\u001b[0;34m(\u001b[0m\u001b[0mdsk\u001b[0m\u001b[0;34m,\u001b[0m \u001b[0mkeys\u001b[0m\u001b[0;34m,\u001b[0m \u001b[0;34m**\u001b[0m\u001b[0mkwargs\u001b[0m\u001b[0;34m)\u001b[0m\u001b[0;34m\u001b[0m\u001b[0m\n\u001b[0m\u001b[1;32m    403\u001b[0m     \u001b[0;32mreturn\u001b[0m \u001b[0mrepack\u001b[0m\u001b[0;34m(\u001b[0m\u001b[0;34m[\u001b[0m\u001b[0mf\u001b[0m\u001b[0;34m(\u001b[0m\u001b[0mr\u001b[0m\u001b[0;34m,\u001b[0m \u001b[0;34m*\u001b[0m\u001b[0ma\u001b[0m\u001b[0;34m)\u001b[0m \u001b[0;32mfor\u001b[0m \u001b[0mr\u001b[0m\u001b[0;34m,\u001b[0m \u001b[0;34m(\u001b[0m\u001b[0mf\u001b[0m\u001b[0;34m,\u001b[0m \u001b[0ma\u001b[0m\u001b[0;34m)\u001b[0m \u001b[0;32min\u001b[0m \u001b[0mzip\u001b[0m\u001b[0;34m(\u001b[0m\u001b[0mresults\u001b[0m\u001b[0;34m,\u001b[0m \u001b[0mpostcomputes\u001b[0m\u001b[0;34m)\u001b[0m\u001b[0;34m]\u001b[0m\u001b[0;34m)\u001b[0m\u001b[0;34m\u001b[0m\u001b[0m\n\u001b[1;32m    404\u001b[0m \u001b[0;34m\u001b[0m\u001b[0m\n",
      "\u001b[0;32m/g/data/v10/public/modules/dea-env/20180629/lib/python3.6/site-packages/distributed/client.py\u001b[0m in \u001b[0;36mget\u001b[0;34m(self, dsk, keys, restrictions, loose_restrictions, resources, sync, asynchronous, direct, retries, priority, fifo_timeout, **kwargs)\u001b[0m\n\u001b[1;32m   2157\u001b[0m             \u001b[0;32mtry\u001b[0m\u001b[0;34m:\u001b[0m\u001b[0;34m\u001b[0m\u001b[0m\n\u001b[1;32m   2158\u001b[0m                 results = self.gather(packed, asynchronous=asynchronous,\n\u001b[0;32m-> 2159\u001b[0;31m                                       direct=direct)\n\u001b[0m\u001b[1;32m   2160\u001b[0m             \u001b[0;32mfinally\u001b[0m\u001b[0;34m:\u001b[0m\u001b[0;34m\u001b[0m\u001b[0m\n\u001b[1;32m   2161\u001b[0m                 \u001b[0;32mfor\u001b[0m \u001b[0mf\u001b[0m \u001b[0;32min\u001b[0m \u001b[0mfutures\u001b[0m\u001b[0;34m.\u001b[0m\u001b[0mvalues\u001b[0m\u001b[0;34m(\u001b[0m\u001b[0;34m)\u001b[0m\u001b[0;34m:\u001b[0m\u001b[0;34m\u001b[0m\u001b[0m\n",
      "\u001b[0;32m/g/data/v10/public/modules/dea-env/20180629/lib/python3.6/site-packages/distributed/client.py\u001b[0m in \u001b[0;36mgather\u001b[0;34m(self, futures, errors, maxsize, direct, asynchronous)\u001b[0m\n\u001b[1;32m   1560\u001b[0m             return self.sync(self._gather, futures, errors=errors,\n\u001b[1;32m   1561\u001b[0m                              \u001b[0mdirect\u001b[0m\u001b[0;34m=\u001b[0m\u001b[0mdirect\u001b[0m\u001b[0;34m,\u001b[0m \u001b[0mlocal_worker\u001b[0m\u001b[0;34m=\u001b[0m\u001b[0mlocal_worker\u001b[0m\u001b[0;34m,\u001b[0m\u001b[0;34m\u001b[0m\u001b[0m\n\u001b[0;32m-> 1562\u001b[0;31m                              asynchronous=asynchronous)\n\u001b[0m\u001b[1;32m   1563\u001b[0m \u001b[0;34m\u001b[0m\u001b[0m\n\u001b[1;32m   1564\u001b[0m     \u001b[0;34m@\u001b[0m\u001b[0mgen\u001b[0m\u001b[0;34m.\u001b[0m\u001b[0mcoroutine\u001b[0m\u001b[0;34m\u001b[0m\u001b[0m\n",
      "\u001b[0;32m/g/data/v10/public/modules/dea-env/20180629/lib/python3.6/site-packages/distributed/client.py\u001b[0m in \u001b[0;36msync\u001b[0;34m(self, func, *args, **kwargs)\u001b[0m\n\u001b[1;32m    650\u001b[0m             \u001b[0;32mreturn\u001b[0m \u001b[0mfuture\u001b[0m\u001b[0;34m\u001b[0m\u001b[0m\n\u001b[1;32m    651\u001b[0m         \u001b[0;32melse\u001b[0m\u001b[0;34m:\u001b[0m\u001b[0;34m\u001b[0m\u001b[0m\n\u001b[0;32m--> 652\u001b[0;31m             \u001b[0;32mreturn\u001b[0m \u001b[0msync\u001b[0m\u001b[0;34m(\u001b[0m\u001b[0mself\u001b[0m\u001b[0;34m.\u001b[0m\u001b[0mloop\u001b[0m\u001b[0;34m,\u001b[0m \u001b[0mfunc\u001b[0m\u001b[0;34m,\u001b[0m \u001b[0;34m*\u001b[0m\u001b[0margs\u001b[0m\u001b[0;34m,\u001b[0m \u001b[0;34m**\u001b[0m\u001b[0mkwargs\u001b[0m\u001b[0;34m)\u001b[0m\u001b[0;34m\u001b[0m\u001b[0m\n\u001b[0m\u001b[1;32m    653\u001b[0m \u001b[0;34m\u001b[0m\u001b[0m\n\u001b[1;32m    654\u001b[0m     \u001b[0;32mdef\u001b[0m \u001b[0m__repr__\u001b[0m\u001b[0;34m(\u001b[0m\u001b[0mself\u001b[0m\u001b[0;34m)\u001b[0m\u001b[0;34m:\u001b[0m\u001b[0;34m\u001b[0m\u001b[0m\n",
      "\u001b[0;32m/g/data/v10/public/modules/dea-env/20180629/lib/python3.6/site-packages/distributed/utils.py\u001b[0m in \u001b[0;36msync\u001b[0;34m(loop, func, *args, **kwargs)\u001b[0m\n\u001b[1;32m    271\u001b[0m     \u001b[0;32melse\u001b[0m\u001b[0;34m:\u001b[0m\u001b[0;34m\u001b[0m\u001b[0m\n\u001b[1;32m    272\u001b[0m         \u001b[0;32mwhile\u001b[0m \u001b[0;32mnot\u001b[0m \u001b[0me\u001b[0m\u001b[0;34m.\u001b[0m\u001b[0mis_set\u001b[0m\u001b[0;34m(\u001b[0m\u001b[0;34m)\u001b[0m\u001b[0;34m:\u001b[0m\u001b[0;34m\u001b[0m\u001b[0m\n\u001b[0;32m--> 273\u001b[0;31m             \u001b[0me\u001b[0m\u001b[0;34m.\u001b[0m\u001b[0mwait\u001b[0m\u001b[0;34m(\u001b[0m\u001b[0;36m10\u001b[0m\u001b[0;34m)\u001b[0m\u001b[0;34m\u001b[0m\u001b[0m\n\u001b[0m\u001b[1;32m    274\u001b[0m     \u001b[0;32mif\u001b[0m \u001b[0merror\u001b[0m\u001b[0;34m[\u001b[0m\u001b[0;36m0\u001b[0m\u001b[0;34m]\u001b[0m\u001b[0;34m:\u001b[0m\u001b[0;34m\u001b[0m\u001b[0m\n\u001b[1;32m    275\u001b[0m         \u001b[0msix\u001b[0m\u001b[0;34m.\u001b[0m\u001b[0mreraise\u001b[0m\u001b[0;34m(\u001b[0m\u001b[0;34m*\u001b[0m\u001b[0merror\u001b[0m\u001b[0;34m[\u001b[0m\u001b[0;36m0\u001b[0m\u001b[0;34m]\u001b[0m\u001b[0;34m)\u001b[0m\u001b[0;34m\u001b[0m\u001b[0m\n",
      "\u001b[0;32m/g/data/v10/public/modules/dea-env/20180629/lib/python3.6/threading.py\u001b[0m in \u001b[0;36mwait\u001b[0;34m(self, timeout)\u001b[0m\n\u001b[1;32m    549\u001b[0m             \u001b[0msignaled\u001b[0m \u001b[0;34m=\u001b[0m \u001b[0mself\u001b[0m\u001b[0;34m.\u001b[0m\u001b[0m_flag\u001b[0m\u001b[0;34m\u001b[0m\u001b[0m\n\u001b[1;32m    550\u001b[0m             \u001b[0;32mif\u001b[0m \u001b[0;32mnot\u001b[0m \u001b[0msignaled\u001b[0m\u001b[0;34m:\u001b[0m\u001b[0;34m\u001b[0m\u001b[0m\n\u001b[0;32m--> 551\u001b[0;31m                 \u001b[0msignaled\u001b[0m \u001b[0;34m=\u001b[0m \u001b[0mself\u001b[0m\u001b[0;34m.\u001b[0m\u001b[0m_cond\u001b[0m\u001b[0;34m.\u001b[0m\u001b[0mwait\u001b[0m\u001b[0;34m(\u001b[0m\u001b[0mtimeout\u001b[0m\u001b[0;34m)\u001b[0m\u001b[0;34m\u001b[0m\u001b[0m\n\u001b[0m\u001b[1;32m    552\u001b[0m             \u001b[0;32mreturn\u001b[0m \u001b[0msignaled\u001b[0m\u001b[0;34m\u001b[0m\u001b[0m\n\u001b[1;32m    553\u001b[0m \u001b[0;34m\u001b[0m\u001b[0m\n",
      "\u001b[0;32m/g/data/v10/public/modules/dea-env/20180629/lib/python3.6/threading.py\u001b[0m in \u001b[0;36mwait\u001b[0;34m(self, timeout)\u001b[0m\n\u001b[1;32m    297\u001b[0m             \u001b[0;32melse\u001b[0m\u001b[0;34m:\u001b[0m\u001b[0;34m\u001b[0m\u001b[0m\n\u001b[1;32m    298\u001b[0m                 \u001b[0;32mif\u001b[0m \u001b[0mtimeout\u001b[0m \u001b[0;34m>\u001b[0m \u001b[0;36m0\u001b[0m\u001b[0;34m:\u001b[0m\u001b[0;34m\u001b[0m\u001b[0m\n\u001b[0;32m--> 299\u001b[0;31m                     \u001b[0mgotit\u001b[0m \u001b[0;34m=\u001b[0m \u001b[0mwaiter\u001b[0m\u001b[0;34m.\u001b[0m\u001b[0macquire\u001b[0m\u001b[0;34m(\u001b[0m\u001b[0;32mTrue\u001b[0m\u001b[0;34m,\u001b[0m \u001b[0mtimeout\u001b[0m\u001b[0;34m)\u001b[0m\u001b[0;34m\u001b[0m\u001b[0m\n\u001b[0m\u001b[1;32m    300\u001b[0m                 \u001b[0;32melse\u001b[0m\u001b[0;34m:\u001b[0m\u001b[0;34m\u001b[0m\u001b[0m\n\u001b[1;32m    301\u001b[0m                     \u001b[0mgotit\u001b[0m \u001b[0;34m=\u001b[0m \u001b[0mwaiter\u001b[0m\u001b[0;34m.\u001b[0m\u001b[0macquire\u001b[0m\u001b[0;34m(\u001b[0m\u001b[0;32mFalse\u001b[0m\u001b[0;34m)\u001b[0m\u001b[0;34m\u001b[0m\u001b[0m\n",
      "\u001b[0;31mKeyboardInterrupt\u001b[0m: "
     ]
    }
   ],
   "source": [
    "loaded_xr = {}\n",
    "for geometry, properties in shapes:\n",
    "    geobox = datacube.utils.geometry.GeoBox.from_geopolygon(geometry, hi_resolution, crs, align)\n",
    "    sensor_nbar = dc.load(product=product_id, \n",
    "               measurement=measurement_id, \n",
    "               datasets=datasets, \n",
    "               dask_chunks={'time': 1}, \n",
    "               geopolygon=geometry,\n",
    "               group_by='solar_day', \n",
    "               resolution=hi_resolution,)\n",
    "    #retrieve the projection information before masking/sorting\n",
    "    crs = sensor_nbar.crs\n",
    "    crswkt = sensor_nbar.crs.wkt\n",
    "    affine = sensor_nbar.affine\n",
    "    #assign pq data variable\n",
    "    sensor_pq= sensor_nbar.pixel_qa\n",
    "    mask_components = {'cloud_shadow': 'no_cloud_shadow',\n",
    "                           'cloud': 'no_cloud',}\n",
    "    good_data = masking.make_mask(sensor_pq, **mask_components)\n",
    "#     good_data = quality_mask.loc[start_of_epoch:end_of_epoch]\n",
    "    sensor_nbar2 = sensor_nbar.where(good_data)\n",
    "    del sensor_nbar\n",
    "    del good_data\n",
    "    SCID = properties['SCID']    \n",
    "\n",
    "    print(SCID)\n",
    "    \n",
    "    mask = geometry_mask([geometry], geobox, all_touched=True, invert=True)\n",
    "    data_array = None\n",
    "    data_array = (sensor_nbar2.nir - sensor_nbar2.red)/(sensor_nbar2.nir+sensor_nbar2.red)\n",
    "    data_array = data_array.where(mask)\n",
    "    loaded_array = None\n",
    "    loaded_array = data_array.mean(dim=['y', 'x'])\n",
    "    col = loaded_array.time.values\n",
    "#     print(col)\n",
    "    loaded_array02 = None\n",
    "    loaded_array02 = loaded_array.load()\n",
    "    loaded_array02['ID'] = ('time', np.repeat(SCID, loaded_array02.time.size))\n",
    "    \n",
    "    del data_array\n",
    "    \n",
    "    loaded_xr[SCID] = loaded_array02\n",
    "\n",
    "    \n",
    "    del loaded_array\n",
    "    del loaded_array02\n",
    "\n",
    "# loaded_clean = xr.concat(loaded_xr.values(), 'time')\n",
    "# loaded_clean = loaded_clean.sortby('time')\n",
    "# loaded_clean.attrs['crs'] = crs\n",
    "# loaded_clean.attrs['affin|e'] = affine   \n",
    "    \n",
    "# \n",
    "#     loaded_pd = pd.DataFrame.from_dict(loaded_xr)\n",
    "#     loaded_pd.index = col.astype('datetime64[D]')"
   ]
  },
  {
   "cell_type": "code",
   "execution_count": 14,
   "metadata": {
    "ExecuteTime": {
     "end_time": "2018-09-05T04:14:09.720858Z",
     "start_time": "2018-09-05T04:14:08.760432Z"
    }
   },
   "outputs": [],
   "source": [
    "loaded_pd = pd.DataFrame.from_dict(loaded_xr)#, orient='index')\n",
    "loaded_pd.index = col.astype('datetime64[D]')\n",
    "\n",
    "masked_pd = loaded_pd.where(loaded_pd != 0.000000)"
   ]
  },
  {
   "cell_type": "code",
   "execution_count": 15,
   "metadata": {
    "ExecuteTime": {
     "end_time": "2018-09-05T04:14:10.416469Z",
     "start_time": "2018-09-05T04:14:10.398972Z"
    }
   },
   "outputs": [
    {
     "data": {
      "text/plain": [
       "17     0.000000e+00\n",
       "18    -2.065186e-01\n",
       "19    -1.881070e-07\n",
       "20    -3.201579e-01\n",
       "21     0.000000e+00\n",
       "22             -inf\n",
       "23    -3.887064e-01\n",
       "24    -2.450082e-01\n",
       "25    -1.875195e-01\n",
       "26    -5.225484e-02\n",
       "27    -3.337842e-02\n",
       "28    -1.050758e-01\n",
       "29    -3.708788e-01\n",
       "30    -3.933411e-01\n",
       "31    -3.739552e-01\n",
       "32    -2.846465e-01\n",
       "33    -1.622867e-01\n",
       "34    -1.134261e-01\n",
       "35    -5.029398e-02\n",
       "36     0.000000e+00\n",
       "37    -3.609331e-01\n",
       "38    -2.531238e-01\n",
       "39    -2.427903e-01\n",
       "40    -1.696390e-01\n",
       "41    -2.069141e-01\n",
       "42    -1.228837e-01\n",
       "43    -1.482246e-05\n",
       "44     0.000000e+00\n",
       "45             -inf\n",
       "46    -3.558588e-01\n",
       "           ...     \n",
       "97    -5.770559e-02\n",
       "98    -2.031520e-01\n",
       "99    -1.456386e-01\n",
       "100    0.000000e+00\n",
       "101            -inf\n",
       "102   -3.966546e-01\n",
       "103   -3.054159e-01\n",
       "104   -1.772641e-01\n",
       "105            -inf\n",
       "106   -3.812390e-01\n",
       "107            -inf\n",
       "108   -3.436576e-01\n",
       "109   -1.343124e-01\n",
       "110   -1.982192e-01\n",
       "111   -2.178633e-01\n",
       "112   -6.959244e-02\n",
       "113   -2.790760e-01\n",
       "114   -1.272558e-01\n",
       "115   -2.213610e-03\n",
       "116   -1.924303e-01\n",
       "117            -inf\n",
       "118   -3.794170e-01\n",
       "119            -inf\n",
       "120   -3.831145e-02\n",
       "121            -inf\n",
       "122   -2.392000e-01\n",
       "123   -2.441574e-01\n",
       "124   -1.554901e-01\n",
       "125   -2.272385e-01\n",
       "126   -9.702125e-02\n",
       "Length: 110, dtype: float64"
      ]
     },
     "execution_count": 15,
     "metadata": {},
     "output_type": "execute_result"
    }
   ],
   "source": [
    "loaded_pd.min()"
   ]
  },
  {
   "cell_type": "code",
   "execution_count": 16,
   "metadata": {
    "ExecuteTime": {
     "end_time": "2018-09-05T04:14:20.168521Z",
     "start_time": "2018-09-05T04:14:19.850009Z"
    }
   },
   "outputs": [],
   "source": [
    "csv_out = '/g/data/u46/users/ext547/ewater/input_data/Cambodia_boundary/'+str(product_id)+'_smallcatch_v2_out.csv'\n",
    "masked_pd.to_csv(csv_out)"
   ]
  },
  {
   "cell_type": "code",
   "execution_count": null,
   "metadata": {
    "ExecuteTime": {
     "end_time": "2018-09-03T23:35:10.732780Z",
     "start_time": "2018-09-03T23:35:10.533603Z"
    }
   },
   "outputs": [],
   "source": [
    "loaded_xr"
   ]
  },
  {
   "cell_type": "code",
   "execution_count": null,
   "metadata": {
    "ExecuteTime": {
     "end_time": "2018-08-28T23:34:38.185188Z",
     "start_time": "2018-08-28T23:34:38.164206Z"
    }
   },
   "outputs": [],
   "source": [
    "# loaded_pd = pd.DataFrame.from_dict(loaded_xr)\n",
    "# loaded_pd.head()"
   ]
  },
  {
   "cell_type": "code",
   "execution_count": null,
   "metadata": {
    "ExecuteTime": {
     "end_time": "2018-08-28T23:32:01.336170Z",
     "start_time": "2018-08-28T23:32:01.330741Z"
    }
   },
   "outputs": [],
   "source": [
    "# ls7_masked_pd = loaded_pd.where(loaded_pd != 0.000000)\n",
    "# ls7_masked_pd"
   ]
  },
  {
   "cell_type": "code",
   "execution_count": null,
   "metadata": {
    "ExecuteTime": {
     "end_time": "2018-08-29T00:59:01.057600Z",
     "start_time": "2018-08-29T00:58:59.960285Z"
    }
   },
   "outputs": [],
   "source": [
    "ls5_masked_pd = loaded_pd.where(loaded_pd != 0.000000)\n",
    "ls5_masked_pd.head()"
   ]
  },
  {
   "cell_type": "code",
   "execution_count": null,
   "metadata": {
    "ExecuteTime": {
     "end_time": "2018-08-28T23:35:26.894111Z",
     "start_time": "2018-08-28T23:35:26.889669Z"
    }
   },
   "outputs": [],
   "source": [
    "from matplotlib import pyplot as plt"
   ]
  },
  {
   "cell_type": "code",
   "execution_count": null,
   "metadata": {
    "ExecuteTime": {
     "end_time": "2018-08-29T00:59:52.770789Z",
     "start_time": "2018-08-29T00:59:52.727601Z"
    }
   },
   "outputs": [],
   "source": [
    "csv_out = '/g/data/u46/users/ext547/ewater/input_data/Cambodia_boundary/'+str(start_of_epoch)+'_'+str(product_id)+'_out.csv'\n",
    "ls5_masked_pd.to_csv(csv_out)"
   ]
  },
  {
   "cell_type": "code",
   "execution_count": null,
   "metadata": {
    "ExecuteTime": {
     "end_time": "2018-08-28T06:22:54.727837Z",
     "start_time": "2018-08-28T06:22:54.718496Z"
    }
   },
   "outputs": [],
   "source": [
    "datacube.model.__file__"
   ]
  },
  {
   "cell_type": "code",
   "execution_count": null,
   "metadata": {
    "ExecuteTime": {
     "end_time": "2018-08-28T06:20:05.726404Z",
     "start_time": "2018-08-28T06:20:05.696514Z"
    }
   },
   "outputs": [],
   "source": [
    "for k, v in loaded_array.data.dask.items():\n",
    "    v.__getstate__()\n",
    "    "
   ]
  },
  {
   "cell_type": "code",
   "execution_count": null,
   "metadata": {},
   "outputs": [],
   "source": [
    "stop"
   ]
  },
  {
   "cell_type": "code",
   "execution_count": null,
   "metadata": {
    "ExecuteTime": {
     "end_time": "2018-08-28T06:45:24.595889Z",
     "start_time": "2018-08-28T06:45:16.451082Z"
    },
    "scrolled": false
   },
   "outputs": [],
   "source": [
    "loaded_xr = {}\n",
    "for geometry, properties in shapes:\n",
    "    geobox = datacube.utils.geometry.GeoBox.from_geopolygon(geometry, hi_resolution, crs, align)\n",
    "    data = dc.load(product='spei_monthly_grids_1998_2017', \n",
    "               measurement='data.spei_gamma_03', \n",
    "               datasets=datasets, \n",
    "               dask_chunks={'time': 1}, \n",
    "               geopolygon=geometry,\n",
    "               resolution=hi_resolution)\n",
    "    SCID = properties['SCID']\n",
    "    print(SCID)\n",
    "    mask = geometry_mask([geometry], geobox, all_touched=True, invert=True)\n",
    "    rain_array = data.spei_gamma_03.where(data.spei_gamma_03 > -3.1).where(mask)\n",
    "    loaded = rain_array.mean(dim=['latitude', 'longitude']).load();\n",
    "    loaded_xr[SCID] = loaded\n",
    "print(loaded_xr)\n",
    "\n",
    "loaded_pd = pd.DataFrame.from_dict(loaded_xr)\n",
    "\n",
    "col = loaded.time.values\n",
    "loaded_pd.index = col.astype('datetime64[D]')"
   ]
  },
  {
   "cell_type": "code",
   "execution_count": null,
   "metadata": {
    "ExecuteTime": {
     "start_time": "2018-08-24T04:49:05.454Z"
    }
   },
   "outputs": [],
   "source": [
    "loaded_pd"
   ]
  },
  {
   "cell_type": "code",
   "execution_count": null,
   "metadata": {
    "ExecuteTime": {
     "end_time": "2018-08-21T02:17:12.899727Z",
     "start_time": "2018-08-21T02:17:12.734942Z"
    }
   },
   "outputs": [],
   "source": [
    "csv_out = '/g/data/u46/users/ext547/ewater/input_data/Cambodia_boundary/'+str(measurement_id)+'_287_csv_out.csv'\n",
    "loaded_pd.to_csv(csv_out)"
   ]
  },
  {
   "cell_type": "code",
   "execution_count": null,
   "metadata": {},
   "outputs": [],
   "source": []
  },
  {
   "cell_type": "code",
   "execution_count": null,
   "metadata": {},
   "outputs": [],
   "source": []
  },
  {
   "cell_type": "code",
   "execution_count": null,
   "metadata": {},
   "outputs": [],
   "source": []
  },
  {
   "cell_type": "code",
   "execution_count": null,
   "metadata": {},
   "outputs": [],
   "source": []
  },
  {
   "cell_type": "code",
   "execution_count": null,
   "metadata": {},
   "outputs": [],
   "source": []
  },
  {
   "cell_type": "code",
   "execution_count": null,
   "metadata": {},
   "outputs": [],
   "source": []
  },
  {
   "cell_type": "code",
   "execution_count": null,
   "metadata": {},
   "outputs": [],
   "source": []
  },
  {
   "cell_type": "code",
   "execution_count": null,
   "metadata": {
    "ExecuteTime": {
     "end_time": "2018-08-21T00:49:24.651745Z",
     "start_time": "2018-08-21T00:49:24.646867Z"
    }
   },
   "outputs": [],
   "source": [
    "shapes = get_shapes(shape_file)"
   ]
  },
  {
   "cell_type": "code",
   "execution_count": null,
   "metadata": {
    "ExecuteTime": {
     "end_time": "2018-08-21T00:49:25.291317Z",
     "start_time": "2018-08-21T00:49:25.249635Z"
    }
   },
   "outputs": [],
   "source": [
    "geometry, properties = next(shapes)\n",
    "print(f\"{int(geometry.area / (1000*1000))} km^2\")\n",
    "asShape(geometry)"
   ]
  },
  {
   "cell_type": "code",
   "execution_count": null,
   "metadata": {
    "ExecuteTime": {
     "end_time": "2018-08-21T00:50:06.771928Z",
     "start_time": "2018-08-21T00:50:06.760328Z"
    }
   },
   "outputs": [],
   "source": [
    "geobox = datacube.utils.geometry.GeoBox.from_geopolygon(geometry, hi_resolution, crs, align)\n",
    "mask = geometry_mask([geometry], geobox, all_touched=True, invert=True)"
   ]
  },
  {
   "cell_type": "code",
   "execution_count": null,
   "metadata": {
    "ExecuteTime": {
     "end_time": "2018-08-21T00:50:07.515858Z",
     "start_time": "2018-08-21T00:50:07.503880Z"
    }
   },
   "outputs": [],
   "source": [
    "properties"
   ]
  },
  {
   "cell_type": "code",
   "execution_count": null,
   "metadata": {
    "ExecuteTime": {
     "end_time": "2018-08-21T00:50:08.382110Z",
     "start_time": "2018-08-21T00:50:08.369049Z"
    }
   },
   "outputs": [],
   "source": [
    "mask"
   ]
  },
  {
   "cell_type": "code",
   "execution_count": null,
   "metadata": {
    "ExecuteTime": {
     "end_time": "2018-08-21T00:50:11.596070Z",
     "start_time": "2018-08-21T00:50:11.007256Z"
    }
   },
   "outputs": [],
   "source": [
    "mask.plot(size=6, aspect=(mask.shape[1]/mask.shape[0]), add_colorbar=False);"
   ]
  },
  {
   "cell_type": "code",
   "execution_count": null,
   "metadata": {
    "ExecuteTime": {
     "end_time": "2018-08-21T00:50:13.246554Z",
     "start_time": "2018-08-21T00:50:13.212825Z"
    }
   },
   "outputs": [],
   "source": [
    "asShape(geometry)"
   ]
  },
  {
   "cell_type": "code",
   "execution_count": null,
   "metadata": {
    "ExecuteTime": {
     "end_time": "2018-08-21T00:50:41.145307Z",
     "start_time": "2018-08-21T00:50:41.122788Z"
    }
   },
   "outputs": [],
   "source": [
    "data = dc.load(product=product_id, \n",
    "               measurement=measurement_id, \n",
    "               datasets=datasets, \n",
    "               dask_chunks={'time': 1}, \n",
    "               geopolygon=geometry,\n",
    "               resolution=hi_resolution)"
   ]
  },
  {
   "cell_type": "code",
   "execution_count": null,
   "metadata": {
    "ExecuteTime": {
     "end_time": "2018-08-21T00:50:45.339665Z",
     "start_time": "2018-08-21T00:50:45.312761Z"
    }
   },
   "outputs": [],
   "source": [
    "data"
   ]
  },
  {
   "cell_type": "code",
   "execution_count": null,
   "metadata": {
    "ExecuteTime": {
     "end_time": "2018-08-21T01:22:54.994913Z",
     "start_time": "2018-08-21T01:22:54.947766Z"
    }
   },
   "outputs": [],
   "source": [
    "rain_array = data.spei_gamma_03 .where(data.spei_gamma_03  > -3.1).where(mask)"
   ]
  },
  {
   "cell_type": "code",
   "execution_count": null,
   "metadata": {
    "ExecuteTime": {
     "end_time": "2018-08-21T01:24:38.561375Z",
     "start_time": "2018-08-21T01:24:38.542544Z"
    }
   },
   "outputs": [],
   "source": [
    "rain_array"
   ]
  },
  {
   "cell_type": "code",
   "execution_count": null,
   "metadata": {
    "ExecuteTime": {
     "end_time": "2018-08-21T01:25:42.328240Z",
     "start_time": "2018-08-21T01:25:39.636535Z"
    }
   },
   "outputs": [],
   "source": [
    "rain_array.values.max()"
   ]
  },
  {
   "cell_type": "code",
   "execution_count": null,
   "metadata": {
    "ExecuteTime": {
     "end_time": "2018-08-21T01:23:04.332504Z",
     "start_time": "2018-08-21T01:23:01.669573Z"
    }
   },
   "outputs": [],
   "source": [
    "loaded = rain_array.mean(dim=['latitude', 'longitude']).load();"
   ]
  },
  {
   "cell_type": "code",
   "execution_count": null,
   "metadata": {
    "ExecuteTime": {
     "end_time": "2018-08-21T01:23:06.921932Z",
     "start_time": "2018-08-21T01:23:06.904809Z"
    }
   },
   "outputs": [],
   "source": [
    "loaded"
   ]
  },
  {
   "cell_type": "code",
   "execution_count": null,
   "metadata": {
    "ExecuteTime": {
     "end_time": "2018-08-21T01:23:07.833201Z",
     "start_time": "2018-08-21T01:23:07.801697Z"
    }
   },
   "outputs": [],
   "source": [
    "mean_rain = rain_array.mean(dim=['latitude', 'longitude'])\n",
    "mean_rain"
   ]
  },
  {
   "cell_type": "code",
   "execution_count": null,
   "metadata": {
    "ExecuteTime": {
     "end_time": "2018-08-21T01:25:22.231363Z",
     "start_time": "2018-08-21T01:25:19.593000Z"
    }
   },
   "outputs": [],
   "source": [
    "mean_rain.values.max()"
   ]
  },
  {
   "cell_type": "code",
   "execution_count": null,
   "metadata": {
    "ExecuteTime": {
     "end_time": "2018-08-21T01:23:10.549634Z",
     "start_time": "2018-08-21T01:23:10.460357Z"
    }
   },
   "outputs": [],
   "source": [
    "mean_rain.isel(time=4).values"
   ]
  },
  {
   "cell_type": "code",
   "execution_count": null,
   "metadata": {
    "ExecuteTime": {
     "end_time": "2018-08-21T01:23:11.545012Z",
     "start_time": "2018-08-21T01:23:11.122921Z"
    }
   },
   "outputs": [],
   "source": [
    "mean_rain.isel(time=slice(10,15)).plot()"
   ]
  },
  {
   "cell_type": "code",
   "execution_count": null,
   "metadata": {
    "ExecuteTime": {
     "end_time": "2018-08-21T01:23:19.034748Z",
     "start_time": "2018-08-21T01:23:14.398377Z"
    }
   },
   "outputs": [],
   "source": [
    "rain_array[:20].load().plot(col='time', col_wrap=5, size=5, aspect=(mask.shape[1]/mask.shape[0]), add_colorbar=True)"
   ]
  },
  {
   "cell_type": "code",
   "execution_count": null,
   "metadata": {},
   "outputs": [],
   "source": []
  }
 ],
 "metadata": {
  "kernelspec": {
   "display_name": "Python [default]",
   "language": "python",
   "name": "python3"
  },
  "language_info": {
   "codemirror_mode": {
    "name": "ipython",
    "version": 3
   },
   "file_extension": ".py",
   "mimetype": "text/x-python",
   "name": "python",
   "nbconvert_exporter": "python",
   "pygments_lexer": "ipython3",
   "version": "3.6.6"
  }
 },
 "nbformat": 4,
 "nbformat_minor": 2
}
