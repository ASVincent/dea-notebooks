{
 "cells": [
  {
   "cell_type": "markdown",
   "metadata": {},
   "source": [
    "# Calculate potential Evapo-transpiration (PET) girds\n",
    "The purpose of this notebook is to create PET grids as part of the Cambodia/eWater project. The notebook uses daily min,mean and max air temperature grids and the Hargreaves equation."
   ]
  },
  {
   "cell_type": "markdown",
   "metadata": {},
   "source": [
    "## Import Libraries"
   ]
  },
  {
   "cell_type": "code",
   "execution_count": 6,
   "metadata": {
    "ExecuteTime": {
     "end_time": "2018-06-19T04:57:01.655830Z",
     "start_time": "2018-06-19T04:57:01.652338Z"
    }
   },
   "outputs": [],
   "source": [
    "import numpy as np\n",
    "import math as mt\n",
    "from datetime import *\n",
    "import calendar\n",
    "import netCDF4 as nc\n",
    "import xarray as xr\n",
    "import glob"
   ]
  },
  {
   "cell_type": "markdown",
   "metadata": {},
   "source": [
    "## Create Functions"
   ]
  },
  {
   "cell_type": "code",
   "execution_count": 3,
   "metadata": {
    "ExecuteTime": {
     "end_time": "2018-06-13T00:32:28.815437Z",
     "start_time": "2018-06-13T00:32:28.808764Z"
    }
   },
   "outputs": [],
   "source": [
    "#Create function to calculate date from netcdf (as units of netcdf are \"seconds since 20xx-xx-xx 00:00:00\" )\n",
    "def to_date(epoch, time_unit):\n",
    "    time_unit =  datetime.strptime(time_unit, '%Y-%m-%d %H:%M:%S') \n",
    "    return time_unit + timedelta(seconds=epoch)\n",
    "\n",
    "#Create function to calulate julian day of year (days since start of year)\n",
    "def julian_days(epoch, time_unit):\n",
    "    start_of_year = datetime.strptime('01/01/'+ str(time_unit),'%m/%d/%Y')\n",
    "    start_of_month = datetime.strptime(min_xr.time.units[14:], '%Y-%m-%d %H:%M:%S') \n",
    "    epoch = start_of_month + timedelta(seconds=epoch)\n",
    "    j_days = int((((epoch - start_of_year)+timedelta(days=1))/timedelta(days=1)))\n",
    "    return (j_days)\n",
    "\n",
    "#Create function to test whether the year of interest is a leap year\n",
    "def leap_year(year):\n",
    "    if calendar.isleap(int(year)) == True:\n",
    "#         print(str(year) +' is a leap year')\n",
    "        ndy = 366\n",
    "    else:\n",
    "#         print(str(year) +' is not a leap year')\n",
    "        ndy = 365\n",
    "    return(ndy)\n",
    "    "
   ]
  },
  {
   "cell_type": "markdown",
   "metadata": {},
   "source": [
    "## loop through all temperature grids and save as netCDF format"
   ]
  },
  {
   "cell_type": "code",
   "execution_count": 4,
   "metadata": {
    "ExecuteTime": {
     "end_time": "2018-06-13T00:33:41.418411Z",
     "start_time": "2018-06-13T00:32:28.817441Z"
    }
   },
   "outputs": [
    {
     "name": "stdout",
     "output_type": "stream",
     "text": [
      "Processing celsius_Tair_WFDEI_198902.nc now\n",
      "PET_WFDEI_198902.nc is complete\n",
      "Processing celsius_Tair_WFDEI_199102.nc now\n",
      "PET_WFDEI_199102.nc is complete\n",
      "Processing celsius_Tair_WFDEI_198310.nc now\n",
      "PET_WFDEI_198310.nc is complete\n",
      "Processing celsius_Tair_WFDEI_200904.nc now\n",
      "PET_WFDEI_200904.nc is complete\n",
      "Processing celsius_Tair_WFDEI_199609.nc now\n",
      "PET_WFDEI_199609.nc is complete\n",
      "Processing celsius_Tair_WFDEI_201608.nc now\n",
      "PET_WFDEI_201608.nc is complete\n",
      "Processing celsius_Tair_WFDEI_199207.nc now\n",
      "PET_WFDEI_199207.nc is complete\n",
      "Processing celsius_Tair_WFDEI_198012.nc now\n",
      "PET_WFDEI_198012.nc is complete\n",
      "Processing celsius_Tair_WFDEI_201205.nc now\n",
      "PET_WFDEI_201205.nc is complete\n",
      "Processing celsius_Tair_WFDEI_198408.nc now\n",
      "PET_WFDEI_198408.nc is complete\n",
      "Processing celsius_Tair_WFDEI_199803.nc now\n",
      "PET_WFDEI_199803.nc is complete\n",
      "Processing celsius_Tair_WFDEI_200212.nc now\n",
      "PET_WFDEI_200212.nc is complete\n",
      "Processing celsius_Tair_WFDEI_201009.nc now\n",
      "PET_WFDEI_201009.nc is complete\n",
      "Processing celsius_Tair_WFDEI_200304.nc now\n",
      "PET_WFDEI_200304.nc is complete\n",
      "Processing celsius_Tair_WFDEI_198609.nc now\n",
      "PET_WFDEI_198609.nc is complete\n",
      "Processing celsius_Tair_WFDEI_200108.nc now\n",
      "PET_WFDEI_200108.nc is complete\n",
      "Processing celsius_Tair_WFDEI_200901.nc now\n",
      "PET_WFDEI_200901.nc is complete\n",
      "Processing celsius_Tair_WFDEI_200601.nc now\n",
      "PET_WFDEI_200601.nc is complete\n",
      "Processing celsius_Tair_WFDEI_201110.nc now\n",
      "PET_WFDEI_201110.nc is complete\n",
      "Processing celsius_Tair_WFDEI_201307.nc now\n",
      "PET_WFDEI_201307.nc is complete\n",
      "Processing celsius_Tair_WFDEI_201106.nc now\n",
      "PET_WFDEI_201106.nc is complete\n",
      "Processing celsius_Tair_WFDEI_200206.nc now\n",
      "PET_WFDEI_200206.nc is complete\n",
      "Processing celsius_Tair_WFDEI_198805.nc now\n",
      "PET_WFDEI_198805.nc is complete\n",
      "Processing celsius_Tair_WFDEI_201005.nc now\n",
      "PET_WFDEI_201005.nc is complete\n",
      "Processing celsius_Tair_WFDEI_199104.nc now\n",
      "PET_WFDEI_199104.nc is complete\n",
      "Processing celsius_Tair_WFDEI_201112.nc now\n",
      "PET_WFDEI_201112.nc is complete\n",
      "Processing celsius_Tair_WFDEI_199103.nc now\n",
      "PET_WFDEI_199103.nc is complete\n",
      "Processing celsius_Tair_WFDEI_200502.nc now\n",
      "PET_WFDEI_200502.nc is complete\n",
      "Processing celsius_Tair_WFDEI_198108.nc now\n",
      "PET_WFDEI_198108.nc is complete\n",
      "Processing celsius_Tair_WFDEI_198810.nc now\n",
      "PET_WFDEI_198810.nc is complete\n",
      "Processing celsius_Tair_WFDEI_199108.nc now\n",
      "PET_WFDEI_199108.nc is complete\n",
      "Processing celsius_Tair_WFDEI_199005.nc now\n",
      "PET_WFDEI_199005.nc is complete\n",
      "Processing celsius_Tair_WFDEI_200806.nc now\n",
      "PET_WFDEI_200806.nc is complete\n",
      "Processing celsius_Tair_WFDEI_198703.nc now\n",
      "PET_WFDEI_198703.nc is complete\n",
      "Processing celsius_Tair_WFDEI_201401.nc now\n",
      "PET_WFDEI_201401.nc is complete\n",
      "Processing celsius_Tair_WFDEI_199502.nc now\n",
      "PET_WFDEI_199502.nc is complete\n",
      "Processing celsius_Tair_WFDEI_201201.nc now\n",
      "PET_WFDEI_201201.nc is complete\n",
      "Processing celsius_Tair_WFDEI_201303.nc now\n",
      "PET_WFDEI_201303.nc is complete\n",
      "Processing celsius_Tair_WFDEI_200309.nc now\n",
      "PET_WFDEI_200309.nc is complete\n",
      "Processing celsius_Tair_WFDEI_199902.nc now\n",
      "PET_WFDEI_199902.nc is complete\n",
      "Processing celsius_Tair_WFDEI_198507.nc now\n",
      "PET_WFDEI_198507.nc is complete\n",
      "Processing celsius_Tair_WFDEI_201002.nc now\n",
      "PET_WFDEI_201002.nc is complete\n",
      "Processing celsius_Tair_WFDEI_198808.nc now\n",
      "PET_WFDEI_198808.nc is complete\n",
      "Processing celsius_Tair_WFDEI_200211.nc now\n",
      "PET_WFDEI_200211.nc is complete\n",
      "Processing celsius_Tair_WFDEI_200512.nc now\n",
      "PET_WFDEI_200512.nc is complete\n",
      "Processing celsius_Tair_WFDEI_199504.nc now\n",
      "PET_WFDEI_199504.nc is complete\n",
      "Processing celsius_Tair_WFDEI_200706.nc now\n",
      "PET_WFDEI_200706.nc is complete\n",
      "Processing celsius_Tair_WFDEI_200103.nc now\n",
      "PET_WFDEI_200103.nc is complete\n",
      "Processing celsius_Tair_WFDEI_201008.nc now\n",
      "PET_WFDEI_201008.nc is complete\n",
      "Processing celsius_Tair_WFDEI_198608.nc now\n",
      "PET_WFDEI_198608.nc is complete\n",
      "Processing celsius_Tair_WFDEI_198306.nc now\n",
      "PET_WFDEI_198306.nc is complete\n",
      "Processing celsius_Tair_WFDEI_198001.nc now\n",
      "PET_WFDEI_198001.nc is complete\n",
      "Processing celsius_Tair_WFDEI_197909.nc now\n",
      "PET_WFDEI_197909.nc is complete\n",
      "Processing celsius_Tair_WFDEI_198211.nc now\n",
      "PET_WFDEI_198211.nc is complete\n",
      "Processing celsius_Tair_WFDEI_200804.nc now\n",
      "PET_WFDEI_200804.nc is complete\n",
      "Processing celsius_Tair_WFDEI_199303.nc now\n",
      "PET_WFDEI_199303.nc is complete\n",
      "Processing celsius_Tair_WFDEI_200004.nc now\n",
      "PET_WFDEI_200004.nc is complete\n",
      "Processing celsius_Tair_WFDEI_198710.nc now\n",
      "PET_WFDEI_198710.nc is complete\n",
      "Processing celsius_Tair_WFDEI_199007.nc now\n",
      "PET_WFDEI_199007.nc is complete\n",
      "Processing celsius_Tair_WFDEI_201107.nc now\n",
      "PET_WFDEI_201107.nc is complete\n",
      "Processing celsius_Tair_WFDEI_201611.nc now\n",
      "PET_WFDEI_201611.nc is complete\n",
      "Processing celsius_Tair_WFDEI_200307.nc now\n",
      "PET_WFDEI_200307.nc is complete\n",
      "Processing celsius_Tair_WFDEI_199511.nc now\n",
      "PET_WFDEI_199511.nc is complete\n",
      "Processing celsius_Tair_WFDEI_199909.nc now\n",
      "PET_WFDEI_199909.nc is complete\n",
      "Processing celsius_Tair_WFDEI_199501.nc now\n",
      "PET_WFDEI_199501.nc is complete\n",
      "Processing celsius_Tair_WFDEI_199312.nc now\n",
      "PET_WFDEI_199312.nc is complete\n",
      "Processing celsius_Tair_WFDEI_200603.nc now\n",
      "PET_WFDEI_200603.nc is complete\n",
      "Processing celsius_Tair_WFDEI_200510.nc now\n",
      "PET_WFDEI_200510.nc is complete\n",
      "Processing celsius_Tair_WFDEI_199409.nc now\n",
      "PET_WFDEI_199409.nc is complete\n",
      "Processing celsius_Tair_WFDEI_198809.nc now\n",
      "PET_WFDEI_198809.nc is complete\n",
      "Processing celsius_Tair_WFDEI_198207.nc now\n",
      "PET_WFDEI_198207.nc is complete\n",
      "Processing celsius_Tair_WFDEI_199305.nc now\n",
      "PET_WFDEI_199305.nc is complete\n",
      "Processing celsius_Tair_WFDEI_198010.nc now\n",
      "PET_WFDEI_198010.nc is complete\n",
      "Processing celsius_Tair_WFDEI_198104.nc now\n",
      "PET_WFDEI_198104.nc is complete\n",
      "Processing celsius_Tair_WFDEI_199611.nc now\n",
      "PET_WFDEI_199611.nc is complete\n",
      "Processing celsius_Tair_WFDEI_200202.nc now\n",
      "PET_WFDEI_200202.nc is complete\n",
      "Processing celsius_Tair_WFDEI_199910.nc now\n",
      "PET_WFDEI_199910.nc is complete\n",
      "Processing celsius_Tair_WFDEI_198803.nc now\n",
      "PET_WFDEI_198803.nc is complete\n",
      "Processing celsius_Tair_WFDEI_198009.nc now\n",
      "PET_WFDEI_198009.nc is complete\n",
      "Processing celsius_Tair_WFDEI_200702.nc now\n",
      "PET_WFDEI_200702.nc is complete\n",
      "Processing celsius_Tair_WFDEI_201603.nc now\n",
      "PET_WFDEI_201603.nc is complete\n",
      "Processing celsius_Tair_WFDEI_200704.nc now\n",
      "PET_WFDEI_200704.nc is complete\n",
      "Processing celsius_Tair_WFDEI_200912.nc now\n",
      "PET_WFDEI_200912.nc is complete\n",
      "Processing celsius_Tair_WFDEI_200611.nc now\n",
      "PET_WFDEI_200611.nc is complete\n",
      "Processing celsius_Tair_WFDEI_200809.nc now\n",
      "PET_WFDEI_200809.nc is complete\n",
      "Processing celsius_Tair_WFDEI_200411.nc now\n",
      "PET_WFDEI_200411.nc is complete\n",
      "Processing celsius_Tair_WFDEI_199106.nc now\n",
      "PET_WFDEI_199106.nc is complete\n",
      "Processing celsius_Tair_WFDEI_200201.nc now\n",
      "PET_WFDEI_200201.nc is complete\n",
      "Processing celsius_Tair_WFDEI_199706.nc now\n",
      "PET_WFDEI_199706.nc is complete\n",
      "Processing celsius_Tair_WFDEI_198210.nc now\n",
      "PET_WFDEI_198210.nc is complete\n",
      "Processing celsius_Tair_WFDEI_200910.nc now\n",
      "PET_WFDEI_200910.nc is complete\n",
      "Processing celsius_Tair_WFDEI_201202.nc now\n",
      "PET_WFDEI_201202.nc is complete\n",
      "Processing celsius_Tair_WFDEI_199310.nc now\n",
      "PET_WFDEI_199310.nc is complete\n",
      "Processing celsius_Tair_WFDEI_197907.nc now\n",
      "PET_WFDEI_197907.nc is complete\n",
      "Processing celsius_Tair_WFDEI_199705.nc now\n",
      "PET_WFDEI_199705.nc is complete\n",
      "Processing celsius_Tair_WFDEI_201408.nc now\n",
      "PET_WFDEI_201408.nc is complete\n",
      "Processing celsius_Tair_WFDEI_199804.nc now\n",
      "PET_WFDEI_199804.nc is complete\n",
      "Processing celsius_Tair_WFDEI_198109.nc now\n",
      "PET_WFDEI_198109.nc is complete\n",
      "Processing celsius_Tair_WFDEI_197911.nc now\n",
      "PET_WFDEI_197911.nc is complete\n",
      "Processing celsius_Tair_WFDEI_200504.nc now\n",
      "PET_WFDEI_200504.nc is complete\n",
      "Processing celsius_Tair_WFDEI_198410.nc now\n",
      "PET_WFDEI_198410.nc is complete\n",
      "Processing celsius_Tair_WFDEI_198912.nc now\n",
      "PET_WFDEI_198912.nc is complete\n",
      "Processing celsius_Tair_WFDEI_199707.nc now\n",
      "PET_WFDEI_199707.nc is complete\n",
      "Processing celsius_Tair_WFDEI_197904.nc now\n",
      "PET_WFDEI_197904.nc is complete\n",
      "Processing celsius_Tair_WFDEI_198103.nc now\n",
      "PET_WFDEI_198103.nc is complete\n",
      "Processing celsius_Tair_WFDEI_200208.nc now\n",
      "PET_WFDEI_200208.nc is complete\n",
      "Processing celsius_Tair_WFDEI_201212.nc now\n",
      "PET_WFDEI_201212.nc is complete\n",
      "Processing celsius_Tair_WFDEI_199306.nc now\n",
      "PET_WFDEI_199306.nc is complete\n",
      "Processing celsius_Tair_WFDEI_199812.nc now\n"
     ]
    },
    {
     "name": "stdout",
     "output_type": "stream",
     "text": [
      "PET_WFDEI_199812.nc is complete\n",
      "Processing celsius_Tair_WFDEI_198008.nc now\n",
      "PET_WFDEI_198008.nc is complete\n",
      "Processing celsius_Tair_WFDEI_200102.nc now\n",
      "PET_WFDEI_200102.nc is complete\n",
      "Processing celsius_Tair_WFDEI_200002.nc now\n",
      "PET_WFDEI_200002.nc is complete\n",
      "Processing celsius_Tair_WFDEI_201607.nc now\n",
      "PET_WFDEI_201607.nc is complete\n",
      "Processing celsius_Tair_WFDEI_200109.nc now\n",
      "PET_WFDEI_200109.nc is complete\n",
      "Processing celsius_Tair_WFDEI_199701.nc now\n",
      "PET_WFDEI_199701.nc is complete\n",
      "Processing celsius_Tair_WFDEI_198909.nc now\n",
      "PET_WFDEI_198909.nc is complete\n",
      "Processing celsius_Tair_WFDEI_200410.nc now\n",
      "PET_WFDEI_200410.nc is complete\n",
      "Processing celsius_Tair_WFDEI_199212.nc now\n",
      "PET_WFDEI_199212.nc is complete\n",
      "Processing celsius_Tair_WFDEI_199505.nc now\n",
      "PET_WFDEI_199505.nc is complete\n",
      "Processing celsius_Tair_WFDEI_198903.nc now\n",
      "PET_WFDEI_198903.nc is complete\n",
      "Processing celsius_Tair_WFDEI_200110.nc now\n",
      "PET_WFDEI_200110.nc is complete\n",
      "Processing celsius_Tair_WFDEI_198505.nc now\n",
      "PET_WFDEI_198505.nc is complete\n",
      "Processing celsius_Tair_WFDEI_201405.nc now\n",
      "PET_WFDEI_201405.nc is complete\n",
      "Processing celsius_Tair_WFDEI_199101.nc now\n",
      "PET_WFDEI_199101.nc is complete\n",
      "Processing celsius_Tair_WFDEI_199806.nc now\n",
      "PET_WFDEI_199806.nc is complete\n",
      "Processing celsius_Tair_WFDEI_199811.nc now\n",
      "PET_WFDEI_199811.nc is complete\n",
      "Processing celsius_Tair_WFDEI_198303.nc now\n",
      "PET_WFDEI_198303.nc is complete\n",
      "Processing celsius_Tair_WFDEI_201508.nc now\n",
      "PET_WFDEI_201508.nc is complete\n",
      "Processing celsius_Tair_WFDEI_198307.nc now\n",
      "PET_WFDEI_198307.nc is complete\n",
      "Processing celsius_Tair_WFDEI_199107.nc now\n",
      "PET_WFDEI_199107.nc is complete\n",
      "Processing celsius_Tair_WFDEI_200408.nc now\n",
      "PET_WFDEI_200408.nc is complete\n",
      "Processing celsius_Tair_WFDEI_201606.nc now\n",
      "PET_WFDEI_201606.nc is complete\n",
      "Processing celsius_Tair_WFDEI_201411.nc now\n",
      "PET_WFDEI_201411.nc is complete\n",
      "Processing celsius_Tair_WFDEI_199805.nc now\n",
      "PET_WFDEI_199805.nc is complete\n",
      "Processing celsius_Tair_WFDEI_198707.nc now\n",
      "PET_WFDEI_198707.nc is complete\n",
      "Processing celsius_Tair_WFDEI_198509.nc now\n",
      "PET_WFDEI_198509.nc is complete\n",
      "Processing celsius_Tair_WFDEI_199608.nc now\n",
      "PET_WFDEI_199608.nc is complete\n",
      "Processing celsius_Tair_WFDEI_201301.nc now\n",
      "PET_WFDEI_201301.nc is complete\n",
      "Processing celsius_Tair_WFDEI_198812.nc now\n",
      "PET_WFDEI_198812.nc is complete\n",
      "Processing celsius_Tair_WFDEI_199304.nc now\n",
      "PET_WFDEI_199304.nc is complete\n",
      "Processing celsius_Tair_WFDEI_198603.nc now\n",
      "PET_WFDEI_198603.nc is complete\n",
      "Processing celsius_Tair_WFDEI_199703.nc now\n",
      "PET_WFDEI_199703.nc is complete\n",
      "Processing celsius_Tair_WFDEI_198208.nc now\n",
      "PET_WFDEI_198208.nc is complete\n",
      "Processing celsius_Tair_WFDEI_198605.nc now\n",
      "PET_WFDEI_198605.nc is complete\n",
      "Processing celsius_Tair_WFDEI_201404.nc now\n",
      "PET_WFDEI_201404.nc is complete\n",
      "Processing celsius_Tair_WFDEI_201510.nc now\n",
      "PET_WFDEI_201510.nc is complete\n",
      "Processing celsius_Tair_WFDEI_201410.nc now\n",
      "PET_WFDEI_201410.nc is complete\n",
      "Processing celsius_Tair_WFDEI_200301.nc now\n",
      "PET_WFDEI_200301.nc is complete\n",
      "Processing celsius_Tair_WFDEI_198007.nc now\n",
      "PET_WFDEI_198007.nc is complete\n",
      "Processing celsius_Tair_WFDEI_201308.nc now\n",
      "PET_WFDEI_201308.nc is complete\n",
      "Processing celsius_Tair_WFDEI_199105.nc now\n",
      "PET_WFDEI_199105.nc is complete\n",
      "Processing celsius_Tair_WFDEI_198811.nc now\n",
      "PET_WFDEI_198811.nc is complete\n",
      "Processing celsius_Tair_WFDEI_201605.nc now\n",
      "PET_WFDEI_201605.nc is complete\n",
      "Processing celsius_Tair_WFDEI_198302.nc now\n",
      "PET_WFDEI_198302.nc is complete\n",
      "Processing celsius_Tair_WFDEI_200407.nc now\n",
      "PET_WFDEI_200407.nc is complete\n",
      "Processing celsius_Tair_WFDEI_201502.nc now\n",
      "PET_WFDEI_201502.nc is complete\n",
      "Processing celsius_Tair_WFDEI_200805.nc now\n",
      "PET_WFDEI_200805.nc is complete\n",
      "Processing celsius_Tair_WFDEI_198911.nc now\n",
      "PET_WFDEI_198911.nc is complete\n",
      "Processing celsius_Tair_WFDEI_199911.nc now\n",
      "PET_WFDEI_199911.nc is complete\n",
      "Processing celsius_Tair_WFDEI_199301.nc now\n",
      "PET_WFDEI_199301.nc is complete\n",
      "Processing celsius_Tair_WFDEI_200105.nc now\n",
      "PET_WFDEI_200105.nc is complete\n",
      "Processing celsius_Tair_WFDEI_200409.nc now\n",
      "PET_WFDEI_200409.nc is complete\n",
      "Processing celsius_Tair_WFDEI_197910.nc now\n",
      "PET_WFDEI_197910.nc is complete\n",
      "Processing celsius_Tair_WFDEI_197912.nc now\n",
      "PET_WFDEI_197912.nc is complete\n",
      "Processing celsius_Tair_WFDEI_200808.nc now\n",
      "PET_WFDEI_200808.nc is complete\n",
      "Processing celsius_Tair_WFDEI_201501.nc now\n",
      "PET_WFDEI_201501.nc is complete\n",
      "Processing celsius_Tair_WFDEI_198604.nc now\n",
      "PET_WFDEI_198604.nc is complete\n",
      "Processing celsius_Tair_WFDEI_199206.nc now\n",
      "PET_WFDEI_199206.nc is complete\n",
      "Processing celsius_Tair_WFDEI_201010.nc now\n",
      "PET_WFDEI_201010.nc is complete\n",
      "Processing celsius_Tair_WFDEI_201412.nc now\n",
      "PET_WFDEI_201412.nc is complete\n",
      "Processing celsius_Tair_WFDEI_198901.nc now\n",
      "PET_WFDEI_198901.nc is complete\n",
      "Processing celsius_Tair_WFDEI_200710.nc now\n",
      "PET_WFDEI_200710.nc is complete\n",
      "Processing celsius_Tair_WFDEI_200907.nc now\n",
      "PET_WFDEI_200907.nc is complete\n",
      "Processing celsius_Tair_WFDEI_201109.nc now\n",
      "PET_WFDEI_201109.nc is complete\n",
      "Processing celsius_Tair_WFDEI_199311.nc now\n",
      "PET_WFDEI_199311.nc is complete\n",
      "Processing celsius_Tair_WFDEI_200007.nc now\n",
      "PET_WFDEI_200007.nc is complete\n",
      "Processing celsius_Tair_WFDEI_200802.nc now\n",
      "PET_WFDEI_200802.nc is complete\n",
      "Processing celsius_Tair_WFDEI_198203.nc now\n",
      "PET_WFDEI_198203.nc is complete\n",
      "Processing celsius_Tair_WFDEI_200605.nc now\n",
      "PET_WFDEI_200605.nc is complete\n",
      "Processing celsius_Tair_WFDEI_201403.nc now\n",
      "PET_WFDEI_201403.nc is complete\n",
      "Processing celsius_Tair_WFDEI_200312.nc now\n",
      "PET_WFDEI_200312.nc is complete\n",
      "Processing celsius_Tair_WFDEI_201312.nc now\n",
      "PET_WFDEI_201312.nc is complete\n",
      "Processing celsius_Tair_WFDEI_199205.nc now\n",
      "PET_WFDEI_199205.nc is complete\n",
      "Processing celsius_Tair_WFDEI_201511.nc now\n",
      "PET_WFDEI_201511.nc is complete\n",
      "Processing celsius_Tair_WFDEI_198409.nc now\n",
      "PET_WFDEI_198409.nc is complete\n",
      "Processing celsius_Tair_WFDEI_201509.nc now\n",
      "PET_WFDEI_201509.nc is complete\n",
      "Processing celsius_Tair_WFDEI_201101.nc now\n",
      "PET_WFDEI_201101.nc is complete\n",
      "Processing celsius_Tair_WFDEI_198704.nc now\n",
      "PET_WFDEI_198704.nc is complete\n",
      "Processing celsius_Tair_WFDEI_199704.nc now\n",
      "PET_WFDEI_199704.nc is complete\n",
      "Processing celsius_Tair_WFDEI_201602.nc now\n",
      "PET_WFDEI_201602.nc is complete\n",
      "Processing celsius_Tair_WFDEI_200012.nc now\n",
      "PET_WFDEI_200012.nc is complete\n",
      "Processing celsius_Tair_WFDEI_198412.nc now\n",
      "PET_WFDEI_198412.nc is complete\n",
      "Processing celsius_Tair_WFDEI_198005.nc now\n",
      "PET_WFDEI_198005.nc is complete\n",
      "Processing celsius_Tair_WFDEI_198105.nc now\n",
      "PET_WFDEI_198105.nc is complete\n",
      "Processing celsius_Tair_WFDEI_200310.nc now\n",
      "PET_WFDEI_200310.nc is complete\n",
      "Processing celsius_Tair_WFDEI_200607.nc now\n",
      "PET_WFDEI_200607.nc is complete\n",
      "Processing celsius_Tair_WFDEI_198910.nc now\n",
      "PET_WFDEI_198910.nc is complete\n",
      "Processing celsius_Tair_WFDEI_198309.nc now\n",
      "PET_WFDEI_198309.nc is complete\n",
      "Processing celsius_Tair_WFDEI_199702.nc now\n",
      "PET_WFDEI_199702.nc is complete\n",
      "Processing celsius_Tair_WFDEI_201609.nc now\n",
      "PET_WFDEI_201609.nc is complete\n",
      "Processing celsius_Tair_WFDEI_198504.nc now\n",
      "PET_WFDEI_198504.nc is complete\n",
      "Processing celsius_Tair_WFDEI_199201.nc now\n",
      "PET_WFDEI_199201.nc is complete\n",
      "Processing celsius_Tair_WFDEI_201210.nc now\n",
      "PET_WFDEI_201210.nc is complete\n",
      "Processing celsius_Tair_WFDEI_200810.nc now\n",
      "PET_WFDEI_200810.nc is complete\n",
      "Processing celsius_Tair_WFDEI_198002.nc now\n",
      "PET_WFDEI_198002.nc is complete\n",
      "Processing celsius_Tair_WFDEI_200905.nc now\n",
      "PET_WFDEI_200905.nc is complete\n",
      "Processing celsius_Tair_WFDEI_200507.nc now\n",
      "PET_WFDEI_200507.nc is complete\n",
      "Processing celsius_Tair_WFDEI_200008.nc now\n",
      "PET_WFDEI_200008.nc is complete\n",
      "Processing celsius_Tair_WFDEI_200311.nc now\n",
      "PET_WFDEI_200311.nc is complete\n",
      "Processing celsius_Tair_WFDEI_198607.nc now\n",
      "PET_WFDEI_198607.nc is complete\n",
      "Processing celsius_Tair_WFDEI_201001.nc now\n",
      "PET_WFDEI_201001.nc is complete\n",
      "Processing celsius_Tair_WFDEI_200403.nc now\n",
      "PET_WFDEI_200403.nc is complete\n",
      "Processing celsius_Tair_WFDEI_198202.nc now\n",
      "PET_WFDEI_198202.nc is complete\n",
      "Processing celsius_Tair_WFDEI_198406.nc now\n",
      "PET_WFDEI_198406.nc is complete\n",
      "Processing celsius_Tair_WFDEI_198212.nc now\n",
      "PET_WFDEI_198212.nc is complete\n",
      "Processing celsius_Tair_WFDEI_199905.nc now\n",
      "PET_WFDEI_199905.nc is complete\n",
      "Processing celsius_Tair_WFDEI_198611.nc now\n"
     ]
    },
    {
     "name": "stdout",
     "output_type": "stream",
     "text": [
      "PET_WFDEI_198611.nc is complete\n",
      "Processing celsius_Tair_WFDEI_199903.nc now\n",
      "PET_WFDEI_199903.nc is complete\n",
      "Processing celsius_Tair_WFDEI_199406.nc now\n",
      "PET_WFDEI_199406.nc is complete\n",
      "Processing celsius_Tair_WFDEI_198806.nc now\n",
      "PET_WFDEI_198806.nc is complete\n",
      "Processing celsius_Tair_WFDEI_199204.nc now\n",
      "PET_WFDEI_199204.nc is complete\n",
      "Processing celsius_Tair_WFDEI_200511.nc now\n",
      "PET_WFDEI_200511.nc is complete\n",
      "Processing celsius_Tair_WFDEI_198801.nc now\n",
      "PET_WFDEI_198801.nc is complete\n",
      "Processing celsius_Tair_WFDEI_199209.nc now\n",
      "PET_WFDEI_199209.nc is complete\n",
      "Processing celsius_Tair_WFDEI_201208.nc now\n",
      "PET_WFDEI_201208.nc is complete\n",
      "Processing celsius_Tair_WFDEI_199004.nc now\n",
      "PET_WFDEI_199004.nc is complete\n",
      "Processing celsius_Tair_WFDEI_198606.nc now\n",
      "PET_WFDEI_198606.nc is complete\n",
      "Processing celsius_Tair_WFDEI_199605.nc now\n",
      "PET_WFDEI_199605.nc is complete\n",
      "Processing celsius_Tair_WFDEI_200107.nc now\n",
      "PET_WFDEI_200107.nc is complete\n",
      "Processing celsius_Tair_WFDEI_200801.nc now\n",
      "PET_WFDEI_200801.nc is complete\n",
      "Processing celsius_Tair_WFDEI_200602.nc now\n",
      "PET_WFDEI_200602.nc is complete\n",
      "Processing celsius_Tair_WFDEI_198308.nc now\n",
      "PET_WFDEI_198308.nc is complete\n",
      "Processing celsius_Tair_WFDEI_201007.nc now\n",
      "PET_WFDEI_201007.nc is complete\n",
      "Processing celsius_Tair_WFDEI_199210.nc now\n",
      "PET_WFDEI_199210.nc is complete\n",
      "Processing celsius_Tair_WFDEI_198111.nc now\n",
      "PET_WFDEI_198111.nc is complete\n",
      "Processing celsius_Tair_WFDEI_198304.nc now\n",
      "PET_WFDEI_198304.nc is complete\n",
      "Processing celsius_Tair_WFDEI_200204.nc now\n",
      "PET_WFDEI_200204.nc is complete\n",
      "Processing celsius_Tair_WFDEI_197905.nc now\n",
      "PET_WFDEI_197905.nc is complete\n",
      "Processing celsius_Tair_WFDEI_201506.nc now\n",
      "PET_WFDEI_201506.nc is complete\n",
      "Processing celsius_Tair_WFDEI_201612.nc now\n",
      "PET_WFDEI_201612.nc is complete\n",
      "Processing celsius_Tair_WFDEI_201309.nc now\n",
      "PET_WFDEI_201309.nc is complete\n",
      "Processing celsius_Tair_WFDEI_198709.nc now\n",
      "PET_WFDEI_198709.nc is complete\n",
      "Processing celsius_Tair_WFDEI_199006.nc now\n",
      "PET_WFDEI_199006.nc is complete\n",
      "Processing celsius_Tair_WFDEI_201601.nc now\n",
      "PET_WFDEI_201601.nc is complete\n",
      "Processing celsius_Tair_WFDEI_199412.nc now\n",
      "PET_WFDEI_199412.nc is complete\n",
      "Processing celsius_Tair_WFDEI_200707.nc now\n",
      "PET_WFDEI_200707.nc is complete\n",
      "Processing celsius_Tair_WFDEI_200203.nc now\n",
      "PET_WFDEI_200203.nc is complete\n",
      "Processing celsius_Tair_WFDEI_200405.nc now\n",
      "PET_WFDEI_200405.nc is complete\n",
      "Processing celsius_Tair_WFDEI_197901.nc now\n",
      "PET_WFDEI_197901.nc is complete\n",
      "Processing celsius_Tair_WFDEI_201402.nc now\n",
      "PET_WFDEI_201402.nc is complete\n",
      "Processing celsius_Tair_WFDEI_200711.nc now\n",
      "PET_WFDEI_200711.nc is complete\n",
      "Processing celsius_Tair_WFDEI_198003.nc now\n",
      "PET_WFDEI_198003.nc is complete\n",
      "Processing celsius_Tair_WFDEI_198904.nc now\n",
      "PET_WFDEI_198904.nc is complete\n",
      "Processing celsius_Tair_WFDEI_200402.nc now\n",
      "PET_WFDEI_200402.nc is complete\n",
      "Processing celsius_Tair_WFDEI_200412.nc now\n",
      "PET_WFDEI_200412.nc is complete\n",
      "Processing celsius_Tair_WFDEI_200010.nc now\n",
      "PET_WFDEI_200010.nc is complete\n",
      "Processing celsius_Tair_WFDEI_199512.nc now\n",
      "PET_WFDEI_199512.nc is complete\n",
      "Processing celsius_Tair_WFDEI_198201.nc now\n",
      "PET_WFDEI_198201.nc is complete\n",
      "Processing celsius_Tair_WFDEI_198705.nc now\n",
      "PET_WFDEI_198705.nc is complete\n",
      "Processing celsius_Tair_WFDEI_200210.nc now\n",
      "PET_WFDEI_200210.nc is complete\n",
      "Processing celsius_Tair_WFDEI_201503.nc now\n",
      "PET_WFDEI_201503.nc is complete\n",
      "Processing celsius_Tair_WFDEI_201512.nc now\n",
      "PET_WFDEI_201512.nc is complete\n",
      "Processing celsius_Tair_WFDEI_201409.nc now\n",
      "PET_WFDEI_201409.nc is complete\n",
      "Processing celsius_Tair_WFDEI_199612.nc now\n",
      "PET_WFDEI_199612.nc is complete\n",
      "Processing celsius_Tair_WFDEI_198205.nc now\n",
      "PET_WFDEI_198205.nc is complete\n",
      "Processing celsius_Tair_WFDEI_198006.nc now\n",
      "PET_WFDEI_198006.nc is complete\n",
      "Processing celsius_Tair_WFDEI_200001.nc now\n",
      "PET_WFDEI_200001.nc is complete\n",
      "Processing celsius_Tair_WFDEI_198110.nc now\n",
      "PET_WFDEI_198110.nc is complete\n",
      "Processing celsius_Tair_WFDEI_197908.nc now\n",
      "PET_WFDEI_197908.nc is complete\n",
      "Processing celsius_Tair_WFDEI_199404.nc now\n",
      "PET_WFDEI_199404.nc is complete\n",
      "Processing celsius_Tair_WFDEI_201011.nc now\n",
      "PET_WFDEI_201011.nc is complete\n",
      "Processing celsius_Tair_WFDEI_198301.nc now\n",
      "PET_WFDEI_198301.nc is complete\n",
      "Processing celsius_Tair_WFDEI_200708.nc now\n",
      "PET_WFDEI_200708.nc is complete\n",
      "Processing celsius_Tair_WFDEI_199604.nc now\n",
      "PET_WFDEI_199604.nc is complete\n",
      "Processing celsius_Tair_WFDEI_198503.nc now\n",
      "PET_WFDEI_198503.nc is complete\n",
      "Processing celsius_Tair_WFDEI_198206.nc now\n",
      "PET_WFDEI_198206.nc is complete\n",
      "Processing celsius_Tair_WFDEI_199307.nc now\n",
      "PET_WFDEI_199307.nc is complete\n",
      "Processing celsius_Tair_WFDEI_199410.nc now\n",
      "PET_WFDEI_199410.nc is complete\n",
      "Processing celsius_Tair_WFDEI_198711.nc now\n",
      "PET_WFDEI_198711.nc is complete\n",
      "Processing celsius_Tair_WFDEI_199211.nc now\n",
      "PET_WFDEI_199211.nc is complete\n",
      "Processing celsius_Tair_WFDEI_198508.nc now\n",
      "PET_WFDEI_198508.nc is complete\n",
      "Processing celsius_Tair_WFDEI_201305.nc now\n",
      "PET_WFDEI_201305.nc is complete\n",
      "Processing celsius_Tair_WFDEI_200106.nc now\n",
      "PET_WFDEI_200106.nc is complete\n",
      "Processing celsius_Tair_WFDEI_200308.nc now\n",
      "PET_WFDEI_200308.nc is complete\n",
      "Processing celsius_Tair_WFDEI_199710.nc now\n",
      "PET_WFDEI_199710.nc is complete\n",
      "Processing celsius_Tair_WFDEI_199712.nc now\n",
      "PET_WFDEI_199712.nc is complete\n",
      "Processing celsius_Tair_WFDEI_201311.nc now\n",
      "PET_WFDEI_201311.nc is complete\n",
      "Processing celsius_Tair_WFDEI_199509.nc now\n",
      "PET_WFDEI_199509.nc is complete\n",
      "Processing celsius_Tair_WFDEI_199507.nc now\n",
      "PET_WFDEI_199507.nc is complete\n",
      "Processing celsius_Tair_WFDEI_201407.nc now\n",
      "PET_WFDEI_201407.nc is complete\n",
      "Processing celsius_Tair_WFDEI_200610.nc now\n",
      "PET_WFDEI_200610.nc is complete\n",
      "Processing celsius_Tair_WFDEI_198701.nc now\n",
      "PET_WFDEI_198701.nc is complete\n",
      "Processing celsius_Tair_WFDEI_199610.nc now\n",
      "PET_WFDEI_199610.nc is complete\n",
      "Processing celsius_Tair_WFDEI_201006.nc now\n",
      "PET_WFDEI_201006.nc is complete\n",
      "Processing celsius_Tair_WFDEI_198706.nc now\n",
      "PET_WFDEI_198706.nc is complete\n",
      "Processing celsius_Tair_WFDEI_200803.nc now\n",
      "PET_WFDEI_200803.nc is complete\n",
      "Processing celsius_Tair_WFDEI_200101.nc now\n",
      "PET_WFDEI_200101.nc is complete\n",
      "Processing celsius_Tair_WFDEI_199912.nc now\n",
      "PET_WFDEI_199912.nc is complete\n",
      "Processing celsius_Tair_WFDEI_200003.nc now\n",
      "PET_WFDEI_200003.nc is complete\n",
      "Processing celsius_Tair_WFDEI_200709.nc now\n",
      "PET_WFDEI_200709.nc is complete\n",
      "Processing celsius_Tair_WFDEI_200807.nc now\n",
      "PET_WFDEI_200807.nc is complete\n",
      "Processing celsius_Tair_WFDEI_199709.nc now\n",
      "PET_WFDEI_199709.nc is complete\n",
      "Processing celsius_Tair_WFDEI_200401.nc now\n",
      "PET_WFDEI_200401.nc is complete\n",
      "Processing celsius_Tair_WFDEI_199112.nc now\n",
      "PET_WFDEI_199112.nc is complete\n",
      "Processing celsius_Tair_WFDEI_199510.nc now\n",
      "PET_WFDEI_199510.nc is complete\n",
      "Processing celsius_Tair_WFDEI_199809.nc now\n",
      "PET_WFDEI_199809.nc is complete\n",
      "Processing celsius_Tair_WFDEI_200903.nc now\n",
      "PET_WFDEI_200903.nc is complete\n",
      "Processing celsius_Tair_WFDEI_198602.nc now\n",
      "PET_WFDEI_198602.nc is complete\n",
      "Processing celsius_Tair_WFDEI_198401.nc now\n",
      "PET_WFDEI_198401.nc is complete\n",
      "Processing celsius_Tair_WFDEI_200005.nc now\n",
      "PET_WFDEI_200005.nc is complete\n",
      "Processing celsius_Tair_WFDEI_200701.nc now\n",
      "PET_WFDEI_200701.nc is complete\n",
      "Processing celsius_Tair_WFDEI_199807.nc now\n",
      "PET_WFDEI_199807.nc is complete\n",
      "Processing celsius_Tair_WFDEI_199506.nc now\n",
      "PET_WFDEI_199506.nc is complete\n",
      "Processing celsius_Tair_WFDEI_200112.nc now\n",
      "PET_WFDEI_200112.nc is complete\n",
      "Processing celsius_Tair_WFDEI_199011.nc now\n",
      "PET_WFDEI_199011.nc is complete\n",
      "Processing celsius_Tair_WFDEI_201211.nc now\n",
      "PET_WFDEI_201211.nc is complete\n",
      "Processing celsius_Tair_WFDEI_198807.nc now\n",
      "PET_WFDEI_198807.nc is complete\n",
      "Processing celsius_Tair_WFDEI_198011.nc now\n",
      "PET_WFDEI_198011.nc is complete\n",
      "Processing celsius_Tair_WFDEI_201604.nc now\n",
      "PET_WFDEI_201604.nc is complete\n",
      "Processing celsius_Tair_WFDEI_199009.nc now\n",
      "PET_WFDEI_199009.nc is complete\n",
      "Processing celsius_Tair_WFDEI_199603.nc now\n",
      "PET_WFDEI_199603.nc is complete\n",
      "Processing celsius_Tair_WFDEI_200712.nc now\n",
      "PET_WFDEI_200712.nc is complete\n",
      "Processing celsius_Tair_WFDEI_200207.nc now\n",
      "PET_WFDEI_200207.nc is complete\n",
      "Processing celsius_Tair_WFDEI_198802.nc now\n",
      "PET_WFDEI_198802.nc is complete\n",
      "Processing celsius_Tair_WFDEI_198610.nc now\n",
      "PET_WFDEI_198610.nc is complete\n",
      "Processing celsius_Tair_WFDEI_199601.nc now\n"
     ]
    },
    {
     "name": "stdout",
     "output_type": "stream",
     "text": [
      "PET_WFDEI_199601.nc is complete\n",
      "Processing celsius_Tair_WFDEI_198502.nc now\n",
      "PET_WFDEI_198502.nc is complete\n",
      "Processing celsius_Tair_WFDEI_198209.nc now\n",
      "PET_WFDEI_198209.nc is complete\n",
      "Processing celsius_Tair_WFDEI_198411.nc now\n",
      "PET_WFDEI_198411.nc is complete\n",
      "Processing celsius_Tair_WFDEI_200508.nc now\n",
      "PET_WFDEI_200508.nc is complete\n",
      "Processing celsius_Tair_WFDEI_199906.nc now\n",
      "PET_WFDEI_199906.nc is complete\n",
      "Processing celsius_Tair_WFDEI_201004.nc now\n",
      "PET_WFDEI_201004.nc is complete\n",
      "Processing celsius_Tair_WFDEI_199002.nc now\n",
      "PET_WFDEI_199002.nc is complete\n",
      "Processing celsius_Tair_WFDEI_199508.nc now\n",
      "PET_WFDEI_199508.nc is complete\n",
      "Processing celsius_Tair_WFDEI_198403.nc now\n",
      "PET_WFDEI_198403.nc is complete\n",
      "Processing celsius_Tair_WFDEI_200009.nc now\n",
      "PET_WFDEI_200009.nc is complete\n",
      "Processing celsius_Tair_WFDEI_200011.nc now\n",
      "PET_WFDEI_200011.nc is complete\n",
      "Processing celsius_Tair_WFDEI_200906.nc now\n",
      "PET_WFDEI_200906.nc is complete\n",
      "Processing celsius_Tair_WFDEI_199111.nc now\n",
      "PET_WFDEI_199111.nc is complete\n",
      "Processing celsius_Tair_WFDEI_199408.nc now\n",
      "PET_WFDEI_199408.nc is complete\n",
      "Processing celsius_Tair_WFDEI_200302.nc now\n",
      "PET_WFDEI_200302.nc is complete\n",
      "Processing celsius_Tair_WFDEI_198312.nc now\n",
      "PET_WFDEI_198312.nc is complete\n",
      "Processing celsius_Tair_WFDEI_199602.nc now\n",
      "PET_WFDEI_199602.nc is complete\n",
      "Processing celsius_Tair_WFDEI_200509.nc now\n",
      "PET_WFDEI_200509.nc is complete\n",
      "Processing celsius_Tair_WFDEI_201105.nc now\n",
      "PET_WFDEI_201105.nc is complete\n",
      "Processing celsius_Tair_WFDEI_199402.nc now\n",
      "PET_WFDEI_199402.nc is complete\n",
      "Processing celsius_Tair_WFDEI_198712.nc now\n",
      "PET_WFDEI_198712.nc is complete\n",
      "Processing celsius_Tair_WFDEI_201206.nc now\n",
      "PET_WFDEI_201206.nc is complete\n",
      "Processing celsius_Tair_WFDEI_201310.nc now\n",
      "PET_WFDEI_201310.nc is complete\n",
      "Processing celsius_Tair_WFDEI_198501.nc now\n",
      "PET_WFDEI_198501.nc is complete\n",
      "Processing celsius_Tair_WFDEI_199012.nc now\n",
      "PET_WFDEI_199012.nc is complete\n",
      "Processing celsius_Tair_WFDEI_201203.nc now\n",
      "PET_WFDEI_201203.nc is complete\n",
      "Processing celsius_Tair_WFDEI_199411.nc now\n",
      "PET_WFDEI_199411.nc is complete\n",
      "Processing celsius_Tair_WFDEI_199901.nc now\n",
      "PET_WFDEI_199901.nc is complete\n",
      "Processing celsius_Tair_WFDEI_200205.nc now\n",
      "PET_WFDEI_200205.nc is complete\n",
      "Processing celsius_Tair_WFDEI_199503.nc now\n",
      "PET_WFDEI_199503.nc is complete\n",
      "Processing celsius_Tair_WFDEI_200604.nc now\n",
      "PET_WFDEI_200604.nc is complete\n",
      "Processing celsius_Tair_WFDEI_201302.nc now\n",
      "PET_WFDEI_201302.nc is complete\n",
      "Processing celsius_Tair_WFDEI_198702.nc now\n",
      "PET_WFDEI_198702.nc is complete\n",
      "Processing celsius_Tair_WFDEI_200404.nc now\n",
      "PET_WFDEI_200404.nc is complete\n",
      "Processing celsius_Tair_WFDEI_198511.nc now\n",
      "PET_WFDEI_198511.nc is complete\n",
      "Processing celsius_Tair_WFDEI_200305.nc now\n",
      "PET_WFDEI_200305.nc is complete\n",
      "Processing celsius_Tair_WFDEI_200111.nc now\n",
      "PET_WFDEI_200111.nc is complete\n",
      "Processing celsius_Tair_WFDEI_201111.nc now\n",
      "PET_WFDEI_201111.nc is complete\n",
      "Processing celsius_Tair_WFDEI_199403.nc now\n",
      "PET_WFDEI_199403.nc is complete\n",
      "Processing celsius_Tair_WFDEI_200406.nc now\n",
      "PET_WFDEI_200406.nc is complete\n",
      "Processing celsius_Tair_WFDEI_199907.nc now\n",
      "PET_WFDEI_199907.nc is complete\n",
      "Processing celsius_Tair_WFDEI_201207.nc now\n",
      "PET_WFDEI_201207.nc is complete\n",
      "Processing celsius_Tair_WFDEI_200703.nc now\n",
      "PET_WFDEI_200703.nc is complete\n",
      "Processing celsius_Tair_WFDEI_201102.nc now\n",
      "PET_WFDEI_201102.nc is complete\n",
      "Processing celsius_Tair_WFDEI_199908.nc now\n",
      "PET_WFDEI_199908.nc is complete\n",
      "Processing celsius_Tair_WFDEI_199708.nc now\n",
      "PET_WFDEI_199708.nc is complete\n",
      "Processing celsius_Tair_WFDEI_198905.nc now\n",
      "PET_WFDEI_198905.nc is complete\n",
      "Processing celsius_Tair_WFDEI_201103.nc now\n",
      "PET_WFDEI_201103.nc is complete\n",
      "Processing celsius_Tair_WFDEI_199407.nc now\n",
      "PET_WFDEI_199407.nc is complete\n",
      "Processing celsius_Tair_WFDEI_198311.nc now\n",
      "PET_WFDEI_198311.nc is complete\n",
      "Processing celsius_Tair_WFDEI_199308.nc now\n",
      "PET_WFDEI_199308.nc is complete\n",
      "Processing celsius_Tair_WFDEI_200606.nc now\n",
      "PET_WFDEI_200606.nc is complete\n",
      "Processing celsius_Tair_WFDEI_199208.nc now\n",
      "PET_WFDEI_199208.nc is complete\n",
      "Processing celsius_Tair_WFDEI_198112.nc now\n",
      "PET_WFDEI_198112.nc is complete\n",
      "Processing celsius_Tair_WFDEI_199607.nc now\n",
      "PET_WFDEI_199607.nc is complete\n",
      "Processing celsius_Tair_WFDEI_200909.nc now\n",
      "PET_WFDEI_200909.nc is complete\n",
      "Processing celsius_Tair_WFDEI_198204.nc now\n",
      "PET_WFDEI_198204.nc is complete\n",
      "Processing celsius_Tair_WFDEI_199202.nc now\n",
      "PET_WFDEI_199202.nc is complete\n",
      "Processing celsius_Tair_WFDEI_197903.nc now\n",
      "PET_WFDEI_197903.nc is complete\n",
      "Processing celsius_Tair_WFDEI_200506.nc now\n",
      "PET_WFDEI_200506.nc is complete\n",
      "Processing celsius_Tair_WFDEI_200306.nc now\n",
      "PET_WFDEI_200306.nc is complete\n",
      "Processing celsius_Tair_WFDEI_201610.nc now\n",
      "PET_WFDEI_201610.nc is complete\n",
      "Processing celsius_Tair_WFDEI_199904.nc now\n",
      "PET_WFDEI_199904.nc is complete\n",
      "Processing celsius_Tair_WFDEI_201406.nc now\n",
      "PET_WFDEI_201406.nc is complete\n",
      "Processing celsius_Tair_WFDEI_199110.nc now\n",
      "PET_WFDEI_199110.nc is complete\n",
      "Processing celsius_Tair_WFDEI_200609.nc now\n",
      "PET_WFDEI_200609.nc is complete\n",
      "Processing celsius_Tair_WFDEI_200104.nc now\n",
      "PET_WFDEI_200104.nc is complete\n",
      "Processing celsius_Tair_WFDEI_198908.nc now\n",
      "PET_WFDEI_198908.nc is complete\n",
      "Processing celsius_Tair_WFDEI_199302.nc now\n",
      "PET_WFDEI_199302.nc is complete\n",
      "Processing celsius_Tair_WFDEI_198708.nc now\n",
      "PET_WFDEI_198708.nc is complete\n",
      "Processing celsius_Tair_WFDEI_200908.nc now\n",
      "PET_WFDEI_200908.nc is complete\n",
      "Processing celsius_Tair_WFDEI_200209.nc now\n",
      "PET_WFDEI_200209.nc is complete\n",
      "Processing celsius_Tair_WFDEI_200811.nc now\n",
      "PET_WFDEI_200811.nc is complete\n",
      "Processing celsius_Tair_WFDEI_201003.nc now\n",
      "PET_WFDEI_201003.nc is complete\n",
      "Processing celsius_Tair_WFDEI_199309.nc now\n",
      "PET_WFDEI_199309.nc is complete\n",
      "Processing celsius_Tair_WFDEI_200303.nc now\n",
      "PET_WFDEI_200303.nc is complete\n",
      "Processing celsius_Tair_WFDEI_198102.nc now\n",
      "PET_WFDEI_198102.nc is complete\n",
      "Processing celsius_Tair_WFDEI_201507.nc now\n",
      "PET_WFDEI_201507.nc is complete\n",
      "Processing celsius_Tair_WFDEI_198510.nc now\n",
      "PET_WFDEI_198510.nc is complete\n",
      "Processing celsius_Tair_WFDEI_199405.nc now\n",
      "PET_WFDEI_199405.nc is complete\n",
      "Processing celsius_Tair_WFDEI_198106.nc now\n",
      "PET_WFDEI_198106.nc is complete\n",
      "Processing celsius_Tair_WFDEI_201108.nc now\n",
      "PET_WFDEI_201108.nc is complete\n",
      "Processing celsius_Tair_WFDEI_201505.nc now\n",
      "PET_WFDEI_201505.nc is complete\n",
      "Processing celsius_Tair_WFDEI_199003.nc now\n",
      "PET_WFDEI_199003.nc is complete\n",
      "Processing celsius_Tair_WFDEI_198407.nc now\n",
      "PET_WFDEI_198407.nc is complete\n",
      "Processing celsius_Tair_WFDEI_198601.nc now\n",
      "PET_WFDEI_198601.nc is complete\n",
      "Processing celsius_Tair_WFDEI_199808.nc now\n",
      "PET_WFDEI_199808.nc is complete\n",
      "Processing celsius_Tair_WFDEI_198004.nc now\n",
      "PET_WFDEI_198004.nc is complete\n",
      "Processing celsius_Tair_WFDEI_201104.nc now\n",
      "PET_WFDEI_201104.nc is complete\n",
      "Processing celsius_Tair_WFDEI_200608.nc now\n",
      "PET_WFDEI_200608.nc is complete\n",
      "Processing celsius_Tair_WFDEI_201012.nc now\n",
      "PET_WFDEI_201012.nc is complete\n",
      "Processing celsius_Tair_WFDEI_199711.nc now\n",
      "PET_WFDEI_199711.nc is complete\n",
      "Processing celsius_Tair_WFDEI_199810.nc now\n",
      "PET_WFDEI_199810.nc is complete\n",
      "Processing celsius_Tair_WFDEI_197902.nc now\n",
      "PET_WFDEI_197902.nc is complete\n",
      "Processing celsius_Tair_WFDEI_198612.nc now\n",
      "PET_WFDEI_198612.nc is complete\n",
      "Processing celsius_Tair_WFDEI_198405.nc now\n",
      "PET_WFDEI_198405.nc is complete\n",
      "Processing celsius_Tair_WFDEI_199109.nc now\n",
      "PET_WFDEI_199109.nc is complete\n",
      "Processing celsius_Tair_WFDEI_200911.nc now\n",
      "PET_WFDEI_200911.nc is complete\n",
      "Processing celsius_Tair_WFDEI_198107.nc now\n",
      "PET_WFDEI_198107.nc is complete\n",
      "Processing celsius_Tair_WFDEI_197906.nc now\n",
      "PET_WFDEI_197906.nc is complete\n",
      "Processing celsius_Tair_WFDEI_199001.nc now\n",
      "PET_WFDEI_199001.nc is complete\n",
      "Processing celsius_Tair_WFDEI_200503.nc now\n",
      "PET_WFDEI_200503.nc is complete\n",
      "Processing celsius_Tair_WFDEI_200705.nc now\n",
      "PET_WFDEI_200705.nc is complete\n",
      "Processing celsius_Tair_WFDEI_201209.nc now\n",
      "PET_WFDEI_201209.nc is complete\n",
      "Processing celsius_Tair_WFDEI_198402.nc now\n",
      "PET_WFDEI_198402.nc is complete\n",
      "Processing celsius_Tair_WFDEI_199801.nc now\n",
      "PET_WFDEI_199801.nc is complete\n",
      "Processing celsius_Tair_WFDEI_199401.nc now\n",
      "PET_WFDEI_199401.nc is complete\n",
      "Processing celsius_Tair_WFDEI_199802.nc now\n"
     ]
    },
    {
     "name": "stdout",
     "output_type": "stream",
     "text": [
      "PET_WFDEI_199802.nc is complete\n",
      "Processing celsius_Tair_WFDEI_198804.nc now\n",
      "PET_WFDEI_198804.nc is complete\n",
      "Processing celsius_Tair_WFDEI_201204.nc now\n",
      "PET_WFDEI_201204.nc is complete\n",
      "Processing celsius_Tair_WFDEI_198512.nc now\n",
      "PET_WFDEI_198512.nc is complete\n",
      "Processing celsius_Tair_WFDEI_200812.nc now\n",
      "PET_WFDEI_200812.nc is complete\n",
      "Processing celsius_Tair_WFDEI_198404.nc now\n",
      "PET_WFDEI_198404.nc is complete\n",
      "Processing celsius_Tair_WFDEI_199008.nc now\n",
      "PET_WFDEI_199008.nc is complete\n",
      "Processing celsius_Tair_WFDEI_201504.nc now\n",
      "PET_WFDEI_201504.nc is complete\n",
      "Processing celsius_Tair_WFDEI_198305.nc now\n",
      "PET_WFDEI_198305.nc is complete\n",
      "Processing celsius_Tair_WFDEI_200612.nc now\n",
      "PET_WFDEI_200612.nc is complete\n",
      "Processing celsius_Tair_WFDEI_198506.nc now\n",
      "PET_WFDEI_198506.nc is complete\n",
      "Processing celsius_Tair_WFDEI_198907.nc now\n",
      "PET_WFDEI_198907.nc is complete\n",
      "Processing celsius_Tair_WFDEI_198906.nc now\n",
      "PET_WFDEI_198906.nc is complete\n",
      "Processing celsius_Tair_WFDEI_199606.nc now\n",
      "PET_WFDEI_199606.nc is complete\n",
      "Processing celsius_Tair_WFDEI_199010.nc now\n",
      "PET_WFDEI_199010.nc is complete\n",
      "Processing celsius_Tair_WFDEI_200902.nc now\n",
      "PET_WFDEI_200902.nc is complete\n",
      "Processing celsius_Tair_WFDEI_200501.nc now\n",
      "PET_WFDEI_200501.nc is complete\n",
      "Processing celsius_Tair_WFDEI_199203.nc now\n",
      "PET_WFDEI_199203.nc is complete\n",
      "Processing celsius_Tair_WFDEI_200006.nc now\n",
      "PET_WFDEI_200006.nc is complete\n",
      "Processing celsius_Tair_WFDEI_198101.nc now\n",
      "PET_WFDEI_198101.nc is complete\n",
      "Processing celsius_Tair_WFDEI_201306.nc now\n",
      "PET_WFDEI_201306.nc is complete\n",
      "Processing celsius_Tair_WFDEI_201304.nc now\n",
      "PET_WFDEI_201304.nc is complete\n",
      "Processing celsius_Tair_WFDEI_200505.nc now\n",
      "PET_WFDEI_200505.nc is complete\n"
     ]
    }
   ],
   "source": [
    "input_folder = '/g/data/u46/users/ext547/ewater/input_data/Temperature/degrees_celcius_and_clipped/celcius/' #location of files\n",
    "ncfiles = glob.glob(input_folder + 'original/*.nc') #a glob file containing the names of all nc\n",
    "\n",
    "for ncpath in ncfiles: #loop through all nc\n",
    "    #Set dataset variables\n",
    "    nc_name = ncpath[-28:]\n",
    "    print ('Processing '+str(nc_name)+' now')\n",
    "    min_nc = 'min_'+str(nc_name)\n",
    "    max_nc = 'max_'+str(nc_name)\n",
    "    mean_nc = 'mean_'+str(nc_name)\n",
    "    \n",
    "    #Input temperature datasets\n",
    "    min_xr = xr.open_dataset(input_folder+'/min/'+min_nc, decode_times=False)\n",
    "    mean_xr = xr.open_dataset(input_folder+'/mean/'+mean_nc, decode_times=False)\n",
    "    max_xr = xr.open_dataset(input_folder+'/max/'+max_nc, decode_times=False)\n",
    "    \n",
    "    #Calculate date from netcdf and save as xarray dataset\n",
    "    time = xr.DataArray([to_date(epoch, min_xr.time.units[14:]) for epoch in min_xr.time.values.tolist()], coords={'time': min_xr.time}, dims=('time',))\n",
    "   \n",
    "    #Calculate julian days and save as an array\n",
    "    j_days = xr.DataArray([julian_days(epoch, \n",
    "                                       min_xr.time.units[14:18]) for epoch in time.time.values.tolist()], \n",
    "                          coords={'time': min_xr.time}, dims=('time',))\n",
    "    \n",
    "    #Use leap year function and save the number of days within the year as a variable\n",
    "    ndy = leap_year( min_xr.time.units[14:18])\n",
    "    \n",
    "    #Create array of temperature difference\n",
    "    #Unit: T_diff in degrees celcius\n",
    "    T_diff = max_xr.Tair - min_xr.Tair\n",
    "    \n",
    "    #Create array of latitude in radians\n",
    "    #Unit: lat_rad in radians\n",
    "    lat_rad = np.radians(min_xr.lat)\n",
    "    \n",
    "    # Caclulate the inverse relative distance between the Earth and the Sun\n",
    "    # Unit: dr in radians\n",
    "    dr = 1 + 0.033 * np.cos(2 * np.pi * j_days / ndy)\n",
    "    \n",
    "    # Calculate solar declination\n",
    "    # Unit: sd in radians\n",
    "    sd = 0.409 * np.sin(2 * mt.pi * j_days / ndy - 1.39)\n",
    "\n",
    "    # Calculate a sunset angle input variable\n",
    "    # Unit: no unit\n",
    "    sa_X = 1 - (np.tan(lat_rad))**2 * ((np.tan(sd))**2)\n",
    "    \n",
    "    # Calculate sunset angle\n",
    "    # Units: sa in radians\n",
    "    sa = mt.pi / 2 - np.arctan(-np.tan(lat_rad) * np.tan(sd) / np.sqrt(sa_X))\n",
    "\n",
    "    # Calcualte extraterrestrial radiation\n",
    "    # Units: ra in MJ / (m^ day)\n",
    "    ra = 37.586 * dr * (sa * np.sin(lat_rad) * np.sin(sd) + np.cos(lat_rad) * np.cos(sd) * np.sin(sa))\n",
    "    \n",
    "    # Calculate Potential Evapotranspiration\n",
    "    # Units: PET in mm/day\n",
    "    pet = 0.0009384 * (mean_xr.Tair + 17.8) * np.sqrt(T_diff) * ra\n",
    "    pet = xr.Dataset({'PET':pet})\n",
    "    pet.PET.attrs['units'] = 'mm/day' #add unit to xarray\n",
    "    \n",
    "    #Save PET output as netcdf\n",
    "    pet.to_netcdf(path = '/g/data/u46/users/ext547/ewater/input_data/PET/PET'+nc_name[12:])\n",
    "    print ('PET'+str(nc_name[12:])+' is complete')"
   ]
  },
  {
   "cell_type": "code",
   "execution_count": null,
   "metadata": {},
   "outputs": [],
   "source": []
  },
  {
   "cell_type": "code",
   "execution_count": null,
   "metadata": {},
   "outputs": [],
   "source": []
  },
  {
   "cell_type": "code",
   "execution_count": null,
   "metadata": {},
   "outputs": [],
   "source": []
  },
  {
   "cell_type": "code",
   "execution_count": null,
   "metadata": {},
   "outputs": [],
   "source": []
  },
  {
   "cell_type": "code",
   "execution_count": null,
   "metadata": {},
   "outputs": [],
   "source": []
  },
  {
   "cell_type": "code",
   "execution_count": null,
   "metadata": {},
   "outputs": [],
   "source": []
  },
  {
   "cell_type": "code",
   "execution_count": null,
   "metadata": {},
   "outputs": [],
   "source": []
  },
  {
   "cell_type": "code",
   "execution_count": 230,
   "metadata": {
    "ExecuteTime": {
     "end_time": "2018-06-12T07:21:34.410363Z",
     "start_time": "2018-06-12T07:21:34.406543Z"
    }
   },
   "outputs": [],
   "source": [
    "#Set dataset variables\n",
    "input_folder = '/g/data/u46/users/ext547/ewater/input_data/test/'\n",
    "nc_name = 'celsius_Tair_WFDEI_197901.nc'\n",
    "min_nc = 'min_'+str(nc_name)\n",
    "max_nc = 'max_'+str(nc_name)\n",
    "mean_nc = 'mean_'+str(nc_name)"
   ]
  },
  {
   "cell_type": "code",
   "execution_count": 231,
   "metadata": {
    "ExecuteTime": {
     "end_time": "2018-06-12T07:21:34.660583Z",
     "start_time": "2018-06-12T07:21:34.619668Z"
    }
   },
   "outputs": [],
   "source": [
    "#Input temperature datasets\n",
    "min_xr = xr.open_dataset(input_folder+min_nc, decode_times=False)\n",
    "mean_xr = xr.open_dataset(input_folder+mean_nc, decode_times=False)\n",
    "max_xr = xr.open_dataset(input_folder+max_nc, decode_times=False)"
   ]
  },
  {
   "cell_type": "code",
   "execution_count": 232,
   "metadata": {
    "ExecuteTime": {
     "end_time": "2018-06-12T07:21:34.860828Z",
     "start_time": "2018-06-12T07:21:34.854475Z"
    }
   },
   "outputs": [
    {
     "name": "stdout",
     "output_type": "stream",
     "text": [
      "<xarray.Dataset>\n",
      "Dimensions:    (bnds: 2, lat: 13, lon: 14, time: 31)\n",
      "Coordinates:\n",
      "  * time       (time) float64 3.78e+04 1.242e+05 2.106e+05 2.97e+05 ...\n",
      "  * lon        (lon) float32 101.75 102.25 102.75 103.25 103.75 104.25 ...\n",
      "  * lat        (lat) float32 9.25 9.75 10.25 10.75 11.25 11.75 12.25 12.75 ...\n",
      "Dimensions without coordinates: bnds\n",
      "Data variables:\n",
      "    time_bnds  (time, bnds) float64 ...\n",
      "    Tair       (time, lat, lon) float64 ...\n",
      "    timestp    (time) int32 ...\n",
      "Attributes:\n",
      "    CDI:                       Climate Data Interface version 1.9.2 (http://m...\n",
      "    Conventions:               CF-1.6\n",
      "    history:                   Tue Jun 12 16:04:56 2018: cdo daymean /g/data/...\n",
      "    Title:                     WATCH Forcing Data methodology applied \\nto ER...\n",
      "    Note1:                     EI data regridded to half degree regular lat-lon\n",
      "    Note2:                     Genuine land points from CRU grid only\n",
      "    Note3:                     Tair elevation & bias-corrected using \\nCRU TS...\n",
      "    Info1:                     www.ecmwf.int/products/data/archive \\n        ...\n",
      "    Info2:                     http://badc.nerc.ac.uk/browse/badc/cru \\n     ...\n",
      "    Methodology::              Weedon et al 2011 J.Hydromet. 12, 823-848 \\n  ...\n",
      "    Institution:               Met Office, JCHMR, Wallingford, UK\n",
      "    History:                   Fri May 25 10:28:34 2018: ncap2 -s Tair=Tair-2...\n",
      "    Contact:                   graham.weedon@metoffice.gov.uk\n",
      "    NCO:                       4.3.7\n",
      "    nco_openmp_thread_number:  1\n",
      "    frequency:                 day\n",
      "    CDO:                       Climate Data Operators version 1.9.2 (http://m...\n"
     ]
    }
   ],
   "source": [
    "#Check array\n",
    "print(mean_xr)"
   ]
  },
  {
   "cell_type": "markdown",
   "metadata": {},
   "source": [
    "# Reformat date variable"
   ]
  },
  {
   "cell_type": "code",
   "execution_count": 233,
   "metadata": {
    "ExecuteTime": {
     "end_time": "2018-06-12T07:21:35.391278Z",
     "start_time": "2018-06-12T07:21:35.366727Z"
    }
   },
   "outputs": [
    {
     "name": "stdout",
     "output_type": "stream",
     "text": [
      "<xarray.DataArray (time: 31)>\n",
      "array(['1979-01-01T10:30:00.000000000', '1979-01-02T10:30:00.000000000',\n",
      "       '1979-01-03T10:30:00.000000000', '1979-01-04T10:30:00.000000000',\n",
      "       '1979-01-05T10:30:00.000000000', '1979-01-06T10:30:00.000000000',\n",
      "       '1979-01-07T10:30:00.000000000', '1979-01-08T10:30:00.000000000',\n",
      "       '1979-01-09T10:30:00.000000000', '1979-01-10T10:30:00.000000000',\n",
      "       '1979-01-11T10:30:00.000000000', '1979-01-12T10:30:00.000000000',\n",
      "       '1979-01-13T10:30:00.000000000', '1979-01-14T10:30:00.000000000',\n",
      "       '1979-01-15T10:30:00.000000000', '1979-01-16T10:30:00.000000000',\n",
      "       '1979-01-17T10:30:00.000000000', '1979-01-18T10:30:00.000000000',\n",
      "       '1979-01-19T10:30:00.000000000', '1979-01-20T10:30:00.000000000',\n",
      "       '1979-01-21T10:30:00.000000000', '1979-01-22T10:30:00.000000000',\n",
      "       '1979-01-23T10:30:00.000000000', '1979-01-24T10:30:00.000000000',\n",
      "       '1979-01-25T10:30:00.000000000', '1979-01-26T10:30:00.000000000',\n",
      "       '1979-01-27T10:30:00.000000000', '1979-01-28T10:30:00.000000000',\n",
      "       '1979-01-29T10:30:00.000000000', '1979-01-30T10:30:00.000000000',\n",
      "       '1979-01-31T10:30:00.000000000'], dtype='datetime64[ns]')\n",
      "Coordinates:\n",
      "  * time     (time) float64 3.78e+04 1.242e+05 2.106e+05 2.97e+05 3.834e+05 ...\n"
     ]
    }
   ],
   "source": [
    "#Create function to calculate date from netcdf (as units of netcdf are \"seconds since 20xx-xx-xx 00:00:00\" )\n",
    "def to_date(epoch, time_unit):\n",
    "    time_unit =  datetime.strptime(time_unit, '%Y-%m-%d %H:%M:%S') \n",
    "    return time_unit + timedelta(seconds=epoch)\n",
    "#Calculate date from netcdf and save as xarray dataset\n",
    "time = xr.DataArray([to_date(epoch, min_xr.time.units[14:]) for epoch in min_xr.time.values.tolist()], coords={'time': min_xr.time}, dims=('time',))\n",
    "print(time)"
   ]
  },
  {
   "cell_type": "code",
   "execution_count": 234,
   "metadata": {
    "ExecuteTime": {
     "end_time": "2018-06-12T07:21:35.647227Z",
     "start_time": "2018-06-12T07:21:35.605748Z"
    }
   },
   "outputs": [
    {
     "name": "stdout",
     "output_type": "stream",
     "text": [
      "<xarray.DataArray (time: 31)>\n",
      "array([ 1,  2,  3,  4,  5,  6,  7,  8,  9, 10, 11, 12, 13, 14, 15, 16, 17, 18,\n",
      "       19, 20, 21, 22, 23, 24, 25, 26, 27, 28, 29, 30, 31])\n",
      "Coordinates:\n",
      "  * time     (time) float64 3.78e+04 1.242e+05 2.106e+05 2.97e+05 3.834e+05 ...\n"
     ]
    }
   ],
   "source": [
    "#Create function to calulate julian day of year (days since start of year)\n",
    "def julian_days(epoch, time_unit):\n",
    "    start_of_year = datetime.strptime('01/01/'+ str(time_unit),'%m/%d/%Y')\n",
    "    start_of_month = datetime.strptime(min_xr.time.units[14:], '%Y-%m-%d %H:%M:%S') \n",
    "    epoch = start_of_month + timedelta(seconds=epoch)\n",
    "    j_days = int((((epoch - start_of_year)+timedelta(days=1))/timedelta(days=1)))\n",
    "    return (j_days)\n",
    "#Calculate julian days and save as an array\n",
    "j_days = xr.DataArray([julian_days(epoch, \n",
    "                                   min_xr.time.units[14:18]) for epoch in time.time.values.tolist()], \n",
    "                      coords={'time': min_xr.time}, dims=('time',))\n",
    "print(j_days)"
   ]
  },
  {
   "cell_type": "code",
   "execution_count": 235,
   "metadata": {
    "ExecuteTime": {
     "end_time": "2018-06-12T07:21:35.868217Z",
     "start_time": "2018-06-12T07:21:35.861819Z"
    }
   },
   "outputs": [
    {
     "name": "stdout",
     "output_type": "stream",
     "text": [
      "1979 is not a leap year\n",
      "365\n"
     ]
    }
   ],
   "source": [
    "#Create function to test whether the year of interest is a leap year\n",
    "def leap_year(year):\n",
    "    if calendar.isleap(int(year)) == True:\n",
    "        print(str(year) +' is a leap year')\n",
    "        ndy = 366\n",
    "    else:\n",
    "        print(str(year) +' is not a leap year')\n",
    "        ndy = 365\n",
    "    return(ndy)\n",
    "#Use function and save the number of days within the year to a variable\n",
    "ndy = leap_year( min_xr.time.units[14:18])\n",
    "print(ndy)"
   ]
  },
  {
   "cell_type": "markdown",
   "metadata": {},
   "source": [
    "# Calculate the difference in max and min temperature"
   ]
  },
  {
   "cell_type": "code",
   "execution_count": 236,
   "metadata": {
    "ExecuteTime": {
     "end_time": "2018-06-12T07:21:36.387495Z",
     "start_time": "2018-06-12T07:21:36.374398Z"
    }
   },
   "outputs": [
    {
     "name": "stdout",
     "output_type": "stream",
     "text": [
      "<xarray.DataArray 'Tair' (time: 31, lat: 13, lon: 14)>\n",
      "array([[[      nan,       nan, ...,       nan,       nan],\n",
      "        [      nan,       nan, ...,       nan,       nan],\n",
      "        ...,\n",
      "        [17.170868, 15.867645, ...,  6.073151,  4.085083],\n",
      "        [16.701416, 15.60083 , ...,  5.179626,  3.687134]],\n",
      "\n",
      "       [[      nan,       nan, ...,       nan,       nan],\n",
      "        [      nan,       nan, ...,       nan,       nan],\n",
      "        ...,\n",
      "        [19.31424 , 17.881805, ...,  6.780487,  4.735474],\n",
      "        [18.743195, 16.871582, ...,  6.110413,  4.205872]],\n",
      "\n",
      "       ...,\n",
      "\n",
      "       [[      nan,       nan, ...,       nan,       nan],\n",
      "        [      nan,       nan, ...,       nan,       nan],\n",
      "        ...,\n",
      "        [15.075378, 15.339081, ...,  5.641571,  6.302032],\n",
      "        [14.562775, 14.036774, ...,  5.455078,  5.808136]],\n",
      "\n",
      "       [[      nan,       nan, ...,       nan,       nan],\n",
      "        [      nan,       nan, ...,       nan,       nan],\n",
      "        ...,\n",
      "        [26.65329 , 27.051208, ...,  6.023712,  7.20929 ],\n",
      "        [27.66626 , 25.444641, ...,  7.557526,  7.585571]]])\n",
      "Coordinates:\n",
      "  * time     (time) float64 3.78e+04 1.242e+05 2.106e+05 2.97e+05 3.834e+05 ...\n",
      "  * lon      (lon) float32 101.75 102.25 102.75 103.25 103.75 104.25 104.75 ...\n",
      "  * lat      (lat) float32 9.25 9.75 10.25 10.75 11.25 11.75 12.25 12.75 ...\n"
     ]
    }
   ],
   "source": [
    "#Create array of temperature difference\n",
    "T_diff = max_xr.Tair - min_xr.Tair\n",
    "print(T_diff)"
   ]
  },
  {
   "cell_type": "markdown",
   "metadata": {},
   "source": [
    "# Save latitude as radians"
   ]
  },
  {
   "cell_type": "code",
   "execution_count": 237,
   "metadata": {
    "ExecuteTime": {
     "end_time": "2018-06-12T07:21:36.879515Z",
     "start_time": "2018-06-12T07:21:36.873429Z"
    }
   },
   "outputs": [
    {
     "name": "stdout",
     "output_type": "stream",
     "text": [
      "<xarray.DataArray 'lat' (lat: 13)>\n",
      "array([0.161443, 0.17017 , 0.178896, 0.187623, 0.19635 , 0.205076, 0.213803,\n",
      "       0.222529, 0.231256, 0.239983, 0.248709, 0.257436, 0.266163],\n",
      "      dtype=float32)\n",
      "Coordinates:\n",
      "  * lat      (lat) float32 9.25 9.75 10.25 10.75 11.25 11.75 12.25 12.75 ...\n"
     ]
    }
   ],
   "source": [
    "#Create array of latitude in radians\n",
    "lat_rad = np.radians(min_xr.lat)\n",
    "print(lat_rad)"
   ]
  },
  {
   "cell_type": "markdown",
   "metadata": {},
   "source": [
    "# Calculate variables associated with solar radiation at specific latitude"
   ]
  },
  {
   "cell_type": "code",
   "execution_count": 238,
   "metadata": {
    "ExecuteTime": {
     "end_time": "2018-06-12T07:21:37.511768Z",
     "start_time": "2018-06-12T07:21:37.504335Z"
    }
   },
   "outputs": [
    {
     "name": "stdout",
     "output_type": "stream",
     "text": [
      "<bound method DataArray.isel of <xarray.DataArray (time: 31)>\n",
      "array([1.032995, 1.03298 , 1.032956, 1.032922, 1.032878, 1.032824, 1.032761,\n",
      "       1.032688, 1.032605, 1.032512, 1.03241 , 1.032298, 1.032177, 1.032046,\n",
      "       1.031906, 1.031756, 1.031597, 1.031428, 1.031251, 1.031063, 1.030867,\n",
      "       1.030662, 1.030447, 1.030224, 1.029991, 1.02975 , 1.029499, 1.02924 ,\n",
      "       1.028973, 1.028696, 1.028412])\n",
      "Coordinates:\n",
      "  * time     (time) float64 3.78e+04 1.242e+05 2.106e+05 2.97e+05 3.834e+05 ...>\n"
     ]
    }
   ],
   "source": [
    "# Caclulate the inverse relative distance between the Earth and the Sun\n",
    "# Unit: dr in radians\n",
    "dr = 1 + 0.033 * np.cos(2 * np.pi * j_days / ndy)\n",
    "print(dr.isel)"
   ]
  },
  {
   "cell_type": "code",
   "execution_count": 239,
   "metadata": {
    "ExecuteTime": {
     "end_time": "2018-06-12T07:21:37.925909Z",
     "start_time": "2018-06-12T07:21:37.919299Z"
    }
   },
   "outputs": [
    {
     "name": "stdout",
     "output_type": "stream",
     "text": [
      "<xarray.DataArray (time: 31)>\n",
      "array([-0.401008, -0.399564, -0.398001, -0.39632 , -0.394522, -0.392607,\n",
      "       -0.390576, -0.388429, -0.386166, -0.38379 , -0.381299, -0.378696,\n",
      "       -0.37598 , -0.373153, -0.370216, -0.367169, -0.364012, -0.360749,\n",
      "       -0.357378, -0.353901, -0.350319, -0.346634, -0.342846, -0.338956,\n",
      "       -0.334966, -0.330877, -0.326689, -0.322405, -0.318025, -0.313551,\n",
      "       -0.308984])\n",
      "Coordinates:\n",
      "  * time     (time) float64 3.78e+04 1.242e+05 2.106e+05 2.97e+05 3.834e+05 ...\n"
     ]
    }
   ],
   "source": [
    "# Calculate solar declination\n",
    "# Unit: sd in radians\n",
    "sd = 0.409 * np.sin(2 * mt.pi * j_days / ndy - 1.39)\n",
    "print(sd)"
   ]
  },
  {
   "cell_type": "code",
   "execution_count": 240,
   "metadata": {
    "ExecuteTime": {
     "end_time": "2018-06-12T07:21:38.309942Z",
     "start_time": "2018-06-12T07:21:38.302396Z"
    }
   },
   "outputs": [
    {
     "name": "stdout",
     "output_type": "stream",
     "text": [
      "<xarray.DataArray (lat: 13, time: 31)>\n",
      "array([[0.995232, 0.99527 , 0.995311, ..., 0.997126, 0.997211, 0.997297],\n",
      "       [0.994692, 0.994735, 0.994781, ..., 0.9968  , 0.996896, 0.996991],\n",
      "       [0.994122, 0.994169, 0.99422 , ..., 0.996456, 0.996562, 0.996668],\n",
      "       ...,\n",
      "       [0.988406, 0.988498, 0.988598, ..., 0.99301 , 0.993219, 0.993428],\n",
      "       [0.98754 , 0.98764 , 0.987747, ..., 0.992488, 0.992712, 0.992937],\n",
      "       [0.986639, 0.986746, 0.986861, ..., 0.991945, 0.992185, 0.992426]])\n",
      "Coordinates:\n",
      "  * lat      (lat) float32 9.25 9.75 10.25 10.75 11.25 11.75 12.25 12.75 ...\n",
      "  * time     (time) float64 3.78e+04 1.242e+05 2.106e+05 2.97e+05 3.834e+05 ...\n"
     ]
    }
   ],
   "source": [
    "# Calculate a sunset angle input variable\n",
    "# Unit: no unit\n",
    "sa_X = 1 - (np.tan(lat_rad))**2 * ((np.tan(sd))**2)\n",
    "print(sa_X)"
   ]
  },
  {
   "cell_type": "code",
   "execution_count": 241,
   "metadata": {
    "ExecuteTime": {
     "end_time": "2018-06-12T07:21:38.667785Z",
     "start_time": "2018-06-12T07:21:38.654682Z"
    }
   },
   "outputs": [
    {
     "name": "stdout",
     "output_type": "stream",
     "text": [
      "<xarray.DataArray (lat: 13, time: 31)>\n",
      "array([[1.501691, 1.501969, 1.50227 , ..., 1.517157, 1.517965, 1.518787],\n",
      "       [1.497878, 1.498172, 1.498489, ..., 1.514199, 1.515052, 1.515919],\n",
      "       [1.494053, 1.494361, 1.494695, ..., 1.511232, 1.512129, 1.513042],\n",
      "       ...,\n",
      "       [1.462909, 1.463344, 1.463815, ..., 1.487093, 1.488355, 1.489639],\n",
      "       [1.458938, 1.459389, 1.459877, ..., 1.484017, 1.485325, 1.486657],\n",
      "       [1.454947, 1.455414, 1.455919, ..., 1.480925, 1.482281, 1.48366 ]])\n",
      "Coordinates:\n",
      "  * lat      (lat) float32 9.25 9.75 10.25 10.75 11.25 11.75 12.25 12.75 ...\n",
      "  * time     (time) float64 3.78e+04 1.242e+05 2.106e+05 2.97e+05 3.834e+05 ...\n"
     ]
    }
   ],
   "source": [
    "# Calculate sunset angle\n",
    "# Units: sa in radians\n",
    "sa = mt.pi / 2 - np.arctan(-np.tan(lat_rad) * np.tan(sd) / np.sqrt(sa_X))\n",
    "print(sa)"
   ]
  },
  {
   "cell_type": "code",
   "execution_count": 242,
   "metadata": {
    "ExecuteTime": {
     "end_time": "2018-06-12T07:21:39.099737Z",
     "start_time": "2018-06-12T07:21:39.085421Z"
    }
   },
   "outputs": [
    {
     "name": "stdout",
     "output_type": "stream",
     "text": [
      "<xarray.DataArray (time: 31, lat: 13)>\n",
      "array([[31.538599, 31.291606, 31.042742, ..., 28.987134, 28.722438, 28.456096],\n",
      "       [31.572136, 31.325744, 31.077474, ..., 29.02638 , 28.762217, 28.496402],\n",
      "       [31.608088, 31.362349, 31.114724, ..., 29.06854 , 28.804958, 28.539716],\n",
      "       ...,\n",
      "       [33.256539, 33.045948, 32.833155, ..., 31.053829, 30.822072, 30.588303],\n",
      "       [33.340672, 33.132117, 32.921346, ..., 31.1576  , 30.927714, 30.695798],\n",
      "       [33.425747, 33.219278, 33.010577, ..., 31.262795, 31.034827, 30.804811]])\n",
      "Coordinates:\n",
      "  * time     (time) float64 3.78e+04 1.242e+05 2.106e+05 2.97e+05 3.834e+05 ...\n",
      "  * lat      (lat) float32 9.25 9.75 10.25 10.75 11.25 11.75 12.25 12.75 ...\n"
     ]
    }
   ],
   "source": [
    "# Calcualte extraterrestrial radiation\n",
    "# Units: ra in MJ / (m^ day)\n",
    "ra = 37.586 * dr * (sa * np.sin(lat_rad) * np.sin(sd) + np.cos(lat_rad) * np.cos(sd) * np.sin(sa))\n",
    "print(ra)"
   ]
  },
  {
   "cell_type": "markdown",
   "metadata": {},
   "source": [
    "# Calculate Potential Evapo-Transpiration (PET)"
   ]
  },
  {
   "cell_type": "code",
   "execution_count": 249,
   "metadata": {
    "ExecuteTime": {
     "end_time": "2018-06-12T07:25:26.283835Z",
     "start_time": "2018-06-12T07:25:26.273392Z"
    }
   },
   "outputs": [
    {
     "name": "stdout",
     "output_type": "stream",
     "text": [
      "<xarray.Dataset>\n",
      "Dimensions:  (lat: 13, lon: 14, time: 31)\n",
      "Coordinates:\n",
      "  * time     (time) float64 3.78e+04 1.242e+05 2.106e+05 2.97e+05 3.834e+05 ...\n",
      "  * lon      (lon) float32 101.75 102.25 102.75 103.25 103.75 104.25 104.75 ...\n",
      "  * lat      (lat) float32 9.25 9.75 10.25 10.75 11.25 11.75 12.25 12.75 ...\n",
      "Data variables:\n",
      "    PET      (time, lat, lon) float64 nan nan nan nan nan nan 3.031 2.99 ...\n"
     ]
    }
   ],
   "source": [
    "# # Calculate Potential Evapotranspiration\n",
    "# # Units: PET in mm/day\n",
    "\n",
    "pet = 0.0009384 * (mean_xr.Tair + 17.8) * np.sqrt(T_diff) * ra\n",
    "pet = xr.Dataset({'PET':pet})\n",
    "pet.PET.attrs['units'] = 'mm/day'\n",
    "print(pet)"
   ]
  },
  {
   "cell_type": "code",
   "execution_count": 250,
   "metadata": {
    "ExecuteTime": {
     "end_time": "2018-06-12T07:25:31.279354Z",
     "start_time": "2018-06-12T07:25:31.266200Z"
    }
   },
   "outputs": [
    {
     "data": {
      "text/plain": [
       "<xarray.DataArray 'PET' (time: 31, lat: 13, lon: 14)>\n",
       "array([[[     nan,      nan, ...,      nan,      nan],\n",
       "        [     nan,      nan, ...,      nan,      nan],\n",
       "        ...,\n",
       "        [4.952039, 4.714145, ..., 2.545436, 2.066632],\n",
       "        [4.871423, 4.67987 , ..., 2.269898, 1.999368]],\n",
       "\n",
       "       [[     nan,      nan, ...,      nan,      nan],\n",
       "        [     nan,      nan, ...,      nan,      nan],\n",
       "        ...,\n",
       "        [5.355132, 5.101752, ..., 2.703864, 2.229193],\n",
       "        [5.2879  , 4.986188, ..., 2.48266 , 2.14067 ]],\n",
       "\n",
       "       ...,\n",
       "\n",
       "       [[     nan,      nan, ...,      nan,      nan],\n",
       "        [     nan,      nan, ...,      nan,      nan],\n",
       "        ...,\n",
       "        [5.022806, 5.070326, ..., 2.700368, 2.906334],\n",
       "        [4.957335, 4.890787, ..., 2.610068, 2.858268]],\n",
       "\n",
       "       [[     nan,      nan, ...,      nan,      nan],\n",
       "        [     nan,      nan, ...,      nan,      nan],\n",
       "        ...,\n",
       "        [6.533857, 6.406227, ..., 2.483016, 2.746853],\n",
       "        [6.60129 , 6.148051, ..., 2.668827, 2.853878]]])\n",
       "Coordinates:\n",
       "  * time     (time) float64 3.78e+04 1.242e+05 2.106e+05 2.97e+05 3.834e+05 ...\n",
       "  * lon      (lon) float32 101.75 102.25 102.75 103.25 103.75 104.25 104.75 ...\n",
       "  * lat      (lat) float32 9.25 9.75 10.25 10.75 11.25 11.75 12.25 12.75 ...\n",
       "Attributes:\n",
       "    units:    mm/day"
      ]
     },
     "execution_count": 250,
     "metadata": {},
     "output_type": "execute_result"
    }
   ],
   "source": [
    "pet.PET"
   ]
  },
  {
   "cell_type": "code",
   "execution_count": 225,
   "metadata": {
    "ExecuteTime": {
     "end_time": "2018-06-12T07:11:56.084025Z",
     "start_time": "2018-06-12T07:11:55.773344Z"
    }
   },
   "outputs": [],
   "source": [
    "#Save PET output as netcdf\n",
    "pet.to_netcdf(path = str(input_folder) +'PET'+nc_name[12:])"
   ]
  },
  {
   "cell_type": "code",
   "execution_count": 217,
   "metadata": {
    "ExecuteTime": {
     "end_time": "2018-06-12T07:03:55.324664Z",
     "start_time": "2018-06-12T07:03:55.305604Z"
    }
   },
   "outputs": [
    {
     "ename": "NameError",
     "evalue": "name 'T_mean' is not defined",
     "output_type": "error",
     "traceback": [
      "\u001b[0;31m---------------------------------------------------------------------------\u001b[0m",
      "\u001b[0;31mNameError\u001b[0m                                 Traceback (most recent call last)",
      "\u001b[0;32m<ipython-input-217-2d1fabcf9942>\u001b[0m in \u001b[0;36m<module>\u001b[0;34m()\u001b[0m\n\u001b[1;32m     98\u001b[0m \u001b[0;31m# Units: PET in mm/day\u001b[0m\u001b[0;34m\u001b[0m\u001b[0;34m\u001b[0m\u001b[0m\n\u001b[1;32m     99\u001b[0m \u001b[0;31m# Example: PET = 0.0009384 * (30.2 + 17.8) * sqrt(9.2) * 38.06 = 5.2 mm/day\u001b[0m\u001b[0;34m\u001b[0m\u001b[0;34m\u001b[0m\u001b[0m\n\u001b[0;32m--> 100\u001b[0;31m \u001b[0mpet\u001b[0m \u001b[0;34m=\u001b[0m \u001b[0;36m0.0009384\u001b[0m \u001b[0;34m*\u001b[0m \u001b[0;34m(\u001b[0m\u001b[0mT_mean\u001b[0m \u001b[0;34m+\u001b[0m \u001b[0;36m17.8\u001b[0m\u001b[0;34m)\u001b[0m \u001b[0;34m*\u001b[0m \u001b[0mmt\u001b[0m\u001b[0;34m.\u001b[0m\u001b[0msqrt\u001b[0m\u001b[0;34m(\u001b[0m\u001b[0mT_diff\u001b[0m\u001b[0;34m)\u001b[0m \u001b[0;34m*\u001b[0m \u001b[0mra\u001b[0m\u001b[0;34m\u001b[0m\u001b[0m\n\u001b[0m\u001b[1;32m    101\u001b[0m \u001b[0mprint\u001b[0m\u001b[0;34m(\u001b[0m\u001b[0;34m'PET: '\u001b[0m\u001b[0;34m+\u001b[0m\u001b[0mstr\u001b[0m\u001b[0;34m(\u001b[0m\u001b[0mpet\u001b[0m\u001b[0;34m)\u001b[0m\u001b[0;34m)\u001b[0m\u001b[0;34m\u001b[0m\u001b[0m\n\u001b[1;32m    102\u001b[0m \u001b[0;34m\u001b[0m\u001b[0m\n",
      "\u001b[0;31mNameError\u001b[0m: name 'T_mean' is not defined"
     ]
    }
   ],
   "source": [
    "\n",
    "# #Save time variable\n",
    "# time_unit = datetime.strptime(min_xr.time.units[14:], '%Y-%m-%d %H:%M:%S') \n",
    "# time_seconds = int(min_xr.time.isel(time=time_index).values)\n",
    "# date = time_unit + timedelta(seconds = time_seconds)\n",
    "# print('date: '+str(date))\n",
    "\n",
    "# #Save coordinates\n",
    "# lat_deg = float(min_xr.isel(time = time_index).lat[lat_index].values)\n",
    "# lon_deg = float(min_xr.isel(time = time_index).lon[lon_index].values)\n",
    "# print('lat: '+str(lat_deg))\n",
    "# print('lon: '+str(lon_deg))\n",
    "\n",
    "\n",
    "\n",
    "# #Save temperature varaibles\n",
    "# T_min =  float(min_xr.sel(time = time_seconds, lat = lat_deg, lon = lon_deg).Tair)\n",
    "# T_mean = float(mean_xr.sel(time = time_seconds, lat = lat_deg, lon = lon_deg).Tair)\n",
    "# T_max = float(max_xr.sel(time = time_seconds, lat = lat_deg, lon = lon_deg).Tair)\n",
    "# print('Minimum temp: '+ str(T_min))\n",
    "# print('Mean temp: '+ str(T_mean))\n",
    "# print('Maximum temp: '+ str(T_max))\n",
    "\n",
    "# # Calculate temperature difference\n",
    "# # Units: T_diff in degrees C\n",
    "# # Example: T_diff = 34.8 - 25.6 = 9.2 degrees C\n",
    "\n",
    "# T_diff = T_max - T_min\n",
    "# print('T_DIFF: ' +str(T_diff))\n",
    "\n",
    "# # Convert latitude to radians\n",
    "# # Unit: lat_rad in radians (northern hemisphere)\n",
    "# # Example: lat_rad = (pi / 180) * 13.73 = + 0.240 radians\n",
    "\n",
    "# lat_rad = (mt.pi / 180) * lat_deg \n",
    "\n",
    "# print('LAT_RAD'+str(lat_rad))\n",
    "\n",
    "# # Convert date to julian day of the year\n",
    "# # Unit: j_days in julian days\n",
    "# # Example: j_days = days between (\"15/4/2015\",\"1/1/2015\") + 1 = 105 julian days\n",
    "\n",
    "# start_of_year = datetime.strptime('01/01/'+ str(date.year),'%m/%d/%Y') #save first day of year as variable\n",
    "# j_days = int(((date - start_of_year)+timedelta(days=1))/timedelta(days=1)) #calculate julian days\n",
    "# print('J_DAYS: '+str(j_days))\n",
    "\n",
    "# Calculate the number of days in the year to account for leap year\n",
    "# Units: ndy in days\n",
    "\n",
    "# def leap_year(year):\n",
    "#     if calendar.isleap(year) == True:\n",
    "#         print(str(year) +' is a leap year')\n",
    "#         ndy = 366\n",
    "#     else:\n",
    "#         print(str(year) +' is not a leap year')\n",
    "#         ndy = 365\n",
    "    \n",
    "\n",
    "# print('NDY: '+str(ndy))\n",
    "\n",
    "# Caclulate the inverse relative distance between the Earth and the Sun\n",
    "# Unit: dr in radians\n",
    "# Example: dr = 1 + 0.033* cos(2*pi*105/365) = 0.992 radians\n",
    "\n",
    "# dr = 1 + 0.033 * mt.cos(2 * mt.pi * j_days / ndy)\n",
    "# print('DR: '+str(dr))\n",
    "\n",
    "# Calculate solar declination\n",
    "# Unit: sd in radians\n",
    "# Example: sd = 0.409 * sin(2 * pi * 105 / 365 - 1.39) = 0.166 radians\n",
    "\n",
    "# sd = 0.409 * mt.sin(2 * mt.pi * j_days / 365 - 1.39)\n",
    "# print('SD: '+str(sd))\n",
    "\n",
    "# Calculate a sunset angle input variable\n",
    "# Unit: no unit\n",
    "# Example: sa_X = 1 - [tan(0.24)]^2 * [tan(0.166)]^2 = 0.998\n",
    "\n",
    "# sa_X = 1 - (mt.tan(lat_rad))**2 * ((mt.tan(sd))**2)\n",
    "# print('SA_X: '+str(sa_X))\n",
    "\n",
    "# Calculate sunset angle\n",
    "# Units: sa in radians\n",
    "# Example: sa = pi / 2 - arctan(-tan(0.24) * tan(0.166) / sqrt(0.998)) = 1.612 radians\n",
    "\n",
    "# sa = mt.pi / 2 - mt.atan(-mt.tan(lat_rad) * mt.tan(sd) / mt.sqrt(sa_X))\n",
    "# print('SA: '+str(sa))\n",
    "\n",
    "# Calcualte extraterrestrial radiation\n",
    "# Units: ra in MJ / (m^ day)\n",
    "# Example: ra = 37.586 * 0.992 * (1.612 * sin(0.24) * sin(0.166) + cos(0.24) * cos(0.166) * sin(1.612)) = 38.06 MJ / (m^ day)\n",
    "\n",
    "# ra = 37.586 * dr * (sa * mt.sin(lat_rad) * mt.sin(sd) + mt.cos(lat_rad) * mt.cos(sd) * mt.sin(sa))\n",
    "# print('RA: '+str(ra))\n",
    "\n",
    "\n",
    "# Calculate Potential Evapotranspiration\n",
    "# Units: PET in mm/day\n",
    "# Example: PET = 0.0009384 * (30.2 + 17.8) * sqrt(9.2) * 38.06 = 5.2 mm/day\n",
    "pet = 0.0009384 * (T_mean + 17.8) * mt.sqrt(T_diff) * ra\n",
    "print('PET: '+str(pet))\n",
    "\n",
    "\n",
    "####Create array with values\n",
    "lat_deg\n",
    "lon_deg\n",
    "date\n",
    "PET\n",
    "\n",
    "test_array = np.nan()\n",
    "#create an xarray\n",
    "#create netcdf of PET\n"
   ]
  },
  {
   "cell_type": "code",
   "execution_count": 218,
   "metadata": {
    "ExecuteTime": {
     "end_time": "2018-06-12T07:03:55.716634Z",
     "start_time": "2018-06-12T07:03:55.713438Z"
    }
   },
   "outputs": [],
   "source": [
    "# lat_shape = float(min_xr.lat.shape[0])\n",
    "# lon_shape = float(min_xr.lon.shape[0])"
   ]
  },
  {
   "cell_type": "code",
   "execution_count": null,
   "metadata": {
    "ExecuteTime": {
     "end_time": "2018-06-08T01:00:24.406816Z",
     "start_time": "2018-06-08T01:00:24.403894Z"
    }
   },
   "outputs": [],
   "source": [
    "# for blah in min_xr.Tair:\n",
    "#     print(print(blah.lat\n",
    "    "
   ]
  },
  {
   "cell_type": "code",
   "execution_count": null,
   "metadata": {
    "ExecuteTime": {
     "end_time": "2018-06-08T01:22:11.039870Z",
     "start_time": "2018-06-08T01:22:11.033143Z"
    }
   },
   "outputs": [],
   "source": [
    "# min_xr.isel(time=0,lat = 0, lon = 0).Tair"
   ]
  },
  {
   "cell_type": "code",
   "execution_count": null,
   "metadata": {
    "ExecuteTime": {
     "end_time": "2018-06-08T01:22:18.959491Z",
     "start_time": "2018-06-08T01:22:18.956543Z"
    }
   },
   "outputs": [],
   "source": [
    "# result_array = np.empty((10, 10))\n",
    "\n",
    "# num = 1\n",
    "\n",
    "# for line in data_array:\n",
    "#     result = do_stuff(line)\n",
    "#     result_array = np.append(result_array, [result], axis=0)"
   ]
  },
  {
   "cell_type": "code",
   "execution_count": null,
   "metadata": {
    "ExecuteTime": {
     "end_time": "2018-06-08T01:57:12.631786Z",
     "start_time": "2018-06-08T01:57:12.627200Z"
    }
   },
   "outputs": [],
   "source": [
    "#  time.values[0]"
   ]
  },
  {
   "cell_type": "code",
   "execution_count": null,
   "metadata": {
    "ExecuteTime": {
     "end_time": "2018-06-08T06:49:12.184088Z",
     "start_time": "2018-06-08T06:49:12.180365Z"
    }
   },
   "outputs": [],
   "source": [
    "# [to_date(epoch, time_unit) for epoch in time.values.tolist()]"
   ]
  },
  {
   "cell_type": "code",
   "execution_count": null,
   "metadata": {
    "ExecuteTime": {
     "end_time": "2018-06-08T06:49:16.868764Z",
     "start_time": "2018-06-08T06:49:16.865867Z"
    }
   },
   "outputs": [],
   "source": [
    "# to_date()"
   ]
  },
  {
   "cell_type": "code",
   "execution_count": null,
   "metadata": {
    "ExecuteTime": {
     "end_time": "2018-06-08T06:51:15.905007Z",
     "start_time": "2018-06-08T06:51:15.895691Z"
    }
   },
   "outputs": [],
   "source": [
    "# time_unit = datetime.strptime(min_xr.time.units[14:], '%Y-%m-%d %H:%M:%S') "
   ]
  },
  {
   "cell_type": "code",
   "execution_count": null,
   "metadata": {
    "ExecuteTime": {
     "end_time": "2018-06-05T06:38:38.872010Z",
     "start_time": "2018-06-05T06:38:38.866771Z"
    }
   },
   "outputs": [],
   "source": [
    "# #Save time variable\n",
    "# time_unit = datetime.strptime(min_xr.time.units[14:], '%Y-%m-%d %H:%M:%S') \n",
    "# time_seconds = int(min_xr.time.isel(time=time_index).values)\n",
    "# date = time_unit + timedelta(seconds = time_seconds)\n",
    "# print('date: '+str(date))\n",
    "\n",
    "# #Save coordinates\n",
    "# lat_deg = float(min_xr.isel(time = time_index).lat[lat_index].values)\n",
    "# lon_deg = float(min_xr.isel(time = time_index).lon[lon_index].values)\n",
    "# print('lat: '+str(lat_deg))\n",
    "# print('lon: '+str(lon_deg))\n",
    "\n",
    "# #Save temperature varaibles\n",
    "# T_min =  float(min_xr.sel(time = time_seconds, lat = lat_deg, lon = lon_deg).Tair)\n",
    "# T_mean = float(mean_xr.sel(time = time_seconds, lat = lat_deg, lon = lon_deg).Tair)\n",
    "# T_max = float(max_xr.sel(time = time_seconds, lat = lat_deg, lon = lon_deg).Tair)\n",
    "# print('Minimum temp: '+ str(T_min))\n",
    "# print('Mean temp: '+ str(T_mean))\n",
    "# print('Maximum temp: '+ str(T_max))"
   ]
  },
  {
   "cell_type": "markdown",
   "metadata": {},
   "source": [
    "## Calculate max and min temperature difference"
   ]
  },
  {
   "cell_type": "code",
   "execution_count": null,
   "metadata": {
    "ExecuteTime": {
     "end_time": "2018-06-05T06:38:41.427295Z",
     "start_time": "2018-06-05T06:38:41.424395Z"
    }
   },
   "outputs": [],
   "source": [
    "# # Calculate temperature difference\n",
    "# # Units: T_diff in degrees C\n",
    "# # Example: T_diff = 34.8 - 25.6 = 9.2 degrees C\n",
    "\n",
    "# T_diff = T_max - T_min\n",
    "# print(T_diff)"
   ]
  },
  {
   "cell_type": "markdown",
   "metadata": {},
   "source": [
    "## Convert latitude"
   ]
  },
  {
   "cell_type": "code",
   "execution_count": null,
   "metadata": {
    "ExecuteTime": {
     "end_time": "2018-06-05T06:38:44.666165Z",
     "start_time": "2018-06-05T06:38:44.663286Z"
    }
   },
   "outputs": [],
   "source": [
    "# # Convert latitude to radians\n",
    "# # Unit: lat_rad in radians (northern hemisphere)\n",
    "# # Example: lat_rad = (pi / 180) * 13.73 = + 0.240 radians\n",
    "\n",
    "# lat_rad = (mt.pi / 180) * lat_deg \n",
    "\n",
    "# print(lat_rad)"
   ]
  },
  {
   "cell_type": "markdown",
   "metadata": {
    "ExecuteTime": {
     "end_time": "2018-06-05T02:27:25.187692Z",
     "start_time": "2018-06-05T02:27:25.184778Z"
    }
   },
   "source": [
    "## Calculate days and dates"
   ]
  },
  {
   "cell_type": "code",
   "execution_count": null,
   "metadata": {
    "ExecuteTime": {
     "end_time": "2018-06-05T06:38:47.467806Z",
     "start_time": "2018-06-05T06:38:47.463782Z"
    }
   },
   "outputs": [],
   "source": [
    "# # Convert date to julian day of the year\n",
    "# # Unit: j_days in julian days\n",
    "# # Example: j_days = days between (\"15/4/2015\",\"1/1/2015\") + 1 = 105 julian days\n",
    "\n",
    "# start_of_year = datetime.strptime('01/01/'+ str(date.year),'%m/%d/%Y') #save first day of year as variable\n",
    "# j_days = int(((date - start_of_year)+timedelta(days=1))/timedelta(days=1)) #calculate julian days\n",
    "# print(j_days)"
   ]
  },
  {
   "cell_type": "code",
   "execution_count": null,
   "metadata": {
    "ExecuteTime": {
     "end_time": "2018-06-05T06:38:50.074454Z",
     "start_time": "2018-06-05T06:38:50.071428Z"
    }
   },
   "outputs": [],
   "source": [
    "# # Calculate the number of days in the year to account for leap year\n",
    "# # Units: ndy in days\n",
    "\n",
    "# if calendar.isleap(date.year) == True:\n",
    "#     print(str(date.year) +' is a leap year')\n",
    "#     ndy = 366\n",
    "# else:\n",
    "#     print(str(date.year) +' is not a leap year')\n",
    "#     ndy = 365\n",
    "    \n",
    "\n",
    "# print('There are '+str(ndy)+' days')"
   ]
  },
  {
   "cell_type": "markdown",
   "metadata": {},
   "source": [
    "## Calculate extraterrestrial radiation"
   ]
  },
  {
   "cell_type": "code",
   "execution_count": null,
   "metadata": {
    "ExecuteTime": {
     "end_time": "2018-06-05T06:38:52.730168Z",
     "start_time": "2018-06-05T06:38:52.727227Z"
    }
   },
   "outputs": [],
   "source": [
    "# # Caclulate the inverse relative distance between the Earth and the Sun\n",
    "# # Unit: dr in radians\n",
    "# # Example: dr = 1 + 0.033* cos(2*pi*105/365) = 0.992 radians\n",
    "\n",
    "# dr = 1 + 0.033 * mt.cos(2 * mt.pi * j_days / ndy)\n",
    "# print (dr)"
   ]
  },
  {
   "cell_type": "code",
   "execution_count": null,
   "metadata": {
    "ExecuteTime": {
     "end_time": "2018-06-05T06:38:54.631079Z",
     "start_time": "2018-06-05T06:38:54.627793Z"
    }
   },
   "outputs": [],
   "source": [
    "# # Calculate solar declination\n",
    "# # Unit: sd in radians\n",
    "# # Example: sd = 0.409 * sin(2 * pi * 105 / 365 - 1.39) = 0.166 radians\n",
    "\n",
    "# sd = 0.409 * mt.sin(2 * mt.pi * 105 / 365 - 1.39)\n",
    "# print(sd)"
   ]
  },
  {
   "cell_type": "code",
   "execution_count": null,
   "metadata": {
    "ExecuteTime": {
     "end_time": "2018-06-05T06:39:10.431065Z",
     "start_time": "2018-06-05T06:39:10.428237Z"
    }
   },
   "outputs": [],
   "source": [
    "# # Calculate a sunset angle input variable\n",
    "# # Unit: no unit\n",
    "# # Example: sa_X = 1 - [tan(0.24)]^2 * [tan(0.166)]^2 = 0.998\n",
    "\n",
    "# sa_X = 1 - (mt.tan(lat_rad))**2 * ((mt.tan(sd))**2)\n",
    "# print(sa_X)"
   ]
  },
  {
   "cell_type": "code",
   "execution_count": null,
   "metadata": {
    "ExecuteTime": {
     "end_time": "2018-06-05T06:39:43.356073Z",
     "start_time": "2018-06-05T06:39:43.352840Z"
    }
   },
   "outputs": [],
   "source": [
    "# # Calculate sunset angle\n",
    "# # Units: sa in radians\n",
    "# # Example: sa = pi / 2 - arctan(-tan(0.24) * tan(0.166) / sqrt(0.998)) = 1.612 radians\n",
    "\n",
    "# sa = mt.pi / 2 - mt.atan(-mt.tan(lat_rad) * mt.tan(sd) / mt.sqrt(sa_X))\n",
    "# print(sa)"
   ]
  },
  {
   "cell_type": "code",
   "execution_count": null,
   "metadata": {
    "ExecuteTime": {
     "end_time": "2018-06-05T06:39:42.341836Z",
     "start_time": "2018-06-05T06:39:42.338641Z"
    }
   },
   "outputs": [],
   "source": [
    "# # Calcualte extraterrestrial radiation\n",
    "# # Units: ra in MJ / (m^ day)\n",
    "# # Example: ra = 37.586 * 0.992 * (1.612 * sin(0.24) * sin(0.166) + cos(0.24) * cos(0.166) * sin(1.612)) = 38.06 MJ / (m^ day)\n",
    "\n",
    "# ra = 37.586 * dr * (sa * mt.sin(lat_rad) * mt.sin(sd) + mt.cos(lat_rad) * mt.cos(sd) * mt.sin(sa))\n",
    "# print(ra)"
   ]
  },
  {
   "cell_type": "markdown",
   "metadata": {},
   "source": [
    "## Calculate Potential Evapotranspiration"
   ]
  },
  {
   "cell_type": "code",
   "execution_count": null,
   "metadata": {
    "ExecuteTime": {
     "end_time": "2018-06-05T06:39:50.034384Z",
     "start_time": "2018-06-05T06:39:50.031526Z"
    }
   },
   "outputs": [],
   "source": [
    "# # Calculate Potential Evapotranspiration\n",
    "# # Units: PET in mm/day\n",
    "# # Example: PET = 0.0009384 * (30.2 + 17.8) * sqrt(9.2) * 38.06 = 5.2 mm/day\n",
    "# pet = 0.0009384 * (T_mean + 17.8) * mt.sqrt(T_diff) * ra\n",
    "# print(pet)"
   ]
  },
  {
   "cell_type": "code",
   "execution_count": null,
   "metadata": {},
   "outputs": [],
   "source": []
  },
  {
   "cell_type": "code",
   "execution_count": null,
   "metadata": {
    "ExecuteTime": {
     "end_time": "2018-06-05T06:27:18.614685Z",
     "start_time": "2018-06-05T06:27:18.611394Z"
    }
   },
   "outputs": [],
   "source": [
    "# #Input variables\n",
    "# #latitude (in degrees and minutes)\n",
    "# input_lat = '13 44 N'\n",
    "# #date (in mm/dd/yyyy)\n",
    "# input_date = '04/15/2015'\n",
    "# #daily maximum temperature (degrees C)\n",
    "# input_Tmax =  '34.8'\n",
    "# #daily mean temperature (degrees C)\n",
    "# input_Tmean = '30.2'\n",
    "# #daily minimum temperature (degrees C)\n",
    "# input_Tmin = '25.6'"
   ]
  },
  {
   "cell_type": "code",
   "execution_count": null,
   "metadata": {
    "ExecuteTime": {
     "end_time": "2018-06-05T06:27:19.057566Z",
     "start_time": "2018-06-05T06:27:19.054495Z"
    }
   },
   "outputs": [],
   "source": [
    "# #Reformat datatypes\n",
    "# lat_deg = int(input_lat.split(' ')[0])\n",
    "# lat_min = int(input_lat.split(' ')[1])\n",
    "# T_max= float(input_Tmax)\n",
    "# T_mean = float(input_Tmean)\n",
    "# T_min = float(input_Tmin)\n",
    "# date = datetime.strptime(input_date,'%m/%d/%Y') #convert to datetime format\n",
    "# year = date.year #save year as variable"
   ]
  },
  {
   "cell_type": "code",
   "execution_count": null,
   "metadata": {
    "ExecuteTime": {
     "end_time": "2018-06-05T06:27:21.595821Z",
     "start_time": "2018-06-05T06:27:21.591145Z"
    }
   },
   "outputs": [],
   "source": [
    "#Convert latitude to decimal degree\n",
    "#Unit: lat_deg in decimal degrees\n",
    "#Example: lat_deg = 13 + 44 / 60 = 13.73 decimal degrees\n",
    "\n",
    "# lat_deg = lat_deg + lat_min/int(60)\n",
    "\n",
    "# print(lat_deg)"
   ]
  }
 ],
 "metadata": {
  "kernelspec": {
   "display_name": "Python 3",
   "language": "python",
   "name": "python3"
  },
  "language_info": {
   "codemirror_mode": {
    "name": "ipython",
    "version": 3
   },
   "file_extension": ".py",
   "mimetype": "text/x-python",
   "name": "python",
   "nbconvert_exporter": "python",
   "pygments_lexer": "ipython3",
   "version": "3.6.5"
  }
 },
 "nbformat": 4,
 "nbformat_minor": 2
}
