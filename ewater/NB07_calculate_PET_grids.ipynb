{
 "cells": [
  {
   "cell_type": "markdown",
   "metadata": {},
   "source": [
    "# Calculate potential Evapo-transpiration (PET) girds\n",
    "The purpose of this notebook is to create PET grids as part of the Cambodia/eWater project. The notebook uses daily min, mean and max air temperature grids and the Hargreaves equation.\n",
    "\n",
    "author: Erin Telfer (erin.telfer@ga.gov.au) published: 10/07/2018\n",
    "Code comes with no warranty. If you have suggestions/improvement/bug finds please email.\n"
   ]
  },
  {
   "cell_type": "markdown",
   "metadata": {},
   "source": [
    "## Import Libraries"
   ]
  },
  {
   "cell_type": "code",
   "execution_count": 1,
   "metadata": {
    "ExecuteTime": {
     "end_time": "2018-10-23T01:58:46.060108Z",
     "start_time": "2018-10-23T01:58:43.391628Z"
    }
   },
   "outputs": [],
   "source": [
    "import numpy as np\n",
    "import math as mt\n",
    "from datetime import *\n",
    "import calendar\n",
    "import netCDF4 as nc\n",
    "import xarray as xr\n",
    "import glob"
   ]
  },
  {
   "cell_type": "markdown",
   "metadata": {},
   "source": [
    "## Create Functions"
   ]
  },
  {
   "cell_type": "code",
   "execution_count": 2,
   "metadata": {
    "ExecuteTime": {
     "end_time": "2018-10-23T01:58:46.074534Z",
     "start_time": "2018-10-23T01:58:46.063719Z"
    }
   },
   "outputs": [],
   "source": [
    "#Create function to calculate date from netcdf (as units of netcdf are \"seconds since 20xx-xx-xx 00:00:00\" )\n",
    "def to_date(epoch, time_unit):\n",
    "    time_unit =  datetime.strptime(time_unit, '%Y-%m-%d %H:%M:%S') \n",
    "    return time_unit + timedelta(seconds=epoch)\n",
    "\n",
    "#Create function to calulate julian day of year (days since start of year)\n",
    "def julian_days(epoch, time_unit):\n",
    "    start_of_year = datetime.strptime('01/01/'+ str(time_unit),'%m/%d/%Y')\n",
    "    start_of_month = datetime.strptime(min_xr.time.units[14:], '%Y-%m-%d %H:%M:%S') \n",
    "    epoch = start_of_month + timedelta(seconds=epoch)\n",
    "    j_days = int((((epoch - start_of_year)+timedelta(days=1))/timedelta(days=1)))\n",
    "    return (j_days)\n",
    "\n",
    "#Create function to test whether the year of interest is a leap year\n",
    "def leap_year(year):\n",
    "    if calendar.isleap(int(year)) == True:\n",
    "#         print(str(year) +' is a leap year')\n",
    "        ndy = 366\n",
    "    else:\n",
    "#         print(str(year) +' is not a leap year')\n",
    "        ndy = 365\n",
    "    return(ndy)\n",
    "    "
   ]
  },
  {
   "cell_type": "markdown",
   "metadata": {},
   "source": [
    "## loop through all temperature grids and save as netCDF format"
   ]
  },
  {
   "cell_type": "code",
   "execution_count": 3,
   "metadata": {
    "ExecuteTime": {
     "end_time": "2018-10-23T01:59:05.144815Z",
     "start_time": "2018-10-23T01:58:47.049730Z"
    }
   },
   "outputs": [
    {
     "name": "stdout",
     "output_type": "stream",
     "text": [
      "['/g/data/u46/users/ext547/ewater/input_data/laos/temp//celcius/celsius_Tair_WFDEI_198902.nc', '/g/data/u46/users/ext547/ewater/input_data/laos/temp//celcius/celsius_Tair_WFDEI_199102.nc', '/g/data/u46/users/ext547/ewater/input_data/laos/temp//celcius/celsius_Tair_WFDEI_198310.nc', '/g/data/u46/users/ext547/ewater/input_data/laos/temp//celcius/celsius_Tair_WFDEI_200904.nc', '/g/data/u46/users/ext547/ewater/input_data/laos/temp//celcius/celsius_Tair_WFDEI_199609.nc', '/g/data/u46/users/ext547/ewater/input_data/laos/temp//celcius/celsius_Tair_WFDEI_201608.nc', '/g/data/u46/users/ext547/ewater/input_data/laos/temp//celcius/celsius_Tair_WFDEI_199207.nc', '/g/data/u46/users/ext547/ewater/input_data/laos/temp//celcius/celsius_Tair_WFDEI_198012.nc', '/g/data/u46/users/ext547/ewater/input_data/laos/temp//celcius/celsius_Tair_WFDEI_201205.nc', '/g/data/u46/users/ext547/ewater/input_data/laos/temp//celcius/celsius_Tair_WFDEI_198408.nc', '/g/data/u46/users/ext547/ewater/input_data/laos/temp//celcius/celsius_Tair_WFDEI_199803.nc', '/g/data/u46/users/ext547/ewater/input_data/laos/temp//celcius/celsius_Tair_WFDEI_200212.nc', '/g/data/u46/users/ext547/ewater/input_data/laos/temp//celcius/celsius_Tair_WFDEI_201009.nc', '/g/data/u46/users/ext547/ewater/input_data/laos/temp//celcius/celsius_Tair_WFDEI_200304.nc', '/g/data/u46/users/ext547/ewater/input_data/laos/temp//celcius/celsius_Tair_WFDEI_198609.nc', '/g/data/u46/users/ext547/ewater/input_data/laos/temp//celcius/celsius_Tair_WFDEI_200108.nc', '/g/data/u46/users/ext547/ewater/input_data/laos/temp//celcius/celsius_Tair_WFDEI_200901.nc', '/g/data/u46/users/ext547/ewater/input_data/laos/temp//celcius/celsius_Tair_WFDEI_200601.nc', '/g/data/u46/users/ext547/ewater/input_data/laos/temp//celcius/celsius_Tair_WFDEI_201110.nc', '/g/data/u46/users/ext547/ewater/input_data/laos/temp//celcius/celsius_Tair_WFDEI_201307.nc', '/g/data/u46/users/ext547/ewater/input_data/laos/temp//celcius/celsius_Tair_WFDEI_201106.nc', '/g/data/u46/users/ext547/ewater/input_data/laos/temp//celcius/celsius_Tair_WFDEI_200206.nc', '/g/data/u46/users/ext547/ewater/input_data/laos/temp//celcius/celsius_Tair_WFDEI_198805.nc', '/g/data/u46/users/ext547/ewater/input_data/laos/temp//celcius/celsius_Tair_WFDEI_201005.nc', '/g/data/u46/users/ext547/ewater/input_data/laos/temp//celcius/celsius_Tair_WFDEI_199104.nc', '/g/data/u46/users/ext547/ewater/input_data/laos/temp//celcius/celsius_Tair_WFDEI_201112.nc', '/g/data/u46/users/ext547/ewater/input_data/laos/temp//celcius/celsius_Tair_WFDEI_199103.nc', '/g/data/u46/users/ext547/ewater/input_data/laos/temp//celcius/celsius_Tair_WFDEI_200502.nc', '/g/data/u46/users/ext547/ewater/input_data/laos/temp//celcius/celsius_Tair_WFDEI_198108.nc', '/g/data/u46/users/ext547/ewater/input_data/laos/temp//celcius/celsius_Tair_WFDEI_198810.nc', '/g/data/u46/users/ext547/ewater/input_data/laos/temp//celcius/celsius_Tair_WFDEI_199108.nc', '/g/data/u46/users/ext547/ewater/input_data/laos/temp//celcius/celsius_Tair_WFDEI_199005.nc', '/g/data/u46/users/ext547/ewater/input_data/laos/temp//celcius/celsius_Tair_WFDEI_200806.nc', '/g/data/u46/users/ext547/ewater/input_data/laos/temp//celcius/celsius_Tair_WFDEI_198703.nc', '/g/data/u46/users/ext547/ewater/input_data/laos/temp//celcius/celsius_Tair_WFDEI_201401.nc', '/g/data/u46/users/ext547/ewater/input_data/laos/temp//celcius/celsius_Tair_WFDEI_199502.nc', '/g/data/u46/users/ext547/ewater/input_data/laos/temp//celcius/celsius_Tair_WFDEI_201201.nc', '/g/data/u46/users/ext547/ewater/input_data/laos/temp//celcius/celsius_Tair_WFDEI_201303.nc', '/g/data/u46/users/ext547/ewater/input_data/laos/temp//celcius/celsius_Tair_WFDEI_200309.nc', '/g/data/u46/users/ext547/ewater/input_data/laos/temp//celcius/celsius_Tair_WFDEI_199902.nc', '/g/data/u46/users/ext547/ewater/input_data/laos/temp//celcius/celsius_Tair_WFDEI_198507.nc', '/g/data/u46/users/ext547/ewater/input_data/laos/temp//celcius/celsius_Tair_WFDEI_201002.nc', '/g/data/u46/users/ext547/ewater/input_data/laos/temp//celcius/celsius_Tair_WFDEI_198808.nc', '/g/data/u46/users/ext547/ewater/input_data/laos/temp//celcius/celsius_Tair_WFDEI_200211.nc', '/g/data/u46/users/ext547/ewater/input_data/laos/temp//celcius/celsius_Tair_WFDEI_200512.nc', '/g/data/u46/users/ext547/ewater/input_data/laos/temp//celcius/celsius_Tair_WFDEI_199504.nc', '/g/data/u46/users/ext547/ewater/input_data/laos/temp//celcius/celsius_Tair_WFDEI_200706.nc', '/g/data/u46/users/ext547/ewater/input_data/laos/temp//celcius/celsius_Tair_WFDEI_200103.nc', '/g/data/u46/users/ext547/ewater/input_data/laos/temp//celcius/celsius_Tair_WFDEI_201008.nc', '/g/data/u46/users/ext547/ewater/input_data/laos/temp//celcius/celsius_Tair_WFDEI_198608.nc', '/g/data/u46/users/ext547/ewater/input_data/laos/temp//celcius/celsius_Tair_WFDEI_198306.nc', '/g/data/u46/users/ext547/ewater/input_data/laos/temp//celcius/celsius_Tair_WFDEI_198001.nc', '/g/data/u46/users/ext547/ewater/input_data/laos/temp//celcius/celsius_Tair_WFDEI_197909.nc', '/g/data/u46/users/ext547/ewater/input_data/laos/temp//celcius/celsius_Tair_WFDEI_198211.nc', '/g/data/u46/users/ext547/ewater/input_data/laos/temp//celcius/celsius_Tair_WFDEI_200804.nc', '/g/data/u46/users/ext547/ewater/input_data/laos/temp//celcius/celsius_Tair_WFDEI_199303.nc', '/g/data/u46/users/ext547/ewater/input_data/laos/temp//celcius/celsius_Tair_WFDEI_200004.nc', '/g/data/u46/users/ext547/ewater/input_data/laos/temp//celcius/celsius_Tair_WFDEI_198710.nc', '/g/data/u46/users/ext547/ewater/input_data/laos/temp//celcius/celsius_Tair_WFDEI_199007.nc', '/g/data/u46/users/ext547/ewater/input_data/laos/temp//celcius/celsius_Tair_WFDEI_201107.nc', '/g/data/u46/users/ext547/ewater/input_data/laos/temp//celcius/celsius_Tair_WFDEI_201611.nc', '/g/data/u46/users/ext547/ewater/input_data/laos/temp//celcius/celsius_Tair_WFDEI_200307.nc', '/g/data/u46/users/ext547/ewater/input_data/laos/temp//celcius/celsius_Tair_WFDEI_199511.nc', '/g/data/u46/users/ext547/ewater/input_data/laos/temp//celcius/celsius_Tair_WFDEI_199909.nc', '/g/data/u46/users/ext547/ewater/input_data/laos/temp//celcius/celsius_Tair_WFDEI_199501.nc', '/g/data/u46/users/ext547/ewater/input_data/laos/temp//celcius/celsius_Tair_WFDEI_199312.nc', '/g/data/u46/users/ext547/ewater/input_data/laos/temp//celcius/celsius_Tair_WFDEI_200603.nc', '/g/data/u46/users/ext547/ewater/input_data/laos/temp//celcius/celsius_Tair_WFDEI_200510.nc', '/g/data/u46/users/ext547/ewater/input_data/laos/temp//celcius/celsius_Tair_WFDEI_199409.nc', '/g/data/u46/users/ext547/ewater/input_data/laos/temp//celcius/celsius_Tair_WFDEI_198809.nc', '/g/data/u46/users/ext547/ewater/input_data/laos/temp//celcius/celsius_Tair_WFDEI_198207.nc', '/g/data/u46/users/ext547/ewater/input_data/laos/temp//celcius/celsius_Tair_WFDEI_199305.nc', '/g/data/u46/users/ext547/ewater/input_data/laos/temp//celcius/celsius_Tair_WFDEI_198010.nc', '/g/data/u46/users/ext547/ewater/input_data/laos/temp//celcius/celsius_Tair_WFDEI_198104.nc', '/g/data/u46/users/ext547/ewater/input_data/laos/temp//celcius/celsius_Tair_WFDEI_199611.nc', '/g/data/u46/users/ext547/ewater/input_data/laos/temp//celcius/celsius_Tair_WFDEI_200202.nc', '/g/data/u46/users/ext547/ewater/input_data/laos/temp//celcius/celsius_Tair_WFDEI_199910.nc', '/g/data/u46/users/ext547/ewater/input_data/laos/temp//celcius/celsius_Tair_WFDEI_198803.nc', '/g/data/u46/users/ext547/ewater/input_data/laos/temp//celcius/celsius_Tair_WFDEI_198009.nc', '/g/data/u46/users/ext547/ewater/input_data/laos/temp//celcius/celsius_Tair_WFDEI_200702.nc', '/g/data/u46/users/ext547/ewater/input_data/laos/temp//celcius/celsius_Tair_WFDEI_201603.nc', '/g/data/u46/users/ext547/ewater/input_data/laos/temp//celcius/celsius_Tair_WFDEI_200704.nc', '/g/data/u46/users/ext547/ewater/input_data/laos/temp//celcius/celsius_Tair_WFDEI_200912.nc', '/g/data/u46/users/ext547/ewater/input_data/laos/temp//celcius/celsius_Tair_WFDEI_200611.nc', '/g/data/u46/users/ext547/ewater/input_data/laos/temp//celcius/celsius_Tair_WFDEI_200809.nc', '/g/data/u46/users/ext547/ewater/input_data/laos/temp//celcius/celsius_Tair_WFDEI_200411.nc', '/g/data/u46/users/ext547/ewater/input_data/laos/temp//celcius/celsius_Tair_WFDEI_199106.nc', '/g/data/u46/users/ext547/ewater/input_data/laos/temp//celcius/celsius_Tair_WFDEI_200201.nc', '/g/data/u46/users/ext547/ewater/input_data/laos/temp//celcius/celsius_Tair_WFDEI_199706.nc', '/g/data/u46/users/ext547/ewater/input_data/laos/temp//celcius/celsius_Tair_WFDEI_198210.nc', '/g/data/u46/users/ext547/ewater/input_data/laos/temp//celcius/celsius_Tair_WFDEI_200910.nc', '/g/data/u46/users/ext547/ewater/input_data/laos/temp//celcius/celsius_Tair_WFDEI_201202.nc', '/g/data/u46/users/ext547/ewater/input_data/laos/temp//celcius/celsius_Tair_WFDEI_199310.nc', '/g/data/u46/users/ext547/ewater/input_data/laos/temp//celcius/celsius_Tair_WFDEI_197907.nc', '/g/data/u46/users/ext547/ewater/input_data/laos/temp//celcius/celsius_Tair_WFDEI_199705.nc', '/g/data/u46/users/ext547/ewater/input_data/laos/temp//celcius/celsius_Tair_WFDEI_201408.nc', '/g/data/u46/users/ext547/ewater/input_data/laos/temp//celcius/celsius_Tair_WFDEI_199804.nc', '/g/data/u46/users/ext547/ewater/input_data/laos/temp//celcius/celsius_Tair_WFDEI_198109.nc', '/g/data/u46/users/ext547/ewater/input_data/laos/temp//celcius/celsius_Tair_WFDEI_197911.nc', '/g/data/u46/users/ext547/ewater/input_data/laos/temp//celcius/celsius_Tair_WFDEI_200504.nc', '/g/data/u46/users/ext547/ewater/input_data/laos/temp//celcius/celsius_Tair_WFDEI_198410.nc', '/g/data/u46/users/ext547/ewater/input_data/laos/temp//celcius/celsius_Tair_WFDEI_198912.nc', '/g/data/u46/users/ext547/ewater/input_data/laos/temp//celcius/celsius_Tair_WFDEI_199707.nc', '/g/data/u46/users/ext547/ewater/input_data/laos/temp//celcius/celsius_Tair_WFDEI_197904.nc', '/g/data/u46/users/ext547/ewater/input_data/laos/temp//celcius/celsius_Tair_WFDEI_198103.nc', '/g/data/u46/users/ext547/ewater/input_data/laos/temp//celcius/celsius_Tair_WFDEI_200208.nc', '/g/data/u46/users/ext547/ewater/input_data/laos/temp//celcius/celsius_Tair_WFDEI_201212.nc', '/g/data/u46/users/ext547/ewater/input_data/laos/temp//celcius/celsius_Tair_WFDEI_199306.nc', '/g/data/u46/users/ext547/ewater/input_data/laos/temp//celcius/celsius_Tair_WFDEI_199812.nc', '/g/data/u46/users/ext547/ewater/input_data/laos/temp//celcius/celsius_Tair_WFDEI_198008.nc', '/g/data/u46/users/ext547/ewater/input_data/laos/temp//celcius/celsius_Tair_WFDEI_200102.nc', '/g/data/u46/users/ext547/ewater/input_data/laos/temp//celcius/celsius_Tair_WFDEI_200002.nc', '/g/data/u46/users/ext547/ewater/input_data/laos/temp//celcius/celsius_Tair_WFDEI_201607.nc', '/g/data/u46/users/ext547/ewater/input_data/laos/temp//celcius/celsius_Tair_WFDEI_200109.nc', '/g/data/u46/users/ext547/ewater/input_data/laos/temp//celcius/celsius_Tair_WFDEI_199701.nc', '/g/data/u46/users/ext547/ewater/input_data/laos/temp//celcius/celsius_Tair_WFDEI_198909.nc', '/g/data/u46/users/ext547/ewater/input_data/laos/temp//celcius/celsius_Tair_WFDEI_200410.nc', '/g/data/u46/users/ext547/ewater/input_data/laos/temp//celcius/celsius_Tair_WFDEI_199212.nc', '/g/data/u46/users/ext547/ewater/input_data/laos/temp//celcius/celsius_Tair_WFDEI_199505.nc', '/g/data/u46/users/ext547/ewater/input_data/laos/temp//celcius/celsius_Tair_WFDEI_198903.nc', '/g/data/u46/users/ext547/ewater/input_data/laos/temp//celcius/celsius_Tair_WFDEI_200110.nc', '/g/data/u46/users/ext547/ewater/input_data/laos/temp//celcius/celsius_Tair_WFDEI_198505.nc', '/g/data/u46/users/ext547/ewater/input_data/laos/temp//celcius/celsius_Tair_WFDEI_201405.nc', '/g/data/u46/users/ext547/ewater/input_data/laos/temp//celcius/celsius_Tair_WFDEI_199101.nc', '/g/data/u46/users/ext547/ewater/input_data/laos/temp//celcius/celsius_Tair_WFDEI_199806.nc', '/g/data/u46/users/ext547/ewater/input_data/laos/temp//celcius/celsius_Tair_WFDEI_199811.nc', '/g/data/u46/users/ext547/ewater/input_data/laos/temp//celcius/celsius_Tair_WFDEI_198303.nc', '/g/data/u46/users/ext547/ewater/input_data/laos/temp//celcius/celsius_Tair_WFDEI_201508.nc', '/g/data/u46/users/ext547/ewater/input_data/laos/temp//celcius/celsius_Tair_WFDEI_198307.nc', '/g/data/u46/users/ext547/ewater/input_data/laos/temp//celcius/celsius_Tair_WFDEI_199107.nc', '/g/data/u46/users/ext547/ewater/input_data/laos/temp//celcius/celsius_Tair_WFDEI_200408.nc', '/g/data/u46/users/ext547/ewater/input_data/laos/temp//celcius/celsius_Tair_WFDEI_201606.nc', '/g/data/u46/users/ext547/ewater/input_data/laos/temp//celcius/celsius_Tair_WFDEI_201411.nc', '/g/data/u46/users/ext547/ewater/input_data/laos/temp//celcius/celsius_Tair_WFDEI_199805.nc', '/g/data/u46/users/ext547/ewater/input_data/laos/temp//celcius/celsius_Tair_WFDEI_198707.nc', '/g/data/u46/users/ext547/ewater/input_data/laos/temp//celcius/celsius_Tair_WFDEI_198509.nc', '/g/data/u46/users/ext547/ewater/input_data/laos/temp//celcius/celsius_Tair_WFDEI_199608.nc', '/g/data/u46/users/ext547/ewater/input_data/laos/temp//celcius/celsius_Tair_WFDEI_201301.nc', '/g/data/u46/users/ext547/ewater/input_data/laos/temp//celcius/celsius_Tair_WFDEI_198812.nc', '/g/data/u46/users/ext547/ewater/input_data/laos/temp//celcius/celsius_Tair_WFDEI_199304.nc', '/g/data/u46/users/ext547/ewater/input_data/laos/temp//celcius/celsius_Tair_WFDEI_198603.nc', '/g/data/u46/users/ext547/ewater/input_data/laos/temp//celcius/celsius_Tair_WFDEI_199703.nc', '/g/data/u46/users/ext547/ewater/input_data/laos/temp//celcius/celsius_Tair_WFDEI_198208.nc', '/g/data/u46/users/ext547/ewater/input_data/laos/temp//celcius/celsius_Tair_WFDEI_198605.nc', '/g/data/u46/users/ext547/ewater/input_data/laos/temp//celcius/celsius_Tair_WFDEI_201404.nc', '/g/data/u46/users/ext547/ewater/input_data/laos/temp//celcius/celsius_Tair_WFDEI_201510.nc', '/g/data/u46/users/ext547/ewater/input_data/laos/temp//celcius/celsius_Tair_WFDEI_201410.nc', '/g/data/u46/users/ext547/ewater/input_data/laos/temp//celcius/celsius_Tair_WFDEI_200301.nc', '/g/data/u46/users/ext547/ewater/input_data/laos/temp//celcius/celsius_Tair_WFDEI_198007.nc', '/g/data/u46/users/ext547/ewater/input_data/laos/temp//celcius/celsius_Tair_WFDEI_201308.nc', '/g/data/u46/users/ext547/ewater/input_data/laos/temp//celcius/celsius_Tair_WFDEI_199105.nc', '/g/data/u46/users/ext547/ewater/input_data/laos/temp//celcius/celsius_Tair_WFDEI_198811.nc', '/g/data/u46/users/ext547/ewater/input_data/laos/temp//celcius/celsius_Tair_WFDEI_201605.nc', '/g/data/u46/users/ext547/ewater/input_data/laos/temp//celcius/celsius_Tair_WFDEI_198302.nc', '/g/data/u46/users/ext547/ewater/input_data/laos/temp//celcius/celsius_Tair_WFDEI_200407.nc', '/g/data/u46/users/ext547/ewater/input_data/laos/temp//celcius/celsius_Tair_WFDEI_201502.nc', '/g/data/u46/users/ext547/ewater/input_data/laos/temp//celcius/celsius_Tair_WFDEI_200805.nc', '/g/data/u46/users/ext547/ewater/input_data/laos/temp//celcius/celsius_Tair_WFDEI_198911.nc', '/g/data/u46/users/ext547/ewater/input_data/laos/temp//celcius/celsius_Tair_WFDEI_199911.nc', '/g/data/u46/users/ext547/ewater/input_data/laos/temp//celcius/celsius_Tair_WFDEI_199301.nc', '/g/data/u46/users/ext547/ewater/input_data/laos/temp//celcius/celsius_Tair_WFDEI_200105.nc', '/g/data/u46/users/ext547/ewater/input_data/laos/temp//celcius/celsius_Tair_WFDEI_200409.nc', '/g/data/u46/users/ext547/ewater/input_data/laos/temp//celcius/celsius_Tair_WFDEI_197910.nc', '/g/data/u46/users/ext547/ewater/input_data/laos/temp//celcius/celsius_Tair_WFDEI_197912.nc', '/g/data/u46/users/ext547/ewater/input_data/laos/temp//celcius/celsius_Tair_WFDEI_200808.nc', '/g/data/u46/users/ext547/ewater/input_data/laos/temp//celcius/celsius_Tair_WFDEI_201501.nc', '/g/data/u46/users/ext547/ewater/input_data/laos/temp//celcius/celsius_Tair_WFDEI_198604.nc', '/g/data/u46/users/ext547/ewater/input_data/laos/temp//celcius/celsius_Tair_WFDEI_199206.nc', '/g/data/u46/users/ext547/ewater/input_data/laos/temp//celcius/celsius_Tair_WFDEI_201010.nc', '/g/data/u46/users/ext547/ewater/input_data/laos/temp//celcius/celsius_Tair_WFDEI_201412.nc', '/g/data/u46/users/ext547/ewater/input_data/laos/temp//celcius/celsius_Tair_WFDEI_198901.nc', '/g/data/u46/users/ext547/ewater/input_data/laos/temp//celcius/celsius_Tair_WFDEI_200710.nc', '/g/data/u46/users/ext547/ewater/input_data/laos/temp//celcius/celsius_Tair_WFDEI_200907.nc', '/g/data/u46/users/ext547/ewater/input_data/laos/temp//celcius/celsius_Tair_WFDEI_201109.nc', '/g/data/u46/users/ext547/ewater/input_data/laos/temp//celcius/celsius_Tair_WFDEI_199311.nc', '/g/data/u46/users/ext547/ewater/input_data/laos/temp//celcius/celsius_Tair_WFDEI_200007.nc', '/g/data/u46/users/ext547/ewater/input_data/laos/temp//celcius/celsius_Tair_WFDEI_200802.nc', '/g/data/u46/users/ext547/ewater/input_data/laos/temp//celcius/celsius_Tair_WFDEI_198203.nc', '/g/data/u46/users/ext547/ewater/input_data/laos/temp//celcius/celsius_Tair_WFDEI_200605.nc', '/g/data/u46/users/ext547/ewater/input_data/laos/temp//celcius/celsius_Tair_WFDEI_201403.nc', '/g/data/u46/users/ext547/ewater/input_data/laos/temp//celcius/celsius_Tair_WFDEI_200312.nc', '/g/data/u46/users/ext547/ewater/input_data/laos/temp//celcius/celsius_Tair_WFDEI_201312.nc', '/g/data/u46/users/ext547/ewater/input_data/laos/temp//celcius/celsius_Tair_WFDEI_199205.nc', '/g/data/u46/users/ext547/ewater/input_data/laos/temp//celcius/celsius_Tair_WFDEI_201511.nc', '/g/data/u46/users/ext547/ewater/input_data/laos/temp//celcius/celsius_Tair_WFDEI_198409.nc', '/g/data/u46/users/ext547/ewater/input_data/laos/temp//celcius/celsius_Tair_WFDEI_201509.nc', '/g/data/u46/users/ext547/ewater/input_data/laos/temp//celcius/celsius_Tair_WFDEI_201101.nc', '/g/data/u46/users/ext547/ewater/input_data/laos/temp//celcius/celsius_Tair_WFDEI_198704.nc', '/g/data/u46/users/ext547/ewater/input_data/laos/temp//celcius/celsius_Tair_WFDEI_199704.nc', '/g/data/u46/users/ext547/ewater/input_data/laos/temp//celcius/celsius_Tair_WFDEI_201602.nc', '/g/data/u46/users/ext547/ewater/input_data/laos/temp//celcius/celsius_Tair_WFDEI_200012.nc', '/g/data/u46/users/ext547/ewater/input_data/laos/temp//celcius/celsius_Tair_WFDEI_198412.nc', '/g/data/u46/users/ext547/ewater/input_data/laos/temp//celcius/celsius_Tair_WFDEI_198005.nc', '/g/data/u46/users/ext547/ewater/input_data/laos/temp//celcius/celsius_Tair_WFDEI_198105.nc', '/g/data/u46/users/ext547/ewater/input_data/laos/temp//celcius/celsius_Tair_WFDEI_200310.nc', '/g/data/u46/users/ext547/ewater/input_data/laos/temp//celcius/celsius_Tair_WFDEI_200607.nc', '/g/data/u46/users/ext547/ewater/input_data/laos/temp//celcius/celsius_Tair_WFDEI_198910.nc', '/g/data/u46/users/ext547/ewater/input_data/laos/temp//celcius/celsius_Tair_WFDEI_198309.nc', '/g/data/u46/users/ext547/ewater/input_data/laos/temp//celcius/celsius_Tair_WFDEI_199702.nc', '/g/data/u46/users/ext547/ewater/input_data/laos/temp//celcius/celsius_Tair_WFDEI_201609.nc', '/g/data/u46/users/ext547/ewater/input_data/laos/temp//celcius/celsius_Tair_WFDEI_198504.nc', '/g/data/u46/users/ext547/ewater/input_data/laos/temp//celcius/celsius_Tair_WFDEI_199201.nc', '/g/data/u46/users/ext547/ewater/input_data/laos/temp//celcius/celsius_Tair_WFDEI_201210.nc', '/g/data/u46/users/ext547/ewater/input_data/laos/temp//celcius/celsius_Tair_WFDEI_200810.nc', '/g/data/u46/users/ext547/ewater/input_data/laos/temp//celcius/celsius_Tair_WFDEI_198002.nc', '/g/data/u46/users/ext547/ewater/input_data/laos/temp//celcius/celsius_Tair_WFDEI_200905.nc', '/g/data/u46/users/ext547/ewater/input_data/laos/temp//celcius/celsius_Tair_WFDEI_200507.nc', '/g/data/u46/users/ext547/ewater/input_data/laos/temp//celcius/celsius_Tair_WFDEI_200008.nc', '/g/data/u46/users/ext547/ewater/input_data/laos/temp//celcius/celsius_Tair_WFDEI_200311.nc', '/g/data/u46/users/ext547/ewater/input_data/laos/temp//celcius/celsius_Tair_WFDEI_198607.nc', '/g/data/u46/users/ext547/ewater/input_data/laos/temp//celcius/celsius_Tair_WFDEI_201001.nc', '/g/data/u46/users/ext547/ewater/input_data/laos/temp//celcius/celsius_Tair_WFDEI_200403.nc', '/g/data/u46/users/ext547/ewater/input_data/laos/temp//celcius/celsius_Tair_WFDEI_198202.nc', '/g/data/u46/users/ext547/ewater/input_data/laos/temp//celcius/celsius_Tair_WFDEI_198406.nc', '/g/data/u46/users/ext547/ewater/input_data/laos/temp//celcius/celsius_Tair_WFDEI_198212.nc', '/g/data/u46/users/ext547/ewater/input_data/laos/temp//celcius/celsius_Tair_WFDEI_199905.nc', '/g/data/u46/users/ext547/ewater/input_data/laos/temp//celcius/celsius_Tair_WFDEI_198611.nc', '/g/data/u46/users/ext547/ewater/input_data/laos/temp//celcius/celsius_Tair_WFDEI_199903.nc', '/g/data/u46/users/ext547/ewater/input_data/laos/temp//celcius/celsius_Tair_WFDEI_199406.nc', '/g/data/u46/users/ext547/ewater/input_data/laos/temp//celcius/celsius_Tair_WFDEI_198806.nc', '/g/data/u46/users/ext547/ewater/input_data/laos/temp//celcius/celsius_Tair_WFDEI_199204.nc', '/g/data/u46/users/ext547/ewater/input_data/laos/temp//celcius/celsius_Tair_WFDEI_200511.nc', '/g/data/u46/users/ext547/ewater/input_data/laos/temp//celcius/celsius_Tair_WFDEI_198801.nc', '/g/data/u46/users/ext547/ewater/input_data/laos/temp//celcius/celsius_Tair_WFDEI_199209.nc', '/g/data/u46/users/ext547/ewater/input_data/laos/temp//celcius/celsius_Tair_WFDEI_201208.nc', '/g/data/u46/users/ext547/ewater/input_data/laos/temp//celcius/celsius_Tair_WFDEI_199004.nc', '/g/data/u46/users/ext547/ewater/input_data/laos/temp//celcius/celsius_Tair_WFDEI_198606.nc', '/g/data/u46/users/ext547/ewater/input_data/laos/temp//celcius/celsius_Tair_WFDEI_199605.nc', '/g/data/u46/users/ext547/ewater/input_data/laos/temp//celcius/celsius_Tair_WFDEI_200107.nc', '/g/data/u46/users/ext547/ewater/input_data/laos/temp//celcius/celsius_Tair_WFDEI_200801.nc', '/g/data/u46/users/ext547/ewater/input_data/laos/temp//celcius/celsius_Tair_WFDEI_200602.nc', '/g/data/u46/users/ext547/ewater/input_data/laos/temp//celcius/celsius_Tair_WFDEI_198308.nc', '/g/data/u46/users/ext547/ewater/input_data/laos/temp//celcius/celsius_Tair_WFDEI_201007.nc', '/g/data/u46/users/ext547/ewater/input_data/laos/temp//celcius/celsius_Tair_WFDEI_199210.nc', '/g/data/u46/users/ext547/ewater/input_data/laos/temp//celcius/celsius_Tair_WFDEI_198111.nc', '/g/data/u46/users/ext547/ewater/input_data/laos/temp//celcius/celsius_Tair_WFDEI_198304.nc', '/g/data/u46/users/ext547/ewater/input_data/laos/temp//celcius/celsius_Tair_WFDEI_200204.nc', '/g/data/u46/users/ext547/ewater/input_data/laos/temp//celcius/celsius_Tair_WFDEI_197905.nc', '/g/data/u46/users/ext547/ewater/input_data/laos/temp//celcius/celsius_Tair_WFDEI_201506.nc', '/g/data/u46/users/ext547/ewater/input_data/laos/temp//celcius/celsius_Tair_WFDEI_201612.nc', '/g/data/u46/users/ext547/ewater/input_data/laos/temp//celcius/celsius_Tair_WFDEI_201309.nc', '/g/data/u46/users/ext547/ewater/input_data/laos/temp//celcius/celsius_Tair_WFDEI_198709.nc', '/g/data/u46/users/ext547/ewater/input_data/laos/temp//celcius/celsius_Tair_WFDEI_199006.nc', '/g/data/u46/users/ext547/ewater/input_data/laos/temp//celcius/celsius_Tair_WFDEI_201601.nc', '/g/data/u46/users/ext547/ewater/input_data/laos/temp//celcius/celsius_Tair_WFDEI_199412.nc', '/g/data/u46/users/ext547/ewater/input_data/laos/temp//celcius/celsius_Tair_WFDEI_200707.nc', '/g/data/u46/users/ext547/ewater/input_data/laos/temp//celcius/celsius_Tair_WFDEI_200203.nc', '/g/data/u46/users/ext547/ewater/input_data/laos/temp//celcius/celsius_Tair_WFDEI_200405.nc', '/g/data/u46/users/ext547/ewater/input_data/laos/temp//celcius/celsius_Tair_WFDEI_197901.nc', '/g/data/u46/users/ext547/ewater/input_data/laos/temp//celcius/celsius_Tair_WFDEI_201402.nc', '/g/data/u46/users/ext547/ewater/input_data/laos/temp//celcius/celsius_Tair_WFDEI_200711.nc', '/g/data/u46/users/ext547/ewater/input_data/laos/temp//celcius/celsius_Tair_WFDEI_198003.nc', '/g/data/u46/users/ext547/ewater/input_data/laos/temp//celcius/celsius_Tair_WFDEI_198904.nc', '/g/data/u46/users/ext547/ewater/input_data/laos/temp//celcius/celsius_Tair_WFDEI_200402.nc', '/g/data/u46/users/ext547/ewater/input_data/laos/temp//celcius/celsius_Tair_WFDEI_200412.nc', '/g/data/u46/users/ext547/ewater/input_data/laos/temp//celcius/celsius_Tair_WFDEI_200010.nc', '/g/data/u46/users/ext547/ewater/input_data/laos/temp//celcius/celsius_Tair_WFDEI_199512.nc', '/g/data/u46/users/ext547/ewater/input_data/laos/temp//celcius/celsius_Tair_WFDEI_198201.nc', '/g/data/u46/users/ext547/ewater/input_data/laos/temp//celcius/celsius_Tair_WFDEI_198705.nc', '/g/data/u46/users/ext547/ewater/input_data/laos/temp//celcius/celsius_Tair_WFDEI_200210.nc', '/g/data/u46/users/ext547/ewater/input_data/laos/temp//celcius/celsius_Tair_WFDEI_201503.nc', '/g/data/u46/users/ext547/ewater/input_data/laos/temp//celcius/celsius_Tair_WFDEI_201512.nc', '/g/data/u46/users/ext547/ewater/input_data/laos/temp//celcius/celsius_Tair_WFDEI_201409.nc', '/g/data/u46/users/ext547/ewater/input_data/laos/temp//celcius/celsius_Tair_WFDEI_199612.nc', '/g/data/u46/users/ext547/ewater/input_data/laos/temp//celcius/celsius_Tair_WFDEI_198205.nc', '/g/data/u46/users/ext547/ewater/input_data/laos/temp//celcius/celsius_Tair_WFDEI_198006.nc', '/g/data/u46/users/ext547/ewater/input_data/laos/temp//celcius/celsius_Tair_WFDEI_200001.nc', '/g/data/u46/users/ext547/ewater/input_data/laos/temp//celcius/celsius_Tair_WFDEI_198110.nc', '/g/data/u46/users/ext547/ewater/input_data/laos/temp//celcius/celsius_Tair_WFDEI_197908.nc', '/g/data/u46/users/ext547/ewater/input_data/laos/temp//celcius/celsius_Tair_WFDEI_199404.nc', '/g/data/u46/users/ext547/ewater/input_data/laos/temp//celcius/celsius_Tair_WFDEI_201011.nc', '/g/data/u46/users/ext547/ewater/input_data/laos/temp//celcius/celsius_Tair_WFDEI_198301.nc', '/g/data/u46/users/ext547/ewater/input_data/laos/temp//celcius/celsius_Tair_WFDEI_200708.nc', '/g/data/u46/users/ext547/ewater/input_data/laos/temp//celcius/celsius_Tair_WFDEI_199604.nc', '/g/data/u46/users/ext547/ewater/input_data/laos/temp//celcius/celsius_Tair_WFDEI_198503.nc', '/g/data/u46/users/ext547/ewater/input_data/laos/temp//celcius/celsius_Tair_WFDEI_198206.nc', '/g/data/u46/users/ext547/ewater/input_data/laos/temp//celcius/celsius_Tair_WFDEI_199307.nc', '/g/data/u46/users/ext547/ewater/input_data/laos/temp//celcius/celsius_Tair_WFDEI_199410.nc', '/g/data/u46/users/ext547/ewater/input_data/laos/temp//celcius/celsius_Tair_WFDEI_198711.nc', '/g/data/u46/users/ext547/ewater/input_data/laos/temp//celcius/celsius_Tair_WFDEI_199211.nc', '/g/data/u46/users/ext547/ewater/input_data/laos/temp//celcius/celsius_Tair_WFDEI_198508.nc', '/g/data/u46/users/ext547/ewater/input_data/laos/temp//celcius/celsius_Tair_WFDEI_201305.nc', '/g/data/u46/users/ext547/ewater/input_data/laos/temp//celcius/celsius_Tair_WFDEI_200106.nc', '/g/data/u46/users/ext547/ewater/input_data/laos/temp//celcius/celsius_Tair_WFDEI_200308.nc', '/g/data/u46/users/ext547/ewater/input_data/laos/temp//celcius/celsius_Tair_WFDEI_199710.nc', '/g/data/u46/users/ext547/ewater/input_data/laos/temp//celcius/celsius_Tair_WFDEI_199712.nc', '/g/data/u46/users/ext547/ewater/input_data/laos/temp//celcius/celsius_Tair_WFDEI_201311.nc', '/g/data/u46/users/ext547/ewater/input_data/laos/temp//celcius/celsius_Tair_WFDEI_199509.nc', '/g/data/u46/users/ext547/ewater/input_data/laos/temp//celcius/celsius_Tair_WFDEI_199507.nc', '/g/data/u46/users/ext547/ewater/input_data/laos/temp//celcius/celsius_Tair_WFDEI_201407.nc', '/g/data/u46/users/ext547/ewater/input_data/laos/temp//celcius/celsius_Tair_WFDEI_200610.nc', '/g/data/u46/users/ext547/ewater/input_data/laos/temp//celcius/celsius_Tair_WFDEI_198701.nc', '/g/data/u46/users/ext547/ewater/input_data/laos/temp//celcius/celsius_Tair_WFDEI_199610.nc', '/g/data/u46/users/ext547/ewater/input_data/laos/temp//celcius/celsius_Tair_WFDEI_201006.nc', '/g/data/u46/users/ext547/ewater/input_data/laos/temp//celcius/celsius_Tair_WFDEI_198706.nc', '/g/data/u46/users/ext547/ewater/input_data/laos/temp//celcius/celsius_Tair_WFDEI_200803.nc', '/g/data/u46/users/ext547/ewater/input_data/laos/temp//celcius/celsius_Tair_WFDEI_200101.nc', '/g/data/u46/users/ext547/ewater/input_data/laos/temp//celcius/celsius_Tair_WFDEI_199912.nc', '/g/data/u46/users/ext547/ewater/input_data/laos/temp//celcius/celsius_Tair_WFDEI_200003.nc', '/g/data/u46/users/ext547/ewater/input_data/laos/temp//celcius/celsius_Tair_WFDEI_200709.nc', '/g/data/u46/users/ext547/ewater/input_data/laos/temp//celcius/celsius_Tair_WFDEI_200807.nc', '/g/data/u46/users/ext547/ewater/input_data/laos/temp//celcius/celsius_Tair_WFDEI_199709.nc', '/g/data/u46/users/ext547/ewater/input_data/laos/temp//celcius/celsius_Tair_WFDEI_200401.nc', '/g/data/u46/users/ext547/ewater/input_data/laos/temp//celcius/celsius_Tair_WFDEI_199112.nc', '/g/data/u46/users/ext547/ewater/input_data/laos/temp//celcius/celsius_Tair_WFDEI_199510.nc', '/g/data/u46/users/ext547/ewater/input_data/laos/temp//celcius/celsius_Tair_WFDEI_199809.nc', '/g/data/u46/users/ext547/ewater/input_data/laos/temp//celcius/celsius_Tair_WFDEI_200903.nc', '/g/data/u46/users/ext547/ewater/input_data/laos/temp//celcius/celsius_Tair_WFDEI_198602.nc', '/g/data/u46/users/ext547/ewater/input_data/laos/temp//celcius/celsius_Tair_WFDEI_198401.nc', '/g/data/u46/users/ext547/ewater/input_data/laos/temp//celcius/celsius_Tair_WFDEI_200005.nc', '/g/data/u46/users/ext547/ewater/input_data/laos/temp//celcius/celsius_Tair_WFDEI_200701.nc', '/g/data/u46/users/ext547/ewater/input_data/laos/temp//celcius/celsius_Tair_WFDEI_199807.nc', '/g/data/u46/users/ext547/ewater/input_data/laos/temp//celcius/celsius_Tair_WFDEI_199506.nc', '/g/data/u46/users/ext547/ewater/input_data/laos/temp//celcius/celsius_Tair_WFDEI_200112.nc', '/g/data/u46/users/ext547/ewater/input_data/laos/temp//celcius/celsius_Tair_WFDEI_199011.nc', '/g/data/u46/users/ext547/ewater/input_data/laos/temp//celcius/celsius_Tair_WFDEI_201211.nc', '/g/data/u46/users/ext547/ewater/input_data/laos/temp//celcius/celsius_Tair_WFDEI_198807.nc', '/g/data/u46/users/ext547/ewater/input_data/laos/temp//celcius/celsius_Tair_WFDEI_198011.nc', '/g/data/u46/users/ext547/ewater/input_data/laos/temp//celcius/celsius_Tair_WFDEI_201604.nc', '/g/data/u46/users/ext547/ewater/input_data/laos/temp//celcius/celsius_Tair_WFDEI_199009.nc', '/g/data/u46/users/ext547/ewater/input_data/laos/temp//celcius/celsius_Tair_WFDEI_199603.nc', '/g/data/u46/users/ext547/ewater/input_data/laos/temp//celcius/celsius_Tair_WFDEI_200712.nc', '/g/data/u46/users/ext547/ewater/input_data/laos/temp//celcius/celsius_Tair_WFDEI_200207.nc', '/g/data/u46/users/ext547/ewater/input_data/laos/temp//celcius/celsius_Tair_WFDEI_198802.nc', '/g/data/u46/users/ext547/ewater/input_data/laos/temp//celcius/celsius_Tair_WFDEI_198610.nc', '/g/data/u46/users/ext547/ewater/input_data/laos/temp//celcius/celsius_Tair_WFDEI_199601.nc', '/g/data/u46/users/ext547/ewater/input_data/laos/temp//celcius/celsius_Tair_WFDEI_198502.nc', '/g/data/u46/users/ext547/ewater/input_data/laos/temp//celcius/celsius_Tair_WFDEI_198209.nc', '/g/data/u46/users/ext547/ewater/input_data/laos/temp//celcius/celsius_Tair_WFDEI_198411.nc', '/g/data/u46/users/ext547/ewater/input_data/laos/temp//celcius/celsius_Tair_WFDEI_200508.nc', '/g/data/u46/users/ext547/ewater/input_data/laos/temp//celcius/celsius_Tair_WFDEI_199906.nc', '/g/data/u46/users/ext547/ewater/input_data/laos/temp//celcius/celsius_Tair_WFDEI_201004.nc', '/g/data/u46/users/ext547/ewater/input_data/laos/temp//celcius/celsius_Tair_WFDEI_199002.nc', '/g/data/u46/users/ext547/ewater/input_data/laos/temp//celcius/celsius_Tair_WFDEI_199508.nc', '/g/data/u46/users/ext547/ewater/input_data/laos/temp//celcius/celsius_Tair_WFDEI_198403.nc', '/g/data/u46/users/ext547/ewater/input_data/laos/temp//celcius/celsius_Tair_WFDEI_200009.nc', '/g/data/u46/users/ext547/ewater/input_data/laos/temp//celcius/celsius_Tair_WFDEI_200011.nc', '/g/data/u46/users/ext547/ewater/input_data/laos/temp//celcius/celsius_Tair_WFDEI_200906.nc', '/g/data/u46/users/ext547/ewater/input_data/laos/temp//celcius/celsius_Tair_WFDEI_199111.nc', '/g/data/u46/users/ext547/ewater/input_data/laos/temp//celcius/celsius_Tair_WFDEI_199408.nc', '/g/data/u46/users/ext547/ewater/input_data/laos/temp//celcius/celsius_Tair_WFDEI_200302.nc', '/g/data/u46/users/ext547/ewater/input_data/laos/temp//celcius/celsius_Tair_WFDEI_198312.nc', '/g/data/u46/users/ext547/ewater/input_data/laos/temp//celcius/celsius_Tair_WFDEI_199602.nc', '/g/data/u46/users/ext547/ewater/input_data/laos/temp//celcius/celsius_Tair_WFDEI_200509.nc', '/g/data/u46/users/ext547/ewater/input_data/laos/temp//celcius/celsius_Tair_WFDEI_201105.nc', '/g/data/u46/users/ext547/ewater/input_data/laos/temp//celcius/celsius_Tair_WFDEI_199402.nc', '/g/data/u46/users/ext547/ewater/input_data/laos/temp//celcius/celsius_Tair_WFDEI_198712.nc', '/g/data/u46/users/ext547/ewater/input_data/laos/temp//celcius/celsius_Tair_WFDEI_201206.nc', '/g/data/u46/users/ext547/ewater/input_data/laos/temp//celcius/celsius_Tair_WFDEI_201310.nc', '/g/data/u46/users/ext547/ewater/input_data/laos/temp//celcius/celsius_Tair_WFDEI_198501.nc', '/g/data/u46/users/ext547/ewater/input_data/laos/temp//celcius/celsius_Tair_WFDEI_199012.nc', '/g/data/u46/users/ext547/ewater/input_data/laos/temp//celcius/celsius_Tair_WFDEI_201203.nc', '/g/data/u46/users/ext547/ewater/input_data/laos/temp//celcius/celsius_Tair_WFDEI_199411.nc', '/g/data/u46/users/ext547/ewater/input_data/laos/temp//celcius/celsius_Tair_WFDEI_199901.nc', '/g/data/u46/users/ext547/ewater/input_data/laos/temp//celcius/celsius_Tair_WFDEI_200205.nc', '/g/data/u46/users/ext547/ewater/input_data/laos/temp//celcius/celsius_Tair_WFDEI_199503.nc', '/g/data/u46/users/ext547/ewater/input_data/laos/temp//celcius/celsius_Tair_WFDEI_200604.nc', '/g/data/u46/users/ext547/ewater/input_data/laos/temp//celcius/celsius_Tair_WFDEI_201302.nc', '/g/data/u46/users/ext547/ewater/input_data/laos/temp//celcius/celsius_Tair_WFDEI_198702.nc', '/g/data/u46/users/ext547/ewater/input_data/laos/temp//celcius/celsius_Tair_WFDEI_200404.nc', '/g/data/u46/users/ext547/ewater/input_data/laos/temp//celcius/celsius_Tair_WFDEI_198511.nc', '/g/data/u46/users/ext547/ewater/input_data/laos/temp//celcius/celsius_Tair_WFDEI_200305.nc', '/g/data/u46/users/ext547/ewater/input_data/laos/temp//celcius/celsius_Tair_WFDEI_200111.nc', '/g/data/u46/users/ext547/ewater/input_data/laos/temp//celcius/celsius_Tair_WFDEI_201111.nc', '/g/data/u46/users/ext547/ewater/input_data/laos/temp//celcius/celsius_Tair_WFDEI_199403.nc', '/g/data/u46/users/ext547/ewater/input_data/laos/temp//celcius/celsius_Tair_WFDEI_200406.nc', '/g/data/u46/users/ext547/ewater/input_data/laos/temp//celcius/celsius_Tair_WFDEI_199907.nc', '/g/data/u46/users/ext547/ewater/input_data/laos/temp//celcius/celsius_Tair_WFDEI_201207.nc', '/g/data/u46/users/ext547/ewater/input_data/laos/temp//celcius/celsius_Tair_WFDEI_200703.nc', '/g/data/u46/users/ext547/ewater/input_data/laos/temp//celcius/celsius_Tair_WFDEI_201102.nc', '/g/data/u46/users/ext547/ewater/input_data/laos/temp//celcius/celsius_Tair_WFDEI_199908.nc', '/g/data/u46/users/ext547/ewater/input_data/laos/temp//celcius/celsius_Tair_WFDEI_199708.nc', '/g/data/u46/users/ext547/ewater/input_data/laos/temp//celcius/celsius_Tair_WFDEI_198905.nc', '/g/data/u46/users/ext547/ewater/input_data/laos/temp//celcius/celsius_Tair_WFDEI_201103.nc', '/g/data/u46/users/ext547/ewater/input_data/laos/temp//celcius/celsius_Tair_WFDEI_199407.nc', '/g/data/u46/users/ext547/ewater/input_data/laos/temp//celcius/celsius_Tair_WFDEI_198311.nc', '/g/data/u46/users/ext547/ewater/input_data/laos/temp//celcius/celsius_Tair_WFDEI_199308.nc', '/g/data/u46/users/ext547/ewater/input_data/laos/temp//celcius/celsius_Tair_WFDEI_200606.nc', '/g/data/u46/users/ext547/ewater/input_data/laos/temp//celcius/celsius_Tair_WFDEI_199208.nc', '/g/data/u46/users/ext547/ewater/input_data/laos/temp//celcius/celsius_Tair_WFDEI_198112.nc', '/g/data/u46/users/ext547/ewater/input_data/laos/temp//celcius/celsius_Tair_WFDEI_199607.nc', '/g/data/u46/users/ext547/ewater/input_data/laos/temp//celcius/celsius_Tair_WFDEI_200909.nc', '/g/data/u46/users/ext547/ewater/input_data/laos/temp//celcius/celsius_Tair_WFDEI_198204.nc', '/g/data/u46/users/ext547/ewater/input_data/laos/temp//celcius/celsius_Tair_WFDEI_199202.nc', '/g/data/u46/users/ext547/ewater/input_data/laos/temp//celcius/celsius_Tair_WFDEI_197903.nc', '/g/data/u46/users/ext547/ewater/input_data/laos/temp//celcius/celsius_Tair_WFDEI_200506.nc', '/g/data/u46/users/ext547/ewater/input_data/laos/temp//celcius/celsius_Tair_WFDEI_200306.nc', '/g/data/u46/users/ext547/ewater/input_data/laos/temp//celcius/celsius_Tair_WFDEI_201610.nc', '/g/data/u46/users/ext547/ewater/input_data/laos/temp//celcius/celsius_Tair_WFDEI_199904.nc', '/g/data/u46/users/ext547/ewater/input_data/laos/temp//celcius/celsius_Tair_WFDEI_201406.nc', '/g/data/u46/users/ext547/ewater/input_data/laos/temp//celcius/celsius_Tair_WFDEI_199110.nc', '/g/data/u46/users/ext547/ewater/input_data/laos/temp//celcius/celsius_Tair_WFDEI_200609.nc', '/g/data/u46/users/ext547/ewater/input_data/laos/temp//celcius/celsius_Tair_WFDEI_200104.nc', '/g/data/u46/users/ext547/ewater/input_data/laos/temp//celcius/celsius_Tair_WFDEI_198908.nc', '/g/data/u46/users/ext547/ewater/input_data/laos/temp//celcius/celsius_Tair_WFDEI_199302.nc', '/g/data/u46/users/ext547/ewater/input_data/laos/temp//celcius/celsius_Tair_WFDEI_198708.nc', '/g/data/u46/users/ext547/ewater/input_data/laos/temp//celcius/celsius_Tair_WFDEI_200908.nc', '/g/data/u46/users/ext547/ewater/input_data/laos/temp//celcius/celsius_Tair_WFDEI_200209.nc', '/g/data/u46/users/ext547/ewater/input_data/laos/temp//celcius/celsius_Tair_WFDEI_200811.nc', '/g/data/u46/users/ext547/ewater/input_data/laos/temp//celcius/celsius_Tair_WFDEI_201003.nc', '/g/data/u46/users/ext547/ewater/input_data/laos/temp//celcius/celsius_Tair_WFDEI_199309.nc', '/g/data/u46/users/ext547/ewater/input_data/laos/temp//celcius/celsius_Tair_WFDEI_200303.nc', '/g/data/u46/users/ext547/ewater/input_data/laos/temp//celcius/celsius_Tair_WFDEI_198102.nc', '/g/data/u46/users/ext547/ewater/input_data/laos/temp//celcius/celsius_Tair_WFDEI_201507.nc', '/g/data/u46/users/ext547/ewater/input_data/laos/temp//celcius/celsius_Tair_WFDEI_198510.nc', '/g/data/u46/users/ext547/ewater/input_data/laos/temp//celcius/celsius_Tair_WFDEI_199405.nc', '/g/data/u46/users/ext547/ewater/input_data/laos/temp//celcius/celsius_Tair_WFDEI_198106.nc', '/g/data/u46/users/ext547/ewater/input_data/laos/temp//celcius/celsius_Tair_WFDEI_201108.nc', '/g/data/u46/users/ext547/ewater/input_data/laos/temp//celcius/celsius_Tair_WFDEI_201505.nc', '/g/data/u46/users/ext547/ewater/input_data/laos/temp//celcius/celsius_Tair_WFDEI_199003.nc', '/g/data/u46/users/ext547/ewater/input_data/laos/temp//celcius/celsius_Tair_WFDEI_198407.nc', '/g/data/u46/users/ext547/ewater/input_data/laos/temp//celcius/celsius_Tair_WFDEI_198601.nc', '/g/data/u46/users/ext547/ewater/input_data/laos/temp//celcius/celsius_Tair_WFDEI_199808.nc', '/g/data/u46/users/ext547/ewater/input_data/laos/temp//celcius/celsius_Tair_WFDEI_198004.nc', '/g/data/u46/users/ext547/ewater/input_data/laos/temp//celcius/celsius_Tair_WFDEI_201104.nc', '/g/data/u46/users/ext547/ewater/input_data/laos/temp//celcius/celsius_Tair_WFDEI_200608.nc', '/g/data/u46/users/ext547/ewater/input_data/laos/temp//celcius/celsius_Tair_WFDEI_201012.nc', '/g/data/u46/users/ext547/ewater/input_data/laos/temp//celcius/celsius_Tair_WFDEI_199711.nc', '/g/data/u46/users/ext547/ewater/input_data/laos/temp//celcius/celsius_Tair_WFDEI_199810.nc', '/g/data/u46/users/ext547/ewater/input_data/laos/temp//celcius/celsius_Tair_WFDEI_197902.nc', '/g/data/u46/users/ext547/ewater/input_data/laos/temp//celcius/celsius_Tair_WFDEI_198612.nc', '/g/data/u46/users/ext547/ewater/input_data/laos/temp//celcius/celsius_Tair_WFDEI_198405.nc', '/g/data/u46/users/ext547/ewater/input_data/laos/temp//celcius/celsius_Tair_WFDEI_199109.nc', '/g/data/u46/users/ext547/ewater/input_data/laos/temp//celcius/celsius_Tair_WFDEI_200911.nc', '/g/data/u46/users/ext547/ewater/input_data/laos/temp//celcius/celsius_Tair_WFDEI_198107.nc', '/g/data/u46/users/ext547/ewater/input_data/laos/temp//celcius/celsius_Tair_WFDEI_197906.nc', '/g/data/u46/users/ext547/ewater/input_data/laos/temp//celcius/celsius_Tair_WFDEI_199001.nc', '/g/data/u46/users/ext547/ewater/input_data/laos/temp//celcius/celsius_Tair_WFDEI_200503.nc', '/g/data/u46/users/ext547/ewater/input_data/laos/temp//celcius/celsius_Tair_WFDEI_200705.nc', '/g/data/u46/users/ext547/ewater/input_data/laos/temp//celcius/celsius_Tair_WFDEI_201209.nc', '/g/data/u46/users/ext547/ewater/input_data/laos/temp//celcius/celsius_Tair_WFDEI_198402.nc', '/g/data/u46/users/ext547/ewater/input_data/laos/temp//celcius/celsius_Tair_WFDEI_199801.nc', '/g/data/u46/users/ext547/ewater/input_data/laos/temp//celcius/celsius_Tair_WFDEI_199401.nc', '/g/data/u46/users/ext547/ewater/input_data/laos/temp//celcius/celsius_Tair_WFDEI_199802.nc', '/g/data/u46/users/ext547/ewater/input_data/laos/temp//celcius/celsius_Tair_WFDEI_198804.nc', '/g/data/u46/users/ext547/ewater/input_data/laos/temp//celcius/celsius_Tair_WFDEI_201204.nc', '/g/data/u46/users/ext547/ewater/input_data/laos/temp//celcius/celsius_Tair_WFDEI_198512.nc', '/g/data/u46/users/ext547/ewater/input_data/laos/temp//celcius/celsius_Tair_WFDEI_200812.nc', '/g/data/u46/users/ext547/ewater/input_data/laos/temp//celcius/celsius_Tair_WFDEI_198404.nc', '/g/data/u46/users/ext547/ewater/input_data/laos/temp//celcius/celsius_Tair_WFDEI_199008.nc', '/g/data/u46/users/ext547/ewater/input_data/laos/temp//celcius/celsius_Tair_WFDEI_201504.nc', '/g/data/u46/users/ext547/ewater/input_data/laos/temp//celcius/celsius_Tair_WFDEI_198305.nc', '/g/data/u46/users/ext547/ewater/input_data/laos/temp//celcius/celsius_Tair_WFDEI_200612.nc', '/g/data/u46/users/ext547/ewater/input_data/laos/temp//celcius/celsius_Tair_WFDEI_198506.nc', '/g/data/u46/users/ext547/ewater/input_data/laos/temp//celcius/celsius_Tair_WFDEI_198907.nc', '/g/data/u46/users/ext547/ewater/input_data/laos/temp//celcius/celsius_Tair_WFDEI_198906.nc', '/g/data/u46/users/ext547/ewater/input_data/laos/temp//celcius/celsius_Tair_WFDEI_199606.nc', '/g/data/u46/users/ext547/ewater/input_data/laos/temp//celcius/celsius_Tair_WFDEI_199010.nc', '/g/data/u46/users/ext547/ewater/input_data/laos/temp//celcius/celsius_Tair_WFDEI_200902.nc', '/g/data/u46/users/ext547/ewater/input_data/laos/temp//celcius/celsius_Tair_WFDEI_200501.nc', '/g/data/u46/users/ext547/ewater/input_data/laos/temp//celcius/celsius_Tair_WFDEI_199203.nc', '/g/data/u46/users/ext547/ewater/input_data/laos/temp//celcius/celsius_Tair_WFDEI_200006.nc', '/g/data/u46/users/ext547/ewater/input_data/laos/temp//celcius/celsius_Tair_WFDEI_198101.nc', '/g/data/u46/users/ext547/ewater/input_data/laos/temp//celcius/celsius_Tair_WFDEI_201306.nc', '/g/data/u46/users/ext547/ewater/input_data/laos/temp//celcius/celsius_Tair_WFDEI_201304.nc', '/g/data/u46/users/ext547/ewater/input_data/laos/temp//celcius/celsius_Tair_WFDEI_200505.nc']\n",
      "Processing celsius_Tair_WFDEI_198902.nc now\n",
      "PET_WFDEI_198902.nc is complete\n",
      "Processing celsius_Tair_WFDEI_199102.nc now\n"
     ]
    },
    {
     "name": "stdout",
     "output_type": "stream",
     "text": [
      "PET_WFDEI_199102.nc is complete\n",
      "Processing celsius_Tair_WFDEI_198310.nc now\n",
      "PET_WFDEI_198310.nc is complete\n",
      "Processing celsius_Tair_WFDEI_200904.nc now\n",
      "PET_WFDEI_200904.nc is complete\n",
      "Processing celsius_Tair_WFDEI_199609.nc now\n",
      "PET_WFDEI_199609.nc is complete\n",
      "Processing celsius_Tair_WFDEI_201608.nc now\n",
      "PET_WFDEI_201608.nc is complete\n",
      "Processing celsius_Tair_WFDEI_199207.nc now\n",
      "PET_WFDEI_199207.nc is complete\n",
      "Processing celsius_Tair_WFDEI_198012.nc now\n",
      "PET_WFDEI_198012.nc is complete\n",
      "Processing celsius_Tair_WFDEI_201205.nc now\n",
      "PET_WFDEI_201205.nc is complete\n",
      "Processing celsius_Tair_WFDEI_198408.nc now\n",
      "PET_WFDEI_198408.nc is complete\n",
      "Processing celsius_Tair_WFDEI_199803.nc now\n",
      "PET_WFDEI_199803.nc is complete\n",
      "Processing celsius_Tair_WFDEI_200212.nc now\n",
      "PET_WFDEI_200212.nc is complete\n",
      "Processing celsius_Tair_WFDEI_201009.nc now\n",
      "PET_WFDEI_201009.nc is complete\n",
      "Processing celsius_Tair_WFDEI_200304.nc now\n",
      "PET_WFDEI_200304.nc is complete\n",
      "Processing celsius_Tair_WFDEI_198609.nc now\n",
      "PET_WFDEI_198609.nc is complete\n",
      "Processing celsius_Tair_WFDEI_200108.nc now\n",
      "PET_WFDEI_200108.nc is complete\n",
      "Processing celsius_Tair_WFDEI_200901.nc now\n",
      "PET_WFDEI_200901.nc is complete\n",
      "Processing celsius_Tair_WFDEI_200601.nc now\n",
      "PET_WFDEI_200601.nc is complete\n",
      "Processing celsius_Tair_WFDEI_201110.nc now\n",
      "PET_WFDEI_201110.nc is complete\n",
      "Processing celsius_Tair_WFDEI_201307.nc now\n",
      "PET_WFDEI_201307.nc is complete\n",
      "Processing celsius_Tair_WFDEI_201106.nc now\n",
      "PET_WFDEI_201106.nc is complete\n",
      "Processing celsius_Tair_WFDEI_200206.nc now\n",
      "PET_WFDEI_200206.nc is complete\n",
      "Processing celsius_Tair_WFDEI_198805.nc now\n",
      "PET_WFDEI_198805.nc is complete\n",
      "Processing celsius_Tair_WFDEI_201005.nc now\n",
      "PET_WFDEI_201005.nc is complete\n",
      "Processing celsius_Tair_WFDEI_199104.nc now\n",
      "PET_WFDEI_199104.nc is complete\n",
      "Processing celsius_Tair_WFDEI_201112.nc now\n",
      "PET_WFDEI_201112.nc is complete\n",
      "Processing celsius_Tair_WFDEI_199103.nc now\n",
      "PET_WFDEI_199103.nc is complete\n",
      "Processing celsius_Tair_WFDEI_200502.nc now\n",
      "PET_WFDEI_200502.nc is complete\n",
      "Processing celsius_Tair_WFDEI_198108.nc now\n",
      "PET_WFDEI_198108.nc is complete\n",
      "Processing celsius_Tair_WFDEI_198810.nc now\n",
      "PET_WFDEI_198810.nc is complete\n",
      "Processing celsius_Tair_WFDEI_199108.nc now\n",
      "PET_WFDEI_199108.nc is complete\n",
      "Processing celsius_Tair_WFDEI_199005.nc now\n",
      "PET_WFDEI_199005.nc is complete\n",
      "Processing celsius_Tair_WFDEI_200806.nc now\n",
      "PET_WFDEI_200806.nc is complete\n",
      "Processing celsius_Tair_WFDEI_198703.nc now\n",
      "PET_WFDEI_198703.nc is complete\n",
      "Processing celsius_Tair_WFDEI_201401.nc now\n",
      "PET_WFDEI_201401.nc is complete\n",
      "Processing celsius_Tair_WFDEI_199502.nc now\n",
      "PET_WFDEI_199502.nc is complete\n",
      "Processing celsius_Tair_WFDEI_201201.nc now\n",
      "PET_WFDEI_201201.nc is complete\n",
      "Processing celsius_Tair_WFDEI_201303.nc now\n",
      "PET_WFDEI_201303.nc is complete\n",
      "Processing celsius_Tair_WFDEI_200309.nc now\n",
      "PET_WFDEI_200309.nc is complete\n",
      "Processing celsius_Tair_WFDEI_199902.nc now\n",
      "PET_WFDEI_199902.nc is complete\n",
      "Processing celsius_Tair_WFDEI_198507.nc now\n",
      "PET_WFDEI_198507.nc is complete\n",
      "Processing celsius_Tair_WFDEI_201002.nc now\n",
      "PET_WFDEI_201002.nc is complete\n",
      "Processing celsius_Tair_WFDEI_198808.nc now\n",
      "PET_WFDEI_198808.nc is complete\n",
      "Processing celsius_Tair_WFDEI_200211.nc now\n",
      "PET_WFDEI_200211.nc is complete\n",
      "Processing celsius_Tair_WFDEI_200512.nc now\n",
      "PET_WFDEI_200512.nc is complete\n",
      "Processing celsius_Tair_WFDEI_199504.nc now\n",
      "PET_WFDEI_199504.nc is complete\n",
      "Processing celsius_Tair_WFDEI_200706.nc now\n",
      "PET_WFDEI_200706.nc is complete\n",
      "Processing celsius_Tair_WFDEI_200103.nc now\n",
      "PET_WFDEI_200103.nc is complete\n",
      "Processing celsius_Tair_WFDEI_201008.nc now\n",
      "PET_WFDEI_201008.nc is complete\n",
      "Processing celsius_Tair_WFDEI_198608.nc now\n",
      "PET_WFDEI_198608.nc is complete\n",
      "Processing celsius_Tair_WFDEI_198306.nc now\n",
      "PET_WFDEI_198306.nc is complete\n",
      "Processing celsius_Tair_WFDEI_198001.nc now\n",
      "PET_WFDEI_198001.nc is complete\n",
      "Processing celsius_Tair_WFDEI_197909.nc now\n",
      "PET_WFDEI_197909.nc is complete\n",
      "Processing celsius_Tair_WFDEI_198211.nc now\n",
      "PET_WFDEI_198211.nc is complete\n",
      "Processing celsius_Tair_WFDEI_200804.nc now\n",
      "PET_WFDEI_200804.nc is complete\n",
      "Processing celsius_Tair_WFDEI_199303.nc now\n",
      "PET_WFDEI_199303.nc is complete\n",
      "Processing celsius_Tair_WFDEI_200004.nc now\n",
      "PET_WFDEI_200004.nc is complete\n",
      "Processing celsius_Tair_WFDEI_198710.nc now\n",
      "PET_WFDEI_198710.nc is complete\n",
      "Processing celsius_Tair_WFDEI_199007.nc now\n",
      "PET_WFDEI_199007.nc is complete\n",
      "Processing celsius_Tair_WFDEI_201107.nc now\n",
      "PET_WFDEI_201107.nc is complete\n",
      "Processing celsius_Tair_WFDEI_201611.nc now\n",
      "PET_WFDEI_201611.nc is complete\n",
      "Processing celsius_Tair_WFDEI_200307.nc now\n",
      "PET_WFDEI_200307.nc is complete\n",
      "Processing celsius_Tair_WFDEI_199511.nc now\n",
      "PET_WFDEI_199511.nc is complete\n",
      "Processing celsius_Tair_WFDEI_199909.nc now\n",
      "PET_WFDEI_199909.nc is complete\n",
      "Processing celsius_Tair_WFDEI_199501.nc now\n",
      "PET_WFDEI_199501.nc is complete\n",
      "Processing celsius_Tair_WFDEI_199312.nc now\n",
      "PET_WFDEI_199312.nc is complete\n",
      "Processing celsius_Tair_WFDEI_200603.nc now\n",
      "PET_WFDEI_200603.nc is complete\n",
      "Processing celsius_Tair_WFDEI_200510.nc now\n",
      "PET_WFDEI_200510.nc is complete\n",
      "Processing celsius_Tair_WFDEI_199409.nc now\n",
      "PET_WFDEI_199409.nc is complete\n",
      "Processing celsius_Tair_WFDEI_198809.nc now\n",
      "PET_WFDEI_198809.nc is complete\n",
      "Processing celsius_Tair_WFDEI_198207.nc now\n",
      "PET_WFDEI_198207.nc is complete\n",
      "Processing celsius_Tair_WFDEI_199305.nc now\n",
      "PET_WFDEI_199305.nc is complete\n",
      "Processing celsius_Tair_WFDEI_198010.nc now\n",
      "PET_WFDEI_198010.nc is complete\n",
      "Processing celsius_Tair_WFDEI_198104.nc now\n",
      "PET_WFDEI_198104.nc is complete\n",
      "Processing celsius_Tair_WFDEI_199611.nc now\n",
      "PET_WFDEI_199611.nc is complete\n",
      "Processing celsius_Tair_WFDEI_200202.nc now\n",
      "PET_WFDEI_200202.nc is complete\n",
      "Processing celsius_Tair_WFDEI_199910.nc now\n",
      "PET_WFDEI_199910.nc is complete\n",
      "Processing celsius_Tair_WFDEI_198803.nc now\n",
      "PET_WFDEI_198803.nc is complete\n",
      "Processing celsius_Tair_WFDEI_198009.nc now\n",
      "PET_WFDEI_198009.nc is complete\n",
      "Processing celsius_Tair_WFDEI_200702.nc now\n",
      "PET_WFDEI_200702.nc is complete\n",
      "Processing celsius_Tair_WFDEI_201603.nc now\n",
      "PET_WFDEI_201603.nc is complete\n",
      "Processing celsius_Tair_WFDEI_200704.nc now\n",
      "PET_WFDEI_200704.nc is complete\n",
      "Processing celsius_Tair_WFDEI_200912.nc now\n",
      "PET_WFDEI_200912.nc is complete\n",
      "Processing celsius_Tair_WFDEI_200611.nc now\n",
      "PET_WFDEI_200611.nc is complete\n",
      "Processing celsius_Tair_WFDEI_200809.nc now\n",
      "PET_WFDEI_200809.nc is complete\n",
      "Processing celsius_Tair_WFDEI_200411.nc now\n",
      "PET_WFDEI_200411.nc is complete\n",
      "Processing celsius_Tair_WFDEI_199106.nc now\n",
      "PET_WFDEI_199106.nc is complete\n",
      "Processing celsius_Tair_WFDEI_200201.nc now\n",
      "PET_WFDEI_200201.nc is complete\n",
      "Processing celsius_Tair_WFDEI_199706.nc now\n",
      "PET_WFDEI_199706.nc is complete\n",
      "Processing celsius_Tair_WFDEI_198210.nc now\n",
      "PET_WFDEI_198210.nc is complete\n",
      "Processing celsius_Tair_WFDEI_200910.nc now\n",
      "PET_WFDEI_200910.nc is complete\n",
      "Processing celsius_Tair_WFDEI_201202.nc now\n",
      "PET_WFDEI_201202.nc is complete\n",
      "Processing celsius_Tair_WFDEI_199310.nc now\n",
      "PET_WFDEI_199310.nc is complete\n",
      "Processing celsius_Tair_WFDEI_197907.nc now\n",
      "PET_WFDEI_197907.nc is complete\n",
      "Processing celsius_Tair_WFDEI_199705.nc now\n",
      "PET_WFDEI_199705.nc is complete\n",
      "Processing celsius_Tair_WFDEI_201408.nc now\n",
      "PET_WFDEI_201408.nc is complete\n",
      "Processing celsius_Tair_WFDEI_199804.nc now\n",
      "PET_WFDEI_199804.nc is complete\n",
      "Processing celsius_Tair_WFDEI_198109.nc now\n",
      "PET_WFDEI_198109.nc is complete\n",
      "Processing celsius_Tair_WFDEI_197911.nc now\n",
      "PET_WFDEI_197911.nc is complete\n",
      "Processing celsius_Tair_WFDEI_200504.nc now\n",
      "PET_WFDEI_200504.nc is complete\n",
      "Processing celsius_Tair_WFDEI_198410.nc now\n",
      "PET_WFDEI_198410.nc is complete\n",
      "Processing celsius_Tair_WFDEI_198912.nc now\n",
      "PET_WFDEI_198912.nc is complete\n",
      "Processing celsius_Tair_WFDEI_199707.nc now\n",
      "PET_WFDEI_199707.nc is complete\n",
      "Processing celsius_Tair_WFDEI_197904.nc now\n",
      "PET_WFDEI_197904.nc is complete\n",
      "Processing celsius_Tair_WFDEI_198103.nc now\n",
      "PET_WFDEI_198103.nc is complete\n",
      "Processing celsius_Tair_WFDEI_200208.nc now\n",
      "PET_WFDEI_200208.nc is complete\n",
      "Processing celsius_Tair_WFDEI_201212.nc now\n",
      "PET_WFDEI_201212.nc is complete\n",
      "Processing celsius_Tair_WFDEI_199306.nc now\n",
      "PET_WFDEI_199306.nc is complete\n",
      "Processing celsius_Tair_WFDEI_199812.nc now\n",
      "PET_WFDEI_199812.nc is complete\n",
      "Processing celsius_Tair_WFDEI_198008.nc now\n",
      "PET_WFDEI_198008.nc is complete\n",
      "Processing celsius_Tair_WFDEI_200102.nc now\n"
     ]
    },
    {
     "name": "stdout",
     "output_type": "stream",
     "text": [
      "PET_WFDEI_200102.nc is complete\n",
      "Processing celsius_Tair_WFDEI_200002.nc now\n",
      "PET_WFDEI_200002.nc is complete\n",
      "Processing celsius_Tair_WFDEI_201607.nc now\n",
      "PET_WFDEI_201607.nc is complete\n",
      "Processing celsius_Tair_WFDEI_200109.nc now\n",
      "PET_WFDEI_200109.nc is complete\n",
      "Processing celsius_Tair_WFDEI_199701.nc now\n"
     ]
    },
    {
     "ename": "KeyboardInterrupt",
     "evalue": "",
     "output_type": "error",
     "traceback": [
      "\u001b[0;31m---------------------------------------------------------------------------\u001b[0m",
      "\u001b[0;31mKeyboardInterrupt\u001b[0m                         Traceback (most recent call last)",
      "\u001b[0;32m<ipython-input-3-88129cae72ac>\u001b[0m in \u001b[0;36m<module>\u001b[0;34m\u001b[0m\n\u001b[1;32m     12\u001b[0m \u001b[0;34m\u001b[0m\u001b[0m\n\u001b[1;32m     13\u001b[0m     \u001b[0;31m#Input temperature datasets\u001b[0m\u001b[0;34m\u001b[0m\u001b[0;34m\u001b[0m\u001b[0m\n\u001b[0;32m---> 14\u001b[0;31m     \u001b[0mmin_xr\u001b[0m \u001b[0;34m=\u001b[0m \u001b[0mxr\u001b[0m\u001b[0;34m.\u001b[0m\u001b[0mopen_dataset\u001b[0m\u001b[0;34m(\u001b[0m\u001b[0minput_folder\u001b[0m\u001b[0;34m+\u001b[0m\u001b[0;34m'/min/'\u001b[0m\u001b[0;34m+\u001b[0m\u001b[0mmin_nc\u001b[0m\u001b[0;34m,\u001b[0m \u001b[0mdecode_times\u001b[0m\u001b[0;34m=\u001b[0m\u001b[0;32mFalse\u001b[0m\u001b[0;34m)\u001b[0m\u001b[0;34m\u001b[0m\u001b[0m\n\u001b[0m\u001b[1;32m     15\u001b[0m     \u001b[0mmean_xr\u001b[0m \u001b[0;34m=\u001b[0m \u001b[0mxr\u001b[0m\u001b[0;34m.\u001b[0m\u001b[0mopen_dataset\u001b[0m\u001b[0;34m(\u001b[0m\u001b[0minput_folder\u001b[0m\u001b[0;34m+\u001b[0m\u001b[0;34m'/mean/'\u001b[0m\u001b[0;34m+\u001b[0m\u001b[0mmean_nc\u001b[0m\u001b[0;34m,\u001b[0m \u001b[0mdecode_times\u001b[0m\u001b[0;34m=\u001b[0m\u001b[0;32mFalse\u001b[0m\u001b[0;34m)\u001b[0m\u001b[0;34m\u001b[0m\u001b[0m\n\u001b[1;32m     16\u001b[0m     \u001b[0mmax_xr\u001b[0m \u001b[0;34m=\u001b[0m \u001b[0mxr\u001b[0m\u001b[0;34m.\u001b[0m\u001b[0mopen_dataset\u001b[0m\u001b[0;34m(\u001b[0m\u001b[0minput_folder\u001b[0m\u001b[0;34m+\u001b[0m\u001b[0;34m'/max/'\u001b[0m\u001b[0;34m+\u001b[0m\u001b[0mmax_nc\u001b[0m\u001b[0;34m,\u001b[0m \u001b[0mdecode_times\u001b[0m\u001b[0;34m=\u001b[0m\u001b[0;32mFalse\u001b[0m\u001b[0;34m)\u001b[0m\u001b[0;34m\u001b[0m\u001b[0m\n",
      "\u001b[0;32m/g/data/v10/public/modules/dea-env/20181015/lib/python3.6/site-packages/xarray/backends/api.py\u001b[0m in \u001b[0;36mopen_dataset\u001b[0;34m(filename_or_obj, group, decode_cf, mask_and_scale, decode_times, autoclose, concat_characters, decode_coords, engine, chunks, lock, cache, drop_variables, backend_kwargs)\u001b[0m\n\u001b[1;32m    318\u001b[0m                                                    \u001b[0mgroup\u001b[0m\u001b[0;34m=\u001b[0m\u001b[0mgroup\u001b[0m\u001b[0;34m,\u001b[0m\u001b[0;34m\u001b[0m\u001b[0m\n\u001b[1;32m    319\u001b[0m                                                    \u001b[0mautoclose\u001b[0m\u001b[0;34m=\u001b[0m\u001b[0mautoclose\u001b[0m\u001b[0;34m,\u001b[0m\u001b[0;34m\u001b[0m\u001b[0m\n\u001b[0;32m--> 320\u001b[0;31m                                                    **backend_kwargs)\n\u001b[0m\u001b[1;32m    321\u001b[0m         \u001b[0;32melif\u001b[0m \u001b[0mengine\u001b[0m \u001b[0;34m==\u001b[0m \u001b[0;34m'scipy'\u001b[0m\u001b[0;34m:\u001b[0m\u001b[0;34m\u001b[0m\u001b[0m\n\u001b[1;32m    322\u001b[0m             store = backends.ScipyDataStore(filename_or_obj,\n",
      "\u001b[0;32m/g/data/v10/public/modules/dea-env/20181015/lib/python3.6/site-packages/xarray/backends/netCDF4_.py\u001b[0m in \u001b[0;36mopen\u001b[0;34m(cls, filename, mode, format, group, writer, clobber, diskless, persist, autoclose, lock)\u001b[0m\n\u001b[1;32m    329\u001b[0m                                    \u001b[0mdiskless\u001b[0m\u001b[0;34m=\u001b[0m\u001b[0mdiskless\u001b[0m\u001b[0;34m,\u001b[0m \u001b[0mpersist\u001b[0m\u001b[0;34m=\u001b[0m\u001b[0mpersist\u001b[0m\u001b[0;34m,\u001b[0m\u001b[0;34m\u001b[0m\u001b[0m\n\u001b[1;32m    330\u001b[0m                                    format=format)\n\u001b[0;32m--> 331\u001b[0;31m         \u001b[0mds\u001b[0m \u001b[0;34m=\u001b[0m \u001b[0mopener\u001b[0m\u001b[0;34m(\u001b[0m\u001b[0;34m)\u001b[0m\u001b[0;34m\u001b[0m\u001b[0m\n\u001b[0m\u001b[1;32m    332\u001b[0m         return cls(ds, mode=mode, writer=writer, opener=opener,\n\u001b[1;32m    333\u001b[0m                    autoclose=autoclose, lock=lock)\n",
      "\u001b[0;32m/g/data/v10/public/modules/dea-env/20181015/lib/python3.6/site-packages/xarray/backends/netCDF4_.py\u001b[0m in \u001b[0;36m_open_netcdf4_group\u001b[0;34m(filename, mode, group, **kwargs)\u001b[0m\n\u001b[1;32m    228\u001b[0m     \u001b[0;32mimport\u001b[0m \u001b[0mnetCDF4\u001b[0m \u001b[0;32mas\u001b[0m \u001b[0mnc4\u001b[0m\u001b[0;34m\u001b[0m\u001b[0m\n\u001b[1;32m    229\u001b[0m \u001b[0;34m\u001b[0m\u001b[0m\n\u001b[0;32m--> 230\u001b[0;31m     \u001b[0mds\u001b[0m \u001b[0;34m=\u001b[0m \u001b[0mnc4\u001b[0m\u001b[0;34m.\u001b[0m\u001b[0mDataset\u001b[0m\u001b[0;34m(\u001b[0m\u001b[0mfilename\u001b[0m\u001b[0;34m,\u001b[0m \u001b[0mmode\u001b[0m\u001b[0;34m=\u001b[0m\u001b[0mmode\u001b[0m\u001b[0;34m,\u001b[0m \u001b[0;34m**\u001b[0m\u001b[0mkwargs\u001b[0m\u001b[0;34m)\u001b[0m\u001b[0;34m\u001b[0m\u001b[0m\n\u001b[0m\u001b[1;32m    231\u001b[0m \u001b[0;34m\u001b[0m\u001b[0m\n\u001b[1;32m    232\u001b[0m     \u001b[0;32mwith\u001b[0m \u001b[0mclose_on_error\u001b[0m\u001b[0;34m(\u001b[0m\u001b[0mds\u001b[0m\u001b[0;34m)\u001b[0m\u001b[0;34m:\u001b[0m\u001b[0;34m\u001b[0m\u001b[0m\n",
      "\u001b[0;32mnetCDF4/_netCDF4.pyx\u001b[0m in \u001b[0;36mnetCDF4._netCDF4.Dataset.__init__\u001b[0;34m()\u001b[0m\n",
      "\u001b[0;32mnetCDF4/_netCDF4.pyx\u001b[0m in \u001b[0;36mnetCDF4._netCDF4._get_vars\u001b[0;34m()\u001b[0m\n",
      "\u001b[0;32mnetCDF4/_netCDF4.pyx\u001b[0m in \u001b[0;36mnetCDF4._netCDF4.Variable.__init__\u001b[0;34m()\u001b[0m\n",
      "\u001b[0;32m/g/data/v10/public/modules/dea-env/20181015/lib/python3.6/site-packages/netCDF4/utils.py\u001b[0m in \u001b[0;36m_find_dim\u001b[0;34m(grp, dimname)\u001b[0m\n\u001b[1;32m     38\u001b[0m     \u001b[0;32mreturn\u001b[0m \u001b[0;34m[\u001b[0m\u001b[0mA\u001b[0m\u001b[0;34m[\u001b[0m\u001b[0mi\u001b[0m\u001b[0;34m]\u001b[0m \u001b[0;32mfor\u001b[0m \u001b[0mi\u001b[0m \u001b[0;32min\u001b[0m \u001b[0msorted\u001b[0m\u001b[0;34m(\u001b[0m\u001b[0mrange\u001b[0m\u001b[0;34m(\u001b[0m\u001b[0mlen\u001b[0m\u001b[0;34m(\u001b[0m\u001b[0mA\u001b[0m\u001b[0;34m)\u001b[0m\u001b[0;34m)\u001b[0m\u001b[0;34m,\u001b[0m \u001b[0mkey\u001b[0m\u001b[0;34m=\u001b[0m\u001b[0mB\u001b[0m\u001b[0;34m.\u001b[0m\u001b[0m__getitem__\u001b[0m\u001b[0;34m)\u001b[0m\u001b[0;34m]\u001b[0m\u001b[0;34m\u001b[0m\u001b[0m\n\u001b[1;32m     39\u001b[0m \u001b[0;34m\u001b[0m\u001b[0m\n\u001b[0;32m---> 40\u001b[0;31m \u001b[0;32mdef\u001b[0m \u001b[0m_find_dim\u001b[0m\u001b[0;34m(\u001b[0m\u001b[0mgrp\u001b[0m\u001b[0;34m,\u001b[0m \u001b[0mdimname\u001b[0m\u001b[0;34m)\u001b[0m\u001b[0;34m:\u001b[0m\u001b[0;34m\u001b[0m\u001b[0m\n\u001b[0m\u001b[1;32m     41\u001b[0m     \u001b[0;31m# find Dimension instance given group and name.\u001b[0m\u001b[0;34m\u001b[0m\u001b[0;34m\u001b[0m\u001b[0m\n\u001b[1;32m     42\u001b[0m     \u001b[0;31m# look in current group, and parents.\u001b[0m\u001b[0;34m\u001b[0m\u001b[0;34m\u001b[0m\u001b[0m\n",
      "\u001b[0;31mKeyboardInterrupt\u001b[0m: "
     ]
    }
   ],
   "source": [
    "input_folder = '/g/data/u46/users/ext547/ewater/input_data/laos/temp/' #location of files\n",
    "ncfiles = glob.glob(input_folder + '/celcius/*.nc') #a glob file containing the names of all nc\n",
    "\n",
    "print(ncfiles)\n",
    "for ncpath in ncfiles: #loop through all nc\n",
    "    #Set dataset variables\n",
    "    nc_name = ncpath[-28:]\n",
    "    print ('Processing '+str(nc_name)+' now')\n",
    "    min_nc = 'min_'+str(nc_name)\n",
    "    max_nc = 'max_'+str(nc_name)\n",
    "    mean_nc = 'mean_'+str(nc_name)\n",
    "    \n",
    "    #Input temperature datasets\n",
    "    min_xr = xr.open_dataset(input_folder+'/min/'+min_nc, decode_times=False)\n",
    "    mean_xr = xr.open_dataset(input_folder+'/mean/'+mean_nc, decode_times=False)\n",
    "    max_xr = xr.open_dataset(input_folder+'/max/'+max_nc, decode_times=False)\n",
    "    \n",
    "    #Calculate date from netcdf and save as xarray dataset\n",
    "    time = xr.DataArray([to_date(epoch, min_xr.time.units[14:]) for epoch in min_xr.time.values.tolist()], coords={'time': min_xr.time}, dims=('time',))\n",
    "   \n",
    "    #Calculate julian days and save as an array\n",
    "    j_days = xr.DataArray([julian_days(epoch, \n",
    "                                       min_xr.time.units[14:18]) for epoch in time.time.values.tolist()], \n",
    "                          coords={'time': min_xr.time}, dims=('time',))\n",
    "    \n",
    "    #Use leap year function and save the number of days within the year as a variable\n",
    "    ndy = leap_year( min_xr.time.units[14:18])\n",
    "    \n",
    "    #Create array of temperature difference\n",
    "    #Unit: T_diff in degrees celcius\n",
    "    T_diff = max_xr.Tair - min_xr.Tair\n",
    "    \n",
    "    #Create array of latitude in radians\n",
    "    #Unit: lat_rad in radians\n",
    "    lat_rad = np.radians(min_xr.lat)\n",
    "    \n",
    "    # Caclulate the inverse relative distance between the Earth and the Sun\n",
    "    # Unit: dr in radians\n",
    "    dr = 1 + 0.033 * np.cos(2 * np.pi * j_days / ndy)\n",
    "    \n",
    "    # Calculate solar declination\n",
    "    # Unit: sd in radians\n",
    "    sd = 0.409 * np.sin(2 * mt.pi * j_days / ndy - 1.39)\n",
    "\n",
    "    # Calculate a sunset angle input variable\n",
    "    # Unit: no unit\n",
    "    sa_X = 1 - (np.tan(lat_rad))**2 * ((np.tan(sd))**2)\n",
    "    \n",
    "    # Calculate sunset angle\n",
    "    # Units: sa in radians\n",
    "    sa = mt.pi / 2 - np.arctan(-np.tan(lat_rad) * np.tan(sd) / np.sqrt(sa_X))\n",
    "\n",
    "    # Calcualte extraterrestrial radiation\n",
    "    # Units: ra in MJ / (m^ day)\n",
    "    ra = 37.586 * dr * (sa * np.sin(lat_rad) * np.sin(sd) + np.cos(lat_rad) * np.cos(sd) * np.sin(sa))\n",
    "    \n",
    "    # Calculate Potential Evapotranspiration\n",
    "    # Units: PET in mm/day\n",
    "    pet = 0.0009384 * (mean_xr.Tair + 17.8) * np.sqrt(T_diff) * ra\n",
    "    pet = xr.Dataset({'PET':pet})\n",
    "    pet.PET.attrs['units'] = 'mm/day' #add unit to xarray\n",
    "    \n",
    "    #Save PET output as netcdf\n",
    "    pet.to_netcdf(path = '/g/data/u46/users/ext547/ewater/input_data/laos/PET/monthly/PET'+nc_name[12:])\n",
    "    print ('PET'+str(nc_name[12:])+' is complete')"
   ]
  },
  {
   "cell_type": "code",
   "execution_count": 44,
   "metadata": {
    "ExecuteTime": {
     "end_time": "2018-10-23T02:22:02.521471Z",
     "start_time": "2018-10-23T02:22:02.513999Z"
    }
   },
   "outputs": [
    {
     "data": {
      "text/plain": [
       "<xarray.DataArray ()>\n",
       "array(273)\n",
       "Coordinates:\n",
       "    time     float64 2.543e+06"
      ]
     },
     "execution_count": 44,
     "metadata": {},
     "output_type": "execute_result"
    }
   ],
   "source": [
    "j_days.isel(time=29)"
   ]
  },
  {
   "cell_type": "code",
   "execution_count": 42,
   "metadata": {
    "ExecuteTime": {
     "end_time": "2018-10-23T02:21:06.158606Z",
     "start_time": "2018-10-23T02:21:06.148208Z"
    }
   },
   "outputs": [
    {
     "data": {
      "text/plain": [
       "<xarray.DataArray 'time' (time: 30)>\n",
       "array([  37800.,  124200.,  210600.,  297000.,  383400.,  469800.,  556200.,\n",
       "        642600.,  729000.,  815400.,  901800.,  988200., 1074600., 1161000.,\n",
       "       1247400., 1333800., 1420200., 1506600., 1593000., 1679400., 1765800.,\n",
       "       1852200., 1938600., 2025000., 2111400., 2197800., 2284200., 2370600.,\n",
       "       2457000., 2543400.])\n",
       "Coordinates:\n",
       "  * time     (time) float64 3.78e+04 1.242e+05 2.106e+05 ... 2.457e+06 2.543e+06\n",
       "Attributes:\n",
       "    standard_name:  time\n",
       "    long_name:      time since start of month\n",
       "    bounds:         time_bnds\n",
       "    units:          seconds since 2001-09-01 00:00:00\n",
       "    calendar:       standard\n",
       "    axis:           T"
      ]
     },
     "execution_count": 42,
     "metadata": {},
     "output_type": "execute_result"
    }
   ],
   "source": [
    "pet.time"
   ]
  },
  {
   "cell_type": "code",
   "execution_count": 39,
   "metadata": {
    "ExecuteTime": {
     "end_time": "2018-10-23T02:19:22.234104Z",
     "start_time": "2018-10-23T02:19:22.224764Z"
    }
   },
   "outputs": [
    {
     "data": {
      "text/plain": [
       "<xarray.DataArray 'Tair' ()>\n",
       "array(29.031896)\n",
       "Coordinates:\n",
       "    time     float64 2.543e+06\n",
       "    lon      float32 101.75\n",
       "    lat      float32 16.25\n",
       "Attributes:\n",
       "    long_name:   Near surface air temperature at 2 m at time stamp\n",
       "    units:       C\n",
       "    actual_max:  38.56704101562502\n",
       "    actual_min:  12.980737304687523\n",
       "    title:       Tair"
      ]
     },
     "execution_count": 39,
     "metadata": {},
     "output_type": "execute_result"
    }
   ],
   "source": [
    "mean_xr.isel(time=29, lat = 5, lon = 4).Tair"
   ]
  },
  {
   "cell_type": "code",
   "execution_count": 40,
   "metadata": {
    "ExecuteTime": {
     "end_time": "2018-10-23T02:19:22.753801Z",
     "start_time": "2018-10-23T02:19:22.741443Z"
    }
   },
   "outputs": [
    {
     "data": {
      "text/plain": [
       "<xarray.DataArray 'Tair' ()>\n",
       "array(23.207605)\n",
       "Coordinates:\n",
       "    time     float64 2.543e+06\n",
       "    lon      float32 101.75\n",
       "    lat      float32 16.25\n",
       "Attributes:\n",
       "    long_name:   Near surface air temperature at 2 m at time stamp\n",
       "    units:       C\n",
       "    actual_max:  38.56704101562502\n",
       "    actual_min:  12.980737304687523\n",
       "    title:       Tair"
      ]
     },
     "execution_count": 40,
     "metadata": {},
     "output_type": "execute_result"
    }
   ],
   "source": [
    "min_xr.isel(time=29, lat = 5, lon = 4).Tair"
   ]
  },
  {
   "cell_type": "code",
   "execution_count": 41,
   "metadata": {
    "ExecuteTime": {
     "end_time": "2018-10-23T02:19:23.379755Z",
     "start_time": "2018-10-23T02:19:23.367570Z"
    }
   },
   "outputs": [
    {
     "data": {
      "text/plain": [
       "<xarray.DataArray 'Tair' ()>\n",
       "array(33.369257)\n",
       "Coordinates:\n",
       "    time     float64 2.543e+06\n",
       "    lon      float32 101.75\n",
       "    lat      float32 16.25\n",
       "Attributes:\n",
       "    long_name:   Near surface air temperature at 2 m at time stamp\n",
       "    units:       C\n",
       "    actual_max:  38.56704101562502\n",
       "    actual_min:  12.980737304687523\n",
       "    title:       Tair"
      ]
     },
     "execution_count": 41,
     "metadata": {},
     "output_type": "execute_result"
    }
   ],
   "source": [
    "max_xr.isel(time=29, lat = 5, lon = 4).Tair"
   ]
  },
  {
   "cell_type": "code",
   "execution_count": null,
   "metadata": {},
   "outputs": [],
   "source": []
  },
  {
   "cell_type": "code",
   "execution_count": null,
   "metadata": {},
   "outputs": [],
   "source": []
  }
 ],
 "metadata": {
  "kernelspec": {
   "display_name": "Python [default]",
   "language": "python",
   "name": "python3"
  },
  "language_info": {
   "codemirror_mode": {
    "name": "ipython",
    "version": 3
   },
   "file_extension": ".py",
   "mimetype": "text/x-python",
   "name": "python",
   "nbconvert_exporter": "python",
   "pygments_lexer": "ipython3",
   "version": "3.6.6"
  }
 },
 "nbformat": 4,
 "nbformat_minor": 2
}
