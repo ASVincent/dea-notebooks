{
 "cells": [
  {
   "cell_type": "code",
   "execution_count": 1,
   "metadata": {
    "ExecuteTime": {
     "end_time": "2018-11-01T00:19:10.282907Z",
     "start_time": "2018-11-01T00:19:04.977140Z"
    }
   },
   "outputs": [
    {
     "name": "stdout",
     "output_type": "stream",
     "text": [
      "Populating the interactive namespace from numpy and matplotlib\n"
     ]
    }
   ],
   "source": [
    "%pylab notebook\n",
    "\n",
    "import rasterio.features\n",
    "from shapely.geometry import Polygon, shape, mapping,MultiPolygon\n",
    "# from shapely.ops import unary_union\n",
    "# import geopandas as gp\n",
    "import fiona\n",
    "from fiona.crs import from_epsg\n",
    "# import xarray as xr\n",
    "import xarray\n",
    "import glob\n",
    "# import shapefile as shpf\n",
    "import datacube\n",
    "import datetime\n",
    "import pandas as pd\n",
    "\n",
    "import sys\n",
    "import os.path\n",
    "sys.path.append(os.path.expanduser('/g/data/u46/users/ext547/ewater/notebooks/dea-notebooks/other_notebooks/dea-notebooks/10_Scripts'))\n",
    "import DEAPlotting\n",
    "import DEADataHandling\n",
    "\n",
    "# from shapely.geometry import asShape\n",
    "# from shapely.geometry import MultiPolygon, Polygon\n",
    "\n",
    "# import dask\n",
    "# from distributed import Client, LocalCluster"
   ]
  },
  {
   "cell_type": "code",
   "execution_count": 2,
   "metadata": {
    "ExecuteTime": {
     "end_time": "2018-11-01T00:19:10.296288Z",
     "start_time": "2018-11-01T00:19:10.286969Z"
    }
   },
   "outputs": [],
   "source": [
    "def geometry_mask(geoms, geobox, all_touched=False, invert=False):\n",
    "    \"\"\"\n",
    "    Create a mask from shapes.\n",
    "\n",
    "    By default, mask is intended for use as a\n",
    "    numpy mask, where pixels that overlap shapes are False.\n",
    "    :param list[Geometry] geoms: geometries to be rasterized\n",
    "    :param datacube.utils.GeoBox geobox:\n",
    "    :param bool all_touched: If True, all pixels touched by geometries will be burned in. If\n",
    "                             false, only pixels whose center is within the polygon or that\n",
    "                             are selected by Bresenham's line algorithm will be burned in.\n",
    "    :param bool invert: If True, mask will be True for pixels that overlap shapes.\n",
    "    \"\"\"\n",
    "    data = rasterio.features.geometry_mask([geom.to_crs(geobox.crs) for geom in geoms],\n",
    "                                           out_shape=geobox.shape,\n",
    "                                           transform=geobox.affine,\n",
    "                                           all_touched=all_touched,\n",
    "                                           invert=invert)\n",
    "    coords = [xarray.DataArray(data=coord.values, name=dim, dims=[dim], attrs={'units': coord.units}) \n",
    "              for dim, coord in geobox.coords.items()]\n",
    "    return xarray.DataArray(data, coords=coords)"
   ]
  },
  {
   "cell_type": "code",
   "execution_count": 3,
   "metadata": {
    "ExecuteTime": {
     "end_time": "2018-11-01T00:19:10.313741Z",
     "start_time": "2018-11-01T00:19:10.303691Z"
    }
   },
   "outputs": [],
   "source": [
    "def get_shapes(shape_file):\n",
    "    with fiona.open(shape_file) as shapes:\n",
    "        crs = datacube.utils.geometry.CRS(shapes.crs_wkt)\n",
    "        for shape in shapes:\n",
    "            geom = datacube.utils.geometry.Geometry(shape['geometry'], crs=crs)\n",
    "            yield geom, shape['properties']"
   ]
  },
  {
   "cell_type": "code",
   "execution_count": 4,
   "metadata": {
    "ExecuteTime": {
     "end_time": "2018-11-01T00:19:10.322146Z",
     "start_time": "2018-11-01T00:19:10.316805Z"
    }
   },
   "outputs": [],
   "source": [
    "#Percentage value for permanent water bodies. Everything water observation below this value will be filtered out\n",
    "AtLeastThisWet  = 70\n",
    "\n",
    "# Where are the  datacube-stats WOfS raster files located?\n",
    "#wofsRasterFolder = '/g/data/u46/users/ext547/ewater/cambodia_cube/9_dea_stats/custom/lake_area/*/'\n",
    "wofsRasterFolder = '/g/data/u46/users/ext547/ewater/cambodia_cube/9_dea_stats/custom/lake_area/projected/'\n",
    "\n",
    "# The name and filepath of the final output polygon\n",
    "#shape_file = '/g/data/u46/users/ext547/ewater/input_data/water_body/HydroLAKES_KHM_SHp/TonleSap_buffer_32648.shp'\n",
    "shape_file = '/g/data/u46/users/ext547/ewater/input_data/water_body/HydroLAKES_KHM_SHp/TonleSap_buffer_102028.shp'\n",
    "# The filepath of the final output polygon set\n",
    "output_folder = '/g/data/u46/users/ext547/ewater/output_data/wofs/'"
   ]
  },
  {
   "cell_type": "code",
   "execution_count": 5,
   "metadata": {
    "ExecuteTime": {
     "end_time": "2018-11-01T00:19:10.333582Z",
     "start_time": "2018-11-01T00:19:10.324672Z"
    }
   },
   "outputs": [
    {
     "data": {
      "text/plain": [
       "['/g/data/u46/users/ext547/ewater/cambodia_cube/9_dea_stats/custom/lake_area/projected/wofs_lake_20150101_projected.tif',\n",
       " '/g/data/u46/users/ext547/ewater/cambodia_cube/9_dea_stats/custom/lake_area/projected/wofs_lake_20140101_projected.tif',\n",
       " '/g/data/u46/users/ext547/ewater/cambodia_cube/9_dea_stats/custom/lake_area/projected/wofs_lake_20160101_projected.tif',\n",
       " '/g/data/u46/users/ext547/ewater/cambodia_cube/9_dea_stats/custom/lake_area/projected/wofs_lake_20170101_projected.tif']"
      ]
     },
     "execution_count": 5,
     "metadata": {},
     "output_type": "execute_result"
    }
   ],
   "source": [
    "#Make a glob of all GeoTIFF files\n",
    "alltiles  = glob.glob('{0}*.tif'.format(wofsRasterFolder))\n",
    "# alltiles = alltiles[0:4]\n",
    "alltiles"
   ]
  },
  {
   "cell_type": "code",
   "execution_count": 6,
   "metadata": {
    "ExecuteTime": {
     "end_time": "2018-11-01T00:19:10.340960Z",
     "start_time": "2018-11-01T00:19:10.336278Z"
    }
   },
   "outputs": [],
   "source": [
    "crs = '+init=epsg:102028'"
   ]
  },
  {
   "cell_type": "code",
   "execution_count": 66,
   "metadata": {
    "ExecuteTime": {
     "end_time": "2018-11-01T01:03:00.768272Z",
     "start_time": "2018-11-01T01:02:42.789433Z"
    }
   },
   "outputs": [
    {
     "name": "stdout",
     "output_type": "stream",
     "text": [
      "2015\n"
     ]
    },
    {
     "name": "stderr",
     "output_type": "stream",
     "text": [
      "/g/data/v10/public/modules/dea-env/20181015/lib/python3.6/site-packages/scipy/interpolate/interpolate.py:2514: FutureWarning: Using a non-tuple sequence for multidimensional indexing is deprecated; use `arr[tuple(seq)]` instead of `arr[seq]`. In the future this will be interpreted as an array index, `arr[np.array(seq)]`, which will result either in an error or a different result.\n",
      "  return self.values[idx_res]\n"
     ]
    },
    {
     "name": "stdout",
     "output_type": "stream",
     "text": [
      "2014\n"
     ]
    },
    {
     "name": "stderr",
     "output_type": "stream",
     "text": [
      "/g/data/v10/public/modules/dea-env/20181015/lib/python3.6/site-packages/scipy/interpolate/interpolate.py:2514: FutureWarning: Using a non-tuple sequence for multidimensional indexing is deprecated; use `arr[tuple(seq)]` instead of `arr[seq]`. In the future this will be interpreted as an array index, `arr[np.array(seq)]`, which will result either in an error or a different result.\n",
      "  return self.values[idx_res]\n"
     ]
    },
    {
     "name": "stdout",
     "output_type": "stream",
     "text": [
      "2016\n"
     ]
    },
    {
     "name": "stderr",
     "output_type": "stream",
     "text": [
      "/g/data/v10/public/modules/dea-env/20181015/lib/python3.6/site-packages/scipy/interpolate/interpolate.py:2514: FutureWarning: Using a non-tuple sequence for multidimensional indexing is deprecated; use `arr[tuple(seq)]` instead of `arr[seq]`. In the future this will be interpreted as an array index, `arr[np.array(seq)]`, which will result either in an error or a different result.\n",
      "  return self.values[idx_res]\n"
     ]
    },
    {
     "name": "stdout",
     "output_type": "stream",
     "text": [
      "2017\n"
     ]
    },
    {
     "name": "stderr",
     "output_type": "stream",
     "text": [
      "/g/data/v10/public/modules/dea-env/20181015/lib/python3.6/site-packages/scipy/interpolate/interpolate.py:2514: FutureWarning: Using a non-tuple sequence for multidimensional indexing is deprecated; use `arr[tuple(seq)]` instead of `arr[seq]`. In the future this will be interpreted as an array index, `arr[np.array(seq)]`, which will result either in an error or a different result.\n",
      "  return self.values[idx_res]\n"
     ]
    }
   ],
   "source": [
    "#loop through WOfS GeoTIFF, keep 'permenant' water bodies and mask areas outside of shapefile.\n",
    "wofslake = {}\n",
    "yr_lst = []\n",
    "area_lst = []\n",
    "\n",
    "for wofsfile in alltiles: \n",
    "    # Save wofs year info from name\n",
    "#     wofsyear = wofsfile[-12:-8]\n",
    "    wofsyear = wofsfile[-22:-18]\n",
    "    print(wofsyear)\n",
    "    # Read in the data\n",
    "    wofsRasterData = xarray.open_rasterio(wofsfile)\n",
    "    # Filter our classified data layer to remove noise\n",
    "    # Remove any pixels that are wet < 10% of the time\n",
    "    wofsfiltered = wofsRasterData > AtLeastThisWet\n",
    "    wofsfiltered = wofsfiltered.squeeze()\n",
    "    # Change all zeros to NaN\n",
    "    wofsfiltered = wofsfiltered.where(wofsfiltered !=0)\n",
    "    shapes = get_shapes(shape_file)\n",
    "#     crs = wofsRasterData.crs\n",
    "    resolution = wofsRasterData.res\n",
    "    upsample = 1\n",
    "    hi_resolution = [r * upsample for r in resolution]\n",
    "    for geometry, properties in shapes:\n",
    "        geobox = datacube.utils.geometry.GeoBox.from_geopolygon(geometry, hi_resolution, crs=geometry.crs, align=None)\n",
    "        mask = geometry_mask([geometry], geobox, all_touched=True, invert=True)\n",
    "#         print(mask.values)\n",
    "        mask_num = mask *1 #bool to num\n",
    "        mask_interp =  mask_num.interp_like(wofsfiltered, method='nearest')\n",
    "        wofsArray = wofsfiltered.where(mask_interp == 1)  \n",
    "#         wofsArray = wofsfiltered.where(mask)\n",
    "        wofsArray['date'] = datetime.datetime(int(wofsyear),1,1) \n",
    "        wofslake[wofsyear] = wofsArray\n",
    "\n",
    "        \n",
    "    percentage_water = wofsArray.count().values/mask.sum().values\n",
    "    wofs_area = wofsArray * (0.030 * 0.030)\n",
    "    wofs_area = int(wofs_area.sum().values)\n",
    "    yr_lst.append([wofsyear,percentage_water])\n",
    "    area_lst.append([wofsyear,wofs_area])\n",
    "\n",
    "    \n",
    "cols = ['year','perc_wofs']\n",
    "dates_df = pd.DataFrame(columns=cols,data=yr_lst)\n",
    "dates_df = dates_df.sort_values(by=['year'])\n",
    "\n",
    "cols = ['year','area_wofs']\n",
    "area_df = pd.DataFrame(columns=cols,data=area_lst)\n",
    "area_df = area_df.sort_values(by=['year'])"
   ]
  },
  {
   "cell_type": "code",
   "execution_count": 9,
   "metadata": {
    "ExecuteTime": {
     "end_time": "2018-11-01T00:19:45.494830Z",
     "start_time": "2018-11-01T00:19:45.489630Z"
    }
   },
   "outputs": [],
   "source": [
    "# mask_num = mask *1 #bool to num\n",
    "# mask_interp =  mask_num.interp_like(wofsfiltered, method='nearest')\n",
    "# wofsArray = wofsfiltered.where(mask_interp == 1)"
   ]
  },
  {
   "cell_type": "code",
   "execution_count": 59,
   "metadata": {
    "ExecuteTime": {
     "end_time": "2018-11-01T00:57:36.839646Z",
     "start_time": "2018-11-01T00:57:36.209779Z"
    }
   },
   "outputs": [
    {
     "name": "stderr",
     "output_type": "stream",
     "text": [
      "/g/data/v10/public/modules/dea-env/20181015/lib/python3.6/site-packages/ipykernel/__main__.py:2: FutureWarning: the order of the arguments on DataArray.to_dataset has changed; you now need to supply ``name`` as a keyword argument\n",
      "  from ipykernel import kernelapp as app\n"
     ]
    }
   ],
   "source": [
    "wofs_clean = xarray.concat(wofslake.values(),'date')\n",
    "wofs_clean = wofs_clean.to_dataset(dim='wofs')\n",
    "wofs_clean = wofs_clean.sortby(wofs_clean.date)"
   ]
  },
  {
   "cell_type": "code",
   "execution_count": 65,
   "metadata": {
    "ExecuteTime": {
     "end_time": "2018-11-01T01:01:45.723512Z",
     "start_time": "2018-11-01T01:01:45.655493Z"
    }
   },
   "outputs": [
    {
     "data": {
      "text/html": [
       "<div>\n",
       "<style scoped>\n",
       "    .dataframe tbody tr th:only-of-type {\n",
       "        vertical-align: middle;\n",
       "    }\n",
       "\n",
       "    .dataframe tbody tr th {\n",
       "        vertical-align: top;\n",
       "    }\n",
       "\n",
       "    .dataframe thead th {\n",
       "        text-align: right;\n",
       "    }\n",
       "</style>\n",
       "<table border=\"1\" class=\"dataframe\">\n",
       "  <thead>\n",
       "    <tr style=\"text-align: right;\">\n",
       "      <th></th>\n",
       "      <th>year</th>\n",
       "      <th>perc_wofs</th>\n",
       "    </tr>\n",
       "  </thead>\n",
       "  <tbody>\n",
       "    <tr>\n",
       "      <th>1</th>\n",
       "      <td>2014</td>\n",
       "      <td>0.875007</td>\n",
       "    </tr>\n",
       "    <tr>\n",
       "      <th>0</th>\n",
       "      <td>2015</td>\n",
       "      <td>0.848920</td>\n",
       "    </tr>\n",
       "    <tr>\n",
       "      <th>2</th>\n",
       "      <td>2016</td>\n",
       "      <td>0.810319</td>\n",
       "    </tr>\n",
       "    <tr>\n",
       "      <th>3</th>\n",
       "      <td>2017</td>\n",
       "      <td>0.869633</td>\n",
       "    </tr>\n",
       "  </tbody>\n",
       "</table>\n",
       "</div>"
      ],
      "text/plain": [
       "   year  perc_wofs\n",
       "1  2014   0.875007\n",
       "0  2015   0.848920\n",
       "2  2016   0.810319\n",
       "3  2017   0.869633"
      ]
     },
     "execution_count": 65,
     "metadata": {},
     "output_type": "execute_result"
    }
   ],
   "source": [
    "dates_df"
   ]
  },
  {
   "cell_type": "code",
   "execution_count": 67,
   "metadata": {
    "ExecuteTime": {
     "end_time": "2018-11-01T01:03:06.060354Z",
     "start_time": "2018-11-01T01:03:06.045124Z"
    }
   },
   "outputs": [
    {
     "data": {
      "text/html": [
       "<div>\n",
       "<style scoped>\n",
       "    .dataframe tbody tr th:only-of-type {\n",
       "        vertical-align: middle;\n",
       "    }\n",
       "\n",
       "    .dataframe tbody tr th {\n",
       "        vertical-align: top;\n",
       "    }\n",
       "\n",
       "    .dataframe thead th {\n",
       "        text-align: right;\n",
       "    }\n",
       "</style>\n",
       "<table border=\"1\" class=\"dataframe\">\n",
       "  <thead>\n",
       "    <tr style=\"text-align: right;\">\n",
       "      <th></th>\n",
       "      <th>year</th>\n",
       "      <th>area_wofs</th>\n",
       "    </tr>\n",
       "  </thead>\n",
       "  <tbody>\n",
       "    <tr>\n",
       "      <th>1</th>\n",
       "      <td>2014</td>\n",
       "      <td>2435</td>\n",
       "    </tr>\n",
       "    <tr>\n",
       "      <th>0</th>\n",
       "      <td>2015</td>\n",
       "      <td>2363</td>\n",
       "    </tr>\n",
       "    <tr>\n",
       "      <th>2</th>\n",
       "      <td>2016</td>\n",
       "      <td>2255</td>\n",
       "    </tr>\n",
       "    <tr>\n",
       "      <th>3</th>\n",
       "      <td>2017</td>\n",
       "      <td>2420</td>\n",
       "    </tr>\n",
       "  </tbody>\n",
       "</table>\n",
       "</div>"
      ],
      "text/plain": [
       "   year  area_wofs\n",
       "1  2014       2435\n",
       "0  2015       2363\n",
       "2  2016       2255\n",
       "3  2017       2420"
      ]
     },
     "execution_count": 67,
     "metadata": {},
     "output_type": "execute_result"
    }
   ],
   "source": [
    "area_df"
   ]
  },
  {
   "cell_type": "code",
   "execution_count": 56,
   "metadata": {
    "ExecuteTime": {
     "end_time": "2018-11-01T00:54:57.970243Z",
     "start_time": "2018-11-01T00:54:57.963080Z"
    }
   },
   "outputs": [
    {
     "data": {
      "text/plain": [
       "2777.683731078684"
      ]
     },
     "execution_count": 56,
     "metadata": {},
     "output_type": "execute_result"
    }
   ],
   "source": [
    "(geometry.area) / (1000 *1000)"
   ]
  },
  {
   "cell_type": "code",
   "execution_count": 68,
   "metadata": {
    "ExecuteTime": {
     "end_time": "2018-11-01T01:03:30.018010Z",
     "start_time": "2018-11-01T01:03:29.973859Z"
    }
   },
   "outputs": [
    {
     "data": {
      "application/javascript": [
       "/* Put everything inside the global mpl namespace */\n",
       "window.mpl = {};\n",
       "\n",
       "\n",
       "mpl.get_websocket_type = function() {\n",
       "    if (typeof(WebSocket) !== 'undefined') {\n",
       "        return WebSocket;\n",
       "    } else if (typeof(MozWebSocket) !== 'undefined') {\n",
       "        return MozWebSocket;\n",
       "    } else {\n",
       "        alert('Your browser does not have WebSocket support.' +\n",
       "              'Please try Chrome, Safari or Firefox ≥ 6. ' +\n",
       "              'Firefox 4 and 5 are also supported but you ' +\n",
       "              'have to enable WebSockets in about:config.');\n",
       "    };\n",
       "}\n",
       "\n",
       "mpl.figure = function(figure_id, websocket, ondownload, parent_element) {\n",
       "    this.id = figure_id;\n",
       "\n",
       "    this.ws = websocket;\n",
       "\n",
       "    this.supports_binary = (this.ws.binaryType != undefined);\n",
       "\n",
       "    if (!this.supports_binary) {\n",
       "        var warnings = document.getElementById(\"mpl-warnings\");\n",
       "        if (warnings) {\n",
       "            warnings.style.display = 'block';\n",
       "            warnings.textContent = (\n",
       "                \"This browser does not support binary websocket messages. \" +\n",
       "                    \"Performance may be slow.\");\n",
       "        }\n",
       "    }\n",
       "\n",
       "    this.imageObj = new Image();\n",
       "\n",
       "    this.context = undefined;\n",
       "    this.message = undefined;\n",
       "    this.canvas = undefined;\n",
       "    this.rubberband_canvas = undefined;\n",
       "    this.rubberband_context = undefined;\n",
       "    this.format_dropdown = undefined;\n",
       "\n",
       "    this.image_mode = 'full';\n",
       "\n",
       "    this.root = $('<div/>');\n",
       "    this._root_extra_style(this.root)\n",
       "    this.root.attr('style', 'display: inline-block');\n",
       "\n",
       "    $(parent_element).append(this.root);\n",
       "\n",
       "    this._init_header(this);\n",
       "    this._init_canvas(this);\n",
       "    this._init_toolbar(this);\n",
       "\n",
       "    var fig = this;\n",
       "\n",
       "    this.waiting = false;\n",
       "\n",
       "    this.ws.onopen =  function () {\n",
       "            fig.send_message(\"supports_binary\", {value: fig.supports_binary});\n",
       "            fig.send_message(\"send_image_mode\", {});\n",
       "            if (mpl.ratio != 1) {\n",
       "                fig.send_message(\"set_dpi_ratio\", {'dpi_ratio': mpl.ratio});\n",
       "            }\n",
       "            fig.send_message(\"refresh\", {});\n",
       "        }\n",
       "\n",
       "    this.imageObj.onload = function() {\n",
       "            if (fig.image_mode == 'full') {\n",
       "                // Full images could contain transparency (where diff images\n",
       "                // almost always do), so we need to clear the canvas so that\n",
       "                // there is no ghosting.\n",
       "                fig.context.clearRect(0, 0, fig.canvas.width, fig.canvas.height);\n",
       "            }\n",
       "            fig.context.drawImage(fig.imageObj, 0, 0);\n",
       "        };\n",
       "\n",
       "    this.imageObj.onunload = function() {\n",
       "        fig.ws.close();\n",
       "    }\n",
       "\n",
       "    this.ws.onmessage = this._make_on_message_function(this);\n",
       "\n",
       "    this.ondownload = ondownload;\n",
       "}\n",
       "\n",
       "mpl.figure.prototype._init_header = function() {\n",
       "    var titlebar = $(\n",
       "        '<div class=\"ui-dialog-titlebar ui-widget-header ui-corner-all ' +\n",
       "        'ui-helper-clearfix\"/>');\n",
       "    var titletext = $(\n",
       "        '<div class=\"ui-dialog-title\" style=\"width: 100%; ' +\n",
       "        'text-align: center; padding: 3px;\"/>');\n",
       "    titlebar.append(titletext)\n",
       "    this.root.append(titlebar);\n",
       "    this.header = titletext[0];\n",
       "}\n",
       "\n",
       "\n",
       "\n",
       "mpl.figure.prototype._canvas_extra_style = function(canvas_div) {\n",
       "\n",
       "}\n",
       "\n",
       "\n",
       "mpl.figure.prototype._root_extra_style = function(canvas_div) {\n",
       "\n",
       "}\n",
       "\n",
       "mpl.figure.prototype._init_canvas = function() {\n",
       "    var fig = this;\n",
       "\n",
       "    var canvas_div = $('<div/>');\n",
       "\n",
       "    canvas_div.attr('style', 'position: relative; clear: both; outline: 0');\n",
       "\n",
       "    function canvas_keyboard_event(event) {\n",
       "        return fig.key_event(event, event['data']);\n",
       "    }\n",
       "\n",
       "    canvas_div.keydown('key_press', canvas_keyboard_event);\n",
       "    canvas_div.keyup('key_release', canvas_keyboard_event);\n",
       "    this.canvas_div = canvas_div\n",
       "    this._canvas_extra_style(canvas_div)\n",
       "    this.root.append(canvas_div);\n",
       "\n",
       "    var canvas = $('<canvas/>');\n",
       "    canvas.addClass('mpl-canvas');\n",
       "    canvas.attr('style', \"left: 0; top: 0; z-index: 0; outline: 0\")\n",
       "\n",
       "    this.canvas = canvas[0];\n",
       "    this.context = canvas[0].getContext(\"2d\");\n",
       "\n",
       "    var backingStore = this.context.backingStorePixelRatio ||\n",
       "\tthis.context.webkitBackingStorePixelRatio ||\n",
       "\tthis.context.mozBackingStorePixelRatio ||\n",
       "\tthis.context.msBackingStorePixelRatio ||\n",
       "\tthis.context.oBackingStorePixelRatio ||\n",
       "\tthis.context.backingStorePixelRatio || 1;\n",
       "\n",
       "    mpl.ratio = (window.devicePixelRatio || 1) / backingStore;\n",
       "\n",
       "    var rubberband = $('<canvas/>');\n",
       "    rubberband.attr('style', \"position: absolute; left: 0; top: 0; z-index: 1;\")\n",
       "\n",
       "    var pass_mouse_events = true;\n",
       "\n",
       "    canvas_div.resizable({\n",
       "        start: function(event, ui) {\n",
       "            pass_mouse_events = false;\n",
       "        },\n",
       "        resize: function(event, ui) {\n",
       "            fig.request_resize(ui.size.width, ui.size.height);\n",
       "        },\n",
       "        stop: function(event, ui) {\n",
       "            pass_mouse_events = true;\n",
       "            fig.request_resize(ui.size.width, ui.size.height);\n",
       "        },\n",
       "    });\n",
       "\n",
       "    function mouse_event_fn(event) {\n",
       "        if (pass_mouse_events)\n",
       "            return fig.mouse_event(event, event['data']);\n",
       "    }\n",
       "\n",
       "    rubberband.mousedown('button_press', mouse_event_fn);\n",
       "    rubberband.mouseup('button_release', mouse_event_fn);\n",
       "    // Throttle sequential mouse events to 1 every 20ms.\n",
       "    rubberband.mousemove('motion_notify', mouse_event_fn);\n",
       "\n",
       "    rubberband.mouseenter('figure_enter', mouse_event_fn);\n",
       "    rubberband.mouseleave('figure_leave', mouse_event_fn);\n",
       "\n",
       "    canvas_div.on(\"wheel\", function (event) {\n",
       "        event = event.originalEvent;\n",
       "        event['data'] = 'scroll'\n",
       "        if (event.deltaY < 0) {\n",
       "            event.step = 1;\n",
       "        } else {\n",
       "            event.step = -1;\n",
       "        }\n",
       "        mouse_event_fn(event);\n",
       "    });\n",
       "\n",
       "    canvas_div.append(canvas);\n",
       "    canvas_div.append(rubberband);\n",
       "\n",
       "    this.rubberband = rubberband;\n",
       "    this.rubberband_canvas = rubberband[0];\n",
       "    this.rubberband_context = rubberband[0].getContext(\"2d\");\n",
       "    this.rubberband_context.strokeStyle = \"#000000\";\n",
       "\n",
       "    this._resize_canvas = function(width, height) {\n",
       "        // Keep the size of the canvas, canvas container, and rubber band\n",
       "        // canvas in synch.\n",
       "        canvas_div.css('width', width)\n",
       "        canvas_div.css('height', height)\n",
       "\n",
       "        canvas.attr('width', width * mpl.ratio);\n",
       "        canvas.attr('height', height * mpl.ratio);\n",
       "        canvas.attr('style', 'width: ' + width + 'px; height: ' + height + 'px;');\n",
       "\n",
       "        rubberband.attr('width', width);\n",
       "        rubberband.attr('height', height);\n",
       "    }\n",
       "\n",
       "    // Set the figure to an initial 600x600px, this will subsequently be updated\n",
       "    // upon first draw.\n",
       "    this._resize_canvas(600, 600);\n",
       "\n",
       "    // Disable right mouse context menu.\n",
       "    $(this.rubberband_canvas).bind(\"contextmenu\",function(e){\n",
       "        return false;\n",
       "    });\n",
       "\n",
       "    function set_focus () {\n",
       "        canvas.focus();\n",
       "        canvas_div.focus();\n",
       "    }\n",
       "\n",
       "    window.setTimeout(set_focus, 100);\n",
       "}\n",
       "\n",
       "mpl.figure.prototype._init_toolbar = function() {\n",
       "    var fig = this;\n",
       "\n",
       "    var nav_element = $('<div/>')\n",
       "    nav_element.attr('style', 'width: 100%');\n",
       "    this.root.append(nav_element);\n",
       "\n",
       "    // Define a callback function for later on.\n",
       "    function toolbar_event(event) {\n",
       "        return fig.toolbar_button_onclick(event['data']);\n",
       "    }\n",
       "    function toolbar_mouse_event(event) {\n",
       "        return fig.toolbar_button_onmouseover(event['data']);\n",
       "    }\n",
       "\n",
       "    for(var toolbar_ind in mpl.toolbar_items) {\n",
       "        var name = mpl.toolbar_items[toolbar_ind][0];\n",
       "        var tooltip = mpl.toolbar_items[toolbar_ind][1];\n",
       "        var image = mpl.toolbar_items[toolbar_ind][2];\n",
       "        var method_name = mpl.toolbar_items[toolbar_ind][3];\n",
       "\n",
       "        if (!name) {\n",
       "            // put a spacer in here.\n",
       "            continue;\n",
       "        }\n",
       "        var button = $('<button/>');\n",
       "        button.addClass('ui-button ui-widget ui-state-default ui-corner-all ' +\n",
       "                        'ui-button-icon-only');\n",
       "        button.attr('role', 'button');\n",
       "        button.attr('aria-disabled', 'false');\n",
       "        button.click(method_name, toolbar_event);\n",
       "        button.mouseover(tooltip, toolbar_mouse_event);\n",
       "\n",
       "        var icon_img = $('<span/>');\n",
       "        icon_img.addClass('ui-button-icon-primary ui-icon');\n",
       "        icon_img.addClass(image);\n",
       "        icon_img.addClass('ui-corner-all');\n",
       "\n",
       "        var tooltip_span = $('<span/>');\n",
       "        tooltip_span.addClass('ui-button-text');\n",
       "        tooltip_span.html(tooltip);\n",
       "\n",
       "        button.append(icon_img);\n",
       "        button.append(tooltip_span);\n",
       "\n",
       "        nav_element.append(button);\n",
       "    }\n",
       "\n",
       "    var fmt_picker_span = $('<span/>');\n",
       "\n",
       "    var fmt_picker = $('<select/>');\n",
       "    fmt_picker.addClass('mpl-toolbar-option ui-widget ui-widget-content');\n",
       "    fmt_picker_span.append(fmt_picker);\n",
       "    nav_element.append(fmt_picker_span);\n",
       "    this.format_dropdown = fmt_picker[0];\n",
       "\n",
       "    for (var ind in mpl.extensions) {\n",
       "        var fmt = mpl.extensions[ind];\n",
       "        var option = $(\n",
       "            '<option/>', {selected: fmt === mpl.default_extension}).html(fmt);\n",
       "        fmt_picker.append(option)\n",
       "    }\n",
       "\n",
       "    // Add hover states to the ui-buttons\n",
       "    $( \".ui-button\" ).hover(\n",
       "        function() { $(this).addClass(\"ui-state-hover\");},\n",
       "        function() { $(this).removeClass(\"ui-state-hover\");}\n",
       "    );\n",
       "\n",
       "    var status_bar = $('<span class=\"mpl-message\"/>');\n",
       "    nav_element.append(status_bar);\n",
       "    this.message = status_bar[0];\n",
       "}\n",
       "\n",
       "mpl.figure.prototype.request_resize = function(x_pixels, y_pixels) {\n",
       "    // Request matplotlib to resize the figure. Matplotlib will then trigger a resize in the client,\n",
       "    // which will in turn request a refresh of the image.\n",
       "    this.send_message('resize', {'width': x_pixels, 'height': y_pixels});\n",
       "}\n",
       "\n",
       "mpl.figure.prototype.send_message = function(type, properties) {\n",
       "    properties['type'] = type;\n",
       "    properties['figure_id'] = this.id;\n",
       "    this.ws.send(JSON.stringify(properties));\n",
       "}\n",
       "\n",
       "mpl.figure.prototype.send_draw_message = function() {\n",
       "    if (!this.waiting) {\n",
       "        this.waiting = true;\n",
       "        this.ws.send(JSON.stringify({type: \"draw\", figure_id: this.id}));\n",
       "    }\n",
       "}\n",
       "\n",
       "\n",
       "mpl.figure.prototype.handle_save = function(fig, msg) {\n",
       "    var format_dropdown = fig.format_dropdown;\n",
       "    var format = format_dropdown.options[format_dropdown.selectedIndex].value;\n",
       "    fig.ondownload(fig, format);\n",
       "}\n",
       "\n",
       "\n",
       "mpl.figure.prototype.handle_resize = function(fig, msg) {\n",
       "    var size = msg['size'];\n",
       "    if (size[0] != fig.canvas.width || size[1] != fig.canvas.height) {\n",
       "        fig._resize_canvas(size[0], size[1]);\n",
       "        fig.send_message(\"refresh\", {});\n",
       "    };\n",
       "}\n",
       "\n",
       "mpl.figure.prototype.handle_rubberband = function(fig, msg) {\n",
       "    var x0 = msg['x0'] / mpl.ratio;\n",
       "    var y0 = (fig.canvas.height - msg['y0']) / mpl.ratio;\n",
       "    var x1 = msg['x1'] / mpl.ratio;\n",
       "    var y1 = (fig.canvas.height - msg['y1']) / mpl.ratio;\n",
       "    x0 = Math.floor(x0) + 0.5;\n",
       "    y0 = Math.floor(y0) + 0.5;\n",
       "    x1 = Math.floor(x1) + 0.5;\n",
       "    y1 = Math.floor(y1) + 0.5;\n",
       "    var min_x = Math.min(x0, x1);\n",
       "    var min_y = Math.min(y0, y1);\n",
       "    var width = Math.abs(x1 - x0);\n",
       "    var height = Math.abs(y1 - y0);\n",
       "\n",
       "    fig.rubberband_context.clearRect(\n",
       "        0, 0, fig.canvas.width, fig.canvas.height);\n",
       "\n",
       "    fig.rubberband_context.strokeRect(min_x, min_y, width, height);\n",
       "}\n",
       "\n",
       "mpl.figure.prototype.handle_figure_label = function(fig, msg) {\n",
       "    // Updates the figure title.\n",
       "    fig.header.textContent = msg['label'];\n",
       "}\n",
       "\n",
       "mpl.figure.prototype.handle_cursor = function(fig, msg) {\n",
       "    var cursor = msg['cursor'];\n",
       "    switch(cursor)\n",
       "    {\n",
       "    case 0:\n",
       "        cursor = 'pointer';\n",
       "        break;\n",
       "    case 1:\n",
       "        cursor = 'default';\n",
       "        break;\n",
       "    case 2:\n",
       "        cursor = 'crosshair';\n",
       "        break;\n",
       "    case 3:\n",
       "        cursor = 'move';\n",
       "        break;\n",
       "    }\n",
       "    fig.rubberband_canvas.style.cursor = cursor;\n",
       "}\n",
       "\n",
       "mpl.figure.prototype.handle_message = function(fig, msg) {\n",
       "    fig.message.textContent = msg['message'];\n",
       "}\n",
       "\n",
       "mpl.figure.prototype.handle_draw = function(fig, msg) {\n",
       "    // Request the server to send over a new figure.\n",
       "    fig.send_draw_message();\n",
       "}\n",
       "\n",
       "mpl.figure.prototype.handle_image_mode = function(fig, msg) {\n",
       "    fig.image_mode = msg['mode'];\n",
       "}\n",
       "\n",
       "mpl.figure.prototype.updated_canvas_event = function() {\n",
       "    // Called whenever the canvas gets updated.\n",
       "    this.send_message(\"ack\", {});\n",
       "}\n",
       "\n",
       "// A function to construct a web socket function for onmessage handling.\n",
       "// Called in the figure constructor.\n",
       "mpl.figure.prototype._make_on_message_function = function(fig) {\n",
       "    return function socket_on_message(evt) {\n",
       "        if (evt.data instanceof Blob) {\n",
       "            /* FIXME: We get \"Resource interpreted as Image but\n",
       "             * transferred with MIME type text/plain:\" errors on\n",
       "             * Chrome.  But how to set the MIME type?  It doesn't seem\n",
       "             * to be part of the websocket stream */\n",
       "            evt.data.type = \"image/png\";\n",
       "\n",
       "            /* Free the memory for the previous frames */\n",
       "            if (fig.imageObj.src) {\n",
       "                (window.URL || window.webkitURL).revokeObjectURL(\n",
       "                    fig.imageObj.src);\n",
       "            }\n",
       "\n",
       "            fig.imageObj.src = (window.URL || window.webkitURL).createObjectURL(\n",
       "                evt.data);\n",
       "            fig.updated_canvas_event();\n",
       "            fig.waiting = false;\n",
       "            return;\n",
       "        }\n",
       "        else if (typeof evt.data === 'string' && evt.data.slice(0, 21) == \"data:image/png;base64\") {\n",
       "            fig.imageObj.src = evt.data;\n",
       "            fig.updated_canvas_event();\n",
       "            fig.waiting = false;\n",
       "            return;\n",
       "        }\n",
       "\n",
       "        var msg = JSON.parse(evt.data);\n",
       "        var msg_type = msg['type'];\n",
       "\n",
       "        // Call the  \"handle_{type}\" callback, which takes\n",
       "        // the figure and JSON message as its only arguments.\n",
       "        try {\n",
       "            var callback = fig[\"handle_\" + msg_type];\n",
       "        } catch (e) {\n",
       "            console.log(\"No handler for the '\" + msg_type + \"' message type: \", msg);\n",
       "            return;\n",
       "        }\n",
       "\n",
       "        if (callback) {\n",
       "            try {\n",
       "                // console.log(\"Handling '\" + msg_type + \"' message: \", msg);\n",
       "                callback(fig, msg);\n",
       "            } catch (e) {\n",
       "                console.log(\"Exception inside the 'handler_\" + msg_type + \"' callback:\", e, e.stack, msg);\n",
       "            }\n",
       "        }\n",
       "    };\n",
       "}\n",
       "\n",
       "// from http://stackoverflow.com/questions/1114465/getting-mouse-location-in-canvas\n",
       "mpl.findpos = function(e) {\n",
       "    //this section is from http://www.quirksmode.org/js/events_properties.html\n",
       "    var targ;\n",
       "    if (!e)\n",
       "        e = window.event;\n",
       "    if (e.target)\n",
       "        targ = e.target;\n",
       "    else if (e.srcElement)\n",
       "        targ = e.srcElement;\n",
       "    if (targ.nodeType == 3) // defeat Safari bug\n",
       "        targ = targ.parentNode;\n",
       "\n",
       "    // jQuery normalizes the pageX and pageY\n",
       "    // pageX,Y are the mouse positions relative to the document\n",
       "    // offset() returns the position of the element relative to the document\n",
       "    var x = e.pageX - $(targ).offset().left;\n",
       "    var y = e.pageY - $(targ).offset().top;\n",
       "\n",
       "    return {\"x\": x, \"y\": y};\n",
       "};\n",
       "\n",
       "/*\n",
       " * return a copy of an object with only non-object keys\n",
       " * we need this to avoid circular references\n",
       " * http://stackoverflow.com/a/24161582/3208463\n",
       " */\n",
       "function simpleKeys (original) {\n",
       "  return Object.keys(original).reduce(function (obj, key) {\n",
       "    if (typeof original[key] !== 'object')\n",
       "        obj[key] = original[key]\n",
       "    return obj;\n",
       "  }, {});\n",
       "}\n",
       "\n",
       "mpl.figure.prototype.mouse_event = function(event, name) {\n",
       "    var canvas_pos = mpl.findpos(event)\n",
       "\n",
       "    if (name === 'button_press')\n",
       "    {\n",
       "        this.canvas.focus();\n",
       "        this.canvas_div.focus();\n",
       "    }\n",
       "\n",
       "    var x = canvas_pos.x * mpl.ratio;\n",
       "    var y = canvas_pos.y * mpl.ratio;\n",
       "\n",
       "    this.send_message(name, {x: x, y: y, button: event.button,\n",
       "                             step: event.step,\n",
       "                             guiEvent: simpleKeys(event)});\n",
       "\n",
       "    /* This prevents the web browser from automatically changing to\n",
       "     * the text insertion cursor when the button is pressed.  We want\n",
       "     * to control all of the cursor setting manually through the\n",
       "     * 'cursor' event from matplotlib */\n",
       "    event.preventDefault();\n",
       "    return false;\n",
       "}\n",
       "\n",
       "mpl.figure.prototype._key_event_extra = function(event, name) {\n",
       "    // Handle any extra behaviour associated with a key event\n",
       "}\n",
       "\n",
       "mpl.figure.prototype.key_event = function(event, name) {\n",
       "\n",
       "    // Prevent repeat events\n",
       "    if (name == 'key_press')\n",
       "    {\n",
       "        if (event.which === this._key)\n",
       "            return;\n",
       "        else\n",
       "            this._key = event.which;\n",
       "    }\n",
       "    if (name == 'key_release')\n",
       "        this._key = null;\n",
       "\n",
       "    var value = '';\n",
       "    if (event.ctrlKey && event.which != 17)\n",
       "        value += \"ctrl+\";\n",
       "    if (event.altKey && event.which != 18)\n",
       "        value += \"alt+\";\n",
       "    if (event.shiftKey && event.which != 16)\n",
       "        value += \"shift+\";\n",
       "\n",
       "    value += 'k';\n",
       "    value += event.which.toString();\n",
       "\n",
       "    this._key_event_extra(event, name);\n",
       "\n",
       "    this.send_message(name, {key: value,\n",
       "                             guiEvent: simpleKeys(event)});\n",
       "    return false;\n",
       "}\n",
       "\n",
       "mpl.figure.prototype.toolbar_button_onclick = function(name) {\n",
       "    if (name == 'download') {\n",
       "        this.handle_save(this, null);\n",
       "    } else {\n",
       "        this.send_message(\"toolbar_button\", {name: name});\n",
       "    }\n",
       "};\n",
       "\n",
       "mpl.figure.prototype.toolbar_button_onmouseover = function(tooltip) {\n",
       "    this.message.textContent = tooltip;\n",
       "};\n",
       "mpl.toolbar_items = [[\"Home\", \"Reset original view\", \"fa fa-home icon-home\", \"home\"], [\"Back\", \"Back to previous view\", \"fa fa-arrow-left icon-arrow-left\", \"back\"], [\"Forward\", \"Forward to next view\", \"fa fa-arrow-right icon-arrow-right\", \"forward\"], [\"\", \"\", \"\", \"\"], [\"Pan\", \"Pan axes with left mouse, zoom with right\", \"fa fa-arrows icon-move\", \"pan\"], [\"Zoom\", \"Zoom to rectangle\", \"fa fa-square-o icon-check-empty\", \"zoom\"], [\"\", \"\", \"\", \"\"], [\"Download\", \"Download plot\", \"fa fa-floppy-o icon-save\", \"download\"]];\n",
       "\n",
       "mpl.extensions = [\"eps\", \"jpeg\", \"pdf\", \"png\", \"ps\", \"raw\", \"svg\", \"tif\"];\n",
       "\n",
       "mpl.default_extension = \"png\";var comm_websocket_adapter = function(comm) {\n",
       "    // Create a \"websocket\"-like object which calls the given IPython comm\n",
       "    // object with the appropriate methods. Currently this is a non binary\n",
       "    // socket, so there is still some room for performance tuning.\n",
       "    var ws = {};\n",
       "\n",
       "    ws.close = function() {\n",
       "        comm.close()\n",
       "    };\n",
       "    ws.send = function(m) {\n",
       "        //console.log('sending', m);\n",
       "        comm.send(m);\n",
       "    };\n",
       "    // Register the callback with on_msg.\n",
       "    comm.on_msg(function(msg) {\n",
       "        //console.log('receiving', msg['content']['data'], msg);\n",
       "        // Pass the mpl event to the overridden (by mpl) onmessage function.\n",
       "        ws.onmessage(msg['content']['data'])\n",
       "    });\n",
       "    return ws;\n",
       "}\n",
       "\n",
       "mpl.mpl_figure_comm = function(comm, msg) {\n",
       "    // This is the function which gets called when the mpl process\n",
       "    // starts-up an IPython Comm through the \"matplotlib\" channel.\n",
       "\n",
       "    var id = msg.content.data.id;\n",
       "    // Get hold of the div created by the display call when the Comm\n",
       "    // socket was opened in Python.\n",
       "    var element = $(\"#\" + id);\n",
       "    var ws_proxy = comm_websocket_adapter(comm)\n",
       "\n",
       "    function ondownload(figure, format) {\n",
       "        window.open(figure.imageObj.src);\n",
       "    }\n",
       "\n",
       "    var fig = new mpl.figure(id, ws_proxy,\n",
       "                           ondownload,\n",
       "                           element.get(0));\n",
       "\n",
       "    // Call onopen now - mpl needs it, as it is assuming we've passed it a real\n",
       "    // web socket which is closed, not our websocket->open comm proxy.\n",
       "    ws_proxy.onopen();\n",
       "\n",
       "    fig.parent_element = element.get(0);\n",
       "    fig.cell_info = mpl.find_output_cell(\"<div id='\" + id + \"'></div>\");\n",
       "    if (!fig.cell_info) {\n",
       "        console.error(\"Failed to find cell for figure\", id, fig);\n",
       "        return;\n",
       "    }\n",
       "\n",
       "    var output_index = fig.cell_info[2]\n",
       "    var cell = fig.cell_info[0];\n",
       "\n",
       "};\n",
       "\n",
       "mpl.figure.prototype.handle_close = function(fig, msg) {\n",
       "    var width = fig.canvas.width/mpl.ratio\n",
       "    fig.root.unbind('remove')\n",
       "\n",
       "    // Update the output cell to use the data from the current canvas.\n",
       "    fig.push_to_output();\n",
       "    var dataURL = fig.canvas.toDataURL();\n",
       "    // Re-enable the keyboard manager in IPython - without this line, in FF,\n",
       "    // the notebook keyboard shortcuts fail.\n",
       "    IPython.keyboard_manager.enable()\n",
       "    $(fig.parent_element).html('<img src=\"' + dataURL + '\" width=\"' + width + '\">');\n",
       "    fig.close_ws(fig, msg);\n",
       "}\n",
       "\n",
       "mpl.figure.prototype.close_ws = function(fig, msg){\n",
       "    fig.send_message('closing', msg);\n",
       "    // fig.ws.close()\n",
       "}\n",
       "\n",
       "mpl.figure.prototype.push_to_output = function(remove_interactive) {\n",
       "    // Turn the data on the canvas into data in the output cell.\n",
       "    var width = this.canvas.width/mpl.ratio\n",
       "    var dataURL = this.canvas.toDataURL();\n",
       "    this.cell_info[1]['text/html'] = '<img src=\"' + dataURL + '\" width=\"' + width + '\">';\n",
       "}\n",
       "\n",
       "mpl.figure.prototype.updated_canvas_event = function() {\n",
       "    // Tell IPython that the notebook contents must change.\n",
       "    IPython.notebook.set_dirty(true);\n",
       "    this.send_message(\"ack\", {});\n",
       "    var fig = this;\n",
       "    // Wait a second, then push the new image to the DOM so\n",
       "    // that it is saved nicely (might be nice to debounce this).\n",
       "    setTimeout(function () { fig.push_to_output() }, 1000);\n",
       "}\n",
       "\n",
       "mpl.figure.prototype._init_toolbar = function() {\n",
       "    var fig = this;\n",
       "\n",
       "    var nav_element = $('<div/>')\n",
       "    nav_element.attr('style', 'width: 100%');\n",
       "    this.root.append(nav_element);\n",
       "\n",
       "    // Define a callback function for later on.\n",
       "    function toolbar_event(event) {\n",
       "        return fig.toolbar_button_onclick(event['data']);\n",
       "    }\n",
       "    function toolbar_mouse_event(event) {\n",
       "        return fig.toolbar_button_onmouseover(event['data']);\n",
       "    }\n",
       "\n",
       "    for(var toolbar_ind in mpl.toolbar_items){\n",
       "        var name = mpl.toolbar_items[toolbar_ind][0];\n",
       "        var tooltip = mpl.toolbar_items[toolbar_ind][1];\n",
       "        var image = mpl.toolbar_items[toolbar_ind][2];\n",
       "        var method_name = mpl.toolbar_items[toolbar_ind][3];\n",
       "\n",
       "        if (!name) { continue; };\n",
       "\n",
       "        var button = $('<button class=\"btn btn-default\" href=\"#\" title=\"' + name + '\"><i class=\"fa ' + image + ' fa-lg\"></i></button>');\n",
       "        button.click(method_name, toolbar_event);\n",
       "        button.mouseover(tooltip, toolbar_mouse_event);\n",
       "        nav_element.append(button);\n",
       "    }\n",
       "\n",
       "    // Add the status bar.\n",
       "    var status_bar = $('<span class=\"mpl-message\" style=\"text-align:right; float: right;\"/>');\n",
       "    nav_element.append(status_bar);\n",
       "    this.message = status_bar[0];\n",
       "\n",
       "    // Add the close button to the window.\n",
       "    var buttongrp = $('<div class=\"btn-group inline pull-right\"></div>');\n",
       "    var button = $('<button class=\"btn btn-mini btn-primary\" href=\"#\" title=\"Stop Interaction\"><i class=\"fa fa-power-off icon-remove icon-large\"></i></button>');\n",
       "    button.click(function (evt) { fig.handle_close(fig, {}); } );\n",
       "    button.mouseover('Stop Interaction', toolbar_mouse_event);\n",
       "    buttongrp.append(button);\n",
       "    var titlebar = this.root.find($('.ui-dialog-titlebar'));\n",
       "    titlebar.prepend(buttongrp);\n",
       "}\n",
       "\n",
       "mpl.figure.prototype._root_extra_style = function(el){\n",
       "    var fig = this\n",
       "    el.on(\"remove\", function(){\n",
       "\tfig.close_ws(fig, {});\n",
       "    });\n",
       "}\n",
       "\n",
       "mpl.figure.prototype._canvas_extra_style = function(el){\n",
       "    // this is important to make the div 'focusable\n",
       "    el.attr('tabindex', 0)\n",
       "    // reach out to IPython and tell the keyboard manager to turn it's self\n",
       "    // off when our div gets focus\n",
       "\n",
       "    // location in version 3\n",
       "    if (IPython.notebook.keyboard_manager) {\n",
       "        IPython.notebook.keyboard_manager.register_events(el);\n",
       "    }\n",
       "    else {\n",
       "        // location in version 2\n",
       "        IPython.keyboard_manager.register_events(el);\n",
       "    }\n",
       "\n",
       "}\n",
       "\n",
       "mpl.figure.prototype._key_event_extra = function(event, name) {\n",
       "    var manager = IPython.notebook.keyboard_manager;\n",
       "    if (!manager)\n",
       "        manager = IPython.keyboard_manager;\n",
       "\n",
       "    // Check for shift+enter\n",
       "    if (event.shiftKey && event.which == 13) {\n",
       "        this.canvas_div.blur();\n",
       "        event.shiftKey = false;\n",
       "        // Send a \"J\" for go to next cell\n",
       "        event.which = 74;\n",
       "        event.keyCode = 74;\n",
       "        manager.command_mode();\n",
       "        manager.handle_keydown(event);\n",
       "    }\n",
       "}\n",
       "\n",
       "mpl.figure.prototype.handle_save = function(fig, msg) {\n",
       "    fig.ondownload(fig, null);\n",
       "}\n",
       "\n",
       "\n",
       "mpl.find_output_cell = function(html_output) {\n",
       "    // Return the cell and output element which can be found *uniquely* in the notebook.\n",
       "    // Note - this is a bit hacky, but it is done because the \"notebook_saving.Notebook\"\n",
       "    // IPython event is triggered only after the cells have been serialised, which for\n",
       "    // our purposes (turning an active figure into a static one), is too late.\n",
       "    var cells = IPython.notebook.get_cells();\n",
       "    var ncells = cells.length;\n",
       "    for (var i=0; i<ncells; i++) {\n",
       "        var cell = cells[i];\n",
       "        if (cell.cell_type === 'code'){\n",
       "            for (var j=0; j<cell.output_area.outputs.length; j++) {\n",
       "                var data = cell.output_area.outputs[j];\n",
       "                if (data.data) {\n",
       "                    // IPython >= 3 moved mimebundle to data attribute of output\n",
       "                    data = data.data;\n",
       "                }\n",
       "                if (data['text/html'] == html_output) {\n",
       "                    return [cell, data, j];\n",
       "                }\n",
       "            }\n",
       "        }\n",
       "    }\n",
       "}\n",
       "\n",
       "// Register the function which deals with the matplotlib target/channel.\n",
       "// The kernel may be null if the page has been refreshed.\n",
       "if (IPython.notebook.kernel != null) {\n",
       "    IPython.notebook.kernel.comm_manager.register_target('matplotlib', mpl.mpl_figure_comm);\n",
       "}\n"
      ],
      "text/plain": [
       "<IPython.core.display.Javascript object>"
      ]
     },
     "metadata": {},
     "output_type": "display_data"
    },
    {
     "data": {
      "text/html": [
       "<img src=\"data:image/png;base64,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\" width=\"640\">"
      ],
      "text/plain": [
       "<IPython.core.display.HTML object>"
      ]
     },
     "metadata": {},
     "output_type": "display_data"
    },
    {
     "data": {
      "text/plain": [
       "[<matplotlib.lines.Line2D at 0x7fb2b84a7ba8>]"
      ]
     },
     "execution_count": 68,
     "metadata": {},
     "output_type": "execute_result"
    }
   ],
   "source": [
    "plt.plot(area_df.year,area_df.area_wofs)"
   ]
  },
  {
   "cell_type": "code",
   "execution_count": 14,
   "metadata": {
    "ExecuteTime": {
     "end_time": "2018-11-01T00:20:25.428989Z",
     "start_time": "2018-11-01T00:20:25.425878Z"
    }
   },
   "outputs": [],
   "source": [
    "# da = xarray.open_rasterio('/g/data1a/u46/users/ext547/ewater/cambodia_cube/9_dea_stats/custom/lake_area/test')\n",
    "# da"
   ]
  },
  {
   "cell_type": "code",
   "execution_count": 15,
   "metadata": {
    "ExecuteTime": {
     "end_time": "2018-11-01T00:20:26.054773Z",
     "start_time": "2018-11-01T00:20:26.051834Z"
    }
   },
   "outputs": [],
   "source": [
    "# ny, nx = len(da['y']), len(da['x'])\n",
    "# x, y = np.meshgrid(da['x'], da['y'])\n",
    "# x, y = x.flatten(), y.flatten()"
   ]
  },
  {
   "cell_type": "code",
   "execution_count": 16,
   "metadata": {
    "ExecuteTime": {
     "end_time": "2018-11-01T00:20:27.074286Z",
     "start_time": "2018-11-01T00:20:27.069862Z"
    }
   },
   "outputs": [],
   "source": [
    "# # Rasterio works with 1D arrays\n",
    "# lon, lat = transform(da.crs, {'init': 'EPSG:102028'},x,y)\n",
    "#                      #x.flatten(), y.flatten())\n",
    "# # lon = np.asarray(lon).reshape((ny, nx))\n",
    "# # lat = np.asarray(lat).reshape((ny, nx))\n",
    "# # da.coords['lon'] = (('y', 'x'), lon)\n",
    "# # da.coords['lat'] = (('y', 'x'), lat)"
   ]
  },
  {
   "cell_type": "code",
   "execution_count": 18,
   "metadata": {
    "ExecuteTime": {
     "end_time": "2018-11-01T00:20:39.920166Z",
     "start_time": "2018-11-01T00:20:39.917078Z"
    }
   },
   "outputs": [],
   "source": [
    "# wofs_clean.attrs['crs'] = crs\n",
    "# wofs_clean"
   ]
  },
  {
   "cell_type": "code",
   "execution_count": 19,
   "metadata": {
    "ExecuteTime": {
     "end_time": "2018-11-01T00:20:40.571164Z",
     "start_time": "2018-11-01T00:20:40.564540Z"
    }
   },
   "outputs": [],
   "source": [
    "# crs['crs_str'] = 'EPSG:32648'"
   ]
  },
  {
   "cell_type": "code",
   "execution_count": 20,
   "metadata": {
    "ExecuteTime": {
     "end_time": "2018-11-01T00:20:41.188482Z",
     "start_time": "2018-11-01T00:20:41.184787Z"
    }
   },
   "outputs": [],
   "source": [
    "out_file = str(output_folder)+'annual_time_series.gif'"
   ]
  },
  {
   "cell_type": "code",
   "execution_count": 28,
   "metadata": {
    "ExecuteTime": {
     "end_time": "2018-11-01T00:25:42.422179Z",
     "start_time": "2018-11-01T00:25:42.418761Z"
    },
    "scrolled": false
   },
   "outputs": [],
   "source": [
    "DEAPlotting.animated_timeseries(ds = wofs_clean,output_path=out_file, bands = ['wofs'],\n",
    "                                time_dim = 'date', x_dim = 'x',y_dim = 'y',\n",
    "                                show_date= False, onebandplot_cbar=False,\n",
    "                                title= wofs_clean.date.dt.year.values.tolist(),\n",
    "                                shapefile_path = shape_file,shapefile_kwargs = {'linewidth':2,\n",
    "                                                                                 'edgecolor':'red', \n",
    "                                                                                 'facecolor':\"#00000000\"},\n",
    "                                onebandplot_kwargs={'cmap':'Blues','vmin':0, 'vmax':1}, \n",
    "                                interval=1000)"
   ]
  },
  {
   "cell_type": "code",
   "execution_count": null,
   "metadata": {
    "ExecuteTime": {
     "end_time": "2018-10-31T22:26:31.860818Z",
     "start_time": "2018-10-31T22:26:31.851126Z"
    }
   },
   "outputs": [],
   "source": [
    "help(DEAPlotting.animated_timeseries)"
   ]
  },
  {
   "cell_type": "code",
   "execution_count": null,
   "metadata": {
    "ExecuteTime": {
     "end_time": "2018-10-15T03:30:27.572361Z",
     "start_time": "2018-10-15T03:30:27.549975Z"
    }
   },
   "outputs": [],
   "source": [
    "a = (wofs_clean.isel(date=0).sum(dim=['x', 'y']).wofs.values "
   ]
  },
  {
   "cell_type": "code",
   "execution_count": null,
   "metadata": {
    "ExecuteTime": {
     "end_time": "2018-10-15T03:36:38.995794Z",
     "start_time": "2018-10-15T03:36:38.990104Z"
    }
   },
   "outputs": [],
   "source": [
    "b = a* 0.0009"
   ]
  },
  {
   "cell_type": "code",
   "execution_count": null,
   "metadata": {
    "ExecuteTime": {
     "end_time": "2018-10-15T03:37:07.631593Z",
     "start_time": "2018-10-15T03:37:07.622947Z"
    }
   },
   "outputs": [],
   "source": [
    "geometry.area/b"
   ]
  },
  {
   "cell_type": "code",
   "execution_count": null,
   "metadata": {},
   "outputs": [],
   "source": []
  }
 ],
 "metadata": {
  "kernelspec": {
   "display_name": "Python [default]",
   "language": "python",
   "name": "python3"
  },
  "language_info": {
   "codemirror_mode": {
    "name": "ipython",
    "version": 3
   },
   "file_extension": ".py",
   "mimetype": "text/x-python",
   "name": "python",
   "nbconvert_exporter": "python",
   "pygments_lexer": "ipython3",
   "version": "3.6.6"
  }
 },
 "nbformat": 4,
 "nbformat_minor": 2
}
