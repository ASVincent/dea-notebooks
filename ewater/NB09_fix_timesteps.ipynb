{
 "cells": [
  {
   "cell_type": "code",
   "execution_count": 15,
   "metadata": {
    "ExecuteTime": {
     "end_time": "2018-06-27T00:27:03.764396Z",
     "start_time": "2018-06-27T00:27:03.760361Z"
    }
   },
   "outputs": [],
   "source": [
    "import xarray as xr\n",
    "import glob\n",
    "\n",
    "input_folder = '/g/data/u46/users/ext547/ewater/input_data/DEM/netcdf/' #location of files\n",
    "ncfiles = glob.glob(input_folder + '*.nc') #a glob file containing the names of all nc\n",
    "\n"
   ]
  },
  {
   "cell_type": "code",
   "execution_count": 16,
   "metadata": {
    "ExecuteTime": {
     "end_time": "2018-06-27T00:27:06.289457Z",
     "start_time": "2018-06-27T00:27:04.333284Z"
    }
   },
   "outputs": [
    {
     "name": "stdout",
     "output_type": "stream",
     "text": [
      "Cambodia_con_DEM_nc.nc\n",
      "/g/data/u46/users/ext547/ewater/input_data/DEM/netcdf/Cambodia_con_DEM_nc.nc\n"
     ]
    }
   ],
   "source": [
    "for ncpath in ncfiles:\n",
    "    nc_name = ncpath[-22:]\n",
    "    print(nc_name)\n",
    "    print(ncpath)\n",
    "    ds = xr.open_dataset(ncpath)#, drop_variables = 'timestp')\n",
    "    ds.time.attrs['long_name'] = 'Time, unix time-stamp'\n",
    "    ds.to_netcdf(input_folder+'/test_'+nc_name, \n",
    "              encoding={'time': {\n",
    "                  'units': \"seconds since 1970-01-01\",\n",
    "                  'calendar': \"standard\",\n",
    "                  'dtype': \"float64\"\n",
    "              }})"
   ]
  },
  {
   "cell_type": "code",
   "execution_count": 13,
   "metadata": {
    "ExecuteTime": {
     "end_time": "2018-06-27T00:26:28.174507Z",
     "start_time": "2018-06-27T00:26:28.166519Z"
    }
   },
   "outputs": [
    {
     "data": {
      "text/plain": [
       "22"
      ]
     },
     "execution_count": 13,
     "metadata": {},
     "output_type": "execute_result"
    }
   ],
   "source": [
    "# a = '3B42_raw_3hourly_all_data_hqp.nc'\n",
    "#a = 'celsius_Tair_WFDEI_197901.nc'\n",
    "a = 'Cambodia_con_DEM_nc.nc'\n",
    "len(a)\n"
   ]
  },
  {
   "cell_type": "code",
   "execution_count": null,
   "metadata": {},
   "outputs": [],
   "source": []
  }
 ],
 "metadata": {
  "kernelspec": {
   "display_name": "Python 3",
   "language": "python",
   "name": "python3"
  },
  "language_info": {
   "codemirror_mode": {
    "name": "ipython",
    "version": 3
   },
   "file_extension": ".py",
   "mimetype": "text/x-python",
   "name": "python",
   "nbconvert_exporter": "python",
   "pygments_lexer": "ipython3",
   "version": "3.6.5"
  }
 },
 "nbformat": 4,
 "nbformat_minor": 2
}
