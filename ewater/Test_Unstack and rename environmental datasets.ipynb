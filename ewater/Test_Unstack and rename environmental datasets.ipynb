{
 "cells": [
  {
   "cell_type": "code",
   "execution_count": 1,
   "metadata": {
    "ExecuteTime": {
     "end_time": "2018-05-28T23:02:14.525775Z",
     "start_time": "2018-05-28T23:02:11.721304Z"
    }
   },
   "outputs": [
    {
     "data": {
      "text/plain": [
       "<cdo.Cdo at 0x7f739368bf28>"
      ]
     },
     "execution_count": 1,
     "metadata": {},
     "output_type": "execute_result"
    }
   ],
   "source": [
    "from cdo import *\n",
    "cdo=Cdo()\n",
    "cdo.CDO = '/apps/cdo/1.7.1/bin/cdo'     #need to update the location of cdo or else the wrapper can't find cdo.exe\n",
    "cdo"
   ]
  },
  {
   "cell_type": "code",
   "execution_count": 2,
   "metadata": {
    "ExecuteTime": {
     "end_time": "2018-05-28T23:02:16.671693Z",
     "start_time": "2018-05-28T23:02:16.623738Z"
    }
   },
   "outputs": [],
   "source": [
    "from cdo import *\n",
    "import netCDF4"
   ]
  },
  {
   "cell_type": "code",
   "execution_count": 3,
   "metadata": {
    "ExecuteTime": {
     "end_time": "2018-05-28T23:02:29.561512Z",
     "start_time": "2018-05-28T23:02:29.557537Z"
    }
   },
   "outputs": [],
   "source": [
    "nc_location = '/g/data/u46/users/ext547/ewater/input_data/rainfall_cog/'\n",
    "ifile = '/g/data/u46/users/ext547/ewater/input_data/rainfall_cog/rainfall_cog/3B42_raw_3hourly058439.nc'"
   ]
  },
  {
   "cell_type": "code",
   "execution_count": 4,
   "metadata": {
    "ExecuteTime": {
     "end_time": "2018-05-28T23:02:30.531610Z",
     "start_time": "2018-05-28T23:02:30.208501Z"
    }
   },
   "outputs": [
    {
     "name": "stdout",
     "output_type": "stream",
     "text": [
      "Error in calling operator fldmin with:\n",
      ">>> /apps/cdo/1.7.1/bin/cdo -O fldmin /g/data/u46/users/ext547/ewater/input_data/rainfall_cog/rainfall_cog/3B42_raw_3hourly058439.nc /local/u46/ext547/tmp/cdoPyes6z4fum<<<\n",
      "STDOUT:\n",
      "\n",
      "STDERR:cdo fldmin: Open failed on >/g/data/u46/users/ext547/ewater/input_data/rainfall_cog/rainfall_cog/3B42_raw_3hourly058439.nc<\n",
      "No such file or directory\n",
      "\n"
     ]
    },
    {
     "ename": "CDOException",
     "evalue": "(returncode:1) cdo fldmin: Open failed on >/g/data/u46/users/ext547/ewater/input_data/rainfall_cog/rainfall_cog/3B42_raw_3hourly058439.nc<\nNo such file or directory\n",
     "output_type": "error",
     "traceback": [
      "\u001b[0;31m---------------------------------------------------------------------------\u001b[0m",
      "\u001b[0;31mCDOException\u001b[0m                              Traceback (most recent call last)",
      "\u001b[0;32m<ipython-input-4-8bf1fcfe3314>\u001b[0m in \u001b[0;36m<module>\u001b[0;34m()\u001b[0m\n\u001b[0;32m----> 1\u001b[0;31m \u001b[0mt\u001b[0m \u001b[0;34m=\u001b[0m \u001b[0mcdo\u001b[0m\u001b[0;34m.\u001b[0m\u001b[0mfldmin\u001b[0m\u001b[0;34m(\u001b[0m\u001b[0minput\u001b[0m \u001b[0;34m=\u001b[0m \u001b[0mifile\u001b[0m\u001b[0;34m,\u001b[0m\u001b[0mreturnArray\u001b[0m \u001b[0;34m=\u001b[0m \u001b[0;34m'T'\u001b[0m\u001b[0;34m)\u001b[0m\u001b[0;34m\u001b[0m\u001b[0m\n\u001b[0m",
      "\u001b[0;32m/g/data/u46/users/ext547/ewater/python-packages/lib/python3.6/site-packages/cdo.py\u001b[0m in \u001b[0;36mget\u001b[0;34m(self, *args, **kwargs)\u001b[0m\n\u001b[1;32m    253\u001b[0m               \u001b[0;32mreturn\u001b[0m \u001b[0;32mNone\u001b[0m\u001b[0;34m\u001b[0m\u001b[0m\n\u001b[1;32m    254\u001b[0m             \u001b[0;32melse\u001b[0m\u001b[0;34m:\u001b[0m\u001b[0;34m\u001b[0m\u001b[0m\n\u001b[0;32m--> 255\u001b[0;31m               \u001b[0;32mraise\u001b[0m \u001b[0mCDOException\u001b[0m\u001b[0;34m(\u001b[0m\u001b[0;34m**\u001b[0m\u001b[0mretvals\u001b[0m\u001b[0;34m)\u001b[0m\u001b[0;34m\u001b[0m\u001b[0m\n\u001b[0m\u001b[1;32m    256\u001b[0m         \u001b[0;32melse\u001b[0m\u001b[0;34m:\u001b[0m\u001b[0;34m\u001b[0m\u001b[0m\n\u001b[1;32m    257\u001b[0m           \u001b[0;32mif\u001b[0m \u001b[0mself\u001b[0m\u001b[0;34m.\u001b[0m\u001b[0mdebug\u001b[0m\u001b[0;34m:\u001b[0m\u001b[0;34m\u001b[0m\u001b[0m\n",
      "\u001b[0;31mCDOException\u001b[0m: (returncode:1) cdo fldmin: Open failed on >/g/data/u46/users/ext547/ewater/input_data/rainfall_cog/rainfall_cog/3B42_raw_3hourly058439.nc<\nNo such file or directory\n"
     ]
    }
   ],
   "source": [
    "t = cdo.fldmin(input = ifile,returnArray = 'T') "
   ]
  },
  {
   "cell_type": "code",
   "execution_count": null,
   "metadata": {
    "ExecuteTime": {
     "end_time": "2018-05-18T03:53:34.226493Z",
     "start_time": "2018-05-18T03:53:34.223330Z"
    }
   },
   "outputs": [],
   "source": [
    "# os.chdir(nc_location)"
   ]
  },
  {
   "cell_type": "code",
   "execution_count": 2,
   "metadata": {
    "ExecuteTime": {
     "end_time": "2018-05-23T23:41:19.734518Z",
     "start_time": "2018-05-23T23:41:19.616277Z"
    }
   },
   "outputs": [
    {
     "name": "stdout",
     "output_type": "stream",
     "text": [
      "/bin/sh: cdo: command not found\r\n"
     ]
    }
   ],
   "source": [
    "! cdo sinfo 3B42_raw_3hourly058439.nc\n"
   ]
  },
  {
   "cell_type": "code",
   "execution_count": null,
   "metadata": {},
   "outputs": [],
   "source": []
  },
  {
   "cell_type": "code",
   "execution_count": null,
   "metadata": {
    "ExecuteTime": {
     "end_time": "2018-05-18T03:34:05.037951Z",
     "start_time": "2018-05-18T03:34:05.034124Z"
    }
   },
   "outputs": [],
   "source": [
    "time = f.variables['time']\n",
    "print (time)"
   ]
  },
  {
   "cell_type": "code",
   "execution_count": null,
   "metadata": {
    "ExecuteTime": {
     "end_time": "2018-05-18T03:33:52.513144Z",
     "start_time": "2018-05-18T03:33:52.507505Z"
    }
   },
   "outputs": [],
   "source": [
    "time"
   ]
  },
  {
   "cell_type": "code",
   "execution_count": null,
   "metadata": {
    "ExecuteTime": {
     "end_time": "2018-05-18T03:26:37.345188Z",
     "start_time": "2018-05-18T03:26:37.339420Z"
    }
   },
   "outputs": [],
   "source": [
    "for dname, d in whole_nc.dimensions.items():\n",
    "    print(d)"
   ]
  },
  {
   "cell_type": "code",
   "execution_count": null,
   "metadata": {},
   "outputs": [],
   "source": [
    "mt = f.variables['MT']\n",
    "depth = f.variables['Depth']\n",
    "x,y = f.variables['X'], f.variables['Y']\n",
    "print mt \n",
    "print x"
   ]
  },
  {
   "cell_type": "code",
   "execution_count": null,
   "metadata": {
    "ExecuteTime": {
     "end_time": "2018-05-18T02:39:51.460886Z",
     "start_time": "2018-05-18T02:39:51.376757Z"
    },
    "scrolled": false
   },
   "outputs": [],
   "source": [
    "cdo.sinfo(f)"
   ]
  },
  {
   "cell_type": "code",
   "execution_count": null,
   "metadata": {},
   "outputs": [],
   "source": []
  }
 ],
 "metadata": {
  "kernelspec": {
   "display_name": "Python 3",
   "language": "python",
   "name": "python3"
  },
  "language_info": {
   "codemirror_mode": {
    "name": "ipython",
    "version": 3
   },
   "file_extension": ".py",
   "mimetype": "text/x-python",
   "name": "python",
   "nbconvert_exporter": "python",
   "pygments_lexer": "ipython3",
   "version": "3.6.5"
  },
  "toc": {
   "base_numbering": 1,
   "nav_menu": {},
   "number_sections": true,
   "sideBar": true,
   "skip_h1_title": false,
   "title_cell": "Table of Contents",
   "title_sidebar": "Contents",
   "toc_cell": false,
   "toc_position": {},
   "toc_section_display": true,
   "toc_window_display": false
  }
 },
 "nbformat": 4,
 "nbformat_minor": 2
}
