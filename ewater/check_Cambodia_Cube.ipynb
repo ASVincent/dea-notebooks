{
 "cells": [
  {
   "cell_type": "code",
   "execution_count": 1,
   "metadata": {
    "ExecuteTime": {
     "end_time": "2018-06-28T22:36:08.018734Z",
     "start_time": "2018-06-28T22:36:03.395238Z"
    }
   },
   "outputs": [
    {
     "name": "stdout",
     "output_type": "stream",
     "text": [
      "Populating the interactive namespace from numpy and matplotlib\n"
     ]
    }
   ],
   "source": [
    "%pylab notebook\n",
    "\n",
    "from datacube import Datacube\n",
    "# from matplotlib import pyplot as plt\n",
    "import numpy as np\n",
    "from skimage import exposure\n",
    "import matplotlib.pyplot as plt\n",
    "from datacube_stats.statistics import GeoMedian\n",
    "cdc = Datacube(config='/g/data/u46/users/ext547/ewater/cambodia_cube/cambodia.conf')\n",
    "from datacube.storage import masking\n",
    "from datacube.storage.masking import mask_to_dict"
   ]
  },
  {
   "cell_type": "code",
   "execution_count": 2,
   "metadata": {
    "ExecuteTime": {
     "end_time": "2018-06-28T22:36:24.351201Z",
     "start_time": "2018-06-28T22:36:24.199873Z"
    }
   },
   "outputs": [
    {
     "data": {
      "text/html": [
       "<div>\n",
       "<style scoped>\n",
       "    .dataframe tbody tr th:only-of-type {\n",
       "        vertical-align: middle;\n",
       "    }\n",
       "\n",
       "    .dataframe tbody tr th {\n",
       "        vertical-align: top;\n",
       "    }\n",
       "\n",
       "    .dataframe thead th {\n",
       "        text-align: right;\n",
       "    }\n",
       "</style>\n",
       "<table border=\"1\" class=\"dataframe\">\n",
       "  <thead>\n",
       "    <tr style=\"text-align: right;\">\n",
       "      <th></th>\n",
       "      <th></th>\n",
       "      <th>aliases</th>\n",
       "      <th>dtype</th>\n",
       "      <th>flags_definition</th>\n",
       "      <th>name</th>\n",
       "      <th>nodata</th>\n",
       "      <th>units</th>\n",
       "    </tr>\n",
       "    <tr>\n",
       "      <th>product</th>\n",
       "      <th>measurement</th>\n",
       "      <th></th>\n",
       "      <th></th>\n",
       "      <th></th>\n",
       "      <th></th>\n",
       "      <th></th>\n",
       "      <th></th>\n",
       "    </tr>\n",
       "  </thead>\n",
       "  <tbody>\n",
       "    <tr>\n",
       "      <th>dem_3sec_hydrosheds</th>\n",
       "      <th>elevation</th>\n",
       "      <td>NaN</td>\n",
       "      <td>int16</td>\n",
       "      <td>NaN</td>\n",
       "      <td>elevation</td>\n",
       "      <td>-9999</td>\n",
       "      <td>m</td>\n",
       "    </tr>\n",
       "    <tr>\n",
       "      <th rowspan=\"7\" valign=\"top\">ls5_usgs_sr_scene</th>\n",
       "      <th>blue</th>\n",
       "      <td>[band_1, sr_band1]</td>\n",
       "      <td>int16</td>\n",
       "      <td>NaN</td>\n",
       "      <td>blue</td>\n",
       "      <td>-9999</td>\n",
       "      <td>1</td>\n",
       "    </tr>\n",
       "    <tr>\n",
       "      <th>green</th>\n",
       "      <td>[band_2, sr_band2]</td>\n",
       "      <td>int16</td>\n",
       "      <td>NaN</td>\n",
       "      <td>green</td>\n",
       "      <td>-9999</td>\n",
       "      <td>1</td>\n",
       "    </tr>\n",
       "    <tr>\n",
       "      <th>red</th>\n",
       "      <td>[band_3, sr_band3]</td>\n",
       "      <td>int16</td>\n",
       "      <td>NaN</td>\n",
       "      <td>red</td>\n",
       "      <td>-9999</td>\n",
       "      <td>1</td>\n",
       "    </tr>\n",
       "    <tr>\n",
       "      <th>nir</th>\n",
       "      <td>[band_4, sr_band4]</td>\n",
       "      <td>int16</td>\n",
       "      <td>NaN</td>\n",
       "      <td>nir</td>\n",
       "      <td>-9999</td>\n",
       "      <td>1</td>\n",
       "    </tr>\n",
       "    <tr>\n",
       "      <th>swir1</th>\n",
       "      <td>[band_5, sr_band5]</td>\n",
       "      <td>int16</td>\n",
       "      <td>NaN</td>\n",
       "      <td>swir1</td>\n",
       "      <td>-9999</td>\n",
       "      <td>1</td>\n",
       "    </tr>\n",
       "    <tr>\n",
       "      <th>swir2</th>\n",
       "      <td>[band_7, sr_band7]</td>\n",
       "      <td>int16</td>\n",
       "      <td>NaN</td>\n",
       "      <td>swir2</td>\n",
       "      <td>-9999</td>\n",
       "      <td>1</td>\n",
       "    </tr>\n",
       "    <tr>\n",
       "      <th>pixel_qa</th>\n",
       "      <td>[pixel_qa]</td>\n",
       "      <td>uint16</td>\n",
       "      <td>{'snow': {'bits': 4, 'values': {'0': 'no_snow'...</td>\n",
       "      <td>pixel_qa</td>\n",
       "      <td>1</td>\n",
       "      <td>1</td>\n",
       "    </tr>\n",
       "    <tr>\n",
       "      <th rowspan=\"10\" valign=\"top\">ls7_usgs_sr_scene</th>\n",
       "      <th>blue</th>\n",
       "      <td>[band_1, sr_band1]</td>\n",
       "      <td>int16</td>\n",
       "      <td>NaN</td>\n",
       "      <td>blue</td>\n",
       "      <td>-9999</td>\n",
       "      <td>1</td>\n",
       "    </tr>\n",
       "    <tr>\n",
       "      <th>green</th>\n",
       "      <td>[band_2, sr_band2]</td>\n",
       "      <td>int16</td>\n",
       "      <td>NaN</td>\n",
       "      <td>green</td>\n",
       "      <td>-9999</td>\n",
       "      <td>1</td>\n",
       "    </tr>\n",
       "    <tr>\n",
       "      <th>red</th>\n",
       "      <td>[band_3, sr_band3]</td>\n",
       "      <td>int16</td>\n",
       "      <td>NaN</td>\n",
       "      <td>red</td>\n",
       "      <td>-9999</td>\n",
       "      <td>1</td>\n",
       "    </tr>\n",
       "    <tr>\n",
       "      <th>nir</th>\n",
       "      <td>[band_4, sr_band4]</td>\n",
       "      <td>int16</td>\n",
       "      <td>NaN</td>\n",
       "      <td>nir</td>\n",
       "      <td>-9999</td>\n",
       "      <td>1</td>\n",
       "    </tr>\n",
       "    <tr>\n",
       "      <th>swir1</th>\n",
       "      <td>[band_5, sr_band5]</td>\n",
       "      <td>int16</td>\n",
       "      <td>NaN</td>\n",
       "      <td>swir1</td>\n",
       "      <td>-9999</td>\n",
       "      <td>1</td>\n",
       "    </tr>\n",
       "    <tr>\n",
       "      <th>swir2</th>\n",
       "      <td>[band_7, sr_band7]</td>\n",
       "      <td>int16</td>\n",
       "      <td>NaN</td>\n",
       "      <td>swir2</td>\n",
       "      <td>-9999</td>\n",
       "      <td>1</td>\n",
       "    </tr>\n",
       "    <tr>\n",
       "      <th>sr_atmos_opacity</th>\n",
       "      <td>[atmos_op]</td>\n",
       "      <td>uint8</td>\n",
       "      <td>NaN</td>\n",
       "      <td>sr_atmos_opacity</td>\n",
       "      <td>0</td>\n",
       "      <td>1</td>\n",
       "    </tr>\n",
       "    <tr>\n",
       "      <th>pixel_qa</th>\n",
       "      <td>[pixel_qa]</td>\n",
       "      <td>uint16</td>\n",
       "      <td>{'snow': {'bits': 4, 'values': {'0': 'no_snow'...</td>\n",
       "      <td>pixel_qa</td>\n",
       "      <td>1</td>\n",
       "      <td>1</td>\n",
       "    </tr>\n",
       "    <tr>\n",
       "      <th>radsat_qa</th>\n",
       "      <td>[radsat_qa]</td>\n",
       "      <td>uint8</td>\n",
       "      <td>{'radsat_qa': {'bits': [0, 1, 2, 3, 4, 5, 6, 7...</td>\n",
       "      <td>radsat_qa</td>\n",
       "      <td>1</td>\n",
       "      <td>1</td>\n",
       "    </tr>\n",
       "    <tr>\n",
       "      <th>sr_cloud_qa</th>\n",
       "      <td>[cloud_qa]</td>\n",
       "      <td>uint8</td>\n",
       "      <td>{'cloud_qa': {'bits': [0, 1, 2, 3, 4, 5, 6, 7]...</td>\n",
       "      <td>sr_cloud_qa</td>\n",
       "      <td>0</td>\n",
       "      <td>1</td>\n",
       "    </tr>\n",
       "    <tr>\n",
       "      <th rowspan=\"10\" valign=\"top\">ls8_usgs_sr_scene</th>\n",
       "      <th>coastal_aerosol</th>\n",
       "      <td>[band_1, sr_band1]</td>\n",
       "      <td>int16</td>\n",
       "      <td>NaN</td>\n",
       "      <td>coastal_aerosol</td>\n",
       "      <td>-9999</td>\n",
       "      <td>1</td>\n",
       "    </tr>\n",
       "    <tr>\n",
       "      <th>blue</th>\n",
       "      <td>[band_2, sr_band2]</td>\n",
       "      <td>int16</td>\n",
       "      <td>NaN</td>\n",
       "      <td>blue</td>\n",
       "      <td>-9999</td>\n",
       "      <td>1</td>\n",
       "    </tr>\n",
       "    <tr>\n",
       "      <th>green</th>\n",
       "      <td>[band_3, sr_band3]</td>\n",
       "      <td>int16</td>\n",
       "      <td>NaN</td>\n",
       "      <td>green</td>\n",
       "      <td>-9999</td>\n",
       "      <td>1</td>\n",
       "    </tr>\n",
       "    <tr>\n",
       "      <th>red</th>\n",
       "      <td>[band_4, sr_band4]</td>\n",
       "      <td>int16</td>\n",
       "      <td>NaN</td>\n",
       "      <td>red</td>\n",
       "      <td>-9999</td>\n",
       "      <td>1</td>\n",
       "    </tr>\n",
       "    <tr>\n",
       "      <th>nir</th>\n",
       "      <td>[band_5, sr_band5]</td>\n",
       "      <td>int16</td>\n",
       "      <td>NaN</td>\n",
       "      <td>nir</td>\n",
       "      <td>-9999</td>\n",
       "      <td>1</td>\n",
       "    </tr>\n",
       "    <tr>\n",
       "      <th>swir1</th>\n",
       "      <td>[band_6, sr_band6]</td>\n",
       "      <td>int16</td>\n",
       "      <td>NaN</td>\n",
       "      <td>swir1</td>\n",
       "      <td>-9999</td>\n",
       "      <td>1</td>\n",
       "    </tr>\n",
       "    <tr>\n",
       "      <th>swir2</th>\n",
       "      <td>[band_7, sr_band7]</td>\n",
       "      <td>int16</td>\n",
       "      <td>NaN</td>\n",
       "      <td>swir2</td>\n",
       "      <td>-9999</td>\n",
       "      <td>1</td>\n",
       "    </tr>\n",
       "    <tr>\n",
       "      <th>pixel_qa</th>\n",
       "      <td>[pixel_qa]</td>\n",
       "      <td>uint16</td>\n",
       "      <td>{'snow': {'bits': 4, 'values': {'0': 'no_snow'...</td>\n",
       "      <td>pixel_qa</td>\n",
       "      <td>1</td>\n",
       "      <td>1</td>\n",
       "    </tr>\n",
       "    <tr>\n",
       "      <th>sr_aerosol</th>\n",
       "      <td>[sr_aerosol_qa, aerosol_qa, aerosol]</td>\n",
       "      <td>uint8</td>\n",
       "      <td>{'aerosol_qa': {'bits': [0, 1, 2, 3, 4, 5, 6, ...</td>\n",
       "      <td>sr_aerosol</td>\n",
       "      <td>0</td>\n",
       "      <td>1</td>\n",
       "    </tr>\n",
       "    <tr>\n",
       "      <th>radsat_qa</th>\n",
       "      <td>[radsat_qa]</td>\n",
       "      <td>uint16</td>\n",
       "      <td>{'radsat_qa': {'bits': [0, 1, 2, 3, 4, 5, 6, 7...</td>\n",
       "      <td>radsat_qa</td>\n",
       "      <td>1</td>\n",
       "      <td>1</td>\n",
       "    </tr>\n",
       "    <tr>\n",
       "      <th rowspan=\"6\" valign=\"top\">ls_level2_geomedian_annual</th>\n",
       "      <th>blue</th>\n",
       "      <td>[band_2, sr_band2]</td>\n",
       "      <td>int16</td>\n",
       "      <td>NaN</td>\n",
       "      <td>blue</td>\n",
       "      <td>-9999</td>\n",
       "      <td>1</td>\n",
       "    </tr>\n",
       "    <tr>\n",
       "      <th>green</th>\n",
       "      <td>[band_3, sr_band3]</td>\n",
       "      <td>int16</td>\n",
       "      <td>NaN</td>\n",
       "      <td>green</td>\n",
       "      <td>-9999</td>\n",
       "      <td>1</td>\n",
       "    </tr>\n",
       "    <tr>\n",
       "      <th>red</th>\n",
       "      <td>[band_4, sr_band4]</td>\n",
       "      <td>int16</td>\n",
       "      <td>NaN</td>\n",
       "      <td>red</td>\n",
       "      <td>-9999</td>\n",
       "      <td>1</td>\n",
       "    </tr>\n",
       "    <tr>\n",
       "      <th>nir</th>\n",
       "      <td>[band_5, sr_band5]</td>\n",
       "      <td>int16</td>\n",
       "      <td>NaN</td>\n",
       "      <td>nir</td>\n",
       "      <td>-9999</td>\n",
       "      <td>1</td>\n",
       "    </tr>\n",
       "    <tr>\n",
       "      <th>swir1</th>\n",
       "      <td>[band_6, sr_band6]</td>\n",
       "      <td>int16</td>\n",
       "      <td>NaN</td>\n",
       "      <td>swir1</td>\n",
       "      <td>-9999</td>\n",
       "      <td>1</td>\n",
       "    </tr>\n",
       "    <tr>\n",
       "      <th>swir2</th>\n",
       "      <td>[band_7, sr_band7]</td>\n",
       "      <td>int16</td>\n",
       "      <td>NaN</td>\n",
       "      <td>swir2</td>\n",
       "      <td>-9999</td>\n",
       "      <td>1</td>\n",
       "    </tr>\n",
       "    <tr>\n",
       "      <th>pet_grids_1979_2016</th>\n",
       "      <th>PET</th>\n",
       "      <td>NaN</td>\n",
       "      <td>float32</td>\n",
       "      <td>NaN</td>\n",
       "      <td>PET</td>\n",
       "      <td>NaN</td>\n",
       "      <td>mm/day</td>\n",
       "    </tr>\n",
       "    <tr>\n",
       "      <th>rainfall_grids_1998_2017</th>\n",
       "      <th>rainfall</th>\n",
       "      <td>NaN</td>\n",
       "      <td>float32</td>\n",
       "      <td>NaN</td>\n",
       "      <td>rainfall</td>\n",
       "      <td>-9999.9</td>\n",
       "      <td>mm/hr</td>\n",
       "    </tr>\n",
       "    <tr>\n",
       "      <th>temperature_grids_1979_2016</th>\n",
       "      <th>temperature</th>\n",
       "      <td>NaN</td>\n",
       "      <td>float32</td>\n",
       "      <td>NaN</td>\n",
       "      <td>temperature</td>\n",
       "      <td>-9999</td>\n",
       "      <td>C</td>\n",
       "    </tr>\n",
       "  </tbody>\n",
       "</table>\n",
       "</div>"
      ],
      "text/plain": [
       "                                                                           aliases  \\\n",
       "product                     measurement                                              \n",
       "dem_3sec_hydrosheds         elevation                                          NaN   \n",
       "ls5_usgs_sr_scene           blue                                [band_1, sr_band1]   \n",
       "                            green                               [band_2, sr_band2]   \n",
       "                            red                                 [band_3, sr_band3]   \n",
       "                            nir                                 [band_4, sr_band4]   \n",
       "                            swir1                               [band_5, sr_band5]   \n",
       "                            swir2                               [band_7, sr_band7]   \n",
       "                            pixel_qa                                    [pixel_qa]   \n",
       "ls7_usgs_sr_scene           blue                                [band_1, sr_band1]   \n",
       "                            green                               [band_2, sr_band2]   \n",
       "                            red                                 [band_3, sr_band3]   \n",
       "                            nir                                 [band_4, sr_band4]   \n",
       "                            swir1                               [band_5, sr_band5]   \n",
       "                            swir2                               [band_7, sr_band7]   \n",
       "                            sr_atmos_opacity                            [atmos_op]   \n",
       "                            pixel_qa                                    [pixel_qa]   \n",
       "                            radsat_qa                                  [radsat_qa]   \n",
       "                            sr_cloud_qa                                 [cloud_qa]   \n",
       "ls8_usgs_sr_scene           coastal_aerosol                     [band_1, sr_band1]   \n",
       "                            blue                                [band_2, sr_band2]   \n",
       "                            green                               [band_3, sr_band3]   \n",
       "                            red                                 [band_4, sr_band4]   \n",
       "                            nir                                 [band_5, sr_band5]   \n",
       "                            swir1                               [band_6, sr_band6]   \n",
       "                            swir2                               [band_7, sr_band7]   \n",
       "                            pixel_qa                                    [pixel_qa]   \n",
       "                            sr_aerosol        [sr_aerosol_qa, aerosol_qa, aerosol]   \n",
       "                            radsat_qa                                  [radsat_qa]   \n",
       "ls_level2_geomedian_annual  blue                                [band_2, sr_band2]   \n",
       "                            green                               [band_3, sr_band3]   \n",
       "                            red                                 [band_4, sr_band4]   \n",
       "                            nir                                 [band_5, sr_band5]   \n",
       "                            swir1                               [band_6, sr_band6]   \n",
       "                            swir2                               [band_7, sr_band7]   \n",
       "pet_grids_1979_2016         PET                                                NaN   \n",
       "rainfall_grids_1998_2017    rainfall                                           NaN   \n",
       "temperature_grids_1979_2016 temperature                                        NaN   \n",
       "\n",
       "                                                dtype  \\\n",
       "product                     measurement                 \n",
       "dem_3sec_hydrosheds         elevation           int16   \n",
       "ls5_usgs_sr_scene           blue                int16   \n",
       "                            green               int16   \n",
       "                            red                 int16   \n",
       "                            nir                 int16   \n",
       "                            swir1               int16   \n",
       "                            swir2               int16   \n",
       "                            pixel_qa           uint16   \n",
       "ls7_usgs_sr_scene           blue                int16   \n",
       "                            green               int16   \n",
       "                            red                 int16   \n",
       "                            nir                 int16   \n",
       "                            swir1               int16   \n",
       "                            swir2               int16   \n",
       "                            sr_atmos_opacity    uint8   \n",
       "                            pixel_qa           uint16   \n",
       "                            radsat_qa           uint8   \n",
       "                            sr_cloud_qa         uint8   \n",
       "ls8_usgs_sr_scene           coastal_aerosol     int16   \n",
       "                            blue                int16   \n",
       "                            green               int16   \n",
       "                            red                 int16   \n",
       "                            nir                 int16   \n",
       "                            swir1               int16   \n",
       "                            swir2               int16   \n",
       "                            pixel_qa           uint16   \n",
       "                            sr_aerosol          uint8   \n",
       "                            radsat_qa          uint16   \n",
       "ls_level2_geomedian_annual  blue                int16   \n",
       "                            green               int16   \n",
       "                            red                 int16   \n",
       "                            nir                 int16   \n",
       "                            swir1               int16   \n",
       "                            swir2               int16   \n",
       "pet_grids_1979_2016         PET               float32   \n",
       "rainfall_grids_1998_2017    rainfall          float32   \n",
       "temperature_grids_1979_2016 temperature       float32   \n",
       "\n",
       "                                                                               flags_definition  \\\n",
       "product                     measurement                                                           \n",
       "dem_3sec_hydrosheds         elevation                                                       NaN   \n",
       "ls5_usgs_sr_scene           blue                                                            NaN   \n",
       "                            green                                                           NaN   \n",
       "                            red                                                             NaN   \n",
       "                            nir                                                             NaN   \n",
       "                            swir1                                                           NaN   \n",
       "                            swir2                                                           NaN   \n",
       "                            pixel_qa          {'snow': {'bits': 4, 'values': {'0': 'no_snow'...   \n",
       "ls7_usgs_sr_scene           blue                                                            NaN   \n",
       "                            green                                                           NaN   \n",
       "                            red                                                             NaN   \n",
       "                            nir                                                             NaN   \n",
       "                            swir1                                                           NaN   \n",
       "                            swir2                                                           NaN   \n",
       "                            sr_atmos_opacity                                                NaN   \n",
       "                            pixel_qa          {'snow': {'bits': 4, 'values': {'0': 'no_snow'...   \n",
       "                            radsat_qa         {'radsat_qa': {'bits': [0, 1, 2, 3, 4, 5, 6, 7...   \n",
       "                            sr_cloud_qa       {'cloud_qa': {'bits': [0, 1, 2, 3, 4, 5, 6, 7]...   \n",
       "ls8_usgs_sr_scene           coastal_aerosol                                                 NaN   \n",
       "                            blue                                                            NaN   \n",
       "                            green                                                           NaN   \n",
       "                            red                                                             NaN   \n",
       "                            nir                                                             NaN   \n",
       "                            swir1                                                           NaN   \n",
       "                            swir2                                                           NaN   \n",
       "                            pixel_qa          {'snow': {'bits': 4, 'values': {'0': 'no_snow'...   \n",
       "                            sr_aerosol        {'aerosol_qa': {'bits': [0, 1, 2, 3, 4, 5, 6, ...   \n",
       "                            radsat_qa         {'radsat_qa': {'bits': [0, 1, 2, 3, 4, 5, 6, 7...   \n",
       "ls_level2_geomedian_annual  blue                                                            NaN   \n",
       "                            green                                                           NaN   \n",
       "                            red                                                             NaN   \n",
       "                            nir                                                             NaN   \n",
       "                            swir1                                                           NaN   \n",
       "                            swir2                                                           NaN   \n",
       "pet_grids_1979_2016         PET                                                             NaN   \n",
       "rainfall_grids_1998_2017    rainfall                                                        NaN   \n",
       "temperature_grids_1979_2016 temperature                                                     NaN   \n",
       "\n",
       "                                                          name  nodata   units  \n",
       "product                     measurement                                         \n",
       "dem_3sec_hydrosheds         elevation                elevation   -9999       m  \n",
       "ls5_usgs_sr_scene           blue                          blue   -9999       1  \n",
       "                            green                        green   -9999       1  \n",
       "                            red                            red   -9999       1  \n",
       "                            nir                            nir   -9999       1  \n",
       "                            swir1                        swir1   -9999       1  \n",
       "                            swir2                        swir2   -9999       1  \n",
       "                            pixel_qa                  pixel_qa       1       1  \n",
       "ls7_usgs_sr_scene           blue                          blue   -9999       1  \n",
       "                            green                        green   -9999       1  \n",
       "                            red                            red   -9999       1  \n",
       "                            nir                            nir   -9999       1  \n",
       "                            swir1                        swir1   -9999       1  \n",
       "                            swir2                        swir2   -9999       1  \n",
       "                            sr_atmos_opacity  sr_atmos_opacity       0       1  \n",
       "                            pixel_qa                  pixel_qa       1       1  \n",
       "                            radsat_qa                radsat_qa       1       1  \n",
       "                            sr_cloud_qa            sr_cloud_qa       0       1  \n",
       "ls8_usgs_sr_scene           coastal_aerosol    coastal_aerosol   -9999       1  \n",
       "                            blue                          blue   -9999       1  \n",
       "                            green                        green   -9999       1  \n",
       "                            red                            red   -9999       1  \n",
       "                            nir                            nir   -9999       1  \n",
       "                            swir1                        swir1   -9999       1  \n",
       "                            swir2                        swir2   -9999       1  \n",
       "                            pixel_qa                  pixel_qa       1       1  \n",
       "                            sr_aerosol              sr_aerosol       0       1  \n",
       "                            radsat_qa                radsat_qa       1       1  \n",
       "ls_level2_geomedian_annual  blue                          blue   -9999       1  \n",
       "                            green                        green   -9999       1  \n",
       "                            red                            red   -9999       1  \n",
       "                            nir                            nir   -9999       1  \n",
       "                            swir1                        swir1   -9999       1  \n",
       "                            swir2                        swir2   -9999       1  \n",
       "pet_grids_1979_2016         PET                            PET     NaN  mm/day  \n",
       "rainfall_grids_1998_2017    rainfall                  rainfall -9999.9   mm/hr  \n",
       "temperature_grids_1979_2016 temperature            temperature   -9999       C  "
      ]
     },
     "execution_count": 2,
     "metadata": {},
     "output_type": "execute_result"
    }
   ],
   "source": [
    "#cdc.list_products()##\n",
    "cdc.list_measurements()"
   ]
  },
  {
   "cell_type": "code",
   "execution_count": 7,
   "metadata": {
    "ExecuteTime": {
     "end_time": "2018-06-28T06:44:01.757667Z",
     "start_time": "2018-06-28T06:44:01.740004Z"
    }
   },
   "outputs": [
    {
     "name": "stdout",
     "output_type": "stream",
     "text": [
      "{'time': ('1980-01-01', '1980-01-03')}\n",
      "2\n"
     ]
    }
   ],
   "source": [
    "#define temporal range ()\n",
    "start_of_epoch = '1980-01-01'\n",
    "end_of_epoch =  '1980-01-03'\n",
    "\n",
    "query = {'time': (start_of_epoch, end_of_epoch),}\n",
    "\n",
    "# lat_min = 13.020 #down\n",
    "# lat_max = 13.120 #up\n",
    "# lon_min = 103.740 #left\n",
    "# lon_max = 103.840 #right \n",
    "\n",
    "# query['x'] = (lon_min, lon_max)\n",
    "# query['y'] = (lat_max, lat_min)\n",
    "# query['crs'] = 'EPSG:4326'\n",
    "\n",
    "print(query)\n",
    "\n",
    "#Total number of scenes in Cambodia Cube\n",
    "#pet_datasets = cdc.find_datasets(product='pet_grids_1979_2016')#,**query)\n",
    "# rain_datasets = cdc.find_datasets(product='rainfall_grids_1998_2017')#,**query)\n",
    "temp_datasets = cdc.find_datasets(product='temperature_grids_1979_2016',**query)\n",
    "# gm_datasets = cdc.find_datasets(product='ls_level2_geomedian_annual',**query)\n",
    "# ls8_datasets = cdc.find_datasets(product='ls8_usgs_sr_scene',**query)\n",
    "# ls7_datasets = cdc.find_datasets(product='ls7_usgs_sr_scene',**query)\n",
    "# ls5_datasets = cdc.find_datasets(product='ls5_usgs_sr_scene',**query)\n",
    "# # print(len(ls8_datasets))\n",
    "# print(len(ls7_datasets))\n",
    "# print(len(ls5_datasets))\n",
    "# print()\n",
    "\n",
    "# print (len(ls8_datasets)+len(ls7_datasets)+len(ls5_datasets))\n",
    "print(len(temp_datasets))\n",
    "\n",
    "# [x.id for x in ls7_datasets]\n",
    "# ls5_datasets[0].metadata_doc"
   ]
  },
  {
   "cell_type": "code",
   "execution_count": 3,
   "metadata": {
    "ExecuteTime": {
     "end_time": "2018-06-28T22:38:49.442764Z",
     "start_time": "2018-06-28T22:36:42.329026Z"
    },
    "scrolled": false
   },
   "outputs": [],
   "source": [
    "# test02= cdc.load(product='ls5_usgs_sr_scene',group_by='solar_day', **query)\n",
    "# test02= cdc.load(product='rainfall_grids_1998_2017',**query)\n",
    "test02= cdc.load(product='pet_grids_1979_2016')#,**query)\n",
    "# test02= cdc.load(product='temperature_grids_1979_2016',**query)"
   ]
  },
  {
   "cell_type": "code",
   "execution_count": 4,
   "metadata": {
    "ExecuteTime": {
     "end_time": "2018-06-28T22:38:49.462060Z",
     "start_time": "2018-06-28T22:38:49.445055Z"
    }
   },
   "outputs": [
    {
     "data": {
      "text/plain": [
       "<xarray.Dataset>\n",
       "Dimensions:    (latitude: 13, longitude: 14, time: 13880)\n",
       "Coordinates:\n",
       "  * time       (time) datetime64[ns] 1979-01-01T10:30:00 1979-01-02T10:30:00 ...\n",
       "  * latitude   (latitude) float64 15.25 14.75 14.25 13.75 13.25 12.75 12.25 ...\n",
       "  * longitude  (longitude) float64 101.8 102.2 102.8 103.2 103.8 104.2 104.8 ...\n",
       "Data variables:\n",
       "    PET        (time, latitude, longitude) float32 4.871423 4.67987 ...\n",
       "Attributes:\n",
       "    crs:      EPSG:4326"
      ]
     },
     "execution_count": 4,
     "metadata": {},
     "output_type": "execute_result"
    }
   ],
   "source": [
    "test02"
   ]
  },
  {
   "cell_type": "code",
   "execution_count": 6,
   "metadata": {
    "ExecuteTime": {
     "end_time": "2018-06-28T23:15:17.850926Z",
     "start_time": "2018-06-28T23:15:17.847969Z"
    }
   },
   "outputs": [],
   "source": [
    "# test02['temperature'] = test02.temperature.where(test02.temperature<1000)"
   ]
  },
  {
   "cell_type": "code",
   "execution_count": 7,
   "metadata": {
    "ExecuteTime": {
     "end_time": "2018-06-28T23:15:30.220329Z",
     "start_time": "2018-06-28T23:15:30.083390Z"
    }
   },
   "outputs": [
    {
     "data": {
      "application/javascript": [
       "/* Put everything inside the global mpl namespace */\n",
       "window.mpl = {};\n",
       "\n",
       "\n",
       "mpl.get_websocket_type = function() {\n",
       "    if (typeof(WebSocket) !== 'undefined') {\n",
       "        return WebSocket;\n",
       "    } else if (typeof(MozWebSocket) !== 'undefined') {\n",
       "        return MozWebSocket;\n",
       "    } else {\n",
       "        alert('Your browser does not have WebSocket support.' +\n",
       "              'Please try Chrome, Safari or Firefox ≥ 6. ' +\n",
       "              'Firefox 4 and 5 are also supported but you ' +\n",
       "              'have to enable WebSockets in about:config.');\n",
       "    };\n",
       "}\n",
       "\n",
       "mpl.figure = function(figure_id, websocket, ondownload, parent_element) {\n",
       "    this.id = figure_id;\n",
       "\n",
       "    this.ws = websocket;\n",
       "\n",
       "    this.supports_binary = (this.ws.binaryType != undefined);\n",
       "\n",
       "    if (!this.supports_binary) {\n",
       "        var warnings = document.getElementById(\"mpl-warnings\");\n",
       "        if (warnings) {\n",
       "            warnings.style.display = 'block';\n",
       "            warnings.textContent = (\n",
       "                \"This browser does not support binary websocket messages. \" +\n",
       "                    \"Performance may be slow.\");\n",
       "        }\n",
       "    }\n",
       "\n",
       "    this.imageObj = new Image();\n",
       "\n",
       "    this.context = undefined;\n",
       "    this.message = undefined;\n",
       "    this.canvas = undefined;\n",
       "    this.rubberband_canvas = undefined;\n",
       "    this.rubberband_context = undefined;\n",
       "    this.format_dropdown = undefined;\n",
       "\n",
       "    this.image_mode = 'full';\n",
       "\n",
       "    this.root = $('<div/>');\n",
       "    this._root_extra_style(this.root)\n",
       "    this.root.attr('style', 'display: inline-block');\n",
       "\n",
       "    $(parent_element).append(this.root);\n",
       "\n",
       "    this._init_header(this);\n",
       "    this._init_canvas(this);\n",
       "    this._init_toolbar(this);\n",
       "\n",
       "    var fig = this;\n",
       "\n",
       "    this.waiting = false;\n",
       "\n",
       "    this.ws.onopen =  function () {\n",
       "            fig.send_message(\"supports_binary\", {value: fig.supports_binary});\n",
       "            fig.send_message(\"send_image_mode\", {});\n",
       "            if (mpl.ratio != 1) {\n",
       "                fig.send_message(\"set_dpi_ratio\", {'dpi_ratio': mpl.ratio});\n",
       "            }\n",
       "            fig.send_message(\"refresh\", {});\n",
       "        }\n",
       "\n",
       "    this.imageObj.onload = function() {\n",
       "            if (fig.image_mode == 'full') {\n",
       "                // Full images could contain transparency (where diff images\n",
       "                // almost always do), so we need to clear the canvas so that\n",
       "                // there is no ghosting.\n",
       "                fig.context.clearRect(0, 0, fig.canvas.width, fig.canvas.height);\n",
       "            }\n",
       "            fig.context.drawImage(fig.imageObj, 0, 0);\n",
       "        };\n",
       "\n",
       "    this.imageObj.onunload = function() {\n",
       "        fig.ws.close();\n",
       "    }\n",
       "\n",
       "    this.ws.onmessage = this._make_on_message_function(this);\n",
       "\n",
       "    this.ondownload = ondownload;\n",
       "}\n",
       "\n",
       "mpl.figure.prototype._init_header = function() {\n",
       "    var titlebar = $(\n",
       "        '<div class=\"ui-dialog-titlebar ui-widget-header ui-corner-all ' +\n",
       "        'ui-helper-clearfix\"/>');\n",
       "    var titletext = $(\n",
       "        '<div class=\"ui-dialog-title\" style=\"width: 100%; ' +\n",
       "        'text-align: center; padding: 3px;\"/>');\n",
       "    titlebar.append(titletext)\n",
       "    this.root.append(titlebar);\n",
       "    this.header = titletext[0];\n",
       "}\n",
       "\n",
       "\n",
       "\n",
       "mpl.figure.prototype._canvas_extra_style = function(canvas_div) {\n",
       "\n",
       "}\n",
       "\n",
       "\n",
       "mpl.figure.prototype._root_extra_style = function(canvas_div) {\n",
       "\n",
       "}\n",
       "\n",
       "mpl.figure.prototype._init_canvas = function() {\n",
       "    var fig = this;\n",
       "\n",
       "    var canvas_div = $('<div/>');\n",
       "\n",
       "    canvas_div.attr('style', 'position: relative; clear: both; outline: 0');\n",
       "\n",
       "    function canvas_keyboard_event(event) {\n",
       "        return fig.key_event(event, event['data']);\n",
       "    }\n",
       "\n",
       "    canvas_div.keydown('key_press', canvas_keyboard_event);\n",
       "    canvas_div.keyup('key_release', canvas_keyboard_event);\n",
       "    this.canvas_div = canvas_div\n",
       "    this._canvas_extra_style(canvas_div)\n",
       "    this.root.append(canvas_div);\n",
       "\n",
       "    var canvas = $('<canvas/>');\n",
       "    canvas.addClass('mpl-canvas');\n",
       "    canvas.attr('style', \"left: 0; top: 0; z-index: 0; outline: 0\")\n",
       "\n",
       "    this.canvas = canvas[0];\n",
       "    this.context = canvas[0].getContext(\"2d\");\n",
       "\n",
       "    var backingStore = this.context.backingStorePixelRatio ||\n",
       "\tthis.context.webkitBackingStorePixelRatio ||\n",
       "\tthis.context.mozBackingStorePixelRatio ||\n",
       "\tthis.context.msBackingStorePixelRatio ||\n",
       "\tthis.context.oBackingStorePixelRatio ||\n",
       "\tthis.context.backingStorePixelRatio || 1;\n",
       "\n",
       "    mpl.ratio = (window.devicePixelRatio || 1) / backingStore;\n",
       "\n",
       "    var rubberband = $('<canvas/>');\n",
       "    rubberband.attr('style', \"position: absolute; left: 0; top: 0; z-index: 1;\")\n",
       "\n",
       "    var pass_mouse_events = true;\n",
       "\n",
       "    canvas_div.resizable({\n",
       "        start: function(event, ui) {\n",
       "            pass_mouse_events = false;\n",
       "        },\n",
       "        resize: function(event, ui) {\n",
       "            fig.request_resize(ui.size.width, ui.size.height);\n",
       "        },\n",
       "        stop: function(event, ui) {\n",
       "            pass_mouse_events = true;\n",
       "            fig.request_resize(ui.size.width, ui.size.height);\n",
       "        },\n",
       "    });\n",
       "\n",
       "    function mouse_event_fn(event) {\n",
       "        if (pass_mouse_events)\n",
       "            return fig.mouse_event(event, event['data']);\n",
       "    }\n",
       "\n",
       "    rubberband.mousedown('button_press', mouse_event_fn);\n",
       "    rubberband.mouseup('button_release', mouse_event_fn);\n",
       "    // Throttle sequential mouse events to 1 every 20ms.\n",
       "    rubberband.mousemove('motion_notify', mouse_event_fn);\n",
       "\n",
       "    rubberband.mouseenter('figure_enter', mouse_event_fn);\n",
       "    rubberband.mouseleave('figure_leave', mouse_event_fn);\n",
       "\n",
       "    canvas_div.on(\"wheel\", function (event) {\n",
       "        event = event.originalEvent;\n",
       "        event['data'] = 'scroll'\n",
       "        if (event.deltaY < 0) {\n",
       "            event.step = 1;\n",
       "        } else {\n",
       "            event.step = -1;\n",
       "        }\n",
       "        mouse_event_fn(event);\n",
       "    });\n",
       "\n",
       "    canvas_div.append(canvas);\n",
       "    canvas_div.append(rubberband);\n",
       "\n",
       "    this.rubberband = rubberband;\n",
       "    this.rubberband_canvas = rubberband[0];\n",
       "    this.rubberband_context = rubberband[0].getContext(\"2d\");\n",
       "    this.rubberband_context.strokeStyle = \"#000000\";\n",
       "\n",
       "    this._resize_canvas = function(width, height) {\n",
       "        // Keep the size of the canvas, canvas container, and rubber band\n",
       "        // canvas in synch.\n",
       "        canvas_div.css('width', width)\n",
       "        canvas_div.css('height', height)\n",
       "\n",
       "        canvas.attr('width', width * mpl.ratio);\n",
       "        canvas.attr('height', height * mpl.ratio);\n",
       "        canvas.attr('style', 'width: ' + width + 'px; height: ' + height + 'px;');\n",
       "\n",
       "        rubberband.attr('width', width);\n",
       "        rubberband.attr('height', height);\n",
       "    }\n",
       "\n",
       "    // Set the figure to an initial 600x600px, this will subsequently be updated\n",
       "    // upon first draw.\n",
       "    this._resize_canvas(600, 600);\n",
       "\n",
       "    // Disable right mouse context menu.\n",
       "    $(this.rubberband_canvas).bind(\"contextmenu\",function(e){\n",
       "        return false;\n",
       "    });\n",
       "\n",
       "    function set_focus () {\n",
       "        canvas.focus();\n",
       "        canvas_div.focus();\n",
       "    }\n",
       "\n",
       "    window.setTimeout(set_focus, 100);\n",
       "}\n",
       "\n",
       "mpl.figure.prototype._init_toolbar = function() {\n",
       "    var fig = this;\n",
       "\n",
       "    var nav_element = $('<div/>')\n",
       "    nav_element.attr('style', 'width: 100%');\n",
       "    this.root.append(nav_element);\n",
       "\n",
       "    // Define a callback function for later on.\n",
       "    function toolbar_event(event) {\n",
       "        return fig.toolbar_button_onclick(event['data']);\n",
       "    }\n",
       "    function toolbar_mouse_event(event) {\n",
       "        return fig.toolbar_button_onmouseover(event['data']);\n",
       "    }\n",
       "\n",
       "    for(var toolbar_ind in mpl.toolbar_items) {\n",
       "        var name = mpl.toolbar_items[toolbar_ind][0];\n",
       "        var tooltip = mpl.toolbar_items[toolbar_ind][1];\n",
       "        var image = mpl.toolbar_items[toolbar_ind][2];\n",
       "        var method_name = mpl.toolbar_items[toolbar_ind][3];\n",
       "\n",
       "        if (!name) {\n",
       "            // put a spacer in here.\n",
       "            continue;\n",
       "        }\n",
       "        var button = $('<button/>');\n",
       "        button.addClass('ui-button ui-widget ui-state-default ui-corner-all ' +\n",
       "                        'ui-button-icon-only');\n",
       "        button.attr('role', 'button');\n",
       "        button.attr('aria-disabled', 'false');\n",
       "        button.click(method_name, toolbar_event);\n",
       "        button.mouseover(tooltip, toolbar_mouse_event);\n",
       "\n",
       "        var icon_img = $('<span/>');\n",
       "        icon_img.addClass('ui-button-icon-primary ui-icon');\n",
       "        icon_img.addClass(image);\n",
       "        icon_img.addClass('ui-corner-all');\n",
       "\n",
       "        var tooltip_span = $('<span/>');\n",
       "        tooltip_span.addClass('ui-button-text');\n",
       "        tooltip_span.html(tooltip);\n",
       "\n",
       "        button.append(icon_img);\n",
       "        button.append(tooltip_span);\n",
       "\n",
       "        nav_element.append(button);\n",
       "    }\n",
       "\n",
       "    var fmt_picker_span = $('<span/>');\n",
       "\n",
       "    var fmt_picker = $('<select/>');\n",
       "    fmt_picker.addClass('mpl-toolbar-option ui-widget ui-widget-content');\n",
       "    fmt_picker_span.append(fmt_picker);\n",
       "    nav_element.append(fmt_picker_span);\n",
       "    this.format_dropdown = fmt_picker[0];\n",
       "\n",
       "    for (var ind in mpl.extensions) {\n",
       "        var fmt = mpl.extensions[ind];\n",
       "        var option = $(\n",
       "            '<option/>', {selected: fmt === mpl.default_extension}).html(fmt);\n",
       "        fmt_picker.append(option)\n",
       "    }\n",
       "\n",
       "    // Add hover states to the ui-buttons\n",
       "    $( \".ui-button\" ).hover(\n",
       "        function() { $(this).addClass(\"ui-state-hover\");},\n",
       "        function() { $(this).removeClass(\"ui-state-hover\");}\n",
       "    );\n",
       "\n",
       "    var status_bar = $('<span class=\"mpl-message\"/>');\n",
       "    nav_element.append(status_bar);\n",
       "    this.message = status_bar[0];\n",
       "}\n",
       "\n",
       "mpl.figure.prototype.request_resize = function(x_pixels, y_pixels) {\n",
       "    // Request matplotlib to resize the figure. Matplotlib will then trigger a resize in the client,\n",
       "    // which will in turn request a refresh of the image.\n",
       "    this.send_message('resize', {'width': x_pixels, 'height': y_pixels});\n",
       "}\n",
       "\n",
       "mpl.figure.prototype.send_message = function(type, properties) {\n",
       "    properties['type'] = type;\n",
       "    properties['figure_id'] = this.id;\n",
       "    this.ws.send(JSON.stringify(properties));\n",
       "}\n",
       "\n",
       "mpl.figure.prototype.send_draw_message = function() {\n",
       "    if (!this.waiting) {\n",
       "        this.waiting = true;\n",
       "        this.ws.send(JSON.stringify({type: \"draw\", figure_id: this.id}));\n",
       "    }\n",
       "}\n",
       "\n",
       "\n",
       "mpl.figure.prototype.handle_save = function(fig, msg) {\n",
       "    var format_dropdown = fig.format_dropdown;\n",
       "    var format = format_dropdown.options[format_dropdown.selectedIndex].value;\n",
       "    fig.ondownload(fig, format);\n",
       "}\n",
       "\n",
       "\n",
       "mpl.figure.prototype.handle_resize = function(fig, msg) {\n",
       "    var size = msg['size'];\n",
       "    if (size[0] != fig.canvas.width || size[1] != fig.canvas.height) {\n",
       "        fig._resize_canvas(size[0], size[1]);\n",
       "        fig.send_message(\"refresh\", {});\n",
       "    };\n",
       "}\n",
       "\n",
       "mpl.figure.prototype.handle_rubberband = function(fig, msg) {\n",
       "    var x0 = msg['x0'] / mpl.ratio;\n",
       "    var y0 = (fig.canvas.height - msg['y0']) / mpl.ratio;\n",
       "    var x1 = msg['x1'] / mpl.ratio;\n",
       "    var y1 = (fig.canvas.height - msg['y1']) / mpl.ratio;\n",
       "    x0 = Math.floor(x0) + 0.5;\n",
       "    y0 = Math.floor(y0) + 0.5;\n",
       "    x1 = Math.floor(x1) + 0.5;\n",
       "    y1 = Math.floor(y1) + 0.5;\n",
       "    var min_x = Math.min(x0, x1);\n",
       "    var min_y = Math.min(y0, y1);\n",
       "    var width = Math.abs(x1 - x0);\n",
       "    var height = Math.abs(y1 - y0);\n",
       "\n",
       "    fig.rubberband_context.clearRect(\n",
       "        0, 0, fig.canvas.width, fig.canvas.height);\n",
       "\n",
       "    fig.rubberband_context.strokeRect(min_x, min_y, width, height);\n",
       "}\n",
       "\n",
       "mpl.figure.prototype.handle_figure_label = function(fig, msg) {\n",
       "    // Updates the figure title.\n",
       "    fig.header.textContent = msg['label'];\n",
       "}\n",
       "\n",
       "mpl.figure.prototype.handle_cursor = function(fig, msg) {\n",
       "    var cursor = msg['cursor'];\n",
       "    switch(cursor)\n",
       "    {\n",
       "    case 0:\n",
       "        cursor = 'pointer';\n",
       "        break;\n",
       "    case 1:\n",
       "        cursor = 'default';\n",
       "        break;\n",
       "    case 2:\n",
       "        cursor = 'crosshair';\n",
       "        break;\n",
       "    case 3:\n",
       "        cursor = 'move';\n",
       "        break;\n",
       "    }\n",
       "    fig.rubberband_canvas.style.cursor = cursor;\n",
       "}\n",
       "\n",
       "mpl.figure.prototype.handle_message = function(fig, msg) {\n",
       "    fig.message.textContent = msg['message'];\n",
       "}\n",
       "\n",
       "mpl.figure.prototype.handle_draw = function(fig, msg) {\n",
       "    // Request the server to send over a new figure.\n",
       "    fig.send_draw_message();\n",
       "}\n",
       "\n",
       "mpl.figure.prototype.handle_image_mode = function(fig, msg) {\n",
       "    fig.image_mode = msg['mode'];\n",
       "}\n",
       "\n",
       "mpl.figure.prototype.updated_canvas_event = function() {\n",
       "    // Called whenever the canvas gets updated.\n",
       "    this.send_message(\"ack\", {});\n",
       "}\n",
       "\n",
       "// A function to construct a web socket function for onmessage handling.\n",
       "// Called in the figure constructor.\n",
       "mpl.figure.prototype._make_on_message_function = function(fig) {\n",
       "    return function socket_on_message(evt) {\n",
       "        if (evt.data instanceof Blob) {\n",
       "            /* FIXME: We get \"Resource interpreted as Image but\n",
       "             * transferred with MIME type text/plain:\" errors on\n",
       "             * Chrome.  But how to set the MIME type?  It doesn't seem\n",
       "             * to be part of the websocket stream */\n",
       "            evt.data.type = \"image/png\";\n",
       "\n",
       "            /* Free the memory for the previous frames */\n",
       "            if (fig.imageObj.src) {\n",
       "                (window.URL || window.webkitURL).revokeObjectURL(\n",
       "                    fig.imageObj.src);\n",
       "            }\n",
       "\n",
       "            fig.imageObj.src = (window.URL || window.webkitURL).createObjectURL(\n",
       "                evt.data);\n",
       "            fig.updated_canvas_event();\n",
       "            fig.waiting = false;\n",
       "            return;\n",
       "        }\n",
       "        else if (typeof evt.data === 'string' && evt.data.slice(0, 21) == \"data:image/png;base64\") {\n",
       "            fig.imageObj.src = evt.data;\n",
       "            fig.updated_canvas_event();\n",
       "            fig.waiting = false;\n",
       "            return;\n",
       "        }\n",
       "\n",
       "        var msg = JSON.parse(evt.data);\n",
       "        var msg_type = msg['type'];\n",
       "\n",
       "        // Call the  \"handle_{type}\" callback, which takes\n",
       "        // the figure and JSON message as its only arguments.\n",
       "        try {\n",
       "            var callback = fig[\"handle_\" + msg_type];\n",
       "        } catch (e) {\n",
       "            console.log(\"No handler for the '\" + msg_type + \"' message type: \", msg);\n",
       "            return;\n",
       "        }\n",
       "\n",
       "        if (callback) {\n",
       "            try {\n",
       "                // console.log(\"Handling '\" + msg_type + \"' message: \", msg);\n",
       "                callback(fig, msg);\n",
       "            } catch (e) {\n",
       "                console.log(\"Exception inside the 'handler_\" + msg_type + \"' callback:\", e, e.stack, msg);\n",
       "            }\n",
       "        }\n",
       "    };\n",
       "}\n",
       "\n",
       "// from http://stackoverflow.com/questions/1114465/getting-mouse-location-in-canvas\n",
       "mpl.findpos = function(e) {\n",
       "    //this section is from http://www.quirksmode.org/js/events_properties.html\n",
       "    var targ;\n",
       "    if (!e)\n",
       "        e = window.event;\n",
       "    if (e.target)\n",
       "        targ = e.target;\n",
       "    else if (e.srcElement)\n",
       "        targ = e.srcElement;\n",
       "    if (targ.nodeType == 3) // defeat Safari bug\n",
       "        targ = targ.parentNode;\n",
       "\n",
       "    // jQuery normalizes the pageX and pageY\n",
       "    // pageX,Y are the mouse positions relative to the document\n",
       "    // offset() returns the position of the element relative to the document\n",
       "    var x = e.pageX - $(targ).offset().left;\n",
       "    var y = e.pageY - $(targ).offset().top;\n",
       "\n",
       "    return {\"x\": x, \"y\": y};\n",
       "};\n",
       "\n",
       "/*\n",
       " * return a copy of an object with only non-object keys\n",
       " * we need this to avoid circular references\n",
       " * http://stackoverflow.com/a/24161582/3208463\n",
       " */\n",
       "function simpleKeys (original) {\n",
       "  return Object.keys(original).reduce(function (obj, key) {\n",
       "    if (typeof original[key] !== 'object')\n",
       "        obj[key] = original[key]\n",
       "    return obj;\n",
       "  }, {});\n",
       "}\n",
       "\n",
       "mpl.figure.prototype.mouse_event = function(event, name) {\n",
       "    var canvas_pos = mpl.findpos(event)\n",
       "\n",
       "    if (name === 'button_press')\n",
       "    {\n",
       "        this.canvas.focus();\n",
       "        this.canvas_div.focus();\n",
       "    }\n",
       "\n",
       "    var x = canvas_pos.x * mpl.ratio;\n",
       "    var y = canvas_pos.y * mpl.ratio;\n",
       "\n",
       "    this.send_message(name, {x: x, y: y, button: event.button,\n",
       "                             step: event.step,\n",
       "                             guiEvent: simpleKeys(event)});\n",
       "\n",
       "    /* This prevents the web browser from automatically changing to\n",
       "     * the text insertion cursor when the button is pressed.  We want\n",
       "     * to control all of the cursor setting manually through the\n",
       "     * 'cursor' event from matplotlib */\n",
       "    event.preventDefault();\n",
       "    return false;\n",
       "}\n",
       "\n",
       "mpl.figure.prototype._key_event_extra = function(event, name) {\n",
       "    // Handle any extra behaviour associated with a key event\n",
       "}\n",
       "\n",
       "mpl.figure.prototype.key_event = function(event, name) {\n",
       "\n",
       "    // Prevent repeat events\n",
       "    if (name == 'key_press')\n",
       "    {\n",
       "        if (event.which === this._key)\n",
       "            return;\n",
       "        else\n",
       "            this._key = event.which;\n",
       "    }\n",
       "    if (name == 'key_release')\n",
       "        this._key = null;\n",
       "\n",
       "    var value = '';\n",
       "    if (event.ctrlKey && event.which != 17)\n",
       "        value += \"ctrl+\";\n",
       "    if (event.altKey && event.which != 18)\n",
       "        value += \"alt+\";\n",
       "    if (event.shiftKey && event.which != 16)\n",
       "        value += \"shift+\";\n",
       "\n",
       "    value += 'k';\n",
       "    value += event.which.toString();\n",
       "\n",
       "    this._key_event_extra(event, name);\n",
       "\n",
       "    this.send_message(name, {key: value,\n",
       "                             guiEvent: simpleKeys(event)});\n",
       "    return false;\n",
       "}\n",
       "\n",
       "mpl.figure.prototype.toolbar_button_onclick = function(name) {\n",
       "    if (name == 'download') {\n",
       "        this.handle_save(this, null);\n",
       "    } else {\n",
       "        this.send_message(\"toolbar_button\", {name: name});\n",
       "    }\n",
       "};\n",
       "\n",
       "mpl.figure.prototype.toolbar_button_onmouseover = function(tooltip) {\n",
       "    this.message.textContent = tooltip;\n",
       "};\n",
       "mpl.toolbar_items = [[\"Home\", \"Reset original view\", \"fa fa-home icon-home\", \"home\"], [\"Back\", \"Back to  previous view\", \"fa fa-arrow-left icon-arrow-left\", \"back\"], [\"Forward\", \"Forward to next view\", \"fa fa-arrow-right icon-arrow-right\", \"forward\"], [\"\", \"\", \"\", \"\"], [\"Pan\", \"Pan axes with left mouse, zoom with right\", \"fa fa-arrows icon-move\", \"pan\"], [\"Zoom\", \"Zoom to rectangle\", \"fa fa-square-o icon-check-empty\", \"zoom\"], [\"\", \"\", \"\", \"\"], [\"Download\", \"Download plot\", \"fa fa-floppy-o icon-save\", \"download\"]];\n",
       "\n",
       "mpl.extensions = [\"eps\", \"jpeg\", \"pdf\", \"png\", \"ps\", \"raw\", \"svg\", \"tif\"];\n",
       "\n",
       "mpl.default_extension = \"png\";var comm_websocket_adapter = function(comm) {\n",
       "    // Create a \"websocket\"-like object which calls the given IPython comm\n",
       "    // object with the appropriate methods. Currently this is a non binary\n",
       "    // socket, so there is still some room for performance tuning.\n",
       "    var ws = {};\n",
       "\n",
       "    ws.close = function() {\n",
       "        comm.close()\n",
       "    };\n",
       "    ws.send = function(m) {\n",
       "        //console.log('sending', m);\n",
       "        comm.send(m);\n",
       "    };\n",
       "    // Register the callback with on_msg.\n",
       "    comm.on_msg(function(msg) {\n",
       "        //console.log('receiving', msg['content']['data'], msg);\n",
       "        // Pass the mpl event to the overridden (by mpl) onmessage function.\n",
       "        ws.onmessage(msg['content']['data'])\n",
       "    });\n",
       "    return ws;\n",
       "}\n",
       "\n",
       "mpl.mpl_figure_comm = function(comm, msg) {\n",
       "    // This is the function which gets called when the mpl process\n",
       "    // starts-up an IPython Comm through the \"matplotlib\" channel.\n",
       "\n",
       "    var id = msg.content.data.id;\n",
       "    // Get hold of the div created by the display call when the Comm\n",
       "    // socket was opened in Python.\n",
       "    var element = $(\"#\" + id);\n",
       "    var ws_proxy = comm_websocket_adapter(comm)\n",
       "\n",
       "    function ondownload(figure, format) {\n",
       "        window.open(figure.imageObj.src);\n",
       "    }\n",
       "\n",
       "    var fig = new mpl.figure(id, ws_proxy,\n",
       "                           ondownload,\n",
       "                           element.get(0));\n",
       "\n",
       "    // Call onopen now - mpl needs it, as it is assuming we've passed it a real\n",
       "    // web socket which is closed, not our websocket->open comm proxy.\n",
       "    ws_proxy.onopen();\n",
       "\n",
       "    fig.parent_element = element.get(0);\n",
       "    fig.cell_info = mpl.find_output_cell(\"<div id='\" + id + \"'></div>\");\n",
       "    if (!fig.cell_info) {\n",
       "        console.error(\"Failed to find cell for figure\", id, fig);\n",
       "        return;\n",
       "    }\n",
       "\n",
       "    var output_index = fig.cell_info[2]\n",
       "    var cell = fig.cell_info[0];\n",
       "\n",
       "};\n",
       "\n",
       "mpl.figure.prototype.handle_close = function(fig, msg) {\n",
       "    var width = fig.canvas.width/mpl.ratio\n",
       "    fig.root.unbind('remove')\n",
       "\n",
       "    // Update the output cell to use the data from the current canvas.\n",
       "    fig.push_to_output();\n",
       "    var dataURL = fig.canvas.toDataURL();\n",
       "    // Re-enable the keyboard manager in IPython - without this line, in FF,\n",
       "    // the notebook keyboard shortcuts fail.\n",
       "    IPython.keyboard_manager.enable()\n",
       "    $(fig.parent_element).html('<img src=\"' + dataURL + '\" width=\"' + width + '\">');\n",
       "    fig.close_ws(fig, msg);\n",
       "}\n",
       "\n",
       "mpl.figure.prototype.close_ws = function(fig, msg){\n",
       "    fig.send_message('closing', msg);\n",
       "    // fig.ws.close()\n",
       "}\n",
       "\n",
       "mpl.figure.prototype.push_to_output = function(remove_interactive) {\n",
       "    // Turn the data on the canvas into data in the output cell.\n",
       "    var width = this.canvas.width/mpl.ratio\n",
       "    var dataURL = this.canvas.toDataURL();\n",
       "    this.cell_info[1]['text/html'] = '<img src=\"' + dataURL + '\" width=\"' + width + '\">';\n",
       "}\n",
       "\n",
       "mpl.figure.prototype.updated_canvas_event = function() {\n",
       "    // Tell IPython that the notebook contents must change.\n",
       "    IPython.notebook.set_dirty(true);\n",
       "    this.send_message(\"ack\", {});\n",
       "    var fig = this;\n",
       "    // Wait a second, then push the new image to the DOM so\n",
       "    // that it is saved nicely (might be nice to debounce this).\n",
       "    setTimeout(function () { fig.push_to_output() }, 1000);\n",
       "}\n",
       "\n",
       "mpl.figure.prototype._init_toolbar = function() {\n",
       "    var fig = this;\n",
       "\n",
       "    var nav_element = $('<div/>')\n",
       "    nav_element.attr('style', 'width: 100%');\n",
       "    this.root.append(nav_element);\n",
       "\n",
       "    // Define a callback function for later on.\n",
       "    function toolbar_event(event) {\n",
       "        return fig.toolbar_button_onclick(event['data']);\n",
       "    }\n",
       "    function toolbar_mouse_event(event) {\n",
       "        return fig.toolbar_button_onmouseover(event['data']);\n",
       "    }\n",
       "\n",
       "    for(var toolbar_ind in mpl.toolbar_items){\n",
       "        var name = mpl.toolbar_items[toolbar_ind][0];\n",
       "        var tooltip = mpl.toolbar_items[toolbar_ind][1];\n",
       "        var image = mpl.toolbar_items[toolbar_ind][2];\n",
       "        var method_name = mpl.toolbar_items[toolbar_ind][3];\n",
       "\n",
       "        if (!name) { continue; };\n",
       "\n",
       "        var button = $('<button class=\"btn btn-default\" href=\"#\" title=\"' + name + '\"><i class=\"fa ' + image + ' fa-lg\"></i></button>');\n",
       "        button.click(method_name, toolbar_event);\n",
       "        button.mouseover(tooltip, toolbar_mouse_event);\n",
       "        nav_element.append(button);\n",
       "    }\n",
       "\n",
       "    // Add the status bar.\n",
       "    var status_bar = $('<span class=\"mpl-message\" style=\"text-align:right; float: right;\"/>');\n",
       "    nav_element.append(status_bar);\n",
       "    this.message = status_bar[0];\n",
       "\n",
       "    // Add the close button to the window.\n",
       "    var buttongrp = $('<div class=\"btn-group inline pull-right\"></div>');\n",
       "    var button = $('<button class=\"btn btn-mini btn-primary\" href=\"#\" title=\"Stop Interaction\"><i class=\"fa fa-power-off icon-remove icon-large\"></i></button>');\n",
       "    button.click(function (evt) { fig.handle_close(fig, {}); } );\n",
       "    button.mouseover('Stop Interaction', toolbar_mouse_event);\n",
       "    buttongrp.append(button);\n",
       "    var titlebar = this.root.find($('.ui-dialog-titlebar'));\n",
       "    titlebar.prepend(buttongrp);\n",
       "}\n",
       "\n",
       "mpl.figure.prototype._root_extra_style = function(el){\n",
       "    var fig = this\n",
       "    el.on(\"remove\", function(){\n",
       "\tfig.close_ws(fig, {});\n",
       "    });\n",
       "}\n",
       "\n",
       "mpl.figure.prototype._canvas_extra_style = function(el){\n",
       "    // this is important to make the div 'focusable\n",
       "    el.attr('tabindex', 0)\n",
       "    // reach out to IPython and tell the keyboard manager to turn it's self\n",
       "    // off when our div gets focus\n",
       "\n",
       "    // location in version 3\n",
       "    if (IPython.notebook.keyboard_manager) {\n",
       "        IPython.notebook.keyboard_manager.register_events(el);\n",
       "    }\n",
       "    else {\n",
       "        // location in version 2\n",
       "        IPython.keyboard_manager.register_events(el);\n",
       "    }\n",
       "\n",
       "}\n",
       "\n",
       "mpl.figure.prototype._key_event_extra = function(event, name) {\n",
       "    var manager = IPython.notebook.keyboard_manager;\n",
       "    if (!manager)\n",
       "        manager = IPython.keyboard_manager;\n",
       "\n",
       "    // Check for shift+enter\n",
       "    if (event.shiftKey && event.which == 13) {\n",
       "        this.canvas_div.blur();\n",
       "        event.shiftKey = false;\n",
       "        // Send a \"J\" for go to next cell\n",
       "        event.which = 74;\n",
       "        event.keyCode = 74;\n",
       "        manager.command_mode();\n",
       "        manager.handle_keydown(event);\n",
       "    }\n",
       "}\n",
       "\n",
       "mpl.figure.prototype.handle_save = function(fig, msg) {\n",
       "    fig.ondownload(fig, null);\n",
       "}\n",
       "\n",
       "\n",
       "mpl.find_output_cell = function(html_output) {\n",
       "    // Return the cell and output element which can be found *uniquely* in the notebook.\n",
       "    // Note - this is a bit hacky, but it is done because the \"notebook_saving.Notebook\"\n",
       "    // IPython event is triggered only after the cells have been serialised, which for\n",
       "    // our purposes (turning an active figure into a static one), is too late.\n",
       "    var cells = IPython.notebook.get_cells();\n",
       "    var ncells = cells.length;\n",
       "    for (var i=0; i<ncells; i++) {\n",
       "        var cell = cells[i];\n",
       "        if (cell.cell_type === 'code'){\n",
       "            for (var j=0; j<cell.output_area.outputs.length; j++) {\n",
       "                var data = cell.output_area.outputs[j];\n",
       "                if (data.data) {\n",
       "                    // IPython >= 3 moved mimebundle to data attribute of output\n",
       "                    data = data.data;\n",
       "                }\n",
       "                if (data['text/html'] == html_output) {\n",
       "                    return [cell, data, j];\n",
       "                }\n",
       "            }\n",
       "        }\n",
       "    }\n",
       "}\n",
       "\n",
       "// Register the function which deals with the matplotlib target/channel.\n",
       "// The kernel may be null if the page has been refreshed.\n",
       "if (IPython.notebook.kernel != null) {\n",
       "    IPython.notebook.kernel.comm_manager.register_target('matplotlib', mpl.mpl_figure_comm);\n",
       "}\n"
      ],
      "text/plain": [
       "<IPython.core.display.Javascript object>"
      ]
     },
     "metadata": {},
     "output_type": "display_data"
    },
    {
     "data": {
      "text/html": [
       "<img src=\"data:image/png;base64,iVBORw0KGgoAAAANSUhEUgAAAoAAAAHgCAYAAAA10dzkAAAgAElEQVR4nOzdeVxVBeL//4MguJuVC5qAFu6JW7lU4oqYplmNmaXk3qbpWO6FmhJuVDPTNtUwTdryUXRq1BytUMu9xFxSM3Mhc7Ka3CZRk/fvj37w9cpF4Rw495zD6/V4vB+P8XLhnnMT73PuZTFERERERCUqI9AHQERERET2BgCJiIiISlgAkIiIiKiEBQCJiIiISlgAkIiIiKiEBQCJiIiISlgAkIiIiKiEBQCJiIiISlgAkIiIiKiEBQCJiIiISlgAkIiIiKiEBQCJiIiISlgAkIiIiKiEBQCJiIiISlgAkIiIiKiEBQCJiIiISlgAkIiIiKiEBQCJiIiISlgAkIiIiKiEBQCJiIiISlgAkIiIiKiEBQCJiIiISlgAkIiIiKiEBQCJiIiISlgAkIiIiKiEBQCJiIiISlgAkIiIiKiEBQCJiIiISlgAkIiIiKiEBQCJiIiISlgAkIiIiKiEBQCJiIiISlgAkIiIiKiEBQCJiIiISlgAkIiIiKiEBQCJiIiISlgAkGxv3bp1SkxM1C+//JLnbbGxsYqNjbX/oGzqueeeU58+fRQVFSXDMC57ritWrFC7du1UpkwZVapUST179tTOnTt9rpOeni7DMPLdiBEjfK6/adMmxcXFqUKFCipfvrw6dOigzz77rFDn8MUXX6hz584qX768KleurD59+mj//v2WzjW/Tp06pccff1zh4eEKCwtTTEyM3nnnnTzX+/TTTzVkyBC1aNFCoaGhMgxDBw4c8LlObGzsZe+rnCUmJkqS/vWvf2nAgAFq0qSJQkJCZBj5/3N57tw5TZ06VZGRkQoNDVX9+vX1pz/9qcDnOWnSJDVr1kxVqlRRWFiY6tSpo2HDhungwYNFfluStGrVKrVp00Zly5bVNddco4SEBP3www/FcltE5MwAINnenDlz/D5AS9KuXbu0a9cu+w/KpurXr68WLVpo8ODBqlq1ar4o+uc//6mgoCDdeeedWrZsmd5++23Vr19fVapU0TfffJN7vRMnTmjDhg15NnDgQBmGoRUrVuRed/PmzQoLC9Ntt92mJUuWaPHixWrTpo3CwsK0fv36Ah3/7t27VbFiRd12221atmyZ0tLS1LhxY9WsWVPHjh0zda6Xq2vXrrrqqqv0yiuv6JNPPtHQoUNlGIYWLFjgc70cpNx5553q0KGD379fu3bt8rmPpkyZIsMwlJqa6nN5ZmamJGnw4MGKjo5W37591bJly8sCcOjQoQoLC9Ps2bOVnp6uCRMmKCgoSDNnzizQeT7yyCOaNWuWPvjgA6Wnp+vFF19UeHi4qlevrp9++qlIb2v16tUKCQlR7969tXLlSs2fP1+1atVSkyZNlJWVVaS3RUTODQCS7V0OgF7vwoULuf+7cePG+aKofv36atq0qbKzs3MvO3jwoEJDQ9W/f//L3kZ2drbq1q2ryMhIn9vr1q2bqlevrv/973+5l508eVLXXnut2rVrV6Dj/8Mf/qBrr71WJ06c8Dmu0qVLa9y4cabONb+WLVsmwzD09ttv+1zetWtX1axZU7/99pvf2yro36/U1FQZhqEtW7b4ffvFH/PRRx/NF4A7d+5UUFCQkpKSfC4fNmyYypYtq59//vmyx5Ffy5cvl2EYeuONN4r0tm666SY1atRI58+fz71s3bp1MgxDL730UrGfFxE5IwBItpaYmOj3Zbf09HRJeV8CPnDggAzD0OzZs5WcnKzIyEiVKVNGsbGx2rt3r86dO6fx48crPDxclSpV0p133un3pax3331Xbdq0Ubly5VS+fHnFxcVp69atNp21//JD0U8//STDMDR+/Pg8b2vRooXKlSvng59L+/jjj2UYhqZOnepzeYUKFXTvvffmuf5dd90lwzD0/fffX/Z4z58/r7Jly+Z5WVmS4uLiFB0dne/7mgHg0KFDVaFCBR+oSNLbb78twzC0bt06v+9XVAC8uMsBcMaMGTIMQ0ePHvW5fP369X6frSxoW7ZskWEYevPNN4vstr777jsZhqFnn302z9vq1aunrl27FtltEZGzA4Bka5mZmRo5cqQMw9DixYtzX3bLeUYpPwBGRkbqjjvu0NKlSzV//nxVr15d9erV04ABAzR48GB9+OGHeuWVV1ShQgXdcccdPrc5c+ZMBQUFafDgwVq6dKkWL16stm3bqnz58gV6ufn8+fMF2sXP1hWk/FD0/fffyzAMPf3003ne1rZtWxmGob179+b7cfv3769SpUrp0KFDPpeHhoZq4MCBea5/3333yTAM/fvf/77s8e7Zs0eGYejFF1/M87YnnnhCQUFBOnPmjN/3NQPANm3a6Kabbspz+c6dO2UYhl599VW/72c3APv166eqVavmufz06dMyDEMTJ07MvSznazZzvs7w0s6fP69ff/1VW7du1S233KJ69erp1KlTRXZbK1askGEYWrZsWZ6Pcc899yg8PNzUbRGR+wKAZHuXe4DOD4AxMTE+L8k9//zzMgxDvXr18nn/0aNHyzCMXFAePnxYISEhGjlypM/1Tp06pRo1aqhv376XPdac2y/Icp7FLGj5oejChQu6+uqr1blzZ5/Lf/nlF1WsWFGGYeT7NXu//PKLypQpo27duuV5W7NmzVSvXj2f+/H8+fOqW7eu35daLy3nZUJ/34SRlJR02WcRzQAwOjra73nkAPnSlyZzshuAXbt2Vf369f2+LTQ0VMOHD8/98+rVqxUcHKxp06blue7Ro0d9/j61bt1aR44cKdLbWrBggQzD0IYNG/K8//DhwxUaGmrqtojIfQFAsj0zALz02YZ///vffp8FevXVV2UYhnbs2CFJeu2113If5C99xu7ee+9VtWrVLnusZ8+e1ZYtWwq0kydPFup+uByKnnrqKRmGoenTp+uHH37Qvn371KNHDwUHB8swDG3cuNHv+/3lL3+RYRhauHBhnre98cYbMgxDDz/8sL777jsdPnxYQ4YMyf2Y7777rqTfAXrx/ZTzcnMOAHOud3E5ALz05cIrnWt2dnae/y45RUdHKz4+Ps/75ADQ38uYUmAA2KBBA79vCw0N9fuSub/Onz+vLVu26LPPPtNrr72m6Oho1atXzwfVVm8rB4D+/v4MHz5cYWFhRXZbROTsACDZnhkAzpkzx+d6OS9vXQqdSx/Uc76OKb+VKlXqisdr90vAObc5ZsyY3B9pYhiGevTokftdsDnfqXppzZs3V9WqVXXu3Dm/b09OTlaFChVyP2bbtm01fvx4GYahTz/9VJKUkJDgcx/lHGNxvATs78fY5Py98OJLwIUpMzNTISEhGjVqVJHdFi8BE1FOAJBsz04AvvLKKzIMQ4sWLcr3mbvLFYiXgC/u1KlT2r59e+6zQHFxcapTp47f627dulWGYWjs2LGX/ZhZWVnasWNH7s+YGz58uMqXL69ff/0195wvvn/27Nkj6f99E8hDDz2U52N269bN1DeBnDx5Ms9/j7Nnz0r6/btN/X0TyDvvvOOobwKZOXOm32c/N2zYYPmbJSIiInyeBbV6WznfBJKcnJznbfXr1/f5JpDiPC8iCnwAkGzvT3/6kwzD0FdffZXnbUUNwAMHDigkJESzZs0ydayBegnYX1988YWCg4P1/PPP+317DlL83a/5dejQIVWuXFmjR48u0PX79u2ratWq+ZzroUOHFBoa6ve7lnMy8zWAOT8G5dKXnOPj4/P8GJiLsxuAOT8u5VJUjRgxwtKPS9m3b59KlSqlxx57rEhv6+abb1aTJk187r8c1L388svFfl5E5IwAINleDt5GjBih9evX++CpqAEo/f71aSEhIRoxYoSWLFmi1atX67333tPYsWP9fqdtcbZlyxYtXLhQCxcuVO3atdWoUaPcP1/8Wx/S09M1e/ZsrVixQh9++KGmTZumcuXKqUePHn7hc+bMGVWpUuWyP89vx44dmjp1qpYuXapVq1Zp7ty5uvbaa9WqVSuf7zS9XLt371aFChXUvn17LV++XIsXL1aTJk38/iDogp7r5eratauqVKmiv/71r/rkk080bNgwGYah+fPn+1zv2LFjuR8754dgv/TSS1q4cKFWr17t92NfCYAHDx7M/Zjx8fG5f98WLlyY531yfmDynDlztHr1ak2aNMnvD0z2940ZX375pTp16qSXXnpJK1as0MqVKzVv3jxdd911qlq1ap77ysptSb//3QoJCVGfPn20atUqLViwQLVr177sD4K+0m0RkfsCgBSQJk6cqJo1a6pUqVI+L58WBwCl33+zRseOHVWpUiWFhYUpMjJS99xzjz766KNiOb/8uvTr6y5eampq7vXWrVun1q1b5x5vkyZNNHfu3Hy/ti/ni/v/9re/5Xvbe/fuVfv27XX11VcrNDRUN9xwg6ZMmaLTp08X6hw+//xzde7cWeXKlcv92YsX/3aSwp7r5Tp16pRGjRqlGjVqKDQ0VE2bNvX7XciX+5V4+T3zeCUA5rzd3xISEnyue+7cOSUmJioiIkKhoaGqV6+e31+Z5u9Hs/znP//RAw88oOuvv17lypVTaGio6tatq4ceekiHDx/O8zGs3FZOK1euVJs2bVSmTBldffXVGjhwYL6/Cq4gt0VE7gsAEhEREZWwACARERFRCQsAEhEREZWwACARERFRCQsAEhEREZWwACARERFRCQsAEhEREZWwACARERFRCQsAWujChQvKzMzU8ePHdeLECcYYYyzfHT9+XJmZmbpw4UKxPjadOXOmSI73zJkzxXqcFNgAoIUyMzPz/U0BjDHGmL9lZmYW2+PSmTNnVKNacJEcZ40aNUCghwOAFjp+/LgMw9BfP22ktzJutGVPb+pi66ZsjLN9EzZ0t3Uj1t5t6wak32f7+n/S39b1+/gBW3fHyiG2L2L2DFvXYFSSrWvT4xnb16X2w7aug9Hb1t1q3C7DMHT8+PFie1w6ceKEDMPQoS+i9MvXdU3v0BdRMgxDJ06cKLZjpcAGAC2U84n2VsaNSvummS1L2tXd1s3Y2cP2Je7oZetGbe1n64ZsSbB9D25+0NYN3DTY1t217mHbF/Xnubau8ZMptu7WO+fYvvjI0bauS9A9tq6D0bvYUZXzuPTz13V0/uj1pvfz13UAoMcDgBYCgAAQAAJAAAgAnQjAY3sjlfV9HdM7tjcSAHo8AGghAAgAASAABIAA0IkA/M/eCP36fZTp/WdvBAD0eADQQgAQAAJAAAgAASAAJDcGAC0EAAEgAASAABAAOhGA3++9Tqe/jzC97/deBwA9HgC0EAAEgAAQAAJAAOhEAGbuqaUTR2qbXuaeWgDQ4wFACwFAAAgAASAABIAAkNwYALQQAASAABAAAkAA6EQAHtpTU78cuc70Du2pCQA9HgC0EAAEgAAQAAJAAOhEAB7YE66fjtQyvQN7wgGgxwOAFgKAABAAAkAACAABILkxAGghAAgAASAABIAA0IkA3L+nho4dqWl6+/fUAIAeDwBaCAACQAAIAAEgAHQiAL/eXV1Hvws3va93VweAHg8AWggAAkAACAABIAAEgOTGAKCFACAABIAAEAACQCcCcM/u6jryXbjp7QGAng8AWggAAkAACAABIAB0IgB37a6mw9/VML1du6sBQI8HAC0EAAEgAASAABAAOhGA27+qpgOZNUxv+1cA0OsBQAsBQAAIAAEgAASAAJDcGAC0EAAEgAAQAAJAAOhEAG77qpr2Z9YwvW0A0PMBQAsBQAAIAAEgAASATgTg1q+q6+vMcNPb+hXfBOL1AKCFACAABIAAEAACQABIbgwAWggAAkAACAABIAB0IgA/31Vdew6Hm97nuwCg1wOAFgKAABAAAkAACACdCMBNu2po1+GaprdpF78Kzut5FoBr1qxRz549FR7++y+0XrJkic/bExISZBiGz1q3bl2o2wCAABAAAkAACAABILkxzwJw+fLlmjx5stLS0vIFYHx8vI4ePZq7n3/+uVC3AQABIAAEgAAQADoRgOt3hWv74Vqmt35XOAD0eJ4F4MXlB8DevXtb+rgAEAACQAAIAAGgEwH42c6a2nboOtP7bGfNQh1rYmJinlfVqlevftn3Wb16tVq0aKGwsDDVqVNHL7/8clHcBVTASjQAK1eurKpVqyo6OlpDhw7VDz/8cNmPk5WVpRMnTuQuMzMTAAJAAAgAASAABICJiWrcuLHPq2rHjh3L9/rffvutypUrp8cff1xfffWVXnvtNZUuXVqLFi0qqruCrlCJBeC7776rpUuXaseOHfrggw8UExOjxo0bKysrK9+P4+//4RiGoQ+2X6+PD9SzZSlfdbV1c76Ks312n6PdwB2dca/tsxu5j33R39b12zDM9jX6Z6Ktqztnnq1r/lCK7evS9hlbF1fmAVvXKayvbQBcs7OWvjhU2/TW7KxVaADGxMQU+DjHjRunBg0a+Fw2YsQItWnTplDnS+YrsQC8tO+//16lS5dWWlpavtfJ7xlAAAgAASAABIAA0EkA/GRnbW0+FGl6n+ysLcMwlJmZ6fO4l9+TJImJiSpXrpzCw8MVFRWle++9V/v378/3OG+77TaNGjXK57LFixcrJCRE586dK9L7hPwHAC/qhhtuUHJycoE/bs4nGgAEgAAQAAJAAOgkAH68I0IbD0aZ3sc7Ivy+4pWYmOj3dpcvX65FixZp+/btWrVqlWJjY1W9enX99NNPfq8fHR2tmTNn+ly2bt06GYah77//vqjvFvITAPz/++mnnxQWFqY333yzwB8XAAJAAAgAASAA9DIAC/oM4KWdPn1a1atX17x58/y+PTo6WklJST6XffbZZzIMQ0ePHrV8P9CV8ywAT506pYyMDGVkZMgwDKWkpCgjI0OHDh3SqVOnNHbsWK1fv14HDhxQenq62rZtq1q1aunkyZMFvg0ACAABIAAEgADQiQBcuSNS6w7WMb2VOyItH2uXLl300EMP+X0bLwEHPs8CMD093e/T1wkJCfr1118VFxenqlWrqnTp0oqIiFBCQoIOHz5cqNsAgAAQAAJAAAgAnQjAD7fX0doD15veh9vrWDrWrKws1apVS9OmTfP79nHjxqlhw4Y+lz300EN8E4iNeRaAdgQAASAABIAAEAACQGns2LFavXq1vv32W23cuFE9e/ZUxYoVdfDgQUnShAkTNGDAgNzr5/wYmDFjxuirr77SG2+8wY+BsTkAaCEACAABIAAEgADQiQBctr2uVh+INr1l2+sW6ljvvfdehYeHq3Tp0qpZs6buuusu7dq1K/ftCQkJio2N9Xmf1atXq3nz5goNDVVUVBQ/CNrmAKCFACAABIAAEAACQCcC0Orj0gfbr+dXwXk8AGghAAgAASAABIAAEACSGwOAFgKAABAAAkAACACdCMAlX0Zr5bcNTG/Jl9EA0OMBQAsBQAAIAAEgAASATgRg2pf1tOLbhqaX9mU9AOjxAKCFACAABIAAEAACQABIbgwAWggAAkAACAABIAB0IgAXftlAy75tbHoLv2wAAD0eALQQAASAABAAAkAA6EQAvrutkT7Yf6PpvbutEQD0eADQQgAQAAJAAAgAAaATAfj2tib65/4Y03t7WxMA6PEAoIUAIAAEgAAQAAJAAEhuDABaCAACQAAIAAEgAHQiAN/KuFFp3zQzvbcybgSAHg8AWggAAkAACAABIAB0IgD/nhGj//umhen9PSMGAHo8AGghAAgAASAABIAAEACSGwOAFgKAABAAAkAACACdCMC/bW2ud/e1Mr2/bW0OAD0eALQQAASAABAAAkAA6EQAvra1pRbsu9n0XtvaEgB6PABoIQAIAAEgAASAABAAkhsDgBYCgAAQAAJAAAgAnQjAV7e21D++bm16rwJAzwcALQQAASAABIAAEAA6EYAvb71Jf/+6rem9vPUmAOjxAKCFACAABIAAEAACQABIbgwAWggAAkAACAABIAB0IgD/8kVrvbH3FtP7yxetAaDHA4AWAoAAEAACQAAIAJ0IwD990Uav7b3V9P70RRsA6PEAoIVyPtE+31Vdew6H2zIrP9fJzKZsv9P2Je7oZevGf3m3rSsJAByyJcHW3bPuIdsXs3SKrYv8y1xb12h8iu27rddsWxcfPc7Wdan7uG0AfO7zdnplT3vTe+7zdgDQ4wFACwFAAAgAASAABIAAkNwYALQQAASAABAAAkAA6EQAzv38Vr24p4Ppzf38VgDo8QCghQAgAASAABAAAkAnAnD2ltv0590dTW/2ltsAoMcDgBYCgAAQAAJAAAgAASC5MQBoIQAIAAEgAASAANCJAEzeEqvnd3c2veQtsQDQ4wFACwFAAAgAASAABIBOBGDS5o6WfjxW0uaOANDjAUALAUAACAABIAAEgACQ3BgAtBAABIAAEAACQADoRAA+s7mTpR/I/8zmTgDQ4wFACwFAAAgAASAABIBOBOC0TV00a1e86U3b1AUAejwAaCEACAABIAAEgAAQAJIbA4AWAoAAEAACQAAIAJ0IwKc3dVHSru6m9zQA9HwA0EIAEAACQAAIAAGgEwE4ZWOcZuzsYXpTNsYBQI8HAC0EAAEgAASAABAAOhGAEzfEa9qOO0xv4oZ4AOjxAKCFACAABIAAEAACQABIbgwAWggAAkAACAABIAB0IgAnbOhu6d/FCRu6A0CPBwAtBAABIAAEgAAQADoRgE+u72Hp3+En1/cAgB4PAFoIAAJAAAgAASAABIDkxgCghQAgAASAABAAAkAnAnDsup6a9GUf0xu7ricA9HgA0EIAEAACQAAIAAGgEwE4ep21f9tGr+sFAD0eALQQAASAABAAAkAACADJjQFACwFAAAgAASAABIBOBOCoz3rryW33mN6oz3oDQI8HAC0EAAEgAASAABAAOhGAj33WR2O39TW9xz7rAwA9HgC0EAAEgAAQAAJAAAgAyY15FoBr1qxRz549FR4eLsMwtGTJknyvO3z4cBmGoeeee65QtwEAASAABIAAEAA6EYAPf3qXpX8zHv70LgDo8TwLwOXLl2vy5MlKS0u7LACXLFmimJgY1axZEwACQAAIAAEgAPQEAEesvdvS5/CItXcDQI/nWQBeXH4A/O6771SrVi3t3LlTkZGRABAAAkAACAABoCcAOHzNH/TYF/1Nb/iaP5g+1qSkJBmGoccffzzf66SmpsowjDw7c+aMldOnQlRiAXjhwgV17NhRzz//vCQBQAAIAAEgAASAANAiADdv3qyoqCg1bdr0igCsVKmSjh496jOyrxILwKSkJHXt2lXZ2dmSCgbArKwsnThxIneZmZkyDEM/f11H549eb8t2Ha5p697Ye4vtsxtHIz5/wNYN2zLQ9tkNsr7rR9i6uNWP274m7z9t6yJen2Xr6k9NsX03JcyzdV3aPmPrOtw02TYADlnTVw9/cb/pDVnTt9DHeurUKUVHR2vVqlWKjY29IgArV65cFKdMJiuRAPz8889VvXp1HTlyJPeyggAwMTHR71PWABAAAkAACAABoJMAOGh1X0v/Tg1aXXgADhw4UKNHj5akAgEwODhYERERqlWrlnr06KGtW7daPn8qeCUSgM8995yCgoIUHBycO8MwVKpUKUVGRub7cXgGEAACQAAIAAFgSQJgZmamz+NeVlaW39t955131KRJk9yv4bsSADds2KC33npL27Zt09q1a3X33XerbNmy+vrrr4vlfqG8lUgA/vTTT9qxY4fPatasqfHjx2vPnj0F/rg5n2gAEAACQAAIAAGgkwCYkN7P0r8ZCen9/L7ilZiYmOc2Dx8+rGrVqmnbtm25l10JgJd24cIFxcTEaOTIkUVxN1AB8iwAT506pYyMDGVkZMgwDKWkpCgjI0OHDh3ye30r3wQCAAEgAASAABAAOgmAA9Lvs/Q5PCD9vgI/A7hkyRIZhpHnVbWcV9p+++23Ah370KFDFR8fX9R3CeWTZwGYnp7u9/+9JCQk+L0+AASAABAAAkAACAB9AViQYz158mSeV9VatWqlBx54QDt27CjQcWdnZ6tVq1YaNGiQ1buACphnAWhHABAAAkAACAABoBMB2P+T/npw84Om1/+T/paO9dKXgAcMGKAJEybk/nnq1KlasWKF9u/fr4yMDA0aNEghISHatGmT5fuAChYAtBAABIAAEAACQADoRAD2+/gBDdw02PT6ffxAkQIwNjbW5xW40aNHKyIiQqGhoapatari4uK0fv16q6dPhQgAWggAAkAACAABIAB0IgD7fjxAD2wcYnp9Px7Ar4LzeADQQgAQAAJAAAgAASAAJDcGAC0EAAEgAASAABAAOhGAf/h4oPpvHGp6f/h4IAD0eADQQgAQAAJAAAgAAaATAXj3Rwnqt2GY6d39UQIA9HgA0EIAEAACQAAIAAEgACQ3BgAtBAABIAAEgAAQADoRgH1WDbL0OdVn1SAA6PEAoIUAIAAEgAAQAAJAJwKw98rBumfdQ6bXe+VgAOjxAKCFACAABIAAEAACQABIbgwAWggAAkAACAABIAB0IgDvWDlEd6172PTuWDkEAHo8AGghAAgAASAABIAA0IkA7PHvobrzs0dMr8e/hwJAjwcALQQAASAABIAAEAACQHJjANBCABAAAkAACAABoBMB2H3FMPX69FHT675iGAD0eADQQgAQAAJAAAgAAaATAdjtw+HqufYx0+v24XAA6PEAoIUAIAAEgAAQAAJAJwKw6/IRun3NSNPrunwEAPR4ANBCABAAAkAACAABIAAkNwYALQQAASAABIAAEAA6EYBdlo9Q/JpRptcFAHo+AGghAAgAASAABIAA0IkA7LTsIUt/vzstewgAejwAaCEACAABIAAEgAAQAJIbA4AWAoAAEAACQAAIAJ0IwA5LH1aX9NGm12HpwwDQ4wFACwFAAAgAASAABIBOBGD7fz2iTp+MMb32/3oEAHo8AGghAAgAASAABIAAEACSGwOAFsr5RPvl67q6cDTaln1xqLatS/mqq+3rt2GYrbPyC9PNzG7gM/8AACAASURBVG4c9V0/wvZztBtj7VaOs3310qbZuog3Ztm66Jkptq/5CHvXqUOSrWt/69O2AfDWDx5Vh4//aHq3fvAoAPR4ANBCABAAAkAACAABoBMBeMv7jyn2o7Gmd8v7jwFAjwcALQQAASAABIAAEAACQHJjANBCABAAAkAACAABoBMB2Pb9kbrtoydMr+37IwGgxwOAFgKAABAAAkAACACdCMDW/xylW1Y9aXqt/zkKAHo8AGghAAgAASAABIAA0IkAvHmJtc+Lm5c8DgA9HgC0EAAEgAAQAAJAAAgAyY0BQAsBQAAIAAEgAASATgRgq8Wj1ebf402v1eLRANDjAUALAUAACAABIAAEgE4EYMu0MWq9YoLptUwbAwA9HgC0EAAEgAAQAAJAAAgAyY0BQAsBQAAIAAEgAASATgRgi0V/1E0fTjS9Fov+CAA9HgC0EAAEgAAQAAJAAOhEADZf9Ee1Wj7R9JoDQM8HAC0EAAEgAASAABAAAkByYwDQQgAQAAJAAAgAAaATARizaKxaLJ9kejGLxgJAjwcALQQAASAABIAAEAA6EYBNFz6h5ssmm17ThU8AQI8HAC0EAAEgAASAABAAAkByYwDQQgAQAAJAAAgAAaATAdjk/55UzNIpptfk/54EgB4PAFoIAAJAAAgAASAAdCIAG7/3pJr+a4rpNX4PAHo9AGghAAgAASAABIAA0IkAbPTuON34wVOm1+jdcQDQ4wFACwFAAAgAASAABIAAkNwYALQQAASAABAAAkAA6EQANnxnvJq8/7TpNXxnPAD0eADQQgAQAAJAAAgAAaATAVj/7Qlq9M9E06v/9gQA6PEAoIUAIAAEgAAQAAJAAEhuDABaCAACQAAIAAEgAHQiAOstmKCGSxJNr94CAOj1PAvANWvWqGfPngoPD5dhGFqyZInP2xMTE1W/fn2VK1dOV111lTp37qyNGzcW6jYAIAAEgAAQAAJAJwIwev4ENVg81fSi5wNAr+dZAC5fvlyTJ09WWlqaXwAuWLBAq1at0v79+7Vz504NGTJElSpV0rFjxwp8GwAQAAJAAAgAASAAJDfmWQBenD8AXlrOJ81HH31U4I8LAAEgAASAABAAOhGAN7w1UfXTppneDW9NNH2sSUlJMgxDjz/++GWvt2jRIjVs2FChoaFq2LChFi9ebPa0yUQAUNLZs2c1Z84cVa5cWT/++GOBPy4ABIAAEAACQADoRABe/9ZES3/frjcJwM2bNysqKkpNmza9LADXr1+v4OBgJSUlaffu3UpKSlJISEihvxSLzFeiAfivf/1L5cuXV1BQkGrWrKnNmzdf9uNkZWXpxIkTucvMzJRhGEreEqvnd3e2Zf/3TQtb9+fdHW3fkC0Jti5+zShbZzeO4lY/bvs53vbRE7bOyu88Nbu6786wdZEvz7F19Z9OsX0thtq7Dl2Tbd2tHad6GoCnTp1SdHS0Vq1apdjY2MsCsG/fvoqPj/e5rFu3burXr5/pc6fCVaIBePr0ae3bt08bNmzQ4MGDFRUVpR9++CHfj5OYmCjDMPIMAAJAAAgAASAAdBIA6/5jkqIXTTe9uv+YJMMwlJmZ6fPER1ZWVr63PXDgQI0ePVqSrgjA2rVrKyUlxeeylJQURUREFM0dQVesRAPw0m644QYlJSXl+3aeAQSAABAAAkAA6AoAvjlJ0Qunm17dNyf5fcIjMTHR7+2+8847atKkic6cOSPpygAsXbq0FixY4HPZggULFBoaWmT3BV0+AHhR119/fb5/uf2V84kGAAEgAASAABAAOgqAf5+sG/7vGdOr+/fJBX4G8PDhw6pWrZq2bduWe1lBAPj222/7XDZ//nyFhYUV3Z1Bl82zADx16pQyMjKUkZEhwzCUkpKijIwMHTp0SKdPn9bEiRO1YcMGHTx4UF988YWGDBmisLAw7dy5s8C3AQABIAAEgAAQAHoZgAU51iVLlsgwDAUHB+fOMAwFBQUpODhYv/32W5734SXgwOdZAKanp/t9+johIUFnzpxRnz59VLNmTYWGhio8PFy9evW64jeBXBoABIAAEAACQADoRADWSZ2s6997xvTqpBYcgCdPntSOHTt81qpVKz3wwAPasWOH3/fp27evunfv7nNZfHw83wRiY54FoB0BQAAIAAEgAASATgRg1N+s/R2N+tsUS8d66UvAAwYM0IQJE3L/vG7dOgUHBys5OVm7d+9WcnIyPwbG5gCghQAgAASAABAAAkAAmLdLARgbG6uEhASf6yxcuFD169dX6dKl1aBBA6WlpVk5dSpkANBCABAAAkAACAABoCMB+MZTqvvOTNOLeuMpfhWcxwOAFgKAABAAAkAACACdCMDI159Snbdnml7k6wDQ6wFACwFAAAgAASAABIAAkNwYALQQAASAABAAAkAA6EgAvvaU6iyYaXqRrwFArwcALQQAASAABIAAEAA6EYARf31aUfOTTC/ir08DQI8HAC0EAAEgAASAABAAAkByYwDQQgAQAAJAAAgAAaBjAfhWkukBQO8HAC0EAAEgAASAABAAOhGAtV9NVOQ/njW92q8mAkCPBwAtBAABIAAEgAAQADoSgK8kKvLNZ02v9isA0OsBQAsBQAAIAAEgAASAAJDcGAC0EAAEgAAQAAJAAOhMAE5V5JvJplf7leI/VgpsANBCABAAAkAACAABoCMB+PJURf492fRqvwwAvZ4jAbh27Vrdf//9atOmjb777jtJ0j/+8Q99+umnAT4y3wAgAASAABAAAkAASG7McQBctGiRypYtq6FDhyosLEz79++XJL344ovq3r17gI/ONwAIAAEgAASAANCRAHxpqiJTk02v9ksA0Os5DoDNmjXTm2++KUmqUKFCLgAzMjJUvXr1QB5angAgAASAABAAAkBHAvDFaYr82yzTq/3iNADo8RwHwLJly+rAgQOSfAG4f/9+hYWFBfDI8gYAASAABIAAEAACQHJjjgNg3bp1tWrVKkm+AHzzzTfVsGHDQB5angAgAASAABAAAkAnAvC6v0xTxBuzTO+6vwBAr+c4AM6aNUuNGjXSxo0bVbFiRX366aeaP3++qlatqj//+c+BPjyfACAABIAAEAACQEcC8M/TFPH6LNO77s8A0Os5DoCSNGnSJJUtW1ZBQUEKCgpSmTJlNGXKlEAfVp4AIAAEgAAQAAJAAEhuzJEAlKT//e9/2rJlizZt2qRTp04F+nD8BgABIAAEgAAQADoSgH+arojXZpvedX+aDgA9nmMB6IYAIAAEgAAQAAJAJwKw9gvTFfnX2aZX+wUA6PUcAcA+ffoUeE4qEAAcnXGvrRu4abDtsxuA7VaOs3U3fTjR9tkNMrvPr9E/E21fnQUzbV3Un+baugZTUmxfi2H2rv3ts2xdu67F/7JqLgCfn67IV2ebXu3nAaDXcwQAH3zwwdwlJCSoUqVKql27di76IiIiVKlSJT344IOBPlSfcj7R7PwEAYAAEAACQAAIAPMLAFJBcwQAL27cuHEaOnSofvvtt9zLfvvtNw0fPlxPPPFEAI8sbwAQAAJAAAgAAaAjAfjcM4p8ZY7p1X7uGQDo8RwHwGuvvVZ79uzJc/mePXt09dVXB+CI8g8AAkAACAABIAB0JABTnrH0NaC1UwCg13McAK+66iotWbIkz+VLlizRVVddFYAjyj8ACAABIAAEgAAQANpfnTp19NNPPwX6MFyd4wA4ZswYValSRXPmzNGnn36qTz/9VHPmzNE111yjMWPGBPrwfAKAABAAAkAACAAdCcB5zyjypTmmV3ueswEYFBSkH374IdCH4eocB8ALFy5o1qxZqlmzZu4Pgq5Zs6ZmzZrl83WBTggAAkAACAABIAB0JADnPqPIF+eYXu25ANDrOQ6AF3fixAnH/uWTACAABIAAEAACQAAYiIKCgpSenq4vv/zysqP8czQAnR4ABIAAEAACQADoSADOmaHIv8w1vdpzZjgegKVKlcp9pfDi5VxeqlSpQB+mo3McAKOiolSnTp1856QAIAAEgAAQAAJAJwIwYvYMRf15rulFzHY+ALds2aKDBw9edpR/jgPg888/77M5c+aof//+uvrqq/Xss88G+vB8AoAAEAACQAAIAAGg/fE1gNZzHADz6y9/+Qu/CUQAEAACQAAIAAFg/uUCcNYMS//9I2YBQK/nGgDu379fFStWDPRh+AQAASAABIAAEAACQPvr0KGDfvnll0AfhqtzDQBnzZqlyMjIQB+GTwAQAAJAAAgAAaATARg5a4bqvDDX9CIdDsBNmzb5/Gi47Oxsn7dnZWXpvffes/uwXJXjANisWTM1b948d82aNVONGjUUHBysV199NdCH5xMABIAAEAACQAAIAO2vVKlSPi8BV6xYUfv378/983/+8x++C/gKOQ6AiYmJmjp1au6mT5+ul19+Wbt37w70oeUJAAJAAAgAASAAdCQAk2eqzvPzTC8yeaajAXjp1wBWqFAhDwCDgoICcWiuyXEAdFMAEAACQAAIAAGgIwH47EzVeW6e6UU+634A8gzg5XMcAC99Wjenn376yXH/MQEgAASAABAAAkAAaH8A0HqOA2B+39p95MgRlSlTJgBHlH8AEAACQAAIAAGgIwGYNFN1UuaZXmSS8wF48a+CK1++vJYtW5b7548//hgAXiHHAPCFF17QCy+8oFKlSmnmzJm5f37hhReUkpKiO++8U82aNQv0YfoEAAEgAASAABAAOhGAUTNnqu68eaYXNdP5AMxv/Cq4guUYAEZFRSkqKkpBQUGqXbt27p+joqJUr149xcXFaePGjYE+TJ8AIAAEgAAQAAJAAGh/V/oVcPwquCvnGADm1KFDB/33v/8N9GEUKAAIAAEgAASAANCRAJwxU3XnzjO9qBnOBuCvv/6qRx55RDVr1lTVqlV133336ccffwz0YbkqxwHQTQFAAAgAASAABICOBOAzM1V3zjzTi3rG2QB84oknVK5cOQ0bNkwjR47Utddeq3vuuSfQh+WqHAHAMWPG6PTp07n/+3JzUgAQAAJAAAgAASAAtL+6devqnXfeyf3zpk2bFBIS4vPbQejyOQKAF/9Ov9jYWHXo0CHfFbQ1a9aoZ8+eCg8Pl2EYWrJkSe7bzp07p3HjxqlJkyYqV66cwsPDNWDAAB05cqRQxw0AASAABIAAEAA6EYB1ps/U9bPnmV6d6c4GYOnSpfXdd9/5XFamTBkdPnw4QEfkvhwBwOJo+fLlmjx5stLS0vIA8Pjx4+rSpYvee+897dmzRxs2bFDr1q3VsmXLQt0GAASAABAAAkAA6EgATkvS9bNSTK/OtKRCHetLL72kG2+8URUrVlTFihXVpk0bLV++PN/rp6amyjCMPDtz5kyBbq9UqVI6duyYz2UVKlTQt99+W6D3JwcCcNCgQTp58mSey0+fPq1BgwaZ+piXAtBfmzdvlmEYOnToUIE/LgAEgAAQAAJAAOhIAE5N0vXJKaZXZ2rhAPjBBx9o2bJl2rt3r/bu3atJkyapdOnS2rlzp9/rp6amqlKlSjp69KjPClpQUJBuv/129enTJ3chISGKi4vzuYzyz3EAzO83gfz4448KDg429TELAsBVq1YpKCioUJ+YABAAAkAACAABIAD0X5UqVfT666/7fVtqaqoqV65s+mM/+OCDBRrln2MAeOLECR0/flxBQUH65ptvdOLEidz997//1Ztvvqnw8HBTH/tKADxz5oxatmyp+++//7IfJysry+e4MjMzbQdgr08ftXVd0kfbvvg1o2yd3ed34wdP2b7oRdNtXd13Z3h+kX9PtnevzLF19aan2L7mD9m723rNtnVtu0+3DYB1E5N0w7Mpplc30TwAf/vtN73zzjsKDQ3Vrl27/F4nNTVVwcHBioiIUK1atdSjRw9t3brV6ulTIXIMAHN+and+Cw4O1owZM0x97MsB8Ny5c+rdu7eaN29+xb/oiYmJfr9mAQACQAAIAAEgAHQUAJ9O0g1JKaZX9+nfAZiZmenzxEdWVla+t719+3aVL19ewcHBqly5spYtW5bvdTds2KC33npL27Zt09q1a3X33XerbNmy+vrrr4vjbiE/OQaAq1evVnp6uoKCgrR48WKtXr06d+vXry/0d+heXH4APHfunO688041bdpUP/300xU/Ds8AAkAACAABIAAsSQC8dImJifne9tmzZ7Vv3z5t2bJFEyZM0LXXXpvvM4CXduHCBcXExGjkyJFFdE/QlXIMAHM6ePCgLly4UKQf0x8Ac/DXuHHjPN9JVNAC8TWAABAAAkBnDAACQEcD8KkkRc9MMb26TxX+GcBL69y5s4YPH17g6w8dOlTx8fFmTptM5DgA5vS///1Pu3fv1pdffumzgnbq1CllZGQoIyNDhmEoJSVFGRkZOnTokM6fP69evXrpuuuu07Zt23y+A+ns2bMFvg0ACAABIAAEgADQkQCckqToGSmmV3eK9W8C6dSpkxISEgp03ezsbLVq1cr0T/ugwuc4AB47dkw9evTI92sBC1p6errfp68TEhJ04MABv28zDEPp6ekFvg0ACAABIAAEgAAQAEoTJ07U2rVrdeDAAW3fvl2TJk1SqVKltHLlSknSgAEDNGHChNzrT506VStWrND+/fuVkZGhQYMGKSQkRJs2bSqW+4Xy5jgA9u/fX+3atdPmzZtVvnx5rVy5Um+99Zbq16+vpUuXBvrwfAKAABAAAkAACAAdCcDJSYp+JsX06k4uHAAHDx6syMhIhYaGqmrVqurcuXMu/qTff8vXxc8Gjh49WhEREbnXj4uL0/r164v67qDL5DgA1qhRI/f/AVSsWFF79+6VJL3//vu65ZZbAnloeQKAABAAAkAACACdCMDrJyVZ+m9x/STrLwGTs3McACtWrKgDBw5IkiIjI/XZZ59Jkr799luVLVs2gEeWNwAIAAEgAASAABAAkhtzHABbtWqlFStWSJJ69+6tAQMG6LvvvtO4ceNUt27dAB+dbwAQAAJAAAgAASAAJDfmOADOnz9fqampkqStW7eqatWqCgoKUlhYmN59993AHtwlAUAACAABIAAEgI4E4MQk1ZuWYnrXTwSAXs9xALy0//3vf/riiy/0448/BvpQ8gQAASAABIAAEAA6EYA3TEhS/akppnfDBADo9RwBwDFjxhR4TgoAAkAACAABIAAEgOTGHAHADh06FGgdO3YM9KH6BAABIAAEgAAQADoWgIkppgcAvZ8jAOjWACAABIAAEAACQEcCcHyS6j+dYno3jAeAXg8AWggAAkAACAABIAAEgOTGAKCFACAABIAAEAACQCcCMHpckho8lWJ60eMAoNcDgBYCgAAQAAJAAAgAHQnAJ5PUYEqK6UU/CQC9HgC0EAAEgAAQAAJAAAgAyY0BQAsBQAAIAAEgAASATgRgvSeS1HByiunVewIAej0AaCEACAABIAAEgADQkQAcm6SGk1JMr95YAOj1AKCFACAABIAAEAACQABIbgwAWggAAkAACAABIAB0JAD/mKSGE1NMr94fAaDXA4AWAoAAEAACQAAIAJ0IwPpjktRoQorp1R8DAL0eALQQAASAABAAAkAA6EgAjk5So/Eppld/NAD0egDQQgAQAAJAAAgAASAAJDcGAC0EAAEgAASAABAAOhKAjyep0bgU06v/OAD0egDQQgAQAAJAAAgAAaATAdhgVJIaP5lieg1GAUCvBwAtBAABIAAEgAAQAAJAcmMA0EIAsHgWs3SKrWv6L3vX5P2nbV9karKti/rzXM8v4o1Zti7yb/YuemaK7Yt51N7dPGCerWt570z7ADgySY2fSDG9BiMBoNcDgBYKBABLQgAQALphABAAOhmADR9LUpOxKabX8DEA6PUAoIUAYPEEAAGgGwYAASAAJDcHAC0EAIsnAAgA3TAACAAdDcBHk9Tkjymm1/BRAOj1AKCFAGDxBAABoBsGAAGgowH4SJKajEkxvYaPAECvBwAtBACLJwAIAN0wAAgAASC5OQBoIQBYPAFAAOiGAUAA6GQANnokSTeOSTG9RgDQ8wFACwHA4gkAAkA3DAACQEcD8OEk3Tg6xfQaPQwAvR4AtBAALJ4AIAB0wwAgAHQyABs/lKSmj6eYXuOHAKDXA4AWAoDFEwAEgG4YAASAAJDcHAC0EAAsngAgAHTDACAAdDQARySp6agU02s8AgB6PQBoIQBYPAFAAOiGAUAA6HgAjkwxPQDo/QCghQBg8QQAAaAbBgABIAAkNwcALQQAiycACADdMAAIAJ0MwCbDkxTzWIrpNRkOAL0eALQQACyeACAAdMMAIAB0NACHJVm6b5oMA4BeDwBaCAAWTwAQALphABAAAkBycwDQQgCweAKAANANA4AA0MkAvHFokpo9kmJ6Nw4FgF4PAFoIABZPABAAumEAEAA6GoBDktTs4RTTu3EIAPR6ANBCALB4AoAA0A0DgAAQAJKbA4AWAoDFEwAEgG4YAASATgZg08FJav5Qiuk1HQwAvR4AtBAALJ4AIAB0wwAgAHQ0AAclqfmIFNNrOggAej0AaCEAWDwBQADohgFAAOhoAD6YpObDU0yv6YMA0OsBQAsBwOIJAAJANwwAAkAASG4OAFoIABZPABAAumEAEAA6GYAxCUlqMSzF9GISAKDX8ywA16xZo549eyo8PFyGYWjJkiU+b09LS1NcXJyuueYaGYahjIyMQt8GACyeACAAdMMAIAB0NAAHJqnF0BTTixkIAL2eZwG4fPlyTZ48WWlpaX4B+I9//EPTpk3Ta6+9BgAdFgAEgG4YAASAAPD/9dJLL+nGG29UxYoVVbFiRbVp00bLly+/7PssWrRIDRs2VGhoqBo2bKjFixcXxV1ABcyzALw4fwDM6cCBAwDQYQFAAOiGAUAA6GQANhswUy2HzDO9ZgMKd6wffPCBli1bpr1792rv3r2aNGmSSpcurZ07d/q9/vr16xUcHKykpCTt3r1bSUlJCgkJ0caNG4vy7qDLBAALAcCsrCydOHEid5mZmQCwGAKAANANA4AA0NEAfGCmWg6eZ3rNHrB+rFWqVNHrr7/u9219+/ZVfHy8z2XdunVTv379TN8eFS4AWAgAJiYmyjCMPAOARZvdD6wRr9u7qPlJtq/unHm2rtG4FFvXYIr9q5Myz949Z++s/Aw5s7PykqUbZsfX1RU1ADMzM32e+MjKyrriMfz222965513FBoaql27dvm9Tu3atZWSkuJzWUpKiiIiIorkfqArBwB5BtBxAUAACAABoBdnJwCb3z9TrQbNM73m98/0+4RHYmJivre9fft2lS9fXsHBwapcubKWLVuW73VLly6tBQsW+Fy2YMEChYaGFtVdQVcIAPI1gI4LAAJAAAgAvThbAdh/plo9OM/0mvcv/DOAZ8+e1b59+7RlyxZNmDBB1157bb7PAJYuXVpvv/22z2Xz589XWFhYkd4flH8AEAA6LgAIAAEgAPTi3AhAK8fauXNnDR8+3O/beAk48HkWgKdOnVJGRoYyMjJkGIZSUlKUkZGhQ4cOSZJ+/vlnZWRkaNmyZTIMQ++++64yMjJ09OjRAt8GACyeACAABIAA0IuzE4At7pupmxLmmV6L+6wDsFOnTkpISPD7tr59+6p79+4+l8XHx/NNIDbmWQCmp6f7/fqFnL+Mqamphf76hksDgMUTAASAABAAenG2ArDfTN00cJ7ptehXOABOnDhRa9eu1YEDB7R9+3ZNmjRJpUqV0sqVKyVJAwYM0IQJE3Kvv27dOgUHBys5OVm7d+9WcnIyPwbG5jwLQDsCgMUTAASAABAAenF2ArDlvTNt/ZE1gwcPVmRkpEJDQ1W1alV17tw5F3+SFBsbm+fZwIULF6p+/foqXbq0GjRooLS0tKK8K+gKAUALAcDiCQACQAAIAL04LwOQ3BcAtBAALJ4AIAAEgADQi7MVgH1n6uYH5pley74A0OsBQAsBwOIJAAJAAAgAvTi7Adj6/nmmBwC9HwC0EAAsngAgAASAANCLA4DkpACghQBg8QQAASAABIBenK0A/MMMte4/1/Ra/mEGj28eDwBaCAAWTwAQAAJAAOjF2QnAVvfMUJv75ppeq3sAoNcDgBYCgMUTAASAABAAenEAkJwUALQQACyeACAABIAA0IuzFYB3z1CbfnNNr9XdANDrAUALAcDiCQACQAAIAL04OwF4U58Zatt3rund1AcAej0AaCEAWDwBQAAIAAGgFwcAyUkBQAsBwOIJAAJAAAgAvThbAXjnDLX9w1zTu+lOAOj1AKCFAGDxBAABIAAEgF6cnQC8ufcMtbtnrund3BsAej0AaCEAWDwBQAAIAAGgF2crAHs9o3Z3zzG9m3s9w+ObxwOAFgKAxRMABIAAEAB6cQCQnBQAtBAALJ4AIAAEgADQi7MTgK3veEa33DXH9FrfAQC9HgC0EAAsngAgAASAANCLsxWAPZ/RLX3mmF7rngDQ6wFACwHA4gkAAkAACAC9OABITgoAWggAFk8AEAACQADoxdkJwDY9ntGtd84xvTY9AKDXA4AWAoDFEwAEgAAQAHpxtgLw9um6tfds02tz+3Qe3zweALQQACyeACAABIAA0IsDgOSkAKCFAGDxBAABIAAEgF6cnQBs2326bus12/TadgeAXg8AWggAFk+2A9Dm1ZuWYvtiHvP2mj9k/5r80d41H27vWj04LyALNNI8A8D46brtjtmm1zYeAHo9AGghAOiNAKD7BwC9A0AvZ8djBgCkggYALQQAvREAdP8AIAB0Q3YCsF236Wrfc7bptesGAL0eALQQAPRGAND9A4AA0A3ZCsCu09T+9lmm167rNB7fPB4AtBAA9EYA0P0DgADQDdkKwC7T1L77LNNr1wUAej0AaCEA6I0AoPsHAAGgGwKA5KQAoIUAoDcCgO4fAASAbshOAN7SZZpi42eZ3i0A0PMBQAsBQG8EAN0/AAgA3ZCtAOw8VbHdkk3v1OS1SAAAGuVJREFUls5TeXzzeADQQgDQGwFA9w8AAkA3BADJSQFACwFAbwQA3T8ACADdkJ0AvLXTVHWISza9WzsBQK8HAC0EAL0RAHT/ACAAdEO2ArDjVHXommx6t3YEgF4PAFoIAHojAOj+AUAA6IYAIDkpAGghAOiNAKD7BwABoBuyE4C3dUhUxy7Pmt5tHRJ5fPN4ANBCANAbAUD3DwACQDdkKwDbJ6pjp2dN77b2ANDrAUALAUBvBADdPwAIAN0QACQnBQAtBAC9EQB0/wAgAHRDdgKw/W1Pq1PHJNNrf9vTPL55PABoIQDojQCg+wcAAaAbshWAtz6tTh2STK/9rQDQ6wFACwFAbwQA3T8ACADdkK0AvOUpdYqdaXrtb3mKxzePBwAtBAC9EQB0/wAgAHRDAJCcFAC0EAD0RgDQ/QOAANAN2QnA2HZPqXP7maYX2w4Aej0AaCEA6I0AoPsHAAGgG7IVgG2nqPNtM0wvtu0UHt88HgC0EAD0RgDQ/QOAANANAUByUgDQQgDQGwFA9w8AAkA3ZCcAO7Seoi63zDC9Dq0BoNcDgBYCgN4IALp/ABAAuiFbAXjzZHVp94zpdbh5Mo9vHg8AWggAeiMA6P4BQADohgAgOSnPAnDNmjXq2bOnwsPDZRiGlixZ4vP27OxsJSYmKjw8XGXKlFFsbKx27txZqNsAgN4IALp/ABAAuiFbAXjTZHVp+4zpdbipcABMSkpSq1atVKFCBVWtWlW9e/fWnj17Lvs+qampMgwjz86cOVMUdwVdIc8CcPny5Zo8ebLS0tL8AjA5OVkVK1ZUWlqaduzYoXvvvVfh4eE6efJkgW8DAHojAOj+AUAA6IbsBGDHVpPUtc100+vYalKhjrVbt25KTU3Vzp07tW3bNvXo0UMRERE6ffp0vu+TmpqqSpUq6ejRoz4je/IsAC/uUgBmZ2erRo0aSk5Ozr0sKytLlStX1iuvvFLgjwsAvREAdP8AIAB0Q14G4KUdO3ZMhmFozZo1+V4nNTVVlStXNnuqZLESCcD9+/fLMAxt3brV53q9evXSwIED8/04WVlZOnHiRO4yMzMBoAcCgO4fAASAbshWALacqK6tp5lex5YTLR3rvn37ZBiGduzYke91UlNTFRwcrIiICNWqVUs9evTI87hMxVeJBOC6detkGIaOHDnic71hw4YpLi4u34+TmJjo9+sVAKC7KwkAtBtHzR62dy2G2b829821de3unmP7AGDRZisAW0xU15ummV7HFr8DMDMz0+eJj6ysrCseQ3Z2tu644w7deuutl73ehg0b9NZbb2nbtm1au3at7r77bpUtW1Zff/11Ud0ddJlKNAC///57n+sNHTpU3bp1y/fj8AwguTUACADNjIo2OwHYqfkExbWaanqdmk/w+4RHYmLiFY/hkUceUWRkpDIzMwt17BcuXFBMTIxGjhxp8uypMJVIAJp9CfjS+BpAcksAEAACwMDnRgAW9hnAxx57TNddd52+/fZbU8c/dOhQxcfHm3pfKlwlEoA53wQya9as3MvOnj3LN4GQZwOAABAABj5bAdhsguJaJppep2YTCnWs2dnZevTRR1WzZk3TL+FmZ2erVatWGjRokKn3p8LlWQCeOnVKGRkZysjIkGEYSklJUUZGhg4dOiTp9x8DU7lyZS1evFg7duzQfffdx4+BIc8GAAEgAAx8tgIwZrziWjxtep1ixhfqWB9++GFVrlxZq1ev9vmRLr/++mvudQYMGKAJEybk/nnq1KlasWKF9u/fr4yMDA0aNEghISHatGlTkd8vlDfPAjA9Pd3v1y8kJCRI+n8/CLpGjRoKCwtT+/btL/vdSv4CgOSWACAABICBz8sA9Pd4axiGUlNTc68TGxub+xgsSaNHj1ZERIRCQ0NVtWpVxcXFaf369UV8j1B+eRaAdgQAyS0BQAAIAAOfrQC8cbzimj1tep1uLBwAyX0BQAsBQHJLABAAAsDAZycAOzcZp24xT5le5ybjeHzzeADQQgCQ3BIABIAAMPABQHJSANBCAJDcEgAEgAAw8NkKwMZPqlvTKabXufGTPL55PABoIQBIbgkAAkAAGPhsBWCjJ9Ttxsmm17nREzy+eTwAaCEASG4JAAJAABj4bAVgw7Hq1mSS6XVuOJbHN48HAC0EAMktAUAACAADHwAkJwUALQQAyS0BQAAIAAOfrQCsP1bdGk0yvc71AaDXA4AWAoDklgAgAASAgc9OAHap90fFN5xoel3q/ZHHN48HAC0EAMktAUAACAADHwAkJwUALQQAyS0BQAAIAAOfrQCMHqP4BhNMr0v0GB7fPB4AtBAAJLcEAAEgAAx8tgLw+tGKrzfe9LpcP5rHN48HAC0EAMktAUAACAADHwAkJwUALQQAyS0BQAAIAAOfrQCs+7jio8eZXpe6j/P45vEAoIUAILklAAgAAWDgsxeAoxR/w5Om16XuKB7fPB4AtBAAJLcEAAEgAAx8AJCcFAC0EAAktwQAASAADHy2ArDOSMVf/4Tpdakzksc3jwcALQQAyS0BQAAIAAOfrQCMfEzxdcaaXpfIx3h883gA0EIAkNwSAASAADDw2QrAiEcUHzXG9LpEPMLjm8cDgBYCgOSWACAABICBDwCSkwKAFgKA5JYAIAAEgIHPVgDWfljxkaNNr0vth3l883gA0EIAkNwSAASAADDw2QrAWg8pvvbjptel1kM8vnk8AGghAEhuqeWQebau1YP2zm6Mtblvrm7pM8f2AUB3BwDJSQFACwFAcksA0BsAJHdnKwBrjlD8daNMr0vNETy+eTwAaCEASG4JAAJACny2AjB8hOJrjTS9LuEA0OsBQAsBQHJLABAAUuADgOSkAKCFACC5JQAIACnw2QrAGsMVX/Mx0+tSYziPbx4PAFoIAJJbAoAAkAKfrQCsNlTxNR4xvS7VhvL45vEAoIUAILklAAgAKfABQHJSANBCAJDcEgAEgBT4bAVg1SGKr/6w6XWpOoTHN48HAC0EAMktAUAASIHPVgBeO1jx1R4yvS7XDubxzeMBQAsBQHJLABAAUuCzFYBXD1L8tSNMr8vVg3h883gA0EIAkNwSAASAFPgAIDkpAGghAEhuCQACQAp8dgKwc5UEdbtmmOl1rpLA45vHA4AWAoDklgAgAKTAZysArxqoblWGml7nqwby+ObxAKCFACC5JQAIACnwAUByUgDQQgCQ3BIABIAU+GwFYOUB6nbVENPrXHkAj28eDwBaCACSWwKAAJACn60ArHi/ulUaZHqdK97P45vHA4AWAoDklgAgAKTABwDJSQFACwFAcksAEABS4LMVgBX6q1vFB02vc4X+PL55PABoIQBIbgkAAkAKfHYCsFO5foorP9D0OpXrx+ObxwOAFgKA5JYAIACkwAcAyUkBQAsBQHJLABAAUuCzFYBl71VcuQGm16nsvTy+eTwAaCEASG4JAAJACny2AjCsr+LKPGB6ncL68vjm8QCghQAguSUACAAp8NkKwNA/KC6sv+l1Cv0Dj28eDwBaCACSWwKAAJACHwAkJwUALQQAyS0BQABIgc9OAHYMuUddS99neh1D7uHxzeOVaACePHlSjz/+uCIiIlSmTBm1bdtWmzdvLvD7A0BySwAQAFLgsxWAwXepa8i9ptcx+K5CHWtSUpJatWqlChUqqGrVqurdu7f27NlzxfdbtGiRGjZsqNDQUDVs2FCLFy+2ehdQASvRAOzbt68aNWqkNWvWaN++fUpMTFSlSpX03XffFej9ASC5JQAIACnweRmA3bp1U2pqqnbu3Klt27apR48eioiI0OnTp/N9n/Xr1ys4OFhJSUnavXu3kpKSFBISoo0bNxbV3UGXqcQC8Ndff1VwcLCWLl3qc3lMTIwmT55coI8BAMktAUAASIHPTgB2COqjLqX6ml6HoD6WjvXYsWMyDENr1qzJ9zp9+/ZVfHy8z2XdunVTv379TN0mFa4SC8CTJ0/KMAx99NFHPpe3adNGsbGxft8nKytLJ06cyN3hw4dlGIYyMzN9LmfMaWs2YKata97f3rW6Z4bta93zGdsX6L9HzNoyMzNlGIaOHz9ebI9tJ078DsBbjdvVwehtercat/t9fMvKyirQcezbt0+GYWjHjh35Xqd27dpKSUnxuSwlJUURERGW7gMqWCUWgJLUtm1bxcbG6siRI/rtt9/01ltvKSgoSPXq1fN7/cTERBmGwRhjjJleZmZmsT2unTlzRjVq1CiS46xQoUKeyxITE694DNnZ2brjjjt06623XvZ6pUuX1oIFC3wuW7BggUJDQ63cBVTASjQAv/nmG7Vv316GYSg4OFg33XST7r//fjVs2NDv9S99BvCXX37R/v37dfz4cVv/36OXn3HkHN0/r58f5+iNBeL8jh8/rszMTF24cKFYH9vOnDlTZMd76WUFeQbwkUceUWRk5BWhW7p0ab399ts+l82fP19hYWGWzp8KVokGYE6nT5/W999/L+n3r0m4/fbbA3xE/jtxwvtfc8g5uj+vn5/EOXohr59foHrsscd03XXX6dtvv73idXkJOLABwIv673//q8qVK+vVV18N9KH4rST8g8U5uj+vn5/EOXohr5+f3WVnZ+vRRx9VzZo19fXXXxfoffr27avu3bv7XBYfH883gdhUiQbgihUr9OGHH+rbb7/VypUrFRMTo5tvvlnnzp0L9KH5rST8g8U5uj+vn5/EOXohr5+f3T388MOqXLmyVq9eraNHj+bu119/zb3OgAEDNGHChNw/r1u3TsHBwUpOTtbu3buVnJzMj4GxsRINwPfee09169ZVaGioatSooUcffbRYvzvLallZWUpMTCzwd2G5Mc7R/Xn9/CTO0Qt5/fzsLr9vJElNTc29TmxsrBISEnzeb+HChapfv75Kly6tBg0aKC0tzd4DL8GVaAASERERlcQAIBEREVEJCwASERERlbAAIBEREVEJCwASERERlbAAoANas2aNevbsqfDwcBmGoSVLlvi8PTs7W4mJiQoPD1eZMmUUGxurnTt35r79wIEDGjx4sKKiolSmTBnVrVtXTz/9tM6ePWv3qfjN6vlJ0h133KHatWsrLCxMNWrU0AMPPKAjR47YeRqXrSjOMaesrCzFxMTIMAxlZGTYcfgFqijOMTIyMs93CY4fP97O08i3ovpvuHTpUt18880qU6aMrrnmGvXp08euU7hiVs8xPT093+/23Lx5s92n47ei+O+4d+9e9erVS9dcc40qVqyodu3a6ZNPPrHzNIiKPQDogJYvX67JkycrLS3N7z9YycnJqlixotLS0rRjxw7de++9Cg8P18mTJyVJH374oR588EH9+9//1v79+/X++++rWrVqGjt2bCBOJ09Wz0/6/afDb9iwQQcPHtS6devUtm1btW3b1u5TybeiOMecRo0ape7duzsOgEVxjpGRkZo+fbrPzwk7deqU3afit6I4v0WLFqlKlSp6+eWXtXfvXu3Zs0cLFy60+1Tyzeo5nj171ue/3dGjRzV06FBFRUUpOzs7EKeUp6L473jDDTfo9ttv15dffqmvv/5ajzzyiMqVK6ejR4/afTpExRYAdFiX/oOVnZ2tGjVqKDk5OfeyrKwsVa5cWa+88kq+H2f27NmqU6dOsR6rmYrq/N5//30FBQU58od2WznH5cuXq0GDBtq1a5fjAHhxZs8xMjJSzz33nK3HaiYz53f+/HnVqlVLr7/+uu3Ha6ai+Fw8d+6cqlWrpunTpxf78ZrJzDn++OOPMgxDa9euzb3OyZMnZRiGPvroI/sOnqiYA4AO69J/sPbv3y/DMLR161af6/Xq1UsDBw7M9+NMnjxZLVu2LLbjNFtRnN/PP/+svn376pZbbinWYzWb2XP8z3/+o1q1amnLli06cOCAqwBY0HOMjIxUjRo1dPXVVysmJkYzZsxwzJcqXJyZ89u0aZMMw9Df/vY3NWvWTDVq1FB8fHy+L/UHuqL4XFy0aJFKlSqlw4cPF+uxms3MOWZnZ6thw4YaOnSoTp8+rfPnz2vOnDmqXr26fvnlF1uPn6g4A4AO69J/sNatWyfj/2vvXkOaeuM4gD9qY15wy5lWdrHIS/VCg6CLRVGUs16oBUEK5QszjArpDhaEpjQrEulG+cIIIqphNwgNKdOyi5mWYGoWXla+UKMrWFv7/l+E5+9pWrpNt7bvB/bibOec5/mdM7cvPuc8E8Liere0tDTExsYOuI+WlhaoVCoUFhaOaF+tYUt9e/fuha+vL4QQWLBgAbq7u0elz8NlTY1msxlxcXE4dOgQAPxzAXCo5/H48eMoLy/HixcvUFhYiHHjxiE1NXXU+j1U1tR36dIlCCEwdepU6PV6PHv2DElJSQgMDERPT8+o9n8o7PFZs2rVKovfcnUm1tZoMBgwd+5ceHh4wMvLCyEhIU77t0hkLQZAJzPYB9b79+9l623atAlardZi+3fv3iEsLMwpv1QB2+rr6upCU1MT7ty5g0WLFmH16tVOc91Rf9bUWFBQgJiYGJhMJgD/bgAc6vu0j16vhxDC6cK8NfVdvHgRQgicPXtWer23txfjxo374+UMjmLrOezo6ICnpyf0ev2I99Va1tRoNpsRHx+PVatW4cGDB6ipqcGWLVswadIki+2I/mUMgE7GlmGZd+/eISIiAhs2bMDPnz9Hpb/DZa8h7o6ODgghUFVVNWJ9tZY1NSYkJMDT0xNeXl7SQwgBLy+vPx4HR7HXeTQYDBBCON2Pv1tT3927dyGEQGVlpWydefPmITMzc+Q7PUy2nsPs7GwEBQU55XW4faypsaysDJ6envj06ZNsnbCwMBw+fHjkO000ShgAncxgFy3n5eVJz33//t3iwmyDwYDw8HCsX79e+i+SM7K2vt+1t7dDCIF79+6NZHetYk2NbW1tqK+vlx6lpaUQQkCv16Ojo2PUa/gbe53HW7duQQiBtra2Ee3vcFlT36dPn6BUKmU3gfTdJNH/v4LOwpZzaDabMX36dKeZaWAw1tR48+ZNeHp6WtydHhERgdzc3NHpONEoYAB0Al++fEFtbS1qa2shhMDx48dRW1srfSnqdDqo1WoUFxejvr4eSUlJsmkL+oZ9ly9fDoPBIJuiwRnYWt+TJ09w4sQJ1NbWorW1FXfv3sXixYsxY8YM9Pb2OrI0ia01/s4Zh4BtrbGqqkra5u3bt7h8+TJCQkIQHx/vyLIk9jiHGRkZmDRpEkpLS9HY2IjU1FQEBwfjw4cPjipLxl7v07KyMggh0NDQ4Igy/sjWGru6uhAYGIi1a9eirq4OTU1N2L17NxQKBerq6hxZGpFdMQA6gcEmV01JSQHw/8SlEyZMgFKpxJIlS1BfXy9tX1RUNOjkrM7A1vpevnyJZcuWQaPRQKlUYtq0aUhPT4fBYHBQRZZsrfF3zhgAba2xpqYG8+fPh1qthre3NyIjI3Hw4EF8+/bNQRXJ2eMc/vjxA7t27UJwcDD8/f2xYsUKp7oL2F7v06SkJMTExIxy74fGHjVWV1cjNjYWGo0G/v7+WLBgAW7fvu2AaohGjnMkBCIiIiIaNQyARERERG6GAZCIiIjIzTAAEhEREbkZBkAiIiIiN8MASERERORmGACJiIiI3AwDIBEREZGbYQAkclFLly5FRkaGy7SZkpKChISEEdk3EZG7YQAkclGOCIA9PT2ynw0LDQ1Ffn6+XfbNAEhEZD8MgEQuyhEB8HcMgEREzokBkMhF9Q+AHz58wIYNGzB27Fj4+PggLi4Ozc3N0rpFRUVQq9UoKSnBzJkz4efnB61Wi/fv30vrGI1GbN++HWq1GhqNBnv37sXGjRtloax/m0uXLh3wt6kPHjyI6OhoWV/z8/MRGhoqLZtMJuzYsUNqa8+ePRZtmc1m5OXlYfr06fD29kZUVBSuXr1qvwNIROTCGACJXFT/MBYfH49Zs2ahoqICdXV10Gq1CAsLw48fPwD8CoAKhQIrVqxAdXU1ampqMGvWLCQnJ0v7y8nJgUajQXFxMV69eoX09HSoVKpBA2BPTw8mT56M7OxsdHZ2orOzE8DQAmBeXh7UajX0ej0aGhqQmpoKf39/WVuZmZmYOXMmSkpK8ObNGxQVFUGpVKK8vNy+B5KIyAUxABK5qL4w1tzcDCEEHj58KL3W3d0NHx8fXLlyBcCvACiEQEtLi7TOqVOnMH78eGl5/PjxOHr0qLRsMpkwderUQQMgMPAQ8FAC4MSJE6HT6aRlo9GIyZMnS219/foV3t7eqKqqku0nNTUVSUlJfz84RERujgGQyEX1hbEbN25gzJgxMJlMstfnzJmDrKwsAL8CoK+vr+z14uJieHh4AAA+fvwIIQTu378vW2fNmjV2D4CDtZWYmCi19fTpUwgh4OfnJ3soFArMmzdvSMeHiMidMQASuai+MHb9+vUBA2B0dDSys7MB/H8NYH/Xrl2TrtvrC2UVFRWydfqHsv5t9hkoAGZlZSEqKkr23JEjR4YVAB8/fgwhBMrLy/H69WvZo729fUjHh4jInTEAErmooQwB99008bcACPwaAj527Ji0bDKZEBoa+scAGB4eLtsGAE6fPo3g4GCYzWbpueTkZIsh4Ly8PGnZaDRiypQpUlufP3+GUqnEhQsXhnVMiIjoFwZAIhfVP4wlJCRg9uzZqKysRF1dHeLi4ixuAvlbAMzJyUFgYCCuX7+OxsZGbN26FSqVComJiQO2CQArV65EfHw8DAYDurq6AAANDQ3w8PCATqdDS0sLTp48iYCAAFkA1Ol0CAgIkG44SUtLs7gJZP/+/QgMDMT58+fR0tKC58+f4+TJkzh//rz9DiIRkYtiACRyUQNNA6NWq+Hj4wOtVjvgNDD9/R4AjUYjtm3bBpVKhYCAAOzbtw/r1q3D+vXrB2wTAB49eoSoqCgolUrZvs6cOYMpU6bAz88PGzduRG5uriwAGo1GZGRkQKVSYezYsdi5c+eA08AUFBQgMjISCoUCQUFB0Gq1FkPHRERkiQGQiKzy8+dPRERE4MCBA47uChERDRMDIBENSWtrK86dO4empia8fPkSmzdvhkKhQENDg6O7RkREw8QASERD0t7ejpiYGKhUKvj7+2PhwoUcbiUi+kcxABIRERG5GQZAIiIiIjfDAEhERETkZhgAiYiIiNwMAyARERGRm2EAJCIiInIzDIBEREREboYBkIiIiMjNMAASERERuRkGQCIiIiI38x9kiJ5njWLBcQAAAABJRU5ErkJggg==\" width=\"640\">"
      ],
      "text/plain": [
       "<IPython.core.display.HTML object>"
      ]
     },
     "metadata": {},
     "output_type": "display_data"
    },
    {
     "data": {
      "text/plain": [
       "<matplotlib.collections.QuadMesh at 0x7fdbd2d79d68>"
      ]
     },
     "execution_count": 7,
     "metadata": {},
     "output_type": "execute_result"
    }
   ],
   "source": [
    "test02.PET.isel(time = 0).plot()\n"
   ]
  },
  {
   "cell_type": "code",
   "execution_count": 10,
   "metadata": {
    "ExecuteTime": {
     "end_time": "2018-06-28T06:18:01.334852Z",
     "start_time": "2018-06-28T06:18:01.331703Z"
    }
   },
   "outputs": [],
   "source": [
    "# test03=test02\n",
    "# test03.temperature.attrs['nodata'] = 'nan'\n",
    "# test03['temperature'] = test03.temperature.where(test03.temperature<1000)\n",
    "# # test03 = test03.fillna(-9999)"
   ]
  },
  {
   "cell_type": "code",
   "execution_count": null,
   "metadata": {
    "ExecuteTime": {
     "end_time": "2018-06-26T00:00:17.573506Z",
     "start_time": "2018-06-26T00:00:17.567685Z"
    }
   },
   "outputs": [],
   "source": [
    "# test03.to_netcdf(path = '/g/data/u46/users/ext547/ewater/input_data/test/output.nc')"
   ]
  },
  {
   "cell_type": "code",
   "execution_count": null,
   "metadata": {},
   "outputs": [],
   "source": [
    "# con.Tair.attrs['nodata'] = 'nan'\n",
    "con02['Tair'] = con.Tair.where(con.Tair<1000)\n",
    "# con02 = con02.fillna(-9999)"
   ]
  },
  {
   "cell_type": "code",
   "execution_count": null,
   "metadata": {
    "ExecuteTime": {
     "end_time": "2018-06-25T03:17:54.391644Z",
     "start_time": "2018-06-25T03:17:54.377464Z"
    }
   },
   "outputs": [],
   "source": [
    "test03.temperature"
   ]
  },
  {
   "cell_type": "code",
   "execution_count": null,
   "metadata": {
    "ExecuteTime": {
     "end_time": "2018-06-25T04:34:03.201752Z",
     "start_time": "2018-06-25T04:34:03.195849Z"
    }
   },
   "outputs": [],
   "source": [
    "int(test02.temperature.isel(time = 0, latitude = 12, longitude =13 ).values)"
   ]
  },
  {
   "cell_type": "code",
   "execution_count": null,
   "metadata": {
    "ExecuteTime": {
     "end_time": "2018-06-25T04:36:42.365361Z",
     "start_time": "2018-06-25T04:36:42.292077Z"
    }
   },
   "outputs": [],
   "source": [
    "#plt.imshow(test02.temperature.isel(time = 0))\n",
    "test01.PET.isel(time = 0).plot()"
   ]
  },
  {
   "cell_type": "code",
   "execution_count": null,
   "metadata": {
    "ExecuteTime": {
     "end_time": "2018-06-14T01:01:20.728518Z",
     "start_time": "2018-06-14T01:01:20.688604Z"
    }
   },
   "outputs": [],
   "source": [
    "#define wavelengths/bands of interest\n",
    "bands_of_interest = ['blue',\n",
    "                     'green',\n",
    "                     'red', \n",
    "                     'nir',\n",
    "                     'swir1', \n",
    "                     'pixel_qa',\n",
    "                     'swir2',\n",
    "                     ]\n",
    "\n",
    "start_of_epoch = '2016-01-01'\n",
    "end_of_epoch =  '2018-01-01'\n",
    "\n",
    "lat_max = 12.919 #up\n",
    "lat_min = 12.855 #down\n",
    "lon_min = 101.721 #left\n",
    "lon_max = 101.804 #right  1\n",
    "\n",
    "query = {'time': (start_of_epoch, end_of_epoch),}\n",
    "\n",
    "query['x'] = (lon_min, lon_max)\n",
    "query['y'] = (lat_max, lat_min)\n",
    "# query['crs'] = 'EPSG:4326'\n",
    "\n",
    "print(query)"
   ]
  },
  {
   "cell_type": "code",
   "execution_count": null,
   "metadata": {
    "ExecuteTime": {
     "end_time": "2018-05-28T22:23:34.397851Z",
     "start_time": "2018-05-28T22:23:34.394641Z"
    }
   },
   "outputs": [],
   "source": [
    "# #Total number of scenes in Cambodia Cube\n",
    "# ls8_datasets = cdc.find_datasets(product='ls8_usgs_sr_scene',**query)\n",
    "# ls7_datasets = cdc.find_datasets(product='ls7_usgs_sr_scene',**query)\n",
    "# ls5_datasets = cdc.find_datasets(product='ls5_usgs_sr_scene',**query)\n",
    "# print(len(ls8_datasets))\n",
    "# print(len(ls7_datasets))\n",
    "# print(len(ls5_datasets))\n",
    "\n",
    "\n",
    "# print (len(ls8_datasets)+len(ls7_datasets)+len(ls5_datasets))"
   ]
  },
  {
   "cell_type": "code",
   "execution_count": null,
   "metadata": {
    "ExecuteTime": {
     "end_time": "2018-06-20T05:54:58.334657Z",
     "start_time": "2018-06-20T05:42:46.826Z"
    }
   },
   "outputs": [],
   "source": [
    "# test02 = test02.where(test02.temperature<1000)"
   ]
  },
  {
   "cell_type": "code",
   "execution_count": null,
   "metadata": {
    "ExecuteTime": {
     "end_time": "2018-06-20T05:54:58.335653Z",
     "start_time": "2018-06-20T05:42:47.364Z"
    }
   },
   "outputs": [],
   "source": [
    "test02"
   ]
  },
  {
   "cell_type": "code",
   "execution_count": null,
   "metadata": {
    "ExecuteTime": {
     "end_time": "2018-06-13T06:11:28.647461Z",
     "start_time": "2018-06-13T06:11:28.634995Z"
    }
   },
   "outputs": [],
   "source": [
    "# plt.imshow(test02.isel(time=0).temperature.values)\n",
    "# plt.show()"
   ]
  },
  {
   "cell_type": "code",
   "execution_count": null,
   "metadata": {
    "ExecuteTime": {
     "end_time": "2018-06-20T05:13:44.769999Z",
     "start_time": "2018-06-20T05:13:44.767293Z"
    }
   },
   "outputs": [],
   "source": [
    "# test02.elevation.isel(time = 0).plot()"
   ]
  },
  {
   "cell_type": "code",
   "execution_count": null,
   "metadata": {
    "ExecuteTime": {
     "end_time": "2018-06-25T03:02:51.229822Z",
     "start_time": "2018-06-25T03:02:51.225694Z"
    }
   },
   "outputs": [],
   "source": [
    "# plt.imshow(test02.isel(time=0).elevation)"
   ]
  },
  {
   "cell_type": "code",
   "execution_count": null,
   "metadata": {
    "ExecuteTime": {
     "end_time": "2018-06-13T05:15:13.336463Z",
     "start_time": "2018-06-13T05:15:13.323280Z"
    }
   },
   "outputs": [],
   "source": [
    "# rgb = test02.isel(time=0).to_array(dim='color').sel(color=['swir1',\n",
    "#                                                          'nir', 'green']).transpose('y', \n",
    "#                                                                                     'x', 'color')\n",
    "# fake_saturation = 6000.0\n",
    "# rgb = rgb.astype('double')\n",
    "# clipped_visible = rgb.where(rgb<fake_saturation).fillna(fake_saturation)\n",
    "# max_val = clipped_visible.max(['y', 'x'])\n",
    "# scaled = (clipped_visible / max_val)\n",
    "\n",
    "# plt.imshow(scaled)"
   ]
  },
  {
   "cell_type": "code",
   "execution_count": null,
   "metadata": {
    "ExecuteTime": {
     "end_time": "2018-05-16T04:31:59.313941Z",
     "start_time": "2018-05-16T04:31:59.226843Z"
    }
   },
   "outputs": [],
   "source": [
    "#Total number of scenes in Cambodia Cube\n",
    "ls8_datasets = cdc.find_datasets(product='ls8_usgs_sr_scene',**query)\n",
    "ls7_datasets = cdc.find_datasets(product='ls7_usgs_sr_scene',**query)\n",
    "ls5_datasets = cdc.find_datasets(product='ls5_usgs_sr_scene',**query)\n",
    "print(len(ls8_datasets)+len(ls7_datasets)+len(ls5_datasets))\n",
    "# ls8_datasets[0].metadata_doc"
   ]
  },
  {
   "cell_type": "code",
   "execution_count": null,
   "metadata": {
    "ExecuteTime": {
     "end_time": "2018-05-16T04:32:04.831911Z",
     "start_time": "2018-05-16T04:32:04.828767Z"
    }
   },
   "outputs": [],
   "source": [
    "# #query number of scenes in certain gm as per year query\n",
    "# gm_datasets = cdc.find_datasets(product='ls5_usgs_sr_scene',**query)\n",
    "# len(gm_datasets)"
   ]
  },
  {
   "cell_type": "code",
   "execution_count": null,
   "metadata": {
    "ExecuteTime": {
     "end_time": "2018-05-25T06:52:05.503096Z",
     "start_time": "2018-05-25T06:52:02.597140Z"
    }
   },
   "outputs": [],
   "source": [
    "temp_datasets = cdc.find_datasets(product='temperature_grids_1979_2016')#,**query)"
   ]
  },
  {
   "cell_type": "code",
   "execution_count": null,
   "metadata": {
    "ExecuteTime": {
     "end_time": "2018-05-25T06:52:17.989565Z",
     "start_time": "2018-05-25T06:52:17.985089Z"
    }
   },
   "outputs": [],
   "source": [
    "len(temp_datasets)"
   ]
  },
  {
   "cell_type": "code",
   "execution_count": null,
   "metadata": {
    "ExecuteTime": {
     "end_time": "2018-05-16T04:35:06.103448Z",
     "start_time": "2018-05-16T04:35:06.096448Z"
    }
   },
   "outputs": [],
   "source": [
    "# set cloud threshold. This value defines the amount of lansdcape/cloud allowed in each scene. \n",
    "# Scenes will not be retrieved that have less than the cloud threshold worth of image.\n",
    "#The default value is \"0.90\" or >90% image and <10% cloud cover\n",
    "cloud_free_threshold = 0.20\n",
    "\n",
    "\n",
    "# lat_min = 13.000 #down\n",
    "# lat_max = 13.500 #up\n",
    "# lon_min = 103.000 #left\n",
    "# lon_max = 103.500 #right  \n",
    "\n",
    "\n",
    "#define temporal range ()\n",
    "# start_of_epoch = '2014-01-01'\n",
    "# end_of_epoch =  '2015-01-01'\n",
    "\n",
    "# #define first time of interest\n",
    "# start_of_time01 = '2015-01-01'\n",
    "# end_of_time01 = '2016-05-01'\n",
    "\n",
    "# #define second time of interest\n",
    "# start_of_time02 = '2016-05-02'\n",
    "# end_of_time02 = '2017-12-31'\n",
    "\n",
    "# start_of_epoch = '2014-01-01'\n",
    "# end_of_epoch =  '2014-01-02'\n",
    "\n",
    "#define wavelengths/bands of interest\n",
    "bands_of_interest = ['blue',\n",
    "                     'green',\n",
    "                     'red', \n",
    "                     'nir',\n",
    "                     'swir1', \n",
    "                     'pixel_qa',\n",
    "                     'swir2',\n",
    "                     ]\n",
    "\n",
    "#define Landsat sensors of interest\n",
    "sensors = ['ls5',]\n",
    "#        'ls7',] \n",
    "\n",
    "#query is created\n",
    "# query = {'time': (start_of_epoch, end_of_epoch),}\n",
    "# query['x'] = (lon_min, lon_max)\n",
    "# query['y'] = (lat_max, lat_min)\n",
    "# query['crs'] = 'EPSG:4326'\n",
    "\n",
    "print(query)"
   ]
  },
  {
   "cell_type": "code",
   "execution_count": null,
   "metadata": {
    "ExecuteTime": {
     "end_time": "2018-05-16T04:28:06.080970Z",
     "start_time": "2018-05-16T04:28:06.077966Z"
    }
   },
   "outputs": [],
   "source": [
    "# #define temporal range ()\n",
    "# start_of_epoch = '2014-01-01'\n",
    "# end_of_epoch =  '2014-02-01'\n",
    "# query = {'time': (start_of_epoch, end_of_epoch),}"
   ]
  },
  {
   "cell_type": "code",
   "execution_count": null,
   "metadata": {
    "ExecuteTime": {
     "end_time": "2018-05-08T04:41:41.753294Z",
     "start_time": "2018-05-08T04:41:41.730571Z"
    }
   },
   "outputs": [],
   "source": [
    "test.y[0]"
   ]
  },
  {
   "cell_type": "code",
   "execution_count": null,
   "metadata": {
    "ExecuteTime": {
     "end_time": "2018-05-08T04:36:10.837465Z",
     "start_time": "2018-05-08T04:36:10.825791Z"
    }
   },
   "outputs": [],
   "source": [
    "test02.isel(time=0).pixel_qa"
   ]
  },
  {
   "cell_type": "code",
   "execution_count": null,
   "metadata": {
    "ExecuteTime": {
     "end_time": "2018-06-13T05:15:41.133175Z",
     "start_time": "2018-06-13T05:15:41.122863Z"
    }
   },
   "outputs": [],
   "source": [
    "# plt.imshow(test02.isel(time=0).pixel_qa)"
   ]
  },
  {
   "cell_type": "code",
   "execution_count": null,
   "metadata": {
    "ExecuteTime": {
     "end_time": "2018-05-08T04:41:20.783993Z",
     "start_time": "2018-05-08T04:41:19.847776Z"
    }
   },
   "outputs": [],
   "source": [
    "test= cdc.load(product='ls_level2_geomedian_annual',**query)"
   ]
  },
  {
   "cell_type": "code",
   "execution_count": null,
   "metadata": {
    "ExecuteTime": {
     "end_time": "2018-05-08T04:41:20.808338Z",
     "start_time": "2018-05-08T04:41:20.786764Z"
    }
   },
   "outputs": [],
   "source": [
    "test"
   ]
  },
  {
   "cell_type": "code",
   "execution_count": null,
   "metadata": {
    "ExecuteTime": {
     "end_time": "2018-05-08T04:32:02.222247Z",
     "start_time": "2018-05-08T04:32:02.199935Z"
    }
   },
   "outputs": [],
   "source": [
    "test.isel(time=0).to_array(dim='color').sel(color=['swir1','nir', 'green']).transpose('y', 'x', 'color')"
   ]
  },
  {
   "cell_type": "code",
   "execution_count": null,
   "metadata": {
    "ExecuteTime": {
     "end_time": "2018-06-13T05:15:47.185267Z",
     "start_time": "2018-06-13T05:15:47.182064Z"
    }
   },
   "outputs": [],
   "source": [
    "# rgb = test.isel(time=0).to_array(dim='color').sel(color=['swir1',\n",
    "#                                                          'nir', 'green']).transpose('y', \n",
    "#                                                                                     'x', 'color')\n",
    "# fake_saturation = 6000.0\n",
    "# rgb = rgb.astype('double')\n",
    "# clipped_visible = rgb.where(rgb<fake_saturation).fillna(fake_saturation)\n",
    "# max_val = clipped_visible.max(['y', 'x'])\n",
    "# scaled = (clipped_visible / max_val)\n",
    "\n",
    "# plt.imshow(scaled)"
   ]
  },
  {
   "cell_type": "code",
   "execution_count": null,
   "metadata": {
    "ExecuteTime": {
     "end_time": "2018-05-02T04:20:00.404860Z",
     "start_time": "2018-05-02T04:20:00.396292Z"
    }
   },
   "outputs": [],
   "source": [
    "test.rainfall.max()"
   ]
  },
  {
   "cell_type": "code",
   "execution_count": null,
   "metadata": {
    "ExecuteTime": {
     "end_time": "2018-05-02T03:29:36.515154Z",
     "start_time": "2018-05-02T03:29:36.508512Z"
    }
   },
   "outputs": [],
   "source": [
    "test.latitude.min()"
   ]
  },
  {
   "cell_type": "code",
   "execution_count": null,
   "metadata": {
    "ExecuteTime": {
     "end_time": "2018-04-30T07:05:40.823746Z",
     "start_time": "2018-04-30T07:04:51.718452Z"
    }
   },
   "outputs": [],
   "source": [
    "test= cdc.load(product='ls8_usgs_sr_scene',**query)\n",
    "# test= test.squeeze()\n",
    "test"
   ]
  },
  {
   "cell_type": "code",
   "execution_count": null,
   "metadata": {
    "ExecuteTime": {
     "end_time": "2018-03-26T00:55:31.789050Z",
     "start_time": "2018-03-26T00:55:31.784654Z"
    },
    "scrolled": false
   },
   "outputs": [],
   "source": [
    "# three_band_image_subplots(test, ['red','green','blue'], 2, figsize = [30,50])"
   ]
  },
  {
   "cell_type": "code",
   "execution_count": null,
   "metadata": {},
   "outputs": [],
   "source": []
  },
  {
   "cell_type": "code",
   "execution_count": null,
   "metadata": {},
   "outputs": [],
   "source": []
  },
  {
   "cell_type": "code",
   "execution_count": null,
   "metadata": {
    "ExecuteTime": {
     "end_time": "2018-04-23T07:06:47.447380Z",
     "start_time": "2018-04-23T07:06:47.247381Z"
    }
   },
   "outputs": [],
   "source": [
    "# sensor_nbar[0].metadata_doc"
   ]
  },
  {
   "cell_type": "code",
   "execution_count": null,
   "metadata": {
    "ExecuteTime": {
     "end_time": "2018-04-23T07:06:58.135735Z",
     "start_time": "2018-04-23T07:06:58.132672Z"
    }
   },
   "outputs": [],
   "source": [
    "# cdc.load(product='ls7_usgs_sr_scene')"
   ]
  },
  {
   "cell_type": "code",
   "execution_count": null,
   "metadata": {
    "ExecuteTime": {
     "end_time": "2018-04-23T07:06:58.756033Z",
     "start_time": "2018-04-23T07:06:58.746479Z"
    }
   },
   "outputs": [],
   "source": [
    "blah=list(cdc.index.products.search())[1]"
   ]
  },
  {
   "cell_type": "code",
   "execution_count": null,
   "metadata": {
    "ExecuteTime": {
     "end_time": "2018-04-23T07:07:00.196100Z",
     "start_time": "2018-04-23T07:07:00.184841Z"
    }
   },
   "outputs": [],
   "source": [
    "blah.definition"
   ]
  },
  {
   "cell_type": "code",
   "execution_count": null,
   "metadata": {
    "ExecuteTime": {
     "end_time": "2018-05-02T06:26:02.725196Z",
     "start_time": "2018-05-02T06:26:02.168084Z"
    }
   },
   "outputs": [],
   "source": [
    "gm_all_datasets = cdc.find_datasets(product='ls_level2_geomedian_annual')\n",
    "len(gm_all_datasets)"
   ]
  },
  {
   "cell_type": "code",
   "execution_count": null,
   "metadata": {
    "ExecuteTime": {
     "end_time": "2018-05-02T06:28:05.291463Z",
     "start_time": "2018-05-02T06:28:05.234893Z"
    },
    "scrolled": false
   },
   "outputs": [],
   "source": [
    "ls7_datasets = cdc.find_datasets(product='ls7_usgs_sr_scene',**query)\n",
    "len(ls7_datasets)"
   ]
  },
  {
   "cell_type": "code",
   "execution_count": null,
   "metadata": {
    "ExecuteTime": {
     "end_time": "2018-03-07T23:37:09.236812Z",
     "start_time": "2018-03-07T23:37:09.234123Z"
    }
   },
   "outputs": [],
   "source": [
    "# list(cdc.index.users.list_users())"
   ]
  },
  {
   "cell_type": "code",
   "execution_count": null,
   "metadata": {
    "ExecuteTime": {
     "end_time": "2018-06-13T01:08:03.101731Z",
     "start_time": "2018-06-13T01:08:03.096842Z"
    }
   },
   "outputs": [],
   "source": [
    "#define temporal range ()\n",
    "start_of_epoch = '1969-01-01'\n",
    "end_of_epoch =  '2018-01-01'\n",
    "query = {'time': (start_of_epoch, end_of_epoch),}\n",
    "print(query)"
   ]
  },
  {
   "cell_type": "code",
   "execution_count": null,
   "metadata": {
    "ExecuteTime": {
     "end_time": "2018-05-17T04:11:53.727310Z",
     "start_time": "2018-05-17T04:11:53.695216Z"
    }
   },
   "outputs": [],
   "source": [
    "ls8_datasets = cdc.find_datasets(product='ls8_usgs_sr_scene',**query)\n",
    "ls7_datasets = cdc.find_datasets(product='ls7_usgs_sr_scene',**query)\n",
    "ls5_datasets = cdc.find_datasets(product='ls5_usgs_sr_scene',**query)\n",
    "print(len(ls5_datasets)+len(ls7_datasets)+len(ls8_datasets))\n",
    "# ls8_datasets[0].metadata_doc"
   ]
  },
  {
   "cell_type": "code",
   "execution_count": null,
   "metadata": {
    "ExecuteTime": {
     "end_time": "2018-06-27T01:40:29.416592Z",
     "start_time": "2018-06-27T01:40:29.388170Z"
    }
   },
   "outputs": [],
   "source": [
    "del_datasets = cdc.find_datasets(product='pet_grids_1979_2016')#,**query)\n",
    "len(del_datasets)"
   ]
  },
  {
   "cell_type": "code",
   "execution_count": null,
   "metadata": {
    "ExecuteTime": {
     "end_time": "2018-06-27T01:34:54.270111Z",
     "start_time": "2018-06-27T01:34:30.244850Z"
    }
   },
   "outputs": [],
   "source": [
    "# # #Remove all/certain files from database. WARNING.\n",
    "del_eager=[d.id for d in del_datasets]\n",
    "cdc.index.datasets.archive(del_eager)\n",
    "del_datasets = cdc.find_datasets(product='pet_grids_1979_2016')\n",
    "\n",
    "print(len(del_datasets))"
   ]
  },
  {
   "cell_type": "code",
   "execution_count": null,
   "metadata": {
    "ExecuteTime": {
     "end_time": "2018-05-10T01:56:45.985110Z",
     "start_time": "2018-05-10T01:56:45.979381Z"
    }
   },
   "outputs": [],
   "source": [
    "# # #Remove all files from database. WARNING.\n",
    "# ls7_eager=[d.id for d in ls7_datasets]\n",
    "# cdc.index.datasets.archive(ls7_eager)\n",
    "# print(len(ls7_datasets))"
   ]
  },
  {
   "cell_type": "code",
   "execution_count": null,
   "metadata": {
    "ExecuteTime": {
     "end_time": "2018-05-10T01:56:46.546251Z",
     "start_time": "2018-05-10T01:56:46.539580Z"
    }
   },
   "outputs": [],
   "source": [
    "# # #Remove all files from database. WARNING.\n",
    "# ls5_eager=[d.id for d in ls5_datasets]\n",
    "# cdc.index.datasets.archive(ls5_eager)\n",
    "# print(len(ls5_datasets))"
   ]
  },
  {
   "cell_type": "code",
   "execution_count": null,
   "metadata": {
    "ExecuteTime": {
     "end_time": "2018-05-03T02:51:01.967877Z",
     "start_time": "2018-05-03T02:50:48.724252Z"
    }
   },
   "outputs": [],
   "source": [
    "# # # Remove specific files from database. WARNING.\n",
    "# gm_eager=[d.id for d in cdc.index.datasets.search_eager(product='ls_level2_geomedian_annual')]#,**query)]\n",
    "# cdc.index.datasets.archive(gm_eager)"
   ]
  },
  {
   "cell_type": "code",
   "execution_count": null,
   "metadata": {
    "ExecuteTime": {
     "end_time": "2018-05-10T01:48:15.869298Z",
     "start_time": "2018-05-10T01:48:15.857194Z"
    }
   },
   "outputs": [],
   "source": [
    "# # Remove specific files from database. WARNING.\n",
    "# gm_eager=[d.id for d in gm_datasets]#cdc.index.datasets.search_eager(product='ls_level2_geomedian_annual',**query)]\n",
    "# cdc.index.datasets.archive(gm_eager)"
   ]
  },
  {
   "cell_type": "code",
   "execution_count": null,
   "metadata": {
    "ExecuteTime": {
     "end_time": "2018-05-10T01:48:24.176641Z",
     "start_time": "2018-05-10T01:48:24.162879Z"
    }
   },
   "outputs": [],
   "source": [
    "gm_eager"
   ]
  },
  {
   "cell_type": "code",
   "execution_count": null,
   "metadata": {
    "ExecuteTime": {
     "end_time": "2018-03-09T04:13:45.303155Z",
     "start_time": "2018-03-09T04:13:44.640081Z"
    }
   },
   "outputs": [],
   "source": [
    "# # Remove all files from database. WARNING.\n",
    "# ls7_eager=[d.id for d in cdc.index.datasets.search_eager(product='ls7_usgs_sr_scene')]\n",
    "# cdc.index.datasets.archive(ls7_eager)"
   ]
  },
  {
   "cell_type": "code",
   "execution_count": null,
   "metadata": {
    "ExecuteTime": {
     "end_time": "2018-03-09T04:13:49.105729Z",
     "start_time": "2018-03-09T04:13:48.291341Z"
    }
   },
   "outputs": [],
   "source": [
    "# # Remove all files from database. WARNING.\n",
    "# ls8_eager=[d.id for d in cdc.index.datasets.search_eager(product='ls8_usgs_sr_scene')]\n",
    "# cdc.index.datasets.archive(ls8_eager)"
   ]
  },
  {
   "cell_type": "code",
   "execution_count": null,
   "metadata": {
    "ExecuteTime": {
     "end_time": "2018-03-06T04:15:38.887850Z",
     "start_time": "2018-03-06T04:15:38.885110Z"
    }
   },
   "outputs": [],
   "source": [
    "# cdc_ls7= cdc.load(product='ls7_usgs_sr_scene')\n",
    "# cdc_ls8 = cdc.load(product='ls8_usgs_sr_scene')"
   ]
  },
  {
   "cell_type": "code",
   "execution_count": null,
   "metadata": {
    "ExecuteTime": {
     "end_time": "2018-03-06T03:46:28.182506Z",
     "start_time": "2018-03-06T03:41:25.899Z"
    }
   },
   "outputs": [],
   "source": [
    "# print(cdc_ls8.time)\n",
    "# print(cdc_ls7.time)"
   ]
  },
  {
   "cell_type": "code",
   "execution_count": null,
   "metadata": {
    "ExecuteTime": {
     "end_time": "2018-03-05T05:03:00.439757Z",
     "start_time": "2018-03-05T05:03:00.437042Z"
    }
   },
   "outputs": [],
   "source": [
    "# dc = Datacube(app='dc-show changes in annual mean NDVI values')\n",
    "# dc.list_products()"
   ]
  },
  {
   "cell_type": "code",
   "execution_count": null,
   "metadata": {},
   "outputs": [],
   "source": []
  },
  {
   "cell_type": "markdown",
   "metadata": {},
   "source": [
    "# New heading"
   ]
  }
 ],
 "metadata": {
  "kernelspec": {
   "display_name": "Python 3",
   "language": "python",
   "name": "python3"
  },
  "language_info": {
   "codemirror_mode": {
    "name": "ipython",
    "version": 3
   },
   "file_extension": ".py",
   "mimetype": "text/x-python",
   "name": "python",
   "nbconvert_exporter": "python",
   "pygments_lexer": "ipython3",
   "version": "3.6.5"
  },
  "toc": {
   "base_numbering": 1,
   "nav_menu": {},
   "number_sections": true,
   "sideBar": true,
   "skip_h1_title": false,
   "title_cell": "Table of Contents",
   "title_sidebar": "Contents",
   "toc_cell": false,
   "toc_position": {},
   "toc_section_display": "block",
   "toc_window_display": false
  }
 },
 "nbformat": 4,
 "nbformat_minor": 2
}
