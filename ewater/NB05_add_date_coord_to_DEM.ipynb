{
 "cells": [
  {
   "cell_type": "code",
   "execution_count": 10,
   "metadata": {
    "ExecuteTime": {
     "end_time": "2018-06-19T05:37:48.003845Z",
     "start_time": "2018-06-19T05:37:47.999468Z"
    }
   },
   "outputs": [],
   "source": [
    "import xarray as xr\n",
    "import datetime\n",
    "import numpy as np\n",
    "from matplotlib import pyplot as plt"
   ]
  },
  {
   "cell_type": "code",
   "execution_count": 4,
   "metadata": {
    "ExecuteTime": {
     "end_time": "2018-06-19T05:34:27.462369Z",
     "start_time": "2018-06-19T05:34:27.459175Z"
    }
   },
   "outputs": [],
   "source": [
    "input_folder = '/g/data/u46/users/ext547/ewater/input_data/DEM/'\n",
    "input_file = 'Cambodia_con_DEM'"
   ]
  },
  {
   "cell_type": "code",
   "execution_count": 5,
   "metadata": {
    "ExecuteTime": {
     "end_time": "2018-06-19T05:34:28.410779Z",
     "start_time": "2018-06-19T05:34:28.349654Z"
    }
   },
   "outputs": [],
   "source": [
    "con = xr.open_dataset(input_folder+input_file+'.nc')"
   ]
  },
  {
   "cell_type": "code",
   "execution_count": 5,
   "metadata": {
    "ExecuteTime": {
     "end_time": "2018-06-19T01:51:10.616566Z",
     "start_time": "2018-06-19T01:51:10.612407Z"
    }
   },
   "outputs": [],
   "source": [
    "time = np.datetime64('2017-01-01')"
   ]
  },
  {
   "cell_type": "code",
   "execution_count": 6,
   "metadata": {
    "ExecuteTime": {
     "end_time": "2018-06-19T01:51:11.525220Z",
     "start_time": "2018-06-19T01:51:11.521737Z"
    }
   },
   "outputs": [],
   "source": [
    "con.coords['time']=time"
   ]
  },
  {
   "cell_type": "code",
   "execution_count": 7,
   "metadata": {
    "ExecuteTime": {
     "end_time": "2018-06-19T01:51:12.854331Z",
     "start_time": "2018-06-19T01:51:12.839505Z"
    }
   },
   "outputs": [
    {
     "data": {
      "text/plain": [
       "<xarray.Dataset>\n",
       "Dimensions:    (lat: 6000, lon: 12000)\n",
       "Coordinates:\n",
       "  * lon        (lon) float64 100.0 100.0 100.0 100.0 100.0 100.0 100.0 100.0 ...\n",
       "  * lat        (lat) float64 15.0 15.0 15.0 15.0 15.0 15.0 14.99 14.99 14.99 ...\n",
       "    time       datetime64[ns] 2017-01-01\n",
       "Data variables:\n",
       "    DEM_value  (lat, lon) float32 ...\n",
       "Attributes:\n",
       "    Conventions:      CF-1.0\n",
       "    Source_Software:  Esri ArcGIS"
      ]
     },
     "execution_count": 7,
     "metadata": {},
     "output_type": "execute_result"
    }
   ],
   "source": [
    "con"
   ]
  },
  {
   "cell_type": "code",
   "execution_count": 8,
   "metadata": {
    "ExecuteTime": {
     "end_time": "2018-06-19T01:51:34.205400Z",
     "start_time": "2018-06-19T01:51:29.505630Z"
    }
   },
   "outputs": [],
   "source": [
    "con.to_netcdf(path = input_folder+input_file+'.nc')"
   ]
  },
  {
   "cell_type": "code",
   "execution_count": 9,
   "metadata": {
    "ExecuteTime": {
     "end_time": "2018-06-19T01:51:55.739357Z",
     "start_time": "2018-06-19T01:51:55.616496Z"
    }
   },
   "outputs": [
    {
     "name": "stdout",
     "output_type": "stream",
     "text": [
      "Cambodia_con_DEM.nc  Cambodia_con_DEM_nc.nc  ss\r\n"
     ]
    }
   ],
   "source": [
    "! ls /g/data/u46/users/ext547/ewater/input_data/DEM/"
   ]
  },
  {
   "cell_type": "code",
   "execution_count": null,
   "metadata": {},
   "outputs": [],
   "source": []
  }
 ],
 "metadata": {
  "kernelspec": {
   "display_name": "Python 3",
   "language": "python",
   "name": "python3"
  },
  "language_info": {
   "codemirror_mode": {
    "name": "ipython",
    "version": 3
   },
   "file_extension": ".py",
   "mimetype": "text/x-python",
   "name": "python",
   "nbconvert_exporter": "python",
   "pygments_lexer": "ipython3",
   "version": "3.6.5"
  }
 },
 "nbformat": 4,
 "nbformat_minor": 2
}
