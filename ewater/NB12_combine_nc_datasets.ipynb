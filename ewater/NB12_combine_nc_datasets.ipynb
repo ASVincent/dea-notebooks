{
 "cells": [
  {
   "cell_type": "code",
   "execution_count": 74,
   "metadata": {
    "ExecuteTime": {
     "end_time": "2018-09-14T01:40:28.016197Z",
     "start_time": "2018-09-14T01:40:26.436255Z"
    }
   },
   "outputs": [],
   "source": [
    "import xarray as xr\n",
    "import glob\n",
    "import numpy as np\n",
    "from datacube.storage.storage import write_dataset_to_netcdf\n",
    "\n",
    "\n",
    "input_folder = '/g/data/u46/users/ext547/ewater/input_data/ALOS/N11E100/' #location of files\n",
    "ncfiles = glob.glob(input_folder + '*HV_F02DAR.nc') #a glob file containing the names of all nc"
   ]
  },
  {
   "cell_type": "code",
   "execution_count": 99,
   "metadata": {
    "ExecuteTime": {
     "end_time": "2018-09-14T02:13:31.079181Z",
     "start_time": "2018-09-14T02:13:31.073325Z"
    }
   },
   "outputs": [],
   "source": [
    "def write_your_netcdf(data, dataset_name, filename, crs):\n",
    "\n",
    "    \"\"\"\n",
    "    This function turns an xarray dataarray into a dataset so we can write it to netcdf. \n",
    "    It adds on a crs definition from the original array. data = your xarray dataset, dataset_name \n",
    "    is a string describing your variable\n",
    "    \n",
    "    Last modified: May 2018\n",
    "    Author: Bex Dunn    \n",
    "    \"\"\" \n",
    "   \n",
    "    #turn array into dataset so we can write the netcdf\n",
    "    if isinstance(data,xr.DataArray):\n",
    "        dataset= data.to_dataset(name=dataset_name)\n",
    "    elif isinstance(data,xr.Dataset):\n",
    "        dataset = data\n",
    "    else:\n",
    "        print('your data might be the wrong type, it is: '+type(data))\n",
    "    #grab our crs attributes to write a spatially-referenced netcdf\n",
    "    dataset.attrs['crs'] = crs\n",
    "\n",
    "    try:\n",
    "        write_dataset_to_netcdf(dataset, filename)\n",
    "    except RuntimeError as err:\n",
    "        print(\"RuntimeError: {0}\".format(err))    "
   ]
  },
  {
   "cell_type": "code",
   "execution_count": 102,
   "metadata": {
    "ExecuteTime": {
     "end_time": "2018-09-14T02:15:51.059224Z",
     "start_time": "2018-09-14T02:15:50.996772Z"
    }
   },
   "outputs": [
    {
     "ename": "AttributeError",
     "evalue": "'DataArray' object has no attribute 'geographic'",
     "output_type": "error",
     "traceback": [
      "\u001b[0;31m---------------------------------------------------------------------------\u001b[0m",
      "\u001b[0;31mAttributeError\u001b[0m                            Traceback (most recent call last)",
      "\u001b[0;32m<ipython-input-102-f789e8a208d4>\u001b[0m in \u001b[0;36m<module>\u001b[0;34m()\u001b[0m\n\u001b[0;32m----> 1\u001b[0;31m \u001b[0mwrite_your_netcdf\u001b[0m\u001b[0;34m(\u001b[0m\u001b[0mds_combined\u001b[0m\u001b[0;34m,\u001b[0m\u001b[0;34m'SAR'\u001b[0m\u001b[0;34m,\u001b[0m\u001b[0moutput_file\u001b[0m\u001b[0;34m,\u001b[0m\u001b[0mds_combined\u001b[0m\u001b[0;34m.\u001b[0m\u001b[0mcrs\u001b[0m\u001b[0;34m)\u001b[0m\u001b[0;34m\u001b[0m\u001b[0m\n\u001b[0m",
      "\u001b[0;32m<ipython-input-99-ae8725d6f2e0>\u001b[0m in \u001b[0;36mwrite_your_netcdf\u001b[0;34m(data, dataset_name, filename, crs)\u001b[0m\n\u001b[1;32m     21\u001b[0m \u001b[0;34m\u001b[0m\u001b[0m\n\u001b[1;32m     22\u001b[0m     \u001b[0;32mtry\u001b[0m\u001b[0;34m:\u001b[0m\u001b[0;34m\u001b[0m\u001b[0m\n\u001b[0;32m---> 23\u001b[0;31m         \u001b[0mwrite_dataset_to_netcdf\u001b[0m\u001b[0;34m(\u001b[0m\u001b[0mdataset\u001b[0m\u001b[0;34m,\u001b[0m \u001b[0mfilename\u001b[0m\u001b[0;34m)\u001b[0m\u001b[0;34m\u001b[0m\u001b[0m\n\u001b[0m\u001b[1;32m     24\u001b[0m     \u001b[0;32mexcept\u001b[0m \u001b[0mRuntimeError\u001b[0m \u001b[0;32mas\u001b[0m \u001b[0merr\u001b[0m\u001b[0;34m:\u001b[0m\u001b[0;34m\u001b[0m\u001b[0m\n\u001b[1;32m     25\u001b[0m         \u001b[0mprint\u001b[0m\u001b[0;34m(\u001b[0m\u001b[0;34m\"RuntimeError: {0}\"\u001b[0m\u001b[0;34m.\u001b[0m\u001b[0mformat\u001b[0m\u001b[0;34m(\u001b[0m\u001b[0merr\u001b[0m\u001b[0;34m)\u001b[0m\u001b[0;34m)\u001b[0m\u001b[0;34m\u001b[0m\u001b[0m\n",
      "\u001b[0;32m/g/data/v10/public/modules/dea/20180815/lib/python3.6/site-packages/datacube/storage/storage.py\u001b[0m in \u001b[0;36mwrite_dataset_to_netcdf\u001b[0;34m(dataset, filename, global_attributes, variable_params, netcdfparams)\u001b[0m\n\u001b[1;32m    636\u001b[0m                                      \u001b[0mvariable_params\u001b[0m\u001b[0;34m,\u001b[0m\u001b[0;34m\u001b[0m\u001b[0m\n\u001b[1;32m    637\u001b[0m                                      \u001b[0mglobal_attributes\u001b[0m\u001b[0;34m,\u001b[0m\u001b[0;34m\u001b[0m\u001b[0m\n\u001b[0;32m--> 638\u001b[0;31m                                      netcdfparams)\n\u001b[0m\u001b[1;32m    639\u001b[0m \u001b[0;34m\u001b[0m\u001b[0m\n\u001b[1;32m    640\u001b[0m     \u001b[0;32mfor\u001b[0m \u001b[0mname\u001b[0m\u001b[0;34m,\u001b[0m \u001b[0mvariable\u001b[0m \u001b[0;32min\u001b[0m \u001b[0mdataset\u001b[0m\u001b[0;34m.\u001b[0m\u001b[0mdata_vars\u001b[0m\u001b[0;34m.\u001b[0m\u001b[0mitems\u001b[0m\u001b[0;34m(\u001b[0m\u001b[0;34m)\u001b[0m\u001b[0;34m:\u001b[0m\u001b[0;34m\u001b[0m\u001b[0m\n",
      "\u001b[0;32m/g/data/v10/public/modules/dea/20180815/lib/python3.6/site-packages/datacube/storage/storage.py\u001b[0m in \u001b[0;36mcreate_netcdf_storage_unit\u001b[0;34m(filename, crs, coordinates, variables, variable_params, global_attributes, netcdfparams)\u001b[0m\n\u001b[1;32m    588\u001b[0m         \u001b[0mnetcdf_writer\u001b[0m\u001b[0;34m.\u001b[0m\u001b[0mcreate_coordinate\u001b[0m\u001b[0;34m(\u001b[0m\u001b[0mnco\u001b[0m\u001b[0;34m,\u001b[0m \u001b[0mname\u001b[0m\u001b[0;34m,\u001b[0m \u001b[0mcoord\u001b[0m\u001b[0;34m.\u001b[0m\u001b[0mvalues\u001b[0m\u001b[0;34m,\u001b[0m \u001b[0mcoord\u001b[0m\u001b[0;34m.\u001b[0m\u001b[0munits\u001b[0m\u001b[0;34m)\u001b[0m\u001b[0;34m\u001b[0m\u001b[0m\n\u001b[1;32m    589\u001b[0m \u001b[0;34m\u001b[0m\u001b[0m\n\u001b[0;32m--> 590\u001b[0;31m     \u001b[0mnetcdf_writer\u001b[0m\u001b[0;34m.\u001b[0m\u001b[0mcreate_grid_mapping_variable\u001b[0m\u001b[0;34m(\u001b[0m\u001b[0mnco\u001b[0m\u001b[0;34m,\u001b[0m \u001b[0mcrs\u001b[0m\u001b[0;34m)\u001b[0m\u001b[0;34m\u001b[0m\u001b[0m\n\u001b[0m\u001b[1;32m    591\u001b[0m \u001b[0;34m\u001b[0m\u001b[0m\n\u001b[1;32m    592\u001b[0m     \u001b[0;32mfor\u001b[0m \u001b[0mname\u001b[0m\u001b[0;34m,\u001b[0m \u001b[0mvariable\u001b[0m \u001b[0;32min\u001b[0m \u001b[0mvariables\u001b[0m\u001b[0;34m.\u001b[0m\u001b[0mitems\u001b[0m\u001b[0;34m(\u001b[0m\u001b[0;34m)\u001b[0m\u001b[0;34m:\u001b[0m\u001b[0;34m\u001b[0m\u001b[0m\n",
      "\u001b[0;32m/g/data/v10/public/modules/dea/20180815/lib/python3.6/site-packages/datacube/storage/netcdf_writer.py\u001b[0m in \u001b[0;36mcreate_grid_mapping_variable\u001b[0;34m(nco, crs)\u001b[0m\n\u001b[1;32m    223\u001b[0m \u001b[0;34m\u001b[0m\u001b[0m\n\u001b[1;32m    224\u001b[0m \u001b[0;32mdef\u001b[0m \u001b[0mcreate_grid_mapping_variable\u001b[0m\u001b[0;34m(\u001b[0m\u001b[0mnco\u001b[0m\u001b[0;34m,\u001b[0m \u001b[0mcrs\u001b[0m\u001b[0;34m)\u001b[0m\u001b[0;34m:\u001b[0m\u001b[0;34m\u001b[0m\u001b[0m\n\u001b[0;32m--> 225\u001b[0;31m     \u001b[0;32mif\u001b[0m \u001b[0mcrs\u001b[0m\u001b[0;34m.\u001b[0m\u001b[0mgeographic\u001b[0m\u001b[0;34m:\u001b[0m\u001b[0;34m\u001b[0m\u001b[0m\n\u001b[0m\u001b[1;32m    226\u001b[0m         \u001b[0mcrs_var\u001b[0m \u001b[0;34m=\u001b[0m \u001b[0m_create_latlon_grid_mapping_variable\u001b[0m\u001b[0;34m(\u001b[0m\u001b[0mnco\u001b[0m\u001b[0;34m,\u001b[0m \u001b[0mcrs\u001b[0m\u001b[0;34m)\u001b[0m\u001b[0;34m\u001b[0m\u001b[0m\n\u001b[1;32m    227\u001b[0m     \u001b[0;32melif\u001b[0m \u001b[0mcrs\u001b[0m\u001b[0;34m.\u001b[0m\u001b[0mprojected\u001b[0m\u001b[0;34m:\u001b[0m\u001b[0;34m\u001b[0m\u001b[0m\n",
      "\u001b[0;32m/g/data/v10/public/modules/dea-env/20180728/lib/python3.6/site-packages/xarray/core/common.py\u001b[0m in \u001b[0;36m__getattr__\u001b[0;34m(self, name)\u001b[0m\n\u001b[1;32m    174\u001b[0m                     \u001b[0;32mreturn\u001b[0m \u001b[0msource\u001b[0m\u001b[0;34m[\u001b[0m\u001b[0mname\u001b[0m\u001b[0;34m]\u001b[0m\u001b[0;34m\u001b[0m\u001b[0m\n\u001b[1;32m    175\u001b[0m         raise AttributeError(\"%r object has no attribute %r\" %\n\u001b[0;32m--> 176\u001b[0;31m                              (type(self).__name__, name))\n\u001b[0m\u001b[1;32m    177\u001b[0m \u001b[0;34m\u001b[0m\u001b[0m\n\u001b[1;32m    178\u001b[0m     \u001b[0;32mdef\u001b[0m \u001b[0m__setattr__\u001b[0m\u001b[0;34m(\u001b[0m\u001b[0mself\u001b[0m\u001b[0;34m,\u001b[0m \u001b[0mname\u001b[0m\u001b[0;34m,\u001b[0m \u001b[0mvalue\u001b[0m\u001b[0;34m)\u001b[0m\u001b[0;34m:\u001b[0m\u001b[0;34m\u001b[0m\u001b[0m\n",
      "\u001b[0;31mAttributeError\u001b[0m: 'DataArray' object has no attribute 'geographic'"
     ]
    }
   ],
   "source": [
    "write_your_netcdf(ds_combined,'SAR',output_file,ds_combined.crs)"
   ]
  },
  {
   "cell_type": "code",
   "execution_count": 101,
   "metadata": {
    "ExecuteTime": {
     "end_time": "2018-09-14T02:15:20.370441Z",
     "start_time": "2018-09-14T02:15:20.364530Z"
    }
   },
   "outputs": [],
   "source": [
    "output_file = input_folder+nc_name+'_test_F02DAR.nc'"
   ]
  },
  {
   "cell_type": "code",
   "execution_count": 90,
   "metadata": {
    "ExecuteTime": {
     "end_time": "2018-09-14T01:56:07.944119Z",
     "start_time": "2018-09-14T01:56:07.931241Z"
    }
   },
   "outputs": [
    {
     "data": {
      "text/plain": [
       "<xarray.DataArray 'crs' ()>\n",
       "array(b'', dtype='|S1')\n",
       "Attributes:\n",
       "    grid_mapping_name:            latitude_longitude\n",
       "    long_name:                    CRS definition\n",
       "    longitude_of_prime_meridian:  0.0\n",
       "    semi_major_axis:              6378137.0\n",
       "    inverse_flattening:           298.257223563\n",
       "    spatial_ref:                  GEOGCS[\"WGS 84\",DATUM[\"WGS_1984\",SPHEROID[\"...\n",
       "    GeoTransform:                 109 0.0002222222222222222 -0 14 -0 -0.00022..."
      ]
     },
     "execution_count": 90,
     "metadata": {},
     "output_type": "execute_result"
    }
   ],
   "source": [
    "ds_combined.crs"
   ]
  },
  {
   "cell_type": "code",
   "execution_count": 104,
   "metadata": {
    "ExecuteTime": {
     "end_time": "2018-09-14T02:20:24.275789Z",
     "start_time": "2018-09-14T02:20:24.236569Z"
    }
   },
   "outputs": [],
   "source": [
    "ds = xr.open_dataset('/g/data/u46/users/ext547/ewater/input_data/temperature/temperature_nc/daily_mean/daily_mean_temp_1979-01-01.nc')"
   ]
  },
  {
   "cell_type": "code",
   "execution_count": 107,
   "metadata": {
    "ExecuteTime": {
     "end_time": "2018-09-14T02:20:35.837462Z",
     "start_time": "2018-09-14T02:20:35.799931Z"
    }
   },
   "outputs": [
    {
     "data": {
      "text/plain": [
       "<xarray.Dataset>\n",
       "Dimensions:    (bnds: 2, lat: 13, lon: 14, time: 1)\n",
       "Coordinates:\n",
       "  * time       (time) datetime64[ns] 1979-01-01T10:30:00\n",
       "  * lon        (lon) float32 101.75 102.25 102.75 103.25 103.75 104.25 ...\n",
       "  * lat        (lat) float32 9.25 9.75 10.25 10.75 11.25 11.75 12.25 12.75 ...\n",
       "Dimensions without coordinates: bnds\n",
       "Data variables:\n",
       "    time_bnds  (time, bnds) float64 ...\n",
       "    Tair       (time, lat, lon) float64 ...\n",
       "Attributes:\n",
       "    CDI:                       Climate Data Interface version 1.9.2 (http://m...\n",
       "    Conventions:               CF-1.6\n",
       "    Title:                     WATCH Forcing Data methodology applied \\nto ER...\n",
       "    Note1:                     EI data regridded to half degree regular lat-lon\n",
       "    Note2:                     Genuine land points from CRU grid only\n",
       "    Note3:                     Tair elevation & bias-corrected using \\nCRU TS...\n",
       "    Info1:                     www.ecmwf.int/products/data/archive \\n        ...\n",
       "    Info2:                     http://badc.nerc.ac.uk/browse/badc/cru \\n     ...\n",
       "    Methodology::              Weedon et al 2011 J.Hydromet. 12, 823-848 \\n  ...\n",
       "    Institution:               Met Office, JCHMR, Wallingford, UK\n",
       "    History:                   Fri May 25 10:28:34 2018: ncap2 -s Tair=Tair-2...\n",
       "    Contact:                   graham.weedon@metoffice.gov.uk\n",
       "    NCO:                       4.3.7\n",
       "    nco_openmp_thread_number:  1\n",
       "    frequency:                 day\n",
       "    CDO:                       Climate Data Operators version 1.9.2 (http://m...\n",
       "    history:                   Thu Jun 28 15:36:20 2018: ncatted -a _FillValu..."
      ]
     },
     "execution_count": 107,
     "metadata": {},
     "output_type": "execute_result"
    }
   ],
   "source": [
    "ds"
   ]
  },
  {
   "cell_type": "code",
   "execution_count": 98,
   "metadata": {
    "ExecuteTime": {
     "end_time": "2018-09-14T02:01:34.553687Z",
     "start_time": "2018-09-14T02:01:34.518293Z"
    }
   },
   "outputs": [
    {
     "ename": "TypeError",
     "evalue": "Invalid value for attr: <xarray.DataArray 'crs' ()>\narray(b'', dtype='|S1')\nAttributes:\n    grid_mapping_name:            latitude_longitude\n    long_name:                    CRS definition\n    longitude_of_prime_meridian:  0.0\n    semi_major_axis:              6378137.0\n    inverse_flattening:           298.257223563\n    spatial_ref:                  GEOGCS[\"WGS 84\",DATUM[\"WGS_1984\",SPHEROID[\"...\n    GeoTransform:                 109 0.0002222222222222222 -0 14 -0 -0.00022... must be a number string, ndarray or a list/tuple of numbers/strings for serialization to netCDF files",
     "output_type": "error",
     "traceback": [
      "\u001b[0;31m---------------------------------------------------------------------------\u001b[0m",
      "\u001b[0;31mTypeError\u001b[0m                                 Traceback (most recent call last)",
      "\u001b[0;32m<ipython-input-98-16178c01d84c>\u001b[0m in \u001b[0;36m<module>\u001b[0;34m()\u001b[0m\n\u001b[0;32m----> 1\u001b[0;31m \u001b[0mds_combined\u001b[0m\u001b[0;34m.\u001b[0m\u001b[0mto_netcdf\u001b[0m\u001b[0;34m(\u001b[0m\u001b[0minput_folder\u001b[0m\u001b[0;34m+\u001b[0m\u001b[0mnc_name\u001b[0m\u001b[0;34m+\u001b[0m\u001b[0;34m'_test_F02DAR.nc'\u001b[0m\u001b[0;34m,\u001b[0m \u001b[0mformat\u001b[0m\u001b[0;34m=\u001b[0m\u001b[0;34m'NETCDF4'\u001b[0m\u001b[0;34m)\u001b[0m\u001b[0;34m\u001b[0m\u001b[0m\n\u001b[0m",
      "\u001b[0;32m/g/data/v10/public/modules/dea-env/20180728/lib/python3.6/site-packages/xarray/core/dataset.py\u001b[0m in \u001b[0;36mto_netcdf\u001b[0;34m(self, path, mode, format, group, engine, encoding, unlimited_dims, compute)\u001b[0m\n\u001b[1;32m   1148\u001b[0m                          \u001b[0mengine\u001b[0m\u001b[0;34m=\u001b[0m\u001b[0mengine\u001b[0m\u001b[0;34m,\u001b[0m \u001b[0mencoding\u001b[0m\u001b[0;34m=\u001b[0m\u001b[0mencoding\u001b[0m\u001b[0;34m,\u001b[0m\u001b[0;34m\u001b[0m\u001b[0m\n\u001b[1;32m   1149\u001b[0m                          \u001b[0munlimited_dims\u001b[0m\u001b[0;34m=\u001b[0m\u001b[0munlimited_dims\u001b[0m\u001b[0;34m,\u001b[0m\u001b[0;34m\u001b[0m\u001b[0m\n\u001b[0;32m-> 1150\u001b[0;31m                          compute=compute)\n\u001b[0m\u001b[1;32m   1151\u001b[0m \u001b[0;34m\u001b[0m\u001b[0m\n\u001b[1;32m   1152\u001b[0m     def to_zarr(self, store=None, mode='w-', synchronizer=None, group=None,\n",
      "\u001b[0;32m/g/data/v10/public/modules/dea-env/20180728/lib/python3.6/site-packages/xarray/backends/api.py\u001b[0m in \u001b[0;36mto_netcdf\u001b[0;34m(dataset, path_or_file, mode, format, group, engine, writer, encoding, unlimited_dims, compute)\u001b[0m\n\u001b[1;32m    686\u001b[0m     \u001b[0;31m# validate Dataset keys, DataArray names, and attr keys/values\u001b[0m\u001b[0;34m\u001b[0m\u001b[0;34m\u001b[0m\u001b[0m\n\u001b[1;32m    687\u001b[0m     \u001b[0m_validate_dataset_names\u001b[0m\u001b[0;34m(\u001b[0m\u001b[0mdataset\u001b[0m\u001b[0;34m)\u001b[0m\u001b[0;34m\u001b[0m\u001b[0m\n\u001b[0;32m--> 688\u001b[0;31m     \u001b[0m_validate_attrs\u001b[0m\u001b[0;34m(\u001b[0m\u001b[0mdataset\u001b[0m\u001b[0;34m)\u001b[0m\u001b[0;34m\u001b[0m\u001b[0m\n\u001b[0m\u001b[1;32m    689\u001b[0m \u001b[0;34m\u001b[0m\u001b[0m\n\u001b[1;32m    690\u001b[0m     \u001b[0;32mtry\u001b[0m\u001b[0;34m:\u001b[0m\u001b[0;34m\u001b[0m\u001b[0m\n",
      "\u001b[0;32m/g/data/v10/public/modules/dea-env/20180728/lib/python3.6/site-packages/xarray/backends/api.py\u001b[0m in \u001b[0;36m_validate_attrs\u001b[0;34m(dataset)\u001b[0m\n\u001b[1;32m    113\u001b[0m     \u001b[0;31m# Check attrs on the dataset itself\u001b[0m\u001b[0;34m\u001b[0m\u001b[0;34m\u001b[0m\u001b[0m\n\u001b[1;32m    114\u001b[0m     \u001b[0;32mfor\u001b[0m \u001b[0mk\u001b[0m\u001b[0;34m,\u001b[0m \u001b[0mv\u001b[0m \u001b[0;32min\u001b[0m \u001b[0mdataset\u001b[0m\u001b[0;34m.\u001b[0m\u001b[0mattrs\u001b[0m\u001b[0;34m.\u001b[0m\u001b[0mitems\u001b[0m\u001b[0;34m(\u001b[0m\u001b[0;34m)\u001b[0m\u001b[0;34m:\u001b[0m\u001b[0;34m\u001b[0m\u001b[0m\n\u001b[0;32m--> 115\u001b[0;31m         \u001b[0mcheck_attr\u001b[0m\u001b[0;34m(\u001b[0m\u001b[0mk\u001b[0m\u001b[0;34m,\u001b[0m \u001b[0mv\u001b[0m\u001b[0;34m)\u001b[0m\u001b[0;34m\u001b[0m\u001b[0m\n\u001b[0m\u001b[1;32m    116\u001b[0m \u001b[0;34m\u001b[0m\u001b[0m\n\u001b[1;32m    117\u001b[0m     \u001b[0;31m# Check attrs on each variable within the dataset\u001b[0m\u001b[0;34m\u001b[0m\u001b[0;34m\u001b[0m\u001b[0m\n",
      "\u001b[0;32m/g/data/v10/public/modules/dea-env/20180728/lib/python3.6/site-packages/xarray/backends/api.py\u001b[0m in \u001b[0;36mcheck_attr\u001b[0;34m(name, value)\u001b[0m\n\u001b[1;32m    109\u001b[0m                             \u001b[0;34m'string, ndarray or a list/tuple of '\u001b[0m\u001b[0;34m\u001b[0m\u001b[0m\n\u001b[1;32m    110\u001b[0m                             \u001b[0;34m'numbers/strings for serialization to netCDF '\u001b[0m\u001b[0;34m\u001b[0m\u001b[0m\n\u001b[0;32m--> 111\u001b[0;31m                             'files'.format(value))\n\u001b[0m\u001b[1;32m    112\u001b[0m \u001b[0;34m\u001b[0m\u001b[0m\n\u001b[1;32m    113\u001b[0m     \u001b[0;31m# Check attrs on the dataset itself\u001b[0m\u001b[0;34m\u001b[0m\u001b[0;34m\u001b[0m\u001b[0m\n",
      "\u001b[0;31mTypeError\u001b[0m: Invalid value for attr: <xarray.DataArray 'crs' ()>\narray(b'', dtype='|S1')\nAttributes:\n    grid_mapping_name:            latitude_longitude\n    long_name:                    CRS definition\n    longitude_of_prime_meridian:  0.0\n    semi_major_axis:              6378137.0\n    inverse_flattening:           298.257223563\n    spatial_ref:                  GEOGCS[\"WGS 84\",DATUM[\"WGS_1984\",SPHEROID[\"...\n    GeoTransform:                 109 0.0002222222222222222 -0 14 -0 -0.00022... must be a number string, ndarray or a list/tuple of numbers/strings for serialization to netCDF files"
     ]
    }
   ],
   "source": [
    "ds_combined.to_netcdf(input_folder+nc_name+'_test_F02DAR.nc')"
   ]
  },
  {
   "cell_type": "code",
   "execution_count": 56,
   "metadata": {
    "ExecuteTime": {
     "end_time": "2018-09-14T01:06:56.427181Z",
     "start_time": "2018-09-14T01:05:32.173213Z"
    },
    "scrolled": true
   },
   "outputs": [
    {
     "name": "stdout",
     "output_type": "stream",
     "text": [
      "N13E103_17_sl\n",
      "N11E108_17_sl\n",
      "N12E101_17_sl\n",
      "N15E100_17_sl\n",
      "N14E106_17_sl\n",
      "N13E104_17_sl\n",
      "N15E104_17_sl\n",
      "N13E107_17_sl\n",
      "N14E101_17_sl\n",
      "N12E108_17_sl\n",
      "N14E108_17_sl\n",
      "N14E105_17_sl\n",
      "N13E106_17_sl\n",
      "N14E107_17_sl\n",
      "N15E103_17_sl\n",
      "N11E101_17_sl\n",
      "N14E102_17_sl\n",
      "N12E102_17_sl\n",
      "N11E109_17_sl\n",
      "N12E106_17_sl\n",
      "N13E108_17_sl\n",
      "N12E107_17_sl\n",
      "N15E105_17_sl\n",
      "N15E102_17_sl\n",
      "N11E100_17_sl\n",
      "N15E101_17_sl\n",
      "N13E109_17_sl\n",
      "N13E105_17_sl\n",
      "N14E104_17_sl\n",
      "N11E105_17_sl\n",
      "N11E104_17_sl\n",
      "N12E100_17_sl\n",
      "N12E103_17_sl\n",
      "N11E106_17_sl\n",
      "N11E102_17_sl\n",
      "N13E100_17_sl\n",
      "N15E106_17_sl\n",
      "N15E107_17_sl\n",
      "N14E100_17_sl\n",
      "N12E104_17_sl\n",
      "N11E107_17_sl\n",
      "N15E109_17_sl\n",
      "N14E103_17_sl\n",
      "N15E108_17_sl\n",
      "N12E109_17_sl\n",
      "N13E102_17_sl\n",
      "N13E101_17_sl\n",
      "N11E103_17_sl\n",
      "N12E105_17_sl\n",
      "N14E109_17_sl\n"
     ]
    }
   ],
   "source": [
    "for ncpath in ncfiles:\n",
    "    nc_name = ncpath[-26:-13]\n",
    "    print(nc_name)\n",
    "#     print(ncpath)\n",
    "    ds_HH = xr.open_dataset(input_folder+nc_name+'_HH_F02DAR.nc')\n",
    "#     print(input_folder+nc_name+'_HH_F02DAR.nc')\n",
    "    ds_HV = xr.open_dataset(input_folder+nc_name+'_HV_F02DAR.nc')\n",
    "    ds_HH = ds_HH.rename({'Band1':'hh'})\n",
    "    ds_HV = ds_HV.rename({'Band1':'hv'})\n",
    "    ds_combined = xr.merge([ds_HH,ds_HV])\n",
    "#     print (ds_combined)\n",
    "    output_file = input_folder+nc_name+'_combined_F02DAR.nc'\n",
    "    ds_combined.to_netcdf(input_folder+nc_name+'_combined_F02DAR.nc', mode='w',format='NETCDF4')\n"
   ]
  },
  {
   "cell_type": "code",
   "execution_count": 29,
   "metadata": {
    "ExecuteTime": {
     "end_time": "2018-09-14T00:46:39.629648Z",
     "start_time": "2018-09-14T00:46:39.623901Z"
    }
   },
   "outputs": [],
   "source": [
    "ds_HH = ds_HH.rename({'Band1':'hh'})\n",
    "ds_HV = ds_HV.rename({'Band1':'hv'})"
   ]
  },
  {
   "cell_type": "code",
   "execution_count": 30,
   "metadata": {
    "ExecuteTime": {
     "end_time": "2018-09-14T00:46:41.035479Z",
     "start_time": "2018-09-14T00:46:41.019197Z"
    }
   },
   "outputs": [],
   "source": [
    "ds_combined = xr.merge([ds_HH,ds_HV])\n"
   ]
  },
  {
   "cell_type": "code",
   "execution_count": 33,
   "metadata": {
    "ExecuteTime": {
     "end_time": "2018-09-14T00:47:00.418847Z",
     "start_time": "2018-09-14T00:47:00.107212Z"
    }
   },
   "outputs": [
    {
     "data": {
      "text/plain": [
       "array([[1176., 1975.,  969., ...,    0.,    0.,    0.],\n",
       "       [1653., 1531., 1370., ...,    0.,    0.,    0.],\n",
       "       [1488., 1620., 1366., ...,    0.,    0.,    0.],\n",
       "       ...,\n",
       "       [2296., 1866., 1794., ...,    0.,    0.,    0.],\n",
       "       [2095., 1840., 1494., ...,    0.,    0.,    0.],\n",
       "       [1710., 1906., 2073., ...,    0.,    0.,    0.]], dtype=float32)"
      ]
     },
     "execution_count": 33,
     "metadata": {},
     "output_type": "execute_result"
    }
   ],
   "source": [
    "ds_combined.hh.values"
   ]
  },
  {
   "cell_type": "code",
   "execution_count": 34,
   "metadata": {
    "ExecuteTime": {
     "end_time": "2018-09-14T00:47:11.901213Z",
     "start_time": "2018-09-14T00:47:11.642328Z"
    }
   },
   "outputs": [
    {
     "data": {
      "text/plain": [
       "array([[358., 249., 312., ...,   0.,   0.,   0.],\n",
       "       [274., 258., 229., ...,   0.,   0.,   0.],\n",
       "       [318., 285., 322., ...,   0.,   0.,   0.],\n",
       "       ...,\n",
       "       [343., 475., 339., ...,   0.,   0.,   0.],\n",
       "       [451., 355., 217., ...,   0.,   0.,   0.],\n",
       "       [326., 483., 366., ...,   0.,   0.,   0.]], dtype=float32)"
      ]
     },
     "execution_count": 34,
     "metadata": {},
     "output_type": "execute_result"
    }
   ],
   "source": [
    "ds_combined.hv.values"
   ]
  },
  {
   "cell_type": "code",
   "execution_count": 36,
   "metadata": {
    "ExecuteTime": {
     "end_time": "2018-09-14T00:50:14.780712Z",
     "start_time": "2018-09-14T00:50:10.536002Z"
    }
   },
   "outputs": [],
   "source": [
    "ds_combined.to_netcdf(ds_loc+'combined_N11E100_17_sl.nc', mode='w',)\n",
    "#               encoding={'time': {\n",
    "#                   'units': \"seconds since 1970-01-01\",\n",
    "#                   'calendar': \"standard\",\n",
    "#                   'dtype': \"float64\",\n",
    "#               }})"
   ]
  },
  {
   "cell_type": "code",
   "execution_count": null,
   "metadata": {},
   "outputs": [],
   "source": []
  }
 ],
 "metadata": {
  "kernelspec": {
   "display_name": "Python 3",
   "language": "python",
   "name": "python3"
  },
  "language_info": {
   "codemirror_mode": {
    "name": "ipython",
    "version": 3
   },
   "file_extension": ".py",
   "mimetype": "text/x-python",
   "name": "python",
   "nbconvert_exporter": "python",
   "pygments_lexer": "ipython3",
   "version": "3.6.6"
  }
 },
 "nbformat": 4,
 "nbformat_minor": 2
}
