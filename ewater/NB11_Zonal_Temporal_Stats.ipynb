{
 "cells": [
  {
   "cell_type": "markdown",
   "metadata": {},
   "source": [
    "# Zonal Stats over time"
   ]
  },
  {
   "cell_type": "markdown",
   "metadata": {},
   "source": [
    "Inputs:\n",
    "* Product: `rainfall_grids_1998_2017`\n",
    "* Variable: `rainfall`\n",
    "* Aggregate Function: `mean`\n",
    "* Zones: `KHM_Catch8_m_del.shp` or `KHM_Basin_Simple_A.shp` "
   ]
  },
  {
   "cell_type": "code",
   "execution_count": 1,
   "metadata": {
    "ExecuteTime": {
     "end_time": "2018-08-13T05:59:19.095682Z",
     "start_time": "2018-08-13T05:59:13.371957Z"
    }
   },
   "outputs": [],
   "source": [
    "import fiona\n",
    "import rasterio.features\n",
    "import xarray as xr\n",
    "import rasterio.features\n",
    "import xarray\n",
    "import datacube\n",
    "dc = datacube.Datacube(config='/g/data/u46/users/ext547/ewater/cambodia_cube/cambodia.conf')\n",
    "\n",
    "\n",
    "from shapely.geometry import asShape\n",
    "from shapely.geometry import MultiPolygon, Polygon\n",
    "\n",
    "import pandas as pd\n",
    "import dask\n",
    "from distributed import Client, LocalCluster"
   ]
  },
  {
   "cell_type": "markdown",
   "metadata": {},
   "source": [
    "# Specify location and name of catchment shapefile"
   ]
  },
  {
   "cell_type": "code",
   "execution_count": 2,
   "metadata": {
    "ExecuteTime": {
     "end_time": "2018-08-13T05:59:19.102048Z",
     "start_time": "2018-08-13T05:59:19.098783Z"
    }
   },
   "outputs": [],
   "source": [
    "shape_file = '/g/data/u46/users/ext547/ewater/input_data/Cambodia_boundary/KHM_Basin_Simple_A.shp'\n",
    "# shape_file = '/g/data/u46/users/adh547/cambodia/vector/catchments/KHM_Catch8_m_del.shp'\n",
    "# shape_file = '/g/data/u46/users/ext547/ewater/input_data/Cambodia_boundary/test.shp'"
   ]
  },
  {
   "cell_type": "markdown",
   "metadata": {},
   "source": [
    "# define functions"
   ]
  },
  {
   "cell_type": "code",
   "execution_count": 3,
   "metadata": {
    "ExecuteTime": {
     "end_time": "2018-08-13T05:59:19.113883Z",
     "start_time": "2018-08-13T05:59:19.104378Z"
    }
   },
   "outputs": [],
   "source": [
    "def geometry_mask(geoms, geobox, all_touched=False, invert=False):\n",
    "    \"\"\"\n",
    "    Create a mask from shapes.\n",
    "\n",
    "    By default, mask is intended for use as a\n",
    "    numpy mask, where pixels that overlap shapes are False.\n",
    "    :param list[Geometry] geoms: geometries to be rasterized\n",
    "    :param datacube.utils.GeoBox geobox:\n",
    "    :param bool all_touched: If True, all pixels touched by geometries will be burned in. If\n",
    "                             false, only pixels whose center is within the polygon or that\n",
    "                             are selected by Bresenham's line algorithm will be burned in.\n",
    "    :param bool invert: If True, mask will be True for pixels that overlap shapes.\n",
    "    \"\"\"\n",
    "    data = rasterio.features.geometry_mask([geom.to_crs(geobox.crs) for geom in geoms],\n",
    "                                           out_shape=geobox.shape,\n",
    "                                           transform=geobox.affine,\n",
    "                                           all_touched=all_touched,\n",
    "                                           invert=invert)\n",
    "    coords = [xr.DataArray(data=coord.values, name=dim, dims=[dim], attrs={'units': coord.units}) \n",
    "              for dim, coord in geobox.coords.items()]\n",
    "    return xarray.DataArray(data, coords=coords)"
   ]
  },
  {
   "cell_type": "code",
   "execution_count": 4,
   "metadata": {
    "ExecuteTime": {
     "end_time": "2018-08-13T05:59:19.122157Z",
     "start_time": "2018-08-13T05:59:19.116141Z"
    }
   },
   "outputs": [],
   "source": [
    "def get_shapes(shape_file):\n",
    "    with fiona.open(shape_file) as shapes:\n",
    "        crs = datacube.utils.geometry.CRS(shapes.crs_wkt)\n",
    "        for shape in shapes:\n",
    "            geom = datacube.utils.geometry.Geometry(shape['geometry'], crs=crs)\n",
    "            yield geom, shape['properties']"
   ]
  },
  {
   "cell_type": "markdown",
   "metadata": {},
   "source": [
    "# Set up dask"
   ]
  },
  {
   "cell_type": "code",
   "execution_count": 5,
   "metadata": {
    "ExecuteTime": {
     "end_time": "2018-08-13T05:59:37.356299Z",
     "start_time": "2018-08-13T05:59:19.124175Z"
    }
   },
   "outputs": [
    {
     "name": "stderr",
     "output_type": "stream",
     "text": [
      "distributed.nanny - WARNING - Worker process 29357 exited with status 1\n",
      "distributed.nanny - WARNING - Worker process 29355 exited with status 1\n",
      "distributed.nanny - WARNING - Worker process 29356 exited with status 1\n",
      "distributed.nanny - WARNING - Worker process 29362 exited with status 1\n",
      "distributed.nanny - WARNING - Worker process 29368 exited with status 1\n",
      "distributed.nanny - WARNING - Worker process 29359 exited with status 1\n",
      "distributed.nanny - WARNING - Worker process 29363 exited with status 1\n",
      "distributed.nanny - WARNING - Restarting worker\n",
      "distributed.nanny - WARNING - Worker process 29366 exited with status 1\n",
      "distributed.nanny - WARNING - Restarting worker\n",
      "distributed.nanny - WARNING - Worker process 29385 exited with status 1\n",
      "distributed.nanny - WARNING - Restarting worker\n",
      "distributed.nanny - WARNING - Worker process 29389 exited with status 1\n",
      "distributed.nanny - WARNING - Restarting worker\n",
      "distributed.nanny - WARNING - Worker process 29393 exited with status 1\n",
      "distributed.nanny - WARNING - Restarting worker\n",
      "distributed.nanny - WARNING - Worker process 29397 exited with status 1\n",
      "distributed.nanny - WARNING - Restarting worker\n",
      "distributed.nanny - WARNING - Worker process 29401 exited with status 1\n",
      "distributed.nanny - WARNING - Restarting worker\n",
      "distributed.nanny - WARNING - Worker process 29405 exited with status 1\n",
      "distributed.nanny - WARNING - Restarting worker\n",
      "distributed.nanny - WARNING - Worker process 29409 exited with status 1\n",
      "distributed.nanny - WARNING - Restarting worker\n",
      "distributed.nanny - WARNING - Worker process 29413 exited with status 1\n",
      "distributed.nanny - WARNING - Restarting worker\n",
      "distributed.nanny - WARNING - Worker process 29417 exited with status 1\n",
      "distributed.nanny - WARNING - Restarting worker\n",
      "distributed.nanny - WARNING - Worker process 29421 exited with status 1\n",
      "distributed.nanny - WARNING - Restarting worker\n",
      "distributed.nanny - WARNING - Worker process 29425 exited with status 1\n",
      "distributed.nanny - WARNING - Restarting worker\n",
      "distributed.nanny - WARNING - Worker process 29429 exited with status 1\n",
      "distributed.nanny - WARNING - Worker process 29435 exited with status 1\n",
      "distributed.nanny - WARNING - Restarting worker\n",
      "distributed.nanny - WARNING - Worker process 29440 exited with status 1\n",
      "distributed.nanny - WARNING - Restarting worker\n",
      "distributed.nanny - WARNING - Worker process 29444 exited with status 1\n",
      "distributed.nanny - WARNING - Restarting worker\n",
      "distributed.nanny - WARNING - Worker process 29448 exited with status 1\n",
      "distributed.nanny - WARNING - Restarting worker\n",
      "distributed.nanny - WARNING - Worker process 29452 exited with status 1\n",
      "distributed.nanny - WARNING - Restarting worker\n",
      "distributed.nanny - WARNING - Worker process 29456 exited with status 1\n",
      "distributed.nanny - WARNING - Restarting worker\n",
      "distributed.nanny - WARNING - Worker process 29460 exited with status 1\n",
      "distributed.nanny - WARNING - Restarting worker\n",
      "distributed.nanny - WARNING - Worker process 29464 exited with status 1\n",
      "distributed.nanny - WARNING - Restarting worker\n",
      "distributed.nanny - WARNING - Worker process 29468 exited with status 1\n",
      "distributed.nanny - WARNING - Restarting worker\n",
      "distributed.nanny - WARNING - Worker process 29472 exited with status 1\n",
      "tornado.application - ERROR - Multiple exceptions in yield list\n",
      "Traceback (most recent call last):\n",
      "  File \"/g/data/v10/public/modules/dea-env/20180629/lib/python3.6/site-packages/tornado/gen.py\", line 1069, in run\n",
      "    yielded = self.gen.send(value)\n",
      "  File \"/g/data/v10/public/modules/dea-env/20180629/lib/python3.6/site-packages/distributed/deploy/local.py\", line 212, in _start_worker\n",
      "    raise gen.TimeoutError(\"Worker failed to start\")\n",
      "tornado.gen.TimeoutError: Worker failed to start\n",
      "\n",
      "During handling of the above exception, another exception occurred:\n",
      "\n",
      "Traceback (most recent call last):\n",
      "  File \"/g/data/v10/public/modules/dea-env/20180629/lib/python3.6/site-packages/tornado/gen.py\", line 828, in callback\n",
      "    result_list.append(f.result())\n",
      "  File \"/g/data/v10/public/modules/dea-env/20180629/lib/python3.6/site-packages/tornado/concurrent.py\", line 238, in result\n",
      "    raise_exc_info(self._exc_info)\n",
      "  File \"<string>\", line 4, in raise_exc_info\n",
      "  File \"/g/data/v10/public/modules/dea-env/20180629/lib/python3.6/site-packages/tornado/gen.py\", line 1069, in run\n",
      "    yielded = self.gen.send(value)\n",
      "  File \"/g/data/v10/public/modules/dea-env/20180629/lib/python3.6/site-packages/distributed/deploy/local.py\", line 212, in _start_worker\n",
      "    raise gen.TimeoutError(\"Worker failed to start\")\n",
      "tornado.gen.TimeoutError: Worker failed to start\n",
      "tornado.application - ERROR - Multiple exceptions in yield list\n",
      "Traceback (most recent call last):\n",
      "  File \"/g/data/v10/public/modules/dea-env/20180629/lib/python3.6/site-packages/tornado/gen.py\", line 1069, in run\n",
      "    yielded = self.gen.send(value)\n",
      "  File \"/g/data/v10/public/modules/dea-env/20180629/lib/python3.6/site-packages/distributed/deploy/local.py\", line 212, in _start_worker\n",
      "    raise gen.TimeoutError(\"Worker failed to start\")\n",
      "tornado.gen.TimeoutError: Worker failed to start\n",
      "\n",
      "During handling of the above exception, another exception occurred:\n",
      "\n",
      "Traceback (most recent call last):\n",
      "  File \"/g/data/v10/public/modules/dea-env/20180629/lib/python3.6/site-packages/tornado/gen.py\", line 828, in callback\n",
      "    result_list.append(f.result())\n",
      "  File \"/g/data/v10/public/modules/dea-env/20180629/lib/python3.6/site-packages/tornado/concurrent.py\", line 238, in result\n",
      "    raise_exc_info(self._exc_info)\n",
      "  File \"<string>\", line 4, in raise_exc_info\n",
      "  File \"/g/data/v10/public/modules/dea-env/20180629/lib/python3.6/site-packages/tornado/gen.py\", line 1069, in run\n",
      "    yielded = self.gen.send(value)\n",
      "  File \"/g/data/v10/public/modules/dea-env/20180629/lib/python3.6/site-packages/distributed/deploy/local.py\", line 212, in _start_worker\n",
      "    raise gen.TimeoutError(\"Worker failed to start\")\n",
      "tornado.gen.TimeoutError: Worker failed to start\n",
      "tornado.application - ERROR - Multiple exceptions in yield list\n",
      "Traceback (most recent call last):\n",
      "  File \"/g/data/v10/public/modules/dea-env/20180629/lib/python3.6/site-packages/tornado/gen.py\", line 1069, in run\n",
      "    yielded = self.gen.send(value)\n",
      "  File \"/g/data/v10/public/modules/dea-env/20180629/lib/python3.6/site-packages/distributed/deploy/local.py\", line 212, in _start_worker\n",
      "    raise gen.TimeoutError(\"Worker failed to start\")\n",
      "tornado.gen.TimeoutError: Worker failed to start\n",
      "\n",
      "During handling of the above exception, another exception occurred:\n",
      "\n",
      "Traceback (most recent call last):\n",
      "  File \"/g/data/v10/public/modules/dea-env/20180629/lib/python3.6/site-packages/tornado/gen.py\", line 828, in callback\n",
      "    result_list.append(f.result())\n",
      "  File \"/g/data/v10/public/modules/dea-env/20180629/lib/python3.6/site-packages/tornado/concurrent.py\", line 238, in result\n",
      "    raise_exc_info(self._exc_info)\n",
      "  File \"<string>\", line 4, in raise_exc_info\n",
      "  File \"/g/data/v10/public/modules/dea-env/20180629/lib/python3.6/site-packages/tornado/gen.py\", line 1069, in run\n",
      "    yielded = self.gen.send(value)\n",
      "  File \"/g/data/v10/public/modules/dea-env/20180629/lib/python3.6/site-packages/distributed/deploy/local.py\", line 212, in _start_worker\n",
      "    raise gen.TimeoutError(\"Worker failed to start\")\n",
      "tornado.gen.TimeoutError: Worker failed to start\n",
      "tornado.application - ERROR - Multiple exceptions in yield list\n",
      "Traceback (most recent call last):\n",
      "  File \"/g/data/v10/public/modules/dea-env/20180629/lib/python3.6/site-packages/tornado/gen.py\", line 1069, in run\n",
      "    yielded = self.gen.send(value)\n",
      "  File \"/g/data/v10/public/modules/dea-env/20180629/lib/python3.6/site-packages/distributed/deploy/local.py\", line 212, in _start_worker\n",
      "    raise gen.TimeoutError(\"Worker failed to start\")\n",
      "tornado.gen.TimeoutError: Worker failed to start\n",
      "\n",
      "During handling of the above exception, another exception occurred:\n",
      "\n",
      "Traceback (most recent call last):\n",
      "  File \"/g/data/v10/public/modules/dea-env/20180629/lib/python3.6/site-packages/tornado/gen.py\", line 828, in callback\n",
      "    result_list.append(f.result())\n",
      "  File \"/g/data/v10/public/modules/dea-env/20180629/lib/python3.6/site-packages/tornado/concurrent.py\", line 238, in result\n",
      "    raise_exc_info(self._exc_info)\n",
      "  File \"<string>\", line 4, in raise_exc_info\n",
      "  File \"/g/data/v10/public/modules/dea-env/20180629/lib/python3.6/site-packages/tornado/gen.py\", line 1069, in run\n",
      "    yielded = self.gen.send(value)\n",
      "  File \"/g/data/v10/public/modules/dea-env/20180629/lib/python3.6/site-packages/distributed/deploy/local.py\", line 212, in _start_worker\n",
      "    raise gen.TimeoutError(\"Worker failed to start\")\n",
      "tornado.gen.TimeoutError: Worker failed to start\n"
     ]
    },
    {
     "name": "stderr",
     "output_type": "stream",
     "text": [
      "tornado.application - ERROR - Multiple exceptions in yield list\n",
      "Traceback (most recent call last):\n",
      "  File \"/g/data/v10/public/modules/dea-env/20180629/lib/python3.6/site-packages/tornado/gen.py\", line 828, in callback\n",
      "    result_list.append(f.result())\n",
      "  File \"/g/data/v10/public/modules/dea-env/20180629/lib/python3.6/site-packages/tornado/concurrent.py\", line 238, in result\n",
      "    raise_exc_info(self._exc_info)\n",
      "  File \"<string>\", line 4, in raise_exc_info\n",
      "  File \"/g/data/v10/public/modules/dea-env/20180629/lib/python3.6/site-packages/tornado/gen.py\", line 1069, in run\n",
      "    yielded = self.gen.send(value)\n",
      "  File \"/g/data/v10/public/modules/dea-env/20180629/lib/python3.6/site-packages/distributed/deploy/local.py\", line 212, in _start_worker\n",
      "    raise gen.TimeoutError(\"Worker failed to start\")\n",
      "tornado.gen.TimeoutError: Worker failed to start\n",
      "tornado.application - ERROR - Multiple exceptions in yield list\n",
      "Traceback (most recent call last):\n",
      "  File \"/g/data/v10/public/modules/dea-env/20180629/lib/python3.6/site-packages/tornado/gen.py\", line 828, in callback\n",
      "    result_list.append(f.result())\n",
      "  File \"/g/data/v10/public/modules/dea-env/20180629/lib/python3.6/site-packages/tornado/concurrent.py\", line 238, in result\n",
      "    raise_exc_info(self._exc_info)\n",
      "  File \"<string>\", line 4, in raise_exc_info\n",
      "  File \"/g/data/v10/public/modules/dea-env/20180629/lib/python3.6/site-packages/tornado/gen.py\", line 1069, in run\n",
      "    yielded = self.gen.send(value)\n",
      "  File \"/g/data/v10/public/modules/dea-env/20180629/lib/python3.6/site-packages/distributed/deploy/local.py\", line 212, in _start_worker\n",
      "    raise gen.TimeoutError(\"Worker failed to start\")\n",
      "tornado.gen.TimeoutError: Worker failed to start\n",
      "\n",
      "During handling of the above exception, another exception occurred:\n",
      "\n",
      "Traceback (most recent call last):\n",
      "  File \"/g/data/v10/public/modules/dea-env/20180629/lib/python3.6/site-packages/tornado/gen.py\", line 828, in callback\n",
      "    result_list.append(f.result())\n",
      "  File \"/g/data/v10/public/modules/dea-env/20180629/lib/python3.6/site-packages/tornado/concurrent.py\", line 238, in result\n",
      "    raise_exc_info(self._exc_info)\n",
      "  File \"<string>\", line 4, in raise_exc_info\n",
      "  File \"/g/data/v10/public/modules/dea-env/20180629/lib/python3.6/site-packages/tornado/gen.py\", line 1069, in run\n",
      "    yielded = self.gen.send(value)\n",
      "  File \"/g/data/v10/public/modules/dea-env/20180629/lib/python3.6/site-packages/distributed/deploy/local.py\", line 212, in _start_worker\n",
      "    raise gen.TimeoutError(\"Worker failed to start\")\n",
      "tornado.gen.TimeoutError: Worker failed to start\n",
      "tornado.application - ERROR - Multiple exceptions in yield list\n",
      "Traceback (most recent call last):\n",
      "  File \"/g/data/v10/public/modules/dea-env/20180629/lib/python3.6/site-packages/tornado/gen.py\", line 828, in callback\n",
      "    result_list.append(f.result())\n",
      "  File \"/g/data/v10/public/modules/dea-env/20180629/lib/python3.6/site-packages/tornado/concurrent.py\", line 238, in result\n",
      "    raise_exc_info(self._exc_info)\n",
      "  File \"<string>\", line 4, in raise_exc_info\n",
      "  File \"/g/data/v10/public/modules/dea-env/20180629/lib/python3.6/site-packages/tornado/gen.py\", line 1069, in run\n",
      "    yielded = self.gen.send(value)\n",
      "  File \"/g/data/v10/public/modules/dea-env/20180629/lib/python3.6/site-packages/distributed/deploy/local.py\", line 212, in _start_worker\n",
      "    raise gen.TimeoutError(\"Worker failed to start\")\n",
      "tornado.gen.TimeoutError: Worker failed to start\n",
      "\n",
      "During handling of the above exception, another exception occurred:\n",
      "\n",
      "Traceback (most recent call last):\n",
      "  File \"/g/data/v10/public/modules/dea-env/20180629/lib/python3.6/site-packages/tornado/gen.py\", line 828, in callback\n",
      "    result_list.append(f.result())\n",
      "  File \"/g/data/v10/public/modules/dea-env/20180629/lib/python3.6/site-packages/tornado/concurrent.py\", line 238, in result\n",
      "    raise_exc_info(self._exc_info)\n",
      "  File \"<string>\", line 4, in raise_exc_info\n",
      "  File \"/g/data/v10/public/modules/dea-env/20180629/lib/python3.6/site-packages/tornado/gen.py\", line 1069, in run\n",
      "    yielded = self.gen.send(value)\n",
      "  File \"/g/data/v10/public/modules/dea-env/20180629/lib/python3.6/site-packages/distributed/deploy/local.py\", line 212, in _start_worker\n",
      "    raise gen.TimeoutError(\"Worker failed to start\")\n",
      "tornado.gen.TimeoutError: Worker failed to start\n"
     ]
    },
    {
     "ename": "TimeoutError",
     "evalue": "Worker failed to start",
     "output_type": "error",
     "traceback": [
      "\u001b[0;31m---------------------------------------------------------------------------\u001b[0m",
      "\u001b[0;31mTimeoutError\u001b[0m                              Traceback (most recent call last)",
      "\u001b[0;32m/g/data/v10/public/modules/dea-env/20180629/lib/python3.6/site-packages/tornado/gen.py\u001b[0m in \u001b[0;36mcallback\u001b[0;34m(f)\u001b[0m\n\u001b[1;32m    827\u001b[0m                 \u001b[0;32mtry\u001b[0m\u001b[0;34m:\u001b[0m\u001b[0;34m\u001b[0m\u001b[0m\n\u001b[0;32m--> 828\u001b[0;31m                     \u001b[0mresult_list\u001b[0m\u001b[0;34m.\u001b[0m\u001b[0mappend\u001b[0m\u001b[0;34m(\u001b[0m\u001b[0mf\u001b[0m\u001b[0;34m.\u001b[0m\u001b[0mresult\u001b[0m\u001b[0;34m(\u001b[0m\u001b[0;34m)\u001b[0m\u001b[0;34m)\u001b[0m\u001b[0;34m\u001b[0m\u001b[0m\n\u001b[0m\u001b[1;32m    829\u001b[0m                 \u001b[0;32mexcept\u001b[0m \u001b[0mException\u001b[0m \u001b[0;32mas\u001b[0m \u001b[0me\u001b[0m\u001b[0;34m:\u001b[0m\u001b[0;34m\u001b[0m\u001b[0m\n",
      "\u001b[0;32m/g/data/v10/public/modules/dea-env/20180629/lib/python3.6/site-packages/tornado/concurrent.py\u001b[0m in \u001b[0;36mresult\u001b[0;34m(self, timeout)\u001b[0m\n\u001b[1;32m    237\u001b[0m             \u001b[0;32mtry\u001b[0m\u001b[0;34m:\u001b[0m\u001b[0;34m\u001b[0m\u001b[0m\n\u001b[0;32m--> 238\u001b[0;31m                 \u001b[0mraise_exc_info\u001b[0m\u001b[0;34m(\u001b[0m\u001b[0mself\u001b[0m\u001b[0;34m.\u001b[0m\u001b[0m_exc_info\u001b[0m\u001b[0;34m)\u001b[0m\u001b[0;34m\u001b[0m\u001b[0m\n\u001b[0m\u001b[1;32m    239\u001b[0m             \u001b[0;32mfinally\u001b[0m\u001b[0;34m:\u001b[0m\u001b[0;34m\u001b[0m\u001b[0m\n",
      "\u001b[0;32m/g/data/v10/public/modules/dea-env/20180629/lib/python3.6/site-packages/tornado/util.py\u001b[0m in \u001b[0;36mraise_exc_info\u001b[0;34m(exc_info)\u001b[0m\n",
      "\u001b[0;32m/g/data/v10/public/modules/dea-env/20180629/lib/python3.6/site-packages/tornado/gen.py\u001b[0m in \u001b[0;36mrun\u001b[0;34m(self)\u001b[0m\n\u001b[1;32m   1068\u001b[0m                     \u001b[0;32melse\u001b[0m\u001b[0;34m:\u001b[0m\u001b[0;34m\u001b[0m\u001b[0m\n\u001b[0;32m-> 1069\u001b[0;31m                         \u001b[0myielded\u001b[0m \u001b[0;34m=\u001b[0m \u001b[0mself\u001b[0m\u001b[0;34m.\u001b[0m\u001b[0mgen\u001b[0m\u001b[0;34m.\u001b[0m\u001b[0msend\u001b[0m\u001b[0;34m(\u001b[0m\u001b[0mvalue\u001b[0m\u001b[0;34m)\u001b[0m\u001b[0;34m\u001b[0m\u001b[0m\n\u001b[0m\u001b[1;32m   1070\u001b[0m \u001b[0;34m\u001b[0m\u001b[0m\n",
      "\u001b[0;32m/g/data/v10/public/modules/dea-env/20180629/lib/python3.6/site-packages/distributed/deploy/local.py\u001b[0m in \u001b[0;36m_start_worker\u001b[0;34m(self, death_timeout, **kwargs)\u001b[0m\n\u001b[1;32m    211\u001b[0m             \u001b[0mself\u001b[0m\u001b[0;34m.\u001b[0m\u001b[0mworkers\u001b[0m\u001b[0;34m.\u001b[0m\u001b[0mremove\u001b[0m\u001b[0;34m(\u001b[0m\u001b[0mw\u001b[0m\u001b[0;34m)\u001b[0m\u001b[0;34m\u001b[0m\u001b[0m\n\u001b[0;32m--> 212\u001b[0;31m             \u001b[0;32mraise\u001b[0m \u001b[0mgen\u001b[0m\u001b[0;34m.\u001b[0m\u001b[0mTimeoutError\u001b[0m\u001b[0;34m(\u001b[0m\u001b[0;34m\"Worker failed to start\"\u001b[0m\u001b[0;34m)\u001b[0m\u001b[0;34m\u001b[0m\u001b[0m\n\u001b[0m\u001b[1;32m    213\u001b[0m \u001b[0;34m\u001b[0m\u001b[0m\n",
      "\u001b[0;31mTimeoutError\u001b[0m: Worker failed to start",
      "\nDuring handling of the above exception, another exception occurred:\n",
      "\u001b[0;31mTimeoutError\u001b[0m                              Traceback (most recent call last)",
      "\u001b[0;32m<ipython-input-5-6e877d11f008>\u001b[0m in \u001b[0;36m<module>\u001b[0;34m()\u001b[0m\n\u001b[0;32m----> 1\u001b[0;31m \u001b[0mcluster\u001b[0m \u001b[0;34m=\u001b[0m \u001b[0mLocalCluster\u001b[0m\u001b[0;34m(\u001b[0m\u001b[0mlocal_dir\u001b[0m\u001b[0;34m=\u001b[0m\u001b[0;34m'/local/u46/adh547/tmp'\u001b[0m\u001b[0;34m)\u001b[0m\u001b[0;34m\u001b[0m\u001b[0m\n\u001b[0m\u001b[1;32m      2\u001b[0m \u001b[0mclient\u001b[0m \u001b[0;34m=\u001b[0m \u001b[0mClient\u001b[0m\u001b[0;34m(\u001b[0m\u001b[0mcluster\u001b[0m\u001b[0;34m)\u001b[0m\u001b[0;34m\u001b[0m\u001b[0m\n\u001b[1;32m      3\u001b[0m \u001b[0mdask\u001b[0m\u001b[0;34m.\u001b[0m\u001b[0mconfig\u001b[0m\u001b[0;34m.\u001b[0m\u001b[0mset\u001b[0m\u001b[0;34m(\u001b[0m\u001b[0mget\u001b[0m\u001b[0;34m=\u001b[0m\u001b[0mclient\u001b[0m\u001b[0;34m.\u001b[0m\u001b[0mget\u001b[0m\u001b[0;34m)\u001b[0m\u001b[0;34m\u001b[0m\u001b[0m\n\u001b[1;32m      4\u001b[0m \u001b[0mclient\u001b[0m\u001b[0;34m\u001b[0m\u001b[0m\n",
      "\u001b[0;32m/g/data/v10/public/modules/dea-env/20180629/lib/python3.6/site-packages/distributed/deploy/local.py\u001b[0m in \u001b[0;36m__init__\u001b[0;34m(self, n_workers, threads_per_worker, processes, loop, start, ip, scheduler_port, silence_logs, diagnostics_port, services, worker_services, service_kwargs, asynchronous, security, **worker_kwargs)\u001b[0m\n\u001b[1;32m    134\u001b[0m             \u001b[0mself\u001b[0m\u001b[0;34m.\u001b[0m\u001b[0mworker_kwargs\u001b[0m\u001b[0;34m[\u001b[0m\u001b[0;34m'security'\u001b[0m\u001b[0;34m]\u001b[0m \u001b[0;34m=\u001b[0m \u001b[0msecurity\u001b[0m\u001b[0;34m\u001b[0m\u001b[0m\n\u001b[1;32m    135\u001b[0m \u001b[0;34m\u001b[0m\u001b[0m\n\u001b[0;32m--> 136\u001b[0;31m         \u001b[0mself\u001b[0m\u001b[0;34m.\u001b[0m\u001b[0mstart\u001b[0m\u001b[0;34m(\u001b[0m\u001b[0mip\u001b[0m\u001b[0;34m=\u001b[0m\u001b[0mip\u001b[0m\u001b[0;34m,\u001b[0m \u001b[0mn_workers\u001b[0m\u001b[0;34m=\u001b[0m\u001b[0mn_workers\u001b[0m\u001b[0;34m)\u001b[0m\u001b[0;34m\u001b[0m\u001b[0m\n\u001b[0m\u001b[1;32m    137\u001b[0m \u001b[0;34m\u001b[0m\u001b[0m\n\u001b[1;32m    138\u001b[0m         \u001b[0mclusters_to_close\u001b[0m\u001b[0;34m.\u001b[0m\u001b[0madd\u001b[0m\u001b[0;34m(\u001b[0m\u001b[0mself\u001b[0m\u001b[0;34m)\u001b[0m\u001b[0;34m\u001b[0m\u001b[0m\n",
      "\u001b[0;32m/g/data/v10/public/modules/dea-env/20180629/lib/python3.6/site-packages/distributed/deploy/local.py\u001b[0m in \u001b[0;36mstart\u001b[0;34m(self, **kwargs)\u001b[0m\n\u001b[1;32m    164\u001b[0m             \u001b[0mself\u001b[0m\u001b[0;34m.\u001b[0m\u001b[0m_started\u001b[0m \u001b[0;34m=\u001b[0m \u001b[0mself\u001b[0m\u001b[0;34m.\u001b[0m\u001b[0m_start\u001b[0m\u001b[0;34m(\u001b[0m\u001b[0;34m**\u001b[0m\u001b[0mkwargs\u001b[0m\u001b[0;34m)\u001b[0m\u001b[0;34m\u001b[0m\u001b[0m\n\u001b[1;32m    165\u001b[0m         \u001b[0;32melse\u001b[0m\u001b[0;34m:\u001b[0m\u001b[0;34m\u001b[0m\u001b[0m\n\u001b[0;32m--> 166\u001b[0;31m             \u001b[0mself\u001b[0m\u001b[0;34m.\u001b[0m\u001b[0msync\u001b[0m\u001b[0;34m(\u001b[0m\u001b[0mself\u001b[0m\u001b[0;34m.\u001b[0m\u001b[0m_start\u001b[0m\u001b[0;34m,\u001b[0m \u001b[0;34m**\u001b[0m\u001b[0mkwargs\u001b[0m\u001b[0;34m)\u001b[0m\u001b[0;34m\u001b[0m\u001b[0m\n\u001b[0m\u001b[1;32m    167\u001b[0m \u001b[0;34m\u001b[0m\u001b[0m\n\u001b[1;32m    168\u001b[0m     \u001b[0;34m@\u001b[0m\u001b[0mgen\u001b[0m\u001b[0;34m.\u001b[0m\u001b[0mcoroutine\u001b[0m\u001b[0;34m\u001b[0m\u001b[0m\n",
      "\u001b[0;32m/g/data/v10/public/modules/dea-env/20180629/lib/python3.6/site-packages/distributed/deploy/local.py\u001b[0m in \u001b[0;36msync\u001b[0;34m(self, func, *args, **kwargs)\u001b[0m\n\u001b[1;32m    157\u001b[0m             \u001b[0;32mreturn\u001b[0m \u001b[0mfuture\u001b[0m\u001b[0;34m\u001b[0m\u001b[0m\n\u001b[1;32m    158\u001b[0m         \u001b[0;32melse\u001b[0m\u001b[0;34m:\u001b[0m\u001b[0;34m\u001b[0m\u001b[0m\n\u001b[0;32m--> 159\u001b[0;31m             \u001b[0;32mreturn\u001b[0m \u001b[0msync\u001b[0m\u001b[0;34m(\u001b[0m\u001b[0mself\u001b[0m\u001b[0;34m.\u001b[0m\u001b[0mloop\u001b[0m\u001b[0;34m,\u001b[0m \u001b[0mfunc\u001b[0m\u001b[0;34m,\u001b[0m \u001b[0;34m*\u001b[0m\u001b[0margs\u001b[0m\u001b[0;34m,\u001b[0m \u001b[0;34m**\u001b[0m\u001b[0mkwargs\u001b[0m\u001b[0;34m)\u001b[0m\u001b[0;34m\u001b[0m\u001b[0m\n\u001b[0m\u001b[1;32m    160\u001b[0m \u001b[0;34m\u001b[0m\u001b[0m\n\u001b[1;32m    161\u001b[0m     \u001b[0;32mdef\u001b[0m \u001b[0mstart\u001b[0m\u001b[0;34m(\u001b[0m\u001b[0mself\u001b[0m\u001b[0;34m,\u001b[0m \u001b[0;34m**\u001b[0m\u001b[0mkwargs\u001b[0m\u001b[0;34m)\u001b[0m\u001b[0;34m:\u001b[0m\u001b[0;34m\u001b[0m\u001b[0m\n",
      "\u001b[0;32m/g/data/v10/public/modules/dea-env/20180629/lib/python3.6/site-packages/distributed/utils.py\u001b[0m in \u001b[0;36msync\u001b[0;34m(loop, func, *args, **kwargs)\u001b[0m\n\u001b[1;32m    273\u001b[0m             \u001b[0me\u001b[0m\u001b[0;34m.\u001b[0m\u001b[0mwait\u001b[0m\u001b[0;34m(\u001b[0m\u001b[0;36m10\u001b[0m\u001b[0;34m)\u001b[0m\u001b[0;34m\u001b[0m\u001b[0m\n\u001b[1;32m    274\u001b[0m     \u001b[0;32mif\u001b[0m \u001b[0merror\u001b[0m\u001b[0;34m[\u001b[0m\u001b[0;36m0\u001b[0m\u001b[0;34m]\u001b[0m\u001b[0;34m:\u001b[0m\u001b[0;34m\u001b[0m\u001b[0m\n\u001b[0;32m--> 275\u001b[0;31m         \u001b[0msix\u001b[0m\u001b[0;34m.\u001b[0m\u001b[0mreraise\u001b[0m\u001b[0;34m(\u001b[0m\u001b[0;34m*\u001b[0m\u001b[0merror\u001b[0m\u001b[0;34m[\u001b[0m\u001b[0;36m0\u001b[0m\u001b[0;34m]\u001b[0m\u001b[0;34m)\u001b[0m\u001b[0;34m\u001b[0m\u001b[0m\n\u001b[0m\u001b[1;32m    276\u001b[0m     \u001b[0;32melse\u001b[0m\u001b[0;34m:\u001b[0m\u001b[0;34m\u001b[0m\u001b[0m\n\u001b[1;32m    277\u001b[0m         \u001b[0;32mreturn\u001b[0m \u001b[0mresult\u001b[0m\u001b[0;34m[\u001b[0m\u001b[0;36m0\u001b[0m\u001b[0;34m]\u001b[0m\u001b[0;34m\u001b[0m\u001b[0m\n",
      "\u001b[0;32m/g/data/v10/public/modules/dea-env/20180629/lib/python3.6/site-packages/six.py\u001b[0m in \u001b[0;36mreraise\u001b[0;34m(tp, value, tb)\u001b[0m\n\u001b[1;32m    691\u001b[0m             \u001b[0;32mif\u001b[0m \u001b[0mvalue\u001b[0m\u001b[0;34m.\u001b[0m\u001b[0m__traceback__\u001b[0m \u001b[0;32mis\u001b[0m \u001b[0;32mnot\u001b[0m \u001b[0mtb\u001b[0m\u001b[0;34m:\u001b[0m\u001b[0;34m\u001b[0m\u001b[0m\n\u001b[1;32m    692\u001b[0m                 \u001b[0;32mraise\u001b[0m \u001b[0mvalue\u001b[0m\u001b[0;34m.\u001b[0m\u001b[0mwith_traceback\u001b[0m\u001b[0;34m(\u001b[0m\u001b[0mtb\u001b[0m\u001b[0;34m)\u001b[0m\u001b[0;34m\u001b[0m\u001b[0m\n\u001b[0;32m--> 693\u001b[0;31m             \u001b[0;32mraise\u001b[0m \u001b[0mvalue\u001b[0m\u001b[0;34m\u001b[0m\u001b[0m\n\u001b[0m\u001b[1;32m    694\u001b[0m         \u001b[0;32mfinally\u001b[0m\u001b[0;34m:\u001b[0m\u001b[0;34m\u001b[0m\u001b[0m\n\u001b[1;32m    695\u001b[0m             \u001b[0mvalue\u001b[0m \u001b[0;34m=\u001b[0m \u001b[0;32mNone\u001b[0m\u001b[0;34m\u001b[0m\u001b[0m\n",
      "\u001b[0;32m/g/data/v10/public/modules/dea-env/20180629/lib/python3.6/site-packages/distributed/utils.py\u001b[0m in \u001b[0;36mf\u001b[0;34m()\u001b[0m\n\u001b[1;32m    258\u001b[0m             \u001b[0;32myield\u001b[0m \u001b[0mgen\u001b[0m\u001b[0;34m.\u001b[0m\u001b[0mmoment\u001b[0m\u001b[0;34m\u001b[0m\u001b[0m\n\u001b[1;32m    259\u001b[0m             \u001b[0mthread_state\u001b[0m\u001b[0;34m.\u001b[0m\u001b[0masynchronous\u001b[0m \u001b[0;34m=\u001b[0m \u001b[0;32mTrue\u001b[0m\u001b[0;34m\u001b[0m\u001b[0m\n\u001b[0;32m--> 260\u001b[0;31m             \u001b[0mresult\u001b[0m\u001b[0;34m[\u001b[0m\u001b[0;36m0\u001b[0m\u001b[0;34m]\u001b[0m \u001b[0;34m=\u001b[0m \u001b[0;32myield\u001b[0m \u001b[0mmake_coro\u001b[0m\u001b[0;34m(\u001b[0m\u001b[0;34m)\u001b[0m\u001b[0;34m\u001b[0m\u001b[0m\n\u001b[0m\u001b[1;32m    261\u001b[0m         \u001b[0;32mexcept\u001b[0m \u001b[0mException\u001b[0m \u001b[0;32mas\u001b[0m \u001b[0mexc\u001b[0m\u001b[0;34m:\u001b[0m\u001b[0;34m\u001b[0m\u001b[0m\n\u001b[1;32m    262\u001b[0m             \u001b[0merror\u001b[0m\u001b[0;34m[\u001b[0m\u001b[0;36m0\u001b[0m\u001b[0;34m]\u001b[0m \u001b[0;34m=\u001b[0m \u001b[0msys\u001b[0m\u001b[0;34m.\u001b[0m\u001b[0mexc_info\u001b[0m\u001b[0;34m(\u001b[0m\u001b[0;34m)\u001b[0m\u001b[0;34m\u001b[0m\u001b[0m\n",
      "\u001b[0;32m/g/data/v10/public/modules/dea-env/20180629/lib/python3.6/site-packages/tornado/gen.py\u001b[0m in \u001b[0;36mrun\u001b[0;34m(self)\u001b[0m\n\u001b[1;32m   1053\u001b[0m \u001b[0;34m\u001b[0m\u001b[0m\n\u001b[1;32m   1054\u001b[0m                     \u001b[0;32mtry\u001b[0m\u001b[0;34m:\u001b[0m\u001b[0;34m\u001b[0m\u001b[0m\n\u001b[0;32m-> 1055\u001b[0;31m                         \u001b[0mvalue\u001b[0m \u001b[0;34m=\u001b[0m \u001b[0mfuture\u001b[0m\u001b[0;34m.\u001b[0m\u001b[0mresult\u001b[0m\u001b[0;34m(\u001b[0m\u001b[0;34m)\u001b[0m\u001b[0;34m\u001b[0m\u001b[0m\n\u001b[0m\u001b[1;32m   1056\u001b[0m                     \u001b[0;32mexcept\u001b[0m \u001b[0mException\u001b[0m\u001b[0;34m:\u001b[0m\u001b[0;34m\u001b[0m\u001b[0m\n\u001b[1;32m   1057\u001b[0m                         \u001b[0mself\u001b[0m\u001b[0;34m.\u001b[0m\u001b[0mhad_exception\u001b[0m \u001b[0;34m=\u001b[0m \u001b[0;32mTrue\u001b[0m\u001b[0;34m\u001b[0m\u001b[0m\n",
      "\u001b[0;32m/g/data/v10/public/modules/dea-env/20180629/lib/python3.6/site-packages/tornado/concurrent.py\u001b[0m in \u001b[0;36mresult\u001b[0;34m(self, timeout)\u001b[0m\n\u001b[1;32m    236\u001b[0m         \u001b[0;32mif\u001b[0m \u001b[0mself\u001b[0m\u001b[0;34m.\u001b[0m\u001b[0m_exc_info\u001b[0m \u001b[0;32mis\u001b[0m \u001b[0;32mnot\u001b[0m \u001b[0;32mNone\u001b[0m\u001b[0;34m:\u001b[0m\u001b[0;34m\u001b[0m\u001b[0m\n\u001b[1;32m    237\u001b[0m             \u001b[0;32mtry\u001b[0m\u001b[0;34m:\u001b[0m\u001b[0;34m\u001b[0m\u001b[0m\n\u001b[0;32m--> 238\u001b[0;31m                 \u001b[0mraise_exc_info\u001b[0m\u001b[0;34m(\u001b[0m\u001b[0mself\u001b[0m\u001b[0;34m.\u001b[0m\u001b[0m_exc_info\u001b[0m\u001b[0;34m)\u001b[0m\u001b[0;34m\u001b[0m\u001b[0m\n\u001b[0m\u001b[1;32m    239\u001b[0m             \u001b[0;32mfinally\u001b[0m\u001b[0;34m:\u001b[0m\u001b[0;34m\u001b[0m\u001b[0m\n\u001b[1;32m    240\u001b[0m                 \u001b[0mself\u001b[0m \u001b[0;34m=\u001b[0m \u001b[0;32mNone\u001b[0m\u001b[0;34m\u001b[0m\u001b[0m\n",
      "\u001b[0;32m/g/data/v10/public/modules/dea-env/20180629/lib/python3.6/site-packages/tornado/util.py\u001b[0m in \u001b[0;36mraise_exc_info\u001b[0;34m(exc_info)\u001b[0m\n",
      "\u001b[0;32m/g/data/v10/public/modules/dea-env/20180629/lib/python3.6/site-packages/tornado/gen.py\u001b[0m in \u001b[0;36mrun\u001b[0;34m(self)\u001b[0m\n\u001b[1;32m   1061\u001b[0m                     \u001b[0;32mif\u001b[0m \u001b[0mexc_info\u001b[0m \u001b[0;32mis\u001b[0m \u001b[0;32mnot\u001b[0m \u001b[0;32mNone\u001b[0m\u001b[0;34m:\u001b[0m\u001b[0;34m\u001b[0m\u001b[0m\n\u001b[1;32m   1062\u001b[0m                         \u001b[0;32mtry\u001b[0m\u001b[0;34m:\u001b[0m\u001b[0;34m\u001b[0m\u001b[0m\n\u001b[0;32m-> 1063\u001b[0;31m                             \u001b[0myielded\u001b[0m \u001b[0;34m=\u001b[0m \u001b[0mself\u001b[0m\u001b[0;34m.\u001b[0m\u001b[0mgen\u001b[0m\u001b[0;34m.\u001b[0m\u001b[0mthrow\u001b[0m\u001b[0;34m(\u001b[0m\u001b[0;34m*\u001b[0m\u001b[0mexc_info\u001b[0m\u001b[0;34m)\u001b[0m\u001b[0;34m\u001b[0m\u001b[0m\n\u001b[0m\u001b[1;32m   1064\u001b[0m                         \u001b[0;32mfinally\u001b[0m\u001b[0;34m:\u001b[0m\u001b[0;34m\u001b[0m\u001b[0m\n\u001b[1;32m   1065\u001b[0m                             \u001b[0;31m# Break up a reference to itself\u001b[0m\u001b[0;34m\u001b[0m\u001b[0;34m\u001b[0m\u001b[0m\n",
      "\u001b[0;32m/g/data/v10/public/modules/dea-env/20180629/lib/python3.6/site-packages/distributed/deploy/local.py\u001b[0m in \u001b[0;36m_start\u001b[0;34m(self, ip, n_workers)\u001b[0m\n\u001b[1;32m    184\u001b[0m         \u001b[0mself\u001b[0m\u001b[0;34m.\u001b[0m\u001b[0mscheduler\u001b[0m\u001b[0;34m.\u001b[0m\u001b[0mstart\u001b[0m\u001b[0;34m(\u001b[0m\u001b[0mscheduler_address\u001b[0m\u001b[0;34m)\u001b[0m\u001b[0;34m\u001b[0m\u001b[0m\n\u001b[1;32m    185\u001b[0m \u001b[0;34m\u001b[0m\u001b[0m\n\u001b[0;32m--> 186\u001b[0;31m         \u001b[0;32myield\u001b[0m \u001b[0;34m[\u001b[0m\u001b[0mself\u001b[0m\u001b[0;34m.\u001b[0m\u001b[0m_start_worker\u001b[0m\u001b[0;34m(\u001b[0m\u001b[0;34m**\u001b[0m\u001b[0mself\u001b[0m\u001b[0;34m.\u001b[0m\u001b[0mworker_kwargs\u001b[0m\u001b[0;34m)\u001b[0m \u001b[0;32mfor\u001b[0m \u001b[0mi\u001b[0m \u001b[0;32min\u001b[0m \u001b[0mrange\u001b[0m\u001b[0;34m(\u001b[0m\u001b[0mn_workers\u001b[0m\u001b[0;34m)\u001b[0m\u001b[0;34m]\u001b[0m\u001b[0;34m\u001b[0m\u001b[0m\n\u001b[0m\u001b[1;32m    187\u001b[0m \u001b[0;34m\u001b[0m\u001b[0m\n\u001b[1;32m    188\u001b[0m         \u001b[0mself\u001b[0m\u001b[0;34m.\u001b[0m\u001b[0mstatus\u001b[0m \u001b[0;34m=\u001b[0m \u001b[0;34m'running'\u001b[0m\u001b[0;34m\u001b[0m\u001b[0m\n",
      "\u001b[0;32m/g/data/v10/public/modules/dea-env/20180629/lib/python3.6/site-packages/tornado/gen.py\u001b[0m in \u001b[0;36mrun\u001b[0;34m(self)\u001b[0m\n\u001b[1;32m   1053\u001b[0m \u001b[0;34m\u001b[0m\u001b[0m\n\u001b[1;32m   1054\u001b[0m                     \u001b[0;32mtry\u001b[0m\u001b[0;34m:\u001b[0m\u001b[0;34m\u001b[0m\u001b[0m\n\u001b[0;32m-> 1055\u001b[0;31m                         \u001b[0mvalue\u001b[0m \u001b[0;34m=\u001b[0m \u001b[0mfuture\u001b[0m\u001b[0;34m.\u001b[0m\u001b[0mresult\u001b[0m\u001b[0;34m(\u001b[0m\u001b[0;34m)\u001b[0m\u001b[0;34m\u001b[0m\u001b[0m\n\u001b[0m\u001b[1;32m   1056\u001b[0m                     \u001b[0;32mexcept\u001b[0m \u001b[0mException\u001b[0m\u001b[0;34m:\u001b[0m\u001b[0;34m\u001b[0m\u001b[0m\n\u001b[1;32m   1057\u001b[0m                         \u001b[0mself\u001b[0m\u001b[0;34m.\u001b[0m\u001b[0mhad_exception\u001b[0m \u001b[0;34m=\u001b[0m \u001b[0;32mTrue\u001b[0m\u001b[0;34m\u001b[0m\u001b[0m\n",
      "\u001b[0;32m/g/data/v10/public/modules/dea-env/20180629/lib/python3.6/site-packages/tornado/concurrent.py\u001b[0m in \u001b[0;36mresult\u001b[0;34m(self, timeout)\u001b[0m\n\u001b[1;32m    236\u001b[0m         \u001b[0;32mif\u001b[0m \u001b[0mself\u001b[0m\u001b[0;34m.\u001b[0m\u001b[0m_exc_info\u001b[0m \u001b[0;32mis\u001b[0m \u001b[0;32mnot\u001b[0m \u001b[0;32mNone\u001b[0m\u001b[0;34m:\u001b[0m\u001b[0;34m\u001b[0m\u001b[0m\n\u001b[1;32m    237\u001b[0m             \u001b[0;32mtry\u001b[0m\u001b[0;34m:\u001b[0m\u001b[0;34m\u001b[0m\u001b[0m\n\u001b[0;32m--> 238\u001b[0;31m                 \u001b[0mraise_exc_info\u001b[0m\u001b[0;34m(\u001b[0m\u001b[0mself\u001b[0m\u001b[0;34m.\u001b[0m\u001b[0m_exc_info\u001b[0m\u001b[0;34m)\u001b[0m\u001b[0;34m\u001b[0m\u001b[0m\n\u001b[0m\u001b[1;32m    239\u001b[0m             \u001b[0;32mfinally\u001b[0m\u001b[0;34m:\u001b[0m\u001b[0;34m\u001b[0m\u001b[0m\n\u001b[1;32m    240\u001b[0m                 \u001b[0mself\u001b[0m \u001b[0;34m=\u001b[0m \u001b[0;32mNone\u001b[0m\u001b[0;34m\u001b[0m\u001b[0m\n",
      "\u001b[0;32m/g/data/v10/public/modules/dea-env/20180629/lib/python3.6/site-packages/tornado/util.py\u001b[0m in \u001b[0;36mraise_exc_info\u001b[0;34m(exc_info)\u001b[0m\n",
      "\u001b[0;32m/g/data/v10/public/modules/dea-env/20180629/lib/python3.6/site-packages/tornado/gen.py\u001b[0m in \u001b[0;36mcallback\u001b[0;34m(f)\u001b[0m\n\u001b[1;32m    826\u001b[0m             \u001b[0;32mfor\u001b[0m \u001b[0mf\u001b[0m \u001b[0;32min\u001b[0m \u001b[0mchildren\u001b[0m\u001b[0;34m:\u001b[0m\u001b[0;34m\u001b[0m\u001b[0m\n\u001b[1;32m    827\u001b[0m                 \u001b[0;32mtry\u001b[0m\u001b[0;34m:\u001b[0m\u001b[0;34m\u001b[0m\u001b[0m\n\u001b[0;32m--> 828\u001b[0;31m                     \u001b[0mresult_list\u001b[0m\u001b[0;34m.\u001b[0m\u001b[0mappend\u001b[0m\u001b[0;34m(\u001b[0m\u001b[0mf\u001b[0m\u001b[0;34m.\u001b[0m\u001b[0mresult\u001b[0m\u001b[0;34m(\u001b[0m\u001b[0;34m)\u001b[0m\u001b[0;34m)\u001b[0m\u001b[0;34m\u001b[0m\u001b[0m\n\u001b[0m\u001b[1;32m    829\u001b[0m                 \u001b[0;32mexcept\u001b[0m \u001b[0mException\u001b[0m \u001b[0;32mas\u001b[0m \u001b[0me\u001b[0m\u001b[0;34m:\u001b[0m\u001b[0;34m\u001b[0m\u001b[0m\n\u001b[1;32m    830\u001b[0m                     \u001b[0;32mif\u001b[0m \u001b[0mfuture\u001b[0m\u001b[0;34m.\u001b[0m\u001b[0mdone\u001b[0m\u001b[0;34m(\u001b[0m\u001b[0;34m)\u001b[0m\u001b[0;34m:\u001b[0m\u001b[0;34m\u001b[0m\u001b[0m\n",
      "\u001b[0;32m/g/data/v10/public/modules/dea-env/20180629/lib/python3.6/site-packages/tornado/concurrent.py\u001b[0m in \u001b[0;36mresult\u001b[0;34m(self, timeout)\u001b[0m\n\u001b[1;32m    236\u001b[0m         \u001b[0;32mif\u001b[0m \u001b[0mself\u001b[0m\u001b[0;34m.\u001b[0m\u001b[0m_exc_info\u001b[0m \u001b[0;32mis\u001b[0m \u001b[0;32mnot\u001b[0m \u001b[0;32mNone\u001b[0m\u001b[0;34m:\u001b[0m\u001b[0;34m\u001b[0m\u001b[0m\n\u001b[1;32m    237\u001b[0m             \u001b[0;32mtry\u001b[0m\u001b[0;34m:\u001b[0m\u001b[0;34m\u001b[0m\u001b[0m\n\u001b[0;32m--> 238\u001b[0;31m                 \u001b[0mraise_exc_info\u001b[0m\u001b[0;34m(\u001b[0m\u001b[0mself\u001b[0m\u001b[0;34m.\u001b[0m\u001b[0m_exc_info\u001b[0m\u001b[0;34m)\u001b[0m\u001b[0;34m\u001b[0m\u001b[0m\n\u001b[0m\u001b[1;32m    239\u001b[0m             \u001b[0;32mfinally\u001b[0m\u001b[0;34m:\u001b[0m\u001b[0;34m\u001b[0m\u001b[0m\n\u001b[1;32m    240\u001b[0m                 \u001b[0mself\u001b[0m \u001b[0;34m=\u001b[0m \u001b[0;32mNone\u001b[0m\u001b[0;34m\u001b[0m\u001b[0m\n",
      "\u001b[0;32m/g/data/v10/public/modules/dea-env/20180629/lib/python3.6/site-packages/tornado/util.py\u001b[0m in \u001b[0;36mraise_exc_info\u001b[0;34m(exc_info)\u001b[0m\n",
      "\u001b[0;32m/g/data/v10/public/modules/dea-env/20180629/lib/python3.6/site-packages/tornado/gen.py\u001b[0m in \u001b[0;36mrun\u001b[0;34m(self)\u001b[0m\n\u001b[1;32m   1067\u001b[0m                             \u001b[0mexc_info\u001b[0m \u001b[0;34m=\u001b[0m \u001b[0;32mNone\u001b[0m\u001b[0;34m\u001b[0m\u001b[0m\n\u001b[1;32m   1068\u001b[0m                     \u001b[0;32melse\u001b[0m\u001b[0;34m:\u001b[0m\u001b[0;34m\u001b[0m\u001b[0m\n\u001b[0;32m-> 1069\u001b[0;31m                         \u001b[0myielded\u001b[0m \u001b[0;34m=\u001b[0m \u001b[0mself\u001b[0m\u001b[0;34m.\u001b[0m\u001b[0mgen\u001b[0m\u001b[0;34m.\u001b[0m\u001b[0msend\u001b[0m\u001b[0;34m(\u001b[0m\u001b[0mvalue\u001b[0m\u001b[0;34m)\u001b[0m\u001b[0;34m\u001b[0m\u001b[0m\n\u001b[0m\u001b[1;32m   1070\u001b[0m \u001b[0;34m\u001b[0m\u001b[0m\n\u001b[1;32m   1071\u001b[0m                     \u001b[0;32mif\u001b[0m \u001b[0mstack_context\u001b[0m\u001b[0;34m.\u001b[0m\u001b[0m_state\u001b[0m\u001b[0;34m.\u001b[0m\u001b[0mcontexts\u001b[0m \u001b[0;32mis\u001b[0m \u001b[0;32mnot\u001b[0m \u001b[0morig_stack_contexts\u001b[0m\u001b[0;34m:\u001b[0m\u001b[0;34m\u001b[0m\u001b[0m\n",
      "\u001b[0;32m/g/data/v10/public/modules/dea-env/20180629/lib/python3.6/site-packages/distributed/deploy/local.py\u001b[0m in \u001b[0;36m_start_worker\u001b[0;34m(self, death_timeout, **kwargs)\u001b[0m\n\u001b[1;32m    210\u001b[0m         \u001b[0;32mif\u001b[0m \u001b[0mw\u001b[0m\u001b[0;34m.\u001b[0m\u001b[0mstatus\u001b[0m \u001b[0;34m==\u001b[0m \u001b[0;34m'closed'\u001b[0m \u001b[0;32mand\u001b[0m \u001b[0mself\u001b[0m\u001b[0;34m.\u001b[0m\u001b[0mscheduler\u001b[0m\u001b[0;34m.\u001b[0m\u001b[0mstatus\u001b[0m \u001b[0;34m==\u001b[0m \u001b[0;34m'running'\u001b[0m\u001b[0;34m:\u001b[0m\u001b[0;34m\u001b[0m\u001b[0m\n\u001b[1;32m    211\u001b[0m             \u001b[0mself\u001b[0m\u001b[0;34m.\u001b[0m\u001b[0mworkers\u001b[0m\u001b[0;34m.\u001b[0m\u001b[0mremove\u001b[0m\u001b[0;34m(\u001b[0m\u001b[0mw\u001b[0m\u001b[0;34m)\u001b[0m\u001b[0;34m\u001b[0m\u001b[0m\n\u001b[0;32m--> 212\u001b[0;31m             \u001b[0;32mraise\u001b[0m \u001b[0mgen\u001b[0m\u001b[0;34m.\u001b[0m\u001b[0mTimeoutError\u001b[0m\u001b[0;34m(\u001b[0m\u001b[0;34m\"Worker failed to start\"\u001b[0m\u001b[0;34m)\u001b[0m\u001b[0;34m\u001b[0m\u001b[0m\n\u001b[0m\u001b[1;32m    213\u001b[0m \u001b[0;34m\u001b[0m\u001b[0m\n\u001b[1;32m    214\u001b[0m         \u001b[0;32mraise\u001b[0m \u001b[0mgen\u001b[0m\u001b[0;34m.\u001b[0m\u001b[0mReturn\u001b[0m\u001b[0;34m(\u001b[0m\u001b[0mw\u001b[0m\u001b[0;34m)\u001b[0m\u001b[0;34m\u001b[0m\u001b[0m\n",
      "\u001b[0;31mTimeoutError\u001b[0m: Worker failed to start"
     ]
    }
   ],
   "source": [
    "cluster = LocalCluster(local_dir='/local/u46/adh547/tmp')\n",
    "client = Client(cluster)\n",
    "dask.config.set(get=client.get)\n",
    "client"
   ]
  },
  {
   "cell_type": "markdown",
   "metadata": {},
   "source": [
    "#  Loop through catchments"
   ]
  },
  {
   "cell_type": "markdown",
   "metadata": {},
   "source": [
    "## Set up catchment data"
   ]
  },
  {
   "cell_type": "code",
   "execution_count": 16,
   "metadata": {
    "ExecuteTime": {
     "end_time": "2018-08-13T06:02:30.135620Z",
     "start_time": "2018-08-13T06:02:29.001473Z"
    }
   },
   "outputs": [
    {
     "data": {
      "text/plain": [
       "(CRS('EPSG:4326'), [-0.25, 0.25], (0.0, 0.0))"
      ]
     },
     "execution_count": 16,
     "metadata": {},
     "output_type": "execute_result"
    }
   ],
   "source": [
    "product = dc.index.products.get_by_name('rainfall_grids_1998_2017')\n",
    "datasets = dc.find_datasets(product='rainfall_grids_1998_2017')\n",
    "crs = product.grid_spec.crs\n",
    "resolution = product.grid_spec.resolution\n",
    "align = product.grid_spec.alignment\n",
    "\n",
    "crs, resolution, align"
   ]
  },
  {
   "cell_type": "code",
   "execution_count": 17,
   "metadata": {
    "ExecuteTime": {
     "end_time": "2018-08-13T06:02:31.954802Z",
     "start_time": "2018-08-13T06:02:31.948416Z"
    }
   },
   "outputs": [
    {
     "data": {
      "text/plain": [
       "[-0.0025, 0.0025]"
      ]
     },
     "execution_count": 17,
     "metadata": {},
     "output_type": "execute_result"
    }
   ],
   "source": [
    "upsample = 0.01\n",
    "hi_resolution = [r * upsample for r in resolution]\n",
    "hi_resolution"
   ]
  },
  {
   "cell_type": "code",
   "execution_count": 18,
   "metadata": {
    "ExecuteTime": {
     "end_time": "2018-08-13T06:02:32.750162Z",
     "start_time": "2018-08-13T06:02:32.745486Z"
    }
   },
   "outputs": [],
   "source": [
    "shapes = get_shapes(shape_file)"
   ]
  },
  {
   "cell_type": "markdown",
   "metadata": {},
   "source": [
    "## load data for catchments"
   ]
  },
  {
   "cell_type": "code",
   "execution_count": null,
   "metadata": {
    "ExecuteTime": {
     "start_time": "2018-08-13T06:02:34.165Z"
    }
   },
   "outputs": [
    {
     "name": "stdout",
     "output_type": "stream",
     "text": [
      "1\n"
     ]
    }
   ],
   "source": [
    "loaded_xr = {}\n",
    "for geometry, properties in shapes:\n",
    "    geobox = datacube.utils.geometry.GeoBox.from_geopolygon(geometry, hi_resolution, crs, align)\n",
    "    data = dc.load(product='rainfall_grids_1998_2017', \n",
    "               measurement='rainfall', \n",
    "               datasets=datasets, \n",
    "               dask_chunks={'time': 1}, \n",
    "               geopolygon=geometry,\n",
    "               resolution=hi_resolution)\n",
    "    SCID = properties['SCID']\n",
    "    print(SCID)\n",
    "    mask = geometry_mask([geometry], geobox, all_touched=True, invert=True)\n",
    "    rain_array = data.rainfall.where(data.rainfall > -1).where(mask)\n",
    "    loaded = rain_array.mean(dim=['latitude', 'longitude']).load();\n",
    "    loaded_xr[SCID] = loaded\n",
    "print(loaded_xr)\n",
    "\n",
    "loaded_pd = pd.DataFrame.from_dict(loaded_xr)\n",
    "\n",
    "col = loaded.time.values\n",
    "loaded_pd.index = col"
   ]
  },
  {
   "cell_type": "code",
   "execution_count": null,
   "metadata": {
    "ExecuteTime": {
     "start_time": "2018-08-13T06:02:41.245Z"
    }
   },
   "outputs": [],
   "source": [
    "print loaded_pd"
   ]
  },
  {
   "cell_type": "code",
   "execution_count": null,
   "metadata": {
    "ExecuteTime": {
     "end_time": "2018-08-13T05:20:05.062229Z",
     "start_time": "2018-08-13T05:20:04.511483Z"
    }
   },
   "outputs": [],
   "source": [
    "csv_out = '/g/data/u46/users/ext547/ewater/input_data/Cambodia_boundary/csv_out.csv'\n",
    "loaded_pd.to_csv(csv_out)"
   ]
  },
  {
   "cell_type": "code",
   "execution_count": null,
   "metadata": {},
   "outputs": [],
   "source": []
  },
  {
   "cell_type": "code",
   "execution_count": null,
   "metadata": {},
   "outputs": [],
   "source": []
  },
  {
   "cell_type": "code",
   "execution_count": null,
   "metadata": {},
   "outputs": [],
   "source": []
  },
  {
   "cell_type": "code",
   "execution_count": null,
   "metadata": {},
   "outputs": [],
   "source": []
  },
  {
   "cell_type": "code",
   "execution_count": null,
   "metadata": {},
   "outputs": [],
   "source": []
  },
  {
   "cell_type": "code",
   "execution_count": null,
   "metadata": {
    "ExecuteTime": {
     "end_time": "2018-08-13T05:49:33.671455Z",
     "start_time": "2018-08-13T05:49:33.668290Z"
    }
   },
   "outputs": [],
   "source": [
    "# %matplotlib inline"
   ]
  },
  {
   "cell_type": "code",
   "execution_count": null,
   "metadata": {
    "ExecuteTime": {
     "end_time": "2018-08-13T05:50:02.037041Z",
     "start_time": "2018-08-13T05:50:02.031916Z"
    }
   },
   "outputs": [],
   "source": [
    "# import pandas as pd\n",
    "# import dask\n",
    "# from distributed import Client, LocalCluster"
   ]
  },
  {
   "cell_type": "code",
   "execution_count": null,
   "metadata": {
    "ExecuteTime": {
     "end_time": "2018-08-13T05:50:48.806055Z",
     "start_time": "2018-08-13T05:50:48.802513Z"
    }
   },
   "outputs": [],
   "source": [
    "# crs, resolution, align"
   ]
  },
  {
   "cell_type": "code",
   "execution_count": null,
   "metadata": {
    "ExecuteTime": {
     "end_time": "2018-08-13T05:50:49.271305Z",
     "start_time": "2018-08-13T05:50:49.267541Z"
    }
   },
   "outputs": [],
   "source": [
    "# datasets = dc.find_datasets(product='rainfall_grids_1998_2017')\n",
    "# len(datasets)"
   ]
  },
  {
   "cell_type": "code",
   "execution_count": null,
   "metadata": {
    "ExecuteTime": {
     "end_time": "2018-08-13T03:54:28.650723Z",
     "start_time": "2018-08-13T03:54:28.646180Z"
    }
   },
   "outputs": [],
   "source": [
    "# geometry, properties = next(shapes)"
   ]
  },
  {
   "cell_type": "code",
   "execution_count": null,
   "metadata": {
    "ExecuteTime": {
     "end_time": "2018-08-13T03:54:29.257990Z",
     "start_time": "2018-08-13T03:54:29.254966Z"
    }
   },
   "outputs": [],
   "source": [
    "# properties"
   ]
  },
  {
   "cell_type": "code",
   "execution_count": null,
   "metadata": {
    "ExecuteTime": {
     "end_time": "2018-08-13T05:50:58.209925Z",
     "start_time": "2018-08-13T05:50:58.206030Z"
    }
   },
   "outputs": [],
   "source": [
    "# mp = MultiPolygon([asShape(geometry) for geometry, _ in get_shapes(shape_file)])\n",
    "# mp"
   ]
  },
  {
   "cell_type": "code",
   "execution_count": null,
   "metadata": {
    "ExecuteTime": {
     "end_time": "2018-08-13T03:54:29.577417Z",
     "start_time": "2018-08-13T03:54:29.571243Z"
    }
   },
   "outputs": [],
   "source": [
    "# geobox = datacube.utils.geometry.GeoBox.from_geopolygon(geometry, hi_resolution, crs, align)"
   ]
  },
  {
   "cell_type": "code",
   "execution_count": null,
   "metadata": {
    "ExecuteTime": {
     "end_time": "2018-08-13T03:54:29.860652Z",
     "start_time": "2018-08-13T03:54:29.854086Z"
    }
   },
   "outputs": [],
   "source": [
    "# mask = geometry_mask([geometry], geobox, all_touched=True, invert=True)"
   ]
  },
  {
   "cell_type": "code",
   "execution_count": null,
   "metadata": {
    "ExecuteTime": {
     "end_time": "2018-08-13T03:54:30.269370Z",
     "start_time": "2018-08-13T03:54:30.266181Z"
    }
   },
   "outputs": [],
   "source": [
    "# data = dc.load(product='rainfall_grids_1998_2017', \n",
    "#                measurement='rainfall', \n",
    "#                datasets=datasets, \n",
    "#                dask_chunks={'time': 1}, \n",
    "#                geopolygon=geometry,\n",
    "#                resolution=hi_resolution)"
   ]
  },
  {
   "cell_type": "code",
   "execution_count": null,
   "metadata": {
    "ExecuteTime": {
     "end_time": "2018-08-13T05:50:49.601176Z",
     "start_time": "2018-08-13T05:50:49.597502Z"
    }
   },
   "outputs": [],
   "source": [
    "# [str(d.center_time.date()) for d in datasets]"
   ]
  },
  {
   "cell_type": "code",
   "execution_count": null,
   "metadata": {
    "ExecuteTime": {
     "end_time": "2018-08-12T23:29:12.222168Z",
     "start_time": "2018-08-12T23:29:12.129530Z"
    }
   },
   "outputs": [],
   "source": [
    "# geometry, properties = next(shapes)\n",
    "# print(f\"{int(geometry.area / (1000*1000))} km^2\")\n",
    "# asShape(geometry)"
   ]
  },
  {
   "cell_type": "code",
   "execution_count": null,
   "metadata": {
    "ExecuteTime": {
     "end_time": "2018-08-07T05:47:48.651185Z",
     "start_time": "2018-08-07T05:47:48.610394Z"
    }
   },
   "outputs": [],
   "source": [
    "# geometry, properties = next(shapes)\n",
    "# print(f\"{int(geometry.area / (1000*1000))} km^2\")\n",
    "# asShape(geometry)"
   ]
  },
  {
   "cell_type": "code",
   "execution_count": null,
   "metadata": {
    "ExecuteTime": {
     "end_time": "2018-08-13T05:50:47.757684Z",
     "start_time": "2018-08-13T05:50:47.754461Z"
    }
   },
   "outputs": [],
   "source": [
    "# import fiona\n",
    "# import rasterio.features\n",
    "# import xarray as xr\n",
    "\n",
    "# import datacube"
   ]
  },
  {
   "cell_type": "code",
   "execution_count": null,
   "metadata": {
    "ExecuteTime": {
     "end_time": "2018-08-13T05:50:48.069476Z",
     "start_time": "2018-08-13T05:50:48.066044Z"
    }
   },
   "outputs": [],
   "source": [
    "# from shapely.geometry import asShape\n",
    "# from shapely.geometry import MultiPolygon, Polygon"
   ]
  },
  {
   "cell_type": "code",
   "execution_count": null,
   "metadata": {
    "ExecuteTime": {
     "end_time": "2018-08-13T05:50:48.316836Z",
     "start_time": "2018-08-13T05:50:48.314280Z"
    },
    "scrolled": true
   },
   "outputs": [],
   "source": [
    "# dc = datacube.Datacube(config='/g/data/u46/users/ext547/ewater/cambodia_cube/cambodia.conf')\n",
    "# dc.list_products()"
   ]
  },
  {
   "cell_type": "code",
   "execution_count": null,
   "metadata": {
    "ExecuteTime": {
     "end_time": "2018-08-13T05:51:55.007475Z",
     "start_time": "2018-08-13T05:51:55.004507Z"
    }
   },
   "outputs": [],
   "source": [
    "# properties"
   ]
  },
  {
   "cell_type": "code",
   "execution_count": null,
   "metadata": {
    "ExecuteTime": {
     "end_time": "2018-08-13T05:51:58.142049Z",
     "start_time": "2018-08-13T05:51:58.138441Z"
    }
   },
   "outputs": [],
   "source": [
    "# mask"
   ]
  },
  {
   "cell_type": "code",
   "execution_count": null,
   "metadata": {
    "ExecuteTime": {
     "end_time": "2018-08-13T05:52:00.094977Z",
     "start_time": "2018-08-13T05:52:00.091079Z"
    }
   },
   "outputs": [],
   "source": [
    "# mask.plot(size=6, aspect=(mask.shape[1]/mask.shape[0]), add_colorbar=False);"
   ]
  },
  {
   "cell_type": "code",
   "execution_count": null,
   "metadata": {
    "ExecuteTime": {
     "end_time": "2018-08-13T05:52:01.989251Z",
     "start_time": "2018-08-13T05:52:01.986149Z"
    }
   },
   "outputs": [],
   "source": [
    "# asShape(geometry)"
   ]
  },
  {
   "cell_type": "code",
   "execution_count": null,
   "metadata": {
    "ExecuteTime": {
     "end_time": "2018-08-07T05:47:53.640678Z",
     "start_time": "2018-08-07T05:47:53.553376Z"
    }
   },
   "outputs": [],
   "source": [
    "# data = dc.load(product='rainfall_grids_1998_2017', \n",
    "#                measurement='rainfall', \n",
    "#                datasets=datasets, \n",
    "#                dask_chunks={'time': 1}, \n",
    "#                geopolygon=geometry,\n",
    "#                resolution=hi_resolution)"
   ]
  },
  {
   "cell_type": "code",
   "execution_count": null,
   "metadata": {
    "ExecuteTime": {
     "end_time": "2018-08-13T05:52:08.519729Z",
     "start_time": "2018-08-13T05:52:08.516818Z"
    }
   },
   "outputs": [],
   "source": [
    "# data.rainfall[0].plot()"
   ]
  },
  {
   "cell_type": "code",
   "execution_count": null,
   "metadata": {
    "ExecuteTime": {
     "end_time": "2018-08-13T05:52:10.566216Z",
     "start_time": "2018-08-13T05:52:10.563045Z"
    }
   },
   "outputs": [],
   "source": [
    "# rain_array = data.rainfall.where(data.rainfall > -1).where(mask)"
   ]
  },
  {
   "cell_type": "code",
   "execution_count": null,
   "metadata": {
    "ExecuteTime": {
     "end_time": "2018-08-13T05:52:12.750216Z",
     "start_time": "2018-08-13T05:52:12.746585Z"
    }
   },
   "outputs": [],
   "source": [
    "# rain_array.isel(time=0).plot()"
   ]
  },
  {
   "cell_type": "code",
   "execution_count": null,
   "metadata": {
    "ExecuteTime": {
     "end_time": "2018-08-13T05:52:15.013956Z",
     "start_time": "2018-08-13T05:52:15.010401Z"
    }
   },
   "outputs": [],
   "source": [
    "# loaded = rain_array.mean(dim=['latitude', 'longitude']).load();"
   ]
  },
  {
   "cell_type": "code",
   "execution_count": null,
   "metadata": {
    "ExecuteTime": {
     "end_time": "2018-08-13T05:52:16.887834Z",
     "start_time": "2018-08-13T05:52:16.884447Z"
    }
   },
   "outputs": [],
   "source": [
    "# loaded.isel(time=4)"
   ]
  },
  {
   "cell_type": "code",
   "execution_count": null,
   "metadata": {
    "ExecuteTime": {
     "end_time": "2018-08-13T05:52:18.927839Z",
     "start_time": "2018-08-13T05:52:18.924661Z"
    }
   },
   "outputs": [],
   "source": [
    "# mean_rain.isel(time=4)"
   ]
  },
  {
   "cell_type": "code",
   "execution_count": null,
   "metadata": {
    "ExecuteTime": {
     "end_time": "2018-08-13T05:52:20.834066Z",
     "start_time": "2018-08-13T05:52:20.830771Z"
    }
   },
   "outputs": [],
   "source": [
    "# loaded.plot()"
   ]
  },
  {
   "cell_type": "code",
   "execution_count": null,
   "metadata": {
    "ExecuteTime": {
     "end_time": "2018-08-13T05:52:24.620907Z",
     "start_time": "2018-08-13T05:52:24.617472Z"
    }
   },
   "outputs": [],
   "source": [
    "# mean_rain = rain_array.mean(dim=['latitude', 'longitude'])\n",
    "# mean_rain"
   ]
  },
  {
   "cell_type": "code",
   "execution_count": null,
   "metadata": {
    "ExecuteTime": {
     "end_time": "2018-08-13T05:52:30.388138Z",
     "start_time": "2018-08-13T05:52:30.383921Z"
    }
   },
   "outputs": [],
   "source": [
    "# mean_rain.isel(time=4).values"
   ]
  },
  {
   "cell_type": "code",
   "execution_count": null,
   "metadata": {
    "ExecuteTime": {
     "end_time": "2018-08-13T05:52:32.468099Z",
     "start_time": "2018-08-13T05:52:32.465097Z"
    }
   },
   "outputs": [],
   "source": [
    "# from dask import dataframe as dd"
   ]
  },
  {
   "cell_type": "code",
   "execution_count": null,
   "metadata": {
    "ExecuteTime": {
     "end_time": "2018-08-13T05:52:34.344624Z",
     "start_time": "2018-08-13T05:52:34.341053Z"
    }
   },
   "outputs": [],
   "source": [
    "# df = dd.from_dask_array(mean_rain.data, columns=[properties['SC_ID']])"
   ]
  },
  {
   "cell_type": "code",
   "execution_count": null,
   "metadata": {
    "ExecuteTime": {
     "end_time": "2018-08-13T05:52:36.254219Z",
     "start_time": "2018-08-13T05:52:36.250930Z"
    }
   },
   "outputs": [],
   "source": [
    "# df.join?"
   ]
  },
  {
   "cell_type": "code",
   "execution_count": null,
   "metadata": {
    "ExecuteTime": {
     "end_time": "2018-08-13T05:52:38.308036Z",
     "start_time": "2018-08-13T05:52:38.304888Z"
    }
   },
   "outputs": [],
   "source": [
    "# rain_array[:20].load().plot(col='time', col_wrap=5, size=5, aspect=(mask.shape[1]/mask.shape[0]), add_colorbar=False);"
   ]
  }
 ],
 "metadata": {
  "kernelspec": {
   "display_name": "Python 3",
   "language": "python",
   "name": "python3"
  },
  "language_info": {
   "codemirror_mode": {
    "name": "ipython",
    "version": 3
   },
   "file_extension": ".py",
   "mimetype": "text/x-python",
   "name": "python",
   "nbconvert_exporter": "python",
   "pygments_lexer": "ipython3",
   "version": "3.6.5"
  }
 },
 "nbformat": 4,
 "nbformat_minor": 2
}
