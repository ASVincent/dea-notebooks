{
 "cells": [
  {
   "cell_type": "code",
   "execution_count": 1,
   "metadata": {
    "ExecuteTime": {
     "end_time": "2018-03-21T22:07:55.759893Z",
     "start_time": "2018-03-21T22:07:28.480128Z"
    }
   },
   "outputs": [],
   "source": [
    "from datacube import Datacube\n",
    "# from matplotlib import pyplot as plt\n",
    "import numpy as np\n",
    "from skimage import exposure\n",
    "import matplotlib.pyplot as plt\n",
    "from datacube_stats.statistics import GeoMedian\n",
    "cdc = Datacube(config='/g/data/u46/users/ext547/ewater/cambodia_cube/cambodia.conf')\n",
    "from datacube.storage import masking\n",
    "from datacube.storage.masking import mask_to_dict"
   ]
  },
  {
   "cell_type": "code",
   "execution_count": 2,
   "metadata": {
    "ExecuteTime": {
     "end_time": "2018-03-21T22:07:55.903205Z",
     "start_time": "2018-03-21T22:07:55.764364Z"
    }
   },
   "outputs": [
    {
     "data": {
      "text/html": [
       "<div>\n",
       "<style scoped>\n",
       "    .dataframe tbody tr th:only-of-type {\n",
       "        vertical-align: middle;\n",
       "    }\n",
       "\n",
       "    .dataframe tbody tr th {\n",
       "        vertical-align: top;\n",
       "    }\n",
       "\n",
       "    .dataframe thead th {\n",
       "        text-align: right;\n",
       "    }\n",
       "</style>\n",
       "<table border=\"1\" class=\"dataframe\">\n",
       "  <thead>\n",
       "    <tr style=\"text-align: right;\">\n",
       "      <th></th>\n",
       "      <th></th>\n",
       "      <th>aliases</th>\n",
       "      <th>dtype</th>\n",
       "      <th>flags_definition</th>\n",
       "      <th>name</th>\n",
       "      <th>nodata</th>\n",
       "      <th>units</th>\n",
       "    </tr>\n",
       "    <tr>\n",
       "      <th>product</th>\n",
       "      <th>measurement</th>\n",
       "      <th></th>\n",
       "      <th></th>\n",
       "      <th></th>\n",
       "      <th></th>\n",
       "      <th></th>\n",
       "      <th></th>\n",
       "    </tr>\n",
       "  </thead>\n",
       "  <tbody>\n",
       "    <tr>\n",
       "      <th rowspan=\"10\" valign=\"top\">ls7_usgs_sr_scene</th>\n",
       "      <th>blue</th>\n",
       "      <td>[band_1, sr_band1]</td>\n",
       "      <td>int16</td>\n",
       "      <td>NaN</td>\n",
       "      <td>blue</td>\n",
       "      <td>-9999</td>\n",
       "      <td>1</td>\n",
       "    </tr>\n",
       "    <tr>\n",
       "      <th>green</th>\n",
       "      <td>[band_2, sr_band2]</td>\n",
       "      <td>int16</td>\n",
       "      <td>NaN</td>\n",
       "      <td>green</td>\n",
       "      <td>-9999</td>\n",
       "      <td>1</td>\n",
       "    </tr>\n",
       "    <tr>\n",
       "      <th>red</th>\n",
       "      <td>[band_3, sr_band3]</td>\n",
       "      <td>int16</td>\n",
       "      <td>NaN</td>\n",
       "      <td>red</td>\n",
       "      <td>-9999</td>\n",
       "      <td>1</td>\n",
       "    </tr>\n",
       "    <tr>\n",
       "      <th>nir</th>\n",
       "      <td>[band_4, sr_band4]</td>\n",
       "      <td>int16</td>\n",
       "      <td>NaN</td>\n",
       "      <td>nir</td>\n",
       "      <td>-9999</td>\n",
       "      <td>1</td>\n",
       "    </tr>\n",
       "    <tr>\n",
       "      <th>swir1</th>\n",
       "      <td>[band_5, sr_band5]</td>\n",
       "      <td>int16</td>\n",
       "      <td>NaN</td>\n",
       "      <td>swir1</td>\n",
       "      <td>-9999</td>\n",
       "      <td>1</td>\n",
       "    </tr>\n",
       "    <tr>\n",
       "      <th>swir2</th>\n",
       "      <td>[band_7, sr_band7]</td>\n",
       "      <td>int16</td>\n",
       "      <td>NaN</td>\n",
       "      <td>swir2</td>\n",
       "      <td>-9999</td>\n",
       "      <td>1</td>\n",
       "    </tr>\n",
       "    <tr>\n",
       "      <th>sr_atmos_opacity</th>\n",
       "      <td>[atmos_op]</td>\n",
       "      <td>uint8</td>\n",
       "      <td>NaN</td>\n",
       "      <td>sr_atmos_opacity</td>\n",
       "      <td>0</td>\n",
       "      <td>1</td>\n",
       "    </tr>\n",
       "    <tr>\n",
       "      <th>pixel_qa</th>\n",
       "      <td>[pixel_qa]</td>\n",
       "      <td>uint16</td>\n",
       "      <td>{'snow': {'bits': 4, 'values': {'0': 'no_snow'...</td>\n",
       "      <td>pixel_qa</td>\n",
       "      <td>1</td>\n",
       "      <td>1</td>\n",
       "    </tr>\n",
       "    <tr>\n",
       "      <th>radsat_qa</th>\n",
       "      <td>[radsat_qa]</td>\n",
       "      <td>uint8</td>\n",
       "      <td>{'radsat_qa': {'bits': [0, 1, 2, 3, 4, 5, 6, 7...</td>\n",
       "      <td>radsat_qa</td>\n",
       "      <td>1</td>\n",
       "      <td>1</td>\n",
       "    </tr>\n",
       "    <tr>\n",
       "      <th>sr_cloud_qa</th>\n",
       "      <td>[cloud_qa]</td>\n",
       "      <td>uint8</td>\n",
       "      <td>{'cloud_qa': {'bits': [0, 1, 2, 3, 4, 5, 6, 7]...</td>\n",
       "      <td>sr_cloud_qa</td>\n",
       "      <td>0</td>\n",
       "      <td>1</td>\n",
       "    </tr>\n",
       "    <tr>\n",
       "      <th rowspan=\"10\" valign=\"top\">ls8_usgs_sr_scene</th>\n",
       "      <th>coastal_aerosol</th>\n",
       "      <td>[band_1, sr_band1]</td>\n",
       "      <td>int16</td>\n",
       "      <td>NaN</td>\n",
       "      <td>coastal_aerosol</td>\n",
       "      <td>-9999</td>\n",
       "      <td>1</td>\n",
       "    </tr>\n",
       "    <tr>\n",
       "      <th>blue</th>\n",
       "      <td>[band_2, sr_band2]</td>\n",
       "      <td>int16</td>\n",
       "      <td>NaN</td>\n",
       "      <td>blue</td>\n",
       "      <td>-9999</td>\n",
       "      <td>1</td>\n",
       "    </tr>\n",
       "    <tr>\n",
       "      <th>green</th>\n",
       "      <td>[band_3, sr_band3]</td>\n",
       "      <td>int16</td>\n",
       "      <td>NaN</td>\n",
       "      <td>green</td>\n",
       "      <td>-9999</td>\n",
       "      <td>1</td>\n",
       "    </tr>\n",
       "    <tr>\n",
       "      <th>red</th>\n",
       "      <td>[band_4, sr_band4]</td>\n",
       "      <td>int16</td>\n",
       "      <td>NaN</td>\n",
       "      <td>red</td>\n",
       "      <td>-9999</td>\n",
       "      <td>1</td>\n",
       "    </tr>\n",
       "    <tr>\n",
       "      <th>nir</th>\n",
       "      <td>[band_5, sr_band5]</td>\n",
       "      <td>int16</td>\n",
       "      <td>NaN</td>\n",
       "      <td>nir</td>\n",
       "      <td>-9999</td>\n",
       "      <td>1</td>\n",
       "    </tr>\n",
       "    <tr>\n",
       "      <th>swir1</th>\n",
       "      <td>[band_6, sr_band6]</td>\n",
       "      <td>int16</td>\n",
       "      <td>NaN</td>\n",
       "      <td>swir1</td>\n",
       "      <td>-9999</td>\n",
       "      <td>1</td>\n",
       "    </tr>\n",
       "    <tr>\n",
       "      <th>swir2</th>\n",
       "      <td>[band_7, sr_band7]</td>\n",
       "      <td>int16</td>\n",
       "      <td>NaN</td>\n",
       "      <td>swir2</td>\n",
       "      <td>-9999</td>\n",
       "      <td>1</td>\n",
       "    </tr>\n",
       "    <tr>\n",
       "      <th>pixel_qa</th>\n",
       "      <td>[pixel_qa]</td>\n",
       "      <td>uint16</td>\n",
       "      <td>{'snow': {'bits': 4, 'values': {'0': 'no_snow'...</td>\n",
       "      <td>pixel_qa</td>\n",
       "      <td>1</td>\n",
       "      <td>1</td>\n",
       "    </tr>\n",
       "    <tr>\n",
       "      <th>sr_aerosol</th>\n",
       "      <td>[sr_aerosol_qa, aerosol_qa, aerosol]</td>\n",
       "      <td>uint8</td>\n",
       "      <td>{'aerosol_qa': {'bits': [0, 1, 2, 3, 4, 5, 6, ...</td>\n",
       "      <td>sr_aerosol</td>\n",
       "      <td>0</td>\n",
       "      <td>1</td>\n",
       "    </tr>\n",
       "    <tr>\n",
       "      <th>radsat_qa</th>\n",
       "      <td>[radsat_qa]</td>\n",
       "      <td>uint16</td>\n",
       "      <td>{'radsat_qa': {'bits': [0, 1, 2, 3, 4, 5, 6, 7...</td>\n",
       "      <td>radsat_qa</td>\n",
       "      <td>1</td>\n",
       "      <td>1</td>\n",
       "    </tr>\n",
       "  </tbody>\n",
       "</table>\n",
       "</div>"
      ],
      "text/plain": [
       "                                                                 aliases  \\\n",
       "product           measurement                                              \n",
       "ls7_usgs_sr_scene blue                                [band_1, sr_band1]   \n",
       "                  green                               [band_2, sr_band2]   \n",
       "                  red                                 [band_3, sr_band3]   \n",
       "                  nir                                 [band_4, sr_band4]   \n",
       "                  swir1                               [band_5, sr_band5]   \n",
       "                  swir2                               [band_7, sr_band7]   \n",
       "                  sr_atmos_opacity                            [atmos_op]   \n",
       "                  pixel_qa                                    [pixel_qa]   \n",
       "                  radsat_qa                                  [radsat_qa]   \n",
       "                  sr_cloud_qa                                 [cloud_qa]   \n",
       "ls8_usgs_sr_scene coastal_aerosol                     [band_1, sr_band1]   \n",
       "                  blue                                [band_2, sr_band2]   \n",
       "                  green                               [band_3, sr_band3]   \n",
       "                  red                                 [band_4, sr_band4]   \n",
       "                  nir                                 [band_5, sr_band5]   \n",
       "                  swir1                               [band_6, sr_band6]   \n",
       "                  swir2                               [band_7, sr_band7]   \n",
       "                  pixel_qa                                    [pixel_qa]   \n",
       "                  sr_aerosol        [sr_aerosol_qa, aerosol_qa, aerosol]   \n",
       "                  radsat_qa                                  [radsat_qa]   \n",
       "\n",
       "                                     dtype  \\\n",
       "product           measurement                \n",
       "ls7_usgs_sr_scene blue               int16   \n",
       "                  green              int16   \n",
       "                  red                int16   \n",
       "                  nir                int16   \n",
       "                  swir1              int16   \n",
       "                  swir2              int16   \n",
       "                  sr_atmos_opacity   uint8   \n",
       "                  pixel_qa          uint16   \n",
       "                  radsat_qa          uint8   \n",
       "                  sr_cloud_qa        uint8   \n",
       "ls8_usgs_sr_scene coastal_aerosol    int16   \n",
       "                  blue               int16   \n",
       "                  green              int16   \n",
       "                  red                int16   \n",
       "                  nir                int16   \n",
       "                  swir1              int16   \n",
       "                  swir2              int16   \n",
       "                  pixel_qa          uint16   \n",
       "                  sr_aerosol         uint8   \n",
       "                  radsat_qa         uint16   \n",
       "\n",
       "                                                                     flags_definition  \\\n",
       "product           measurement                                                           \n",
       "ls7_usgs_sr_scene blue                                                            NaN   \n",
       "                  green                                                           NaN   \n",
       "                  red                                                             NaN   \n",
       "                  nir                                                             NaN   \n",
       "                  swir1                                                           NaN   \n",
       "                  swir2                                                           NaN   \n",
       "                  sr_atmos_opacity                                                NaN   \n",
       "                  pixel_qa          {'snow': {'bits': 4, 'values': {'0': 'no_snow'...   \n",
       "                  radsat_qa         {'radsat_qa': {'bits': [0, 1, 2, 3, 4, 5, 6, 7...   \n",
       "                  sr_cloud_qa       {'cloud_qa': {'bits': [0, 1, 2, 3, 4, 5, 6, 7]...   \n",
       "ls8_usgs_sr_scene coastal_aerosol                                                 NaN   \n",
       "                  blue                                                            NaN   \n",
       "                  green                                                           NaN   \n",
       "                  red                                                             NaN   \n",
       "                  nir                                                             NaN   \n",
       "                  swir1                                                           NaN   \n",
       "                  swir2                                                           NaN   \n",
       "                  pixel_qa          {'snow': {'bits': 4, 'values': {'0': 'no_snow'...   \n",
       "                  sr_aerosol        {'aerosol_qa': {'bits': [0, 1, 2, 3, 4, 5, 6, ...   \n",
       "                  radsat_qa         {'radsat_qa': {'bits': [0, 1, 2, 3, 4, 5, 6, 7...   \n",
       "\n",
       "                                                name  nodata units  \n",
       "product           measurement                                       \n",
       "ls7_usgs_sr_scene blue                          blue   -9999     1  \n",
       "                  green                        green   -9999     1  \n",
       "                  red                            red   -9999     1  \n",
       "                  nir                            nir   -9999     1  \n",
       "                  swir1                        swir1   -9999     1  \n",
       "                  swir2                        swir2   -9999     1  \n",
       "                  sr_atmos_opacity  sr_atmos_opacity       0     1  \n",
       "                  pixel_qa                  pixel_qa       1     1  \n",
       "                  radsat_qa                radsat_qa       1     1  \n",
       "                  sr_cloud_qa            sr_cloud_qa       0     1  \n",
       "ls8_usgs_sr_scene coastal_aerosol    coastal_aerosol   -9999     1  \n",
       "                  blue                          blue   -9999     1  \n",
       "                  green                        green   -9999     1  \n",
       "                  red                            red   -9999     1  \n",
       "                  nir                            nir   -9999     1  \n",
       "                  swir1                        swir1   -9999     1  \n",
       "                  swir2                        swir2   -9999     1  \n",
       "                  pixel_qa                  pixel_qa       1     1  \n",
       "                  sr_aerosol              sr_aerosol       0     1  \n",
       "                  radsat_qa                radsat_qa       1     1  "
      ]
     },
     "execution_count": 2,
     "metadata": {},
     "output_type": "execute_result"
    }
   ],
   "source": [
    "# cdc.list_products()\n",
    "cdc.list_measurements()"
   ]
  },
  {
   "cell_type": "code",
   "execution_count": 107,
   "metadata": {
    "ExecuteTime": {
     "end_time": "2018-03-19T05:25:55.108706Z",
     "start_time": "2018-03-19T05:25:55.071198Z"
    }
   },
   "outputs": [
    {
     "name": "stdout",
     "output_type": "stream",
     "text": [
      "{'time': ('2017-01-01', '2018-01-01'), 'x': (103.3, 103.4), 'y': (13.1, 13.0), 'crs': 'EPSG:4326'}\n"
     ]
    }
   ],
   "source": [
    "# #Temporal range, wavelengths/band and sensors of interest are defined\n",
    "\n",
    "# #Coordinates for area of interest\n",
    "# lat_min = 13.000 #down\n",
    "# lat_max = 13.100 #up\n",
    "# lon_min = 103.300 #left\n",
    "# lon_max = 103.400 #right\n",
    "\n",
    "# ###User input: set cloud threshold. This value defines the amount of lansdcape/cloud allowed in each scene. Scenes will not be retrieved that have less than the cloud threshold worth of image.\n",
    "# #The default value is \"0.90\" or >90% image and <10% cloud cover\n",
    "# cloud_free_threshold = 0.20\n",
    "\n",
    "# #temporal range is defined\n",
    "# start_of_epoch = '2017-01-01'\n",
    "# end_of_epoch =  '2018-01-01'\n",
    "\n",
    "# #wavelengths/bands of interest are defined\n",
    "# bands_of_interest = [#'blue',\n",
    "#                      'green',\n",
    "#                      'red', \n",
    "#                      'nir',\n",
    "#                      'swir1', \n",
    "#                      'pixel_qa',\n",
    "#                      #'swir2',\n",
    "#                      ]\n",
    "\n",
    "# #query is created\n",
    "# query = {'time': (start_of_epoch, end_of_epoch),}\n",
    "# query['x'] = (lon_min, lon_max)\n",
    "# query['y'] = (lat_max, lat_min)\n",
    "# query['crs'] = 'EPSG:4326'\n",
    "\n",
    "# print(query)"
   ]
  },
  {
   "cell_type": "code",
   "execution_count": 59,
   "metadata": {
    "ExecuteTime": {
     "end_time": "2018-03-19T05:01:13.238532Z",
     "start_time": "2018-03-19T05:01:13.233565Z"
    }
   },
   "outputs": [],
   "source": [
    "# mask_components = {'cloud_shadow': 'no_cloud_shadow',\n",
    "#                    'cloud': 'no_cloud',}"
   ]
  },
  {
   "cell_type": "code",
   "execution_count": 108,
   "metadata": {
    "ExecuteTime": {
     "end_time": "2018-03-19T05:29:11.421029Z",
     "start_time": "2018-03-19T05:29:10.637814Z"
    }
   },
   "outputs": [],
   "source": [
    "# sensor_nbar = cdc.load(product= 'ls7_usgs_sr_scene',measurements = bands_of_interest,group_by='solar_day', **query)\n"
   ]
  },
  {
   "cell_type": "code",
   "execution_count": 3,
   "metadata": {
    "ExecuteTime": {
     "end_time": "2018-03-20T04:54:43.320478Z",
     "start_time": "2018-03-20T04:54:43.314698Z"
    }
   },
   "outputs": [],
   "source": [
    "# crs = sensor_nbar.crs\n",
    "# crswkt = sensor_nbar.crs.wkt\n",
    "# affine = sensor_nbar.affine\n",
    "\n",
    "# sensor_pq= sensor_nbar.pixel_qa\n",
    "# quality_mask = masking.make_mask(sensor_pq, **mask_components)\n",
    "# good_data = quality_mask.loc[start_of_epoch:end_of_epoch]\n",
    "# sensor_nbar2 = sensor_nbar.where(good_data)\n",
    "\n",
    "# cloud_free = masking.make_mask(sensor_pq,cloud_shadow= 'no_cloud_shadow',cloud= 'no_cloud')#, \n",
    "# #                                    contiguous=True).pixelquality\n",
    "# mostly_cloud_free = cloud_free.mean(dim=('x','y')) >= cloud_free_threshold\n",
    "# mostly_good = sensor_nbar2.where(mostly_cloud_free).dropna(dim='time', how='all')\n",
    "# sensor_clean = mostly_good\n",
    "# nbar_clean = sensor_clean\n",
    "\n",
    "# nbar_clean = nbar_clean.sortby('time')\n",
    "# nbar_clean.attrs['crs'] = crs\n",
    "# nbar_clean.attrs['affin|e'] = affine\n",
    "# nbar_clean.time\n"
   ]
  },
  {
   "cell_type": "code",
   "execution_count": 110,
   "metadata": {
    "ExecuteTime": {
     "end_time": "2018-03-19T05:29:18.007388Z",
     "start_time": "2018-03-19T05:29:18.001645Z"
    }
   },
   "outputs": [],
   "source": [
    "# crs = sensor_nbar.crs\n",
    "# crswkt = sensor_nbar.crs.wkt\n",
    "# affine = sensor_nbar.affine"
   ]
  },
  {
   "cell_type": "code",
   "execution_count": 111,
   "metadata": {
    "ExecuteTime": {
     "end_time": "2018-03-19T05:29:18.238357Z",
     "start_time": "2018-03-19T05:29:18.234284Z"
    }
   },
   "outputs": [],
   "source": [
    "# sensor_pq= sensor_nbar.pixel_qa\n",
    "# quality_mask = masking.make_mask(sensor_pq, **mask_components)\n",
    "# good_data = quality_mask.loc[start_of_epoch:end_of_epoch]\n",
    "# sensor_nbar2 = sensor_nbar.where(good_data)"
   ]
  },
  {
   "cell_type": "code",
   "execution_count": 112,
   "metadata": {
    "ExecuteTime": {
     "end_time": "2018-03-19T05:29:18.463577Z",
     "start_time": "2018-03-19T05:29:18.459741Z"
    }
   },
   "outputs": [],
   "source": [
    "# cloud_free = masking.make_mask(sensor_pq,cloud_shadow= 'no_cloud_shadow',cloud= 'no_cloud')#, \n",
    "# #                                    contiguous=True).pixelquality\n",
    "# # mostly_cloud_free = cloud_free.mean(dim=('x','y')) >= cloud_free_threshold\n",
    "\n",
    "# mostly_good = sensor_nbar2.where(mostly_cloud_free).dropna(dim='time', how='all')\n",
    "\n",
    "# sensor_clean = mostly_good\n",
    "# nbar_clean = sensor_clean"
   ]
  },
  {
   "cell_type": "code",
   "execution_count": 113,
   "metadata": {
    "ExecuteTime": {
     "end_time": "2018-03-19T05:29:18.645710Z",
     "start_time": "2018-03-19T05:29:18.642347Z"
    }
   },
   "outputs": [],
   "source": [
    "# nbar_clean = nbar_clean.sortby('time')\n",
    "# nbar_clean.attrs['crs'] = crs\n",
    "# nbar_clean.attrs['affin|e'] = affine\n",
    "# nbar_clean.time"
   ]
  },
  {
   "cell_type": "code",
   "execution_count": 114,
   "metadata": {
    "ExecuteTime": {
     "end_time": "2018-03-19T05:29:19.103609Z",
     "start_time": "2018-03-19T05:29:19.099657Z"
    }
   },
   "outputs": [],
   "source": [
    "# rgb = sensor_clean.isel(time =2).to_array(dim='color').sel(color=[\n",
    "# 'swir1','nir', 'green']).transpose('y', 'x', 'color')\n",
    "# fake_saturation = 6000.0\n",
    "# rgb = rgb.astype('double')\n",
    "# clipped_visible = rgb.where(rgb<fake_saturation).fillna(fake_saturation)\n",
    "# max_val = clipped_visible.max(['y', 'x'])\n",
    "# scaled = (clipped_visible / max_val)"
   ]
  },
  {
   "cell_type": "code",
   "execution_count": 115,
   "metadata": {
    "ExecuteTime": {
     "end_time": "2018-03-19T05:29:19.567490Z",
     "start_time": "2018-03-19T05:29:19.564308Z"
    }
   },
   "outputs": [],
   "source": [
    "# plt.imshow(scaled, interpolation='nearest')"
   ]
  },
  {
   "cell_type": "code",
   "execution_count": 4,
   "metadata": {
    "ExecuteTime": {
     "end_time": "2018-03-20T04:54:48.336116Z",
     "start_time": "2018-03-20T04:54:48.317589Z"
    }
   },
   "outputs": [],
   "source": [
    "# def three_band_image_subplots(ds, bands, num_cols, figsize = [10,10], \n",
    "#                               projection = 'projected', left  = 0.125, \n",
    "#                               right = 0.9, bottom = 0.1, top = 0.9, \n",
    "#                               wspace = 0.2, hspace = 0.4):\n",
    "#     '''\n",
    "#     threeBandImage_subplots takes three spectral bands and multiple time steps, \n",
    "#     and plots them on the RGB bands of an image. \n",
    "#     Last modified: March 2018\n",
    "#     Author: Mike Barnes\n",
    "#     Modified by: Claire Krause\n",
    "    \n",
    "#     Inputs: \n",
    "#     ds -   Dataset containing the bands to be plotted\n",
    "#     bands - list of three bands to be plotted\n",
    "#     num_cols - number of columns for the subplot\n",
    "    \n",
    "#     Optional:\n",
    "#     figsize - dimensions for the output figure\n",
    "#     projection - options are 'projected' or 'geographic'. To determine if the image \n",
    "#                  is in degrees or northings\n",
    "#     left  - the space on the left side of the subplots of the figure\n",
    "#     right - the space on the right side of the subplots of the figure\n",
    "#     bottom - the space on the bottom of the subplots of the figure\n",
    "#     top - the space on the top of the subplots of the figure\n",
    "#     wspace - the amount of width reserved for blank space between subplots\n",
    "#     hspace - the amount of height reserved for white space between subplots\n",
    "#     '''\n",
    "#     # Find the number of rows/columns we need, based on the number of time steps in ds\n",
    "#     timesteps = ds.time.size\n",
    "#     num_rows = int(np.ceil(timesteps/num_cols))\n",
    "#     fig, axes = plt.subplots(num_rows, num_cols, figsize = figsize)\n",
    "#     fig.subplots_adjust(left  = left, right = right, bottom = bottom, top = top, \n",
    "#                         wspace = wspace, hspace = hspace)\n",
    "#     numbers = 0\n",
    "#     try:\n",
    "#         for ax in axes.flat:\n",
    "#             t, y, x = ds[bands[0]].shape\n",
    "#             rawimg = np.zeros((y,x,3), dtype = np.float32)\n",
    "#             for i, colour in enumerate(bands):\n",
    "#                 rawimg[:,:,i] = ds[colour][numbers].values\n",
    "#             rawimg[rawimg == -999] = np.nan\n",
    "#             img_toshow = exposure.equalize_hist(rawimg, mask = np.isfinite(rawimg))\n",
    "#             ax.imshow(img_toshow)\n",
    "#             ax.set_title(str(ds.time[numbers].values)[:10], fontweight = 'bold', fontsize = 12)\n",
    "# #             ax.set_xticklabels(ds.x.values, fontsize = 8, rotation = 20)\n",
    "# #             ax.set_yticklabels(ds.y.values, fontsize = 8)\n",
    "# #             if projection == 'geographic':\n",
    "# #                 ax.set_xlabel('Longitude', fontweight = 'bold', fontsize = 10)\n",
    "# #                 ax.set_ylabel('Latitude', fontweight = 'bold', fontsize = 10)\n",
    "# #             else:\n",
    "# #                 ax.set_xlabel('Eastings', fontweight = 'bold', fontsize = 10)\n",
    "# #                 ax.set_ylabel('Northings', fontweight = 'bold', fontsize = 10)\n",
    "#             numbers = numbers + 1\n",
    "#     except IndexError:\n",
    "#         # This error will pop up if there are not enough scenes to fill the number of \n",
    "#         # rows x columns, so we can safely ignore it\n",
    "#         fig.delaxes(ax)\n",
    "#         plt.draw()    "
   ]
  },
  {
   "cell_type": "code",
   "execution_count": 5,
   "metadata": {
    "ExecuteTime": {
     "end_time": "2018-03-20T04:54:53.191010Z",
     "start_time": "2018-03-20T04:54:53.188574Z"
    },
    "scrolled": false
   },
   "outputs": [],
   "source": [
    "# three_band_image_subplots(sensor_clean, ['swir1','nir', 'green'], 2, figsize = [30,50])"
   ]
  },
  {
   "cell_type": "code",
   "execution_count": null,
   "metadata": {},
   "outputs": [],
   "source": []
  },
  {
   "cell_type": "code",
   "execution_count": null,
   "metadata": {},
   "outputs": [],
   "source": []
  },
  {
   "cell_type": "code",
   "execution_count": null,
   "metadata": {},
   "outputs": [],
   "source": []
  },
  {
   "cell_type": "code",
   "execution_count": 6,
   "metadata": {
    "ExecuteTime": {
     "end_time": "2018-03-20T04:54:57.586165Z",
     "start_time": "2018-03-20T04:54:57.578490Z"
    }
   },
   "outputs": [],
   "source": [
    "# def plot_all(data):\n",
    "#     n = data.time.shape[0]\n",
    "#     cols = 2\n",
    "#     rows = n // cols\n",
    "# #     rows += n % cols\n",
    "# #     print(rows)\n",
    "\n",
    "#     fig = plt.figure(figsize=(30,2*rows))\n",
    "#     fig.subplots_adjust(hspace=0.4, wspace=0)\n",
    "\n",
    "#     for i in range(1, n):\n",
    "# #         print (i)\n",
    "#         rgb = sensor_nbar.isel(time =i).to_array(dim='color').sel(color=[\n",
    "#         'swir1','nir', 'green']).transpose('y', 'x', 'color')\n",
    "#         fake_saturation = 6000.0\n",
    "#         rgb = rgb.astype('double')\n",
    "#         clipped_visible = rgb.where(rgb<fake_saturation).fillna(fake_saturation)\n",
    "#         max_val = clipped_visible.max(['y', 'x'])\n",
    "#         scaled = (clipped_visible / max_val)\n",
    "        \n",
    "#         ax = fig.add_subplot(rows, cols, i)\n",
    "#         ax.imshow(scaled, interpolation='nearest')\n",
    "#         plt.title(str(scaled.time.values))"
   ]
  },
  {
   "cell_type": "code",
   "execution_count": null,
   "metadata": {
    "ExecuteTime": {
     "end_time": "2018-03-09T06:28:42.756704Z",
     "start_time": "2018-03-09T06:27:51.524861Z"
    },
    "scrolled": true
   },
   "outputs": [],
   "source": [
    "plot_all(sensor_nbar)"
   ]
  },
  {
   "cell_type": "code",
   "execution_count": null,
   "metadata": {
    "ExecuteTime": {
     "end_time": "2018-03-09T06:20:29.224636Z",
     "start_time": "2018-03-09T06:20:29.214084Z"
    }
   },
   "outputs": [],
   "source": [
    "# #Prepare imagery\n",
    "# rgb = sensor_nbar.isel(time =8).to_array(dim='color').sel(color=[\n",
    "#     'swir1','nir', 'green']).transpose('y', 'x', 'color')\n",
    "# fake_saturation = 6000.0\n",
    "# rgb = rgb.astype('double')\n",
    "# clipped_visible = rgb.where(rgb<fake_saturation).fillna(fake_saturation)\n",
    "# max_val = clipped_visible.max(['y', 'x'])\n",
    "# scaled = (clipped_visible / max_val)\n",
    "\n",
    "# fig = plt.figure(figsize =(8,8)) \n",
    "# plt.imshow(scaled)"
   ]
  },
  {
   "cell_type": "code",
   "execution_count": null,
   "metadata": {
    "ExecuteTime": {
     "end_time": "2018-03-09T05:23:54.280944Z",
     "start_time": "2018-03-09T05:23:54.271629Z"
    }
   },
   "outputs": [],
   "source": [
    "# plt.imshow(scaled, interpolation = 'nearest')"
   ]
  },
  {
   "cell_type": "code",
   "execution_count": null,
   "metadata": {},
   "outputs": [],
   "source": []
  },
  {
   "cell_type": "code",
   "execution_count": null,
   "metadata": {},
   "outputs": [],
   "source": []
  },
  {
   "cell_type": "code",
   "execution_count": null,
   "metadata": {
    "ExecuteTime": {
     "end_time": "2018-03-09T04:45:36.582109Z",
     "start_time": "2018-03-09T04:45:36.570672Z"
    }
   },
   "outputs": [],
   "source": [
    "sensor_nbar[0].metadata_doc"
   ]
  },
  {
   "cell_type": "code",
   "execution_count": null,
   "metadata": {
    "ExecuteTime": {
     "end_time": "2018-03-09T04:32:09.040796Z",
     "start_time": "2018-03-09T04:32:08.457413Z"
    }
   },
   "outputs": [],
   "source": [
    "cdc.load(product='ls7_usgs_sr_scene')"
   ]
  },
  {
   "cell_type": "code",
   "execution_count": null,
   "metadata": {
    "ExecuteTime": {
     "end_time": "2018-03-09T04:47:57.131099Z",
     "start_time": "2018-03-09T04:47:57.122677Z"
    }
   },
   "outputs": [],
   "source": [
    "blah=list(cdc.index.products.search())[1]"
   ]
  },
  {
   "cell_type": "code",
   "execution_count": null,
   "metadata": {
    "ExecuteTime": {
     "end_time": "2018-03-09T04:48:14.281593Z",
     "start_time": "2018-03-09T04:48:14.256247Z"
    }
   },
   "outputs": [],
   "source": [
    "blah.definition"
   ]
  },
  {
   "cell_type": "code",
   "execution_count": null,
   "metadata": {},
   "outputs": [],
   "source": []
  },
  {
   "cell_type": "code",
   "execution_count": null,
   "metadata": {},
   "outputs": [],
   "source": []
  },
  {
   "cell_type": "code",
   "execution_count": 7,
   "metadata": {
    "ExecuteTime": {
     "end_time": "2018-03-20T04:55:17.948435Z",
     "start_time": "2018-03-20T04:55:17.436877Z"
    }
   },
   "outputs": [
    {
     "name": "stdout",
     "output_type": "stream",
     "text": [
      "2110\n"
     ]
    }
   ],
   "source": [
    "ls8_datasets = cdc.find_datasets(product='ls8_usgs_sr_scene')\n",
    "ls7_datasets = cdc.find_datasets(product='ls7_usgs_sr_scene')\n",
    "print(len(ls8_datasets)+len(ls7_datasets))\n",
    "# ls8_datasets[0].metadata_doc"
   ]
  },
  {
   "cell_type": "code",
   "execution_count": null,
   "metadata": {
    "ExecuteTime": {
     "end_time": "2018-03-06T05:39:20.485015Z",
     "start_time": "2018-03-06T05:39:20.452236Z"
    },
    "scrolled": false
   },
   "outputs": [],
   "source": [
    "# ls7_datasets = cdc.find_datasets(product='ls7_usgs_sr_scene')\n",
    "# ls7_datasets"
   ]
  },
  {
   "cell_type": "code",
   "execution_count": null,
   "metadata": {
    "ExecuteTime": {
     "end_time": "2018-03-07T23:37:09.236812Z",
     "start_time": "2018-03-07T23:37:09.234123Z"
    }
   },
   "outputs": [],
   "source": [
    "# list(cdc.index.users.list_users())"
   ]
  },
  {
   "cell_type": "code",
   "execution_count": null,
   "metadata": {
    "ExecuteTime": {
     "end_time": "2018-03-09T04:13:45.303155Z",
     "start_time": "2018-03-09T04:13:44.640081Z"
    }
   },
   "outputs": [],
   "source": [
    "# # Remove all files from database. WARNING.\n",
    "# ls7_eager=[d.id for d in cdc.index.datasets.search_eager(product='ls7_usgs_sr_scene')]\n",
    "# cdc.index.datasets.archive(ls7_eager)"
   ]
  },
  {
   "cell_type": "code",
   "execution_count": null,
   "metadata": {
    "ExecuteTime": {
     "end_time": "2018-03-09T04:13:49.105729Z",
     "start_time": "2018-03-09T04:13:48.291341Z"
    }
   },
   "outputs": [],
   "source": [
    "# # Remove all files from database. WARNING.\n",
    "# ls8_eager=[d.id for d in cdc.index.datasets.search_eager(product='ls8_usgs_sr_scene')]\n",
    "# cdc.index.datasets.archive(ls8_eager)"
   ]
  },
  {
   "cell_type": "code",
   "execution_count": null,
   "metadata": {
    "ExecuteTime": {
     "end_time": "2018-03-06T04:15:38.887850Z",
     "start_time": "2018-03-06T04:15:38.885110Z"
    }
   },
   "outputs": [],
   "source": [
    "# cdc_ls7= cdc.load(product='ls7_usgs_sr_scene')\n",
    "# cdc_ls8 = cdc.load(product='ls8_usgs_sr_scene')"
   ]
  },
  {
   "cell_type": "code",
   "execution_count": null,
   "metadata": {
    "ExecuteTime": {
     "end_time": "2018-03-06T03:46:28.182506Z",
     "start_time": "2018-03-06T03:41:25.899Z"
    }
   },
   "outputs": [],
   "source": [
    "# print(cdc_ls8.time)\n",
    "# print(cdc_ls7.time)"
   ]
  },
  {
   "cell_type": "code",
   "execution_count": null,
   "metadata": {
    "ExecuteTime": {
     "end_time": "2018-03-05T05:03:00.439757Z",
     "start_time": "2018-03-05T05:03:00.437042Z"
    }
   },
   "outputs": [],
   "source": [
    "# dc = Datacube(app='dc-show changes in annual mean NDVI values')\n",
    "# dc.list_products()"
   ]
  },
  {
   "cell_type": "code",
   "execution_count": null,
   "metadata": {},
   "outputs": [],
   "source": []
  }
 ],
 "metadata": {
  "kernelspec": {
   "display_name": "Python 3",
   "language": "python",
   "name": "python3"
  },
  "language_info": {
   "codemirror_mode": {
    "name": "ipython",
    "version": 3
   },
   "file_extension": ".py",
   "mimetype": "text/x-python",
   "name": "python",
   "nbconvert_exporter": "python",
   "pygments_lexer": "ipython3",
   "version": "3.6.4"
  },
  "toc": {
   "nav_menu": {},
   "number_sections": true,
   "sideBar": true,
   "skip_h1_title": false,
   "title_cell": "Table of Contents",
   "title_sidebar": "Contents",
   "toc_cell": false,
   "toc_position": {},
   "toc_section_display": "block",
   "toc_window_display": false
  }
 },
 "nbformat": 4,
 "nbformat_minor": 2
}
