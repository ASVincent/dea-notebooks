{
 "cells": [
  {
   "cell_type": "code",
   "execution_count": 1,
   "metadata": {
    "ExecuteTime": {
     "end_time": "2018-05-15T01:39:12.578513Z",
     "start_time": "2018-05-15T01:39:07.086861Z"
    }
   },
   "outputs": [
    {
     "name": "stdout",
     "output_type": "stream",
     "text": [
      "Populating the interactive namespace from numpy and matplotlib\n"
     ]
    }
   ],
   "source": [
    "%pylab notebook\n",
    "from datacube import Datacube\n",
    "# from matplotlib import pyplot as plt\n",
    "import numpy as np\n",
    "from skimage import exposure\n",
    "import matplotlib.pyplot as plt\n",
    "from datacube_stats.statistics import GeoMedian\n",
    "cdc = Datacube(config='/g/data/u46/users/ext547/ewater/cambodia_cube/cambodia.conf')\n",
    "from datacube.storage import masking\n",
    "from datacube.storage.masking import mask_to_dict"
   ]
  },
  {
   "cell_type": "code",
   "execution_count": 11,
   "metadata": {
    "ExecuteTime": {
     "end_time": "2018-05-08T04:10:48.561326Z",
     "start_time": "2018-05-08T04:10:48.558579Z"
    }
   },
   "outputs": [],
   "source": [
    "# len(ls5_datasets)#[0].metadata_doc"
   ]
  },
  {
   "cell_type": "code",
   "execution_count": 105,
   "metadata": {
    "ExecuteTime": {
     "end_time": "2018-05-10T00:57:16.823232Z",
     "start_time": "2018-05-10T00:57:16.724955Z"
    }
   },
   "outputs": [
    {
     "name": "stdout",
     "output_type": "stream",
     "text": [
      "327\n"
     ]
    }
   ],
   "source": [
    "#define temporal range ()\n",
    "start_of_epoch = '1998-01-01'\n",
    "end_of_epoch =  '1999-01-01'\n",
    "\n",
    "\n",
    "# lat_min = 13.000 #down\n",
    "# lat_max = 13.200 #up\n",
    "# lon_min = 103.000 #left\n",
    "# lon_max = 103.200 #right  \n",
    "\n",
    "query = {'time': (start_of_epoch, end_of_epoch),}\n",
    "\n",
    "query['x'] = (lon_min, lon_max)\n",
    "query['y'] = (lat_max, lat_min)\n",
    "query['crs'] = 'EPSG:4326'\n",
    "\n",
    "# print(query)\n",
    "\n",
    "#Total number of scenes in Cambodia Cube\n",
    "ls8_datasets = cdc.find_datasets(product='ls8_usgs_sr_scene',**query)\n",
    "ls7_datasets = cdc.find_datasets(product='ls7_usgs_sr_scene',**query)\n",
    "ls5_datasets = cdc.find_datasets(product='ls5_usgs_sr_scene',**query)\n",
    "print(len(ls8_datasets)+len(ls7_datasets)+len(ls5_datasets))\n",
    "# ls8_datasets[0].metadata_doc"
   ]
  },
  {
   "cell_type": "code",
   "execution_count": 88,
   "metadata": {
    "ExecuteTime": {
     "end_time": "2018-05-10T00:50:36.299322Z",
     "start_time": "2018-05-10T00:50:36.041963Z"
    }
   },
   "outputs": [
    {
     "name": "stdout",
     "output_type": "stream",
     "text": [
      "717\n"
     ]
    }
   ],
   "source": [
    "#Total number of scenes in Cambodia Cube\n",
    "ls8_datasets = cdc.find_datasets(product='ls8_usgs_sr_scene',**query)\n",
    "ls7_datasets = cdc.find_datasets(product='ls7_usgs_sr_scene',**query)\n",
    "ls5_datasets = cdc.find_datasets(product='ls5_usgs_sr_scene',**query)\n",
    "print(len(ls8_datasets)+len(ls7_datasets)+len(ls5_datasets))\n",
    "# ls8_datasets[0].metadata_doc"
   ]
  },
  {
   "cell_type": "code",
   "execution_count": 17,
   "metadata": {
    "ExecuteTime": {
     "end_time": "2018-05-10T00:39:51.321137Z",
     "start_time": "2018-05-10T00:39:51.256187Z"
    }
   },
   "outputs": [
    {
     "data": {
      "text/plain": [
       "212"
      ]
     },
     "execution_count": 17,
     "metadata": {},
     "output_type": "execute_result"
    }
   ],
   "source": [
    "#query number of scenes in certain gm as per year query\n",
    "gm_datasets = cdc.find_datasets(product='ls5_usgs_sr_scene',**query)\n",
    "len(gm_datasets)"
   ]
  },
  {
   "cell_type": "code",
   "execution_count": 2,
   "metadata": {
    "ExecuteTime": {
     "end_time": "2018-05-15T01:39:12.678685Z",
     "start_time": "2018-05-15T01:39:12.582794Z"
    },
    "scrolled": false
   },
   "outputs": [
    {
     "data": {
      "text/html": [
       "<div>\n",
       "<style scoped>\n",
       "    .dataframe tbody tr th:only-of-type {\n",
       "        vertical-align: middle;\n",
       "    }\n",
       "\n",
       "    .dataframe tbody tr th {\n",
       "        vertical-align: top;\n",
       "    }\n",
       "\n",
       "    .dataframe thead th {\n",
       "        text-align: right;\n",
       "    }\n",
       "</style>\n",
       "<table border=\"1\" class=\"dataframe\">\n",
       "  <thead>\n",
       "    <tr style=\"text-align: right;\">\n",
       "      <th></th>\n",
       "      <th>name</th>\n",
       "      <th>description</th>\n",
       "      <th>instrument</th>\n",
       "      <th>lon</th>\n",
       "      <th>platform</th>\n",
       "      <th>format</th>\n",
       "      <th>lat</th>\n",
       "      <th>time</th>\n",
       "      <th>product_type</th>\n",
       "      <th>crs</th>\n",
       "      <th>resolution</th>\n",
       "      <th>tile_size</th>\n",
       "      <th>spatial_dimensions</th>\n",
       "    </tr>\n",
       "    <tr>\n",
       "      <th>id</th>\n",
       "      <th></th>\n",
       "      <th></th>\n",
       "      <th></th>\n",
       "      <th></th>\n",
       "      <th></th>\n",
       "      <th></th>\n",
       "      <th></th>\n",
       "      <th></th>\n",
       "      <th></th>\n",
       "      <th></th>\n",
       "      <th></th>\n",
       "      <th></th>\n",
       "      <th></th>\n",
       "    </tr>\n",
       "  </thead>\n",
       "  <tbody>\n",
       "    <tr>\n",
       "      <th>6</th>\n",
       "      <td>ls5_usgs_sr_scene</td>\n",
       "      <td>Landsat 5 USGS Collection 1 Level2 Surface Ref...</td>\n",
       "      <td>TM</td>\n",
       "      <td>None</td>\n",
       "      <td>LANDSAT_5</td>\n",
       "      <td>GeoTiff</td>\n",
       "      <td>None</td>\n",
       "      <td>None</td>\n",
       "      <td>LEDAPS</td>\n",
       "      <td>PROJCS[\"WGS 84\",GEOGCS[\"WGS 84\",DATUM[\"WGS_198...</td>\n",
       "      <td>[-30, 30]</td>\n",
       "      <td>None</td>\n",
       "      <td>(y, x)</td>\n",
       "    </tr>\n",
       "    <tr>\n",
       "      <th>2</th>\n",
       "      <td>ls7_usgs_sr_scene</td>\n",
       "      <td>Landsat 7 USGS Collection 1 Level2 Surface Ref...</td>\n",
       "      <td>ETM</td>\n",
       "      <td>None</td>\n",
       "      <td>LANDSAT_7</td>\n",
       "      <td>GeoTiff</td>\n",
       "      <td>None</td>\n",
       "      <td>None</td>\n",
       "      <td>LEDAPS</td>\n",
       "      <td>PROJCS[\"WGS 84\",GEOGCS[\"WGS 84\",DATUM[\"WGS_198...</td>\n",
       "      <td>[-30, 30]</td>\n",
       "      <td>None</td>\n",
       "      <td>(y, x)</td>\n",
       "    </tr>\n",
       "    <tr>\n",
       "      <th>1</th>\n",
       "      <td>ls8_usgs_sr_scene</td>\n",
       "      <td>Landsat 8 USGS Collection 1 Level2 Surface Ref...</td>\n",
       "      <td>OLI_TIRS</td>\n",
       "      <td>None</td>\n",
       "      <td>LANDSAT_8</td>\n",
       "      <td>GeoTiff</td>\n",
       "      <td>None</td>\n",
       "      <td>None</td>\n",
       "      <td>LaSRC</td>\n",
       "      <td>PROJCS[\"WGS 84\",GEOGCS[\"WGS 84\",DATUM[\"WGS_198...</td>\n",
       "      <td>[-30, 30]</td>\n",
       "      <td>None</td>\n",
       "      <td>(y, x)</td>\n",
       "    </tr>\n",
       "    <tr>\n",
       "      <th>5</th>\n",
       "      <td>ls_level2_geomedian_annual</td>\n",
       "      <td>Landsat Level-2 Annual GeoMedian</td>\n",
       "      <td>TM,ETM,OLI_TIRS</td>\n",
       "      <td>None</td>\n",
       "      <td>LANDSAT_5,LANDSAT_7,LANDSAT_8</td>\n",
       "      <td>GeoTiff</td>\n",
       "      <td>None</td>\n",
       "      <td>None</td>\n",
       "      <td>surface_reflectance_statistical_summary</td>\n",
       "      <td>EPSG:32648</td>\n",
       "      <td>[-30, 30]</td>\n",
       "      <td>[30720.0, 30720.0]</td>\n",
       "      <td>(y, x)</td>\n",
       "    </tr>\n",
       "    <tr>\n",
       "      <th>7</th>\n",
       "      <td>rainfall_grids_1998_2017</td>\n",
       "      <td>Interpolated Rain Precipitation 3-hour values ...</td>\n",
       "      <td>rain gauge</td>\n",
       "      <td>None</td>\n",
       "      <td>rain</td>\n",
       "      <td>NETCDF</td>\n",
       "      <td>None</td>\n",
       "      <td>None</td>\n",
       "      <td>rainfall</td>\n",
       "      <td>EPSG:4326</td>\n",
       "      <td>[-0.25, 0.25]</td>\n",
       "      <td>None</td>\n",
       "      <td>(latitude, longitude)</td>\n",
       "    </tr>\n",
       "  </tbody>\n",
       "</table>\n",
       "</div>"
      ],
      "text/plain": [
       "                          name  \\\n",
       "id                               \n",
       "6            ls5_usgs_sr_scene   \n",
       "2            ls7_usgs_sr_scene   \n",
       "1            ls8_usgs_sr_scene   \n",
       "5   ls_level2_geomedian_annual   \n",
       "7     rainfall_grids_1998_2017   \n",
       "\n",
       "                                          description       instrument   lon  \\\n",
       "id                                                                             \n",
       "6   Landsat 5 USGS Collection 1 Level2 Surface Ref...               TM  None   \n",
       "2   Landsat 7 USGS Collection 1 Level2 Surface Ref...              ETM  None   \n",
       "1   Landsat 8 USGS Collection 1 Level2 Surface Ref...         OLI_TIRS  None   \n",
       "5                    Landsat Level-2 Annual GeoMedian  TM,ETM,OLI_TIRS  None   \n",
       "7   Interpolated Rain Precipitation 3-hour values ...       rain gauge  None   \n",
       "\n",
       "                         platform   format   lat  time  \\\n",
       "id                                                       \n",
       "6                       LANDSAT_5  GeoTiff  None  None   \n",
       "2                       LANDSAT_7  GeoTiff  None  None   \n",
       "1                       LANDSAT_8  GeoTiff  None  None   \n",
       "5   LANDSAT_5,LANDSAT_7,LANDSAT_8  GeoTiff  None  None   \n",
       "7                            rain   NETCDF  None  None   \n",
       "\n",
       "                               product_type  \\\n",
       "id                                            \n",
       "6                                    LEDAPS   \n",
       "2                                    LEDAPS   \n",
       "1                                     LaSRC   \n",
       "5   surface_reflectance_statistical_summary   \n",
       "7                                  rainfall   \n",
       "\n",
       "                                                  crs     resolution  \\\n",
       "id                                                                     \n",
       "6   PROJCS[\"WGS 84\",GEOGCS[\"WGS 84\",DATUM[\"WGS_198...      [-30, 30]   \n",
       "2   PROJCS[\"WGS 84\",GEOGCS[\"WGS 84\",DATUM[\"WGS_198...      [-30, 30]   \n",
       "1   PROJCS[\"WGS 84\",GEOGCS[\"WGS 84\",DATUM[\"WGS_198...      [-30, 30]   \n",
       "5                                          EPSG:32648      [-30, 30]   \n",
       "7                                           EPSG:4326  [-0.25, 0.25]   \n",
       "\n",
       "             tile_size     spatial_dimensions  \n",
       "id                                             \n",
       "6                 None                 (y, x)  \n",
       "2                 None                 (y, x)  \n",
       "1                 None                 (y, x)  \n",
       "5   [30720.0, 30720.0]                 (y, x)  \n",
       "7                 None  (latitude, longitude)  "
      ]
     },
     "execution_count": 2,
     "metadata": {},
     "output_type": "execute_result"
    }
   ],
   "source": [
    "cdc.list_products()\n",
    "#cdc.list_measurements()"
   ]
  },
  {
   "cell_type": "code",
   "execution_count": 38,
   "metadata": {
    "ExecuteTime": {
     "end_time": "2018-05-08T04:34:29.619897Z",
     "start_time": "2018-05-08T04:34:01.557795Z"
    }
   },
   "outputs": [
    {
     "name": "stdout",
     "output_type": "stream",
     "text": [
      "{'time': ('1997-01-01', '1997-01-31'), 'x': (103.0, 103.2), 'y': (13.2, 13.0), 'crs': 'EPSG:4326'}\n"
     ]
    }
   ],
   "source": [
    "# set cloud threshold. This value defines the amount of lansdcape/cloud allowed in each scene. \n",
    "# Scenes will not be retrieved that have less than the cloud threshold worth of image.\n",
    "#The default value is \"0.90\" or >90% image and <10% cloud cover\n",
    "cloud_free_threshold = 0.20\n",
    "\n",
    "\n",
    "# lat_min = 13.000 #down\n",
    "# lat_max = 13.500 #up\n",
    "# lon_min = 103.000 #left\n",
    "# lon_max = 103.500 #right  \n",
    "\n",
    "\n",
    "#define temporal range ()\n",
    "# start_of_epoch = '2014-01-01'\n",
    "# end_of_epoch =  '2015-01-01'\n",
    "\n",
    "# #define first time of interest\n",
    "# start_of_time01 = '2015-01-01'\n",
    "# end_of_time01 = '2016-05-01'\n",
    "\n",
    "# #define second time of interest\n",
    "# start_of_time02 = '2016-05-02'\n",
    "# end_of_time02 = '2017-12-31'\n",
    "\n",
    "# start_of_epoch = '2014-01-01'\n",
    "# end_of_epoch =  '2014-01-02'\n",
    "\n",
    "#define wavelengths/bands of interest\n",
    "bands_of_interest = [#'blue',\n",
    "                     #'green',\n",
    "                     #'red', \n",
    "                     #'nir',\n",
    "                     #'swir1', \n",
    "                     'pixel_qa',\n",
    "                     #'swir2',\n",
    "                     ]\n",
    "\n",
    "#define Landsat sensors of interest\n",
    "sensors = ['ls8',]\n",
    "#        'ls7',] \n",
    "\n",
    "#query is created\n",
    "# query = {'time': (start_of_epoch, end_of_epoch),}\n",
    "# query['x'] = (lon_min, lon_max)\n",
    "# query['y'] = (lat_max, lat_min)\n",
    "# query['crs'] = 'EPSG:4326'\n",
    "\n",
    "print(query)"
   ]
  },
  {
   "cell_type": "code",
   "execution_count": 38,
   "metadata": {
    "ExecuteTime": {
     "end_time": "2018-05-02T03:35:31.599810Z",
     "start_time": "2018-05-02T03:35:31.596598Z"
    }
   },
   "outputs": [],
   "source": [
    "# #define temporal range ()\n",
    "# start_of_epoch = '2014-01-01'\n",
    "# end_of_epoch =  '2014-02-01'\n",
    "# query = {'time': (start_of_epoch, end_of_epoch),}"
   ]
  },
  {
   "cell_type": "code",
   "execution_count": 41,
   "metadata": {
    "ExecuteTime": {
     "end_time": "2018-05-08T04:34:40.804774Z",
     "start_time": "2018-05-08T04:34:40.274853Z"
    }
   },
   "outputs": [],
   "source": [
    "test02= cdc.load(product='ls5_usgs_sr_scene',measurements = bands_of_interest,group_by='solar_day', \n",
    "                                       **query)"
   ]
  },
  {
   "cell_type": "code",
   "execution_count": 63,
   "metadata": {
    "ExecuteTime": {
     "end_time": "2018-05-08T04:41:47.412281Z",
     "start_time": "2018-05-08T04:41:47.403045Z"
    }
   },
   "outputs": [
    {
     "data": {
      "text/plain": [
       "<xarray.DataArray 'y' ()>\n",
       "array(1460115.)\n",
       "Coordinates:\n",
       "    y        float64 1.46e+06\n",
       "Attributes:\n",
       "    units:    metre"
      ]
     },
     "execution_count": 63,
     "metadata": {},
     "output_type": "execute_result"
    }
   ],
   "source": [
    "test02.y[0]"
   ]
  },
  {
   "cell_type": "code",
   "execution_count": 62,
   "metadata": {
    "ExecuteTime": {
     "end_time": "2018-05-08T04:41:41.753294Z",
     "start_time": "2018-05-08T04:41:41.730571Z"
    }
   },
   "outputs": [
    {
     "data": {
      "text/plain": [
       "<xarray.DataArray 'y' ()>\n",
       "array(1460115.)\n",
       "Coordinates:\n",
       "    y        float64 1.46e+06\n",
       "Attributes:\n",
       "    units:    metre"
      ]
     },
     "execution_count": 62,
     "metadata": {},
     "output_type": "execute_result"
    }
   ],
   "source": [
    "test.y[0]"
   ]
  },
  {
   "cell_type": "code",
   "execution_count": 50,
   "metadata": {
    "ExecuteTime": {
     "end_time": "2018-05-08T04:36:10.837465Z",
     "start_time": "2018-05-08T04:36:10.825791Z"
    }
   },
   "outputs": [
    {
     "data": {
      "text/plain": [
       "<xarray.DataArray 'pixel_qa' (y: 744, x: 730)>\n",
       "array([[66, 66, 66, ..., 72, 72, 72],\n",
       "       [66, 66, 66, ..., 72, 72, 96],\n",
       "       [66, 66, 66, ..., 72, 96, 96],\n",
       "       ...,\n",
       "       [72, 72, 72, ..., 66, 66, 66],\n",
       "       [72, 72, 72, ..., 66, 66, 66],\n",
       "       [72, 72, 72, ..., 66, 66, 66]], dtype=uint16)\n",
       "Coordinates:\n",
       "    time     datetime64[ns] 1997-01-04T02:48:58.297000\n",
       "  * y        (y) float64 1.46e+06 1.46e+06 1.46e+06 1.46e+06 1.46e+06 ...\n",
       "  * x        (x) float64 2.831e+05 2.831e+05 2.831e+05 2.832e+05 2.832e+05 ...\n",
       "Attributes:\n",
       "    nodata:            1\n",
       "    units:             1\n",
       "    crs:               PROJCS[\"WGS 84\",GEOGCS[\"WGS 84\",DATUM[\"WGS_1984\",SPHER...\n",
       "    flags_definition:  {'snow': {'bits': 4, 'values': {'0': 'no_snow', '1': '..."
      ]
     },
     "execution_count": 50,
     "metadata": {},
     "output_type": "execute_result"
    }
   ],
   "source": [
    "test02.isel(time=0).pixel_qa"
   ]
  },
  {
   "cell_type": "code",
   "execution_count": 54,
   "metadata": {
    "ExecuteTime": {
     "end_time": "2018-05-08T04:40:07.175017Z",
     "start_time": "2018-05-08T04:40:06.803710Z"
    }
   },
   "outputs": [
    {
     "data": {
      "application/javascript": [
       "/* Put everything inside the global mpl namespace */\n",
       "window.mpl = {};\n",
       "\n",
       "\n",
       "mpl.get_websocket_type = function() {\n",
       "    if (typeof(WebSocket) !== 'undefined') {\n",
       "        return WebSocket;\n",
       "    } else if (typeof(MozWebSocket) !== 'undefined') {\n",
       "        return MozWebSocket;\n",
       "    } else {\n",
       "        alert('Your browser does not have WebSocket support.' +\n",
       "              'Please try Chrome, Safari or Firefox ≥ 6. ' +\n",
       "              'Firefox 4 and 5 are also supported but you ' +\n",
       "              'have to enable WebSockets in about:config.');\n",
       "    };\n",
       "}\n",
       "\n",
       "mpl.figure = function(figure_id, websocket, ondownload, parent_element) {\n",
       "    this.id = figure_id;\n",
       "\n",
       "    this.ws = websocket;\n",
       "\n",
       "    this.supports_binary = (this.ws.binaryType != undefined);\n",
       "\n",
       "    if (!this.supports_binary) {\n",
       "        var warnings = document.getElementById(\"mpl-warnings\");\n",
       "        if (warnings) {\n",
       "            warnings.style.display = 'block';\n",
       "            warnings.textContent = (\n",
       "                \"This browser does not support binary websocket messages. \" +\n",
       "                    \"Performance may be slow.\");\n",
       "        }\n",
       "    }\n",
       "\n",
       "    this.imageObj = new Image();\n",
       "\n",
       "    this.context = undefined;\n",
       "    this.message = undefined;\n",
       "    this.canvas = undefined;\n",
       "    this.rubberband_canvas = undefined;\n",
       "    this.rubberband_context = undefined;\n",
       "    this.format_dropdown = undefined;\n",
       "\n",
       "    this.image_mode = 'full';\n",
       "\n",
       "    this.root = $('<div/>');\n",
       "    this._root_extra_style(this.root)\n",
       "    this.root.attr('style', 'display: inline-block');\n",
       "\n",
       "    $(parent_element).append(this.root);\n",
       "\n",
       "    this._init_header(this);\n",
       "    this._init_canvas(this);\n",
       "    this._init_toolbar(this);\n",
       "\n",
       "    var fig = this;\n",
       "\n",
       "    this.waiting = false;\n",
       "\n",
       "    this.ws.onopen =  function () {\n",
       "            fig.send_message(\"supports_binary\", {value: fig.supports_binary});\n",
       "            fig.send_message(\"send_image_mode\", {});\n",
       "            if (mpl.ratio != 1) {\n",
       "                fig.send_message(\"set_dpi_ratio\", {'dpi_ratio': mpl.ratio});\n",
       "            }\n",
       "            fig.send_message(\"refresh\", {});\n",
       "        }\n",
       "\n",
       "    this.imageObj.onload = function() {\n",
       "            if (fig.image_mode == 'full') {\n",
       "                // Full images could contain transparency (where diff images\n",
       "                // almost always do), so we need to clear the canvas so that\n",
       "                // there is no ghosting.\n",
       "                fig.context.clearRect(0, 0, fig.canvas.width, fig.canvas.height);\n",
       "            }\n",
       "            fig.context.drawImage(fig.imageObj, 0, 0);\n",
       "        };\n",
       "\n",
       "    this.imageObj.onunload = function() {\n",
       "        fig.ws.close();\n",
       "    }\n",
       "\n",
       "    this.ws.onmessage = this._make_on_message_function(this);\n",
       "\n",
       "    this.ondownload = ondownload;\n",
       "}\n",
       "\n",
       "mpl.figure.prototype._init_header = function() {\n",
       "    var titlebar = $(\n",
       "        '<div class=\"ui-dialog-titlebar ui-widget-header ui-corner-all ' +\n",
       "        'ui-helper-clearfix\"/>');\n",
       "    var titletext = $(\n",
       "        '<div class=\"ui-dialog-title\" style=\"width: 100%; ' +\n",
       "        'text-align: center; padding: 3px;\"/>');\n",
       "    titlebar.append(titletext)\n",
       "    this.root.append(titlebar);\n",
       "    this.header = titletext[0];\n",
       "}\n",
       "\n",
       "\n",
       "\n",
       "mpl.figure.prototype._canvas_extra_style = function(canvas_div) {\n",
       "\n",
       "}\n",
       "\n",
       "\n",
       "mpl.figure.prototype._root_extra_style = function(canvas_div) {\n",
       "\n",
       "}\n",
       "\n",
       "mpl.figure.prototype._init_canvas = function() {\n",
       "    var fig = this;\n",
       "\n",
       "    var canvas_div = $('<div/>');\n",
       "\n",
       "    canvas_div.attr('style', 'position: relative; clear: both; outline: 0');\n",
       "\n",
       "    function canvas_keyboard_event(event) {\n",
       "        return fig.key_event(event, event['data']);\n",
       "    }\n",
       "\n",
       "    canvas_div.keydown('key_press', canvas_keyboard_event);\n",
       "    canvas_div.keyup('key_release', canvas_keyboard_event);\n",
       "    this.canvas_div = canvas_div\n",
       "    this._canvas_extra_style(canvas_div)\n",
       "    this.root.append(canvas_div);\n",
       "\n",
       "    var canvas = $('<canvas/>');\n",
       "    canvas.addClass('mpl-canvas');\n",
       "    canvas.attr('style', \"left: 0; top: 0; z-index: 0; outline: 0\")\n",
       "\n",
       "    this.canvas = canvas[0];\n",
       "    this.context = canvas[0].getContext(\"2d\");\n",
       "\n",
       "    var backingStore = this.context.backingStorePixelRatio ||\n",
       "\tthis.context.webkitBackingStorePixelRatio ||\n",
       "\tthis.context.mozBackingStorePixelRatio ||\n",
       "\tthis.context.msBackingStorePixelRatio ||\n",
       "\tthis.context.oBackingStorePixelRatio ||\n",
       "\tthis.context.backingStorePixelRatio || 1;\n",
       "\n",
       "    mpl.ratio = (window.devicePixelRatio || 1) / backingStore;\n",
       "\n",
       "    var rubberband = $('<canvas/>');\n",
       "    rubberband.attr('style', \"position: absolute; left: 0; top: 0; z-index: 1;\")\n",
       "\n",
       "    var pass_mouse_events = true;\n",
       "\n",
       "    canvas_div.resizable({\n",
       "        start: function(event, ui) {\n",
       "            pass_mouse_events = false;\n",
       "        },\n",
       "        resize: function(event, ui) {\n",
       "            fig.request_resize(ui.size.width, ui.size.height);\n",
       "        },\n",
       "        stop: function(event, ui) {\n",
       "            pass_mouse_events = true;\n",
       "            fig.request_resize(ui.size.width, ui.size.height);\n",
       "        },\n",
       "    });\n",
       "\n",
       "    function mouse_event_fn(event) {\n",
       "        if (pass_mouse_events)\n",
       "            return fig.mouse_event(event, event['data']);\n",
       "    }\n",
       "\n",
       "    rubberband.mousedown('button_press', mouse_event_fn);\n",
       "    rubberband.mouseup('button_release', mouse_event_fn);\n",
       "    // Throttle sequential mouse events to 1 every 20ms.\n",
       "    rubberband.mousemove('motion_notify', mouse_event_fn);\n",
       "\n",
       "    rubberband.mouseenter('figure_enter', mouse_event_fn);\n",
       "    rubberband.mouseleave('figure_leave', mouse_event_fn);\n",
       "\n",
       "    canvas_div.on(\"wheel\", function (event) {\n",
       "        event = event.originalEvent;\n",
       "        event['data'] = 'scroll'\n",
       "        if (event.deltaY < 0) {\n",
       "            event.step = 1;\n",
       "        } else {\n",
       "            event.step = -1;\n",
       "        }\n",
       "        mouse_event_fn(event);\n",
       "    });\n",
       "\n",
       "    canvas_div.append(canvas);\n",
       "    canvas_div.append(rubberband);\n",
       "\n",
       "    this.rubberband = rubberband;\n",
       "    this.rubberband_canvas = rubberband[0];\n",
       "    this.rubberband_context = rubberband[0].getContext(\"2d\");\n",
       "    this.rubberband_context.strokeStyle = \"#000000\";\n",
       "\n",
       "    this._resize_canvas = function(width, height) {\n",
       "        // Keep the size of the canvas, canvas container, and rubber band\n",
       "        // canvas in synch.\n",
       "        canvas_div.css('width', width)\n",
       "        canvas_div.css('height', height)\n",
       "\n",
       "        canvas.attr('width', width * mpl.ratio);\n",
       "        canvas.attr('height', height * mpl.ratio);\n",
       "        canvas.attr('style', 'width: ' + width + 'px; height: ' + height + 'px;');\n",
       "\n",
       "        rubberband.attr('width', width);\n",
       "        rubberband.attr('height', height);\n",
       "    }\n",
       "\n",
       "    // Set the figure to an initial 600x600px, this will subsequently be updated\n",
       "    // upon first draw.\n",
       "    this._resize_canvas(600, 600);\n",
       "\n",
       "    // Disable right mouse context menu.\n",
       "    $(this.rubberband_canvas).bind(\"contextmenu\",function(e){\n",
       "        return false;\n",
       "    });\n",
       "\n",
       "    function set_focus () {\n",
       "        canvas.focus();\n",
       "        canvas_div.focus();\n",
       "    }\n",
       "\n",
       "    window.setTimeout(set_focus, 100);\n",
       "}\n",
       "\n",
       "mpl.figure.prototype._init_toolbar = function() {\n",
       "    var fig = this;\n",
       "\n",
       "    var nav_element = $('<div/>')\n",
       "    nav_element.attr('style', 'width: 100%');\n",
       "    this.root.append(nav_element);\n",
       "\n",
       "    // Define a callback function for later on.\n",
       "    function toolbar_event(event) {\n",
       "        return fig.toolbar_button_onclick(event['data']);\n",
       "    }\n",
       "    function toolbar_mouse_event(event) {\n",
       "        return fig.toolbar_button_onmouseover(event['data']);\n",
       "    }\n",
       "\n",
       "    for(var toolbar_ind in mpl.toolbar_items) {\n",
       "        var name = mpl.toolbar_items[toolbar_ind][0];\n",
       "        var tooltip = mpl.toolbar_items[toolbar_ind][1];\n",
       "        var image = mpl.toolbar_items[toolbar_ind][2];\n",
       "        var method_name = mpl.toolbar_items[toolbar_ind][3];\n",
       "\n",
       "        if (!name) {\n",
       "            // put a spacer in here.\n",
       "            continue;\n",
       "        }\n",
       "        var button = $('<button/>');\n",
       "        button.addClass('ui-button ui-widget ui-state-default ui-corner-all ' +\n",
       "                        'ui-button-icon-only');\n",
       "        button.attr('role', 'button');\n",
       "        button.attr('aria-disabled', 'false');\n",
       "        button.click(method_name, toolbar_event);\n",
       "        button.mouseover(tooltip, toolbar_mouse_event);\n",
       "\n",
       "        var icon_img = $('<span/>');\n",
       "        icon_img.addClass('ui-button-icon-primary ui-icon');\n",
       "        icon_img.addClass(image);\n",
       "        icon_img.addClass('ui-corner-all');\n",
       "\n",
       "        var tooltip_span = $('<span/>');\n",
       "        tooltip_span.addClass('ui-button-text');\n",
       "        tooltip_span.html(tooltip);\n",
       "\n",
       "        button.append(icon_img);\n",
       "        button.append(tooltip_span);\n",
       "\n",
       "        nav_element.append(button);\n",
       "    }\n",
       "\n",
       "    var fmt_picker_span = $('<span/>');\n",
       "\n",
       "    var fmt_picker = $('<select/>');\n",
       "    fmt_picker.addClass('mpl-toolbar-option ui-widget ui-widget-content');\n",
       "    fmt_picker_span.append(fmt_picker);\n",
       "    nav_element.append(fmt_picker_span);\n",
       "    this.format_dropdown = fmt_picker[0];\n",
       "\n",
       "    for (var ind in mpl.extensions) {\n",
       "        var fmt = mpl.extensions[ind];\n",
       "        var option = $(\n",
       "            '<option/>', {selected: fmt === mpl.default_extension}).html(fmt);\n",
       "        fmt_picker.append(option)\n",
       "    }\n",
       "\n",
       "    // Add hover states to the ui-buttons\n",
       "    $( \".ui-button\" ).hover(\n",
       "        function() { $(this).addClass(\"ui-state-hover\");},\n",
       "        function() { $(this).removeClass(\"ui-state-hover\");}\n",
       "    );\n",
       "\n",
       "    var status_bar = $('<span class=\"mpl-message\"/>');\n",
       "    nav_element.append(status_bar);\n",
       "    this.message = status_bar[0];\n",
       "}\n",
       "\n",
       "mpl.figure.prototype.request_resize = function(x_pixels, y_pixels) {\n",
       "    // Request matplotlib to resize the figure. Matplotlib will then trigger a resize in the client,\n",
       "    // which will in turn request a refresh of the image.\n",
       "    this.send_message('resize', {'width': x_pixels, 'height': y_pixels});\n",
       "}\n",
       "\n",
       "mpl.figure.prototype.send_message = function(type, properties) {\n",
       "    properties['type'] = type;\n",
       "    properties['figure_id'] = this.id;\n",
       "    this.ws.send(JSON.stringify(properties));\n",
       "}\n",
       "\n",
       "mpl.figure.prototype.send_draw_message = function() {\n",
       "    if (!this.waiting) {\n",
       "        this.waiting = true;\n",
       "        this.ws.send(JSON.stringify({type: \"draw\", figure_id: this.id}));\n",
       "    }\n",
       "}\n",
       "\n",
       "\n",
       "mpl.figure.prototype.handle_save = function(fig, msg) {\n",
       "    var format_dropdown = fig.format_dropdown;\n",
       "    var format = format_dropdown.options[format_dropdown.selectedIndex].value;\n",
       "    fig.ondownload(fig, format);\n",
       "}\n",
       "\n",
       "\n",
       "mpl.figure.prototype.handle_resize = function(fig, msg) {\n",
       "    var size = msg['size'];\n",
       "    if (size[0] != fig.canvas.width || size[1] != fig.canvas.height) {\n",
       "        fig._resize_canvas(size[0], size[1]);\n",
       "        fig.send_message(\"refresh\", {});\n",
       "    };\n",
       "}\n",
       "\n",
       "mpl.figure.prototype.handle_rubberband = function(fig, msg) {\n",
       "    var x0 = msg['x0'] / mpl.ratio;\n",
       "    var y0 = (fig.canvas.height - msg['y0']) / mpl.ratio;\n",
       "    var x1 = msg['x1'] / mpl.ratio;\n",
       "    var y1 = (fig.canvas.height - msg['y1']) / mpl.ratio;\n",
       "    x0 = Math.floor(x0) + 0.5;\n",
       "    y0 = Math.floor(y0) + 0.5;\n",
       "    x1 = Math.floor(x1) + 0.5;\n",
       "    y1 = Math.floor(y1) + 0.5;\n",
       "    var min_x = Math.min(x0, x1);\n",
       "    var min_y = Math.min(y0, y1);\n",
       "    var width = Math.abs(x1 - x0);\n",
       "    var height = Math.abs(y1 - y0);\n",
       "\n",
       "    fig.rubberband_context.clearRect(\n",
       "        0, 0, fig.canvas.width, fig.canvas.height);\n",
       "\n",
       "    fig.rubberband_context.strokeRect(min_x, min_y, width, height);\n",
       "}\n",
       "\n",
       "mpl.figure.prototype.handle_figure_label = function(fig, msg) {\n",
       "    // Updates the figure title.\n",
       "    fig.header.textContent = msg['label'];\n",
       "}\n",
       "\n",
       "mpl.figure.prototype.handle_cursor = function(fig, msg) {\n",
       "    var cursor = msg['cursor'];\n",
       "    switch(cursor)\n",
       "    {\n",
       "    case 0:\n",
       "        cursor = 'pointer';\n",
       "        break;\n",
       "    case 1:\n",
       "        cursor = 'default';\n",
       "        break;\n",
       "    case 2:\n",
       "        cursor = 'crosshair';\n",
       "        break;\n",
       "    case 3:\n",
       "        cursor = 'move';\n",
       "        break;\n",
       "    }\n",
       "    fig.rubberband_canvas.style.cursor = cursor;\n",
       "}\n",
       "\n",
       "mpl.figure.prototype.handle_message = function(fig, msg) {\n",
       "    fig.message.textContent = msg['message'];\n",
       "}\n",
       "\n",
       "mpl.figure.prototype.handle_draw = function(fig, msg) {\n",
       "    // Request the server to send over a new figure.\n",
       "    fig.send_draw_message();\n",
       "}\n",
       "\n",
       "mpl.figure.prototype.handle_image_mode = function(fig, msg) {\n",
       "    fig.image_mode = msg['mode'];\n",
       "}\n",
       "\n",
       "mpl.figure.prototype.updated_canvas_event = function() {\n",
       "    // Called whenever the canvas gets updated.\n",
       "    this.send_message(\"ack\", {});\n",
       "}\n",
       "\n",
       "// A function to construct a web socket function for onmessage handling.\n",
       "// Called in the figure constructor.\n",
       "mpl.figure.prototype._make_on_message_function = function(fig) {\n",
       "    return function socket_on_message(evt) {\n",
       "        if (evt.data instanceof Blob) {\n",
       "            /* FIXME: We get \"Resource interpreted as Image but\n",
       "             * transferred with MIME type text/plain:\" errors on\n",
       "             * Chrome.  But how to set the MIME type?  It doesn't seem\n",
       "             * to be part of the websocket stream */\n",
       "            evt.data.type = \"image/png\";\n",
       "\n",
       "            /* Free the memory for the previous frames */\n",
       "            if (fig.imageObj.src) {\n",
       "                (window.URL || window.webkitURL).revokeObjectURL(\n",
       "                    fig.imageObj.src);\n",
       "            }\n",
       "\n",
       "            fig.imageObj.src = (window.URL || window.webkitURL).createObjectURL(\n",
       "                evt.data);\n",
       "            fig.updated_canvas_event();\n",
       "            fig.waiting = false;\n",
       "            return;\n",
       "        }\n",
       "        else if (typeof evt.data === 'string' && evt.data.slice(0, 21) == \"data:image/png;base64\") {\n",
       "            fig.imageObj.src = evt.data;\n",
       "            fig.updated_canvas_event();\n",
       "            fig.waiting = false;\n",
       "            return;\n",
       "        }\n",
       "\n",
       "        var msg = JSON.parse(evt.data);\n",
       "        var msg_type = msg['type'];\n",
       "\n",
       "        // Call the  \"handle_{type}\" callback, which takes\n",
       "        // the figure and JSON message as its only arguments.\n",
       "        try {\n",
       "            var callback = fig[\"handle_\" + msg_type];\n",
       "        } catch (e) {\n",
       "            console.log(\"No handler for the '\" + msg_type + \"' message type: \", msg);\n",
       "            return;\n",
       "        }\n",
       "\n",
       "        if (callback) {\n",
       "            try {\n",
       "                // console.log(\"Handling '\" + msg_type + \"' message: \", msg);\n",
       "                callback(fig, msg);\n",
       "            } catch (e) {\n",
       "                console.log(\"Exception inside the 'handler_\" + msg_type + \"' callback:\", e, e.stack, msg);\n",
       "            }\n",
       "        }\n",
       "    };\n",
       "}\n",
       "\n",
       "// from http://stackoverflow.com/questions/1114465/getting-mouse-location-in-canvas\n",
       "mpl.findpos = function(e) {\n",
       "    //this section is from http://www.quirksmode.org/js/events_properties.html\n",
       "    var targ;\n",
       "    if (!e)\n",
       "        e = window.event;\n",
       "    if (e.target)\n",
       "        targ = e.target;\n",
       "    else if (e.srcElement)\n",
       "        targ = e.srcElement;\n",
       "    if (targ.nodeType == 3) // defeat Safari bug\n",
       "        targ = targ.parentNode;\n",
       "\n",
       "    // jQuery normalizes the pageX and pageY\n",
       "    // pageX,Y are the mouse positions relative to the document\n",
       "    // offset() returns the position of the element relative to the document\n",
       "    var x = e.pageX - $(targ).offset().left;\n",
       "    var y = e.pageY - $(targ).offset().top;\n",
       "\n",
       "    return {\"x\": x, \"y\": y};\n",
       "};\n",
       "\n",
       "/*\n",
       " * return a copy of an object with only non-object keys\n",
       " * we need this to avoid circular references\n",
       " * http://stackoverflow.com/a/24161582/3208463\n",
       " */\n",
       "function simpleKeys (original) {\n",
       "  return Object.keys(original).reduce(function (obj, key) {\n",
       "    if (typeof original[key] !== 'object')\n",
       "        obj[key] = original[key]\n",
       "    return obj;\n",
       "  }, {});\n",
       "}\n",
       "\n",
       "mpl.figure.prototype.mouse_event = function(event, name) {\n",
       "    var canvas_pos = mpl.findpos(event)\n",
       "\n",
       "    if (name === 'button_press')\n",
       "    {\n",
       "        this.canvas.focus();\n",
       "        this.canvas_div.focus();\n",
       "    }\n",
       "\n",
       "    var x = canvas_pos.x * mpl.ratio;\n",
       "    var y = canvas_pos.y * mpl.ratio;\n",
       "\n",
       "    this.send_message(name, {x: x, y: y, button: event.button,\n",
       "                             step: event.step,\n",
       "                             guiEvent: simpleKeys(event)});\n",
       "\n",
       "    /* This prevents the web browser from automatically changing to\n",
       "     * the text insertion cursor when the button is pressed.  We want\n",
       "     * to control all of the cursor setting manually through the\n",
       "     * 'cursor' event from matplotlib */\n",
       "    event.preventDefault();\n",
       "    return false;\n",
       "}\n",
       "\n",
       "mpl.figure.prototype._key_event_extra = function(event, name) {\n",
       "    // Handle any extra behaviour associated with a key event\n",
       "}\n",
       "\n",
       "mpl.figure.prototype.key_event = function(event, name) {\n",
       "\n",
       "    // Prevent repeat events\n",
       "    if (name == 'key_press')\n",
       "    {\n",
       "        if (event.which === this._key)\n",
       "            return;\n",
       "        else\n",
       "            this._key = event.which;\n",
       "    }\n",
       "    if (name == 'key_release')\n",
       "        this._key = null;\n",
       "\n",
       "    var value = '';\n",
       "    if (event.ctrlKey && event.which != 17)\n",
       "        value += \"ctrl+\";\n",
       "    if (event.altKey && event.which != 18)\n",
       "        value += \"alt+\";\n",
       "    if (event.shiftKey && event.which != 16)\n",
       "        value += \"shift+\";\n",
       "\n",
       "    value += 'k';\n",
       "    value += event.which.toString();\n",
       "\n",
       "    this._key_event_extra(event, name);\n",
       "\n",
       "    this.send_message(name, {key: value,\n",
       "                             guiEvent: simpleKeys(event)});\n",
       "    return false;\n",
       "}\n",
       "\n",
       "mpl.figure.prototype.toolbar_button_onclick = function(name) {\n",
       "    if (name == 'download') {\n",
       "        this.handle_save(this, null);\n",
       "    } else {\n",
       "        this.send_message(\"toolbar_button\", {name: name});\n",
       "    }\n",
       "};\n",
       "\n",
       "mpl.figure.prototype.toolbar_button_onmouseover = function(tooltip) {\n",
       "    this.message.textContent = tooltip;\n",
       "};\n",
       "mpl.toolbar_items = [[\"Home\", \"Reset original view\", \"fa fa-home icon-home\", \"home\"], [\"Back\", \"Back to  previous view\", \"fa fa-arrow-left icon-arrow-left\", \"back\"], [\"Forward\", \"Forward to next view\", \"fa fa-arrow-right icon-arrow-right\", \"forward\"], [\"\", \"\", \"\", \"\"], [\"Pan\", \"Pan axes with left mouse, zoom with right\", \"fa fa-arrows icon-move\", \"pan\"], [\"Zoom\", \"Zoom to rectangle\", \"fa fa-square-o icon-check-empty\", \"zoom\"], [\"\", \"\", \"\", \"\"], [\"Download\", \"Download plot\", \"fa fa-floppy-o icon-save\", \"download\"]];\n",
       "\n",
       "mpl.extensions = [\"eps\", \"jpeg\", \"pdf\", \"png\", \"ps\", \"raw\", \"svg\", \"tif\"];\n",
       "\n",
       "mpl.default_extension = \"png\";var comm_websocket_adapter = function(comm) {\n",
       "    // Create a \"websocket\"-like object which calls the given IPython comm\n",
       "    // object with the appropriate methods. Currently this is a non binary\n",
       "    // socket, so there is still some room for performance tuning.\n",
       "    var ws = {};\n",
       "\n",
       "    ws.close = function() {\n",
       "        comm.close()\n",
       "    };\n",
       "    ws.send = function(m) {\n",
       "        //console.log('sending', m);\n",
       "        comm.send(m);\n",
       "    };\n",
       "    // Register the callback with on_msg.\n",
       "    comm.on_msg(function(msg) {\n",
       "        //console.log('receiving', msg['content']['data'], msg);\n",
       "        // Pass the mpl event to the overridden (by mpl) onmessage function.\n",
       "        ws.onmessage(msg['content']['data'])\n",
       "    });\n",
       "    return ws;\n",
       "}\n",
       "\n",
       "mpl.mpl_figure_comm = function(comm, msg) {\n",
       "    // This is the function which gets called when the mpl process\n",
       "    // starts-up an IPython Comm through the \"matplotlib\" channel.\n",
       "\n",
       "    var id = msg.content.data.id;\n",
       "    // Get hold of the div created by the display call when the Comm\n",
       "    // socket was opened in Python.\n",
       "    var element = $(\"#\" + id);\n",
       "    var ws_proxy = comm_websocket_adapter(comm)\n",
       "\n",
       "    function ondownload(figure, format) {\n",
       "        window.open(figure.imageObj.src);\n",
       "    }\n",
       "\n",
       "    var fig = new mpl.figure(id, ws_proxy,\n",
       "                           ondownload,\n",
       "                           element.get(0));\n",
       "\n",
       "    // Call onopen now - mpl needs it, as it is assuming we've passed it a real\n",
       "    // web socket which is closed, not our websocket->open comm proxy.\n",
       "    ws_proxy.onopen();\n",
       "\n",
       "    fig.parent_element = element.get(0);\n",
       "    fig.cell_info = mpl.find_output_cell(\"<div id='\" + id + \"'></div>\");\n",
       "    if (!fig.cell_info) {\n",
       "        console.error(\"Failed to find cell for figure\", id, fig);\n",
       "        return;\n",
       "    }\n",
       "\n",
       "    var output_index = fig.cell_info[2]\n",
       "    var cell = fig.cell_info[0];\n",
       "\n",
       "};\n",
       "\n",
       "mpl.figure.prototype.handle_close = function(fig, msg) {\n",
       "    var width = fig.canvas.width/mpl.ratio\n",
       "    fig.root.unbind('remove')\n",
       "\n",
       "    // Update the output cell to use the data from the current canvas.\n",
       "    fig.push_to_output();\n",
       "    var dataURL = fig.canvas.toDataURL();\n",
       "    // Re-enable the keyboard manager in IPython - without this line, in FF,\n",
       "    // the notebook keyboard shortcuts fail.\n",
       "    IPython.keyboard_manager.enable()\n",
       "    $(fig.parent_element).html('<img src=\"' + dataURL + '\" width=\"' + width + '\">');\n",
       "    fig.close_ws(fig, msg);\n",
       "}\n",
       "\n",
       "mpl.figure.prototype.close_ws = function(fig, msg){\n",
       "    fig.send_message('closing', msg);\n",
       "    // fig.ws.close()\n",
       "}\n",
       "\n",
       "mpl.figure.prototype.push_to_output = function(remove_interactive) {\n",
       "    // Turn the data on the canvas into data in the output cell.\n",
       "    var width = this.canvas.width/mpl.ratio\n",
       "    var dataURL = this.canvas.toDataURL();\n",
       "    this.cell_info[1]['text/html'] = '<img src=\"' + dataURL + '\" width=\"' + width + '\">';\n",
       "}\n",
       "\n",
       "mpl.figure.prototype.updated_canvas_event = function() {\n",
       "    // Tell IPython that the notebook contents must change.\n",
       "    IPython.notebook.set_dirty(true);\n",
       "    this.send_message(\"ack\", {});\n",
       "    var fig = this;\n",
       "    // Wait a second, then push the new image to the DOM so\n",
       "    // that it is saved nicely (might be nice to debounce this).\n",
       "    setTimeout(function () { fig.push_to_output() }, 1000);\n",
       "}\n",
       "\n",
       "mpl.figure.prototype._init_toolbar = function() {\n",
       "    var fig = this;\n",
       "\n",
       "    var nav_element = $('<div/>')\n",
       "    nav_element.attr('style', 'width: 100%');\n",
       "    this.root.append(nav_element);\n",
       "\n",
       "    // Define a callback function for later on.\n",
       "    function toolbar_event(event) {\n",
       "        return fig.toolbar_button_onclick(event['data']);\n",
       "    }\n",
       "    function toolbar_mouse_event(event) {\n",
       "        return fig.toolbar_button_onmouseover(event['data']);\n",
       "    }\n",
       "\n",
       "    for(var toolbar_ind in mpl.toolbar_items){\n",
       "        var name = mpl.toolbar_items[toolbar_ind][0];\n",
       "        var tooltip = mpl.toolbar_items[toolbar_ind][1];\n",
       "        var image = mpl.toolbar_items[toolbar_ind][2];\n",
       "        var method_name = mpl.toolbar_items[toolbar_ind][3];\n",
       "\n",
       "        if (!name) { continue; };\n",
       "\n",
       "        var button = $('<button class=\"btn btn-default\" href=\"#\" title=\"' + name + '\"><i class=\"fa ' + image + ' fa-lg\"></i></button>');\n",
       "        button.click(method_name, toolbar_event);\n",
       "        button.mouseover(tooltip, toolbar_mouse_event);\n",
       "        nav_element.append(button);\n",
       "    }\n",
       "\n",
       "    // Add the status bar.\n",
       "    var status_bar = $('<span class=\"mpl-message\" style=\"text-align:right; float: right;\"/>');\n",
       "    nav_element.append(status_bar);\n",
       "    this.message = status_bar[0];\n",
       "\n",
       "    // Add the close button to the window.\n",
       "    var buttongrp = $('<div class=\"btn-group inline pull-right\"></div>');\n",
       "    var button = $('<button class=\"btn btn-mini btn-primary\" href=\"#\" title=\"Stop Interaction\"><i class=\"fa fa-power-off icon-remove icon-large\"></i></button>');\n",
       "    button.click(function (evt) { fig.handle_close(fig, {}); } );\n",
       "    button.mouseover('Stop Interaction', toolbar_mouse_event);\n",
       "    buttongrp.append(button);\n",
       "    var titlebar = this.root.find($('.ui-dialog-titlebar'));\n",
       "    titlebar.prepend(buttongrp);\n",
       "}\n",
       "\n",
       "mpl.figure.prototype._root_extra_style = function(el){\n",
       "    var fig = this\n",
       "    el.on(\"remove\", function(){\n",
       "\tfig.close_ws(fig, {});\n",
       "    });\n",
       "}\n",
       "\n",
       "mpl.figure.prototype._canvas_extra_style = function(el){\n",
       "    // this is important to make the div 'focusable\n",
       "    el.attr('tabindex', 0)\n",
       "    // reach out to IPython and tell the keyboard manager to turn it's self\n",
       "    // off when our div gets focus\n",
       "\n",
       "    // location in version 3\n",
       "    if (IPython.notebook.keyboard_manager) {\n",
       "        IPython.notebook.keyboard_manager.register_events(el);\n",
       "    }\n",
       "    else {\n",
       "        // location in version 2\n",
       "        IPython.keyboard_manager.register_events(el);\n",
       "    }\n",
       "\n",
       "}\n",
       "\n",
       "mpl.figure.prototype._key_event_extra = function(event, name) {\n",
       "    var manager = IPython.notebook.keyboard_manager;\n",
       "    if (!manager)\n",
       "        manager = IPython.keyboard_manager;\n",
       "\n",
       "    // Check for shift+enter\n",
       "    if (event.shiftKey && event.which == 13) {\n",
       "        this.canvas_div.blur();\n",
       "        event.shiftKey = false;\n",
       "        // Send a \"J\" for go to next cell\n",
       "        event.which = 74;\n",
       "        event.keyCode = 74;\n",
       "        manager.command_mode();\n",
       "        manager.handle_keydown(event);\n",
       "    }\n",
       "}\n",
       "\n",
       "mpl.figure.prototype.handle_save = function(fig, msg) {\n",
       "    fig.ondownload(fig, null);\n",
       "}\n",
       "\n",
       "\n",
       "mpl.find_output_cell = function(html_output) {\n",
       "    // Return the cell and output element which can be found *uniquely* in the notebook.\n",
       "    // Note - this is a bit hacky, but it is done because the \"notebook_saving.Notebook\"\n",
       "    // IPython event is triggered only after the cells have been serialised, which for\n",
       "    // our purposes (turning an active figure into a static one), is too late.\n",
       "    var cells = IPython.notebook.get_cells();\n",
       "    var ncells = cells.length;\n",
       "    for (var i=0; i<ncells; i++) {\n",
       "        var cell = cells[i];\n",
       "        if (cell.cell_type === 'code'){\n",
       "            for (var j=0; j<cell.output_area.outputs.length; j++) {\n",
       "                var data = cell.output_area.outputs[j];\n",
       "                if (data.data) {\n",
       "                    // IPython >= 3 moved mimebundle to data attribute of output\n",
       "                    data = data.data;\n",
       "                }\n",
       "                if (data['text/html'] == html_output) {\n",
       "                    return [cell, data, j];\n",
       "                }\n",
       "            }\n",
       "        }\n",
       "    }\n",
       "}\n",
       "\n",
       "// Register the function which deals with the matplotlib target/channel.\n",
       "// The kernel may be null if the page has been refreshed.\n",
       "if (IPython.notebook.kernel != null) {\n",
       "    IPython.notebook.kernel.comm_manager.register_target('matplotlib', mpl.mpl_figure_comm);\n",
       "}\n"
      ],
      "text/plain": [
       "<IPython.core.display.Javascript object>"
      ]
     },
     "metadata": {},
     "output_type": "display_data"
    },
    {
     "data": {
      "text/html": [
       "<img src=\"data:image/png;base64,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\" width=\"639.8499802953507\">"
      ],
      "text/plain": [
       "<IPython.core.display.HTML object>"
      ]
     },
     "metadata": {},
     "output_type": "display_data"
    },
    {
     "data": {
      "text/plain": [
       "<matplotlib.image.AxesImage at 0x7fdd3d825908>"
      ]
     },
     "execution_count": 54,
     "metadata": {},
     "output_type": "execute_result"
    }
   ],
   "source": [
    "plt.imshow(test02.isel(time=0).pixel_qa)"
   ]
  },
  {
   "cell_type": "code",
   "execution_count": 59,
   "metadata": {
    "ExecuteTime": {
     "end_time": "2018-05-08T04:41:20.783993Z",
     "start_time": "2018-05-08T04:41:19.847776Z"
    }
   },
   "outputs": [],
   "source": [
    "test= cdc.load(product='ls_level2_geomedian_annual',**query)"
   ]
  },
  {
   "cell_type": "code",
   "execution_count": 60,
   "metadata": {
    "ExecuteTime": {
     "end_time": "2018-05-08T04:41:20.808338Z",
     "start_time": "2018-05-08T04:41:20.786764Z"
    }
   },
   "outputs": [
    {
     "data": {
      "text/plain": [
       "<xarray.Dataset>\n",
       "Dimensions:  (time: 1, x: 730, y: 744)\n",
       "Coordinates:\n",
       "  * time     (time) datetime64[ns] 1997-01-01\n",
       "  * y        (y) float64 1.46e+06 1.46e+06 1.46e+06 1.46e+06 1.46e+06 ...\n",
       "  * x        (x) float64 2.831e+05 2.831e+05 2.831e+05 2.832e+05 2.832e+05 ...\n",
       "Data variables:\n",
       "    blue     (time, y, x) int16 830 850 839 849 881 887 830 790 796 794 838 ...\n",
       "    green    (time, y, x) int16 1125 1147 1149 1160 1189 1201 1153 1120 1100 ...\n",
       "    red      (time, y, x) int16 1377 1440 1383 1355 1431 1407 1366 1338 1333 ...\n",
       "    nir      (time, y, x) int16 2456 2520 2559 2527 2522 2509 2472 2482 2493 ...\n",
       "    swir1    (time, y, x) int16 2987 3150 3107 3014 3088 3119 3026 2943 2969 ...\n",
       "    swir2    (time, y, x) int16 1867 2055 2008 1944 1972 2020 1885 1819 1807 ...\n",
       "Attributes:\n",
       "    crs:      EPSG:32648"
      ]
     },
     "execution_count": 60,
     "metadata": {},
     "output_type": "execute_result"
    }
   ],
   "source": [
    "test"
   ]
  },
  {
   "cell_type": "code",
   "execution_count": 34,
   "metadata": {
    "ExecuteTime": {
     "end_time": "2018-05-08T04:32:02.222247Z",
     "start_time": "2018-05-08T04:32:02.199935Z"
    }
   },
   "outputs": [
    {
     "data": {
      "text/plain": [
       "<xarray.DataArray (y: 744, x: 730, color: 3)>\n",
       "array([[[2987, 2456, 1125],\n",
       "        [3150, 2520, 1147],\n",
       "        ...,\n",
       "        [2773, 2813, 1002],\n",
       "        [2860, 2826, 1149]],\n",
       "\n",
       "       [[2948, 2434, 1116],\n",
       "        [2970, 2473, 1100],\n",
       "        ...,\n",
       "        [2792, 2745,  954],\n",
       "        [2810, 2973, 1123]],\n",
       "\n",
       "       ...,\n",
       "\n",
       "       [[2777, 2547,  964],\n",
       "        [2738, 2581,  932],\n",
       "        ...,\n",
       "        [3249, 2926, 1320],\n",
       "        [3311, 2971, 1320]],\n",
       "\n",
       "       [[2811, 2479,  947],\n",
       "        [2941, 2526, 1007],\n",
       "        ...,\n",
       "        [3280, 2745, 1273],\n",
       "        [3280, 2745, 1320]]], dtype=int16)\n",
       "Coordinates:\n",
       "    time     datetime64[ns] 1997-01-01\n",
       "  * y        (y) float64 1.46e+06 1.46e+06 1.46e+06 1.46e+06 1.46e+06 ...\n",
       "  * x        (x) float64 2.831e+05 2.831e+05 2.831e+05 2.832e+05 2.832e+05 ...\n",
       "  * color    (color) <U5 'swir1' 'nir' 'green'\n",
       "Attributes:\n",
       "    crs:      EPSG:32648"
      ]
     },
     "execution_count": 34,
     "metadata": {},
     "output_type": "execute_result"
    }
   ],
   "source": [
    "test.isel(time=0).to_array(dim='color').sel(color=['swir1','nir', 'green']).transpose('y', 'x', 'color')"
   ]
  },
  {
   "cell_type": "code",
   "execution_count": 36,
   "metadata": {
    "ExecuteTime": {
     "end_time": "2018-05-08T04:32:31.608074Z",
     "start_time": "2018-05-08T04:32:31.079831Z"
    }
   },
   "outputs": [
    {
     "data": {
      "text/plain": [
       "<matplotlib.image.AxesImage at 0x7fdd3c847a20>"
      ]
     },
     "execution_count": 36,
     "metadata": {},
     "output_type": "execute_result"
    },
    {
     "data": {
      "image/png": "[encoded data removed]",
      "text/plain": [
       "<Figure size 432x288 with 1 Axes>"
      ]
     },
     "metadata": {},
     "output_type": "display_data"
    }
   ],
   "source": [
    "rgb = test.isel(time=0).to_array(dim='color').sel(color=['swir1',\n",
    "                                                         'nir', 'green']).transpose('y', \n",
    "                                                                                    'x', 'color')\n",
    "fake_saturation = 6000.0\n",
    "rgb = rgb.astype('double')\n",
    "clipped_visible = rgb.where(rgb<fake_saturation).fillna(fake_saturation)\n",
    "max_val = clipped_visible.max(['y', 'x'])\n",
    "scaled = (clipped_visible / max_val)\n",
    "\n",
    "plt.imshow(scaled)"
   ]
  },
  {
   "cell_type": "code",
   "execution_count": 63,
   "metadata": {
    "ExecuteTime": {
     "end_time": "2018-05-02T04:20:00.404860Z",
     "start_time": "2018-05-02T04:20:00.396292Z"
    }
   },
   "outputs": [
    {
     "data": {
      "text/plain": [
       "<xarray.DataArray 'rainfall' ()>\n",
       "array(15.32)"
      ]
     },
     "execution_count": 63,
     "metadata": {},
     "output_type": "execute_result"
    }
   ],
   "source": [
    "test.rainfall.max()"
   ]
  },
  {
   "cell_type": "code",
   "execution_count": 18,
   "metadata": {
    "ExecuteTime": {
     "end_time": "2018-05-02T03:29:36.515154Z",
     "start_time": "2018-05-02T03:29:36.508512Z"
    }
   },
   "outputs": [
    {
     "data": {
      "text/plain": [
       "<xarray.DataArray 'latitude' ()>\n",
       "array(8.875)"
      ]
     },
     "execution_count": 18,
     "metadata": {},
     "output_type": "execute_result"
    }
   ],
   "source": [
    "test.latitude.min()"
   ]
  },
  {
   "cell_type": "code",
   "execution_count": null,
   "metadata": {
    "ExecuteTime": {
     "end_time": "2018-04-30T07:05:40.823746Z",
     "start_time": "2018-04-30T07:04:51.718452Z"
    }
   },
   "outputs": [],
   "source": [
    "test= cdc.load(product='ls8_usgs_sr_scene',**query)\n",
    "# test= test.squeeze()\n",
    "test"
   ]
  },
  {
   "cell_type": "code",
   "execution_count": null,
   "metadata": {
    "ExecuteTime": {
     "end_time": "2018-03-26T00:55:31.789050Z",
     "start_time": "2018-03-26T00:55:31.784654Z"
    },
    "scrolled": false
   },
   "outputs": [],
   "source": [
    "# three_band_image_subplots(test, ['red','green','blue'], 2, figsize = [30,50])"
   ]
  },
  {
   "cell_type": "code",
   "execution_count": null,
   "metadata": {},
   "outputs": [],
   "source": []
  },
  {
   "cell_type": "code",
   "execution_count": null,
   "metadata": {},
   "outputs": [],
   "source": []
  },
  {
   "cell_type": "code",
   "execution_count": null,
   "metadata": {
    "ExecuteTime": {
     "end_time": "2018-04-23T07:06:47.447380Z",
     "start_time": "2018-04-23T07:06:47.247381Z"
    }
   },
   "outputs": [],
   "source": [
    "# sensor_nbar[0].metadata_doc"
   ]
  },
  {
   "cell_type": "code",
   "execution_count": null,
   "metadata": {
    "ExecuteTime": {
     "end_time": "2018-04-23T07:06:58.135735Z",
     "start_time": "2018-04-23T07:06:58.132672Z"
    }
   },
   "outputs": [],
   "source": [
    "# cdc.load(product='ls7_usgs_sr_scene')"
   ]
  },
  {
   "cell_type": "code",
   "execution_count": null,
   "metadata": {
    "ExecuteTime": {
     "end_time": "2018-04-23T07:06:58.756033Z",
     "start_time": "2018-04-23T07:06:58.746479Z"
    }
   },
   "outputs": [],
   "source": [
    "blah=list(cdc.index.products.search())[1]"
   ]
  },
  {
   "cell_type": "code",
   "execution_count": null,
   "metadata": {
    "ExecuteTime": {
     "end_time": "2018-04-23T07:07:00.196100Z",
     "start_time": "2018-04-23T07:07:00.184841Z"
    }
   },
   "outputs": [],
   "source": [
    "blah.definition"
   ]
  },
  {
   "cell_type": "code",
   "execution_count": 89,
   "metadata": {
    "ExecuteTime": {
     "end_time": "2018-05-02T06:26:02.725196Z",
     "start_time": "2018-05-02T06:26:02.168084Z"
    }
   },
   "outputs": [
    {
     "data": {
      "text/plain": [
       "1913"
      ]
     },
     "execution_count": 89,
     "metadata": {},
     "output_type": "execute_result"
    }
   ],
   "source": [
    "gm_all_datasets = cdc.find_datasets(product='ls_level2_geomedian_annual')\n",
    "len(gm_all_datasets)"
   ]
  },
  {
   "cell_type": "code",
   "execution_count": 91,
   "metadata": {
    "ExecuteTime": {
     "end_time": "2018-05-02T06:28:05.291463Z",
     "start_time": "2018-05-02T06:28:05.234893Z"
    },
    "scrolled": false
   },
   "outputs": [
    {
     "data": {
      "text/plain": [
       "225"
      ]
     },
     "execution_count": 91,
     "metadata": {},
     "output_type": "execute_result"
    }
   ],
   "source": [
    "ls7_datasets = cdc.find_datasets(product='ls7_usgs_sr_scene',**query)\n",
    "len(ls7_datasets)"
   ]
  },
  {
   "cell_type": "code",
   "execution_count": null,
   "metadata": {
    "ExecuteTime": {
     "end_time": "2018-03-07T23:37:09.236812Z",
     "start_time": "2018-03-07T23:37:09.234123Z"
    }
   },
   "outputs": [],
   "source": [
    "# list(cdc.index.users.list_users())"
   ]
  },
  {
   "cell_type": "code",
   "execution_count": 210,
   "metadata": {
    "ExecuteTime": {
     "end_time": "2018-05-10T02:33:55.030488Z",
     "start_time": "2018-05-10T02:33:55.025607Z"
    }
   },
   "outputs": [
    {
     "name": "stdout",
     "output_type": "stream",
     "text": [
      "{'time': ('1989-01-01', '1990-01-01')}\n"
     ]
    }
   ],
   "source": [
    "#define temporal range ()\n",
    "start_of_epoch = '1989-01-01'\n",
    "end_of_epoch =  '1990-01-01'\n",
    "query = {'time': (start_of_epoch, end_of_epoch),}\n",
    "print(query)"
   ]
  },
  {
   "cell_type": "code",
   "execution_count": 211,
   "metadata": {
    "ExecuteTime": {
     "end_time": "2018-05-10T02:33:55.790571Z",
     "start_time": "2018-05-10T02:33:55.737778Z"
    }
   },
   "outputs": [
    {
     "name": "stdout",
     "output_type": "stream",
     "text": [
      "0\n"
     ]
    }
   ],
   "source": [
    "ls8_datasets = cdc.find_datasets(product='ls8_usgs_sr_scene',**query)\n",
    "ls7_datasets = cdc.find_datasets(product='ls7_usgs_sr_scene',**query)\n",
    "ls5_datasets = cdc.find_datasets(product='ls5_usgs_sr_scene',**query)\n",
    "print(len(ls5_datasets))#+len(ls7_datasets)+len(ls8_datasets))\n",
    "# ls8_datasets[0].metadata_doc"
   ]
  },
  {
   "cell_type": "code",
   "execution_count": 181,
   "metadata": {
    "ExecuteTime": {
     "end_time": "2018-05-10T01:56:45.602382Z",
     "start_time": "2018-05-10T01:56:45.595581Z"
    }
   },
   "outputs": [
    {
     "name": "stdout",
     "output_type": "stream",
     "text": [
      "0\n"
     ]
    }
   ],
   "source": [
    "# # #Remove all files from database. WARNING.\n",
    "# ls8_eager=[d.id for d in ls8_datasets]\n",
    "# cdc.index.datasets.archive(ls8_eager)\n",
    "# print(len(ls8_datasets))"
   ]
  },
  {
   "cell_type": "code",
   "execution_count": 182,
   "metadata": {
    "ExecuteTime": {
     "end_time": "2018-05-10T01:56:45.985110Z",
     "start_time": "2018-05-10T01:56:45.979381Z"
    }
   },
   "outputs": [
    {
     "name": "stdout",
     "output_type": "stream",
     "text": [
      "0\n"
     ]
    }
   ],
   "source": [
    "# # #Remove all files from database. WARNING.\n",
    "# ls7_eager=[d.id for d in ls7_datasets]\n",
    "# cdc.index.datasets.archive(ls7_eager)\n",
    "# print(len(ls7_datasets))"
   ]
  },
  {
   "cell_type": "code",
   "execution_count": 183,
   "metadata": {
    "ExecuteTime": {
     "end_time": "2018-05-10T01:56:46.546251Z",
     "start_time": "2018-05-10T01:56:46.539580Z"
    }
   },
   "outputs": [
    {
     "name": "stdout",
     "output_type": "stream",
     "text": [
      "0\n"
     ]
    }
   ],
   "source": [
    "# # #Remove all files from database. WARNING.\n",
    "# ls5_eager=[d.id for d in ls5_datasets]\n",
    "# cdc.index.datasets.archive(ls5_eager)\n",
    "# print(len(ls5_datasets))"
   ]
  },
  {
   "cell_type": "code",
   "execution_count": 17,
   "metadata": {
    "ExecuteTime": {
     "end_time": "2018-05-03T02:51:01.967877Z",
     "start_time": "2018-05-03T02:50:48.724252Z"
    }
   },
   "outputs": [],
   "source": [
    "# # # Remove specific files from database. WARNING.\n",
    "# gm_eager=[d.id for d in cdc.index.datasets.search_eager(product='ls_level2_geomedian_annual')]#,**query)]\n",
    "# cdc.index.datasets.archive(gm_eager)"
   ]
  },
  {
   "cell_type": "code",
   "execution_count": 121,
   "metadata": {
    "ExecuteTime": {
     "end_time": "2018-05-10T01:48:15.869298Z",
     "start_time": "2018-05-10T01:48:15.857194Z"
    }
   },
   "outputs": [],
   "source": [
    "# # Remove specific files from database. WARNING.\n",
    "# gm_eager=[d.id for d in gm_datasets]#cdc.index.datasets.search_eager(product='ls_level2_geomedian_annual',**query)]\n",
    "# cdc.index.datasets.archive(gm_eager)"
   ]
  },
  {
   "cell_type": "code",
   "execution_count": 122,
   "metadata": {
    "ExecuteTime": {
     "end_time": "2018-05-10T01:48:24.176641Z",
     "start_time": "2018-05-10T01:48:24.162879Z"
    }
   },
   "outputs": [
    {
     "data": {
      "text/plain": [
       "[UUID('252bae22-6f61-4c9e-8b01-08149439051b'),\n",
       " UUID('2cdb3492-534f-461b-9088-8a3c13244604'),\n",
       " UUID('3c5f1492-95af-4ab5-9c3f-b9d7a510b999'),\n",
       " UUID('54d98d86-f1d7-4b13-bc22-d508b818734a'),\n",
       " UUID('1827fef7-11e4-4d57-aa65-de5f0e9e0436'),\n",
       " UUID('99b5be4c-d74f-4c8a-906b-939700b0b878'),\n",
       " UUID('8a07bbfb-55ef-4574-b555-596a5d499664'),\n",
       " UUID('e1c138dc-224d-40ec-879b-d1b0c5dbbfa3'),\n",
       " UUID('85477d12-c380-469d-901d-8dae714cfa56'),\n",
       " UUID('a1e4250a-b6f8-4b0d-8715-aa32ec89ee6d'),\n",
       " UUID('e06add73-47ec-4fb4-acea-b97819bb5ac1'),\n",
       " UUID('2703af4a-679e-4032-ac01-4b04c07e7386'),\n",
       " UUID('25634ce6-d809-4e84-9847-ca4d826ae5a5'),\n",
       " UUID('8c083808-b37a-48d1-92dd-0dd282426c43'),\n",
       " UUID('d4b1a8a0-f38e-43e5-bc29-4cdffb5d171d'),\n",
       " UUID('30e96fa4-2a87-4158-9281-5a387424e992'),\n",
       " UUID('089480cd-b0b8-4d41-b27a-cb2fb56f8a30'),\n",
       " UUID('ad76e9be-1bd4-439e-9b3a-6d4b41b0829c'),\n",
       " UUID('1de6cc99-f094-4289-94f1-31ea277bed1f'),\n",
       " UUID('08679a16-b239-4ea9-b637-22ae19037619'),\n",
       " UUID('9278691e-c05a-4e9a-b87e-96fc7c61035d'),\n",
       " UUID('554a5792-210c-400b-a609-0c0061a887ad'),\n",
       " UUID('47ca7c15-fa28-4e31-9dc9-d5346ed5d80e'),\n",
       " UUID('ae51a96e-55ad-430a-8117-0746d6bd019a'),\n",
       " UUID('581015a6-f731-4386-9732-4325fa1dc571'),\n",
       " UUID('4627d35a-9250-4158-b2e4-01cf77931b20'),\n",
       " UUID('bb02e938-985f-4ed9-b24b-c5b82f1aeca4'),\n",
       " UUID('6a0c355f-31b6-410a-ba50-101e8193f8e6'),\n",
       " UUID('8991c3b8-3bc5-49be-acad-56161fd4c1f3'),\n",
       " UUID('dfb082b6-8a15-428a-9ad8-68404c185452'),\n",
       " UUID('f9c46ae3-aca2-4b74-8116-619afa951b89'),\n",
       " UUID('4e46cf6e-4c86-48dc-a80d-67be80aaae20'),\n",
       " UUID('063792a2-aa9b-48af-993c-144d254acfc6'),\n",
       " UUID('a30d33d5-73e4-4352-ae8c-443172814b44'),\n",
       " UUID('672479d9-16fc-4f21-a512-41fd981b289f'),\n",
       " UUID('8ec5960c-9a98-4b90-8caf-fdbbc23094ae'),\n",
       " UUID('22806d02-cfa0-440f-94c5-e926e87f1c9b'),\n",
       " UUID('8b160455-4f29-4f9a-8835-20d8fe74d030'),\n",
       " UUID('3c3446bb-f884-4062-93ff-fc39f4a5c8cd'),\n",
       " UUID('e4b8fe76-d12b-4f53-abe7-12ab2e17552a'),\n",
       " UUID('3f362f25-f7f2-4547-b14e-c04b239f0b58'),\n",
       " UUID('10a71086-9817-41f9-98f9-848adb2f0672'),\n",
       " UUID('f94c2d91-f89b-4ea4-8b3b-02adac6a0023'),\n",
       " UUID('dbe8ed05-e559-437c-9661-914027953245'),\n",
       " UUID('82a42f68-42c1-462f-8ede-be6041502d7b'),\n",
       " UUID('40d1e133-3a28-447a-8a38-ee3b43537cd8'),\n",
       " UUID('35d2221e-506c-491e-ba13-95db29a7da23'),\n",
       " UUID('f8120d60-6c90-41a5-b811-e1bc3bb81d9d'),\n",
       " UUID('d2c533c3-d38a-4d37-977d-20818cc79b0d'),\n",
       " UUID('d1da8b11-104d-4b57-b582-57c95c3afa34'),\n",
       " UUID('4c3fb828-ad6f-4106-bc68-912cb2335fb3'),\n",
       " UUID('bc71b60c-f566-4c60-9868-cfeaab066466'),\n",
       " UUID('3686b8ac-fc16-4b70-a7d4-1c1fe6a53d39'),\n",
       " UUID('70d28c29-493e-4788-ac1b-2faa491bbce9'),\n",
       " UUID('2191e139-b9de-41c2-a6c3-8db159c9e510'),\n",
       " UUID('851c90fe-1800-4865-81a4-b7697cb90118'),\n",
       " UUID('4cdaf10f-cb06-47b4-b201-6d5e42325d0d'),\n",
       " UUID('30fe8bef-22c0-46df-951f-60e60e99948b'),\n",
       " UUID('1ee745a9-fb41-454e-95e2-2472b4c121ba'),\n",
       " UUID('aae939a3-4fc9-45a9-a8e3-48aaad184ddd'),\n",
       " UUID('ceaa49df-737a-4008-b873-5cc802a33842'),\n",
       " UUID('cdd9763f-9909-4477-9f01-269d60d915cb'),\n",
       " UUID('d8edea97-f9bf-4377-a303-baceec55f688'),\n",
       " UUID('3f2f38db-6fee-4c23-a035-ab05557ccec1'),\n",
       " UUID('43e91321-f655-45e1-877c-2d5c0b21e5e2'),\n",
       " UUID('07fcb787-cf62-45f6-8973-07123c7b5355'),\n",
       " UUID('57aeb2f4-987c-4c0b-9673-db18f57f8dd0'),\n",
       " UUID('2c5049b8-7a65-42e6-91dd-c1363e959b42'),\n",
       " UUID('178f8631-cef6-451c-8a8e-03069751c874'),\n",
       " UUID('018b676c-b9d0-4762-b97d-31b3fca8cdfb'),\n",
       " UUID('90122979-de68-4d42-8390-8b326ab553a2'),\n",
       " UUID('0c59056c-4c56-4a91-9a9b-4862fc2b09f4'),\n",
       " UUID('8977961b-acbc-4d45-883f-5b805f12681e'),\n",
       " UUID('b6a6c4fd-0b54-44f7-9cd1-56cb9ae37537'),\n",
       " UUID('8eff24f5-c388-4009-971a-065001637a54'),\n",
       " UUID('b45aa920-827b-4076-baa1-d0c3538a53d9'),\n",
       " UUID('698fa648-1a65-4c24-85b1-d205c0fe93d7'),\n",
       " UUID('c474e6e8-75d6-4aa9-a939-4e7c3fa4bfc9'),\n",
       " UUID('8942a5bb-4497-47d9-92c7-54800741ccd4'),\n",
       " UUID('39da8ae7-774d-45ea-bbe0-9a9da10e894f'),\n",
       " UUID('528ca23e-9b79-4a00-89e5-da7bc9423981'),\n",
       " UUID('d5c0d9fc-1b26-4b3b-b8fc-8b0d95a2a55f'),\n",
       " UUID('264f5d50-43be-4398-b99e-e39f73145852'),\n",
       " UUID('77134fc2-8171-48ea-af93-6ded09a63585'),\n",
       " UUID('7b4e1a8b-5d63-46dc-9539-08d682218369'),\n",
       " UUID('447c9a72-c76e-467c-9ca9-2751d61ec48e'),\n",
       " UUID('dc3ed724-2d40-4757-9e93-de0b4e4cea63'),\n",
       " UUID('d0b84b61-15c0-416a-8335-a7d4cec1893a'),\n",
       " UUID('c3c033ce-a884-4506-9d93-9f1748694fb9'),\n",
       " UUID('85f63094-d2ed-43b2-9669-af92b5a7d3aa'),\n",
       " UUID('f7b90c78-acfd-43ee-b0ae-97c33bcc96fc'),\n",
       " UUID('e97ec584-90e3-424f-8b59-29c402852451'),\n",
       " UUID('a549acac-ad11-4461-ad4a-295acfa3d655'),\n",
       " UUID('c4dcd886-1731-4b2b-91f6-ca272ae3e0cf'),\n",
       " UUID('bbc4b662-5f47-4388-926a-1f0126d6b8ec'),\n",
       " UUID('da82f802-af57-4920-a56d-e6b3125bc252'),\n",
       " UUID('158af1c2-1e2f-4a2b-931b-d242e97c068d'),\n",
       " UUID('cb061468-4b5c-42bb-a9c0-49badc3219bc'),\n",
       " UUID('095cc0fb-0acb-441c-8184-10b2da25de32'),\n",
       " UUID('5f1660e5-8ab7-408c-ae1c-9e2c54b3be22'),\n",
       " UUID('0953aebd-b922-4ab5-acd9-8ac11ccce02a'),\n",
       " UUID('70044178-b747-47e2-b25e-1e2c6b6493fd'),\n",
       " UUID('14127924-ea1e-4406-b4b8-6c325c393caa'),\n",
       " UUID('4d43ab91-8818-47da-a39b-0849c69ec516'),\n",
       " UUID('64587bac-4c7b-4ec0-b21d-f6aad6c44a52'),\n",
       " UUID('6983f0b2-7ce5-4830-af37-9a5a9473931d'),\n",
       " UUID('9def4eb8-7e46-486f-bf24-f3687c484cf7'),\n",
       " UUID('b1146744-f207-4c20-a65f-51cc80b34f54'),\n",
       " UUID('4d523223-cc01-4b27-8a3b-00493b6e9d28'),\n",
       " UUID('b3d1a0d2-eee0-45e8-9f10-a5b58cb3b1a5'),\n",
       " UUID('e5776401-0756-4436-a695-a8df65e250b0'),\n",
       " UUID('375d59a1-8fdd-4971-b975-64d7882abe1d'),\n",
       " UUID('7be0b17c-d345-4e4b-9182-42f746e654a8'),\n",
       " UUID('d1fc384b-65a6-47c8-8ec2-7a7b923b64d2'),\n",
       " UUID('b1ad7cb2-0462-49e1-943b-efa6f2ff71aa'),\n",
       " UUID('b47c7a03-65e6-437c-844d-413636121248'),\n",
       " UUID('6a057e62-1787-40b4-b150-fb10b2870ebf'),\n",
       " UUID('8248b8a2-0198-41dc-a56e-c4f94b66bee7'),\n",
       " UUID('7a3e7a4d-705f-4db9-a08c-9573e588f7cb'),\n",
       " UUID('2739eeca-40f0-43ec-9211-100e4399e979'),\n",
       " UUID('c64a14a7-e45d-4e98-b11c-247184192f53'),\n",
       " UUID('1249b559-3b30-4eeb-82fe-604cf05c4a86'),\n",
       " UUID('cea8ecf2-33cb-45b1-811f-39336c8e26ce'),\n",
       " UUID('962e3b80-1b5d-4fb5-87d2-e2c8425d94fc'),\n",
       " UUID('c328f760-8d2a-41a6-b7ca-ed4858b36b82'),\n",
       " UUID('b2f4f25b-938c-406f-acc6-d7ae92b32ff8'),\n",
       " UUID('c70cdc63-d1bb-49fb-9c1d-afb354b2f4a8'),\n",
       " UUID('6a336eff-7940-4e88-a4e5-53f573c32dde'),\n",
       " UUID('ee4154e0-7cc1-4344-87e8-338f02f9e5e9'),\n",
       " UUID('fe77cc31-552b-43bb-bf8d-1a31b748c5a2'),\n",
       " UUID('fd7a71cc-99b6-410c-b4c3-7df06233b3d8'),\n",
       " UUID('fcab5dde-7a1f-4f83-bf56-d0a8280ef685'),\n",
       " UUID('30917739-8206-47e7-891a-f0a5d71f0603'),\n",
       " UUID('992b9589-a2f9-45a7-bef9-a4e186af1253'),\n",
       " UUID('1a17448d-e1eb-452a-aa35-0495c8a8d130'),\n",
       " UUID('32521a14-67b9-44ff-9d9d-360ad9a0bbfc'),\n",
       " UUID('375ffe48-9fd0-4946-a956-e71918e599d8'),\n",
       " UUID('ac3774ab-5f65-417f-bf9b-6aa3c1beb8ae'),\n",
       " UUID('737c104e-5175-4fb1-ac4c-511d4cce8b88'),\n",
       " UUID('9ac49aea-4695-4a94-b226-01b8941e8c80'),\n",
       " UUID('54fb1001-e653-4328-8549-2b5dd9f919c6'),\n",
       " UUID('add61c4a-2d4c-4a3b-862a-674c2c7c63f9'),\n",
       " UUID('672a1f3f-0f8a-469d-a812-2971b49c0505'),\n",
       " UUID('0d90ae82-aa76-47dc-9fcf-f35f0c46fba4'),\n",
       " UUID('5f4ec7ea-f5dd-4698-b548-49e02d73bdd6'),\n",
       " UUID('98fed69b-3a26-4a37-b226-3168c202c18c'),\n",
       " UUID('ef60e26a-fbcb-499c-9792-0fa63d293f67'),\n",
       " UUID('a9e3e55b-876a-4550-b680-92573b512f08'),\n",
       " UUID('21d8c682-7655-4acd-927c-b6d0cd9fde82'),\n",
       " UUID('4e9e92b3-d2a8-4e28-8b2c-98b4888f63e0'),\n",
       " UUID('89c552fc-efec-4c9c-91c6-dc7c9057e970'),\n",
       " UUID('8ac304c1-3df0-4592-ae83-390186af7f75'),\n",
       " UUID('08ede5b3-3f28-4383-bd40-e44f8154d33b'),\n",
       " UUID('0721caca-309f-4de8-9363-01ebba0e2464'),\n",
       " UUID('e351c30d-78c0-4c31-b4f1-944dd827d0e7'),\n",
       " UUID('961c4463-ea00-4754-b23c-3cc26a76ebe0'),\n",
       " UUID('b9947ab5-3141-4860-b484-4d6b9dc5511c'),\n",
       " UUID('4f4e4633-bdad-4360-81d7-c87e60f09db0'),\n",
       " UUID('397adc29-e56d-47c9-a6b9-d52f89329a03'),\n",
       " UUID('9cce134f-5837-4da2-89e2-5036c05d1e2a'),\n",
       " UUID('67abce4b-5f46-4871-b100-9b212b27f18d'),\n",
       " UUID('1833b4fe-6ff6-45db-b2d3-a2e3ed7743a1'),\n",
       " UUID('d1cd93d9-4aa8-4168-8479-30c3a0c53719'),\n",
       " UUID('fd8cf75c-2720-40b7-b24c-f23178288a0a'),\n",
       " UUID('18117412-2800-4c36-8a16-4c77757e9bfd'),\n",
       " UUID('b4dba98a-852e-4589-bc8d-de8a08d28b6c'),\n",
       " UUID('1325a861-b005-459d-b345-0eab23774d89'),\n",
       " UUID('1b40ee1e-4a00-4ad9-81c7-4364833584e5'),\n",
       " UUID('6b3887ca-cb31-49a9-b590-890e7d2a18c9'),\n",
       " UUID('10869bab-ae54-4431-92ee-be97eed967f4'),\n",
       " UUID('072f8632-b9dd-424c-b2e5-678c381c7aa9'),\n",
       " UUID('1d615996-7fa0-419c-9f81-9f6386175826'),\n",
       " UUID('ba8a3744-11a9-4878-8b01-abab28dbc10f'),\n",
       " UUID('27ffc19b-4b41-4f5c-a491-c1dbd90f756f'),\n",
       " UUID('0bd9e9c9-5f93-46a6-a1bb-dbc4249edc19'),\n",
       " UUID('c7b7f061-e236-4eba-b100-89b1b97b0615'),\n",
       " UUID('6cb05402-3c67-42be-a3e1-44817e6f9663'),\n",
       " UUID('42791ca8-471f-4490-9c7a-fc55e73e9cdf'),\n",
       " UUID('df2e680d-17a0-4769-badc-3b916697cdc3'),\n",
       " UUID('a2c9c4df-c8d7-477d-a759-278cf55a8925'),\n",
       " UUID('92547f7d-7643-4486-84f1-61695db022ff'),\n",
       " UUID('c09a54da-8706-4629-ab3a-d217392fd919'),\n",
       " UUID('e5aad232-62bd-420e-b980-5490194067fc'),\n",
       " UUID('0adada0b-4e0f-41ea-8587-324137e4623b'),\n",
       " UUID('4341c7ba-095b-4e0f-a25a-1c133304290c'),\n",
       " UUID('467b134d-2ff7-43f5-84db-9ca6ab7490d5'),\n",
       " UUID('76b5e6ce-d6f2-41a8-91e3-5370b56dcdec'),\n",
       " UUID('a7175fa7-c7a1-4370-9ee7-85d9e55e484d'),\n",
       " UUID('f0220566-8f39-4926-bbf7-0324e5f6f8db'),\n",
       " UUID('8e58debf-c064-4a6f-ba4b-e415687dd195'),\n",
       " UUID('bac4ad7d-e1a1-47cb-8c66-e530cee341fc'),\n",
       " UUID('5127b909-ed78-4a09-964f-ebc8aee55af3'),\n",
       " UUID('82f1f6c8-5c98-452e-a43c-083a540908ea'),\n",
       " UUID('fba23452-3eb4-4419-b375-4a64b53b9fad'),\n",
       " UUID('3a4ebc06-a540-445c-8f6c-bbe322d40d04'),\n",
       " UUID('18db8aec-9399-4aba-b1b6-727a4f3092a5'),\n",
       " UUID('c1321f30-ef27-46ff-ae4d-e63ec6463996'),\n",
       " UUID('bac55b20-e044-4aae-ba81-45fb760d8901'),\n",
       " UUID('f3d8b0cf-2e85-47ca-9441-6dff474af25c'),\n",
       " UUID('be3d7b8d-c79e-4ee0-81a1-61a715bc2ddc'),\n",
       " UUID('c8c07b1c-5b44-4863-b4b8-f6da0eeb16b8'),\n",
       " UUID('240eca85-46cc-4a5a-960c-348b5fa827e3'),\n",
       " UUID('9c6ccd6a-19c4-4a76-b49e-380dc9031e8d'),\n",
       " UUID('d3ed8214-506e-438e-917e-cc97615cbb6a'),\n",
       " UUID('f25b62ab-fe65-4413-8275-d4034d4ee17e'),\n",
       " UUID('ccaf43ab-80cf-4c67-9112-544fa7372a3c'),\n",
       " UUID('698278f2-07f4-443e-88a5-4faeec85634e'),\n",
       " UUID('db43ff3a-21db-4a1e-a527-24e98c25c08f'),\n",
       " UUID('9080219e-17a4-4a17-b89d-17d9e6e22225'),\n",
       " UUID('0f41aa8a-5240-4877-809f-21d48d1f2104'),\n",
       " UUID('0d5e8146-aa68-41da-9c3f-e9eb32446fe7'),\n",
       " UUID('80cebcb4-c176-4fd8-946c-58d895b9c666'),\n",
       " UUID('110e9bb8-7f62-4720-931b-f0cf165d9fc3'),\n",
       " UUID('703d9f99-ddd7-4686-be7c-a04082c3e1e1'),\n",
       " UUID('a9dc8606-8940-4ba5-b293-ddb30a882d9b'),\n",
       " UUID('211b7405-b723-4cc0-82e8-3385ac064908'),\n",
       " UUID('3ed7c8bd-80cc-45c1-bfe1-c1687d148e41'),\n",
       " UUID('22f447c6-58f8-487e-b1e3-5208c212e97c'),\n",
       " UUID('0a6ce4e7-2952-4996-8bb8-56fa07970d80'),\n",
       " UUID('43117862-0722-4f3a-8ae9-bdf697f55b52'),\n",
       " UUID('bb016f80-1859-470d-bb9a-67baec3b76d0'),\n",
       " UUID('852de894-a875-469e-bfef-1aaf987d8752'),\n",
       " UUID('31e1d131-a6f0-4d69-99d6-92b91515222d'),\n",
       " UUID('6e5e7cfc-60e2-4dbd-aa64-132e6b54b3b0'),\n",
       " UUID('5694dac0-6692-4e0a-aa00-d379f3e1b949'),\n",
       " UUID('8d99c258-afa5-49ba-92c6-ba70c8e5bbd0'),\n",
       " UUID('7d6f197f-5299-413a-9129-4f6b8cf099f8'),\n",
       " UUID('8f9565dd-ade0-42b2-81d2-05226121e1d2'),\n",
       " UUID('a52b80cb-0680-4066-857c-2b94cf9bed05'),\n",
       " UUID('f67fb6f3-b2ae-4886-8a7b-ea2895bafa10'),\n",
       " UUID('c5fcd928-5472-4808-af59-3a57f7075a91'),\n",
       " UUID('db9b2c73-5dd6-4257-9bd1-f4148287fcd3'),\n",
       " UUID('6e1322bb-3b03-48f6-bf6a-5e9d39e694ed'),\n",
       " UUID('c051f91f-bad9-4c47-9353-d7f76b5b44b4'),\n",
       " UUID('c6895b09-59e4-4023-979b-458e4cae704e'),\n",
       " UUID('8f0144d8-4f39-4695-8c25-5ce6a519c6b1'),\n",
       " UUID('9393ca62-a626-409e-b964-e58628656d91'),\n",
       " UUID('ddb161aa-188b-47c2-a9f1-f03aa1900da6'),\n",
       " UUID('042f4f9b-9e36-43fb-bd3f-8442411d9c91'),\n",
       " UUID('b985985d-47a7-43ab-95a8-eb2c11a81da3'),\n",
       " UUID('20215be3-965c-4d9c-bed9-b14208a29396'),\n",
       " UUID('dbfafee9-3682-46b4-80ad-0ff19f65c13b'),\n",
       " UUID('9cc92568-5818-4e79-a616-7ea869371c7e'),\n",
       " UUID('d4d6737f-eee2-4f07-b05a-489f845b1e5d'),\n",
       " UUID('a53b648d-0095-4adb-9aea-2d1ca3543220'),\n",
       " UUID('9099f3bb-b079-49fa-a0c4-62d18cab924c'),\n",
       " UUID('9ab55e9b-163e-4148-a5e9-00b75611e67d'),\n",
       " UUID('6916a491-749f-4e6f-ba8a-868be15b7c34'),\n",
       " UUID('0765578c-83d3-42b7-b3de-f0d5d0107e67'),\n",
       " UUID('e8672b6d-7206-4a3f-8d40-072b74424c6e'),\n",
       " UUID('070d79d8-5dd2-4940-b51a-42a890a7b7e9'),\n",
       " UUID('f672eca9-0ccf-40ae-8c20-3efd52924ac6'),\n",
       " UUID('88e64058-d412-441b-8bc0-073d7095869f'),\n",
       " UUID('a3a80c5b-4557-4883-bd1a-a72e7bfbb390'),\n",
       " UUID('3c3e2cea-499d-4cbb-bf9c-c9b1699ee120'),\n",
       " UUID('92483d9d-7fb9-4df7-8658-b1b6b55b102a'),\n",
       " UUID('1deb9fe5-ce56-4387-848c-d75244eb74a7'),\n",
       " UUID('07ea9f18-0d97-42b6-9860-9ab8fa6dc112'),\n",
       " UUID('32ef55fe-5f14-4aa7-8057-da001752db34'),\n",
       " UUID('5c647514-9560-482f-b178-cf6be01f0c86'),\n",
       " UUID('579029ba-10dc-4101-9797-f18cf8cf39e9'),\n",
       " UUID('f74ac998-bf90-44b3-ad2a-ec878c418167'),\n",
       " UUID('f863e9aa-5614-4bae-bd2e-cbf17dd10a10'),\n",
       " UUID('0a2fc1c3-422c-4573-8fa4-0659019412b6'),\n",
       " UUID('ed4bc7cc-30df-4222-b8b2-5528aeb95b0f'),\n",
       " UUID('d1b823cc-0249-45c7-8fc2-b7fe68c86582'),\n",
       " UUID('41be32f2-068f-4475-9d8f-79d56483aee0'),\n",
       " UUID('8dbb31b0-4c16-413d-aac1-35b86e6de96c'),\n",
       " UUID('60feb653-c0d2-4ec6-81a6-263a2757875f'),\n",
       " UUID('ae786ed3-809f-4832-bd27-2e9af5196d5c'),\n",
       " UUID('fb485d55-b52c-40ae-bc8d-fc4aed4aace1'),\n",
       " UUID('17c4ece9-0d4c-4667-8319-ef7b057eb7d3'),\n",
       " UUID('987ae83a-067f-484b-a7ee-2f4674040220'),\n",
       " UUID('e0478841-aa14-4f5b-8b1e-694bc19f7ed6'),\n",
       " UUID('5e904c60-0ba8-4983-a22e-4e9f3f33acce'),\n",
       " UUID('c8f9b038-45ed-49bb-96e4-90473ed6a2cd'),\n",
       " UUID('855b9f02-9c88-4956-aa6d-d91f64467e3c'),\n",
       " UUID('70776f73-5807-4d42-9478-5570d7e359e4'),\n",
       " UUID('6192e0dd-4107-486c-9e4c-c6c8d36846c6'),\n",
       " UUID('9fd163f8-6386-4cd4-8aad-6e355c71bd07'),\n",
       " UUID('5bb876b3-041b-4662-ad63-419ebcb26791'),\n",
       " UUID('af018a80-6d04-483f-a25d-78f18ad0ea51'),\n",
       " UUID('da9ecb0d-ec16-4baa-a14f-cf1970ae9522'),\n",
       " UUID('b3641355-94a9-450a-aa4a-8a6e1d9f4777'),\n",
       " UUID('280c7bc9-97a0-429e-8949-7bf26e569578'),\n",
       " UUID('5d44f0aa-092e-4f76-8575-93d95f9bb7e2'),\n",
       " UUID('9f2ac2eb-fac9-431d-aed0-4ee57c9ffb6c'),\n",
       " UUID('ed3aeb91-3cfe-4132-a52f-feef19f194e8'),\n",
       " UUID('40e1b720-6357-4a26-9845-88159de3d1f9'),\n",
       " UUID('6010885c-14f4-46aa-9725-ecf71466a355'),\n",
       " UUID('0f100aae-f584-4543-b2ea-d5f062738e85'),\n",
       " UUID('3543264c-b855-4f8c-a203-51dcda446bb2'),\n",
       " UUID('5259af5e-d319-409a-a82a-951636835475'),\n",
       " UUID('a1489540-6bc1-4032-b0e1-8df2a280b65e'),\n",
       " UUID('f2d7d9bc-d7ea-4835-8eb6-7c494537d866'),\n",
       " UUID('a7dbf367-8e5a-4694-b9fd-da38e52aaf65'),\n",
       " UUID('b4f66a5e-8222-4779-b00b-9c613cbee601'),\n",
       " UUID('532d85b2-ec83-4503-a682-f164ff5d86ff'),\n",
       " UUID('76d2feb3-277c-4b27-b426-9e95f5f4b5a4'),\n",
       " UUID('2869312f-a2d5-480b-90b1-830ce6a82bd2'),\n",
       " UUID('363848c6-a357-4f2c-add7-cc37e367e4e2'),\n",
       " UUID('9dedc770-0891-4061-9e59-e1cfa8b92d10'),\n",
       " UUID('22c24050-7b8b-4bc0-8b19-924c8a1b82c8'),\n",
       " UUID('32efe671-c28e-496c-9b1a-6fbcaaedac95'),\n",
       " UUID('e691e021-1a12-40ac-a1e0-1bfe130eae26'),\n",
       " UUID('4ef32837-dc0c-4dec-9461-17b0156d21a4'),\n",
       " UUID('309a5644-70cb-4344-a3f9-4142f96d9429'),\n",
       " UUID('f84e7fe2-a27c-4cc6-ac30-e4c67c87a058'),\n",
       " UUID('c7209f76-bae3-4c39-ba1f-c2ad2d353e1d'),\n",
       " UUID('7160fcbf-ee98-4663-a57a-102af744cfe3'),\n",
       " UUID('32c56141-d794-4471-8697-65db2478c14d'),\n",
       " UUID('ee89bf92-c6bd-4ace-b5e5-9474255455d7'),\n",
       " UUID('f85b432c-4b65-4a82-ba8f-616bb8f0a6e4'),\n",
       " UUID('b742a3e1-6c9b-4496-91a3-6a2f78a34114'),\n",
       " UUID('e3a6e527-ae9d-46b9-9f23-6cb7bed3beb6'),\n",
       " UUID('93d5c5b2-9a57-4f01-9d69-1d8737feb58b'),\n",
       " UUID('3e142892-fdf1-48b7-94fd-5d68cbce9e58'),\n",
       " UUID('38915ef1-8598-49ef-a6a2-218b1f59ddf8'),\n",
       " UUID('1cdaf800-014a-439e-8a6e-efbdf123fc5e'),\n",
       " UUID('160db149-474e-4c6f-bc61-1f142ad39e68'),\n",
       " UUID('1d07b05b-0b06-4b16-bffb-8caaac009499'),\n",
       " UUID('446f174e-455f-4336-b212-885f73fe3f95'),\n",
       " UUID('e2274681-9c82-47e7-a84f-bc6e3dc28014'),\n",
       " UUID('2b2526fd-d314-4443-a078-9d6b5659ff9c'),\n",
       " UUID('5bf8ae01-a028-45fe-b869-0ca76b04f8ca'),\n",
       " UUID('eecb5b59-82f6-4945-8bb5-06b13bdd4503'),\n",
       " UUID('fa78944a-76ae-478d-9a71-898ec6b038c0'),\n",
       " UUID('98d42e7c-542c-4c1c-a3a5-f68666dd2ca0'),\n",
       " UUID('ed1b58b9-b810-4339-914d-aa96b0eaee48'),\n",
       " UUID('74ac85f6-f50c-424f-a3f4-15a9c9951235'),\n",
       " UUID('a3758d83-1f99-46e4-b084-dcc1ab5a3856'),\n",
       " UUID('b9e0f292-7585-418d-b4e1-c6eb1610ff78'),\n",
       " UUID('fb2ea85c-7658-40d6-9bf2-4ece3e8bd804'),\n",
       " UUID('4d9ba2a4-9090-42b4-92ea-a97fdc727428'),\n",
       " UUID('05cfe4b8-fa4c-450e-a7ff-1480f53e92e1'),\n",
       " UUID('4f55b976-330d-41ae-82f6-e17ff277b37c'),\n",
       " UUID('705e5dd4-aeb7-455b-90b0-7e3c2dec78e8'),\n",
       " UUID('cb32ac82-c022-4cd6-afa9-99211c9f23da'),\n",
       " UUID('8e284aa8-db06-425e-a411-b298b56ec0e6'),\n",
       " UUID('5827cc60-bb3b-495e-861f-5089195bbba1'),\n",
       " UUID('1b04fc55-f53b-4f9d-a571-0f6f2c68f70c'),\n",
       " UUID('63f0ec1b-41d8-420e-a40d-9d4051764ca4'),\n",
       " UUID('b0f2c87d-7c35-4994-9676-21b2d8835158'),\n",
       " UUID('ce62138a-239d-4c25-98bf-e274cbbb236e'),\n",
       " UUID('67a14d72-6cba-450b-b4a4-70e63b41013f'),\n",
       " UUID('15c0bc1c-26b2-426a-b616-1c01b2bb9052'),\n",
       " UUID('1f5c4a58-cefa-41d1-a6dc-229952b03329'),\n",
       " UUID('f3cd6a56-04f4-4116-a970-fc3a16998caf')]"
      ]
     },
     "execution_count": 122,
     "metadata": {},
     "output_type": "execute_result"
    }
   ],
   "source": [
    "gm_eager"
   ]
  },
  {
   "cell_type": "code",
   "execution_count": null,
   "metadata": {
    "ExecuteTime": {
     "end_time": "2018-03-09T04:13:45.303155Z",
     "start_time": "2018-03-09T04:13:44.640081Z"
    }
   },
   "outputs": [],
   "source": [
    "# # Remove all files from database. WARNING.\n",
    "# ls7_eager=[d.id for d in cdc.index.datasets.search_eager(product='ls7_usgs_sr_scene')]\n",
    "# cdc.index.datasets.archive(ls7_eager)"
   ]
  },
  {
   "cell_type": "code",
   "execution_count": null,
   "metadata": {
    "ExecuteTime": {
     "end_time": "2018-03-09T04:13:49.105729Z",
     "start_time": "2018-03-09T04:13:48.291341Z"
    }
   },
   "outputs": [],
   "source": [
    "# # Remove all files from database. WARNING.\n",
    "# ls8_eager=[d.id for d in cdc.index.datasets.search_eager(product='ls8_usgs_sr_scene')]\n",
    "# cdc.index.datasets.archive(ls8_eager)"
   ]
  },
  {
   "cell_type": "code",
   "execution_count": null,
   "metadata": {
    "ExecuteTime": {
     "end_time": "2018-03-06T04:15:38.887850Z",
     "start_time": "2018-03-06T04:15:38.885110Z"
    }
   },
   "outputs": [],
   "source": [
    "# cdc_ls7= cdc.load(product='ls7_usgs_sr_scene')\n",
    "# cdc_ls8 = cdc.load(product='ls8_usgs_sr_scene')"
   ]
  },
  {
   "cell_type": "code",
   "execution_count": null,
   "metadata": {
    "ExecuteTime": {
     "end_time": "2018-03-06T03:46:28.182506Z",
     "start_time": "2018-03-06T03:41:25.899Z"
    }
   },
   "outputs": [],
   "source": [
    "# print(cdc_ls8.time)\n",
    "# print(cdc_ls7.time)"
   ]
  },
  {
   "cell_type": "code",
   "execution_count": null,
   "metadata": {
    "ExecuteTime": {
     "end_time": "2018-03-05T05:03:00.439757Z",
     "start_time": "2018-03-05T05:03:00.437042Z"
    }
   },
   "outputs": [],
   "source": [
    "# dc = Datacube(app='dc-show changes in annual mean NDVI values')\n",
    "# dc.list_products()"
   ]
  },
  {
   "cell_type": "code",
   "execution_count": null,
   "metadata": {},
   "outputs": [],
   "source": []
  }
 ],
 "metadata": {
  "kernelspec": {
   "display_name": "Python 3",
   "language": "python",
   "name": "python3"
  },
  "language_info": {
   "codemirror_mode": {
    "name": "ipython",
    "version": 3
   },
   "file_extension": ".py",
   "mimetype": "text/x-python",
   "name": "python",
   "nbconvert_exporter": "python",
   "pygments_lexer": "ipython3",
   "version": "3.6.5"
  },
  "toc": {
   "base_numbering": 1,
   "nav_menu": {},
   "number_sections": true,
   "sideBar": true,
   "skip_h1_title": false,
   "title_cell": "Table of Contents",
   "title_sidebar": "Contents",
   "toc_cell": false,
   "toc_position": {},
   "toc_section_display": "block",
   "toc_window_display": false
  }
 },
 "nbformat": 4,
 "nbformat_minor": 2
}
