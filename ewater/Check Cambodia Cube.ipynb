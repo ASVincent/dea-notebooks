{
 "cells": [
  {
   "cell_type": "code",
   "execution_count": 4,
   "metadata": {
    "ExecuteTime": {
     "end_time": "2018-06-27T01:21:09.902473Z",
     "start_time": "2018-06-27T01:21:09.878782Z"
    }
   },
   "outputs": [
    {
     "name": "stdout",
     "output_type": "stream",
     "text": [
      "Populating the interactive namespace from numpy and matplotlib\n"
     ]
    }
   ],
   "source": [
    "%pylab notebook\n",
    "\n",
    "from datacube import Datacube\n",
    "# from matplotlib import pyplot as plt\n",
    "import numpy as np\n",
    "from skimage import exposure\n",
    "import matplotlib.pyplot as plt\n",
    "from datacube_stats.statistics import GeoMedian\n",
    "cdc = Datacube(config='/g/data/u46/users/ext547/ewater/cambodia_cube/cambodia.conf')\n",
    "from datacube.storage import masking\n",
    "from datacube.storage.masking import mask_to_dict"
   ]
  },
  {
   "cell_type": "code",
   "execution_count": 3,
   "metadata": {
    "ExecuteTime": {
     "end_time": "2018-06-27T01:21:07.608307Z",
     "start_time": "2018-06-27T01:21:07.503923Z"
    }
   },
   "outputs": [
    {
     "data": {
      "text/html": [
       "<div>\n",
       "<style scoped>\n",
       "    .dataframe tbody tr th:only-of-type {\n",
       "        vertical-align: middle;\n",
       "    }\n",
       "\n",
       "    .dataframe tbody tr th {\n",
       "        vertical-align: top;\n",
       "    }\n",
       "\n",
       "    .dataframe thead th {\n",
       "        text-align: right;\n",
       "    }\n",
       "</style>\n",
       "<table border=\"1\" class=\"dataframe\">\n",
       "  <thead>\n",
       "    <tr style=\"text-align: right;\">\n",
       "      <th></th>\n",
       "      <th></th>\n",
       "      <th>aliases</th>\n",
       "      <th>dtype</th>\n",
       "      <th>flags_definition</th>\n",
       "      <th>name</th>\n",
       "      <th>nodata</th>\n",
       "      <th>units</th>\n",
       "    </tr>\n",
       "    <tr>\n",
       "      <th>product</th>\n",
       "      <th>measurement</th>\n",
       "      <th></th>\n",
       "      <th></th>\n",
       "      <th></th>\n",
       "      <th></th>\n",
       "      <th></th>\n",
       "      <th></th>\n",
       "    </tr>\n",
       "  </thead>\n",
       "  <tbody>\n",
       "    <tr>\n",
       "      <th>dem_3sec_hydrosheds</th>\n",
       "      <th>elevation</th>\n",
       "      <td>NaN</td>\n",
       "      <td>int16</td>\n",
       "      <td>NaN</td>\n",
       "      <td>elevation</td>\n",
       "      <td>-9999</td>\n",
       "      <td>m</td>\n",
       "    </tr>\n",
       "    <tr>\n",
       "      <th rowspan=\"7\" valign=\"top\">ls5_usgs_sr_scene</th>\n",
       "      <th>blue</th>\n",
       "      <td>[band_1, sr_band1]</td>\n",
       "      <td>int16</td>\n",
       "      <td>NaN</td>\n",
       "      <td>blue</td>\n",
       "      <td>-9999</td>\n",
       "      <td>1</td>\n",
       "    </tr>\n",
       "    <tr>\n",
       "      <th>green</th>\n",
       "      <td>[band_2, sr_band2]</td>\n",
       "      <td>int16</td>\n",
       "      <td>NaN</td>\n",
       "      <td>green</td>\n",
       "      <td>-9999</td>\n",
       "      <td>1</td>\n",
       "    </tr>\n",
       "    <tr>\n",
       "      <th>red</th>\n",
       "      <td>[band_3, sr_band3]</td>\n",
       "      <td>int16</td>\n",
       "      <td>NaN</td>\n",
       "      <td>red</td>\n",
       "      <td>-9999</td>\n",
       "      <td>1</td>\n",
       "    </tr>\n",
       "    <tr>\n",
       "      <th>nir</th>\n",
       "      <td>[band_4, sr_band4]</td>\n",
       "      <td>int16</td>\n",
       "      <td>NaN</td>\n",
       "      <td>nir</td>\n",
       "      <td>-9999</td>\n",
       "      <td>1</td>\n",
       "    </tr>\n",
       "    <tr>\n",
       "      <th>swir1</th>\n",
       "      <td>[band_5, sr_band5]</td>\n",
       "      <td>int16</td>\n",
       "      <td>NaN</td>\n",
       "      <td>swir1</td>\n",
       "      <td>-9999</td>\n",
       "      <td>1</td>\n",
       "    </tr>\n",
       "    <tr>\n",
       "      <th>swir2</th>\n",
       "      <td>[band_7, sr_band7]</td>\n",
       "      <td>int16</td>\n",
       "      <td>NaN</td>\n",
       "      <td>swir2</td>\n",
       "      <td>-9999</td>\n",
       "      <td>1</td>\n",
       "    </tr>\n",
       "    <tr>\n",
       "      <th>pixel_qa</th>\n",
       "      <td>[pixel_qa]</td>\n",
       "      <td>uint16</td>\n",
       "      <td>{'snow': {'bits': 4, 'values': {'0': 'no_snow'...</td>\n",
       "      <td>pixel_qa</td>\n",
       "      <td>1</td>\n",
       "      <td>1</td>\n",
       "    </tr>\n",
       "    <tr>\n",
       "      <th rowspan=\"10\" valign=\"top\">ls7_usgs_sr_scene</th>\n",
       "      <th>blue</th>\n",
       "      <td>[band_1, sr_band1]</td>\n",
       "      <td>int16</td>\n",
       "      <td>NaN</td>\n",
       "      <td>blue</td>\n",
       "      <td>-9999</td>\n",
       "      <td>1</td>\n",
       "    </tr>\n",
       "    <tr>\n",
       "      <th>green</th>\n",
       "      <td>[band_2, sr_band2]</td>\n",
       "      <td>int16</td>\n",
       "      <td>NaN</td>\n",
       "      <td>green</td>\n",
       "      <td>-9999</td>\n",
       "      <td>1</td>\n",
       "    </tr>\n",
       "    <tr>\n",
       "      <th>red</th>\n",
       "      <td>[band_3, sr_band3]</td>\n",
       "      <td>int16</td>\n",
       "      <td>NaN</td>\n",
       "      <td>red</td>\n",
       "      <td>-9999</td>\n",
       "      <td>1</td>\n",
       "    </tr>\n",
       "    <tr>\n",
       "      <th>nir</th>\n",
       "      <td>[band_4, sr_band4]</td>\n",
       "      <td>int16</td>\n",
       "      <td>NaN</td>\n",
       "      <td>nir</td>\n",
       "      <td>-9999</td>\n",
       "      <td>1</td>\n",
       "    </tr>\n",
       "    <tr>\n",
       "      <th>swir1</th>\n",
       "      <td>[band_5, sr_band5]</td>\n",
       "      <td>int16</td>\n",
       "      <td>NaN</td>\n",
       "      <td>swir1</td>\n",
       "      <td>-9999</td>\n",
       "      <td>1</td>\n",
       "    </tr>\n",
       "    <tr>\n",
       "      <th>swir2</th>\n",
       "      <td>[band_7, sr_band7]</td>\n",
       "      <td>int16</td>\n",
       "      <td>NaN</td>\n",
       "      <td>swir2</td>\n",
       "      <td>-9999</td>\n",
       "      <td>1</td>\n",
       "    </tr>\n",
       "    <tr>\n",
       "      <th>sr_atmos_opacity</th>\n",
       "      <td>[atmos_op]</td>\n",
       "      <td>uint8</td>\n",
       "      <td>NaN</td>\n",
       "      <td>sr_atmos_opacity</td>\n",
       "      <td>0</td>\n",
       "      <td>1</td>\n",
       "    </tr>\n",
       "    <tr>\n",
       "      <th>pixel_qa</th>\n",
       "      <td>[pixel_qa]</td>\n",
       "      <td>uint16</td>\n",
       "      <td>{'snow': {'bits': 4, 'values': {'0': 'no_snow'...</td>\n",
       "      <td>pixel_qa</td>\n",
       "      <td>1</td>\n",
       "      <td>1</td>\n",
       "    </tr>\n",
       "    <tr>\n",
       "      <th>radsat_qa</th>\n",
       "      <td>[radsat_qa]</td>\n",
       "      <td>uint8</td>\n",
       "      <td>{'radsat_qa': {'bits': [0, 1, 2, 3, 4, 5, 6, 7...</td>\n",
       "      <td>radsat_qa</td>\n",
       "      <td>1</td>\n",
       "      <td>1</td>\n",
       "    </tr>\n",
       "    <tr>\n",
       "      <th>sr_cloud_qa</th>\n",
       "      <td>[cloud_qa]</td>\n",
       "      <td>uint8</td>\n",
       "      <td>{'cloud_qa': {'bits': [0, 1, 2, 3, 4, 5, 6, 7]...</td>\n",
       "      <td>sr_cloud_qa</td>\n",
       "      <td>0</td>\n",
       "      <td>1</td>\n",
       "    </tr>\n",
       "    <tr>\n",
       "      <th rowspan=\"10\" valign=\"top\">ls8_usgs_sr_scene</th>\n",
       "      <th>coastal_aerosol</th>\n",
       "      <td>[band_1, sr_band1]</td>\n",
       "      <td>int16</td>\n",
       "      <td>NaN</td>\n",
       "      <td>coastal_aerosol</td>\n",
       "      <td>-9999</td>\n",
       "      <td>1</td>\n",
       "    </tr>\n",
       "    <tr>\n",
       "      <th>blue</th>\n",
       "      <td>[band_2, sr_band2]</td>\n",
       "      <td>int16</td>\n",
       "      <td>NaN</td>\n",
       "      <td>blue</td>\n",
       "      <td>-9999</td>\n",
       "      <td>1</td>\n",
       "    </tr>\n",
       "    <tr>\n",
       "      <th>green</th>\n",
       "      <td>[band_3, sr_band3]</td>\n",
       "      <td>int16</td>\n",
       "      <td>NaN</td>\n",
       "      <td>green</td>\n",
       "      <td>-9999</td>\n",
       "      <td>1</td>\n",
       "    </tr>\n",
       "    <tr>\n",
       "      <th>red</th>\n",
       "      <td>[band_4, sr_band4]</td>\n",
       "      <td>int16</td>\n",
       "      <td>NaN</td>\n",
       "      <td>red</td>\n",
       "      <td>-9999</td>\n",
       "      <td>1</td>\n",
       "    </tr>\n",
       "    <tr>\n",
       "      <th>nir</th>\n",
       "      <td>[band_5, sr_band5]</td>\n",
       "      <td>int16</td>\n",
       "      <td>NaN</td>\n",
       "      <td>nir</td>\n",
       "      <td>-9999</td>\n",
       "      <td>1</td>\n",
       "    </tr>\n",
       "    <tr>\n",
       "      <th>swir1</th>\n",
       "      <td>[band_6, sr_band6]</td>\n",
       "      <td>int16</td>\n",
       "      <td>NaN</td>\n",
       "      <td>swir1</td>\n",
       "      <td>-9999</td>\n",
       "      <td>1</td>\n",
       "    </tr>\n",
       "    <tr>\n",
       "      <th>swir2</th>\n",
       "      <td>[band_7, sr_band7]</td>\n",
       "      <td>int16</td>\n",
       "      <td>NaN</td>\n",
       "      <td>swir2</td>\n",
       "      <td>-9999</td>\n",
       "      <td>1</td>\n",
       "    </tr>\n",
       "    <tr>\n",
       "      <th>pixel_qa</th>\n",
       "      <td>[pixel_qa]</td>\n",
       "      <td>uint16</td>\n",
       "      <td>{'snow': {'bits': 4, 'values': {'0': 'no_snow'...</td>\n",
       "      <td>pixel_qa</td>\n",
       "      <td>1</td>\n",
       "      <td>1</td>\n",
       "    </tr>\n",
       "    <tr>\n",
       "      <th>sr_aerosol</th>\n",
       "      <td>[sr_aerosol_qa, aerosol_qa, aerosol]</td>\n",
       "      <td>uint8</td>\n",
       "      <td>{'aerosol_qa': {'bits': [0, 1, 2, 3, 4, 5, 6, ...</td>\n",
       "      <td>sr_aerosol</td>\n",
       "      <td>0</td>\n",
       "      <td>1</td>\n",
       "    </tr>\n",
       "    <tr>\n",
       "      <th>radsat_qa</th>\n",
       "      <td>[radsat_qa]</td>\n",
       "      <td>uint16</td>\n",
       "      <td>{'radsat_qa': {'bits': [0, 1, 2, 3, 4, 5, 6, 7...</td>\n",
       "      <td>radsat_qa</td>\n",
       "      <td>1</td>\n",
       "      <td>1</td>\n",
       "    </tr>\n",
       "    <tr>\n",
       "      <th rowspan=\"6\" valign=\"top\">ls_level2_geomedian_annual</th>\n",
       "      <th>blue</th>\n",
       "      <td>[band_2, sr_band2]</td>\n",
       "      <td>int16</td>\n",
       "      <td>NaN</td>\n",
       "      <td>blue</td>\n",
       "      <td>-9999</td>\n",
       "      <td>1</td>\n",
       "    </tr>\n",
       "    <tr>\n",
       "      <th>green</th>\n",
       "      <td>[band_3, sr_band3]</td>\n",
       "      <td>int16</td>\n",
       "      <td>NaN</td>\n",
       "      <td>green</td>\n",
       "      <td>-9999</td>\n",
       "      <td>1</td>\n",
       "    </tr>\n",
       "    <tr>\n",
       "      <th>red</th>\n",
       "      <td>[band_4, sr_band4]</td>\n",
       "      <td>int16</td>\n",
       "      <td>NaN</td>\n",
       "      <td>red</td>\n",
       "      <td>-9999</td>\n",
       "      <td>1</td>\n",
       "    </tr>\n",
       "    <tr>\n",
       "      <th>nir</th>\n",
       "      <td>[band_5, sr_band5]</td>\n",
       "      <td>int16</td>\n",
       "      <td>NaN</td>\n",
       "      <td>nir</td>\n",
       "      <td>-9999</td>\n",
       "      <td>1</td>\n",
       "    </tr>\n",
       "    <tr>\n",
       "      <th>swir1</th>\n",
       "      <td>[band_6, sr_band6]</td>\n",
       "      <td>int16</td>\n",
       "      <td>NaN</td>\n",
       "      <td>swir1</td>\n",
       "      <td>-9999</td>\n",
       "      <td>1</td>\n",
       "    </tr>\n",
       "    <tr>\n",
       "      <th>swir2</th>\n",
       "      <td>[band_7, sr_band7]</td>\n",
       "      <td>int16</td>\n",
       "      <td>NaN</td>\n",
       "      <td>swir2</td>\n",
       "      <td>-9999</td>\n",
       "      <td>1</td>\n",
       "    </tr>\n",
       "    <tr>\n",
       "      <th>pet_grids_1979_2016</th>\n",
       "      <th>PET</th>\n",
       "      <td>NaN</td>\n",
       "      <td>float32</td>\n",
       "      <td>NaN</td>\n",
       "      <td>PET</td>\n",
       "      <td>NaN</td>\n",
       "      <td>mm/day</td>\n",
       "    </tr>\n",
       "    <tr>\n",
       "      <th>rainfall_grids_1998_2017</th>\n",
       "      <th>rainfall</th>\n",
       "      <td>NaN</td>\n",
       "      <td>float32</td>\n",
       "      <td>NaN</td>\n",
       "      <td>rainfall</td>\n",
       "      <td>-9999.9</td>\n",
       "      <td>mm/hr</td>\n",
       "    </tr>\n",
       "    <tr>\n",
       "      <th>temperature_grids_1979_2016</th>\n",
       "      <th>temperature</th>\n",
       "      <td>NaN</td>\n",
       "      <td>float32</td>\n",
       "      <td>NaN</td>\n",
       "      <td>temperature</td>\n",
       "      <td>-9999</td>\n",
       "      <td>C</td>\n",
       "    </tr>\n",
       "  </tbody>\n",
       "</table>\n",
       "</div>"
      ],
      "text/plain": [
       "                                                                           aliases  \\\n",
       "product                     measurement                                              \n",
       "dem_3sec_hydrosheds         elevation                                          NaN   \n",
       "ls5_usgs_sr_scene           blue                                [band_1, sr_band1]   \n",
       "                            green                               [band_2, sr_band2]   \n",
       "                            red                                 [band_3, sr_band3]   \n",
       "                            nir                                 [band_4, sr_band4]   \n",
       "                            swir1                               [band_5, sr_band5]   \n",
       "                            swir2                               [band_7, sr_band7]   \n",
       "                            pixel_qa                                    [pixel_qa]   \n",
       "ls7_usgs_sr_scene           blue                                [band_1, sr_band1]   \n",
       "                            green                               [band_2, sr_band2]   \n",
       "                            red                                 [band_3, sr_band3]   \n",
       "                            nir                                 [band_4, sr_band4]   \n",
       "                            swir1                               [band_5, sr_band5]   \n",
       "                            swir2                               [band_7, sr_band7]   \n",
       "                            sr_atmos_opacity                            [atmos_op]   \n",
       "                            pixel_qa                                    [pixel_qa]   \n",
       "                            radsat_qa                                  [radsat_qa]   \n",
       "                            sr_cloud_qa                                 [cloud_qa]   \n",
       "ls8_usgs_sr_scene           coastal_aerosol                     [band_1, sr_band1]   \n",
       "                            blue                                [band_2, sr_band2]   \n",
       "                            green                               [band_3, sr_band3]   \n",
       "                            red                                 [band_4, sr_band4]   \n",
       "                            nir                                 [band_5, sr_band5]   \n",
       "                            swir1                               [band_6, sr_band6]   \n",
       "                            swir2                               [band_7, sr_band7]   \n",
       "                            pixel_qa                                    [pixel_qa]   \n",
       "                            sr_aerosol        [sr_aerosol_qa, aerosol_qa, aerosol]   \n",
       "                            radsat_qa                                  [radsat_qa]   \n",
       "ls_level2_geomedian_annual  blue                                [band_2, sr_band2]   \n",
       "                            green                               [band_3, sr_band3]   \n",
       "                            red                                 [band_4, sr_band4]   \n",
       "                            nir                                 [band_5, sr_band5]   \n",
       "                            swir1                               [band_6, sr_band6]   \n",
       "                            swir2                               [band_7, sr_band7]   \n",
       "pet_grids_1979_2016         PET                                                NaN   \n",
       "rainfall_grids_1998_2017    rainfall                                           NaN   \n",
       "temperature_grids_1979_2016 temperature                                        NaN   \n",
       "\n",
       "                                                dtype  \\\n",
       "product                     measurement                 \n",
       "dem_3sec_hydrosheds         elevation           int16   \n",
       "ls5_usgs_sr_scene           blue                int16   \n",
       "                            green               int16   \n",
       "                            red                 int16   \n",
       "                            nir                 int16   \n",
       "                            swir1               int16   \n",
       "                            swir2               int16   \n",
       "                            pixel_qa           uint16   \n",
       "ls7_usgs_sr_scene           blue                int16   \n",
       "                            green               int16   \n",
       "                            red                 int16   \n",
       "                            nir                 int16   \n",
       "                            swir1               int16   \n",
       "                            swir2               int16   \n",
       "                            sr_atmos_opacity    uint8   \n",
       "                            pixel_qa           uint16   \n",
       "                            radsat_qa           uint8   \n",
       "                            sr_cloud_qa         uint8   \n",
       "ls8_usgs_sr_scene           coastal_aerosol     int16   \n",
       "                            blue                int16   \n",
       "                            green               int16   \n",
       "                            red                 int16   \n",
       "                            nir                 int16   \n",
       "                            swir1               int16   \n",
       "                            swir2               int16   \n",
       "                            pixel_qa           uint16   \n",
       "                            sr_aerosol          uint8   \n",
       "                            radsat_qa          uint16   \n",
       "ls_level2_geomedian_annual  blue                int16   \n",
       "                            green               int16   \n",
       "                            red                 int16   \n",
       "                            nir                 int16   \n",
       "                            swir1               int16   \n",
       "                            swir2               int16   \n",
       "pet_grids_1979_2016         PET               float32   \n",
       "rainfall_grids_1998_2017    rainfall          float32   \n",
       "temperature_grids_1979_2016 temperature       float32   \n",
       "\n",
       "                                                                               flags_definition  \\\n",
       "product                     measurement                                                           \n",
       "dem_3sec_hydrosheds         elevation                                                       NaN   \n",
       "ls5_usgs_sr_scene           blue                                                            NaN   \n",
       "                            green                                                           NaN   \n",
       "                            red                                                             NaN   \n",
       "                            nir                                                             NaN   \n",
       "                            swir1                                                           NaN   \n",
       "                            swir2                                                           NaN   \n",
       "                            pixel_qa          {'snow': {'bits': 4, 'values': {'0': 'no_snow'...   \n",
       "ls7_usgs_sr_scene           blue                                                            NaN   \n",
       "                            green                                                           NaN   \n",
       "                            red                                                             NaN   \n",
       "                            nir                                                             NaN   \n",
       "                            swir1                                                           NaN   \n",
       "                            swir2                                                           NaN   \n",
       "                            sr_atmos_opacity                                                NaN   \n",
       "                            pixel_qa          {'snow': {'bits': 4, 'values': {'0': 'no_snow'...   \n",
       "                            radsat_qa         {'radsat_qa': {'bits': [0, 1, 2, 3, 4, 5, 6, 7...   \n",
       "                            sr_cloud_qa       {'cloud_qa': {'bits': [0, 1, 2, 3, 4, 5, 6, 7]...   \n",
       "ls8_usgs_sr_scene           coastal_aerosol                                                 NaN   \n",
       "                            blue                                                            NaN   \n",
       "                            green                                                           NaN   \n",
       "                            red                                                             NaN   \n",
       "                            nir                                                             NaN   \n",
       "                            swir1                                                           NaN   \n",
       "                            swir2                                                           NaN   \n",
       "                            pixel_qa          {'snow': {'bits': 4, 'values': {'0': 'no_snow'...   \n",
       "                            sr_aerosol        {'aerosol_qa': {'bits': [0, 1, 2, 3, 4, 5, 6, ...   \n",
       "                            radsat_qa         {'radsat_qa': {'bits': [0, 1, 2, 3, 4, 5, 6, 7...   \n",
       "ls_level2_geomedian_annual  blue                                                            NaN   \n",
       "                            green                                                           NaN   \n",
       "                            red                                                             NaN   \n",
       "                            nir                                                             NaN   \n",
       "                            swir1                                                           NaN   \n",
       "                            swir2                                                           NaN   \n",
       "pet_grids_1979_2016         PET                                                             NaN   \n",
       "rainfall_grids_1998_2017    rainfall                                                        NaN   \n",
       "temperature_grids_1979_2016 temperature                                                     NaN   \n",
       "\n",
       "                                                          name  nodata   units  \n",
       "product                     measurement                                         \n",
       "dem_3sec_hydrosheds         elevation                elevation   -9999       m  \n",
       "ls5_usgs_sr_scene           blue                          blue   -9999       1  \n",
       "                            green                        green   -9999       1  \n",
       "                            red                            red   -9999       1  \n",
       "                            nir                            nir   -9999       1  \n",
       "                            swir1                        swir1   -9999       1  \n",
       "                            swir2                        swir2   -9999       1  \n",
       "                            pixel_qa                  pixel_qa       1       1  \n",
       "ls7_usgs_sr_scene           blue                          blue   -9999       1  \n",
       "                            green                        green   -9999       1  \n",
       "                            red                            red   -9999       1  \n",
       "                            nir                            nir   -9999       1  \n",
       "                            swir1                        swir1   -9999       1  \n",
       "                            swir2                        swir2   -9999       1  \n",
       "                            sr_atmos_opacity  sr_atmos_opacity       0       1  \n",
       "                            pixel_qa                  pixel_qa       1       1  \n",
       "                            radsat_qa                radsat_qa       1       1  \n",
       "                            sr_cloud_qa            sr_cloud_qa       0       1  \n",
       "ls8_usgs_sr_scene           coastal_aerosol    coastal_aerosol   -9999       1  \n",
       "                            blue                          blue   -9999       1  \n",
       "                            green                        green   -9999       1  \n",
       "                            red                            red   -9999       1  \n",
       "                            nir                            nir   -9999       1  \n",
       "                            swir1                        swir1   -9999       1  \n",
       "                            swir2                        swir2   -9999       1  \n",
       "                            pixel_qa                  pixel_qa       1       1  \n",
       "                            sr_aerosol              sr_aerosol       0       1  \n",
       "                            radsat_qa                radsat_qa       1       1  \n",
       "ls_level2_geomedian_annual  blue                          blue   -9999       1  \n",
       "                            green                        green   -9999       1  \n",
       "                            red                            red   -9999       1  \n",
       "                            nir                            nir   -9999       1  \n",
       "                            swir1                        swir1   -9999       1  \n",
       "                            swir2                        swir2   -9999       1  \n",
       "pet_grids_1979_2016         PET                            PET     NaN  mm/day  \n",
       "rainfall_grids_1998_2017    rainfall                  rainfall -9999.9   mm/hr  \n",
       "temperature_grids_1979_2016 temperature            temperature   -9999       C  "
      ]
     },
     "execution_count": 3,
     "metadata": {},
     "output_type": "execute_result"
    }
   ],
   "source": [
    "#cdc.list_products()##\n",
    "cdc.list_measurements()"
   ]
  },
  {
   "cell_type": "code",
   "execution_count": 19,
   "metadata": {
    "ExecuteTime": {
     "end_time": "2018-06-25T23:49:26.622869Z",
     "start_time": "2018-06-25T23:49:18.095681Z"
    }
   },
   "outputs": [
    {
     "name": "stdout",
     "output_type": "stream",
     "text": [
      "{'time': ('1999-01-01', '1999-01-02')}\n",
      "58440\n"
     ]
    }
   ],
   "source": [
    "#define temporal range ()\n",
    "start_of_epoch = '1999-01-01'\n",
    "end_of_epoch =  '1999-01-02'\n",
    "\n",
    "query = {'time': (start_of_epoch, end_of_epoch),}\n",
    "\n",
    "# lat_max = 12.919 #up\n",
    "# lat_min = 12.855 #down\n",
    "# lon_min = 101.721 #left\n",
    "# lon_max = 101.804 #right \n",
    "\n",
    "# query['x'] = (lon_min, lon_max)\n",
    "# query['y'] = (lat_max, lat_min)\n",
    "# query['crs'] = 'EPSG:4326'\n",
    "\n",
    "print(query)\n",
    "\n",
    "#Total number of scenes in Cambodia Cube\n",
    "# pet_datasets = cdc.find_datasets(product='pet_grids_1979_2016',**query)\n",
    "rain_datasets = cdc.find_datasets(product='rainfall_grids_1998_2017')#,**query)\n",
    "#temp_datasets = cdc.find_datasets(product='temperature_grids_1979_2016',**query)\n",
    "# gm_datasets = cdc.find_datasets(product='ls_level2_geomedian_annual',**query)\n",
    "# ls8_datasets = cdc.find_datasets(product='ls8_usgs_sr_scene',**query)\n",
    "# ls7_datasets = cdc.find_datasets(product='ls7_usgs_sr_scene',**query)\n",
    "# ls5_datasets = cdc.find_datasets(product='ls5_usgs_sr_scene',**query)\n",
    "# print(len(ls8_datasets))\n",
    "# print(len(ls7_datasets))\n",
    "# print(len(ls5_datasets))\n",
    "# print()\n",
    "\n",
    "# print (len(ls8_datasets)+len(ls7_datasets)+len(ls5_datasets))\n",
    "print(len(rain_datasets))\n",
    "\n",
    "# [x.id for x in ls7_datasets]\n",
    "# ls5_datasets[0].metadata_doc"
   ]
  },
  {
   "cell_type": "code",
   "execution_count": 20,
   "metadata": {
    "ExecuteTime": {
     "end_time": "2018-06-25T23:49:47.890415Z",
     "start_time": "2018-06-25T23:49:26.625872Z"
    }
   },
   "outputs": [],
   "source": [
    "# test02= cdc.load(product='ls5_usgs_sr_scene',measurements = bands_of_interest,group_by='solar_day', \n",
    "#                                        **query)\n",
    "test01= cdc.load(product='rainfall_grids_1998_2017',**query)\n",
    "#test02= cdc.load(product='temperature_grids_1979_2016')#,**query)"
   ]
  },
  {
   "cell_type": "code",
   "execution_count": 23,
   "metadata": {
    "ExecuteTime": {
     "end_time": "2018-06-25T23:50:32.007404Z",
     "start_time": "2018-06-25T23:50:32.000454Z"
    }
   },
   "outputs": [
    {
     "data": {
      "text/plain": [
       "<xarray.DataArray 'rainfall' ()>\n",
       "array(0.)"
      ]
     },
     "execution_count": 23,
     "metadata": {},
     "output_type": "execute_result"
    }
   ],
   "source": [
    "test01.rainfall.min()"
   ]
  },
  {
   "cell_type": "code",
   "execution_count": 12,
   "metadata": {
    "ExecuteTime": {
     "end_time": "2018-06-25T23:47:19.098254Z",
     "start_time": "2018-06-25T23:47:19.084032Z"
    }
   },
   "outputs": [
    {
     "data": {
      "text/plain": [
       "<xarray.DataArray 'temperature' (time: 248, latitude: 13, longitude: 14)>\n",
       "array([[[   20.408869,    19.577509, ...,    17.551447,    19.869196],\n",
       "        [   20.563868,    19.858423, ...,    18.183344,    18.695032],\n",
       "        ...,\n",
       "        [-9999.      , -9999.      , ..., -9999.      , -9999.      ],\n",
       "        [-9999.      , -9999.      , ..., -9999.      , -9999.      ]],\n",
       "\n",
       "       [[   20.408869,    19.577509, ...,    17.551447,    19.869196],\n",
       "        [   20.563868,    19.858423, ...,    18.183344,    18.695032],\n",
       "        ...,\n",
       "        [-9999.      , -9999.      , ..., -9999.      , -9999.      ],\n",
       "        [-9999.      , -9999.      , ..., -9999.      , -9999.      ]],\n",
       "\n",
       "       ...,\n",
       "\n",
       "       [[   20.408869,    19.577509, ...,    17.551447,    19.869196],\n",
       "        [   20.563868,    19.858423, ...,    18.183344,    18.695032],\n",
       "        ...,\n",
       "        [-9999.      , -9999.      , ..., -9999.      , -9999.      ],\n",
       "        [-9999.      , -9999.      , ..., -9999.      , -9999.      ]],\n",
       "\n",
       "       [[   20.408869,    19.577509, ...,    17.551447,    19.869196],\n",
       "        [   20.563868,    19.858423, ...,    18.183344,    18.695032],\n",
       "        ...,\n",
       "        [-9999.      , -9999.      , ..., -9999.      , -9999.      ],\n",
       "        [-9999.      , -9999.      , ..., -9999.      , -9999.      ]]],\n",
       "      dtype=float32)\n",
       "Coordinates:\n",
       "  * time       (time) datetime64[ns] 1979-01-01 1979-01-01T03:00:00 ...\n",
       "  * latitude   (latitude) float64 15.25 14.75 14.25 13.75 13.25 12.75 12.25 ...\n",
       "  * longitude  (longitude) float64 101.8 102.2 102.8 103.2 103.8 104.2 104.8 ...\n",
       "Attributes:\n",
       "    nodata:   -9999\n",
       "    units:    C\n",
       "    crs:      EPSG:4326"
      ]
     },
     "execution_count": 12,
     "metadata": {},
     "output_type": "execute_result"
    }
   ],
   "source": [
    "test02.temperature#.isel(time=0, latitude=12, longitude=13)"
   ]
  },
  {
   "cell_type": "code",
   "execution_count": 37,
   "metadata": {
    "ExecuteTime": {
     "end_time": "2018-06-25T05:10:48.812625Z",
     "start_time": "2018-06-25T05:10:48.804568Z"
    }
   },
   "outputs": [],
   "source": [
    "test03=test02\n",
    "test03.temperature.attrs['nodata'] = 'nan'\n",
    "test03['temperature'] = test03.temperature.where(test03.temperature<1000)\n",
    "# test03 = test03.fillna(-9999)"
   ]
  },
  {
   "cell_type": "code",
   "execution_count": 58,
   "metadata": {
    "ExecuteTime": {
     "end_time": "2018-06-25T05:21:05.891566Z",
     "start_time": "2018-06-25T05:21:05.886077Z"
    }
   },
   "outputs": [],
   "source": [
    "del test03.temperature.attrs['crs']"
   ]
  },
  {
   "cell_type": "code",
   "execution_count": 59,
   "metadata": {
    "ExecuteTime": {
     "end_time": "2018-06-25T05:21:08.874936Z",
     "start_time": "2018-06-25T05:21:08.857673Z"
    }
   },
   "outputs": [
    {
     "data": {
      "text/plain": [
       "<xarray.DataArray 'temperature' (time: 8, latitude: 13, longitude: 14)>\n",
       "array([[[16.858118, 16.882715, ..., 15.623743, 17.683252],\n",
       "        [17.025873, 16.860437, ..., 16.790064, 16.469843],\n",
       "        ...,\n",
       "        [      nan,       nan, ...,       nan,       nan],\n",
       "        [      nan,       nan, ...,       nan,       nan]],\n",
       "\n",
       "       [[16.858118, 16.882715, ..., 15.623743, 17.683252],\n",
       "        [17.025873, 16.860437, ..., 16.790064, 16.469843],\n",
       "        ...,\n",
       "        [      nan,       nan, ...,       nan,       nan],\n",
       "        [      nan,       nan, ...,       nan,       nan]],\n",
       "\n",
       "       ...,\n",
       "\n",
       "       [[16.858118, 16.882715, ..., 15.623743, 17.683252],\n",
       "        [17.025873, 16.860437, ..., 16.790064, 16.469843],\n",
       "        ...,\n",
       "        [      nan,       nan, ...,       nan,       nan],\n",
       "        [      nan,       nan, ...,       nan,       nan]],\n",
       "\n",
       "       [[16.858118, 16.882715, ..., 15.623743, 17.683252],\n",
       "        [17.025873, 16.860437, ..., 16.790064, 16.469843],\n",
       "        ...,\n",
       "        [      nan,       nan, ...,       nan,       nan],\n",
       "        [      nan,       nan, ...,       nan,       nan]]], dtype=float32)\n",
       "Coordinates:\n",
       "  * time       (time) datetime64[ns] 2016-01-01 2016-01-01T03:00:00 ...\n",
       "  * latitude   (latitude) float64 15.25 14.75 14.25 13.75 13.25 12.75 12.25 ...\n",
       "  * longitude  (longitude) float64 101.8 102.2 102.8 103.2 103.8 104.2 104.8 ...\n",
       "Attributes:\n",
       "    nodata:   nan\n",
       "    units:    C"
      ]
     },
     "execution_count": 59,
     "metadata": {},
     "output_type": "execute_result"
    }
   ],
   "source": [
    "test03.temperature"
   ]
  },
  {
   "cell_type": "code",
   "execution_count": 63,
   "metadata": {
    "ExecuteTime": {
     "end_time": "2018-06-25T05:21:58.175154Z",
     "start_time": "2018-06-25T05:21:58.167059Z"
    }
   },
   "outputs": [
    {
     "data": {
      "text/plain": [
       "<xarray.DataArray 'time' (time: 8)>\n",
       "array(['2016-01-01T00:00:00.000000000', '2016-01-01T03:00:00.000000000',\n",
       "       '2016-01-01T06:00:00.000000000', '2016-01-01T09:00:00.000000000',\n",
       "       '2016-01-01T12:00:00.000000000', '2016-01-01T15:00:00.000000000',\n",
       "       '2016-01-01T18:00:00.000000000', '2016-01-01T21:00:00.000000000'],\n",
       "      dtype='datetime64[ns]')\n",
       "Coordinates:\n",
       "  * time     (time) datetime64[ns] 2016-01-01 2016-01-01T03:00:00 ...\n",
       "Attributes:\n",
       "    units:    seconds since 1970-01-01 00:00:00"
      ]
     },
     "execution_count": 63,
     "metadata": {},
     "output_type": "execute_result"
    }
   ],
   "source": [
    "test03.time"
   ]
  },
  {
   "cell_type": "code",
   "execution_count": 24,
   "metadata": {
    "ExecuteTime": {
     "end_time": "2018-06-26T00:00:17.573506Z",
     "start_time": "2018-06-26T00:00:17.567685Z"
    }
   },
   "outputs": [],
   "source": [
    "# test03.to_netcdf(path = '/g/data/u46/users/ext547/ewater/input_data/test/output.nc')"
   ]
  },
  {
   "cell_type": "code",
   "execution_count": null,
   "metadata": {},
   "outputs": [],
   "source": [
    "# con.Tair.attrs['nodata'] = 'nan'\n",
    "con02['Tair'] = con.Tair.where(con.Tair<1000)\n",
    "# con02 = con02.fillna(-9999)"
   ]
  },
  {
   "cell_type": "code",
   "execution_count": null,
   "metadata": {
    "ExecuteTime": {
     "end_time": "2018-06-25T03:17:54.391644Z",
     "start_time": "2018-06-25T03:17:54.377464Z"
    }
   },
   "outputs": [],
   "source": [
    "test03.temperature"
   ]
  },
  {
   "cell_type": "code",
   "execution_count": null,
   "metadata": {
    "ExecuteTime": {
     "end_time": "2018-06-25T04:34:03.201752Z",
     "start_time": "2018-06-25T04:34:03.195849Z"
    }
   },
   "outputs": [],
   "source": [
    "int(test02.temperature.isel(time = 0, latitude = 12, longitude =13 ).values)"
   ]
  },
  {
   "cell_type": "code",
   "execution_count": 10,
   "metadata": {
    "ExecuteTime": {
     "end_time": "2018-06-25T04:36:42.365361Z",
     "start_time": "2018-06-25T04:36:42.292077Z"
    }
   },
   "outputs": [
    {
     "data": {
      "application/javascript": [
       "/* Put everything inside the global mpl namespace */\n",
       "window.mpl = {};\n",
       "\n",
       "\n",
       "mpl.get_websocket_type = function() {\n",
       "    if (typeof(WebSocket) !== 'undefined') {\n",
       "        return WebSocket;\n",
       "    } else if (typeof(MozWebSocket) !== 'undefined') {\n",
       "        return MozWebSocket;\n",
       "    } else {\n",
       "        alert('Your browser does not have WebSocket support.' +\n",
       "              'Please try Chrome, Safari or Firefox ≥ 6. ' +\n",
       "              'Firefox 4 and 5 are also supported but you ' +\n",
       "              'have to enable WebSockets in about:config.');\n",
       "    };\n",
       "}\n",
       "\n",
       "mpl.figure = function(figure_id, websocket, ondownload, parent_element) {\n",
       "    this.id = figure_id;\n",
       "\n",
       "    this.ws = websocket;\n",
       "\n",
       "    this.supports_binary = (this.ws.binaryType != undefined);\n",
       "\n",
       "    if (!this.supports_binary) {\n",
       "        var warnings = document.getElementById(\"mpl-warnings\");\n",
       "        if (warnings) {\n",
       "            warnings.style.display = 'block';\n",
       "            warnings.textContent = (\n",
       "                \"This browser does not support binary websocket messages. \" +\n",
       "                    \"Performance may be slow.\");\n",
       "        }\n",
       "    }\n",
       "\n",
       "    this.imageObj = new Image();\n",
       "\n",
       "    this.context = undefined;\n",
       "    this.message = undefined;\n",
       "    this.canvas = undefined;\n",
       "    this.rubberband_canvas = undefined;\n",
       "    this.rubberband_context = undefined;\n",
       "    this.format_dropdown = undefined;\n",
       "\n",
       "    this.image_mode = 'full';\n",
       "\n",
       "    this.root = $('<div/>');\n",
       "    this._root_extra_style(this.root)\n",
       "    this.root.attr('style', 'display: inline-block');\n",
       "\n",
       "    $(parent_element).append(this.root);\n",
       "\n",
       "    this._init_header(this);\n",
       "    this._init_canvas(this);\n",
       "    this._init_toolbar(this);\n",
       "\n",
       "    var fig = this;\n",
       "\n",
       "    this.waiting = false;\n",
       "\n",
       "    this.ws.onopen =  function () {\n",
       "            fig.send_message(\"supports_binary\", {value: fig.supports_binary});\n",
       "            fig.send_message(\"send_image_mode\", {});\n",
       "            if (mpl.ratio != 1) {\n",
       "                fig.send_message(\"set_dpi_ratio\", {'dpi_ratio': mpl.ratio});\n",
       "            }\n",
       "            fig.send_message(\"refresh\", {});\n",
       "        }\n",
       "\n",
       "    this.imageObj.onload = function() {\n",
       "            if (fig.image_mode == 'full') {\n",
       "                // Full images could contain transparency (where diff images\n",
       "                // almost always do), so we need to clear the canvas so that\n",
       "                // there is no ghosting.\n",
       "                fig.context.clearRect(0, 0, fig.canvas.width, fig.canvas.height);\n",
       "            }\n",
       "            fig.context.drawImage(fig.imageObj, 0, 0);\n",
       "        };\n",
       "\n",
       "    this.imageObj.onunload = function() {\n",
       "        fig.ws.close();\n",
       "    }\n",
       "\n",
       "    this.ws.onmessage = this._make_on_message_function(this);\n",
       "\n",
       "    this.ondownload = ondownload;\n",
       "}\n",
       "\n",
       "mpl.figure.prototype._init_header = function() {\n",
       "    var titlebar = $(\n",
       "        '<div class=\"ui-dialog-titlebar ui-widget-header ui-corner-all ' +\n",
       "        'ui-helper-clearfix\"/>');\n",
       "    var titletext = $(\n",
       "        '<div class=\"ui-dialog-title\" style=\"width: 100%; ' +\n",
       "        'text-align: center; padding: 3px;\"/>');\n",
       "    titlebar.append(titletext)\n",
       "    this.root.append(titlebar);\n",
       "    this.header = titletext[0];\n",
       "}\n",
       "\n",
       "\n",
       "\n",
       "mpl.figure.prototype._canvas_extra_style = function(canvas_div) {\n",
       "\n",
       "}\n",
       "\n",
       "\n",
       "mpl.figure.prototype._root_extra_style = function(canvas_div) {\n",
       "\n",
       "}\n",
       "\n",
       "mpl.figure.prototype._init_canvas = function() {\n",
       "    var fig = this;\n",
       "\n",
       "    var canvas_div = $('<div/>');\n",
       "\n",
       "    canvas_div.attr('style', 'position: relative; clear: both; outline: 0');\n",
       "\n",
       "    function canvas_keyboard_event(event) {\n",
       "        return fig.key_event(event, event['data']);\n",
       "    }\n",
       "\n",
       "    canvas_div.keydown('key_press', canvas_keyboard_event);\n",
       "    canvas_div.keyup('key_release', canvas_keyboard_event);\n",
       "    this.canvas_div = canvas_div\n",
       "    this._canvas_extra_style(canvas_div)\n",
       "    this.root.append(canvas_div);\n",
       "\n",
       "    var canvas = $('<canvas/>');\n",
       "    canvas.addClass('mpl-canvas');\n",
       "    canvas.attr('style', \"left: 0; top: 0; z-index: 0; outline: 0\")\n",
       "\n",
       "    this.canvas = canvas[0];\n",
       "    this.context = canvas[0].getContext(\"2d\");\n",
       "\n",
       "    var backingStore = this.context.backingStorePixelRatio ||\n",
       "\tthis.context.webkitBackingStorePixelRatio ||\n",
       "\tthis.context.mozBackingStorePixelRatio ||\n",
       "\tthis.context.msBackingStorePixelRatio ||\n",
       "\tthis.context.oBackingStorePixelRatio ||\n",
       "\tthis.context.backingStorePixelRatio || 1;\n",
       "\n",
       "    mpl.ratio = (window.devicePixelRatio || 1) / backingStore;\n",
       "\n",
       "    var rubberband = $('<canvas/>');\n",
       "    rubberband.attr('style', \"position: absolute; left: 0; top: 0; z-index: 1;\")\n",
       "\n",
       "    var pass_mouse_events = true;\n",
       "\n",
       "    canvas_div.resizable({\n",
       "        start: function(event, ui) {\n",
       "            pass_mouse_events = false;\n",
       "        },\n",
       "        resize: function(event, ui) {\n",
       "            fig.request_resize(ui.size.width, ui.size.height);\n",
       "        },\n",
       "        stop: function(event, ui) {\n",
       "            pass_mouse_events = true;\n",
       "            fig.request_resize(ui.size.width, ui.size.height);\n",
       "        },\n",
       "    });\n",
       "\n",
       "    function mouse_event_fn(event) {\n",
       "        if (pass_mouse_events)\n",
       "            return fig.mouse_event(event, event['data']);\n",
       "    }\n",
       "\n",
       "    rubberband.mousedown('button_press', mouse_event_fn);\n",
       "    rubberband.mouseup('button_release', mouse_event_fn);\n",
       "    // Throttle sequential mouse events to 1 every 20ms.\n",
       "    rubberband.mousemove('motion_notify', mouse_event_fn);\n",
       "\n",
       "    rubberband.mouseenter('figure_enter', mouse_event_fn);\n",
       "    rubberband.mouseleave('figure_leave', mouse_event_fn);\n",
       "\n",
       "    canvas_div.on(\"wheel\", function (event) {\n",
       "        event = event.originalEvent;\n",
       "        event['data'] = 'scroll'\n",
       "        if (event.deltaY < 0) {\n",
       "            event.step = 1;\n",
       "        } else {\n",
       "            event.step = -1;\n",
       "        }\n",
       "        mouse_event_fn(event);\n",
       "    });\n",
       "\n",
       "    canvas_div.append(canvas);\n",
       "    canvas_div.append(rubberband);\n",
       "\n",
       "    this.rubberband = rubberband;\n",
       "    this.rubberband_canvas = rubberband[0];\n",
       "    this.rubberband_context = rubberband[0].getContext(\"2d\");\n",
       "    this.rubberband_context.strokeStyle = \"#000000\";\n",
       "\n",
       "    this._resize_canvas = function(width, height) {\n",
       "        // Keep the size of the canvas, canvas container, and rubber band\n",
       "        // canvas in synch.\n",
       "        canvas_div.css('width', width)\n",
       "        canvas_div.css('height', height)\n",
       "\n",
       "        canvas.attr('width', width * mpl.ratio);\n",
       "        canvas.attr('height', height * mpl.ratio);\n",
       "        canvas.attr('style', 'width: ' + width + 'px; height: ' + height + 'px;');\n",
       "\n",
       "        rubberband.attr('width', width);\n",
       "        rubberband.attr('height', height);\n",
       "    }\n",
       "\n",
       "    // Set the figure to an initial 600x600px, this will subsequently be updated\n",
       "    // upon first draw.\n",
       "    this._resize_canvas(600, 600);\n",
       "\n",
       "    // Disable right mouse context menu.\n",
       "    $(this.rubberband_canvas).bind(\"contextmenu\",function(e){\n",
       "        return false;\n",
       "    });\n",
       "\n",
       "    function set_focus () {\n",
       "        canvas.focus();\n",
       "        canvas_div.focus();\n",
       "    }\n",
       "\n",
       "    window.setTimeout(set_focus, 100);\n",
       "}\n",
       "\n",
       "mpl.figure.prototype._init_toolbar = function() {\n",
       "    var fig = this;\n",
       "\n",
       "    var nav_element = $('<div/>')\n",
       "    nav_element.attr('style', 'width: 100%');\n",
       "    this.root.append(nav_element);\n",
       "\n",
       "    // Define a callback function for later on.\n",
       "    function toolbar_event(event) {\n",
       "        return fig.toolbar_button_onclick(event['data']);\n",
       "    }\n",
       "    function toolbar_mouse_event(event) {\n",
       "        return fig.toolbar_button_onmouseover(event['data']);\n",
       "    }\n",
       "\n",
       "    for(var toolbar_ind in mpl.toolbar_items) {\n",
       "        var name = mpl.toolbar_items[toolbar_ind][0];\n",
       "        var tooltip = mpl.toolbar_items[toolbar_ind][1];\n",
       "        var image = mpl.toolbar_items[toolbar_ind][2];\n",
       "        var method_name = mpl.toolbar_items[toolbar_ind][3];\n",
       "\n",
       "        if (!name) {\n",
       "            // put a spacer in here.\n",
       "            continue;\n",
       "        }\n",
       "        var button = $('<button/>');\n",
       "        button.addClass('ui-button ui-widget ui-state-default ui-corner-all ' +\n",
       "                        'ui-button-icon-only');\n",
       "        button.attr('role', 'button');\n",
       "        button.attr('aria-disabled', 'false');\n",
       "        button.click(method_name, toolbar_event);\n",
       "        button.mouseover(tooltip, toolbar_mouse_event);\n",
       "\n",
       "        var icon_img = $('<span/>');\n",
       "        icon_img.addClass('ui-button-icon-primary ui-icon');\n",
       "        icon_img.addClass(image);\n",
       "        icon_img.addClass('ui-corner-all');\n",
       "\n",
       "        var tooltip_span = $('<span/>');\n",
       "        tooltip_span.addClass('ui-button-text');\n",
       "        tooltip_span.html(tooltip);\n",
       "\n",
       "        button.append(icon_img);\n",
       "        button.append(tooltip_span);\n",
       "\n",
       "        nav_element.append(button);\n",
       "    }\n",
       "\n",
       "    var fmt_picker_span = $('<span/>');\n",
       "\n",
       "    var fmt_picker = $('<select/>');\n",
       "    fmt_picker.addClass('mpl-toolbar-option ui-widget ui-widget-content');\n",
       "    fmt_picker_span.append(fmt_picker);\n",
       "    nav_element.append(fmt_picker_span);\n",
       "    this.format_dropdown = fmt_picker[0];\n",
       "\n",
       "    for (var ind in mpl.extensions) {\n",
       "        var fmt = mpl.extensions[ind];\n",
       "        var option = $(\n",
       "            '<option/>', {selected: fmt === mpl.default_extension}).html(fmt);\n",
       "        fmt_picker.append(option)\n",
       "    }\n",
       "\n",
       "    // Add hover states to the ui-buttons\n",
       "    $( \".ui-button\" ).hover(\n",
       "        function() { $(this).addClass(\"ui-state-hover\");},\n",
       "        function() { $(this).removeClass(\"ui-state-hover\");}\n",
       "    );\n",
       "\n",
       "    var status_bar = $('<span class=\"mpl-message\"/>');\n",
       "    nav_element.append(status_bar);\n",
       "    this.message = status_bar[0];\n",
       "}\n",
       "\n",
       "mpl.figure.prototype.request_resize = function(x_pixels, y_pixels) {\n",
       "    // Request matplotlib to resize the figure. Matplotlib will then trigger a resize in the client,\n",
       "    // which will in turn request a refresh of the image.\n",
       "    this.send_message('resize', {'width': x_pixels, 'height': y_pixels});\n",
       "}\n",
       "\n",
       "mpl.figure.prototype.send_message = function(type, properties) {\n",
       "    properties['type'] = type;\n",
       "    properties['figure_id'] = this.id;\n",
       "    this.ws.send(JSON.stringify(properties));\n",
       "}\n",
       "\n",
       "mpl.figure.prototype.send_draw_message = function() {\n",
       "    if (!this.waiting) {\n",
       "        this.waiting = true;\n",
       "        this.ws.send(JSON.stringify({type: \"draw\", figure_id: this.id}));\n",
       "    }\n",
       "}\n",
       "\n",
       "\n",
       "mpl.figure.prototype.handle_save = function(fig, msg) {\n",
       "    var format_dropdown = fig.format_dropdown;\n",
       "    var format = format_dropdown.options[format_dropdown.selectedIndex].value;\n",
       "    fig.ondownload(fig, format);\n",
       "}\n",
       "\n",
       "\n",
       "mpl.figure.prototype.handle_resize = function(fig, msg) {\n",
       "    var size = msg['size'];\n",
       "    if (size[0] != fig.canvas.width || size[1] != fig.canvas.height) {\n",
       "        fig._resize_canvas(size[0], size[1]);\n",
       "        fig.send_message(\"refresh\", {});\n",
       "    };\n",
       "}\n",
       "\n",
       "mpl.figure.prototype.handle_rubberband = function(fig, msg) {\n",
       "    var x0 = msg['x0'] / mpl.ratio;\n",
       "    var y0 = (fig.canvas.height - msg['y0']) / mpl.ratio;\n",
       "    var x1 = msg['x1'] / mpl.ratio;\n",
       "    var y1 = (fig.canvas.height - msg['y1']) / mpl.ratio;\n",
       "    x0 = Math.floor(x0) + 0.5;\n",
       "    y0 = Math.floor(y0) + 0.5;\n",
       "    x1 = Math.floor(x1) + 0.5;\n",
       "    y1 = Math.floor(y1) + 0.5;\n",
       "    var min_x = Math.min(x0, x1);\n",
       "    var min_y = Math.min(y0, y1);\n",
       "    var width = Math.abs(x1 - x0);\n",
       "    var height = Math.abs(y1 - y0);\n",
       "\n",
       "    fig.rubberband_context.clearRect(\n",
       "        0, 0, fig.canvas.width, fig.canvas.height);\n",
       "\n",
       "    fig.rubberband_context.strokeRect(min_x, min_y, width, height);\n",
       "}\n",
       "\n",
       "mpl.figure.prototype.handle_figure_label = function(fig, msg) {\n",
       "    // Updates the figure title.\n",
       "    fig.header.textContent = msg['label'];\n",
       "}\n",
       "\n",
       "mpl.figure.prototype.handle_cursor = function(fig, msg) {\n",
       "    var cursor = msg['cursor'];\n",
       "    switch(cursor)\n",
       "    {\n",
       "    case 0:\n",
       "        cursor = 'pointer';\n",
       "        break;\n",
       "    case 1:\n",
       "        cursor = 'default';\n",
       "        break;\n",
       "    case 2:\n",
       "        cursor = 'crosshair';\n",
       "        break;\n",
       "    case 3:\n",
       "        cursor = 'move';\n",
       "        break;\n",
       "    }\n",
       "    fig.rubberband_canvas.style.cursor = cursor;\n",
       "}\n",
       "\n",
       "mpl.figure.prototype.handle_message = function(fig, msg) {\n",
       "    fig.message.textContent = msg['message'];\n",
       "}\n",
       "\n",
       "mpl.figure.prototype.handle_draw = function(fig, msg) {\n",
       "    // Request the server to send over a new figure.\n",
       "    fig.send_draw_message();\n",
       "}\n",
       "\n",
       "mpl.figure.prototype.handle_image_mode = function(fig, msg) {\n",
       "    fig.image_mode = msg['mode'];\n",
       "}\n",
       "\n",
       "mpl.figure.prototype.updated_canvas_event = function() {\n",
       "    // Called whenever the canvas gets updated.\n",
       "    this.send_message(\"ack\", {});\n",
       "}\n",
       "\n",
       "// A function to construct a web socket function for onmessage handling.\n",
       "// Called in the figure constructor.\n",
       "mpl.figure.prototype._make_on_message_function = function(fig) {\n",
       "    return function socket_on_message(evt) {\n",
       "        if (evt.data instanceof Blob) {\n",
       "            /* FIXME: We get \"Resource interpreted as Image but\n",
       "             * transferred with MIME type text/plain:\" errors on\n",
       "             * Chrome.  But how to set the MIME type?  It doesn't seem\n",
       "             * to be part of the websocket stream */\n",
       "            evt.data.type = \"image/png\";\n",
       "\n",
       "            /* Free the memory for the previous frames */\n",
       "            if (fig.imageObj.src) {\n",
       "                (window.URL || window.webkitURL).revokeObjectURL(\n",
       "                    fig.imageObj.src);\n",
       "            }\n",
       "\n",
       "            fig.imageObj.src = (window.URL || window.webkitURL).createObjectURL(\n",
       "                evt.data);\n",
       "            fig.updated_canvas_event();\n",
       "            fig.waiting = false;\n",
       "            return;\n",
       "        }\n",
       "        else if (typeof evt.data === 'string' && evt.data.slice(0, 21) == \"data:image/png;base64\") {\n",
       "            fig.imageObj.src = evt.data;\n",
       "            fig.updated_canvas_event();\n",
       "            fig.waiting = false;\n",
       "            return;\n",
       "        }\n",
       "\n",
       "        var msg = JSON.parse(evt.data);\n",
       "        var msg_type = msg['type'];\n",
       "\n",
       "        // Call the  \"handle_{type}\" callback, which takes\n",
       "        // the figure and JSON message as its only arguments.\n",
       "        try {\n",
       "            var callback = fig[\"handle_\" + msg_type];\n",
       "        } catch (e) {\n",
       "            console.log(\"No handler for the '\" + msg_type + \"' message type: \", msg);\n",
       "            return;\n",
       "        }\n",
       "\n",
       "        if (callback) {\n",
       "            try {\n",
       "                // console.log(\"Handling '\" + msg_type + \"' message: \", msg);\n",
       "                callback(fig, msg);\n",
       "            } catch (e) {\n",
       "                console.log(\"Exception inside the 'handler_\" + msg_type + \"' callback:\", e, e.stack, msg);\n",
       "            }\n",
       "        }\n",
       "    };\n",
       "}\n",
       "\n",
       "// from http://stackoverflow.com/questions/1114465/getting-mouse-location-in-canvas\n",
       "mpl.findpos = function(e) {\n",
       "    //this section is from http://www.quirksmode.org/js/events_properties.html\n",
       "    var targ;\n",
       "    if (!e)\n",
       "        e = window.event;\n",
       "    if (e.target)\n",
       "        targ = e.target;\n",
       "    else if (e.srcElement)\n",
       "        targ = e.srcElement;\n",
       "    if (targ.nodeType == 3) // defeat Safari bug\n",
       "        targ = targ.parentNode;\n",
       "\n",
       "    // jQuery normalizes the pageX and pageY\n",
       "    // pageX,Y are the mouse positions relative to the document\n",
       "    // offset() returns the position of the element relative to the document\n",
       "    var x = e.pageX - $(targ).offset().left;\n",
       "    var y = e.pageY - $(targ).offset().top;\n",
       "\n",
       "    return {\"x\": x, \"y\": y};\n",
       "};\n",
       "\n",
       "/*\n",
       " * return a copy of an object with only non-object keys\n",
       " * we need this to avoid circular references\n",
       " * http://stackoverflow.com/a/24161582/3208463\n",
       " */\n",
       "function simpleKeys (original) {\n",
       "  return Object.keys(original).reduce(function (obj, key) {\n",
       "    if (typeof original[key] !== 'object')\n",
       "        obj[key] = original[key]\n",
       "    return obj;\n",
       "  }, {});\n",
       "}\n",
       "\n",
       "mpl.figure.prototype.mouse_event = function(event, name) {\n",
       "    var canvas_pos = mpl.findpos(event)\n",
       "\n",
       "    if (name === 'button_press')\n",
       "    {\n",
       "        this.canvas.focus();\n",
       "        this.canvas_div.focus();\n",
       "    }\n",
       "\n",
       "    var x = canvas_pos.x * mpl.ratio;\n",
       "    var y = canvas_pos.y * mpl.ratio;\n",
       "\n",
       "    this.send_message(name, {x: x, y: y, button: event.button,\n",
       "                             step: event.step,\n",
       "                             guiEvent: simpleKeys(event)});\n",
       "\n",
       "    /* This prevents the web browser from automatically changing to\n",
       "     * the text insertion cursor when the button is pressed.  We want\n",
       "     * to control all of the cursor setting manually through the\n",
       "     * 'cursor' event from matplotlib */\n",
       "    event.preventDefault();\n",
       "    return false;\n",
       "}\n",
       "\n",
       "mpl.figure.prototype._key_event_extra = function(event, name) {\n",
       "    // Handle any extra behaviour associated with a key event\n",
       "}\n",
       "\n",
       "mpl.figure.prototype.key_event = function(event, name) {\n",
       "\n",
       "    // Prevent repeat events\n",
       "    if (name == 'key_press')\n",
       "    {\n",
       "        if (event.which === this._key)\n",
       "            return;\n",
       "        else\n",
       "            this._key = event.which;\n",
       "    }\n",
       "    if (name == 'key_release')\n",
       "        this._key = null;\n",
       "\n",
       "    var value = '';\n",
       "    if (event.ctrlKey && event.which != 17)\n",
       "        value += \"ctrl+\";\n",
       "    if (event.altKey && event.which != 18)\n",
       "        value += \"alt+\";\n",
       "    if (event.shiftKey && event.which != 16)\n",
       "        value += \"shift+\";\n",
       "\n",
       "    value += 'k';\n",
       "    value += event.which.toString();\n",
       "\n",
       "    this._key_event_extra(event, name);\n",
       "\n",
       "    this.send_message(name, {key: value,\n",
       "                             guiEvent: simpleKeys(event)});\n",
       "    return false;\n",
       "}\n",
       "\n",
       "mpl.figure.prototype.toolbar_button_onclick = function(name) {\n",
       "    if (name == 'download') {\n",
       "        this.handle_save(this, null);\n",
       "    } else {\n",
       "        this.send_message(\"toolbar_button\", {name: name});\n",
       "    }\n",
       "};\n",
       "\n",
       "mpl.figure.prototype.toolbar_button_onmouseover = function(tooltip) {\n",
       "    this.message.textContent = tooltip;\n",
       "};\n",
       "mpl.toolbar_items = [[\"Home\", \"Reset original view\", \"fa fa-home icon-home\", \"home\"], [\"Back\", \"Back to  previous view\", \"fa fa-arrow-left icon-arrow-left\", \"back\"], [\"Forward\", \"Forward to next view\", \"fa fa-arrow-right icon-arrow-right\", \"forward\"], [\"\", \"\", \"\", \"\"], [\"Pan\", \"Pan axes with left mouse, zoom with right\", \"fa fa-arrows icon-move\", \"pan\"], [\"Zoom\", \"Zoom to rectangle\", \"fa fa-square-o icon-check-empty\", \"zoom\"], [\"\", \"\", \"\", \"\"], [\"Download\", \"Download plot\", \"fa fa-floppy-o icon-save\", \"download\"]];\n",
       "\n",
       "mpl.extensions = [\"eps\", \"jpeg\", \"pdf\", \"png\", \"ps\", \"raw\", \"svg\", \"tif\"];\n",
       "\n",
       "mpl.default_extension = \"png\";var comm_websocket_adapter = function(comm) {\n",
       "    // Create a \"websocket\"-like object which calls the given IPython comm\n",
       "    // object with the appropriate methods. Currently this is a non binary\n",
       "    // socket, so there is still some room for performance tuning.\n",
       "    var ws = {};\n",
       "\n",
       "    ws.close = function() {\n",
       "        comm.close()\n",
       "    };\n",
       "    ws.send = function(m) {\n",
       "        //console.log('sending', m);\n",
       "        comm.send(m);\n",
       "    };\n",
       "    // Register the callback with on_msg.\n",
       "    comm.on_msg(function(msg) {\n",
       "        //console.log('receiving', msg['content']['data'], msg);\n",
       "        // Pass the mpl event to the overridden (by mpl) onmessage function.\n",
       "        ws.onmessage(msg['content']['data'])\n",
       "    });\n",
       "    return ws;\n",
       "}\n",
       "\n",
       "mpl.mpl_figure_comm = function(comm, msg) {\n",
       "    // This is the function which gets called when the mpl process\n",
       "    // starts-up an IPython Comm through the \"matplotlib\" channel.\n",
       "\n",
       "    var id = msg.content.data.id;\n",
       "    // Get hold of the div created by the display call when the Comm\n",
       "    // socket was opened in Python.\n",
       "    var element = $(\"#\" + id);\n",
       "    var ws_proxy = comm_websocket_adapter(comm)\n",
       "\n",
       "    function ondownload(figure, format) {\n",
       "        window.open(figure.imageObj.src);\n",
       "    }\n",
       "\n",
       "    var fig = new mpl.figure(id, ws_proxy,\n",
       "                           ondownload,\n",
       "                           element.get(0));\n",
       "\n",
       "    // Call onopen now - mpl needs it, as it is assuming we've passed it a real\n",
       "    // web socket which is closed, not our websocket->open comm proxy.\n",
       "    ws_proxy.onopen();\n",
       "\n",
       "    fig.parent_element = element.get(0);\n",
       "    fig.cell_info = mpl.find_output_cell(\"<div id='\" + id + \"'></div>\");\n",
       "    if (!fig.cell_info) {\n",
       "        console.error(\"Failed to find cell for figure\", id, fig);\n",
       "        return;\n",
       "    }\n",
       "\n",
       "    var output_index = fig.cell_info[2]\n",
       "    var cell = fig.cell_info[0];\n",
       "\n",
       "};\n",
       "\n",
       "mpl.figure.prototype.handle_close = function(fig, msg) {\n",
       "    var width = fig.canvas.width/mpl.ratio\n",
       "    fig.root.unbind('remove')\n",
       "\n",
       "    // Update the output cell to use the data from the current canvas.\n",
       "    fig.push_to_output();\n",
       "    var dataURL = fig.canvas.toDataURL();\n",
       "    // Re-enable the keyboard manager in IPython - without this line, in FF,\n",
       "    // the notebook keyboard shortcuts fail.\n",
       "    IPython.keyboard_manager.enable()\n",
       "    $(fig.parent_element).html('<img src=\"' + dataURL + '\" width=\"' + width + '\">');\n",
       "    fig.close_ws(fig, msg);\n",
       "}\n",
       "\n",
       "mpl.figure.prototype.close_ws = function(fig, msg){\n",
       "    fig.send_message('closing', msg);\n",
       "    // fig.ws.close()\n",
       "}\n",
       "\n",
       "mpl.figure.prototype.push_to_output = function(remove_interactive) {\n",
       "    // Turn the data on the canvas into data in the output cell.\n",
       "    var width = this.canvas.width/mpl.ratio\n",
       "    var dataURL = this.canvas.toDataURL();\n",
       "    this.cell_info[1]['text/html'] = '<img src=\"' + dataURL + '\" width=\"' + width + '\">';\n",
       "}\n",
       "\n",
       "mpl.figure.prototype.updated_canvas_event = function() {\n",
       "    // Tell IPython that the notebook contents must change.\n",
       "    IPython.notebook.set_dirty(true);\n",
       "    this.send_message(\"ack\", {});\n",
       "    var fig = this;\n",
       "    // Wait a second, then push the new image to the DOM so\n",
       "    // that it is saved nicely (might be nice to debounce this).\n",
       "    setTimeout(function () { fig.push_to_output() }, 1000);\n",
       "}\n",
       "\n",
       "mpl.figure.prototype._init_toolbar = function() {\n",
       "    var fig = this;\n",
       "\n",
       "    var nav_element = $('<div/>')\n",
       "    nav_element.attr('style', 'width: 100%');\n",
       "    this.root.append(nav_element);\n",
       "\n",
       "    // Define a callback function for later on.\n",
       "    function toolbar_event(event) {\n",
       "        return fig.toolbar_button_onclick(event['data']);\n",
       "    }\n",
       "    function toolbar_mouse_event(event) {\n",
       "        return fig.toolbar_button_onmouseover(event['data']);\n",
       "    }\n",
       "\n",
       "    for(var toolbar_ind in mpl.toolbar_items){\n",
       "        var name = mpl.toolbar_items[toolbar_ind][0];\n",
       "        var tooltip = mpl.toolbar_items[toolbar_ind][1];\n",
       "        var image = mpl.toolbar_items[toolbar_ind][2];\n",
       "        var method_name = mpl.toolbar_items[toolbar_ind][3];\n",
       "\n",
       "        if (!name) { continue; };\n",
       "\n",
       "        var button = $('<button class=\"btn btn-default\" href=\"#\" title=\"' + name + '\"><i class=\"fa ' + image + ' fa-lg\"></i></button>');\n",
       "        button.click(method_name, toolbar_event);\n",
       "        button.mouseover(tooltip, toolbar_mouse_event);\n",
       "        nav_element.append(button);\n",
       "    }\n",
       "\n",
       "    // Add the status bar.\n",
       "    var status_bar = $('<span class=\"mpl-message\" style=\"text-align:right; float: right;\"/>');\n",
       "    nav_element.append(status_bar);\n",
       "    this.message = status_bar[0];\n",
       "\n",
       "    // Add the close button to the window.\n",
       "    var buttongrp = $('<div class=\"btn-group inline pull-right\"></div>');\n",
       "    var button = $('<button class=\"btn btn-mini btn-primary\" href=\"#\" title=\"Stop Interaction\"><i class=\"fa fa-power-off icon-remove icon-large\"></i></button>');\n",
       "    button.click(function (evt) { fig.handle_close(fig, {}); } );\n",
       "    button.mouseover('Stop Interaction', toolbar_mouse_event);\n",
       "    buttongrp.append(button);\n",
       "    var titlebar = this.root.find($('.ui-dialog-titlebar'));\n",
       "    titlebar.prepend(buttongrp);\n",
       "}\n",
       "\n",
       "mpl.figure.prototype._root_extra_style = function(el){\n",
       "    var fig = this\n",
       "    el.on(\"remove\", function(){\n",
       "\tfig.close_ws(fig, {});\n",
       "    });\n",
       "}\n",
       "\n",
       "mpl.figure.prototype._canvas_extra_style = function(el){\n",
       "    // this is important to make the div 'focusable\n",
       "    el.attr('tabindex', 0)\n",
       "    // reach out to IPython and tell the keyboard manager to turn it's self\n",
       "    // off when our div gets focus\n",
       "\n",
       "    // location in version 3\n",
       "    if (IPython.notebook.keyboard_manager) {\n",
       "        IPython.notebook.keyboard_manager.register_events(el);\n",
       "    }\n",
       "    else {\n",
       "        // location in version 2\n",
       "        IPython.keyboard_manager.register_events(el);\n",
       "    }\n",
       "\n",
       "}\n",
       "\n",
       "mpl.figure.prototype._key_event_extra = function(event, name) {\n",
       "    var manager = IPython.notebook.keyboard_manager;\n",
       "    if (!manager)\n",
       "        manager = IPython.keyboard_manager;\n",
       "\n",
       "    // Check for shift+enter\n",
       "    if (event.shiftKey && event.which == 13) {\n",
       "        this.canvas_div.blur();\n",
       "        event.shiftKey = false;\n",
       "        // Send a \"J\" for go to next cell\n",
       "        event.which = 74;\n",
       "        event.keyCode = 74;\n",
       "        manager.command_mode();\n",
       "        manager.handle_keydown(event);\n",
       "    }\n",
       "}\n",
       "\n",
       "mpl.figure.prototype.handle_save = function(fig, msg) {\n",
       "    fig.ondownload(fig, null);\n",
       "}\n",
       "\n",
       "\n",
       "mpl.find_output_cell = function(html_output) {\n",
       "    // Return the cell and output element which can be found *uniquely* in the notebook.\n",
       "    // Note - this is a bit hacky, but it is done because the \"notebook_saving.Notebook\"\n",
       "    // IPython event is triggered only after the cells have been serialised, which for\n",
       "    // our purposes (turning an active figure into a static one), is too late.\n",
       "    var cells = IPython.notebook.get_cells();\n",
       "    var ncells = cells.length;\n",
       "    for (var i=0; i<ncells; i++) {\n",
       "        var cell = cells[i];\n",
       "        if (cell.cell_type === 'code'){\n",
       "            for (var j=0; j<cell.output_area.outputs.length; j++) {\n",
       "                var data = cell.output_area.outputs[j];\n",
       "                if (data.data) {\n",
       "                    // IPython >= 3 moved mimebundle to data attribute of output\n",
       "                    data = data.data;\n",
       "                }\n",
       "                if (data['text/html'] == html_output) {\n",
       "                    return [cell, data, j];\n",
       "                }\n",
       "            }\n",
       "        }\n",
       "    }\n",
       "}\n",
       "\n",
       "// Register the function which deals with the matplotlib target/channel.\n",
       "// The kernel may be null if the page has been refreshed.\n",
       "if (IPython.notebook.kernel != null) {\n",
       "    IPython.notebook.kernel.comm_manager.register_target('matplotlib', mpl.mpl_figure_comm);\n",
       "}\n"
      ],
      "text/plain": [
       "<IPython.core.display.Javascript object>"
      ]
     },
     "metadata": {},
     "output_type": "display_data"
    },
    {
     "data": {
      "text/html": [
       "<img src=\"data:image/png;base64,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\" width=\"640\">"
      ],
      "text/plain": [
       "<IPython.core.display.HTML object>"
      ]
     },
     "metadata": {},
     "output_type": "display_data"
    },
    {
     "data": {
      "text/plain": [
       "<matplotlib.collections.QuadMesh at 0x7f9a21c8fc50>"
      ]
     },
     "execution_count": 10,
     "metadata": {},
     "output_type": "execute_result"
    }
   ],
   "source": [
    "#plt.imshow(test02.temperature.isel(time = 0))\n",
    "test01.PET.isel(time = 0).plot()"
   ]
  },
  {
   "cell_type": "code",
   "execution_count": null,
   "metadata": {
    "ExecuteTime": {
     "end_time": "2018-06-14T01:01:20.728518Z",
     "start_time": "2018-06-14T01:01:20.688604Z"
    }
   },
   "outputs": [],
   "source": [
    "#define wavelengths/bands of interest\n",
    "bands_of_interest = ['blue',\n",
    "                     'green',\n",
    "                     'red', \n",
    "                     'nir',\n",
    "                     'swir1', \n",
    "                     'pixel_qa',\n",
    "                     'swir2',\n",
    "                     ]\n",
    "\n",
    "start_of_epoch = '2016-01-01'\n",
    "end_of_epoch =  '2018-01-01'\n",
    "\n",
    "lat_max = 12.919 #up\n",
    "lat_min = 12.855 #down\n",
    "lon_min = 101.721 #left\n",
    "lon_max = 101.804 #right  1\n",
    "\n",
    "query = {'time': (start_of_epoch, end_of_epoch),}\n",
    "\n",
    "query['x'] = (lon_min, lon_max)\n",
    "query['y'] = (lat_max, lat_min)\n",
    "# query['crs'] = 'EPSG:4326'\n",
    "\n",
    "print(query)"
   ]
  },
  {
   "cell_type": "code",
   "execution_count": null,
   "metadata": {
    "ExecuteTime": {
     "end_time": "2018-05-28T22:23:34.397851Z",
     "start_time": "2018-05-28T22:23:34.394641Z"
    }
   },
   "outputs": [],
   "source": [
    "# #Total number of scenes in Cambodia Cube\n",
    "# ls8_datasets = cdc.find_datasets(product='ls8_usgs_sr_scene',**query)\n",
    "# ls7_datasets = cdc.find_datasets(product='ls7_usgs_sr_scene',**query)\n",
    "# ls5_datasets = cdc.find_datasets(product='ls5_usgs_sr_scene',**query)\n",
    "# print(len(ls8_datasets))\n",
    "# print(len(ls7_datasets))\n",
    "# print(len(ls5_datasets))\n",
    "\n",
    "\n",
    "# print (len(ls8_datasets)+len(ls7_datasets)+len(ls5_datasets))"
   ]
  },
  {
   "cell_type": "code",
   "execution_count": null,
   "metadata": {
    "ExecuteTime": {
     "end_time": "2018-06-20T05:54:58.334657Z",
     "start_time": "2018-06-20T05:42:46.826Z"
    }
   },
   "outputs": [],
   "source": [
    "# test02 = test02.where(test02.temperature<1000)"
   ]
  },
  {
   "cell_type": "code",
   "execution_count": null,
   "metadata": {
    "ExecuteTime": {
     "end_time": "2018-06-20T05:54:58.335653Z",
     "start_time": "2018-06-20T05:42:47.364Z"
    }
   },
   "outputs": [],
   "source": [
    "test02"
   ]
  },
  {
   "cell_type": "code",
   "execution_count": null,
   "metadata": {
    "ExecuteTime": {
     "end_time": "2018-06-13T06:11:28.647461Z",
     "start_time": "2018-06-13T06:11:28.634995Z"
    }
   },
   "outputs": [],
   "source": [
    "# plt.imshow(test02.isel(time=0).temperature.values)\n",
    "# plt.show()"
   ]
  },
  {
   "cell_type": "code",
   "execution_count": null,
   "metadata": {
    "ExecuteTime": {
     "end_time": "2018-06-20T05:13:44.769999Z",
     "start_time": "2018-06-20T05:13:44.767293Z"
    }
   },
   "outputs": [],
   "source": [
    "# test02.elevation.isel(time = 0).plot()"
   ]
  },
  {
   "cell_type": "code",
   "execution_count": null,
   "metadata": {
    "ExecuteTime": {
     "end_time": "2018-06-25T03:02:51.229822Z",
     "start_time": "2018-06-25T03:02:51.225694Z"
    }
   },
   "outputs": [],
   "source": [
    "# plt.imshow(test02.isel(time=0).elevation)"
   ]
  },
  {
   "cell_type": "code",
   "execution_count": null,
   "metadata": {
    "ExecuteTime": {
     "end_time": "2018-06-13T05:15:13.336463Z",
     "start_time": "2018-06-13T05:15:13.323280Z"
    }
   },
   "outputs": [],
   "source": [
    "# rgb = test02.isel(time=0).to_array(dim='color').sel(color=['swir1',\n",
    "#                                                          'nir', 'green']).transpose('y', \n",
    "#                                                                                     'x', 'color')\n",
    "# fake_saturation = 6000.0\n",
    "# rgb = rgb.astype('double')\n",
    "# clipped_visible = rgb.where(rgb<fake_saturation).fillna(fake_saturation)\n",
    "# max_val = clipped_visible.max(['y', 'x'])\n",
    "# scaled = (clipped_visible / max_val)\n",
    "\n",
    "# plt.imshow(scaled)"
   ]
  },
  {
   "cell_type": "code",
   "execution_count": null,
   "metadata": {
    "ExecuteTime": {
     "end_time": "2018-05-16T04:31:59.313941Z",
     "start_time": "2018-05-16T04:31:59.226843Z"
    }
   },
   "outputs": [],
   "source": [
    "#Total number of scenes in Cambodia Cube\n",
    "ls8_datasets = cdc.find_datasets(product='ls8_usgs_sr_scene',**query)\n",
    "ls7_datasets = cdc.find_datasets(product='ls7_usgs_sr_scene',**query)\n",
    "ls5_datasets = cdc.find_datasets(product='ls5_usgs_sr_scene',**query)\n",
    "print(len(ls8_datasets)+len(ls7_datasets)+len(ls5_datasets))\n",
    "# ls8_datasets[0].metadata_doc"
   ]
  },
  {
   "cell_type": "code",
   "execution_count": null,
   "metadata": {
    "ExecuteTime": {
     "end_time": "2018-05-16T04:32:04.831911Z",
     "start_time": "2018-05-16T04:32:04.828767Z"
    }
   },
   "outputs": [],
   "source": [
    "# #query number of scenes in certain gm as per year query\n",
    "# gm_datasets = cdc.find_datasets(product='ls5_usgs_sr_scene',**query)\n",
    "# len(gm_datasets)"
   ]
  },
  {
   "cell_type": "code",
   "execution_count": null,
   "metadata": {
    "ExecuteTime": {
     "end_time": "2018-05-25T06:52:05.503096Z",
     "start_time": "2018-05-25T06:52:02.597140Z"
    }
   },
   "outputs": [],
   "source": [
    "temp_datasets = cdc.find_datasets(product='temperature_grids_1979_2016')#,**query)"
   ]
  },
  {
   "cell_type": "code",
   "execution_count": null,
   "metadata": {
    "ExecuteTime": {
     "end_time": "2018-05-25T06:52:17.989565Z",
     "start_time": "2018-05-25T06:52:17.985089Z"
    }
   },
   "outputs": [],
   "source": [
    "len(temp_datasets)"
   ]
  },
  {
   "cell_type": "code",
   "execution_count": null,
   "metadata": {
    "ExecuteTime": {
     "end_time": "2018-05-16T04:35:06.103448Z",
     "start_time": "2018-05-16T04:35:06.096448Z"
    }
   },
   "outputs": [],
   "source": [
    "# set cloud threshold. This value defines the amount of lansdcape/cloud allowed in each scene. \n",
    "# Scenes will not be retrieved that have less than the cloud threshold worth of image.\n",
    "#The default value is \"0.90\" or >90% image and <10% cloud cover\n",
    "cloud_free_threshold = 0.20\n",
    "\n",
    "\n",
    "# lat_min = 13.000 #down\n",
    "# lat_max = 13.500 #up\n",
    "# lon_min = 103.000 #left\n",
    "# lon_max = 103.500 #right  \n",
    "\n",
    "\n",
    "#define temporal range ()\n",
    "# start_of_epoch = '2014-01-01'\n",
    "# end_of_epoch =  '2015-01-01'\n",
    "\n",
    "# #define first time of interest\n",
    "# start_of_time01 = '2015-01-01'\n",
    "# end_of_time01 = '2016-05-01'\n",
    "\n",
    "# #define second time of interest\n",
    "# start_of_time02 = '2016-05-02'\n",
    "# end_of_time02 = '2017-12-31'\n",
    "\n",
    "# start_of_epoch = '2014-01-01'\n",
    "# end_of_epoch =  '2014-01-02'\n",
    "\n",
    "#define wavelengths/bands of interest\n",
    "bands_of_interest = ['blue',\n",
    "                     'green',\n",
    "                     'red', \n",
    "                     'nir',\n",
    "                     'swir1', \n",
    "                     'pixel_qa',\n",
    "                     'swir2',\n",
    "                     ]\n",
    "\n",
    "#define Landsat sensors of interest\n",
    "sensors = ['ls5',]\n",
    "#        'ls7',] \n",
    "\n",
    "#query is created\n",
    "# query = {'time': (start_of_epoch, end_of_epoch),}\n",
    "# query['x'] = (lon_min, lon_max)\n",
    "# query['y'] = (lat_max, lat_min)\n",
    "# query['crs'] = 'EPSG:4326'\n",
    "\n",
    "print(query)"
   ]
  },
  {
   "cell_type": "code",
   "execution_count": null,
   "metadata": {
    "ExecuteTime": {
     "end_time": "2018-05-16T04:28:06.080970Z",
     "start_time": "2018-05-16T04:28:06.077966Z"
    }
   },
   "outputs": [],
   "source": [
    "# #define temporal range ()\n",
    "# start_of_epoch = '2014-01-01'\n",
    "# end_of_epoch =  '2014-02-01'\n",
    "# query = {'time': (start_of_epoch, end_of_epoch),}"
   ]
  },
  {
   "cell_type": "code",
   "execution_count": null,
   "metadata": {
    "ExecuteTime": {
     "end_time": "2018-05-08T04:41:41.753294Z",
     "start_time": "2018-05-08T04:41:41.730571Z"
    }
   },
   "outputs": [],
   "source": [
    "test.y[0]"
   ]
  },
  {
   "cell_type": "code",
   "execution_count": null,
   "metadata": {
    "ExecuteTime": {
     "end_time": "2018-05-08T04:36:10.837465Z",
     "start_time": "2018-05-08T04:36:10.825791Z"
    }
   },
   "outputs": [],
   "source": [
    "test02.isel(time=0).pixel_qa"
   ]
  },
  {
   "cell_type": "code",
   "execution_count": null,
   "metadata": {
    "ExecuteTime": {
     "end_time": "2018-06-13T05:15:41.133175Z",
     "start_time": "2018-06-13T05:15:41.122863Z"
    }
   },
   "outputs": [],
   "source": [
    "# plt.imshow(test02.isel(time=0).pixel_qa)"
   ]
  },
  {
   "cell_type": "code",
   "execution_count": null,
   "metadata": {
    "ExecuteTime": {
     "end_time": "2018-05-08T04:41:20.783993Z",
     "start_time": "2018-05-08T04:41:19.847776Z"
    }
   },
   "outputs": [],
   "source": [
    "test= cdc.load(product='ls_level2_geomedian_annual',**query)"
   ]
  },
  {
   "cell_type": "code",
   "execution_count": null,
   "metadata": {
    "ExecuteTime": {
     "end_time": "2018-05-08T04:41:20.808338Z",
     "start_time": "2018-05-08T04:41:20.786764Z"
    }
   },
   "outputs": [],
   "source": [
    "test"
   ]
  },
  {
   "cell_type": "code",
   "execution_count": null,
   "metadata": {
    "ExecuteTime": {
     "end_time": "2018-05-08T04:32:02.222247Z",
     "start_time": "2018-05-08T04:32:02.199935Z"
    }
   },
   "outputs": [],
   "source": [
    "test.isel(time=0).to_array(dim='color').sel(color=['swir1','nir', 'green']).transpose('y', 'x', 'color')"
   ]
  },
  {
   "cell_type": "code",
   "execution_count": null,
   "metadata": {
    "ExecuteTime": {
     "end_time": "2018-06-13T05:15:47.185267Z",
     "start_time": "2018-06-13T05:15:47.182064Z"
    }
   },
   "outputs": [],
   "source": [
    "# rgb = test.isel(time=0).to_array(dim='color').sel(color=['swir1',\n",
    "#                                                          'nir', 'green']).transpose('y', \n",
    "#                                                                                     'x', 'color')\n",
    "# fake_saturation = 6000.0\n",
    "# rgb = rgb.astype('double')\n",
    "# clipped_visible = rgb.where(rgb<fake_saturation).fillna(fake_saturation)\n",
    "# max_val = clipped_visible.max(['y', 'x'])\n",
    "# scaled = (clipped_visible / max_val)\n",
    "\n",
    "# plt.imshow(scaled)"
   ]
  },
  {
   "cell_type": "code",
   "execution_count": null,
   "metadata": {
    "ExecuteTime": {
     "end_time": "2018-05-02T04:20:00.404860Z",
     "start_time": "2018-05-02T04:20:00.396292Z"
    }
   },
   "outputs": [],
   "source": [
    "test.rainfall.max()"
   ]
  },
  {
   "cell_type": "code",
   "execution_count": null,
   "metadata": {
    "ExecuteTime": {
     "end_time": "2018-05-02T03:29:36.515154Z",
     "start_time": "2018-05-02T03:29:36.508512Z"
    }
   },
   "outputs": [],
   "source": [
    "test.latitude.min()"
   ]
  },
  {
   "cell_type": "code",
   "execution_count": null,
   "metadata": {
    "ExecuteTime": {
     "end_time": "2018-04-30T07:05:40.823746Z",
     "start_time": "2018-04-30T07:04:51.718452Z"
    }
   },
   "outputs": [],
   "source": [
    "test= cdc.load(product='ls8_usgs_sr_scene',**query)\n",
    "# test= test.squeeze()\n",
    "test"
   ]
  },
  {
   "cell_type": "code",
   "execution_count": null,
   "metadata": {
    "ExecuteTime": {
     "end_time": "2018-03-26T00:55:31.789050Z",
     "start_time": "2018-03-26T00:55:31.784654Z"
    },
    "scrolled": false
   },
   "outputs": [],
   "source": [
    "# three_band_image_subplots(test, ['red','green','blue'], 2, figsize = [30,50])"
   ]
  },
  {
   "cell_type": "code",
   "execution_count": null,
   "metadata": {},
   "outputs": [],
   "source": []
  },
  {
   "cell_type": "code",
   "execution_count": null,
   "metadata": {},
   "outputs": [],
   "source": []
  },
  {
   "cell_type": "code",
   "execution_count": null,
   "metadata": {
    "ExecuteTime": {
     "end_time": "2018-04-23T07:06:47.447380Z",
     "start_time": "2018-04-23T07:06:47.247381Z"
    }
   },
   "outputs": [],
   "source": [
    "# sensor_nbar[0].metadata_doc"
   ]
  },
  {
   "cell_type": "code",
   "execution_count": null,
   "metadata": {
    "ExecuteTime": {
     "end_time": "2018-04-23T07:06:58.135735Z",
     "start_time": "2018-04-23T07:06:58.132672Z"
    }
   },
   "outputs": [],
   "source": [
    "# cdc.load(product='ls7_usgs_sr_scene')"
   ]
  },
  {
   "cell_type": "code",
   "execution_count": null,
   "metadata": {
    "ExecuteTime": {
     "end_time": "2018-04-23T07:06:58.756033Z",
     "start_time": "2018-04-23T07:06:58.746479Z"
    }
   },
   "outputs": [],
   "source": [
    "blah=list(cdc.index.products.search())[1]"
   ]
  },
  {
   "cell_type": "code",
   "execution_count": null,
   "metadata": {
    "ExecuteTime": {
     "end_time": "2018-04-23T07:07:00.196100Z",
     "start_time": "2018-04-23T07:07:00.184841Z"
    }
   },
   "outputs": [],
   "source": [
    "blah.definition"
   ]
  },
  {
   "cell_type": "code",
   "execution_count": null,
   "metadata": {
    "ExecuteTime": {
     "end_time": "2018-05-02T06:26:02.725196Z",
     "start_time": "2018-05-02T06:26:02.168084Z"
    }
   },
   "outputs": [],
   "source": [
    "gm_all_datasets = cdc.find_datasets(product='ls_level2_geomedian_annual')\n",
    "len(gm_all_datasets)"
   ]
  },
  {
   "cell_type": "code",
   "execution_count": null,
   "metadata": {
    "ExecuteTime": {
     "end_time": "2018-05-02T06:28:05.291463Z",
     "start_time": "2018-05-02T06:28:05.234893Z"
    },
    "scrolled": false
   },
   "outputs": [],
   "source": [
    "ls7_datasets = cdc.find_datasets(product='ls7_usgs_sr_scene',**query)\n",
    "len(ls7_datasets)"
   ]
  },
  {
   "cell_type": "code",
   "execution_count": null,
   "metadata": {
    "ExecuteTime": {
     "end_time": "2018-03-07T23:37:09.236812Z",
     "start_time": "2018-03-07T23:37:09.234123Z"
    }
   },
   "outputs": [],
   "source": [
    "# list(cdc.index.users.list_users())"
   ]
  },
  {
   "cell_type": "code",
   "execution_count": null,
   "metadata": {
    "ExecuteTime": {
     "end_time": "2018-06-13T01:08:03.101731Z",
     "start_time": "2018-06-13T01:08:03.096842Z"
    }
   },
   "outputs": [],
   "source": [
    "#define temporal range ()\n",
    "start_of_epoch = '1969-01-01'\n",
    "end_of_epoch =  '2018-01-01'\n",
    "query = {'time': (start_of_epoch, end_of_epoch),}\n",
    "print(query)"
   ]
  },
  {
   "cell_type": "code",
   "execution_count": null,
   "metadata": {
    "ExecuteTime": {
     "end_time": "2018-05-17T04:11:53.727310Z",
     "start_time": "2018-05-17T04:11:53.695216Z"
    }
   },
   "outputs": [],
   "source": [
    "ls8_datasets = cdc.find_datasets(product='ls8_usgs_sr_scene',**query)\n",
    "ls7_datasets = cdc.find_datasets(product='ls7_usgs_sr_scene',**query)\n",
    "ls5_datasets = cdc.find_datasets(product='ls5_usgs_sr_scene',**query)\n",
    "print(len(ls5_datasets)+len(ls7_datasets)+len(ls8_datasets))\n",
    "# ls8_datasets[0].metadata_doc"
   ]
  },
  {
   "cell_type": "code",
   "execution_count": 12,
   "metadata": {
    "ExecuteTime": {
     "end_time": "2018-06-27T01:40:29.416592Z",
     "start_time": "2018-06-27T01:40:29.388170Z"
    }
   },
   "outputs": [
    {
     "data": {
      "text/plain": [
       "0"
      ]
     },
     "execution_count": 12,
     "metadata": {},
     "output_type": "execute_result"
    }
   ],
   "source": [
    "del_datasets = cdc.find_datasets(product='pet_grids_1979_2016')#,**query)\n",
    "len(del_datasets)"
   ]
  },
  {
   "cell_type": "code",
   "execution_count": 11,
   "metadata": {
    "ExecuteTime": {
     "end_time": "2018-06-27T01:34:54.270111Z",
     "start_time": "2018-06-27T01:34:30.244850Z"
    }
   },
   "outputs": [
    {
     "name": "stdout",
     "output_type": "stream",
     "text": [
      "0\n"
     ]
    }
   ],
   "source": [
    "# # #Remove all/certain files from database. WARNING.\n",
    "del_eager=[d.id for d in del_datasets]\n",
    "cdc.index.datasets.archive(del_eager)\n",
    "del_datasets = cdc.find_datasets(product='pet_grids_1979_2016')\n",
    "\n",
    "print(len(del_datasets))"
   ]
  },
  {
   "cell_type": "code",
   "execution_count": null,
   "metadata": {
    "ExecuteTime": {
     "end_time": "2018-05-10T01:56:45.985110Z",
     "start_time": "2018-05-10T01:56:45.979381Z"
    }
   },
   "outputs": [],
   "source": [
    "# # #Remove all files from database. WARNING.\n",
    "# ls7_eager=[d.id for d in ls7_datasets]\n",
    "# cdc.index.datasets.archive(ls7_eager)\n",
    "# print(len(ls7_datasets))"
   ]
  },
  {
   "cell_type": "code",
   "execution_count": null,
   "metadata": {
    "ExecuteTime": {
     "end_time": "2018-05-10T01:56:46.546251Z",
     "start_time": "2018-05-10T01:56:46.539580Z"
    }
   },
   "outputs": [],
   "source": [
    "# # #Remove all files from database. WARNING.\n",
    "# ls5_eager=[d.id for d in ls5_datasets]\n",
    "# cdc.index.datasets.archive(ls5_eager)\n",
    "# print(len(ls5_datasets))"
   ]
  },
  {
   "cell_type": "code",
   "execution_count": null,
   "metadata": {
    "ExecuteTime": {
     "end_time": "2018-05-03T02:51:01.967877Z",
     "start_time": "2018-05-03T02:50:48.724252Z"
    }
   },
   "outputs": [],
   "source": [
    "# # # Remove specific files from database. WARNING.\n",
    "# gm_eager=[d.id for d in cdc.index.datasets.search_eager(product='ls_level2_geomedian_annual')]#,**query)]\n",
    "# cdc.index.datasets.archive(gm_eager)"
   ]
  },
  {
   "cell_type": "code",
   "execution_count": null,
   "metadata": {
    "ExecuteTime": {
     "end_time": "2018-05-10T01:48:15.869298Z",
     "start_time": "2018-05-10T01:48:15.857194Z"
    }
   },
   "outputs": [],
   "source": [
    "# # Remove specific files from database. WARNING.\n",
    "# gm_eager=[d.id for d in gm_datasets]#cdc.index.datasets.search_eager(product='ls_level2_geomedian_annual',**query)]\n",
    "# cdc.index.datasets.archive(gm_eager)"
   ]
  },
  {
   "cell_type": "code",
   "execution_count": null,
   "metadata": {
    "ExecuteTime": {
     "end_time": "2018-05-10T01:48:24.176641Z",
     "start_time": "2018-05-10T01:48:24.162879Z"
    }
   },
   "outputs": [],
   "source": [
    "gm_eager"
   ]
  },
  {
   "cell_type": "code",
   "execution_count": null,
   "metadata": {
    "ExecuteTime": {
     "end_time": "2018-03-09T04:13:45.303155Z",
     "start_time": "2018-03-09T04:13:44.640081Z"
    }
   },
   "outputs": [],
   "source": [
    "# # Remove all files from database. WARNING.\n",
    "# ls7_eager=[d.id for d in cdc.index.datasets.search_eager(product='ls7_usgs_sr_scene')]\n",
    "# cdc.index.datasets.archive(ls7_eager)"
   ]
  },
  {
   "cell_type": "code",
   "execution_count": null,
   "metadata": {
    "ExecuteTime": {
     "end_time": "2018-03-09T04:13:49.105729Z",
     "start_time": "2018-03-09T04:13:48.291341Z"
    }
   },
   "outputs": [],
   "source": [
    "# # Remove all files from database. WARNING.\n",
    "# ls8_eager=[d.id for d in cdc.index.datasets.search_eager(product='ls8_usgs_sr_scene')]\n",
    "# cdc.index.datasets.archive(ls8_eager)"
   ]
  },
  {
   "cell_type": "code",
   "execution_count": null,
   "metadata": {
    "ExecuteTime": {
     "end_time": "2018-03-06T04:15:38.887850Z",
     "start_time": "2018-03-06T04:15:38.885110Z"
    }
   },
   "outputs": [],
   "source": [
    "# cdc_ls7= cdc.load(product='ls7_usgs_sr_scene')\n",
    "# cdc_ls8 = cdc.load(product='ls8_usgs_sr_scene')"
   ]
  },
  {
   "cell_type": "code",
   "execution_count": null,
   "metadata": {
    "ExecuteTime": {
     "end_time": "2018-03-06T03:46:28.182506Z",
     "start_time": "2018-03-06T03:41:25.899Z"
    }
   },
   "outputs": [],
   "source": [
    "# print(cdc_ls8.time)\n",
    "# print(cdc_ls7.time)"
   ]
  },
  {
   "cell_type": "code",
   "execution_count": null,
   "metadata": {
    "ExecuteTime": {
     "end_time": "2018-03-05T05:03:00.439757Z",
     "start_time": "2018-03-05T05:03:00.437042Z"
    }
   },
   "outputs": [],
   "source": [
    "# dc = Datacube(app='dc-show changes in annual mean NDVI values')\n",
    "# dc.list_products()"
   ]
  },
  {
   "cell_type": "code",
   "execution_count": null,
   "metadata": {},
   "outputs": [],
   "source": []
  }
 ],
 "metadata": {
  "kernelspec": {
   "display_name": "Python 3",
   "language": "python",
   "name": "python3"
  },
  "language_info": {
   "codemirror_mode": {
    "name": "ipython",
    "version": 3
   },
   "file_extension": ".py",
   "mimetype": "text/x-python",
   "name": "python",
   "nbconvert_exporter": "python",
   "pygments_lexer": "ipython3",
   "version": "3.6.5"
  },
  "toc": {
   "base_numbering": 1,
   "nav_menu": {},
   "number_sections": true,
   "sideBar": true,
   "skip_h1_title": false,
   "title_cell": "Table of Contents",
   "title_sidebar": "Contents",
   "toc_cell": false,
   "toc_position": {},
   "toc_section_display": "block",
   "toc_window_display": false
  }
 },
 "nbformat": 4,
 "nbformat_minor": 2
}
