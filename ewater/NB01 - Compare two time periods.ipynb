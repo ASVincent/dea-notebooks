{
 "cells": [
  {
   "cell_type": "markdown",
   "metadata": {
    "extensions": {
     "jupyter_dashboards": {
      "version": 1,
      "views": {
       "grid_default": {
        "col": 0,
        "height": 4,
        "hidden": false,
        "row": 0,
        "width": 4
       },
       "report_default": {}
      }
     }
    }
   },
   "source": [
    "# Notebook 01: Plot imagery from Cambodia Cube"
   ]
  },
  {
   "cell_type": "markdown",
   "metadata": {
    "extensions": {
     "jupyter_dashboards": {
      "version": 1,
      "views": {
       "grid_default": {
        "col": 4,
        "height": 4,
        "hidden": false,
        "row": 0,
        "width": 4
       },
       "report_default": {}
      }
     }
    }
   },
   "source": [
    "This notebook accesses USGS Landsat data saved and indexed in Cambodia Cube (an instance of Open Data Cube).\n",
    "A plot is created that shows every loaded scene and then a geomedian image is created. Additionally, the user can input two time periods and create geomedian images. Fianlly, NDVI and NDWI images are created for the two selected time periods, and the difference between the two time periods is visualised. \n",
    "\n",
    "Code written in April 2018 by Erin Telfer with support from Norman Mueller. The notebook was completed as part of the ESCAP Cambodia Project with eWater. If you have comment or if you find an error, please contact erin.telfer@ga.gov.au. Alternatively, please contact norman.mueller@ga.gov.au."
   ]
  },
  {
   "cell_type": "markdown",
   "metadata": {
    "extensions": {
     "jupyter_dashboards": {
      "version": 1,
      "views": {
       "grid_default": {
        "col": 8,
        "height": 4,
        "hidden": false,
        "row": 0,
        "width": 4
       },
       "report_default": {}
      }
     }
    }
   },
   "source": [
    "## Import libraries and create functions"
   ]
  },
  {
   "cell_type": "code",
   "execution_count": 5,
   "metadata": {
    "ExecuteTime": {
     "end_time": "2018-03-27T00:32:55.849034Z",
     "start_time": "2018-03-27T00:32:50.102750Z"
    },
    "extensions": {
     "jupyter_dashboards": {
      "version": 1,
      "views": {
       "grid_default": {
        "hidden": true
       },
       "report_default": {}
      }
     }
    }
   },
   "outputs": [],
   "source": [
    "from datacube import Datacube\n",
    "cdc = Datacube(config='/g/data/u46/users/ext547/ewater/cambodia_cube/cambodia.conf')\n",
    "from datacube_stats.statistics import GeoMedian\n",
    "from datacube.storage import masking\n",
    "from datacube.storage.masking import mask_to_dict\n",
    "\n",
    "import numpy as np\n",
    "import xarray as xr\n",
    "import pickle\n",
    "\n",
    "import matplotlib.pyplot as plt\n",
    "import matplotlib.gridspec as gridspec\n",
    "import ipywidgets as widgets\n",
    "from ipywidgets import interact, interactive, fixed, interact_manual, IntSlider, FloatSlider, Dropdown\n",
    "\n",
    "# from textwrap import wrap\n",
    "# from skimage import exposure\n"
   ]
  },
  {
   "cell_type": "code",
   "execution_count": 6,
   "metadata": {
    "ExecuteTime": {
     "end_time": "2018-03-27T00:32:56.540259Z",
     "start_time": "2018-03-27T00:32:55.851509Z"
    },
    "extensions": {
     "jupyter_dashboards": {
      "version": 1,
      "views": {
       "grid_default": {
        "hidden": true
       },
       "report_default": {}
      }
     }
    }
   },
   "outputs": [],
   "source": [
    "#Define function to create a RGB composite images of all scenes within an array as subplots\n",
    "def three_band_image_subplots(ds, bands, num_cols, figsize = [20,80], left  = 0.125, \n",
    "                              right = 0.9, bottom = 0.1, top = 0.9, \n",
    "                              wspace = 0.2, hspace = 0.4):\n",
    "    '''\n",
    "    threeBandImage_subplots takes three spectral bands and multiple time steps, \n",
    "    and plots them on the RGB bands of an image. \n",
    "    Last modified: March 2018\n",
    "    Author: Mike Barnes\n",
    "    Modified by: Claire Krause and Erin Telfer\n",
    "    \n",
    "    Inputs: \n",
    "    ds -   Dataset containing the bands to be plotted\n",
    "    bands - list of three bands to be plotted\n",
    "    num_cols - number of columns for the subplot\n",
    "    \n",
    "    Optional:\n",
    "    figsize - dimensions for the output figure\n",
    "    left  - the space on the left side of the subplots of the figure\n",
    "    right - the space on the right side of the subplots of the figure\n",
    "    bottom - the space on the bottom of the subplots of the figure\n",
    "    top - the space on the top of the subplots of the figure\n",
    "    wspace - the amount of width reserved for blank space between subplots\n",
    "    hspace - the amount of height reserved for white space between subplots\n",
    "    '''\n",
    "    # Find the number of rows/columns we need, based on the number of time steps in ds\n",
    "    fig = plt.figure(figsize = figsize)\n",
    "    timesteps = ds.time.size\n",
    "    num_rows = int(np.ceil(timesteps/num_cols))\n",
    "    fig, axes = plt.subplots(num_rows, num_cols, figsize = figsize)\n",
    "    fig.subplots_adjust(left  = left, right = right, bottom = bottom, top = top, \n",
    "                        wspace = wspace, hspace = hspace)\n",
    "   \n",
    "    try: #loop through all scenes, prepare imagery and create subplots\n",
    "        for i, ax in enumerate(fig.axes):\n",
    "            rgb = ds.isel(time =i).to_array(dim='color').sel(color=bands).transpose('y', 'x', 'color')\n",
    "            rgb=rgb.where(rgb>=0)\n",
    "            fake_saturation = 6000.0\n",
    "            rgb = rgb.astype('double')\n",
    "            clipped_visible = rgb.where(rgb<fake_saturation).fillna(fake_saturation)\n",
    "            max_val = clipped_visible.max(['y', 'x'])\n",
    "            scaled = (clipped_visible / max_val) \n",
    "            ax.imshow(scaled, interpolation = 'nearest') #plot image as subplot\n",
    "            ax.set_title(str(scaled.time.values)[0:10])\n",
    "    except IndexError: #if there are an odd number of plots, this code will allow plotting of images\n",
    "        fig.delaxes(ax)\n",
    "        plt.draw() \n",
    "\n",
    "#Define function to create a RGB composite images of all scenes within an array as subplots\n",
    "def three_band_image(ds, bands,title,figsize = [10,10]):\n",
    "    '''\n",
    "    threeBandImage takes three spectral bands and plots them on the RGB bands of an \n",
    "    image. \n",
    "    \n",
    "    Last modified: March 2018\n",
    "    Author: Mike Barnes\n",
    "    Modified by: Claire Krause and Erin Telfer\n",
    "    Inputs: \n",
    "    ds -   Dataset containing the bands to be plotted\n",
    "    bands - list of three bands to be plotted\n",
    "    title - a string to use as a title on the plot\n",
    "    \n",
    "    Optional:\n",
    "    time - Index value of the time dimension of ds to be plotted\n",
    "    figsize - dimensions for the output figure\n",
    "    '''\n",
    "    rgb = ds.to_array(dim='color').sel(color=bands).transpose('y', 'x', 'color')\n",
    "    fake_saturation = 6000.0\n",
    "    rgb = rgb.astype('double')\n",
    "    clipped_visible = rgb.where(rgb<fake_saturation).fillna(fake_saturation)\n",
    "    print(type(clipped_visible))\n",
    "    max_val = clipped_visible.max(['y', 'x'])\n",
    "    scaled = (clipped_visible / max_val)\n",
    "\n",
    "    fig = plt.figure(figsize = figsize)\n",
    "    plt.title(title, fontsize=16)\n",
    "    plt.imshow(scaled)\n",
    "\n",
    "#Define function to either read or load nbar data from Cambodia Cube\n",
    "def LoadAreaOfInterest(study_area):\n",
    "    '''\n",
    "    Firstly, LoadAreaOfInterest checks whether a pickle, that contains an xarray of nbar data, \n",
    "    is saved in the output folder. If there is no pickle, the function searches the \n",
    "    \"AreaOfInterest\" function to gain lat/lon information for that particular study_area. If \n",
    "    there is no lat/lon coordinates in the AreaOfInterest function, then an error is returned. \n",
    "    If the coordinates are found, nbar data is loaded and masked. Finally data from all \n",
    "    sensors are concatenated together into one xarray.\n",
    "   \n",
    "    Last modified: March 2018\n",
    "    \n",
    "    Author: Erin Telfer\n",
    "    \n",
    "    Inputs: \n",
    "    study_area - the name of the study area\n",
    "    '''\n",
    "    \n",
    "    study_area=study_area.lower().replace(\" \",\"\")\n",
    "    pickle_location=('{0}{1}.pkl'.format(output_folder,study_area))\n",
    "    try:\n",
    "        nbar_clean= pickle.load( open(pickle_location, \"rb\" ) )\n",
    "        print(\"Nbar pickle has been found on file\")\n",
    "        print(\"Nbar pickle has been loaded\")\n",
    "        return(nbar_clean)\n",
    "    \n",
    "    except FileNotFoundError:\n",
    "        try:\n",
    "            print(\"No {0}.pkl file found on file\".format(study_area))\n",
    "            print(\"Location information from the AreaOfInterest function has been read\")\n",
    "\n",
    "            lat_min, lat_max, lon_min, lon_max = AreaOfInterest(study_area)\n",
    "            \n",
    "            print(\"Loading Cambodia Cube data\")\n",
    "            sensor_clean = {}\n",
    "            #define temporal range ()\n",
    "            start_of_epoch = '2015-01-01'\n",
    "            end_of_epoch =  '2018-01-01'\n",
    "\n",
    "            #define wavelengths/bands of interest\n",
    "            bands_of_interest = [#'blue',\n",
    "                                 'green',\n",
    "                                 'red', \n",
    "                                 'nir',\n",
    "                                 'swir1', \n",
    "                                 'pixel_qa',\n",
    "                                 #'swir2',\n",
    "                                 ]\n",
    "\n",
    "            #define Landsat sensors of interest\n",
    "            sensors = ['ls8',]\n",
    "            #        'ls7',] \n",
    "\n",
    "            #query is created\n",
    "            query = {'time': (start_of_epoch, end_of_epoch),}\n",
    "            query['x'] = (lon_min, lon_max)\n",
    "            query['y'] = (lat_max, lat_min)\n",
    "            query['crs'] = 'EPSG:4326'\n",
    "\n",
    "            for sensor in sensors: #loop through specified\n",
    "                sensor_nbar = cdc.load(product= sensor+'_usgs_sr_scene',\n",
    "                                       measurements = bands_of_interest,group_by='solar_day', \n",
    "                                       **query) #load nbar\n",
    "                #retrieve the projection information before masking/sorting\n",
    "                crs = sensor_nbar.crs\n",
    "                crswkt = sensor_nbar.crs.wkt\n",
    "                affine = sensor_nbar.affine\n",
    "                #assign pq data variable\n",
    "                sensor_pq= sensor_nbar.pixel_qa\n",
    "                #create and use quality and cloud masks\n",
    "                mask_components = {'cloud_shadow': 'no_cloud_shadow',\n",
    "                           'cloud': 'no_cloud',}\n",
    "                quality_mask = masking.make_mask(sensor_pq, **mask_components)\n",
    "                good_data = quality_mask.loc[start_of_epoch:end_of_epoch]\n",
    "                sensor_nbar2 = sensor_nbar.where(good_data)\n",
    "                del (sensor_nbar)\n",
    "\n",
    "                #calculate the percentage cloud free for each scene\n",
    "                cloud_free = masking.make_mask(sensor_pq,\n",
    "                                               cloud_shadow= 'no_cloud_shadow',cloud= 'no_cloud')\n",
    "                mostly_cloud_free = cloud_free.mean(dim=('x','y')) >= cloud_free_threshold\n",
    "                #discard data that does not meet the cloud_free_threshold\n",
    "                mostly_good = sensor_nbar2.where(mostly_cloud_free).dropna(dim='time', \n",
    "                                                                           how='all')\n",
    "                #assign masked data to array\n",
    "                sensor_clean[sensor] = mostly_good\n",
    "\n",
    "                print('loaded %s' % sensor) \n",
    "            print('ls load complete')\n",
    "\n",
    "\n",
    "            #data from different sensors are joined together and sorted so that observations are sorted by time rather than sensor\n",
    "            nbar_clean = xr.concat(sensor_clean.values(), 'time')\n",
    "            nbar_clean = nbar_clean.sortby('time')\n",
    "            nbar_clean.attrs['crs'] = crs\n",
    "            nbar_clean.attrs['affin|e'] = affine          \n",
    "                    \n",
    "            print(\"saving nbar data as {0}.pkl\".format(study_area))\n",
    "\n",
    "            pickle.dump(nbar_clean, open(pickle_location,\"wb\")) #save nbar as pickle\n",
    "            return nbar_clean\n",
    "        except TypeError:\n",
    "            print(\"please add lat/lon details to AreaOfInterest function\")"
   ]
  },
  {
   "cell_type": "code",
   "execution_count": 11,
   "metadata": {
    "ExecuteTime": {
     "end_time": "2018-03-27T00:44:32.801627Z",
     "start_time": "2018-03-27T00:44:32.721645Z"
    },
    "extensions": {
     "jupyter_dashboards": {
      "version": 1,
      "views": {
       "grid_default": {
        "hidden": true
       },
       "report_default": {}
      }
     }
    }
   },
   "outputs": [],
   "source": [
    "#Define function to define the coordinates for the study area\n",
    "def AreaOfInterest(study_area):\n",
    "    if study_area == 'phumsrahkaev':\n",
    "        lat_min = 13.000 #down\n",
    "        lat_max = 13.100 #up\n",
    "        lon_min = 103.300 #left\n",
    "        lon_max = 103.400 #right  \n",
    "    elif study_area == 'outapaong':\n",
    "        lat_min = 12.600 #down\n",
    "        lat_max = 12.800 #up\n",
    "        lon_min = 103.600 #left\n",
    "        lon_max = 103.800 #right\n",
    "    elif study_area == 'mondulkiri':\n",
    "        lat_min = 12.863 #down\n",
    "        lat_max = 13.663 #up\n",
    "        lon_min = 106.350 #left\n",
    "        lon_max = 107.236 #right\n",
    "    elif study_area == 'krongstungtreng':\n",
    "        lat_min = 13.181 #down\n",
    "        lat_max = 13.681 #up\n",
    "        lon_min = 105.781 #left\n",
    "        lon_max = 106.381 #right\n",
    "    elif study_area == 'kaohnheaek':\n",
    "        lat_min = 12.900 #down\n",
    "        lat_max = 13.229 #up\n",
    "        lon_min = 106.825 #left\n",
    "        lon_max = 107.179 #right\n",
    "    else:\n",
    "        print('FileNotFoundError')\n",
    "    return (lat_min, lat_max, lon_min, lon_max)"
   ]
  },
  {
   "cell_type": "markdown",
   "metadata": {
    "extensions": {
     "jupyter_dashboards": {
      "version": 1,
      "views": {
       "grid_default": {
        "col": 0,
        "height": 4,
        "hidden": false,
        "row": 4,
        "width": 12
       },
       "report_default": {}
      }
     }
    }
   },
   "source": [
    "# Define input variables, e.g. location details, temporal range, bands and sensors of interest"
   ]
  },
  {
   "cell_type": "code",
   "execution_count": 12,
   "metadata": {
    "ExecuteTime": {
     "end_time": "2018-03-27T00:44:33.994730Z",
     "start_time": "2018-03-27T00:44:33.987041Z"
    },
    "extensions": {
     "jupyter_dashboards": {
      "version": 1,
      "views": {
       "grid_default": {
        "hidden": true
       },
       "report_default": {}
      }
     }
    }
   },
   "outputs": [],
   "source": [
    "study_area = 'kaohnheaek' #name of study area\n",
    "study_area=study_area.lower().replace(\" \",\"\") #reformat to remove uppercase and spaces\n",
    "\n",
    "#set cloud threshold. This value defines the amount of lansdcape/cloud allowed in each scene.\n",
    "#Scenes will not be retrieved that have less than the cloud threshold worth of image.\n",
    "#The default value is \"0.90\" or >90% image and <10% cloud cover\n",
    "cloud_free_threshold = 0.10 \n",
    "\n",
    "#specify output folder to save figures\n",
    "output_folder= '/g/data/u46/users/ext547/ewater/output_data/image_dump/'"
   ]
  },
  {
   "cell_type": "markdown",
   "metadata": {
    "extensions": {
     "jupyter_dashboards": {
      "version": 1,
      "views": {
       "grid_default": {
        "col": 0,
        "height": 4,
        "hidden": false,
        "row": 8,
        "width": 4
       },
       "report_default": {}
      }
     }
    }
   },
   "source": [
    "# Query what imagery is  available in Cambodia Cube"
   ]
  },
  {
   "cell_type": "markdown",
   "metadata": {
    "extensions": {
     "jupyter_dashboards": {
      "version": 1,
      "views": {
       "grid_default": {
        "col": 4,
        "height": 4,
        "hidden": false,
        "row": 8,
        "width": 4
       },
       "report_default": {}
      }
     }
    }
   },
   "source": [
    "## Load Landsat data for specified date range and location"
   ]
  },
  {
   "cell_type": "code",
   "execution_count": null,
   "metadata": {
    "ExecuteTime": {
     "start_time": "2018-03-27T00:44:34.906Z"
    },
    "extensions": {
     "jupyter_dashboards": {
      "version": 1,
      "views": {
       "grid_default": {
        "col": 8,
        "height": 4,
        "hidden": false,
        "row": 8,
        "width": 4
       },
       "report_default": {}
      }
     }
    }
   },
   "outputs": [
    {
     "name": "stdout",
     "output_type": "stream",
     "text": [
      "No kaohnheaek.pkl file found on file\n",
      "Location information from the AreaOfInterest function has been read\n",
      "Loading Cambodia Cube data\n"
     ]
    }
   ],
   "source": [
    "nbar_clean=LoadAreaOfInterest(study_area)"
   ]
  },
  {
   "cell_type": "code",
   "execution_count": null,
   "metadata": {
    "ExecuteTime": {
     "start_time": "2018-03-27T00:44:35.144Z"
    },
    "extensions": {
     "jupyter_dashboards": {
      "version": 1,
      "views": {
       "grid_default": {
        "col": 0,
        "height": 22,
        "hidden": false,
        "row": 12,
        "width": 4
       },
       "report_default": {}
      }
     }
    }
   },
   "outputs": [],
   "source": [
    "nbar_clean"
   ]
  },
  {
   "cell_type": "markdown",
   "metadata": {
    "extensions": {
     "jupyter_dashboards": {
      "version": 1,
      "views": {
       "grid_default": {
        "col": 0,
        "height": 4,
        "hidden": false,
        "row": 34,
        "width": 12
       },
       "report_default": {}
      }
     }
    }
   },
   "source": [
    "## Plot subplots containing all scenes loaded for specified date range and location"
   ]
  },
  {
   "cell_type": "code",
   "execution_count": null,
   "metadata": {
    "ExecuteTime": {
     "end_time": "2018-03-26T23:39:50.344545Z",
     "start_time": "2018-03-26T23:39:41.009912Z"
    },
    "extensions": {
     "jupyter_dashboards": {
      "version": 1,
      "views": {
       "grid_default": {
        "col": 0,
        "height": 70,
        "hidden": false,
        "row": 38,
        "width": 4
       },
       "report_default": {}
      }
     }
    },
    "scrolled": false
   },
   "outputs": [],
   "source": [
    "#Use function, defined above, to create three band composites subplot\n",
    "three_band_image_subplots(nbar_clean, ['swir1','nir', 'green'], 2)"
   ]
  },
  {
   "cell_type": "markdown",
   "metadata": {
    "extensions": {
     "jupyter_dashboards": {
      "version": 1,
      "views": {
       "grid_default": {
        "col": 4,
        "height": 4,
        "hidden": false,
        "row": 12,
        "width": 4
       },
       "report_default": {}
      }
     }
    }
   },
   "source": [
    "# Geomedian"
   ]
  },
  {
   "cell_type": "code",
   "execution_count": null,
   "metadata": {
    "ExecuteTime": {
     "end_time": "2018-03-26T23:40:40.578008Z",
     "start_time": "2018-03-26T23:40:40.571622Z"
    },
    "extensions": {
     "jupyter_dashboards": {
      "version": 1,
      "views": {
       "grid_default": {
        "hidden": true
       },
       "report_default": {}
      }
     }
    }
   },
   "outputs": [],
   "source": [
    "# #define first time of interest\n",
    "# start_of_time00 = '2014-01-01'\n",
    "# end_of_time00 = '2016-05-01'\n",
    "\n",
    "#define first time of interest\n",
    "start_of_time01 = '2015-01-01'\n",
    "end_of_time01 = '2016-05-01'\n",
    "\n",
    "#define second time of interest\n",
    "start_of_time02 = '2016-05-02'\n",
    "end_of_time02 = '2017-12-31'"
   ]
  },
  {
   "cell_type": "code",
   "execution_count": null,
   "metadata": {
    "ExecuteTime": {
     "end_time": "2018-03-26T23:42:46.815412Z",
     "start_time": "2018-03-26T23:40:41.933012Z"
    },
    "extensions": {
     "jupyter_dashboards": {
      "version": 1,
      "views": {
       "grid_default": {
        "hidden": true
       },
       "report_default": {}
      }
     }
    }
   },
   "outputs": [],
   "source": [
    "#Compute geomedian\n",
    "nbar_gm=GeoMedian().compute(nbar_clean)\n",
    "#time period 01\n",
    "nbar_gm01=nbar_clean.sel(time = slice(start_of_time01,end_of_time01))\n",
    "nbar_gm01=GeoMedian().compute(nbar_gm01)\n",
    "#time period 02\n",
    "nbar_gm02=nbar_clean.sel(time = slice(start_of_time02,end_of_time02))\n",
    "nbar_gm02=GeoMedian().compute(nbar_gm02)"
   ]
  },
  {
   "cell_type": "markdown",
   "metadata": {
    "extensions": {
     "jupyter_dashboards": {
      "version": 1,
      "views": {
       "grid_default": {
        "col": 8,
        "height": 4,
        "hidden": false,
        "row": 12,
        "width": 4
       },
       "report_default": {}
      }
     }
    }
   },
   "source": [
    "## Create geomedian image for the complete date range"
   ]
  },
  {
   "cell_type": "code",
   "execution_count": null,
   "metadata": {
    "ExecuteTime": {
     "end_time": "2018-03-26T23:45:02.070926Z",
     "start_time": "2018-03-26T23:45:01.173572Z"
    },
    "extensions": {
     "jupyter_dashboards": {
      "version": 1,
      "views": {
       "grid_default": {
        "col": 4,
        "height": 15,
        "hidden": false,
        "row": 16,
        "width": 4
       },
       "report_default": {}
      }
     }
    }
   },
   "outputs": [],
   "source": [
    "#Use function, defined above, to create a three band composite geomedian image\n",
    "three_band_image(nbar_gm,['swir1','nir','green'], \n",
    "                 title=('Geomedian image for all scenes'))\n",
    "plt.savefig('{0}NB01_1_geomedian_{1}.jpg'.format(str(output_folder),str(study_area))) #Save figure"
   ]
  },
  {
   "cell_type": "markdown",
   "metadata": {
    "extensions": {
     "jupyter_dashboards": {
      "version": 1,
      "views": {
       "grid_default": {
        "col": 8,
        "height": 4,
        "hidden": false,
        "row": 16,
        "width": 4
       },
       "report_default": {}
      }
     }
    }
   },
   "source": [
    "## Create geomedian image for the first specified date range"
   ]
  },
  {
   "cell_type": "code",
   "execution_count": null,
   "metadata": {
    "ExecuteTime": {
     "end_time": "2018-03-26T23:45:03.744000Z",
     "start_time": "2018-03-26T23:45:02.985835Z"
    },
    "extensions": {
     "jupyter_dashboards": {
      "version": 1,
      "views": {
       "grid_default": {
        "col": 4,
        "height": 15,
        "hidden": false,
        "row": 38,
        "width": 4
       },
       "report_default": {}
      }
     }
    }
   },
   "outputs": [],
   "source": [
    "#Use function, defined above, to create a three band composite geomedian image\n",
    "three_band_image(nbar_gm01,['swir1','nir','green'], \n",
    "                 title=(str('Geomedian image of scenes between \\n{0} and {1}').format(str(start_of_time01),\n",
    "                                                                               str(end_of_time01))))\n",
    "plt.savefig('{0}NB01_2_geomedian01_{1}.jpg'.format(str(output_folder),str(study_area))) #Save figure"
   ]
  },
  {
   "cell_type": "markdown",
   "metadata": {
    "extensions": {
     "jupyter_dashboards": {
      "version": 1,
      "views": {
       "grid_default": {
        "col": 8,
        "height": 4,
        "hidden": false,
        "row": 20,
        "width": 4
       },
       "report_default": {}
      }
     }
    }
   },
   "source": [
    "## Create geomedian image for the second specified date range"
   ]
  },
  {
   "cell_type": "code",
   "execution_count": null,
   "metadata": {
    "ExecuteTime": {
     "end_time": "2018-03-26T23:45:04.765683Z",
     "start_time": "2018-03-26T23:45:04.014060Z"
    },
    "extensions": {
     "jupyter_dashboards": {
      "version": 1,
      "views": {
       "grid_default": {
        "col": 8,
        "height": 15,
        "hidden": false,
        "row": 38,
        "width": 4
       },
       "report_default": {}
      }
     }
    }
   },
   "outputs": [],
   "source": [
    "#Use function, defined above, to create a three band composite geomedian image\n",
    "three_band_image(nbar_gm02,['swir1','nir', 'green'],\n",
    "                 title=(str('Geomedian image of scenes between \\n{0} and {1}').format(str(start_of_time02),\n",
    "                                                                               str(end_of_time02))))\n",
    "plt.savefig('{0}NB01_3_geomedian02_{1}.jpg'.format(str(output_folder),str(study_area))) #Save figure"
   ]
  },
  {
   "cell_type": "markdown",
   "metadata": {
    "extensions": {
     "jupyter_dashboards": {
      "version": 1,
      "views": {
       "grid_default": {
        "col": 8,
        "height": 4,
        "hidden": false,
        "row": 24,
        "width": 4
       },
       "report_default": {}
      }
     }
    }
   },
   "source": [
    "# NDWI"
   ]
  },
  {
   "cell_type": "code",
   "execution_count": null,
   "metadata": {
    "ExecuteTime": {
     "end_time": "2018-03-26T23:45:05.056208Z",
     "start_time": "2018-03-26T23:45:05.038017Z"
    }
   },
   "outputs": [],
   "source": [
    "# nbar_gm_ndwi01= ((nbar_gm01.nir - nbar_gm01.swir1)/(nbar_gm01.nir+nbar_gm01.swir1))\n",
    "# nbar_gm_ndwi01= ((nbar_gm01.green - nbar_gm01.nir)/(nbar_gm01.green+nbar_gm01.nir))\n",
    "nbar_gm_ndwi01= ((nbar_gm01.green - nbar_gm01.swir1)/(nbar_gm01.green+nbar_gm01.swir1))\n",
    "\n",
    "# nbar_gm_ndwi02= ((nbar_gm02.nir - nbar_gm02.swir1)/(nbar_gm02.nir+nbar_gm02.swir1))\n",
    "# nbar_gm_ndwi02= ((nbar_gm02.green - nbar_gm02.nir)/(nbar_gm02.green+nbar_gm02.nir))\n",
    "nbar_gm_ndwi02= ((nbar_gm02.green - nbar_gm02.swir1)/(nbar_gm02.green+nbar_gm02.swir1))\n"
   ]
  },
  {
   "cell_type": "code",
   "execution_count": null,
   "metadata": {
    "ExecuteTime": {
     "end_time": "2018-03-26T23:45:08.899162Z",
     "start_time": "2018-03-26T23:45:05.523025Z"
    },
    "extensions": {
     "jupyter_dashboards": {
      "version": 1,
      "views": {
       "grid_default": {
        "col": 4,
        "height": 14,
        "hidden": false,
        "row": 53,
        "width": 4
       },
       "report_default": {}
      }
     }
    }
   },
   "outputs": [],
   "source": [
    "fig=plt.figure(figsize=(50,10))\n",
    "plt.subplots_adjust(left=0.15, right=0.90, top=0.90, bottom=0.10) #Set border dimensions\n",
    "fig.patch.set_facecolor('white') #Make border is white\n",
    "fig.patch.set_alpha(0.99) #Ensure border is white\n",
    "gs = gridspec.GridSpec(1,3)\n",
    "\n",
    "ax1=plt.subplot(gs[0,0])\n",
    "nbar_gm_ndwi01.plot(cmap='hsv',vmax=-0.6,vmin=0.6)\n",
    "ax1.set_title(('NDWI of Geomedian for scenes between \\n{0} and {1}').format(str(start_of_time01),\n",
    "                                                                        str(end_of_time01)),fontsize=20)\n",
    "\n",
    "ax2=plt.subplot(gs[0,1])\n",
    "nbar_gm_ndwi02.plot(cmap='hsv',vmax=-0.6,vmin=0.6)\n",
    "ax2.yaxis.set_visible(False)\n",
    "ax2.set_title(('NDWI of Geomedian for scenes between \\n{0} and {1}').format(str(start_of_time02),\n",
    "                                                                        str(end_of_time02)), fontsize=20)\n",
    "\n",
    "ax3=plt.subplot(gs[0,2])\n",
    "(nbar_gm_ndwi02-nbar_gm_ndwi01).plot(cmap='hsv',vmax=-0.6,vmin=0.6)\n",
    "ax3.yaxis.set_visible(False)\n",
    "ax3.set_title('NDWI difference', fontsize=16)\n",
    "              \n",
    "plt.savefig('{0}NB01_4_geomedian_NDWI_{1}.jpg'.format(str(output_folder),str(study_area))) #Save figure\n",
    "              "
   ]
  },
  {
   "cell_type": "markdown",
   "metadata": {},
   "source": [
    "# NDVI"
   ]
  },
  {
   "cell_type": "code",
   "execution_count": null,
   "metadata": {
    "ExecuteTime": {
     "end_time": "2018-03-26T23:45:20.332195Z",
     "start_time": "2018-03-26T23:45:20.317004Z"
    }
   },
   "outputs": [],
   "source": [
    "nbar_gm_ndvi01= ((nbar_gm01.nir-nbar_gm01.red)/(nbar_gm01.nir+nbar_gm01.red))\n",
    "nbar_gm_ndvi02= ((nbar_gm02.nir-nbar_gm02.red)/(nbar_gm02.nir+nbar_gm02.red))"
   ]
  },
  {
   "cell_type": "code",
   "execution_count": null,
   "metadata": {
    "ExecuteTime": {
     "end_time": "2018-03-26T23:45:24.086862Z",
     "start_time": "2018-03-26T23:45:20.798585Z"
    }
   },
   "outputs": [],
   "source": [
    "fig=plt.figure(figsize=(50,10))\n",
    "plt.subplots_adjust(left=0.15, right=0.90, top=0.90, bottom=0.10) #Set border dimensions\n",
    "fig.patch.set_facecolor('white') #Make border is white\n",
    "fig.patch.set_alpha(0.99) #Ensure border is white\n",
    "gs = gridspec.GridSpec(1,3)\n",
    "\n",
    "ax1=plt.subplot(gs[0,0])\n",
    "nbar_gm_ndvi01.plot(cmap='hsv',vmax=-1,vmin=1)\n",
    "ax1.set_title(('NDVI of Geomedian for scenes between \\n{0} and {1}').format(str(start_of_time01),\n",
    "                                                                        str(end_of_time01)),fontsize=20)\n",
    "\n",
    "ax2=plt.subplot(gs[0,1])\n",
    "nbar_gm_ndvi02.plot(cmap='hsv',vmax=-1,vmin=1)\n",
    "ax2.yaxis.set_visible(False)\n",
    "ax2.set_title(('NDVI of Geomedian for scenes between \\n{0} and {1}').format(str(start_of_time02),\n",
    "                                                                        str(end_of_time02)), fontsize=20)\n",
    "\n",
    "ax3=plt.subplot(gs[0,2])\n",
    "(nbar_gm_ndvi02-nbar_gm_ndvi01).plot(cmap='hsv',vmax=-1,vmin=1)\n",
    "ax3.yaxis.set_visible(False)\n",
    "ax3.set_title('NDVI difference', fontsize=20)\n",
    "\n",
    "plt.savefig('{0}NB01_5_geomedian_NDVI_{1}.jpg'.format(str(output_folder),str(study_area))) #Save figure"
   ]
  },
  {
   "cell_type": "code",
   "execution_count": null,
   "metadata": {},
   "outputs": [],
   "source": []
  },
  {
   "cell_type": "code",
   "execution_count": null,
   "metadata": {},
   "outputs": [],
   "source": []
  },
  {
   "cell_type": "code",
   "execution_count": null,
   "metadata": {},
   "outputs": [],
   "source": []
  },
  {
   "cell_type": "code",
   "execution_count": null,
   "metadata": {},
   "outputs": [],
   "source": []
  },
  {
   "cell_type": "code",
   "execution_count": null,
   "metadata": {},
   "outputs": [],
   "source": []
  },
  {
   "cell_type": "code",
   "execution_count": null,
   "metadata": {},
   "outputs": [],
   "source": []
  },
  {
   "cell_type": "code",
   "execution_count": null,
   "metadata": {},
   "outputs": [],
   "source": []
  },
  {
   "cell_type": "code",
   "execution_count": null,
   "metadata": {},
   "outputs": [],
   "source": []
  },
  {
   "cell_type": "code",
   "execution_count": null,
   "metadata": {},
   "outputs": [],
   "source": []
  },
  {
   "cell_type": "code",
   "execution_count": null,
   "metadata": {},
   "outputs": [],
   "source": [
    "fig=plt.figure(figsize=(30,10))\n",
    "plt.subplots_adjust(left=0.15, right=0.90, top=0.95, bottom=0.10) #Set border dimensions\n",
    "fig.patch.set_facecolor('white') #Make border is white\n",
    "fig.patch.set_alpha(0.99) #Ensure border is white\n",
    "gs = gridspec.GridSpec(1,2)\n",
    "\n",
    "ax1=plt.subplot(gs[0,0])\n",
    "nbar_gm_ndwi01.plot(cmap='hsv',vmax=-0.6,vmin=0.6)\n",
    "ax1.set_title(('NDWI of Geomedian for scenes between {0} and {1}').format(str(start_of_time01),\n",
    "                                                                        str(end_of_time01)),fontsize=16)\n",
    "\n",
    "ax2=plt.subplot(gs[0,1])\n",
    "nbar_gm_ndwi02.plot(cmap='hsv',vmax=-0.6,vmin=0.6)\n",
    "ax2.yaxis.set_visible(False)\n",
    "ax2.set_title(('NDWI of Geomedian for scenes between {0} and {1}').format(str(start_of_time02),\n",
    "                                                                        str(end_of_time02)), fontsize=16)"
   ]
  },
  {
   "cell_type": "code",
   "execution_count": null,
   "metadata": {
    "ExecuteTime": {
     "end_time": "2018-03-25T23:06:42.926266Z",
     "start_time": "2018-03-25T23:06:42.277237Z"
    },
    "extensions": {
     "jupyter_dashboards": {
      "version": 1,
      "views": {
       "grid_default": {
        "col": 8,
        "height": 14,
        "hidden": false,
        "row": 53,
        "width": 4
       },
       "report_default": {}
      }
     }
    }
   },
   "outputs": [],
   "source": [
    "# nbar_gm_ndwi02= ((nbar_gm02.nir - nbar_gm02.swir1)/(nbar_gm02.nir+nbar_gm02.swir1))\n",
    "# nbar_gm_ndwi02= ((nbar_gm02.green - nbar_gm02.nir)/(nbar_gm02.green+nbar_gm02.nir))\n",
    "nbar_gm_ndwi02= ((nbar_gm02.green - nbar_gm02.swir1)/(nbar_gm02.green+nbar_gm02.swir1))\n",
    "\n",
    "\n",
    "fig = plt.figure(figsize=(10,10))\n",
    "i=plt.imshow(nbar_gm_ndwi02,interpolation = 'nearest', cmap = 'hsv', vmin=-0.6,vmax=0.5)\n",
    "fig.colorbar(i) "
   ]
  },
  {
   "cell_type": "code",
   "execution_count": null,
   "metadata": {},
   "outputs": [],
   "source": []
  },
  {
   "cell_type": "code",
   "execution_count": null,
   "metadata": {
    "ExecuteTime": {
     "end_time": "2018-03-25T23:45:47.908652Z",
     "start_time": "2018-03-25T23:45:47.268373Z"
    },
    "extensions": {
     "jupyter_dashboards": {
      "version": 1,
      "views": {
       "grid_default": {
        "col": 4,
        "height": 14,
        "hidden": false,
        "row": 67,
        "width": 4
       },
       "report_default": {}
      }
     }
    }
   },
   "outputs": [],
   "source": [
    "nbar_gm_ndwi_difference = nbar_gm_ndwi01 - nbar_gm_ndwi02\n",
    "\n",
    "fig = plt.figure(figsize=(10,10))\n",
    "i=plt.imshow(nbar_gm_ndwi_difference,interpolation = 'nearest', cmap = 'hsv', vmin=-0.6,vmax=0.5)\n",
    "fig.colorbar(i)"
   ]
  },
  {
   "cell_type": "markdown",
   "metadata": {},
   "source": [
    "# NDVI"
   ]
  },
  {
   "cell_type": "code",
   "execution_count": null,
   "metadata": {
    "ExecuteTime": {
     "end_time": "2018-03-26T02:44:13.337398Z",
     "start_time": "2018-03-26T02:44:12.707205Z"
    }
   },
   "outputs": [],
   "source": [
    "nbar_gm_ndvi01= ((nbar_gm01.nir-nbar_gm01.red)/(nbar_gm01.nir+nbar_gm01.red))\n",
    "\n",
    "fig = plt.figure(figsize=(10,10))\n",
    "i=plt.imshow(nbar_gm_ndvi01,interpolation = 'nearest',cmap = 'hsv', vmin=-1,vmax=1)\n",
    "fig.colorbar(i) "
   ]
  },
  {
   "cell_type": "code",
   "execution_count": null,
   "metadata": {
    "ExecuteTime": {
     "end_time": "2018-03-26T02:42:58.701376Z",
     "start_time": "2018-03-26T02:42:58.684410Z"
    }
   },
   "outputs": [],
   "source": [
    "study_areas = ['phumsrahkaev','outapaong']\n",
    "study_area_dd = Dropdown(options=study_areas, value = study_areas[0], description='Study Area', disabled = False)\n",
    "display(study_area_dd)"
   ]
  },
  {
   "cell_type": "code",
   "execution_count": null,
   "metadata": {
    "ExecuteTime": {
     "end_time": "2018-03-25T04:37:00.797136Z",
     "start_time": "2018-03-25T04:37:00.794223Z"
    },
    "extensions": {
     "jupyter_dashboards": {
      "version": 1,
      "views": {
       "grid_default": {
        "hidden": true
       },
       "report_default": {}
      }
     }
    }
   },
   "outputs": [],
   "source": [
    "# test= cdc.load(product='ls_level2_geomedian_annual',**query)\n",
    "# test.squeeze()"
   ]
  },
  {
   "cell_type": "markdown",
   "metadata": {},
   "source": [
    "# New heading"
   ]
  },
  {
   "cell_type": "code",
   "execution_count": null,
   "metadata": {},
   "outputs": [],
   "source": []
  }
 ],
 "metadata": {
  "extensions": {
   "jupyter_dashboards": {
    "activeView": "grid_default",
    "version": 1,
    "views": {
     "grid_default": {
      "cellMargin": 10,
      "defaultCellHeight": 20,
      "maxColumns": 12,
      "name": "grid",
      "type": "grid"
     },
     "report_default": {
      "name": "report",
      "type": "report"
     }
    }
   }
  },
  "kernelspec": {
   "display_name": "Python 3",
   "language": "python",
   "name": "python3"
  },
  "language_info": {
   "codemirror_mode": {
    "name": "ipython",
    "version": 3
   },
   "file_extension": ".py",
   "mimetype": "text/x-python",
   "name": "python",
   "nbconvert_exporter": "python",
   "pygments_lexer": "ipython3",
   "version": "3.6.4"
  },
  "toc": {
   "nav_menu": {},
   "number_sections": true,
   "sideBar": true,
   "skip_h1_title": false,
   "title_cell": "Table of Contents",
   "title_sidebar": "Contents",
   "toc_cell": false,
   "toc_position": {},
   "toc_section_display": "block",
   "toc_window_display": false
  }
 },
 "nbformat": 4,
 "nbformat_minor": 2
}
