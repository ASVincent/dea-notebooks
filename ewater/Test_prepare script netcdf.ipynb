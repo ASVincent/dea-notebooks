{
 "cells": [
  {
   "cell_type": "code",
   "execution_count": 1,
   "metadata": {
    "ExecuteTime": {
     "end_time": "2018-06-25T01:40:23.444970Z",
     "start_time": "2018-06-25T01:40:23.195812Z"
    }
   },
   "outputs": [],
   "source": [
    "import netCDF4\n",
    "import datetime"
   ]
  },
  {
   "cell_type": "code",
   "execution_count": 2,
   "metadata": {
    "ExecuteTime": {
     "end_time": "2018-06-25T01:40:23.898144Z",
     "start_time": "2018-06-25T01:40:23.894979Z"
    }
   },
   "outputs": [],
   "source": [
    "nc_image = '/g/data/u46/users/ext547/ewater/input_data/test/celsius_Tair_WFDEI_197901.nc'"
   ]
  },
  {
   "cell_type": "code",
   "execution_count": 9,
   "metadata": {
    "ExecuteTime": {
     "end_time": "2018-05-30T06:26:32.806332Z",
     "start_time": "2018-05-30T06:26:32.802777Z"
    }
   },
   "outputs": [],
   "source": [
    "# times = [datetime.datetime(2016, 10, 1)]\n",
    "# calendar = 'standard'\n",
    "# units = 'days since 1970-01-01 00:00'"
   ]
  },
  {
   "cell_type": "code",
   "execution_count": 3,
   "metadata": {
    "ExecuteTime": {
     "end_time": "2018-06-25T01:40:29.815100Z",
     "start_time": "2018-06-25T01:40:29.791100Z"
    }
   },
   "outputs": [],
   "source": [
    "image = netCDF4.Dataset(nc_image,'w')"
   ]
  },
  {
   "cell_type": "code",
   "execution_count": 20,
   "metadata": {
    "ExecuteTime": {
     "end_time": "2018-06-25T01:43:36.096081Z",
     "start_time": "2018-06-25T01:43:36.087326Z"
    }
   },
   "outputs": [
    {
     "ename": "NameError",
     "evalue": "name 'ncdump' is not defined",
     "output_type": "error",
     "traceback": [
      "\u001b[0;31m---------------------------------------------------------------------------\u001b[0m",
      "\u001b[0;31mNameError\u001b[0m                                 Traceback (most recent call last)",
      "\u001b[0;32m<ipython-input-20-2985a90fa864>\u001b[0m in \u001b[0;36m<module>\u001b[0;34m()\u001b[0m\n\u001b[0;32m----> 1\u001b[0;31m \u001b[0mncdump\u001b[0m\u001b[0;34m\u001b[0m\u001b[0m\n\u001b[0m",
      "\u001b[0;31mNameError\u001b[0m: name 'ncdump' is not defined"
     ]
    }
   ],
   "source": [
    "ncdump"
   ]
  },
  {
   "cell_type": "code",
   "execution_count": 11,
   "metadata": {
    "ExecuteTime": {
     "end_time": "2018-06-25T01:42:00.879509Z",
     "start_time": "2018-06-25T01:42:00.875000Z"
    }
   },
   "outputs": [
    {
     "data": {
      "text/plain": [
       "OrderedDict()"
      ]
     },
     "execution_count": 11,
     "metadata": {},
     "output_type": "execute_result"
    }
   ],
   "source": [
    "image.variables"
   ]
  },
  {
   "cell_type": "code",
   "execution_count": 6,
   "metadata": {
    "ExecuteTime": {
     "end_time": "2018-05-30T06:25:36.277686Z",
     "start_time": "2018-05-30T06:25:36.271246Z"
    }
   },
   "outputs": [],
   "source": [
    "timedim = image.createDimension(dimname='time', size=len(times))"
   ]
  },
  {
   "cell_type": "code",
   "execution_count": 8,
   "metadata": {
    "ExecuteTime": {
     "end_time": "2018-05-30T06:25:59.191728Z",
     "start_time": "2018-05-30T06:25:59.188087Z"
    }
   },
   "outputs": [],
   "source": [
    "timevar32 = image.createVariable(varname='time32', dimensions=('time',),\n",
    "                              datatype='float32')"
   ]
  },
  {
   "cell_type": "code",
   "execution_count": 10,
   "metadata": {
    "ExecuteTime": {
     "end_time": "2018-05-30T06:26:36.283972Z",
     "start_time": "2018-05-30T06:26:36.279024Z"
    }
   },
   "outputs": [],
   "source": [
    "timevar32[:] = netCDF4.date2num(times, units=units, calendar=calendar)"
   ]
  },
  {
   "cell_type": "code",
   "execution_count": 12,
   "metadata": {
    "ExecuteTime": {
     "end_time": "2018-05-30T06:35:36.815723Z",
     "start_time": "2018-05-30T06:35:36.811757Z"
    }
   },
   "outputs": [],
   "source": [
    "timevar64 = image.createVariable(varname='time64', dimensions=('time',),\n",
    "                              datatype='float64')"
   ]
  },
  {
   "cell_type": "code",
   "execution_count": 13,
   "metadata": {
    "ExecuteTime": {
     "end_time": "2018-05-30T06:35:47.897902Z",
     "start_time": "2018-05-30T06:35:47.892666Z"
    }
   },
   "outputs": [],
   "source": [
    "timevar64[:] = netCDF4.date2num(times, units=units, calendar=calendar)"
   ]
  },
  {
   "cell_type": "code",
   "execution_count": 15,
   "metadata": {
    "ExecuteTime": {
     "end_time": "2018-05-30T06:36:25.049131Z",
     "start_time": "2018-05-30T06:36:25.036681Z"
    }
   },
   "outputs": [
    {
     "name": "stdout",
     "output_type": "stream",
     "text": [
      "original   2016-10-01 00:00:00\n",
      "  32 bit   2016-10-01 00:00:00\n",
      "  64 bit   2016-10-01 00:00:00\n"
     ]
    }
   ],
   "source": [
    "# Read timestamps from netCDF file\n",
    "times32 = netCDF4.num2date(timevar32[:], units=units, calendar=calendar)\n",
    "times64 = netCDF4.num2date(timevar64[:], units=units, calendar=calendar)\n",
    "for time, time32, time64 in zip(times, times32, times64):\n",
    "    print (\"original  \", time)\n",
    "    print (\"  32 bit  \", time32)\n",
    "    print (\"  64 bit  \", time64)\n",
    "    print"
   ]
  },
  {
   "cell_type": "code",
   "execution_count": 17,
   "metadata": {
    "ExecuteTime": {
     "end_time": "2018-05-30T06:37:14.644053Z",
     "start_time": "2018-05-30T06:37:14.616317Z"
    }
   },
   "outputs": [],
   "source": [
    "image.close()"
   ]
  },
  {
   "cell_type": "code",
   "execution_count": 18,
   "metadata": {
    "ExecuteTime": {
     "end_time": "2018-05-30T06:39:47.380445Z",
     "start_time": "2018-05-30T06:39:45.517435Z"
    }
   },
   "outputs": [],
   "source": [
    "import xarray"
   ]
  },
  {
   "cell_type": "code",
   "execution_count": 22,
   "metadata": {
    "ExecuteTime": {
     "end_time": "2018-05-30T06:40:59.657854Z",
     "start_time": "2018-05-30T06:40:59.627744Z"
    }
   },
   "outputs": [],
   "source": [
    "x = xarray.open_dataset('/g/data/u46/users/ext547/ewater/input_data/DEM/hydrosheds-23971f650794033a0166/n10e105_con_bil/n10e105_con.nc')"
   ]
  },
  {
   "cell_type": "code",
   "execution_count": 23,
   "metadata": {
    "ExecuteTime": {
     "end_time": "2018-05-30T06:41:01.309751Z",
     "start_time": "2018-05-30T06:41:01.296584Z"
    }
   },
   "outputs": [
    {
     "data": {
      "text/plain": [
       "<xarray.Dataset>\n",
       "Dimensions:          (lat: 6000, lon: 6000)\n",
       "Coordinates:\n",
       "  * lon              (lon) float64 105.0 105.0 105.0 105.0 105.0 105.0 105.0 ...\n",
       "  * lat              (lat) float64 15.0 15.0 15.0 15.0 15.0 15.0 14.99 14.99 ...\n",
       "Data variables:\n",
       "    n10e105_con.bil  (lat, lon) float32 ...\n",
       "Attributes:\n",
       "    Conventions:      CF-1.0\n",
       "    Source_Software:  Esri ArcGIS"
      ]
     },
     "execution_count": 23,
     "metadata": {},
     "output_type": "execute_result"
    }
   ],
   "source": [
    "x"
   ]
  },
  {
   "cell_type": "code",
   "execution_count": 24,
   "metadata": {
    "ExecuteTime": {
     "end_time": "2018-05-30T06:41:40.891686Z",
     "start_time": "2018-05-30T06:41:40.888362Z"
    }
   },
   "outputs": [],
   "source": [
    "y = x.copy()"
   ]
  },
  {
   "cell_type": "code",
   "execution_count": 26,
   "metadata": {
    "ExecuteTime": {
     "end_time": "2018-05-30T06:43:29.855055Z",
     "start_time": "2018-05-30T06:43:29.845906Z"
    }
   },
   "outputs": [
    {
     "data": {
      "text/plain": [
       "[datetime.datetime(2016, 10, 1, 0, 0)]"
      ]
     },
     "execution_count": 26,
     "metadata": {},
     "output_type": "execute_result"
    }
   ],
   "source": [
    "times"
   ]
  },
  {
   "cell_type": "code",
   "execution_count": 29,
   "metadata": {
    "ExecuteTime": {
     "end_time": "2018-05-30T06:45:19.914246Z",
     "start_time": "2018-05-30T06:45:19.515989Z"
    }
   },
   "outputs": [
    {
     "ename": "MergeError",
     "evalue": "unable to determine if these variables should be coordinates or not in the merged result: {'time'}",
     "output_type": "error",
     "traceback": [
      "\u001b[0;31m---------------------------------------------------------------------------\u001b[0m",
      "\u001b[0;31mMergeError\u001b[0m                                Traceback (most recent call last)",
      "\u001b[0;32m<ipython-input-29-72e9d8735ccf>\u001b[0m in \u001b[0;36m<module>\u001b[0;34m()\u001b[0m\n\u001b[0;32m----> 1\u001b[0;31m \u001b[0mx\u001b[0m\u001b[0;34m[\u001b[0m\u001b[0;34m'time'\u001b[0m\u001b[0;34m]\u001b[0m \u001b[0;34m=\u001b[0m \u001b[0;34m(\u001b[0m\u001b[0;34m'time'\u001b[0m\u001b[0;34m,\u001b[0m \u001b[0mtimes\u001b[0m\u001b[0;34m)\u001b[0m\u001b[0;34m\u001b[0m\u001b[0m\n\u001b[0m",
      "\u001b[0;32m/g/data/v10/public/modules/dea-env/20180405/lib/python3.6/site-packages/xarray/core/dataset.py\u001b[0m in \u001b[0;36m__setitem__\u001b[0;34m(self, key, value)\u001b[0m\n\u001b[1;32m    890\u001b[0m                                       'to set Dataset values')\n\u001b[1;32m    891\u001b[0m \u001b[0;34m\u001b[0m\u001b[0m\n\u001b[0;32m--> 892\u001b[0;31m         \u001b[0mself\u001b[0m\u001b[0;34m.\u001b[0m\u001b[0mupdate\u001b[0m\u001b[0;34m(\u001b[0m\u001b[0;34m{\u001b[0m\u001b[0mkey\u001b[0m\u001b[0;34m:\u001b[0m \u001b[0mvalue\u001b[0m\u001b[0;34m}\u001b[0m\u001b[0;34m)\u001b[0m\u001b[0;34m\u001b[0m\u001b[0m\n\u001b[0m\u001b[1;32m    893\u001b[0m \u001b[0;34m\u001b[0m\u001b[0m\n\u001b[1;32m    894\u001b[0m     \u001b[0;32mdef\u001b[0m \u001b[0m__delitem__\u001b[0m\u001b[0;34m(\u001b[0m\u001b[0mself\u001b[0m\u001b[0;34m,\u001b[0m \u001b[0mkey\u001b[0m\u001b[0;34m)\u001b[0m\u001b[0;34m:\u001b[0m\u001b[0;34m\u001b[0m\u001b[0m\n",
      "\u001b[0;32m/g/data/v10/public/modules/dea-env/20180405/lib/python3.6/site-packages/xarray/core/dataset.py\u001b[0m in \u001b[0;36mupdate\u001b[0;34m(self, other, inplace)\u001b[0m\n\u001b[1;32m   2175\u001b[0m             \u001b[0mdataset\u001b[0m\u001b[0;34m.\u001b[0m\u001b[0;34m\u001b[0m\u001b[0m\n\u001b[1;32m   2176\u001b[0m         \"\"\"\n\u001b[0;32m-> 2177\u001b[0;31m         \u001b[0mvariables\u001b[0m\u001b[0;34m,\u001b[0m \u001b[0mcoord_names\u001b[0m\u001b[0;34m,\u001b[0m \u001b[0mdims\u001b[0m \u001b[0;34m=\u001b[0m \u001b[0mdataset_update_method\u001b[0m\u001b[0;34m(\u001b[0m\u001b[0mself\u001b[0m\u001b[0;34m,\u001b[0m \u001b[0mother\u001b[0m\u001b[0;34m)\u001b[0m\u001b[0;34m\u001b[0m\u001b[0m\n\u001b[0m\u001b[1;32m   2178\u001b[0m \u001b[0;34m\u001b[0m\u001b[0m\n\u001b[1;32m   2179\u001b[0m         return self._replace_vars_and_dims(variables, coord_names, dims,\n",
      "\u001b[0;32m/g/data/v10/public/modules/dea-env/20180405/lib/python3.6/site-packages/xarray/core/merge.py\u001b[0m in \u001b[0;36mdataset_update_method\u001b[0;34m(dataset, other)\u001b[0m\n\u001b[1;32m    550\u001b[0m     \u001b[0;34m\"\"\"Guts of the Dataset.update method\"\"\"\u001b[0m\u001b[0;34m\u001b[0m\u001b[0m\n\u001b[1;32m    551\u001b[0m     return merge_core([dataset, other], priority_arg=1,\n\u001b[0;32m--> 552\u001b[0;31m                       indexes=dataset.indexes)\n\u001b[0m",
      "\u001b[0;32m/g/data/v10/public/modules/dea-env/20180405/lib/python3.6/site-packages/xarray/core/merge.py\u001b[0m in \u001b[0;36mmerge_core\u001b[0;34m(objs, compat, join, priority_arg, explicit_coords, indexes)\u001b[0m\n\u001b[1;32m    445\u001b[0m         raise MergeError('unable to determine if these variables should be '\n\u001b[1;32m    446\u001b[0m                          \u001b[0;34m'coordinates or not in the merged result: %s'\u001b[0m\u001b[0;34m\u001b[0m\u001b[0m\n\u001b[0;32m--> 447\u001b[0;31m                          % ambiguous_coords)\n\u001b[0m\u001b[1;32m    448\u001b[0m \u001b[0;34m\u001b[0m\u001b[0m\n\u001b[1;32m    449\u001b[0m     \u001b[0;32mreturn\u001b[0m \u001b[0mvariables\u001b[0m\u001b[0;34m,\u001b[0m \u001b[0mcoord_names\u001b[0m\u001b[0;34m,\u001b[0m \u001b[0mdict\u001b[0m\u001b[0;34m(\u001b[0m\u001b[0mdims\u001b[0m\u001b[0;34m)\u001b[0m\u001b[0;34m\u001b[0m\u001b[0m\n",
      "\u001b[0;31mMergeError\u001b[0m: unable to determine if these variables should be coordinates or not in the merged result: {'time'}"
     ]
    }
   ],
   "source": [
    "x['time'] = ('time', times)"
   ]
  },
  {
   "cell_type": "code",
   "execution_count": 30,
   "metadata": {
    "ExecuteTime": {
     "end_time": "2018-05-30T06:45:20.187298Z",
     "start_time": "2018-05-30T06:45:20.174225Z"
    }
   },
   "outputs": [
    {
     "data": {
      "text/plain": [
       "<xarray.Dataset>\n",
       "Dimensions:          (lat: 6000, lon: 6000)\n",
       "Coordinates:\n",
       "  * lon              (lon) float64 105.0 105.0 105.0 105.0 105.0 105.0 105.0 ...\n",
       "  * lat              (lat) float64 15.0 15.0 15.0 15.0 15.0 15.0 14.99 14.99 ...\n",
       "Data variables:\n",
       "    n10e105_con.bil  (lat, lon) float32 ...\n",
       "    time             datetime64[ns] 2016-10-01\n",
       "Attributes:\n",
       "    Conventions:      CF-1.0\n",
       "    Source_Software:  Esri ArcGIS"
      ]
     },
     "execution_count": 30,
     "metadata": {},
     "output_type": "execute_result"
    }
   ],
   "source": [
    "x"
   ]
  },
  {
   "cell_type": "code",
   "execution_count": null,
   "metadata": {},
   "outputs": [],
   "source": []
  },
  {
   "cell_type": "code",
   "execution_count": null,
   "metadata": {},
   "outputs": [],
   "source": []
  },
  {
   "cell_type": "code",
   "execution_count": null,
   "metadata": {},
   "outputs": [],
   "source": []
  },
  {
   "cell_type": "code",
   "execution_count": null,
   "metadata": {},
   "outputs": [],
   "source": []
  }
 ],
 "metadata": {
  "kernelspec": {
   "display_name": "Python 3",
   "language": "python",
   "name": "python3"
  },
  "language_info": {
   "codemirror_mode": {
    "name": "ipython",
    "version": 3
   },
   "file_extension": ".py",
   "mimetype": "text/x-python",
   "name": "python",
   "nbconvert_exporter": "python",
   "pygments_lexer": "ipython3",
   "version": "3.6.5"
  },
  "toc": {
   "base_numbering": 1,
   "nav_menu": {},
   "number_sections": true,
   "sideBar": true,
   "skip_h1_title": false,
   "title_cell": "Table of Contents",
   "title_sidebar": "Contents",
   "toc_cell": false,
   "toc_position": {},
   "toc_section_display": true,
   "toc_window_display": false
  }
 },
 "nbformat": 4,
 "nbformat_minor": 2
}
