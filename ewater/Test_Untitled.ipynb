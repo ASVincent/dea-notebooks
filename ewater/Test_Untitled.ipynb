{
 "cells": [
  {
   "cell_type": "code",
   "execution_count": 5,
   "metadata": {
    "ExecuteTime": {
     "end_time": "2018-05-23T05:39:15.628247Z",
     "start_time": "2018-05-23T05:39:15.624404Z"
    }
   },
   "outputs": [],
   "source": [
    "from gdal import *"
   ]
  },
  {
   "cell_type": "code",
   "execution_count": 8,
   "metadata": {
    "ExecuteTime": {
     "end_time": "2018-05-23T05:41:55.466480Z",
     "start_time": "2018-05-23T05:41:55.455018Z"
    }
   },
   "outputs": [
    {
     "ename": "NameError",
     "evalue": "name 'gdal_calc' is not defined",
     "output_type": "error",
     "traceback": [
      "\u001b[0;31m---------------------------------------------------------------------------\u001b[0m",
      "\u001b[0;31mNameError\u001b[0m                                 Traceback (most recent call last)",
      "\u001b[0;32m<ipython-input-8-bb56434714a4>\u001b[0m in \u001b[0;36m<module>\u001b[0;34m()\u001b[0m\n\u001b[0;32m----> 1\u001b[0;31m \u001b[0mhelp\u001b[0m\u001b[0;34m(\u001b[0m\u001b[0mgdal_calc\u001b[0m\u001b[0;34m.\u001b[0m\u001b[0mpy\u001b[0m\u001b[0;34m)\u001b[0m\u001b[0;34m\u001b[0m\u001b[0m\n\u001b[0m",
      "\u001b[0;31mNameError\u001b[0m: name 'gdal_calc' is not defined"
     ]
    }
   ],
   "source": [
    "help(gdal."
   ]
  },
  {
   "cell_type": "code",
   "execution_count": 2,
   "metadata": {
    "ExecuteTime": {
     "end_time": "2018-05-04T00:47:39.460109Z",
     "start_time": "2018-05-04T00:47:39.332967Z"
    }
   },
   "outputs": [],
   "source": [
    "from datacube import Datacube\n",
    "# from matplotlib import pyplot as plt\n",
    "import numpy as np\n",
    "from skimage import exposure\n",
    "import matplotlib.pyplot as plt\n",
    "from datacube_stats.statistics import GeoMedian\n",
    "cdc = Datacube(config='/g/data/u46/users/ext547/ewater/cambodia_cube/cambodia.conf')\n",
    "from datacube.storage import masking\n",
    "from datacube.storage.masking import mask_to_dict"
   ]
  },
  {
   "cell_type": "code",
   "execution_count": 5,
   "metadata": {
    "ExecuteTime": {
     "end_time": "2018-05-02T03:50:55.801654Z",
     "start_time": "2018-05-02T03:50:55.758254Z"
    }
   },
   "outputs": [
    {
     "data": {
      "text/html": [
       "<div>\n",
       "<style scoped>\n",
       "    .dataframe tbody tr th:only-of-type {\n",
       "        vertical-align: middle;\n",
       "    }\n",
       "\n",
       "    .dataframe tbody tr th {\n",
       "        vertical-align: top;\n",
       "    }\n",
       "\n",
       "    .dataframe thead th {\n",
       "        text-align: right;\n",
       "    }\n",
       "</style>\n",
       "<table border=\"1\" class=\"dataframe\">\n",
       "  <thead>\n",
       "    <tr style=\"text-align: right;\">\n",
       "      <th></th>\n",
       "      <th>name</th>\n",
       "      <th>description</th>\n",
       "      <th>lat</th>\n",
       "      <th>product_type</th>\n",
       "      <th>time</th>\n",
       "      <th>instrument</th>\n",
       "      <th>platform</th>\n",
       "      <th>lon</th>\n",
       "      <th>format</th>\n",
       "      <th>crs</th>\n",
       "      <th>resolution</th>\n",
       "      <th>tile_size</th>\n",
       "      <th>spatial_dimensions</th>\n",
       "    </tr>\n",
       "    <tr>\n",
       "      <th>id</th>\n",
       "      <th></th>\n",
       "      <th></th>\n",
       "      <th></th>\n",
       "      <th></th>\n",
       "      <th></th>\n",
       "      <th></th>\n",
       "      <th></th>\n",
       "      <th></th>\n",
       "      <th></th>\n",
       "      <th></th>\n",
       "      <th></th>\n",
       "      <th></th>\n",
       "      <th></th>\n",
       "    </tr>\n",
       "  </thead>\n",
       "  <tbody>\n",
       "    <tr>\n",
       "      <th>6</th>\n",
       "      <td>ls5_usgs_sr_scene</td>\n",
       "      <td>Landsat 5 USGS Collection 1 Level2 Surface Ref...</td>\n",
       "      <td>None</td>\n",
       "      <td>LEDAPS</td>\n",
       "      <td>None</td>\n",
       "      <td>TM</td>\n",
       "      <td>LANDSAT_5</td>\n",
       "      <td>None</td>\n",
       "      <td>GeoTiff</td>\n",
       "      <td>PROJCS[\"WGS 84\",GEOGCS[\"WGS 84\",DATUM[\"WGS_198...</td>\n",
       "      <td>[-30, 30]</td>\n",
       "      <td>None</td>\n",
       "      <td>(y, x)</td>\n",
       "    </tr>\n",
       "    <tr>\n",
       "      <th>2</th>\n",
       "      <td>ls7_usgs_sr_scene</td>\n",
       "      <td>Landsat 7 USGS Collection 1 Level2 Surface Ref...</td>\n",
       "      <td>None</td>\n",
       "      <td>LEDAPS</td>\n",
       "      <td>None</td>\n",
       "      <td>ETM</td>\n",
       "      <td>LANDSAT_7</td>\n",
       "      <td>None</td>\n",
       "      <td>GeoTiff</td>\n",
       "      <td>PROJCS[\"WGS 84\",GEOGCS[\"WGS 84\",DATUM[\"WGS_198...</td>\n",
       "      <td>[-30, 30]</td>\n",
       "      <td>None</td>\n",
       "      <td>(y, x)</td>\n",
       "    </tr>\n",
       "    <tr>\n",
       "      <th>1</th>\n",
       "      <td>ls8_usgs_sr_scene</td>\n",
       "      <td>Landsat 8 USGS Collection 1 Level2 Surface Ref...</td>\n",
       "      <td>None</td>\n",
       "      <td>LaSRC</td>\n",
       "      <td>None</td>\n",
       "      <td>OLI_TIRS</td>\n",
       "      <td>LANDSAT_8</td>\n",
       "      <td>None</td>\n",
       "      <td>GeoTiff</td>\n",
       "      <td>PROJCS[\"WGS 84\",GEOGCS[\"WGS 84\",DATUM[\"WGS_198...</td>\n",
       "      <td>[-30, 30]</td>\n",
       "      <td>None</td>\n",
       "      <td>(y, x)</td>\n",
       "    </tr>\n",
       "    <tr>\n",
       "      <th>5</th>\n",
       "      <td>ls_level2_geomedian_annual</td>\n",
       "      <td>Landsat Level-2 Annual GeoMedian</td>\n",
       "      <td>None</td>\n",
       "      <td>surface_reflectance_statistical_summary</td>\n",
       "      <td>None</td>\n",
       "      <td>None</td>\n",
       "      <td>None</td>\n",
       "      <td>None</td>\n",
       "      <td>NaN</td>\n",
       "      <td>EPSG:32648</td>\n",
       "      <td>[-30, 30]</td>\n",
       "      <td>[30720.0, 30720.0]</td>\n",
       "      <td>(y, x)</td>\n",
       "    </tr>\n",
       "    <tr>\n",
       "      <th>7</th>\n",
       "      <td>rainfall_grids_1998_2017</td>\n",
       "      <td>Interpolated Rain Precipitation 3-hour values ...</td>\n",
       "      <td>None</td>\n",
       "      <td>rainfall</td>\n",
       "      <td>None</td>\n",
       "      <td>rain gauge</td>\n",
       "      <td>rain</td>\n",
       "      <td>None</td>\n",
       "      <td>NETCDF</td>\n",
       "      <td>EPSG:4326</td>\n",
       "      <td>[-0.25, 0.25]</td>\n",
       "      <td>None</td>\n",
       "      <td>(latitude, longitude)</td>\n",
       "    </tr>\n",
       "  </tbody>\n",
       "</table>\n",
       "</div>"
      ],
      "text/plain": [
       "                          name  \\\n",
       "id                               \n",
       "6            ls5_usgs_sr_scene   \n",
       "2            ls7_usgs_sr_scene   \n",
       "1            ls8_usgs_sr_scene   \n",
       "5   ls_level2_geomedian_annual   \n",
       "7     rainfall_grids_1998_2017   \n",
       "\n",
       "                                          description   lat  \\\n",
       "id                                                            \n",
       "6   Landsat 5 USGS Collection 1 Level2 Surface Ref...  None   \n",
       "2   Landsat 7 USGS Collection 1 Level2 Surface Ref...  None   \n",
       "1   Landsat 8 USGS Collection 1 Level2 Surface Ref...  None   \n",
       "5                    Landsat Level-2 Annual GeoMedian  None   \n",
       "7   Interpolated Rain Precipitation 3-hour values ...  None   \n",
       "\n",
       "                               product_type  time  instrument   platform  \\\n",
       "id                                                                         \n",
       "6                                    LEDAPS  None          TM  LANDSAT_5   \n",
       "2                                    LEDAPS  None         ETM  LANDSAT_7   \n",
       "1                                     LaSRC  None    OLI_TIRS  LANDSAT_8   \n",
       "5   surface_reflectance_statistical_summary  None        None       None   \n",
       "7                                  rainfall  None  rain gauge       rain   \n",
       "\n",
       "     lon   format                                                crs  \\\n",
       "id                                                                     \n",
       "6   None  GeoTiff  PROJCS[\"WGS 84\",GEOGCS[\"WGS 84\",DATUM[\"WGS_198...   \n",
       "2   None  GeoTiff  PROJCS[\"WGS 84\",GEOGCS[\"WGS 84\",DATUM[\"WGS_198...   \n",
       "1   None  GeoTiff  PROJCS[\"WGS 84\",GEOGCS[\"WGS 84\",DATUM[\"WGS_198...   \n",
       "5   None      NaN                                         EPSG:32648   \n",
       "7   None   NETCDF                                          EPSG:4326   \n",
       "\n",
       "       resolution           tile_size     spatial_dimensions  \n",
       "id                                                            \n",
       "6       [-30, 30]                None                 (y, x)  \n",
       "2       [-30, 30]                None                 (y, x)  \n",
       "1       [-30, 30]                None                 (y, x)  \n",
       "5       [-30, 30]  [30720.0, 30720.0]                 (y, x)  \n",
       "7   [-0.25, 0.25]                None  (latitude, longitude)  "
      ]
     },
     "execution_count": 5,
     "metadata": {},
     "output_type": "execute_result"
    }
   ],
   "source": [
    "cdc.list_products()\n",
    "#cdc.list_measurements()"
   ]
  },
  {
   "cell_type": "code",
   "execution_count": 3,
   "metadata": {
    "ExecuteTime": {
     "end_time": "2018-05-04T00:47:41.596433Z",
     "start_time": "2018-05-04T00:47:41.560989Z"
    }
   },
   "outputs": [
    {
     "data": {
      "text/plain": [
       "[]"
      ]
     },
     "execution_count": 3,
     "metadata": {},
     "output_type": "execute_result"
    }
   ],
   "source": [
    "gm_datasets = cdc.find_datasets(product='ls_level2_geomedian_annual')\n",
    "gm_datasets"
   ]
  },
  {
   "cell_type": "code",
   "execution_count": 32,
   "metadata": {
    "ExecuteTime": {
     "end_time": "2018-05-03T04:28:14.752124Z",
     "start_time": "2018-05-03T04:28:14.745644Z"
    }
   },
   "outputs": [
    {
     "name": "stdout",
     "output_type": "stream",
     "text": [
      "{'time': ('2014-01-01', '2014-01-01'), 'x': (103.001, 103.002), 'y': (13.002, 13.001), 'crs': 'EPSG:4326'}\n"
     ]
    }
   ],
   "source": [
    "lat_min = 13.001 #down\n",
    "lat_max = 13.002 #up\n",
    "lon_min = 103.001 #left\n",
    "lon_max = 103.002 #right  \n",
    "\n",
    "start_of_epoch = '2015-01-01'\n",
    "end_of_epoch =  '2015-01-01'\n",
    "#query is created\n",
    "query = {'time': (start_of_epoch, end_of_epoch),}\n",
    "query['x'] = (lon_min, lon_max)\n",
    "query['y'] = (lat_max, lat_min)\n",
    "query['crs'] = 'EPSG:4326'\n",
    "\n",
    "print(query)"
   ]
  },
  {
   "cell_type": "code",
   "execution_count": 33,
   "metadata": {
    "ExecuteTime": {
     "end_time": "2018-05-03T04:28:18.744438Z",
     "start_time": "2018-05-03T04:28:18.478901Z"
    }
   },
   "outputs": [],
   "source": [
    "test02= cdc.load(product='ls_level2_geomedian_annual', **query)"
   ]
  },
  {
   "cell_type": "code",
   "execution_count": 36,
   "metadata": {
    "ExecuteTime": {
     "end_time": "2018-05-03T04:28:40.594555Z",
     "start_time": "2018-05-03T04:28:40.569741Z"
    }
   },
   "outputs": [
    {
     "data": {
      "text/plain": [
       "<xarray.Dataset>\n",
       "Dimensions:  (time: 1, x: 5, y: 5)\n",
       "Coordinates:\n",
       "  * time     (time) datetime64[ns] 2014-01-01\n",
       "  * y        (y) float64 1.438e+06 1.438e+06 1.438e+06 1.438e+06 1.438e+06\n",
       "  * x        (x) float64 2.832e+05 2.832e+05 2.832e+05 2.833e+05 2.833e+05\n",
       "Data variables:\n",
       "    blue     (time, y, x) int16 813 767 772 760 748 716 750 751 756 775 627 ...\n",
       "    green    (time, y, x) int16 1120 1069 1063 1054 1110 1034 1082 1060 1080 ...\n",
       "    red      (time, y, x) int16 1385 1339 1303 1297 1350 1274 1332 1315 1320 ...\n",
       "    nir      (time, y, x) int16 2540 2467 2485 2526 2675 2512 2577 2543 2581 ...\n",
       "    swir1    (time, y, x) int16 3421 3351 3347 3368 3452 3305 3367 3385 3326 ...\n",
       "    swir2    (time, y, x) int16 2485 2412 2380 2386 2391 2386 2436 2414 2365 ...\n",
       "Attributes:\n",
       "    crs:      EPSG:32648"
      ]
     },
     "execution_count": 36,
     "metadata": {},
     "output_type": "execute_result"
    }
   ],
   "source": [
    "test02"
   ]
  },
  {
   "cell_type": "code",
   "execution_count": 22,
   "metadata": {
    "ExecuteTime": {
     "end_time": "2018-05-03T00:43:50.849816Z",
     "start_time": "2018-05-03T00:43:50.715265Z"
    }
   },
   "outputs": [
    {
     "name": "stdout",
     "output_type": "stream",
     "text": [
      "\u001b[0m\u001b[01;35m/g/data/u46/users/ext547/ewater/cambodia_cube/1_geomedian/output_2007/ls_level2/ls_level2_nbart_9_46_20070101.tif\u001b[0m\u001b[K\r\n",
      "\u001b[m"
     ]
    }
   ],
   "source": [
    "ls /g/data/u46/users/ext547/ewater/cambodia_cube/1_geomedian/output_2007/ls_level2/ls_level2_nbart_9_46_20070101.tif"
   ]
  },
  {
   "cell_type": "code",
   "execution_count": null,
   "metadata": {},
   "outputs": [],
   "source": []
  }
 ],
 "metadata": {
  "kernelspec": {
   "display_name": "Python 3",
   "language": "python",
   "name": "python3"
  },
  "language_info": {
   "codemirror_mode": {
    "name": "ipython",
    "version": 3
   },
   "file_extension": ".py",
   "mimetype": "text/x-python",
   "name": "python",
   "nbconvert_exporter": "python",
   "pygments_lexer": "ipython3",
   "version": "3.6.5"
  },
  "toc": {
   "base_numbering": 1,
   "nav_menu": {},
   "number_sections": true,
   "sideBar": true,
   "skip_h1_title": false,
   "title_cell": "Table of Contents",
   "title_sidebar": "Contents",
   "toc_cell": false,
   "toc_position": {},
   "toc_section_display": true,
   "toc_window_display": false
  }
 },
 "nbformat": 4,
 "nbformat_minor": 2
}
