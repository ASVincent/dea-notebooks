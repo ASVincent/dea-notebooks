{
 "cells": [
  {
   "cell_type": "code",
   "execution_count": 1,
   "metadata": {
    "ExecuteTime": {
     "end_time": "2018-06-25T23:37:15.556349Z",
     "start_time": "2018-06-25T23:37:13.003599Z"
    }
   },
   "outputs": [],
   "source": [
    "import xarray as xr\n",
    "import datetime\n",
    "import numpy as np\n",
    "from matplotlib import pyplot as plt"
   ]
  },
  {
   "cell_type": "code",
   "execution_count": 4,
   "metadata": {
    "ExecuteTime": {
     "end_time": "2018-06-25T23:37:32.034925Z",
     "start_time": "2018-06-25T23:37:31.912642Z"
    }
   },
   "outputs": [
    {
     "name": "stdout",
     "output_type": "stream",
     "text": [
      "celsius_Tair_WFDEI_197901.nc\r\n"
     ]
    }
   ],
   "source": [
    "! ls /g/data/u46/users/ext547/ewater/input_data/test"
   ]
  },
  {
   "cell_type": "code",
   "execution_count": 7,
   "metadata": {
    "ExecuteTime": {
     "end_time": "2018-06-25T23:37:56.544168Z",
     "start_time": "2018-06-25T23:37:56.541254Z"
    }
   },
   "outputs": [],
   "source": [
    "input_folder = '/g/data/u46/users/ext547/ewater/input_data/test/'\n",
    "input_file = 'celsius_Tair_WFDEI_197901.nc'"
   ]
  },
  {
   "cell_type": "code",
   "execution_count": 8,
   "metadata": {
    "ExecuteTime": {
     "end_time": "2018-06-25T23:37:57.307201Z",
     "start_time": "2018-06-25T23:37:57.245138Z"
    }
   },
   "outputs": [],
   "source": [
    "con = xr.open_dataset(input_folder+input_file,decode_times=False)"
   ]
  },
  {
   "cell_type": "code",
   "execution_count": 9,
   "metadata": {
    "ExecuteTime": {
     "end_time": "2018-06-25T23:37:59.865513Z",
     "start_time": "2018-06-25T23:37:59.844361Z"
    }
   },
   "outputs": [
    {
     "data": {
      "text/plain": [
       "<xarray.DataArray 'Tair' (tstep: 248, lat: 13, lon: 14)>\n",
       "array([[[      nan,       nan, ...,       nan,       nan],\n",
       "        [      nan,       nan, ...,       nan,       nan],\n",
       "        ...,\n",
       "        [20.563867, 19.858423, ..., 18.183344, 18.695032],\n",
       "        [20.408868, 19.577509, ..., 17.551447, 19.869196]],\n",
       "\n",
       "       [[      nan,       nan, ...,       nan,       nan],\n",
       "        [      nan,       nan, ...,       nan,       nan],\n",
       "        ...,\n",
       "        [26.755975, 25.997369, ..., 22.015283, 21.29397 ],\n",
       "        [26.503442, 25.660516, ..., 20.702905, 22.072809]],\n",
       "\n",
       "       ...,\n",
       "\n",
       "       [[      nan,       nan, ...,       nan,       nan],\n",
       "        [      nan,       nan, ...,       nan,       nan],\n",
       "        ...,\n",
       "        [19.549127, 17.684015, ..., 14.427728, 14.537683],\n",
       "        [18.656824, 17.108118, ..., 13.055963, 15.350122]],\n",
       "\n",
       "       [[      nan,       nan, ...,       nan,       nan],\n",
       "        [      nan,       nan, ...,       nan,       nan],\n",
       "        ...,\n",
       "        [11.69613 , 10.858698, ..., 14.18551 , 14.2362  ],\n",
       "        [11.517755, 12.078882, ..., 12.660333, 15.012781]]])\n",
       "Coordinates:\n",
       "  * lat      (lat) float32 9.25 9.75 10.25 10.75 11.25 11.75 12.25 12.75 ...\n",
       "  * lon      (lon) float32 101.75 102.25 102.75 103.25 103.75 104.25 104.75 ...\n",
       "Dimensions without coordinates: tstep\n",
       "Attributes:\n",
       "    actual_max:  39.18401489257815\n",
       "    actual_min:  10.858697509765648\n",
       "    long_name:   Near surface air temperature at 2 m at time stamp\n",
       "    title:       Tair\n",
       "    units:       C"
      ]
     },
     "execution_count": 9,
     "metadata": {},
     "output_type": "execute_result"
    }
   ],
   "source": [
    "con.Tair#.isel(tstep = 1)"
   ]
  },
  {
   "cell_type": "code",
   "execution_count": 116,
   "metadata": {
    "ExecuteTime": {
     "end_time": "2018-06-25T03:59:27.633412Z",
     "start_time": "2018-06-25T03:59:27.625254Z"
    }
   },
   "outputs": [],
   "source": [
    "# con.Tair.attrs['nodata'] = 'nan'\n",
    "con02['Tair'] = con.Tair.where(con.Tair<1000)\n",
    "# con02 = con02.fillna(-9999)"
   ]
  },
  {
   "cell_type": "code",
   "execution_count": 117,
   "metadata": {
    "ExecuteTime": {
     "end_time": "2018-06-25T03:59:29.041173Z",
     "start_time": "2018-06-25T03:59:29.019598Z"
    }
   },
   "outputs": [
    {
     "data": {
      "text/plain": [
       "<xarray.Dataset>\n",
       "Dimensions:    (bnds: 2, lat: 13, lon: 14, time: 1)\n",
       "Coordinates:\n",
       "  * time       (time) float64 3.78e+04\n",
       "  * lon        (lon) float32 101.75 102.25 102.75 103.25 103.75 104.25 ...\n",
       "  * lat        (lat) float32 9.25 9.75 10.25 10.75 11.25 11.75 12.25 12.75 ...\n",
       "Dimensions without coordinates: bnds\n",
       "Data variables:\n",
       "    time_bnds  (time, bnds, lat, lon) float64 0.0 0.0 0.0 0.0 0.0 0.0 0.0 ...\n",
       "    Tair       (time, lat, lon) float64 nan nan nan nan nan nan 25.89 26.39 ...\n",
       "    timestp    (time, lat, lon) float64 4.0 4.0 4.0 4.0 4.0 4.0 4.0 4.0 4.0 ...\n",
       "Attributes:\n",
       "    CDI:                       Climate Data Interface version 1.9.2 (http://m...\n",
       "    Conventions:               CF-1.6\n",
       "    history:                   Fri Jun 15 13:20:03 2018: cdo -splitsel,1 /g/d...\n",
       "    Title:                     WATCH Forcing Data methodology applied \\nto ER...\n",
       "    Note1:                     EI data regridded to half degree regular lat-lon\n",
       "    Note2:                     Genuine land points from CRU grid only\n",
       "    Note3:                     Tair elevation & bias-corrected using \\nCRU TS...\n",
       "    Info1:                     www.ecmwf.int/products/data/archive \\n        ...\n",
       "    Info2:                     http://badc.nerc.ac.uk/browse/badc/cru \\n     ...\n",
       "    Methodology::              Weedon et al 2011 J.Hydromet. 12, 823-848 \\n  ...\n",
       "    Institution:               Met Office, JCHMR, Wallingford, UK\n",
       "    History:                   Fri May 25 10:28:34 2018: ncap2 -s Tair=Tair-2...\n",
       "    Contact:                   graham.weedon@metoffice.gov.uk\n",
       "    NCO:                       4.3.7\n",
       "    nco_openmp_thread_number:  1\n",
       "    frequency:                 day\n",
       "    CDO:                       Climate Data Operators version 1.9.2 (http://m..."
      ]
     },
     "execution_count": 117,
     "metadata": {},
     "output_type": "execute_result"
    }
   ],
   "source": [
    "con02"
   ]
  },
  {
   "cell_type": "code",
   "execution_count": 119,
   "metadata": {
    "ExecuteTime": {
     "end_time": "2018-06-25T03:59:56.676113Z",
     "start_time": "2018-06-25T03:59:56.670477Z"
    }
   },
   "outputs": [],
   "source": [
    "con['Tair']=con02.Tair"
   ]
  },
  {
   "cell_type": "code",
   "execution_count": 120,
   "metadata": {
    "ExecuteTime": {
     "end_time": "2018-06-25T03:59:58.261732Z",
     "start_time": "2018-06-25T03:59:58.240849Z"
    }
   },
   "outputs": [
    {
     "data": {
      "text/plain": [
       "<xarray.Dataset>\n",
       "Dimensions:    (bnds: 2, lat: 13, lon: 14, time: 1)\n",
       "Coordinates:\n",
       "  * time       (time) float64 3.78e+04\n",
       "  * lon        (lon) float32 101.75 102.25 102.75 103.25 103.75 104.25 ...\n",
       "  * lat        (lat) float32 9.25 9.75 10.25 10.75 11.25 11.75 12.25 12.75 ...\n",
       "Dimensions without coordinates: bnds\n",
       "Data variables:\n",
       "    time_bnds  (time, bnds) float64 0.0 7.56e+04\n",
       "    Tair       (time, lat, lon) float64 nan nan nan nan nan nan 25.89 26.39 ...\n",
       "    timestp    (time) int32 ...\n",
       "Attributes:\n",
       "    CDI:                       Climate Data Interface version 1.9.2 (http://m...\n",
       "    Conventions:               CF-1.6\n",
       "    history:                   Fri Jun 15 13:20:03 2018: cdo -splitsel,1 /g/d...\n",
       "    Title:                     WATCH Forcing Data methodology applied \\nto ER...\n",
       "    Note1:                     EI data regridded to half degree regular lat-lon\n",
       "    Note2:                     Genuine land points from CRU grid only\n",
       "    Note3:                     Tair elevation & bias-corrected using \\nCRU TS...\n",
       "    Info1:                     www.ecmwf.int/products/data/archive \\n        ...\n",
       "    Info2:                     http://badc.nerc.ac.uk/browse/badc/cru \\n     ...\n",
       "    Methodology::              Weedon et al 2011 J.Hydromet. 12, 823-848 \\n  ...\n",
       "    Institution:               Met Office, JCHMR, Wallingford, UK\n",
       "    History:                   Fri May 25 10:28:34 2018: ncap2 -s Tair=Tair-2...\n",
       "    Contact:                   graham.weedon@metoffice.gov.uk\n",
       "    NCO:                       4.3.7\n",
       "    nco_openmp_thread_number:  1\n",
       "    frequency:                 day\n",
       "    CDO:                       Climate Data Operators version 1.9.2 (http://m..."
      ]
     },
     "execution_count": 120,
     "metadata": {},
     "output_type": "execute_result"
    }
   ],
   "source": [
    "con"
   ]
  },
  {
   "cell_type": "code",
   "execution_count": 121,
   "metadata": {
    "ExecuteTime": {
     "end_time": "2018-06-25T04:00:15.305722Z",
     "start_time": "2018-06-25T04:00:15.279576Z"
    }
   },
   "outputs": [],
   "source": [
    "con.to_netcdf(path = input_folder+input_file+'_output.nc')"
   ]
  },
  {
   "cell_type": "code",
   "execution_count": 9,
   "metadata": {
    "ExecuteTime": {
     "end_time": "2018-06-19T01:51:55.739357Z",
     "start_time": "2018-06-19T01:51:55.616496Z"
    }
   },
   "outputs": [
    {
     "name": "stdout",
     "output_type": "stream",
     "text": [
      "Cambodia_con_DEM.nc  Cambodia_con_DEM_nc.nc  ss\r\n"
     ]
    }
   ],
   "source": [
    "# ! ls /g/data/u46/users/ext547/ewater/input_data/DEM/"
   ]
  },
  {
   "cell_type": "code",
   "execution_count": null,
   "metadata": {},
   "outputs": [],
   "source": []
  }
 ],
 "metadata": {
  "kernelspec": {
   "display_name": "Python 3",
   "language": "python",
   "name": "python3"
  },
  "language_info": {
   "codemirror_mode": {
    "name": "ipython",
    "version": 3
   },
   "file_extension": ".py",
   "mimetype": "text/x-python",
   "name": "python",
   "nbconvert_exporter": "python",
   "pygments_lexer": "ipython3",
   "version": "3.6.5"
  }
 },
 "nbformat": 4,
 "nbformat_minor": 2
}
