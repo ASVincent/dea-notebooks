{
 "cells": [
  {
   "cell_type": "markdown",
   "metadata": {},
   "source": [
    "# Inport Libraries"
   ]
  },
  {
   "cell_type": "code",
   "execution_count": 75,
   "metadata": {
    "ExecuteTime": {
     "end_time": "2018-06-08T01:32:20.906197Z",
     "start_time": "2018-06-08T01:32:20.902559Z"
    }
   },
   "outputs": [],
   "source": [
    "import numpy as np\n",
    "import pandas as pd\n",
    "import math as mt\n",
    "from datetime import *\n",
    "import calendar\n",
    "import netCDF4 as nc\n",
    "import xarray as xr"
   ]
  },
  {
   "cell_type": "code",
   "execution_count": 5,
   "metadata": {
    "ExecuteTime": {
     "end_time": "2018-06-08T00:33:45.092946Z",
     "start_time": "2018-06-08T00:33:45.089277Z"
    }
   },
   "outputs": [],
   "source": [
    "input_folder = '/g/data/u46/users/ext547/ewater/input_data/test/'\n",
    "min_nc = 'min_celsius_Tair_WFDEI_201612.nc'\n",
    "max_nc = 'max_celsius_Tair_WFDEI_201612.nc'\n",
    "mean_nc = 'mean_celsius_Tair_WFDEI_201612.nc'"
   ]
  },
  {
   "cell_type": "markdown",
   "metadata": {
    "ExecuteTime": {
     "end_time": "2018-06-05T02:20:47.387985Z",
     "start_time": "2018-06-05T02:20:47.263435Z"
    }
   },
   "source": [
    "# Input variables and reformat datatypes"
   ]
  },
  {
   "cell_type": "code",
   "execution_count": 6,
   "metadata": {
    "ExecuteTime": {
     "end_time": "2018-06-08T00:33:45.844001Z",
     "start_time": "2018-06-08T00:33:45.825041Z"
    }
   },
   "outputs": [],
   "source": [
    "min_xr = xr.open_dataset(input_folder+min_nc, decode_times=False)\n",
    "mean_xr = xr.open_dataset(input_folder+mean_nc, decode_times=False)\n",
    "max_xr = xr.open_dataset(input_folder+max_nc, decode_times=False)"
   ]
  },
  {
   "cell_type": "code",
   "execution_count": 47,
   "metadata": {
    "ExecuteTime": {
     "end_time": "2018-06-08T01:22:04.108320Z",
     "start_time": "2018-06-08T01:22:04.103856Z"
    }
   },
   "outputs": [],
   "source": [
    "# lat_shape = float(min_xr.lat.shape[0])\n",
    "# lon_shape = float(min_xr.lon.shape[0])"
   ]
  },
  {
   "cell_type": "code",
   "execution_count": 20,
   "metadata": {
    "ExecuteTime": {
     "end_time": "2018-06-08T01:00:24.406816Z",
     "start_time": "2018-06-08T01:00:24.403894Z"
    }
   },
   "outputs": [],
   "source": [
    "# for blah in min_xr.Tair:\n",
    "#     print(print(blah.lat\n",
    "    "
   ]
  },
  {
   "cell_type": "code",
   "execution_count": 48,
   "metadata": {
    "ExecuteTime": {
     "end_time": "2018-06-08T01:22:11.039870Z",
     "start_time": "2018-06-08T01:22:11.033143Z"
    }
   },
   "outputs": [],
   "source": [
    "# min_xr.isel(time=0,lat = 0, lon = 0).Tair"
   ]
  },
  {
   "cell_type": "code",
   "execution_count": 49,
   "metadata": {
    "ExecuteTime": {
     "end_time": "2018-06-08T01:22:18.959491Z",
     "start_time": "2018-06-08T01:22:18.956543Z"
    }
   },
   "outputs": [],
   "source": [
    "# result_array = np.empty((10, 10))\n",
    "\n",
    "# num = 1\n",
    "\n",
    "# for line in data_array:\n",
    "#     result = do_stuff(line)\n",
    "#     result_array = np.append(result_array, [result], axis=0)"
   ]
  },
  {
   "cell_type": "code",
   "execution_count": 134,
   "metadata": {
    "ExecuteTime": {
     "end_time": "2018-06-08T01:57:12.631786Z",
     "start_time": "2018-06-08T01:57:12.627200Z"
    }
   },
   "outputs": [
    {
     "data": {
      "text/plain": [
       "numpy.datetime64('2016-12-01T10:30:00.000000000')"
      ]
     },
     "execution_count": 134,
     "metadata": {},
     "output_type": "execute_result"
    }
   ],
   "source": [
    " time.values[0]"
   ]
  },
  {
   "cell_type": "code",
   "execution_count": 129,
   "metadata": {
    "ExecuteTime": {
     "end_time": "2018-06-08T01:54:00.313607Z",
     "start_time": "2018-06-08T01:54:00.289640Z"
    }
   },
   "outputs": [
    {
     "ename": "OverflowError",
     "evalue": "normalized days too large to fit in a C int",
     "output_type": "error",
     "traceback": [
      "\u001b[0;31m---------------------------------------------------------------------------\u001b[0m",
      "\u001b[0;31mOverflowError\u001b[0m                             Traceback (most recent call last)",
      "\u001b[0;32m<ipython-input-129-d19d7d38aebf>\u001b[0m in \u001b[0;36m<module>\u001b[0;34m()\u001b[0m\n\u001b[0;32m----> 1\u001b[0;31m \u001b[0;34m[\u001b[0m\u001b[0mto_date\u001b[0m\u001b[0;34m(\u001b[0m\u001b[0mepoch\u001b[0m\u001b[0;34m,\u001b[0m \u001b[0mtime_unit\u001b[0m\u001b[0;34m)\u001b[0m \u001b[0;32mfor\u001b[0m \u001b[0mepoch\u001b[0m \u001b[0;32min\u001b[0m \u001b[0mtime\u001b[0m\u001b[0;34m.\u001b[0m\u001b[0mvalues\u001b[0m\u001b[0;34m.\u001b[0m\u001b[0mtolist\u001b[0m\u001b[0;34m(\u001b[0m\u001b[0;34m)\u001b[0m\u001b[0;34m]\u001b[0m\u001b[0;34m\u001b[0m\u001b[0m\n\u001b[0m",
      "\u001b[0;32m<ipython-input-129-d19d7d38aebf>\u001b[0m in \u001b[0;36m<listcomp>\u001b[0;34m(.0)\u001b[0m\n\u001b[0;32m----> 1\u001b[0;31m \u001b[0;34m[\u001b[0m\u001b[0mto_date\u001b[0m\u001b[0;34m(\u001b[0m\u001b[0mepoch\u001b[0m\u001b[0;34m,\u001b[0m \u001b[0mtime_unit\u001b[0m\u001b[0;34m)\u001b[0m \u001b[0;32mfor\u001b[0m \u001b[0mepoch\u001b[0m \u001b[0;32min\u001b[0m \u001b[0mtime\u001b[0m\u001b[0;34m.\u001b[0m\u001b[0mvalues\u001b[0m\u001b[0;34m.\u001b[0m\u001b[0mtolist\u001b[0m\u001b[0;34m(\u001b[0m\u001b[0;34m)\u001b[0m\u001b[0;34m]\u001b[0m\u001b[0;34m\u001b[0m\u001b[0m\n\u001b[0m",
      "\u001b[0;32m<ipython-input-82-e3d8f1abd12f>\u001b[0m in \u001b[0;36mto_date\u001b[0;34m(epoch, time_unit)\u001b[0m\n\u001b[1;32m      1\u001b[0m \u001b[0;32mdef\u001b[0m \u001b[0mto_date\u001b[0m\u001b[0;34m(\u001b[0m\u001b[0mepoch\u001b[0m\u001b[0;34m,\u001b[0m \u001b[0mtime_unit\u001b[0m\u001b[0;34m)\u001b[0m\u001b[0;34m:\u001b[0m\u001b[0;34m\u001b[0m\u001b[0m\n\u001b[0;32m----> 2\u001b[0;31m      \u001b[0;32mreturn\u001b[0m \u001b[0mtime_unit\u001b[0m \u001b[0;34m+\u001b[0m \u001b[0mtimedelta\u001b[0m\u001b[0;34m(\u001b[0m\u001b[0mseconds\u001b[0m\u001b[0;34m=\u001b[0m\u001b[0mepoch\u001b[0m\u001b[0;34m)\u001b[0m\u001b[0;34m\u001b[0m\u001b[0m\n\u001b[0m\u001b[1;32m      3\u001b[0m \u001b[0;34m\u001b[0m\u001b[0m\n\u001b[1;32m      4\u001b[0m \u001b[0;34m\u001b[0m\u001b[0m\n\u001b[1;32m      5\u001b[0m \u001b[0mtime\u001b[0m \u001b[0;34m=\u001b[0m \u001b[0mxr\u001b[0m\u001b[0;34m.\u001b[0m\u001b[0mDataArray\u001b[0m\u001b[0;34m(\u001b[0m\u001b[0;34m[\u001b[0m\u001b[0mto_date\u001b[0m\u001b[0;34m(\u001b[0m\u001b[0mepoch\u001b[0m\u001b[0;34m,\u001b[0m \u001b[0mtime_unit\u001b[0m\u001b[0;34m)\u001b[0m \u001b[0;32mfor\u001b[0m \u001b[0mepoch\u001b[0m \u001b[0;32min\u001b[0m \u001b[0mmin_xr\u001b[0m\u001b[0;34m.\u001b[0m\u001b[0mtime\u001b[0m\u001b[0;34m.\u001b[0m\u001b[0mvalues\u001b[0m\u001b[0;34m.\u001b[0m\u001b[0mtolist\u001b[0m\u001b[0;34m(\u001b[0m\u001b[0;34m)\u001b[0m\u001b[0;34m]\u001b[0m\u001b[0;34m,\u001b[0m \u001b[0mcoords\u001b[0m\u001b[0;34m=\u001b[0m\u001b[0;34m{\u001b[0m\u001b[0;34m'time'\u001b[0m\u001b[0;34m:\u001b[0m \u001b[0mmin_xr\u001b[0m\u001b[0;34m.\u001b[0m\u001b[0mtime\u001b[0m\u001b[0;34m}\u001b[0m\u001b[0;34m,\u001b[0m \u001b[0mdims\u001b[0m\u001b[0;34m=\u001b[0m\u001b[0;34m(\u001b[0m\u001b[0;34m'time'\u001b[0m\u001b[0;34m,\u001b[0m\u001b[0;34m)\u001b[0m\u001b[0;34m)\u001b[0m\u001b[0;34m\u001b[0m\u001b[0m\n",
      "\u001b[0;31mOverflowError\u001b[0m: normalized days too large to fit in a C int"
     ]
    }
   ],
   "source": [
    "[to_date(epoch, time_unit) for epoch in time.values.tolist()]"
   ]
  },
  {
   "cell_type": "code",
   "execution_count": null,
   "metadata": {},
   "outputs": [],
   "source": [
    "to_date()"
   ]
  },
  {
   "cell_type": "code",
   "execution_count": 132,
   "metadata": {
    "ExecuteTime": {
     "end_time": "2018-06-08T01:56:41.867214Z",
     "start_time": "2018-06-08T01:56:41.858041Z"
    }
   },
   "outputs": [
    {
     "name": "stdout",
     "output_type": "stream",
     "text": [
      "<xarray.DataArray (time: 31)>\n",
      "array(['2016-12-01T10:30:00.000000000', '2016-12-02T10:30:00.000000000',\n",
      "       '2016-12-03T10:30:00.000000000', '2016-12-04T10:30:00.000000000',\n",
      "       '2016-12-05T10:30:00.000000000', '2016-12-06T10:30:00.000000000',\n",
      "       '2016-12-07T10:30:00.000000000', '2016-12-08T10:30:00.000000000',\n",
      "       '2016-12-09T10:30:00.000000000', '2016-12-10T10:30:00.000000000',\n",
      "       '2016-12-11T10:30:00.000000000', '2016-12-12T10:30:00.000000000',\n",
      "       '2016-12-13T10:30:00.000000000', '2016-12-14T10:30:00.000000000',\n",
      "       '2016-12-15T10:30:00.000000000', '2016-12-16T10:30:00.000000000',\n",
      "       '2016-12-17T10:30:00.000000000', '2016-12-18T10:30:00.000000000',\n",
      "       '2016-12-19T10:30:00.000000000', '2016-12-20T10:30:00.000000000',\n",
      "       '2016-12-21T10:30:00.000000000', '2016-12-22T10:30:00.000000000',\n",
      "       '2016-12-23T10:30:00.000000000', '2016-12-24T10:30:00.000000000',\n",
      "       '2016-12-25T10:30:00.000000000', '2016-12-26T10:30:00.000000000',\n",
      "       '2016-12-27T10:30:00.000000000', '2016-12-28T10:30:00.000000000',\n",
      "       '2016-12-29T10:30:00.000000000', '2016-12-30T10:30:00.000000000',\n",
      "       '2016-12-31T10:30:00.000000000'], dtype='datetime64[ns]')\n",
      "Coordinates:\n",
      "  * time     (time) float64 3.78e+04 1.242e+05 2.106e+05 2.97e+05 3.834e+05 ...\n"
     ]
    }
   ],
   "source": [
    "def to_date(epoch, time_unit):\n",
    "     return time_unit + timedelta(seconds=epoch)\n",
    "\n",
    "\n",
    "time = xr.DataArray([to_date(epoch, time_unit) for epoch in min_xr.time.values.tolist()], coords={'time': min_xr.time}, dims=('time',))\n",
    "print(time)"
   ]
  },
  {
   "cell_type": "code",
   "execution_count": 53,
   "metadata": {
    "ExecuteTime": {
     "end_time": "2018-06-08T01:24:08.253057Z",
     "start_time": "2018-06-08T01:24:08.237597Z"
    }
   },
   "outputs": [
    {
     "name": "stdout",
     "output_type": "stream",
     "text": [
      "<xarray.DataArray 'Tair' (time: 31, lat: 13, lon: 14)>\n",
      "array([[[      nan,       nan, ...,       nan,       nan],\n",
      "        [      nan,       nan, ...,       nan,       nan],\n",
      "        ...,\n",
      "        [10.3974  , 10.045197, ...,  5.100708,  4.15564 ],\n",
      "        [10.598358, 10.277405, ...,  3.838898,  3.10675 ]],\n",
      "\n",
      "       [[      nan,       nan, ...,       nan,       nan],\n",
      "        [      nan,       nan, ...,       nan,       nan],\n",
      "        ...,\n",
      "        [11.007935, 11.042419, ...,  5.167297,  4.03125 ],\n",
      "        [11.131714, 11.088379, ...,  4.98468 ,  4.077362]],\n",
      "\n",
      "       ...,\n",
      "\n",
      "       [[      nan,       nan, ...,       nan,       nan],\n",
      "        [      nan,       nan, ...,       nan,       nan],\n",
      "        ...,\n",
      "        [10.202606, 10.410461, ...,  6.64856 ,  4.292999],\n",
      "        [10.649719, 10.690002, ...,  6.801544,  4.13266 ]],\n",
      "\n",
      "       [[      nan,       nan, ...,       nan,       nan],\n",
      "        [      nan,       nan, ...,       nan,       nan],\n",
      "        ...,\n",
      "        [11.039459, 10.818054, ...,  2.886902,  2.325653],\n",
      "        [10.997101, 10.795654, ...,  3.045868,  2.383392]]])\n",
      "Coordinates:\n",
      "  * time     (time) float64 3.78e+04 1.242e+05 2.106e+05 2.97e+05 3.834e+05 ...\n",
      "  * lon      (lon) float32 101.75 102.25 102.75 103.25 103.75 104.25 104.75 ...\n",
      "  * lat      (lat) float32 9.25 9.75 10.25 10.75 11.25 11.75 12.25 12.75 ...\n"
     ]
    }
   ],
   "source": [
    "T_diff = max_xr.Tair - min_xr.Tair\n",
    "print(T_diff)"
   ]
  },
  {
   "cell_type": "code",
   "execution_count": 56,
   "metadata": {
    "ExecuteTime": {
     "end_time": "2018-06-08T01:27:30.472971Z",
     "start_time": "2018-06-08T01:27:30.465970Z"
    }
   },
   "outputs": [
    {
     "name": "stdout",
     "output_type": "stream",
     "text": [
      "<xarray.DataArray 'lat' (lat: 13)>\n",
      "array([0.161443, 0.17017 , 0.178896, 0.187623, 0.19635 , 0.205076, 0.213803,\n",
      "       0.222529, 0.231256, 0.239983, 0.248709, 0.257436, 0.266163],\n",
      "      dtype=float32)\n",
      "Coordinates:\n",
      "  * lat      (lat) float32 9.25 9.75 10.25 10.75 11.25 11.75 12.25 12.75 ...\n"
     ]
    }
   ],
   "source": [
    "lat_rad = np.radians(min_xr.lat)\n",
    "print(lat_rad)"
   ]
  },
  {
   "cell_type": "code",
   "execution_count": 229,
   "metadata": {
    "ExecuteTime": {
     "end_time": "2018-06-08T04:00:38.356782Z",
     "start_time": "2018-06-08T04:00:38.352455Z"
    }
   },
   "outputs": [],
   "source": [
    "def julian_days(epoch, time_unit):\n",
    "    start_of_year = datetime.strptime('01/01/'+ str(time_unit),'%m/%d/%Y')\n",
    "    epoch = start_of_year + timedelta(seconds=epoch)\n",
    "    j_days = int((((epoch - start_of_year)+timedelta(days=1))/timedelta(days=1)) +1)\n",
    "    return (j_days)\n"
   ]
  },
  {
   "cell_type": "code",
   "execution_count": 230,
   "metadata": {
    "ExecuteTime": {
     "end_time": "2018-06-08T04:00:39.235079Z",
     "start_time": "2018-06-08T04:00:39.210988Z"
    }
   },
   "outputs": [
    {
     "name": "stdout",
     "output_type": "stream",
     "text": [
      "<xarray.DataArray (time: 31)>\n",
      "array([ 2,  3,  4,  5,  6,  7,  8,  9, 10, 11, 12, 13, 14, 15, 16, 17, 18, 19,\n",
      "       20, 21, 22, 23, 24, 25, 26, 27, 28, 29, 30, 31, 32])\n",
      "Coordinates:\n",
      "  * time     (time) float64 3.78e+04 1.242e+05 2.106e+05 2.97e+05 3.834e+05 ...\n"
     ]
    }
   ],
   "source": [
    "j_days = xr.DataArray([julian_days(epoch, \n",
    "                                   min_xr.time.units[14:18]) for epoch in time.time.values.tolist()], \n",
    "                      coords={'time': min_xr.time}, dims=('time',))\n",
    "print(j_days)"
   ]
  },
  {
   "cell_type": "code",
   "execution_count": 231,
   "metadata": {
    "ExecuteTime": {
     "end_time": "2018-06-08T04:00:42.144634Z",
     "start_time": "2018-06-08T04:00:42.138283Z"
    }
   },
   "outputs": [
    {
     "name": "stdout",
     "output_type": "stream",
     "text": [
      "2016 is a leap year\n",
      "366\n"
     ]
    }
   ],
   "source": [
    "def leap_year(year):\n",
    "    if calendar.isleap(int(year)) == True:\n",
    "        print(str(year) +' is a leap year')\n",
    "        ndy = 366\n",
    "    else:\n",
    "        print(str(year) +' is not a leap year')\n",
    "        ndy = 365\n",
    "    return(ndy)\n",
    "\n",
    "ndy = leap_year( min_xr.time.units[14:18])\n",
    "print(ndy)"
   ]
  },
  {
   "cell_type": "code",
   "execution_count": 234,
   "metadata": {
    "ExecuteTime": {
     "end_time": "2018-06-08T04:00:57.484631Z",
     "start_time": "2018-06-08T04:00:57.477023Z"
    }
   },
   "outputs": [
    {
     "name": "stdout",
     "output_type": "stream",
     "text": [
      "SD: <xarray.DataArray (time: 31)>\n",
      "array([-0.399572, -0.398014, -0.396339, -0.394547, -0.392639, -0.390616,\n",
      "       -0.388477, -0.386223, -0.383856, -0.381376, -0.378783, -0.376079,\n",
      "       -0.373264, -0.370338, -0.367304, -0.364161, -0.360912, -0.357555,\n",
      "       -0.354094, -0.350528, -0.346858, -0.343087, -0.339214, -0.335242,\n",
      "       -0.33117 , -0.327001, -0.322736, -0.318376, -0.313921, -0.309375,\n",
      "       -0.304737])\n",
      "Coordinates:\n",
      "  * time     (time) float64 3.78e+04 1.242e+05 2.106e+05 2.97e+05 3.834e+05 ...\n"
     ]
    }
   ],
   "source": [
    "sd = 0.409 * np.sin(2 * mt.pi * j_days / ndy - 1.39)\n",
    "print('SD: '+str(sd))"
   ]
  },
  {
   "cell_type": "code",
   "execution_count": 236,
   "metadata": {
    "ExecuteTime": {
     "end_time": "2018-06-08T04:02:06.272364Z",
     "start_time": "2018-06-08T04:02:06.262436Z"
    }
   },
   "outputs": [
    {
     "name": "stdout",
     "output_type": "stream",
     "text": [
      "<xarray.DataArray (lat: 13, time: 31)>\n",
      "array([[0.99527 , 0.995311, 0.995355, ..., 0.997204, 0.99729 , 0.997376],\n",
      "       [0.994735, 0.99478 , 0.994829, ..., 0.996888, 0.996983, 0.997079],\n",
      "       [0.994169, 0.994219, 0.994273, ..., 0.996553, 0.996659, 0.996765],\n",
      "       ...,\n",
      "       [0.988498, 0.988598, 0.988704, ..., 0.993202, 0.99341 , 0.993619],\n",
      "       [0.987639, 0.987746, 0.987861, ..., 0.992694, 0.992918, 0.993143],\n",
      "       [0.986745, 0.98686 , 0.986983, ..., 0.992166, 0.992406, 0.992647]])\n",
      "Coordinates:\n",
      "  * lat      (lat) float32 9.25 9.75 10.25 10.75 11.25 11.75 12.25 12.75 ...\n",
      "  * time     (time) float64 3.78e+04 1.242e+05 2.106e+05 2.97e+05 3.834e+05 ...\n"
     ]
    }
   ],
   "source": [
    "sa_X = 1 - (np.tan(lat_rad))**2 * ((np.tan(sd))**2)\n",
    "print(sa_X)"
   ]
  },
  {
   "cell_type": "code",
   "execution_count": 30,
   "metadata": {
    "ExecuteTime": {
     "end_time": "2018-06-08T01:06:59.564819Z",
     "start_time": "2018-06-08T01:06:59.561511Z"
    }
   },
   "outputs": [],
   "source": [
    "# def to_date(epoch, time_unit):\n",
    "#     return time_unit + timedelta(seconds=epoch)"
   ]
  },
  {
   "cell_type": "code",
   "execution_count": 24,
   "metadata": {
    "ExecuteTime": {
     "end_time": "2018-06-08T01:03:22.733201Z",
     "start_time": "2018-06-08T01:03:22.728767Z"
    }
   },
   "outputs": [],
   "source": [
    "# time_unit = datetime.strptime(min_xr.time.units[14:], '%Y-%m-%d %H:%M:%S') "
   ]
  },
  {
   "cell_type": "code",
   "execution_count": 21,
   "metadata": {
    "ExecuteTime": {
     "end_time": "2018-06-08T01:02:06.321970Z",
     "start_time": "2018-06-08T01:02:06.267632Z"
    }
   },
   "outputs": [
    {
     "name": "stdout",
     "output_type": "stream",
     "text": [
      "date: 2016-12-01 10:30:00\n",
      "lat: 15.25\n",
      "lon: 107.75\n",
      "Minimum temp: 18.029809570312523\n",
      "Mean temp: 19.518186187744163\n",
      "Maximum temp: 21.868707275390648\n",
      "T_DIFF: 3.838897705078125\n",
      "LAT_RAD0.26616271092913524\n",
      "J_DAYS: 336\n",
      "2016 is a leap year\n",
      "NDY: 366\n",
      "DR: 1.0287194129539952\n",
      "SD: 0.16583675497620104\n",
      "SA_X: 0.9979177777858802\n",
      "SA: 1.6164435505621821\n",
      "RA: 39.467629079460025\n",
      "PET: 2.7080260271549577\n"
     ]
    },
    {
     "ename": "NameError",
     "evalue": "name 'PET' is not defined",
     "output_type": "error",
     "traceback": [
      "\u001b[0;31m---------------------------------------------------------------------------\u001b[0m",
      "\u001b[0;31mNameError\u001b[0m                                 Traceback (most recent call last)",
      "\u001b[0;32m<ipython-input-21-2e4019a641ed>\u001b[0m in \u001b[0;36m<module>\u001b[0;34m()\u001b[0m\n\u001b[1;32m    108\u001b[0m \u001b[0mlon_deg\u001b[0m\u001b[0;34m\u001b[0m\u001b[0m\n\u001b[1;32m    109\u001b[0m \u001b[0mdate\u001b[0m\u001b[0;34m\u001b[0m\u001b[0m\n\u001b[0;32m--> 110\u001b[0;31m \u001b[0mPET\u001b[0m\u001b[0;34m\u001b[0m\u001b[0m\n\u001b[0m\u001b[1;32m    111\u001b[0m \u001b[0;34m\u001b[0m\u001b[0m\n\u001b[1;32m    112\u001b[0m \u001b[0mtest_array\u001b[0m \u001b[0;34m=\u001b[0m \u001b[0mnp\u001b[0m\u001b[0;34m.\u001b[0m\u001b[0mnan\u001b[0m\u001b[0;34m(\u001b[0m\u001b[0;34m)\u001b[0m\u001b[0;34m\u001b[0m\u001b[0m\n",
      "\u001b[0;31mNameError\u001b[0m: name 'PET' is not defined"
     ]
    }
   ],
   "source": [
    "\n",
    "# #Save time variable\n",
    "# time_unit = datetime.strptime(min_xr.time.units[14:], '%Y-%m-%d %H:%M:%S') \n",
    "# time_seconds = int(min_xr.time.isel(time=time_index).values)\n",
    "# date = time_unit + timedelta(seconds = time_seconds)\n",
    "# print('date: '+str(date))\n",
    "\n",
    "# #Save coordinates\n",
    "# lat_deg = float(min_xr.isel(time = time_index).lat[lat_index].values)\n",
    "# lon_deg = float(min_xr.isel(time = time_index).lon[lon_index].values)\n",
    "# print('lat: '+str(lat_deg))\n",
    "# print('lon: '+str(lon_deg))\n",
    "\n",
    "\n",
    "\n",
    "# #Save temperature varaibles\n",
    "# T_min =  float(min_xr.sel(time = time_seconds, lat = lat_deg, lon = lon_deg).Tair)\n",
    "# T_mean = float(mean_xr.sel(time = time_seconds, lat = lat_deg, lon = lon_deg).Tair)\n",
    "# T_max = float(max_xr.sel(time = time_seconds, lat = lat_deg, lon = lon_deg).Tair)\n",
    "# print('Minimum temp: '+ str(T_min))\n",
    "# print('Mean temp: '+ str(T_mean))\n",
    "# print('Maximum temp: '+ str(T_max))\n",
    "\n",
    "# # Calculate temperature difference\n",
    "# # Units: T_diff in degrees C\n",
    "# # Example: T_diff = 34.8 - 25.6 = 9.2 degrees C\n",
    "\n",
    "# T_diff = T_max - T_min\n",
    "# print('T_DIFF: ' +str(T_diff))\n",
    "\n",
    "# # Convert latitude to radians\n",
    "# # Unit: lat_rad in radians (northern hemisphere)\n",
    "# # Example: lat_rad = (pi / 180) * 13.73 = + 0.240 radians\n",
    "\n",
    "# lat_rad = (mt.pi / 180) * lat_deg \n",
    "\n",
    "# print('LAT_RAD'+str(lat_rad))\n",
    "\n",
    "# # Convert date to julian day of the year\n",
    "# # Unit: j_days in julian days\n",
    "# # Example: j_days = days between (\"15/4/2015\",\"1/1/2015\") + 1 = 105 julian days\n",
    "\n",
    "# start_of_year = datetime.strptime('01/01/'+ str(date.year),'%m/%d/%Y') #save first day of year as variable\n",
    "# j_days = int(((date - start_of_year)+timedelta(days=1))/timedelta(days=1)) #calculate julian days\n",
    "# print('J_DAYS: '+str(j_days))\n",
    "\n",
    "# Calculate the number of days in the year to account for leap year\n",
    "# Units: ndy in days\n",
    "\n",
    "# def leap_year(year):\n",
    "#     if calendar.isleap(year) == True:\n",
    "#         print(str(year) +' is a leap year')\n",
    "#         ndy = 366\n",
    "#     else:\n",
    "#         print(str(year) +' is not a leap year')\n",
    "#         ndy = 365\n",
    "    \n",
    "\n",
    "# print('NDY: '+str(ndy))\n",
    "\n",
    "# Caclulate the inverse relative distance between the Earth and the Sun\n",
    "# Unit: dr in radians\n",
    "# Example: dr = 1 + 0.033* cos(2*pi*105/365) = 0.992 radians\n",
    "\n",
    "# dr = 1 + 0.033 * mt.cos(2 * mt.pi * j_days / ndy)\n",
    "# print('DR: '+str(dr))\n",
    "\n",
    "# Calculate solar declination\n",
    "# Unit: sd in radians\n",
    "# Example: sd = 0.409 * sin(2 * pi * 105 / 365 - 1.39) = 0.166 radians\n",
    "\n",
    "# sd = 0.409 * mt.sin(2 * mt.pi * j_days / 365 - 1.39)\n",
    "# print('SD: '+str(sd))\n",
    "\n",
    "# Calculate a sunset angle input variable\n",
    "# Unit: no unit\n",
    "# Example: sa_X = 1 - [tan(0.24)]^2 * [tan(0.166)]^2 = 0.998\n",
    "\n",
    "# sa_X = 1 - (mt.tan(lat_rad))**2 * ((mt.tan(sd))**2)\n",
    "# print('SA_X: '+str(sa_X))\n",
    "\n",
    "# Calculate sunset angle\n",
    "# Units: sa in radians\n",
    "# Example: sa = pi / 2 - arctan(-tan(0.24) * tan(0.166) / sqrt(0.998)) = 1.612 radians\n",
    "\n",
    "sa = mt.pi / 2 - mt.atan(-mt.tan(lat_rad) * mt.tan(sd) / mt.sqrt(sa_X))\n",
    "print('SA: '+str(sa))\n",
    "\n",
    "# Calcualte extraterrestrial radiation\n",
    "# Units: ra in MJ / (m^ day)\n",
    "# Example: ra = 37.586 * 0.992 * (1.612 * sin(0.24) * sin(0.166) + cos(0.24) * cos(0.166) * sin(1.612)) = 38.06 MJ / (m^ day)\n",
    "\n",
    "ra = 37.586 * dr * (sa * mt.sin(lat_rad) * mt.sin(sd) + mt.cos(lat_rad) * mt.cos(sd) * mt.sin(sa))\n",
    "print('RA: '+str(ra))\n",
    "\n",
    "\n",
    "# Calculate Potential Evapotranspiration\n",
    "# Units: PET in mm/day\n",
    "# Example: PET = 0.0009384 * (30.2 + 17.8) * sqrt(9.2) * 38.06 = 5.2 mm/day\n",
    "pet = 0.0009384 * (T_mean + 17.8) * mt.sqrt(T_diff) * ra\n",
    "print('PET: '+str(pet))\n",
    "\n",
    "\n",
    "####Create array with values\n",
    "lat_deg\n",
    "lon_deg\n",
    "date\n",
    "PET\n",
    "\n",
    "test_array = np.nan()\n",
    "#create an xarray\n",
    "#create netcdf of PET\n"
   ]
  },
  {
   "cell_type": "code",
   "execution_count": 1,
   "metadata": {
    "ExecuteTime": {
     "end_time": "2018-06-05T06:38:38.872010Z",
     "start_time": "2018-06-05T06:38:38.866771Z"
    }
   },
   "outputs": [],
   "source": [
    "# #Save time variable\n",
    "# time_unit = datetime.strptime(min_xr.time.units[14:], '%Y-%m-%d %H:%M:%S') \n",
    "# time_seconds = int(min_xr.time.isel(time=time_index).values)\n",
    "# date = time_unit + timedelta(seconds = time_seconds)\n",
    "# print('date: '+str(date))\n",
    "\n",
    "# #Save coordinates\n",
    "# lat_deg = float(min_xr.isel(time = time_index).lat[lat_index].values)\n",
    "# lon_deg = float(min_xr.isel(time = time_index).lon[lon_index].values)\n",
    "# print('lat: '+str(lat_deg))\n",
    "# print('lon: '+str(lon_deg))\n",
    "\n",
    "# #Save temperature varaibles\n",
    "# T_min =  float(min_xr.sel(time = time_seconds, lat = lat_deg, lon = lon_deg).Tair)\n",
    "# T_mean = float(mean_xr.sel(time = time_seconds, lat = lat_deg, lon = lon_deg).Tair)\n",
    "# T_max = float(max_xr.sel(time = time_seconds, lat = lat_deg, lon = lon_deg).Tair)\n",
    "# print('Minimum temp: '+ str(T_min))\n",
    "# print('Mean temp: '+ str(T_mean))\n",
    "# print('Maximum temp: '+ str(T_max))"
   ]
  },
  {
   "cell_type": "markdown",
   "metadata": {},
   "source": [
    "## Calculate max and min temperature difference"
   ]
  },
  {
   "cell_type": "code",
   "execution_count": 2,
   "metadata": {
    "ExecuteTime": {
     "end_time": "2018-06-05T06:38:41.427295Z",
     "start_time": "2018-06-05T06:38:41.424395Z"
    }
   },
   "outputs": [],
   "source": [
    "# # Calculate temperature difference\n",
    "# # Units: T_diff in degrees C\n",
    "# # Example: T_diff = 34.8 - 25.6 = 9.2 degrees C\n",
    "\n",
    "# T_diff = T_max - T_min\n",
    "# print(T_diff)"
   ]
  },
  {
   "cell_type": "markdown",
   "metadata": {},
   "source": [
    "## Convert latitude"
   ]
  },
  {
   "cell_type": "code",
   "execution_count": 3,
   "metadata": {
    "ExecuteTime": {
     "end_time": "2018-06-05T06:38:44.666165Z",
     "start_time": "2018-06-05T06:38:44.663286Z"
    }
   },
   "outputs": [],
   "source": [
    "# # Convert latitude to radians\n",
    "# # Unit: lat_rad in radians (northern hemisphere)\n",
    "# # Example: lat_rad = (pi / 180) * 13.73 = + 0.240 radians\n",
    "\n",
    "# lat_rad = (mt.pi / 180) * lat_deg \n",
    "\n",
    "# print(lat_rad)"
   ]
  },
  {
   "cell_type": "markdown",
   "metadata": {
    "ExecuteTime": {
     "end_time": "2018-06-05T02:27:25.187692Z",
     "start_time": "2018-06-05T02:27:25.184778Z"
    }
   },
   "source": [
    "## Calculate days and dates"
   ]
  },
  {
   "cell_type": "code",
   "execution_count": 4,
   "metadata": {
    "ExecuteTime": {
     "end_time": "2018-06-05T06:38:47.467806Z",
     "start_time": "2018-06-05T06:38:47.463782Z"
    }
   },
   "outputs": [],
   "source": [
    "# # Convert date to julian day of the year\n",
    "# # Unit: j_days in julian days\n",
    "# # Example: j_days = days between (\"15/4/2015\",\"1/1/2015\") + 1 = 105 julian days\n",
    "\n",
    "# start_of_year = datetime.strptime('01/01/'+ str(date.year),'%m/%d/%Y') #save first day of year as variable\n",
    "# j_days = int(((date - start_of_year)+timedelta(days=1))/timedelta(days=1)) #calculate julian days\n",
    "# print(j_days)"
   ]
  },
  {
   "cell_type": "code",
   "execution_count": 5,
   "metadata": {
    "ExecuteTime": {
     "end_time": "2018-06-05T06:38:50.074454Z",
     "start_time": "2018-06-05T06:38:50.071428Z"
    }
   },
   "outputs": [],
   "source": [
    "# # Calculate the number of days in the year to account for leap year\n",
    "# # Units: ndy in days\n",
    "\n",
    "# if calendar.isleap(date.year) == True:\n",
    "#     print(str(date.year) +' is a leap year')\n",
    "#     ndy = 366\n",
    "# else:\n",
    "#     print(str(date.year) +' is not a leap year')\n",
    "#     ndy = 365\n",
    "    \n",
    "\n",
    "# print('There are '+str(ndy)+' days')"
   ]
  },
  {
   "cell_type": "markdown",
   "metadata": {},
   "source": [
    "## Calculate extraterrestrial radiation"
   ]
  },
  {
   "cell_type": "code",
   "execution_count": 6,
   "metadata": {
    "ExecuteTime": {
     "end_time": "2018-06-05T06:38:52.730168Z",
     "start_time": "2018-06-05T06:38:52.727227Z"
    }
   },
   "outputs": [],
   "source": [
    "# # Caclulate the inverse relative distance between the Earth and the Sun\n",
    "# # Unit: dr in radians\n",
    "# # Example: dr = 1 + 0.033* cos(2*pi*105/365) = 0.992 radians\n",
    "\n",
    "# dr = 1 + 0.033 * mt.cos(2 * mt.pi * j_days / ndy)\n",
    "# print (dr)"
   ]
  },
  {
   "cell_type": "code",
   "execution_count": 7,
   "metadata": {
    "ExecuteTime": {
     "end_time": "2018-06-05T06:38:54.631079Z",
     "start_time": "2018-06-05T06:38:54.627793Z"
    }
   },
   "outputs": [],
   "source": [
    "# # Calculate solar declination\n",
    "# # Unit: sd in radians\n",
    "# # Example: sd = 0.409 * sin(2 * pi * 105 / 365 - 1.39) = 0.166 radians\n",
    "\n",
    "# sd = 0.409 * mt.sin(2 * mt.pi * 105 / 365 - 1.39)\n",
    "# print(sd)"
   ]
  },
  {
   "cell_type": "code",
   "execution_count": 8,
   "metadata": {
    "ExecuteTime": {
     "end_time": "2018-06-05T06:39:10.431065Z",
     "start_time": "2018-06-05T06:39:10.428237Z"
    }
   },
   "outputs": [],
   "source": [
    "# # Calculate a sunset angle input variable\n",
    "# # Unit: no unit\n",
    "# # Example: sa_X = 1 - [tan(0.24)]^2 * [tan(0.166)]^2 = 0.998\n",
    "\n",
    "# sa_X = 1 - (mt.tan(lat_rad))**2 * ((mt.tan(sd))**2)\n",
    "# print(sa_X)"
   ]
  },
  {
   "cell_type": "code",
   "execution_count": 10,
   "metadata": {
    "ExecuteTime": {
     "end_time": "2018-06-05T06:39:43.356073Z",
     "start_time": "2018-06-05T06:39:43.352840Z"
    }
   },
   "outputs": [],
   "source": [
    "# # Calculate sunset angle\n",
    "# # Units: sa in radians\n",
    "# # Example: sa = pi / 2 - arctan(-tan(0.24) * tan(0.166) / sqrt(0.998)) = 1.612 radians\n",
    "\n",
    "# sa = mt.pi / 2 - mt.atan(-mt.tan(lat_rad) * mt.tan(sd) / mt.sqrt(sa_X))\n",
    "# print(sa)"
   ]
  },
  {
   "cell_type": "code",
   "execution_count": 9,
   "metadata": {
    "ExecuteTime": {
     "end_time": "2018-06-05T06:39:42.341836Z",
     "start_time": "2018-06-05T06:39:42.338641Z"
    }
   },
   "outputs": [],
   "source": [
    "# # Calcualte extraterrestrial radiation\n",
    "# # Units: ra in MJ / (m^ day)\n",
    "# # Example: ra = 37.586 * 0.992 * (1.612 * sin(0.24) * sin(0.166) + cos(0.24) * cos(0.166) * sin(1.612)) = 38.06 MJ / (m^ day)\n",
    "\n",
    "# ra = 37.586 * dr * (sa * mt.sin(lat_rad) * mt.sin(sd) + mt.cos(lat_rad) * mt.cos(sd) * mt.sin(sa))\n",
    "# print(ra)"
   ]
  },
  {
   "cell_type": "markdown",
   "metadata": {},
   "source": [
    "## Calculate Potential Evapotranspiration"
   ]
  },
  {
   "cell_type": "code",
   "execution_count": 11,
   "metadata": {
    "ExecuteTime": {
     "end_time": "2018-06-05T06:39:50.034384Z",
     "start_time": "2018-06-05T06:39:50.031526Z"
    }
   },
   "outputs": [],
   "source": [
    "# # Calculate Potential Evapotranspiration\n",
    "# # Units: PET in mm/day\n",
    "# # Example: PET = 0.0009384 * (30.2 + 17.8) * sqrt(9.2) * 38.06 = 5.2 mm/day\n",
    "# pet = 0.0009384 * (T_mean + 17.8) * mt.sqrt(T_diff) * ra\n",
    "# print(pet)"
   ]
  },
  {
   "cell_type": "code",
   "execution_count": null,
   "metadata": {},
   "outputs": [],
   "source": []
  },
  {
   "cell_type": "code",
   "execution_count": 11,
   "metadata": {
    "ExecuteTime": {
     "end_time": "2018-06-05T06:27:18.614685Z",
     "start_time": "2018-06-05T06:27:18.611394Z"
    }
   },
   "outputs": [],
   "source": [
    "# #Input variables\n",
    "# #latitude (in degrees and minutes)\n",
    "# input_lat = '13 44 N'\n",
    "# #date (in mm/dd/yyyy)\n",
    "# input_date = '04/15/2015'\n",
    "# #daily maximum temperature (degrees C)\n",
    "# input_Tmax =  '34.8'\n",
    "# #daily mean temperature (degrees C)\n",
    "# input_Tmean = '30.2'\n",
    "# #daily minimum temperature (degrees C)\n",
    "# input_Tmin = '25.6'"
   ]
  },
  {
   "cell_type": "code",
   "execution_count": 12,
   "metadata": {
    "ExecuteTime": {
     "end_time": "2018-06-05T06:27:19.057566Z",
     "start_time": "2018-06-05T06:27:19.054495Z"
    }
   },
   "outputs": [],
   "source": [
    "# #Reformat datatypes\n",
    "# lat_deg = int(input_lat.split(' ')[0])\n",
    "# lat_min = int(input_lat.split(' ')[1])\n",
    "# T_max= float(input_Tmax)\n",
    "# T_mean = float(input_Tmean)\n",
    "# T_min = float(input_Tmin)\n",
    "# date = datetime.strptime(input_date,'%m/%d/%Y') #convert to datetime format\n",
    "# year = date.year #save year as variable"
   ]
  },
  {
   "cell_type": "code",
   "execution_count": 14,
   "metadata": {
    "ExecuteTime": {
     "end_time": "2018-06-05T06:27:21.595821Z",
     "start_time": "2018-06-05T06:27:21.591145Z"
    }
   },
   "outputs": [],
   "source": [
    "#Convert latitude to decimal degree\n",
    "#Unit: lat_deg in decimal degrees\n",
    "#Example: lat_deg = 13 + 44 / 60 = 13.73 decimal degrees\n",
    "\n",
    "# lat_deg = lat_deg + lat_min/int(60)\n",
    "\n",
    "# print(lat_deg)"
   ]
  }
 ],
 "metadata": {
  "kernelspec": {
   "display_name": "Python 3",
   "language": "python",
   "name": "python3"
  },
  "language_info": {
   "codemirror_mode": {
    "name": "ipython",
    "version": 3
   },
   "file_extension": ".py",
   "mimetype": "text/x-python",
   "name": "python",
   "nbconvert_exporter": "python",
   "pygments_lexer": "ipython3",
   "version": "3.6.5"
  }
 },
 "nbformat": 4,
 "nbformat_minor": 2
}
