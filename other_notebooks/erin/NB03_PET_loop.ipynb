{
 "cells": [
  {
   "cell_type": "markdown",
   "metadata": {},
   "source": [
    "# Inport Libraries"
   ]
  },
  {
   "cell_type": "code",
   "execution_count": 13,
   "metadata": {
    "ExecuteTime": {
     "end_time": "2018-06-05T06:40:04.099355Z",
     "start_time": "2018-06-05T06:40:01.869594Z"
    }
   },
   "outputs": [],
   "source": [
    "import numpy as np\n",
    "import math as mt\n",
    "from datetime import *\n",
    "import calendar\n",
    "import netCDF4 as nc\n",
    "import xarray as xr"
   ]
  },
  {
   "cell_type": "code",
   "execution_count": 14,
   "metadata": {
    "ExecuteTime": {
     "end_time": "2018-06-05T06:40:04.108158Z",
     "start_time": "2018-06-05T06:40:04.104442Z"
    }
   },
   "outputs": [],
   "source": [
    "input_folder = '/g/data/u46/users/ext547/ewater/input_data/test/'\n",
    "min_nc = 'min_celsius_Tair_WFDEI_201612.nc'\n",
    "max_nc = 'max_celsius_Tair_WFDEI_201612.nc'\n",
    "mean_nc = 'mean_celsius_Tair_WFDEI_201612.nc'"
   ]
  },
  {
   "cell_type": "markdown",
   "metadata": {
    "ExecuteTime": {
     "end_time": "2018-06-05T02:20:47.387985Z",
     "start_time": "2018-06-05T02:20:47.263435Z"
    }
   },
   "source": [
    "# Input variables and reformat datatypes"
   ]
  },
  {
   "cell_type": "code",
   "execution_count": 15,
   "metadata": {
    "ExecuteTime": {
     "end_time": "2018-06-05T06:40:05.531667Z",
     "start_time": "2018-06-05T06:40:05.512662Z"
    }
   },
   "outputs": [],
   "source": [
    "min_xr = xr.open_dataset(input_folder+min_nc, decode_times=False)\n",
    "mean_xr = xr.open_dataset(input_folder+mean_nc, decode_times=False)\n",
    "max_xr = xr.open_dataset(input_folder+max_nc, decode_times=False)"
   ]
  },
  {
   "cell_type": "code",
   "execution_count": 24,
   "metadata": {
    "ExecuteTime": {
     "end_time": "2018-06-05T06:45:24.954524Z",
     "start_time": "2018-06-05T06:45:24.924128Z"
    }
   },
   "outputs": [
    {
     "name": "stdout",
     "output_type": "stream",
     "text": [
      "date: 2016-12-01 10:30:00\n",
      "lat: 15.25\n",
      "lon: 107.75\n",
      "Minimum temp: 18.029809570312523\n",
      "Mean temp: 19.518186187744163\n",
      "Maximum temp: 21.868707275390648\n",
      "T_DIFF: 3.838897705078125\n",
      "LAT_RAD0.26616271092913524\n",
      "J_DAYS: 336\n",
      "2016 is a leap year\n",
      "NDY: 366\n",
      "DR: 1.0287194129539952\n",
      "SD: 0.16583675497620104\n",
      "SA_X: 0.9979177777858802\n",
      "SA: 1.6164435505621821\n",
      "RA: 39.467629079460025\n",
      "PET: 2.7080260271549577\n"
     ]
    }
   ],
   "source": [
    "\n",
    "\n",
    "time_index = 0\n",
    "lat_index = 12\n",
    "lon_index = 12\n",
    "\n",
    "#Save time variable\n",
    "time_unit = datetime.strptime(min_xr.time.units[14:], '%Y-%m-%d %H:%M:%S') \n",
    "time_seconds = int(min_xr.time.isel(time=time_index).values)\n",
    "date = time_unit + timedelta(seconds = time_seconds)\n",
    "print('date: '+str(date))\n",
    "\n",
    "#Save coordinates\n",
    "lat_deg = float(min_xr.isel(time = time_index).lat[lat_index].values)\n",
    "lon_deg = float(min_xr.isel(time = time_index).lon[lon_index].values)\n",
    "print('lat: '+str(lat_deg))\n",
    "print('lon: '+str(lon_deg))\n",
    "\n",
    "#Save temperature varaibles\n",
    "T_min =  float(min_xr.sel(time = time_seconds, lat = lat_deg, lon = lon_deg).Tair)\n",
    "T_mean = float(mean_xr.sel(time = time_seconds, lat = lat_deg, lon = lon_deg).Tair)\n",
    "T_max = float(max_xr.sel(time = time_seconds, lat = lat_deg, lon = lon_deg).Tair)\n",
    "print('Minimum temp: '+ str(T_min))\n",
    "print('Mean temp: '+ str(T_mean))\n",
    "print('Maximum temp: '+ str(T_max))\n",
    "\n",
    "# Calculate temperature difference\n",
    "# Units: T_diff in degrees C\n",
    "# Example: T_diff = 34.8 - 25.6 = 9.2 degrees C\n",
    "\n",
    "T_diff = T_max - T_min\n",
    "print('T_DIFF: ' +str(T_diff))\n",
    "\n",
    "# Convert latitude to radians\n",
    "# Unit: lat_rad in radians (northern hemisphere)\n",
    "# Example: lat_rad = (pi / 180) * 13.73 = + 0.240 radians\n",
    "\n",
    "lat_rad = (mt.pi / 180) * lat_deg \n",
    "\n",
    "print('LAT_RAD'+str(lat_rad))\n",
    "\n",
    "# Convert date to julian day of the year\n",
    "# Unit: j_days in julian days\n",
    "# Example: j_days = days between (\"15/4/2015\",\"1/1/2015\") + 1 = 105 julian days\n",
    "\n",
    "start_of_year = datetime.strptime('01/01/'+ str(date.year),'%m/%d/%Y') #save first day of year as variable\n",
    "j_days = int(((date - start_of_year)+timedelta(days=1))/timedelta(days=1)) #calculate julian days\n",
    "print('J_DAYS: '+str(j_days))\n",
    "\n",
    "# Calculate the number of days in the year to account for leap year\n",
    "# Units: ndy in days\n",
    "\n",
    "if calendar.isleap(date.year) == True:\n",
    "    print(str(date.year) +' is a leap year')\n",
    "    ndy = 366\n",
    "else:\n",
    "    print(str(date.year) +' is not a leap year')\n",
    "    ndy = 365\n",
    "    \n",
    "\n",
    "print('NDY: '+str(ndy))\n",
    "\n",
    "# Caclulate the inverse relative distance between the Earth and the Sun\n",
    "# Unit: dr in radians\n",
    "# Example: dr = 1 + 0.033* cos(2*pi*105/365) = 0.992 radians\n",
    "\n",
    "dr = 1 + 0.033 * mt.cos(2 * mt.pi * j_days / ndy)\n",
    "print('DR: '+str(dr))\n",
    "\n",
    "# Calculate solar declination\n",
    "# Unit: sd in radians\n",
    "# Example: sd = 0.409 * sin(2 * pi * 105 / 365 - 1.39) = 0.166 radians\n",
    "\n",
    "sd = 0.409 * mt.sin(2 * mt.pi * 105 / 365 - 1.39)\n",
    "print('SD: '+str(sd))\n",
    "\n",
    "# Calculate a sunset angle input variable\n",
    "# Unit: no unit\n",
    "# Example: sa_X = 1 - [tan(0.24)]^2 * [tan(0.166)]^2 = 0.998\n",
    "\n",
    "sa_X = 1 - (mt.tan(lat_rad))**2 * ((mt.tan(sd))**2)\n",
    "print('SA_X: '+str(sa_X))\n",
    "\n",
    "# Calculate sunset angle\n",
    "# Units: sa in radians\n",
    "# Example: sa = pi / 2 - arctan(-tan(0.24) * tan(0.166) / sqrt(0.998)) = 1.612 radians\n",
    "\n",
    "sa = mt.pi / 2 - mt.atan(-mt.tan(lat_rad) * mt.tan(sd) / mt.sqrt(sa_X))\n",
    "print('SA: '+str(sa))\n",
    "\n",
    "# Calcualte extraterrestrial radiation\n",
    "# Units: ra in MJ / (m^ day)\n",
    "# Example: ra = 37.586 * 0.992 * (1.612 * sin(0.24) * sin(0.166) + cos(0.24) * cos(0.166) * sin(1.612)) = 38.06 MJ / (m^ day)\n",
    "\n",
    "ra = 37.586 * dr * (sa * mt.sin(lat_rad) * mt.sin(sd) + mt.cos(lat_rad) * mt.cos(sd) * mt.sin(sa))\n",
    "print('RA: '+str(ra))\n",
    "\n",
    "\n",
    "# Calculate Potential Evapotranspiration\n",
    "# Units: PET in mm/day\n",
    "# Example: PET = 0.0009384 * (30.2 + 17.8) * sqrt(9.2) * 38.06 = 5.2 mm/day\n",
    "pet = 0.0009384 * (T_mean + 17.8) * mt.sqrt(T_diff) * ra\n",
    "print('PET: '+str(pet))\n",
    "\n",
    "\n",
    "####Create array with values\n",
    "#create an xarray\n",
    "#create netcdf of PET\n"
   ]
  },
  {
   "cell_type": "code",
   "execution_count": 1,
   "metadata": {
    "ExecuteTime": {
     "end_time": "2018-06-05T06:38:38.872010Z",
     "start_time": "2018-06-05T06:38:38.866771Z"
    }
   },
   "outputs": [],
   "source": [
    "# #Save time variable\n",
    "# time_unit = datetime.strptime(min_xr.time.units[14:], '%Y-%m-%d %H:%M:%S') \n",
    "# time_seconds = int(min_xr.time.isel(time=time_index).values)\n",
    "# date = time_unit + timedelta(seconds = time_seconds)\n",
    "# print('date: '+str(date))\n",
    "\n",
    "# #Save coordinates\n",
    "# lat_deg = float(min_xr.isel(time = time_index).lat[lat_index].values)\n",
    "# lon_deg = float(min_xr.isel(time = time_index).lon[lon_index].values)\n",
    "# print('lat: '+str(lat_deg))\n",
    "# print('lon: '+str(lon_deg))\n",
    "\n",
    "# #Save temperature varaibles\n",
    "# T_min =  float(min_xr.sel(time = time_seconds, lat = lat_deg, lon = lon_deg).Tair)\n",
    "# T_mean = float(mean_xr.sel(time = time_seconds, lat = lat_deg, lon = lon_deg).Tair)\n",
    "# T_max = float(max_xr.sel(time = time_seconds, lat = lat_deg, lon = lon_deg).Tair)\n",
    "# print('Minimum temp: '+ str(T_min))\n",
    "# print('Mean temp: '+ str(T_mean))\n",
    "# print('Maximum temp: '+ str(T_max))"
   ]
  },
  {
   "cell_type": "markdown",
   "metadata": {},
   "source": [
    "## Calculate max and min temperature difference"
   ]
  },
  {
   "cell_type": "code",
   "execution_count": 2,
   "metadata": {
    "ExecuteTime": {
     "end_time": "2018-06-05T06:38:41.427295Z",
     "start_time": "2018-06-05T06:38:41.424395Z"
    }
   },
   "outputs": [],
   "source": [
    "# # Calculate temperature difference\n",
    "# # Units: T_diff in degrees C\n",
    "# # Example: T_diff = 34.8 - 25.6 = 9.2 degrees C\n",
    "\n",
    "# T_diff = T_max - T_min\n",
    "# print(T_diff)"
   ]
  },
  {
   "cell_type": "markdown",
   "metadata": {},
   "source": [
    "## Convert latitude"
   ]
  },
  {
   "cell_type": "code",
   "execution_count": 3,
   "metadata": {
    "ExecuteTime": {
     "end_time": "2018-06-05T06:38:44.666165Z",
     "start_time": "2018-06-05T06:38:44.663286Z"
    }
   },
   "outputs": [],
   "source": [
    "# # Convert latitude to radians\n",
    "# # Unit: lat_rad in radians (northern hemisphere)\n",
    "# # Example: lat_rad = (pi / 180) * 13.73 = + 0.240 radians\n",
    "\n",
    "# lat_rad = (mt.pi / 180) * lat_deg \n",
    "\n",
    "# print(lat_rad)"
   ]
  },
  {
   "cell_type": "markdown",
   "metadata": {
    "ExecuteTime": {
     "end_time": "2018-06-05T02:27:25.187692Z",
     "start_time": "2018-06-05T02:27:25.184778Z"
    }
   },
   "source": [
    "## Calculate days and dates"
   ]
  },
  {
   "cell_type": "code",
   "execution_count": 4,
   "metadata": {
    "ExecuteTime": {
     "end_time": "2018-06-05T06:38:47.467806Z",
     "start_time": "2018-06-05T06:38:47.463782Z"
    }
   },
   "outputs": [],
   "source": [
    "# # Convert date to julian day of the year\n",
    "# # Unit: j_days in julian days\n",
    "# # Example: j_days = days between (\"15/4/2015\",\"1/1/2015\") + 1 = 105 julian days\n",
    "\n",
    "# start_of_year = datetime.strptime('01/01/'+ str(date.year),'%m/%d/%Y') #save first day of year as variable\n",
    "# j_days = int(((date - start_of_year)+timedelta(days=1))/timedelta(days=1)) #calculate julian days\n",
    "# print(j_days)"
   ]
  },
  {
   "cell_type": "code",
   "execution_count": 5,
   "metadata": {
    "ExecuteTime": {
     "end_time": "2018-06-05T06:38:50.074454Z",
     "start_time": "2018-06-05T06:38:50.071428Z"
    }
   },
   "outputs": [],
   "source": [
    "# # Calculate the number of days in the year to account for leap year\n",
    "# # Units: ndy in days\n",
    "\n",
    "# if calendar.isleap(date.year) == True:\n",
    "#     print(str(date.year) +' is a leap year')\n",
    "#     ndy = 366\n",
    "# else:\n",
    "#     print(str(date.year) +' is not a leap year')\n",
    "#     ndy = 365\n",
    "    \n",
    "\n",
    "# print('There are '+str(ndy)+' days')"
   ]
  },
  {
   "cell_type": "markdown",
   "metadata": {},
   "source": [
    "## Calculate extraterrestrial radiation"
   ]
  },
  {
   "cell_type": "code",
   "execution_count": 6,
   "metadata": {
    "ExecuteTime": {
     "end_time": "2018-06-05T06:38:52.730168Z",
     "start_time": "2018-06-05T06:38:52.727227Z"
    }
   },
   "outputs": [],
   "source": [
    "# # Caclulate the inverse relative distance between the Earth and the Sun\n",
    "# # Unit: dr in radians\n",
    "# # Example: dr = 1 + 0.033* cos(2*pi*105/365) = 0.992 radians\n",
    "\n",
    "# dr = 1 + 0.033 * mt.cos(2 * mt.pi * j_days / ndy)\n",
    "# print (dr)"
   ]
  },
  {
   "cell_type": "code",
   "execution_count": 7,
   "metadata": {
    "ExecuteTime": {
     "end_time": "2018-06-05T06:38:54.631079Z",
     "start_time": "2018-06-05T06:38:54.627793Z"
    }
   },
   "outputs": [],
   "source": [
    "# # Calculate solar declination\n",
    "# # Unit: sd in radians\n",
    "# # Example: sd = 0.409 * sin(2 * pi * 105 / 365 - 1.39) = 0.166 radians\n",
    "\n",
    "# sd = 0.409 * mt.sin(2 * mt.pi * 105 / 365 - 1.39)\n",
    "# print(sd)"
   ]
  },
  {
   "cell_type": "code",
   "execution_count": 8,
   "metadata": {
    "ExecuteTime": {
     "end_time": "2018-06-05T06:39:10.431065Z",
     "start_time": "2018-06-05T06:39:10.428237Z"
    }
   },
   "outputs": [],
   "source": [
    "# # Calculate a sunset angle input variable\n",
    "# # Unit: no unit\n",
    "# # Example: sa_X = 1 - [tan(0.24)]^2 * [tan(0.166)]^2 = 0.998\n",
    "\n",
    "# sa_X = 1 - (mt.tan(lat_rad))**2 * ((mt.tan(sd))**2)\n",
    "# print(sa_X)"
   ]
  },
  {
   "cell_type": "code",
   "execution_count": 10,
   "metadata": {
    "ExecuteTime": {
     "end_time": "2018-06-05T06:39:43.356073Z",
     "start_time": "2018-06-05T06:39:43.352840Z"
    }
   },
   "outputs": [],
   "source": [
    "# # Calculate sunset angle\n",
    "# # Units: sa in radians\n",
    "# # Example: sa = pi / 2 - arctan(-tan(0.24) * tan(0.166) / sqrt(0.998)) = 1.612 radians\n",
    "\n",
    "# sa = mt.pi / 2 - mt.atan(-mt.tan(lat_rad) * mt.tan(sd) / mt.sqrt(sa_X))\n",
    "# print(sa)"
   ]
  },
  {
   "cell_type": "code",
   "execution_count": 9,
   "metadata": {
    "ExecuteTime": {
     "end_time": "2018-06-05T06:39:42.341836Z",
     "start_time": "2018-06-05T06:39:42.338641Z"
    }
   },
   "outputs": [],
   "source": [
    "# # Calcualte extraterrestrial radiation\n",
    "# # Units: ra in MJ / (m^ day)\n",
    "# # Example: ra = 37.586 * 0.992 * (1.612 * sin(0.24) * sin(0.166) + cos(0.24) * cos(0.166) * sin(1.612)) = 38.06 MJ / (m^ day)\n",
    "\n",
    "# ra = 37.586 * dr * (sa * mt.sin(lat_rad) * mt.sin(sd) + mt.cos(lat_rad) * mt.cos(sd) * mt.sin(sa))\n",
    "# print(ra)"
   ]
  },
  {
   "cell_type": "markdown",
   "metadata": {},
   "source": [
    "## Calculate Potential Evapotranspiration"
   ]
  },
  {
   "cell_type": "code",
   "execution_count": 11,
   "metadata": {
    "ExecuteTime": {
     "end_time": "2018-06-05T06:39:50.034384Z",
     "start_time": "2018-06-05T06:39:50.031526Z"
    }
   },
   "outputs": [],
   "source": [
    "# # Calculate Potential Evapotranspiration\n",
    "# # Units: PET in mm/day\n",
    "# # Example: PET = 0.0009384 * (30.2 + 17.8) * sqrt(9.2) * 38.06 = 5.2 mm/day\n",
    "# pet = 0.0009384 * (T_mean + 17.8) * mt.sqrt(T_diff) * ra\n",
    "# print(pet)"
   ]
  },
  {
   "cell_type": "code",
   "execution_count": null,
   "metadata": {},
   "outputs": [],
   "source": []
  },
  {
   "cell_type": "code",
   "execution_count": 11,
   "metadata": {
    "ExecuteTime": {
     "end_time": "2018-06-05T06:27:18.614685Z",
     "start_time": "2018-06-05T06:27:18.611394Z"
    }
   },
   "outputs": [],
   "source": [
    "# #Input variables\n",
    "# #latitude (in degrees and minutes)\n",
    "# input_lat = '13 44 N'\n",
    "# #date (in mm/dd/yyyy)\n",
    "# input_date = '04/15/2015'\n",
    "# #daily maximum temperature (degrees C)\n",
    "# input_Tmax =  '34.8'\n",
    "# #daily mean temperature (degrees C)\n",
    "# input_Tmean = '30.2'\n",
    "# #daily minimum temperature (degrees C)\n",
    "# input_Tmin = '25.6'"
   ]
  },
  {
   "cell_type": "code",
   "execution_count": 12,
   "metadata": {
    "ExecuteTime": {
     "end_time": "2018-06-05T06:27:19.057566Z",
     "start_time": "2018-06-05T06:27:19.054495Z"
    }
   },
   "outputs": [],
   "source": [
    "# #Reformat datatypes\n",
    "# lat_deg = int(input_lat.split(' ')[0])\n",
    "# lat_min = int(input_lat.split(' ')[1])\n",
    "# T_max= float(input_Tmax)\n",
    "# T_mean = float(input_Tmean)\n",
    "# T_min = float(input_Tmin)\n",
    "# date = datetime.strptime(input_date,'%m/%d/%Y') #convert to datetime format\n",
    "# year = date.year #save year as variable"
   ]
  },
  {
   "cell_type": "code",
   "execution_count": 14,
   "metadata": {
    "ExecuteTime": {
     "end_time": "2018-06-05T06:27:21.595821Z",
     "start_time": "2018-06-05T06:27:21.591145Z"
    }
   },
   "outputs": [],
   "source": [
    "#Convert latitude to decimal degree\n",
    "#Unit: lat_deg in decimal degrees\n",
    "#Example: lat_deg = 13 + 44 / 60 = 13.73 decimal degrees\n",
    "\n",
    "# lat_deg = lat_deg + lat_min/int(60)\n",
    "\n",
    "# print(lat_deg)"
   ]
  }
 ],
 "metadata": {
  "kernelspec": {
   "display_name": "Python 3",
   "language": "python",
   "name": "python3"
  },
  "language_info": {
   "codemirror_mode": {
    "name": "ipython",
    "version": 3
   },
   "file_extension": ".py",
   "mimetype": "text/x-python",
   "name": "python",
   "nbconvert_exporter": "python",
   "pygments_lexer": "ipython3",
   "version": "3.6.5"
  }
 },
 "nbformat": 4,
 "nbformat_minor": 2
}
