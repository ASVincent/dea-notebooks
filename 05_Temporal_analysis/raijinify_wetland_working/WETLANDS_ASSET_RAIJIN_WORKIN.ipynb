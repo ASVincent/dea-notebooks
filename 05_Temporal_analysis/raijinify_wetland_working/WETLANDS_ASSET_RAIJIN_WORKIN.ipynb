{
 "cells": [
  {
   "cell_type": "code",
   "execution_count": 12,
   "metadata": {
    "ExecuteTime": {
     "end_time": "2019-02-19T22:48:07.501507Z",
     "start_time": "2019-02-19T22:48:07.425278Z"
    }
   },
   "outputs": [
    {
     "name": "stdout",
     "output_type": "stream",
     "text": [
      "Shape file is /g/data/r78/rjd547/Ramsar_Wetlands/ExplodedRAMSAR.shp\n",
      "system argument received is 1\n",
      "chunk size is 9\n",
      "There are 30 generated chunks\n",
      "Running for polygon IDs in the range 0 to 9\n"
     ]
    }
   ],
   "source": [
    "# #!/usr/bin/python\n",
    "\n",
    "\n",
    "# | Authors:  | Bex Dunn|\n",
    "# |----------|----------------|\n",
    "# | Created: | Jan 7, 2019 |\n",
    "# | Last edited: | Jan 22,2019 |\n",
    "\n",
    "\n",
    "#  Before running this script load these modules:\n",
    "# `module use /g/data/v10/public/modules/modulefiles` \n",
    "# `module load dea`\n",
    "# This code is designed to run on raijin, on the Australian NCI. \n",
    "# The shell script to run this code has a *.sh extension\n",
    "\n",
    "\n",
    "# If you find an error in this code, please raise an issue at https://github.com/GeoscienceAustralia/dea-notebooks\n",
    "# \n",
    "# This code takes a supplied shapefile of a polygon and queries Digital Earth\n",
    "# Australia http://geoscienceaustralia.github.io/digitalearthau/\n",
    "# for WOfS, Fractional Cover and NBART. It calculates thresholded tasselled cap wetness. The dominant result for\n",
    "# each pixel is calculated and the percentage area of the polygon covered by water, wet vegetation, \n",
    "# photosynthetic vegetation, non-photosynthetic vegetation and bare soil is output into a jpg stacked plot and to\n",
    "# csv. The resulting data can be used to monitor changes in wetland behaviour spatiotemporally. \n",
    "\n",
    "# - Input Datasets:\n",
    "# - Landsat 5\n",
    "# - Landsat 7\n",
    "# - Landsat 8\n",
    "\n",
    "# -- Fractional Cover --\n",
    "# - PV - Photosythetic vegetation\n",
    "# - NPV - Non-Photosythetic vegetation\n",
    "# - BS - Bare Soil\n",
    "\n",
    "# - WOfS Feature Layers (WOFLs)\n",
    "\n",
    "# __Future Work:__ \n",
    "# - do this by max extent of wetness\n",
    "# - add rainfall for context -- waiting on an update as to availability of data        \n",
    "\n",
    "### Import Statements: import the modules we need ------------------------------\n",
    "\n",
    "import csv\n",
    "import multiprocessing as mp\n",
    "\n",
    "#$#$#$#$#$\n",
    "\n",
    "import datacube\n",
    "import datetime\n",
    "import fiona\n",
    "import geopandas as gpd\n",
    "from math import ceil\n",
    "import numpy as np\n",
    "import pandas as pd\n",
    "import rasterio.mask\n",
    "import rasterio.features\n",
    "from shapely import geometry\n",
    "import seaborn as sns\n",
    "import sys\n",
    "import time\n",
    "import xarray as xr\n",
    "\n",
    "#keep the plotting modules in here as we want to output the stackplots to *.jpg\n",
    "import matplotlib.dates as mdates\n",
    "import matplotlib.gridspec as gridspec\n",
    "import matplotlib.pyplot as plt\n",
    "\n",
    "from datacube.storage import masking\n",
    "from datacube.utils import geometry\n",
    "\n",
    "#append path to dea notebooks scripts to the system so we can access it\n",
    "sys.path.append('/g/data/r78/rjd547/jupyter_notebooks/dea-notebooks/10_Scripts')\n",
    "import DEADataHandling, DEAPlotting, TasseledCapTools\n",
    "\n",
    "# setup the datacube \n",
    "dc = datacube.Datacube(app='asset drill')\n",
    "\n",
    "### Set up polygon\n",
    "poly_path='/g/data/r78/rjd547/Ramsar_Wetlands/ExplodedRAMSAR.shp'\n",
    "print(f'Shape file is {poly_path}')\n",
    "\n",
    "#part = sys.argv[1] ###FIXME: update before running on raijin\n",
    "part = 1\n",
    "part = int(part)\n",
    "print(f'system argument received is {part}')\n",
    "\n",
    "global Output_dir\n",
    "Output_dir = '/g/data/r78/rjd547/Ramsar_Wetlands/Ramsar_Outputs_1/'\n",
    "\n",
    "# add in a delay between dc.load calls to avoid overloading the database - 5 seconds in this case\n",
    "time.sleep(5*part)\n",
    "#open the polygon\n",
    "\n",
    "#this code tells us which polygon ids will be running on this particular (node?). Shapessubset will be the subset of polygons that our function\n",
    "#will run over. ###FIXME - can we send this to some kind of multiprocessing?\n",
    "with fiona.open(poly_path) as allshapes:\n",
    "        #get the crs of the polygon file to use when processing each polygon\n",
    "        crs = geometry.CRS(allshapes.crs_wkt)\n",
    "        #get the list of all the shapes in the shapefile\n",
    "        ShapesList = list(allshapes)\n",
    "        #Desired number of chunks\n",
    "        #Set this to 32 because we have 32 CPUs that we'd like to run across\n",
    "        DesiredChunks = 32\n",
    "        ChunkSize = ceil(len(ShapesList)/DesiredChunks) #this was set due to Claire having 64000 polygons in her code\n",
    "        print(f'chunk size is {ChunkSize}')\n",
    "        print(f'There are {int(len(ShapesList)/ChunkSize)} generated chunks')\n",
    "        shapessubset = allshapes[(part - 1) * ChunkSize: part * ChunkSize]\n",
    "        print(f'Running for polygon IDs in the range {(part - 1) * ChunkSize} to {part * ChunkSize}')  "
   ]
  },
  {
   "cell_type": "markdown",
   "metadata": {},
   "source": [
    "### define functions that are run in the mainline here"
   ]
  },
  {
   "cell_type": "code",
   "execution_count": 56,
   "metadata": {},
   "outputs": [],
   "source": [
    "def get_RAMSAR_polyName(shapefile):\n",
    "    ''' function designed specifically for the RAMSAR wetlands australia shapefile. Takes the shapefile and extracts\n",
    "    the ramsar name, wetland name and objectID from the ESRI shapefile format and turns it into a useful string for our output.\n",
    "    :Inputs: shapefile with RAMSAR_NAM, WETLAND_NA, and OBJECTID as properties. \n",
    "    Author: Bex Dunn Last Edited: March 2019'''\n",
    "    # get the ramsar name from the shapes \n",
    "    RAMSAR_NAME = '_'.join(shapefile['properties']['RAMSAR_NAM'].split(' '))\n",
    "    WETLAND_NAME = '_'.join(shapefile['properties']['WETLAND_NA'].split(' '))\n",
    "    STATE = '_'.join(shapefile['properties']['STATE'].split(' ')) \n",
    "    ID = shapefile['id']\n",
    "    polyName = f'{RAMSAR_NAME}-{WETLAND_NAME}-{STATE}-{ID}'\n",
    "    print(f'processing polygon {polyName}')\n",
    "    return(polyName)"
   ]
  },
  {
   "cell_type": "code",
   "execution_count": 57,
   "metadata": {},
   "outputs": [],
   "source": [
    "def BigFunkyFunction(lilshape):\n",
    "    '''This is a function that does lots of things. It takes a single polygon and  '''\n",
    "    ### This is set up to be shapefile-specific. I'm not sure this can be avoided, as often shapefiles are pretty specific..\n",
    "    first_geometry = lilshape['geometry']\n",
    "    polyName = get_RAMSAR_polyName(lilshape)\n",
    "    geom = geometry.Geometry(first_geometry, crs=crs)\n",
    "    query = {'geopolygon': geom}# this should run for all time, if there is no time set?\n",
    "    print(polyName,query)\n",
    "    \n",
    "    "
   ]
  },
  {
   "cell_type": "code",
   "execution_count": 58,
   "metadata": {},
   "outputs": [],
   "source": [
    "testin = gpd.read_file(poly_path)"
   ]
  },
  {
   "cell_type": "code",
   "execution_count": 59,
   "metadata": {},
   "outputs": [
    {
     "name": "stdout",
     "output_type": "stream",
     "text": [
      "processing polygon Cobourg_Peninsula-Cobourg_Peninsula-NT-0\n",
      "processing polygon Cobourg_Peninsula-Cobourg_Peninsula-NT-1\n",
      "processing polygon Cobourg_Peninsula-Cobourg_Peninsula-NT-2\n",
      "processing polygon Cobourg_Peninsula-Cobourg_Peninsula-NT-3\n",
      "processing polygon Cobourg_Peninsula-Cobourg_Peninsula-NT-4\n",
      "processing polygon Cobourg_Peninsula-Cobourg_Peninsula-NT-5\n",
      "processing polygon Cobourg_Peninsula-Cobourg_Peninsula-NT-6\n",
      "processing polygon Cobourg_Peninsula-Cobourg_Peninsula-NT-7\n",
      "processing polygon Cobourg_Peninsula-Cobourg_Peninsula-NT-8\n"
     ]
    }
   ],
   "source": [
    "for shape in shapessubset:\n",
    "    first_geometry = shape['geometry']\n",
    "    polyName = get_RAMSAR_polyName(shape)\n",
    "    geom = geometry.Geometry(first_geometry, crs=crs)\n",
    "    query = {'geopolygon': geom}# this should run for all time, if there is no time set?"
   ]
  },
  {
   "cell_type": "code",
   "execution_count": 64,
   "metadata": {},
   "outputs": [],
   "source": [
    "def BigFunkyFunction(lilshape,crs):\n",
    "    '''This is a function that does lots of things. It takes a single polygon and  '''\n",
    "    ### This is set up to be shapefile-specific. I'm not sure this can be avoided, as often shapefiles are pretty specific..\n",
    "    first_geometry = lilshape['geometry']\n",
    "    polyName = get_RAMSAR_polyName(lilshape)\n",
    "    geom = geometry.Geometry(first_geometry, crs=crs)\n",
    "    query = {'geopolygon': geom}# this should run for all time, if there is no time set?\n",
    "    \n",
    "    ## Set up datasets\n",
    "    #set cloudmasking threshold and load landsat nbart data\n",
    "    landsat_masked_prop = 0.90\n",
    "    ls578_ds = DEADataHandling.load_clearlandsat(dc=dc, query=query, product='nbart',\n",
    "            masked_prop=landsat_masked_prop)\n",
    "\n",
    "    ### mask the data with our original polygon to remove extra data \n",
    "\n",
    "    data = ls578_ds\n",
    "    mask = rasterio.features.geometry_mask([geom.to_crs(data.geobox.crs)for geoms in [geom]],\n",
    "                                               out_shape=data.geobox.shape,\n",
    "                                               transform=data.geobox.affine,\n",
    "                                               all_touched=False,\n",
    "                                               invert=False)\n",
    "\n",
    "    #for some reason xarray is not playing nicely with our old masking function\n",
    "    mask_xr = xr.DataArray(mask, dims = ('y','x'))\n",
    "    ls578_ds = data.where(mask_xr==False)\n",
    "\n",
    "    #transform the nbart into tci\n",
    "    tci = TasseledCapTools.thresholded_tasseled_cap(ls578_ds,wetness_threshold=-350, drop=True , drop_tc_bands=True)\n",
    "\n",
    "    ### create a masked version of the extent of overthreshold wetness\n",
    "\n",
    "    #select only finite values (over threshold values)\n",
    "    tcw = xr.ufuncs.isfinite(tci.wetness_thresholded)\n",
    "\n",
    "    # #reapply the polygon mask\n",
    "    tcw = tcw.where(mask_xr==False)\n",
    "\n",
    "    ### load wofls and select only wet pixels\n",
    "\n",
    "    #load wofs\n",
    "    wofls = dc.load(product = 'wofs_albers', like=ls578_ds)\n",
    "\n",
    "    #only get wet obs\n",
    "    wetwofl = masking.make_mask(wofls, wet=True)\n",
    "\n",
    "    #match the wofs observations to the nbart\n",
    "    wetwofl=wetwofl.where(wofls.time==ls578_ds.time)\n",
    "\n",
    "    ### mask the wofs obs\n",
    "\n",
    "    #mask the wofs obs with the polygon mask\n",
    "    wetwofl = wetwofl.where(mask_xr==False)\n",
    "\n",
    "    ### load in fractional cover data\n",
    "\n",
    "    #load the data according to our query\n",
    "    #choose a mask proportion to look for a clear timestep\n",
    "    fc_ds = DEADataHandling.load_clearlandsat(dc, query,product='fc',masked_prop=0.90)\n",
    "\n",
    "    ### mask FC with polygon\n",
    "\n",
    "    fc_ds = fc_ds.where(mask_xr==False)\n",
    "\n",
    "    ### mask FC with wetness\n",
    "\n",
    "    fc_ds_noTCW=fc_ds.where(tcw==False)\n",
    "\n",
    "    ### Calculate number of pixels in area of interest\n",
    "\n",
    "    #number of pixels in area of interest\n",
    "    pixels = (mask_xr==0).sum(dim=['x','y'])\n",
    "\n",
    "    mask_xr==0\n",
    "    mask_xr.count(dim=['x','y'])\n",
    "\n",
    "    #count number of wofs pixels\n",
    "    wofs_pixels = wetwofl.water.sum(dim=['x','y'])\n",
    "\n",
    "    #count percentage of area of wofs\n",
    "    wofs_area_percent = (wofs_pixels/pixels)*100\n",
    "\n",
    "    #count number of tcw pixels\n",
    "    tcw_pixel_count = tcw.sum(dim=['x','y'])\n",
    "\n",
    "    #calculate percentage area wet\n",
    "    tcw_area_percent = (tcw_pixel_count/pixels)*100\n",
    "\n",
    "    #calculate wet not wofs\n",
    "    tcw_less_wofs = tcw_area_percent-wofs_area_percent\n",
    "\n",
    "    ### Calculate the dominant fraction for each pixel in Fractional Cover\n",
    "\n",
    "    #drop data percentage and Unmixing Error\n",
    "    fc_tester = fc_ds_noTCW.drop(['data_perc','UE'])\n",
    "\n",
    "    #following robbi's advice, cast the dataset to a dataarray\n",
    "    maxFC = fc_tester.to_array(dim='variable', name='maxFC')\n",
    "\n",
    "    #turn FC array into integer only as nanargmax doesn't seem to handle floats the way we want it to\n",
    "    FC_int = maxFC.astype('int8')\n",
    "\n",
    "    #use numpy.nanargmax to get the index of the maximum value along the variable dimension\n",
    "    #BSPVNPV=np.nanargmax(FC_int, axis=0)\n",
    "    BSPVNPV=FC_int.argmax(dim='variable')\n",
    "\n",
    "    FC_mask=xr.ufuncs.isfinite(maxFC).all(dim='variable')\n",
    "\n",
    "    # #re-mask with nans to remove no-data\n",
    "    BSPVNPV=BSPVNPV.where(FC_mask)\n",
    "\n",
    "\n",
    "    FC_dominant = xr.Dataset({\n",
    "        'BS': (BSPVNPV==0).where(FC_mask),\n",
    "        'PV': (BSPVNPV==1).where(FC_mask),\n",
    "        'NPV': (BSPVNPV==2).where(FC_mask),\n",
    "    })\n",
    "\n",
    "    FC_count = FC_dominant.sum(dim=['x','y'])\n",
    "\n",
    "    #Fractional cover pixel count method\n",
    "    #Get number of FC pixels, divide by total number of pixels per polygon\n",
    "\n",
    "    Bare_soil_percent=(FC_count.BS/pixels)*100\n",
    "\n",
    "    Photosynthetic_veg_percent=(FC_count.PV/pixels)*100\n",
    "\n",
    "    NonPhotosynthetic_veg_percent=(FC_count.NPV/pixels)*100\n",
    "\n",
    "    NoData = 100 - wofs_area_percent- tcw_less_wofs - Photosynthetic_veg_percent - NonPhotosynthetic_veg_percent - Bare_soil_percent\n",
    "\n",
    "    query['time'][0]\n",
    "\n",
    "    #set up color palette\n",
    "    pal = [sns.xkcd_rgb[\"cobalt blue\"],\n",
    "           sns.xkcd_rgb[\"neon blue\"],\n",
    "           sns.xkcd_rgb[\"grass\"],\n",
    "           sns.xkcd_rgb[\"beige\"],\n",
    "           sns.xkcd_rgb[\"brown\"]]#,\n",
    "          #sns.xkcd_rgb[\"grey\"]]\n",
    "\n",
    "    #make a stacked area plot\n",
    "    plt.clf()\n",
    "    plt.figure(figsize = (12,6))\n",
    "    plt.stackplot(wofs_area_percent.time.values, \n",
    "                  wofs_area_percent, \n",
    "                  tcw_less_wofs, \n",
    "                  Photosynthetic_veg_percent, \n",
    "                  NonPhotosynthetic_veg_percent,\n",
    "                  Bare_soil_percent,\n",
    "                  NoData,\n",
    "                  labels=['open water',\n",
    "                          'wet',\n",
    "                          'PV',\n",
    "                          'NPV',\n",
    "                          'BS'#,\n",
    "                          #'NoData'\n",
    "                         ], colors=pal, alpha = 0.6)\n",
    "\n",
    "    plt.title('Percentage of area WOfS, Wetness, Fractional Cover')\n",
    "\n",
    "    #set axis limits to the min and max\n",
    "    plt.axis(xmin = query['time'][0], xmax = query['time'][1], ymin = 0, ymax = 100)\n",
    "\n",
    "    #set date ticks every year\n",
    "    years = mdates.YearLocator(2)\n",
    "    yearsFmt = mdates.DateFormatter('%Y')\n",
    "    ax = plt.gca()\n",
    "    ax.xaxis.set_major_locator(years)\n",
    "    ax.xaxis.set_major_formatter(yearsFmt)\n",
    "\n",
    "    #add a legend and a tight plot box\n",
    "    plt.legend(loc='upper right')\n",
    "    plt.tight_layout()\n",
    "\n",
    "    #save the figure\n",
    "    plt.savefig(f'{Output_dir}{polyName}.png')#, transparent=True)"
   ]
  },
  {
   "cell_type": "code",
   "execution_count": 65,
   "metadata": {},
   "outputs": [
    {
     "name": "stdout",
     "output_type": "stream",
     "text": [
      "/g/data/r78/rjd547/Ramsar_Wetlands/Ramsar_Outputs_1/Cobourg_Peninsula-Cobourg_Peninsula-NT-8.png\n"
     ]
    }
   ],
   "source": [
    "print(f'{Output_dir}{polyName}.png')"
   ]
  },
  {
   "cell_type": "markdown",
   "metadata": {},
   "source": [
    "### FIXME : replace with correct function"
   ]
  },
  {
   "cell_type": "code",
   "execution_count": null,
   "metadata": {},
   "outputs": [
    {
     "name": "stdout",
     "output_type": "stream",
     "text": [
      "processing polygon Cobourg_Peninsula-Cobourg_Peninsula-NT-0\n",
      "Loading ls5\n"
     ]
    }
   ],
   "source": [
    "  #-----------------------------------------------------------------------#\n",
    "\n",
    "# Launch a process for each polygon.\n",
    "\n",
    "### for each shapefile in our subset of shapefiles:\n",
    "for shapes in shapessubset:\n",
    "    ### try to run the function once, for the shapefile and given crs\n",
    "    result = BigFunkyFunction(shapes, crs)\n",
    "    ### if result is False ie. doesn't run\n",
    "    if not result: \n",
    "        ### Try to run the function again\n",
    "        result = BigFunkyFunction(shapes, crs)\n",
    "    ### if that didn't work:    \n",
    "    if not result:\n",
    "        ### try for a third and last time\n",
    "        result = BigFunkyFunction(shapes, crs)   "
   ]
  },
  {
   "cell_type": "markdown",
   "metadata": {},
   "source": [
    "### FIXME Holding pen for geometry munging work"
   ]
  },
  {
   "cell_type": "code",
   "execution_count": null,
   "metadata": {
    "ExecuteTime": {
     "start_time": "2019-02-19T04:39:08.483Z"
    }
   },
   "outputs": [],
   "source": [
    "with fiona.open(poly_path) as shapes:\n",
    "#     crs = geometry.CRS(shapes.crs_wkt)\n",
    "    first_geometry = next(iter(shapes))['geometry']\n",
    "    geom = geometry.Geometry(first_geometry, crs=crs)"
   ]
  },
  {
   "cell_type": "code",
   "execution_count": 40,
   "metadata": {},
   "outputs": [],
   "source": [
    "gpd_read = gpd.read_file(poly_path)"
   ]
  },
  {
   "cell_type": "code",
   "execution_count": null,
   "metadata": {
    "ExecuteTime": {
     "end_time": "2019-02-19T04:39:13.961966Z",
     "start_time": "2019-02-19T04:39:13.932411Z"
    }
   },
   "outputs": [],
   "source": [
    "for i,layername in enumerate(fiona.listlayers(poly_path)):\n",
    "    with fiona.open(poly_path, layer=i) as shapes:\n",
    "        print(i,layername, shapes.values())"
   ]
  },
  {
   "cell_type": "code",
   "execution_count": 41,
   "metadata": {},
   "outputs": [
    {
     "data": {
      "image/svg+xml": [
       "<svg xmlns=\"http://www.w3.org/2000/svg\" xmlns:xlink=\"http://www.w3.org/1999/xlink\" width=\"300\" height=\"300\" viewBox=\"11862.311765175731 -1224940.0547345462 5563.620381717228 8157.605199203361\" preserveAspectRatio=\"xMinYMin meet\"><g transform=\"matrix(1,0,0,-1,0,-2441722.504269889)\"><path fill-rule=\"evenodd\" fill=\"#66cc99\" stroke=\"#555555\" stroke-width=\"54.38403466135574\" opacity=\"0.6\" d=\"M 14332.657677224159,-1217099.89090774 L 14387.21127601508,-1217126.8859282543 L 14470.303467222553,-1217171.7885816786 L 14527.399549713386,-1217179.2359890344 L 14563.736497949361,-1217189.4021313905 L 14587.12146861841,-1217209.2113332213 L 14652.024595588344,-1217233.38595982 L 14698.85534575721,-1217318.9902014714 L 14724.89621945439,-1217371.116135612 L 14745.70501979493,-1217405.5730566992 L 14763.918181511019,-1217440.972495087 L 14826.243215829536,-1217480.7735387788 L 14904.129169220825,-1217503.112346673 L 14987.227620856249,-1217557.8041185106 L 15088.520124233388,-1217609.7562534085 L 15137.98498407576,-1217712.0120951291 L 15164.037002993813,-1217786.632109404 L 15140.804284026297,-1217871.4909352027 L 15135.752585483935,-1217966.3202453153 L 15193.077993888242,-1218102.896708602 L 15216.531258860254,-1218177.495339895 L 15232.242118056798,-1218264.723596783 L 15222.011781672367,-1218362.4338549564 L 15167.648039635267,-1218444.0324135001 L 15144.388009379796,-1218504.4405584019 L 15123.826944457356,-1218626.484710185 L 15144.70897801934,-1218710.8346120522 L 15170.761190778896,-1218783.5141588454 L 15181.298111565067,-1218885.3500358905 L 15212.578472232126,-1218977.643842539 L 15269.794531260279,-1219072.1802455657 L 15303.711227757238,-1219193.8324378633 L 15309.178332695024,-1219370.9519358065 L 15319.686896919058,-1219463.0238187825 L 15353.49562904625,-1219526.0040798928 L 15434.021705518722,-1219582.6233585693 L 15498.977875509268,-1219649.8485300771 L 15558.809008831211,-1219755.1558800084 L 15631.64841625354,-1219887.0209558879 L 15699.329933189149,-1220036.4545001213 L 15826.74672633353,-1220225.6429824198 L 15923.008688224605,-1220399.8401660556 L 16021.795116988254,-1220533.9540567733 L 16141.27091721926,-1220634.036493513 L 16325.609561449477,-1220713.3124945562 L 16476.19769229251,-1220793.2065829071 L 16678.832685929152,-1220982.2409229986 L 16795.680861358716,-1221054.9109135754 L 16845.099035874064,-1221144.4774732708 L 16884.15530528086,-1221230.9980978086 L 16956.883442049497,-1221313.9466230958 L 16990.795586457192,-1221422.9244270755 L 17035.03334837825,-1221530.0410203505 L 17024.865890081997,-1221677.6553721305 L 17051.041804673434,-1221821.7541619574 L 17123.798620996535,-1221908.6486448783 L 17069.54573980946,-1222055.7923116693 L 16960.75310905673,-1222188.6588535148 L 16851.96661003074,-1222298.0292339271 L 16743.155410840245,-1222418.1696179153 L 16688.852447981546,-1222517.3862000075 L 16707.127959523565,-1222617.3790794539 L 16676.24373794796,-1222776.5245179269 L 16619.338677499054,-1222899.198210808 L 16567.700684519637,-1223053.217762144 L 16497.849864083364,-1223185.5367080772 L 16456.484567984735,-1223290.7450299966 L 16365.79680603283,-1223372.9469394127 L 16301.108509294516,-1223467.1454734323 L 16270.143711039405,-1223574.4398387098 L 16194.982140650107,-1223632.3295857778 L 16169.142026488398,-1223699.5743045325 L 16187.434128909405,-1223786.8414513138 L 16267.926032944119,-1223846.4165135873 L 16322.492460299034,-1223916.4774396073 L 16304.54278957396,-1224053.2544463545 L 16263.239609525766,-1224190.7723456293 L 16177.801437359345,-1224310.2054714183 L 16048.154573706186,-1224347.9540683348 L 15908.070255676372,-1224337.6286933168 L 15801.750768229584,-1224353.1259198831 L 15687.688259864386,-1224412.5603802418 L 15622.955913765905,-1224487.2061679903 L 15480.384430151578,-1224567.8532336012 L 15322.250250308474,-1224624.8630607072 L 15171.82154115893,-1224637.9212086499 L 14969.48409138386,-1224623.0363997768 L 14818.987889159369,-1224590.1033980562 L 14652.917046364568,-1224545.2788198416 L 14541.230605629496,-1224460.9135782395 L 14460.707606587292,-1224391.5588683789 L 14382.839083447889,-1224351.58450864 L 14245.315353217246,-1224321.7419006727 L 14097.3774533926,-1224264.3976318012 L 14080.428929490396,-1224259.8753499542 L 14024.697281254254,-1224245.0211396848 L 13931.257601673473,-1224207.817408312 L 13887.127975857187,-1224179.9544329133 L 13783.342360739729,-1224163.1867115425 L 13682.184803805912,-1224169.9349257348 L 13454.003848927463,-1224228.1668168702 L 13306.16163874833,-1224227.5716679348 L 13212.816008775773,-1224262.7653428104 L 13054.67692333911,-1224312.9372433 L 12924.997400667007,-1224336.0242356032 L 12857.536912528916,-1224323.5603943805 L 12818.527200233853,-1224250.7490172118 L 12776.868387484463,-1224156.3798533783 L 12748.267474161947,-1224111.070994262 L 12711.750171617337,-1223986.4215008442 L 12675.281579479475,-1223890.1343444027 L 12586.724923616444,-1223663.1965282462 L 12555.480283716464,-1223588.507110046 L 12516.231424960903,-1223381.6405445114 L 12456.468409994024,-1223314.4800977842 L 12399.239784038939,-1223209.1903807067 L 12365.346078700402,-1223110.0069153702 L 12323.60861639029,-1222965.7507638328 L 12302.620732160045,-1222818.769964956 L 12284.31707824277,-1222715.8400695696 L 12271.19098741704,-1222631.564128198 L 12237.300796250307,-1222521.63406854 L 12245.059308170275,-1222511.9262295335 L 12216.444731862566,-1222456.850555097 L 12164.445291072157,-1222387.8097404197 L 12169.53389946495,-1222332.0923052374 L 12197.997267925994,-1222282.4966197272 L 12267.93706756573,-1222222.5845535793 L 12332.780306340821,-1222207.6243456886 L 12420.899208742227,-1222160.6230247682 L 12485.67697028818,-1222112.3821910266 L 12529.680717780475,-1222058.0615124437 L 12563.332193424501,-1222013.4263359348 L 12609.868826771466,-1221920.981560394 L 12739.28479230257,-1221718.8557907918 L 12809.150940417087,-1221621.763176736 L 12892.14668223904,-1221606.9875903581 L 12938.888822211224,-1221643.6854549518 L 12982.984787810963,-1221633.39668918 L 13016.586332956433,-1221564.287822336 L 13047.525531133197,-1221444.2890809828 L 13055.176239862161,-1221349.468685392 L 13101.596947080883,-1221185.6184892596 L 13130.040165525788,-1221123.2985247632 L 13163.693295467534,-1221077.684808067 L 13192.155377497018,-1221035.916911719 L 13230.987425459232,-1220985.46275876 L 13275.001357874751,-1220923.3034923535 L 13324.19597971429,-1220858.280447199 L 13360.40266126863,-1220798.9998040933 L 13393.995432142598,-1220703.4792699057 L 13440.54080428735,-1220612.0200998562 L 13492.233440342387,-1220492.2445817005 L 13520.643303863848,-1220407.4323712133 L 13523.097162269682,-1220322.3413001806 L 13533.379157430612,-1220253.0002011147 L 13512.420077573706,-1220138.310126631 L 13496.79690492381,-1220093.144639331 L 13496.655113317212,-1220006.07567877 L 13530.306175001379,-1219948.718553006 L 13535.407789087398,-1219903.771251823 L 13535.297135081708,-1219823.5642370728 L 13517.019974121968,-1219758.7879172782 L 13511.76091164028,-1219711.7821182555 L 13511.663296695124,-1219657.007765155 L 13514.18853247487,-1219614.9637808476 L 13513.915232168149,-1219430.0781530514 L 13498.175207597867,-1219328.1639101973 L 13485.05988167701,-1219233.1300542876 L 13458.95845215094,-1219146.7830316804 L 13435.523937687172,-1219083.9271341853 L 13388.667367848964,-1219002.2244024773 L 13349.683570733367,-1218947.0350017075 L 13282.060937217764,-1218844.5850364284 L 13237.90009320358,-1218812.810060877 L 13178.108718874688,-1218740.7736806965 L 13162.451213853908,-1218685.8250602097 L 13115.676904770275,-1218633.4786143447 L 13063.736896988792,-1218611.410337451 L 13014.47338310497,-1218625.5629952634 L 12967.76952045981,-1218618.2231900676 L 12939.156057149665,-1218578.783067368 L 12913.142093153432,-1218533.502303262 L 12850.866471562724,-1218521.1022716798 L 12788.601855701228,-1218534.1533208925 L 12739.315927803562,-1218531.6568498453 L 12708.128286104884,-1218506.8853271015 L 12718.454505544854,-1218468.8455450628 L 12749.472679705701,-1218409.4914389637 L 12809.081843704582,-1218359.2581915744 L 12866.086516474286,-1218316.832244644 L 12930.868974462845,-1218261.7561747166 L 13008.580397781467,-1218187.2531713909 L 13060.357129257784,-1218122.2747283643 L 13127.692948665273,-1218039.8284085593 L 13161.311528787288,-1217980.514844387 L 13176.710585919738,-1217871.1368055164 L 13223.252198777194,-1217773.804307108 L 13259.46720623753,-1217713.532275771 L 13287.894258737047,-1217636.5708310392 L 13324.116294192616,-1217569.45515179 L 13352.591338683973,-1217521.8305637883 L 13401.758989858776,-1217454.856495145 L 13463.930493379847,-1217384.0978567102 L 13507.960870539184,-1217342.516441437 L 13564.971156873351,-1217297.1505080673 L 13624.572039970153,-1217242.0218428334 L 13790.44987367498,-1217135.2080159597 L 13891.597883025155,-1217112.8145487667 L 14010.986009262857,-1217121.900581435 L 14117.346872486016,-1217117.157581941 L 14272.97443407546,-1217084.5830612392 L 14332.657677224159,-1217099.89090774 z\" /></g></svg>"
      ],
      "text/plain": [
       "<shapely.geometry.polygon.Polygon at 0x7f46953b5898>"
      ]
     },
     "execution_count": 41,
     "metadata": {},
     "output_type": "execute_result"
    }
   ],
   "source": [
    "gpd_read.geometry.iloc[2]"
   ]
  },
  {
   "cell_type": "code",
   "execution_count": null,
   "metadata": {},
   "outputs": [],
   "source": []
  }
 ],
 "metadata": {
  "celltoolbar": "Raw Cell Format",
  "kernelspec": {
   "display_name": "Python [default]",
   "language": "python",
   "name": "python3"
  },
  "language_info": {
   "codemirror_mode": {
    "name": "ipython",
    "version": 3
   },
   "file_extension": ".py",
   "mimetype": "text/x-python",
   "name": "python",
   "nbconvert_exporter": "python",
   "pygments_lexer": "ipython3",
   "version": "3.6.6"
  },
  "widgets": {
   "application/vnd.jupyter.widget-state+json": {
    "state": {},
    "version_major": 2,
    "version_minor": 0
   }
  }
 },
 "nbformat": 4,
 "nbformat_minor": 2
}
