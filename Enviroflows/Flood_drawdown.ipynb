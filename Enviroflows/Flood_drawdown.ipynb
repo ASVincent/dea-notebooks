{
 "cells": [
  {
   "cell_type": "code",
   "execution_count": 29,
   "metadata": {},
   "outputs": [
    {
     "name": "stdout",
     "output_type": "stream",
     "text": [
      "The autoreload extension is already loaded. To reload it, use:\n",
      "  %reload_ext autoreload\n"
     ]
    }
   ],
   "source": [
    "import sys\n",
    "import fiona\n",
    "import numpy as np\n",
    "import pandas as pd\n",
    "import xarray as xr\n",
    "import rasterio.features\n",
    "import statsmodels.api as sm\n",
    "import matplotlib.pyplot as plt\n",
    "from datacube import Datacube\n",
    "from datacube.utils import geometry\n",
    "from datacube.storage import masking\n",
    "from scipy.signal import argrelextrema\n",
    "from datacube.utils import geometry\n",
    "import fiona\n",
    "import rasterio.features\n",
    "import os\n",
    "\n",
    "# Import external functions from dea-notebooks using relative link to Scripts\n",
    "sys.path.append('../Scripts')\n",
    "import DEAPlotting\n",
    "import DEADataHandling\n",
    "import BandIndices\n",
    "\n",
    "\n",
    "%load_ext autoreload\n",
    "%autoreload 2\n",
    "\n",
    "\n",
    "# Connect to datacube\n",
    "dc = Datacube(app='Flood drawdown')\n",
    "\n",
    "# Import functions\n",
    "def abline(slope, intercept, plot_kwargs):\n",
    "    \n",
    "    \"\"\"\n",
    "    Plot a line from slope and intercept\n",
    "    \"\"\"\n",
    "    \n",
    "    axes = plt.gca()\n",
    "    x_vals = np.array(axes.get_xlim())\n",
    "    y_vals = intercept + slope * x_vals\n",
    "    plt.plot(x_vals, y_vals, '--', **plot_kwargs) \n"
   ]
  },
  {
   "cell_type": "code",
   "execution_count": 57,
   "metadata": {},
   "outputs": [],
   "source": [
    "# Set working dir\n",
    "os.chdir('/g/data/r78/rt1527/dea-notebooks/Enviroflows')\n",
    "\n",
    "# Start and end period\n",
    "start_string, end_string = '2016-06-01', '2017-12-31'\n",
    "study_area_shp = 'raw_data/macmarsh/redgumreeds_gums.shp'\n",
    "hydrograph_csv = 'raw_data/euston_flow.csv'\n",
    "days_since = False\n",
    "study_area = 'macmarsh_gums'\n",
    "gooddata_threshold = 0.7\n",
    "\n",
    "# Start and end period\n",
    "start_string, end_string = '2016-06-01', '2017-12-31'\n",
    "study_area_shp = 'raw_data/hattahlakes/hattahlakes_north.shp'\n",
    "hydrograph_csv = 'raw_data/euston_flow.csv'\n",
    "days_since = False\n",
    "study_area = 'hattahlakes_north'\n",
    "gooddata_threshold = 0.7\n",
    "\n",
    "\n",
    "\n",
    "# /g/data/r78/rt1527/dea-notebooks/Enviroflows/"
   ]
  },
  {
   "cell_type": "markdown",
   "metadata": {},
   "source": [
    "## Extract local minima and maxima"
   ]
  },
  {
   "cell_type": "code",
   "execution_count": 58,
   "metadata": {},
   "outputs": [],
   "source": [
    "# # Set area over which index values should be averaged\n",
    "# df = pd.read_csv(hydrograph_csv, index_col='date', parse_dates=True, dayfirst=True)\n",
    "# df.rename(columns={'mean':'data'}, inplace=True)\n",
    "\n",
    "# # Subset to time limit\n",
    "# df = df[(df.index >= '2008-01-01') & (df.index <= '2018-12-30')]\n",
    "# # df = df[(df.index >= '1998-01-01') & (df.index <= '2005-12-30')]\n",
    "\n",
    "# # Find local peaks\n",
    "# n = 120\n",
    "# df['min'] = df.iloc[argrelextrema(df.data.values, np.less_equal, order=n)[0],0]\n",
    "# df['max'] = df.iloc[argrelextrema(df.data.values, np.greater_equal, order=n)[0],0]\n",
    "\n",
    "# # Plot results\n",
    "# plt.scatter(df.index, df['min'], c='r')\n",
    "# plt.scatter(df.index, df['max'], c='g')\n",
    "# plt.plot(df.index, df['data'])\n",
    "# plt.show()\n"
   ]
  },
  {
   "cell_type": "markdown",
   "metadata": {},
   "source": [
    "### Identify start and end date for flood"
   ]
  },
  {
   "cell_type": "code",
   "execution_count": 38,
   "metadata": {},
   "outputs": [],
   "source": [
    "# # Choose desired maxima; 9\n",
    "# maxima_i = 9\n",
    "\n",
    "# # Extract the start time based on maxima, and the end time based on subsequent minima\n",
    "# date_start = df.dropna(subset=['max']).index.date[maxima_i]\n",
    "# date_end = df.dropna(subset=['min']).truncate(before=date_start).iloc[0:1].index.date[0]\n",
    "# print(date_start.isoformat(), date_end.isoformat())\n",
    "\n",
    "# # Plot hydrograph between maxima and minima only\n",
    "# df[(df.index >= date_start.isoformat()) & (df.index <= date_end.isoformat())].plot()\n",
    "\n",
    "# # Get string format from dates\n",
    "# start_string, end_string = date_start.isoformat(), date_end.isoformat()"
   ]
  },
  {
   "cell_type": "markdown",
   "metadata": {},
   "source": [
    "## Import WOFLs and Landsat data"
   ]
  },
  {
   "cell_type": "code",
   "execution_count": 59,
   "metadata": {},
   "outputs": [
    {
     "name": "stdout",
     "output_type": "stream",
     "text": [
      "    Skipping ls5\n",
      "Loading ls7 PQ\n",
      "    Loading 24 filtered ls7 timesteps\n",
      "Loading ls8 PQ\n",
      "    Loading 25 filtered ls8 timesteps\n",
      "Combining and sorting ls5, ls7 and ls8 data\n"
     ]
    }
   ],
   "source": [
    "# Get geom from shapefile\n",
    "with fiona.open(study_area_shp) as shapes:\n",
    "        crs = geometry.CRS(shapes.crs_wkt)\n",
    "        first_geometry = next(iter(shapes))['geometry']\n",
    "        geom = geometry.Geometry(first_geometry, crs=crs)\n",
    "\n",
    "# Create query from time period and geom\n",
    "query = {'geopolygon': geom,\n",
    "         'time':(start_string, end_string)}\n",
    "\n",
    "# Extract WOFS and Landsat\n",
    "WOFL = dc.load(product='wofs_albers', **query)\n",
    "landsat = DEADataHandling.load_clearlandsat(dc=dc, query=query, masked_prop=0.01, \n",
    "                                            ls7_slc_off=True, apply_mask=True,\n",
    "                                            mask_dict={'cloud_acca': 'no_cloud', \n",
    "                                                       'cloud_fmask': 'no_cloud',  \n",
    "                                                       'cloud_shadow_acca':'no_cloud_shadow',\n",
    "                                                       'cloud_shadow_fmask':'no_cloud_shadow',\n",
    "                                                       'blue_saturated':False,\n",
    "                                                       'green_saturated':False,\n",
    "                                                       'red_saturated':False,\n",
    "                                                       'nir_saturated':False,\n",
    "                                                       'swir1_saturated':False,\n",
    "                                                       'swir2_saturated':False,\n",
    "                                                       'contiguous':True})\n"
   ]
  },
  {
   "cell_type": "markdown",
   "metadata": {},
   "source": [
    "## Identify wet and water pixels and normalise by proportion of valid data"
   ]
  },
  {
   "cell_type": "code",
   "execution_count": 60,
   "metadata": {},
   "outputs": [],
   "source": [
    "# Identify all wet pixels\n",
    "wofls_water = masking.make_mask(WOFL, wet = True)\n",
    "# wofls_water.water.plot(col='time', col_wrap=5)\n",
    "\n",
    "# Identify only WOFLs pixels with valid data \n",
    "wofls_gooddata = masking.make_mask(WOFL, \n",
    "                                   cloud=False,\n",
    "                                   cloud_shadow=False,\n",
    "                                   high_slope=False,\n",
    "                                   noncontiguous=False,\n",
    "                                   terrain_or_low_angle=False)\n",
    "\n",
    "# Compute thresholded tasselled cap\n",
    "landsat_wetness = (BandIndices.tasseled_cap(landsat, tc_bands=['wetness'], drop=True) > -600)\n",
    "\n",
    "# Identify Landsat pixels with valid data\n",
    "landsat_gooddata = ~landsat.isnull()\n",
    "\n",
    "# Create mask from polygon to match input data\n",
    "polygon_mask = rasterio.features.geometry_mask([geom.to_crs(WOFL.geobox.crs) for geoms in [geom]],\n",
    "                                                out_shape=WOFL.geobox.shape,\n",
    "                                                transform=WOFL.geobox.affine,\n",
    "                                                all_touched=False,\n",
    "                                                invert=True)\n",
    "\n",
    "# Use polygon mask to extract only pixels of arrays within polygon\n",
    "wofls_water_masked = wofls_water.where(polygon_mask)\n",
    "wofls_gooddata_masked = wofls_gooddata.water.where(polygon_mask)\n",
    "landsat_wetness_masked = landsat_wetness.where(polygon_mask)\n",
    "landsat_gooddata_masked = landsat_gooddata.red.where(polygon_mask)\n",
    "\n",
    "# Compute total area of polygon and total area of valid data\n",
    "polygon_area = polygon_mask.sum()\n",
    "wofls_gooddata_area = wofls_gooddata_masked.sum(dim=['x','y'])\n",
    "landsat_gooddata_area = landsat_gooddata_masked.sum(dim=['x','y'])\n",
    "\n",
    "# Calculate normalised percentages\n",
    "wofls_water_prop = wofls_water_masked.sum(dim=['x','y']) / wofls_gooddata_area\n",
    "landsat_wetness_prop = landsat_wetness_masked.sum(dim=['x','y']) / landsat_gooddata_area\n",
    "\n",
    "# Calculate percentage nodata as proportion of entire polygon study area\n",
    "gooddata_prop = (wofls_gooddata_area / polygon_area)\n",
    "\n",
    "# Keep only timesteps with greater than 70% data per timestep \n",
    "to_keep = gooddata_prop > gooddata_threshold\n",
    "wofls_water_prop = wofls_water_prop.where(to_keep, drop=True)\n",
    "landsat_wetness_prop = landsat_wetness_prop.where(to_keep, drop=True)\n",
    "\n",
    "# Combine into a single dataframe\n",
    "output_df = xr.auto_combine([landsat_wetness_prop, wofls_water_prop]).to_dataframe()"
   ]
  },
  {
   "cell_type": "markdown",
   "metadata": {},
   "source": [
    "## Plot time series"
   ]
  },
  {
   "cell_type": "code",
   "execution_count": 61,
   "metadata": {},
   "outputs": [
    {
     "data": {
      "image/png": "[encoded data removed]",
      "text/plain": [
       "<Figure size 720x504 with 1 Axes>"
      ]
     },
     "metadata": {},
     "output_type": "display_data"
    }
   ],
   "source": [
    "# Compute days since flood peak\n",
    "output_df['flood_peak'] = pd.to_datetime(date_start)\n",
    "output_df['days_since_peak'] = (output_df.index - output_df['flood_peak']).dt.days\n",
    "\n",
    "# Calculate stats\n",
    "x = output_df.days_since_peak.values\n",
    "y = output_df.wetness.values\n",
    "model = sm.OLS(y, sm.add_constant(x)).fit()\n",
    "\n",
    "# Optionally set to days since vs date\n",
    "if days_since:\n",
    "    \n",
    "    # Rename and plot\n",
    "    plotting_df = output_df[['wetness', 'water', 'days_since_peak']].set_index('days_since_peak')\n",
    "    plotting_df = plotting_df.rename(columns={'wetness':'Wet terrain & vegetation', 'water':'Standing water'})\n",
    "    plotting_df.plot(figsize=(10, 7))\n",
    "    plt.gca().set_yticklabels(['{:,.0%}'.format(x) for x in plt.gca().get_yticks()])\n",
    "    \n",
    "else:\n",
    "   \n",
    "    # Rename and plot\n",
    "    plotting_df = output_df[['wetness', 'water']]\n",
    "    plotting_df = plotting_df.rename(columns={'wetness':'Wet terrain & vegetation', 'water':'Standing water'})\n",
    "    plotting_df.plot(figsize=(10, 7))\n",
    "    plt.gca().set_yticklabels(['{:,.0%}'.format(x) for x in plt.gca().get_yticks()])\n",
    "\n",
    "# Export to file\n",
    "plt.savefig(\"figures/{}_{}_{}.png\".format(study_area, start_string, end_string), pad_inches = 0, dpi=300, bbox_inches='tight') "
   ]
  },
  {
   "cell_type": "code",
   "execution_count": null,
   "metadata": {},
   "outputs": [],
   "source": []
  }
 ],
 "metadata": {
  "kernelspec": {
   "display_name": "Python 3",
   "language": "python",
   "name": "python3"
  },
  "language_info": {
   "codemirror_mode": {
    "name": "ipython",
    "version": 3
   },
   "file_extension": ".py",
   "mimetype": "text/x-python",
   "name": "python",
   "nbconvert_exporter": "python",
   "pygments_lexer": "ipython3",
   "version": "3.6.5"
  }
 },
 "nbformat": 4,
 "nbformat_minor": 2
}
