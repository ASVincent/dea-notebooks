{
 "cells": [
  {
   "cell_type": "markdown",
   "metadata": {},
   "source": [
    "# DEA - Surface Reflectance Intercomparison Tool\n",
    "\n",
    "{{ add blurb }}"
   ]
  },
  {
   "cell_type": "code",
   "execution_count": 1,
   "metadata": {},
   "outputs": [],
   "source": [
    "# Requirements\n",
    "import os\n",
    "import os.path\n",
    "import sys\n",
    "import importlib.util\n",
    "\n",
    "def load_dea_script(module_name, script_dir=None):\n",
    "    \"\"\" This function enables importing files from other collections in dea-notebooks \"\"\"\n",
    "    script_dir = script_dir or os.path.dirname(os.getcwd()) + '/10_Scripts'\n",
    "    spec = importlib.util.spec_from_file_location(module_name, script_dir + '/' + module_name + '.py')\n",
    "    module = importlib.util.module_from_spec(spec)\n",
    "    spec.loader.exec_module(module)\n",
    "    sys.modules[module_name] = module\n",
    "\n",
    "load_dea_script('DEADataHandling')\n",
    "import DEADataHandling\n",
    "    \n",
    "from datacube import Datacube\n",
    "from datacube.config import LocalConfig\n",
    "from configparser import ConfigParser\n",
    "\n",
    "from ipywidgets import Dropdown, DatePicker\n",
    "import ipywidgets as widgets"
   ]
  },
  {
   "cell_type": "code",
   "execution_count": 2,
   "metadata": {},
   "outputs": [],
   "source": [
    "\"\"\"\n",
    "Datacube UI functions\n",
    "\"\"\"\n",
    "def get_datacube_environments(cfg_path=None):\n",
    "    \"\"\" Reads datacube environments from default configuration paths\"\"\"\n",
    "    if cfg_path:\n",
    "        lc = LocalConfig(cfg_path)\n",
    "    else:\n",
    "        lc = LocalConfig.find()\n",
    "    for fn in lc.files_loaded:\n",
    "        _cfg = ConfigParser()\n",
    "        _cfg.read(fn)\n",
    "        for _section in _cfg.sections():\n",
    "            yield (_section, fn)\n",
    "            \n",
    "def get_datacube_products(dc_env, dc_cfg):\n",
    "    \"\"\" Returns products defined for a given datacube \"\"\"\n",
    "    dc = Datacube(config=dc_cfg, env=dc_env)\n",
    "    for index, row in dc.list_products().iterrows():\n",
    "        yield index, row['name']\n",
    "\n",
    "class DCProduct:\n",
    "    def __init__(self):\n",
    "        self._cfg = widgets.Dropdown(\n",
    "            description=\"cfg path:\",\n",
    "                options=[\n",
    "                    (\n",
    "                        \"{} -- {}\".format(env, filen),\n",
    "                        \"{}:{}\".format(env, filen)\n",
    "                    )\n",
    "                    for (env, filen) in get_datacube_environments()\n",
    "                ]\n",
    "        )\n",
    "        \n",
    "        self._product = widgets.Dropdown(\n",
    "            description=\"product:\",\n",
    "            options=[]\n",
    "        )\n",
    "        \n",
    "        self._bands = widgets.SelectMultiple(\n",
    "            description=\"bands:\",\n",
    "            options=[]\n",
    "        )\n",
    "        self._cfg.observe(self._update_product_options, names='value')\n",
    "        self._product.observe(self._update_band_options, names='value')\n",
    "        self._update_product_options({'new': self._cfg.options[0][1]})\n",
    "        \n",
    "    def _update_product_options(self, change):\n",
    "        self._product.options = [\n",
    "            (product, p_id) for (p_id, product) in get_datacube_products(\n",
    "            *change['new'].split(':'))\n",
    "        ]\n",
    "        \n",
    "    def _update_band_options(self, change):\n",
    "        self._bands.options = list(\n",
    "            self.datacube\n",
    "            .index.products\n",
    "            .get(change['new']).measurements\n",
    "        )\n",
    "        \n",
    "    def generate_display(self):        \n",
    "        return widgets.VBox([\n",
    "            self._cfg,\n",
    "            self._product,\n",
    "            self._bands\n",
    "        ])\n",
    "    \n",
    "    @property\n",
    "    def datacube(self):\n",
    "        dc_env, dc_cfg = self._cfg.value.split(':')\n",
    "        return Datacube(config=dc_cfg, env=dc_env)\n",
    "    \n",
    "    @property\n",
    "    def product_id(self):\n",
    "        return self._product.value\n",
    "    \n",
    "    @property\n",
    "    def selected_bands(self):\n",
    "        return self._bands.value\n",
    "\n",
    "    \n",
    "class DCProductSelector:\n",
    "    \"\"\"\n",
    "    Class wrapper to configure the products for the experiment\n",
    "    Generates a UI to select the datacube configuration, product \n",
    "        and bands for product to compare\n",
    "    \"\"\"\n",
    "    \n",
    "    def __init__(self, product_count=4):\n",
    "        self.product_count = product_count\n",
    "        self._datacube_products = []\n",
    "        for i in range(product_count):\n",
    "            self._datacube_products.append(DCProduct())\n",
    "            \n",
    "    def generate_display(self):\n",
    "        tab_nest = widgets.Tab()\n",
    "        for idx, dcp in enumerate(self._datacube_products):\n",
    "            title = 'Product %d' % (idx + 1)\n",
    "            tab_nest.set_title(idx, title)\n",
    "            \n",
    "        tab_nest.children = tuple(_dcp.generate_display() for _dcp in self._datacube_products)\n",
    "        \n",
    "        return tab_nest\n",
    "\n",
    "    \n",
    "class StudyAreaSelector:\n",
    "    \n",
    "    def __init__(self):\n",
    "        self._start = DatePicker(\n",
    "            description='Start date:',\n",
    "            disabled=False\n",
    "        )\n",
    "        self._end = DatePicker(\n",
    "            description='End date:',\n",
    "            disabled=False\n",
    "        )\n",
    "        \n",
    "    @property\n",
    "    def start(self):\n",
    "        return getattr(self._start, 'value', None)\n",
    "    \n",
    "    @property\n",
    "    def end(self):\n",
    "        end = getattr(self._end, 'value', None)\n",
    "        start = self.start\n",
    "        if start and start > end:\n",
    "            raise ValueError(\"Start date is configured after end date\")\n",
    "        return end\n",
    "    \n",
    "    def generate_display(self):\n",
    "        return widgets.VBox([\n",
    "            self._start,\n",
    "            self._end\n",
    "        ])\n",
    "\n",
    "\n",
    "study_area = StudyAreaSelector()\n",
    "product_selector = DCProductSelector()"
   ]
  },
  {
   "cell_type": "markdown",
   "metadata": {},
   "source": [
    "### Product Configuration\n",
    "\n",
    "Select the products you would like to compare from Datacube"
   ]
  },
  {
   "cell_type": "code",
   "execution_count": 3,
   "metadata": {},
   "outputs": [
    {
     "data": {
      "application/vnd.jupyter.widget-view+json": {
       "model_id": "8152d9299e084cabafcc9b419b59663a",
       "version_major": 2,
       "version_minor": 0
      },
      "text/plain": [
       "Tab(children=(VBox(children=(Dropdown(description='cfg path:', options=(('datacube -- /g/data/v10/public/modul…"
      ]
     },
     "metadata": {},
     "output_type": "display_data"
    }
   ],
   "source": [
    "display(product_selector.generate_display())"
   ]
  },
  {
   "cell_type": "markdown",
   "metadata": {},
   "source": [
    "### Area of Study Configuration\n",
    "\n",
    "Select your study area"
   ]
  },
  {
   "cell_type": "code",
   "execution_count": 4,
   "metadata": {},
   "outputs": [
    {
     "data": {
      "application/vnd.jupyter.widget-view+json": {
       "model_id": "75e60b07cdd84db585d54b13ac8423c4",
       "version_major": 2,
       "version_minor": 0
      },
      "text/plain": [
       "VBox(children=(DatePicker(value=None, description='Start date:'), DatePicker(value=None, description='End date…"
      ]
     },
     "metadata": {},
     "output_type": "display_data"
    }
   ],
   "source": [
    "display(study_area.generate_display())"
   ]
  },
  {
   "cell_type": "code",
   "execution_count": 5,
   "metadata": {},
   "outputs": [
    {
     "name": "stdout",
     "output_type": "stream",
     "text": [
      "26 () 41591\n",
      "36 () 41591\n",
      "36 () 41591\n",
      "36 () 41591\n"
     ]
    }
   ],
   "source": [
    "for dc in product_selector._datacube_products:\n",
    "    print(dc.product_id, dc.selected_bands, len(dc.datacube.find_datasets(product='bom_rainfall_grids')))"
   ]
  },
  {
   "cell_type": "code",
   "execution_count": null,
   "metadata": {},
   "outputs": [],
   "source": []
  }
 ],
 "metadata": {
  "kernelspec": {
   "display_name": "Python [conda env:20181015]",
   "language": "python",
   "name": "conda-env-20181015-py"
  },
  "language_info": {
   "codemirror_mode": {
    "name": "ipython",
    "version": 3
   },
   "file_extension": ".py",
   "mimetype": "text/x-python",
   "name": "python",
   "nbconvert_exporter": "python",
   "pygments_lexer": "ipython3",
   "version": "3.6.6"
  }
 },
 "nbformat": 4,
 "nbformat_minor": 2
}
