{
 "cells": [
  {
   "cell_type": "markdown",
   "metadata": {},
   "source": [
    "# Attempt to download BoM Water Data Online\n",
    "\n",
    "Unable to get it to work!\n",
    "\n"
   ]
  },
  {
   "cell_type": "markdown",
   "metadata": {},
   "source": [
    "### Attempt 1 SOS2 Services for Water Data Online\n",
    "https://github.com/awracms/awra_cms/blob/master/Training/Advanced/AlterObjectiveFunction_DownloadBoMdata.ipynb\n",
    "\n",
    "The Bureau has implemented a Sensor Observation Service standard version 2 (SOS2) service to make publicly available the time series data it collects and manages under the Water Regulations 2008. The service provides data in WaterML2 format. The SOS2 standard was developed by the Open Geospatial Consortium (OGC) as part of the OGC Sensor Web Enablement framework. The WaterML2 standard was also developed by the OGC with support from the Bureau of Meteorology and CSIRO though the WIRADA research alliance.\n"
   ]
  },
  {
   "cell_type": "code",
   "execution_count": null,
   "metadata": {
    "ExecuteTime": {
     "end_time": "2019-02-15T08:34:52.588587Z",
     "start_time": "2019-02-15T08:34:52.582529Z"
    }
   },
   "outputs": [],
   "source": [
    "import sys\n",
    "sys.path.append('../10_Scripts')"
   ]
  },
  {
   "cell_type": "code",
   "execution_count": null,
   "metadata": {
    "ExecuteTime": {
     "end_time": "2019-02-15T08:34:54.203827Z",
     "start_time": "2019-02-15T08:34:53.179841Z"
    }
   },
   "outputs": [],
   "source": [
    "import talk_to_wiski2 as W"
   ]
  },
  {
   "cell_type": "code",
   "execution_count": null,
   "metadata": {
    "ExecuteTime": {
     "end_time": "2019-02-15T08:34:55.373051Z",
     "start_time": "2019-02-15T08:34:55.045830Z"
    }
   },
   "outputs": [],
   "source": [
    "# get set of stations (xml elements) that have 'Water Course Discharge'\n",
    "import talk_to_wiski2 as W\n",
    "wcds = W.get_station_list(\"Water Course Discharge\") # Get discharge volume (m3/sec) from wiski for gauging stations\n",
    "#### find all datasets for a station \"105001\"\n",
    "stns = W.find_id_in_station_list('105001',wcds) \n",
    "stns  #['105001B', '105001A']"
   ]
  },
  {
   "cell_type": "markdown",
   "metadata": {},
   "source": [
    "### Plot the downloaded data for site '105001B' including quality codes"
   ]
  },
  {
   "cell_type": "code",
   "execution_count": null,
   "metadata": {
    "ExecuteTime": {
     "end_time": "2019-02-15T08:14:57.925702Z",
     "start_time": "2019-02-15T08:14:57.867697Z"
    }
   },
   "outputs": [],
   "source": [
    "import numpy as np\n",
    "import pandas as pd\n",
    "siteid='105001' # site id according to benchmarking dataset\n",
    "whichsite=18.1 # find which of the set this corresponds to to get the true wrsids ID\n",
    "\n",
    "\n",
    "# get the data \n",
    "a=pd.DataFrame(W.get_data(wrsids[whichsite],obs_type=\"Water Course Discharge\",period=pd.date_range('1900-01-01','2017-10-23',freq='D'))) # Setup data to download from Wiski\n",
    "\n",
    "# plot the data\n",
    "%matplotlib inline\n",
    "figsize=(12,7)\n",
    "fig = plt.figure(figsize=figsize)\n",
    "fig.suptitle(wrsids[whichsite] + ' Water Course Discharge [ML/day]')\n",
    "ax1 = fig.add_subplot(3,1,1)\n",
    "a1=pd.DataFrame(a['values'])\n",
    "b=pd.DataFrame(qobs[str(int(ids[whichsite]))])\n",
    "# Convert mm/day benchmarking data set to cumecs as per downloaded data\n",
    "# Q(m^3/s) =Q (mm/day) *Catchment Area (m^2) / 1000mm/m * (24*3600second/day)   \n",
    "# area is provided in km^2\n",
    "# Q(m^3/s) =Q (mm/day) *Area (km^2)*1000*1000 /1000*24*3600 \n",
    "#          =Q (mm/day) *Area (km^2)/24*3.6\n",
    "#          =Q (mm/day) *Area (km^2)/86.4\n",
    "b=b*areas[whichsite]/86.4\n",
    "c=a1.join(b)\n",
    "dt = pd.to_datetime(a.index, format='%Y-%m-%d')\n",
    "ax1.plot_date(dt,c['values'],'-',label='Newly downloaded using webservices')\n",
    "ax1.plot_date(dt,c[siteid],'-',label='Original benchmarking')\n",
    "ax1.legend()\n",
    "ax1.set_title('Streamflow [ML/day]')\n",
    "ax1 = fig.add_subplot(3,1,2)\n",
    "ax1.plot_date(dt,c,'-')  \n",
    "plt.yscale('log')\n",
    "ax1.set_title('Streamflow [ML/day] (log-y axis)')\n",
    "\n",
    "# finaly qualaty codes\n",
    "ax1 = fig.add_subplot(3,1,3)\n",
    "ax1.plot(a['qualifier'],color='red')\n",
    "ax1.set_title('BoM Quality codes'+'1034=A, 1114=B, 1134=C, 1164=E, 1234=F')\n",
    "# see bom quality codes\n",
    "# currently known issue in SOS with transllations of quality codes\n",
    "#http://www.bom.gov.au/water/wdtf/documentation/schema-control-lists/quality-code.htm\n",
    "#dictQualityCodes='1034=A, 1114=B, 1134=C, 1164=E, 1234=F'    \n",
    " "
   ]
  },
  {
   "cell_type": "markdown",
   "metadata": {},
   "source": [
    "### Attempt 2 code from:\n",
    "\n",
    "https://github.com/peterataylor/bom-water-data-service-example/blob/master/bom-water-sos-example.ipynb"
   ]
  },
  {
   "cell_type": "code",
   "execution_count": null,
   "metadata": {
    "ExecuteTime": {
     "end_time": "2019-02-15T08:19:13.029063Z",
     "start_time": "2019-02-15T08:18:41.483947Z"
    }
   },
   "outputs": [],
   "source": [
    "from owslib.sos import SensorObservationService\n",
    "from owslib.swe.observation.sos200 import SOSGetObservationResponse\n",
    "from IPython.core.display import HTML\n",
    "\n",
    "service = SensorObservationService('http://www.bom.gov.au/waterdata/services',version='2.0.0')"
   ]
  },
  {
   "cell_type": "code",
   "execution_count": null,
   "metadata": {
    "ExecuteTime": {
     "end_time": "2019-02-15T02:32:39.001252Z",
     "start_time": "2019-02-15T02:32:38.987695Z"
    },
    "scrolled": true
   },
   "outputs": [],
   "source": [
    "str =''\n",
    "for prop in service.observed_properties:\n",
    "    str += '<li>' + prop.replace('http://bom.gov.au/waterdata/services/parameters/','') + '</li>'\n",
    "HTML(str)"
   ]
  },
  {
   "cell_type": "code",
   "execution_count": null,
   "metadata": {},
   "outputs": [],
   "source": []
  },
  {
   "cell_type": "code",
   "execution_count": null,
   "metadata": {
    "ExecuteTime": {
     "end_time": "2019-02-15T07:39:13.646794Z",
     "start_time": "2019-02-15T07:39:13.187128Z"
    }
   },
   "outputs": [],
   "source": [
    "response = service.get_observation(featureOfInterest='http://bom.gov.au/waterdata/services/stations/181.1',\n",
    "                                   offerings=['http://bom.gov.au/waterdata/services/tstypes/Pat4_PC_1'],\n",
    "                                   observedProperties=['http://bom.gov.au/waterdata/services/parameters/Water Course Discharge'],\n",
    "                                   eventTime='om:phenomenonTime,2016-01-01T00:00:00+10/2016-03-05T00:00:00+10', \n",
    "                                   headers={'User-Agent': 'Mozilla/5.0'})"
   ]
  },
  {
   "cell_type": "markdown",
   "metadata": {},
   "source": [
    "### a very basic example"
   ]
  },
  {
   "cell_type": "code",
   "execution_count": null,
   "metadata": {
    "ExecuteTime": {
     "end_time": "2019-02-15T02:28:24.110821Z",
     "start_time": "2019-02-15T02:28:23.453296Z"
    }
   },
   "outputs": [],
   "source": [
    "import owslib.sos as sos"
   ]
  },
  {
   "cell_type": "code",
   "execution_count": null,
   "metadata": {
    "ExecuteTime": {
     "end_time": "2019-02-15T02:28:24.824855Z",
     "start_time": "2019-02-15T02:28:24.518356Z"
    }
   },
   "outputs": [],
   "source": [
    "service =sos.SensorObservationService('http://www.bom.gov.au/waterdata/services',version='2.0')"
   ]
  },
  {
   "cell_type": "code",
   "execution_count": null,
   "metadata": {
    "ExecuteTime": {
     "end_time": "2019-02-15T02:28:26.338473Z",
     "start_time": "2019-02-15T02:28:26.299522Z"
    }
   },
   "outputs": [],
   "source": [
    "service.contents"
   ]
  },
  {
   "cell_type": "code",
   "execution_count": null,
   "metadata": {},
   "outputs": [],
   "source": []
  }
 ],
 "metadata": {
  "kernelspec": {
   "display_name": "Python [default]",
   "language": "python",
   "name": "python3"
  },
  "language_info": {
   "codemirror_mode": {
    "name": "ipython",
    "version": 3
   },
   "file_extension": ".py",
   "mimetype": "text/x-python",
   "name": "python",
   "nbconvert_exporter": "python",
   "pygments_lexer": "ipython3",
   "version": "3.6.6"
  },
  "toc": {
   "base_numbering": 1,
   "nav_menu": {},
   "number_sections": true,
   "sideBar": true,
   "skip_h1_title": false,
   "title_cell": "Table of Contents",
   "title_sidebar": "Contents",
   "toc_cell": false,
   "toc_position": {},
   "toc_section_display": true,
   "toc_window_display": false
  }
 },
 "nbformat": 4,
 "nbformat_minor": 2
}
