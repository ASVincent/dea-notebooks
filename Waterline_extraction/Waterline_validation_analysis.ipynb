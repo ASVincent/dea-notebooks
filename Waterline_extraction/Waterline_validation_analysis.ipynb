{
 "cells": [
  {
   "cell_type": "code",
   "execution_count": 2,
   "metadata": {},
   "outputs": [
    {
     "name": "stdout",
     "output_type": "stream",
     "text": [
      "The autoreload extension is already loaded. To reload it, use:\n",
      "  %reload_ext autoreload\n"
     ]
    }
   ],
   "source": [
    "import geopandas as gpd\n",
    "import pandas as pd\n",
    "import numpy as np\n",
    "import glob\n",
    "import os\n",
    "import math\n",
    "import xarray as xr\n",
    "import itertools\n",
    "from dateutil.relativedelta import relativedelta\n",
    "from datacube.utils import geometry\n",
    "from datacube.utils.geometry import CRS\n",
    "import datacube \n",
    "import matplotlib.pyplot as plt\n",
    "from scipy.interpolate import interp1d\n",
    "from shapely.geometry import Point, LineString, MultiPoint\n",
    "from datacube.helpers import ga_pq_fuser\n",
    "from datacube.storage import masking\n",
    "from sklearn.metrics import mean_squared_error\n",
    "from scipy import stats\n",
    "\n",
    "from otps import TimePoint\n",
    "from otps import predict_tide\n",
    "from datetime import datetime, timedelta\n",
    "from datacube.utils.geometry import CRS\n",
    "\n",
    "def tidal_tag(ds, tidepost_lat=None, tidepost_lon=None, swap_dims=False):\n",
    "    \n",
    "    if not tidepost_lat or not tidepost_lon:\n",
    "        \n",
    "        tidepost_lon, tidepost_lat = ds.extent.centroid.to_crs(crs=CRS('EPSG:4326')).coords[0]\n",
    "        print(f'Setting tide post from dataset centroid: {tidepost_lon}, {tidepost_lat}')\n",
    "        \n",
    "    else:\n",
    "        print(f'Using user-supplied tide post: {tidepost_lon}, {tidepost_lat}')\n",
    "    \n",
    "    # Use the tidal mode to compute tide heights for each observation:\n",
    "    obs_datetimes = ds.time.data.astype('M8[s]').astype('O').tolist()\n",
    "    obs_timepoints = [TimePoint(tidepost_lon, tidepost_lat, dt) for dt in obs_datetimes]\n",
    "    obs_predictedtides = predict_tide(obs_timepoints)\n",
    "    obs_tideheights = [predictedtide.tide_m for predictedtide in obs_predictedtides]\n",
    "\n",
    "    # Assign tide heights to the dataset as a new variable\n",
    "    ds['tide_heights'] = xr.DataArray(obs_tideheights, [('time', ds.time)])\n",
    "    \n",
    "    # If swap_dims = True, make tide height the primary dimension instead of time\n",
    "    if swap_dims:\n",
    "        \n",
    "        # Swap dimensions and sort by tide height\n",
    "        ds = ds.swap_dims({'time': 'tide_heights'})\n",
    "        ds = ds.sortby('tide_heights')        \n",
    "    \n",
    "    return ds\n",
    "\n",
    "# Connect to datacube database\n",
    "dc_ard = datacube.Datacube(config='/home/561/rt1527/.ard-interoperability_tmp.conf')\n",
    "dc = datacube.Datacube()\n",
    "\n",
    "import sys\n",
    "sys.path.append('../10_Scripts')\n",
    "import DEAPlotting, SpatialTools\n",
    "\n",
    "%load_ext autoreload\n",
    "%autoreload 2\n"
   ]
  },
  {
   "cell_type": "markdown",
   "metadata": {},
   "source": [
    "## Extract waterlines for site\n",
    "To do: look into one pixel leftward offset"
   ]
  },
  {
   "cell_type": "code",
   "execution_count": 3,
   "metadata": {},
   "outputs": [
    {
     "data": {
      "text/html": [
       "<div style=\"width:100%;\"><div style=\"position:relative;width:100%;height:0;padding-bottom:60%;\"><iframe src=\"data:text/html;charset=utf-8;base64,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\" style=\"position:absolute;width:100%;height:100%;left:0;top:0;border:none !important;\" allowfullscreen webkitallowfullscreen mozallowfullscreen></iframe></div></div>"
      ],
      "text/plain": [
       "<folium.folium.Map at 0x7fa6262259b0>"
      ]
     },
     "execution_count": 3,
     "metadata": {},
     "output_type": "execute_result"
    }
   ],
   "source": [
    "site = 'sistersbeach'\n",
    "shoreline_dist = pd.read_csv(f'/g/data/r78/rt1527/dea-notebooks/Waterline_extraction/validation/processed/validation_{site}.csv')\n",
    "shoreline_dist['date'] = pd.to_datetime(shoreline_dist.date)\n",
    "\n",
    "xmin, xmax = shoreline_dist.loc[:, ['origin_x', 'end_x']].melt()['value'].quantile([0, 1.0])\n",
    "ymin, ymax = shoreline_dist.loc[:, ['origin_y', 'end_y']].melt()['value'].quantile([0, 1.0])\n",
    "\n",
    "DEAPlotting.display_map(x=(xmin, xmax), y=(ymin, ymax), crs='EPSG:28356')\n",
    "shoreline_dates = shoreline_dist['date'].unique()\n",
    "shoreline_dates.sort()\n",
    "\n",
    "DEAPlotting.display_map(x=(xmin, xmax), y=(ymin, ymax), crs='EPSG:32756')"
   ]
  },
  {
   "cell_type": "code",
   "execution_count": 4,
   "metadata": {},
   "outputs": [
    {
     "ename": "AttributeError",
     "evalue": "'Dataset' object has no attribute 'fmask'",
     "output_type": "error",
     "traceback": [
      "\u001b[0;31m---------------------------------------------------------------------------\u001b[0m",
      "\u001b[0;31mAttributeError\u001b[0m                            Traceback (most recent call last)",
      "\u001b[0;32m<ipython-input-4-b8f63b79dcfd>\u001b[0m in \u001b[0;36m<module>\u001b[0;34m\u001b[0m\n\u001b[1;32m     23\u001b[0m     \u001b[0;31m# Identify pixels with valid data: no nodata, no cloud and no cloud shadow\u001b[0m\u001b[0;34m\u001b[0m\u001b[0;34m\u001b[0m\u001b[0m\n\u001b[1;32m     24\u001b[0m     good_quality = ((landsat_ds.fmask != 0) & \n\u001b[0;32m---> 25\u001b[0;31m                     \u001b[0;34m(\u001b[0m\u001b[0mlandsat_ds\u001b[0m\u001b[0;34m.\u001b[0m\u001b[0mfmask\u001b[0m \u001b[0;34m!=\u001b[0m \u001b[0;36m2\u001b[0m\u001b[0;34m)\u001b[0m \u001b[0;34m&\u001b[0m\u001b[0;34m\u001b[0m\u001b[0m\n\u001b[0m\u001b[1;32m     26\u001b[0m                     (landsat_ds.fmask != 3))\n\u001b[1;32m     27\u001b[0m \u001b[0;34m\u001b[0m\u001b[0m\n",
      "\u001b[0;32m/g/data/v10/public/modules/dea-env/20181015/lib/python3.6/site-packages/xarray/core/common.py\u001b[0m in \u001b[0;36m__getattr__\u001b[0;34m(self, name)\u001b[0m\n\u001b[1;32m    175\u001b[0m                     \u001b[0;32mreturn\u001b[0m \u001b[0msource\u001b[0m\u001b[0;34m[\u001b[0m\u001b[0mname\u001b[0m\u001b[0;34m]\u001b[0m\u001b[0;34m\u001b[0m\u001b[0m\n\u001b[1;32m    176\u001b[0m         raise AttributeError(\"%r object has no attribute %r\" %\n\u001b[0;32m--> 177\u001b[0;31m                              (type(self).__name__, name))\n\u001b[0m\u001b[1;32m    178\u001b[0m \u001b[0;34m\u001b[0m\u001b[0m\n\u001b[1;32m    179\u001b[0m     \u001b[0;32mdef\u001b[0m \u001b[0m__setattr__\u001b[0m\u001b[0;34m(\u001b[0m\u001b[0mself\u001b[0m\u001b[0;34m,\u001b[0m \u001b[0mname\u001b[0m\u001b[0;34m,\u001b[0m \u001b[0mvalue\u001b[0m\u001b[0;34m)\u001b[0m\u001b[0;34m:\u001b[0m\u001b[0;34m\u001b[0m\u001b[0m\n",
      "\u001b[0;31mAttributeError\u001b[0m: 'Dataset' object has no attribute 'fmask'"
     ]
    }
   ],
   "source": [
    "collection = 'Collection upgrade align'\n",
    "\n",
    "# Set up query\n",
    "query = {'x': (xmin - 100, xmax + 100),\n",
    "         'y': (ymin - 100, ymax + 100),\n",
    "         'time': ('1987-01-01', '2019-12-29'),\n",
    "         'crs': 'EPSG:28356'}\n",
    "\n",
    "xarray_dict = {}\n",
    "\n",
    "for sensor in ['ls5', 'ls7', 'ls8']:\n",
    "\n",
    "    # Load data in UTM zone coordinates\n",
    "    landsat_ds = dc_ard.load(product = f'{sensor}_ard', \n",
    "                         group_by = 'solar_day', \n",
    "                         output_crs = 'EPSG:28356',\n",
    "                         measurements = ['nbart_green', 'nbart_nir', 'nbart_swir_1',  'fmask'],\n",
    "                         resolution = (-30, 30),\n",
    "                         dask_chunks={'time': 1},\n",
    "                         align=(30/2.0, 30/2.0),\n",
    "                         **query)\n",
    "\n",
    "    # Identify pixels with valid data: no nodata, no cloud and no cloud shadow\n",
    "    good_quality = ((landsat_ds.fmask != 0) & \n",
    "                    (landsat_ds.fmask != 2) & \n",
    "                    (landsat_ds.fmask != 3))\n",
    "\n",
    "    # Apply mask to set all PQ-affected pixels to NaN and set nodata to NaN\n",
    "    landsat_ds = landsat_ds.where(good_quality)\n",
    "\n",
    "    # Compute NDWI and MNDWI \n",
    "    landsat_ds['NDWI'] = (landsat_ds.nbart_green - landsat_ds.nbart_nir) / (landsat_ds.nbart_green + landsat_ds.nbart_nir)\n",
    "    landsat_ds['MNDWI'] = (landsat_ds.nbart_green - landsat_ds.nbart_swir_1) / (landsat_ds.nbart_green + landsat_ds.nbart_swir_1)\n",
    "    \n",
    "    xarray_dict[sensor] = landsat_ds\n",
    "    \n",
    "landsat_ds = xr.concat(xarray_dict.values(), dim='time')[['MNDWI', 'NDWI']]\n",
    "landsat_ds = landsat_ds.sortby('time')"
   ]
  },
  {
   "cell_type": "code",
   "execution_count": 67,
   "metadata": {},
   "outputs": [
    {
     "data": {
      "text/plain": [
       "<xarray.Dataset>\n",
       "Dimensions:  (time: 965, x: 26, y: 126)\n",
       "Coordinates:\n",
       "  * time     (time) datetime64[ns] 1987-05-22T23:06:08.354807 ... 2018-12-21T23:41:59.911422\n",
       "  * x        (x) float64 5.42e+05 5.42e+05 5.42e+05 ... 5.427e+05 5.427e+05\n",
       "  * y        (y) float64 6.91e+06 6.91e+06 6.91e+06 ... 6.906e+06 6.906e+06\n",
       "Data variables:\n",
       "    MNDWI    (time, y, x) float64 dask.array<shape=(965, 126, 26), chunksize=(1, 126, 26)>\n",
       "    NDWI     (time, y, x) float64 dask.array<shape=(965, 126, 26), chunksize=(1, 126, 26)>\n",
       "Attributes:\n",
       "    crs:      EPSG:28356"
      ]
     },
     "execution_count": 67,
     "metadata": {},
     "output_type": "execute_result"
    }
   ],
   "source": [
    "landsat_ds"
   ]
  },
  {
   "cell_type": "code",
   "execution_count": 7,
   "metadata": {},
   "outputs": [],
   "source": [
    "collection = 'Current collection'\n",
    "\n",
    "# Set up query\n",
    "query = {'x': (xmin - 100, xmax + 100),\n",
    "         'y': (ymin - 100, ymax + 100),\n",
    "         'time': ('1987-01-01', '2019-12-29'),\n",
    "         'crs': 'EPSG:32756'}\n",
    "\n",
    "xarray_dict = {}\n",
    "\n",
    "for sensor in ['ls5', 'ls7', 'ls8']:\n",
    "\n",
    "    # Load data \n",
    "    landsat_ds = dc.load(product = f'{sensor}_nbart_albers', \n",
    "                         group_by = 'solar_day', \n",
    "                         output_crs = 'EPSG:32756',\n",
    "                         measurements = ['green', 'nir', 'swir1'],\n",
    "                         resolution = (-30, 30),\n",
    "                         resampling='bilinear',\n",
    "                         dask_chunks={'time': 1},\n",
    "                         **query)\n",
    "\n",
    "    # Load data in UTM zone coordinates\n",
    "    landsat_pq = dc.load(product = f'{sensor}_pq_albers', \n",
    "                         group_by = 'solar_day', \n",
    "                         output_crs = 'EPSG:32756',\n",
    "                         measurements = ['pixelquality'],\n",
    "                         resolution = (-30, 30),\n",
    "                         resampling='nearest',\n",
    "                         dask_chunks={'time': 1},\n",
    "                         **query)                       \n",
    "\n",
    "    # Return only Landsat observations that have matching PQ data \n",
    "    time = (landsat_ds.time - landsat_pq.time).time\n",
    "    landsat_ds = landsat_ds.sel(time=time)\n",
    "    landsat_pq = landsat_pq.sel(time=time)\n",
    "\n",
    "    # Create mask\n",
    "    good_quality = masking.make_mask(landsat_pq.pixelquality,\n",
    "                                     cloud_acca='no_cloud',\n",
    "                                     cloud_shadow_acca='no_cloud_shadow',\n",
    "                                     cloud_shadow_fmask='no_cloud_shadow',\n",
    "                                     cloud_fmask='no_cloud',\n",
    "                                     blue_saturated=False,\n",
    "                                     green_saturated=False,\n",
    "                                     red_saturated=False,\n",
    "                                     nir_saturated=False,\n",
    "                                     swir1_saturated=False,\n",
    "                                     swir2_saturated=False,\n",
    "                                     contiguous=True) \n",
    "    \n",
    "    # Apply mask to set all PQ-affected pixels to NaN and set nodata to NaN\n",
    "    landsat_ds = landsat_ds.where(good_quality)\n",
    "\n",
    "    # Compute NDWI and MNDWI \n",
    "    landsat_ds['NDWI'] = (landsat_ds.green - landsat_ds.nir) / (landsat_ds.green + landsat_ds.nir)\n",
    "    landsat_ds['MNDWI'] = (landsat_ds.green - landsat_ds.swir1) / (landsat_ds.green + landsat_ds.swir1)\n",
    "    \n",
    "    xarray_dict[sensor] = landsat_ds\n",
    "    \n",
    "landsat_ds = xr.concat(xarray_dict.values(), dim='time')[['MNDWI', 'NDWI']]\n",
    "landsat_ds = landsat_ds.sortby('time')"
   ]
  },
  {
   "cell_type": "markdown",
   "metadata": {},
   "source": [
    "## Annual composites"
   ]
  },
  {
   "cell_type": "code",
   "execution_count": 8,
   "metadata": {},
   "outputs": [
    {
     "name": "stdout",
     "output_type": "stream",
     "text": [
      "[2006 2007 2008 2010 2011 2012 2013]\n",
      "Setting tide post from dataset centroid: 145.55607057599164, -40.9107924194769\n"
     ]
    },
    {
     "ename": "TypeError",
     "evalue": "tuple indices must be integers or slices, not tuple",
     "output_type": "error",
     "traceback": [
      "\u001b[0;31m---------------------------------------------------------------------------\u001b[0m",
      "\u001b[0;31mTypeError\u001b[0m                                 Traceback (most recent call last)",
      "\u001b[0;32m<ipython-input-8-cbf8d8d57066>\u001b[0m in \u001b[0;36m<module>\u001b[0;34m\u001b[0m\n\u001b[1;32m     18\u001b[0m \u001b[0;34m\u001b[0m\u001b[0m\n\u001b[1;32m     19\u001b[0m \u001b[0;31m# Load data into memory and take median\u001b[0m\u001b[0;34m\u001b[0m\u001b[0;34m\u001b[0m\u001b[0m\n\u001b[0;32m---> 20\u001b[0;31m \u001b[0mout\u001b[0m \u001b[0;34m=\u001b[0m \u001b[0mlandsat_subset\u001b[0m\u001b[0;34m.\u001b[0m\u001b[0mcompute\u001b[0m\u001b[0;34m(\u001b[0m\u001b[0;34m)\u001b[0m\u001b[0;34m.\u001b[0m\u001b[0mgroupby\u001b[0m\u001b[0;34m(\u001b[0m\u001b[0;34m'time.year'\u001b[0m\u001b[0;34m)\u001b[0m\u001b[0;34m.\u001b[0m\u001b[0mmedian\u001b[0m\u001b[0;34m(\u001b[0m\u001b[0mdim\u001b[0m\u001b[0;34m=\u001b[0m\u001b[0;34m'time'\u001b[0m\u001b[0;34m)\u001b[0m\u001b[0;34m\u001b[0m\u001b[0m\n\u001b[0m",
      "\u001b[0;32m/g/data/v10/public/modules/dea-env/20181015/lib/python3.6/site-packages/xarray/core/dataset.py\u001b[0m in \u001b[0;36mcompute\u001b[0;34m(self, **kwargs)\u001b[0m\n\u001b[1;32m    592\u001b[0m         \"\"\"\n\u001b[1;32m    593\u001b[0m         \u001b[0mnew\u001b[0m \u001b[0;34m=\u001b[0m \u001b[0mself\u001b[0m\u001b[0;34m.\u001b[0m\u001b[0mcopy\u001b[0m\u001b[0;34m(\u001b[0m\u001b[0mdeep\u001b[0m\u001b[0;34m=\u001b[0m\u001b[0;32mFalse\u001b[0m\u001b[0;34m)\u001b[0m\u001b[0;34m\u001b[0m\u001b[0m\n\u001b[0;32m--> 594\u001b[0;31m         \u001b[0;32mreturn\u001b[0m \u001b[0mnew\u001b[0m\u001b[0;34m.\u001b[0m\u001b[0mload\u001b[0m\u001b[0;34m(\u001b[0m\u001b[0;34m**\u001b[0m\u001b[0mkwargs\u001b[0m\u001b[0;34m)\u001b[0m\u001b[0;34m\u001b[0m\u001b[0m\n\u001b[0m\u001b[1;32m    595\u001b[0m \u001b[0;34m\u001b[0m\u001b[0m\n\u001b[1;32m    596\u001b[0m     \u001b[0;32mdef\u001b[0m \u001b[0m_persist_inplace\u001b[0m\u001b[0;34m(\u001b[0m\u001b[0mself\u001b[0m\u001b[0;34m,\u001b[0m \u001b[0;34m**\u001b[0m\u001b[0mkwargs\u001b[0m\u001b[0;34m)\u001b[0m\u001b[0;34m:\u001b[0m\u001b[0;34m\u001b[0m\u001b[0m\n",
      "\u001b[0;32m/g/data/v10/public/modules/dea-env/20181015/lib/python3.6/site-packages/xarray/core/dataset.py\u001b[0m in \u001b[0;36mload\u001b[0;34m(self, **kwargs)\u001b[0m\n\u001b[1;32m    489\u001b[0m \u001b[0;34m\u001b[0m\u001b[0m\n\u001b[1;32m    490\u001b[0m             \u001b[0;31m# evaluate all the dask arrays simultaneously\u001b[0m\u001b[0;34m\u001b[0m\u001b[0;34m\u001b[0m\u001b[0m\n\u001b[0;32m--> 491\u001b[0;31m             \u001b[0mevaluated_data\u001b[0m \u001b[0;34m=\u001b[0m \u001b[0mda\u001b[0m\u001b[0;34m.\u001b[0m\u001b[0mcompute\u001b[0m\u001b[0;34m(\u001b[0m\u001b[0;34m*\u001b[0m\u001b[0mlazy_data\u001b[0m\u001b[0;34m.\u001b[0m\u001b[0mvalues\u001b[0m\u001b[0;34m(\u001b[0m\u001b[0;34m)\u001b[0m\u001b[0;34m,\u001b[0m \u001b[0;34m**\u001b[0m\u001b[0mkwargs\u001b[0m\u001b[0;34m)\u001b[0m\u001b[0;34m\u001b[0m\u001b[0m\n\u001b[0m\u001b[1;32m    492\u001b[0m \u001b[0;34m\u001b[0m\u001b[0m\n\u001b[1;32m    493\u001b[0m             \u001b[0;32mfor\u001b[0m \u001b[0mk\u001b[0m\u001b[0;34m,\u001b[0m \u001b[0mdata\u001b[0m \u001b[0;32min\u001b[0m \u001b[0mzip\u001b[0m\u001b[0;34m(\u001b[0m\u001b[0mlazy_data\u001b[0m\u001b[0;34m,\u001b[0m \u001b[0mevaluated_data\u001b[0m\u001b[0;34m)\u001b[0m\u001b[0;34m:\u001b[0m\u001b[0;34m\u001b[0m\u001b[0m\n",
      "\u001b[0;32m/g/data/v10/public/modules/dea-env/20181015/lib/python3.6/site-packages/dask/base.py\u001b[0m in \u001b[0;36mcompute\u001b[0;34m(*args, **kwargs)\u001b[0m\n\u001b[1;32m    393\u001b[0m     \u001b[0mkeys\u001b[0m \u001b[0;34m=\u001b[0m \u001b[0;34m[\u001b[0m\u001b[0mx\u001b[0m\u001b[0;34m.\u001b[0m\u001b[0m__dask_keys__\u001b[0m\u001b[0;34m(\u001b[0m\u001b[0;34m)\u001b[0m \u001b[0;32mfor\u001b[0m \u001b[0mx\u001b[0m \u001b[0;32min\u001b[0m \u001b[0mcollections\u001b[0m\u001b[0;34m]\u001b[0m\u001b[0;34m\u001b[0m\u001b[0m\n\u001b[1;32m    394\u001b[0m     \u001b[0mpostcomputes\u001b[0m \u001b[0;34m=\u001b[0m \u001b[0;34m[\u001b[0m\u001b[0mx\u001b[0m\u001b[0;34m.\u001b[0m\u001b[0m__dask_postcompute__\u001b[0m\u001b[0;34m(\u001b[0m\u001b[0;34m)\u001b[0m \u001b[0;32mfor\u001b[0m \u001b[0mx\u001b[0m \u001b[0;32min\u001b[0m \u001b[0mcollections\u001b[0m\u001b[0;34m]\u001b[0m\u001b[0;34m\u001b[0m\u001b[0m\n\u001b[0;32m--> 395\u001b[0;31m     \u001b[0mresults\u001b[0m \u001b[0;34m=\u001b[0m \u001b[0mschedule\u001b[0m\u001b[0;34m(\u001b[0m\u001b[0mdsk\u001b[0m\u001b[0;34m,\u001b[0m \u001b[0mkeys\u001b[0m\u001b[0;34m,\u001b[0m \u001b[0;34m**\u001b[0m\u001b[0mkwargs\u001b[0m\u001b[0;34m)\u001b[0m\u001b[0;34m\u001b[0m\u001b[0m\n\u001b[0m\u001b[1;32m    396\u001b[0m     \u001b[0;32mreturn\u001b[0m \u001b[0mrepack\u001b[0m\u001b[0;34m(\u001b[0m\u001b[0;34m[\u001b[0m\u001b[0mf\u001b[0m\u001b[0;34m(\u001b[0m\u001b[0mr\u001b[0m\u001b[0;34m,\u001b[0m \u001b[0;34m*\u001b[0m\u001b[0ma\u001b[0m\u001b[0;34m)\u001b[0m \u001b[0;32mfor\u001b[0m \u001b[0mr\u001b[0m\u001b[0;34m,\u001b[0m \u001b[0;34m(\u001b[0m\u001b[0mf\u001b[0m\u001b[0;34m,\u001b[0m \u001b[0ma\u001b[0m\u001b[0;34m)\u001b[0m \u001b[0;32min\u001b[0m \u001b[0mzip\u001b[0m\u001b[0;34m(\u001b[0m\u001b[0mresults\u001b[0m\u001b[0;34m,\u001b[0m \u001b[0mpostcomputes\u001b[0m\u001b[0;34m)\u001b[0m\u001b[0;34m]\u001b[0m\u001b[0;34m)\u001b[0m\u001b[0;34m\u001b[0m\u001b[0m\n\u001b[1;32m    397\u001b[0m \u001b[0;34m\u001b[0m\u001b[0m\n",
      "\u001b[0;32m/g/data/v10/public/modules/dea-env/20181015/lib/python3.6/site-packages/dask/threaded.py\u001b[0m in \u001b[0;36mget\u001b[0;34m(dsk, result, cache, num_workers, **kwargs)\u001b[0m\n\u001b[1;32m     73\u001b[0m     results = get_async(pool.apply_async, len(pool._pool), dsk, result,\n\u001b[1;32m     74\u001b[0m                         \u001b[0mcache\u001b[0m\u001b[0;34m=\u001b[0m\u001b[0mcache\u001b[0m\u001b[0;34m,\u001b[0m \u001b[0mget_id\u001b[0m\u001b[0;34m=\u001b[0m\u001b[0m_thread_get_id\u001b[0m\u001b[0;34m,\u001b[0m\u001b[0;34m\u001b[0m\u001b[0m\n\u001b[0;32m---> 75\u001b[0;31m                         pack_exception=pack_exception, **kwargs)\n\u001b[0m\u001b[1;32m     76\u001b[0m \u001b[0;34m\u001b[0m\u001b[0m\n\u001b[1;32m     77\u001b[0m     \u001b[0;31m# Cleanup pools associated to dead threads\u001b[0m\u001b[0;34m\u001b[0m\u001b[0;34m\u001b[0m\u001b[0m\n",
      "\u001b[0;32m/g/data/v10/public/modules/dea-env/20181015/lib/python3.6/site-packages/dask/local.py\u001b[0m in \u001b[0;36mget_async\u001b[0;34m(apply_async, num_workers, dsk, result, cache, get_id, rerun_exceptions_locally, pack_exception, raise_exception, callbacks, dumps, loads, **kwargs)\u001b[0m\n\u001b[1;32m    499\u001b[0m                         \u001b[0m_execute_task\u001b[0m\u001b[0;34m(\u001b[0m\u001b[0mtask\u001b[0m\u001b[0;34m,\u001b[0m \u001b[0mdata\u001b[0m\u001b[0;34m)\u001b[0m  \u001b[0;31m# Re-execute locally\u001b[0m\u001b[0;34m\u001b[0m\u001b[0m\n\u001b[1;32m    500\u001b[0m                     \u001b[0;32melse\u001b[0m\u001b[0;34m:\u001b[0m\u001b[0;34m\u001b[0m\u001b[0m\n\u001b[0;32m--> 501\u001b[0;31m                         \u001b[0mraise_exception\u001b[0m\u001b[0;34m(\u001b[0m\u001b[0mexc\u001b[0m\u001b[0;34m,\u001b[0m \u001b[0mtb\u001b[0m\u001b[0;34m)\u001b[0m\u001b[0;34m\u001b[0m\u001b[0m\n\u001b[0m\u001b[1;32m    502\u001b[0m                 \u001b[0mres\u001b[0m\u001b[0;34m,\u001b[0m \u001b[0mworker_id\u001b[0m \u001b[0;34m=\u001b[0m \u001b[0mloads\u001b[0m\u001b[0;34m(\u001b[0m\u001b[0mres_info\u001b[0m\u001b[0;34m)\u001b[0m\u001b[0;34m\u001b[0m\u001b[0m\n\u001b[1;32m    503\u001b[0m                 \u001b[0mstate\u001b[0m\u001b[0;34m[\u001b[0m\u001b[0;34m'cache'\u001b[0m\u001b[0;34m]\u001b[0m\u001b[0;34m[\u001b[0m\u001b[0mkey\u001b[0m\u001b[0;34m]\u001b[0m \u001b[0;34m=\u001b[0m \u001b[0mres\u001b[0m\u001b[0;34m\u001b[0m\u001b[0m\n",
      "\u001b[0;32m/g/data/v10/public/modules/dea-env/20181015/lib/python3.6/site-packages/dask/compatibility.py\u001b[0m in \u001b[0;36mreraise\u001b[0;34m(exc, tb)\u001b[0m\n\u001b[1;32m    110\u001b[0m         \u001b[0;32mif\u001b[0m \u001b[0mexc\u001b[0m\u001b[0;34m.\u001b[0m\u001b[0m__traceback__\u001b[0m \u001b[0;32mis\u001b[0m \u001b[0;32mnot\u001b[0m \u001b[0mtb\u001b[0m\u001b[0;34m:\u001b[0m\u001b[0;34m\u001b[0m\u001b[0m\n\u001b[1;32m    111\u001b[0m             \u001b[0;32mraise\u001b[0m \u001b[0mexc\u001b[0m\u001b[0;34m.\u001b[0m\u001b[0mwith_traceback\u001b[0m\u001b[0;34m(\u001b[0m\u001b[0mtb\u001b[0m\u001b[0;34m)\u001b[0m\u001b[0;34m\u001b[0m\u001b[0m\n\u001b[0;32m--> 112\u001b[0;31m         \u001b[0;32mraise\u001b[0m \u001b[0mexc\u001b[0m\u001b[0;34m\u001b[0m\u001b[0m\n\u001b[0m\u001b[1;32m    113\u001b[0m \u001b[0;34m\u001b[0m\u001b[0m\n\u001b[1;32m    114\u001b[0m \u001b[0;32melse\u001b[0m\u001b[0;34m:\u001b[0m\u001b[0;34m\u001b[0m\u001b[0m\n",
      "\u001b[0;32m/g/data/v10/public/modules/dea-env/20181015/lib/python3.6/site-packages/dask/local.py\u001b[0m in \u001b[0;36mexecute_task\u001b[0;34m(key, task_info, dumps, loads, get_id, pack_exception)\u001b[0m\n\u001b[1;32m    270\u001b[0m     \u001b[0;32mtry\u001b[0m\u001b[0;34m:\u001b[0m\u001b[0;34m\u001b[0m\u001b[0m\n\u001b[1;32m    271\u001b[0m         \u001b[0mtask\u001b[0m\u001b[0;34m,\u001b[0m \u001b[0mdata\u001b[0m \u001b[0;34m=\u001b[0m \u001b[0mloads\u001b[0m\u001b[0;34m(\u001b[0m\u001b[0mtask_info\u001b[0m\u001b[0;34m)\u001b[0m\u001b[0;34m\u001b[0m\u001b[0m\n\u001b[0;32m--> 272\u001b[0;31m         \u001b[0mresult\u001b[0m \u001b[0;34m=\u001b[0m \u001b[0m_execute_task\u001b[0m\u001b[0;34m(\u001b[0m\u001b[0mtask\u001b[0m\u001b[0;34m,\u001b[0m \u001b[0mdata\u001b[0m\u001b[0;34m)\u001b[0m\u001b[0;34m\u001b[0m\u001b[0m\n\u001b[0m\u001b[1;32m    273\u001b[0m         \u001b[0mid\u001b[0m \u001b[0;34m=\u001b[0m \u001b[0mget_id\u001b[0m\u001b[0;34m(\u001b[0m\u001b[0;34m)\u001b[0m\u001b[0;34m\u001b[0m\u001b[0m\n\u001b[1;32m    274\u001b[0m         \u001b[0mresult\u001b[0m \u001b[0;34m=\u001b[0m \u001b[0mdumps\u001b[0m\u001b[0;34m(\u001b[0m\u001b[0;34m(\u001b[0m\u001b[0mresult\u001b[0m\u001b[0;34m,\u001b[0m \u001b[0mid\u001b[0m\u001b[0;34m)\u001b[0m\u001b[0;34m)\u001b[0m\u001b[0;34m\u001b[0m\u001b[0m\n",
      "\u001b[0;32m/g/data/v10/public/modules/dea-env/20181015/lib/python3.6/site-packages/dask/local.py\u001b[0m in \u001b[0;36m_execute_task\u001b[0;34m(arg, cache, dsk)\u001b[0m\n\u001b[1;32m    250\u001b[0m     \u001b[0;32melif\u001b[0m \u001b[0mistask\u001b[0m\u001b[0;34m(\u001b[0m\u001b[0marg\u001b[0m\u001b[0;34m)\u001b[0m\u001b[0;34m:\u001b[0m\u001b[0;34m\u001b[0m\u001b[0m\n\u001b[1;32m    251\u001b[0m         \u001b[0mfunc\u001b[0m\u001b[0;34m,\u001b[0m \u001b[0margs\u001b[0m \u001b[0;34m=\u001b[0m \u001b[0marg\u001b[0m\u001b[0;34m[\u001b[0m\u001b[0;36m0\u001b[0m\u001b[0;34m]\u001b[0m\u001b[0;34m,\u001b[0m \u001b[0marg\u001b[0m\u001b[0;34m[\u001b[0m\u001b[0;36m1\u001b[0m\u001b[0;34m:\u001b[0m\u001b[0;34m]\u001b[0m\u001b[0;34m\u001b[0m\u001b[0m\n\u001b[0;32m--> 252\u001b[0;31m         \u001b[0margs2\u001b[0m \u001b[0;34m=\u001b[0m \u001b[0;34m[\u001b[0m\u001b[0m_execute_task\u001b[0m\u001b[0;34m(\u001b[0m\u001b[0ma\u001b[0m\u001b[0;34m,\u001b[0m \u001b[0mcache\u001b[0m\u001b[0;34m)\u001b[0m \u001b[0;32mfor\u001b[0m \u001b[0ma\u001b[0m \u001b[0;32min\u001b[0m \u001b[0margs\u001b[0m\u001b[0;34m]\u001b[0m\u001b[0;34m\u001b[0m\u001b[0m\n\u001b[0m\u001b[1;32m    253\u001b[0m         \u001b[0;32mreturn\u001b[0m \u001b[0mfunc\u001b[0m\u001b[0;34m(\u001b[0m\u001b[0;34m*\u001b[0m\u001b[0margs2\u001b[0m\u001b[0;34m)\u001b[0m\u001b[0;34m\u001b[0m\u001b[0m\n\u001b[1;32m    254\u001b[0m     \u001b[0;32melif\u001b[0m \u001b[0;32mnot\u001b[0m \u001b[0mishashable\u001b[0m\u001b[0;34m(\u001b[0m\u001b[0marg\u001b[0m\u001b[0;34m)\u001b[0m\u001b[0;34m:\u001b[0m\u001b[0;34m\u001b[0m\u001b[0m\n",
      "\u001b[0;32m/g/data/v10/public/modules/dea-env/20181015/lib/python3.6/site-packages/dask/local.py\u001b[0m in \u001b[0;36m<listcomp>\u001b[0;34m(.0)\u001b[0m\n\u001b[1;32m    250\u001b[0m     \u001b[0;32melif\u001b[0m \u001b[0mistask\u001b[0m\u001b[0;34m(\u001b[0m\u001b[0marg\u001b[0m\u001b[0;34m)\u001b[0m\u001b[0;34m:\u001b[0m\u001b[0;34m\u001b[0m\u001b[0m\n\u001b[1;32m    251\u001b[0m         \u001b[0mfunc\u001b[0m\u001b[0;34m,\u001b[0m \u001b[0margs\u001b[0m \u001b[0;34m=\u001b[0m \u001b[0marg\u001b[0m\u001b[0;34m[\u001b[0m\u001b[0;36m0\u001b[0m\u001b[0;34m]\u001b[0m\u001b[0;34m,\u001b[0m \u001b[0marg\u001b[0m\u001b[0;34m[\u001b[0m\u001b[0;36m1\u001b[0m\u001b[0;34m:\u001b[0m\u001b[0;34m]\u001b[0m\u001b[0;34m\u001b[0m\u001b[0m\n\u001b[0;32m--> 252\u001b[0;31m         \u001b[0margs2\u001b[0m \u001b[0;34m=\u001b[0m \u001b[0;34m[\u001b[0m\u001b[0m_execute_task\u001b[0m\u001b[0;34m(\u001b[0m\u001b[0ma\u001b[0m\u001b[0;34m,\u001b[0m \u001b[0mcache\u001b[0m\u001b[0;34m)\u001b[0m \u001b[0;32mfor\u001b[0m \u001b[0ma\u001b[0m \u001b[0;32min\u001b[0m \u001b[0margs\u001b[0m\u001b[0;34m]\u001b[0m\u001b[0;34m\u001b[0m\u001b[0m\n\u001b[0m\u001b[1;32m    253\u001b[0m         \u001b[0;32mreturn\u001b[0m \u001b[0mfunc\u001b[0m\u001b[0;34m(\u001b[0m\u001b[0;34m*\u001b[0m\u001b[0margs2\u001b[0m\u001b[0;34m)\u001b[0m\u001b[0;34m\u001b[0m\u001b[0m\n\u001b[1;32m    254\u001b[0m     \u001b[0;32melif\u001b[0m \u001b[0;32mnot\u001b[0m \u001b[0mishashable\u001b[0m\u001b[0;34m(\u001b[0m\u001b[0marg\u001b[0m\u001b[0;34m)\u001b[0m\u001b[0;34m:\u001b[0m\u001b[0;34m\u001b[0m\u001b[0m\n",
      "\u001b[0;32m/g/data/v10/public/modules/dea-env/20181015/lib/python3.6/site-packages/dask/local.py\u001b[0m in \u001b[0;36m_execute_task\u001b[0;34m(arg, cache, dsk)\u001b[0m\n\u001b[1;32m    247\u001b[0m     \"\"\"\n\u001b[1;32m    248\u001b[0m     \u001b[0;32mif\u001b[0m \u001b[0misinstance\u001b[0m\u001b[0;34m(\u001b[0m\u001b[0marg\u001b[0m\u001b[0;34m,\u001b[0m \u001b[0mlist\u001b[0m\u001b[0;34m)\u001b[0m\u001b[0;34m:\u001b[0m\u001b[0;34m\u001b[0m\u001b[0m\n\u001b[0;32m--> 249\u001b[0;31m         \u001b[0;32mreturn\u001b[0m \u001b[0;34m[\u001b[0m\u001b[0m_execute_task\u001b[0m\u001b[0;34m(\u001b[0m\u001b[0ma\u001b[0m\u001b[0;34m,\u001b[0m \u001b[0mcache\u001b[0m\u001b[0;34m)\u001b[0m \u001b[0;32mfor\u001b[0m \u001b[0ma\u001b[0m \u001b[0;32min\u001b[0m \u001b[0marg\u001b[0m\u001b[0;34m]\u001b[0m\u001b[0;34m\u001b[0m\u001b[0m\n\u001b[0m\u001b[1;32m    250\u001b[0m     \u001b[0;32melif\u001b[0m \u001b[0mistask\u001b[0m\u001b[0;34m(\u001b[0m\u001b[0marg\u001b[0m\u001b[0;34m)\u001b[0m\u001b[0;34m:\u001b[0m\u001b[0;34m\u001b[0m\u001b[0m\n\u001b[1;32m    251\u001b[0m         \u001b[0mfunc\u001b[0m\u001b[0;34m,\u001b[0m \u001b[0margs\u001b[0m \u001b[0;34m=\u001b[0m \u001b[0marg\u001b[0m\u001b[0;34m[\u001b[0m\u001b[0;36m0\u001b[0m\u001b[0;34m]\u001b[0m\u001b[0;34m,\u001b[0m \u001b[0marg\u001b[0m\u001b[0;34m[\u001b[0m\u001b[0;36m1\u001b[0m\u001b[0;34m:\u001b[0m\u001b[0;34m]\u001b[0m\u001b[0;34m\u001b[0m\u001b[0m\n",
      "\u001b[0;32m/g/data/v10/public/modules/dea-env/20181015/lib/python3.6/site-packages/dask/local.py\u001b[0m in \u001b[0;36m<listcomp>\u001b[0;34m(.0)\u001b[0m\n\u001b[1;32m    247\u001b[0m     \"\"\"\n\u001b[1;32m    248\u001b[0m     \u001b[0;32mif\u001b[0m \u001b[0misinstance\u001b[0m\u001b[0;34m(\u001b[0m\u001b[0marg\u001b[0m\u001b[0;34m,\u001b[0m \u001b[0mlist\u001b[0m\u001b[0;34m)\u001b[0m\u001b[0;34m:\u001b[0m\u001b[0;34m\u001b[0m\u001b[0m\n\u001b[0;32m--> 249\u001b[0;31m         \u001b[0;32mreturn\u001b[0m \u001b[0;34m[\u001b[0m\u001b[0m_execute_task\u001b[0m\u001b[0;34m(\u001b[0m\u001b[0ma\u001b[0m\u001b[0;34m,\u001b[0m \u001b[0mcache\u001b[0m\u001b[0;34m)\u001b[0m \u001b[0;32mfor\u001b[0m \u001b[0ma\u001b[0m \u001b[0;32min\u001b[0m \u001b[0marg\u001b[0m\u001b[0;34m]\u001b[0m\u001b[0;34m\u001b[0m\u001b[0m\n\u001b[0m\u001b[1;32m    250\u001b[0m     \u001b[0;32melif\u001b[0m \u001b[0mistask\u001b[0m\u001b[0;34m(\u001b[0m\u001b[0marg\u001b[0m\u001b[0;34m)\u001b[0m\u001b[0;34m:\u001b[0m\u001b[0;34m\u001b[0m\u001b[0m\n\u001b[1;32m    251\u001b[0m         \u001b[0mfunc\u001b[0m\u001b[0;34m,\u001b[0m \u001b[0margs\u001b[0m \u001b[0;34m=\u001b[0m \u001b[0marg\u001b[0m\u001b[0;34m[\u001b[0m\u001b[0;36m0\u001b[0m\u001b[0;34m]\u001b[0m\u001b[0;34m,\u001b[0m \u001b[0marg\u001b[0m\u001b[0;34m[\u001b[0m\u001b[0;36m1\u001b[0m\u001b[0;34m:\u001b[0m\u001b[0;34m]\u001b[0m\u001b[0;34m\u001b[0m\u001b[0m\n",
      "\u001b[0;32m/g/data/v10/public/modules/dea-env/20181015/lib/python3.6/site-packages/dask/local.py\u001b[0m in \u001b[0;36m_execute_task\u001b[0;34m(arg, cache, dsk)\u001b[0m\n\u001b[1;32m    251\u001b[0m         \u001b[0mfunc\u001b[0m\u001b[0;34m,\u001b[0m \u001b[0margs\u001b[0m \u001b[0;34m=\u001b[0m \u001b[0marg\u001b[0m\u001b[0;34m[\u001b[0m\u001b[0;36m0\u001b[0m\u001b[0;34m]\u001b[0m\u001b[0;34m,\u001b[0m \u001b[0marg\u001b[0m\u001b[0;34m[\u001b[0m\u001b[0;36m1\u001b[0m\u001b[0;34m:\u001b[0m\u001b[0;34m]\u001b[0m\u001b[0;34m\u001b[0m\u001b[0m\n\u001b[1;32m    252\u001b[0m         \u001b[0margs2\u001b[0m \u001b[0;34m=\u001b[0m \u001b[0;34m[\u001b[0m\u001b[0m_execute_task\u001b[0m\u001b[0;34m(\u001b[0m\u001b[0ma\u001b[0m\u001b[0;34m,\u001b[0m \u001b[0mcache\u001b[0m\u001b[0;34m)\u001b[0m \u001b[0;32mfor\u001b[0m \u001b[0ma\u001b[0m \u001b[0;32min\u001b[0m \u001b[0margs\u001b[0m\u001b[0;34m]\u001b[0m\u001b[0;34m\u001b[0m\u001b[0m\n\u001b[0;32m--> 253\u001b[0;31m         \u001b[0;32mreturn\u001b[0m \u001b[0mfunc\u001b[0m\u001b[0;34m(\u001b[0m\u001b[0;34m*\u001b[0m\u001b[0margs2\u001b[0m\u001b[0;34m)\u001b[0m\u001b[0;34m\u001b[0m\u001b[0m\n\u001b[0m\u001b[1;32m    254\u001b[0m     \u001b[0;32melif\u001b[0m \u001b[0;32mnot\u001b[0m \u001b[0mishashable\u001b[0m\u001b[0;34m(\u001b[0m\u001b[0marg\u001b[0m\u001b[0;34m)\u001b[0m\u001b[0;34m:\u001b[0m\u001b[0;34m\u001b[0m\u001b[0m\n\u001b[1;32m    255\u001b[0m         \u001b[0;32mreturn\u001b[0m \u001b[0marg\u001b[0m\u001b[0;34m\u001b[0m\u001b[0m\n",
      "\u001b[0;31mTypeError\u001b[0m: tuple indices must be integers or slices, not tuple"
     ]
    }
   ],
   "source": [
    "# Pull out selected years\n",
    "years_to_analyse = shoreline_dist.date.dt.year.unique(); print(years_to_analyse)\n",
    "landsat_subset = xr.concat([landsat_ds.sel(time=str(i)) for i in years_to_analyse], dim='time')\n",
    "\n",
    "# Compute tides\n",
    "landsat_subset = tidal_tag(landsat_subset)\n",
    "landsat_subset = landsat_subset.sortby('tide_heights') \n",
    "\n",
    "# Filter\n",
    "landsat_subset = landsat_subset.sel(time = landsat_subset.tide_heights > (landsat_subset.tide_heights).median())\n",
    "\n",
    "# Tide_adj\n",
    "datum = 0.5\n",
    "landsat_subset['adj_0.01'] = ((datum - landsat_subset.tide_heights) / -0.01)\n",
    "landsat_subset['adj_0.05'] = ((datum - landsat_subset.tide_heights) / -0.05)\n",
    "landsat_subset['adj_0.10'] = ((datum - landsat_subset.tide_heights) / -0.10)\n",
    "landsat_subset['adj_0.20'] = ((datum - landsat_subset.tide_heights) / -0.20)\n",
    "\n",
    "# Load data into memory and take median\n",
    "out = landsat_subset.compute().groupby('time.year').median(dim='time')\n"
   ]
  },
  {
   "cell_type": "code",
   "execution_count": null,
   "metadata": {},
   "outputs": [],
   "source": [
    "landsat_subset.compute()"
   ]
  },
  {
   "cell_type": "code",
   "execution_count": null,
   "metadata": {},
   "outputs": [],
   "source": [
    "# out = []\n",
    "# for year in years_to_analyse:\n",
    "\n",
    "#     annual_subset = landsat_subset.sel(time=str(year))\n",
    "\n",
    "#     diff = 100\n",
    "#     annual_mediantide = None\n",
    "\n",
    "#     if annual_subset.tide_heights.median() > 0:\n",
    "\n",
    "#         for i in range(0, len(annual_subset.tide_heights) + 1):\n",
    "\n",
    "#             val = annual_subset.isel(time = slice(0, len(annual_subset.tide_heights) - i)).tide_heights.median().item()\n",
    "\n",
    "#             if abs(val) < diff:\n",
    "\n",
    "#                 diff = abs(val)\n",
    "#                 annual_mediantide = annual_subset.isel(time = slice(0, len(annual_subset.tide_heights) - i))\n",
    "                \n",
    "#         out.append(annual_mediantide)\n",
    "\n",
    "# # Load data into memory and take median\n",
    "# landsat_subset = xr.concat(out, dim='time')\n",
    "# out = landsat_subset.compute().groupby('time.year').median(dim='time')\n"
   ]
  },
  {
   "cell_type": "code",
   "execution_count": 91,
   "metadata": {},
   "outputs": [
    {
     "name": "stdout",
     "output_type": "stream",
     "text": [
      "Operating in single z-value, multiple arrays mode\n",
      "Exporting contour shapefile to validation/outputs/landsat_contours_Narrabeen.shp\n"
     ]
    }
   ],
   "source": [
    "custom_attrs = {'year': out.year.values.tolist(),\n",
    "                'tide': out.tide_heights.values.tolist(),\n",
    "                'adj_0.01': out['adj_0.01'].values.tolist(),\n",
    "                'adj_0.05': out['adj_0.05'].values.tolist(),\n",
    "                'adj_0.10': out['adj_0.10'].values.tolist(),\n",
    "                'adj_0.20': out['adj_0.20'].values.tolist()}\n",
    "custom_attrs_dtypes = {'year': 'int', 'tide': 'float', 'adj_0.01': 'float', 'adj_0.05': 'float', 'adj_0.10': 'float', 'adj_0.20': 'float'}\n",
    "\n",
    "metric = 'NDWI'\n",
    "metric_thresh = 0.0\n",
    "\n",
    "# Extract contours with custom attribute fields:\n",
    "contour_gdf = SpatialTools.contour_extract(z_values=metric_thresh,\n",
    "                                           ds_array=out[metric],\n",
    "                                           ds_crs=landsat_ds.geobox.crs,\n",
    "                                           ds_affine=landsat_ds.geobox.affine,\n",
    "                                           output_shp=f'validation/outputs/landsat_contours_{site}.shp',\n",
    "                                           attribute_data=custom_attrs,\n",
    "                                           attribute_dtypes=custom_attrs_dtypes,\n",
    "                                           min_vertices=2,\n",
    "                                           verbose=False, dim='year')"
   ]
  },
  {
   "cell_type": "code",
   "execution_count": 92,
   "metadata": {},
   "outputs": [
    {
     "data": {
      "image/png": "[encoded data removed]",
      "text/plain": [
       "<Figure size 576x576 with 2 Axes>"
      ]
     },
     "metadata": {
      "needs_background": "light"
     },
     "output_type": "display_data"
    }
   ],
   "source": [
    "# Import waterline contours\n",
    "contours_gdf = gpd.read_file(f'validation/outputs/landsat_contours_{site}.shp')\n",
    "contours_gdf = contours_gdf.to_crs(epsg=28356)  \n",
    "\n",
    "# Subset to AHD 0.0 data\n",
    "shoreline_ahd0 = shoreline_dist[['site', 'date', 'ahd0.5_dist', 'ahd0.0_x', 'ahd0.0_y', \n",
    "                                 'origin_x', 'origin_y', 'end_x', 'end_y', 'foredune_x', 'foredune_y']].dropna()\n",
    "shoreline_ahd0['year']= shoreline_dist.date.dt.year\n",
    "\n",
    "# Reduce to year\n",
    "counts = shoreline_ahd0.groupby([shoreline_ahd0.year, 'site']).count().date\n",
    "shoreline_ahd0 = shoreline_ahd0.groupby([shoreline_ahd0.year, 'site']).median()\n",
    "shoreline_ahd0['n'] = counts\n",
    "shoreline_ahd0 = shoreline_ahd0.reset_index()\n",
    "\n",
    "# Create geometry for shoreline transects\n",
    "# shoreline_ahd0_geometry  = shoreline_ahd0.apply(lambda x: LineString([Point(x.origin_x, x.origin_y), Point(x.end_x, x.end_y)]), axis = 1)\n",
    "shoreline_ahd0_geometry  = shoreline_ahd0.apply(lambda x: LineString([Point(x.foredune_x, x.foredune_y), Point(x.end_x, x.end_y)]), axis = 1)\n",
    "shoreline_ahd0_gdf = gpd.GeoDataFrame(shoreline_ahd0, geometry=shoreline_ahd0_geometry).reset_index()\n",
    "shoreline_ahd0_gdf.crs = 'EPSG:28356'\n",
    "\n",
    "# Combine to match each shoreline contour to each date in validation data\n",
    "merge_test = shoreline_ahd0_gdf.merge(contours_gdf, on='year')\n",
    "\n",
    "# For each row, compute distance between origin and location where profile intersects with waterline contour\n",
    "merge_test['Landsat beach width (m)'] = merge_test.apply(lambda x: x.geometry_x.intersection(x.geometry_y).hausdorff_distance(Point(x.origin_x, x.origin_y)), axis=1)\n",
    "merge_test = merge_test.rename({'ahd0.5_dist': 'Validation beach width (m)'}, axis=1)\n",
    "merge_test = merge_test[merge_test['Landsat beach width (m)'] > 0]\n",
    "merge_test = merge_test[merge_test['Validation beach width (m)'] > 0]\n",
    "\n",
    "# Optional adjustment for tides\n",
    "# merge_test['Landsat beach width (m)'] = merge_test['Landsat beach width (m)'] + merge_test['adj_0.10'] \n",
    "\n",
    "# Compute difference\n",
    "merge_test['Difference'] = merge_test['Validation beach width (m)'] - merge_test['Landsat beach width (m)'] \n",
    "\n",
    "merge_test = merge_test[merge_test['Landsat beach width (m)'] < 200]\n",
    "merge_test = merge_test[merge_test['Validation beach width (m)'] < 200]\n",
    "# merge_test = merge_test[merge_test.site == 'moruya_all_3']\n",
    "merge_test = merge_test[merge_test.n > 0]\n",
    "merge_test.head()\n",
    "\n",
    "\n",
    "\n",
    "# Plot\n",
    "# merge_test['Landsat beach width (m)'] = merge_test['Landsat beach width (m)'] + 25\n",
    "rmse = np.round(mean_squared_error(merge_test['Validation beach width (m)'], merge_test['Landsat beach width (m)'])**0.5, 2)\n",
    "cor = np.round(merge_test[['Validation beach width (m)', 'Landsat beach width (m)']].corr().iloc[0, 1], 2)\n",
    "dist_lim = merge_test[['Validation beach width (m)', 'Landsat beach width (m)']].max(axis=0).max()\n",
    "merge_test[['Validation beach width (m)', 'Landsat beach width (m)']].plot.scatter(x='Validation beach width (m)', \n",
    "                                                                                   y='Landsat beach width (m)', \n",
    "                                                                                   c=merge_test.tide, s=10, cmap='viridis', figsize=(8, 8))  \n",
    "plt.plot(np.linspace(0, dist_lim), np.linspace(0, dist_lim), 'black', linestyle='dashed')\n",
    "plt.title(f'{collection}, {metric} = {metric_thresh} \\nRMSE: {rmse} m\\nCorrelation: {cor}')\n",
    "plt.savefig(f\"{site}_{collection.lower().replace(' ', '')}_{metric}_{metric_thresh}.png\")\n"
   ]
  },
  {
   "cell_type": "code",
   "execution_count": null,
   "metadata": {},
   "outputs": [],
   "source": []
  },
  {
   "cell_type": "code",
   "execution_count": null,
   "metadata": {},
   "outputs": [],
   "source": []
  },
  {
   "cell_type": "code",
   "execution_count": null,
   "metadata": {},
   "outputs": [],
   "source": [
    "merge_test[merge_test.site == merge_test.site.unique()[25]].iloc[:,[1, 3, 20]].plot.line(x='year', y=['Landsat beach width (m)', 'Validation beach width (m)']) "
   ]
  },
  {
   "cell_type": "code",
   "execution_count": null,
   "metadata": {},
   "outputs": [],
   "source": [
    "merge_test.site.unique()"
   ]
  },
  {
   "cell_type": "code",
   "execution_count": null,
   "metadata": {},
   "outputs": [],
   "source": [
    "shoreline_ahd0_gdf.to_file(f'validation/outputs/validation_transect_{site}.shp')"
   ]
  },
  {
   "cell_type": "code",
   "execution_count": null,
   "metadata": {},
   "outputs": [],
   "source": [
    "cols = ['year', 'site', 'origin_x', 'origin_y', 'ahd0.0_x', 'ahd0.0_y', 'Validation beach width (m)', 'Landsat beach width (m)', 'Difference']\n",
    "merge_test.reindex(merge_test.Difference.abs().sort_values().index)[cols].tail(5)"
   ]
  },
  {
   "cell_type": "code",
   "execution_count": null,
   "metadata": {},
   "outputs": [],
   "source": [
    "# ndwi_median = landsat_subset.sel(time='2018').compute().median(dim='time')  #.plot()\n",
    "# ndwi_median.attrs['crs'] = landsat_subset.crs\n",
    "# # from datacube.helpers import write_geotiff\n",
    "# write_geotiff(filename='test_ndwi.tif', dataset=ndwi_median[['NDWI']])\n"
   ]
  },
  {
   "cell_type": "code",
   "execution_count": null,
   "metadata": {},
   "outputs": [],
   "source": [
    "\n",
    "geometry_intersect = merge_test.apply(lambda x: x.geometry_x.intersection(x.geometry_y), axis=1)\n",
    "# geometry_intersect\n",
    "intersect_ahd0_gdf = gpd.GeoDataFrame(merge_test[['year', 'site']], geometry=geometry_intersect).reset_index()\n",
    "intersect_ahd0_gdf[intersect_ahd0_gdf.site == 'Avoca_5_1']\n",
    "# intersect_ahd0_gdf.crs = 'EPSG:28356'\n",
    "# intersect_ahd0_gdf.to_file(f'validation/outputs/validation_intersect_{site}.shp')"
   ]
  },
  {
   "cell_type": "code",
   "execution_count": null,
   "metadata": {},
   "outputs": [],
   "source": [
    "# merge_test.apply(lambda x: MultiPoint([x.geometry_x.intersection(x.geometry_y)]), axis=1)"
   ]
  },
  {
   "cell_type": "code",
   "execution_count": null,
   "metadata": {},
   "outputs": [],
   "source": [
    "# merge_test.apply(lambda x: x.geometry_x.intersection(x.geometry_y), axis=1)"
   ]
  },
  {
   "cell_type": "markdown",
   "metadata": {},
   "source": [
    "## Individual observations"
   ]
  },
  {
   "cell_type": "code",
   "execution_count": null,
   "metadata": {},
   "outputs": [],
   "source": [
    "out = landsat_ds.sel(time=shoreline_dates, method='nearest')\n",
    "out['time_diff'] = (out.time - shoreline_dates) \n",
    "out\n",
    "# out.time_diff  < np.timedelta64(5,'D')"
   ]
  },
  {
   "cell_type": "code",
   "execution_count": null,
   "metadata": {},
   "outputs": [],
   "source": [
    "out = out.compute()\n",
    "out"
   ]
  },
  {
   "cell_type": "code",
   "execution_count": null,
   "metadata": {},
   "outputs": [],
   "source": [
    "out = tidal_tag(out)\n",
    "height = out['tide_heights']\n",
    "slope = 90\n",
    "out['x_adj'] = height * math.sin(np.deg2rad(90 - slope)) / math.sin(np.deg2rad(slope))"
   ]
  },
  {
   "cell_type": "code",
   "execution_count": null,
   "metadata": {},
   "outputs": [],
   "source": [
    "custom_attrs = {'date': [str(i)[0:10] for i in shoreline_dates],\n",
    "                'x_adj': out['x_adj'].values,\n",
    "                'time_diff': out['time_diff'].values.astype('timedelta64[D]').astype('int16').tolist()\n",
    "               }\n",
    "custom_attrs_dtypes = {'date': 'str', 'x_adj': 'int', 'time_diff': 'int'}\n",
    "\n",
    "# Extract contours with custom attribute fields:\n",
    "contour_gdf = SpatialTools.contour_extract(z_values=0.0,\n",
    "                                           ds_array=out.MNDWI,\n",
    "                                           ds_crs=landsat_ds.geobox.crs,\n",
    "                                           ds_affine=landsat_ds.geobox.affine,\n",
    "                                           output_shp=f'validation/outputs/landsat_contours_{site}.shp',\n",
    "                                           attribute_data=custom_attrs,\n",
    "                                           attribute_dtypes=custom_attrs_dtypes,\n",
    "                                           verbose=False)\n",
    "\n"
   ]
  },
  {
   "cell_type": "code",
   "execution_count": null,
   "metadata": {},
   "outputs": [],
   "source": [
    "# Import waterline contours\n",
    "contours_gdf = gpd.read_file(f'validation/outputs/landsat_contours_{site}.shp')\n",
    "contours_gdf = contours_gdf.to_crs(epsg=28356)  \n",
    "contours_gdf['date'] = pd.to_datetime(contours_gdf.date)\n",
    "\n",
    "# Subset to AHD 0.0 data\n",
    "shoreline_ahd0 = shoreline_dist[['date', 'ahd0.0_dist', 'origin_x', 'origin_y', 'end_x', 'end_y']].dropna()\n",
    "shoreline_ahd0_geometry  = shoreline_ahd0.apply(lambda x: LineString([Point(x.origin_x, x.origin_y), Point(x.end_x, x.end_y)]), axis = 1)\n",
    "shoreline_ahd0_gdf = gpd.GeoDataFrame(shoreline_ahd0, geometry=shoreline_ahd0_geometry).reset_index()\n",
    "shoreline_ahd0_gdf.crs = 'EPSG:28356'\n",
    "\n",
    "# Combine to match each shoreline contour to each date in validation data\n",
    "merge_test = shoreline_ahd0_gdf.merge(contours_gdf, on='date')\n",
    "\n",
    "# For each row, compute distance between origin and location where profile intersects with waterline contour\n",
    "merge_test['Landsat beach width (m)'] = merge_test.apply(lambda x: x.geometry_x.intersection(x.geometry_y).distance(Point(x.origin_x, x.origin_y)), axis=1)\n",
    "merge_test = merge_test.rename({'ahd0.0_dist': 'Validation beach width (m)'}, axis=1)\n",
    "merge_test = merge_test[merge_test['Landsat beach width (m)'] > 0]\n",
    "merge_test.head()\n",
    "\n",
    "# Modify\n",
    "merge_test['Landsat beach width (m)'] = merge_test['Landsat beach width (m)']  + merge_test['x_adj']\n",
    "\n",
    "# Plot\n",
    "# merge_test['Landsat beach width (m)'] = merge_test['Landsat beach width (m)'] + 25\n",
    "dist_lim = merge_test[['Validation beach width (m)', 'Landsat beach width (m)']].max(axis=0).max()\n",
    "merge_test[['Validation beach width (m)', 'Landsat beach width (m)']].plot.scatter(x='Validation beach width (m)', \n",
    "                                                                                   y='Landsat beach width (m)', \n",
    "                                                                                   c=abs(merge_test.time_diff), s=1, cmap='viridis', figsize=(8, 8))  #\n",
    "plt.plot(np.linspace(0, dist_lim), np.linspace(0, dist_lim), 'black', linestyle='dashed')\n",
    "plt.ylim([0, dist_lim]); plt.xlim([0, dist_lim]);\n"
   ]
  },
  {
   "cell_type": "code",
   "execution_count": null,
   "metadata": {},
   "outputs": [],
   "source": [
    "\n",
    "stats_df = merge_test[(np.abs(stats.zscore(merge_test[['Validation beach width (m)', 'Landsat beach width (m)']])) < 1).all(axis=1)]\n",
    "\n",
    "\n",
    "mean_squared_error(stats_df['Validation beach width (m)'], stats_df['Landsat beach width (m)'])**0.5"
   ]
  },
  {
   "cell_type": "code",
   "execution_count": null,
   "metadata": {},
   "outputs": [],
   "source": [
    "# merge_test['Landsat beach width (m)'] = merge_test['Landsat beach width (m)'] + 25\n",
    "dist_lim = stats_df[['Validation beach width (m)', 'Landsat beach width (m)']].max(axis=0).max()\n",
    "stats_df[['Validation beach width (m)', 'Landsat beach width (m)']].plot.scatter(x='Validation beach width (m)', \n",
    "                                                                                   y='Landsat beach width (m)', \n",
    "                                                                                   c=abs(stats_df.time_diff), s=1, cmap='viridis', figsize=(8, 8))  #\n",
    "plt.plot(np.linspace(0, dist_lim), np.linspace(0, dist_lim), 'black', linestyle='dashed')\n",
    "plt.ylim([0, dist_lim]); plt.xlim([0, dist_lim]);"
   ]
  }
 ],
 "metadata": {
  "kernelspec": {
   "display_name": "Python 3",
   "language": "python",
   "name": "python3"
  },
  "language_info": {
   "codemirror_mode": {
    "name": "ipython",
    "version": 3
   },
   "file_extension": ".py",
   "mimetype": "text/x-python",
   "name": "python",
   "nbconvert_exporter": "python",
   "pygments_lexer": "ipython3",
   "version": "3.6.7"
  }
 },
 "nbformat": 4,
 "nbformat_minor": 2
}
