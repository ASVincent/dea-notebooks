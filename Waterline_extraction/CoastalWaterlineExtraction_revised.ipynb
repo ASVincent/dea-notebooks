{
 "cells": [
  {
   "cell_type": "code",
   "execution_count": 32,
   "metadata": {},
   "outputs": [],
   "source": [
    "import os\n",
    "import sys\n",
    "import datacube\n",
    "import pandas as pd\n",
    "import xarray as xr\n",
    "import numpy as np\n",
    "import geopandas as gpd\n",
    "from datacube.storage import masking\n",
    "from datacube.helpers import ga_pq_fuser\n",
    "from datacube.utils import geometry\n",
    "from datacube.utils.geometry import CRS\n",
    "from otps import TimePoint\n",
    "from otps import predict_tide\n",
    "from dateutil.relativedelta import relativedelta\n",
    "from collections import Counter\n",
    "import warnings\n",
    "\n",
    "sys.path.append('../10_Scripts')\n",
    "import SpatialTools, DEAPlotting\n",
    "\n",
    "# Create datacube instance\n",
    "dc = datacube.Datacube(app='Tidal geomedian filmstrips')\n",
    "dc_upgrade = datacube.Datacube(config='/home/561/rt1527/.ard-interoperability_tmp.conf')\n",
    "\n",
    "\n",
    "def date_range(start_date, end_date, freq = '1YS'):\n",
    "    \n",
    "    '''\n",
    "    Generates a dictionary of from-to date ranges based on a start and end date, and\n",
    "    a temporal frequency (e.g. annually or six-monthly etc).\n",
    "    \n",
    "    Frequencies are based on Panda's date offset objects - see the following list:\n",
    "    https://pandas.pydata.org/pandas-docs/stable/user_guide/timeseries.html#dateoffset-objects.\n",
    "    Options include annual ('1YS'), every 6 months ('6MS') etc.\n",
    "    \n",
    "    Outputs a dictionary with each time range named by its starting date.\n",
    "    '''    \n",
    "\n",
    "    # Convert to list of from-to dates. \n",
    "    from_dates = pd.date_range(start_date, end_date, freq=freq)[:-1].astype(str).values\n",
    "    to_dates = pd.date_range(start_date, end_date, freq=freq)[1:].astype(str).values\n",
    "    \n",
    "    # Combine into a dictionary. Starting dates for each range are used to name output files.\n",
    "    date_ranges = {a: (a, b) for (a, b) in np.dstack([from_dates, to_dates])[0]}\n",
    "    \n",
    "    return date_ranges\n",
    "\n",
    "\n",
    "def mostcommon_utm(dc, product, query):    \n",
    "    \n",
    "    '''\n",
    "    Takes a given query and returns the most common UTM zone for \n",
    "    observations returned for that spatial extent.\n",
    "    \n",
    "    '''\n",
    "    \n",
    "    # List of matching products\n",
    "    matching_datasets = dc.find_datasets(product=product, **query)\n",
    "    \n",
    "    # Extract all CRSs\n",
    "    crs_list = [str(i.crs) for i in matching_datasets]    \n",
    "   \n",
    "    # Identify most common CRS\n",
    "    crs_counts = Counter(crs_list)    \n",
    "    crs_mostcommon = crs_counts.most_common(1)[0][0]\n",
    "\n",
    "    # Warn user if multiple CRSs are encountered\n",
    "    if len(crs_counts.keys()) > 1:\n",
    "\n",
    "        warnings.warn(f'Multiple UTM zones {list(crs_counts.keys())} were returned for this query.' \n",
    "                      f'Defaulting to the most common zone: {crs_mostcommon}', UserWarning)\n",
    "    \n",
    "    return crs_mostcommon\n",
    "\n",
    "\n",
    "def tidal_tag(ds, tidepost_lat=None, tidepost_lon=None, swap_dims=False):\n",
    "    \n",
    "    if not tidepost_lat or not tidepost_lon:\n",
    "        \n",
    "        tidepost_lon, tidepost_lat = ds.extent.centroid.to_crs(crs=CRS('EPSG:4326')).coords[0]\n",
    "        print(f'Setting tide post from dataset centroid: {tidepost_lon}, {tidepost_lat}')\n",
    "        \n",
    "    else:\n",
    "        print(f'Using user-supplied tide post: {tidepost_lon}, {tidepost_lat}')\n",
    "    \n",
    "    # Use the tidal mode to compute tide heights for each observation:\n",
    "    obs_datetimes = ds.time.data.astype('M8[s]').astype('O').tolist()\n",
    "    obs_timepoints = [TimePoint(tidepost_lon, tidepost_lat, dt) for dt in obs_datetimes]\n",
    "    obs_predictedtides = predict_tide(obs_timepoints)\n",
    "    obs_tideheights = [predictedtide.tide_m for predictedtide in obs_predictedtides]\n",
    "\n",
    "    # Assign tide heights to the dataset as a new variable\n",
    "    ds['tide_heights'] = xr.DataArray(obs_tideheights, [('time', ds.time)])\n",
    "    \n",
    "    # If swap_dims = True, make tide height the primary dimension instead of time\n",
    "    if swap_dims:\n",
    "        \n",
    "        # Swap dimensions and sort by tide height\n",
    "        ds = ds.swap_dims({'time': 'tide_heights'})\n",
    "        ds = ds.sortby('tide_heights')        \n",
    "    \n",
    "    return ds\n"
   ]
  },
  {
   "cell_type": "markdown",
   "metadata": {},
   "source": [
    "## Set spatial query"
   ]
  },
  {
   "cell_type": "code",
   "execution_count": 42,
   "metadata": {},
   "outputs": [
    {
     "data": {
      "text/html": [
       "<div style=\"width:100%;\"><div style=\"position:relative;width:100%;height:0;padding-bottom:60%;\"><iframe src=\"data:text/html;charset=utf-8;base64,PCFET0NUWVBFIGh0bWw+CjxoZWFkPiAgICAKICAgIDxtZXRhIGh0dHAtZXF1aXY9ImNvbnRlbnQtdHlwZSIgY29udGVudD0idGV4dC9odG1sOyBjaGFyc2V0PVVURi04IiAvPgogICAgPHNjcmlwdD5MX1BSRUZFUl9DQU5WQVM9ZmFsc2U7IExfTk9fVE9VQ0g9ZmFsc2U7IExfRElTQUJMRV8zRD1mYWxzZTs8L3NjcmlwdD4KICAgIDxzY3JpcHQgc3JjPSJodHRwczovL2Nkbi5qc2RlbGl2ci5uZXQvbnBtL2xlYWZsZXRAMS4zLjQvZGlzdC9sZWFmbGV0LmpzIj48L3NjcmlwdD4KICAgIDxzY3JpcHQgc3JjPSJodHRwczovL2FqYXguZ29vZ2xlYXBpcy5jb20vYWpheC9saWJzL2pxdWVyeS8xLjExLjEvanF1ZXJ5Lm1pbi5qcyI+PC9zY3JpcHQ+CiAgICA8c2NyaXB0IHNyYz0iaHR0cHM6Ly9tYXhjZG4uYm9vdHN0cmFwY2RuLmNvbS9ib290c3RyYXAvMy4yLjAvanMvYm9vdHN0cmFwLm1pbi5qcyI+PC9zY3JpcHQ+CiAgICA8c2NyaXB0IHNyYz0iaHR0cHM6Ly9jZG5qcy5jbG91ZGZsYXJlLmNvbS9hamF4L2xpYnMvTGVhZmxldC5hd2Vzb21lLW1hcmtlcnMvMi4wLjIvbGVhZmxldC5hd2Vzb21lLW1hcmtlcnMuanMiPjwvc2NyaXB0PgogICAgPGxpbmsgcmVsPSJzdHlsZXNoZWV0IiBocmVmPSJodHRwczovL2Nkbi5qc2RlbGl2ci5uZXQvbnBtL2xlYWZsZXRAMS4zLjQvZGlzdC9sZWFmbGV0LmNzcyIvPgogICAgPGxpbmsgcmVsPSJzdHlsZXNoZWV0IiBocmVmPSJodHRwczovL21heGNkbi5ib290c3RyYXBjZG4uY29tL2Jvb3RzdHJhcC8zLjIuMC9jc3MvYm9vdHN0cmFwLm1pbi5jc3MiLz4KICAgIDxsaW5rIHJlbD0ic3R5bGVzaGVldCIgaHJlZj0iaHR0cHM6Ly9tYXhjZG4uYm9vdHN0cmFwY2RuLmNvbS9ib290c3RyYXAvMy4yLjAvY3NzL2Jvb3RzdHJhcC10aGVtZS5taW4uY3NzIi8+CiAgICA8bGluayByZWw9InN0eWxlc2hlZXQiIGhyZWY9Imh0dHBzOi8vbWF4Y2RuLmJvb3RzdHJhcGNkbi5jb20vZm9udC1hd2Vzb21lLzQuNi4zL2Nzcy9mb250LWF3ZXNvbWUubWluLmNzcyIvPgogICAgPGxpbmsgcmVsPSJzdHlsZXNoZWV0IiBocmVmPSJodHRwczovL2NkbmpzLmNsb3VkZmxhcmUuY29tL2FqYXgvbGlicy9MZWFmbGV0LmF3ZXNvbWUtbWFya2Vycy8yLjAuMi9sZWFmbGV0LmF3ZXNvbWUtbWFya2Vycy5jc3MiLz4KICAgIDxsaW5rIHJlbD0ic3R5bGVzaGVldCIgaHJlZj0iaHR0cHM6Ly9yYXdjZG4uZ2l0aGFjay5jb20vcHl0aG9uLXZpc3VhbGl6YXRpb24vZm9saXVtL21hc3Rlci9mb2xpdW0vdGVtcGxhdGVzL2xlYWZsZXQuYXdlc29tZS5yb3RhdGUuY3NzIi8+CiAgICA8c3R5bGU+aHRtbCwgYm9keSB7d2lkdGg6IDEwMCU7aGVpZ2h0OiAxMDAlO21hcmdpbjogMDtwYWRkaW5nOiAwO308L3N0eWxlPgogICAgPHN0eWxlPiNtYXAge3Bvc2l0aW9uOmFic29sdXRlO3RvcDowO2JvdHRvbTowO3JpZ2h0OjA7bGVmdDowO308L3N0eWxlPgogICAgCiAgICA8bWV0YSBuYW1lPSJ2aWV3cG9ydCIgY29udGVudD0id2lkdGg9ZGV2aWNlLXdpZHRoLAogICAgICAgIGluaXRpYWwtc2NhbGU9MS4wLCBtYXhpbXVtLXNjYWxlPTEuMCwgdXNlci1zY2FsYWJsZT1ubyIgLz4KICAgIDxzdHlsZT4jbWFwX2M1NDJiNjE5NGNjYzQwY2ZhMjU2YWUzZWY0NmY4NmEwIHsKICAgICAgICBwb3NpdGlvbjogcmVsYXRpdmU7CiAgICAgICAgd2lkdGg6IDEwMC4wJTsKICAgICAgICBoZWlnaHQ6IDEwMC4wJTsKICAgICAgICBsZWZ0OiAwLjAlOwogICAgICAgIHRvcDogMC4wJTsKICAgICAgICB9CiAgICA8L3N0eWxlPgo8L2hlYWQ+Cjxib2R5PiAgICAKICAgIAogICAgPGRpdiBjbGFzcz0iZm9saXVtLW1hcCIgaWQ9Im1hcF9jNTQyYjYxOTRjY2M0MGNmYTI1NmFlM2VmNDZmODZhMCIgPjwvZGl2Pgo8L2JvZHk+CjxzY3JpcHQ+ICAgIAogICAgCiAgICAKICAgICAgICB2YXIgYm91bmRzID0gbnVsbDsKICAgIAoKICAgIHZhciBtYXBfYzU0MmI2MTk0Y2NjNDBjZmEyNTZhZTNlZjQ2Zjg2YTAgPSBMLm1hcCgKICAgICAgICAnbWFwX2M1NDJiNjE5NGNjYzQwY2ZhMjU2YWUzZWY0NmY4NmEwJywgewogICAgICAgIGNlbnRlcjogWy0yOC4xNjk5OTk5OTk5OTk5OTgsIDE1My41MzVdLAogICAgICAgIHpvb206IDEzLAogICAgICAgIG1heEJvdW5kczogYm91bmRzLAogICAgICAgIGxheWVyczogW10sCiAgICAgICAgd29ybGRDb3B5SnVtcDogZmFsc2UsCiAgICAgICAgY3JzOiBMLkNSUy5FUFNHMzg1NywKICAgICAgICB6b29tQ29udHJvbDogdHJ1ZSwKICAgICAgICB9KTsKCiAgICAKICAgIAogICAgdmFyIHRpbGVfbGF5ZXJfYWQ5ZDMxYzBhM2FjNGU5ZmIwYWM4NGEyZGVkMmNmNzggPSBMLnRpbGVMYXllcigKICAgICAgICAnaHR0cDovL210MS5nb29nbGUuY29tL3Z0L2x5cnM9eSZ6PXt6fSZ4PXt4fSZ5PXt5fScsCiAgICAgICAgewogICAgICAgICJhdHRyaWJ1dGlvbiI6ICJHb29nbGUiLAogICAgICAgICJkZXRlY3RSZXRpbmEiOiBmYWxzZSwKICAgICAgICAibWF4TmF0aXZlWm9vbSI6IDE4LAogICAgICAgICJtYXhab29tIjogMTgsCiAgICAgICAgIm1pblpvb20iOiAwLAogICAgICAgICJub1dyYXAiOiBmYWxzZSwKICAgICAgICAib3BhY2l0eSI6IDEsCiAgICAgICAgInN1YmRvbWFpbnMiOiAiYWJjIiwKICAgICAgICAidG1zIjogZmFsc2UKfSkuYWRkVG8obWFwX2M1NDJiNjE5NGNjYzQwY2ZhMjU2YWUzZWY0NmY4NmEwKTsKICAgIAogICAgICAgICAgICAgICAgdmFyIHBvbHlfbGluZV8wZTZlOTFiMDZjODM0ZjMwYjVmYTc1M2Y4MGVmZjVkMyA9IEwucG9seWxpbmUoCiAgICAgICAgICAgICAgICAgICAgW1stMjguMTUsIDE1My41MV0sIFstMjguMTUsIDE1My41Nl0sIFstMjguMTksIDE1My41Nl0sIFstMjguMTksIDE1My41MV0sIFstMjguMTUsIDE1My41MV1dLAogICAgICAgICAgICAgICAgICAgIHsKICAiYnViYmxpbmdNb3VzZUV2ZW50cyI6IHRydWUsCiAgImNvbG9yIjogInJlZCIsCiAgImRhc2hBcnJheSI6IG51bGwsCiAgImRhc2hPZmZzZXQiOiBudWxsLAogICJmaWxsIjogZmFsc2UsCiAgImZpbGxDb2xvciI6ICJyZWQiLAogICJmaWxsT3BhY2l0eSI6IDAuMiwKICAiZmlsbFJ1bGUiOiAiZXZlbm9kZCIsCiAgImxpbmVDYXAiOiAicm91bmQiLAogICJsaW5lSm9pbiI6ICJyb3VuZCIsCiAgIm5vQ2xpcCI6IGZhbHNlLAogICJvcGFjaXR5IjogMC44LAogICJzbW9vdGhGYWN0b3IiOiAxLjAsCiAgInN0cm9rZSI6IHRydWUsCiAgIndlaWdodCI6IDMKfQogICAgICAgICAgICAgICAgICAgICkKICAgICAgICAgICAgICAgICAgICAuYWRkVG8obWFwX2M1NDJiNjE5NGNjYzQwY2ZhMjU2YWUzZWY0NmY4NmEwKTsKICAgICAgICAgICAgCiAgICAKICAgICAgICAgICAgICAgIHZhciBsYXRfbG5nX3BvcHVwX2Q4YjcyYzJkNDRmYjQ0NzE4ZGM5OTBkNWUwZDRhODJkID0gTC5wb3B1cCgpOwogICAgICAgICAgICAgICAgZnVuY3Rpb24gbGF0TG5nUG9wKGUpIHsKICAgICAgICAgICAgICAgICAgICBsYXRfbG5nX3BvcHVwX2Q4YjcyYzJkNDRmYjQ0NzE4ZGM5OTBkNWUwZDRhODJkCiAgICAgICAgICAgICAgICAgICAgICAgIC5zZXRMYXRMbmcoZS5sYXRsbmcpCiAgICAgICAgICAgICAgICAgICAgICAgIC5zZXRDb250ZW50KCJMYXRpdHVkZTogIiArIGUubGF0bG5nLmxhdC50b0ZpeGVkKDQpICsKICAgICAgICAgICAgICAgICAgICAgICAgICAgICAgICAgICAgIjxicj5Mb25naXR1ZGU6ICIgKyBlLmxhdGxuZy5sbmcudG9GaXhlZCg0KSkKICAgICAgICAgICAgICAgICAgICAgICAgLm9wZW5PbihtYXBfYzU0MmI2MTk0Y2NjNDBjZmEyNTZhZTNlZjQ2Zjg2YTApOwogICAgICAgICAgICAgICAgICAgIH0KICAgICAgICAgICAgICAgIG1hcF9jNTQyYjYxOTRjY2M0MGNmYTI1NmFlM2VmNDZmODZhMC5vbignY2xpY2snLCBsYXRMbmdQb3ApOwogICAgICAgICAgICAKPC9zY3JpcHQ+\" style=\"position:absolute;width:100%;height:100%;left:0;top:0;border:none !important;\" allowfullscreen webkitallowfullscreen mozallowfullscreen></iframe></div></div>"
      ],
      "text/plain": [
       "<folium.folium.Map at 0x7f11e977a9e8>"
      ]
     },
     "execution_count": 42,
     "metadata": {},
     "output_type": "execute_result"
    }
   ],
   "source": [
    "# Option 1: For a set of discontinuous or unevenly sized time steps (e.g. climatic periods, before-after development).\n",
    "# Each set of dates will be exported as an individual shoreline\n",
    "study_area = 'tweed_custom'  # Name used as prefix for output files\n",
    "min_tide_perc = 0.5  # Minumum percentile of the observed tidal range to include (e.g. 0.5 = median tide height)\n",
    "max_tide_perc = 1.0  # Maximum percentile of the observed tidal range to include (e.g. 1.0 = maximum tide height)\n",
    "water_index = 'mndwi'  # Water index used to extract waterlines. Options are 'mndwi', 'ndwi', 'awei_s', 'awei_ns'\n",
    "index_threshold = 0.1  # Threshold used to extract waterlines\n",
    "min_vertices = 100  # Minimum size of waterlines in vertexes to extract. Larger values remove small, isolated waterlines\n",
    "sensors = ['ls5', 'ls5', 'ls8']  # Landsat sensors to import (e.g. Landsat 5, 7, 8)\n",
    "lat_extents = (-28.15, -28.19)   \n",
    "lon_extents = (153.51, 153.56)\n",
    "time_periods = {'elnino_1': ('2011-01-01', '2012-01-01'),\n",
    "                'lanina_1': ('2013-01-01', '2014-01-01'),\n",
    "                'elnino_2': ('2015-01-01', '2016-01-01')}\n",
    "\n",
    "# study_area = 'adelaide_custom'  # Name used as prefix for output files\n",
    "# min_tide_perc = 0.5  # Minumum percentile of the observed tidal range to include (e.g. 0.5 = median tide height)\n",
    "# max_tide_perc = 1.0  # Maximum percentile of the observed tidal range to include (e.g. 1.0 = maximum tide height)\n",
    "# water_index = 'mndwi'  # Water index used to extract waterlines. Options are 'mndwi', 'ndwi', 'awei_s', 'awei_ns'\n",
    "# index_threshold = 0.1  # Threshold used to extract waterlines\n",
    "# min_vertices = 100  # Minimum size of waterlines in vertexes to extract. Larger values remove small, isolated waterlines\n",
    "# sensors = ['ls5', 'ls7', 'ls8']  # Landsat sensors to import (e.g. Landsat 5, 7, 8)\n",
    "# lat_extents = (-34.88, -34.96)   \n",
    "# lon_extents = (138.48, 138.52)\n",
    "# time_periods = {'elnino_1': ('1990-01-01', '1991-06-01'),\n",
    "#                 'lanina_1': ('1993-01-01', '1994-01-01'),\n",
    "#                 'elnino_2': ('1994-01-01', '1995-01-01')}\n",
    "\n",
    "# # Option 2: For a set of evenly spaced time steps (e.g. annually or monthly):\n",
    "# study_area = 'tweed_annual'  # Name used as prefix for output files\n",
    "# min_tide_perc = 0.5  # Minumum percentile of the observed tidal range to include (e.g. 0.5 = median tide height)\n",
    "# max_tide_perc = 1.0  # Maximum percentile of the observed tidal range to include (e.g. 1.0 = maximum tide height)\n",
    "# water_index = 'mndwi'  # Water index used to extract waterlines. Options are 'mndwi', 'ndwi', 'awei_s', 'awei_ns'\n",
    "# index_threshold = 0.1  # Threshold used to extract waterlines\n",
    "# min_vertices = 100  # Minimum size of waterlines in vertexes to extract. Larger values remove small, isolated waterlines\n",
    "# sensors = ['ls5', 'ls7', 'ls8']  # Landsat sensors to import (e.g. Landsat 5, 7, 8)\n",
    "# lat_extents = (-28.15, -28.19)   \n",
    "# lon_extents = (153.51, 153.56)\n",
    "# time_periods = date_range('2010-01-01', '2019-01-01', freq = '1YS')\n",
    "\n",
    "# Preview area\n",
    "DEAPlotting.display_map(x=lon_extents, y=lat_extents, crs='EPSG:4326')"
   ]
  },
  {
   "cell_type": "markdown",
   "metadata": {},
   "source": [
    "## Load satellite data\n",
    "\n",
    "This will first attempt to extract data from the collection upgrade DEA Landsat Collection 3 data to avoid jagged resampling artefacts in the output contours. If this is not possible, it will revert to importing DEA Landsat Collection 2 data which will produce jagged contours due to nearest neighbour resampling that was originally used when the data was ingested into the datacube."
   ]
  },
  {
   "cell_type": "code",
   "execution_count": 43,
   "metadata": {},
   "outputs": [
    {
     "name": "stderr",
     "output_type": "stream",
     "text": [
      "/g/data/v10/public/modules/dea-env/20190208/lib/python3.6/site-packages/xarray/core/variable.py:133: FutureWarning: Converting timezone-aware DatetimeArray to timezone-naive ndarray with 'datetime64[ns]' dtype. In the future, this will return an ndarray with 'object' dtype where each element is a 'pandas.Timestamp' with the correct 'tz'.\n",
      "\tTo accept the future behavior, pass 'dtype=object'.\n",
      "\tTo keep the old behavior, pass 'dtype=\"datetime64[ns]\"'.\n",
      "  return np.asarray(pd.Series(values.ravel())).reshape(values.shape)\n",
      "/g/data/v10/public/modules/dea-env/20190208/lib/python3.6/site-packages/xarray/core/variable.py:133: FutureWarning: Converting timezone-aware DatetimeArray to timezone-naive ndarray with 'datetime64[ns]' dtype. In the future, this will return an ndarray with 'object' dtype where each element is a 'pandas.Timestamp' with the correct 'tz'.\n",
      "\tTo accept the future behavior, pass 'dtype=object'.\n",
      "\tTo keep the old behavior, pass 'dtype=\"datetime64[ns]\"'.\n",
      "  return np.asarray(pd.Series(values.ravel())).reshape(values.shape)\n"
     ]
    },
    {
     "name": "stdout",
     "output_type": "stream",
     "text": [
      "Setting tide post from dataset centroid: 153.5348959513126, -28.16995405232027\n"
     ]
    }
   ],
   "source": [
    "# If output data and figure directories doesn't exist, create them\n",
    "if not os.path.isdir('output_data/{}/'.format(study_area)):\n",
    "    os.makedirs('output_data/{}/'.format(study_area))\n",
    "\n",
    "# Create a query based on lat and lon extents and all of time. This is filtered by tide\n",
    "# and time periods (using `dask`) before any data is actually loaded\n",
    "query = {'y': lat_extents,\n",
    "         'x': lon_extents,\n",
    "         'crs': 'EPSG:4326',\n",
    "         'time': ('1986-01-01', '2020-01-01')}\n",
    "\n",
    "# Output dicts to hold entire time-series for each sensor\n",
    "sensor_dict = {}\n",
    "\n",
    "# First try using collection upgrade DEA Landsat Collection 3 data to avoid jagged resampling artefacts\n",
    "try:\n",
    "\n",
    "    # Obtain output CRS by taking the most common value of matching Landsat 5 observations\n",
    "    output_crs = mostcommon_utm(dc=dc_upgrade, product='ls5_ard', query=query)\n",
    "\n",
    "    # For each sensor, dask load data and compute tide heights for each sensor\n",
    "    for sensor in sensors:    \n",
    "\n",
    "        # Return observations matching query without actually loading them using dask\n",
    "        sensor_ds = dc_upgrade.load(product='{}_ard'.format(sensor), \n",
    "                                    measurements=['nbart_red', 'nbart_green', 'nbart_blue', \n",
    "                                                  'nbart_nir', 'nbart_swir_1', 'nbart_swir_2', 'fmask'],\n",
    "                                    group_by='solar_day', \n",
    "                                    output_crs=output_crs,\n",
    "                                    resolution=(-30, 30),\n",
    "                                    gqa_iterative_mean_xy=(0, 1),  # Tolerate no more than a one pixel shift\n",
    "                                    align=(15, 15),  # Fix for 15m NW offset in collection upgrade\n",
    "                                    dask_chunks={'time': 1},  # Lazily load data\n",
    "                                    **query)  \n",
    "\n",
    "        # Mask data by pixel quality/fmask to remove cloud, shadow, nodata etc\n",
    "        bad_quality = (sensor_ds.fmask == 0) | (sensor_ds.fmask == 2) | (sensor_ds.fmask == 3)\n",
    "        sensor_ds = sensor_ds.where(~bad_quality)    \n",
    "\n",
    "        # Append results for each sensor to a dictionary with sensor name as the key\n",
    "        sensor_ds = sensor_ds.rename({'nbart_red': 'red', 'nbart_blue': 'blue', 'nbart_green': 'green', \n",
    "                                      'nbart_nir': 'nir', 'nbart_swir_1': 'swir1', 'nbart_swir_2': 'swir2'})\n",
    "        \n",
    "        # Append cloud filtered sensor data to dictionary\n",
    "        sensor_dict[sensor] = sensor_ds\n",
    "        \n",
    "# If DEA Collection 3 data is not available, revert to using DEA Landsat Collection 2\n",
    "except IndexError:\n",
    "    \n",
    "    print('Collection upgrade data (DEA Landsat Collection 3) is unavailable for this location. '\n",
    "          'Reverting to DEA Landsat Collection 2 (contours will be affected by resampling artefacts)')    \n",
    "  \n",
    "    # For each sensor, dask load data and compute tide heights for each sensor\n",
    "    for sensor in sensors:            \n",
    "    \n",
    "        # Return observations matching query without actually loading them using dask\n",
    "        sensor_ds = dc.load(product = '{}_nbart_albers'.format(sensor), \n",
    "                         group_by = 'solar_day', \n",
    "                         measurements = ['red', 'green', 'blue', 'nir', 'swir1', 'swir2'],\n",
    "                         dask_chunks={'time': 1},\n",
    "                         **query)\n",
    "\n",
    "        # Load PQ data matching query without actually loading them using dask\n",
    "        pq_ds = dc.load(product = '{}_pq_albers'.format(sensor),\n",
    "                        group_by = 'solar_day',\n",
    "                        fuse_func=ga_pq_fuser, \n",
    "                        dask_chunks={'time': 1},\n",
    "                        **query)\n",
    "        \n",
    "        # Filter to keep only observations that have matching PQ data \n",
    "        time = (sensor_ds.time - pq_ds.time).time\n",
    "        sensor_ds = sensor_ds.sel(time=time)\n",
    "        pq_ds = pq_ds.sel(time=time)               \n",
    "\n",
    "        # Identify pixels with no clouds/shadows in either ACCA for Fmask\n",
    "        good_quality = masking.make_mask(pq_ds.pixelquality,\n",
    "                                         cloud_acca='no_cloud',\n",
    "                                         cloud_shadow_acca='no_cloud_shadow',\n",
    "                                         cloud_shadow_fmask='no_cloud_shadow',\n",
    "                                         cloud_fmask='no_cloud',\n",
    "                                         blue_saturated=False,\n",
    "                                         green_saturated=False,\n",
    "                                         red_saturated=False,\n",
    "                                         nir_saturated=False,\n",
    "                                         swir1_saturated=False,\n",
    "                                         swir2_saturated=False,\n",
    "                                         contiguous=True)\n",
    "\n",
    "        # Apply mask to set all PQ-affected pixels to NaN and set nodata to NaN\n",
    "        sensor_ds = sensor_ds.where(good_quality)\n",
    "        sensor_ds = masking.mask_invalid_data(sensor_ds)   \n",
    "        \n",
    "        # Append cloud filtered sensor data to dictionary\n",
    "        sensor_dict[sensor] = sensor_ds\n",
    "\n",
    "# Combine into a single xarray dataset\n",
    "all_ds = xr.concat(sensor_dict.values(), dim='time')\n",
    "all_ds = all_ds.sortby('time')\n",
    "\n",
    "# Tag with tide heights and compute percentile tide heights\n",
    "all_ds = tidal_tag(all_ds, tidepost_lat=None, tidepost_lon=None, swap_dims=False)\n",
    "min_tide_thresh = all_ds.tide_heights.quantile(min_tide_perc).item()\n",
    "max_tide_thresh = all_ds.tide_heights.quantile(max_tide_perc).item()\n",
    "\n",
    "# Clip to tide range between min and max percentiles\n",
    "all_ds = all_ds.sel(time=(all_ds.tide_heights > min_tide_thresh) & (all_ds.tide_heights <= max_tide_thresh))"
   ]
  },
  {
   "cell_type": "markdown",
   "metadata": {},
   "source": [
    "## Generate median water index composites for each time period in `time_periods`"
   ]
  },
  {
   "cell_type": "code",
   "execution_count": 44,
   "metadata": {},
   "outputs": [
    {
     "name": "stdout",
     "output_type": "stream",
     "text": [
      "Generating median composites for timestep elnino_1 (from 2011-01-01 to 2012-01-01)\n",
      "Generating median composites for timestep lanina_1 (from 2013-01-01 to 2014-01-01)\n",
      "Generating median composites for timestep elnino_2 (from 2015-01-01 to 2016-01-01)\n",
      "<xarray.Dataset>\n",
      "Dimensions:     (timeperiod: 3, x: 165, y: 150)\n",
      "Coordinates:\n",
      "  * y           (y) float64 -3.114e+06 -3.114e+06 ... -3.118e+06 -3.118e+06\n",
      "  * x           (x) float64 5.500e+05 5.501e+05 5.501e+05 ... 5.549e+05 5.55e+05\n",
      "  * timeperiod  (timeperiod) <U8 'elnino_1' 'lanina_1' 'elnino_2'\n",
      "Data variables:\n",
      "    mndwi       (timeperiod, y, x) float64 0.685 0.6051 ... -0.4311 -0.4469\n",
      "Attributes:\n",
      "    crs:      EPSG:32656\n"
     ]
    }
   ],
   "source": [
    "# Compute water indices\n",
    "all_ds[\"ndwi\"] = (all_ds.green - all_ds.nir) / (all_ds.green + all_ds.nir)\n",
    "all_ds[\"mndwi\"] = (all_ds.green - all_ds.swir1) / (all_ds.green + all_ds.swir1)\n",
    "all_ds[\"awei_ns\"] = (4 * (all_ds.green * 0.0001 - all_ds.swir1 * 0.0001) -\n",
    "                    (0.25 * all_ds.nir * 0.0001 + 2.75 * all_ds.swir2 * 0.0001))\n",
    "all_ds[\"awei_s\"] = (all_ds.blue * 0.0001 + 2.5 * all_ds.green * 0.0001 - \n",
    "                    1.5 * (all_ds.nir * 0.0001 + all_ds.swir1 * 0.0001) - 0.25 * all_ds.swir2 * 0.0001)\n",
    "\n",
    "# Create median composites for each timestep\n",
    "composite_list = []\n",
    "\n",
    "for name, time_period in time_periods.items():\n",
    "    \n",
    "    print(f'Generating median composites for timestep {name} (from {time_period[0]} to {time_period[1]})')\n",
    "    \n",
    "    subset_ds = all_ds.sel(time=slice(time_period[0], time_period[1]))    \n",
    "    median_comp = subset_ds[[water_index]].compute().median(dim='time', keep_attrs=True)\n",
    "    composite_list.append(median_comp)\n",
    "    \n",
    "# Combine into one dataset with dimension names\n",
    "composite_ds = xr.concat(composite_list, dim='timeperiod')\n",
    "composite_ds = composite_ds.assign_coords(timeperiod = list(time_periods.keys()))\n",
    "print(composite_ds)\n"
   ]
  },
  {
   "cell_type": "markdown",
   "metadata": {},
   "source": [
    "## Extract waterline contours"
   ]
  },
  {
   "cell_type": "code",
   "execution_count": 45,
   "metadata": {},
   "outputs": [
    {
     "name": "stdout",
     "output_type": "stream",
     "text": [
      "Operating in single z-value, multiple arrays mode\n",
      "Exporting contour shapefile to output_data/tweed_custom/tweed_custom_mndwi_0.1.shp\n"
     ]
    },
    {
     "data": {
      "text/plain": [
       "<matplotlib.axes._subplots.AxesSubplot at 0x7f11bd984208>"
      ]
     },
     "execution_count": 45,
     "metadata": {},
     "output_type": "execute_result"
    },
    {
     "data": {
      "image/png": "[encoded data removed]",
      "text/plain": [
       "<Figure size 720x720 with 1 Axes>"
      ]
     },
     "metadata": {
      "needs_background": "light"
     },
     "output_type": "display_data"
    }
   ],
   "source": [
    "# Prepare attributes as input to contour extract\n",
    "attribute_data = {'timeperiod': composite_ds.timeperiod.values.tolist()}  \n",
    "attribute_dtypes = {'timeperiod': 'str'}\n",
    "\n",
    "# Extract contours with custom attribute fields:\n",
    "gdf = SpatialTools.contour_extract(z_values=[index_threshold],\n",
    "                                   ds_array=composite_ds[water_index],\n",
    "                                   ds_crs=composite_ds.crs,\n",
    "                                   ds_affine=composite_ds.geobox.transform,\n",
    "                                   output_shp=f'output_data/{study_area}/{study_area}_{water_index}_{index_threshold}.shp',\n",
    "                                   min_vertices=min_vertices,  \n",
    "                                   attribute_data=attribute_data,\n",
    "                                   attribute_dtypes=attribute_dtypes,\n",
    "                                   verbose=False,                                   \n",
    "                                   dim='timeperiod')\n",
    "\n",
    "# Plot contours\n",
    "import matplotlib.pyplot as plt\n",
    "fig, ax = plt.subplots(figsize=(10, 10))\n",
    "gdf.plot(ax=ax, cmap='viridis')"
   ]
  },
  {
   "cell_type": "code",
   "execution_count": 41,
   "metadata": {},
   "outputs": [
    {
     "data": {
      "text/plain": [
       "Affine(30.0, 0.0, 550035.0,\n",
       "       0.0, -30.0, -3113895.0)"
      ]
     },
     "execution_count": 41,
     "metadata": {},
     "output_type": "execute_result"
    }
   ],
   "source": []
  },
  {
   "cell_type": "code",
   "execution_count": null,
   "metadata": {},
   "outputs": [],
   "source": []
  }
 ],
 "metadata": {
  "kernelspec": {
   "display_name": "Python 3",
   "language": "python",
   "name": "python3"
  },
  "language_info": {
   "codemirror_mode": {
    "name": "ipython",
    "version": 3
   },
   "file_extension": ".py",
   "mimetype": "text/x-python",
   "name": "python",
   "nbconvert_exporter": "python",
   "pygments_lexer": "ipython3",
   "version": "3.6.7"
  }
 },
 "nbformat": 4,
 "nbformat_minor": 2
}
