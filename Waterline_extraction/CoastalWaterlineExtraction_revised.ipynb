{
 "cells": [
  {
   "cell_type": "code",
   "execution_count": 1,
   "metadata": {},
   "outputs": [],
   "source": [
    "import os\n",
    "import sys\n",
    "import datacube\n",
    "import pandas as pd\n",
    "import xarray as xr\n",
    "import numpy as np\n",
    "import geopandas as gpd\n",
    "from datacube.utils import geometry\n",
    "from datacube.utils.geometry import CRS\n",
    "from otps import TimePoint\n",
    "from otps import predict_tide\n",
    "from dateutil.relativedelta import relativedelta\n",
    "from collections import Counter\n",
    "import warnings\n",
    "\n",
    "sys.path.append('../10_Scripts')\n",
    "import SpatialTools, DEAPlotting\n",
    "\n",
    "# Create datacube instance\n",
    "dc = datacube.Datacube(app='Tidal geomedian filmstrips')\n",
    "dc_upgrade = datacube.Datacube(config='/home/561/rt1527/.ard-interoperability_tmp.conf')\n",
    "\n",
    "\n",
    "def date_range(start_date, end_date, freq = '1YS'):\n",
    "    \n",
    "    '''\n",
    "    Generates a dictionary of from-to date ranges based on a start and end date, and\n",
    "    a temporal frequency (e.g. annually or six-monthly etc).\n",
    "    \n",
    "    Frequencies are based on Panda's date offset objects - see the following list:\n",
    "    https://pandas.pydata.org/pandas-docs/stable/user_guide/timeseries.html#dateoffset-objects.\n",
    "    Options include annual ('1YS'), every 6 months ('6MS') etc.\n",
    "    \n",
    "    Outputs a dictionary with each time range named by its starting date.\n",
    "    '''    \n",
    "\n",
    "    # Convert to list of from-to dates. \n",
    "    from_dates = pd.date_range(start_date, end_date, freq=freq)[:-1].astype(str).values\n",
    "    to_dates = pd.date_range(start_date, end_date, freq=freq)[1:].astype(str).values\n",
    "    \n",
    "    # Combine into a dictionary. Starting dates for each range are used to name output files.\n",
    "    date_ranges = {a: (a, b) for (a, b) in np.dstack([from_dates, to_dates])[0]}\n",
    "    \n",
    "    return date_ranges\n",
    "\n",
    "\n",
    "def mostcommon_utm(dc, product, query):    \n",
    "    \n",
    "    '''\n",
    "    Takes a given query and returns the most common UTM zone for \n",
    "    observations returned for that spatial extent.\n",
    "    \n",
    "    '''\n",
    "    \n",
    "    # List of matching products\n",
    "    matching_datasets = dc.find_datasets(product=product, **query)\n",
    "    \n",
    "    # Extract all CRSs\n",
    "    crs_list = [str(i.crs) for i in matching_datasets]    \n",
    "   \n",
    "    # Identify most common CRS\n",
    "    crs_counts = Counter(crs_list)    \n",
    "    crs_mostcommon = crs_counts.most_common(1)[0][0]\n",
    "\n",
    "    # Warn user if multiple CRSs are encountered\n",
    "    if len(crs_counts.keys()) > 1:\n",
    "\n",
    "        warnings.warn(f'Multiple UTM zones {list(crs_counts.keys())} were returned for this query.' \n",
    "                      f'Defaulting to the most common zone: {crs_mostcommon}', UserWarning)\n",
    "    \n",
    "    return crs_mostcommon\n",
    "\n",
    "\n",
    "def tidal_tag(ds, tidepost_lat=None, tidepost_lon=None, swap_dims=False):\n",
    "    \n",
    "    if not tidepost_lat or not tidepost_lon:\n",
    "        \n",
    "        tidepost_lon, tidepost_lat = ds.extent.centroid.to_crs(crs=CRS('EPSG:4326')).coords[0]\n",
    "        print(f'Setting tide post from dataset centroid: {tidepost_lon}, {tidepost_lat}')\n",
    "        \n",
    "    else:\n",
    "        print(f'Using user-supplied tide post: {tidepost_lon}, {tidepost_lat}')\n",
    "    \n",
    "    # Use the tidal mode to compute tide heights for each observation:\n",
    "    obs_datetimes = ds.time.data.astype('M8[s]').astype('O').tolist()\n",
    "    obs_timepoints = [TimePoint(tidepost_lon, tidepost_lat, dt) for dt in obs_datetimes]\n",
    "    obs_predictedtides = predict_tide(obs_timepoints)\n",
    "    obs_tideheights = [predictedtide.tide_m for predictedtide in obs_predictedtides]\n",
    "\n",
    "    # Assign tide heights to the dataset as a new variable\n",
    "    ds['tide_heights'] = xr.DataArray(obs_tideheights, [('time', ds.time)])\n",
    "    \n",
    "    # If swap_dims = True, make tide height the primary dimension instead of time\n",
    "    if swap_dims:\n",
    "        \n",
    "        # Swap dimensions and sort by tide height\n",
    "        ds = ds.swap_dims({'time': 'tide_heights'})\n",
    "        ds = ds.sortby('tide_heights')        \n",
    "    \n",
    "    return ds\n"
   ]
  },
  {
   "cell_type": "markdown",
   "metadata": {},
   "source": [
    "## Set spatial query"
   ]
  },
  {
   "cell_type": "code",
   "execution_count": 2,
   "metadata": {},
   "outputs": [
    {
     "data": {
      "text/html": [
       "<div style=\"width:100%;\"><div style=\"position:relative;width:100%;height:0;padding-bottom:60%;\"><iframe src=\"data:text/html;charset=utf-8;base64,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\" style=\"position:absolute;width:100%;height:100%;left:0;top:0;border:none !important;\" allowfullscreen webkitallowfullscreen mozallowfullscreen></iframe></div></div>"
      ],
      "text/plain": [
       "<folium.folium.Map at 0x7f67b5ed3630>"
      ]
     },
     "execution_count": 2,
     "metadata": {},
     "output_type": "execute_result"
    }
   ],
   "source": [
    "# Option 1: For a set of discontinuous or unevenly sized time steps (e.g. climatic periods, before-after development):\n",
    "study_area = 'cabarita_custom'  # name used as prefix for output files\n",
    "lat_extents = (-29.26, -29.31)\n",
    "lon_extents = (153.33, 153.38)\n",
    "date_ranges = {'elnino_1': ('2011-01-01', '2012-01-01'),\n",
    "               'lanina_1': ('2013-01-01', '2014-01-01'),\n",
    "               'elnino_2': ('2015-01-01', '2016-01-01')}\n",
    "\n",
    "# Option 2: For a set of evenly spaced time steps (e.g. annually or monthly):\n",
    "study_area = 'cabarita_annual'  # name used as prefix for output files\n",
    "lat_extents = (-29.26, -29.31)\n",
    "lon_extents = (153.33, 153.38)\n",
    "date_ranges = date_range('2010-01-01', '2019-01-01', freq = '1YS')\n",
    "\n",
    "# Preview area\n",
    "DEAPlotting.display_map(x=lon_extents, y=lat_extents, crs='EPSG:4326')"
   ]
  },
  {
   "cell_type": "markdown",
   "metadata": {},
   "source": [
    "## Load satellite data"
   ]
  },
  {
   "cell_type": "code",
   "execution_count": 3,
   "metadata": {},
   "outputs": [
    {
     "name": "stderr",
     "output_type": "stream",
     "text": [
      "/g/data/v10/public/modules/dea-env/20190208/lib/python3.6/site-packages/xarray/core/variable.py:133: FutureWarning: Converting timezone-aware DatetimeArray to timezone-naive ndarray with 'datetime64[ns]' dtype. In the future, this will return an ndarray with 'object' dtype where each element is a 'pandas.Timestamp' with the correct 'tz'.\n",
      "\tTo accept the future behavior, pass 'dtype=object'.\n",
      "\tTo keep the old behavior, pass 'dtype=\"datetime64[ns]\"'.\n",
      "  return np.asarray(pd.Series(values.ravel())).reshape(values.shape)\n",
      "/g/data/v10/public/modules/dea-env/20190208/lib/python3.6/site-packages/xarray/core/variable.py:133: FutureWarning: Converting timezone-aware DatetimeArray to timezone-naive ndarray with 'datetime64[ns]' dtype. In the future, this will return an ndarray with 'object' dtype where each element is a 'pandas.Timestamp' with the correct 'tz'.\n",
      "\tTo accept the future behavior, pass 'dtype=object'.\n",
      "\tTo keep the old behavior, pass 'dtype=\"datetime64[ns]\"'.\n",
      "  return np.asarray(pd.Series(values.ravel())).reshape(values.shape)\n",
      "/g/data/v10/public/modules/dea-env/20190208/lib/python3.6/site-packages/xarray/core/variable.py:133: FutureWarning: Converting timezone-aware DatetimeArray to timezone-naive ndarray with 'datetime64[ns]' dtype. In the future, this will return an ndarray with 'object' dtype where each element is a 'pandas.Timestamp' with the correct 'tz'.\n",
      "\tTo accept the future behavior, pass 'dtype=object'.\n",
      "\tTo keep the old behavior, pass 'dtype=\"datetime64[ns]\"'.\n",
      "  return np.asarray(pd.Series(values.ravel())).reshape(values.shape)\n"
     ]
    }
   ],
   "source": [
    "# Base query\n",
    "query = {'y': lat_extents,\n",
    "         'x': lon_extents,\n",
    "         'crs': 'EPSG:4326',\n",
    "         'time': ('1986-01-01', '2020-01-01')}\n",
    "\n",
    "# Obtain output CRS by taking the most common value of matching Landsat 5 observations\n",
    "output_crs = mostcommon_utm(dc=dc_upgrade, product='ls5_ard', query=query)\n",
    "\n",
    "# Output dicts to hold entire time-series for each sensor\n",
    "sensor_dict = {}\n",
    "\n",
    "# For each sensor, dask load data and compute tide heights for each sensor\n",
    "for sensor in ['ls5', 'ls7', 'ls8']:    \n",
    "  \n",
    "    # Return observations matching query without actually loading them using dask\n",
    "    sensor_all = dc_upgrade.load(product='{}_ard'.format(sensor), \n",
    "                                 measurements=['nbart_red', 'nbart_blue', 'nbart_green', 'nbart_nir', 'nbart_swir_1', 'nbart_swir_2', 'fmask'],\n",
    "                                 group_by='solar_day', \n",
    "                                 output_crs=output_crs,\n",
    "                                 resolution=(-30, 30),\n",
    "                                 gqa_iterative_mean_xy=(0, 1),  # Tolerate no more than a one pixel shift\n",
    "                                 align=(15, 15),  # Fix for 15m NW offset in collection upgrade\n",
    "                                 dask_chunks={'time': 1},  # Lazily load data\n",
    "                                 **query)  \n",
    "\n",
    "    # Append results for each sensor to a dictionary with sensor name as the key\n",
    "    sensor_all = sensor_all.rename({'nbart_red': 'red', 'nbart_blue': 'blue', 'nbart_green': 'green', \n",
    "                                    'nbart_nir': 'nir', 'nbart_swir_1': 'swir1', 'nbart_swir_2': 'swir2'})\n",
    "    sensor_dict[sensor] = sensor_all\n",
    "        "
   ]
  },
  {
   "cell_type": "code",
   "execution_count": 4,
   "metadata": {},
   "outputs": [
    {
     "name": "stdout",
     "output_type": "stream",
     "text": [
      "Setting tide post from dataset centroid: 153.35498163558665, -29.285098440518468\n"
     ]
    }
   ],
   "source": [
    "# Combine into a single xarray dataset\n",
    "all_ds = xr.concat(sensor_dict.values(), dim='time')\n",
    "all_ds = all_ds.sortby('time')\n",
    "\n",
    "# Tag with tide heights and compute percentile tide heights\n",
    "all_ds = tidal_tag(all_ds, tidepost_lat=None, tidepost_lon=None, swap_dims=False)\n",
    "tide_thresh_min = all_ds.tide_heights.quantile(0.5).item()\n",
    "tide_thresh_max = all_ds.tide_heights.quantile(1.0).item()\n",
    "\n",
    "# Clip to tide range between min and max percentiles\n",
    "all_ds = all_ds.sel(time=(all_ds.tide_heights > tide_thresh_min) & (all_ds.tide_heights <= tide_thresh_max))\n"
   ]
  },
  {
   "cell_type": "code",
   "execution_count": 29,
   "metadata": {},
   "outputs": [
    {
     "name": "stdout",
     "output_type": "stream",
     "text": [
      "Generating median composites for timestep 2010-01-01 (from 2010-01-01 to 2011-01-01)\n",
      "Generating median composites for timestep 2011-01-01 (from 2011-01-01 to 2012-01-01)\n",
      "Generating median composites for timestep 2012-01-01 (from 2012-01-01 to 2013-01-01)\n",
      "Generating median composites for timestep 2013-01-01 (from 2013-01-01 to 2014-01-01)\n",
      "Generating median composites for timestep 2014-01-01 (from 2014-01-01 to 2015-01-01)\n",
      "Generating median composites for timestep 2015-01-01 (from 2015-01-01 to 2016-01-01)\n",
      "Generating median composites for timestep 2016-01-01 (from 2016-01-01 to 2017-01-01)\n",
      "Generating median composites for timestep 2017-01-01 (from 2017-01-01 to 2018-01-01)\n",
      "Generating median composites for timestep 2018-01-01 (from 2018-01-01 to 2019-01-01)\n",
      "<xarray.Dataset>\n",
      "Dimensions:  (id_name: 9, x: 163, y: 186)\n",
      "Coordinates:\n",
      "  * y        (y) float64 -3.237e+06 -3.237e+06 ... -3.242e+06 -3.242e+06\n",
      "  * x        (x) float64 5.320e+05 5.321e+05 5.321e+05 ... 5.369e+05 5.369e+05\n",
      "  * id_name  (id_name) <U10 '2010-01-01' '2011-01-01' ... '2018-01-01'\n",
      "Data variables:\n",
      "    mndwi    (id_name, y, x) float64 -0.3916 -0.4099 -0.3961 ... 0.3833 0.3771\n",
      "Attributes:\n",
      "    crs:      EPSG:32656\n"
     ]
    }
   ],
   "source": [
    "# Compute water indices\n",
    "all_ds[\"ndwi\"] = (all_ds.green - all_ds.nir) / (all_ds.green + all_ds.nir)\n",
    "all_ds[\"mndwi\"] = (all_ds.green - all_ds.swir1) / (all_ds.green + all_ds.swir1)\n",
    "all_ds[\"awei_ns\"] = (4 * (all_ds.green * 0.0001 - all_ds.swir1 * 0.0001) -\n",
    "                    (0.25 * all_ds.nir * 0.0001 + 2.75 * all_ds.swir2 * 0.0001))\n",
    "all_ds[\"awei_s\"] = (all_ds.blue * 0.0001 + 2.5 * all_ds.green * 0.0001 - \n",
    "                    1.5 * (all_ds.nir * 0.0001 + all_ds.swir1 * 0.0001) - 0.25 * all_ds.swir2 * 0.0001)\n",
    "\n",
    "# Create median composites for each timestep\n",
    "composite_list = []\n",
    "\n",
    "for name, dates in date_ranges.items():\n",
    "    \n",
    "    print(f'Generating median composites for timestep {name} (from {dates[0]} to {dates[1]})')\n",
    "    \n",
    "    subset_ds = all_ds.sel(time=slice(dates[0], dates[1]))    \n",
    "    median_comp = subset_ds[['mndwi']].compute().median(dim='time', keep_attrs=True)\n",
    "    composite_list.append(median_comp)\n",
    "    \n",
    "# Combine into one dataset with dimension names\n",
    "composite_ds = xr.concat(composite_list, dim='id_name')\n",
    "composite_ds = composite_ds.assign_coords(id_name = list(date_ranges.keys()))\n",
    "print(composite_ds)\n"
   ]
  },
  {
   "cell_type": "markdown",
   "metadata": {},
   "source": [
    "## Extract contours"
   ]
  },
  {
   "cell_type": "code",
   "execution_count": 22,
   "metadata": {},
   "outputs": [
    {
     "name": "stdout",
     "output_type": "stream",
     "text": [
      "Operating in single z-value, multiple arrays mode\n",
      "Exporting contour shapefile to test2.shp\n"
     ]
    },
    {
     "data": {
      "text/plain": [
       "<matplotlib.axes._subplots.AxesSubplot at 0x7f673be18d68>"
      ]
     },
     "execution_count": 22,
     "metadata": {},
     "output_type": "execute_result"
    },
    {
     "data": {
      "image/png": "[encoded data removed]",
      "text/plain": [
       "<Figure size 720x720 with 1 Axes>"
      ]
     },
     "metadata": {
      "needs_background": "light"
     },
     "output_type": "display_data"
    }
   ],
   "source": [
    "# Prepare attributes as input to contour extract\n",
    "attribute_data = {'id_name': composite_ds.id_name.values.tolist()}  \n",
    "attribute_dtypes = {'id_name': 'str'}\n",
    "\n",
    "# Set threshold\n",
    "thresh = 0\n",
    "\n",
    "# Extract contours with custom attribute fields:\n",
    "gdf = SpatialTools.contour_extract(z_values=[thresh],\n",
    "                                   ds_array=composite_ds.mndwi,\n",
    "                                   ds_crs=output_crs,\n",
    "                                   ds_affine=all_ds.geobox.transform,\n",
    "                                   output_shp=f'test2.shp',\n",
    "                                   min_vertices=100,  \n",
    "                                   attribute_data=attribute_data,\n",
    "                                   attribute_dtypes=attribute_dtypes,\n",
    "                                   verbose=False,                                   \n",
    "                                   dim='id_name')\n",
    "\n",
    "# Plot contours\n",
    "import matplotlib.pyplot as plt\n",
    "fig, ax = plt.subplots(figsize=(10, 10))\n",
    "gdf.plot(ax=ax, cmap='viridis')"
   ]
  },
  {
   "cell_type": "code",
   "execution_count": 23,
   "metadata": {},
   "outputs": [
    {
     "data": {
      "text/html": [
       "<div>\n",
       "<style scoped>\n",
       "    .dataframe tbody tr th:only-of-type {\n",
       "        vertical-align: middle;\n",
       "    }\n",
       "\n",
       "    .dataframe tbody tr th {\n",
       "        vertical-align: top;\n",
       "    }\n",
       "\n",
       "    .dataframe thead th {\n",
       "        text-align: right;\n",
       "    }\n",
       "</style>\n",
       "<table border=\"1\" class=\"dataframe\">\n",
       "  <thead>\n",
       "    <tr style=\"text-align: right;\">\n",
       "      <th></th>\n",
       "      <th>id_name</th>\n",
       "      <th>geometry</th>\n",
       "    </tr>\n",
       "  </thead>\n",
       "  <tbody>\n",
       "    <tr>\n",
       "      <th>0</th>\n",
       "      <td>2010-01-01</td>\n",
       "      <td>LINESTRING (533130 -3242400, 533131.391403166 ...</td>\n",
       "    </tr>\n",
       "    <tr>\n",
       "      <th>1</th>\n",
       "      <td>2011-01-01</td>\n",
       "      <td>LINESTRING (533116.8819241908 -3242400, 533127...</td>\n",
       "    </tr>\n",
       "    <tr>\n",
       "      <th>2</th>\n",
       "      <td>2012-01-01</td>\n",
       "      <td>(LINESTRING (536910 -3238230, 536880 -3238230,...</td>\n",
       "    </tr>\n",
       "    <tr>\n",
       "      <th>3</th>\n",
       "      <td>2013-01-01</td>\n",
       "      <td>LINESTRING (533112.7413428181 -3242400, 533123...</td>\n",
       "    </tr>\n",
       "    <tr>\n",
       "      <th>4</th>\n",
       "      <td>2014-01-01</td>\n",
       "      <td>LINESTRING (533130.1793213377 -3242400, 533130...</td>\n",
       "    </tr>\n",
       "    <tr>\n",
       "      <th>5</th>\n",
       "      <td>2015-01-01</td>\n",
       "      <td>LINESTRING (533130.495803057 -3242400, 533133....</td>\n",
       "    </tr>\n",
       "    <tr>\n",
       "      <th>6</th>\n",
       "      <td>2016-01-01</td>\n",
       "      <td>LINESTRING (533128.2552671529 -3242400, 533130...</td>\n",
       "    </tr>\n",
       "    <tr>\n",
       "      <th>7</th>\n",
       "      <td>2017-01-01</td>\n",
       "      <td>LINESTRING (533124.1199736795 -3242400, 533127...</td>\n",
       "    </tr>\n",
       "    <tr>\n",
       "      <th>8</th>\n",
       "      <td>2018-01-01</td>\n",
       "      <td>LINESTRING (533125.2783189702 -3242400, 533126...</td>\n",
       "    </tr>\n",
       "  </tbody>\n",
       "</table>\n",
       "</div>"
      ],
      "text/plain": [
       "      id_name                                           geometry\n",
       "0  2010-01-01  LINESTRING (533130 -3242400, 533131.391403166 ...\n",
       "1  2011-01-01  LINESTRING (533116.8819241908 -3242400, 533127...\n",
       "2  2012-01-01  (LINESTRING (536910 -3238230, 536880 -3238230,...\n",
       "3  2013-01-01  LINESTRING (533112.7413428181 -3242400, 533123...\n",
       "4  2014-01-01  LINESTRING (533130.1793213377 -3242400, 533130...\n",
       "5  2015-01-01  LINESTRING (533130.495803057 -3242400, 533133....\n",
       "6  2016-01-01  LINESTRING (533128.2552671529 -3242400, 533130...\n",
       "7  2017-01-01  LINESTRING (533124.1199736795 -3242400, 533127...\n",
       "8  2018-01-01  LINESTRING (533125.2783189702 -3242400, 533126..."
      ]
     },
     "execution_count": 23,
     "metadata": {},
     "output_type": "execute_result"
    }
   ],
   "source": [
    "gdf"
   ]
  },
  {
   "cell_type": "code",
   "execution_count": null,
   "metadata": {},
   "outputs": [],
   "source": []
  }
 ],
 "metadata": {
  "kernelspec": {
   "display_name": "Python 3",
   "language": "python",
   "name": "python3"
  },
  "language_info": {
   "codemirror_mode": {
    "name": "ipython",
    "version": 3
   },
   "file_extension": ".py",
   "mimetype": "text/x-python",
   "name": "python",
   "nbconvert_exporter": "python",
   "pygments_lexer": "ipython3",
   "version": "3.6.7"
  }
 },
 "nbformat": 4,
 "nbformat_minor": 2
}
