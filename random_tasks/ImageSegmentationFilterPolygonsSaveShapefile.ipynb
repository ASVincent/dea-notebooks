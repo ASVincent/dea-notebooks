{
 "cells": [
  {
   "cell_type": "markdown",
   "metadata": {},
   "source": [
    "# Perform an image segmentation and filter and save selected polygons"
   ]
  },
  {
   "cell_type": "markdown",
   "metadata": {},
   "source": [
    "**What does this notebook do?** This notebook performs an image segmentation to generate a polygon set from an input raster. We are using the [image segmentation module](https://www.rsgislib.org/rsgislib_segmentation.html) provided with the [RSGISLib python package](https://www.rsgislib.org/index.html). This package uses the segmentation algorithm of Shepherd et al. (2014), to segment an input `.kea` file. \n",
    "\n",
    "In it's current form, this workflow cheats by using `GDAL` functions at the command line. In the future, these could be changed to take advantage of the python wrappers for these functions.\n",
    "\n",
    "We use the [`rasterstats` python package](https://pythonhosted.org/rasterstats/index.html) to calculate zonal statistics for each polygon. This package allows this to be done in a single line of code. Here we only calculate the mean value of each polygon, but additional stats can be calculated if required.\n",
    "\n",
    "Finally, the segmented polygon set is filtered based on our requirements. In this example, we only choose to keep polygons where the average maximum NDVI value for the polygon is >= 0.8. The filtered polygon set is then saved to a shapefile.\n",
    "\n",
    "**Requirements**. \n",
    "* This code requires the `GDAL` library to be loaded into the environment. On the NCI, if you have loaded the `DEA` modules prior to starting this notebook, `GDAL` will be included in the imported libraries. \n",
    "* We also require the `rasterstats` python library. This is not currently part of the `DEA` library and so needs to be installed by the user. To do this, type `pip install rasterstats --user` from a terminal window on the VDI. The dependencies of this library do not interfere with the `DEA` libraries.\n",
    "\n",
    "**Date:** May 2018\n",
    "\n",
    "**Author:** Claire Krause"
   ]
  },
  {
   "cell_type": "raw",
   "metadata": {
    "raw_mimetype": "text/restructuredtext"
   },
   "source": [
    "**Tags**: :index:`RSGISLib`, :index:`image segmentation`, :index:`shapefile`, :index:`rasterstats`, :index:`zonal_stats`, :index:`descartes`, :index:`GDAL`, :index:`plot polygons`"
   ]
  },
  {
   "cell_type": "code",
   "execution_count": 1,
   "metadata": {},
   "outputs": [
    {
     "name": "stdout",
     "output_type": "stream",
     "text": [
      "Populating the interactive namespace from numpy and matplotlib\n"
     ]
    },
    {
     "name": "stderr",
     "output_type": "stream",
     "text": [
      "/g/data/v10/public/modules/dea-env/20180405/lib/python3.6/site-packages/h5py/__init__.py:36: FutureWarning: Conversion of the second argument of issubdtype from `float` to `np.floating` is deprecated. In future, it will be treated as `np.float64 == np.dtype(float).type`.\n",
      "  from ._conv import register_converters as _register_converters\n"
     ]
    }
   ],
   "source": [
    "%pylab notebook\n",
    "\n",
    "import rsgislib\n",
    "from rsgislib.segmentation import segutils\n",
    "from rsgislib.rastergis import ratutils\n",
    "from rasterstats import zonal_stats\n",
    "from descartes import PolygonPatch\n",
    "import matplotlib.cm as cm\n",
    "import matplotlib.colors as colors"
   ]
  },
  {
   "cell_type": "markdown",
   "metadata": {},
   "source": [
    "## Set up the required input and output file names for this script"
   ]
  },
  {
   "cell_type": "code",
   "execution_count": 2,
   "metadata": {},
   "outputs": [],
   "source": [
    "# This is the .tif file to be segmented\n",
    "InputNDVIStats = '/g/data/r78/cek156/datacube_stats/Namoi_summer/NDVI/ndvi_None_20121101.tif'\n",
    "\n",
    "# These are interim outputs for this workflow\n",
    "KEAFile = '/g/data/r78/cek156/dea-notebooks/random_tasks/Summer201213/Namoi_summer_2012.kea'\n",
    "SegmentedKEAFile = '/g/data/r78/cek156/dea-notebooks/random_tasks/Summer201213/Namoi_summer_2012_ShepherdSeg_Cl30.kea'\n",
    "SegmentedTiffFile = '/g/data/r78/cek156/dea-notebooks/random_tasks/Summer201213/Namoi_summer_2012_ShepherdSeg_Cl30.tiff'\n",
    "SegmentedPolygons = '/g/data/r78/cek156/dea-notebooks/random_tasks/Summer201213/Namoi_summer_polygons_2012'\n",
    "\n",
    "# This is the final output polygon set\n",
    "IrrigatedPolygonShp = '/g/data/r78/cek156/dea-notebooks/random_tasks/Summer201213/NamoiIrrigated201213Summer.shp'"
   ]
  },
  {
   "cell_type": "markdown",
   "metadata": {},
   "source": [
    "## Create a .kea file for the image segmentation package\n",
    "The image segmentation package requires a `.kea` file as an input. We are using `gdal_translate` from the command line to translate a `.tiff` file to a `.kea` file. \n",
    "\n",
    "*N.B This command works with a `.tiff` file with a single input band. It has yet to be tested for a `.tiff` file containing multiple bands.*"
   ]
  },
  {
   "cell_type": "code",
   "execution_count": 3,
   "metadata": {},
   "outputs": [
    {
     "name": "stdout",
     "output_type": "stream",
     "text": [
      "Input file size is 15386, 10399\n",
      "0...10...20...30...40...50...60...70...80...90...100 - done.\n"
     ]
    }
   ],
   "source": [
    "!gdal_translate -of KEA -a_srs EPSG:3577 $InputNDVIStats $KEAFile"
   ]
  },
  {
   "cell_type": "markdown",
   "metadata": {},
   "source": [
    "## Run the image segmentation with RSGISLib"
   ]
  },
  {
   "cell_type": "markdown",
   "metadata": {},
   "source": [
    "The `segutils.runShepherdSegmentation` function allows a reasonable degree of tuning, based on the requirements of the user. The default configuration is shown here:\n",
    "\n",
    "```\n",
    "segutils.runShepherdSegmentation(inputImg, outputClumps, outputMeanImg=None, tmpath='.', gdalformat='KEA', \n",
    "                                 noStats=False, noStretch=False, noDelete=False, numClusters=60, minPxls=100,                   \n",
    "                                 distThres=100, bands=None, sampling=100, kmMaxIter=200, processInMem=False, \n",
    "                                 saveProcessStats=False, imgStretchStats='', kMeansCentres='', \n",
    "                                 imgStatsJSONFile='')\n",
    "                                 ```\n",
    "The key parameters for this function are:\n",
    "- `inputImg`: string containing the name of the input .kea file\n",
    "- `outputClumps`: string containing the name of the output .kea file\n",
    "- `numClusters`: int which specifies the number of clusters within the KMeans clustering (default = 60)\n",
    "- `minPxls`: int which specifies the minimum number pixels within a segments (default = 100)\n",
    "- `distThres`: the distance threshold for joining the segments (default = 100)\n",
    "- `sampling`: subsampling of the image for the data used within the KMeans (default = 100; 1 = no subsampling)\n",
    "- `kMaxIter`: maximum iterations for KMeans\n",
    "\n",
    "See the [function documentation](https://www.rsgislib.org/rsgislib_segmentation.html) for additional parameter descriptions.\n",
    "\n",
    "More information about the segmentation method is available in the following paper:\n",
    "\n",
    "Daniel Clewley, Peter Bunting, James Shepherd, Sam Gillingham, Neil Flood, John Dymond, Richard Lucas, John Armston and Mahta Moghaddam. 2014. A Python-Based Open Source System for Geographic Object-Based Image Analysis (GEOBIA) Utilizing Raster Attribute Tables. Remote Sensing. Volume 6, Pages 6111-6135. http://www.mdpi.com/2072-4292/6/7/6111"
   ]
  },
  {
   "cell_type": "code",
   "execution_count": null,
   "metadata": {},
   "outputs": [
    {
     "name": "stdout",
     "output_type": "stream",
     "text": [
      "Stretch Input Image\n",
      "Add 1 to stretched file to ensure there are no all zeros (i.e., no data) regions created.\n",
      "Create Input Image Mask.\n",
      "Mask stretched Image.\n"
     ]
    }
   ],
   "source": [
    "segutils.runShepherdSegmentation(KEAFile, SegmentedKEAFile, numClusters=30, minPxls = 300)"
   ]
  },
  {
   "cell_type": "markdown",
   "metadata": {},
   "source": [
    "### Viewing the output .kea file\n",
    "This can be done within a program called [`TuiView`](https://bitbucket.org/chchrsc/tuiview). To run this program, type `/g/data/v10/public/tuiview/bin/tuiview &` into a new terminal window. Basic instructions for this program can be found in the [TuiView Wiki](https://bitbucket.org/chchrsc/tuiview/wiki/Home). You can drag and drop the file into this program from the `File Browser`, and interrogate the attribute table using the `Query Tool`."
   ]
  },
  {
   "cell_type": "markdown",
   "metadata": {},
   "source": [
    "## Translate back from .kea to .tif to make the file easier to work with"
   ]
  },
  {
   "cell_type": "code",
   "execution_count": null,
   "metadata": {},
   "outputs": [],
   "source": [
    "!gdal_translate -of GTIFF -a_srs EPSG:3577 $SegmentedKEAFile $SegmentedTiffFile"
   ]
  },
  {
   "cell_type": "markdown",
   "metadata": {},
   "source": [
    "## Save the segments from the .tif file as polygons in a shapefile"
   ]
  },
  {
   "cell_type": "code",
   "execution_count": null,
   "metadata": {},
   "outputs": [],
   "source": [
    "!gdal_polygonize.py $SegmentedTiffFile -f \"ESRI Shapefile\" $SegmentedPolygons MaxNDVISummer"
   ]
  },
  {
   "cell_type": "markdown",
   "metadata": {},
   "source": [
    "## Calculate zonal statistics for each polygon\n",
    "\n",
    "This step requires the [`rasterstats` python package](https://pythonhosted.org/rasterstats/index.html)."
   ]
  },
  {
   "cell_type": "code",
   "execution_count": null,
   "metadata": {},
   "outputs": [],
   "source": [
    "polygon_stats = zonal_stats('{0}/MaxNDVISummer.shp'.format(SegmentedPolygons), InputNDVIStats, \n",
    "                            stats = 'mean', geojson_out = True)"
   ]
  },
  {
   "cell_type": "markdown",
   "metadata": {},
   "source": [
    "### And plot the mean value for each polygon"
   ]
  },
  {
   "cell_type": "code",
   "execution_count": null,
   "metadata": {},
   "outputs": [],
   "source": [
    "cmap= plt.cm.BrBG\n",
    "# create normalization instance\n",
    "norm = matplotlib.colors.Normalize(vmin=0, vmax=1) \n",
    "# create a scalarmappable from the colormap\n",
    "sm = matplotlib.cm.ScalarMappable(cmap=cmap, norm=norm)   \n",
    "sm.set_array([])  \n",
    "\n",
    "fig = plt.figure(figsize = [9,9])\n",
    "ax = fig.gca()\n",
    "for i in range(len(polygon_stats)):\n",
    "    meanVal = polygon_stats[i]['properties']['mean']\n",
    "    ax.add_patch(PolygonPatch(polygon_stats[i]['geometry'], facecolor = cmap(norm(meanVal))))\n",
    "ax.axis('scaled')\n",
    "plt.draw()\n",
    "plt.show()"
   ]
  },
  {
   "cell_type": "markdown",
   "metadata": {},
   "source": [
    "## Select only polygons where the mean max NDVI is >= 0.8"
   ]
  },
  {
   "cell_type": "code",
   "execution_count": null,
   "metadata": {},
   "outputs": [],
   "source": [
    "MeanValues = [polygon_stats[i]['properties']['mean'] for i in range(len(polygon_stats))]\n",
    "MeanValuesIndex = [i for i, x in enumerate(MeanValues) if x >= 0.8]\n",
    "IrrigatedPolygons = [polygon_stats[x] for x in MeanValuesIndex]"
   ]
  },
  {
   "cell_type": "markdown",
   "metadata": {},
   "source": [
    "### And plot our filtered polygon set"
   ]
  },
  {
   "cell_type": "code",
   "execution_count": null,
   "metadata": {},
   "outputs": [],
   "source": [
    "cmap= plt.cm.BrBG\n",
    "# create normalization instance\n",
    "norm = matplotlib.colors.Normalize(vmin=0, vmax=1) \n",
    "# create a scalarmappable from the colormap\n",
    "sm = matplotlib.cm.ScalarMappable(cmap=cmap, norm=norm)   \n",
    "sm.set_array([])  \n",
    "\n",
    "fig = plt.figure(figsize = [9,9])\n",
    "ax = fig.gca()\n",
    "for i in range(len(IrrigatedPolygons)):\n",
    "    meanVal = IrrigatedPolygons[i]['properties']['mean']\n",
    "    ax.add_patch(PolygonPatch(IrrigatedPolygons[i]['geometry'], facecolor = cmap(norm(meanVal))))\n",
    "ax.axis('scaled')\n",
    "plt.draw()\n",
    "plt.show()"
   ]
  },
  {
   "cell_type": "markdown",
   "metadata": {},
   "source": [
    "## Export our chosen polygons to a shape file"
   ]
  },
  {
   "cell_type": "code",
   "execution_count": null,
   "metadata": {},
   "outputs": [],
   "source": [
    "import fiona\n",
    "import json\n",
    "from fiona.crs import from_epsg\n",
    "\n",
    "schema = {'geometry': 'Polygon','properties': {'mean': 'str'}}\n",
    "\n",
    "#with fiona.open('polygon.shp', 'w', 'ESRI Shapefile', schema) as layer:\n",
    "with fiona.open(IrrigatedPolygonShp, \"w\", crs = from_epsg(3577), driver = 'ESRI Shapefile', schema = schema) as output:\n",
    "    for i in range(len(IrrigatedPolygons)):\n",
    "        output.write({'properties': {'mean': IrrigatedPolygons[i]['properties']['mean']},\n",
    "                    'geometry': IrrigatedPolygons[i]['geometry']})"
   ]
  },
  {
   "cell_type": "code",
   "execution_count": null,
   "metadata": {},
   "outputs": [],
   "source": []
  }
 ],
 "metadata": {
  "celltoolbar": "Raw Cell Format",
  "kernelspec": {
   "display_name": "Python 3",
   "language": "python",
   "name": "python3"
  },
  "language_info": {
   "codemirror_mode": {
    "name": "ipython",
    "version": 3
   },
   "file_extension": ".py",
   "mimetype": "text/x-python",
   "name": "python",
   "nbconvert_exporter": "python",
   "pygments_lexer": "ipython3",
   "version": "3.6.5"
  },
  "toc": {
   "base_numbering": 1,
   "nav_menu": {},
   "number_sections": true,
   "sideBar": true,
   "skip_h1_title": false,
   "title_cell": "Table of Contents",
   "title_sidebar": "Contents",
   "toc_cell": false,
   "toc_position": {},
   "toc_section_display": true,
   "toc_window_display": false
  }
 },
 "nbformat": 4,
 "nbformat_minor": 2
}
