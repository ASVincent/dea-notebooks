{
 "cells": [
  {
   "cell_type": "markdown",
   "metadata": {},
   "source": [
    "# Compare NDCI with waterbody area across time\n",
    "**What does this notebook do?** \n",
    "\n",
    "This notebooks produces plots which compare the inundated area of a waterbody across time with mean values of the Normalised Difference Chlorophyll Index (NDCI) index.\n",
    "\n",
    "**Requirements:** \n",
    "\n",
    "You need to run the following commands from the command line prior to launching jupyter notebooks from the same terminal so that the required libraries and paths are set:\n",
    "\n",
    "`module use /g/data/v10/public/modules/modulefiles` \n",
    "\n",
    "`module load dea`  \n",
    "\n",
    "If you find an error or bug in this notebook, please either create an 'Issue' in the Github repository, or fix it yourself and create a 'Pull' request to contribute the updated notebook back into the repository (See the repository [README](https://github.com/GeoscienceAustralia/dea-notebooks/blob/master/README.rst) for instructions on creating a Pull request).\n",
    "\n",
    "**Date:** January 2019\n",
    "\n",
    "**Author:** Robbi Bishop-Taylor"
   ]
  },
  {
   "cell_type": "code",
   "execution_count": 1,
   "metadata": {},
   "outputs": [],
   "source": [
    "\n",
    "import os\n",
    "import sys\n",
    "import datacube\n",
    "import numpy as np\n",
    "import pandas as pd\n",
    "import xarray as xr\n",
    "from datacube.utils import geometry\n",
    "from datacube.utils.geometry import CRS\n",
    "from datacube import Datacube\n",
    "import matplotlib.pyplot as plt\n",
    "import matplotlib\n",
    "\n",
    "# Import external functions from dea-notebooks using relative link to Scripts\n",
    "sys.path.append('../10_Scripts')\n",
    "import DEAPlotting\n",
    "import DEADataHandling\n",
    "\n",
    "# Connect to datacube database\n",
    "dc = datacube.Datacube(app='NDCI')\n",
    "\n",
    "%load_ext autoreload\n",
    "%autoreload 2\n"
   ]
  },
  {
   "cell_type": "markdown",
   "metadata": {},
   "source": [
    "## Set up study areas"
   ]
  },
  {
   "cell_type": "code",
   "execution_count": 2,
   "metadata": {},
   "outputs": [],
   "source": [
    "# # Create dict with centre coordinates and buffer distances to create AOI\n",
    "# site_dict = {'pamamaroo': dict(lat = -32.2738, lon = 142.4589, buffer = 5700),\n",
    "#              'cawndilla': dict(lat = -32.4733, lon = 142.2291, buffer = 5700),\n",
    "#              'menindee': dict(lat = -32.3434, lon = 142.3279, buffer = 8700)}\n",
    "\n",
    "# site_dict = {'cawndilla': dict(lat = -32.4733, lon = 142.2291, buffer = 5700)}\n",
    "# site_dict = {'collarenebri': dict(lat = -29.5493, lon = 148.605, buffer = 1500)}\n",
    "# site_dict = {'lakemurdeduke': dict(lat = -38.17725, lon = 143.897, buffer = 3500)}  \n",
    "site_dict = {'lakeinverell': dict(lat = -29.794345, lon = 151.14406, buffer = 2000)}  \n",
    " \n",
    "# Settings for all study areas\n",
    "time_range = ('2014-05-01', '2019-02-01')\n",
    "resolution = (-20, 20)  \n",
    "ratio = 1.5  # Output width vs height ratio for datacube spatial query\n",
    "sentinel_clearprop = 0.7  # Minimum proportion of good quality imagery\n",
    "sentinel_sensors = ['s2a', 's2b']  # Sentinel 2 sensors\n",
    "bands = ['nbart_red_edge_1', 'nbart_red', 'nbart_green', 'nbart_nir_1', 'nbart_swir_2', 'fmask']\n"
   ]
  },
  {
   "cell_type": "markdown",
   "metadata": {},
   "source": [
    "## Load in Sentinel 2 timeseries for each site"
   ]
  },
  {
   "cell_type": "code",
   "execution_count": 3,
   "metadata": {},
   "outputs": [
    {
     "name": "stdout",
     "output_type": "stream",
     "text": [
      "lakeinverell\n",
      "Loading s2a pixel quality\n",
      "    Loading 40 filtered s2a timesteps\n",
      "Loading s2b pixel quality\n",
      "    Loading 30 filtered s2b timesteps\n",
      "Combining and sorting s2a, s2b data\n",
      "    Replacing invalid -999 values with NaN (data will be coerced to float64)\n"
     ]
    }
   ],
   "source": [
    "ds_dict = {}\n",
    "\n",
    "# Iterate through each site\n",
    "for key, value in site_dict.items():  \n",
    "    \n",
    "    print(key)\n",
    "\n",
    "    # Set up analysis data query using a buffer around a lat-long point (1280 x 720).\n",
    "    # This simply converts a lat long to Australian Albers, then creates a square analysis region\n",
    "    # by creating a square buffer around the point.\n",
    "    x, y = geometry.point(value['lon'], value['lat'], CRS('WGS84')).to_crs(CRS('EPSG:3577')).points[0]\n",
    "    query = {'x': (x - value['buffer'] * ratio, x + value['buffer'] * ratio),\n",
    "             'y': (y - value['buffer'], y + value['buffer']),    \n",
    "             'time': time_range,\n",
    "             'crs': 'EPSG:3577',\n",
    "             'output_crs': 'EPSG:3577',\n",
    "             'resampling': 'cubic',\n",
    "             'resolution': resolution} \n",
    "    \n",
    "    # Load cloud free Sentinel data for all sensors (S2A, S2B) for the above query.\n",
    "    sentinel_ds = DEADataHandling.load_clearsentinel2(dc=dc, query=query,\n",
    "                                                      sensors=sentinel_sensors,\n",
    "                                                      bands_of_interest=bands,\n",
    "                                                      masked_prop=sentinel_clearprop,\n",
    "                                                      mask_values=(0, 2, 3),\n",
    "                                                      mask_pixel_quality=True,\n",
    "                                                      mask_invalid_data=True)\n",
    "    \n",
    "    # Compute indices\n",
    "    sentinel_ds['NDCI'] = (sentinel_ds.nbart_red_edge_1 - sentinel_ds.nbart_red) / (sentinel_ds.nbart_red_edge_1 + sentinel_ds.nbart_red)\n",
    "    sentinel_ds['NDWI'] = (sentinel_ds.nbart_green - sentinel_ds.nbart_nir_1) / (sentinel_ds.nbart_green + sentinel_ds.nbart_nir_1)\n",
    "    sentinel_ds['MNDWI'] = (sentinel_ds.nbart_green - sentinel_ds.nbart_swir_2) / (sentinel_ds.nbart_green + sentinel_ds.nbart_swir_2)\n",
    "\n",
    "    # Append resulting xarray dataset to dictionary\n",
    "    ds_dict[key] = sentinel_ds\n"
   ]
  },
  {
   "cell_type": "markdown",
   "metadata": {},
   "source": [
    "## Generate plot"
   ]
  },
  {
   "cell_type": "code",
   "execution_count": 6,
   "metadata": {},
   "outputs": [
    {
     "data": {
      "image/png": "[encoded data removed]",
      "text/plain": [
       "<Figure size 576x216 with 1 Axes>"
      ]
     },
     "metadata": {
      "needs_background": "light"
     },
     "output_type": "display_data"
    }
   ],
   "source": [
    "fig, axes = plt.subplots(len(ds_dict), 1, figsize=(8, 3 * len(ds_dict)))\n",
    "cmap = matplotlib.cm.get_cmap('jet_r')\n",
    "\n",
    "# Axes are returned outside of a list if a single subplot is requested. \n",
    "# To avoid this breaking code when we try to index into it, wrap this axes in a list first\n",
    "if not isinstance(axes, list):\n",
    "    axes = [axes]\n",
    "\n",
    "for i, (key, ds) in enumerate(ds_dict.items()):     \n",
    "   \n",
    "    # Extract dates, total water area in km2 and summary NDCI values.\n",
    "    # Take a 3-period rolling median to clean total water area counts and \n",
    "    # account for clouds/missing data on estimates of total water area\n",
    "\n",
    "    # Compute total water area based on either MNDWI or NDWI\n",
    "    y=ds.MNDWI.count(dim=['x', 'y']).rolling(time=3, center=True, min_periods=1).median().values * ((25 * 25) / 1e6) \n",
    "    # y=ds.NDWI.count(dim=['x', 'y']).rolling(time=3, center=True, min_periods=1).median().values * ((25 * 25) / 1e6) \n",
    "\n",
    "    # Compute NDCI values for each timestep using either mean values or a percentile\n",
    "    z=ds.NDCI.mean(dim=['x', 'y']).values\n",
    "    # z=ds.NDCI.quantile(0.95, dim=['x', 'y']).values\n",
    "    \n",
    "    # Plot total water area \n",
    "    x=matplotlib.dates.date2num(ds.time.values)\n",
    "    axes[i].plot_date(x=x, y=y, color='black', linestyle='-', marker='')\n",
    "    axes[i].fill_between(x, 0, y, where=z >= -1, facecolor=cmap(0.7), alpha=1)\n",
    "    \n",
    "    # Color area under the plot based on NDCI vales: high NDCI = red\n",
    "    for ii, thresh in enumerate(np.linspace(-0.1, 0.3, 100)):    \n",
    "        color_vals = np.linspace(0.7, 0, 100)   \n",
    "        axes[i].fill_between(x, 0, y, where=z >= thresh, facecolor=cmap(color_vals[ii]), alpha=1)\n",
    "\n",
    "    # Set panel titles\n",
    "    axes[i].set_title(key.capitalize())\n",
    "    axes[i].spines['right'].set_visible(False)\n",
    "    axes[i].spines['top'].set_visible(False)\n",
    "    \n",
    "    # If multiple panels, remove x axis from top panels\n",
    "    if i < len(ds_dict) - 1:\n",
    "    \n",
    "        # Remove x axis \n",
    "        axes[i].axes.get_xaxis().set_ticklabels([])\n",
    "\n",
    "# Add y axis title to middle panel\n",
    "axes[-1].axes.set_ylabel('Waterbody area (km sq)');"
   ]
  },
  {
   "cell_type": "markdown",
   "metadata": {},
   "source": [
    "### Hacky way to create a custom colorbar for NDCI"
   ]
  },
  {
   "cell_type": "code",
   "execution_count": 7,
   "metadata": {},
   "outputs": [],
   "source": [
    "import matplotlib as mpl\n",
    "import matplotlib.colors as colors\n",
    "\n",
    "def truncate_colormap(cmap, minval=0.0, maxval=1.0, n=100):\n",
    "    new_cmap = colors.LinearSegmentedColormap.from_list(\n",
    "        'trunc({n},{a:.2f},{b:.2f})'.format(n=cmap.name, a=minval, b=maxval),\n",
    "        cmap(np.linspace(minval, maxval, n)))\n",
    "    return new_cmap\n",
    "\n",
    "# The NDCI color scheme on National map uses part of the 'jet' colorscheme\n",
    "cmap = truncate_colormap(plt.get_cmap('jet'), 0.3, 1.0)\n",
    "norm = mpl.colors.Normalize(vmin=-0.1, vmax=0.3)\n",
    "\n",
    "# Add a new axis to plot for colorbar\n",
    "cax = fig.add_axes([0.15, 0.95, 0.7, 0.01])\n",
    "\n",
    "# Add colorbar into new axis\n",
    "cb1 = mpl.colorbar.ColorbarBase(cax, \n",
    "                                cmap=cmap,\n",
    "                                norm=norm,\n",
    "                                orientation='horizontal')\n",
    "cb1.ax.set_title('Normalised Difference Chlorophyll Index (NDCI) for Menindee Lakes')\n",
    "\n",
    "# Write to file\n",
    "fig.savefig('NDCI_area_plot.png', dpi=300)"
   ]
  },
  {
   "cell_type": "code",
   "execution_count": null,
   "metadata": {},
   "outputs": [],
   "source": []
  }
 ],
 "metadata": {
  "kernelspec": {
   "display_name": "Python 3",
   "language": "python",
   "name": "python3"
  },
  "language_info": {
   "codemirror_mode": {
    "name": "ipython",
    "version": 3
   },
   "file_extension": ".py",
   "mimetype": "text/x-python",
   "name": "python",
   "nbconvert_exporter": "python",
   "pygments_lexer": "ipython3",
   "version": "3.6.7"
  },
  "toc-showtags": false
 },
 "nbformat": 4,
 "nbformat_minor": 2
}
