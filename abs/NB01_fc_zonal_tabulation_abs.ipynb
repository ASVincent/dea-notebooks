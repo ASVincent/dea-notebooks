{
 "cells": [
  {
   "cell_type": "markdown",
   "metadata": {},
   "source": [
    "# Tabulation of Fractional Cover data within shapefile polygons"
   ]
  },
  {
   "cell_type": "markdown",
   "metadata": {},
   "source": [
    "**What does this notebook do?**\n",
    "\n",
    "This notebook is a pilot collaboration between Geoscience Australia and Australian Bureau of Statistics. The purpose of the notebook is to use a shapefile polygon boundaries to load fractional cover dataset, complete zonal statistics and tabulate the results.\n",
    "\n",
    "**Requirements**\n",
    "\n",
    "You need to run the following commands from the command line prior to launching jupyter notebooks from the same terminal so that the required libraries and paths are set:\n",
    "\n",
    "`module use /g/data/v10/public/modules/modulefiles`\n",
    "\n",
    "`module load dea`\n",
    "\n",
    "\n",
    "**Background**\n",
    "\n",
    "Data from the Landsat 5,7 and 8 satellite missions are accessible through Digital Earth Australia (DEA). The code snippets in this notebook will let you retrieve and plot the Fractional Cover (FC25) data stored in DEA.\n",
    "\n",
    "\n",
    "**How to use this notebook**\n",
    "\n",
    "A basic understanding of any programming language is desirable but one doesn't have to be an expert Python programmer to manipulate the code to get and display the data.This doc applies to the following Landsat satellites, Fractional Cover bands and the WOfS dataset:\n",
    "\n",
    "- Landsat 5\n",
    "- Landsat 7\n",
    "- Landsat 8\n",
    "- PV - Photosythetic vegetation\n",
    "- NPV - Non-Photosythetic vegetation\n",
    "- BS - Bare Soil\n",
    "- UE - Unmixing Error\n",
    "- Water Observations from Space (WOFs)\n",
    "- WOfS Feature Layer (WOFL)\n",
    "\n",
    "**Bugs still to fix**\n",
    "\n",
    "- Memory errors for large (~2000 km^2) polygons\n",
    "- tidy and document the `fc_polygon_tabulation()` module. Opportunity to create additional modules to declutter.\n",
    "\n",
    "**Errors or bugs**\n",
    "\n",
    "If you find an error or bug in this notebook, please contact erin.telfer@ga.gov.au.\n"
   ]
  },
  {
   "cell_type": "markdown",
   "metadata": {
    "ExecuteTime": {
     "end_time": "2019-01-07T05:22:04.585767Z",
     "start_time": "2019-01-07T05:22:04.577730Z"
    }
   },
   "source": [
    "## Import Libraries and define functions"
   ]
  },
  {
   "cell_type": "code",
   "execution_count": 1,
   "metadata": {
    "ExecuteTime": {
     "end_time": "2019-01-09T05:00:26.527029Z",
     "start_time": "2019-01-09T05:00:21.600978Z"
    }
   },
   "outputs": [],
   "source": [
    "import datacube\n",
    "from datacube.utils import geometry\n",
    "from datacube.storage import masking\n",
    "dc = datacube.Datacube()\n",
    "\n",
    "import numpy as np\n",
    "import fiona\n",
    "import rasterio.features\n",
    "import matplotlib.pyplot as plt\n",
    "import xarray as xr\n",
    "import pandas as pd\n",
    "from shapely.geometry import asShape\n",
    "\n",
    "import sys\n",
    "import os\n",
    "sys.path.append('../other_notebooks/dea-notebooks/10_Scripts')\n",
    "import DEADataHandling"
   ]
  },
  {
   "cell_type": "code",
   "execution_count": 2,
   "metadata": {
    "ExecuteTime": {
     "end_time": "2019-01-09T05:00:26.539548Z",
     "start_time": "2019-01-09T05:00:26.530733Z"
    }
   },
   "outputs": [],
   "source": [
    "def geometry_mask(geoms, geobox, all_touched=False, invert=False):\n",
    "    \"\"\"\n",
    "    Create a mask from shapes.\n",
    "\n",
    "    By default, mask is intended for use as a\n",
    "    numpy mask, where pixels that overlap shapes are False.\n",
    "    :param list[Geometry] geoms: geometries to be rasterized\n",
    "    :param datacube.utils.GeoBox geobox:\n",
    "    :param bool all_touched: If True, all pixels touched by geometries will be burned in. If\n",
    "                             false, only pixels whose center is within the polygon or that\n",
    "                             are selected by Bresenham's line algorithm will be burned in.\n",
    "    :param bool invert: If True, mask will be True for pixels that overlap shapes.\n",
    "    \"\"\"\n",
    "    data = rasterio.features.geometry_mask([geom.to_crs(geobox.crs) for geom in geoms],\n",
    "                                           out_shape=geobox.shape,\n",
    "                                           transform=geobox.affine,\n",
    "                                           all_touched=all_touched,\n",
    "                                           invert=invert)\n",
    "    coords = [xr.DataArray(data=coord.values, name=dim, dims=[dim], attrs={'units': coord.units}) \n",
    "              for dim, coord in geobox.coords.items()]\n",
    "    return xr.DataArray(data, coords=coords)"
   ]
  },
  {
   "cell_type": "code",
   "execution_count": 3,
   "metadata": {
    "ExecuteTime": {
     "end_time": "2019-01-09T05:00:26.550434Z",
     "start_time": "2019-01-09T05:00:26.543019Z"
    }
   },
   "outputs": [],
   "source": [
    "def filter_out_wofs(wofls, ds):\n",
    "    wetwofl = masking.make_mask(wofls, wet=True)\n",
    "    unwofld = ds.where(ds.time == wetwofl.time)\n",
    "    unwofld = unwofld.where(wetwofl.water==False)\n",
    "    return unwofld"
   ]
  },
  {
   "cell_type": "code",
   "execution_count": 4,
   "metadata": {
    "ExecuteTime": {
     "end_time": "2019-01-09T05:00:26.563319Z",
     "start_time": "2019-01-09T05:00:26.556941Z"
    }
   },
   "outputs": [],
   "source": [
    "def polygon_mask(geometry,geobox,unwofld, catchmentID):\n",
    "    mask = geometry_mask([geometry], geobox, all_touched=True, invert=True)\n",
    "    mask_xr = xr.DataArray(mask, dims = ('y','x'))\n",
    "    ds_masked = unwofld.where(mask_xr== False) #mask\n",
    "    ds_masked.coords['catchment_ID'] = catchmentID #add catchment ID as xr coordinate\n",
    "    ds_masked['time'] = (ds_masked.time - pd.Timedelta(hours=10)).astype('datetime64[D]') #correct for ls solar day issues\n",
    "    return ds_masked"
   ]
  },
  {
   "cell_type": "code",
   "execution_count": 12,
   "metadata": {
    "ExecuteTime": {
     "end_time": "2019-01-09T05:03:06.860341Z",
     "start_time": "2019-01-09T05:03:06.843418Z"
    }
   },
   "outputs": [],
   "source": [
    "def fc_daily(ds_masked,catchmentID):\n",
    "    bs = ds_masked.BS.sum(dim=('x', 'y')) #bare soil\n",
    "    pv = ds_masked.PV.sum(dim=('x', 'y')) #photosynthetic vegetation\n",
    "    npv = ds_masked.NPV.sum(dim=('x', 'y')) #non-photosynthetic vegetation\n",
    "    fc_sum = bs + pv + npv #sum all fc components for each time slice\n",
    "    daily_xr = xr.Dataset({'bs':bs,'pv':pv,'npv':npv,}) #combine fc into xr dataset\n",
    "     # caclulate area of each fc component\n",
    "    daily_area_xr = daily_xr  * (25*25/10_000) \n",
    "    daily_area_xr = daily_area_xr.rename({'bs':'bs_area','pv':'pv_area','npv':'npv_area',})\n",
    "    #calculate percentage of fc component for each timeslice within polygon\n",
    "    daily_xr = daily_xr / fc_sum * 100 #calculate percentage\n",
    "    daily_xr = xr.merge([daily_xr,daily_area_xr]) #join percentage and area xr datasets together\n",
    "    daily_xr.coords['catchment_ID'] = catchmentID #add catchment ID as coordinate\n",
    "    \n",
    "    return fc_sum, daily_xr"
   ]
  },
  {
   "cell_type": "code",
   "execution_count": 6,
   "metadata": {
    "ExecuteTime": {
     "end_time": "2019-01-09T05:00:26.586238Z",
     "start_time": "2019-01-09T05:00:26.577273Z"
    }
   },
   "outputs": [],
   "source": [
    "def fc_annual(ds_masked, fc_sum,catchmentID, start):\n",
    "    #sum each fc component spatially for each year\n",
    "    bs_total = ds_masked.BS.sum(dim=('x', 'y','time'))\n",
    "    pv_total = ds_masked.PV.sum(dim=('x', 'y','time'))\n",
    "    npv_total = ds_masked.NPV.sum(dim=('x', 'y','time'))\n",
    "    annual_xr = xr.Dataset({'bs':bs_total,'pv':pv_total,'npv':npv_total,}) #combine annual fc components into xr dataset\n",
    "    # caclulate area of each annual fc component\n",
    "    annual_area_xr = annual_xr * (25*25/10_000)\n",
    "    annual_area_xr = annual_area_xr.rename({'bs':'bs_area','pv':'pv_area','npv':'npv_area',})\n",
    "    #calculate percentage of fc component for each year within polygon\n",
    "    annual_xr = annual_xr /fc_sum.values.sum() * 100 \n",
    "    annual_xr = xr.merge([annual_xr,annual_area_xr]) #join percentage and area xr datasets together\n",
    "    annual_xr.coords['catchment_ID'] = catchmentID #add catchment ID as coordinate\n",
    "    annual_xr.coords['time'] = start #add time (year) as coordinate\n",
    "    return annual_xr"
   ]
  },
  {
   "cell_type": "code",
   "execution_count": 18,
   "metadata": {
    "ExecuteTime": {
     "end_time": "2019-01-09T05:13:40.040100Z",
     "start_time": "2019-01-09T05:13:40.011595Z"
    }
   },
   "outputs": [],
   "source": [
    "def fc_polygon_tabulation(shape_file, year_start, year_end):\n",
    "   #create empty dictionaries and lists \n",
    "    annual_dict = {}\n",
    "    daily_dict = {}\n",
    "    catchment_list = []\n",
    "    \n",
    "    #create a list of years between the start year and end year specified in the function\n",
    "    year_list = list(range(year_start,year_end))\n",
    "    \n",
    "    #loop through each calendar year within the year list\n",
    "    for start_year in year_list:\n",
    "        end_year = start_year + 1\n",
    "        print ('Processing '+str(start_year)+' to '+ str(end_year))\n",
    "        #retrieve all polygons from shapefile\n",
    "        shapes = get_shapes(shape_file)\n",
    "        \n",
    "        #loop through each polygon within shapefile\n",
    "        for geometry, properties in shapes:\n",
    "            catchmentID = 'ID_'+ str(properties['SA2_MAIN16']) #save catchment id from polygon properties as variable \n",
    "            print('Processing catchment '+str(catchmentID))\n",
    "            geobox = datacube.utils.geometry.GeoBox.from_geopolygon(geometry,\n",
    "                                                                    [25.0, 25.0], \n",
    "                                                                    crs=geometry.crs, \n",
    "                                                                    align=None)#save spatial information from polygon\n",
    "            #create query and load fc data\n",
    "            start = str(start_year)+'-01-01'#create timestamp for each calendar year\n",
    "            end  = str(start_year)+'-12-31'#create timestamp for each calendar year\n",
    "            query = {'geopolygon': geometry,'time':(start, end)} #create dc query with polygon shapefile\n",
    "            print('Catchment area is '+str(properties['AREASQKM16'])+' km2')\n",
    "            ds = DEADataHandling.load_clearlandsat(dc, \n",
    "                                                   query, \n",
    "                                                   sensors=('ls5', 'ls7', 'ls8'),\n",
    "                                                   product='fc',\n",
    "                                                   masked_prop=0.80) #load fc data from datacube for specified year and polygon\n",
    "\n",
    "            #if loaded fc dataset contains data then continue\n",
    "            if ds.time.size != 0:\n",
    "                #load a WOfS layer for each timeslice of fc data\n",
    "                wofls = dc.load(product = 'wofs_albers', like=ds)\n",
    "                #create a mask to remove wet pixels\n",
    "                unwofld = filter_out_wofs(wofls, ds)\n",
    "                del wofls\n",
    "                #create a mask to remove data outside of polygon\n",
    "                ds_masked = polygon_mask(geometry,geobox,unwofld, catchmentID)\n",
    "                #sum each fc component spatially for each time slice\n",
    "                fc_sum,daily_xr = fc_daily(ds_masked,catchmentID)\n",
    "                \n",
    "                if catchmentID not in daily_dict: #search whether ID is in dictionary \n",
    "                    daily_dict[catchmentID] = {} #if ID is not in dictionary, create another dictionary\n",
    "                daily_dict[catchmentID][str(start_year)] = daily_xr #save fc data into dictionary of dictionary\n",
    "\n",
    "                #sum each fc component spatially for each year\n",
    "                annual_xr = fc_annual(ds_masked, fc_sum, catchmentID,start)\n",
    "\n",
    "                if catchmentID not in annual_dict:  #search whether ID is in dictionary\n",
    "                    annual_dict[catchmentID] = {} #if ID is not in dictionary, create another dictionary\n",
    "                annual_dict[catchmentID][str(start_year)] = annual_xr #save fc data into dictionary of dictionary\n",
    "\n",
    "                print('Catchment '+ str(catchmentID) +' complete')\n",
    "                print('')\n",
    "            #if loaded fc dataset does not contain then break current loop\n",
    "            else:\n",
    "                break\n",
    "\n",
    "    #concatenate dictionaries together\n",
    "    daily_ID_dict = {key: xr.concat(value.values(), dim='time') for key, value in daily_dict.items()} #concatenate dictionary of dates together\n",
    "    daily_fc_clean = xr.concat(daily_ID_dict.values(),'catchment_ID') #concatenate dictionary of catchment IDs together\n",
    "    annual_ID_dict = {key: xr.concat(value.values(), dim='time') for key, value in annual_dict.items()} #concatenate dictionary of dates together\n",
    "    annual_fc_clean = xr.concat(annual_ID_dict.values(),'catchment_ID') #concatenate dictionary of catchment IDs together\n",
    "\n",
    "    print('Complete')\n",
    "    return daily_fc_clean, annual_fc_clean #output two xr datasets; daily fc and annual fc"
   ]
  },
  {
   "cell_type": "code",
   "execution_count": 19,
   "metadata": {
    "ExecuteTime": {
     "end_time": "2019-01-09T05:13:40.953402Z",
     "start_time": "2019-01-09T05:13:40.946035Z"
    }
   },
   "outputs": [],
   "source": [
    "def get_shapes(shape_file):\n",
    "    with fiona.open(shape_file) as shapes:\n",
    "        crs = datacube.utils.geometry.CRS(shapes.crs_wkt)\n",
    "        for shape in shapes:\n",
    "            geom = datacube.utils.geometry.Geometry(shape['geometry'], crs=crs)\n",
    "            yield geom, shape['properties']"
   ]
  },
  {
   "cell_type": "markdown",
   "metadata": {},
   "source": [
    "## Use shapefile to return relevant data"
   ]
  },
  {
   "cell_type": "code",
   "execution_count": 20,
   "metadata": {
    "ExecuteTime": {
     "end_time": "2019-01-09T05:13:42.092964Z",
     "start_time": "2019-01-09T05:13:42.070403Z"
    }
   },
   "outputs": [],
   "source": [
    "# Set this to the location of water body shapefile\n",
    "# shape_file = os.path.expanduser('SA_2016_edited_3577.shp')\n",
    "shape_file = os.path.expanduser('SA_2016_twopolygons_3577.shp')\n",
    "\n",
    "\n",
    "#open shapefile and save spatial variables\n",
    "with fiona.open(shape_file) as shapes:\n",
    "    crs = geometry.CRS(shapes.crs_wkt)\n",
    "    first_geometry = next(iter(shapes))['geometry']\n",
    "    geom = geometry.Geometry(first_geometry, crs=crs)"
   ]
  },
  {
   "cell_type": "code",
   "execution_count": 21,
   "metadata": {
    "ExecuteTime": {
     "end_time": "2019-01-09T05:13:44.208220Z",
     "start_time": "2019-01-09T05:13:44.204063Z"
    }
   },
   "outputs": [],
   "source": [
    "#ignore warning messages\n",
    "import warnings\n",
    "warnings.simplefilter(\"ignore\")"
   ]
  },
  {
   "cell_type": "code",
   "execution_count": 22,
   "metadata": {
    "ExecuteTime": {
     "end_time": "2019-01-09T05:16:15.447439Z",
     "start_time": "2019-01-09T05:13:44.563341Z"
    },
    "scrolled": false
   },
   "outputs": [
    {
     "name": "stdout",
     "output_type": "stream",
     "text": [
      "Processing 2000 to 2001\n",
      "Processing catchment ID_201021011\n",
      "Catchment area is 920.7579 km2\n",
      "    Skipping ls5\n",
      "Ignoring SLC-off observations for ls7\n",
      "Loading ls7 PQ\n",
      "    Loading 7 filtered ls7 timesteps\n",
      "    Skipping ls8\n",
      "Combining and sorting ls5, ls7 and ls8 data\n",
      "Catchment ID_201021011 complete\n",
      "\n",
      "Processing catchment ID_216031418\n",
      "Catchment area is 1055.5778 km2\n",
      "    Skipping ls5\n",
      "Ignoring SLC-off observations for ls7\n",
      "Loading ls7 PQ\n",
      "    Loading 18 filtered ls7 timesteps\n",
      "    Skipping ls8\n",
      "Combining and sorting ls5, ls7 and ls8 data\n",
      "Catchment ID_216031418 complete\n",
      "\n",
      "Processing 2001 to 2002\n",
      "Processing catchment ID_201021011\n",
      "Catchment area is 920.7579 km2\n",
      "    Skipping ls5\n",
      "Ignoring SLC-off observations for ls7\n",
      "Loading ls7 PQ\n",
      "    Loading 11 filtered ls7 timesteps\n",
      "    Skipping ls8\n",
      "Combining and sorting ls5, ls7 and ls8 data\n",
      "Catchment ID_201021011 complete\n",
      "\n",
      "Processing catchment ID_216031418\n",
      "Catchment area is 1055.5778 km2\n",
      "    Skipping ls5\n",
      "Ignoring SLC-off observations for ls7\n",
      "Loading ls7 PQ\n",
      "    Loading 19 filtered ls7 timesteps\n",
      "    Skipping ls8\n",
      "Combining and sorting ls5, ls7 and ls8 data\n",
      "Catchment ID_216031418 complete\n",
      "\n",
      "Complete\n"
     ]
    }
   ],
   "source": [
    "#use function to tabulate fc components within each polygon in shapefile, for time between years specified. Returns daily and annual averages\n",
    "daily_fc_clean, annual_fc_clean = fc_polygon_tabulation(shape_file, 2000, 2002)"
   ]
  },
  {
   "cell_type": "code",
   "execution_count": 23,
   "metadata": {
    "ExecuteTime": {
     "end_time": "2019-01-09T05:16:15.475109Z",
     "start_time": "2019-01-09T05:16:15.450730Z"
    }
   },
   "outputs": [
    {
     "data": {
      "text/plain": [
       "<xarray.Dataset>\n",
       "Dimensions:       (catchment_ID: 2, time: 43)\n",
       "Coordinates:\n",
       "  * time          (time) datetime64[ns] 2000-01-31 2000-02-16 ... 2001-11-24\n",
       "  * catchment_ID  (catchment_ID) <U12 'ID_201021011' 'ID_216031418'\n",
       "Data variables:\n",
       "    bs            (catchment_ID, time) float64 nan nan nan ... 9.891 7.414 15.97\n",
       "    pv            (catchment_ID, time) float64 nan nan nan ... 67.52 67.14 39.57\n",
       "    npv           (catchment_ID, time) float64 nan nan nan ... 22.59 25.45 44.47\n",
       "    bs_area       (catchment_ID, time) float64 nan nan ... 6.404e+05 1.357e+06\n",
       "    pv_area       (catchment_ID, time) float64 nan nan nan ... 5.8e+06 3.362e+06\n",
       "    npv_area      (catchment_ID, time) float64 nan nan ... 2.198e+06 3.779e+06"
      ]
     },
     "execution_count": 23,
     "metadata": {},
     "output_type": "execute_result"
    }
   ],
   "source": [
    "#print daily fc values\n",
    "daily_fc_clean"
   ]
  },
  {
   "cell_type": "code",
   "execution_count": 24,
   "metadata": {
    "ExecuteTime": {
     "end_time": "2019-01-09T05:16:15.501602Z",
     "start_time": "2019-01-09T05:16:15.478473Z"
    }
   },
   "outputs": [
    {
     "data": {
      "text/plain": [
       "<xarray.Dataset>\n",
       "Dimensions:       (catchment_ID: 2, time: 2)\n",
       "Coordinates:\n",
       "  * time          (time) <U10 '2000-01-01' '2001-01-01'\n",
       "  * catchment_ID  (catchment_ID) <U12 'ID_201021011' 'ID_216031418'\n",
       "Data variables:\n",
       "    bs            (catchment_ID, time) float64 7.043 10.66 12.37 12.66\n",
       "    pv            (catchment_ID, time) float64 64.85 49.11 51.05 45.18\n",
       "    npv           (catchment_ID, time) float64 28.1 40.23 36.58 42.16\n",
       "    bs_area       (catchment_ID, time) float64 2.399e+06 5.719e+06 ... 2.367e+07\n",
       "    pv_area       (catchment_ID, time) float64 2.209e+07 2.635e+07 ... 8.449e+07\n",
       "    npv_area      (catchment_ID, time) float64 9.574e+06 2.158e+07 ... 7.884e+07"
      ]
     },
     "execution_count": 24,
     "metadata": {},
     "output_type": "execute_result"
    }
   ],
   "source": [
    "#print annual fc values\n",
    "annual_fc_clean"
   ]
  },
  {
   "cell_type": "markdown",
   "metadata": {},
   "source": [
    "## save output as .csv"
   ]
  },
  {
   "cell_type": "code",
   "execution_count": 25,
   "metadata": {
    "ExecuteTime": {
     "end_time": "2019-01-09T05:16:15.579845Z",
     "start_time": "2019-01-09T05:16:15.505415Z"
    }
   },
   "outputs": [],
   "source": [
    "daily_fc_df = daily_fc_clean.dropna(dim='time').to_dataframe().to_csv('fc_daily_twopolygons.csv')\n",
    "annual_fc_df = annual_fc_clean.dropna(dim='time').to_dataframe().to_csv('fc_annual_twopolygons.csv')"
   ]
  },
  {
   "cell_type": "markdown",
   "metadata": {},
   "source": [
    "## plot fc percentages"
   ]
  },
  {
   "cell_type": "code",
   "execution_count": 26,
   "metadata": {
    "ExecuteTime": {
     "end_time": "2019-01-09T05:16:15.586279Z",
     "start_time": "2019-01-09T05:16:15.582668Z"
    }
   },
   "outputs": [],
   "source": [
    "catch_ID = 1 #set catchment ID"
   ]
  },
  {
   "cell_type": "code",
   "execution_count": 27,
   "metadata": {
    "ExecuteTime": {
     "end_time": "2019-01-09T05:16:16.137874Z",
     "start_time": "2019-01-09T05:16:15.588786Z"
    }
   },
   "outputs": [
    {
     "data": {
      "image/png": "[encoded data removed]",
      "text/plain": [
       "<Figure size 720x360 with 1 Axes>"
      ]
     },
     "metadata": {
      "needs_background": "light"
     },
     "output_type": "display_data"
    }
   ],
   "source": [
    "#plot fc percentages for all (daily time slices) results. Results are for the catchment ID specified, above.\n",
    "fig,ax = plt.subplots(figsize=(10,5))\n",
    "ax.stackplot(np.asanyarray(daily_fc_clean.isel(catchment_ID = catch_ID).dropna(dim='time').time), \n",
    "             np.asanyarray(daily_fc_clean.isel(catchment_ID = catch_ID).dropna(dim='time').bs), \n",
    "             np.asanyarray(daily_fc_clean.isel(catchment_ID = catch_ID).dropna(dim='time').npv), \n",
    "             np.asanyarray(daily_fc_clean.isel(catchment_ID = catch_ID).dropna(dim='time').pv),\n",
    "             colors = ['tan','olive','darkolivegreen',], \n",
    "             labels=['BS','NPV','PV',])\n",
    "plt.legend(loc='upper center', ncol = 3)\n",
    "plt.title('FC Components: Catchment ID '+str(catch_ID), size=12)\n",
    "plt.ylabel('Percentage (%)', size=12) #Set Y label\n",
    "plt.xlabel('Date', size=12) #Set X label\n",
    "plt.savefig('fc_daily_ID'+str(catch_ID)+'.png')"
   ]
  },
  {
   "cell_type": "code",
   "execution_count": 28,
   "metadata": {
    "ExecuteTime": {
     "end_time": "2019-01-09T05:17:02.679504Z",
     "start_time": "2019-01-09T05:17:02.161812Z"
    }
   },
   "outputs": [
    {
     "data": {
      "image/png": "[encoded data removed]",
      "text/plain": [
       "<Figure size 720x360 with 1 Axes>"
      ]
     },
     "metadata": {
      "needs_background": "light"
     },
     "output_type": "display_data"
    }
   ],
   "source": [
    "#plot fc percentages for annual time slices. Results are for the catchment ID specified, above.\n",
    "\n",
    "fig,ax = plt.subplots(figsize=(10,5))\n",
    "ax.stackplot(np.asanyarray(annual_fc_clean.isel(catchment_ID = catch_ID).time), \n",
    "             np.asanyarray(annual_fc_clean.isel(catchment_ID = catch_ID).bs), \n",
    "             np.asanyarray(annual_fc_clean.isel(catchment_ID = catch_ID).npv), \n",
    "             np.asanyarray(annual_fc_clean.isel(catchment_ID = catch_ID).pv),\n",
    "             colors = ['tan','olive','darkolivegreen',], \n",
    "             labels=['BS','NPV','PV',])\n",
    "plt.legend(loc='upper center', ncol = 3)\n",
    "plt.ylabel('Percentage (%)', size=12) #Set Y label\n",
    "plt.xlabel('Date', size=12) #Set X label\n",
    "plt.title('FC Components: Catchment ID '+str(catch_ID), size=12)\n",
    "# plt.xticks(rotation=45)\n",
    "plt.savefig('fc_annual_ID'+str(catch_ID)+'.png')"
   ]
  },
  {
   "cell_type": "code",
   "execution_count": null,
   "metadata": {},
   "outputs": [],
   "source": []
  },
  {
   "cell_type": "code",
   "execution_count": null,
   "metadata": {},
   "outputs": [],
   "source": []
  },
  {
   "cell_type": "code",
   "execution_count": null,
   "metadata": {
    "ExecuteTime": {
     "end_time": "2019-01-09T02:38:06.616691Z",
     "start_time": "2019-01-09T02:38:06.609562Z"
    }
   },
   "outputs": [],
   "source": [
    "# def fc_polygon_tabulation(shape_file, year_start, year_end):\n",
    "#    #create empty dictionaries and lists \n",
    "#     annual_dict = {}\n",
    "#     daily_dict = {}\n",
    "#     catchment_list = []\n",
    "#     #create a list of years between the start year and end year specified in the function\n",
    "#     year_list = list(range(year_start,year_end))\n",
    "#     #loop through each calendar year within the year list\n",
    "#     for start_year in year_list:\n",
    "#         end_year = start_year + 1\n",
    "#         print ('Processing '+str(start_year)+' to '+ str(end_year))\n",
    "#         #retrieve all polygons from shapefile\n",
    "#         shapes = get_shapes(shape_file)\n",
    "#         #loop through each polygon within shapefile\n",
    "#         for geometry, properties in shapes:\n",
    "#             #save catchment id from polygon properties as variable \n",
    "#             catchmentID = 'ID_'+ str(properties['SA2_MAIN16'])\n",
    "#             print('Processing catchment '+str(catchmentID))\n",
    "#             #save spatial information from polygon\n",
    "#             geobox = datacube.utils.geometry.GeoBox.from_geopolygon(geometry,\n",
    "#                                                                     [25.0, 25.0], \n",
    "#                                                                     crs=geometry.crs, \n",
    "#                                                                     align=None)\n",
    "#             #create timestamp for each calendar year\n",
    "#             start = str(start_year)+'-01-01'\n",
    "#             end  = str(start_year)+'-12-31'\n",
    "#             #create dc query with polygon shapefile\n",
    "#             query = {'geopolygon': geometry,'time':(start, end)}\n",
    "#             #load fc data from datacube for specified year and polygon\n",
    "#             print('Catchment area is '+str(properties['AREASQKM16'])+' km2')\n",
    "#             ds = DEADataHandling.load_clearlandsat(dc, \n",
    "#                                                    query, \n",
    "#                                                    sensors=('ls5', 'ls7', 'ls8'),\n",
    "#                                                    product='fc',\n",
    "#                                                    masked_prop=0.80)\n",
    "#             #if loaded fc dataset contains data then continue\n",
    "#             if ds.time.size != 0:\n",
    "#                 #load a WOfS layer for each timeslice of fc data\n",
    "#                 wofls = dc.load(product = 'wofs_albers', like=ds)\n",
    "\n",
    "#                 #create a mask to remove wet pixels\n",
    "#                 wetwofl = masking.make_mask(wofls, wet=True)\n",
    "#                 del wofls\n",
    "#                 unwofld = ds.where(ds.time == wetwofl.time)\n",
    "#                 unwofld = unwofld.where(wetwofl.water==False)\n",
    "\n",
    "#                 #create a mask to remove data outside of polygon\n",
    "#                 mask = geometry_mask([geometry], geobox, all_touched=True, invert=True)\n",
    "#                 mask_xr = xr.DataArray(mask, dims = ('y','x'))\n",
    "#                 ds_masked = unwofld.where(mask_xr== False) #mask\n",
    "#                 ds_masked.coords['catchment_ID'] = catchmentID #add catchment ID as xr coordinate\n",
    "#                 ds_masked['time'] = (ds_masked.time - pd.Timedelta(hours=10)).astype('datetime64[D]') #correct for ls solar day issues\n",
    "\n",
    "#                 #sum each fc component spatially for each time slice\n",
    "#                 bs = ds_masked.BS.sum(dim=('x', 'y')) #bare soil\n",
    "#                 pv = ds_masked.PV.sum(dim=('x', 'y')) #photosynthetic vegetation\n",
    "#                 npv = ds_masked.NPV.sum(dim=('x', 'y')) #non-photosynthetic vegetation\n",
    "\n",
    "#                 fc_sum = bs + pv + npv #sum all fc components for each time slice\n",
    "#                 daily_xr = xr.Dataset({'bs':bs,'pv':pv,'npv':npv,}) #combine fc into xr dataset\n",
    "\n",
    "#                 # caclulate area of each fc component\n",
    "#                 annual_area_xr = daily_xr  * (25*25/10_000) \n",
    "#                 annual_area_xr = annual_area_xr.rename({'bs':'bs_area','pv':'pv_area','npv':'npv_area',})\n",
    "#                 #calculate percentage of fc component for each timeslice within polygon\n",
    "#                 daily_xr = daily_xr / fc_sum * 100 #calculate percentage\n",
    "#                 daily_xr = xr.merge([daily_xr,annual_area_xr]) #join percentage and area xr datasets together\n",
    "#                 daily_xr.coords['catchment_ID'] = catchmentID #add catchment ID as coordinate\n",
    "#                 if catchmentID not in daily_dict: #search whether ID is in dictionary \n",
    "#                     daily_dict[catchmentID] = {} #if ID is not in dictionary, create another dictionary\n",
    "#                 daily_dict[catchmentID][str(start_year)] = daily_xr #save fc data into dictionary of dictionary\n",
    "\n",
    "#                 #sum each fc component spatially for each year\n",
    "#                 bs_total = ds_masked.BS.sum(dim=('x', 'y','time'))\n",
    "#                 pv_total = ds_masked.PV.sum(dim=('x', 'y','time'))\n",
    "#                 npv_total = ds_masked.NPV.sum(dim=('x', 'y','time'))\n",
    "#                 annual_xr = xr.Dataset({'bs':bs_total,'pv':pv_total,'npv':npv_total,}) #combine annual fc components into xr dataset\n",
    "#                 # caclulate area of each annual fc component\n",
    "#                 annual_area_xr = annual_xr * (25*25/10_000)\n",
    "#                 annual_area_xr = annual_area_xr.rename({'bs':'bs_area','pv':'pv_area','npv':'npv_area',})\n",
    "#                 #calculate percentage of fc component for each year within polygon\n",
    "#                 annual_xr = annual_xr /fc_sum.values.sum() * 100 \n",
    "#                 annual_xr = xr.merge([annual_xr,annual_area_xr]) #join percentage and area xr datasets together\n",
    "#                 annual_xr.coords['catchment_ID'] = catchmentID #add catchment ID as coordinate\n",
    "#                 annual_xr.coords['time'] = start #add time (year) as coordinate\n",
    "\n",
    "#                 if catchmentID not in annual_dict:  #search whether ID is in dictionary\n",
    "#                     annual_dict[catchmentID] = {} #if ID is not in dictionary, create another dictionary\n",
    "#                 annual_dict[catchmentID][str(start_year)] = annual_xr #save fc data into dictionary of dictionary\n",
    "\n",
    "#                 print('Catchment '+ str(catchmentID) +' complete')\n",
    "#                 print('')\n",
    "#             #if loaded fc dataset does not contain then break current loop\n",
    "#             else:\n",
    "#                 break\n",
    "\n",
    "#     #concatenate dictionaries together\n",
    "#     daily_ID_dict = {key: xr.concat(value.values(), dim='time') for key, value in daily_dict.items()} #concatenate dictionary of dates together\n",
    "#     daily_fc_clean = xr.concat(daily_ID_dict.values(),'catchment_ID') #concatenate dictionary of catchment IDs together\n",
    "#     annual_ID_dict = {key: xr.concat(value.values(), dim='time') for key, value in annual_dict.items()} #concatenate dictionary of dates together\n",
    "#     annual_fc_clean = xr.concat(annual_ID_dict.values(),'catchment_ID') #concatenate dictionary of catchment IDs together\n",
    "\n",
    "#     print('Complete')\n",
    "#     return daily_fc_clean, annual_fc_clean #output two xr datasets; daily fc and annual fc"
   ]
  }
 ],
 "metadata": {
  "kernelspec": {
   "display_name": "Python [default]",
   "language": "python",
   "name": "python3"
  },
  "language_info": {
   "codemirror_mode": {
    "name": "ipython",
    "version": 3
   },
   "file_extension": ".py",
   "mimetype": "text/x-python",
   "name": "python",
   "nbconvert_exporter": "python",
   "pygments_lexer": "ipython3",
   "version": "3.6.6"
  }
 },
 "nbformat": 4,
 "nbformat_minor": 2
}
