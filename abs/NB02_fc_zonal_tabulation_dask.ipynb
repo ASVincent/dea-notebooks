{
 "cells": [
  {
   "cell_type": "code",
   "execution_count": 16,
   "metadata": {
    "ExecuteTime": {
     "end_time": "2018-12-13T00:08:25.613102Z",
     "start_time": "2018-12-13T00:08:25.553675Z"
    }
   },
   "outputs": [],
   "source": [
    "import datacube\n",
    "from datacube.utils import geometry\n",
    "from datacube.storage import masking\n",
    "dc = datacube.Datacube()\n",
    "\n",
    "import numpy as np\n",
    "import fiona\n",
    "import rasterio.features\n",
    "import matplotlib.pyplot as plt\n",
    "import xarray as xr\n",
    "import pandas as pd\n",
    "from shapely.geometry import asShape\n",
    "\n",
    "import sys\n",
    "import os\n",
    "sys.path.append('../other_notebooks/dea-notebooks/10_Scripts')\n",
    "import DEADataHandling"
   ]
  },
  {
   "cell_type": "code",
   "execution_count": 2,
   "metadata": {
    "ExecuteTime": {
     "end_time": "2018-12-12T23:10:05.849389Z",
     "start_time": "2018-12-12T23:10:05.829412Z"
    }
   },
   "outputs": [],
   "source": [
    "def geometry_mask(geoms, geobox, all_touched=False, invert=False):\n",
    "    \"\"\"\n",
    "    Create a mask from shapes.\n",
    "\n",
    "    By default, mask is intended for use as a\n",
    "    numpy mask, where pixels that overlap shapes are False.\n",
    "    :param list[Geometry] geoms: geometries to be rasterized\n",
    "    :param datacube.utils.GeoBox geobox:\n",
    "    :param bool all_touched: If True, all pixels touched by geometries will be burned in. If\n",
    "                             false, only pixels whose center is within the polygon or that\n",
    "                             are selected by Bresenham's line algorithm will be burned in.\n",
    "    :param bool invert: If True, mask will be True for pixels that overlap shapes.\n",
    "    \"\"\"\n",
    "    data = rasterio.features.geometry_mask([geom.to_crs(geobox.crs) for geom in geoms],\n",
    "                                           out_shape=geobox.shape,\n",
    "                                           transform=geobox.affine,\n",
    "                                           all_touched=all_touched,\n",
    "                                           invert=invert)\n",
    "    coords = [xr.DataArray(data=coord.values, name=dim, dims=[dim], attrs={'units': coord.units}) \n",
    "              for dim, coord in geobox.coords.items()]\n",
    "    return xr.DataArray(data, coords=coords)"
   ]
  },
  {
   "cell_type": "code",
   "execution_count": 3,
   "metadata": {
    "ExecuteTime": {
     "end_time": "2018-12-12T23:10:05.861968Z",
     "start_time": "2018-12-12T23:10:05.854335Z"
    }
   },
   "outputs": [],
   "source": [
    "def get_shapes(shape_file):\n",
    "    with fiona.open(shape_file) as shapes:\n",
    "        crs = datacube.utils.geometry.CRS(shapes.crs_wkt)\n",
    "        for shape in shapes:\n",
    "            geom = datacube.utils.geometry.Geometry(shape['geometry'], crs=crs)\n",
    "            yield geom, shape['properties']"
   ]
  },
  {
   "cell_type": "code",
   "execution_count": 5,
   "metadata": {
    "ExecuteTime": {
     "end_time": "2018-12-12T23:20:36.550971Z",
     "start_time": "2018-12-12T23:20:36.491601Z"
    }
   },
   "outputs": [],
   "source": [
    "def fc_polygon_tabulation(shape_file, year_start, year_end):\n",
    "   #create empty dictionaries and lists \n",
    "    annual_dict = {}\n",
    "    daily_dict = {}\n",
    "    catchment_list = []\n",
    "    #create a list of years between the start year and end year specified in the function\n",
    "    year_list = list(range(year_start,year_end))\n",
    "    #loop through each calendar year within the year list\n",
    "    for start_year in year_list:\n",
    "        end_year = start_year + 1\n",
    "        print ('Processing '+str(start_year)+' to '+ str(end_year))\n",
    "        #retrieve all polygons from shapefile\n",
    "        shapes = get_shapes(shape_file)\n",
    "        #loop through each polygon within shapefile\n",
    "        for geometry, properties in shapes:\n",
    "            #save catchment id from polygon properties as variable \n",
    "            catchmentID = 'ID_'+ str(properties['ID'])\n",
    "            print('Processing catchment '+str(catchmentID))\n",
    "            #save spatial information from polygon\n",
    "            geobox = datacube.utils.geometry.GeoBox.from_geopolygon(geometry,\n",
    "                                                                    [25.0, 25.0], \n",
    "                                                                    crs=geometry.crs, \n",
    "                                                                    align=None)\n",
    "            #create timestamp for each calendar year\n",
    "            start = str(start_year)+'-01-01'\n",
    "            end  = str(start_year)+'-12-31'\n",
    "            #create dc query with polygon shapefile\n",
    "            query = {'geopolygon': geometry,'time':(start, end)}\n",
    "            #load fc data from datacube for specified year and polygon\n",
    "            ds = DEADataHandling.load_clearlandsat(dc, \n",
    "                                                   query, \n",
    "                                                   sensors=('ls5', 'ls7', 'ls8'),\n",
    "                                                   product='fc',\n",
    "                                                   masked_prop=0.80)\n",
    "            #if loaded fc dataset contains data then continue\n",
    "            if ds.time.size != 0:\n",
    "                #load a WOfS layer for each timeslice of fc data\n",
    "                wofls = dc.load(product = 'wofs_albers', like=ds)\n",
    "             \n",
    "                #create a mask to remove wet pixels\n",
    "                wetwofl = masking.make_mask(wofls, wet=True)\n",
    "                unwofld = ds.where(ds.time == wetwofl.time)\n",
    "                unwofld = unwofld.where(wetwofl.water==False)\n",
    "                \n",
    "                #create a mask to remove data outside of polygon\n",
    "                mask = geometry_mask([geometry], geobox, all_touched=True, invert=True)\n",
    "                mask_num = mask *1 #bool to num\n",
    "                mask_interp =  mask_num.interp_like(ds, method='nearest')#ensure mask and fc data is aligned\n",
    "                ds_masked = unwofld.where(mask_interp == 1) #mask\n",
    "                ds_masked.coords['catchment_ID'] = catchmentID #add catchment ID as xr coordinate\n",
    "                ds_masked['time'] = (ds_masked.time - pd.Timedelta(hours=10)).astype('datetime64[D]') #correct for ls solar day issues\n",
    "                \n",
    "                #sum each fc component spatially for each time slice\n",
    "                bs = ds_masked.BS.sum(dim=('x', 'y')) #bare soil\n",
    "                pv = ds_masked.PV.sum(dim=('x', 'y')) #photosynthetic vegetation\n",
    "                npv = ds_masked.NPV.sum(dim=('x', 'y')) #non-photosynthetic vegetation\n",
    "                ue = ds_masked.UE.sum(dim=('x', 'y')) #unmixing error\n",
    "\n",
    "                fc_sum = bs + pv + npv + ue #sum all fc components for each time slice\n",
    "\n",
    "                daily_xr = xr.Dataset({'bs':bs,'pv':pv,'npv':npv,'ue': ue,}) #combine fc into xr dataset\n",
    "                # caclulate area of each fc component\n",
    "                annual_area_xr = daily_xr  * (25*25/10_000) \n",
    "                annual_area_xr = annual_area_xr.rename({'bs':'bs_area','pv':'pv_area','npv':'npv_area','ue': 'ue_area',})\n",
    "                #calculate percentage of fc component for each timeslice within polygon\n",
    "                daily_xr = daily_xr / fc_sum * 100 #calculate percentage\n",
    "                daily_xr = xr.merge([daily_xr,annual_area_xr]) #join percentage and area xr datasets together\n",
    "                daily_xr.coords['catchment_ID'] = catchmentID #add catchment ID as coordinate\n",
    "                if catchmentID not in daily_dict: #search whether ID is in dictionary \n",
    "                    daily_dict[catchmentID] = {} #if ID is not in dictionary, create another dictionary\n",
    "                daily_dict[catchmentID][str(start_year)] = daily_xr #save fc data into dictionary of dictionary\n",
    "\n",
    "                #sum each fc component spatially for each year\n",
    "                bs_total = ds_masked.BS.sum(dim=('x', 'y','time'))\n",
    "                pv_total = ds_masked.PV.sum(dim=('x', 'y','time'))\n",
    "                npv_total = ds_masked.NPV.sum(dim=('x', 'y','time'))\n",
    "                ue_total = ds_masked.UE.sum(dim=('x', 'y','time'))\n",
    "                annual_xr = xr.Dataset({'bs':bs_total,'pv':pv_total,'npv':npv_total,'ue': ue_total,}) #combine annual fc components into xr dataset\n",
    "                # caclulate area of each annual fc component\n",
    "                annual_area_xr = annual_xr * (25*25/10_000)\n",
    "                annual_area_xr = annual_area_xr.rename({'bs':'bs_area','pv':'pv_area','npv':'npv_area','ue': 'ue_area',})\n",
    "                #calculate percentage of fc component for each year within polygon\n",
    "                annual_xr = annual_xr /fc_sum.values.sum() * 100 \n",
    "                annual_xr = xr.merge([annual_xr,annual_area_xr]) #join percentage and area xr datasets together\n",
    "                annual_xr.coords['catchment_ID'] = catchmentID #add catchment ID as coordinate\n",
    "                annual_xr.coords['time'] = start #add time (year) as coordinate\n",
    "\n",
    "                if catchmentID not in annual_dict:  #search whether ID is in dictionary\n",
    "                    annual_dict[catchmentID] = {} #if ID is not in dictionary, create another dictionary\n",
    "                annual_dict[catchmentID][str(start_year)] = annual_xr #save fc data into dictionary of dictionary\n",
    "\n",
    "                print('Catchment '+ str(catchmentID) +' complete')\n",
    "                print('')\n",
    "            #if loaded fc dataset does not contain then break current loop\n",
    "            else:\n",
    "                break\n",
    "    #concatenate dictionaries together\n",
    "    daily_ID_dict = {key: xr.concat(value.values(), dim='time') for key, value in daily_dict.items()} #concatenate dictionary of dates together\n",
    "    daily_fc_clean = xr.concat(daily_ID_dict.values(),'catchment_ID') #concatenate dictionary of catchment IDs together\n",
    "    annual_ID_dict = {key: xr.concat(value.values(), dim='time') for key, value in annual_dict.items()} #concatenate dictionary of dates together\n",
    "    annual_fc_clean = xr.concat(annual_ID_dict.values(),'catchment_ID') #concatenate dictionary of catchment IDs together\n",
    "\n",
    "    print('Complete')\n",
    "    return daily_fc_clean, annual_fc_clean #output two xr datasets; daily fc and annual fc"
   ]
  },
  {
   "cell_type": "markdown",
   "metadata": {},
   "source": [
    "## Use shapefile to return relevant data"
   ]
  },
  {
   "cell_type": "code",
   "execution_count": 6,
   "metadata": {
    "ExecuteTime": {
     "end_time": "2018-12-12T23:20:38.354807Z",
     "start_time": "2018-12-12T23:20:38.224996Z"
    }
   },
   "outputs": [],
   "source": [
    "# Set this to the location of water body shapefile\n",
    "shape_file = os.path.expanduser('ACT_Boundary_3577.shp')\n",
    "\n",
    "\n",
    "#open shapefile and save spatial variables\n",
    "with fiona.open(shape_file) as shapes:\n",
    "        crs = geometry.CRS(shapes.crs_wkt)\n",
    "        first_geometry = next(iter(shapes))['geometry']\n",
    "        geom = geometry.Geometry(first_geometry, crs=crs)"
   ]
  },
  {
   "cell_type": "code",
   "execution_count": 7,
   "metadata": {
    "ExecuteTime": {
     "end_time": "2018-12-12T23:20:39.195182Z",
     "start_time": "2018-12-12T23:20:39.189288Z"
    }
   },
   "outputs": [],
   "source": [
    "import warnings\n",
    "warnings.simplefilter(\"ignore\")"
   ]
  },
  {
   "cell_type": "code",
   "execution_count": 8,
   "metadata": {
    "ExecuteTime": {
     "end_time": "2018-12-12T23:26:13.038243Z",
     "start_time": "2018-12-12T23:20:39.919113Z"
    },
    "scrolled": false
   },
   "outputs": [
    {
     "name": "stdout",
     "output_type": "stream",
     "text": [
      "Processing 2000 to 2001\n",
      "Procesing catchment ID_1\n",
      "    Skipping ls5\n",
      "Ignoring SLC-off observations for ls7\n",
      "Loading ls7 PQ\n",
      "    Loading 12 filtered ls7 timesteps\n",
      "    Skipping ls8\n",
      "Combining and sorting ls5, ls7 and ls8 data\n",
      "Catchment ID_1 complete\n",
      "\n",
      "Procesing catchment ID_2\n",
      "    Skipping ls5\n",
      "Ignoring SLC-off observations for ls7\n",
      "Loading ls7 PQ\n",
      "    Loading 13 filtered ls7 timesteps\n",
      "    Skipping ls8\n",
      "Combining and sorting ls5, ls7 and ls8 data\n",
      "Catchment ID_2 complete\n",
      "\n",
      "Processing 2001 to 2002\n",
      "Procesing catchment ID_1\n",
      "    Skipping ls5\n",
      "Ignoring SLC-off observations for ls7\n",
      "Loading ls7 PQ\n",
      "    Loading 4 filtered ls7 timesteps\n",
      "    Skipping ls8\n",
      "Combining and sorting ls5, ls7 and ls8 data\n",
      "Catchment ID_1 complete\n",
      "\n",
      "Procesing catchment ID_2\n",
      "    Skipping ls5\n",
      "Ignoring SLC-off observations for ls7\n",
      "Loading ls7 PQ\n",
      "    Loading 6 filtered ls7 timesteps\n",
      "    Skipping ls8\n",
      "Combining and sorting ls5, ls7 and ls8 data\n",
      "Catchment ID_2 complete\n",
      "\n",
      "Complete\n"
     ]
    }
   ],
   "source": [
    "daily_fc_clean, annual_fc_clean = fc_polygon_tabulation(shape_file, 2000, 2002)"
   ]
  },
  {
   "cell_type": "code",
   "execution_count": 10,
   "metadata": {
    "ExecuteTime": {
     "end_time": "2018-12-13T00:06:30.052285Z",
     "start_time": "2018-12-13T00:06:29.762817Z"
    }
   },
   "outputs": [],
   "source": [
    "daily_fc_df = daily_fc_clean.dropna(dim='time').to_dataframe().to_csv('daily_fc_df.csv')\n",
    "annual_fc_df = annual_fc_clean.dropna(dim='time').to_dataframe().to_csv('annual_fc_df.csv')"
   ]
  },
  {
   "cell_type": "code",
   "execution_count": 13,
   "metadata": {
    "ExecuteTime": {
     "end_time": "2018-12-13T00:06:40.178318Z",
     "start_time": "2018-12-13T00:06:40.157661Z"
    }
   },
   "outputs": [
    {
     "data": {
      "text/plain": [
       "<xarray.Dataset>\n",
       "Dimensions:       (catchment_ID: 2, time: 2)\n",
       "Coordinates:\n",
       "  * time          (time) <U10 '2000-01-01' '2001-01-01'\n",
       "  * catchment_ID  (catchment_ID) <U4 'ID_1' 'ID_2'\n",
       "Data variables:\n",
       "    bs            (catchment_ID, time) float64 6.808 7.832 5.826 8.021\n",
       "    pv            (catchment_ID, time) float64 45.82 41.48 45.05 37.88\n",
       "    npv           (catchment_ID, time) float64 29.69 30.84 33.1 36.52\n",
       "    ue            (catchment_ID, time) float64 17.68 19.85 16.02 17.58\n",
       "    bs_area       (catchment_ID, time) float64 2.293e+07 9.037e+06 ... 1.362e+06\n",
       "    pv_area       (catchment_ID, time) float64 1.544e+08 4.786e+07 ... 6.434e+06\n",
       "    npv_area      (catchment_ID, time) float64 1e+08 3.558e+07 ... 6.203e+06\n",
       "    ue_area       (catchment_ID, time) float64 5.955e+07 2.29e+07 ... 2.985e+06"
      ]
     },
     "execution_count": 13,
     "metadata": {},
     "output_type": "execute_result"
    }
   ],
   "source": [
    "annual_fc_clean"
   ]
  },
  {
   "cell_type": "code",
   "execution_count": null,
   "metadata": {
    "ExecuteTime": {
     "end_time": "2018-12-12T06:07:37.258572Z",
     "start_time": "2018-12-12T06:07:37.218988Z"
    }
   },
   "outputs": [],
   "source": [
    "daily_fc_clean"
   ]
  },
  {
   "cell_type": "code",
   "execution_count": 14,
   "metadata": {
    "ExecuteTime": {
     "end_time": "2018-12-13T00:06:47.117304Z",
     "start_time": "2018-12-13T00:06:46.724480Z"
    }
   },
   "outputs": [
    {
     "data": {
      "image/png": "[encoded data removed]",
      "text/plain": [
       "<Figure size 720x360 with 1 Axes>"
      ]
     },
     "metadata": {
      "needs_background": "light"
     },
     "output_type": "display_data"
    }
   ],
   "source": [
    "catch_ID = 'ID_1'\n",
    "\n",
    "fig,ax = plt.subplots(figsize=(10,5))\n",
    "ax.stackplot(np.asanyarray(annual_fc_clean.sel(catchment_ID = catch_ID).time), \n",
    "             np.asanyarray(annual_fc_clean.sel(catchment_ID = catch_ID).bs), \n",
    "             np.asanyarray(annual_fc_clean.sel(catchment_ID = catch_ID).npv), \n",
    "             np.asanyarray(annual_fc_clean.sel(catchment_ID = catch_ID).pv),\n",
    "             np.asanyarray(annual_fc_clean.sel(catchment_ID = catch_ID).ue), \n",
    "             colors = ['brown','orange','darkgreen','silver'], \n",
    "             labels=['BS','NPV','PV','UE'])\n",
    "plt.legend(loc='upper center', ncol = 4)\n",
    "plt.ylabel('Percentage (%)', size=12) #Set Y label\n",
    "plt.xlabel('Date', size=12) #Set X label\n",
    "plt.xticks(rotation=45)\n",
    "plt.savefig('annual_fc_cbr_'+str(catch_ID)+'.png')"
   ]
  },
  {
   "cell_type": "code",
   "execution_count": 15,
   "metadata": {
    "ExecuteTime": {
     "end_time": "2018-12-13T00:06:52.094263Z",
     "start_time": "2018-12-13T00:06:51.586260Z"
    }
   },
   "outputs": [
    {
     "data": {
      "image/png": "[encoded data removed]",
      "text/plain": [
       "<Figure size 720x360 with 1 Axes>"
      ]
     },
     "metadata": {
      "needs_background": "light"
     },
     "output_type": "display_data"
    }
   ],
   "source": [
    "catch_ID = 'ID_1'\n",
    "\n",
    "fig,ax = plt.subplots(figsize=(10,5))\n",
    "ax.stackplot(np.asanyarray(daily_fc_clean.dropna(dim='time').sel(catchment_ID = catch_ID).time), \n",
    "             np.asanyarray(daily_fc_clean.dropna(dim='time').sel(catchment_ID = catch_ID).bs), \n",
    "             np.asanyarray(daily_fc_clean.dropna(dim='time').sel(catchment_ID = catch_ID).npv), \n",
    "             np.asanyarray(daily_fc_clean.dropna(dim='time').sel(catchment_ID = catch_ID).pv),\n",
    "             np.asanyarray(daily_fc_clean.dropna(dim='time').sel(catchment_ID = catch_ID).ue), \n",
    "             colors = ['brown','orange','darkgreen','silver'], \n",
    "             labels=['BS','NPV','PV','UE'])\n",
    "plt.legend(loc='upper center', ncol = 4)\n",
    "plt.ylabel('Percentage (%)', size=12) #Set Y label\n",
    "plt.xlabel('Date', size=12) #Set X label\n",
    "plt.savefig('fc_cbr_'+str(catch_ID)+'.png')"
   ]
  },
  {
   "cell_type": "code",
   "execution_count": null,
   "metadata": {},
   "outputs": [],
   "source": []
  },
  {
   "cell_type": "code",
   "execution_count": null,
   "metadata": {},
   "outputs": [],
   "source": []
  },
  {
   "cell_type": "code",
   "execution_count": null,
   "metadata": {},
   "outputs": [],
   "source": []
  },
  {
   "cell_type": "code",
   "execution_count": null,
   "metadata": {},
   "outputs": [],
   "source": []
  },
  {
   "cell_type": "code",
   "execution_count": null,
   "metadata": {},
   "outputs": [],
   "source": []
  },
  {
   "cell_type": "code",
   "execution_count": null,
   "metadata": {
    "ExecuteTime": {
     "end_time": "2018-12-05T06:01:48.669935Z",
     "start_time": "2018-12-05T05:56:06.125720Z"
    }
   },
   "outputs": [],
   "source": [
    "# year_start = 2008\n",
    "# year_end = 2010\n",
    "\n",
    "\n",
    "# loaded_xr = {}\n",
    "# total_dict = {}\n",
    "# fc_dict = {}\n",
    "# catchment_list = []\n",
    "\n",
    "# year_end = year_end + 1\n",
    "# year_list = list(range(year_start,year_end))\n",
    "\n",
    "# for start_year in year_list:\n",
    "#     end_year = start_year + 1\n",
    "#     print ('Processing '+str(start_year)+' to '+ str(end_year))\n",
    "#     shapes = get_shapes(shape_file)\n",
    "#     for geometry, properties in shapes:\n",
    "#         catchmentID = 'ID_'+ str(properties['ID'])\n",
    "#         print('Procesing catchment '+str(catchmentID))\n",
    "#         asShape(geometry)\n",
    "#         geobox = datacube.utils.geometry.GeoBox.from_geopolygon(geometry,\n",
    "#                                                                 [25.0, 25.0], \n",
    "#                                                                 crs=geometry.crs, \n",
    "#                                                                 align=None)\n",
    "#         start = str(start_year)+'-01-01'\n",
    "#         end  = str(start_year)+'-12-31'\n",
    "#         query = {'geopolygon': geometry,'time':(start, end)}\n",
    "#         ds = DEADataHandling.load_clearlandsat(dc, \n",
    "#                                                query, \n",
    "#                                                sensors=('ls5', 'ls7', 'ls8'),\n",
    "#                                                product='fc',\n",
    "#                                                masked_prop=0.80)\n",
    "#         if ds.time.size != 0:\n",
    "#             wofls = dc.load(product = 'wofs_albers', like=ds)\n",
    "#             wetwofl = masking.make_mask(wofls, wet=True)\n",
    "#             unwofld = ds.where(ds.time == wetwofl.time)\n",
    "#             unwofld = unwofld.where(wetwofl.water==False)\n",
    "#             mask = geometry_mask([geometry], geobox, all_touched=True, invert=True)\n",
    "#             mask_num = mask *1 #bool to num\n",
    "#             mask_interp =  mask_num.interp_like(ds, method='nearest')\n",
    "#             ds_masked = unwofld.where(mask_interp == 1) \n",
    "#             ds_masked.coords['catchment_ID'] = catchmentID\n",
    "#             ds_masked['time'] = (ds_masked.time - pd.Timedelta(hours=10)).astype('datetime64[D]')\n",
    "\n",
    "#             bs = ds_masked.BS.sum(dim=('x', 'y'))\n",
    "#             pv = ds_masked.PV.sum(dim=('x', 'y'))\n",
    "#             npv = ds_masked.NPV.sum(dim=('x', 'y'))\n",
    "#             ue = ds_masked.UE.sum(dim=('x', 'y'))\n",
    "\n",
    "#             fc_sum = bs + pv + npv + ue\n",
    "\n",
    "#             percentage_xr = xr.Dataset({'bs':bs,'pv':pv,'npv':npv,'ue': ue,})\n",
    "#             percentage_xr = percentage_xr / fc_sum * 100\n",
    "#             percentage_xr.coords['catchment_ID'] = catchmentID\n",
    "#             if catchmentID not in fc_dict:\n",
    "#                 fc_dict[catchmentID] = {}\n",
    "#             fc_dict[catchmentID][str(start_year)] = percentage_xr\n",
    "\n",
    "\n",
    "#             bs_total = ds_masked.BS.sum(dim=('x', 'y','time'))/fc_sum.values.sum() * 100\n",
    "#             pv_total = ds_masked.PV.sum(dim=('x', 'y','time'))/fc_sum.values.sum() * 100\n",
    "#             npv_total = ds_masked.NPV.sum(dim=('x', 'y','time'))/fc_sum.values.sum() * 100\n",
    "#             ue_total = ds_masked.UE.sum(dim=('x', 'y','time'))/fc_sum.values.sum() * 100\n",
    "#             total_xr = xr.Dataset({'bs':bs_total,'pv':pv_total,'npv':npv_total,'ue': ue_total,})\n",
    "#             total_xr.coords['catchment_ID'] = catchmentID\n",
    "#             total_xr.coords['time'] = start\n",
    "\n",
    "#             if catchmentID not in total_dict:\n",
    "#                 total_dict[catchmentID] = {}\n",
    "#             total_dict[catchmentID][str(start_year)] = total_xr\n",
    "\n",
    "#             print('Catchment '+ str(catchmentID) +' complete')\n",
    "#             print('')\n",
    "#         else:\n",
    "#             break\n",
    "\n",
    "# perc_ID_dict = {key: xr.concat(value.values(), dim='time') for key, value in fc_dict.items()}\n",
    "# daily_fc_clean = xr.concat(perc_ID_dict.values(),'catchment_ID')\n",
    "\n",
    "# total_ID_dict = {key: xr.concat(value.values(), dim='time') for key, value in total_dict.items()}\n",
    "# annual_fc_clean = xr.concat(total_ID_dict.values(),'catchment_ID')\n",
    "\n",
    "# print('Complete')\n",
    "# return daily_fc_clean, annual_fc_clean"
   ]
  },
  {
   "cell_type": "code",
   "execution_count": null,
   "metadata": {
    "ExecuteTime": {
     "end_time": "2018-12-04T22:28:43.268756Z",
     "start_time": "2018-12-04T22:28:43.234148Z"
    }
   },
   "outputs": [],
   "source": [
    "# def annual_mean_fc_polygon_percentages(shape_file, year_start, year_end):\n",
    "#     loaded_xr = {}\n",
    "#     fc_dict = {}\n",
    "#     catchment_list = []\n",
    "#     year_end = year_end + 1\n",
    "#     year_list = list(range(year_start,year_end))\n",
    "#     print(year_list)\n",
    "#     for start_year in year_list:\n",
    "#         end_year = start_year + 1\n",
    "#         print ('Processing '+str(start_year)+' to '+ str(end_year))\n",
    "#         shapes = get_shapes(shape_file)\n",
    "#         for geometry, properties in shapes:\n",
    "#             catchmentID = 'ID_'+ str(properties['ID'])\n",
    "#             print('Procesing catchment '+str(catchmentID))\n",
    "#             asShape(geometry)\n",
    "#             geobox = datacube.utils.geometry.GeoBox.from_geopolygon(geometry,\n",
    "#                                                                     [25.0, 25.0], \n",
    "#                                                                     crs=geometry.crs, \n",
    "#                                                                     align=None)\n",
    "#             start = str(start_year)+'-01-01'\n",
    "#             end  = str(end_year)+'-01-01'\n",
    "#             query = {'geopolygon': geometry,'time':(start, end)}\n",
    "#             ds = DEADataHandling.load_clearlandsat(dc, \n",
    "#                                                    query, \n",
    "#                                                    sensors=('ls5', 'ls7', 'ls8'),\n",
    "#                                                    product='fc',\n",
    "#                                                    masked_prop=0.80)\n",
    "#             if ds.time.size != 0:\n",
    "#                 wofls = dc.load(product = 'wofs_albers', like=ds)\n",
    "#                 wetwofl = masking.make_mask(wofls, wet=True)\n",
    "#                 unwofld = ds.where(ds.time == wetwofl.time)\n",
    "#                 unwofld = unwofld.where(wetwofl.water==False)\n",
    "#                 mask = geometry_mask([geometry], geobox, all_touched=True, invert=True)\n",
    "#                 mask_num = mask *1 #bool to num\n",
    "#                 mask_interp =  mask_num.interp_like(ds, method='nearest')\n",
    "#                 ds_masked = unwofld.where(mask_interp == 1) \n",
    "#                 ds_masked.coords['catchment_ID'] = catchmentID\n",
    "#                 ds_masked['time'] = (ds_masked.time - pd.Timedelta(hours=10)).astype('datetime64[D]')\n",
    "\n",
    "# #                 annual_bs = ds_masked.sum(dim='time')\n",
    "# #                 print(annual_bs)\n",
    "#                 bs = ds_masked.BS.sum(dim=('x', 'y'))\n",
    "#                 pv = ds_masked.PV.sum(dim=('x', 'y'))\n",
    "#                 npv = ds_masked.NPV.sum(dim=('x', 'y'))\n",
    "#                 ue = ds_masked.UE.sum(dim=('x', 'y'))\n",
    "\n",
    "#                 fc_sum = bs + pv + npv + ue\n",
    "\n",
    "#                 percentage_xr = xr.Dataset({'bs':bs,'pv':pv,'npv':npv,'ue': ue,})\n",
    "#                 percentage_xr = percentage_xr / fc_sum * 100\n",
    "#                 percentage_xr.coords['catchment_ID'] = catchmentID\n",
    "                \n",
    "#                 catchment_year = str(catchmentID) +'_'+ str(year_start)\n",
    "#                 fc_dict[catchment_year] = percentage_xr\n",
    "#                 print(fc_dict)\n",
    "#                 print('Catchment '+ str(catchmentID) +' complete')\n",
    "#                 print('')\n",
    "#             else:\n",
    "#                 break\n",
    "#             fc_dict_02 = xr.concat(fc_dict.values(),'catchment_year')\n",
    "#             print(fc_dict_02)\n",
    "#     perc_clean = xr.concat(fc_dict_02.values(),'catchment_ID')\n",
    "#     return perc_clean"
   ]
  },
  {
   "cell_type": "code",
   "execution_count": null,
   "metadata": {
    "ExecuteTime": {
     "end_time": "2018-12-05T04:26:59.119952Z",
     "start_time": "2018-12-05T04:26:59.113181Z"
    }
   },
   "outputs": [],
   "source": [
    "# ID_dict = {key: xr.concat(value.values(), dim='time') for key, value in fc_dict.items()}"
   ]
  },
  {
   "cell_type": "code",
   "execution_count": null,
   "metadata": {
    "ExecuteTime": {
     "end_time": "2018-12-05T04:26:59.133373Z",
     "start_time": "2018-12-05T04:26:59.122386Z"
    }
   },
   "outputs": [],
   "source": [
    "# fc_clean = xr.concat(ID_dict.values(),'catchment_ID')\n",
    "# fc_clean"
   ]
  },
  {
   "cell_type": "code",
   "execution_count": null,
   "metadata": {
    "ExecuteTime": {
     "end_time": "2018-12-05T04:26:59.153427Z",
     "start_time": "2018-12-05T04:26:59.135406Z"
    }
   },
   "outputs": [],
   "source": [
    "# ([value for key, value in [[value for key, value in fc_dict.items()]]])"
   ]
  },
  {
   "cell_type": "code",
   "execution_count": null,
   "metadata": {
    "ExecuteTime": {
     "end_time": "2018-12-05T04:26:59.160663Z",
     "start_time": "2018-12-05T04:26:59.155658Z"
    }
   },
   "outputs": [],
   "source": [
    "# [value for key, value in fc_dict.items()]"
   ]
  },
  {
   "cell_type": "code",
   "execution_count": null,
   "metadata": {
    "ExecuteTime": {
     "end_time": "2018-12-05T04:26:59.167035Z",
     "start_time": "2018-12-05T04:26:59.163834Z"
    }
   },
   "outputs": [],
   "source": [
    "# xr.concat([value for key, value in [[value for key, value in fc_dict.items()]]])"
   ]
  },
  {
   "cell_type": "code",
   "execution_count": null,
   "metadata": {
    "ExecuteTime": {
     "end_time": "2018-12-05T04:26:59.172693Z",
     "start_time": "2018-12-05T04:26:59.169821Z"
    }
   },
   "outputs": [],
   "source": [
    "# for key, value in fc_dict.items():\n",
    "#     print (value)"
   ]
  },
  {
   "cell_type": "code",
   "execution_count": null,
   "metadata": {
    "ExecuteTime": {
     "end_time": "2018-12-05T04:26:59.178131Z",
     "start_time": "2018-12-05T04:26:59.175209Z"
    }
   },
   "outputs": [],
   "source": [
    "# ID_1 = xr.concat([value for key, value in fc_dict.items() if key.startswith('ID_1')], 'time')\n",
    "# ID_2 = xr.concat([value for key, value in fc_dict.items() if key.startswith('ID_2')], 'time')"
   ]
  },
  {
   "cell_type": "code",
   "execution_count": null,
   "metadata": {
    "ExecuteTime": {
     "end_time": "2018-12-05T04:26:59.183439Z",
     "start_time": "2018-12-05T04:26:59.180361Z"
    }
   },
   "outputs": [],
   "source": [
    "# xr.concat([ID_1, ID_2], dim='catchment_ID')"
   ]
  },
  {
   "cell_type": "code",
   "execution_count": null,
   "metadata": {
    "ExecuteTime": {
     "end_time": "2018-12-05T04:26:59.188704Z",
     "start_time": "2018-12-05T04:26:59.185678Z"
    }
   },
   "outputs": [],
   "source": [
    "# xr.concat(fc_dict.values(),'catchment_ID').time\n"
   ]
  },
  {
   "cell_type": "code",
   "execution_count": null,
   "metadata": {
    "ExecuteTime": {
     "end_time": "2018-12-04T01:26:44.879103Z",
     "start_time": "2018-12-04T01:26:44.838561Z"
    }
   },
   "outputs": [],
   "source": [
    "# def fc_polygon_percentages(shape_file, year_start, year_end):\n",
    "#     loaded_xr = {}\n",
    "#     fc_dict = {}\n",
    "#     catchment_list = []\n",
    "#     shapes = get_shapes(shape_file)\n",
    "#     for geometry, properties in shapes:\n",
    "#         catchmentID = 'ID_'+ str(properties['ID'])\n",
    "#         print('Procesing catchment '+str(catchmentID))\n",
    "#         asShape(geometry)\n",
    "#         geobox = datacube.utils.geometry.GeoBox.from_geopolygon(geometry,\n",
    "#                                                                 [25.0, 25.0], \n",
    "#                                                                 crs=geometry.crs, \n",
    "#                                                                 align=None)\n",
    "#         start = str(year_start)+'-01-01'\n",
    "#         end  = str(year_end)+'-01-01'\n",
    "#         query = {'geopolygon': geometry,'time':(start, end)}\n",
    "#         ds = DEADataHandling.load_clearlandsat(dc, \n",
    "#                                                query, \n",
    "#                                                sensors=('ls5', 'ls7', 'ls8'),\n",
    "#                                                product='fc',\n",
    "#                                                masked_prop=0.80)\n",
    "#         if ds.time.size != 0:\n",
    "#             print('Loading wofls')\n",
    "#             wofls = dc.load(product = 'wofs_albers', like=ds)\n",
    "#             wetwofl = masking.make_mask(wofls, wet=True)\n",
    "#             unwofld = ds.where(ds.time == wetwofl.time)\n",
    "#             unwofld = unwofld.where(wetwofl.water==False)\n",
    "\n",
    "#             print('Using wofls to mask out water')\n",
    "#             mask = geometry_mask([geometry], geobox, all_touched=True, invert=True)\n",
    "#             mask_num = mask *1 #bool to num\n",
    "#             mask_interp =  mask_num.interp_like(ds, method='nearest')\n",
    "#             ds_masked = unwofld.where(mask_interp == 1) \n",
    "#             ds_masked.coords['catchment_ID'] = catchmentID\n",
    "#             ds_masked['time'] = (ds_masked.time - pd.Timedelta(hours=10)).astype('datetime64[D]')\n",
    "\n",
    "#             print('Calculating percentages')\n",
    "#             bs = ds_masked.BS.sum(dim=('x', 'y'))\n",
    "#             pv = ds_masked.PV.sum(dim=('x', 'y'))\n",
    "#             npv = ds_masked.NPV.sum(dim=('x', 'y'))\n",
    "#             ue = ds_masked.UE.sum(dim=('x', 'y'))\n",
    "\n",
    "#             fc_sum = bs + pv + npv + ue\n",
    "\n",
    "#             percentage_xr = xr.Dataset({'bs':bs,'pv':pv,'npv':npv,'ue': ue,})\n",
    "#             percentage_xr = percentage_xr / fc_sum * 100\n",
    "#             percentage_xr.coords['catchment_ID'] = catchmentID\n",
    "\n",
    "#             fc_dict[catchmentID] = percentage_xr\n",
    "#             print('Catchment '+ str(catchmentID) +' complete')\n",
    "#             print('')\n",
    "#         else:\n",
    "#             break\n",
    "\n",
    "#     perc_clean = xr.concat(fc_dict.values(),'catchment_ID')\n",
    "#     return perc_clean"
   ]
  },
  {
   "cell_type": "code",
   "execution_count": null,
   "metadata": {
    "ExecuteTime": {
     "end_time": "2018-12-05T04:28:09.491181Z",
     "start_time": "2018-12-05T04:28:09.459928Z"
    }
   },
   "outputs": [],
   "source": [
    "annual_fc_clean"
   ]
  },
  {
   "cell_type": "code",
   "execution_count": null,
   "metadata": {
    "ExecuteTime": {
     "end_time": "2018-12-04T01:29:49.251468Z",
     "start_time": "2018-12-04T01:26:55.217398Z"
    }
   },
   "outputs": [],
   "source": [
    "perc_clean = fc_polygon_percentages(shape_file,2000,2001)"
   ]
  },
  {
   "cell_type": "code",
   "execution_count": null,
   "metadata": {
    "ExecuteTime": {
     "end_time": "2018-12-04T03:29:15.814389Z",
     "start_time": "2018-12-04T03:29:15.794404Z"
    }
   },
   "outputs": [],
   "source": [
    "perc_clean"
   ]
  },
  {
   "cell_type": "code",
   "execution_count": null,
   "metadata": {},
   "outputs": [],
   "source": []
  },
  {
   "cell_type": "code",
   "execution_count": null,
   "metadata": {},
   "outputs": [],
   "source": []
  },
  {
   "cell_type": "code",
   "execution_count": null,
   "metadata": {},
   "outputs": [],
   "source": []
  },
  {
   "cell_type": "code",
   "execution_count": null,
   "metadata": {},
   "outputs": [],
   "source": []
  },
  {
   "cell_type": "code",
   "execution_count": null,
   "metadata": {},
   "outputs": [],
   "source": []
  },
  {
   "cell_type": "code",
   "execution_count": null,
   "metadata": {
    "ExecuteTime": {
     "end_time": "2018-12-04T00:55:45.945247Z",
     "start_time": "2018-12-04T00:53:12.934987Z"
    },
    "scrolled": false
   },
   "outputs": [],
   "source": [
    "# loaded_xr = {}\n",
    "# fc_dict = {}\n",
    "# catchment_list = []\n",
    "# shapes = get_shapes(shape_file)\n",
    "\n",
    "# def fc_polygon_percentages():\n",
    "# for geometry, properties in shapes:\n",
    "#     catchmentID = 'ID_'+ str(properties['ID'])\n",
    "#     print('Procesing catchment '+str(catchmentID))\n",
    "#     asShape(geometry)\n",
    "#     geobox = datacube.utils.geometry.GeoBox.from_geopolygon(geometry,\n",
    "#                                                             [25.0, 25.0], \n",
    "#                                                             crs=geometry.crs, \n",
    "#                                                             align=None)\n",
    "#     query = {'geopolygon': geometry,'time':(start, end)}\n",
    "#     ds = DEADataHandling.load_clearlandsat(dc, \n",
    "#                                            query, \n",
    "#                                            sensors=('ls5', 'ls7', 'ls8'),\n",
    "#                                            product='fc',\n",
    "#                                            masked_prop=0.80)\n",
    "#     if ds.time.size != 0:\n",
    "#         print('Loading wofls')\n",
    "#         wofls = dc.load(product = 'wofs_albers', like=ds)\n",
    "#         wetwofl = masking.make_mask(wofls, wet=True)\n",
    "#         unwofld = ds.where(ds.time == wetwofl.time)\n",
    "#         unwofld = unwofld.where(wetwofl.water==False)\n",
    "        \n",
    "#         print('Using wofls to mask out water')\n",
    "#         mask = geometry_mask([geometry], geobox, all_touched=True, invert=True)\n",
    "#         mask_num = mask *1 #bool to num\n",
    "#         mask_interp =  mask_num.interp_like(ds, method='nearest')\n",
    "#         ds_masked = unwofld.where(mask_interp == 1) \n",
    "#         ds_masked.coords['catchment_ID'] = catchmentID\n",
    "#         ds_masked['time'] = (ds_masked.time - pd.Timedelta(hours=10)).astype('datetime64[D]')\n",
    "\n",
    "#         print('Calculating percentages')\n",
    "#         bs = ds_masked.BS.sum(dim=('x', 'y'))\n",
    "#         pv = ds_masked.PV.sum(dim=('x', 'y'))\n",
    "#         npv = ds_masked.NPV.sum(dim=('x', 'y'))\n",
    "#         ue = ds_masked.UE.sum(dim=('x', 'y'))\n",
    "        \n",
    "#         fc_sum = bs + pv + npv + ue\n",
    "        \n",
    "#         percentage_xr = xr.Dataset({'bs':bs,'pv':pv,'npv':npv,'ue': ue,})\n",
    "#         percentage_xr = percentage_xr / fc_sum * 100\n",
    "#         percentage_xr.coords['catchment_ID'] = catchmentID\n",
    "        \n",
    "#         fc_dict[catchmentID] = percentage_xr\n",
    "#         print('Catchment '+ str(catchmentID) +' complete')\n",
    "#         print('')\n",
    "#     else:\n",
    "#         break\n",
    "\n",
    "# perc_clean = xr.concat(fc_dict.values(),'catchment_ID')"
   ]
  },
  {
   "cell_type": "code",
   "execution_count": null,
   "metadata": {},
   "outputs": [],
   "source": []
  },
  {
   "cell_type": "code",
   "execution_count": null,
   "metadata": {
    "ExecuteTime": {
     "end_time": "2018-12-04T00:39:45.355858Z",
     "start_time": "2018-12-04T00:39:44.992709Z"
    }
   },
   "outputs": [],
   "source": [
    "perc_clean.isel(catchment_ID = 0).pv.plot()"
   ]
  },
  {
   "cell_type": "code",
   "execution_count": null,
   "metadata": {
    "ExecuteTime": {
     "end_time": "2018-12-03T23:36:51.808968Z",
     "start_time": "2018-12-03T23:36:51.798739Z"
    }
   },
   "outputs": [],
   "source": [
    "perc_clean.isel(catchment_ID = 1, time = 0)"
   ]
  },
  {
   "cell_type": "code",
   "execution_count": null,
   "metadata": {
    "ExecuteTime": {
     "end_time": "2018-12-03T05:56:18.895125Z",
     "start_time": "2018-12-03T05:56:18.877914Z"
    }
   },
   "outputs": [],
   "source": [
    "df =  pd.DataFrame(ue_list).T\n",
    "df = pd.DataFrame(df,columns=catchment_list)\n",
    "df"
   ]
  },
  {
   "cell_type": "code",
   "execution_count": null,
   "metadata": {
    "ExecuteTime": {
     "end_time": "2018-12-03T05:22:43.908085Z",
     "start_time": "2018-12-03T05:22:43.893299Z"
    }
   },
   "outputs": [],
   "source": [
    "loaded_list = pd.DataFrame(columns=['catchment_ID','bs','npv','ue'])\n",
    "loaded_list"
   ]
  },
  {
   "cell_type": "code",
   "execution_count": null,
   "metadata": {
    "ExecuteTime": {
     "end_time": "2018-12-03T05:09:08.342108Z",
     "start_time": "2018-12-03T05:09:08.306444Z"
    }
   },
   "outputs": [],
   "source": [
    "tabulated = pd.concat([bs_perc,pv_perc,npv_perc,ue_perc],axis=1,)\n",
    "test"
   ]
  },
  {
   "cell_type": "code",
   "execution_count": null,
   "metadata": {
    "ExecuteTime": {
     "end_time": "2018-12-04T00:40:07.317403Z",
     "start_time": "2018-12-04T00:40:07.305829Z"
    }
   },
   "outputs": [],
   "source": [
    "# loaded_xr = {}\n",
    "# shapes = get_shapes(shape_file)\n",
    "\n",
    "# for geometry, properties in shapes:\n",
    "#     catchmentID = 'ID_'+ str(properties['ID'])\n",
    "#     print(catchmentID)\n",
    "#     asShape(geometry)\n",
    "#     geobox = datacube.utils.geometry.GeoBox.from_geopolygon(geometry,\n",
    "#                                                             [25.0, 25.0], \n",
    "#                                                             crs=geometry.crs, \n",
    "#                                                             align=None)\n",
    "#     query = {'geopolygon': geometry,'time':(start, end)}\n",
    "#     ds = DEADataHandling.load_clearlandsat(dc, \n",
    "#                                            query, \n",
    "#                                            sensors=('ls5', 'ls7', 'ls8'),\n",
    "#                                            product='fc',\n",
    "#                                            masked_prop=0.80)\n",
    "#     if ds.time.size != 0:\n",
    "#         wofls = dc.load(product = 'wofs_albers', like=ds)\n",
    "#         wetwofl = masking.make_mask(wofls, wet=True)\n",
    "#         unwofld = ds.where(ds.time == wetwofl.time)\n",
    "#         unwofld = unwofld.where(wetwofl.water==False)\n",
    "#         mask = geometry_mask([geometry], geobox, all_touched=True, invert=True)\n",
    "#         mask_num = mask *1 #bool to num\n",
    "#         mask_interp =  mask_num.interp_like(ds, method='nearest')\n",
    "#         ds_masked = unwofld.where(mask_interp == 1) \n",
    "#         ds_masked.coords['catchment_ID'] = catchmentID\n",
    "#         ds_masked['time'] = (ds_masked.time - pd.Timedelta(hours=10)).astype('datetime64[D]')\n",
    "#         loaded_xr[catchmentID] = ds_masked\n",
    "#     else:\n",
    "#         break\n",
    "        \n",
    "# fc_clean = xr.concat(loaded_xr.values(),'catchment_ID')\n",
    "# print(fc_clean)"
   ]
  },
  {
   "cell_type": "code",
   "execution_count": null,
   "metadata": {
    "ExecuteTime": {
     "end_time": "2018-12-03T04:29:28.676373Z",
     "start_time": "2018-12-03T04:29:28.664317Z"
    }
   },
   "outputs": [],
   "source": [
    "test.index"
   ]
  },
  {
   "cell_type": "code",
   "execution_count": null,
   "metadata": {
    "ExecuteTime": {
     "end_time": "2018-12-03T04:27:07.875532Z",
     "start_time": "2018-12-03T04:27:07.865667Z"
    }
   },
   "outputs": [],
   "source": [
    "bs_perc"
   ]
  },
  {
   "cell_type": "code",
   "execution_count": null,
   "metadata": {
    "ExecuteTime": {
     "end_time": "2018-12-03T04:18:08.683000Z",
     "start_time": "2018-12-03T04:18:08.678177Z"
    }
   },
   "outputs": [],
   "source": [
    "# bs = fc_clean.BS.sum(dim=('x', 'y'))\n",
    "# pv = fc_clean.PV.sum(dim=('x', 'y'))\n",
    "# npv = fc_clean.NPV.sum(dim=('x', 'y'))\n",
    "# ue = fc_clean.UE.sum(dim=('x', 'y'))\n",
    "\n",
    "# fc_sum = bs + pv + npv + ue\n",
    "\n",
    "# bs_perc = bs/fc_sum * 100\n",
    "# pv_perc = pv/fc_sum * 100\n",
    "# npv_perc = npv/fc_sum * 100\n",
    "# ue_perc = ue/fc_sum * 100\n",
    "\n",
    "# fc_total = bs_perc +  pv_perc + npv_perc + ue_perc\n",
    "\n",
    "# ds_perc = bs_perc.to_dataset(dim='BS_perc')\n",
    "# ds_perc['PV_perc'] = pv_perc\n",
    "# ds_perc['NPV_perc'] = npv_perc\n",
    "# ds_perc['UE_perc'] = ue_perc"
   ]
  },
  {
   "cell_type": "code",
   "execution_count": null,
   "metadata": {
    "ExecuteTime": {
     "end_time": "2018-12-03T04:18:21.722148Z",
     "start_time": "2018-12-03T04:18:21.711882Z"
    }
   },
   "outputs": [],
   "source": [
    "bs_perc"
   ]
  },
  {
   "cell_type": "code",
   "execution_count": null,
   "metadata": {
    "ExecuteTime": {
     "end_time": "2018-12-03T03:35:33.491480Z",
     "start_time": "2018-12-03T03:35:33.447539Z"
    }
   },
   "outputs": [],
   "source": [
    "ds_perc"
   ]
  },
  {
   "cell_type": "code",
   "execution_count": null,
   "metadata": {
    "ExecuteTime": {
     "end_time": "2018-12-03T03:22:24.329798Z",
     "start_time": "2018-12-03T03:22:24.327126Z"
    }
   },
   "outputs": [],
   "source": [
    "# #the query is a dictionary where the keys are the spatio-temporal specs\n",
    "# query = {'geopolygon': geom,\n",
    "# #         'lat': (-35.25, -35.35),\n",
    "# #         'lon': (149.05, 149.17),\n",
    "#         'time':(start, end)\n",
    "#         }"
   ]
  },
  {
   "cell_type": "code",
   "execution_count": null,
   "metadata": {},
   "outputs": [],
   "source": []
  },
  {
   "cell_type": "code",
   "execution_count": null,
   "metadata": {
    "ExecuteTime": {
     "end_time": "2018-12-03T03:22:24.605088Z",
     "start_time": "2018-12-03T03:22:24.601600Z"
    }
   },
   "outputs": [],
   "source": [
    "# loaded_xr = {}\n",
    "# for geometry, properties in shapes:\n",
    "#     geobox = datacube.utils.geometry.GeoBox.from_geopolygon(geometry, hi_resolution, crs, align)\n",
    "#     data = dc.load(product=product_id, \n",
    "#                measurement=measurement_id, \n",
    "#                datasets=datasets, \n",
    "#                dask_chunks={'time': 1}, \n",
    "#                geopolygon=geometry,\n",
    "#                resolution=hi_resolution,)\n",
    "#                #output_crs='EPSG:32648')\n",
    "#     SCID = properties['ID_RB']\n",
    "#     print(SCID)\n",
    "#     mask = geometry_mask([geometry], geobox, all_touched=True, invert=True)\n",
    "#     rain_array = data.PET.where(data.PET > -1).where(mask)\n",
    "#     #rain_array = data.spei_gamma_03.where(data.spei_gamma_03 > -3.1).where(mask)\n",
    "#     loaded = rain_array.mean(dim=['latitude', 'longitude']).load();\n",
    "#     loaded_xr[SCID] = loaded\n",
    "# print(loaded_xr)\n"
   ]
  },
  {
   "cell_type": "code",
   "execution_count": null,
   "metadata": {
    "ExecuteTime": {
     "end_time": "2018-12-03T03:22:30.102331Z",
     "start_time": "2018-12-03T03:22:30.094397Z"
    }
   },
   "outputs": [],
   "source": [
    "# data = dc.load(product=f'{sensor}_{product}_albers',\n",
    "#                                group_by='solar_day', \n",
    "#                                dask_chunks={'time': 1},\n",
    "#                                **query)\n",
    "#  # Load PQ data\n",
    "# pq = dc.load(product=f'{sensor}_pq_albers',\n",
    "#              group_by='solar_day',\n",
    "#              fuse_func=ga_pq_fuser,\n",
    "#              dask_chunks={'time': 1},\n",
    "#              **query)\n",
    "\n",
    "# if not ls7_slc_off and sensor == 'ls7':\n",
    "#     print('Ignoring SLC-off observations for ls7')\n",
    "#     data = data.sel(time=data.time < np.datetime64('2003-05-30'))\n",
    "# time = (data.time - pq.time).time\n",
    "# data = data.sel(time=time)\n",
    "# pq = pq.sel(time=time)\n",
    "\n",
    "# # Load PQ data using dask\n",
    "# print('Loading {} pixel quality'.format(sensor))\n",
    "# pq = pq.compute()\n",
    "\n",
    "# # Identify pixels with no clouds in either ACCA for Fmask\n",
    "# good_quality = masking.make_mask(pq.pixelquality,\n",
    "#                                  cloud_acca='no_cloud',\n",
    "#                                  cloud_fmask='no_cloud',\n",
    "#                                  contiguous=True)"
   ]
  },
  {
   "cell_type": "code",
   "execution_count": null,
   "metadata": {
    "ExecuteTime": {
     "end_time": "2018-11-30T02:59:45.303657Z",
     "start_time": "2018-11-30T02:56:21.008Z"
    }
   },
   "outputs": [],
   "source": [
    "# wetwofl = masking.make_mask(wofls, wet=True)\n",
    "# unwofld = ds.where(ds.time == wetwofl.time)\n",
    "# unwofld = unwofld.where(wetwofl.water==False)"
   ]
  },
  {
   "cell_type": "code",
   "execution_count": null,
   "metadata": {
    "ExecuteTime": {
     "end_time": "2018-11-30T02:59:45.305477Z",
     "start_time": "2018-11-30T02:56:21.243Z"
    }
   },
   "outputs": [],
   "source": [
    "# resolution = [25.0, 25.0]\n",
    "# shapes = get_shapes(shape_file)\n",
    "\n",
    "# for geometry, properties in shapes:\n",
    "#         geobox = datacube.utils.geometry.GeoBox.from_geopolygon(geometry, resolution, crs=geometry.crs, align=None)\n",
    "#         mask = geometry_mask([geometry], geobox, all_touched=True, invert=True)\n",
    "#         mask_num = mask *1 #bool to num\n",
    "#         mask_interp =  mask_num.interp_like(ds, method='nearest')\n",
    "#         ds_masked = unwofld.where(mask_interp == 1) \n",
    "        \n",
    "\n",
    "# ##with multiple polygons in a shapefile, need to save out as xr dataset with polygon ID"
   ]
  },
  {
   "cell_type": "code",
   "execution_count": null,
   "metadata": {
    "ExecuteTime": {
     "end_time": "2018-11-30T03:05:49.450844Z",
     "start_time": "2018-11-30T03:05:49.432348Z"
    }
   },
   "outputs": [],
   "source": [
    "ds_perc.sel(catchment_ID = 'ID_1')"
   ]
  },
  {
   "cell_type": "code",
   "execution_count": null,
   "metadata": {
    "ExecuteTime": {
     "end_time": "2018-11-30T03:05:53.414739Z",
     "start_time": "2018-11-30T03:05:53.410841Z"
    }
   },
   "outputs": [],
   "source": [
    "# bs = ds_masked.BS.sum(dim=('x', 'y'))\n",
    "# pv = ds_masked.PV.sum(dim=('x', 'y'))\n",
    "# npv = ds_masked.NPV.sum(dim=('x', 'y'))\n",
    "# ue = ds_masked.UE.sum(dim=('x', 'y'))\n",
    "\n",
    "# fc_sum = bs + pv + npv + ue\n",
    "\n",
    "# bs_perc = bs/fc_sum * 100\n",
    "# pv_perc = pv/fc_sum * 100\n",
    "# npv_perc = npv/fc_sum * 100\n",
    "# ue_perc = ue/fc_sum * 100\n",
    "\n",
    "# fc_total = bs_perc +  pv_perc + npv_perc + ue_perc\n",
    "\n",
    "# ds_perc = bs_perc.to_dataset(dim='BS_perc')\n",
    "# ds_perc['PV_perc'] = pv_perc\n",
    "# ds_perc['NPV_perc'] = npv_perc\n",
    "\n",
    "# ds_perc['UE_perc'] = ue_perc"
   ]
  },
  {
   "cell_type": "code",
   "execution_count": null,
   "metadata": {
    "ExecuteTime": {
     "end_time": "2018-11-30T03:05:53.703907Z",
     "start_time": "2018-11-30T03:05:53.700350Z"
    }
   },
   "outputs": [],
   "source": [
    "# ds_perc.BS_perc.plot()"
   ]
  },
  {
   "cell_type": "code",
   "execution_count": null,
   "metadata": {
    "ExecuteTime": {
     "end_time": "2018-11-30T03:05:56.449973Z",
     "start_time": "2018-11-30T03:05:54.175725Z"
    }
   },
   "outputs": [],
   "source": [
    "rgb_ds = fc_clean.isel(time =0).sel(catchment_ID = 'ID_2').to_array(dim='color').sel(color=['BS','PV','NPV']).transpose('y', 'x', 'color')\n",
    "rgb_ds = rgb_ds.astype('double')\n",
    "max_val = rgb_ds.max(['y', 'x'])\n",
    "scaled = (rgb_ds / max_val)\n",
    "\n",
    "plt.imshow(scaled)"
   ]
  },
  {
   "cell_type": "code",
   "execution_count": null,
   "metadata": {
    "ExecuteTime": {
     "end_time": "2018-11-30T02:54:19.920217Z",
     "start_time": "2018-11-30T02:54:19.903220Z"
    }
   },
   "outputs": [],
   "source": [
    "ds_perc.sel(catchment_ID = 'ID_1')"
   ]
  },
  {
   "cell_type": "code",
   "execution_count": null,
   "metadata": {
    "ExecuteTime": {
     "end_time": "2018-11-30T02:50:19.592705Z",
     "start_time": "2018-11-30T02:50:19.589413Z"
    }
   },
   "outputs": [],
   "source": [
    "# ds_perc = ds_perc.sel(catchment_ID = '2')"
   ]
  },
  {
   "cell_type": "code",
   "execution_count": null,
   "metadata": {
    "ExecuteTime": {
     "end_time": "2018-11-30T03:06:02.098823Z",
     "start_time": "2018-11-30T03:06:02.091500Z"
    }
   },
   "outputs": [],
   "source": [
    "np.asanyarray(ds_perc.sel(catchment_ID = 'ID_1').time)"
   ]
  },
  {
   "cell_type": "code",
   "execution_count": null,
   "metadata": {
    "ExecuteTime": {
     "end_time": "2018-11-30T03:09:08.016008Z",
     "start_time": "2018-11-30T03:09:08.011340Z"
    }
   },
   "outputs": [],
   "source": [
    "catch_ID = 'ID_3'"
   ]
  },
  {
   "cell_type": "code",
   "execution_count": null,
   "metadata": {
    "ExecuteTime": {
     "end_time": "2018-11-13T23:28:01.937627Z",
     "start_time": "2018-11-13T23:28:01.909070Z"
    }
   },
   "outputs": [],
   "source": [
    "# bs_perc = bs/fc_sum * 100\n",
    "# pv_perc = pv/fc_sum * 100\n",
    "# npv_perc = npv/fc_sum * 100\n",
    "# ue_perc = ue/fc_sum * 100"
   ]
  },
  {
   "cell_type": "code",
   "execution_count": null,
   "metadata": {
    "ExecuteTime": {
     "end_time": "2018-11-13T23:28:03.032552Z",
     "start_time": "2018-11-13T23:28:03.016399Z"
    }
   },
   "outputs": [],
   "source": [
    "fc_total = bs_perc +  pv_perc + npv_perc + ue_perc"
   ]
  },
  {
   "cell_type": "code",
   "execution_count": null,
   "metadata": {
    "ExecuteTime": {
     "end_time": "2018-11-13T23:28:03.941613Z",
     "start_time": "2018-11-13T23:28:03.909271Z"
    }
   },
   "outputs": [],
   "source": [
    "# print(bs_perc)\n",
    "# print(pv_perc)\n",
    "# print(npv_perc)\n",
    "# print(ue_perc)"
   ]
  },
  {
   "cell_type": "code",
   "execution_count": null,
   "metadata": {
    "ExecuteTime": {
     "end_time": "2018-11-15T00:50:32.024634Z",
     "start_time": "2018-11-15T00:50:26.422498Z"
    }
   },
   "outputs": [],
   "source": [
    "plt.imshow(scaled)"
   ]
  },
  {
   "cell_type": "code",
   "execution_count": null,
   "metadata": {
    "ExecuteTime": {
     "end_time": "2018-11-13T23:29:07.628686Z",
     "start_time": "2018-11-13T23:29:07.594061Z"
    }
   },
   "outputs": [],
   "source": [
    "# wetwofl = masking.make_mask(wofls, wet=True)\n",
    "# unwofld = ds_masked.where(ds_masked.time == wetwofl.time)\n",
    "# unwofld = unwofld.where(wetwofl.water==False)\n"
   ]
  },
  {
   "cell_type": "code",
   "execution_count": null,
   "metadata": {},
   "outputs": [],
   "source": [
    "loaded_xr = {}\n",
    "fc_dict = {}\n",
    "catchment_list = []\n",
    "shapes = get_shapes(shape_file)\n",
    "\n",
    "for geometry, properties in shapes:\n",
    "    catchmentID = 'ID_'+ str(properties['ID'])\n",
    "    print('Procesing catchment '+str(catchmentID))\n",
    "    asShape(geometry)\n",
    "    geobox = datacube.utils.geometry.GeoBox.from_geopolygon(geometry,\n",
    "                                                            [25.0, 25.0], \n",
    "                                                            crs=geometry.crs, \n",
    "                                                            align=None)\n",
    "    query = {'geopolygon': geometry,'time':(start, end)}\n",
    "    ds = DEADataHandling.load_clearlandsat(dc, \n",
    "                                           query, \n",
    "                                           sensors=('ls5', 'ls7', 'ls8'),\n",
    "                                           product='fc',\n",
    "                                           masked_prop=0.80)\n",
    "    if ds.time.size != 0:\n",
    "        print('Loading wofls')\n",
    "        wofls = dc.load(product = 'wofs_albers', like=ds)\n",
    "        wetwofl = masking.make_mask(wofls, wet=True)\n",
    "        unwofld = ds.where(ds.time == wetwofl.time)\n",
    "        unwofld = unwofld.where(wetwofl.water==False)\n",
    "        print('Using wofls to mask out water')\n",
    "        mask = geometry_mask([geometry], geobox, all_touched=True, invert=True)\n",
    "        mask_num = mask *1 #bool to num\n",
    "        mask_interp =  mask_num.interp_like(ds, method='nearest')\n",
    "        ds_masked = unwofld.where(mask_interp == 1) \n",
    "        ds_masked.coords['catchment_ID'] = catchmentID\n",
    "        ds_masked['time'] = (ds_masked.time - pd.Timedelta(hours=10)).astype('datetime64[D]')\n",
    "#         print(ds_masked)\n",
    "#         loaded_xr[catchmentID] = ds_masked\n",
    "#         print(loaded_xr)\n",
    "        print('Calculating percentages')\n",
    "        bs = ds_masked.BS.sum(dim=('x', 'y'))\n",
    "        pv = ds_masked.PV.sum(dim=('x', 'y'))\n",
    "        npv = ds_masked.NPV.sum(dim=('x', 'y'))\n",
    "        ue = ds_masked.UE.sum(dim=('x', 'y'))\n",
    "        \n",
    "        fc_sum = bs + pv + npv + ue\n",
    "        \n",
    "        percentage_xr = xr.Dataset({'bs':bs,'pv':pv,'npv':npv,'ue': ue,})\n",
    "        percentage_xr = percentage_xr / fc_sum * 100\n",
    "        percentage_xr.coords['catchment_ID'] = catchmentID\n",
    "        \n",
    "        fc_dict[catchmentID] = percentage_xr\n",
    "        print('Catchment '+ str(catchmentID) +' complete')\n",
    "        print('')\n",
    "    \n",
    "#         bs_perc = (bs/fc_sum * 100)#.to_pandas().T#.to_dataframe(name='bs')        \n",
    "#         pv_perc = (pv/fc_sum * 100)#.to_pandas().T#.to_dataframe(name='pv')#.drop(columns=['catchment_ID'])\n",
    "#         npv_perc = (npv/fc_sum * 100)#.to_pandas().T#.to_dataframe(name='npv')#.drop(columns=['catchment_ID'])\n",
    "#         ue_perc = (ue/fc_sum * 100)#.to_pandas().T#.to_dataframe(name='ue')#.drop(columns=['catchment_ID'])\n",
    "# #         ue_perc = ue_perc.to_pandas()\n",
    "        \n",
    "        \n",
    "#         ue_dict[catchmentID] = ue_perc\n",
    "        \n",
    "#         tabulated = pd.concat([bs_perc,pv_perc,npv_perc,ue_perc],axis=1)\n",
    "#         loaded_df.append(tabulated)\n",
    "        \n",
    "#         test = pd.concat([bs_perc,pv_perc,npv_perc,ue_perc])\n",
    "#         print(test)\n",
    "        \n",
    "        \n",
    "#         fc_total = bs_perc +  pv_perc + npv_perc + ue_perc\n",
    "        \n",
    "#         loaded_list.append([catchmentID,bs_perc,pv_perc,npv_perc,ue_perc,fc_total])\n",
    "    else:\n",
    "        break\n",
    "\n",
    "perc_clean = xr.concat(fc_dict.values(),'catchment_ID')\n",
    "\n",
    "# cols = ['ID','BS','PV','NPV','UE','summed_perc']\n",
    "# fc_df = pd.DataFrame(columns=cols,data=loaded_list)"
   ]
  }
 ],
 "metadata": {
  "kernelspec": {
   "display_name": "Python [default]",
   "language": "python",
   "name": "python3"
  },
  "language_info": {
   "codemirror_mode": {
    "name": "ipython",
    "version": 3
   },
   "file_extension": ".py",
   "mimetype": "text/x-python",
   "name": "python",
   "nbconvert_exporter": "python",
   "pygments_lexer": "ipython3",
   "version": "3.6.6"
  }
 },
 "nbformat": 4,
 "nbformat_minor": 2
}
