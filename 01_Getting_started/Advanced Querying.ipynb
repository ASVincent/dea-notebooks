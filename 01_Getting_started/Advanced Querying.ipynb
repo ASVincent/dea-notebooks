{
 "cells": [
  {
   "cell_type": "markdown",
   "metadata": {},
   "source": [
    "# Advanced Querying"
   ]
  },
  {
   "cell_type": "markdown",
   "metadata": {},
   "source": [
    "More advanced queries can be done to filter based on product lineage.\n",
    "\n",
    "**Requirements:**\n",
    "\n",
    "You need to run the following commands from the command line prior to launching jupyter notebook from the same terminal so that the required libraries and paths are set.\n",
    "\n",
    "`module use /g/data/v10/public/modules/modulefiles` \n",
    "\n",
    "`module load dea`"
   ]
  },
  {
   "cell_type": "code",
   "execution_count": 1,
   "metadata": {},
   "outputs": [],
   "source": [
    "%matplotlib inline\n",
    "import warnings; warnings.simplefilter('ignore')\n",
    "\n",
    "import datacube\n",
    "dc = datacube.Datacube(app='advance-query-example')"
   ]
  },
  {
   "cell_type": "markdown",
   "metadata": {},
   "source": [
    "We can query the metadata for data that has been indexed but is not stored in the system, such as the Level 1 product.\n",
    "\n",
    "Level 1 refers to a sensor radiance product, before it has been corrected for atmosphere."
   ]
  },
  {
   "cell_type": "code",
   "execution_count": 2,
   "metadata": {},
   "outputs": [
    {
     "data": {
      "text/plain": [
       "[Dataset <id=4fda1bcf-afcd-4cf4-bb6c-0cceae55d75e type=ls5_level1_scene location=file:///g/data/v10/reprocess/ls5/level1/1995/01/LS5_TM_OTH_P51_GALPGS01-002_089_080_19950104/ga-metadata.yaml>,\n",
       " Dataset <id=1cd1ca62-49e7-4b4f-90b8-5f5304b5e5b0 type=ls5_level1_scene location=file:///g/data/v10/reprocess/ls5/level1/1995/01/LS5_TM_OTH_P51_GALPGS01-002_089_082_19950104/ga-metadata.yaml>,\n",
       " Dataset <id=939e0fbe-9db6-4718-a04f-e571daa1ad30 type=ls5_level1_scene location=file:///g/data/v10/reprocess/ls5/level1/1995/01/LS5_TM_OTH_P51_GALPGS01-002_096_080_19950105/ga-metadata.yaml>,\n",
       " Dataset <id=204c71b0-49ed-4860-a1dd-d86d47ab201b type=ls5_level1_scene location=file:///g/data/v10/reprocess/ls5/level1/1995/01/LS5_TM_OTH_P51_GALPGS01-002_096_081_19950105/ga-metadata.yaml>,\n",
       " Dataset <id=75c4a0f1-cff4-4f43-bc18-5b57061cd2d4 type=ls5_level1_scene location=file:///g/data/v10/reprocess/ls5/level1/1995/01/LS5_TM_OTH_P51_GALPGS01-002_096_077_19950105/ga-metadata.yaml>,\n",
       " Dataset <id=9e67989a-1240-4ea2-ab83-3ca32be2fc40 type=ls5_level1_scene location=file:///g/data/v10/reprocess/ls5/level1/1995/01/LS5_TM_OTH_P51_GALPGS01-002_096_079_19950105/ga-metadata.yaml>,\n",
       " Dataset <id=e7ddda30-a4eb-4b22-88df-2462bee526b5 type=ls5_level1_scene location=file:///g/data/v10/reprocess/ls5/level1/1995/01/LS5_TM_OTH_P51_GALPGS01-002_096_083_19950105/ga-metadata.yaml>,\n",
       " Dataset <id=34ffecf0-b4ca-4fe5-a669-e55deed12016 type=ls5_level1_scene location=file:///g/data/v10/reprocess/ls5/level1/1995/01/LS5_TM_OTH_P51_GALPGS01-002_096_082_19950105/ga-metadata.yaml>,\n",
       " Dataset <id=fb83f06f-1ae7-4bf4-b89c-deeb6a02962e type=ls5_level1_scene location=file:///g/data/v10/reprocess/ls5/level1/1995/01/LS5_TM_OTH_P51_GALPGS01-002_096_084_19950105/ga-metadata.yaml>,\n",
       " Dataset <id=b9d6536a-1ec4-4710-a6cd-a16e60ebfae1 type=ls5_level1_scene location=file:///g/data/v10/reprocess/ls5/level1/1995/01/LS5_TM_OTH_P51_GALPGS01-002_096_078_19950105/ga-metadata.yaml>,\n",
       " Dataset <id=f70e339a-9573-493b-8fca-32780b7048a4 type=ls5_level1_scene location=file:///g/data/v10/reprocess/ls5/level1/1995/01/LS5_TM_OTH_P51_GALPGS01-002_096_076_19950105/ga-metadata.yaml>,\n",
       " Dataset <id=61504c2c-97fe-4ffe-bded-5ef6e6878edc type=ls5_level1_scene location=file:///g/data/v10/reprocess/ls5/level1/1995/01/LS5_TM_OTH_P51_GALPGS01-002_096_064_19950105/ga-metadata.yaml>,\n",
       " Dataset <id=22022044-03e5-40f8-813a-af066a415143 type=ls5_level1_scene location=file:///g/data/v10/reprocess/ls5/level1/1995/01/LS5_TM_OTH_P51_GALPGS01-002_096_074_19950105/ga-metadata.yaml>,\n",
       " Dataset <id=31983f2e-26ba-47ff-ad57-c906f436c97c type=ls5_level1_scene location=file:///g/data/v10/reprocess/ls5/level1/1995/01/LS5_TM_OTH_P51_GALPGS01-002_096_065_19950105/ga-metadata.yaml>,\n",
       " Dataset <id=0675b7c1-df4e-4a5b-83b3-0ece3f32b32f type=ls5_level1_scene location=file:///g/data/v10/reprocess/ls5/level1/1995/01/LS5_TM_OTH_P51_GALPGS01-002_096_066_19950105/ga-metadata.yaml>,\n",
       " Dataset <id=89502f70-6c18-4253-9e22-9e3ef89aa2cd type=ls5_level1_scene location=file:///g/data/v10/reprocess/ls5/level1/1995/01/LS5_TM_OTH_P51_GALPGS01-002_096_075_19950105/ga-metadata.yaml>,\n",
       " Dataset <id=f9a8827f-5236-4649-a08b-074980b4a1de type=ls5_level1_scene location=file:///g/data/v10/reprocess/ls5/level1/1995/01/LS5_TM_OTH_P51_GALPGS01-002_096_072_19950105/ga-metadata.yaml>,\n",
       " Dataset <id=f120065d-79b6-4ff6-ac72-4916e6281dba type=ls5_level1_scene location=file:///g/data/v10/reprocess/ls5/level1/1995/01/LS5_TM_OTH_P51_GALPGS01-002_096_071_19950105/ga-metadata.yaml>,\n",
       " Dataset <id=0bebcdd8-143d-41b4-b65d-e17e173f5014 type=ls5_level1_scene location=file:///g/data/v10/reprocess/ls5/level1/1995/01/LS5_TM_OTH_P51_GALPGS01-002_096_070_19950105/ga-metadata.yaml>,\n",
       " Dataset <id=44653db9-bd4c-4046-910a-25975c5e7c26 type=ls5_level1_scene location=file:///g/data/v10/reprocess/ls5/level1/1995/01/LS5_TM_OTH_P51_GALPGS01-002_096_073_19950105/ga-metadata.yaml>,\n",
       " Dataset <id=de2b16b6-fa65-46ce-bc47-867d9ee60cce type=ls5_level1_scene location=file:///g/data/v10/reprocess/ls5/level1/1995/01/LS5_TM_OTH_P51_GALPGS01-002_089_078_19950104/ga-metadata.yaml>,\n",
       " Dataset <id=b7d5defa-d7d9-44bf-a7dc-5bd09c250795 type=ls5_level1_scene location=file:///g/data/v10/reprocess/ls5/level1/1995/01/LS5_TM_OTH_P51_GALPGS01-002_089_081_19950104/ga-metadata.yaml>,\n",
       " Dataset <id=a84f0eb3-e65f-44e9-b1f2-88d9b50a8c61 type=ls5_level1_scene location=file:///g/data/v10/reprocess/ls5/level1/1995/01/LS5_TM_OTH_P51_GALPGS01-002_089_089_19950104/ga-metadata.yaml>,\n",
       " Dataset <id=7440e581-3d31-42b7-96be-c8fcfaef11bd type=ls5_level1_scene location=file:///g/data/v10/reprocess/ls5/level1/1995/01/LS5_TM_OTH_P51_GALPGS01-002_089_090_19950104/ga-metadata.yaml>,\n",
       " Dataset <id=5127d289-06ea-4a93-9111-733a540a08d4 type=ls5_level1_scene location=file:///g/data/v10/reprocess/ls5/level1/1995/01/LS5_TM_OTH_P51_GALPGS01-002_089_079_19950104/ga-metadata.yaml>,\n",
       " Dataset <id=6cff7653-8bbe-4584-b250-dbd8f4e1e0e8 type=ls5_level1_scene location=file:///g/data/v10/reprocess/ls5/level1/1995/01/LS5_TM_OTH_P51_GALPGS01-002_114_066_19950104/ga-metadata.yaml>,\n",
       " Dataset <id=3aa84abb-e893-4fa0-a97d-f2b01d030a9d type=ls5_level1_scene location=file:///g/data/v10/reprocess/ls5/level1/1995/01/LS5_TM_OTH_P51_GALPGS01-002_114_079_19950104/ga-metadata.yaml>,\n",
       " Dataset <id=449bd577-4b54-4b75-b890-3275a4f381ad type=ls5_level1_scene location=file:///g/data/v10/reprocess/ls5/level1/1995/01/LS5_TM_OTH_P51_GALPGS01-002_114_075_19950104/ga-metadata.yaml>,\n",
       " Dataset <id=97430ed0-cea1-4011-a137-c14f701c99cc type=ls5_level1_scene location=file:///g/data/v10/reprocess/ls5/level1/1995/01/LS5_TM_OTH_P51_GALPGS01-002_114_074_19950104/ga-metadata.yaml>,\n",
       " Dataset <id=0d9a1254-943b-42b1-8c04-d1eb8c333a8f type=ls5_level1_scene location=file:///g/data/v10/reprocess/ls5/level1/1995/01/LS5_TM_OTH_P51_GALPGS01-002_114_078_19950104/ga-metadata.yaml>,\n",
       " Dataset <id=f18bbbdc-9f35-4a4e-a96b-a501e65c2ed1 type=ls5_level1_scene location=file:///g/data/v10/reprocess/ls5/level1/1995/01/LS5_TM_OTH_P51_GALPGS01-002_114_077_19950104/ga-metadata.yaml>,\n",
       " Dataset <id=b10be1db-1e84-4a57-bc5a-e658ef485c59 type=ls5_level1_scene location=file:///g/data/v10/reprocess/ls5/level1/1995/01/LS5_TM_OTH_P51_GALPGS01-002_114_076_19950104/ga-metadata.yaml>,\n",
       " Dataset <id=0ceeeb5f-5ce7-4df8-97fa-7131c422966b type=ls5_level1_scene location=file:///g/data/v10/reprocess/ls5/level1/1995/01/LS5_TM_OTH_P51_GALPGS01-002_114_081_19950104/ga-metadata.yaml>,\n",
       " Dataset <id=2242455e-83b3-4a54-a551-bc5f5fd3d3fd type=ls5_level1_scene location=file:///g/data/v10/reprocess/ls5/level1/1995/01/LS5_TM_OTH_P51_GALPGS01-002_114_080_19950104/ga-metadata.yaml>]"
      ]
     },
     "execution_count": 2,
     "metadata": {},
     "output_type": "execute_result"
    }
   ],
   "source": [
    "scenes = dc.find_datasets(product='ls5_level1_scene', time=('1995-1-4', '1995-1-5'))\n",
    "scenes"
   ]
  },
  {
   "cell_type": "markdown",
   "metadata": {},
   "source": [
    "There is scene-level metadata that we may want to use.\n",
    "\n",
    "Landsat follows the WRS2 orbit, which gets broken up into paths and rows.\n",
    "\n",
    "GQA stands for Geometric Quality Assesment, which is how well the image aligns with known points on the ground.\n",
    "We will use the CEP90 field, which measures the Circular Error."
   ]
  },
  {
   "cell_type": "code",
   "execution_count": 3,
   "metadata": {},
   "outputs": [
    {
     "name": "stdout",
     "output_type": "stream",
     "text": [
      "path: 89,\t row: 80,\t error: 0.75\n",
      "path: 89,\t row: 82,\t error: 0.92\n",
      "path: 96,\t row: 80,\t error: 0.28\n",
      "path: 96,\t row: 81,\t error: 0.48\n",
      "path: 96,\t row: 77,\t error: 0.14\n",
      "path: 96,\t row: 79,\t error: 0.44\n",
      "path: 96,\t row: 83,\t error: 0.27\n",
      "path: 96,\t row: 82,\t error: 0.23\n",
      "path: 96,\t row: 84,\t error: 0.64\n",
      "path: 96,\t row: 78,\t error: 0.26\n",
      "path: 96,\t row: 76,\t error: 0.13\n",
      "path: 96,\t row: 64,\t error: nan\n",
      "path: 96,\t row: 74,\t error: 0.6\n",
      "path: 96,\t row: 65,\t error: nan\n",
      "path: 96,\t row: 66,\t error: nan\n",
      "path: 96,\t row: 75,\t error: 0.19\n",
      "path: 96,\t row: 72,\t error: 0.3\n",
      "path: 96,\t row: 71,\t error: 0.75\n",
      "path: 96,\t row: 70,\t error: 0.31\n",
      "path: 96,\t row: 73,\t error: 0.22\n",
      "path: 89,\t row: 78,\t error: 0.93\n",
      "path: 89,\t row: 81,\t error: 0.96\n",
      "path: 89,\t row: 89,\t error: 0.45\n",
      "path: 89,\t row: 90,\t error: 0.59\n",
      "path: 89,\t row: 79,\t error: 3.76\n",
      "path: 114,\t row: 66,\t error: nan\n",
      "path: 114,\t row: 79,\t error: 0.43\n",
      "path: 114,\t row: 75,\t error: 4.66\n",
      "path: 114,\t row: 74,\t error: 0.43\n",
      "path: 114,\t row: 78,\t error: 0.4\n",
      "path: 114,\t row: 77,\t error: 0.3\n",
      "path: 114,\t row: 76,\t error: 0.29\n",
      "path: 114,\t row: 81,\t error: 1.07\n",
      "path: 114,\t row: 80,\t error: 0.66\n"
     ]
    }
   ],
   "source": [
    "for scene in scenes:\n",
    "    path = min(scene.metadata.sat_path)\n",
    "    row =  min(scene.metadata.sat_row)\n",
    "    gqa = scene.metadata.gqa_cep90\n",
    "    print(\"path: {},\\t row: {},\\t error: {}\".format(path,row, gqa))"
   ]
  },
  {
   "cell_type": "markdown",
   "metadata": {},
   "source": [
    "If we only care about highly-aligned data, we can filter based on the gqa:"
   ]
  },
  {
   "cell_type": "code",
   "execution_count": 4,
   "metadata": {},
   "outputs": [
    {
     "name": "stdout",
     "output_type": "stream",
     "text": [
      "path: 96,\t row: 80,\t error: 0.28\n",
      "path: 96,\t row: 81,\t error: 0.48\n",
      "path: 96,\t row: 77,\t error: 0.14\n",
      "path: 96,\t row: 79,\t error: 0.44\n",
      "path: 96,\t row: 83,\t error: 0.27\n",
      "path: 96,\t row: 82,\t error: 0.23\n",
      "path: 96,\t row: 84,\t error: 0.64\n",
      "path: 96,\t row: 78,\t error: 0.26\n",
      "path: 96,\t row: 76,\t error: 0.13\n",
      "path: 96,\t row: 74,\t error: 0.6\n",
      "path: 96,\t row: 75,\t error: 0.19\n",
      "path: 96,\t row: 72,\t error: 0.3\n",
      "path: 96,\t row: 70,\t error: 0.31\n",
      "path: 96,\t row: 73,\t error: 0.22\n",
      "path: 89,\t row: 89,\t error: 0.45\n",
      "path: 89,\t row: 90,\t error: 0.59\n",
      "path: 114,\t row: 79,\t error: 0.43\n",
      "path: 114,\t row: 74,\t error: 0.43\n",
      "path: 114,\t row: 78,\t error: 0.4\n",
      "path: 114,\t row: 77,\t error: 0.3\n",
      "path: 114,\t row: 76,\t error: 0.29\n",
      "path: 114,\t row: 80,\t error: 0.66\n"
     ]
    }
   ],
   "source": [
    "scenes = dc.find_datasets(product='ls5_level1_scene', time=('1995-1-4', '1995-1-5'), gqa_cep90=(0, 0.75))\n",
    "\n",
    "for scene in scenes:\n",
    "    path = min(scene.metadata.sat_path)\n",
    "    row =  min(scene.metadata.sat_row)\n",
    "    gqa = scene.metadata.gqa_cep90\n",
    "    print(\"path: {},\\t row: {},\\t error: {}\".format(path,row, gqa))"
   ]
  },
  {
   "cell_type": "markdown",
   "metadata": {},
   "source": [
    "We can also query based on the path and row:"
   ]
  },
  {
   "cell_type": "code",
   "execution_count": 5,
   "metadata": {},
   "outputs": [
    {
     "name": "stdout",
     "output_type": "stream",
     "text": [
      "path: 114,\t row: 77,\t error: 0.3\n",
      "path: 114,\t row: 79,\t error: 0.43\n",
      "path: 114,\t row: 78,\t error: 0.4\n"
     ]
    }
   ],
   "source": [
    "scenes = dc.find_datasets(product='ls5_level1_scene', time=('1995-1-4', '1995-1-5'), sat_path=114, sat_row=(77, 80))\n",
    "\n",
    "for scene in scenes:\n",
    "    path = min(scene.metadata.sat_path)\n",
    "    row =  min(scene.metadata.sat_row)\n",
    "    gqa = scene.metadata.gqa_cep90\n",
    "    print (\"path: {},\\t row: {},\\t error: {}\".format(path,row, gqa))"
   ]
  },
  {
   "cell_type": "markdown",
   "metadata": {},
   "source": [
    "## Using lineage"
   ]
  },
  {
   "cell_type": "markdown",
   "metadata": {},
   "source": [
    "While we can query this metadata, we really want to use the available data product derived from this data, which is `ls5_nbar_albers`."
   ]
  },
  {
   "cell_type": "code",
   "execution_count": 6,
   "metadata": {},
   "outputs": [
    {
     "data": {
      "text/plain": [
       "272"
      ]
     },
     "execution_count": 6,
     "metadata": {},
     "output_type": "execute_result"
    }
   ],
   "source": [
    "datasets = dc.find_datasets(product='ls5_nbar_albers', time=('1995-1-4', '1995-1-5'))\n",
    "len(datasets)"
   ]
  },
  {
   "cell_type": "code",
   "execution_count": 7,
   "metadata": {},
   "outputs": [],
   "source": [
    "d = dc.index.datasets.get(datasets[0].id, True)"
   ]
  },
  {
   "cell_type": "code",
   "execution_count": 8,
   "metadata": {},
   "outputs": [
    {
     "name": "stdout",
     "output_type": "stream",
     "text": [
      "ls5_nbar_albers : 5ce94ca0-3911-4e33-8fa3-f9db0c250e04\n",
      "ls5_nbar_scene : 2e310aad-5c9d-4398-b5ba-978601aab0ed\n",
      "ls5_level1_scene : 0ceeeb5f-5ce7-4df8-97fa-7131c422966b\n",
      "ls5_satellite_telemetry_data : c8af077c-8353-11e5-8bc4-ac162d791418\n"
     ]
    }
   ],
   "source": [
    "def print_sources(d):\n",
    "    print(d.type.name, ':', d.id)\n",
    "    if d.sources is not None:\n",
    "        for k, v in d.sources.items():\n",
    "            print_sources(v)\n",
    "            \n",
    "print_sources(d)"
   ]
  },
  {
   "cell_type": "markdown",
   "metadata": {},
   "source": [
    "We can see from the lineage tree that the nbar albers product is derived from the nbar scene, which was produced from the Level 1 scene.\n",
    "\n",
    "To define a filter on the lineage tree, that dataset must have a parent with those properties:"
   ]
  },
  {
   "cell_type": "code",
   "execution_count": 9,
   "metadata": {},
   "outputs": [],
   "source": [
    "scene_filter = dict(product='ls5_level1_scene', \n",
    "                     time=('1995-1-4', '1995-1-5'),\n",
    "                     sat_path=114, sat_row=(77, 79),\n",
    "                    )"
   ]
  },
  {
   "cell_type": "code",
   "execution_count": null,
   "metadata": {},
   "outputs": [],
   "source": [
    "datasets = dc.find_datasets(product='ls5_nbar_albers', time=('1995-1-4', '1995-1-5'), source_filter=scene_filter)\n",
    "len(datasets)"
   ]
  },
  {
   "cell_type": "markdown",
   "metadata": {},
   "source": [
    "We can see the number of returned datasets is smaller, with only the datasets that fall in the given path/rows.\n",
    "\n",
    "This will then limit the datasets that are used for data when used in a `load` function:"
   ]
  },
  {
   "cell_type": "code",
   "execution_count": null,
   "metadata": {},
   "outputs": [],
   "source": [
    "data = dc.load(product='ls5_nbar_albers', time=('1995-1-4', '1995-1-5'), \n",
    "               group_by='solar_day',\n",
    "               source_filter=scene_filter,\n",
    "               dask_chunks={'time': 1, 'x': 4000, 'y': 4000}\n",
    "              )"
   ]
  },
  {
   "cell_type": "code",
   "execution_count": null,
   "metadata": {},
   "outputs": [],
   "source": [
    "data.isel(time=0).red[::50, ::50].plot();"
   ]
  },
  {
   "cell_type": "markdown",
   "metadata": {},
   "source": [
    "Here we can see that we only have data from the requested scenes, without specifying spatial dimensions."
   ]
  }
 ],
 "metadata": {
  "kernelspec": {
   "display_name": "Python [default]",
   "language": "python",
   "name": "python3"
  },
  "language_info": {
   "codemirror_mode": {
    "name": "ipython",
    "version": 3
   },
   "file_extension": ".py",
   "mimetype": "text/x-python",
   "name": "python",
   "nbconvert_exporter": "python",
   "pygments_lexer": "ipython3",
   "version": "3.6.6"
  },
  "toc": {
   "base_numbering": 1,
   "nav_menu": {},
   "number_sections": true,
   "sideBar": true,
   "skip_h1_title": false,
   "title_cell": "Table of Contents",
   "title_sidebar": "Contents",
   "toc_cell": false,
   "toc_position": {},
   "toc_section_display": true,
   "toc_window_display": false
  }
 },
 "nbformat": 4,
 "nbformat_minor": 2
}
