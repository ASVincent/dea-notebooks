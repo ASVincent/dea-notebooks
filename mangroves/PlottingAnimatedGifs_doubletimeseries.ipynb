{
 "cells": [
  {
   "cell_type": "markdown",
   "metadata": {},
   "source": [
    "# Plotting animated GIFs from time series imagery"
   ]
  },
  {
   "cell_type": "markdown",
   "metadata": {},
   "source": [
    "**What does this notebook do?** \n",
    "\n",
    "This notebook demonstrates how to import a time series of DEA cloud-free Landsat imagery from multiple sensors (i.e. Landsat 5, 7 and 8) as an xarray dataset, and then plot the data as an animated time series GIF and a transitioning/fading GIF that compares two timesteps. Animations can be produced as either GIFs or MP4s for any area in Australia using a standard datacube query.\n",
    "\n",
    "**Required inputs**\n",
    "\n",
    "This example uses three external functions called `load_clearlandsat`, `animated_timeseries` and `animated_fade`. These functions are available in the Scripts folder of the [dea-notebooks Github repository](https://github.com/GeoscienceAustralia/dea-notebooks/tree/master/Scripts). Note that these functions have been developed by DEA users, not the DEA development team, and so are provided without warranty. If you find an error or bug in the functions, please either create an 'Issue' in the Github repository, or fix it yourself and create a 'Pull' request to contribute the updated function back into the repository (See the repository [README](https://github.com/GeoscienceAustralia/dea-notebooks/blob/master/README.rst) for instructions on creating a Pull request).\n",
    "\n",
    "**Date:** May 2018\n",
    "\n",
    "**Author:** Robbi Bishop-Taylor"
   ]
  },
  {
   "cell_type": "raw",
   "metadata": {
    "raw_mimetype": "text/restructuredtext"
   },
   "source": [
    "**Tags**: :index:`plot`, :index:`animation`, :index:`time_series`, :index:`gif`, :index:`mp4`, :index:`movie`, :index:`Landsat5`, :index:`Landsat7`, :index:`Landsat8`, :index:`load_clearlandsat`, :index:`animated_timeseries`, :index:`animated_fade`, :index:`DEAPlotting`, :index:`DEADataHandling`, :index:`Scripts`"
   ]
  },
  {
   "cell_type": "code",
   "execution_count": 5,
   "metadata": {},
   "outputs": [],
   "source": [
    "# Import modules\n",
    "import datacube \n",
    "import sys\n",
    "import os\n",
    "\n",
    "# Import external dea-notebooks functions using relative link to Scripts directory\n",
    "sys.path.append('../Scripts')\n",
    "import DEADataHandling\n",
    "import DEAPlotting\n",
    "\n",
    "# Set up datacube instance\n",
    "dc = datacube.Datacube(app='Time series animation')"
   ]
  },
  {
   "cell_type": "markdown",
   "metadata": {},
   "source": [
    "## Set up datacube query\n",
    "Define the query bounds for datacube extraction using a dict. This should include `x` and `y` limits, potentially a list of `measurements` (i.e. the bands you want to extract like 'red', 'green', 'blue'; this significantly speeds up the import) and a `time` extent. If no `time` is given, the function defaults to all timesteps available to all sensors (e.g. 1987-2018)."
   ]
  },
  {
   "cell_type": "code",
   "execution_count": 6,
   "metadata": {},
   "outputs": [],
   "source": [
    "from datacube.utils import geometry\n",
    "from datacube.utils.geometry import CRS\n",
    "\n",
    "# Set up analysis data query using a buffer around a lat-long point\n",
    "lat, lon, buffer = -35.712572416, 150.115577708, 5000\n",
    "x, y = geometry.point(lon, lat, CRS('WGS84')).to_crs(CRS('EPSG:3577')).points[0]\n",
    "query = {'x': (x - buffer, x + buffer),\n",
    "         'y': (y - buffer, y + buffer),    \n",
    "         'measurements': ['swir1', 'nir', 'green', 'red', 'blue'],\n",
    "         'time': ('2010-01-01', '2016-12-30'),\n",
    "         'crs': 'EPSG:3577'}\n"
   ]
  },
  {
   "cell_type": "markdown",
   "metadata": {},
   "source": [
    "## Extract cloud-free clear Landsat observations from all sensors\n",
    "Use the `load_clearlandsat` function to load Landsat observations and PQ data for multiple sensors (i.e. ls5, ls7, ls8), and return a single xarray dataset containing only observations that contain greater than a specified proportion of clear pixels. This uses `dask` to only load in the filtered observations, and results in a visually appealing time series of observations that are not affected by cloud!"
   ]
  },
  {
   "cell_type": "code",
   "execution_count": 7,
   "metadata": {},
   "outputs": [
    {
     "ename": "TypeError",
     "evalue": "load_clearlandsat() got an unexpected keyword argument 'mask_dict'",
     "output_type": "error",
     "traceback": [
      "\u001b[0;31m---------------------------------------------------------------------------\u001b[0m",
      "\u001b[0;31mTypeError\u001b[0m                                 Traceback (most recent call last)",
      "\u001b[0;32m<ipython-input-7-5772162c8e4c>\u001b[0m in \u001b[0;36m<module>\u001b[0;34m()\u001b[0m\n\u001b[1;32m    132\u001b[0m \u001b[0;34m\u001b[0m\u001b[0m\n\u001b[1;32m    133\u001b[0m \u001b[0;31m# Load in data\u001b[0m\u001b[0;34m\u001b[0m\u001b[0;34m\u001b[0m\u001b[0m\n\u001b[0;32m--> 134\u001b[0;31m \u001b[0mds1\u001b[0m \u001b[0;34m=\u001b[0m \u001b[0mDEADataHandling\u001b[0m\u001b[0;34m.\u001b[0m\u001b[0mload_clearlandsat\u001b[0m\u001b[0;34m(\u001b[0m\u001b[0mdc\u001b[0m\u001b[0;34m=\u001b[0m\u001b[0mdc\u001b[0m\u001b[0;34m,\u001b[0m \u001b[0mquery\u001b[0m\u001b[0;34m=\u001b[0m\u001b[0mquery\u001b[0m\u001b[0;34m,\u001b[0m \u001b[0mmasked_prop\u001b[0m\u001b[0;34m=\u001b[0m\u001b[0;36m0.83\u001b[0m\u001b[0;34m,\u001b[0m \u001b[0mmask_dict\u001b[0m\u001b[0;34m=\u001b[0m\u001b[0mcustom_mask\u001b[0m\u001b[0;34m,\u001b[0m \u001b[0mapply_mask\u001b[0m\u001b[0;34m=\u001b[0m\u001b[0;32mFalse\u001b[0m\u001b[0;34m)\u001b[0m\u001b[0;34m\u001b[0m\u001b[0m\n\u001b[0m\u001b[1;32m    135\u001b[0m \u001b[0mds2\u001b[0m \u001b[0;34m=\u001b[0m \u001b[0mDEADataHandling\u001b[0m\u001b[0;34m.\u001b[0m\u001b[0mload_clearlandsat\u001b[0m\u001b[0;34m(\u001b[0m\u001b[0mdc\u001b[0m\u001b[0;34m=\u001b[0m\u001b[0mdc\u001b[0m\u001b[0;34m,\u001b[0m \u001b[0mquery\u001b[0m\u001b[0;34m=\u001b[0m\u001b[0mquery\u001b[0m\u001b[0;34m,\u001b[0m \u001b[0mmasked_prop\u001b[0m\u001b[0;34m=\u001b[0m\u001b[0;36m0.83\u001b[0m\u001b[0;34m,\u001b[0m \u001b[0mmask_dict\u001b[0m\u001b[0;34m=\u001b[0m\u001b[0mcustom_mask\u001b[0m\u001b[0;34m,\u001b[0m \u001b[0mapply_mask\u001b[0m\u001b[0;34m=\u001b[0m\u001b[0;32mTrue\u001b[0m\u001b[0;34m)\u001b[0m\u001b[0;34m\u001b[0m\u001b[0m\n\u001b[1;32m    136\u001b[0m \u001b[0;34m\u001b[0m\u001b[0m\n",
      "\u001b[0;31mTypeError\u001b[0m: load_clearlandsat() got an unexpected keyword argument 'mask_dict'"
     ]
    }
   ],
   "source": [
    "import numpy as np\n",
    "import matplotlib.pyplot as plt\n",
    "import matplotlib.animation as animation\n",
    "import calendar\n",
    "\n",
    "\n",
    "def animated_doubletimeseries(ds1, ds2, output_path, \n",
    "                              bands1=['red', 'green', 'blue'], bands2=['red', 'green', 'blue'], \n",
    "                              reflect_stand1=5000, reflect_stand2=5000, title1=None, title2=None,\n",
    "                              width_pixels=300, interval=50, font_size=25):\n",
    "\n",
    "\n",
    "    # Define function to convert xarray dataset to list of three band numpy arrays\n",
    "    def _ds_to_arrraylist(ds, bands, reflect_stand=5000):   \n",
    "\n",
    "        array_list = []\n",
    "        for i, timestep in enumerate(ds.time):\n",
    "\n",
    "                # Select single timestep from the data array\n",
    "                ds_i = ds.isel(time = i)\n",
    "\n",
    "                # Create new three band array\n",
    "                y, x = ds_i[bands[0]].shape\n",
    "                rawimg = np.zeros((y, x, 3), dtype=np.float32)\n",
    "\n",
    "                # Add xarray bands into three dimensional numpy array\n",
    "                for band, colour in enumerate(bands):\n",
    "\n",
    "                    rawimg[:, :, band] = ds_i[colour].values\n",
    "\n",
    "                # Stretch contrast using defined reflectance standardisation; defaults to 5000\n",
    "                img_toshow = (rawimg / reflect_stand).clip(0, 1)\n",
    "                array_list.append(img_toshow)\n",
    "\n",
    "        return(array_list)\n",
    "\n",
    "    # Get height relative to a size of 10 inches width\n",
    "    width_ratio = float(ds1.sizes['x']) / float(ds1.sizes['y'])\n",
    "    height = 10 / width_ratio\n",
    "\n",
    "    # Set up figure\n",
    "    fig, (ax1, ax2) = plt.subplots(ncols=2) # make figure\n",
    "    fig.patch.set_facecolor('black')\n",
    "    fig.subplots_adjust(left=0, bottom=0, right=1, top=1, wspace=0, hspace=0)\n",
    "    fig.set_size_inches(9.9, height * 0.5, forward=True)\n",
    "    ax1.axis('off')\n",
    "    ax2.axis('off')\n",
    "\n",
    "    # Import source data array\n",
    "    imagelist1 = _ds_to_arrraylist(ds1, bands=bands1, reflect_stand=reflect_stand1)\n",
    "    imagelist2 = _ds_to_arrraylist(ds2, bands=bands2, reflect_stand=reflect_stand2)\n",
    "\n",
    "    # Initialise axesimage objects to be updated during animation\n",
    "    im1 = ax1.imshow(imagelist1[0])\n",
    "    im2 = ax2.imshow(imagelist2[0])\n",
    "\n",
    "    # Initialise annotation objects to be updated during animation\n",
    "    t1 = ax1.annotate('', xy=(1, 1), xycoords='axes fraction', \n",
    "                     xytext=(-5, -5), textcoords='offset points', \n",
    "                     horizontalalignment='right', verticalalignment='top', \n",
    "                     fontsize=font_size, color = \"white\", family='monospace')   \n",
    "    t2 = ax2.annotate('', xy=(1, 1), xycoords='axes fraction', \n",
    "                     xytext=(-5, -5), textcoords='offset points', \n",
    "                     horizontalalignment='right', verticalalignment='top', \n",
    "                     fontsize=font_size, color = \"white\", family='monospace')  \n",
    "\n",
    "    # Function to update figure\n",
    "    def update_figure(frame_i):\n",
    "\n",
    "        ###################\n",
    "        # For first panel #\n",
    "        ###################  \n",
    "\n",
    "        # Get human-readable date info (e.g. \"16 May 1990\")\n",
    "        ts = ds1.time.isel(time=frame_i).dt\n",
    "        year = ts.year.item()\n",
    "        month = ts.month.item()\n",
    "        day = ts.day.item()\n",
    "        \n",
    "        # If title:\n",
    "        if title1:\n",
    "            date_desc1 = '{}\\n{} {} {}'.format(title1, day, calendar.month_abbr[month], year)\n",
    "        else:\n",
    "            date_desc1 = '{} {} {}'.format(day, calendar.month_abbr[month], year)\n",
    "\n",
    "        # Update figure for frame\n",
    "        im1.set_array(imagelist1[frame_i])\n",
    "        t1.set_text(date_desc1)\n",
    "\n",
    "        ####################\n",
    "        # For second panel #\n",
    "        #################### \n",
    "\n",
    "        # Get human-readable date info (e.g. \"16 May 1990\")\n",
    "        ts = ds2.time.isel(time=frame_i).dt\n",
    "        year = ts.year.item()\n",
    "        month = ts.month.item()\n",
    "        day = ts.day.item()\n",
    "        \n",
    "        # If title:\n",
    "        if title2:\n",
    "            date_desc2 = '{}\\n{} {} {}'.format(title2, day, calendar.month_abbr[month], year)\n",
    "        else:\n",
    "            date_desc2 = '{} {} {}'.format(day, calendar.month_abbr[month], year)\n",
    "\n",
    "        # Update figure for frame\n",
    "        im2.set_array(imagelist2[frame_i])\n",
    "        t2.set_text(date_desc2) \n",
    "\n",
    "        # Return the artists set\n",
    "        return [im1, im2, t1, t2]\n",
    "\n",
    "    # Generate and run animation\n",
    "    ani = animation.FuncAnimation(fig, update_figure, frames=len(ds1.time), interval=interval, blit=True)\n",
    "    ani.save(output_path, dpi=width_pixels / 9.9, writer='imagemagick')\n",
    "\n",
    "\n",
    "    \n",
    "# # Set up query \n",
    "# query = {'x': (361850.680639, 370200.0),\n",
    "#          'y': (-1574202.75509, -1568400.0),   \n",
    "#          'time': ('2014-12-01', '2015-12-30'),\n",
    "#          'measurements': ['red', 'green', 'blue'],\n",
    "#          'crs': 'EPSG:3577'}\n",
    "\n",
    "# Custom mask that includes only cloudy or cloud shadowed pixels with data for all bands\n",
    "custom_mask = {'cloud_acca': 'no_cloud', \n",
    "               'cloud_fmask': 'no_cloud', \n",
    "               'cloud_shadow_acca': 'no_cloud_shadow',\n",
    "               'cloud_shadow_fmask': 'no_cloud_shadow',\n",
    "               'contiguous': True}\n",
    "\n",
    "# Load in data\n",
    "ds1 = DEADataHandling.load_clearlandsat(dc=dc, query=query, masked_prop=0.83, mask_dict=custom_mask, apply_mask=False)  \n",
    "ds2 = DEADataHandling.load_clearlandsat(dc=dc, query=query, masked_prop=0.83, mask_dict=custom_mask, apply_mask=True) \n",
    "\n",
    "# Animate datasets    \n",
    "animated_doubletimeseries(ds1=ds1, ds2=ds2, output_path='/home/561/rt1527/Transfer/animation_new.gif',\n",
    "                          bands1=['red', 'green', 'blue'], bands2=['red', 'green', 'blue'], \n",
    "                          reflect_stand1=2500, reflect_stand2=2500, title1='No mask', title2='Cloud mask',\n",
    "                          width_pixels=800, font_size=12, interval=1000)\n"
   ]
  },
  {
   "cell_type": "code",
   "execution_count": 214,
   "metadata": {},
   "outputs": [
    {
     "name": "stdout",
     "output_type": "stream",
     "text": [
      "Loading ls8_nbart_albers\n",
      "Loaded ls8_nbart_albers\n",
      "Generating mask ls8_pq_albers\n",
      "Masked ls8_nbart_albers with ls8_pq_albers and filtered terrain\n",
      "Loading ls8_nbart_albers\n",
      "Loaded ls8_nbart_albers\n",
      "Masked ls8_nbart_albers with ls8_pq_albers and filtered terrain\n"
     ]
    }
   ],
   "source": []
  },
  {
   "cell_type": "code",
   "execution_count": 187,
   "metadata": {},
   "outputs": [
    {
     "data": {
      "text/plain": [
       "<xarray.core.accessors.DatetimeAccessor at 0x7f4f550798d0>"
      ]
     },
     "execution_count": 187,
     "metadata": {},
     "output_type": "execute_result"
    }
   ],
   "source": [
    "ds.time.isel(time=1).dt"
   ]
  },
  {
   "cell_type": "code",
   "execution_count": 117,
   "metadata": {},
   "outputs": [
    {
     "name": "stdout",
     "output_type": "stream",
     "text": [
      "Exporting animation to /home/561/rt1527/Transfer/animation.mp4\n",
      "ffmpeg version 3.4.2 Copyright (c) 2000-2018 the FFmpeg developers\n",
      "  built with gcc 4.8.2 (GCC) 20140120 (Red Hat 4.8.2-15)\n",
      "  configuration: --prefix=/g/data/v10/public/modules/dea-env/20180405 --disable-doc --enable-shared --enable-static --extra-cflags='-Wall -g -m64 -pipe -O3 -march=x86-64 -fPIC -I/g/data/v10/public/modules/dea-env/20180405/include' --extra-cxxflags='=-Wall -g -m64 -pipe -O3 -march=x86-64 -fPIC' --extra-libs='-L/g/data/v10/public/modules/dea-env/20180405/lib -lz' --enable-pic --enable-gpl --enable-version3 --enable-hardcoded-tables --enable-avresample --enable-libfreetype --enable-gnutls --enable-libx264\n",
      "  libavutil      55. 78.100 / 55. 78.100\n",
      "  libavcodec     57.107.100 / 57.107.100\n",
      "  libavformat    57. 83.100 / 57. 83.100\n",
      "  libavdevice    57. 10.100 / 57. 10.100\n",
      "  libavfilter     6.107.100 /  6.107.100\n",
      "  libavresample   3.  7.  0 /  3.  7.  0\n",
      "  libswscale      4.  8.100 /  4.  8.100\n",
      "  libswresample   2.  9.100 /  2.  9.100\n",
      "  libpostproc    54.  7.100 / 54.  7.100\n",
      "Input #0, image2, from '/g/data/r78/rt1527/mangroves/out_data/*.jpg':\n",
      "  Duration: 00:00:17.00, start: 0.000000, bitrate: N/A\n",
      "    Stream #0:0: Video: mjpeg, yuvj420p(pc, bt470bg/unknown/unknown), 720x502 [SAR 72:72 DAR 360:251], 25 fps, 25 tbr, 25 tbn, 25 tbc\n",
      "Stream mapping:\n",
      "  Stream #0:0 -> #0:0 (mjpeg (native) -> msmpeg4v3 (msmpeg4))\n",
      "Press [q] to stop, [?] for help\n",
      "\u001b[1;34m[swscaler @ 0x12dede0] \u001b[0m\u001b[0;33mdeprecated pixel format used, make sure you did set range correctly\n",
      "\u001b[0mOutput #0, asf, to '/home/561/rt1527/Transfer/animation2.wmv':\n",
      "  Metadata:\n",
      "    WM/EncodingSettings: Lavf57.83.100\n",
      "    Stream #0:0: Video: msmpeg4v3 (msmpeg4) (MP43 / 0x3334504D), yuv420p, 720x502 [SAR 1:1 DAR 360:251], q=2-31, 200 kb/s, 25 fps, 1k tbn, 25 tbc\n",
      "    Metadata:\n",
      "      encoder         : Lavc57.107.100 msmpeg4\n",
      "    Side data:\n",
      "      cpb: bitrate max/min/avg: 0/0/200000 buffer size: 0 vbv_delay: -1\n",
      "frame=  425 fps=106 q=3.0 Lsize=   15313kB time=00:00:16.96 bitrate=7396.2kbits/s speed=4.25x    \n",
      "video:15177kB audio:0kB subtitle:0kB other streams:0kB global headers:0kB muxing overhead: 0.898548%\n"
     ]
    }
   ],
   "source": [
    "print('Exporting animation to {}'.format(output_path))\n",
    "input_path = '/g/data/r78/rt1527/mangroves/out_data/*.jpg'\n",
    "output_path = '/home/561/rt1527/Transfer/animation.mp4'\n",
    "# !ffmpeg -y -f image2 -pattern_type glob -i '/g/data/r78/rt1527/mangroves/out_data/*.jpg' /home/561/rt1527/Transfer/animation2.wmv\n",
    "!ffmpeg -y -pattern_type glob -i '/g/data/r78/rt1527/mangroves/out_data/*.jpg' -qscale 3 /home/561/rt1527/Transfer/animation2.wmv\n",
    "# !convert -antialias -loop 0 -delay 5 $input_path $output_path   "
   ]
  },
  {
   "cell_type": "code",
   "execution_count": 80,
   "metadata": {},
   "outputs": [
    {
     "data": {
      "text/plain": [
       "<xarray.Dataset>\n",
       "Dimensions:    (time: 4, x: 334, y: 233)\n",
       "Coordinates:\n",
       "  * y          (y) float64 -1.568e+06 -1.568e+06 -1.568e+06 -1.568e+06 ...\n",
       "  * x          (x) float64 3.619e+05 3.619e+05 3.619e+05 3.619e+05 3.62e+05 ...\n",
       "  * time       (time) datetime64[ns] 1990-11-25T00:24:23.500000 ...\n",
       "Data variables:\n",
       "    swir1      (time, y, x) float64 272.0 273.0 273.0 273.0 273.0 300.0 ...\n",
       "    nir        (time, y, x) float64 353.0 395.0 355.0 395.0 395.0 435.0 ...\n",
       "    green      (time, y, x) float64 1.043e+03 1.048e+03 1.081e+03 1.081e+03 ...\n",
       "    red        (time, y, x) float64 720.0 782.0 753.0 724.0 754.0 783.0 ...\n",
       "    data_perc  (time) float64 0.9979 0.9999 0.9983 1.0\n",
       "Attributes:\n",
       "    crs:      EPSG:3577"
      ]
     },
     "execution_count": 80,
     "metadata": {},
     "output_type": "execute_result"
    }
   ],
   "source": []
  },
  {
   "cell_type": "code",
   "execution_count": null,
   "metadata": {},
   "outputs": [],
   "source": []
  }
 ],
 "metadata": {
  "kernelspec": {
   "display_name": "Python 3",
   "language": "python",
   "name": "python3"
  },
  "language_info": {
   "codemirror_mode": {
    "name": "ipython",
    "version": 3
   },
   "file_extension": ".py",
   "mimetype": "text/x-python",
   "name": "python",
   "nbconvert_exporter": "python",
   "pygments_lexer": "ipython3",
   "version": "3.6.5"
  }
 },
 "nbformat": 4,
 "nbformat_minor": 2
}
