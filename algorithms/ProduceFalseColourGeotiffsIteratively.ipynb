{
 "cells": [
  {
   "cell_type": "markdown",
   "metadata": {},
   "source": [
    "# Produce False Colour Geotiffs Iteratively\n",
    "\n",
    "**What does this notebook do?** \n",
    "\n",
    "\n",
    "**Date** March 2018\n",
    "\n",
    "**Author** Claire Krause"
   ]
  },
  {
   "cell_type": "markdown",
   "metadata": {},
   "source": [
    "**Tags** "
   ]
  },
  {
   "cell_type": "markdown",
   "metadata": {},
   "source": [
    "## This is the bit that allows you to call in a stand alone python file. \n",
    "\n",
    "The two python files `DEAPlotting.py` and `DEADataHandling.py` are both sitting in the `algorithms` folder."
   ]
  },
  {
   "cell_type": "code",
   "execution_count": 1,
   "metadata": {},
   "outputs": [
    {
     "name": "stdout",
     "output_type": "stream",
     "text": [
      "Populating the interactive namespace from numpy and matplotlib\n"
     ]
    }
   ],
   "source": [
    "% pylab notebook\n",
    "% load_ext autoreload\n",
    "% autoreload\n",
    "\n",
    "from datacube import Datacube\n",
    "from datetime import datetime\n",
    "from IPython.display import clear_output\n",
    "\n",
    "import sys\n",
    "import os\n",
    "sys.path.append(os.path.abspath('/g/data/r78/cek156/dea-notebooks/algorithms'))\n",
    "import DEAPlotting\n",
    "import DEADataHandling\n",
    "\n",
    "dc = Datacube(app = 'test')"
   ]
  },
  {
   "cell_type": "markdown",
   "metadata": {},
   "source": [
    "## Extract some data using our imported function"
   ]
  },
  {
   "cell_type": "code",
   "execution_count": 2,
   "metadata": {},
   "outputs": [],
   "source": [
    "AllSensors = ['ls5', 'ls7', 'ls8']\n",
    "\n",
    "for Sensor in AllSensors:\n",
    "    print('Working on {0}'.format(Sensor))\n",
    "    for year in range(1985,2018,2):\n",
    "        try:\n",
    "            print('Working on {0} to {1}'.format(year, year + 1))\n",
    "            queryls = {'lat': (-15.357768, -15.915976),\n",
    "                       'lon': (128.581927, 128.980604),\n",
    "                       'time': ('{0}-01-01'.format(year), '{0}-12-30'.format(year + 1))\n",
    "                       }\n",
    "            querys2 = {'output_crs': 'EPSG:3577',\n",
    "                       'resolution': (-10, 10),\n",
    "                       'lat': (-15.357768, -15.915976),\n",
    "                       'lon': (128.581927, 128.980604),\n",
    "                       'time': ('{0}-01-01'.format(year), '{0}-12-30'.format(year + 1))\n",
    "                       }\n",
    "\n",
    "            Alldata, LScrs, LSaffine = DEADataHandling.load_nbarx(dc, Sensor, queryls, \n",
    "                                                                  bands_of_interest = ['swir1','nir','green'], \n",
    "                                                                  product = 'nbar')\n",
    "\n",
    "            ## We only want to plot up images that have no more than 10% missing pixels\n",
    "            acceptable_missing_data = 0.1\n",
    "            threshold90 = Alldata.x.count() * Alldata.y.count() * acceptable_missing_data\n",
    "            Alldata = Alldata.where(Alldata.green.isnull().sum(axis = (1, 2)) <= int(threshold90)).dropna(dim = 'time')\n",
    "\n",
    "            ## Draw a false colour image using our imported function and save\n",
    "            for ix, times in enumerate(Alldata.time):\n",
    "                outnameGTiff = '/g/data/r78/Kununurra/{0}_{1}.tif'.format(str(times.time.values)[:10], Sensor)\n",
    "                outnamejpg = '/g/data/r78/Kununurra/{0}_{1}.jpg'.format(str(times.time.values)[:10], Sensor)\n",
    "                plt, fig = DEAPlotting.three_band_image(Alldata.isel(time = ix), ['swir1','nir','green'], title = '')   \n",
    "                DEADataHandling.dataset_to_geotiff(outnameGTiff, Alldata.isel(time = ix))\n",
    "                savefig(outnamejpg, dpi = 300)\n",
    "                plt.close(\"all\")\n",
    "                close(fig)\n",
    "        except TypeError:\n",
    "            print('No data available for this time step')\n",
    "            pass\n",
    "        clear_output()"
   ]
  },
  {
   "cell_type": "code",
   "execution_count": null,
   "metadata": {},
   "outputs": [],
   "source": []
  }
 ],
 "metadata": {
  "kernelspec": {
   "display_name": "Python 3",
   "language": "python",
   "name": "python3"
  },
  "language_info": {
   "codemirror_mode": {
    "name": "ipython",
    "version": 3
   },
   "file_extension": ".py",
   "mimetype": "text/x-python",
   "name": "python",
   "nbconvert_exporter": "python",
   "pygments_lexer": "ipython3",
   "version": "3.6.4"
  },
  "toc": {
   "nav_menu": {},
   "number_sections": true,
   "sideBar": true,
   "skip_h1_title": false,
   "title_cell": "Table of Contents",
   "title_sidebar": "Contents",
   "toc_cell": false,
   "toc_position": {},
   "toc_section_display": "block",
   "toc_window_display": false
  }
 },
 "nbformat": 4,
 "nbformat_minor": 2
}
